{
 "cells": [
  {
   "cell_type": "markdown",
   "metadata": {},
   "source": [
    "# Imports"
   ]
  },
  {
   "cell_type": "code",
   "execution_count": 59,
   "metadata": {},
   "outputs": [
    {
     "name": "stdout",
     "output_type": "stream",
     "text": [
      "The autoreload extension is already loaded. To reload it, use:\n",
      "  %reload_ext autoreload\n"
     ]
    }
   ],
   "source": [
    "%load_ext autoreload\n",
    "%autoreload 2\n",
    "\n",
    "import glob\n",
    "import os\n",
    "import re\n",
    "import pandas as pd\n",
    "pd.options.display.max_colwidth = 500\n",
    "pd.options.display.max_columns = 50\n",
    "\n",
    "import seaborn as sns\n",
    "import sourmash\n",
    "import scanpy as sc\n",
    "from tqdm import tqdm\n",
    "\n",
    "# Artisinal, small-batch modules\n",
    "import kmermaid_utils\n",
    "import sig_utils\n",
    "\n",
    "from sourmash_search_utils import read_and_process_sourmash_search_results"
   ]
  },
  {
   "cell_type": "markdown",
   "metadata": {},
   "source": [
    "## Constants (ksizes, scaled)"
   ]
  },
  {
   "cell_type": "code",
   "execution_count": 60,
   "metadata": {},
   "outputs": [],
   "source": [
    "sig_outdir_base = '/home/olga/data_lg/data_sm_copy/immune-evolution/kmer-signatures'\n",
    "\n",
    "human_test_dir = os.path.join(sig_outdir_base, \"2--test-human\")\n",
    "\n",
    "\n",
    "aggregated_results_dir = os.path.join(human_test_dir, '4--aggregated-results')\n",
    "! mkdir -p $aggregated_results_dir"
   ]
  },
  {
   "cell_type": "markdown",
   "metadata": {},
   "source": [
    "## Def describe"
   ]
  },
  {
   "cell_type": "code",
   "execution_count": 61,
   "metadata": {},
   "outputs": [],
   "source": [
    "def describe(df, random=False):\n",
    "    print(df.shape)\n",
    "    print(\"--- First 5 entries ---\")\n",
    "    display(df.head())\n",
    "    if random:\n",
    "        print('--- Random subset ---')\n",
    "        display(df.sample(5))"
   ]
  },
  {
   "cell_type": "markdown",
   "metadata": {},
   "source": [
    "### Remove rogue TQDM instances"
   ]
  },
  {
   "cell_type": "code",
   "execution_count": 70,
   "metadata": {},
   "outputs": [],
   "source": [
    "def remove_rogue_tqdm():\n",
    "    import tqdm\n",
    "    try:\n",
    "        tqdm._instances.clear()\n",
    "    except AttributeError:\n",
    "        pass"
   ]
  },
  {
   "cell_type": "markdown",
   "metadata": {},
   "source": [
    "## Read one2one 5had"
   ]
  },
  {
   "cell_type": "code",
   "execution_count": 63,
   "metadata": {},
   "outputs": [
    {
     "data": {
      "text/html": [
       "<div>\n",
       "<style scoped>\n",
       "    .dataframe tbody tr th:only-of-type {\n",
       "        vertical-align: middle;\n",
       "    }\n",
       "\n",
       "    .dataframe tbody tr th {\n",
       "        vertical-align: top;\n",
       "    }\n",
       "\n",
       "    .dataframe thead th {\n",
       "        text-align: right;\n",
       "    }\n",
       "</style>\n",
       "<table border=\"1\" class=\"dataframe\">\n",
       "  <thead>\n",
       "    <tr style=\"text-align: right;\">\n",
       "      <th></th>\n",
       "      <th>index</th>\n",
       "      <th>age</th>\n",
       "      <th>cell_barcode</th>\n",
       "      <th>cell_ontology_class</th>\n",
       "      <th>cell_ontology_id</th>\n",
       "      <th>channel</th>\n",
       "      <th>free_annotation</th>\n",
       "      <th>individual</th>\n",
       "      <th>sample</th>\n",
       "      <th>sequencing_run</th>\n",
       "      <th>sex</th>\n",
       "      <th>species</th>\n",
       "      <th>species_batch</th>\n",
       "      <th>species_latin</th>\n",
       "      <th>tissue</th>\n",
       "      <th>narrow_group</th>\n",
       "      <th>broad_group</th>\n",
       "      <th>compartment_group</th>\n",
       "      <th>compartment_narrow</th>\n",
       "      <th>channel_cleaned</th>\n",
       "      <th>batch</th>\n",
       "      <th>n_genes</th>\n",
       "      <th>n_counts</th>\n",
       "      <th>species_batch_v2</th>\n",
       "      <th>compartment_broad</th>\n",
       "      <th>compartment_broad_narrow</th>\n",
       "      <th>compartment_species</th>\n",
       "      <th>compartment_narrow_species</th>\n",
       "      <th>common_individual_id</th>\n",
       "    </tr>\n",
       "    <tr>\n",
       "      <th>cell_id</th>\n",
       "      <th></th>\n",
       "      <th></th>\n",
       "      <th></th>\n",
       "      <th></th>\n",
       "      <th></th>\n",
       "      <th></th>\n",
       "      <th></th>\n",
       "      <th></th>\n",
       "      <th></th>\n",
       "      <th></th>\n",
       "      <th></th>\n",
       "      <th></th>\n",
       "      <th></th>\n",
       "      <th></th>\n",
       "      <th></th>\n",
       "      <th></th>\n",
       "      <th></th>\n",
       "      <th></th>\n",
       "      <th></th>\n",
       "      <th></th>\n",
       "      <th></th>\n",
       "      <th></th>\n",
       "      <th></th>\n",
       "      <th></th>\n",
       "      <th></th>\n",
       "      <th></th>\n",
       "      <th></th>\n",
       "      <th></th>\n",
       "      <th></th>\n",
       "    </tr>\n",
       "  </thead>\n",
       "  <tbody>\n",
       "    <tr>\n",
       "      <th>P2_1__AAACCTGAGAAACCAT</th>\n",
       "      <td>P2_1_AAACCTGAGAAACCAT-human-hlm</td>\n",
       "      <td>46y</td>\n",
       "      <td>AAACCTGAGAAACCAT</td>\n",
       "      <td>capillary endothelial cell</td>\n",
       "      <td>nan</td>\n",
       "      <td>P2_1</td>\n",
       "      <td>Capillary Aerocyte</td>\n",
       "      <td>patient_2</td>\n",
       "      <td>distal 2</td>\n",
       "      <td>180607_A00111_0155_BHFCWYDMXX</td>\n",
       "      <td>male</td>\n",
       "      <td>Human</td>\n",
       "      <td>human</td>\n",
       "      <td>Homo sapiens</td>\n",
       "      <td>Lung</td>\n",
       "      <td>Capillary Aerocyte</td>\n",
       "      <td>Capillary</td>\n",
       "      <td>endothelial</td>\n",
       "      <td>endothelial: Capillary Aerocyte</td>\n",
       "      <td>P2_1</td>\n",
       "      <td>NaN</td>\n",
       "      <td>NaN</td>\n",
       "      <td>NaN</td>\n",
       "      <td>hlm</td>\n",
       "      <td>endothelial: Capillary</td>\n",
       "      <td>endothelial: Capillary: Capillary Aerocyte</td>\n",
       "      <td>endothelial: human</td>\n",
       "      <td>endothelial: Capillary Aerocyte: human</td>\n",
       "      <td>human_patient_2</td>\n",
       "    </tr>\n",
       "    <tr>\n",
       "      <th>P2_1__AAATGCCAGATGAGAG</th>\n",
       "      <td>P2_1_AAATGCCAGATGAGAG-human-hlm</td>\n",
       "      <td>46y</td>\n",
       "      <td>AAATGCCAGATGAGAG</td>\n",
       "      <td>capillary endothelial cell</td>\n",
       "      <td>nan</td>\n",
       "      <td>P2_1</td>\n",
       "      <td>Capillary Aerocyte</td>\n",
       "      <td>patient_2</td>\n",
       "      <td>distal 2</td>\n",
       "      <td>180607_A00111_0155_BHFCWYDMXX</td>\n",
       "      <td>male</td>\n",
       "      <td>Human</td>\n",
       "      <td>human</td>\n",
       "      <td>Homo sapiens</td>\n",
       "      <td>Lung</td>\n",
       "      <td>Capillary Aerocyte</td>\n",
       "      <td>Capillary</td>\n",
       "      <td>endothelial</td>\n",
       "      <td>endothelial: Capillary Aerocyte</td>\n",
       "      <td>P2_1</td>\n",
       "      <td>NaN</td>\n",
       "      <td>NaN</td>\n",
       "      <td>NaN</td>\n",
       "      <td>hlm</td>\n",
       "      <td>endothelial: Capillary</td>\n",
       "      <td>endothelial: Capillary: Capillary Aerocyte</td>\n",
       "      <td>endothelial: human</td>\n",
       "      <td>endothelial: Capillary Aerocyte: human</td>\n",
       "      <td>human_patient_2</td>\n",
       "    </tr>\n",
       "    <tr>\n",
       "      <th>P2_1__AACACGTTCGATCCCT</th>\n",
       "      <td>P2_1_AACACGTTCGATCCCT-human-hlm</td>\n",
       "      <td>46y</td>\n",
       "      <td>AACACGTTCGATCCCT</td>\n",
       "      <td>capillary endothelial cell</td>\n",
       "      <td>nan</td>\n",
       "      <td>P2_1</td>\n",
       "      <td>Capillary Aerocyte</td>\n",
       "      <td>patient_2</td>\n",
       "      <td>distal 2</td>\n",
       "      <td>180607_A00111_0155_BHFCWYDMXX</td>\n",
       "      <td>male</td>\n",
       "      <td>Human</td>\n",
       "      <td>human</td>\n",
       "      <td>Homo sapiens</td>\n",
       "      <td>Lung</td>\n",
       "      <td>Capillary Aerocyte</td>\n",
       "      <td>Capillary</td>\n",
       "      <td>endothelial</td>\n",
       "      <td>endothelial: Capillary Aerocyte</td>\n",
       "      <td>P2_1</td>\n",
       "      <td>NaN</td>\n",
       "      <td>NaN</td>\n",
       "      <td>NaN</td>\n",
       "      <td>hlm</td>\n",
       "      <td>endothelial: Capillary</td>\n",
       "      <td>endothelial: Capillary: Capillary Aerocyte</td>\n",
       "      <td>endothelial: human</td>\n",
       "      <td>endothelial: Capillary Aerocyte: human</td>\n",
       "      <td>human_patient_2</td>\n",
       "    </tr>\n",
       "    <tr>\n",
       "      <th>P2_1__AACACGTTCGCACTCT</th>\n",
       "      <td>P2_1_AACACGTTCGCACTCT-human-hlm</td>\n",
       "      <td>46y</td>\n",
       "      <td>AACACGTTCGCACTCT</td>\n",
       "      <td>capillary endothelial cell</td>\n",
       "      <td>nan</td>\n",
       "      <td>P2_1</td>\n",
       "      <td>Capillary Aerocyte</td>\n",
       "      <td>patient_2</td>\n",
       "      <td>distal 2</td>\n",
       "      <td>180607_A00111_0155_BHFCWYDMXX</td>\n",
       "      <td>male</td>\n",
       "      <td>Human</td>\n",
       "      <td>human</td>\n",
       "      <td>Homo sapiens</td>\n",
       "      <td>Lung</td>\n",
       "      <td>Capillary Aerocyte</td>\n",
       "      <td>Capillary</td>\n",
       "      <td>endothelial</td>\n",
       "      <td>endothelial: Capillary Aerocyte</td>\n",
       "      <td>P2_1</td>\n",
       "      <td>NaN</td>\n",
       "      <td>NaN</td>\n",
       "      <td>NaN</td>\n",
       "      <td>hlm</td>\n",
       "      <td>endothelial: Capillary</td>\n",
       "      <td>endothelial: Capillary: Capillary Aerocyte</td>\n",
       "      <td>endothelial: human</td>\n",
       "      <td>endothelial: Capillary Aerocyte: human</td>\n",
       "      <td>human_patient_2</td>\n",
       "    </tr>\n",
       "    <tr>\n",
       "      <th>P2_1__AACCATGCAGCTCGCA</th>\n",
       "      <td>P2_1_AACCATGCAGCTCGCA-human-hlm</td>\n",
       "      <td>46y</td>\n",
       "      <td>AACCATGCAGCTCGCA</td>\n",
       "      <td>capillary endothelial cell</td>\n",
       "      <td>nan</td>\n",
       "      <td>P2_1</td>\n",
       "      <td>Capillary Aerocyte</td>\n",
       "      <td>patient_2</td>\n",
       "      <td>distal 2</td>\n",
       "      <td>180607_A00111_0155_BHFCWYDMXX</td>\n",
       "      <td>male</td>\n",
       "      <td>Human</td>\n",
       "      <td>human</td>\n",
       "      <td>Homo sapiens</td>\n",
       "      <td>Lung</td>\n",
       "      <td>Capillary Aerocyte</td>\n",
       "      <td>Capillary</td>\n",
       "      <td>endothelial</td>\n",
       "      <td>endothelial: Capillary Aerocyte</td>\n",
       "      <td>P2_1</td>\n",
       "      <td>NaN</td>\n",
       "      <td>NaN</td>\n",
       "      <td>NaN</td>\n",
       "      <td>hlm</td>\n",
       "      <td>endothelial: Capillary</td>\n",
       "      <td>endothelial: Capillary: Capillary Aerocyte</td>\n",
       "      <td>endothelial: human</td>\n",
       "      <td>endothelial: Capillary Aerocyte: human</td>\n",
       "      <td>human_patient_2</td>\n",
       "    </tr>\n",
       "  </tbody>\n",
       "</table>\n",
       "</div>"
      ],
      "text/plain": [
       "                                                  index  age  \\\n",
       "cell_id                                                        \n",
       "P2_1__AAACCTGAGAAACCAT  P2_1_AAACCTGAGAAACCAT-human-hlm  46y   \n",
       "P2_1__AAATGCCAGATGAGAG  P2_1_AAATGCCAGATGAGAG-human-hlm  46y   \n",
       "P2_1__AACACGTTCGATCCCT  P2_1_AACACGTTCGATCCCT-human-hlm  46y   \n",
       "P2_1__AACACGTTCGCACTCT  P2_1_AACACGTTCGCACTCT-human-hlm  46y   \n",
       "P2_1__AACCATGCAGCTCGCA  P2_1_AACCATGCAGCTCGCA-human-hlm  46y   \n",
       "\n",
       "                            cell_barcode         cell_ontology_class  \\\n",
       "cell_id                                                                \n",
       "P2_1__AAACCTGAGAAACCAT  AAACCTGAGAAACCAT  capillary endothelial cell   \n",
       "P2_1__AAATGCCAGATGAGAG  AAATGCCAGATGAGAG  capillary endothelial cell   \n",
       "P2_1__AACACGTTCGATCCCT  AACACGTTCGATCCCT  capillary endothelial cell   \n",
       "P2_1__AACACGTTCGCACTCT  AACACGTTCGCACTCT  capillary endothelial cell   \n",
       "P2_1__AACCATGCAGCTCGCA  AACCATGCAGCTCGCA  capillary endothelial cell   \n",
       "\n",
       "                       cell_ontology_id channel     free_annotation  \\\n",
       "cell_id                                                               \n",
       "P2_1__AAACCTGAGAAACCAT              nan    P2_1  Capillary Aerocyte   \n",
       "P2_1__AAATGCCAGATGAGAG              nan    P2_1  Capillary Aerocyte   \n",
       "P2_1__AACACGTTCGATCCCT              nan    P2_1  Capillary Aerocyte   \n",
       "P2_1__AACACGTTCGCACTCT              nan    P2_1  Capillary Aerocyte   \n",
       "P2_1__AACCATGCAGCTCGCA              nan    P2_1  Capillary Aerocyte   \n",
       "\n",
       "                       individual    sample                 sequencing_run  \\\n",
       "cell_id                                                                      \n",
       "P2_1__AAACCTGAGAAACCAT  patient_2  distal 2  180607_A00111_0155_BHFCWYDMXX   \n",
       "P2_1__AAATGCCAGATGAGAG  patient_2  distal 2  180607_A00111_0155_BHFCWYDMXX   \n",
       "P2_1__AACACGTTCGATCCCT  patient_2  distal 2  180607_A00111_0155_BHFCWYDMXX   \n",
       "P2_1__AACACGTTCGCACTCT  patient_2  distal 2  180607_A00111_0155_BHFCWYDMXX   \n",
       "P2_1__AACCATGCAGCTCGCA  patient_2  distal 2  180607_A00111_0155_BHFCWYDMXX   \n",
       "\n",
       "                         sex species species_batch species_latin tissue  \\\n",
       "cell_id                                                                   \n",
       "P2_1__AAACCTGAGAAACCAT  male   Human         human  Homo sapiens   Lung   \n",
       "P2_1__AAATGCCAGATGAGAG  male   Human         human  Homo sapiens   Lung   \n",
       "P2_1__AACACGTTCGATCCCT  male   Human         human  Homo sapiens   Lung   \n",
       "P2_1__AACACGTTCGCACTCT  male   Human         human  Homo sapiens   Lung   \n",
       "P2_1__AACCATGCAGCTCGCA  male   Human         human  Homo sapiens   Lung   \n",
       "\n",
       "                              narrow_group broad_group compartment_group  \\\n",
       "cell_id                                                                    \n",
       "P2_1__AAACCTGAGAAACCAT  Capillary Aerocyte   Capillary       endothelial   \n",
       "P2_1__AAATGCCAGATGAGAG  Capillary Aerocyte   Capillary       endothelial   \n",
       "P2_1__AACACGTTCGATCCCT  Capillary Aerocyte   Capillary       endothelial   \n",
       "P2_1__AACACGTTCGCACTCT  Capillary Aerocyte   Capillary       endothelial   \n",
       "P2_1__AACCATGCAGCTCGCA  Capillary Aerocyte   Capillary       endothelial   \n",
       "\n",
       "                                     compartment_narrow channel_cleaned  \\\n",
       "cell_id                                                                   \n",
       "P2_1__AAACCTGAGAAACCAT  endothelial: Capillary Aerocyte            P2_1   \n",
       "P2_1__AAATGCCAGATGAGAG  endothelial: Capillary Aerocyte            P2_1   \n",
       "P2_1__AACACGTTCGATCCCT  endothelial: Capillary Aerocyte            P2_1   \n",
       "P2_1__AACACGTTCGCACTCT  endothelial: Capillary Aerocyte            P2_1   \n",
       "P2_1__AACCATGCAGCTCGCA  endothelial: Capillary Aerocyte            P2_1   \n",
       "\n",
       "                        batch  n_genes  n_counts species_batch_v2  \\\n",
       "cell_id                                                             \n",
       "P2_1__AAACCTGAGAAACCAT    NaN      NaN       NaN              hlm   \n",
       "P2_1__AAATGCCAGATGAGAG    NaN      NaN       NaN              hlm   \n",
       "P2_1__AACACGTTCGATCCCT    NaN      NaN       NaN              hlm   \n",
       "P2_1__AACACGTTCGCACTCT    NaN      NaN       NaN              hlm   \n",
       "P2_1__AACCATGCAGCTCGCA    NaN      NaN       NaN              hlm   \n",
       "\n",
       "                             compartment_broad  \\\n",
       "cell_id                                          \n",
       "P2_1__AAACCTGAGAAACCAT  endothelial: Capillary   \n",
       "P2_1__AAATGCCAGATGAGAG  endothelial: Capillary   \n",
       "P2_1__AACACGTTCGATCCCT  endothelial: Capillary   \n",
       "P2_1__AACACGTTCGCACTCT  endothelial: Capillary   \n",
       "P2_1__AACCATGCAGCTCGCA  endothelial: Capillary   \n",
       "\n",
       "                                          compartment_broad_narrow  \\\n",
       "cell_id                                                              \n",
       "P2_1__AAACCTGAGAAACCAT  endothelial: Capillary: Capillary Aerocyte   \n",
       "P2_1__AAATGCCAGATGAGAG  endothelial: Capillary: Capillary Aerocyte   \n",
       "P2_1__AACACGTTCGATCCCT  endothelial: Capillary: Capillary Aerocyte   \n",
       "P2_1__AACACGTTCGCACTCT  endothelial: Capillary: Capillary Aerocyte   \n",
       "P2_1__AACCATGCAGCTCGCA  endothelial: Capillary: Capillary Aerocyte   \n",
       "\n",
       "                       compartment_species  \\\n",
       "cell_id                                      \n",
       "P2_1__AAACCTGAGAAACCAT  endothelial: human   \n",
       "P2_1__AAATGCCAGATGAGAG  endothelial: human   \n",
       "P2_1__AACACGTTCGATCCCT  endothelial: human   \n",
       "P2_1__AACACGTTCGCACTCT  endothelial: human   \n",
       "P2_1__AACCATGCAGCTCGCA  endothelial: human   \n",
       "\n",
       "                                    compartment_narrow_species  \\\n",
       "cell_id                                                          \n",
       "P2_1__AAACCTGAGAAACCAT  endothelial: Capillary Aerocyte: human   \n",
       "P2_1__AAATGCCAGATGAGAG  endothelial: Capillary Aerocyte: human   \n",
       "P2_1__AACACGTTCGATCCCT  endothelial: Capillary Aerocyte: human   \n",
       "P2_1__AACACGTTCGCACTCT  endothelial: Capillary Aerocyte: human   \n",
       "P2_1__AACCATGCAGCTCGCA  endothelial: Capillary Aerocyte: human   \n",
       "\n",
       "                       common_individual_id  \n",
       "cell_id                                      \n",
       "P2_1__AAACCTGAGAAACCAT      human_patient_2  \n",
       "P2_1__AAATGCCAGATGAGAG      human_patient_2  \n",
       "P2_1__AACACGTTCGATCCCT      human_patient_2  \n",
       "P2_1__AACACGTTCGCACTCT      human_patient_2  \n",
       "P2_1__AACCATGCAGCTCGCA      human_patient_2  "
      ]
     },
     "execution_count": 63,
     "metadata": {},
     "output_type": "execute_result"
    }
   ],
   "source": [
    "one2one = sc.read(\n",
    "#     \"/home/phoenix/data_lg/data_sm_copy/code/immune-evolution/h5ads/human-lemur-mouse-bat__lung_only_copy.h5ad\"\n",
    "    \"/home/olga/data_lg/data_sm_copy/immune-evolution/h5ads/human-lemur-mouse-bat/human-lemur-mouse-bat__lung_only.h5ad\"\n",
    ")\n",
    "one2one.obs = one2one.obs.reset_index().set_index('cell_id')\n",
    "\n",
    "one2one.obs.head()"
   ]
  },
  {
   "cell_type": "markdown",
   "metadata": {},
   "source": [
    "# Analyze Sourmash search"
   ]
  },
  {
   "cell_type": "markdown",
   "metadata": {},
   "source": [
    "## Functions / tools to add cell type ontologies"
   ]
  },
  {
   "cell_type": "markdown",
   "metadata": {},
   "source": [
    "### Column renamer"
   ]
  },
  {
   "cell_type": "code",
   "execution_count": 64,
   "metadata": {},
   "outputs": [],
   "source": [
    "cols = [\"cell_ontology_class\", \"narrow_group\", \"broad_group\", \"compartment_group\"]\n",
    "\n",
    "mouse_renamer = {col: f\"mouse_{col}\"  for col in cols}\n",
    "human_renamer = {col: f\"human_{col}\" for col in cols}"
   ]
  },
  {
   "cell_type": "code",
   "execution_count": 65,
   "metadata": {},
   "outputs": [],
   "source": [
    "def add_ontologies(search_results_df, adata, mouse_cell_id_col, renamer):\n",
    "\n",
    "    search_results_with_ontologies = search_results_df.join(\n",
    "        adata.obs[cols], \n",
    "        on=mouse_cell_id_col,\n",
    "        how='inner'\n",
    "#         right_on=\"cell_id\",\n",
    "    )\n",
    "    # Remove null ksizes\n",
    "#     search_results_with_ontologies = search_results_with_ontologies.loc[search_results_with_ontologies.ksize.notnull()]\n",
    "    search_results_with_ontologies['ksize'] = search_results_with_ontologies['ksize'].astype(int)\n",
    "    search_results_with_ontologies['sketch_value'] = search_results_with_ontologies['sketch_value'].astype(int)\n",
    "    search_results_with_ontologies.rename(columns=renamer, inplace=True)\n",
    "    search_results_with_ontologies.reset_index(inplace=True, drop=True)\n",
    "#     search_results_with_ontologies.dropna(subset=renamer.values(), inplace=True)\n",
    "\n",
    "#     print(search_results_with_ontologies.shape)\n",
    "    return search_results_with_ontologies"
   ]
  },
  {
   "cell_type": "markdown",
   "metadata": {},
   "source": [
    "## Read output CSVs"
   ]
  },
  {
   "cell_type": "code",
   "execution_count": 66,
   "metadata": {},
   "outputs": [],
   "source": [
    "celltype_cols = [\"cell_ontology_class\", \"narrow_group\", \"broad_group\", \"compartment_group\"]\n",
    "matching_cols = [f'{x}_matches' for x in celltype_cols]\n",
    "celltype_to_matching_cols = dict(zip(celltype_cols, matching_cols))"
   ]
  },
  {
   "cell_type": "code",
   "execution_count": 68,
   "metadata": {},
   "outputs": [
    {
     "data": {
      "text/plain": [
       "['Alveolar Epithelial Type 2',\n",
       " 'B cell',\n",
       " 'Capillary',\n",
       " 'Dendritic',\n",
       " 'Fibroblast',\n",
       " 'Macrophage',\n",
       " 'Monocyte',\n",
       " 'Natural Killer T cell',\n",
       " 'Smooth Muscle and Myofibroblast',\n",
       " 'T cell']"
      ]
     },
     "execution_count": 68,
     "metadata": {},
     "output_type": "execute_result"
    }
   ],
   "source": [
    "SHARED_CELLTYPES = ['Alveolar Epithelial Type 2',\n",
    " 'B cell',\n",
    " 'Capillary',\n",
    " 'Dendritic',\n",
    " 'Fibroblast',\n",
    " 'Macrophage',\n",
    " 'Monocyte',\n",
    " 'Natural Killer T cell',\n",
    " 'Smooth Muscle and Myofibroblast',\n",
    " 'T cell']\n",
    "SHARED_CELLTYPES"
   ]
  },
  {
   "cell_type": "markdown",
   "metadata": {},
   "source": [
    "### Example csv path"
   ]
  },
  {
   "cell_type": "code",
   "execution_count": 22,
   "metadata": {},
   "outputs": [
    {
     "name": "stdout",
     "output_type": "stream",
     "text": [
      "-rw-r--r-- 1 olga 1800 Feb 28 20:43 /home/olga/data_lg/data_sm_copy/immune-evolution/kmer-signatures/2--test-human/3-0--mouse-search-results--remove_common/alphabet-DNA__ksize-21__scaled-10/P3_7__TCCACACAGTGACTCT.csv\n"
     ]
    }
   ],
   "source": [
    "ll /home/olga/data_lg/data_sm_copy/immune-evolution/kmer-signatures/2--test-human/3-0--mouse-search-results--remove_common/alphabet-DNA__ksize-21__scaled-10/P3_7__TCCACACAGTGACTCT.csv"
   ]
  },
  {
   "cell_type": "code",
   "execution_count": 85,
   "metadata": {},
   "outputs": [
    {
     "name": "stdout",
     "output_type": "stream",
     "text": [
      "total 6.0K\n",
      "drwxr-xr-x 12 olga czb 4.0K Mar 27 13:09 \u001b[0m\u001b[01;34m.\u001b[0m/\n",
      "drwxr-xr-x  7 olga czb 4.0K Mar  5 12:02 \u001b[01;34m..\u001b[0m/\n",
      "drwxr-xr-x  4 olga czb 4.0K Mar  3 14:58 \u001b[01;34m0--protein-coding-fastas\u001b[0m/\n",
      "drwxr-xr-x  5 olga czb 4.0K Feb 28 11:12 \u001b[01;34m1--single-cell-sigs\u001b[0m/\n",
      "drwxr-xr-x  5 olga czb 4.0K Feb 28 17:02 \u001b[01;34m2--mouse-search-results\u001b[0m/\n",
      "drwxr-xr-x  5 olga czb 4.0K Mar 26 19:54 \u001b[01;34m3-0--mouse-search-results--min-5-percent-shared-kmers\u001b[0m/\n",
      "drwxr-xr-x  5 olga czb 4.0K Mar 27 13:09 \u001b[01;34m3-0--mouse-search-results--min-5-percent-shared-kmers-remove-common-kmers\u001b[0m\u001b[K/\n",
      "drwxr-xr-x  5 olga czb 4.0K Feb 28 17:17 \u001b[01;34m3-0--mouse-search-results--remove_common\u001b[0m/\n",
      "drwxr-xr-x  5 olga czb 4.0K Mar 26 19:54 \u001b[01;34m3-1--mouse-search-results--min-10-percent-shared-kmers\u001b[0m/\n",
      "drwxr-xr-x  5 olga czb 4.0K Mar 27 13:09 \u001b[01;34m3-1--mouse-search-results--min-10-percent-shared-kmers-remove-common-kmers\u001b[0m\u001b[K/\n",
      "drwxr-xr-x  5 olga czb 4.0K Feb 28 17:17 \u001b[01;34m3-1--mouse-search-results--raw_merged\u001b[0m/\n",
      "drwxr-xr-x  2 olga czb 4.0K Mar  5 14:28 \u001b[01;34m4--aggregated-results\u001b[0m/\n"
     ]
    }
   ],
   "source": [
    "ls -lha $human_test_dir"
   ]
  },
  {
   "cell_type": "markdown",
   "metadata": {},
   "source": [
    "### Actually read the csvs"
   ]
  },
  {
   "cell_type": "code",
   "execution_count": 99,
   "metadata": {},
   "outputs": [
    {
     "data": {
      "text/plain": [
       "2"
      ]
     },
     "execution_count": 99,
     "metadata": {},
     "output_type": "execute_result"
    }
   ],
   "source": [
    "1+1"
   ]
  },
  {
   "cell_type": "code",
   "execution_count": null,
   "metadata": {},
   "outputs": [
    {
     "name": "stderr",
     "output_type": "stream",
     "text": [
      " 56%|█████▋    | 239467/424610 [4:58:10<4:00:13, 12.85it/s] "
     ]
    }
   ],
   "source": [
    "dfs = []\n",
    "\n",
    "globber = os.path.join(human_test_dir, \"3-*\", \"*\", \"*.csv\")\n",
    "\n",
    "total = sum(1 for _ in glob.iglob(globber))\n",
    "\n",
    "\n",
    "query_species = \"human\"\n",
    "\n",
    "cols = [\"cell_ontology_class\", \"narrow_group\", \"broad_group\", \"compartment_group\"]\n",
    "\n",
    "query_renamer = {col: f\"{query_species}_{col}\" for col in cols}\n",
    "\n",
    "\n",
    "\n",
    "for csv in tqdm(glob.iglob(globber), total=total):\n",
    "    df = read_and_process_sourmash_search_results(\n",
    "        csv,\n",
    "        adata=one2one,\n",
    "        column_renamer=query_renamer,\n",
    "        query_species=query_species,\n",
    "        shared_celltypes=SHARED_CELLTYPES,\n",
    "    )\n",
    "\n",
    "    df[\"database_type\"] = os.path.dirname(csv).split(\"/\")[-2].split(\"--\")[-1]\n",
    "\n",
    "    dfs.append(df)\n",
    "#     break\n",
    "search_results = pd.concat(dfs, ignore_index=True)\n",
    "print(search_results.shape)\n",
    "search_results.head()"
   ]
  },
  {
   "cell_type": "code",
   "execution_count": 102,
   "metadata": {},
   "outputs": [
    {
     "data": {
      "text/plain": [
       "similarity_abundance    2535405\n",
       "containment             1698231\n",
       "Name: search_method, dtype: int64"
      ]
     },
     "execution_count": 102,
     "metadata": {},
     "output_type": "execute_result"
    }
   ],
   "source": [
    "search_results.search_method.value_counts()"
   ]
  },
  {
   "cell_type": "code",
   "execution_count": 87,
   "metadata": {},
   "outputs": [
    {
     "name": "stdout",
     "output_type": "stream",
     "text": [
      "(3, 4)\n",
      "--- First 5 entries ---\n"
     ]
    },
    {
     "data": {
      "text/html": [
       "<div>\n",
       "<style scoped>\n",
       "    .dataframe tbody tr th:only-of-type {\n",
       "        vertical-align: middle;\n",
       "    }\n",
       "\n",
       "    .dataframe tbody tr th {\n",
       "        vertical-align: top;\n",
       "    }\n",
       "\n",
       "    .dataframe thead th {\n",
       "        text-align: right;\n",
       "    }\n",
       "</style>\n",
       "<table border=\"1\" class=\"dataframe\">\n",
       "  <thead>\n",
       "    <tr style=\"text-align: right;\">\n",
       "      <th></th>\n",
       "      <th>sketch_id</th>\n",
       "      <th>alphabet</th>\n",
       "      <th>ksize</th>\n",
       "      <th>n_results</th>\n",
       "    </tr>\n",
       "  </thead>\n",
       "  <tbody>\n",
       "    <tr>\n",
       "      <th>0</th>\n",
       "      <td>alphabet-DNA__ksize-21__scaled-10</td>\n",
       "      <td>DNA</td>\n",
       "      <td>21</td>\n",
       "      <td>848262</td>\n",
       "    </tr>\n",
       "    <tr>\n",
       "      <th>1</th>\n",
       "      <td>alphabet-dayhoff__ksize-51__scaled-10</td>\n",
       "      <td>dayhoff</td>\n",
       "      <td>51</td>\n",
       "      <td>842911</td>\n",
       "    </tr>\n",
       "    <tr>\n",
       "      <th>2</th>\n",
       "      <td>alphabet-protein__ksize-30__scaled-10</td>\n",
       "      <td>protein</td>\n",
       "      <td>30</td>\n",
       "      <td>844232</td>\n",
       "    </tr>\n",
       "  </tbody>\n",
       "</table>\n",
       "</div>"
      ],
      "text/plain": [
       "                               sketch_id alphabet  ksize  n_results\n",
       "0      alphabet-DNA__ksize-21__scaled-10      DNA     21     848262\n",
       "1  alphabet-dayhoff__ksize-51__scaled-10  dayhoff     51     842911\n",
       "2  alphabet-protein__ksize-30__scaled-10  protein     30     844232"
      ]
     },
     "metadata": {},
     "output_type": "display_data"
    }
   ],
   "source": [
    "n_results_per_sketch_id = search_results.groupby(['sketch_id', 'alphabet', 'ksize']).size()\n",
    "n_results_per_sketch_id.name = 'n_results'\n",
    "n_results_per_sketch_id = n_results_per_sketch_id.reset_index()\n",
    "describe(n_results_per_sketch_id)"
   ]
  },
  {
   "cell_type": "code",
   "execution_count": 88,
   "metadata": {},
   "outputs": [
    {
     "data": {
      "text/html": [
       "<div>\n",
       "<style scoped>\n",
       "    .dataframe tbody tr th:only-of-type {\n",
       "        vertical-align: middle;\n",
       "    }\n",
       "\n",
       "    .dataframe tbody tr th {\n",
       "        vertical-align: top;\n",
       "    }\n",
       "\n",
       "    .dataframe thead th {\n",
       "        text-align: right;\n",
       "    }\n",
       "</style>\n",
       "<table border=\"1\" class=\"dataframe\">\n",
       "  <thead>\n",
       "    <tr style=\"text-align: right;\">\n",
       "      <th></th>\n",
       "      <th>sketch_id</th>\n",
       "      <th>alphabet</th>\n",
       "      <th>ksize</th>\n",
       "      <th>n_results</th>\n",
       "    </tr>\n",
       "  </thead>\n",
       "  <tbody>\n",
       "    <tr>\n",
       "      <th>0</th>\n",
       "      <td>alphabet-DNA__ksize-21__scaled-10</td>\n",
       "      <td>DNA</td>\n",
       "      <td>21</td>\n",
       "      <td>848262</td>\n",
       "    </tr>\n",
       "    <tr>\n",
       "      <th>2</th>\n",
       "      <td>alphabet-protein__ksize-30__scaled-10</td>\n",
       "      <td>protein</td>\n",
       "      <td>30</td>\n",
       "      <td>844232</td>\n",
       "    </tr>\n",
       "    <tr>\n",
       "      <th>1</th>\n",
       "      <td>alphabet-dayhoff__ksize-51__scaled-10</td>\n",
       "      <td>dayhoff</td>\n",
       "      <td>51</td>\n",
       "      <td>842911</td>\n",
       "    </tr>\n",
       "  </tbody>\n",
       "</table>\n",
       "</div>"
      ],
      "text/plain": [
       "                               sketch_id alphabet  ksize  n_results\n",
       "0      alphabet-DNA__ksize-21__scaled-10      DNA     21     848262\n",
       "2  alphabet-protein__ksize-30__scaled-10  protein     30     844232\n",
       "1  alphabet-dayhoff__ksize-51__scaled-10  dayhoff     51     842911"
      ]
     },
     "execution_count": 88,
     "metadata": {},
     "output_type": "execute_result"
    }
   ],
   "source": [
    "n_results_per_sketch_id.nlargest(5, 'n_results')"
   ]
  },
  {
   "cell_type": "code",
   "execution_count": 89,
   "metadata": {},
   "outputs": [
    {
     "data": {
      "text/plain": [
       "sketch_id    alphabet-DNA__ksize-21__scaled-10\n",
       "alphabet                                   DNA\n",
       "ksize                                       21\n",
       "n_results                               848262\n",
       "Name: 0, dtype: object"
      ]
     },
     "execution_count": 89,
     "metadata": {},
     "output_type": "execute_result"
    }
   ],
   "source": [
    "n_results_per_sketch_id.loc[n_results_per_sketch_id.n_results.argmax()]"
   ]
  },
  {
   "cell_type": "markdown",
   "metadata": {},
   "source": [
    "## Constants (`classification_groupby`, `celltype_col`, `query_organism`, `scoring_groupby`)"
   ]
  },
  {
   "cell_type": "code",
   "execution_count": 104,
   "metadata": {},
   "outputs": [],
   "source": [
    "\n",
    "\n",
    "celltype_col = \"broad_group\"\n",
    "sbt_organism = \"mouse\"\n",
    "query_organism = \"human\"\n",
    "\n",
    "classification_groupby = [\n",
    "    f\"{query_organism}_cell_id\",\n",
    "    'search_method',\n",
    "    \"database_type\",\n",
    "    \"alphabet\",\n",
    "    \"ksize\",\n",
    "]\n",
    "\n",
    "predicted_celltype_col = f\"{sbt_organism}_{celltype_col}\"\n",
    "ground_truth_celltype_col = f\"{query_organism}_{celltype_col}\"\n",
    "\n",
    "scoring_groupby = [\"database_type\", 'search_method', \"alphabet\", \"ksize\"]"
   ]
  },
  {
   "cell_type": "markdown",
   "metadata": {},
   "source": [
    "## Add unifying column of predicted and ground truth celltypes"
   ]
  },
  {
   "cell_type": "code",
   "execution_count": 105,
   "metadata": {},
   "outputs": [],
   "source": [
    "search_results['groundtruth_celltype'] = search_results[ground_truth_celltype_col]\n",
    "search_results['predicted_celltype'] = search_results[predicted_celltype_col]"
   ]
  },
  {
   "cell_type": "markdown",
   "metadata": {},
   "source": [
    "# write results to parquet file"
   ]
  },
  {
   "cell_type": "code",
   "execution_count": 106,
   "metadata": {},
   "outputs": [
    {
     "name": "stdout",
     "output_type": "stream",
     "text": [
      "CPU times: user 6.41 s, sys: 884 ms, total: 7.29 s\n",
      "Wall time: 7.47 s\n"
     ]
    },
    {
     "data": {
      "text/plain": [
       "'/home/olga/data_lg/data_sm_copy/immune-evolution/kmer-signatures/2--test-human/4--aggregated-results/sourmash-search-results.parquet'"
      ]
     },
     "execution_count": 106,
     "metadata": {},
     "output_type": "execute_result"
    }
   ],
   "source": [
    "%%time\n",
    "\n",
    "parquet_fn = \"sourmash-search-results.parquet\"\n",
    "parquet = os.path.join(aggregated_results_dir, parquet_fn)\n",
    "search_results.to_parquet(parquet)\n",
    "\n",
    "parquet"
   ]
  },
  {
   "cell_type": "markdown",
   "metadata": {},
   "source": [
    "# Predict cell type with top hit"
   ]
  },
  {
   "cell_type": "markdown",
   "metadata": {},
   "source": [
    "## Get top N"
   ]
  },
  {
   "cell_type": "code",
   "execution_count": 107,
   "metadata": {},
   "outputs": [
    {
     "name": "stdout",
     "output_type": "stream",
     "text": [
      "(424610, 17)\n",
      "CPU times: user 30min 26s, sys: 1min 6s, total: 31min 32s\n",
      "Wall time: 31min 16s\n"
     ]
    },
    {
     "data": {
      "text/html": [
       "<div>\n",
       "<style scoped>\n",
       "    .dataframe tbody tr th:only-of-type {\n",
       "        vertical-align: middle;\n",
       "    }\n",
       "\n",
       "    .dataframe tbody tr th {\n",
       "        vertical-align: top;\n",
       "    }\n",
       "\n",
       "    .dataframe thead th {\n",
       "        text-align: right;\n",
       "    }\n",
       "</style>\n",
       "<table border=\"1\" class=\"dataframe\">\n",
       "  <thead>\n",
       "    <tr style=\"text-align: right;\">\n",
       "      <th></th>\n",
       "      <th>similarity</th>\n",
       "      <th>mouse_broad_group</th>\n",
       "      <th>search_method</th>\n",
       "      <th>sketch_id</th>\n",
       "      <th>mol_or_alpha</th>\n",
       "      <th>alphabet</th>\n",
       "      <th>ksize</th>\n",
       "      <th>sketch_style</th>\n",
       "      <th>sketch_value</th>\n",
       "      <th>human_channel</th>\n",
       "      <th>human_cell_ontology_class</th>\n",
       "      <th>human_narrow_group</th>\n",
       "      <th>human_broad_group</th>\n",
       "      <th>human_compartment_group</th>\n",
       "      <th>database_type</th>\n",
       "      <th>groundtruth_celltype</th>\n",
       "      <th>predicted_celltype</th>\n",
       "    </tr>\n",
       "    <tr>\n",
       "      <th>human_cell_id</th>\n",
       "      <th></th>\n",
       "      <th></th>\n",
       "      <th></th>\n",
       "      <th></th>\n",
       "      <th></th>\n",
       "      <th></th>\n",
       "      <th></th>\n",
       "      <th></th>\n",
       "      <th></th>\n",
       "      <th></th>\n",
       "      <th></th>\n",
       "      <th></th>\n",
       "      <th></th>\n",
       "      <th></th>\n",
       "      <th></th>\n",
       "      <th></th>\n",
       "      <th></th>\n",
       "    </tr>\n",
       "  </thead>\n",
       "  <tbody>\n",
       "    <tr>\n",
       "      <th>P3_2__AAACCTGGTTAGAACA</th>\n",
       "      <td>0.047525</td>\n",
       "      <td>Dendritic</td>\n",
       "      <td>containment</td>\n",
       "      <td>alphabet-DNA__ksize-21__scaled-10</td>\n",
       "      <td>alphabet</td>\n",
       "      <td>DNA</td>\n",
       "      <td>21</td>\n",
       "      <td>scaled</td>\n",
       "      <td>10</td>\n",
       "      <td>P3_2</td>\n",
       "      <td>macrophage</td>\n",
       "      <td>Macrophage</td>\n",
       "      <td>Macrophage</td>\n",
       "      <td>myeloid</td>\n",
       "      <td>min-10-percent-shared-kmers</td>\n",
       "      <td>Macrophage</td>\n",
       "      <td>Dendritic</td>\n",
       "    </tr>\n",
       "    <tr>\n",
       "      <th>P3_2__AAACCTGGTTAGAACA</th>\n",
       "      <td>0.246955</td>\n",
       "      <td>Dendritic</td>\n",
       "      <td>containment</td>\n",
       "      <td>alphabet-dayhoff__ksize-51__scaled-10</td>\n",
       "      <td>alphabet</td>\n",
       "      <td>dayhoff</td>\n",
       "      <td>51</td>\n",
       "      <td>scaled</td>\n",
       "      <td>10</td>\n",
       "      <td>P3_2</td>\n",
       "      <td>macrophage</td>\n",
       "      <td>Macrophage</td>\n",
       "      <td>Macrophage</td>\n",
       "      <td>myeloid</td>\n",
       "      <td>min-10-percent-shared-kmers</td>\n",
       "      <td>Macrophage</td>\n",
       "      <td>Dendritic</td>\n",
       "    </tr>\n",
       "    <tr>\n",
       "      <th>P3_2__AAACCTGGTTAGAACA</th>\n",
       "      <td>0.231591</td>\n",
       "      <td>Dendritic</td>\n",
       "      <td>containment</td>\n",
       "      <td>alphabet-protein__ksize-30__scaled-10</td>\n",
       "      <td>alphabet</td>\n",
       "      <td>protein</td>\n",
       "      <td>30</td>\n",
       "      <td>scaled</td>\n",
       "      <td>10</td>\n",
       "      <td>P3_2</td>\n",
       "      <td>macrophage</td>\n",
       "      <td>Macrophage</td>\n",
       "      <td>Macrophage</td>\n",
       "      <td>myeloid</td>\n",
       "      <td>min-10-percent-shared-kmers</td>\n",
       "      <td>Macrophage</td>\n",
       "      <td>Dendritic</td>\n",
       "    </tr>\n",
       "    <tr>\n",
       "      <th>P3_2__AAACCTGGTTAGAACA</th>\n",
       "      <td>0.016143</td>\n",
       "      <td>Dendritic</td>\n",
       "      <td>containment</td>\n",
       "      <td>alphabet-DNA__ksize-21__scaled-10</td>\n",
       "      <td>alphabet</td>\n",
       "      <td>DNA</td>\n",
       "      <td>21</td>\n",
       "      <td>scaled</td>\n",
       "      <td>10</td>\n",
       "      <td>P3_2</td>\n",
       "      <td>macrophage</td>\n",
       "      <td>Macrophage</td>\n",
       "      <td>Macrophage</td>\n",
       "      <td>myeloid</td>\n",
       "      <td>min-10-percent-shared-kmers-remove-common-kmers</td>\n",
       "      <td>Macrophage</td>\n",
       "      <td>Dendritic</td>\n",
       "    </tr>\n",
       "    <tr>\n",
       "      <th>P3_2__AAACCTGGTTAGAACA</th>\n",
       "      <td>0.102805</td>\n",
       "      <td>Dendritic</td>\n",
       "      <td>containment</td>\n",
       "      <td>alphabet-dayhoff__ksize-51__scaled-10</td>\n",
       "      <td>alphabet</td>\n",
       "      <td>dayhoff</td>\n",
       "      <td>51</td>\n",
       "      <td>scaled</td>\n",
       "      <td>10</td>\n",
       "      <td>P3_2</td>\n",
       "      <td>macrophage</td>\n",
       "      <td>Macrophage</td>\n",
       "      <td>Macrophage</td>\n",
       "      <td>myeloid</td>\n",
       "      <td>min-10-percent-shared-kmers-remove-common-kmers</td>\n",
       "      <td>Macrophage</td>\n",
       "      <td>Dendritic</td>\n",
       "    </tr>\n",
       "  </tbody>\n",
       "</table>\n",
       "</div>"
      ],
      "text/plain": [
       "                        similarity mouse_broad_group search_method  \\\n",
       "human_cell_id                                                        \n",
       "P3_2__AAACCTGGTTAGAACA    0.047525         Dendritic   containment   \n",
       "P3_2__AAACCTGGTTAGAACA    0.246955         Dendritic   containment   \n",
       "P3_2__AAACCTGGTTAGAACA    0.231591         Dendritic   containment   \n",
       "P3_2__AAACCTGGTTAGAACA    0.016143         Dendritic   containment   \n",
       "P3_2__AAACCTGGTTAGAACA    0.102805         Dendritic   containment   \n",
       "\n",
       "                                                    sketch_id mol_or_alpha  \\\n",
       "human_cell_id                                                                \n",
       "P3_2__AAACCTGGTTAGAACA      alphabet-DNA__ksize-21__scaled-10     alphabet   \n",
       "P3_2__AAACCTGGTTAGAACA  alphabet-dayhoff__ksize-51__scaled-10     alphabet   \n",
       "P3_2__AAACCTGGTTAGAACA  alphabet-protein__ksize-30__scaled-10     alphabet   \n",
       "P3_2__AAACCTGGTTAGAACA      alphabet-DNA__ksize-21__scaled-10     alphabet   \n",
       "P3_2__AAACCTGGTTAGAACA  alphabet-dayhoff__ksize-51__scaled-10     alphabet   \n",
       "\n",
       "                       alphabet  ksize sketch_style  sketch_value  \\\n",
       "human_cell_id                                                       \n",
       "P3_2__AAACCTGGTTAGAACA      DNA     21       scaled            10   \n",
       "P3_2__AAACCTGGTTAGAACA  dayhoff     51       scaled            10   \n",
       "P3_2__AAACCTGGTTAGAACA  protein     30       scaled            10   \n",
       "P3_2__AAACCTGGTTAGAACA      DNA     21       scaled            10   \n",
       "P3_2__AAACCTGGTTAGAACA  dayhoff     51       scaled            10   \n",
       "\n",
       "                       human_channel human_cell_ontology_class  \\\n",
       "human_cell_id                                                    \n",
       "P3_2__AAACCTGGTTAGAACA          P3_2                macrophage   \n",
       "P3_2__AAACCTGGTTAGAACA          P3_2                macrophage   \n",
       "P3_2__AAACCTGGTTAGAACA          P3_2                macrophage   \n",
       "P3_2__AAACCTGGTTAGAACA          P3_2                macrophage   \n",
       "P3_2__AAACCTGGTTAGAACA          P3_2                macrophage   \n",
       "\n",
       "                       human_narrow_group human_broad_group  \\\n",
       "human_cell_id                                                 \n",
       "P3_2__AAACCTGGTTAGAACA         Macrophage        Macrophage   \n",
       "P3_2__AAACCTGGTTAGAACA         Macrophage        Macrophage   \n",
       "P3_2__AAACCTGGTTAGAACA         Macrophage        Macrophage   \n",
       "P3_2__AAACCTGGTTAGAACA         Macrophage        Macrophage   \n",
       "P3_2__AAACCTGGTTAGAACA         Macrophage        Macrophage   \n",
       "\n",
       "                       human_compartment_group  \\\n",
       "human_cell_id                                    \n",
       "P3_2__AAACCTGGTTAGAACA                 myeloid   \n",
       "P3_2__AAACCTGGTTAGAACA                 myeloid   \n",
       "P3_2__AAACCTGGTTAGAACA                 myeloid   \n",
       "P3_2__AAACCTGGTTAGAACA                 myeloid   \n",
       "P3_2__AAACCTGGTTAGAACA                 myeloid   \n",
       "\n",
       "                                                          database_type  \\\n",
       "human_cell_id                                                             \n",
       "P3_2__AAACCTGGTTAGAACA                      min-10-percent-shared-kmers   \n",
       "P3_2__AAACCTGGTTAGAACA                      min-10-percent-shared-kmers   \n",
       "P3_2__AAACCTGGTTAGAACA                      min-10-percent-shared-kmers   \n",
       "P3_2__AAACCTGGTTAGAACA  min-10-percent-shared-kmers-remove-common-kmers   \n",
       "P3_2__AAACCTGGTTAGAACA  min-10-percent-shared-kmers-remove-common-kmers   \n",
       "\n",
       "                       groundtruth_celltype predicted_celltype  \n",
       "human_cell_id                                                   \n",
       "P3_2__AAACCTGGTTAGAACA           Macrophage          Dendritic  \n",
       "P3_2__AAACCTGGTTAGAACA           Macrophage          Dendritic  \n",
       "P3_2__AAACCTGGTTAGAACA           Macrophage          Dendritic  \n",
       "P3_2__AAACCTGGTTAGAACA           Macrophage          Dendritic  \n",
       "P3_2__AAACCTGGTTAGAACA           Macrophage          Dendritic  "
      ]
     },
     "execution_count": 107,
     "metadata": {},
     "output_type": "execute_result"
    }
   ],
   "source": [
    "%%time\n",
    "\n",
    "predicted_cells_top_hit = search_results.groupby(\n",
    "    classification_groupby, as_index=False, group_keys=False\n",
    ").apply(lambda x: x.nlargest(1, 'similarity'))\n",
    "\n",
    "predicted_cells_top_hit = predicted_cells_top_hit.set_index(f\"{query_organism}_cell_id\")\n",
    "\n",
    "print(predicted_cells_top_hit.shape)\n",
    "predicted_cells_top_hit.head()"
   ]
  },
  {
   "cell_type": "markdown",
   "metadata": {},
   "source": [
    "## Add unifying column of predicted and ground truth celltypes"
   ]
  },
  {
   "cell_type": "code",
   "execution_count": 108,
   "metadata": {},
   "outputs": [],
   "source": [
    "predicted_cells_top_hit['groundtruth_celltype'] = predicted_cells_top_hit[ground_truth_celltype_col]\n",
    "predicted_cells_top_hit['predicted_celltype'] = predicted_cells_top_hit[predicted_celltype_col]"
   ]
  },
  {
   "cell_type": "markdown",
   "metadata": {},
   "source": [
    "### Write top N to file"
   ]
  },
  {
   "cell_type": "code",
   "execution_count": 109,
   "metadata": {},
   "outputs": [
    {
     "name": "stdout",
     "output_type": "stream",
     "text": [
      "CPU times: user 1.72 s, sys: 83.7 ms, total: 1.8 s\n",
      "Wall time: 1.9 s\n"
     ]
    }
   ],
   "source": [
    "%%time\n",
    "\n",
    "parquet_fn = \"sourmash-search-results--top-hit.parquet\"\n",
    "parquet = os.path.join(aggregated_results_dir, parquet_fn)\n",
    "predicted_cells_top_hit.to_parquet(parquet)"
   ]
  },
  {
   "cell_type": "code",
   "execution_count": 110,
   "metadata": {},
   "outputs": [
    {
     "data": {
      "text/plain": [
       "'/home/olga/data_lg/data_sm_copy/immune-evolution/kmer-signatures/2--test-human/4--aggregated-results/sourmash-search-results--top-hit.parquet'"
      ]
     },
     "execution_count": 110,
     "metadata": {},
     "output_type": "execute_result"
    }
   ],
   "source": [
    "parquet "
   ]
  },
  {
   "cell_type": "code",
   "execution_count": 111,
   "metadata": {},
   "outputs": [
    {
     "name": "stdout",
     "output_type": "stream",
     "text": [
      "(424610, 17)\n",
      "--- First 5 entries ---\n"
     ]
    },
    {
     "data": {
      "text/html": [
       "<div>\n",
       "<style scoped>\n",
       "    .dataframe tbody tr th:only-of-type {\n",
       "        vertical-align: middle;\n",
       "    }\n",
       "\n",
       "    .dataframe tbody tr th {\n",
       "        vertical-align: top;\n",
       "    }\n",
       "\n",
       "    .dataframe thead th {\n",
       "        text-align: right;\n",
       "    }\n",
       "</style>\n",
       "<table border=\"1\" class=\"dataframe\">\n",
       "  <thead>\n",
       "    <tr style=\"text-align: right;\">\n",
       "      <th></th>\n",
       "      <th>similarity</th>\n",
       "      <th>mouse_broad_group</th>\n",
       "      <th>search_method</th>\n",
       "      <th>sketch_id</th>\n",
       "      <th>mol_or_alpha</th>\n",
       "      <th>alphabet</th>\n",
       "      <th>ksize</th>\n",
       "      <th>sketch_style</th>\n",
       "      <th>sketch_value</th>\n",
       "      <th>human_channel</th>\n",
       "      <th>human_cell_ontology_class</th>\n",
       "      <th>human_narrow_group</th>\n",
       "      <th>human_broad_group</th>\n",
       "      <th>human_compartment_group</th>\n",
       "      <th>database_type</th>\n",
       "      <th>groundtruth_celltype</th>\n",
       "      <th>predicted_celltype</th>\n",
       "    </tr>\n",
       "    <tr>\n",
       "      <th>human_cell_id</th>\n",
       "      <th></th>\n",
       "      <th></th>\n",
       "      <th></th>\n",
       "      <th></th>\n",
       "      <th></th>\n",
       "      <th></th>\n",
       "      <th></th>\n",
       "      <th></th>\n",
       "      <th></th>\n",
       "      <th></th>\n",
       "      <th></th>\n",
       "      <th></th>\n",
       "      <th></th>\n",
       "      <th></th>\n",
       "      <th></th>\n",
       "      <th></th>\n",
       "      <th></th>\n",
       "    </tr>\n",
       "  </thead>\n",
       "  <tbody>\n",
       "    <tr>\n",
       "      <th>P3_2__AAACCTGGTTAGAACA</th>\n",
       "      <td>0.047525</td>\n",
       "      <td>Dendritic</td>\n",
       "      <td>containment</td>\n",
       "      <td>alphabet-DNA__ksize-21__scaled-10</td>\n",
       "      <td>alphabet</td>\n",
       "      <td>DNA</td>\n",
       "      <td>21</td>\n",
       "      <td>scaled</td>\n",
       "      <td>10</td>\n",
       "      <td>P3_2</td>\n",
       "      <td>macrophage</td>\n",
       "      <td>Macrophage</td>\n",
       "      <td>Macrophage</td>\n",
       "      <td>myeloid</td>\n",
       "      <td>min-10-percent-shared-kmers</td>\n",
       "      <td>Macrophage</td>\n",
       "      <td>Dendritic</td>\n",
       "    </tr>\n",
       "    <tr>\n",
       "      <th>P3_2__AAACCTGGTTAGAACA</th>\n",
       "      <td>0.246955</td>\n",
       "      <td>Dendritic</td>\n",
       "      <td>containment</td>\n",
       "      <td>alphabet-dayhoff__ksize-51__scaled-10</td>\n",
       "      <td>alphabet</td>\n",
       "      <td>dayhoff</td>\n",
       "      <td>51</td>\n",
       "      <td>scaled</td>\n",
       "      <td>10</td>\n",
       "      <td>P3_2</td>\n",
       "      <td>macrophage</td>\n",
       "      <td>Macrophage</td>\n",
       "      <td>Macrophage</td>\n",
       "      <td>myeloid</td>\n",
       "      <td>min-10-percent-shared-kmers</td>\n",
       "      <td>Macrophage</td>\n",
       "      <td>Dendritic</td>\n",
       "    </tr>\n",
       "    <tr>\n",
       "      <th>P3_2__AAACCTGGTTAGAACA</th>\n",
       "      <td>0.231591</td>\n",
       "      <td>Dendritic</td>\n",
       "      <td>containment</td>\n",
       "      <td>alphabet-protein__ksize-30__scaled-10</td>\n",
       "      <td>alphabet</td>\n",
       "      <td>protein</td>\n",
       "      <td>30</td>\n",
       "      <td>scaled</td>\n",
       "      <td>10</td>\n",
       "      <td>P3_2</td>\n",
       "      <td>macrophage</td>\n",
       "      <td>Macrophage</td>\n",
       "      <td>Macrophage</td>\n",
       "      <td>myeloid</td>\n",
       "      <td>min-10-percent-shared-kmers</td>\n",
       "      <td>Macrophage</td>\n",
       "      <td>Dendritic</td>\n",
       "    </tr>\n",
       "    <tr>\n",
       "      <th>P3_2__AAACCTGGTTAGAACA</th>\n",
       "      <td>0.016143</td>\n",
       "      <td>Dendritic</td>\n",
       "      <td>containment</td>\n",
       "      <td>alphabet-DNA__ksize-21__scaled-10</td>\n",
       "      <td>alphabet</td>\n",
       "      <td>DNA</td>\n",
       "      <td>21</td>\n",
       "      <td>scaled</td>\n",
       "      <td>10</td>\n",
       "      <td>P3_2</td>\n",
       "      <td>macrophage</td>\n",
       "      <td>Macrophage</td>\n",
       "      <td>Macrophage</td>\n",
       "      <td>myeloid</td>\n",
       "      <td>min-10-percent-shared-kmers-remove-common-kmers</td>\n",
       "      <td>Macrophage</td>\n",
       "      <td>Dendritic</td>\n",
       "    </tr>\n",
       "    <tr>\n",
       "      <th>P3_2__AAACCTGGTTAGAACA</th>\n",
       "      <td>0.102805</td>\n",
       "      <td>Dendritic</td>\n",
       "      <td>containment</td>\n",
       "      <td>alphabet-dayhoff__ksize-51__scaled-10</td>\n",
       "      <td>alphabet</td>\n",
       "      <td>dayhoff</td>\n",
       "      <td>51</td>\n",
       "      <td>scaled</td>\n",
       "      <td>10</td>\n",
       "      <td>P3_2</td>\n",
       "      <td>macrophage</td>\n",
       "      <td>Macrophage</td>\n",
       "      <td>Macrophage</td>\n",
       "      <td>myeloid</td>\n",
       "      <td>min-10-percent-shared-kmers-remove-common-kmers</td>\n",
       "      <td>Macrophage</td>\n",
       "      <td>Dendritic</td>\n",
       "    </tr>\n",
       "  </tbody>\n",
       "</table>\n",
       "</div>"
      ],
      "text/plain": [
       "                        similarity mouse_broad_group search_method  \\\n",
       "human_cell_id                                                        \n",
       "P3_2__AAACCTGGTTAGAACA    0.047525         Dendritic   containment   \n",
       "P3_2__AAACCTGGTTAGAACA    0.246955         Dendritic   containment   \n",
       "P3_2__AAACCTGGTTAGAACA    0.231591         Dendritic   containment   \n",
       "P3_2__AAACCTGGTTAGAACA    0.016143         Dendritic   containment   \n",
       "P3_2__AAACCTGGTTAGAACA    0.102805         Dendritic   containment   \n",
       "\n",
       "                                                    sketch_id mol_or_alpha  \\\n",
       "human_cell_id                                                                \n",
       "P3_2__AAACCTGGTTAGAACA      alphabet-DNA__ksize-21__scaled-10     alphabet   \n",
       "P3_2__AAACCTGGTTAGAACA  alphabet-dayhoff__ksize-51__scaled-10     alphabet   \n",
       "P3_2__AAACCTGGTTAGAACA  alphabet-protein__ksize-30__scaled-10     alphabet   \n",
       "P3_2__AAACCTGGTTAGAACA      alphabet-DNA__ksize-21__scaled-10     alphabet   \n",
       "P3_2__AAACCTGGTTAGAACA  alphabet-dayhoff__ksize-51__scaled-10     alphabet   \n",
       "\n",
       "                       alphabet  ksize sketch_style  sketch_value  \\\n",
       "human_cell_id                                                       \n",
       "P3_2__AAACCTGGTTAGAACA      DNA     21       scaled            10   \n",
       "P3_2__AAACCTGGTTAGAACA  dayhoff     51       scaled            10   \n",
       "P3_2__AAACCTGGTTAGAACA  protein     30       scaled            10   \n",
       "P3_2__AAACCTGGTTAGAACA      DNA     21       scaled            10   \n",
       "P3_2__AAACCTGGTTAGAACA  dayhoff     51       scaled            10   \n",
       "\n",
       "                       human_channel human_cell_ontology_class  \\\n",
       "human_cell_id                                                    \n",
       "P3_2__AAACCTGGTTAGAACA          P3_2                macrophage   \n",
       "P3_2__AAACCTGGTTAGAACA          P3_2                macrophage   \n",
       "P3_2__AAACCTGGTTAGAACA          P3_2                macrophage   \n",
       "P3_2__AAACCTGGTTAGAACA          P3_2                macrophage   \n",
       "P3_2__AAACCTGGTTAGAACA          P3_2                macrophage   \n",
       "\n",
       "                       human_narrow_group human_broad_group  \\\n",
       "human_cell_id                                                 \n",
       "P3_2__AAACCTGGTTAGAACA         Macrophage        Macrophage   \n",
       "P3_2__AAACCTGGTTAGAACA         Macrophage        Macrophage   \n",
       "P3_2__AAACCTGGTTAGAACA         Macrophage        Macrophage   \n",
       "P3_2__AAACCTGGTTAGAACA         Macrophage        Macrophage   \n",
       "P3_2__AAACCTGGTTAGAACA         Macrophage        Macrophage   \n",
       "\n",
       "                       human_compartment_group  \\\n",
       "human_cell_id                                    \n",
       "P3_2__AAACCTGGTTAGAACA                 myeloid   \n",
       "P3_2__AAACCTGGTTAGAACA                 myeloid   \n",
       "P3_2__AAACCTGGTTAGAACA                 myeloid   \n",
       "P3_2__AAACCTGGTTAGAACA                 myeloid   \n",
       "P3_2__AAACCTGGTTAGAACA                 myeloid   \n",
       "\n",
       "                                                          database_type  \\\n",
       "human_cell_id                                                             \n",
       "P3_2__AAACCTGGTTAGAACA                      min-10-percent-shared-kmers   \n",
       "P3_2__AAACCTGGTTAGAACA                      min-10-percent-shared-kmers   \n",
       "P3_2__AAACCTGGTTAGAACA                      min-10-percent-shared-kmers   \n",
       "P3_2__AAACCTGGTTAGAACA  min-10-percent-shared-kmers-remove-common-kmers   \n",
       "P3_2__AAACCTGGTTAGAACA  min-10-percent-shared-kmers-remove-common-kmers   \n",
       "\n",
       "                       groundtruth_celltype predicted_celltype  \n",
       "human_cell_id                                                   \n",
       "P3_2__AAACCTGGTTAGAACA           Macrophage          Dendritic  \n",
       "P3_2__AAACCTGGTTAGAACA           Macrophage          Dendritic  \n",
       "P3_2__AAACCTGGTTAGAACA           Macrophage          Dendritic  \n",
       "P3_2__AAACCTGGTTAGAACA           Macrophage          Dendritic  \n",
       "P3_2__AAACCTGGTTAGAACA           Macrophage          Dendritic  "
      ]
     },
     "metadata": {},
     "output_type": "display_data"
    }
   ],
   "source": [
    "describe(predicted_cells_top_hit)"
   ]
  },
  {
   "cell_type": "code",
   "execution_count": null,
   "metadata": {},
   "outputs": [],
   "source": []
  },
  {
   "cell_type": "code",
   "execution_count": null,
   "metadata": {},
   "outputs": [],
   "source": []
  },
  {
   "cell_type": "code",
   "execution_count": null,
   "metadata": {},
   "outputs": [],
   "source": []
  }
 ],
 "metadata": {
  "kernelspec": {
   "display_name": "Python [conda env:immune-evolution]",
   "language": "python",
   "name": "conda-env-immune-evolution-py"
  },
  "language_info": {
   "codemirror_mode": {
    "name": "ipython",
    "version": 3
   },
   "file_extension": ".py",
   "mimetype": "text/x-python",
   "name": "python",
   "nbconvert_exporter": "python",
   "pygments_lexer": "ipython3",
   "version": "3.7.8"
  },
  "toc-autonumbering": true
 },
 "nbformat": 4,
 "nbformat_minor": 4
}
