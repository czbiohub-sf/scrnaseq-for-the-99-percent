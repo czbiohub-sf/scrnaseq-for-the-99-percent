{
 "cells": [
  {
   "cell_type": "markdown",
   "metadata": {},
   "source": [
    "# Imports"
   ]
  },
  {
   "cell_type": "code",
   "execution_count": 26,
   "metadata": {},
   "outputs": [],
   "source": [
    "import math\n",
    "import json\n",
    "import os\n",
    "import glob\n",
    "\n",
    "\n",
    "import pandas as pd\n",
    "import screed\n",
    "# from tqdm import tqdm\n",
    "# import seaborn as sns\n",
    "\n",
    "# %matplotlib inline"
   ]
  },
  {
   "cell_type": "code",
   "execution_count": 4,
   "metadata": {},
   "outputs": [],
   "source": [
    "busco_folder = '/home/olga/data_sm/immune-evolution/databases/busco/orthodb-v10/mammalia_odb10'"
   ]
  },
  {
   "cell_type": "code",
   "execution_count": 5,
   "metadata": {},
   "outputs": [
    {
     "name": "stdout",
     "output_type": "stream",
     "text": [
      "total 105M\n",
      "drwxrwxr-x 5 olga czb 4.0K Jul 15 12:57 \u001b[0m\u001b[01;34m.\u001b[0m/\n",
      "drwxrwxr-x 6 olga czb 4.0K Jul 16 08:21 \u001b[01;34m..\u001b[0m/\n",
      "-rwxrwxr-x 1 olga czb 5.7M Nov 20  2019 \u001b[01;32mancestral\u001b[0m*\n",
      "-rwxrwxr-x 1 olga czb  46M Nov 20  2019 \u001b[01;32mancestral_variants\u001b[0m*\n",
      "-rwxrwxr-x 1 olga czb  119 Nov 20  2019 \u001b[01;32mdataset.cfg\u001b[0m*\n",
      "drwxrwxr-x 2 olga czb 512K Nov 20  2019 \u001b[01;34mhmms\u001b[0m/\n",
      "drwxrwxr-x 2 olga czb 4.0K Nov 20  2019 \u001b[01;34minfo\u001b[0m/\n",
      "-rwxrwxr-x 1 olga czb 256K Nov 20  2019 \u001b[01;32mlengths_cutoff\u001b[0m*\n",
      "-rwxrwxr-x 1 olga czb 855K Nov 27  2019 \u001b[01;32mlinks_to_ODB10.txt\u001b[0m*\n",
      "-rwxrwxr-x 1 olga czb  52M Jul 15 12:57 \u001b[01;32mmammalia_odb10.fasta\u001b[0m*\n",
      "drwxrwxr-x 2 olga czb 512K Nov 20  2019 \u001b[01;34mprfl\u001b[0m/\n",
      "-rwxrwxr-x 1 olga czb 189K Nov 20  2019 \u001b[01;32mscores_cutoff\u001b[0m*\n"
     ]
    }
   ],
   "source": [
    "ls -lha $busco_folder"
   ]
  },
  {
   "cell_type": "markdown",
   "metadata": {},
   "source": [
    "## Read species metadata"
   ]
  },
  {
   "cell_type": "code",
   "execution_count": 53,
   "metadata": {},
   "outputs": [
    {
     "name": "stdout",
     "output_type": "stream",
     "text": [
      "(78, 10)\n"
     ]
    },
    {
     "data": {
      "text/html": [
       "<div>\n",
       "<style scoped>\n",
       "    .dataframe tbody tr th:only-of-type {\n",
       "        vertical-align: middle;\n",
       "    }\n",
       "\n",
       "    .dataframe tbody tr th {\n",
       "        vertical-align: top;\n",
       "    }\n",
       "\n",
       "    .dataframe thead th {\n",
       "        text-align: right;\n",
       "    }\n",
       "</style>\n",
       "<table border=\"1\" class=\"dataframe\">\n",
       "  <thead>\n",
       "    <tr style=\"text-align: right;\">\n",
       "      <th></th>\n",
       "      <th>proteome_id</th>\n",
       "      <th>tax_id</th>\n",
       "      <th>oscode</th>\n",
       "      <th>n_main_fasta_canonical</th>\n",
       "      <th>n_additional_fasta_isoforms</th>\n",
       "      <th>n_gene2acc</th>\n",
       "      <th>species_name</th>\n",
       "      <th>divergence_from_human_mya</th>\n",
       "      <th>scientific_name</th>\n",
       "      <th>common_name_or_strain</th>\n",
       "    </tr>\n",
       "  </thead>\n",
       "  <tbody>\n",
       "    <tr>\n",
       "      <th>0</th>\n",
       "      <td>UP000007062</td>\n",
       "      <td>7165</td>\n",
       "      <td>ANOGA</td>\n",
       "      <td>12553</td>\n",
       "      <td>971</td>\n",
       "      <td>13619</td>\n",
       "      <td>Anopheles gambiae (African malaria mosquito)</td>\n",
       "      <td>797.0</td>\n",
       "      <td>Anopheles gambiae</td>\n",
       "      <td>African malaria mosquito</td>\n",
       "    </tr>\n",
       "    <tr>\n",
       "      <th>1</th>\n",
       "      <td>UP000000798</td>\n",
       "      <td>224324</td>\n",
       "      <td>AQUAE</td>\n",
       "      <td>1553</td>\n",
       "      <td>0</td>\n",
       "      <td>1557</td>\n",
       "      <td>Aquifex aeolicus (strain VF5)</td>\n",
       "      <td>4290.0</td>\n",
       "      <td>Aquifex aeolicus</td>\n",
       "      <td>strain VF5</td>\n",
       "    </tr>\n",
       "    <tr>\n",
       "      <th>2</th>\n",
       "      <td>UP000006548</td>\n",
       "      <td>3702</td>\n",
       "      <td>ARATH</td>\n",
       "      <td>27475</td>\n",
       "      <td>14123</td>\n",
       "      <td>41920</td>\n",
       "      <td>Arabidopsis thaliana (Mouse-ear cress)</td>\n",
       "      <td>1496.0</td>\n",
       "      <td>Arabidopsis thaliana</td>\n",
       "      <td>Mouse-ear cress</td>\n",
       "    </tr>\n",
       "    <tr>\n",
       "      <th>3</th>\n",
       "      <td>UP000001570</td>\n",
       "      <td>224308</td>\n",
       "      <td>BACSU</td>\n",
       "      <td>4260</td>\n",
       "      <td>7</td>\n",
       "      <td>4268</td>\n",
       "      <td>Bacillus subtilis (strain 168)</td>\n",
       "      <td>4290.0</td>\n",
       "      <td>Bacillus subtilis</td>\n",
       "      <td>strain 168</td>\n",
       "    </tr>\n",
       "    <tr>\n",
       "      <th>4</th>\n",
       "      <td>UP000001414</td>\n",
       "      <td>226186</td>\n",
       "      <td>BACTN</td>\n",
       "      <td>4782</td>\n",
       "      <td>0</td>\n",
       "      <td>4823</td>\n",
       "      <td>Bacteroides thetaiotaomicron (strain ATCC 2914...</td>\n",
       "      <td>4290.0</td>\n",
       "      <td>Bacteroides thetaiotaomicron</td>\n",
       "      <td>strain ATCC 29148 / DSM 2079 / NCTC 10582 / E5...</td>\n",
       "    </tr>\n",
       "  </tbody>\n",
       "</table>\n",
       "</div>"
      ],
      "text/plain": [
       "   proteome_id  tax_id oscode  n_main_fasta_canonical  \\\n",
       "0  UP000007062    7165  ANOGA                   12553   \n",
       "1  UP000000798  224324  AQUAE                    1553   \n",
       "2  UP000006548    3702  ARATH                   27475   \n",
       "3  UP000001570  224308  BACSU                    4260   \n",
       "4  UP000001414  226186  BACTN                    4782   \n",
       "\n",
       "   n_additional_fasta_isoforms  n_gene2acc  \\\n",
       "0                          971       13619   \n",
       "1                            0        1557   \n",
       "2                        14123       41920   \n",
       "3                            7        4268   \n",
       "4                            0        4823   \n",
       "\n",
       "                                        species_name  \\\n",
       "0       Anopheles gambiae (African malaria mosquito)   \n",
       "1                      Aquifex aeolicus (strain VF5)   \n",
       "2             Arabidopsis thaliana (Mouse-ear cress)   \n",
       "3                     Bacillus subtilis (strain 168)   \n",
       "4  Bacteroides thetaiotaomicron (strain ATCC 2914...   \n",
       "\n",
       "   divergence_from_human_mya               scientific_name  \\\n",
       "0                      797.0             Anopheles gambiae   \n",
       "1                     4290.0              Aquifex aeolicus   \n",
       "2                     1496.0          Arabidopsis thaliana   \n",
       "3                     4290.0             Bacillus subtilis   \n",
       "4                     4290.0  Bacteroides thetaiotaomicron   \n",
       "\n",
       "                               common_name_or_strain  \n",
       "0                           African malaria mosquito  \n",
       "1                                         strain VF5  \n",
       "2                                    Mouse-ear cress  \n",
       "3                                         strain 168  \n",
       "4  strain ATCC 29148 / DSM 2079 / NCTC 10582 / E5...  "
      ]
     },
     "execution_count": 53,
     "metadata": {},
     "output_type": "execute_result"
    }
   ],
   "source": [
    "species_metadata = pd.read_csv('/home/olga/data_sm/kmer-hashing/quest-for-orthologs/data/2019/species_metadata.csv')\n",
    "print(species_metadata.shape)\n",
    "species_metadata.head()"
   ]
  },
  {
   "cell_type": "code",
   "execution_count": 54,
   "metadata": {},
   "outputs": [
    {
     "data": {
      "text/html": [
       "<div>\n",
       "<style scoped>\n",
       "    .dataframe tbody tr th:only-of-type {\n",
       "        vertical-align: middle;\n",
       "    }\n",
       "\n",
       "    .dataframe tbody tr th {\n",
       "        vertical-align: top;\n",
       "    }\n",
       "\n",
       "    .dataframe thead th {\n",
       "        text-align: right;\n",
       "    }\n",
       "</style>\n",
       "<table border=\"1\" class=\"dataframe\">\n",
       "  <thead>\n",
       "    <tr style=\"text-align: right;\">\n",
       "      <th></th>\n",
       "      <th>proteome_id</th>\n",
       "      <th>tax_id</th>\n",
       "      <th>oscode</th>\n",
       "      <th>n_main_fasta_canonical</th>\n",
       "      <th>n_additional_fasta_isoforms</th>\n",
       "      <th>n_gene2acc</th>\n",
       "      <th>species_name</th>\n",
       "      <th>divergence_from_human_mya</th>\n",
       "      <th>scientific_name</th>\n",
       "      <th>common_name_or_strain</th>\n",
       "    </tr>\n",
       "  </thead>\n",
       "  <tbody>\n",
       "    <tr>\n",
       "      <th>6</th>\n",
       "      <td>UP000009136</td>\n",
       "      <td>9913</td>\n",
       "      <td>BOVIN</td>\n",
       "      <td>23774</td>\n",
       "      <td>14534</td>\n",
       "      <td>38438</td>\n",
       "      <td>Bos taurus (Bovine)</td>\n",
       "      <td>96.00</td>\n",
       "      <td>Bos taurus</td>\n",
       "      <td>Bovine</td>\n",
       "    </tr>\n",
       "    <tr>\n",
       "      <th>11</th>\n",
       "      <td>UP000002254</td>\n",
       "      <td>9615</td>\n",
       "      <td>CANLF</td>\n",
       "      <td>20271</td>\n",
       "      <td>5269</td>\n",
       "      <td>25631</td>\n",
       "      <td>Canis lupus familiaris (Dog) (Canis familiaris)</td>\n",
       "      <td>96.00</td>\n",
       "      <td>Canis lupus familiaris</td>\n",
       "      <td>Dog</td>\n",
       "    </tr>\n",
       "    <tr>\n",
       "      <th>28</th>\n",
       "      <td>UP000001519</td>\n",
       "      <td>9595</td>\n",
       "      <td>GORGO</td>\n",
       "      <td>21795</td>\n",
       "      <td>22932</td>\n",
       "      <td>44943</td>\n",
       "      <td>Gorilla gorilla gorilla (Western lowland gorilla)</td>\n",
       "      <td>9.06</td>\n",
       "      <td>Gorilla gorilla gorilla</td>\n",
       "      <td>Western lowland gorilla</td>\n",
       "    </tr>\n",
       "    <tr>\n",
       "      <th>32</th>\n",
       "      <td>UP000005640</td>\n",
       "      <td>9606</td>\n",
       "      <td>HUMAN</td>\n",
       "      <td>21146</td>\n",
       "      <td>74769</td>\n",
       "      <td>96332</td>\n",
       "      <td>Homo sapiens (Human)</td>\n",
       "      <td>0.00</td>\n",
       "      <td>Homo sapiens</td>\n",
       "      <td>Human</td>\n",
       "    </tr>\n",
       "    <tr>\n",
       "      <th>40</th>\n",
       "      <td>UP000002280</td>\n",
       "      <td>13616</td>\n",
       "      <td>MONDO</td>\n",
       "      <td>21276</td>\n",
       "      <td>968</td>\n",
       "      <td>22319</td>\n",
       "      <td>Monodelphis domestica (Gray short-tailed opossum)</td>\n",
       "      <td>159.00</td>\n",
       "      <td>Monodelphis domestica</td>\n",
       "      <td>Gray short-tailed opossum</td>\n",
       "    </tr>\n",
       "    <tr>\n",
       "      <th>42</th>\n",
       "      <td>UP000000589</td>\n",
       "      <td>10090</td>\n",
       "      <td>MOUSE</td>\n",
       "      <td>22287</td>\n",
       "      <td>40369</td>\n",
       "      <td>63134</td>\n",
       "      <td>Mus musculus (Mouse)</td>\n",
       "      <td>90.00</td>\n",
       "      <td>Mus musculus</td>\n",
       "      <td>Mouse</td>\n",
       "    </tr>\n",
       "    <tr>\n",
       "      <th>52</th>\n",
       "      <td>UP000002277</td>\n",
       "      <td>9598</td>\n",
       "      <td>PANTR</td>\n",
       "      <td>23006</td>\n",
       "      <td>25788</td>\n",
       "      <td>49266</td>\n",
       "      <td>Pan troglodytes (Chimpanzee)</td>\n",
       "      <td>6.70</td>\n",
       "      <td>Pan troglodytes</td>\n",
       "      <td>Chimpanzee</td>\n",
       "    </tr>\n",
       "    <tr>\n",
       "      <th>60</th>\n",
       "      <td>UP000002494</td>\n",
       "      <td>10116</td>\n",
       "      <td>RAT</td>\n",
       "      <td>21678</td>\n",
       "      <td>9885</td>\n",
       "      <td>32629</td>\n",
       "      <td>Rattus norvegicus (Rat)</td>\n",
       "      <td>90.00</td>\n",
       "      <td>Rattus norvegicus</td>\n",
       "      <td>Rat</td>\n",
       "    </tr>\n",
       "  </tbody>\n",
       "</table>\n",
       "</div>"
      ],
      "text/plain": [
       "    proteome_id  tax_id oscode  n_main_fasta_canonical  \\\n",
       "6   UP000009136    9913  BOVIN                   23774   \n",
       "11  UP000002254    9615  CANLF                   20271   \n",
       "28  UP000001519    9595  GORGO                   21795   \n",
       "32  UP000005640    9606  HUMAN                   21146   \n",
       "40  UP000002280   13616  MONDO                   21276   \n",
       "42  UP000000589   10090  MOUSE                   22287   \n",
       "52  UP000002277    9598  PANTR                   23006   \n",
       "60  UP000002494   10116    RAT                   21678   \n",
       "\n",
       "    n_additional_fasta_isoforms  n_gene2acc  \\\n",
       "6                         14534       38438   \n",
       "11                         5269       25631   \n",
       "28                        22932       44943   \n",
       "32                        74769       96332   \n",
       "40                          968       22319   \n",
       "42                        40369       63134   \n",
       "52                        25788       49266   \n",
       "60                         9885       32629   \n",
       "\n",
       "                                         species_name  \\\n",
       "6                                 Bos taurus (Bovine)   \n",
       "11    Canis lupus familiaris (Dog) (Canis familiaris)   \n",
       "28  Gorilla gorilla gorilla (Western lowland gorilla)   \n",
       "32                               Homo sapiens (Human)   \n",
       "40  Monodelphis domestica (Gray short-tailed opossum)   \n",
       "42                               Mus musculus (Mouse)   \n",
       "52                       Pan troglodytes (Chimpanzee)   \n",
       "60                            Rattus norvegicus (Rat)   \n",
       "\n",
       "    divergence_from_human_mya          scientific_name  \\\n",
       "6                       96.00               Bos taurus   \n",
       "11                      96.00   Canis lupus familiaris   \n",
       "28                       9.06  Gorilla gorilla gorilla   \n",
       "32                       0.00             Homo sapiens   \n",
       "40                     159.00    Monodelphis domestica   \n",
       "42                      90.00             Mus musculus   \n",
       "52                       6.70          Pan troglodytes   \n",
       "60                      90.00        Rattus norvegicus   \n",
       "\n",
       "        common_name_or_strain  \n",
       "6                      Bovine  \n",
       "11                        Dog  \n",
       "28    Western lowland gorilla  \n",
       "32                      Human  \n",
       "40  Gray short-tailed opossum  \n",
       "42                      Mouse  \n",
       "52                 Chimpanzee  \n",
       "60                        Rat  "
      ]
     },
     "execution_count": 54,
     "metadata": {},
     "output_type": "execute_result"
    }
   ],
   "source": [
    "species_metadata.query('divergence_from_human_mya < 200')"
   ]
  },
  {
   "cell_type": "markdown",
   "metadata": {},
   "source": [
    "# Read Busco info"
   ]
  },
  {
   "cell_type": "code",
   "execution_count": 6,
   "metadata": {},
   "outputs": [
    {
     "name": "stdout",
     "output_type": "stream",
     "text": [
      "total 5.9M\n",
      "drwxrwxr-x 2 olga czb 4.0K Nov 20  2019 \u001b[0m\u001b[01;34m.\u001b[0m/\n",
      "drwxrwxr-x 5 olga czb 4.0K Jul 15 12:57 \u001b[01;34m..\u001b[0m/\n",
      "-rwxrwxr-x 1 olga czb 5.9M Nov 20  2019 \u001b[01;32mogs.id.info\u001b[0m*\n",
      "-rwxrwxr-x 1 olga czb  602 Nov 20  2019 \u001b[01;32mspecies.info\u001b[0m*\n"
     ]
    }
   ],
   "source": [
    "ls -lha $busco_folder/info"
   ]
  },
  {
   "cell_type": "code",
   "execution_count": 16,
   "metadata": {},
   "outputs": [],
   "source": [
    "# ! head $busco_folder/*"
   ]
  },
  {
   "cell_type": "code",
   "execution_count": 8,
   "metadata": {},
   "outputs": [
    {
     "name": "stdout",
     "output_type": "stream",
     "text": [
      "==> /home/olga/data_sm/immune-evolution/databases/busco/orthodb-v10/mammalia_odb10/info/ogs.id.info <==\n",
      "34839_0:0032fe\t6011at40674\n",
      "118797_0:00467b\t6011at40674\n",
      "29078_0:0007f1\t6011at40674\n",
      "9986_0:00087d\t6011at40674\n",
      "9837_0:000f1d\t6011at40674\n",
      "9407_0:001980\t6011at40674\n",
      "9365_0:0046e6\t6011at40674\n",
      "10090_0:0016d4\t6011at40674\n",
      "9606_0:000dcb\t6011at40674\n",
      "1026970_0:0019f2\t6011at40674\n",
      "\n",
      "==> /home/olga/data_sm/immune-evolution/databases/busco/orthodb-v10/mammalia_odb10/info/species.info <==\n",
      "1026970\tNannospalax galili\n",
      "246437\tTupaia chinensis\n",
      "9837\tCamelus bactrianus\n",
      "34839\tChinchilla lanigera\n",
      "42254\tSorex araneus\n",
      "185453\tChrysochloris asiatica\n",
      "9691\tPanthera pardus\n",
      "34882\tEnhydra lutris\n",
      "89399\tRhinolophus sinicus\n",
      "73337\tCeratotherium simum simum\n"
     ]
    }
   ],
   "source": [
    "! head $busco_folder/info/*"
   ]
  },
  {
   "cell_type": "code",
   "execution_count": 12,
   "metadata": {},
   "outputs": [
    {
     "name": "stdout",
     "output_type": "stream",
     "text": [
      "9606_0:000dcb\t6011at40674\n",
      "9606_0:00163a\t187617at40674\n",
      "9606_0:0011b6\t174356at40674\n",
      "9606_0:000911\t193343at40674\n",
      "9606_0:0051a5\t117389at40674\n",
      "9606_0:00358a\t157281at40674\n",
      "9606_0:00037e\t197526at40674\n",
      "9606_0:004119\t97431at40674\n",
      "9606_0:003d9b\t106599at40674\n",
      "9606_0:000891\t24284at40674\n",
      "grep: write error: Broken pipe\n"
     ]
    }
   ],
   "source": [
    "! grep 9606 $busco_folder/info/ogs.id.info | head"
   ]
  },
  {
   "cell_type": "markdown",
   "metadata": {},
   "source": [
    "# Filter human quest for orthologs proteome for only busco mammlia genes"
   ]
  },
  {
   "cell_type": "markdown",
   "metadata": {},
   "source": [
    "## Read human Orthodb ids from quest for orthologs\n",
    "\n",
    "\n",
    "Human taxonomy id is 9606"
   ]
  },
  {
   "cell_type": "code",
   "execution_count": 21,
   "metadata": {},
   "outputs": [
    {
     "name": "stdout",
     "output_type": "stream",
     "text": [
      "-rw-r--r-- 1 olga czb  36M Apr 12  2019 /home/olga/data_sm/kmer-hashing/quest-for-orthologs/data/2019/Eukaryota/UP000005640_9606_additional.fasta\n",
      "-rw-r--r-- 1 olga czb  49M Aug 27 08:48 /home/olga/data_sm/kmer-hashing/quest-for-orthologs/data/2019/Eukaryota/UP000005640_9606__combined_with_additional.fasta\n",
      "-rw-r--r-- 1 olga czb  34M Apr 13  2019 /home/olga/data_sm/kmer-hashing/quest-for-orthologs/data/2019/Eukaryota/UP000005640_9606_DNA.fasta\n",
      "-rw-r--r-- 1 olga czb  20K Apr 13  2019 /home/olga/data_sm/kmer-hashing/quest-for-orthologs/data/2019/Eukaryota/UP000005640_9606_DNA.miss\n",
      "-rw-r--r-- 1 olga czb  14M Apr 12  2019 /home/olga/data_sm/kmer-hashing/quest-for-orthologs/data/2019/Eukaryota/UP000005640_9606.fasta\n",
      "-rw-r--r-- 1 olga czb  50K May  6  2019 /home/olga/data_sm/kmer-hashing/quest-for-orthologs/data/2019/Eukaryota/UP000005640_9606_gcoord.miss\n",
      "-rw-r--r-- 1 olga czb 964M May  6  2019 /home/olga/data_sm/kmer-hashing/quest-for-orthologs/data/2019/Eukaryota/UP000005640_9606_gcoord.xml\n",
      "-rw-r--r-- 1 olga czb 2.7M Apr 12  2019 /home/olga/data_sm/kmer-hashing/quest-for-orthologs/data/2019/Eukaryota/UP000005640_9606.gene2acc\n",
      "-rw-r--r-- 1 olga czb  67M May  3  2019 /home/olga/data_sm/kmer-hashing/quest-for-orthologs/data/2019/Eukaryota/UP000005640_9606.idmapping\n",
      "-rw-r--r-- 1 olga czb 117M May 10  2019 /home/olga/data_sm/kmer-hashing/quest-for-orthologs/data/2019/Eukaryota/UP000005640_9606.xml\n"
     ]
    }
   ],
   "source": [
    "ls -lha /home/olga/data_sm/kmer-hashing/quest-for-orthologs/data/2019/Eukaryota/*9606*"
   ]
  },
  {
   "cell_type": "code",
   "execution_count": 47,
   "metadata": {},
   "outputs": [
    {
     "name": "stdout",
     "output_type": "stream",
     "text": [
      "(22539, 3)\n"
     ]
    },
    {
     "data": {
      "text/html": [
       "<div>\n",
       "<style scoped>\n",
       "    .dataframe tbody tr th:only-of-type {\n",
       "        vertical-align: middle;\n",
       "    }\n",
       "\n",
       "    .dataframe tbody tr th {\n",
       "        vertical-align: top;\n",
       "    }\n",
       "\n",
       "    .dataframe thead th {\n",
       "        text-align: right;\n",
       "    }\n",
       "</style>\n",
       "<table border=\"1\" class=\"dataframe\">\n",
       "  <thead>\n",
       "    <tr style=\"text-align: right;\">\n",
       "      <th></th>\n",
       "      <th>source__uniprot_id</th>\n",
       "      <th>source__id_type</th>\n",
       "      <th>source__db_id</th>\n",
       "    </tr>\n",
       "  </thead>\n",
       "  <tbody>\n",
       "    <tr>\n",
       "      <th>102</th>\n",
       "      <td>P61981</td>\n",
       "      <td>OrthoDB</td>\n",
       "      <td>1176818at2759</td>\n",
       "    </tr>\n",
       "    <tr>\n",
       "      <th>200</th>\n",
       "      <td>P27348</td>\n",
       "      <td>OrthoDB</td>\n",
       "      <td>1176818at2759</td>\n",
       "    </tr>\n",
       "    <tr>\n",
       "      <th>300</th>\n",
       "      <td>P30443</td>\n",
       "      <td>OrthoDB</td>\n",
       "      <td>1390181at2759</td>\n",
       "    </tr>\n",
       "    <tr>\n",
       "      <th>357</th>\n",
       "      <td>Q96QU6</td>\n",
       "      <td>OrthoDB</td>\n",
       "      <td>1156861at2759</td>\n",
       "    </tr>\n",
       "    <tr>\n",
       "      <th>786</th>\n",
       "      <td>P10321</td>\n",
       "      <td>OrthoDB</td>\n",
       "      <td>1390181at2759</td>\n",
       "    </tr>\n",
       "  </tbody>\n",
       "</table>\n",
       "</div>"
      ],
      "text/plain": [
       "    source__uniprot_id source__id_type  source__db_id\n",
       "102             P61981         OrthoDB  1176818at2759\n",
       "200             P27348         OrthoDB  1176818at2759\n",
       "300             P30443         OrthoDB  1390181at2759\n",
       "357             Q96QU6         OrthoDB  1156861at2759\n",
       "786             P10321         OrthoDB  1390181at2759"
      ]
     },
     "execution_count": 47,
     "metadata": {},
     "output_type": "execute_result"
    }
   ],
   "source": [
    "\n",
    "qfo_eukaryota = '/home/olga/data_sm/kmer-hashing/quest-for-orthologs/data/2019/Eukaryota'\n",
    "\n",
    "def read_ids_filter_orthodb(filename):\n",
    "    df = pd.read_csv(filename, sep='\\t', header=None, names=['uniprot_id', 'id_type', 'db_id'])\n",
    "    df.columns = 'source__' + df.columns\n",
    "\n",
    "    df = df.query('source__id_type == \"OrthoDB\"')\n",
    "    return df\n",
    "    \n",
    "human_ids_orthodb = read_ids_filter_orthodb(f'{qfo_eukaryota}/UP000005640_9606.idmapping')\n",
    "print(human_ids_orthodb.shape)\n",
    "human_ids_orthodb.head()"
   ]
  },
  {
   "cell_type": "markdown",
   "metadata": {},
   "source": [
    "### Subset human uniprot ids to only busco mammalia ids"
   ]
  },
  {
   "cell_type": "code",
   "execution_count": 45,
   "metadata": {},
   "outputs": [
    {
     "data": {
      "text/html": [
       "<div>\n",
       "<style scoped>\n",
       "    .dataframe tbody tr th:only-of-type {\n",
       "        vertical-align: middle;\n",
       "    }\n",
       "\n",
       "    .dataframe tbody tr th {\n",
       "        vertical-align: top;\n",
       "    }\n",
       "\n",
       "    .dataframe thead th {\n",
       "        text-align: right;\n",
       "    }\n",
       "</style>\n",
       "<table border=\"1\" class=\"dataframe\">\n",
       "  <thead>\n",
       "    <tr style=\"text-align: right;\">\n",
       "      <th></th>\n",
       "      <th>busco_id</th>\n",
       "      <th>orthodb_id</th>\n",
       "    </tr>\n",
       "  </thead>\n",
       "  <tbody>\n",
       "    <tr>\n",
       "      <th>0</th>\n",
       "      <td>34839_0:0032fe</td>\n",
       "      <td>6011at40674</td>\n",
       "    </tr>\n",
       "    <tr>\n",
       "      <th>1</th>\n",
       "      <td>118797_0:00467b</td>\n",
       "      <td>6011at40674</td>\n",
       "    </tr>\n",
       "    <tr>\n",
       "      <th>2</th>\n",
       "      <td>29078_0:0007f1</td>\n",
       "      <td>6011at40674</td>\n",
       "    </tr>\n",
       "    <tr>\n",
       "      <th>3</th>\n",
       "      <td>9986_0:00087d</td>\n",
       "      <td>6011at40674</td>\n",
       "    </tr>\n",
       "    <tr>\n",
       "      <th>4</th>\n",
       "      <td>9837_0:000f1d</td>\n",
       "      <td>6011at40674</td>\n",
       "    </tr>\n",
       "  </tbody>\n",
       "</table>\n",
       "</div>"
      ],
      "text/plain": [
       "          busco_id   orthodb_id\n",
       "0   34839_0:0032fe  6011at40674\n",
       "1  118797_0:00467b  6011at40674\n",
       "2   29078_0:0007f1  6011at40674\n",
       "3    9986_0:00087d  6011at40674\n",
       "4    9837_0:000f1d  6011at40674"
      ]
     },
     "execution_count": 45,
     "metadata": {},
     "output_type": "execute_result"
    }
   ],
   "source": [
    "busco_mammlia_orthogroups = pd.read_csv(f'{busco_folder}/info/ogs.id.info', sep='\\t', header=None, names=['busco_id', 'orthodb_id'])\n",
    "busco_mammlia_orthogroups.head()"
   ]
  },
  {
   "cell_type": "code",
   "execution_count": 51,
   "metadata": {},
   "outputs": [
    {
     "data": {
      "text/plain": [
       "set()"
      ]
     },
     "execution_count": 51,
     "metadata": {},
     "output_type": "execute_result"
    }
   ],
   "source": [
    "set(human_ids_orthodb.source__db_id.values).intersection(busco_mammlia_orthogroups.orthodb_id.values)"
   ]
  },
  {
   "cell_type": "code",
   "execution_count": 49,
   "metadata": {},
   "outputs": [
    {
     "name": "stdout",
     "output_type": "stream",
     "text": [
      "(0, 3)\n"
     ]
    },
    {
     "data": {
      "text/html": [
       "<div>\n",
       "<style scoped>\n",
       "    .dataframe tbody tr th:only-of-type {\n",
       "        vertical-align: middle;\n",
       "    }\n",
       "\n",
       "    .dataframe tbody tr th {\n",
       "        vertical-align: top;\n",
       "    }\n",
       "\n",
       "    .dataframe thead th {\n",
       "        text-align: right;\n",
       "    }\n",
       "</style>\n",
       "<table border=\"1\" class=\"dataframe\">\n",
       "  <thead>\n",
       "    <tr style=\"text-align: right;\">\n",
       "      <th></th>\n",
       "      <th>source__uniprot_id</th>\n",
       "      <th>source__id_type</th>\n",
       "      <th>source__db_id</th>\n",
       "    </tr>\n",
       "  </thead>\n",
       "  <tbody>\n",
       "  </tbody>\n",
       "</table>\n",
       "</div>"
      ],
      "text/plain": [
       "Empty DataFrame\n",
       "Columns: [source__uniprot_id, source__id_type, source__db_id]\n",
       "Index: []"
      ]
     },
     "execution_count": 49,
     "metadata": {},
     "output_type": "execute_result"
    }
   ],
   "source": [
    "human_ids_orthodb_busco = human_ids_orthodb.query('source__db_id in @busco_mammlia_orthogroups.orthodb_id.values')\n",
    "print(human_ids_orthodb_busco.shape)\n",
    "human_ids_orthodb_busco.head()"
   ]
  },
  {
   "cell_type": "markdown",
   "metadata": {},
   "source": [
    "## Subset human fasta for only BUSCO mammalia ids"
   ]
  },
  {
   "cell_type": "code",
   "execution_count": 34,
   "metadata": {},
   "outputs": [
    {
     "name": "stdout",
     "output_type": "stream",
     "text": [
      ">tr|A0A024R1R8|A0A024R1R8_HUMAN HCG2014768, isoform CRA_a OS=Homo sapiens OX=9606 GN=hCG_2014768 PE=4 SV=1\n",
      "MSSHEGGKKKALKQPKKQAKEMDEEEKAFKQKQKEEQKKLEVLKAKVVGKGPLATGGIKK\n",
      "SGKK\n",
      ">sp|A0A024RBG1|NUD4B_HUMAN Diphosphoinositol polyphosphate phosphohydrolase NUDT4B OS=Homo sapiens OX=9606 GN=NUDT4B PE=3 SV=1\n",
      "MMKFKPNQTRTYDREGFKKRAACLCFRSEQEDEVLLVSSSRYPDQWIVPGGGMEPEEEPG\n",
      "GAAVREVYEEAGVKGKLGRLLGIFEQNQDRKHRTYVYVLTVTEILEDWEDSVNIGRKREW\n",
      "FKVEDAIKVLQCHKPVHAEYLEKLKLGCSPANGNSTVPSLPDNNALFVTAAQTSGLPSSV\n",
      "R\n",
      ">tr|A0A075B6H5|A0A075B6H5_HUMAN T cell receptor beta variable 20/OR9-2 (non-functional) (Fragment) OS=Homo sapiens OX=9606 GN=TRBV20OR9-2 PE=4 SV=1\n",
      "METVVTTLPREGGVGPSRKMLLLLLLLGPGSGLSAVVSQHPSRVICKSGTSVNIECRSLD\n"
     ]
    }
   ],
   "source": [
    "human_fasta = f'{qfo_eukaryota}/UP000005640_9606.fasta'\n",
    "! head $human_fasta"
   ]
  },
  {
   "cell_type": "code",
   "execution_count": 35,
   "metadata": {},
   "outputs": [
    {
     "name": "stdout",
     "output_type": "stream",
     "text": [
      ">sp|A0A024RBG1|NUD4B_HUMAN Diphosphoinositol polyphosphate phosphohydrolase NUDT4B OS=Homo sapiens OX=9606 GN=NUDT4B PE=3 SV=1\n",
      ">sp|A0A075B6H9|LV469_HUMAN Immunoglobulin lambda variable 4-69 OS=Homo sapiens OX=9606 GN=IGLV4-69 PE=1 SV=1\n",
      ">sp|A0A075B6I0|LV861_HUMAN Immunoglobulin lambda variable 8-61 OS=Homo sapiens OX=9606 GN=IGLV8-61 PE=3 SV=7\n",
      ">sp|A0A075B6I1|LV460_HUMAN Immunoglobulin lambda variable 4-60 OS=Homo sapiens OX=9606 GN=IGLV4-60 PE=3 SV=1\n",
      ">sp|A0A075B6I4|LVX54_HUMAN Immunoglobulin lambda variable 10-54 OS=Homo sapiens OX=9606 GN=IGLV10-54 PE=3 SV=1\n",
      ">sp|A0A075B6I9|LV746_HUMAN Immunoglobulin lambda variable 7-46 OS=Homo sapiens OX=9606 GN=IGLV7-46 PE=3 SV=4\n",
      ">sp|A0A075B6J1|LV537_HUMAN Immunoglobulin lambda variable 5-37 OS=Homo sapiens OX=9606 GN=IGLV5-37 PE=3 SV=1\n",
      ">sp|A0A075B6J6|LV322_HUMAN Immunoglobulin lambda variable 3-22 OS=Homo sapiens OX=9606 GN=IGLV3-22 PE=3 SV=1\n",
      ">sp|A0A075B6J9|LV218_HUMAN Immunoglobulin lambda variable 2-18 OS=Homo sapiens OX=9606 GN=IGLV2-18 PE=3 SV=2\n",
      ">sp|A0A075B6K0|LV316_HUMAN Immunoglobulin lambda variable 3-16 OS=Homo sapiens OX=9606 GN=IGLV3-16 PE=3 SV=2\n",
      "grep: write error: Broken pipe\n"
     ]
    }
   ],
   "source": [
    "! grep 'sp|' $human_fasta | head"
   ]
  },
  {
   "cell_type": "code",
   "execution_count": 31,
   "metadata": {},
   "outputs": [],
   "source": [
    "! grep P61981 $fasta"
   ]
  },
  {
   "cell_type": "code",
   "execution_count": 41,
   "metadata": {},
   "outputs": [
    {
     "data": {
      "text/html": [
       "<div>\n",
       "<style scoped>\n",
       "    .dataframe tbody tr th:only-of-type {\n",
       "        vertical-align: middle;\n",
       "    }\n",
       "\n",
       "    .dataframe tbody tr th {\n",
       "        vertical-align: top;\n",
       "    }\n",
       "\n",
       "    .dataframe thead th {\n",
       "        text-align: right;\n",
       "    }\n",
       "</style>\n",
       "<table border=\"1\" class=\"dataframe\">\n",
       "  <thead>\n",
       "    <tr style=\"text-align: right;\">\n",
       "      <th></th>\n",
       "      <th>source__uniprot_id</th>\n",
       "      <th>source__id_type</th>\n",
       "      <th>source__db_id</th>\n",
       "    </tr>\n",
       "  </thead>\n",
       "  <tbody>\n",
       "    <tr>\n",
       "      <th>102</th>\n",
       "      <td>P61981</td>\n",
       "      <td>OrthoDB</td>\n",
       "      <td>1176818at2759</td>\n",
       "    </tr>\n",
       "    <tr>\n",
       "      <th>200</th>\n",
       "      <td>P27348</td>\n",
       "      <td>OrthoDB</td>\n",
       "      <td>1176818at2759</td>\n",
       "    </tr>\n",
       "    <tr>\n",
       "      <th>300</th>\n",
       "      <td>P30443</td>\n",
       "      <td>OrthoDB</td>\n",
       "      <td>1390181at2759</td>\n",
       "    </tr>\n",
       "    <tr>\n",
       "      <th>357</th>\n",
       "      <td>Q96QU6</td>\n",
       "      <td>OrthoDB</td>\n",
       "      <td>1156861at2759</td>\n",
       "    </tr>\n",
       "    <tr>\n",
       "      <th>786</th>\n",
       "      <td>P10321</td>\n",
       "      <td>OrthoDB</td>\n",
       "      <td>1390181at2759</td>\n",
       "    </tr>\n",
       "  </tbody>\n",
       "</table>\n",
       "</div>"
      ],
      "text/plain": [
       "    source__uniprot_id source__id_type  source__db_id\n",
       "102             P61981         OrthoDB  1176818at2759\n",
       "200             P27348         OrthoDB  1176818at2759\n",
       "300             P30443         OrthoDB  1390181at2759\n",
       "357             Q96QU6         OrthoDB  1156861at2759\n",
       "786             P10321         OrthoDB  1390181at2759"
      ]
     },
     "execution_count": 41,
     "metadata": {},
     "output_type": "execute_result"
    }
   ],
   "source": [
    "human_ids_busco.head()"
   ]
  },
  {
   "cell_type": "code",
   "execution_count": 42,
   "metadata": {},
   "outputs": [
    {
     "data": {
      "text/plain": [
       "(22539, 3)"
      ]
     },
     "execution_count": 42,
     "metadata": {},
     "output_type": "execute_result"
    }
   ],
   "source": [
    "human_ids_busco.shape"
   ]
  },
  {
   "cell_type": "code",
   "execution_count": 43,
   "metadata": {},
   "outputs": [],
   "source": [
    "human_ids_busco.to_csv('/mnt/ibm_sm/home/olga/pipeline-results/human-simulated/busco_mammalia_human_uniprot_ids.csv', index=False)"
   ]
  },
  {
   "cell_type": "markdown",
   "metadata": {},
   "source": [
    "\n",
    "### How many fasta entries in the human proteome fasta?"
   ]
  },
  {
   "cell_type": "code",
   "execution_count": 52,
   "metadata": {},
   "outputs": [
    {
     "name": "stdout",
     "output_type": "stream",
     "text": [
      "20874\n"
     ]
    }
   ],
   "source": [
    "! grep -c '>' $human_fasta"
   ]
  },
  {
   "cell_type": "code",
   "execution_count": 36,
   "metadata": {},
   "outputs": [
    {
     "name": "stdout",
     "output_type": "stream",
     "text": [
      "18584\n"
     ]
    },
    {
     "data": {
      "text/plain": [
       "[{'name': 'sp|A0A024RBG1|NUD4B_HUMAN Diphosphoinositol polyphosphate phosphohydrolase NUDT4B OS=Homo sapiens OX=9606 GN=NUDT4B PE=3 SV=1', 'sequence': 'MMKFKPNQTRTYDREGFKKRAACLCFRSEQEDEVLLVSSSRYPDQWIVPGGGMEPEEEPGGAAVREVYEEAGVKGKLGRLLGIFEQNQDRKHRTYVYVLTVTEILEDWEDSVNIGRKREWFKVEDAIKVLQCHKPVHAEYLEKLKLGCSPANGNSTVPSLPDNNALFVTAAQTSGLPSSVR', 'description': ''},\n",
       " {'name': 'sp|A0A075B759|PAL4E_HUMAN Peptidyl-prolyl cis-trans isomerase A-like 4E OS=Homo sapiens OX=9606 GN=PPIAL4E PE=3 SV=1', 'sequence': 'MVNSVVFFEITRDGKPLGRISIKLFADKIPKTAENFRALSTGEKGFRYKGSCFHRIIPGFMCQGGDFTRPNGTGDKSIYGEKFDDENLIRKHTGSGILSMANAGPNTNGSQFFICAAKTEWLDGKHVAFGKVKERVNIVEAMEHFGYRNSKTSKKITIADCGQF', 'description': ''},\n",
       " {'name': 'sp|A0A075B767|PAL4H_HUMAN Peptidyl-prolyl cis-trans isomerase A-like 4H OS=Homo sapiens OX=9606 GN=PPIAL4H PE=3 SV=1', 'sequence': 'MVNSVVFFDITVDGKPLGRISIKLFADKIPKTAENFRALSTGEKGFRYKGSCFHRIIPGFMCQGGDFTRPNGTDDKSIYGEKFDDENLIRKHTGSGILSMVNAGPNTNGSQLFICTAKTEWLDGKHVAFGKVKERVNIVEAMEHFGYRNSKTSKKITIADCGQF', 'description': ''}]"
      ]
     },
     "execution_count": 36,
     "metadata": {},
     "output_type": "execute_result"
    }
   ],
   "source": [
    "def subset_by_uniprot_ids(fasta, uniprot_ids):\n",
    "    records_subset = []\n",
    "    with screed.open(fasta) as records:\n",
    "        for record in records:\n",
    "            name = record['name']\n",
    "            record_id = name.split()[0]\n",
    "            uniprot_id = record_id.split('|')[1]\n",
    "            if uniprot_id in uniprot_ids:\n",
    "                records_subset.append(record)\n",
    "    return records_subset\n",
    "\n",
    "            \n",
    "def write_fasta(output_fasta, records):\n",
    "    with open(output_fasta, 'w') as f:\n",
    "        for record in records:\n",
    "            f.write(\">{name}\\n{sequence}\\n\".format(**record))\n",
    "\n",
    "        \n",
    "# human fasta = protein sequences from quest for orthologs\n",
    "# human_ids_busco = \n",
    "human_busco_mammalia_records = subset_by_uniprot_ids(human_fasta, set(human_ids_busco.source__uniprot_id.values))\n",
    "print(len(human_busco_mammalia_records))\n",
    "human_busco_mammalia_records[:3]"
   ]
  },
  {
   "cell_type": "code",
   "execution_count": 37,
   "metadata": {},
   "outputs": [],
   "source": [
    "write_fasta('/home/olga/data_sm/kmer-hashing/quest-for-orthologs/data/2019/Eukaryota/UP000005640_9606__busco_mammlia_odbv10.fasta', \n",
    "            human_busco_mammalia_records)"
   ]
  },
  {
   "cell_type": "markdown",
   "metadata": {},
   "source": [
    "## Read mouse busco ids from qfo\n",
    "Mouse taxononmy id is `10090`"
   ]
  },
  {
   "cell_type": "code",
   "execution_count": 17,
   "metadata": {},
   "outputs": [
    {
     "name": "stdout",
     "output_type": "stream",
     "text": [
      "-rw-r--r-- 1 olga czb  21M Apr 11  2019 /home/olga/data_sm/kmer-hashing/quest-for-orthologs/data/2019/Eukaryota/UP000000589_10090_additional.fasta\n",
      "-rw-r--r-- 1 olga czb  35M Apr 13  2019 /home/olga/data_sm/kmer-hashing/quest-for-orthologs/data/2019/Eukaryota/UP000000589_10090_DNA.fasta\n",
      "-rw-r--r-- 1 olga czb 5.7K Apr 13  2019 /home/olga/data_sm/kmer-hashing/quest-for-orthologs/data/2019/Eukaryota/UP000000589_10090_DNA.miss\n",
      "-rw-r--r-- 1 olga czb  14M Apr 11  2019 /home/olga/data_sm/kmer-hashing/quest-for-orthologs/data/2019/Eukaryota/UP000000589_10090.fasta\n",
      "-rw-r--r-- 1 olga czb 559M May  6  2019 /home/olga/data_sm/kmer-hashing/quest-for-orthologs/data/2019/Eukaryota/UP000000589_10090_gcoord.xml\n",
      "-rw-r--r-- 1 olga czb 1.9M Apr 11  2019 /home/olga/data_sm/kmer-hashing/quest-for-orthologs/data/2019/Eukaryota/UP000000589_10090.gene2acc\n",
      "-rw-r--r-- 1 olga czb  43M May  3  2019 /home/olga/data_sm/kmer-hashing/quest-for-orthologs/data/2019/Eukaryota/UP000000589_10090.idmapping\n",
      "-rw-r--r-- 1 olga czb  98M May 10  2019 /home/olga/data_sm/kmer-hashing/quest-for-orthologs/data/2019/Eukaryota/UP000000589_10090.xml\n"
     ]
    }
   ],
   "source": [
    "ls -lha /home/olga/data_sm/kmer-hashing/quest-for-orthologs/data/2019/Eukaryota/*10090*"
   ]
  },
  {
   "cell_type": "code",
   "execution_count": 40,
   "metadata": {},
   "outputs": [
    {
     "name": "stdout",
     "output_type": "stream",
     "text": [
      ">tr|A0A075B5I0|ENSMUSP00000093010\n",
      "TCTCTCACAATAATAGTCAGCAGTGTCCTCAGATGTCAGGCTTCTGAGTTGCATGTAGGC\n",
      "TGTGTTGGAGGATGTGTCTACAGTAAATGTGGCCTTGCCTTTGAACTTCTGATTGTAGGT\n",
      "AATACCACCATTTTCAGGATGAATAGCTCCAATCCATTCCAGTCCCTGCTTCAGACTCTG\n",
      "CTTCACCCATTGAATTTCATAGTCATTAAAATTGTAGCCAGAAGCCTTGCAGGACAACTT\n",
      "CACCTAAGCCCCAGGTATTACCAGCTCTGGTCCAGACTGCTGAAGTTGGACCTG\n",
      ">tr|A0A075B5I2|ENSMUSP00000144909\n",
      "ATGGGCTGTAGGCTCCTAAGCTGTGTGGCCTTCTGCCTCTTGGGAATAGGCCCTTTGGAG\n",
      "ACGGCTGTTTTCCAGACTCCAAACTATCATGTCACACAGGTGGGAAATGAAGTGTCTTTC\n",
      "AATTGTAAGCAAACTCTGGGCCACGATACTATGTATTGGTACAAGCAAGACTCTAAGAAA\n"
     ]
    }
   ],
   "source": [
    "! head /home/olga/data_sm/kmer-hashing/quest-for-orthologs/data/2019/Eukaryota/UP000000589_10090_DNA.fasta"
   ]
  },
  {
   "cell_type": "code",
   "execution_count": 20,
   "metadata": {},
   "outputs": [
    {
     "name": "stdout",
     "output_type": "stream",
     "text": [
      "(25554, 3)\n"
     ]
    },
    {
     "data": {
      "text/html": [
       "<div>\n",
       "<style scoped>\n",
       "    .dataframe tbody tr th:only-of-type {\n",
       "        vertical-align: middle;\n",
       "    }\n",
       "\n",
       "    .dataframe tbody tr th {\n",
       "        vertical-align: top;\n",
       "    }\n",
       "\n",
       "    .dataframe thead th {\n",
       "        text-align: right;\n",
       "    }\n",
       "</style>\n",
       "<table border=\"1\" class=\"dataframe\">\n",
       "  <thead>\n",
       "    <tr style=\"text-align: right;\">\n",
       "      <th></th>\n",
       "      <th>source__uniprot_id</th>\n",
       "      <th>source__id_type</th>\n",
       "      <th>source__db_id</th>\n",
       "    </tr>\n",
       "  </thead>\n",
       "  <tbody>\n",
       "    <tr>\n",
       "      <th>50</th>\n",
       "      <td>Q9CQV8</td>\n",
       "      <td>OrthoDB</td>\n",
       "      <td>1176818at2759</td>\n",
       "    </tr>\n",
       "    <tr>\n",
       "      <th>114</th>\n",
       "      <td>O70456</td>\n",
       "      <td>OrthoDB</td>\n",
       "      <td>1176818at2759</td>\n",
       "    </tr>\n",
       "    <tr>\n",
       "      <th>210</th>\n",
       "      <td>P63101</td>\n",
       "      <td>OrthoDB</td>\n",
       "      <td>1176818at2759</td>\n",
       "    </tr>\n",
       "    <tr>\n",
       "      <th>255</th>\n",
       "      <td>A2AIG8</td>\n",
       "      <td>OrthoDB</td>\n",
       "      <td>1156861at2759</td>\n",
       "    </tr>\n",
       "    <tr>\n",
       "      <th>321</th>\n",
       "      <td>Q6ZWR4</td>\n",
       "      <td>OrthoDB</td>\n",
       "      <td>810409at2759</td>\n",
       "    </tr>\n",
       "  </tbody>\n",
       "</table>\n",
       "</div>"
      ],
      "text/plain": [
       "    source__uniprot_id source__id_type  source__db_id\n",
       "50              Q9CQV8         OrthoDB  1176818at2759\n",
       "114             O70456         OrthoDB  1176818at2759\n",
       "210             P63101         OrthoDB  1176818at2759\n",
       "255             A2AIG8         OrthoDB  1156861at2759\n",
       "321             Q6ZWR4         OrthoDB   810409at2759"
      ]
     },
     "execution_count": 20,
     "metadata": {},
     "output_type": "execute_result"
    }
   ],
   "source": [
    "mouse_ids_busco = read_ids_filter_orthodb(f'{qfo_eukaryota}/UP000000589_10090.idmapping')\n",
    "print(mouse_ids_busco.shape)\n",
    "mouse_ids_busco.head()"
   ]
  },
  {
   "cell_type": "code",
   "execution_count": 38,
   "metadata": {},
   "outputs": [
    {
     "name": "stdout",
     "output_type": "stream",
     "text": [
      "19150\n"
     ]
    },
    {
     "data": {
      "text/plain": [
       "[{'name': 'tr|A0A087WNP5|A0A087WNP5_MOUSE Predicted gene 10778 OS=Mus musculus OX=10090 GN=Gm10778 PE=1 SV=1', 'sequence': 'MDAVTYEDVYVKFTHEEWALLDPSQKSLYKDVMLETCRNLTAIGYKLQDDNIEEHCPSSRGCGRYNIYGYKPCEHKGYGKKQCTFAQKRFLQTYERICSEEKPYECNQCSKAFANFRSLQKHEKNHTREKPYECNHCGKAFPSRSALQIHQRTHTGEKPFDCSECGKAFARHSNLDIHKRTHTGEKPYDCNECGKAFSTRSHLQIHEIIHTGEKPYVCNQCGKAFAYRSNLEAHEKTHTGEKPYECNQCGNVYASRSSLRNHEKHHTGEKLYGCNQCGKAFARRSSLEIHERTHTGEKPYVCNQCCKAFARRSSLQIHERSHTGEKPYECNQCGKAFASRTSLQNHEKHHTGEKPYGCNQCDKAFELKCDLQIHERIHTGEKPYVCNQCGKAFVSRRYLRNHEKHHTLEKLYDCSQCGKSFAIFRYLQKHKKTHTGEKPYKCTHCGKAFAYRSNLYRHERSHTGEKLYECNECGKAFAYHTSLHNHKKCHIGENPYECN', 'description': ''},\n",
       " {'name': 'tr|A0A087WNQ7|A0A087WNQ7_MOUSE Small integral membrane protein 10-like 1 OS=Mus musculus OX=10090 GN=Smim10l1 PE=1 SV=1', 'sequence': 'MGPADAPSALALRAVGPAAATPYGVFCKGLSRTLLAFFELAWQLRMNFPYFYIAGSVILNIRLQGFSGNCCVFQASSRLMISLPSPFDY', 'description': ''},\n",
       " {'name': 'tr|A0A087WP21|A0A087WP21_MOUSE ABPA12 OS=Mus musculus OX=10090 GN=Scgb1b12 PE=4 SV=1', 'sequence': 'MKLAGAMVILGAALLLLTSGGDCGICPAIKEDVRLFLNGTSEAYVEYVKQYKDDPVTLENTAKIKQCVDSTLTEEDRAHATTFIEKIEASPLC', 'description': ''}]"
      ]
     },
     "execution_count": 38,
     "metadata": {},
     "output_type": "execute_result"
    }
   ],
   "source": [
    "mouse_fasta = f'{qfo_eukaryota}/UP000000589_10090.fasta'\n",
    "mouse_busco_mammalia_records = subset_by_uniprot_ids(mouse_fasta, set(mouse_ids_busco.source__uniprot_id.values))\n",
    "print(len(mouse_busco_mammalia_records))\n",
    "mouse_busco_mammalia_records[:3]"
   ]
  },
  {
   "cell_type": "code",
   "execution_count": 39,
   "metadata": {},
   "outputs": [],
   "source": [
    "write_fasta('/home/olga/data_sm/kmer-hashing/quest-for-orthologs/data/2019/Eukaryota/UP000000589_10090__busco_mammlia_odbv10.fasta', \n",
    "            mouse_busco_mammalia_records)"
   ]
  },
  {
   "cell_type": "code",
   "execution_count": 44,
   "metadata": {},
   "outputs": [
    {
     "name": "stdout",
     "output_type": "stream",
     "text": [
      ">tr|A0A087WNP5|A0A087WNP5_MOUSE Predicted gene 10778 OS=Mus musculus OX=10090 GN=Gm10778 PE=1 SV=1\n",
      "MDAVTYEDVYVKFTHEEWALLDPSQKSLYKDVMLETCRNLTAIGYKLQDDNIEEHCPSSRGCGRYNIYGYKPCEHKGYGKKQCTFAQKRFLQTYERICSEEKPYECNQCSKAFANFRSLQKHEKNHTREKPYECNHCGKAFPSRSALQIHQRTHTGEKPFDCSECGKAFARHSNLDIHKRTHTGEKPYDCNECGKAFSTRSHLQIHEIIHTGEKPYVCNQCGKAFAYRSNLEAHEKTHTGEKPYECNQCGNVYASRSSLRNHEKHHTGEKLYGCNQCGKAFARRSSLEIHERTHTGEKPYVCNQCCKAFARRSSLQIHERSHTGEKPYECNQCGKAFASRTSLQNHEKHHTGEKPYGCNQCDKAFELKCDLQIHERIHTGEKPYVCNQCGKAFVSRRYLRNHEKHHTLEKLYDCSQCGKSFAIFRYLQKHKKTHTGEKPYKCTHCGKAFAYRSNLYRHERSHTGEKLYECNECGKAFAYHTSLHNHKKCHIGENPYECN\n",
      ">tr|A0A087WNQ7|A0A087WNQ7_MOUSE Small integral membrane protein 10-like 1 OS=Mus musculus OX=10090 GN=Smim10l1 PE=1 SV=1\n",
      "MGPADAPSALALRAVGPAAATPYGVFCKGLSRTLLAFFELAWQLRMNFPYFYIAGSVILNIRLQGFSGNCCVFQASSRLMISLPSPFDY\n",
      ">tr|A0A087WP21|A0A087WP21_MOUSE ABPA12 OS=Mus musculus OX=10090 GN=Scgb1b12 PE=4 SV=1\n",
      "MKLAGAMVILGAALLLLTSGGDCGICPAIKEDVRLFLNGTSEAYVEYVKQYKDDPVTLENTAKIKQCVDSTLTEEDRAHATTFIEKIEASPLC\n",
      ">tr|A0A087WP46|A0A087WP46_MOUSE cDNA sequence BC034090 OS=Mus musculus OX=10090 GN=BC034090 PE=1 SV=1\n",
      "MEGMEAAAKPARRSQASRPGSTTSPTQVTPAMARDGAEQPDSGPLPRPSPCPQEDRASNLMPPKPPRTWGLQLQGPSVLESKVKALKEKMTAGKQGTDPRPTSYERPSPTKSKCHQVKTGVAWSLPDALVVPHAQNPNDGHLARHVNEKKPARNSGSKPSTPESWNEQSPWSPEAVWMPADHEEDPVAGSGSLQESPNNRVSAVQPQRPGPCKTTPLSSQKKRRQYPLGDGIVTKEDLDSTTLTSKEDLIPRTDQPETFWRAQGLEALGSVANALSLSDRVERNRLLLQEILKVSRQSPPKAGSPDWTSWDRDASERPAGDVDWDSGTPQQDSGQSRTFVPKLEPTLSARHEEAKNLLRRARMKAKTQPLRASHDIVPTIAQGCRNGQRSPAPELRTTSAYRENLQNGNLNDPSSIESSNGQWPKQEMPLSHVRFEDESAHEAEFRYLDRLQQRQRQVLSTVLHAVDQGPLRSKPDLTNYINRIVGNSSFHRAVGCLDQSNFPVPPPPWDNERKCPACGSCLEERCPAEERAASDLRVLRSLQAACEAEAVLLGPCNSHGLSSPFPGLHTEWIRETHITDTVATHPEEEEDSALDSTHSSDSWKDGTDARTSQSSRAGEQIRVSSPQQRWHGSRPQGGPRWSRKAEAELPCGLQAWSHLPQLDDGVVGGEGREASGHIPQGTLFPEEDAVPKPALEPKRPWSQGQLGPRSGSHCAHPEDCRSPCRTAYAVPFSKTRGSSGSGQPPDQVPESHESLKTLCTSPLQRSHEEPSAPLPASQSTLTLPEEVPTPPSLRKSLCPMPPRKSVQKGHHWQEHQAEHMDSPLPVSPPRTVVLTRPQPQPCSPQVKHPLLDLFNNNSSSSIPLGLQGPSGVAVHRNRSEKDQCCQEPVLPLESNGDGTLQDSLQSVDIATVNSTAITLALTSEEPERSQEWGGGSQRTGSSSGGHVPTGASLEASAGHRSPSSTHSDGNKKRRSSITSALGLKKLFSALGHTPQPRLGPSRSYSVEQLQPSALAPQTSTPKVKRAPSLQTLHLVSSSHQHRRATSFQNLHSLLGGKGDRSSLYLVEGSGDSSGPSRPAKAFPHRALSVEDVGAPSLARTVGRVVEVFPDGTSQLQLQRPPKGTFGFHVAHGSGRRDSGLYVQAMADLDTAKLYSGLLRVGDEILEVGGAKVAGLGLAHIKELLAHAESLSIRVLRQRPVPQ\n",
      ">tr|A0A087WP50|A0A087WP50_MOUSE ABPA15_a17 OS=Mus musculus OX=10090 GN=Scgb1b17 PE=4 SV=1\n",
      "MMLAGAVVIFGVALLLLSSWGDCGICPAMKEDVHLFLNGTSEEYVEYVKQYKDDPEILENTEKIKQCVDSTLMEEDKAHANGFIEKIEASPLC\n"
     ]
    }
   ],
   "source": [
    "! head '/home/olga/data_sm/kmer-hashing/quest-for-orthologs/data/2019/Eukaryota/UP000000589_10090__busco_mammlia_odbv10.fasta'"
   ]
  }
 ],
 "metadata": {
  "kernelspec": {
   "display_name": "Python 3",
   "language": "python",
   "name": "python3"
  },
  "language_info": {
   "codemirror_mode": {
    "name": "ipython",
    "version": 3
   },
   "file_extension": ".py",
   "mimetype": "text/x-python",
   "name": "python",
   "nbconvert_exporter": "python",
   "pygments_lexer": "ipython3",
   "version": "3.6.10"
  }
 },
 "nbformat": 4,
 "nbformat_minor": 4
}
