{
 "cells": [
  {
   "cell_type": "markdown",
   "id": "challenging-cooling",
   "metadata": {},
   "source": [
    "# Goal for how to organize the signatures\n",
    "\n",
    "Copy all ribosomal-removed signatures to these subfolders\n",
    "\n",
    "\n",
    "Using `DNA`, `protein`, and `dayhoff` for shorthand now. In reality would use the full sketch id, e.g. `alphabet-DNA__ksize-21__scaled-10`\n",
    "\n",
    "```\n",
    "mouse2mouse/\n",
    "    self2self-bootstrapped/\n",
    "        0--train-mouse1-single-cells/\n",
    "            iteration-00/\n",
    "                DNA/\n",
    "                protein/\n",
    "                dayhoff/\n",
    "            iteration-01/\n",
    "                ...\n",
    "        1--test-mouse1-single-cells/\n",
    "            iteration-00/\n",
    "                DNA/\n",
    "                protein/\n",
    "                dayhoff/\n",
    "            iteration-01/\n",
    "                ...                \n",
    "        2--train-mouse1-merged-celltype-sigs/\n",
    "            iteration-00/\n",
    "                DNA/\n",
    "                protein/\n",
    "                dayhoff/\n",
    "            iteration-01/\n",
    "                ...\n",
    "        3--train-mouse1-celltype-remove-common-kmers/\n",
    "            iteration-00/\n",
    "                DNA/\n",
    "                protein/\n",
    "                dayhoff/\n",
    "            iteration-01/\n",
    "                ...\n",
    "        4--train-mouse1--celltype-sbt-dbs/\n",
    "            iteration-00/\n",
    "                DNA/\n",
    "                protein/\n",
    "                dayhoff/\n",
    "            iteration-01/\n",
    "                ...\n",
    "        5--search-results/\n",
    "            iteration-00/\n",
    "                DNA/\n",
    "                protein/\n",
    "                dayhoff/\n",
    "            iteration-00/\n",
    "                ...\n",
    "    mouse1-mouse2/\n",
    "        0--train-mouse1-single-cells/\n",
    "            DNA/\n",
    "            protein/\n",
    "            dayhoff/\n",
    "        1--test-mouse2-single-cells/\n",
    "            DNA/\n",
    "            protein/\n",
    "            dayhoff/\n",
    "        2--train-mouse1-merged-celltype-sigs/\n",
    "            DNA/\n",
    "            protein/\n",
    "            dayhoff/\n",
    "        3--train-mouse1-celltype-remove-common-kmers/\n",
    "            DNA/\n",
    "            protein/\n",
    "            dayhoff/\n",
    "        4--train-mouse1-celltype-sbt-dbs/\n",
    "            DNA/\n",
    "            protein/\n",
    "            dayhoff\n",
    "        5--search-results/\n",
    "            DNA/\n",
    "            protein/\n",
    "            dayhoff/\n",
    "train-mouse/\n",
    "    0--protein-coding-fastas/\n",
    "        nucleotide/\n",
    "        peptide/\n",
    "    1--single-cell-sigs/\n",
    "        DNA/\n",
    "        protein/\n",
    "        dayhoff/\n",
    "    2--merged-celltype-sigs/\n",
    "        DNA/\n",
    "        protein/\n",
    "        dayhoff/\n",
    "    3--celltype-remove-common-kmers/\n",
    "        DNA/\n",
    "        protein/\n",
    "        dayhoff/\n",
    "    4--celltype-sbt-dbs/\n",
    "        DNA/\n",
    "        protein/\n",
    "        dayhoff/\n",
    "test-human/\n",
    "    0--protein-coding-fastas/\n",
    "        nucleotide/\n",
    "        peptide/\n",
    "    1--single-cell-sigs/\n",
    "        DNA/\n",
    "        protein/\n",
    "        dayhoff/\n",
    "    2--mouse-search-results/\n",
    "        DNA/\n",
    "        protein/\n",
    "        dayhoffl\n",
    "test-lemur/\n",
    "    0--protein-coding-fastas/\n",
    "        nucleotide/\n",
    "        peptide/\n",
    "    1--single-cell-sigs/\n",
    "        protein/\n",
    "        dayhoff/\n",
    "    2--mouse-search-results/\n",
    "        DNA/\n",
    "        protein/\n",
    "        dayhoff/\n",
    "test-bat/\n",
    "    0--protein-coding-fastas/\n",
    "        nucleotide/\n",
    "        peptide/\n",
    "    1--single-cell-sigs/\n",
    "        protein/\n",
    "        dayhoff/\n",
    "    2--mouse-search-results/\n",
    "        DNA/\n",
    "        protein/\n",
    "        dayhoff/\n",
    "```"
   ]
  },
  {
   "cell_type": "markdown",
   "id": "funny-price",
   "metadata": {},
   "source": [
    "# Imports"
   ]
  },
  {
   "cell_type": "code",
   "execution_count": 119,
   "id": "logical-material",
   "metadata": {},
   "outputs": [
    {
     "name": "stdout",
     "output_type": "stream",
     "text": [
      "The autoreload extension is already loaded. To reload it, use:\n",
      "  %reload_ext autoreload\n"
     ]
    }
   ],
   "source": [
    "import glob\n",
    "import os\n",
    "import re\n",
    "import shutil\n",
    "\n",
    "import pandas as pd\n",
    "import scanpy as sc\n",
    "import sig_utils\n",
    "from joblib import Parallel, delayed\n",
    "import seaborn as sns\n",
    "from sklearn.model_selection import RepeatedStratifiedKFold, StratifiedKFold\n",
    "from tqdm import tqdm\n",
    "\n",
    "pd.options.display.max_rows = 500\n",
    "\n",
    "%load_ext autoreload\n",
    "%autoreload 2"
   ]
  },
  {
   "cell_type": "markdown",
   "id": "electoral-administrator",
   "metadata": {},
   "source": [
    "## Def Describe"
   ]
  },
  {
   "cell_type": "code",
   "execution_count": 16,
   "id": "informational-angola",
   "metadata": {},
   "outputs": [
    {
     "name": "stdout",
     "output_type": "stream",
     "text": [
      "Overwriting pandas_utils.py\n"
     ]
    }
   ],
   "source": [
    "%%file pandas_utils.py\n",
    "\n",
    "def describe(df, random=False):\n",
    "    print(df.shape)\n",
    "    print(\"--- First 5 entries ---\")\n",
    "    display(df.head())\n",
    "    if random:\n",
    "        print('--- Random subset ---')\n",
    "        display(df.sample(5))"
   ]
  },
  {
   "cell_type": "code",
   "execution_count": 17,
   "id": "bridal-river",
   "metadata": {},
   "outputs": [],
   "source": [
    "from pandas_utils import describe"
   ]
  },
  {
   "cell_type": "markdown",
   "id": "occupied-blade",
   "metadata": {},
   "source": [
    "## Read one2one h5ad"
   ]
  },
  {
   "cell_type": "code",
   "execution_count": 18,
   "id": "focal-current",
   "metadata": {},
   "outputs": [
    {
     "name": "stdout",
     "output_type": "stream",
     "text": [
      "AnnData object with n_obs × n_vars = 126745 × 10560\n",
      "    obs: 'index', 'age', 'cell_barcode', 'cell_ontology_class', 'cell_ontology_id', 'channel', 'free_annotation', 'individual', 'sample', 'sequencing_run', 'sex', 'species', 'species_batch', 'species_latin', 'tissue', 'narrow_group', 'broad_group', 'compartment_group', 'compartment_narrow', 'channel_cleaned', 'batch', 'n_genes', 'n_counts', 'species_batch_v2', 'compartment_broad', 'compartment_broad_narrow', 'compartment_species', 'compartment_narrow_species', 'common_individual_id'\n",
      "    var: 'bat__gene_name', 'mouse_lemur__gene_name-bat', 'mouse__gene_name-bat', 'mouse_lemur__gene_name_x-hlm', 'mouse__gene_name_x-hlm', 'gene_ids-lemur-hlm', 'n_cells-mouse-hlm', 'mouse_lemur__gene_name_y-hlm', 'mouse__gene_name_y-hlm'\n"
     ]
    },
    {
     "data": {
      "text/html": [
       "<div>\n",
       "<style scoped>\n",
       "    .dataframe tbody tr th:only-of-type {\n",
       "        vertical-align: middle;\n",
       "    }\n",
       "\n",
       "    .dataframe tbody tr th {\n",
       "        vertical-align: top;\n",
       "    }\n",
       "\n",
       "    .dataframe thead th {\n",
       "        text-align: right;\n",
       "    }\n",
       "</style>\n",
       "<table border=\"1\" class=\"dataframe\">\n",
       "  <thead>\n",
       "    <tr style=\"text-align: right;\">\n",
       "      <th></th>\n",
       "      <th>index</th>\n",
       "      <th>age</th>\n",
       "      <th>cell_barcode</th>\n",
       "      <th>cell_ontology_class</th>\n",
       "      <th>cell_ontology_id</th>\n",
       "      <th>channel</th>\n",
       "      <th>free_annotation</th>\n",
       "      <th>individual</th>\n",
       "      <th>sample</th>\n",
       "      <th>sequencing_run</th>\n",
       "      <th>...</th>\n",
       "      <th>channel_cleaned</th>\n",
       "      <th>batch</th>\n",
       "      <th>n_genes</th>\n",
       "      <th>n_counts</th>\n",
       "      <th>species_batch_v2</th>\n",
       "      <th>compartment_broad</th>\n",
       "      <th>compartment_broad_narrow</th>\n",
       "      <th>compartment_species</th>\n",
       "      <th>compartment_narrow_species</th>\n",
       "      <th>common_individual_id</th>\n",
       "    </tr>\n",
       "    <tr>\n",
       "      <th>cell_id</th>\n",
       "      <th></th>\n",
       "      <th></th>\n",
       "      <th></th>\n",
       "      <th></th>\n",
       "      <th></th>\n",
       "      <th></th>\n",
       "      <th></th>\n",
       "      <th></th>\n",
       "      <th></th>\n",
       "      <th></th>\n",
       "      <th></th>\n",
       "      <th></th>\n",
       "      <th></th>\n",
       "      <th></th>\n",
       "      <th></th>\n",
       "      <th></th>\n",
       "      <th></th>\n",
       "      <th></th>\n",
       "      <th></th>\n",
       "      <th></th>\n",
       "      <th></th>\n",
       "    </tr>\n",
       "  </thead>\n",
       "  <tbody>\n",
       "    <tr>\n",
       "      <th>P2_1__AAACCTGAGAAACCAT</th>\n",
       "      <td>P2_1_AAACCTGAGAAACCAT-human-hlm</td>\n",
       "      <td>46y</td>\n",
       "      <td>AAACCTGAGAAACCAT</td>\n",
       "      <td>capillary endothelial cell</td>\n",
       "      <td>nan</td>\n",
       "      <td>P2_1</td>\n",
       "      <td>Capillary Aerocyte</td>\n",
       "      <td>patient_2</td>\n",
       "      <td>distal 2</td>\n",
       "      <td>180607_A00111_0155_BHFCWYDMXX</td>\n",
       "      <td>...</td>\n",
       "      <td>P2_1</td>\n",
       "      <td>NaN</td>\n",
       "      <td>NaN</td>\n",
       "      <td>NaN</td>\n",
       "      <td>hlm</td>\n",
       "      <td>endothelial: Capillary</td>\n",
       "      <td>endothelial: Capillary: Capillary Aerocyte</td>\n",
       "      <td>endothelial: human</td>\n",
       "      <td>endothelial: Capillary Aerocyte: human</td>\n",
       "      <td>human_patient_2</td>\n",
       "    </tr>\n",
       "    <tr>\n",
       "      <th>P2_1__AAATGCCAGATGAGAG</th>\n",
       "      <td>P2_1_AAATGCCAGATGAGAG-human-hlm</td>\n",
       "      <td>46y</td>\n",
       "      <td>AAATGCCAGATGAGAG</td>\n",
       "      <td>capillary endothelial cell</td>\n",
       "      <td>nan</td>\n",
       "      <td>P2_1</td>\n",
       "      <td>Capillary Aerocyte</td>\n",
       "      <td>patient_2</td>\n",
       "      <td>distal 2</td>\n",
       "      <td>180607_A00111_0155_BHFCWYDMXX</td>\n",
       "      <td>...</td>\n",
       "      <td>P2_1</td>\n",
       "      <td>NaN</td>\n",
       "      <td>NaN</td>\n",
       "      <td>NaN</td>\n",
       "      <td>hlm</td>\n",
       "      <td>endothelial: Capillary</td>\n",
       "      <td>endothelial: Capillary: Capillary Aerocyte</td>\n",
       "      <td>endothelial: human</td>\n",
       "      <td>endothelial: Capillary Aerocyte: human</td>\n",
       "      <td>human_patient_2</td>\n",
       "    </tr>\n",
       "    <tr>\n",
       "      <th>P2_1__AACACGTTCGATCCCT</th>\n",
       "      <td>P2_1_AACACGTTCGATCCCT-human-hlm</td>\n",
       "      <td>46y</td>\n",
       "      <td>AACACGTTCGATCCCT</td>\n",
       "      <td>capillary endothelial cell</td>\n",
       "      <td>nan</td>\n",
       "      <td>P2_1</td>\n",
       "      <td>Capillary Aerocyte</td>\n",
       "      <td>patient_2</td>\n",
       "      <td>distal 2</td>\n",
       "      <td>180607_A00111_0155_BHFCWYDMXX</td>\n",
       "      <td>...</td>\n",
       "      <td>P2_1</td>\n",
       "      <td>NaN</td>\n",
       "      <td>NaN</td>\n",
       "      <td>NaN</td>\n",
       "      <td>hlm</td>\n",
       "      <td>endothelial: Capillary</td>\n",
       "      <td>endothelial: Capillary: Capillary Aerocyte</td>\n",
       "      <td>endothelial: human</td>\n",
       "      <td>endothelial: Capillary Aerocyte: human</td>\n",
       "      <td>human_patient_2</td>\n",
       "    </tr>\n",
       "    <tr>\n",
       "      <th>P2_1__AACACGTTCGCACTCT</th>\n",
       "      <td>P2_1_AACACGTTCGCACTCT-human-hlm</td>\n",
       "      <td>46y</td>\n",
       "      <td>AACACGTTCGCACTCT</td>\n",
       "      <td>capillary endothelial cell</td>\n",
       "      <td>nan</td>\n",
       "      <td>P2_1</td>\n",
       "      <td>Capillary Aerocyte</td>\n",
       "      <td>patient_2</td>\n",
       "      <td>distal 2</td>\n",
       "      <td>180607_A00111_0155_BHFCWYDMXX</td>\n",
       "      <td>...</td>\n",
       "      <td>P2_1</td>\n",
       "      <td>NaN</td>\n",
       "      <td>NaN</td>\n",
       "      <td>NaN</td>\n",
       "      <td>hlm</td>\n",
       "      <td>endothelial: Capillary</td>\n",
       "      <td>endothelial: Capillary: Capillary Aerocyte</td>\n",
       "      <td>endothelial: human</td>\n",
       "      <td>endothelial: Capillary Aerocyte: human</td>\n",
       "      <td>human_patient_2</td>\n",
       "    </tr>\n",
       "    <tr>\n",
       "      <th>P2_1__AACCATGCAGCTCGCA</th>\n",
       "      <td>P2_1_AACCATGCAGCTCGCA-human-hlm</td>\n",
       "      <td>46y</td>\n",
       "      <td>AACCATGCAGCTCGCA</td>\n",
       "      <td>capillary endothelial cell</td>\n",
       "      <td>nan</td>\n",
       "      <td>P2_1</td>\n",
       "      <td>Capillary Aerocyte</td>\n",
       "      <td>patient_2</td>\n",
       "      <td>distal 2</td>\n",
       "      <td>180607_A00111_0155_BHFCWYDMXX</td>\n",
       "      <td>...</td>\n",
       "      <td>P2_1</td>\n",
       "      <td>NaN</td>\n",
       "      <td>NaN</td>\n",
       "      <td>NaN</td>\n",
       "      <td>hlm</td>\n",
       "      <td>endothelial: Capillary</td>\n",
       "      <td>endothelial: Capillary: Capillary Aerocyte</td>\n",
       "      <td>endothelial: human</td>\n",
       "      <td>endothelial: Capillary Aerocyte: human</td>\n",
       "      <td>human_patient_2</td>\n",
       "    </tr>\n",
       "  </tbody>\n",
       "</table>\n",
       "<p>5 rows × 29 columns</p>\n",
       "</div>"
      ],
      "text/plain": [
       "                                                  index  age  \\\n",
       "cell_id                                                        \n",
       "P2_1__AAACCTGAGAAACCAT  P2_1_AAACCTGAGAAACCAT-human-hlm  46y   \n",
       "P2_1__AAATGCCAGATGAGAG  P2_1_AAATGCCAGATGAGAG-human-hlm  46y   \n",
       "P2_1__AACACGTTCGATCCCT  P2_1_AACACGTTCGATCCCT-human-hlm  46y   \n",
       "P2_1__AACACGTTCGCACTCT  P2_1_AACACGTTCGCACTCT-human-hlm  46y   \n",
       "P2_1__AACCATGCAGCTCGCA  P2_1_AACCATGCAGCTCGCA-human-hlm  46y   \n",
       "\n",
       "                            cell_barcode         cell_ontology_class  \\\n",
       "cell_id                                                                \n",
       "P2_1__AAACCTGAGAAACCAT  AAACCTGAGAAACCAT  capillary endothelial cell   \n",
       "P2_1__AAATGCCAGATGAGAG  AAATGCCAGATGAGAG  capillary endothelial cell   \n",
       "P2_1__AACACGTTCGATCCCT  AACACGTTCGATCCCT  capillary endothelial cell   \n",
       "P2_1__AACACGTTCGCACTCT  AACACGTTCGCACTCT  capillary endothelial cell   \n",
       "P2_1__AACCATGCAGCTCGCA  AACCATGCAGCTCGCA  capillary endothelial cell   \n",
       "\n",
       "                       cell_ontology_id channel     free_annotation  \\\n",
       "cell_id                                                               \n",
       "P2_1__AAACCTGAGAAACCAT              nan    P2_1  Capillary Aerocyte   \n",
       "P2_1__AAATGCCAGATGAGAG              nan    P2_1  Capillary Aerocyte   \n",
       "P2_1__AACACGTTCGATCCCT              nan    P2_1  Capillary Aerocyte   \n",
       "P2_1__AACACGTTCGCACTCT              nan    P2_1  Capillary Aerocyte   \n",
       "P2_1__AACCATGCAGCTCGCA              nan    P2_1  Capillary Aerocyte   \n",
       "\n",
       "                       individual    sample                 sequencing_run  \\\n",
       "cell_id                                                                      \n",
       "P2_1__AAACCTGAGAAACCAT  patient_2  distal 2  180607_A00111_0155_BHFCWYDMXX   \n",
       "P2_1__AAATGCCAGATGAGAG  patient_2  distal 2  180607_A00111_0155_BHFCWYDMXX   \n",
       "P2_1__AACACGTTCGATCCCT  patient_2  distal 2  180607_A00111_0155_BHFCWYDMXX   \n",
       "P2_1__AACACGTTCGCACTCT  patient_2  distal 2  180607_A00111_0155_BHFCWYDMXX   \n",
       "P2_1__AACCATGCAGCTCGCA  patient_2  distal 2  180607_A00111_0155_BHFCWYDMXX   \n",
       "\n",
       "                        ... channel_cleaned batch n_genes n_counts  \\\n",
       "cell_id                 ...                                          \n",
       "P2_1__AAACCTGAGAAACCAT  ...            P2_1   NaN     NaN      NaN   \n",
       "P2_1__AAATGCCAGATGAGAG  ...            P2_1   NaN     NaN      NaN   \n",
       "P2_1__AACACGTTCGATCCCT  ...            P2_1   NaN     NaN      NaN   \n",
       "P2_1__AACACGTTCGCACTCT  ...            P2_1   NaN     NaN      NaN   \n",
       "P2_1__AACCATGCAGCTCGCA  ...            P2_1   NaN     NaN      NaN   \n",
       "\n",
       "                       species_batch_v2       compartment_broad  \\\n",
       "cell_id                                                           \n",
       "P2_1__AAACCTGAGAAACCAT              hlm  endothelial: Capillary   \n",
       "P2_1__AAATGCCAGATGAGAG              hlm  endothelial: Capillary   \n",
       "P2_1__AACACGTTCGATCCCT              hlm  endothelial: Capillary   \n",
       "P2_1__AACACGTTCGCACTCT              hlm  endothelial: Capillary   \n",
       "P2_1__AACCATGCAGCTCGCA              hlm  endothelial: Capillary   \n",
       "\n",
       "                                          compartment_broad_narrow  \\\n",
       "cell_id                                                              \n",
       "P2_1__AAACCTGAGAAACCAT  endothelial: Capillary: Capillary Aerocyte   \n",
       "P2_1__AAATGCCAGATGAGAG  endothelial: Capillary: Capillary Aerocyte   \n",
       "P2_1__AACACGTTCGATCCCT  endothelial: Capillary: Capillary Aerocyte   \n",
       "P2_1__AACACGTTCGCACTCT  endothelial: Capillary: Capillary Aerocyte   \n",
       "P2_1__AACCATGCAGCTCGCA  endothelial: Capillary: Capillary Aerocyte   \n",
       "\n",
       "                       compartment_species  \\\n",
       "cell_id                                      \n",
       "P2_1__AAACCTGAGAAACCAT  endothelial: human   \n",
       "P2_1__AAATGCCAGATGAGAG  endothelial: human   \n",
       "P2_1__AACACGTTCGATCCCT  endothelial: human   \n",
       "P2_1__AACACGTTCGCACTCT  endothelial: human   \n",
       "P2_1__AACCATGCAGCTCGCA  endothelial: human   \n",
       "\n",
       "                                    compartment_narrow_species  \\\n",
       "cell_id                                                          \n",
       "P2_1__AAACCTGAGAAACCAT  endothelial: Capillary Aerocyte: human   \n",
       "P2_1__AAATGCCAGATGAGAG  endothelial: Capillary Aerocyte: human   \n",
       "P2_1__AACACGTTCGATCCCT  endothelial: Capillary Aerocyte: human   \n",
       "P2_1__AACACGTTCGCACTCT  endothelial: Capillary Aerocyte: human   \n",
       "P2_1__AACCATGCAGCTCGCA  endothelial: Capillary Aerocyte: human   \n",
       "\n",
       "                       common_individual_id  \n",
       "cell_id                                      \n",
       "P2_1__AAACCTGAGAAACCAT      human_patient_2  \n",
       "P2_1__AAATGCCAGATGAGAG      human_patient_2  \n",
       "P2_1__AACACGTTCGATCCCT      human_patient_2  \n",
       "P2_1__AACACGTTCGCACTCT      human_patient_2  \n",
       "P2_1__AACCATGCAGCTCGCA      human_patient_2  \n",
       "\n",
       "[5 rows x 29 columns]"
      ]
     },
     "execution_count": 18,
     "metadata": {},
     "output_type": "execute_result"
    }
   ],
   "source": [
    "adata = sc.read(\n",
    "#     \"/home/phoenix/data_sm/code/immune-evolution/h5ads/human-lemur-mouse-bat__lung_only_copy.h5ad\"\n",
    "    \"/home/olga/data_sm/immune-evolution/h5ads/human-lemur-mouse-bat/human-lemur-mouse-bat__lung_only.h5ad\"\n",
    ")\n",
    "adata.obs = adata.obs.reset_index().set_index('cell_id')\n",
    "print(adata)\n",
    "adata.obs.head()"
   ]
  },
  {
   "cell_type": "code",
   "execution_count": 19,
   "id": "changed-general",
   "metadata": {},
   "outputs": [
    {
     "data": {
      "text/plain": [
       "Human          57353\n",
       "Mouse lemur    36934\n",
       "Mouse          23802\n",
       "Bat             8656\n",
       "Name: species, dtype: int64"
      ]
     },
     "execution_count": 19,
     "metadata": {},
     "output_type": "execute_result"
    }
   ],
   "source": [
    "adata.obs.species.value_counts()"
   ]
  },
  {
   "cell_type": "code",
   "execution_count": 20,
   "id": "involved-corps",
   "metadata": {},
   "outputs": [
    {
     "data": {
      "text/plain": [
       "age  channel           \n",
       "18m  MACA_18m_F_LUNG_50     320\n",
       "     MACA_18m_F_LUNG_51    1138\n",
       "     MACA_18m_M_LUNG_52    1573\n",
       "     MACA_18m_M_LUNG_53    1256\n",
       "21m  MACA_21m_F_LUNG_54    1312\n",
       "     MACA_21m_F_LUNG_55    1526\n",
       "30m  10X_P1_6              7728\n",
       "     10X_P1_14             1565\n",
       "     10X_P2_5               920\n",
       "     10X_P3_0               496\n",
       "1m   10X_P5_13             1043\n",
       "     10X_P5_14             1384\n",
       "3m   10X_P7_8               348\n",
       "     10X_P7_9               979\n",
       "     10X_P8_12              578\n",
       "     10X_P8_13             1636\n",
       "dtype: int64"
      ]
     },
     "execution_count": 20,
     "metadata": {},
     "output_type": "execute_result"
    }
   ],
   "source": [
    "adata.obs.query('species == \"Mouse\"').groupby([\"age\", \"channel\"], observed=True).size()"
   ]
  },
  {
   "cell_type": "markdown",
   "id": "internal-excitement",
   "metadata": {},
   "source": [
    "## Set shared celltypes"
   ]
  },
  {
   "cell_type": "code",
   "execution_count": 21,
   "id": "featured-reconstruction",
   "metadata": {},
   "outputs": [
    {
     "data": {
      "text/plain": [
       "10"
      ]
     },
     "execution_count": 21,
     "metadata": {},
     "output_type": "execute_result"
    }
   ],
   "source": [
    "SHARED_CELLTYPES = ['Alveolar Epithelial Type 2',\n",
    " 'B cell',\n",
    " 'Capillary',\n",
    " 'Dendritic',\n",
    " 'Fibroblast',\n",
    " 'Macrophage',\n",
    " 'Monocyte',\n",
    " 'Natural Killer T cell',\n",
    " 'Smooth Muscle and Myofibroblast',\n",
    " 'T cell']\n",
    "len(SHARED_CELLTYPES)"
   ]
  },
  {
   "cell_type": "code",
   "execution_count": 22,
   "id": "enormous-tuesday",
   "metadata": {},
   "outputs": [
    {
     "name": "stderr",
     "output_type": "stream",
     "text": [
      "/home/olga/miniconda3/envs/immune-evolution/lib/python3.7/site-packages/anndata/_core/anndata.py:1094: FutureWarning: is_categorical is deprecated and will be removed in a future version.  Use is_categorical_dtype instead\n",
      "  if not is_categorical(df_full[k]):\n"
     ]
    },
    {
     "data": {
      "text/plain": [
       "View of AnnData object with n_obs × n_vars = 89795 × 10560\n",
       "    obs: 'index', 'age', 'cell_barcode', 'cell_ontology_class', 'cell_ontology_id', 'channel', 'free_annotation', 'individual', 'sample', 'sequencing_run', 'sex', 'species', 'species_batch', 'species_latin', 'tissue', 'narrow_group', 'broad_group', 'compartment_group', 'compartment_narrow', 'channel_cleaned', 'batch', 'n_genes', 'n_counts', 'species_batch_v2', 'compartment_broad', 'compartment_broad_narrow', 'compartment_species', 'compartment_narrow_species', 'common_individual_id'\n",
       "    var: 'bat__gene_name', 'mouse_lemur__gene_name-bat', 'mouse__gene_name-bat', 'mouse_lemur__gene_name_x-hlm', 'mouse__gene_name_x-hlm', 'gene_ids-lemur-hlm', 'n_cells-mouse-hlm', 'mouse_lemur__gene_name_y-hlm', 'mouse__gene_name_y-hlm'"
      ]
     },
     "execution_count": 22,
     "metadata": {},
     "output_type": "execute_result"
    }
   ],
   "source": [
    "adata_shared = adata[adata.obs.broad_group.isin(SHARED_CELLTYPES)]\n",
    "adata_shared"
   ]
  },
  {
   "cell_type": "code",
   "execution_count": 23,
   "id": "coral-lexington",
   "metadata": {},
   "outputs": [
    {
     "data": {
      "text/plain": [
       "89795"
      ]
     },
     "execution_count": 23,
     "metadata": {},
     "output_type": "execute_result"
    }
   ],
   "source": [
    "CELL_IDS_TO_USE = set(adata_shared.obs.index)\n",
    "len(CELL_IDS_TO_USE)"
   ]
  },
  {
   "cell_type": "code",
   "execution_count": 24,
   "id": "insured-resource",
   "metadata": {},
   "outputs": [],
   "source": [
    "# adata_shared.obs.query('species == \"Mouse\"').groupby(\n",
    "#     [\"channel\", \"broad_group\"], observed=True\n",
    "# ).size()"
   ]
  },
  {
   "cell_type": "code",
   "execution_count": 25,
   "id": "piano-devices",
   "metadata": {},
   "outputs": [
    {
     "data": {
      "text/plain": [
       "age  channel           \n",
       "18m  MACA_18m_F_LUNG_50     9\n",
       "     MACA_18m_F_LUNG_51    10\n",
       "     MACA_18m_M_LUNG_52    10\n",
       "     MACA_18m_M_LUNG_53    10\n",
       "21m  MACA_21m_F_LUNG_54    10\n",
       "     MACA_21m_F_LUNG_55    10\n",
       "30m  10X_P1_6               8\n",
       "     10X_P1_14              9\n",
       "     10X_P2_5               9\n",
       "     10X_P3_0               9\n",
       "1m   10X_P5_13             10\n",
       "     10X_P5_14              9\n",
       "3m   10X_P7_8              10\n",
       "     10X_P7_9              10\n",
       "     10X_P8_12              8\n",
       "     10X_P8_13              8\n",
       "Name: broad_group, dtype: int64"
      ]
     },
     "execution_count": 25,
     "metadata": {},
     "output_type": "execute_result"
    }
   ],
   "source": [
    "adata_shared.obs.query('species == \"Mouse\"').groupby(\n",
    "    ['age', \"channel\"],\n",
    "    observed=True,\n",
    ").broad_group.nunique()"
   ]
  },
  {
   "cell_type": "markdown",
   "id": "solid-induction",
   "metadata": {},
   "source": [
    "## Set signature outdir"
   ]
  },
  {
   "cell_type": "code",
   "execution_count": 26,
   "id": "considered-switch",
   "metadata": {},
   "outputs": [],
   "source": [
    "sig_outdir_base = '/mnt/ibm_sm/olga/immune-evolution/kmer-signatures'"
   ]
  },
  {
   "cell_type": "code",
   "execution_count": 105,
   "id": "posted-airline",
   "metadata": {},
   "outputs": [
    {
     "name": "stdout",
     "output_type": "stream",
     "text": [
      "total 11K\n",
      "drwxr-xr-x 7 olga czb 4.0K Mar  5 12:02 \u001b[0m\u001b[01;34m.\u001b[0m/\n",
      "drwxrwxr-x 8 olga czb 8.0K Mar 16 10:36 \u001b[01;34m..\u001b[0m/\n",
      "drwxr-xr-x 4 olga czb 4.0K Feb 28 09:53 \u001b[01;34m0--mouse2mouse\u001b[0m/\n",
      "drwxr-xr-x 7 olga czb 4.0K Feb 28 16:57 \u001b[01;34m1--train-mouse\u001b[0m/\n",
      "drwxr-xr-x 8 olga czb 4.0K Mar  3 14:50 \u001b[01;34m2--test-human\u001b[0m/\n",
      "drwxr-xr-x 9 olga czb 4.0K Mar  5 17:42 \u001b[01;34m3--test-bat\u001b[0m/\n",
      "drwxr-xr-x 8 olga czb 4.0K Mar  5 12:06 \u001b[01;34m4--test-lemur\u001b[0m/\n"
     ]
    }
   ],
   "source": [
    "ls -lha $sig_outdir_base"
   ]
  },
  {
   "cell_type": "code",
   "execution_count": 28,
   "id": "diagnostic-conversation",
   "metadata": {},
   "outputs": [],
   "source": [
    "rm -rf $sig_outdir_base/mouse/single-cell"
   ]
  },
  {
   "cell_type": "markdown",
   "id": "chicken-vessel",
   "metadata": {},
   "source": [
    "## sketch ids of interest"
   ]
  },
  {
   "cell_type": "code",
   "execution_count": 29,
   "id": "sound-capacity",
   "metadata": {},
   "outputs": [
    {
     "data": {
      "text/plain": [
       "['alphabet-DNA__ksize-21__scaled-10',\n",
       " 'alphabet-protein__ksize-30__scaled-10',\n",
       " 'alphabet-dayhoff__ksize-51__scaled-10']"
      ]
     },
     "execution_count": 29,
     "metadata": {},
     "output_type": "execute_result"
    }
   ],
   "source": [
    "alpha_ksizes = ((\"DNA\", 21), (\"protein\", 30), (\"dayhoff\", 51))\n",
    "sketch_ids = [sig_utils.make_sketch_id(alpha=alpha, ksize=ksize, style='scaled', value=10) for alpha, ksize in alpha_ksizes]\n",
    "sketch_ids"
   ]
  },
  {
   "cell_type": "code",
   "execution_count": 30,
   "id": "moderate-trinity",
   "metadata": {},
   "outputs": [
    {
     "data": {
      "text/plain": [
       "['alphabet-DNA__ksize-21__scaled-10']"
      ]
     },
     "execution_count": 30,
     "metadata": {},
     "output_type": "execute_result"
    }
   ],
   "source": [
    "nucleotide_sketch_ids = sketch_ids[:1]\n",
    "nucleotide_sketch_ids"
   ]
  },
  {
   "cell_type": "code",
   "execution_count": 31,
   "id": "auburn-danish",
   "metadata": {},
   "outputs": [
    {
     "data": {
      "text/plain": [
       "['alphabet-protein__ksize-30__scaled-10',\n",
       " 'alphabet-dayhoff__ksize-51__scaled-10']"
      ]
     },
     "execution_count": 31,
     "metadata": {},
     "output_type": "execute_result"
    }
   ],
   "source": [
    "peptide_sketch_ids = sketch_ids[1:]\n",
    "peptide_sketch_ids"
   ]
  },
  {
   "cell_type": "code",
   "execution_count": 45,
   "id": "authentic-avatar",
   "metadata": {},
   "outputs": [],
   "source": [
    "import sig_reorg"
   ]
  },
  {
   "cell_type": "markdown",
   "id": "lined-publicity",
   "metadata": {},
   "source": [
    "## Set output folder names"
   ]
  },
  {
   "cell_type": "code",
   "execution_count": 99,
   "id": "solved-scheme",
   "metadata": {},
   "outputs": [],
   "source": [
    "train_dir = \"/home/olga/data_sm/immune-evolution/kmer-signatures/1--train-mouse\"\n",
    "\n",
    "# --- Training data directories --- #\n",
    "train_0_fastas = os.path.join(train_dir, \"0--fastas\")\n",
    "train_1_single_cells = os.path.join(\n",
    "    train_dir, \"1--single-cell-sigs\"\n",
    ")\n",
    "train_2_merged_celltype = os.path.join(\n",
    "    train_dir, \"2--merged-celltype-sigs\"\n",
    ")\n",
    "train_3_merged_celltype_remove_common = os.path.join(\n",
    "    train_dir, \"3--merged-celltype-remove-common-kmers\"\n",
    ")\n",
    "train_4_celltype_sbts = os.path.join(\n",
    "    train_dir, \"4--celltype-sbt-dbts\"\n",
    ")\n",
    "\n",
    "dirs = (\n",
    "    train_dir,\n",
    "    train_0_fastas,\n",
    "    train_1_single_cells,\n",
    "    train_2_merged_celltype,\n",
    "    train_3_merged_celltype_remove_common,\n",
    "    train_4_celltype_sbts,\n",
    ")\n",
    "for outdir in dirs:\n",
    "    if not os.path.exists(outdir):\n",
    "        os.makedirs(outdir)"
   ]
  },
  {
   "cell_type": "markdown",
   "id": "adequate-cross",
   "metadata": {},
   "source": [
    "# Mouse"
   ]
  },
  {
   "cell_type": "markdown",
   "id": "featured-amplifier",
   "metadata": {},
   "source": [
    "## Single cell fastas"
   ]
  },
  {
   "cell_type": "code",
   "execution_count": 47,
   "id": "religious-taxation",
   "metadata": {},
   "outputs": [
    {
     "name": "stdout",
     "output_type": "stream",
     "text": [
      "total 11K\n",
      "drwxr-xr-x  6 olga czb 4.0K Feb 28 09:33 .\n",
      "drwxrwxr-x 81 olga czb 8.0K Feb 28 09:02 ..\n",
      "drwxr-xr-x  3 olga czb 4.0K Feb 28 09:33 0--mouse2mouse\n",
      "drwxr-xr-x  3 olga czb 4.0K Feb 28 09:29 1--train-mouse\n",
      "drwxr-xr-x  2 olga czb 4.0K Feb 28 09:17 mouse\n",
      "drwxr-xr-x  3 olga czb 4.0K Feb 27 09:59 mouse2mouse\n"
     ]
    }
   ],
   "source": [
    "! ls -lha $sig_outdir_base"
   ]
  },
  {
   "cell_type": "code",
   "execution_count": 54,
   "id": "supreme-worst",
   "metadata": {},
   "outputs": [
    {
     "name": "stderr",
     "output_type": "stream",
     "text": [
      "0it [00:00, ?it/s]"
     ]
    },
    {
     "name": "stdout",
     "output_type": "stream",
     "text": [
      "Copying peptides\n"
     ]
    },
    {
     "name": "stderr",
     "output_type": "stream",
     "text": [
      "27200it [30:02, 15.09it/s]\n",
      "0it [00:00, ?it/s]"
     ]
    },
    {
     "name": "stdout",
     "output_type": "stream",
     "text": [
      "Copying nucleotides\n"
     ]
    },
    {
     "name": "stderr",
     "output_type": "stream",
     "text": [
      "7833it [09:36, 11.80it/s]IOPub message rate exceeded.\n",
      "The Jupyter server will temporarily stop sending output\n",
      "to the client in order to avoid crashing it.\n",
      "To change this limit, set the config variable\n",
      "`--ServerApp.iopub_msg_rate_limit`.\n",
      "\n",
      "Current values:\n",
      "ServerApp.iopub_msg_rate_limit=1000.0 (msgs/sec)\n",
      "ServerApp.rate_limit_window=3.0 (secs)\n",
      "\n",
      "24622it [30:55, 13.27it/s]\n"
     ]
    },
    {
     "ename": "KeyboardInterrupt",
     "evalue": "",
     "output_type": "error",
     "traceback": [
      "\u001b[0;31m---------------------------------------------------------------------------\u001b[0m",
      "\u001b[0;31mKeyboardInterrupt\u001b[0m                         Traceback (most recent call last)",
      "\u001b[0;32m<ipython-input-54-3276630e3d33>\u001b[0m in \u001b[0;36m<module>\u001b[0;34m\u001b[0m\n\u001b[1;32m      8\u001b[0m     \u001b[0mmouse_fasta_input_dir\u001b[0m\u001b[0;34m,\u001b[0m\u001b[0;34m\u001b[0m\u001b[0;34m\u001b[0m\u001b[0m\n\u001b[1;32m      9\u001b[0m     \u001b[0mselect_cell_ids\u001b[0m\u001b[0;34m=\u001b[0m\u001b[0mCELL_IDS_TO_USE\u001b[0m\u001b[0;34m,\u001b[0m\u001b[0;34m\u001b[0m\u001b[0;34m\u001b[0m\u001b[0m\n\u001b[0;32m---> 10\u001b[0;31m     \u001b[0mdryrun\u001b[0m\u001b[0;34m=\u001b[0m\u001b[0;32mFalse\u001b[0m\u001b[0;34m,\u001b[0m\u001b[0;34m\u001b[0m\u001b[0;34m\u001b[0m\u001b[0m\n\u001b[0m\u001b[1;32m     11\u001b[0m )\n",
      "\u001b[0;32m~/code/immune-evolution--olgabot/analyze-kmermaid-bladder/notebooks/sig_reorg.py\u001b[0m in \u001b[0;36mcopy_fastas\u001b[0;34m(fasta_outdir_base, input_fasta_dir, select_cell_ids, dryrun, molecule_types)\u001b[0m\n\u001b[1;32m     57\u001b[0m                 \u001b[0mprint\u001b[0m\u001b[0;34m(\u001b[0m\u001b[0;34mf\"Copy:\\n{fasta_original}\\n--> {fasta_newplace}\"\u001b[0m\u001b[0;34m)\u001b[0m\u001b[0;34m\u001b[0m\u001b[0;34m\u001b[0m\u001b[0m\n\u001b[1;32m     58\u001b[0m             \u001b[0;32mif\u001b[0m \u001b[0;32mnot\u001b[0m \u001b[0mdryrun\u001b[0m \u001b[0;32mand\u001b[0m \u001b[0;32mnot\u001b[0m \u001b[0mos\u001b[0m\u001b[0;34m.\u001b[0m\u001b[0mpath\u001b[0m\u001b[0;34m.\u001b[0m\u001b[0mexists\u001b[0m\u001b[0;34m(\u001b[0m\u001b[0mfasta_newplace\u001b[0m\u001b[0;34m)\u001b[0m\u001b[0;34m:\u001b[0m\u001b[0;34m\u001b[0m\u001b[0;34m\u001b[0m\u001b[0m\n\u001b[0;32m---> 59\u001b[0;31m                 \u001b[0mshutil\u001b[0m\u001b[0;34m.\u001b[0m\u001b[0mcopy\u001b[0m\u001b[0;34m(\u001b[0m\u001b[0mfasta_original\u001b[0m\u001b[0;34m,\u001b[0m \u001b[0mfasta_newplace\u001b[0m\u001b[0;34m)\u001b[0m\u001b[0;34m\u001b[0m\u001b[0;34m\u001b[0m\u001b[0m\n\u001b[0m\u001b[1;32m     60\u001b[0m \u001b[0;34m\u001b[0m\u001b[0m\n\u001b[1;32m     61\u001b[0m \u001b[0;34m\u001b[0m\u001b[0m\n",
      "\u001b[0;32m~/miniconda3/envs/immune-evolution/lib/python3.7/shutil.py\u001b[0m in \u001b[0;36mcopy\u001b[0;34m(src, dst, follow_symlinks)\u001b[0m\n\u001b[1;32m    246\u001b[0m     \u001b[0;32mif\u001b[0m \u001b[0mos\u001b[0m\u001b[0;34m.\u001b[0m\u001b[0mpath\u001b[0m\u001b[0;34m.\u001b[0m\u001b[0misdir\u001b[0m\u001b[0;34m(\u001b[0m\u001b[0mdst\u001b[0m\u001b[0;34m)\u001b[0m\u001b[0;34m:\u001b[0m\u001b[0;34m\u001b[0m\u001b[0;34m\u001b[0m\u001b[0m\n\u001b[1;32m    247\u001b[0m         \u001b[0mdst\u001b[0m \u001b[0;34m=\u001b[0m \u001b[0mos\u001b[0m\u001b[0;34m.\u001b[0m\u001b[0mpath\u001b[0m\u001b[0;34m.\u001b[0m\u001b[0mjoin\u001b[0m\u001b[0;34m(\u001b[0m\u001b[0mdst\u001b[0m\u001b[0;34m,\u001b[0m \u001b[0mos\u001b[0m\u001b[0;34m.\u001b[0m\u001b[0mpath\u001b[0m\u001b[0;34m.\u001b[0m\u001b[0mbasename\u001b[0m\u001b[0;34m(\u001b[0m\u001b[0msrc\u001b[0m\u001b[0;34m)\u001b[0m\u001b[0;34m)\u001b[0m\u001b[0;34m\u001b[0m\u001b[0;34m\u001b[0m\u001b[0m\n\u001b[0;32m--> 248\u001b[0;31m     \u001b[0mcopyfile\u001b[0m\u001b[0;34m(\u001b[0m\u001b[0msrc\u001b[0m\u001b[0;34m,\u001b[0m \u001b[0mdst\u001b[0m\u001b[0;34m,\u001b[0m \u001b[0mfollow_symlinks\u001b[0m\u001b[0;34m=\u001b[0m\u001b[0mfollow_symlinks\u001b[0m\u001b[0;34m)\u001b[0m\u001b[0;34m\u001b[0m\u001b[0;34m\u001b[0m\u001b[0m\n\u001b[0m\u001b[1;32m    249\u001b[0m     \u001b[0mcopymode\u001b[0m\u001b[0;34m(\u001b[0m\u001b[0msrc\u001b[0m\u001b[0;34m,\u001b[0m \u001b[0mdst\u001b[0m\u001b[0;34m,\u001b[0m \u001b[0mfollow_symlinks\u001b[0m\u001b[0;34m=\u001b[0m\u001b[0mfollow_symlinks\u001b[0m\u001b[0;34m)\u001b[0m\u001b[0;34m\u001b[0m\u001b[0;34m\u001b[0m\u001b[0m\n\u001b[1;32m    250\u001b[0m     \u001b[0;32mreturn\u001b[0m \u001b[0mdst\u001b[0m\u001b[0;34m\u001b[0m\u001b[0;34m\u001b[0m\u001b[0m\n",
      "\u001b[0;32m~/miniconda3/envs/immune-evolution/lib/python3.7/shutil.py\u001b[0m in \u001b[0;36mcopyfile\u001b[0;34m(src, dst, follow_symlinks)\u001b[0m\n\u001b[1;32m    120\u001b[0m         \u001b[0;32mwith\u001b[0m \u001b[0mopen\u001b[0m\u001b[0;34m(\u001b[0m\u001b[0msrc\u001b[0m\u001b[0;34m,\u001b[0m \u001b[0;34m'rb'\u001b[0m\u001b[0;34m)\u001b[0m \u001b[0;32mas\u001b[0m \u001b[0mfsrc\u001b[0m\u001b[0;34m:\u001b[0m\u001b[0;34m\u001b[0m\u001b[0;34m\u001b[0m\u001b[0m\n\u001b[1;32m    121\u001b[0m             \u001b[0;32mwith\u001b[0m \u001b[0mopen\u001b[0m\u001b[0;34m(\u001b[0m\u001b[0mdst\u001b[0m\u001b[0;34m,\u001b[0m \u001b[0;34m'wb'\u001b[0m\u001b[0;34m)\u001b[0m \u001b[0;32mas\u001b[0m \u001b[0mfdst\u001b[0m\u001b[0;34m:\u001b[0m\u001b[0;34m\u001b[0m\u001b[0;34m\u001b[0m\u001b[0m\n\u001b[0;32m--> 122\u001b[0;31m                 \u001b[0mcopyfileobj\u001b[0m\u001b[0;34m(\u001b[0m\u001b[0mfsrc\u001b[0m\u001b[0;34m,\u001b[0m \u001b[0mfdst\u001b[0m\u001b[0;34m)\u001b[0m\u001b[0;34m\u001b[0m\u001b[0;34m\u001b[0m\u001b[0m\n\u001b[0m\u001b[1;32m    123\u001b[0m     \u001b[0;32mreturn\u001b[0m \u001b[0mdst\u001b[0m\u001b[0;34m\u001b[0m\u001b[0;34m\u001b[0m\u001b[0m\n\u001b[1;32m    124\u001b[0m \u001b[0;34m\u001b[0m\u001b[0m\n",
      "\u001b[0;32m~/miniconda3/envs/immune-evolution/lib/python3.7/shutil.py\u001b[0m in \u001b[0;36mcopyfileobj\u001b[0;34m(fsrc, fdst, length)\u001b[0m\n\u001b[1;32m     77\u001b[0m     \u001b[0;34m\"\"\"copy data from file-like object fsrc to file-like object fdst\"\"\"\u001b[0m\u001b[0;34m\u001b[0m\u001b[0;34m\u001b[0m\u001b[0m\n\u001b[1;32m     78\u001b[0m     \u001b[0;32mwhile\u001b[0m \u001b[0;36m1\u001b[0m\u001b[0;34m:\u001b[0m\u001b[0;34m\u001b[0m\u001b[0;34m\u001b[0m\u001b[0m\n\u001b[0;32m---> 79\u001b[0;31m         \u001b[0mbuf\u001b[0m \u001b[0;34m=\u001b[0m \u001b[0mfsrc\u001b[0m\u001b[0;34m.\u001b[0m\u001b[0mread\u001b[0m\u001b[0;34m(\u001b[0m\u001b[0mlength\u001b[0m\u001b[0;34m)\u001b[0m\u001b[0;34m\u001b[0m\u001b[0;34m\u001b[0m\u001b[0m\n\u001b[0m\u001b[1;32m     80\u001b[0m         \u001b[0;32mif\u001b[0m \u001b[0;32mnot\u001b[0m \u001b[0mbuf\u001b[0m\u001b[0;34m:\u001b[0m\u001b[0;34m\u001b[0m\u001b[0;34m\u001b[0m\u001b[0m\n\u001b[1;32m     81\u001b[0m             \u001b[0;32mbreak\u001b[0m\u001b[0;34m\u001b[0m\u001b[0;34m\u001b[0m\u001b[0m\n",
      "\u001b[0;31mKeyboardInterrupt\u001b[0m: "
     ]
    }
   ],
   "source": [
    "mouse_train_dir = os.path.join(sig_outdir_base, \"1--train-mouse\")\n",
    "\n",
    "mouse_kmermaid_base = '/home/olga/data_sm/immune-evolution/pipeline-results/mouse/kmermaid/lung--mouse--remove-ribo/'\n",
    "\n",
    "bat_kmermaid_base = '/home/olga/data_sm/immune-evolution/pipeline-results/bat/kmermaid/ksize_8'\n",
    "\n",
    "mouse_train_0_fastas = os.path.join(mouse_train_dir, \"0--protein-coding-fastas\")\n",
    "mouse_fasta_input_dir = os.path.join(mouse_kmermaid_base, \"translate\")\n",
    "\n",
    "sig_reorg.copy_fastas(\n",
    "    mouse_train_0_fastas,\n",
    "    mouse_fasta_input_dir,\n",
    "    select_cell_ids=CELL_IDS_TO_USE,\n",
    "    dryrun=False,\n",
    ")"
   ]
  },
  {
   "cell_type": "markdown",
   "id": "scientific-indicator",
   "metadata": {},
   "source": [
    "## Single cell signatures"
   ]
  },
  {
   "cell_type": "code",
   "execution_count": 41,
   "id": "alpha-medium",
   "metadata": {},
   "outputs": [],
   "source": [
    "mouse_peptide_sketch_dir = os.path.join(\n",
    "    bat_kmermaid_base,\n",
    "    \"sketches_peptide_handmade_mouse_merged_remove_ribosomal_dissociation_all_mouse_cells\",\n",
    ")\n",
    "mouse_nucleotide_sketch_dir = os.path.join(mouse_kmermaid_base, 'sketches_nucleotide_handmade_per_mouse_remove_ribosomal')"
   ]
  },
  {
   "cell_type": "code",
   "execution_count": 44,
   "id": "specific-radar",
   "metadata": {},
   "outputs": [
    {
     "name": "stderr",
     "output_type": "stream",
     "text": [
      "4it [00:00, 28.78it/s]"
     ]
    },
    {
     "name": "stdout",
     "output_type": "stream",
     "text": [
      "Copying alphabet-DNA__ksize-21__scaled-10\n"
     ]
    },
    {
     "name": "stderr",
     "output_type": "stream",
     "text": [
      "7109it [02:32, 46.67it/s]\n",
      "9it [00:00, 85.67it/s]"
     ]
    },
    {
     "name": "stdout",
     "output_type": "stream",
     "text": [
      "Copying alphabet-protein__ksize-30__scaled-10\n"
     ]
    },
    {
     "name": "stderr",
     "output_type": "stream",
     "text": [
      "7109it [01:10, 100.94it/s]\n",
      "7it [00:00, 53.07it/s]"
     ]
    },
    {
     "name": "stdout",
     "output_type": "stream",
     "text": [
      "Copying alphabet-dayhoff__ksize-51__scaled-10\n"
     ]
    },
    {
     "name": "stderr",
     "output_type": "stream",
     "text": [
      "7109it [01:01, 114.92it/s]\n"
     ]
    }
   ],
   "source": [
    "sig_reorg.copy_nucleotide_peptide_sketches(\n",
    "    \"1--train-mouse\",\n",
    "    \"1--single-cell-sigs\",\n",
    "    peptide_sketch_dir=mouse_peptide_sketch_dir,\n",
    "    nucleotide_sketch_dir=mouse_nucleotide_sketch_dir,\n",
    "    sketch_outdir_base=sig_outdir_base,\n",
    "    select_cell_ids=CELL_IDS_TO_USE,\n",
    "    dryrun=False\n",
    ")"
   ]
  },
  {
   "cell_type": "markdown",
   "id": "incredible-heather",
   "metadata": {},
   "source": [
    "## Merge signatures on cell types"
   ]
  },
  {
   "cell_type": "markdown",
   "id": "rocky-update",
   "metadata": {},
   "source": [
    "### Read all copied signatures into dataframe"
   ]
  },
  {
   "cell_type": "code",
   "execution_count": 59,
   "id": "clean-startup",
   "metadata": {},
   "outputs": [
    {
     "name": "stdout",
     "output_type": "stream",
     "text": [
      "total 1.6M\n",
      "drwxr-xr-x 5 olga czb 4.0K Feb 28 09:34 \u001b[0m\u001b[01;34m.\u001b[0m/\n",
      "drwxr-xr-x 4 olga czb 4.0K Feb 28 09:49 \u001b[01;34m..\u001b[0m/\n",
      "drwxr-xr-x 2 olga czb 512K Feb 28 09:35 \u001b[01;34malphabet-dayhoff__ksize-51__scaled-10\u001b[0m/\n",
      "drwxr-xr-x 2 olga czb 512K Feb 28 09:32 \u001b[01;34malphabet-DNA__ksize-21__scaled-10\u001b[0m/\n",
      "drwxr-xr-x 2 olga czb 512K Feb 28 09:34 \u001b[01;34malphabet-protein__ksize-30__scaled-10\u001b[0m/\n"
     ]
    }
   ],
   "source": [
    "ls -lha $train_1_single_cells"
   ]
  },
  {
   "cell_type": "code",
   "execution_count": 65,
   "id": "external-improvement",
   "metadata": {},
   "outputs": [
    {
     "name": "stdout",
     "output_type": "stream",
     "text": [
      "(17652, 1)\n",
      "--- First 5 entries ---\n"
     ]
    },
    {
     "data": {
      "text/html": [
       "<div>\n",
       "<style scoped>\n",
       "    .dataframe tbody tr th:only-of-type {\n",
       "        vertical-align: middle;\n",
       "    }\n",
       "\n",
       "    .dataframe tbody tr th {\n",
       "        vertical-align: top;\n",
       "    }\n",
       "\n",
       "    .dataframe thead th {\n",
       "        text-align: right;\n",
       "    }\n",
       "</style>\n",
       "<table border=\"1\" class=\"dataframe\">\n",
       "  <thead>\n",
       "    <tr style=\"text-align: right;\">\n",
       "      <th></th>\n",
       "      <th>sig_path</th>\n",
       "    </tr>\n",
       "  </thead>\n",
       "  <tbody>\n",
       "    <tr>\n",
       "      <th>0</th>\n",
       "      <td>/mnt/ibm_sm/olga/immune-evolution/kmer-signatu...</td>\n",
       "    </tr>\n",
       "    <tr>\n",
       "      <th>1</th>\n",
       "      <td>/mnt/ibm_sm/olga/immune-evolution/kmer-signatu...</td>\n",
       "    </tr>\n",
       "    <tr>\n",
       "      <th>2</th>\n",
       "      <td>/mnt/ibm_sm/olga/immune-evolution/kmer-signatu...</td>\n",
       "    </tr>\n",
       "    <tr>\n",
       "      <th>3</th>\n",
       "      <td>/mnt/ibm_sm/olga/immune-evolution/kmer-signatu...</td>\n",
       "    </tr>\n",
       "    <tr>\n",
       "      <th>4</th>\n",
       "      <td>/mnt/ibm_sm/olga/immune-evolution/kmer-signatu...</td>\n",
       "    </tr>\n",
       "  </tbody>\n",
       "</table>\n",
       "</div>"
      ],
      "text/plain": [
       "                                            sig_path\n",
       "0  /mnt/ibm_sm/olga/immune-evolution/kmer-signatu...\n",
       "1  /mnt/ibm_sm/olga/immune-evolution/kmer-signatu...\n",
       "2  /mnt/ibm_sm/olga/immune-evolution/kmer-signatu...\n",
       "3  /mnt/ibm_sm/olga/immune-evolution/kmer-signatu...\n",
       "4  /mnt/ibm_sm/olga/immune-evolution/kmer-signatu..."
      ]
     },
     "metadata": {},
     "output_type": "display_data"
    },
    {
     "name": "stdout",
     "output_type": "stream",
     "text": [
      "(17652, 2)\n",
      "--- First 5 entries ---\n"
     ]
    },
    {
     "data": {
      "text/html": [
       "<div>\n",
       "<style scoped>\n",
       "    .dataframe tbody tr th:only-of-type {\n",
       "        vertical-align: middle;\n",
       "    }\n",
       "\n",
       "    .dataframe tbody tr th {\n",
       "        vertical-align: top;\n",
       "    }\n",
       "\n",
       "    .dataframe thead th {\n",
       "        text-align: right;\n",
       "    }\n",
       "</style>\n",
       "<table border=\"1\" class=\"dataframe\">\n",
       "  <thead>\n",
       "    <tr style=\"text-align: right;\">\n",
       "      <th></th>\n",
       "      <th>0</th>\n",
       "      <th>1</th>\n",
       "    </tr>\n",
       "  </thead>\n",
       "  <tbody>\n",
       "    <tr>\n",
       "      <th>0</th>\n",
       "      <td>alphabet-dayhoff__ksize-51__scaled-10</td>\n",
       "      <td>MACA_21m_F_LUNG_54__TTCTCAAAGCGTGTCC.sig</td>\n",
       "    </tr>\n",
       "    <tr>\n",
       "      <th>1</th>\n",
       "      <td>alphabet-dayhoff__ksize-51__scaled-10</td>\n",
       "      <td>MACA_18m_M_LUNG_53__AAACGGGGTTGTCGCG.sig</td>\n",
       "    </tr>\n",
       "    <tr>\n",
       "      <th>2</th>\n",
       "      <td>alphabet-dayhoff__ksize-51__scaled-10</td>\n",
       "      <td>MACA_21m_F_LUNG_55__ATGGGAGAGACAATAC.sig</td>\n",
       "    </tr>\n",
       "    <tr>\n",
       "      <th>3</th>\n",
       "      <td>alphabet-dayhoff__ksize-51__scaled-10</td>\n",
       "      <td>MACA_21m_F_LUNG_55__TTGCGTCTCTATCGCC.sig</td>\n",
       "    </tr>\n",
       "    <tr>\n",
       "      <th>4</th>\n",
       "      <td>alphabet-dayhoff__ksize-51__scaled-10</td>\n",
       "      <td>MACA_18m_F_LUNG_51__GTATTCTTCCTGCAGG.sig</td>\n",
       "    </tr>\n",
       "  </tbody>\n",
       "</table>\n",
       "</div>"
      ],
      "text/plain": [
       "                                       0  \\\n",
       "0  alphabet-dayhoff__ksize-51__scaled-10   \n",
       "1  alphabet-dayhoff__ksize-51__scaled-10   \n",
       "2  alphabet-dayhoff__ksize-51__scaled-10   \n",
       "3  alphabet-dayhoff__ksize-51__scaled-10   \n",
       "4  alphabet-dayhoff__ksize-51__scaled-10   \n",
       "\n",
       "                                          1  \n",
       "0  MACA_21m_F_LUNG_54__TTCTCAAAGCGTGTCC.sig  \n",
       "1  MACA_18m_M_LUNG_53__AAACGGGGTTGTCGCG.sig  \n",
       "2  MACA_21m_F_LUNG_55__ATGGGAGAGACAATAC.sig  \n",
       "3  MACA_21m_F_LUNG_55__TTGCGTCTCTATCGCC.sig  \n",
       "4  MACA_18m_F_LUNG_51__GTATTCTTCCTGCAGG.sig  "
      ]
     },
     "metadata": {},
     "output_type": "display_data"
    },
    {
     "name": "stdout",
     "output_type": "stream",
     "text": [
      "(17652, 5)\n",
      "--- First 5 entries ---\n"
     ]
    },
    {
     "data": {
      "text/html": [
       "<div>\n",
       "<style scoped>\n",
       "    .dataframe tbody tr th:only-of-type {\n",
       "        vertical-align: middle;\n",
       "    }\n",
       "\n",
       "    .dataframe tbody tr th {\n",
       "        vertical-align: top;\n",
       "    }\n",
       "\n",
       "    .dataframe thead th {\n",
       "        text-align: right;\n",
       "    }\n",
       "</style>\n",
       "<table border=\"1\" class=\"dataframe\">\n",
       "  <thead>\n",
       "    <tr style=\"text-align: right;\">\n",
       "      <th></th>\n",
       "      <th>mol_or_alpha</th>\n",
       "      <th>alphabet</th>\n",
       "      <th>ksize</th>\n",
       "      <th>sketch_style</th>\n",
       "      <th>sketch_value</th>\n",
       "    </tr>\n",
       "  </thead>\n",
       "  <tbody>\n",
       "    <tr>\n",
       "      <th>0</th>\n",
       "      <td>alphabet</td>\n",
       "      <td>dayhoff</td>\n",
       "      <td>51</td>\n",
       "      <td>scaled</td>\n",
       "      <td>10</td>\n",
       "    </tr>\n",
       "    <tr>\n",
       "      <th>1</th>\n",
       "      <td>alphabet</td>\n",
       "      <td>dayhoff</td>\n",
       "      <td>51</td>\n",
       "      <td>scaled</td>\n",
       "      <td>10</td>\n",
       "    </tr>\n",
       "    <tr>\n",
       "      <th>2</th>\n",
       "      <td>alphabet</td>\n",
       "      <td>dayhoff</td>\n",
       "      <td>51</td>\n",
       "      <td>scaled</td>\n",
       "      <td>10</td>\n",
       "    </tr>\n",
       "    <tr>\n",
       "      <th>3</th>\n",
       "      <td>alphabet</td>\n",
       "      <td>dayhoff</td>\n",
       "      <td>51</td>\n",
       "      <td>scaled</td>\n",
       "      <td>10</td>\n",
       "    </tr>\n",
       "    <tr>\n",
       "      <th>4</th>\n",
       "      <td>alphabet</td>\n",
       "      <td>dayhoff</td>\n",
       "      <td>51</td>\n",
       "      <td>scaled</td>\n",
       "      <td>10</td>\n",
       "    </tr>\n",
       "  </tbody>\n",
       "</table>\n",
       "</div>"
      ],
      "text/plain": [
       "  mol_or_alpha alphabet ksize sketch_style sketch_value\n",
       "0     alphabet  dayhoff    51       scaled           10\n",
       "1     alphabet  dayhoff    51       scaled           10\n",
       "2     alphabet  dayhoff    51       scaled           10\n",
       "3     alphabet  dayhoff    51       scaled           10\n",
       "4     alphabet  dayhoff    51       scaled           10"
      ]
     },
     "metadata": {},
     "output_type": "display_data"
    },
    {
     "name": "stdout",
     "output_type": "stream",
     "text": [
      "(17652, 9)\n",
      "--- First 5 entries ---\n"
     ]
    },
    {
     "data": {
      "text/html": [
       "<div>\n",
       "<style scoped>\n",
       "    .dataframe tbody tr th:only-of-type {\n",
       "        vertical-align: middle;\n",
       "    }\n",
       "\n",
       "    .dataframe tbody tr th {\n",
       "        vertical-align: top;\n",
       "    }\n",
       "\n",
       "    .dataframe thead th {\n",
       "        text-align: right;\n",
       "    }\n",
       "</style>\n",
       "<table border=\"1\" class=\"dataframe\">\n",
       "  <thead>\n",
       "    <tr style=\"text-align: right;\">\n",
       "      <th></th>\n",
       "      <th>sig_path</th>\n",
       "      <th>sketch_id</th>\n",
       "      <th>sig_basename</th>\n",
       "      <th>alpha_moltype</th>\n",
       "      <th>alphabet</th>\n",
       "      <th>ksize</th>\n",
       "      <th>sketch_style</th>\n",
       "      <th>sketch_value</th>\n",
       "      <th>cell_id</th>\n",
       "    </tr>\n",
       "  </thead>\n",
       "  <tbody>\n",
       "    <tr>\n",
       "      <th>0</th>\n",
       "      <td>/mnt/ibm_sm/olga/immune-evolution/kmer-signatu...</td>\n",
       "      <td>alphabet-dayhoff__ksize-51__scaled-10</td>\n",
       "      <td>MACA_21m_F_LUNG_54__TTCTCAAAGCGTGTCC.sig</td>\n",
       "      <td>alphabet</td>\n",
       "      <td>dayhoff</td>\n",
       "      <td>51</td>\n",
       "      <td>scaled</td>\n",
       "      <td>10</td>\n",
       "      <td>MACA_21m_F_LUNG_54__TTCTCAAAGCGTGTCC</td>\n",
       "    </tr>\n",
       "    <tr>\n",
       "      <th>1</th>\n",
       "      <td>/mnt/ibm_sm/olga/immune-evolution/kmer-signatu...</td>\n",
       "      <td>alphabet-dayhoff__ksize-51__scaled-10</td>\n",
       "      <td>MACA_18m_M_LUNG_53__AAACGGGGTTGTCGCG.sig</td>\n",
       "      <td>alphabet</td>\n",
       "      <td>dayhoff</td>\n",
       "      <td>51</td>\n",
       "      <td>scaled</td>\n",
       "      <td>10</td>\n",
       "      <td>MACA_18m_M_LUNG_53__AAACGGGGTTGTCGCG</td>\n",
       "    </tr>\n",
       "    <tr>\n",
       "      <th>2</th>\n",
       "      <td>/mnt/ibm_sm/olga/immune-evolution/kmer-signatu...</td>\n",
       "      <td>alphabet-dayhoff__ksize-51__scaled-10</td>\n",
       "      <td>MACA_21m_F_LUNG_55__ATGGGAGAGACAATAC.sig</td>\n",
       "      <td>alphabet</td>\n",
       "      <td>dayhoff</td>\n",
       "      <td>51</td>\n",
       "      <td>scaled</td>\n",
       "      <td>10</td>\n",
       "      <td>MACA_21m_F_LUNG_55__ATGGGAGAGACAATAC</td>\n",
       "    </tr>\n",
       "    <tr>\n",
       "      <th>3</th>\n",
       "      <td>/mnt/ibm_sm/olga/immune-evolution/kmer-signatu...</td>\n",
       "      <td>alphabet-dayhoff__ksize-51__scaled-10</td>\n",
       "      <td>MACA_21m_F_LUNG_55__TTGCGTCTCTATCGCC.sig</td>\n",
       "      <td>alphabet</td>\n",
       "      <td>dayhoff</td>\n",
       "      <td>51</td>\n",
       "      <td>scaled</td>\n",
       "      <td>10</td>\n",
       "      <td>MACA_21m_F_LUNG_55__TTGCGTCTCTATCGCC</td>\n",
       "    </tr>\n",
       "    <tr>\n",
       "      <th>4</th>\n",
       "      <td>/mnt/ibm_sm/olga/immune-evolution/kmer-signatu...</td>\n",
       "      <td>alphabet-dayhoff__ksize-51__scaled-10</td>\n",
       "      <td>MACA_18m_F_LUNG_51__GTATTCTTCCTGCAGG.sig</td>\n",
       "      <td>alphabet</td>\n",
       "      <td>dayhoff</td>\n",
       "      <td>51</td>\n",
       "      <td>scaled</td>\n",
       "      <td>10</td>\n",
       "      <td>MACA_18m_F_LUNG_51__GTATTCTTCCTGCAGG</td>\n",
       "    </tr>\n",
       "  </tbody>\n",
       "</table>\n",
       "</div>"
      ],
      "text/plain": [
       "                                            sig_path  \\\n",
       "0  /mnt/ibm_sm/olga/immune-evolution/kmer-signatu...   \n",
       "1  /mnt/ibm_sm/olga/immune-evolution/kmer-signatu...   \n",
       "2  /mnt/ibm_sm/olga/immune-evolution/kmer-signatu...   \n",
       "3  /mnt/ibm_sm/olga/immune-evolution/kmer-signatu...   \n",
       "4  /mnt/ibm_sm/olga/immune-evolution/kmer-signatu...   \n",
       "\n",
       "                               sketch_id  \\\n",
       "0  alphabet-dayhoff__ksize-51__scaled-10   \n",
       "1  alphabet-dayhoff__ksize-51__scaled-10   \n",
       "2  alphabet-dayhoff__ksize-51__scaled-10   \n",
       "3  alphabet-dayhoff__ksize-51__scaled-10   \n",
       "4  alphabet-dayhoff__ksize-51__scaled-10   \n",
       "\n",
       "                               sig_basename alpha_moltype alphabet  ksize  \\\n",
       "0  MACA_21m_F_LUNG_54__TTCTCAAAGCGTGTCC.sig      alphabet  dayhoff     51   \n",
       "1  MACA_18m_M_LUNG_53__AAACGGGGTTGTCGCG.sig      alphabet  dayhoff     51   \n",
       "2  MACA_21m_F_LUNG_55__ATGGGAGAGACAATAC.sig      alphabet  dayhoff     51   \n",
       "3  MACA_21m_F_LUNG_55__TTGCGTCTCTATCGCC.sig      alphabet  dayhoff     51   \n",
       "4  MACA_18m_F_LUNG_51__GTATTCTTCCTGCAGG.sig      alphabet  dayhoff     51   \n",
       "\n",
       "  sketch_style sketch_value                               cell_id  \n",
       "0       scaled           10  MACA_21m_F_LUNG_54__TTCTCAAAGCGTGTCC  \n",
       "1       scaled           10  MACA_18m_M_LUNG_53__AAACGGGGTTGTCGCG  \n",
       "2       scaled           10  MACA_21m_F_LUNG_55__ATGGGAGAGACAATAC  \n",
       "3       scaled           10  MACA_21m_F_LUNG_55__TTGCGTCTCTATCGCC  \n",
       "4       scaled           10  MACA_18m_F_LUNG_51__GTATTCTTCCTGCAGG  "
      ]
     },
     "metadata": {},
     "output_type": "display_data"
    }
   ],
   "source": [
    "\n",
    "train_sig_df = pd.Series(\n",
    "    glob.glob(os.path.join(train_1_single_cells, \"*\", \"*.sig\")),\n",
    "    name=\"sig_path\",\n",
    ").to_frame()\n",
    "describe(train_sig_df)\n",
    "\n",
    "# Get iteration, sketch id\n",
    "df = (\n",
    "    train_sig_df[\"sig_path\"]\n",
    "    .str.split(train_1_single_cells + \"/\")\n",
    "    .str[-1]\n",
    "    .str.split(\"/\", expand=True)\n",
    ")\n",
    "describe(df)\n",
    "\n",
    "\n",
    "sketch_info_df = df[0].str.extractall(sig_utils.SKETCH_INFO_PATTERN)\n",
    "sketch_info_df.index = sketch_info_df.index.droplevel(-1)\n",
    "describe(sketch_info_df)\n",
    "train_sig_df = pd.concat(\n",
    "    [train_sig_df, df, sketch_info_df], axis=1, ignore_index=True\n",
    ")\n",
    "train_sig_df = train_sig_df.rename(\n",
    "    columns={\n",
    "        0: \"sig_path\",\n",
    "        1: \"sketch_id\",\n",
    "        2: \"sig_basename\",\n",
    "        3: \"alpha_moltype\",\n",
    "        4: \"alphabet\",\n",
    "        5: \"ksize\",\n",
    "        6: \"sketch_style\",\n",
    "        7: \"sketch_value\",\n",
    "    }\n",
    ")\n",
    "train_sig_df[\"cell_id\"] = (\n",
    "    train_sig_df[\"sig_basename\"].str.split(\".\").str[0]\n",
    ")\n",
    "\n",
    "# Sourmash can't handle when ksize is str\n",
    "train_sig_df['ksize'] = train_sig_df.ksize.astype(int)\n",
    "describe(train_sig_df)"
   ]
  },
  {
   "cell_type": "markdown",
   "id": "exempt-sheep",
   "metadata": {},
   "source": [
    "### Join with celltype metadata dataframe"
   ]
  },
  {
   "cell_type": "code",
   "execution_count": 66,
   "id": "commercial-aquatic",
   "metadata": {},
   "outputs": [
    {
     "name": "stdout",
     "output_type": "stream",
     "text": [
      "(17652, 38)\n",
      "--- First 5 entries ---\n"
     ]
    },
    {
     "data": {
      "text/html": [
       "<div>\n",
       "<style scoped>\n",
       "    .dataframe tbody tr th:only-of-type {\n",
       "        vertical-align: middle;\n",
       "    }\n",
       "\n",
       "    .dataframe tbody tr th {\n",
       "        vertical-align: top;\n",
       "    }\n",
       "\n",
       "    .dataframe thead th {\n",
       "        text-align: right;\n",
       "    }\n",
       "</style>\n",
       "<table border=\"1\" class=\"dataframe\">\n",
       "  <thead>\n",
       "    <tr style=\"text-align: right;\">\n",
       "      <th></th>\n",
       "      <th>sig_path</th>\n",
       "      <th>sketch_id</th>\n",
       "      <th>sig_basename</th>\n",
       "      <th>alpha_moltype</th>\n",
       "      <th>alphabet</th>\n",
       "      <th>ksize</th>\n",
       "      <th>sketch_style</th>\n",
       "      <th>sketch_value</th>\n",
       "      <th>cell_id</th>\n",
       "      <th>index</th>\n",
       "      <th>...</th>\n",
       "      <th>channel_cleaned</th>\n",
       "      <th>batch</th>\n",
       "      <th>n_genes</th>\n",
       "      <th>n_counts</th>\n",
       "      <th>species_batch_v2</th>\n",
       "      <th>compartment_broad</th>\n",
       "      <th>compartment_broad_narrow</th>\n",
       "      <th>compartment_species</th>\n",
       "      <th>compartment_narrow_species</th>\n",
       "      <th>common_individual_id</th>\n",
       "    </tr>\n",
       "  </thead>\n",
       "  <tbody>\n",
       "    <tr>\n",
       "      <th>0</th>\n",
       "      <td>/mnt/ibm_sm/olga/immune-evolution/kmer-signatu...</td>\n",
       "      <td>alphabet-dayhoff__ksize-51__scaled-10</td>\n",
       "      <td>MACA_21m_F_LUNG_54__TTCTCAAAGCGTGTCC.sig</td>\n",
       "      <td>alphabet</td>\n",
       "      <td>dayhoff</td>\n",
       "      <td>51</td>\n",
       "      <td>scaled</td>\n",
       "      <td>10</td>\n",
       "      <td>MACA_21m_F_LUNG_54__TTCTCAAAGCGTGTCC</td>\n",
       "      <td>TTCTCAAAGCGTGTCC-1-52-0-0-mouse-hlm</td>\n",
       "      <td>...</td>\n",
       "      <td>MACA_21m_F_LUNG_54</td>\n",
       "      <td>NaN</td>\n",
       "      <td>NaN</td>\n",
       "      <td>NaN</td>\n",
       "      <td>hlm</td>\n",
       "      <td>lymphoid: B cell</td>\n",
       "      <td>lymphoid: B cell: B cell</td>\n",
       "      <td>lymphoid: mouse</td>\n",
       "      <td>lymphoid: B cell: mouse</td>\n",
       "      <td>mouse_21-F-54</td>\n",
       "    </tr>\n",
       "    <tr>\n",
       "      <th>1</th>\n",
       "      <td>/mnt/ibm_sm/olga/immune-evolution/kmer-signatu...</td>\n",
       "      <td>alphabet-dayhoff__ksize-51__scaled-10</td>\n",
       "      <td>MACA_18m_M_LUNG_53__AAACGGGGTTGTCGCG.sig</td>\n",
       "      <td>alphabet</td>\n",
       "      <td>dayhoff</td>\n",
       "      <td>51</td>\n",
       "      <td>scaled</td>\n",
       "      <td>10</td>\n",
       "      <td>MACA_18m_M_LUNG_53__AAACGGGGTTGTCGCG</td>\n",
       "      <td>AAACGGGGTTGTCGCG-1-32-0-0-mouse-hlm</td>\n",
       "      <td>...</td>\n",
       "      <td>MACA_18m_M_LUNG_53</td>\n",
       "      <td>NaN</td>\n",
       "      <td>NaN</td>\n",
       "      <td>NaN</td>\n",
       "      <td>hlm</td>\n",
       "      <td>myeloid: Monocyte</td>\n",
       "      <td>myeloid: Monocyte: Monocyte</td>\n",
       "      <td>myeloid: mouse</td>\n",
       "      <td>myeloid: Monocyte: mouse</td>\n",
       "      <td>mouse_18-M-53</td>\n",
       "    </tr>\n",
       "    <tr>\n",
       "      <th>2</th>\n",
       "      <td>/mnt/ibm_sm/olga/immune-evolution/kmer-signatu...</td>\n",
       "      <td>alphabet-dayhoff__ksize-51__scaled-10</td>\n",
       "      <td>MACA_21m_F_LUNG_55__ATGGGAGAGACAATAC.sig</td>\n",
       "      <td>alphabet</td>\n",
       "      <td>dayhoff</td>\n",
       "      <td>51</td>\n",
       "      <td>scaled</td>\n",
       "      <td>10</td>\n",
       "      <td>MACA_21m_F_LUNG_55__ATGGGAGAGACAATAC</td>\n",
       "      <td>ATGGGAGAGACAATAC-1-53-0-0-mouse-hlm</td>\n",
       "      <td>...</td>\n",
       "      <td>MACA_21m_F_LUNG_55</td>\n",
       "      <td>NaN</td>\n",
       "      <td>NaN</td>\n",
       "      <td>NaN</td>\n",
       "      <td>hlm</td>\n",
       "      <td>myeloid: Monocyte</td>\n",
       "      <td>myeloid: Monocyte: Monocyte</td>\n",
       "      <td>myeloid: mouse</td>\n",
       "      <td>myeloid: Monocyte: mouse</td>\n",
       "      <td>mouse_21-F-55</td>\n",
       "    </tr>\n",
       "    <tr>\n",
       "      <th>3</th>\n",
       "      <td>/mnt/ibm_sm/olga/immune-evolution/kmer-signatu...</td>\n",
       "      <td>alphabet-dayhoff__ksize-51__scaled-10</td>\n",
       "      <td>MACA_21m_F_LUNG_55__TTGCGTCTCTATCGCC.sig</td>\n",
       "      <td>alphabet</td>\n",
       "      <td>dayhoff</td>\n",
       "      <td>51</td>\n",
       "      <td>scaled</td>\n",
       "      <td>10</td>\n",
       "      <td>MACA_21m_F_LUNG_55__TTGCGTCTCTATCGCC</td>\n",
       "      <td>TTGCGTCTCTATCGCC-1-53-0-0-mouse-hlm</td>\n",
       "      <td>...</td>\n",
       "      <td>MACA_21m_F_LUNG_55</td>\n",
       "      <td>NaN</td>\n",
       "      <td>NaN</td>\n",
       "      <td>NaN</td>\n",
       "      <td>hlm</td>\n",
       "      <td>lymphoid: B cell</td>\n",
       "      <td>lymphoid: B cell: B cell</td>\n",
       "      <td>lymphoid: mouse</td>\n",
       "      <td>lymphoid: B cell: mouse</td>\n",
       "      <td>mouse_21-F-55</td>\n",
       "    </tr>\n",
       "    <tr>\n",
       "      <th>4</th>\n",
       "      <td>/mnt/ibm_sm/olga/immune-evolution/kmer-signatu...</td>\n",
       "      <td>alphabet-dayhoff__ksize-51__scaled-10</td>\n",
       "      <td>MACA_18m_F_LUNG_51__GTATTCTTCCTGCAGG.sig</td>\n",
       "      <td>alphabet</td>\n",
       "      <td>dayhoff</td>\n",
       "      <td>51</td>\n",
       "      <td>scaled</td>\n",
       "      <td>10</td>\n",
       "      <td>MACA_18m_F_LUNG_51__GTATTCTTCCTGCAGG</td>\n",
       "      <td>GTATTCTTCCTGCAGG-1-12-0-0-mouse-hlm</td>\n",
       "      <td>...</td>\n",
       "      <td>MACA_18m_F_LUNG_51</td>\n",
       "      <td>NaN</td>\n",
       "      <td>NaN</td>\n",
       "      <td>NaN</td>\n",
       "      <td>hlm</td>\n",
       "      <td>myeloid: Monocyte</td>\n",
       "      <td>myeloid: Monocyte: Monocyte</td>\n",
       "      <td>myeloid: mouse</td>\n",
       "      <td>myeloid: Monocyte: mouse</td>\n",
       "      <td>mouse_18-F-51</td>\n",
       "    </tr>\n",
       "  </tbody>\n",
       "</table>\n",
       "<p>5 rows × 38 columns</p>\n",
       "</div>"
      ],
      "text/plain": [
       "                                            sig_path  \\\n",
       "0  /mnt/ibm_sm/olga/immune-evolution/kmer-signatu...   \n",
       "1  /mnt/ibm_sm/olga/immune-evolution/kmer-signatu...   \n",
       "2  /mnt/ibm_sm/olga/immune-evolution/kmer-signatu...   \n",
       "3  /mnt/ibm_sm/olga/immune-evolution/kmer-signatu...   \n",
       "4  /mnt/ibm_sm/olga/immune-evolution/kmer-signatu...   \n",
       "\n",
       "                               sketch_id  \\\n",
       "0  alphabet-dayhoff__ksize-51__scaled-10   \n",
       "1  alphabet-dayhoff__ksize-51__scaled-10   \n",
       "2  alphabet-dayhoff__ksize-51__scaled-10   \n",
       "3  alphabet-dayhoff__ksize-51__scaled-10   \n",
       "4  alphabet-dayhoff__ksize-51__scaled-10   \n",
       "\n",
       "                               sig_basename alpha_moltype alphabet  ksize  \\\n",
       "0  MACA_21m_F_LUNG_54__TTCTCAAAGCGTGTCC.sig      alphabet  dayhoff     51   \n",
       "1  MACA_18m_M_LUNG_53__AAACGGGGTTGTCGCG.sig      alphabet  dayhoff     51   \n",
       "2  MACA_21m_F_LUNG_55__ATGGGAGAGACAATAC.sig      alphabet  dayhoff     51   \n",
       "3  MACA_21m_F_LUNG_55__TTGCGTCTCTATCGCC.sig      alphabet  dayhoff     51   \n",
       "4  MACA_18m_F_LUNG_51__GTATTCTTCCTGCAGG.sig      alphabet  dayhoff     51   \n",
       "\n",
       "  sketch_style sketch_value                               cell_id  \\\n",
       "0       scaled           10  MACA_21m_F_LUNG_54__TTCTCAAAGCGTGTCC   \n",
       "1       scaled           10  MACA_18m_M_LUNG_53__AAACGGGGTTGTCGCG   \n",
       "2       scaled           10  MACA_21m_F_LUNG_55__ATGGGAGAGACAATAC   \n",
       "3       scaled           10  MACA_21m_F_LUNG_55__TTGCGTCTCTATCGCC   \n",
       "4       scaled           10  MACA_18m_F_LUNG_51__GTATTCTTCCTGCAGG   \n",
       "\n",
       "                                 index  ...     channel_cleaned batch n_genes  \\\n",
       "0  TTCTCAAAGCGTGTCC-1-52-0-0-mouse-hlm  ...  MACA_21m_F_LUNG_54   NaN     NaN   \n",
       "1  AAACGGGGTTGTCGCG-1-32-0-0-mouse-hlm  ...  MACA_18m_M_LUNG_53   NaN     NaN   \n",
       "2  ATGGGAGAGACAATAC-1-53-0-0-mouse-hlm  ...  MACA_21m_F_LUNG_55   NaN     NaN   \n",
       "3  TTGCGTCTCTATCGCC-1-53-0-0-mouse-hlm  ...  MACA_21m_F_LUNG_55   NaN     NaN   \n",
       "4  GTATTCTTCCTGCAGG-1-12-0-0-mouse-hlm  ...  MACA_18m_F_LUNG_51   NaN     NaN   \n",
       "\n",
       "  n_counts species_batch_v2  compartment_broad     compartment_broad_narrow  \\\n",
       "0      NaN              hlm   lymphoid: B cell     lymphoid: B cell: B cell   \n",
       "1      NaN              hlm  myeloid: Monocyte  myeloid: Monocyte: Monocyte   \n",
       "2      NaN              hlm  myeloid: Monocyte  myeloid: Monocyte: Monocyte   \n",
       "3      NaN              hlm   lymphoid: B cell     lymphoid: B cell: B cell   \n",
       "4      NaN              hlm  myeloid: Monocyte  myeloid: Monocyte: Monocyte   \n",
       "\n",
       "  compartment_species compartment_narrow_species common_individual_id  \n",
       "0     lymphoid: mouse    lymphoid: B cell: mouse        mouse_21-F-54  \n",
       "1      myeloid: mouse   myeloid: Monocyte: mouse        mouse_18-M-53  \n",
       "2      myeloid: mouse   myeloid: Monocyte: mouse        mouse_21-F-55  \n",
       "3     lymphoid: mouse    lymphoid: B cell: mouse        mouse_21-F-55  \n",
       "4      myeloid: mouse   myeloid: Monocyte: mouse        mouse_18-F-51  \n",
       "\n",
       "[5 rows x 38 columns]"
      ]
     },
     "metadata": {},
     "output_type": "display_data"
    }
   ],
   "source": [
    "train_sig_df_celltypes = train_sig_df.join(adata_shared.obs, on='cell_id')\n",
    "describe(train_sig_df_celltypes)"
   ]
  },
  {
   "cell_type": "markdown",
   "id": "designed-theater",
   "metadata": {},
   "source": [
    "### Merge signatures on celltypes"
   ]
  },
  {
   "cell_type": "code",
   "execution_count": 83,
   "id": "secret-backup",
   "metadata": {},
   "outputs": [
    {
     "name": "stderr",
     "output_type": "stream",
     "text": [
      "\n",
      "  0%|          | 0/30 [00:00<?, ?it/s]\u001b[A"
     ]
    },
    {
     "name": "stdout",
     "output_type": "stream",
     "text": [
      "30\n"
     ]
    },
    {
     "name": "stderr",
     "output_type": "stream",
     "text": [
      "\n",
      "100%|██████████| 30/30 [00:01<00:00, 24.96it/s][A\n"
     ]
    },
    {
     "name": "stdout",
     "output_type": "stream",
     "text": [
      "(30, 5)\n",
      "--- First 5 entries ---\n"
     ]
    },
    {
     "data": {
      "text/html": [
       "<div>\n",
       "<style scoped>\n",
       "    .dataframe tbody tr th:only-of-type {\n",
       "        vertical-align: middle;\n",
       "    }\n",
       "\n",
       "    .dataframe tbody tr th {\n",
       "        vertical-align: top;\n",
       "    }\n",
       "\n",
       "    .dataframe thead th {\n",
       "        text-align: right;\n",
       "    }\n",
       "</style>\n",
       "<table border=\"1\" class=\"dataframe\">\n",
       "  <thead>\n",
       "    <tr style=\"text-align: right;\">\n",
       "      <th></th>\n",
       "      <th>sketch_id</th>\n",
       "      <th>alphabet</th>\n",
       "      <th>ksize</th>\n",
       "      <th>broad_group</th>\n",
       "      <th>sig_path</th>\n",
       "    </tr>\n",
       "  </thead>\n",
       "  <tbody>\n",
       "    <tr>\n",
       "      <th>0</th>\n",
       "      <td>alphabet-DNA__ksize-21__scaled-10</td>\n",
       "      <td>DNA</td>\n",
       "      <td>21</td>\n",
       "      <td>Alveolar Epithelial Type 2</td>\n",
       "      <td>/mnt/ibm_sm/olga/immune-evolution/kmer-signatu...</td>\n",
       "    </tr>\n",
       "    <tr>\n",
       "      <th>1</th>\n",
       "      <td>alphabet-DNA__ksize-21__scaled-10</td>\n",
       "      <td>DNA</td>\n",
       "      <td>21</td>\n",
       "      <td>B cell</td>\n",
       "      <td>/mnt/ibm_sm/olga/immune-evolution/kmer-signatu...</td>\n",
       "    </tr>\n",
       "    <tr>\n",
       "      <th>2</th>\n",
       "      <td>alphabet-DNA__ksize-21__scaled-10</td>\n",
       "      <td>DNA</td>\n",
       "      <td>21</td>\n",
       "      <td>Capillary</td>\n",
       "      <td>/mnt/ibm_sm/olga/immune-evolution/kmer-signatu...</td>\n",
       "    </tr>\n",
       "    <tr>\n",
       "      <th>3</th>\n",
       "      <td>alphabet-DNA__ksize-21__scaled-10</td>\n",
       "      <td>DNA</td>\n",
       "      <td>21</td>\n",
       "      <td>Dendritic</td>\n",
       "      <td>/mnt/ibm_sm/olga/immune-evolution/kmer-signatu...</td>\n",
       "    </tr>\n",
       "    <tr>\n",
       "      <th>4</th>\n",
       "      <td>alphabet-DNA__ksize-21__scaled-10</td>\n",
       "      <td>DNA</td>\n",
       "      <td>21</td>\n",
       "      <td>Fibroblast</td>\n",
       "      <td>/mnt/ibm_sm/olga/immune-evolution/kmer-signatu...</td>\n",
       "    </tr>\n",
       "  </tbody>\n",
       "</table>\n",
       "</div>"
      ],
      "text/plain": [
       "                           sketch_id alphabet  ksize  \\\n",
       "0  alphabet-DNA__ksize-21__scaled-10      DNA     21   \n",
       "1  alphabet-DNA__ksize-21__scaled-10      DNA     21   \n",
       "2  alphabet-DNA__ksize-21__scaled-10      DNA     21   \n",
       "3  alphabet-DNA__ksize-21__scaled-10      DNA     21   \n",
       "4  alphabet-DNA__ksize-21__scaled-10      DNA     21   \n",
       "\n",
       "                  broad_group  \\\n",
       "0  Alveolar Epithelial Type 2   \n",
       "1                      B cell   \n",
       "2                   Capillary   \n",
       "3                   Dendritic   \n",
       "4                  Fibroblast   \n",
       "\n",
       "                                            sig_path  \n",
       "0  /mnt/ibm_sm/olga/immune-evolution/kmer-signatu...  \n",
       "1  /mnt/ibm_sm/olga/immune-evolution/kmer-signatu...  \n",
       "2  /mnt/ibm_sm/olga/immune-evolution/kmer-signatu...  \n",
       "3  /mnt/ibm_sm/olga/immune-evolution/kmer-signatu...  \n",
       "4  /mnt/ibm_sm/olga/immune-evolution/kmer-signatu...  "
      ]
     },
     "metadata": {},
     "output_type": "display_data"
    }
   ],
   "source": [
    "\n",
    "\n",
    "grouped = train_sig_df_celltypes.groupby(\n",
    "    [\"sketch_id\", \"alphabet\", \"ksize\", \"broad_group\"]\n",
    ")\n",
    "print(len(grouped))\n",
    "\n",
    "\n",
    "\n",
    "\n",
    "\n",
    "per_celltype_sigs = Parallel(n_jobs=96)(\n",
    "    delayed(sig_utils.merge_celltype_sigs)(\n",
    "        sketch_id,\n",
    "        ksize,\n",
    "        moltype,\n",
    "        broad_group,\n",
    "        df,\n",
    "        merged_celltype_outdir_base=train_2_merged_celltype,\n",
    "        dryrun=False,\n",
    "        force=True\n",
    "    )\n",
    "    for (sketch_id, moltype, ksize, broad_group), df in tqdm(\n",
    "        grouped, total=len(grouped)\n",
    "    )\n",
    ")\n",
    "\n",
    "\n",
    "per_celltype_sigs_df = pd.Series(per_celltype_sigs, index=grouped.groups).reset_index()\n",
    "per_celltype_sigs_df = per_celltype_sigs_df.rename(\n",
    "    columns={\n",
    "        \"level_0\": \"sketch_id\",\n",
    "        \"level_1\": \"alphabet\",\n",
    "        \"level_2\": \"ksize\",\n",
    "        \"level_3\": \"broad_group\",\n",
    "        0: \"sig_path\",\n",
    "    }\n",
    ")\n",
    "describe(per_celltype_sigs_df)"
   ]
  },
  {
   "cell_type": "markdown",
   "id": "satisfactory-steal",
   "metadata": {},
   "source": [
    "### Remove hashes present across 80% of celltypes"
   ]
  },
  {
   "cell_type": "code",
   "execution_count": 84,
   "id": "impaired-perfume",
   "metadata": {},
   "outputs": [
    {
     "data": {
      "text/plain": [
       "sketch_id      object\n",
       "alphabet       object\n",
       "ksize           int64\n",
       "broad_group    object\n",
       "sig_path       object\n",
       "dtype: object"
      ]
     },
     "execution_count": 84,
     "metadata": {},
     "output_type": "execute_result"
    }
   ],
   "source": [
    "per_celltype_sigs_df.dtypes"
   ]
  },
  {
   "cell_type": "code",
   "execution_count": 85,
   "id": "forced-sentence",
   "metadata": {},
   "outputs": [
    {
     "name": "stderr",
     "output_type": "stream",
     "text": [
      "\n",
      "  0%|          | 0/3 [00:00<?, ?it/s]\u001b[A\n",
      "100%|██████████| 3/3 [00:01<00:00,  2.60it/s]\u001b[A\n"
     ]
    },
    {
     "name": "stdout",
     "output_type": "stream",
     "text": [
      "CPU times: user 32.5 s, sys: 6.29 s, total: 38.8 s\n",
      "Wall time: 5h 35min 33s\n"
     ]
    },
    {
     "data": {
      "text/plain": [
       "3"
      ]
     },
     "execution_count": 85,
     "metadata": {},
     "output_type": "execute_result"
    }
   ],
   "source": [
    "%%time\n",
    "\n",
    "grouped = per_celltype_sigs_df.groupby([\"sketch_id\", \"alphabet\", \"ksize\"])\n",
    "\n",
    "\n",
    "sigs_without_common_hashes = Parallel(n_jobs=64)(\n",
    "    delayed(sig_utils.remove_common_hashes_from_sig_df)(\n",
    "        df,\n",
    "        sketch_id,\n",
    "        ksize,\n",
    "        moltype,\n",
    "        fraction_threshold=0.8,\n",
    "        output_dir=train_3_merged_celltype_remove_common,\n",
    "        force=True,\n",
    "        create_hash_count_csv=True,\n",
    "    )\n",
    "    for (sketch_id, moltype, ksize), df in tqdm(grouped, total=len(grouped))\n",
    ")\n",
    "len(sigs_without_common_hashes)"
   ]
  },
  {
   "cell_type": "code",
   "execution_count": 104,
   "id": "final-connectivity",
   "metadata": {},
   "outputs": [
    {
     "data": {
      "text/plain": [
       "'/home/olga/data_sm/immune-evolution/kmer-signatures/1--train-mouse/2--merged-celltype-sigs'"
      ]
     },
     "execution_count": 104,
     "metadata": {},
     "output_type": "execute_result"
    }
   ],
   "source": [
    "train_2_merged_celltype"
   ]
  },
  {
   "cell_type": "code",
   "execution_count": 108,
   "id": "structural-innocent",
   "metadata": {},
   "outputs": [
    {
     "data": {
      "text/plain": [
       "'/home/olga/data_sm/immune-evolution/kmer-signatures/1--train-mouse/2--merged-celltype-sigs'"
      ]
     },
     "execution_count": 108,
     "metadata": {},
     "output_type": "execute_result"
    }
   ],
   "source": [
    "train_2_merged_celltype"
   ]
  },
  {
   "cell_type": "code",
   "execution_count": 110,
   "id": "several-cancellation",
   "metadata": {},
   "outputs": [
    {
     "name": "stdout",
     "output_type": "stream",
     "text": [
      "total 3.5K\n",
      "drwxr-xr-x 7 olga czb 4.0K Feb 28 16:57 \u001b[0m\u001b[01;34m.\u001b[0m/\n",
      "drwxr-xr-x 7 olga czb 4.0K Mar  5 12:02 \u001b[01;34m..\u001b[0m/\n",
      "drwxr-xr-x 4 olga czb 4.0K Feb 28 10:19 \u001b[01;34m0--protein-coding-fastas\u001b[0m/\n",
      "drwxr-xr-x 5 olga czb 4.0K Feb 28 09:34 \u001b[01;34m1--single-cell-sigs\u001b[0m/\n",
      "drwxr-xr-x 5 olga czb 4.0K Feb 28 10:58 \u001b[01;34m2--merged-celltype-sigs\u001b[0m/\n",
      "drwxr-xr-x 8 olga czb 4.0K Feb 28 11:10 \u001b[01;34m3--merged-celltype-remove-common-kmers\u001b[0m/\n",
      "drwxr-xr-x 2 olga czb 4.0K Mar 16 10:36 \u001b[01;34m4--celltype-sbt-dbts\u001b[0m/\n"
     ]
    }
   ],
   "source": [
    "ls -lha /home/olga/data_sm/immune-evolution/kmer-signatures/1--train-mouse"
   ]
  },
  {
   "cell_type": "code",
   "execution_count": 109,
   "id": "documented-timing",
   "metadata": {},
   "outputs": [
    {
     "data": {
      "text/plain": [
       "'/home/olga/data_sm/immune-evolution/kmer-signatures/1--train-mouse/3--merged-celltype-remove-common-kmers'"
      ]
     },
     "execution_count": 109,
     "metadata": {},
     "output_type": "execute_result"
    }
   ],
   "source": [
    "train_3_merged_celltype_remove_common"
   ]
  },
  {
   "cell_type": "code",
   "execution_count": 113,
   "id": "mental-orlando",
   "metadata": {},
   "outputs": [
    {
     "name": "stdout",
     "output_type": "stream",
     "text": [
      "/home/olga/data_sm/immune-evolution/kmer-signatures/1--train-mouse/3--merged-celltype-remove-common-kmers/alphabet-dayhoff__ksize-51__scaled-10:\n",
      "total 245M\n",
      "drwxr-xr-x 2 olga czb 4.0K Feb 28 11:39 \u001b[0m\u001b[01;34m.\u001b[0m/\n",
      "drwxr-xr-x 8 olga czb 4.0K Feb 28 11:10 \u001b[01;34m..\u001b[0m/\n",
      "-rw-r--r-- 1 olga czb 1.6M Feb 28 11:39 alveolar_epithelial_type_2.sig.sig\n",
      "-rw-r--r-- 1 olga czb  19M Feb 28 11:39 b_cell.sig.sig\n",
      "-rw-r--r-- 1 olga czb  22M Feb 28 11:39 capillary.sig.sig\n",
      "-rw-r--r-- 1 olga czb 6.1M Feb 28 11:39 dendritic.sig.sig\n",
      "-rw-r--r-- 1 olga czb 7.7M Feb 28 11:39 fibroblast.sig.sig\n",
      "-rw-r--r-- 1 olga czb 123M Feb 28 11:11 hash_counts.csv\n",
      "-rw-r--r-- 1 olga czb 5.7M Feb 28 11:39 macrophage.sig.sig\n",
      "-rw-r--r-- 1 olga czb  40M Feb 28 11:39 monocyte.sig.sig\n",
      "-rw-r--r-- 1 olga czb 3.7M Feb 28 11:39 natural_killer_t_cell.sig.sig\n",
      "-rw-r--r-- 1 olga czb 703K Feb 28 11:39 smooth_muscle_and_myofibroblast.sig.sig\n",
      "-rw-r--r-- 1 olga czb  17M Feb 28 11:39 t_cell.sig.sig\n",
      "\n",
      "/home/olga/data_sm/immune-evolution/kmer-signatures/1--train-mouse/3--merged-celltype-remove-common-kmers/alphabet-DNA__ksize-21__scaled-10:\n",
      "total 750M\n",
      "drwxr-xr-x 2 olga czb 4.0K Feb 28 16:43 \u001b[01;34m.\u001b[0m/\n",
      "drwxr-xr-x 8 olga czb 4.0K Feb 28 11:10 \u001b[01;34m..\u001b[0m/\n",
      "-rw-r--r-- 1 olga czb 4.5M Feb 28 16:43 alveolar_epithelial_type_2.sig.sig\n",
      "-rw-r--r-- 1 olga czb  56M Feb 28 16:43 b_cell.sig.sig\n",
      "-rw-r--r-- 1 olga czb  69M Feb 28 16:43 capillary.sig.sig\n",
      "-rw-r--r-- 1 olga czb  19M Feb 28 16:43 dendritic.sig.sig\n",
      "-rw-r--r-- 1 olga czb  24M Feb 28 16:43 fibroblast.sig.sig\n",
      "-rw-r--r-- 1 olga czb 382M Feb 28 11:12 hash_counts.csv\n",
      "-rw-r--r-- 1 olga czb  16M Feb 28 16:43 macrophage.sig.sig\n",
      "-rw-r--r-- 1 olga czb 119M Feb 28 16:43 monocyte.sig.sig\n",
      "-rw-r--r-- 1 olga czb  11M Feb 28 16:43 natural_killer_t_cell.sig.sig\n",
      "-rw-r--r-- 1 olga czb 2.1M Feb 28 16:43 smooth_muscle_and_myofibroblast.sig.sig\n",
      "-rw-r--r-- 1 olga czb  52M Feb 28 16:43 t_cell.sig.sig\n",
      "\n",
      "/home/olga/data_sm/immune-evolution/kmer-signatures/1--train-mouse/3--merged-celltype-remove-common-kmers/alphabet-protein__ksize-30__scaled-10:\n",
      "total 296M\n",
      "drwxr-xr-x 2 olga czb 4.0K Feb 28 11:55 \u001b[01;34m.\u001b[0m/\n",
      "drwxr-xr-x 8 olga czb 4.0K Feb 28 11:10 \u001b[01;34m..\u001b[0m/\n",
      "-rw-r--r-- 1 olga czb 1.8M Feb 28 11:55 alveolar_epithelial_type_2.sig.sig\n",
      "-rw-r--r-- 1 olga czb  23M Feb 28 11:55 b_cell.sig.sig\n",
      "-rw-r--r-- 1 olga czb  27M Feb 28 11:55 capillary.sig.sig\n",
      "-rw-r--r-- 1 olga czb 7.3M Feb 28 11:55 dendritic.sig.sig\n",
      "-rw-r--r-- 1 olga czb 9.5M Feb 28 11:55 fibroblast.sig.sig\n",
      "-rw-r--r-- 1 olga czb 149M Feb 28 11:11 hash_counts.csv\n",
      "-rw-r--r-- 1 olga czb 6.4M Feb 28 11:55 macrophage.sig.sig\n",
      "-rw-r--r-- 1 olga czb  48M Feb 28 11:55 monocyte.sig.sig\n",
      "-rw-r--r-- 1 olga czb 4.5M Feb 28 11:55 natural_killer_t_cell.sig.sig\n",
      "-rw-r--r-- 1 olga czb 846K Feb 28 11:55 smooth_muscle_and_myofibroblast.sig.sig\n",
      "-rw-r--r-- 1 olga czb  21M Feb 28 11:55 t_cell.sig.sig\n",
      "\n",
      "/home/olga/data_sm/immune-evolution/kmer-signatures/1--train-mouse/3--merged-celltype-remove-common-kmers/dayhoff:\n",
      "total 1.5K\n",
      "drwxr-xr-x 2 olga czb 4.0K Feb 28 11:03 \u001b[01;34m.\u001b[0m/\n",
      "drwxr-xr-x 8 olga czb 4.0K Feb 28 11:10 \u001b[01;34m..\u001b[0m/\n",
      "-rw-r--r-- 1 olga czb   14 Feb 28 11:08 hash_counts.csv\n",
      "\n",
      "/home/olga/data_sm/immune-evolution/kmer-signatures/1--train-mouse/3--merged-celltype-remove-common-kmers/DNA:\n",
      "total 1.5K\n",
      "drwxr-xr-x 2 olga czb 4.0K Feb 28 11:03 \u001b[01;34m.\u001b[0m/\n",
      "drwxr-xr-x 8 olga czb 4.0K Feb 28 11:10 \u001b[01;34m..\u001b[0m/\n",
      "-rw-r--r-- 1 olga czb   14 Feb 28 11:08 hash_counts.csv\n",
      "\n",
      "/home/olga/data_sm/immune-evolution/kmer-signatures/1--train-mouse/3--merged-celltype-remove-common-kmers/protein:\n",
      "total 1.5K\n",
      "drwxr-xr-x 2 olga czb 4.0K Feb 28 11:03 \u001b[01;34m.\u001b[0m/\n",
      "drwxr-xr-x 8 olga czb 4.0K Feb 28 11:10 \u001b[01;34m..\u001b[0m/\n",
      "-rw-r--r-- 1 olga czb   14 Feb 28 11:08 hash_counts.csv\n"
     ]
    }
   ],
   "source": [
    "ls -lha $train_3_merged_celltype_remove_common/*"
   ]
  },
  {
   "cell_type": "code",
   "execution_count": 107,
   "id": "musical-growing",
   "metadata": {},
   "outputs": [
    {
     "name": "stdout",
     "output_type": "stream",
     "text": [
      "total 1.5K\n",
      "drwxr-xr-x 2 olga czb 4.0K Feb 28 11:03 \u001b[0m\u001b[01;34m.\u001b[0m/\n",
      "drwxr-xr-x 8 olga czb 4.0K Feb 28 11:10 \u001b[01;34m..\u001b[0m/\n",
      "-rw-r--r-- 1 olga czb   14 Feb 28 11:08 hash_counts.csv\n"
     ]
    }
   ],
   "source": [
    "ls -lha $train_3_merged_celltype_remove_common/dayhoff"
   ]
  },
  {
   "cell_type": "code",
   "execution_count": null,
   "id": "seeing-clothing",
   "metadata": {},
   "outputs": [],
   "source": []
  }
 ],
 "metadata": {
  "kernelspec": {
   "display_name": "Python [conda env:immune-evolution]",
   "language": "python",
   "name": "conda-env-immune-evolution-py"
  },
  "language_info": {
   "codemirror_mode": {
    "name": "ipython",
    "version": 3
   },
   "file_extension": ".py",
   "mimetype": "text/x-python",
   "name": "python",
   "nbconvert_exporter": "python",
   "pygments_lexer": "ipython3",
   "version": "3.7.8"
  }
 },
 "nbformat": 4,
 "nbformat_minor": 5
}
