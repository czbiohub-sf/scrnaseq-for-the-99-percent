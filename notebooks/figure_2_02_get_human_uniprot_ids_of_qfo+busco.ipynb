{
 "cells": [
  {
   "cell_type": "markdown",
   "metadata": {},
   "source": [
    "# Imports"
   ]
  },
  {
   "cell_type": "code",
   "execution_count": 1,
   "metadata": {},
   "outputs": [],
   "source": [
    "%load_ext autoreload\n",
    "%autoreload 2"
   ]
  },
  {
   "cell_type": "code",
   "execution_count": 2,
   "metadata": {},
   "outputs": [],
   "source": [
    "import math\n",
    "import gzip \n",
    "import json\n",
    "import os\n",
    "import glob\n",
    "\n",
    "\n",
    "import pandas as pd\n",
    "import screed\n",
    "from tqdm import tqdm\n",
    "# import seaborn as sns\n",
    "\n",
    "# %matplotlib inline"
   ]
  },
  {
   "cell_type": "code",
   "execution_count": 3,
   "metadata": {},
   "outputs": [],
   "source": [
    "from path_constants import (\n",
    "    QFO_FOLDER,\n",
    "    QFO_EUKARYOTA_FOLDER,\n",
    "    BUSCO_MAMMALIA_FOLDER,\n",
    "    ORTHODB_FOLDER,\n",
    "    SIMULATED_READS_FOLDER,\n",
    ")"
   ]
  },
  {
   "cell_type": "code",
   "execution_count": 4,
   "metadata": {},
   "outputs": [
    {
     "name": "stdout",
     "output_type": "stream",
     "text": [
      "(78, 10)\n"
     ]
    },
    {
     "data": {
      "text/html": [
       "<div>\n",
       "<style scoped>\n",
       "    .dataframe tbody tr th:only-of-type {\n",
       "        vertical-align: middle;\n",
       "    }\n",
       "\n",
       "    .dataframe tbody tr th {\n",
       "        vertical-align: top;\n",
       "    }\n",
       "\n",
       "    .dataframe thead th {\n",
       "        text-align: right;\n",
       "    }\n",
       "</style>\n",
       "<table border=\"1\" class=\"dataframe\">\n",
       "  <thead>\n",
       "    <tr style=\"text-align: right;\">\n",
       "      <th></th>\n",
       "      <th>proteome_id</th>\n",
       "      <th>tax_id</th>\n",
       "      <th>oscode</th>\n",
       "      <th>n_main_fasta_canonical</th>\n",
       "      <th>n_additional_fasta_isoforms</th>\n",
       "      <th>n_gene2acc</th>\n",
       "      <th>species_name</th>\n",
       "      <th>divergence_from_human_mya</th>\n",
       "      <th>scientific_name</th>\n",
       "      <th>common_name_or_strain</th>\n",
       "    </tr>\n",
       "  </thead>\n",
       "  <tbody>\n",
       "    <tr>\n",
       "      <th>0</th>\n",
       "      <td>UP000007062</td>\n",
       "      <td>7165</td>\n",
       "      <td>ANOGA</td>\n",
       "      <td>12553</td>\n",
       "      <td>971</td>\n",
       "      <td>13619</td>\n",
       "      <td>Anopheles gambiae (African malaria mosquito)</td>\n",
       "      <td>797.0</td>\n",
       "      <td>Anopheles gambiae</td>\n",
       "      <td>African malaria mosquito</td>\n",
       "    </tr>\n",
       "    <tr>\n",
       "      <th>1</th>\n",
       "      <td>UP000000798</td>\n",
       "      <td>224324</td>\n",
       "      <td>AQUAE</td>\n",
       "      <td>1553</td>\n",
       "      <td>0</td>\n",
       "      <td>1557</td>\n",
       "      <td>Aquifex aeolicus (strain VF5)</td>\n",
       "      <td>4290.0</td>\n",
       "      <td>Aquifex aeolicus</td>\n",
       "      <td>strain VF5</td>\n",
       "    </tr>\n",
       "    <tr>\n",
       "      <th>2</th>\n",
       "      <td>UP000006548</td>\n",
       "      <td>3702</td>\n",
       "      <td>ARATH</td>\n",
       "      <td>27475</td>\n",
       "      <td>14123</td>\n",
       "      <td>41920</td>\n",
       "      <td>Arabidopsis thaliana (Mouse-ear cress)</td>\n",
       "      <td>1496.0</td>\n",
       "      <td>Arabidopsis thaliana</td>\n",
       "      <td>Mouse-ear cress</td>\n",
       "    </tr>\n",
       "    <tr>\n",
       "      <th>3</th>\n",
       "      <td>UP000001570</td>\n",
       "      <td>224308</td>\n",
       "      <td>BACSU</td>\n",
       "      <td>4260</td>\n",
       "      <td>7</td>\n",
       "      <td>4268</td>\n",
       "      <td>Bacillus subtilis (strain 168)</td>\n",
       "      <td>4290.0</td>\n",
       "      <td>Bacillus subtilis</td>\n",
       "      <td>strain 168</td>\n",
       "    </tr>\n",
       "    <tr>\n",
       "      <th>4</th>\n",
       "      <td>UP000001414</td>\n",
       "      <td>226186</td>\n",
       "      <td>BACTN</td>\n",
       "      <td>4782</td>\n",
       "      <td>0</td>\n",
       "      <td>4823</td>\n",
       "      <td>Bacteroides thetaiotaomicron (strain ATCC 2914...</td>\n",
       "      <td>4290.0</td>\n",
       "      <td>Bacteroides thetaiotaomicron</td>\n",
       "      <td>strain ATCC 29148 / DSM 2079 / NCTC 10582 / E5...</td>\n",
       "    </tr>\n",
       "  </tbody>\n",
       "</table>\n",
       "</div>"
      ],
      "text/plain": [
       "   proteome_id  tax_id oscode  n_main_fasta_canonical  \\\n",
       "0  UP000007062    7165  ANOGA                   12553   \n",
       "1  UP000000798  224324  AQUAE                    1553   \n",
       "2  UP000006548    3702  ARATH                   27475   \n",
       "3  UP000001570  224308  BACSU                    4260   \n",
       "4  UP000001414  226186  BACTN                    4782   \n",
       "\n",
       "   n_additional_fasta_isoforms  n_gene2acc  \\\n",
       "0                          971       13619   \n",
       "1                            0        1557   \n",
       "2                        14123       41920   \n",
       "3                            7        4268   \n",
       "4                            0        4823   \n",
       "\n",
       "                                        species_name  \\\n",
       "0       Anopheles gambiae (African malaria mosquito)   \n",
       "1                      Aquifex aeolicus (strain VF5)   \n",
       "2             Arabidopsis thaliana (Mouse-ear cress)   \n",
       "3                     Bacillus subtilis (strain 168)   \n",
       "4  Bacteroides thetaiotaomicron (strain ATCC 2914...   \n",
       "\n",
       "   divergence_from_human_mya               scientific_name  \\\n",
       "0                      797.0             Anopheles gambiae   \n",
       "1                     4290.0              Aquifex aeolicus   \n",
       "2                     1496.0          Arabidopsis thaliana   \n",
       "3                     4290.0             Bacillus subtilis   \n",
       "4                     4290.0  Bacteroides thetaiotaomicron   \n",
       "\n",
       "                               common_name_or_strain  \n",
       "0                           African malaria mosquito  \n",
       "1                                         strain VF5  \n",
       "2                                    Mouse-ear cress  \n",
       "3                                         strain 168  \n",
       "4  strain ATCC 29148 / DSM 2079 / NCTC 10582 / E5...  "
      ]
     },
     "execution_count": 4,
     "metadata": {},
     "output_type": "execute_result"
    }
   ],
   "source": [
    "species_metadata = pd.read_csv(os.path.join(QFO_FOLDER, \"species_metadata.csv\"))\n",
    "print(species_metadata.shape)\n",
    "species_metadata.head()"
   ]
  },
  {
   "cell_type": "markdown",
   "metadata": {},
   "source": [
    "## All mammals are within 200 million years (mya) of divergence"
   ]
  },
  {
   "cell_type": "code",
   "execution_count": 5,
   "metadata": {},
   "outputs": [
    {
     "data": {
      "text/html": [
       "<div>\n",
       "<style scoped>\n",
       "    .dataframe tbody tr th:only-of-type {\n",
       "        vertical-align: middle;\n",
       "    }\n",
       "\n",
       "    .dataframe tbody tr th {\n",
       "        vertical-align: top;\n",
       "    }\n",
       "\n",
       "    .dataframe thead th {\n",
       "        text-align: right;\n",
       "    }\n",
       "</style>\n",
       "<table border=\"1\" class=\"dataframe\">\n",
       "  <thead>\n",
       "    <tr style=\"text-align: right;\">\n",
       "      <th></th>\n",
       "      <th>proteome_id</th>\n",
       "      <th>tax_id</th>\n",
       "      <th>oscode</th>\n",
       "      <th>n_main_fasta_canonical</th>\n",
       "      <th>n_additional_fasta_isoforms</th>\n",
       "      <th>n_gene2acc</th>\n",
       "      <th>species_name</th>\n",
       "      <th>divergence_from_human_mya</th>\n",
       "      <th>scientific_name</th>\n",
       "      <th>common_name_or_strain</th>\n",
       "    </tr>\n",
       "  </thead>\n",
       "  <tbody>\n",
       "    <tr>\n",
       "      <th>6</th>\n",
       "      <td>UP000009136</td>\n",
       "      <td>9913</td>\n",
       "      <td>BOVIN</td>\n",
       "      <td>23774</td>\n",
       "      <td>14534</td>\n",
       "      <td>38438</td>\n",
       "      <td>Bos taurus (Bovine)</td>\n",
       "      <td>96.00</td>\n",
       "      <td>Bos taurus</td>\n",
       "      <td>Bovine</td>\n",
       "    </tr>\n",
       "    <tr>\n",
       "      <th>11</th>\n",
       "      <td>UP000002254</td>\n",
       "      <td>9615</td>\n",
       "      <td>CANLF</td>\n",
       "      <td>20271</td>\n",
       "      <td>5269</td>\n",
       "      <td>25631</td>\n",
       "      <td>Canis lupus familiaris (Dog) (Canis familiaris)</td>\n",
       "      <td>96.00</td>\n",
       "      <td>Canis lupus familiaris</td>\n",
       "      <td>Dog</td>\n",
       "    </tr>\n",
       "    <tr>\n",
       "      <th>28</th>\n",
       "      <td>UP000001519</td>\n",
       "      <td>9595</td>\n",
       "      <td>GORGO</td>\n",
       "      <td>21795</td>\n",
       "      <td>22932</td>\n",
       "      <td>44943</td>\n",
       "      <td>Gorilla gorilla gorilla (Western lowland gorilla)</td>\n",
       "      <td>9.06</td>\n",
       "      <td>Gorilla gorilla gorilla</td>\n",
       "      <td>Western lowland gorilla</td>\n",
       "    </tr>\n",
       "    <tr>\n",
       "      <th>32</th>\n",
       "      <td>UP000005640</td>\n",
       "      <td>9606</td>\n",
       "      <td>HUMAN</td>\n",
       "      <td>21146</td>\n",
       "      <td>74769</td>\n",
       "      <td>96332</td>\n",
       "      <td>Homo sapiens (Human)</td>\n",
       "      <td>0.00</td>\n",
       "      <td>Homo sapiens</td>\n",
       "      <td>Human</td>\n",
       "    </tr>\n",
       "    <tr>\n",
       "      <th>40</th>\n",
       "      <td>UP000002280</td>\n",
       "      <td>13616</td>\n",
       "      <td>MONDO</td>\n",
       "      <td>21276</td>\n",
       "      <td>968</td>\n",
       "      <td>22319</td>\n",
       "      <td>Monodelphis domestica (Gray short-tailed opossum)</td>\n",
       "      <td>159.00</td>\n",
       "      <td>Monodelphis domestica</td>\n",
       "      <td>Gray short-tailed opossum</td>\n",
       "    </tr>\n",
       "    <tr>\n",
       "      <th>42</th>\n",
       "      <td>UP000000589</td>\n",
       "      <td>10090</td>\n",
       "      <td>MOUSE</td>\n",
       "      <td>22287</td>\n",
       "      <td>40369</td>\n",
       "      <td>63134</td>\n",
       "      <td>Mus musculus (Mouse)</td>\n",
       "      <td>90.00</td>\n",
       "      <td>Mus musculus</td>\n",
       "      <td>Mouse</td>\n",
       "    </tr>\n",
       "    <tr>\n",
       "      <th>52</th>\n",
       "      <td>UP000002277</td>\n",
       "      <td>9598</td>\n",
       "      <td>PANTR</td>\n",
       "      <td>23006</td>\n",
       "      <td>25788</td>\n",
       "      <td>49266</td>\n",
       "      <td>Pan troglodytes (Chimpanzee)</td>\n",
       "      <td>6.70</td>\n",
       "      <td>Pan troglodytes</td>\n",
       "      <td>Chimpanzee</td>\n",
       "    </tr>\n",
       "    <tr>\n",
       "      <th>60</th>\n",
       "      <td>UP000002494</td>\n",
       "      <td>10116</td>\n",
       "      <td>RAT</td>\n",
       "      <td>21678</td>\n",
       "      <td>9885</td>\n",
       "      <td>32629</td>\n",
       "      <td>Rattus norvegicus (Rat)</td>\n",
       "      <td>90.00</td>\n",
       "      <td>Rattus norvegicus</td>\n",
       "      <td>Rat</td>\n",
       "    </tr>\n",
       "  </tbody>\n",
       "</table>\n",
       "</div>"
      ],
      "text/plain": [
       "    proteome_id  tax_id oscode  n_main_fasta_canonical  \\\n",
       "6   UP000009136    9913  BOVIN                   23774   \n",
       "11  UP000002254    9615  CANLF                   20271   \n",
       "28  UP000001519    9595  GORGO                   21795   \n",
       "32  UP000005640    9606  HUMAN                   21146   \n",
       "40  UP000002280   13616  MONDO                   21276   \n",
       "42  UP000000589   10090  MOUSE                   22287   \n",
       "52  UP000002277    9598  PANTR                   23006   \n",
       "60  UP000002494   10116    RAT                   21678   \n",
       "\n",
       "    n_additional_fasta_isoforms  n_gene2acc  \\\n",
       "6                         14534       38438   \n",
       "11                         5269       25631   \n",
       "28                        22932       44943   \n",
       "32                        74769       96332   \n",
       "40                          968       22319   \n",
       "42                        40369       63134   \n",
       "52                        25788       49266   \n",
       "60                         9885       32629   \n",
       "\n",
       "                                         species_name  \\\n",
       "6                                 Bos taurus (Bovine)   \n",
       "11    Canis lupus familiaris (Dog) (Canis familiaris)   \n",
       "28  Gorilla gorilla gorilla (Western lowland gorilla)   \n",
       "32                               Homo sapiens (Human)   \n",
       "40  Monodelphis domestica (Gray short-tailed opossum)   \n",
       "42                               Mus musculus (Mouse)   \n",
       "52                       Pan troglodytes (Chimpanzee)   \n",
       "60                            Rattus norvegicus (Rat)   \n",
       "\n",
       "    divergence_from_human_mya          scientific_name  \\\n",
       "6                       96.00               Bos taurus   \n",
       "11                      96.00   Canis lupus familiaris   \n",
       "28                       9.06  Gorilla gorilla gorilla   \n",
       "32                       0.00             Homo sapiens   \n",
       "40                     159.00    Monodelphis domestica   \n",
       "42                      90.00             Mus musculus   \n",
       "52                       6.70          Pan troglodytes   \n",
       "60                      90.00        Rattus norvegicus   \n",
       "\n",
       "        common_name_or_strain  \n",
       "6                      Bovine  \n",
       "11                        Dog  \n",
       "28    Western lowland gorilla  \n",
       "32                      Human  \n",
       "40  Gray short-tailed opossum  \n",
       "42                      Mouse  \n",
       "52                 Chimpanzee  \n",
       "60                        Rat  "
      ]
     },
     "execution_count": 5,
     "metadata": {},
     "output_type": "execute_result"
    }
   ],
   "source": [
    "species_metadata.query('divergence_from_human_mya < 200')"
   ]
  },
  {
   "cell_type": "markdown",
   "metadata": {},
   "source": [
    "# Read BUSCO + OrthoDB info"
   ]
  },
  {
   "cell_type": "code",
   "execution_count": 6,
   "metadata": {},
   "outputs": [
    {
     "name": "stdout",
     "output_type": "stream",
     "text": [
      "total 12M\n",
      "drwxr-xr-x 2 olga czb 4.0K Oct 14 17:33 .\n",
      "drwxr-xr-x 3 olga czb 4.0K Oct 14 16:37 ..\n",
      "-rw-r--r-- 1 olga czb 1.9M Oct 14 17:33 busco_mammalia__orthodb__to__uniprot.csv\n",
      "-rw-r--r-- 1 olga czb 4.1M Oct 14 17:16 busco_mammalia__orthodb__to__uniprot__with_species.csv\n",
      "-rwxr-xr-x 1 olga czb 5.9M Oct 14 16:37 ogs.id.info\n",
      "-rwxr-xr-x 1 olga czb  602 Oct 14 16:37 species.info\n"
     ]
    }
   ],
   "source": [
    "! ls -lha $BUSCO_MAMMALIA_FOLDER"
   ]
  },
  {
   "cell_type": "markdown",
   "metadata": {},
   "source": [
    "## Read species info"
   ]
  },
  {
   "cell_type": "code",
   "execution_count": 7,
   "metadata": {},
   "outputs": [
    {
     "name": "stdout",
     "output_type": "stream",
     "text": [
      "(24,)\n"
     ]
    },
    {
     "data": {
      "text/plain": [
       "tax_id\n",
       "1026970     Nannospalax galili\n",
       "246437        Tupaia chinensis\n",
       "9837        Camelus bactrianus\n",
       "34839      Chinchilla lanigera\n",
       "42254            Sorex araneus\n",
       "Name: species_name, dtype: object"
      ]
     },
     "execution_count": 7,
     "metadata": {},
     "output_type": "execute_result"
    }
   ],
   "source": [
    "busco_mammalia_species = pd.read_csv(\n",
    "    os.path.join(BUSCO_MAMMALIA_FOLDER, \"species.info\"),\n",
    "    sep=\"\\t\",\n",
    "    index_col=0,\n",
    "    names=[\"tax_id\", \"species_name\"],\n",
    "    squeeze=True,\n",
    ")\n",
    "print(busco_mammalia_species.shape)\n",
    "busco_mammalia_species.head()"
   ]
  },
  {
   "cell_type": "code",
   "execution_count": 8,
   "metadata": {},
   "outputs": [
    {
     "data": {
      "text/plain": [
       "dtype('O')"
      ]
     },
     "execution_count": 8,
     "metadata": {},
     "output_type": "execute_result"
    }
   ],
   "source": [
    "busco_mammalia_species.dtypes"
   ]
  },
  {
   "cell_type": "markdown",
   "metadata": {},
   "source": [
    "## Read BUSCO Mammalia orthogroups info, containing both BUSCO + OrthoDB IDs"
   ]
  },
  {
   "cell_type": "code",
   "execution_count": 9,
   "metadata": {},
   "outputs": [
    {
     "name": "stdout",
     "output_type": "stream",
     "text": [
      "(218112, 2)\n"
     ]
    },
    {
     "data": {
      "text/html": [
       "<div>\n",
       "<style scoped>\n",
       "    .dataframe tbody tr th:only-of-type {\n",
       "        vertical-align: middle;\n",
       "    }\n",
       "\n",
       "    .dataframe tbody tr th {\n",
       "        vertical-align: top;\n",
       "    }\n",
       "\n",
       "    .dataframe thead th {\n",
       "        text-align: right;\n",
       "    }\n",
       "</style>\n",
       "<table border=\"1\" class=\"dataframe\">\n",
       "  <thead>\n",
       "    <tr style=\"text-align: right;\">\n",
       "      <th></th>\n",
       "      <th>busco_id</th>\n",
       "      <th>orthodb_id</th>\n",
       "    </tr>\n",
       "  </thead>\n",
       "  <tbody>\n",
       "    <tr>\n",
       "      <th>0</th>\n",
       "      <td>34839_0:0032fe</td>\n",
       "      <td>6011at40674</td>\n",
       "    </tr>\n",
       "    <tr>\n",
       "      <th>1</th>\n",
       "      <td>118797_0:00467b</td>\n",
       "      <td>6011at40674</td>\n",
       "    </tr>\n",
       "    <tr>\n",
       "      <th>2</th>\n",
       "      <td>29078_0:0007f1</td>\n",
       "      <td>6011at40674</td>\n",
       "    </tr>\n",
       "    <tr>\n",
       "      <th>3</th>\n",
       "      <td>9986_0:00087d</td>\n",
       "      <td>6011at40674</td>\n",
       "    </tr>\n",
       "    <tr>\n",
       "      <th>4</th>\n",
       "      <td>9837_0:000f1d</td>\n",
       "      <td>6011at40674</td>\n",
       "    </tr>\n",
       "  </tbody>\n",
       "</table>\n",
       "</div>"
      ],
      "text/plain": [
       "          busco_id   orthodb_id\n",
       "0   34839_0:0032fe  6011at40674\n",
       "1  118797_0:00467b  6011at40674\n",
       "2   29078_0:0007f1  6011at40674\n",
       "3    9986_0:00087d  6011at40674\n",
       "4    9837_0:000f1d  6011at40674"
      ]
     },
     "execution_count": 9,
     "metadata": {},
     "output_type": "execute_result"
    }
   ],
   "source": [
    "busco_mammalia_orthogroups = pd.read_csv(\n",
    "    os.path.join(BUSCO_MAMMALIA_FOLDER, \"ogs.id.info\"),\n",
    "    sep=\"\\t\",\n",
    "    header=None,\n",
    "    names=[\"busco_id\", \"orthodb_id\"],\n",
    ")\n",
    "print(busco_mammalia_orthogroups.shape)\n",
    "busco_mammalia_orthogroups.head()"
   ]
  },
  {
   "cell_type": "markdown",
   "metadata": {},
   "source": [
    "### Extract taxonomy id from busco ID"
   ]
  },
  {
   "cell_type": "code",
   "execution_count": 10,
   "metadata": {},
   "outputs": [
    {
     "data": {
      "text/html": [
       "<div>\n",
       "<style scoped>\n",
       "    .dataframe tbody tr th:only-of-type {\n",
       "        vertical-align: middle;\n",
       "    }\n",
       "\n",
       "    .dataframe tbody tr th {\n",
       "        vertical-align: top;\n",
       "    }\n",
       "\n",
       "    .dataframe thead th {\n",
       "        text-align: right;\n",
       "    }\n",
       "</style>\n",
       "<table border=\"1\" class=\"dataframe\">\n",
       "  <thead>\n",
       "    <tr style=\"text-align: right;\">\n",
       "      <th></th>\n",
       "      <th>busco_id</th>\n",
       "      <th>orthodb_id</th>\n",
       "      <th>species</th>\n",
       "    </tr>\n",
       "  </thead>\n",
       "  <tbody>\n",
       "    <tr>\n",
       "      <th>0</th>\n",
       "      <td>34839_0:0032fe</td>\n",
       "      <td>6011at40674</td>\n",
       "      <td>34839</td>\n",
       "    </tr>\n",
       "    <tr>\n",
       "      <th>1</th>\n",
       "      <td>118797_0:00467b</td>\n",
       "      <td>6011at40674</td>\n",
       "      <td>118797</td>\n",
       "    </tr>\n",
       "    <tr>\n",
       "      <th>2</th>\n",
       "      <td>29078_0:0007f1</td>\n",
       "      <td>6011at40674</td>\n",
       "      <td>29078</td>\n",
       "    </tr>\n",
       "    <tr>\n",
       "      <th>3</th>\n",
       "      <td>9986_0:00087d</td>\n",
       "      <td>6011at40674</td>\n",
       "      <td>9986</td>\n",
       "    </tr>\n",
       "    <tr>\n",
       "      <th>4</th>\n",
       "      <td>9837_0:000f1d</td>\n",
       "      <td>6011at40674</td>\n",
       "      <td>9837</td>\n",
       "    </tr>\n",
       "  </tbody>\n",
       "</table>\n",
       "</div>"
      ],
      "text/plain": [
       "          busco_id   orthodb_id  species\n",
       "0   34839_0:0032fe  6011at40674    34839\n",
       "1  118797_0:00467b  6011at40674   118797\n",
       "2   29078_0:0007f1  6011at40674    29078\n",
       "3    9986_0:00087d  6011at40674     9986\n",
       "4    9837_0:000f1d  6011at40674     9837"
      ]
     },
     "execution_count": 10,
     "metadata": {},
     "output_type": "execute_result"
    }
   ],
   "source": [
    "busco_mammalia_orthogroups[\"species\"] = (\n",
    "    busco_mammalia_orthogroups.busco_id.str.split(\"_\").str[0].astype(int)\n",
    ")\n",
    "busco_mammalia_orthogroups.head()"
   ]
  },
  {
   "cell_type": "markdown",
   "metadata": {},
   "source": [
    "### Join on taxonomy id to get scientific name from BUSCO `species.info` file"
   ]
  },
  {
   "cell_type": "code",
   "execution_count": 11,
   "metadata": {},
   "outputs": [
    {
     "name": "stdout",
     "output_type": "stream",
     "text": [
      "(218112, 4)\n"
     ]
    },
    {
     "data": {
      "text/html": [
       "<div>\n",
       "<style scoped>\n",
       "    .dataframe tbody tr th:only-of-type {\n",
       "        vertical-align: middle;\n",
       "    }\n",
       "\n",
       "    .dataframe tbody tr th {\n",
       "        vertical-align: top;\n",
       "    }\n",
       "\n",
       "    .dataframe thead th {\n",
       "        text-align: right;\n",
       "    }\n",
       "</style>\n",
       "<table border=\"1\" class=\"dataframe\">\n",
       "  <thead>\n",
       "    <tr style=\"text-align: right;\">\n",
       "      <th></th>\n",
       "      <th>busco_id</th>\n",
       "      <th>orthodb_id</th>\n",
       "      <th>species</th>\n",
       "      <th>species_name</th>\n",
       "    </tr>\n",
       "  </thead>\n",
       "  <tbody>\n",
       "    <tr>\n",
       "      <th>0</th>\n",
       "      <td>34839_0:0032fe</td>\n",
       "      <td>6011at40674</td>\n",
       "      <td>34839</td>\n",
       "      <td>Chinchilla lanigera</td>\n",
       "    </tr>\n",
       "    <tr>\n",
       "      <th>1</th>\n",
       "      <td>118797_0:00467b</td>\n",
       "      <td>6011at40674</td>\n",
       "      <td>118797</td>\n",
       "      <td>Lipotes vexillifer</td>\n",
       "    </tr>\n",
       "    <tr>\n",
       "      <th>2</th>\n",
       "      <td>29078_0:0007f1</td>\n",
       "      <td>6011at40674</td>\n",
       "      <td>29078</td>\n",
       "      <td>Eptesicus fuscus</td>\n",
       "    </tr>\n",
       "    <tr>\n",
       "      <th>3</th>\n",
       "      <td>9986_0:00087d</td>\n",
       "      <td>6011at40674</td>\n",
       "      <td>9986</td>\n",
       "      <td>Oryctolagus cuniculus</td>\n",
       "    </tr>\n",
       "    <tr>\n",
       "      <th>4</th>\n",
       "      <td>9837_0:000f1d</td>\n",
       "      <td>6011at40674</td>\n",
       "      <td>9837</td>\n",
       "      <td>Camelus bactrianus</td>\n",
       "    </tr>\n",
       "  </tbody>\n",
       "</table>\n",
       "</div>"
      ],
      "text/plain": [
       "          busco_id   orthodb_id  species           species_name\n",
       "0   34839_0:0032fe  6011at40674    34839    Chinchilla lanigera\n",
       "1  118797_0:00467b  6011at40674   118797     Lipotes vexillifer\n",
       "2   29078_0:0007f1  6011at40674    29078       Eptesicus fuscus\n",
       "3    9986_0:00087d  6011at40674     9986  Oryctolagus cuniculus\n",
       "4    9837_0:000f1d  6011at40674     9837     Camelus bactrianus"
      ]
     },
     "execution_count": 11,
     "metadata": {},
     "output_type": "execute_result"
    }
   ],
   "source": [
    "busco_mammalia_orthogroups_species = busco_mammalia_orthogroups.join(\n",
    "    busco_mammalia_species, on=\"species\"\n",
    ")\n",
    "print(busco_mammalia_orthogroups_species.shape)\n",
    "busco_mammalia_orthogroups_species.head()"
   ]
  },
  {
   "cell_type": "code",
   "execution_count": 12,
   "metadata": {},
   "outputs": [
    {
     "data": {
      "text/plain": [
       "Enhydra lutris                    9191\n",
       "Ceratotherium simum simum         9187\n",
       "Peromyscus maniculatus bairdii    9186\n",
       "Rhinolophus sinicus               9185\n",
       "Panthera pardus                   9183\n",
       "Tupaia chinensis                  9179\n",
       "Nannospalax galili                9178\n",
       "Mus musculus                      9177\n",
       "Capra hircus                      9173\n",
       "Chrysochloris asiatica            9167\n",
       "Aotus nancymaae                   9165\n",
       "Camelus bactrianus                9161\n",
       "Chinchilla lanigera               9160\n",
       "Eptesicus fuscus                  9158\n",
       "Homo sapiens                      9157\n",
       "Rousettus aegyptiacus             9151\n",
       "Marmota marmota marmota           9149\n",
       "Macaca mulatta                    9147\n",
       "Lipotes vexillifer                9119\n",
       "Erinaceus europaeus               9113\n",
       "Sorex araneus                     9098\n",
       "Phascolarctos cinereus            9053\n",
       "Oryctolagus cuniculus             8874\n",
       "Ornithorhynchus anatinus          7801\n",
       "Name: species_name, dtype: int64"
      ]
     },
     "execution_count": 12,
     "metadata": {},
     "output_type": "execute_result"
    }
   ],
   "source": [
    "busco_mammalia_orthogroups_species.species_name.value_counts()"
   ]
  },
  {
   "cell_type": "code",
   "execution_count": 13,
   "metadata": {},
   "outputs": [
    {
     "data": {
      "text/plain": [
       "Aotus nancymaae                   9165\n",
       "Camelus bactrianus                9161\n",
       "Capra hircus                      9173\n",
       "Ceratotherium simum simum         9187\n",
       "Chinchilla lanigera               9160\n",
       "Chrysochloris asiatica            9167\n",
       "Enhydra lutris                    9191\n",
       "Eptesicus fuscus                  9158\n",
       "Erinaceus europaeus               9113\n",
       "Homo sapiens                      9157\n",
       "Lipotes vexillifer                9119\n",
       "Macaca mulatta                    9147\n",
       "Marmota marmota marmota           9149\n",
       "Mus musculus                      9177\n",
       "Nannospalax galili                9178\n",
       "Ornithorhynchus anatinus          7801\n",
       "Oryctolagus cuniculus             8874\n",
       "Panthera pardus                   9183\n",
       "Peromyscus maniculatus bairdii    9186\n",
       "Phascolarctos cinereus            9053\n",
       "Rhinolophus sinicus               9185\n",
       "Rousettus aegyptiacus             9151\n",
       "Sorex araneus                     9098\n",
       "Tupaia chinensis                  9179\n",
       "Name: species_name, dtype: int64"
      ]
     },
     "execution_count": 13,
     "metadata": {},
     "output_type": "execute_result"
    }
   ],
   "source": [
    "busco_mammalia_orthogroups_species.species_name.value_counts().sort_index()"
   ]
  },
  {
   "cell_type": "markdown",
   "metadata": {},
   "source": [
    "### How many of the BUSCO species overlap with QFO species?"
   ]
  },
  {
   "cell_type": "code",
   "execution_count": 14,
   "metadata": {},
   "outputs": [
    {
     "data": {
      "text/plain": [
       "Mus musculus    9177\n",
       "Homo sapiens    9157\n",
       "Name: species_name, dtype: int64"
      ]
     },
     "execution_count": 14,
     "metadata": {},
     "output_type": "execute_result"
    }
   ],
   "source": [
    "rows = busco_mammalia_orthogroups_species.species_name.isin(\n",
    "    species_metadata.scientific_name\n",
    ")\n",
    "busco_mammalia_orthogroups_species.loc[rows].species_name.value_counts()"
   ]
  },
  {
   "cell_type": "markdown",
   "metadata": {},
   "source": [
    "## [this takes a while] Get mapping OrthoDB IDs to UniProt (cross-references or xrefs)\n",
    "Don't need to decompress/ungzip, pandas will do that for us. Need UniProt IDs because that's the ID that's present in the protein fasta file"
   ]
  },
  {
   "cell_type": "code",
   "execution_count": 15,
   "metadata": {},
   "outputs": [
    {
     "name": "stdout",
     "output_type": "stream",
     "text": [
      "(241929290, 3)\n",
      "CPU times: user 2min 39s, sys: 10.4 s, total: 2min 49s\n",
      "Wall time: 2min 49s\n"
     ]
    },
    {
     "data": {
      "text/html": [
       "<div>\n",
       "<style scoped>\n",
       "    .dataframe tbody tr th:only-of-type {\n",
       "        vertical-align: middle;\n",
       "    }\n",
       "\n",
       "    .dataframe tbody tr th {\n",
       "        vertical-align: top;\n",
       "    }\n",
       "\n",
       "    .dataframe thead th {\n",
       "        text-align: right;\n",
       "    }\n",
       "</style>\n",
       "<table border=\"1\" class=\"dataframe\">\n",
       "  <thead>\n",
       "    <tr style=\"text-align: right;\">\n",
       "      <th></th>\n",
       "      <th>orthodb_gene_id</th>\n",
       "      <th>external_db_gene_id</th>\n",
       "      <th>external_db_name</th>\n",
       "    </tr>\n",
       "  </thead>\n",
       "  <tbody>\n",
       "    <tr>\n",
       "      <th>0</th>\n",
       "      <td>1000373_0:000000</td>\n",
       "      <td>374504755</td>\n",
       "      <td>NCBIproteinGI</td>\n",
       "    </tr>\n",
       "    <tr>\n",
       "      <th>1</th>\n",
       "      <td>1000373_0:000001</td>\n",
       "      <td>374504763</td>\n",
       "      <td>NCBIproteinGI</td>\n",
       "    </tr>\n",
       "    <tr>\n",
       "      <th>2</th>\n",
       "      <td>1000373_0:000002</td>\n",
       "      <td>374504767</td>\n",
       "      <td>NCBIproteinGI</td>\n",
       "    </tr>\n",
       "    <tr>\n",
       "      <th>3</th>\n",
       "      <td>1000373_0:000003</td>\n",
       "      <td>374504758</td>\n",
       "      <td>NCBIproteinGI</td>\n",
       "    </tr>\n",
       "    <tr>\n",
       "      <th>4</th>\n",
       "      <td>1000373_1:000000</td>\n",
       "      <td>RnQV1s4_gp1</td>\n",
       "      <td>NCBIgenename</td>\n",
       "    </tr>\n",
       "  </tbody>\n",
       "</table>\n",
       "</div>"
      ],
      "text/plain": [
       "    orthodb_gene_id external_db_gene_id external_db_name\n",
       "0  1000373_0:000000           374504755    NCBIproteinGI\n",
       "1  1000373_0:000001           374504763    NCBIproteinGI\n",
       "2  1000373_0:000002           374504767    NCBIproteinGI\n",
       "3  1000373_0:000003           374504758    NCBIproteinGI\n",
       "4  1000373_1:000000         RnQV1s4_gp1     NCBIgenename"
      ]
     },
     "execution_count": 15,
     "metadata": {},
     "output_type": "execute_result"
    }
   ],
   "source": [
    "%%time\n",
    "\n",
    "odb_xrefs = pd.read_csv(\n",
    "    os.path.join(ORTHODB_FOLDER, \"odb10v1_gene_xrefs.tab.gz\"),\n",
    "    sep=\"\\t\",\n",
    "    header=None,\n",
    "    names=[\"orthodb_gene_id\", \"external_db_gene_id\", \"external_db_name\"],\n",
    ")\n",
    "print(odb_xrefs.shape)\n",
    "odb_xrefs.head()"
   ]
  },
  {
   "cell_type": "code",
   "execution_count": 16,
   "metadata": {},
   "outputs": [
    {
     "data": {
      "text/plain": [
       "InterPro          83329152\n",
       "NCBIproteinAcc    36509095\n",
       "NCBIproteinGI     25640331\n",
       "GOterm            25426254\n",
       "UniProt           23196410\n",
       "ENSEMBL           19931366\n",
       "NCBIgid           14246104\n",
       "NCBIgenename      13650578\n",
       "Name: external_db_name, dtype: int64"
      ]
     },
     "execution_count": 16,
     "metadata": {},
     "output_type": "execute_result"
    }
   ],
   "source": [
    "odb_xrefs.external_db_name.value_counts()"
   ]
  },
  {
   "cell_type": "code",
   "execution_count": 17,
   "metadata": {},
   "outputs": [
    {
     "name": "stdout",
     "output_type": "stream",
     "text": [
      "(23196410, 3)\n"
     ]
    },
    {
     "data": {
      "text/html": [
       "<div>\n",
       "<style scoped>\n",
       "    .dataframe tbody tr th:only-of-type {\n",
       "        vertical-align: middle;\n",
       "    }\n",
       "\n",
       "    .dataframe tbody tr th {\n",
       "        vertical-align: top;\n",
       "    }\n",
       "\n",
       "    .dataframe thead th {\n",
       "        text-align: right;\n",
       "    }\n",
       "</style>\n",
       "<table border=\"1\" class=\"dataframe\">\n",
       "  <thead>\n",
       "    <tr style=\"text-align: right;\">\n",
       "      <th></th>\n",
       "      <th>orthodb_gene_id</th>\n",
       "      <th>external_db_gene_id</th>\n",
       "      <th>external_db_name</th>\n",
       "    </tr>\n",
       "  </thead>\n",
       "  <tbody>\n",
       "    <tr>\n",
       "      <th>3359</th>\n",
       "      <td>1000565_0:000000</td>\n",
       "      <td>F5RH80</td>\n",
       "      <td>UniProt</td>\n",
       "    </tr>\n",
       "    <tr>\n",
       "      <th>3367</th>\n",
       "      <td>1000565_0:000001</td>\n",
       "      <td>F5RH81</td>\n",
       "      <td>UniProt</td>\n",
       "    </tr>\n",
       "    <tr>\n",
       "      <th>3372</th>\n",
       "      <td>1000565_0:000002</td>\n",
       "      <td>F5RH82</td>\n",
       "      <td>UniProt</td>\n",
       "    </tr>\n",
       "    <tr>\n",
       "      <th>3376</th>\n",
       "      <td>1000565_0:000003</td>\n",
       "      <td>F5RH83</td>\n",
       "      <td>UniProt</td>\n",
       "    </tr>\n",
       "    <tr>\n",
       "      <th>3389</th>\n",
       "      <td>1000565_0:000004</td>\n",
       "      <td>F5RH84</td>\n",
       "      <td>UniProt</td>\n",
       "    </tr>\n",
       "  </tbody>\n",
       "</table>\n",
       "</div>"
      ],
      "text/plain": [
       "       orthodb_gene_id external_db_gene_id external_db_name\n",
       "3359  1000565_0:000000              F5RH80          UniProt\n",
       "3367  1000565_0:000001              F5RH81          UniProt\n",
       "3372  1000565_0:000002              F5RH82          UniProt\n",
       "3376  1000565_0:000003              F5RH83          UniProt\n",
       "3389  1000565_0:000004              F5RH84          UniProt"
      ]
     },
     "execution_count": 17,
     "metadata": {},
     "output_type": "execute_result"
    }
   ],
   "source": [
    "odb_xrefs_uniprot = odb_xrefs.query('external_db_name == \"UniProt\"')\n",
    "print(odb_xrefs_uniprot.shape)\n",
    "odb_xrefs_uniprot.head()"
   ]
  },
  {
   "cell_type": "markdown",
   "metadata": {},
   "source": [
    "## Get only OrthoDB xref UNIPROT IDs for BUSCO Mammalia"
   ]
  },
  {
   "cell_type": "code",
   "execution_count": 18,
   "metadata": {},
   "outputs": [
    {
     "data": {
      "text/html": [
       "<div>\n",
       "<style scoped>\n",
       "    .dataframe tbody tr th:only-of-type {\n",
       "        vertical-align: middle;\n",
       "    }\n",
       "\n",
       "    .dataframe tbody tr th {\n",
       "        vertical-align: top;\n",
       "    }\n",
       "\n",
       "    .dataframe thead th {\n",
       "        text-align: right;\n",
       "    }\n",
       "</style>\n",
       "<table border=\"1\" class=\"dataframe\">\n",
       "  <thead>\n",
       "    <tr style=\"text-align: right;\">\n",
       "      <th></th>\n",
       "      <th>busco_id</th>\n",
       "      <th>orthodb_id</th>\n",
       "      <th>species</th>\n",
       "    </tr>\n",
       "  </thead>\n",
       "  <tbody>\n",
       "    <tr>\n",
       "      <th>0</th>\n",
       "      <td>34839_0:0032fe</td>\n",
       "      <td>6011at40674</td>\n",
       "      <td>34839</td>\n",
       "    </tr>\n",
       "    <tr>\n",
       "      <th>1</th>\n",
       "      <td>118797_0:00467b</td>\n",
       "      <td>6011at40674</td>\n",
       "      <td>118797</td>\n",
       "    </tr>\n",
       "    <tr>\n",
       "      <th>2</th>\n",
       "      <td>29078_0:0007f1</td>\n",
       "      <td>6011at40674</td>\n",
       "      <td>29078</td>\n",
       "    </tr>\n",
       "    <tr>\n",
       "      <th>3</th>\n",
       "      <td>9986_0:00087d</td>\n",
       "      <td>6011at40674</td>\n",
       "      <td>9986</td>\n",
       "    </tr>\n",
       "    <tr>\n",
       "      <th>4</th>\n",
       "      <td>9837_0:000f1d</td>\n",
       "      <td>6011at40674</td>\n",
       "      <td>9837</td>\n",
       "    </tr>\n",
       "  </tbody>\n",
       "</table>\n",
       "</div>"
      ],
      "text/plain": [
       "          busco_id   orthodb_id  species\n",
       "0   34839_0:0032fe  6011at40674    34839\n",
       "1  118797_0:00467b  6011at40674   118797\n",
       "2   29078_0:0007f1  6011at40674    29078\n",
       "3    9986_0:00087d  6011at40674     9986\n",
       "4    9837_0:000f1d  6011at40674     9837"
      ]
     },
     "execution_count": 18,
     "metadata": {},
     "output_type": "execute_result"
    }
   ],
   "source": [
    "busco_mammalia_orthogroups.head()"
   ]
  },
  {
   "cell_type": "code",
   "execution_count": 19,
   "metadata": {},
   "outputs": [
    {
     "data": {
      "text/html": [
       "<div>\n",
       "<style scoped>\n",
       "    .dataframe tbody tr th:only-of-type {\n",
       "        vertical-align: middle;\n",
       "    }\n",
       "\n",
       "    .dataframe tbody tr th {\n",
       "        vertical-align: top;\n",
       "    }\n",
       "\n",
       "    .dataframe thead th {\n",
       "        text-align: right;\n",
       "    }\n",
       "</style>\n",
       "<table border=\"1\" class=\"dataframe\">\n",
       "  <thead>\n",
       "    <tr style=\"text-align: right;\">\n",
       "      <th></th>\n",
       "      <th>busco_id</th>\n",
       "      <th>orthodb_id</th>\n",
       "      <th>species</th>\n",
       "      <th>species_name</th>\n",
       "    </tr>\n",
       "  </thead>\n",
       "  <tbody>\n",
       "    <tr>\n",
       "      <th>0</th>\n",
       "      <td>34839_0:0032fe</td>\n",
       "      <td>6011at40674</td>\n",
       "      <td>34839</td>\n",
       "      <td>Chinchilla lanigera</td>\n",
       "    </tr>\n",
       "    <tr>\n",
       "      <th>1</th>\n",
       "      <td>118797_0:00467b</td>\n",
       "      <td>6011at40674</td>\n",
       "      <td>118797</td>\n",
       "      <td>Lipotes vexillifer</td>\n",
       "    </tr>\n",
       "    <tr>\n",
       "      <th>2</th>\n",
       "      <td>29078_0:0007f1</td>\n",
       "      <td>6011at40674</td>\n",
       "      <td>29078</td>\n",
       "      <td>Eptesicus fuscus</td>\n",
       "    </tr>\n",
       "    <tr>\n",
       "      <th>3</th>\n",
       "      <td>9986_0:00087d</td>\n",
       "      <td>6011at40674</td>\n",
       "      <td>9986</td>\n",
       "      <td>Oryctolagus cuniculus</td>\n",
       "    </tr>\n",
       "    <tr>\n",
       "      <th>4</th>\n",
       "      <td>9837_0:000f1d</td>\n",
       "      <td>6011at40674</td>\n",
       "      <td>9837</td>\n",
       "      <td>Camelus bactrianus</td>\n",
       "    </tr>\n",
       "  </tbody>\n",
       "</table>\n",
       "</div>"
      ],
      "text/plain": [
       "          busco_id   orthodb_id  species           species_name\n",
       "0   34839_0:0032fe  6011at40674    34839    Chinchilla lanigera\n",
       "1  118797_0:00467b  6011at40674   118797     Lipotes vexillifer\n",
       "2   29078_0:0007f1  6011at40674    29078       Eptesicus fuscus\n",
       "3    9986_0:00087d  6011at40674     9986  Oryctolagus cuniculus\n",
       "4    9837_0:000f1d  6011at40674     9837     Camelus bactrianus"
      ]
     },
     "execution_count": 19,
     "metadata": {},
     "output_type": "execute_result"
    }
   ],
   "source": [
    "busco_mammalia_orthogroups_species.head()"
   ]
  },
  {
   "cell_type": "code",
   "execution_count": 20,
   "metadata": {},
   "outputs": [
    {
     "data": {
      "text/html": [
       "<div>\n",
       "<style scoped>\n",
       "    .dataframe tbody tr th:only-of-type {\n",
       "        vertical-align: middle;\n",
       "    }\n",
       "\n",
       "    .dataframe tbody tr th {\n",
       "        vertical-align: top;\n",
       "    }\n",
       "\n",
       "    .dataframe thead th {\n",
       "        text-align: right;\n",
       "    }\n",
       "</style>\n",
       "<table border=\"1\" class=\"dataframe\">\n",
       "  <thead>\n",
       "    <tr style=\"text-align: right;\">\n",
       "      <th></th>\n",
       "      <th>orthodb_id</th>\n",
       "      <th>species</th>\n",
       "      <th>species_name</th>\n",
       "    </tr>\n",
       "    <tr>\n",
       "      <th>busco_id</th>\n",
       "      <th></th>\n",
       "      <th></th>\n",
       "      <th></th>\n",
       "    </tr>\n",
       "  </thead>\n",
       "  <tbody>\n",
       "    <tr>\n",
       "      <th>34839_0:0032fe</th>\n",
       "      <td>6011at40674</td>\n",
       "      <td>34839</td>\n",
       "      <td>Chinchilla lanigera</td>\n",
       "    </tr>\n",
       "    <tr>\n",
       "      <th>118797_0:00467b</th>\n",
       "      <td>6011at40674</td>\n",
       "      <td>118797</td>\n",
       "      <td>Lipotes vexillifer</td>\n",
       "    </tr>\n",
       "    <tr>\n",
       "      <th>29078_0:0007f1</th>\n",
       "      <td>6011at40674</td>\n",
       "      <td>29078</td>\n",
       "      <td>Eptesicus fuscus</td>\n",
       "    </tr>\n",
       "    <tr>\n",
       "      <th>9986_0:00087d</th>\n",
       "      <td>6011at40674</td>\n",
       "      <td>9986</td>\n",
       "      <td>Oryctolagus cuniculus</td>\n",
       "    </tr>\n",
       "    <tr>\n",
       "      <th>9837_0:000f1d</th>\n",
       "      <td>6011at40674</td>\n",
       "      <td>9837</td>\n",
       "      <td>Camelus bactrianus</td>\n",
       "    </tr>\n",
       "  </tbody>\n",
       "</table>\n",
       "</div>"
      ],
      "text/plain": [
       "                  orthodb_id  species           species_name\n",
       "busco_id                                                    \n",
       "34839_0:0032fe   6011at40674    34839    Chinchilla lanigera\n",
       "118797_0:00467b  6011at40674   118797     Lipotes vexillifer\n",
       "29078_0:0007f1   6011at40674    29078       Eptesicus fuscus\n",
       "9986_0:00087d    6011at40674     9986  Oryctolagus cuniculus\n",
       "9837_0:000f1d    6011at40674     9837     Camelus bactrianus"
      ]
     },
     "execution_count": 20,
     "metadata": {},
     "output_type": "execute_result"
    }
   ],
   "source": [
    "busco_mammalia_orthogroups_species_index = busco_mammalia_orthogroups_species.set_index('busco_id')\n",
    "busco_mammalia_orthogroups_species_index.head()"
   ]
  },
  {
   "cell_type": "code",
   "execution_count": 21,
   "metadata": {},
   "outputs": [
    {
     "data": {
      "text/html": [
       "<div>\n",
       "<style scoped>\n",
       "    .dataframe tbody tr th:only-of-type {\n",
       "        vertical-align: middle;\n",
       "    }\n",
       "\n",
       "    .dataframe tbody tr th {\n",
       "        vertical-align: top;\n",
       "    }\n",
       "\n",
       "    .dataframe thead th {\n",
       "        text-align: right;\n",
       "    }\n",
       "</style>\n",
       "<table border=\"1\" class=\"dataframe\">\n",
       "  <thead>\n",
       "    <tr style=\"text-align: right;\">\n",
       "      <th></th>\n",
       "      <th>orthodb_gene_id</th>\n",
       "      <th>external_db_gene_id</th>\n",
       "      <th>external_db_name</th>\n",
       "    </tr>\n",
       "  </thead>\n",
       "  <tbody>\n",
       "    <tr>\n",
       "      <th>3359</th>\n",
       "      <td>1000565_0:000000</td>\n",
       "      <td>F5RH80</td>\n",
       "      <td>UniProt</td>\n",
       "    </tr>\n",
       "    <tr>\n",
       "      <th>3367</th>\n",
       "      <td>1000565_0:000001</td>\n",
       "      <td>F5RH81</td>\n",
       "      <td>UniProt</td>\n",
       "    </tr>\n",
       "    <tr>\n",
       "      <th>3372</th>\n",
       "      <td>1000565_0:000002</td>\n",
       "      <td>F5RH82</td>\n",
       "      <td>UniProt</td>\n",
       "    </tr>\n",
       "    <tr>\n",
       "      <th>3376</th>\n",
       "      <td>1000565_0:000003</td>\n",
       "      <td>F5RH83</td>\n",
       "      <td>UniProt</td>\n",
       "    </tr>\n",
       "    <tr>\n",
       "      <th>3389</th>\n",
       "      <td>1000565_0:000004</td>\n",
       "      <td>F5RH84</td>\n",
       "      <td>UniProt</td>\n",
       "    </tr>\n",
       "  </tbody>\n",
       "</table>\n",
       "</div>"
      ],
      "text/plain": [
       "       orthodb_gene_id external_db_gene_id external_db_name\n",
       "3359  1000565_0:000000              F5RH80          UniProt\n",
       "3367  1000565_0:000001              F5RH81          UniProt\n",
       "3372  1000565_0:000002              F5RH82          UniProt\n",
       "3376  1000565_0:000003              F5RH83          UniProt\n",
       "3389  1000565_0:000004              F5RH84          UniProt"
      ]
     },
     "execution_count": 21,
     "metadata": {},
     "output_type": "execute_result"
    }
   ],
   "source": [
    "odb_xrefs_uniprot.head()"
   ]
  },
  {
   "cell_type": "code",
   "execution_count": 22,
   "metadata": {},
   "outputs": [
    {
     "name": "stdout",
     "output_type": "stream",
     "text": [
      "(64199, 6)\n",
      "CPU times: user 19.4 s, sys: 392 ms, total: 19.8 s\n",
      "Wall time: 19.8 s\n"
     ]
    },
    {
     "data": {
      "text/html": [
       "<div>\n",
       "<style scoped>\n",
       "    .dataframe tbody tr th:only-of-type {\n",
       "        vertical-align: middle;\n",
       "    }\n",
       "\n",
       "    .dataframe tbody tr th {\n",
       "        vertical-align: top;\n",
       "    }\n",
       "\n",
       "    .dataframe thead th {\n",
       "        text-align: right;\n",
       "    }\n",
       "</style>\n",
       "<table border=\"1\" class=\"dataframe\">\n",
       "  <thead>\n",
       "    <tr style=\"text-align: right;\">\n",
       "      <th></th>\n",
       "      <th>orthodb_gene_id</th>\n",
       "      <th>external_db_gene_id</th>\n",
       "      <th>external_db_name</th>\n",
       "      <th>orthodb_id</th>\n",
       "      <th>species</th>\n",
       "      <th>species_name</th>\n",
       "    </tr>\n",
       "  </thead>\n",
       "  <tbody>\n",
       "    <tr>\n",
       "      <th>2401526</th>\n",
       "      <td>10090_0:00000d</td>\n",
       "      <td>Q91X05</td>\n",
       "      <td>UniProt</td>\n",
       "      <td>150380at40674</td>\n",
       "      <td>10090</td>\n",
       "      <td>Mus musculus</td>\n",
       "    </tr>\n",
       "    <tr>\n",
       "      <th>2401527</th>\n",
       "      <td>10090_0:00000d</td>\n",
       "      <td>C0LL94</td>\n",
       "      <td>UniProt</td>\n",
       "      <td>150380at40674</td>\n",
       "      <td>10090</td>\n",
       "      <td>Mus musculus</td>\n",
       "    </tr>\n",
       "    <tr>\n",
       "      <th>2401670</th>\n",
       "      <td>10090_0:000012</td>\n",
       "      <td>Q9R1A8</td>\n",
       "      <td>UniProt</td>\n",
       "      <td>80051at40674</td>\n",
       "      <td>10090</td>\n",
       "      <td>Mus musculus</td>\n",
       "    </tr>\n",
       "    <tr>\n",
       "      <th>2401732</th>\n",
       "      <td>10090_0:000015</td>\n",
       "      <td>Q8BX09</td>\n",
       "      <td>UniProt</td>\n",
       "      <td>73776at40674</td>\n",
       "      <td>10090</td>\n",
       "      <td>Mus musculus</td>\n",
       "    </tr>\n",
       "    <tr>\n",
       "      <th>2401801</th>\n",
       "      <td>10090_0:000018</td>\n",
       "      <td>A9ZNB6</td>\n",
       "      <td>UniProt</td>\n",
       "      <td>194736at40674</td>\n",
       "      <td>10090</td>\n",
       "      <td>Mus musculus</td>\n",
       "    </tr>\n",
       "  </tbody>\n",
       "</table>\n",
       "</div>"
      ],
      "text/plain": [
       "        orthodb_gene_id external_db_gene_id external_db_name     orthodb_id  \\\n",
       "2401526  10090_0:00000d              Q91X05          UniProt  150380at40674   \n",
       "2401527  10090_0:00000d              C0LL94          UniProt  150380at40674   \n",
       "2401670  10090_0:000012              Q9R1A8          UniProt   80051at40674   \n",
       "2401732  10090_0:000015              Q8BX09          UniProt   73776at40674   \n",
       "2401801  10090_0:000018              A9ZNB6          UniProt  194736at40674   \n",
       "\n",
       "         species  species_name  \n",
       "2401526    10090  Mus musculus  \n",
       "2401527    10090  Mus musculus  \n",
       "2401670    10090  Mus musculus  \n",
       "2401732    10090  Mus musculus  \n",
       "2401801    10090  Mus musculus  "
      ]
     },
     "execution_count": 22,
     "metadata": {},
     "output_type": "execute_result"
    }
   ],
   "source": [
    "%%time\n",
    "\n",
    "odb_xrefs_uniprot_busco_mammalia_species = odb_xrefs_uniprot.join(\n",
    "    busco_mammalia_orthogroups_species_index, \n",
    "    'orthodb_gene_id', \n",
    "    how='inner'\n",
    ")\n",
    "print(odb_xrefs_uniprot_busco_mammalia_species.shape)\n",
    "odb_xrefs_uniprot_busco_mammalia_species.head()"
   ]
  },
  {
   "cell_type": "markdown",
   "metadata": {},
   "source": [
    "### WRite to file!!!"
   ]
  },
  {
   "cell_type": "code",
   "execution_count": 23,
   "metadata": {},
   "outputs": [],
   "source": [
    "odb_xrefs_uniprot_busco_mammalia_species.to_csv(\n",
    "    os.path.join(\n",
    "        BUSCO_MAMMALIA_FOLDER, \"busco_mammalia__orthodb__to__uniprot__with_species.csv\"\n",
    "    ),\n",
    "    index=False,\n",
    ")"
   ]
  },
  {
   "cell_type": "code",
   "execution_count": 24,
   "metadata": {},
   "outputs": [
    {
     "name": "stdout",
     "output_type": "stream",
     "text": [
      "(64199, 6)\n"
     ]
    },
    {
     "data": {
      "text/html": [
       "<div>\n",
       "<style scoped>\n",
       "    .dataframe tbody tr th:only-of-type {\n",
       "        vertical-align: middle;\n",
       "    }\n",
       "\n",
       "    .dataframe tbody tr th {\n",
       "        vertical-align: top;\n",
       "    }\n",
       "\n",
       "    .dataframe thead th {\n",
       "        text-align: right;\n",
       "    }\n",
       "</style>\n",
       "<table border=\"1\" class=\"dataframe\">\n",
       "  <thead>\n",
       "    <tr style=\"text-align: right;\">\n",
       "      <th></th>\n",
       "      <th>orthodb_gene_id</th>\n",
       "      <th>external_db_gene_id</th>\n",
       "      <th>external_db_name</th>\n",
       "      <th>orthodb_id</th>\n",
       "      <th>species</th>\n",
       "      <th>species_name</th>\n",
       "    </tr>\n",
       "  </thead>\n",
       "  <tbody>\n",
       "    <tr>\n",
       "      <th>0</th>\n",
       "      <td>10090_0:00000d</td>\n",
       "      <td>Q91X05</td>\n",
       "      <td>UniProt</td>\n",
       "      <td>150380at40674</td>\n",
       "      <td>10090</td>\n",
       "      <td>Mus musculus</td>\n",
       "    </tr>\n",
       "    <tr>\n",
       "      <th>1</th>\n",
       "      <td>10090_0:00000d</td>\n",
       "      <td>C0LL94</td>\n",
       "      <td>UniProt</td>\n",
       "      <td>150380at40674</td>\n",
       "      <td>10090</td>\n",
       "      <td>Mus musculus</td>\n",
       "    </tr>\n",
       "    <tr>\n",
       "      <th>2</th>\n",
       "      <td>10090_0:000012</td>\n",
       "      <td>Q9R1A8</td>\n",
       "      <td>UniProt</td>\n",
       "      <td>80051at40674</td>\n",
       "      <td>10090</td>\n",
       "      <td>Mus musculus</td>\n",
       "    </tr>\n",
       "    <tr>\n",
       "      <th>3</th>\n",
       "      <td>10090_0:000015</td>\n",
       "      <td>Q8BX09</td>\n",
       "      <td>UniProt</td>\n",
       "      <td>73776at40674</td>\n",
       "      <td>10090</td>\n",
       "      <td>Mus musculus</td>\n",
       "    </tr>\n",
       "    <tr>\n",
       "      <th>4</th>\n",
       "      <td>10090_0:000018</td>\n",
       "      <td>A9ZNB6</td>\n",
       "      <td>UniProt</td>\n",
       "      <td>194736at40674</td>\n",
       "      <td>10090</td>\n",
       "      <td>Mus musculus</td>\n",
       "    </tr>\n",
       "  </tbody>\n",
       "</table>\n",
       "</div>"
      ],
      "text/plain": [
       "  orthodb_gene_id external_db_gene_id external_db_name     orthodb_id  \\\n",
       "0  10090_0:00000d              Q91X05          UniProt  150380at40674   \n",
       "1  10090_0:00000d              C0LL94          UniProt  150380at40674   \n",
       "2  10090_0:000012              Q9R1A8          UniProt   80051at40674   \n",
       "3  10090_0:000015              Q8BX09          UniProt   73776at40674   \n",
       "4  10090_0:000018              A9ZNB6          UniProt  194736at40674   \n",
       "\n",
       "   species  species_name  \n",
       "0    10090  Mus musculus  \n",
       "1    10090  Mus musculus  \n",
       "2    10090  Mus musculus  \n",
       "3    10090  Mus musculus  \n",
       "4    10090  Mus musculus  "
      ]
     },
     "execution_count": 24,
     "metadata": {},
     "output_type": "execute_result"
    }
   ],
   "source": [
    "orthodb_busco_mammalia = pd.read_csv(\n",
    "    os.path.join(\n",
    "        BUSCO_MAMMALIA_FOLDER, \"busco_mammalia__orthodb__to__uniprot__with_species.csv\"\n",
    "    )\n",
    ")\n",
    "print(orthodb_busco_mammalia.shape)\n",
    "orthodb_busco_mammalia.head()"
   ]
  },
  {
   "cell_type": "markdown",
   "metadata": {},
   "source": [
    "## Subset orthodb to busco mammali"
   ]
  },
  {
   "cell_type": "code",
   "execution_count": 25,
   "metadata": {},
   "outputs": [
    {
     "data": {
      "text/html": [
       "<div>\n",
       "<style scoped>\n",
       "    .dataframe tbody tr th:only-of-type {\n",
       "        vertical-align: middle;\n",
       "    }\n",
       "\n",
       "    .dataframe tbody tr th {\n",
       "        vertical-align: top;\n",
       "    }\n",
       "\n",
       "    .dataframe thead th {\n",
       "        text-align: right;\n",
       "    }\n",
       "</style>\n",
       "<table border=\"1\" class=\"dataframe\">\n",
       "  <thead>\n",
       "    <tr style=\"text-align: right;\">\n",
       "      <th></th>\n",
       "      <th>busco_id</th>\n",
       "      <th>orthodb_id</th>\n",
       "      <th>species</th>\n",
       "    </tr>\n",
       "  </thead>\n",
       "  <tbody>\n",
       "    <tr>\n",
       "      <th>0</th>\n",
       "      <td>34839_0:0032fe</td>\n",
       "      <td>6011at40674</td>\n",
       "      <td>34839</td>\n",
       "    </tr>\n",
       "    <tr>\n",
       "      <th>1</th>\n",
       "      <td>118797_0:00467b</td>\n",
       "      <td>6011at40674</td>\n",
       "      <td>118797</td>\n",
       "    </tr>\n",
       "    <tr>\n",
       "      <th>2</th>\n",
       "      <td>29078_0:0007f1</td>\n",
       "      <td>6011at40674</td>\n",
       "      <td>29078</td>\n",
       "    </tr>\n",
       "    <tr>\n",
       "      <th>3</th>\n",
       "      <td>9986_0:00087d</td>\n",
       "      <td>6011at40674</td>\n",
       "      <td>9986</td>\n",
       "    </tr>\n",
       "    <tr>\n",
       "      <th>4</th>\n",
       "      <td>9837_0:000f1d</td>\n",
       "      <td>6011at40674</td>\n",
       "      <td>9837</td>\n",
       "    </tr>\n",
       "  </tbody>\n",
       "</table>\n",
       "</div>"
      ],
      "text/plain": [
       "          busco_id   orthodb_id  species\n",
       "0   34839_0:0032fe  6011at40674    34839\n",
       "1  118797_0:00467b  6011at40674   118797\n",
       "2   29078_0:0007f1  6011at40674    29078\n",
       "3    9986_0:00087d  6011at40674     9986\n",
       "4    9837_0:000f1d  6011at40674     9837"
      ]
     },
     "execution_count": 25,
     "metadata": {},
     "output_type": "execute_result"
    }
   ],
   "source": [
    "busco_mammalia_orthogroups.head()"
   ]
  },
  {
   "cell_type": "code",
   "execution_count": 26,
   "metadata": {},
   "outputs": [
    {
     "data": {
      "text/html": [
       "<div>\n",
       "<style scoped>\n",
       "    .dataframe tbody tr th:only-of-type {\n",
       "        vertical-align: middle;\n",
       "    }\n",
       "\n",
       "    .dataframe tbody tr th {\n",
       "        vertical-align: top;\n",
       "    }\n",
       "\n",
       "    .dataframe thead th {\n",
       "        text-align: right;\n",
       "    }\n",
       "</style>\n",
       "<table border=\"1\" class=\"dataframe\">\n",
       "  <thead>\n",
       "    <tr style=\"text-align: right;\">\n",
       "      <th></th>\n",
       "      <th>orthodb_gene_id</th>\n",
       "      <th>external_db_gene_id</th>\n",
       "      <th>external_db_name</th>\n",
       "    </tr>\n",
       "  </thead>\n",
       "  <tbody>\n",
       "    <tr>\n",
       "      <th>3359</th>\n",
       "      <td>1000565_0:000000</td>\n",
       "      <td>F5RH80</td>\n",
       "      <td>UniProt</td>\n",
       "    </tr>\n",
       "    <tr>\n",
       "      <th>3367</th>\n",
       "      <td>1000565_0:000001</td>\n",
       "      <td>F5RH81</td>\n",
       "      <td>UniProt</td>\n",
       "    </tr>\n",
       "    <tr>\n",
       "      <th>3372</th>\n",
       "      <td>1000565_0:000002</td>\n",
       "      <td>F5RH82</td>\n",
       "      <td>UniProt</td>\n",
       "    </tr>\n",
       "    <tr>\n",
       "      <th>3376</th>\n",
       "      <td>1000565_0:000003</td>\n",
       "      <td>F5RH83</td>\n",
       "      <td>UniProt</td>\n",
       "    </tr>\n",
       "    <tr>\n",
       "      <th>3389</th>\n",
       "      <td>1000565_0:000004</td>\n",
       "      <td>F5RH84</td>\n",
       "      <td>UniProt</td>\n",
       "    </tr>\n",
       "  </tbody>\n",
       "</table>\n",
       "</div>"
      ],
      "text/plain": [
       "       orthodb_gene_id external_db_gene_id external_db_name\n",
       "3359  1000565_0:000000              F5RH80          UniProt\n",
       "3367  1000565_0:000001              F5RH81          UniProt\n",
       "3372  1000565_0:000002              F5RH82          UniProt\n",
       "3376  1000565_0:000003              F5RH83          UniProt\n",
       "3389  1000565_0:000004              F5RH84          UniProt"
      ]
     },
     "execution_count": 26,
     "metadata": {},
     "output_type": "execute_result"
    }
   ],
   "source": [
    "odb_xrefs_uniprot.head()"
   ]
  },
  {
   "cell_type": "code",
   "execution_count": 27,
   "metadata": {},
   "outputs": [
    {
     "name": "stdout",
     "output_type": "stream",
     "text": [
      "(64198, 3)\n"
     ]
    },
    {
     "data": {
      "text/html": [
       "<div>\n",
       "<style scoped>\n",
       "    .dataframe tbody tr th:only-of-type {\n",
       "        vertical-align: middle;\n",
       "    }\n",
       "\n",
       "    .dataframe tbody tr th {\n",
       "        vertical-align: top;\n",
       "    }\n",
       "\n",
       "    .dataframe thead th {\n",
       "        text-align: right;\n",
       "    }\n",
       "</style>\n",
       "<table border=\"1\" class=\"dataframe\">\n",
       "  <thead>\n",
       "    <tr style=\"text-align: right;\">\n",
       "      <th></th>\n",
       "      <th>orthodb_gene_id</th>\n",
       "      <th>external_db_gene_id</th>\n",
       "      <th>external_db_name</th>\n",
       "    </tr>\n",
       "  </thead>\n",
       "  <tbody>\n",
       "    <tr>\n",
       "      <th>2401526</th>\n",
       "      <td>10090_0:00000d</td>\n",
       "      <td>Q91X05</td>\n",
       "      <td>UniProt</td>\n",
       "    </tr>\n",
       "    <tr>\n",
       "      <th>2401527</th>\n",
       "      <td>10090_0:00000d</td>\n",
       "      <td>C0LL94</td>\n",
       "      <td>UniProt</td>\n",
       "    </tr>\n",
       "    <tr>\n",
       "      <th>2401670</th>\n",
       "      <td>10090_0:000012</td>\n",
       "      <td>Q9R1A8</td>\n",
       "      <td>UniProt</td>\n",
       "    </tr>\n",
       "    <tr>\n",
       "      <th>2401732</th>\n",
       "      <td>10090_0:000015</td>\n",
       "      <td>Q8BX09</td>\n",
       "      <td>UniProt</td>\n",
       "    </tr>\n",
       "    <tr>\n",
       "      <th>2401801</th>\n",
       "      <td>10090_0:000018</td>\n",
       "      <td>A9ZNB6</td>\n",
       "      <td>UniProt</td>\n",
       "    </tr>\n",
       "  </tbody>\n",
       "</table>\n",
       "</div>"
      ],
      "text/plain": [
       "        orthodb_gene_id external_db_gene_id external_db_name\n",
       "2401526  10090_0:00000d              Q91X05          UniProt\n",
       "2401527  10090_0:00000d              C0LL94          UniProt\n",
       "2401670  10090_0:000012              Q9R1A8          UniProt\n",
       "2401732  10090_0:000015              Q8BX09          UniProt\n",
       "2401801  10090_0:000018              A9ZNB6          UniProt"
      ]
     },
     "execution_count": 27,
     "metadata": {},
     "output_type": "execute_result"
    }
   ],
   "source": [
    "odb_xrefs_uniprot_busco_mammalia = odb_xrefs_uniprot.query(\n",
    "    \"orthodb_gene_id in @busco_mammalia_orthogroups.busco_id\"\n",
    ")\n",
    "print(odb_xrefs_uniprot_busco_mammalia.shape)\n",
    "odb_xrefs_uniprot_busco_mammalia.head()"
   ]
  },
  {
   "cell_type": "code",
   "execution_count": 28,
   "metadata": {},
   "outputs": [
    {
     "data": {
      "text/html": [
       "<div>\n",
       "<style scoped>\n",
       "    .dataframe tbody tr th:only-of-type {\n",
       "        vertical-align: middle;\n",
       "    }\n",
       "\n",
       "    .dataframe tbody tr th {\n",
       "        vertical-align: top;\n",
       "    }\n",
       "\n",
       "    .dataframe thead th {\n",
       "        text-align: right;\n",
       "    }\n",
       "</style>\n",
       "<table border=\"1\" class=\"dataframe\">\n",
       "  <thead>\n",
       "    <tr style=\"text-align: right;\">\n",
       "      <th></th>\n",
       "      <th>orthodb_gene_id</th>\n",
       "      <th>external_db_gene_id</th>\n",
       "      <th>external_db_name</th>\n",
       "    </tr>\n",
       "  </thead>\n",
       "  <tbody>\n",
       "    <tr>\n",
       "      <th>2757392</th>\n",
       "      <td>10090_0:00343f</td>\n",
       "      <td>Q80TN5</td>\n",
       "      <td>UniProt</td>\n",
       "    </tr>\n",
       "    <tr>\n",
       "      <th>2533638</th>\n",
       "      <td>10090_0:001341</td>\n",
       "      <td>Q8R3G1</td>\n",
       "      <td>UniProt</td>\n",
       "    </tr>\n",
       "    <tr>\n",
       "      <th>228230370</th>\n",
       "      <td>9365_0:000624</td>\n",
       "      <td>A0A1S3WQE2</td>\n",
       "      <td>UniProt</td>\n",
       "    </tr>\n",
       "    <tr>\n",
       "      <th>2427408</th>\n",
       "      <td>10090_0:0003c8</td>\n",
       "      <td>Q3UI57</td>\n",
       "      <td>UniProt</td>\n",
       "    </tr>\n",
       "    <tr>\n",
       "      <th>231485434</th>\n",
       "      <td>9544_0:003cff</td>\n",
       "      <td>H9FND0</td>\n",
       "      <td>UniProt</td>\n",
       "    </tr>\n",
       "    <tr>\n",
       "      <th>2502961</th>\n",
       "      <td>10090_0:000ebe</td>\n",
       "      <td>Q3TUE1</td>\n",
       "      <td>UniProt</td>\n",
       "    </tr>\n",
       "    <tr>\n",
       "      <th>233938799</th>\n",
       "      <td>9606_0:000fa3</td>\n",
       "      <td>C9JLB7</td>\n",
       "      <td>UniProt</td>\n",
       "    </tr>\n",
       "    <tr>\n",
       "      <th>241447783</th>\n",
       "      <td>9986_0:003a4b</td>\n",
       "      <td>G1SSX7</td>\n",
       "      <td>UniProt</td>\n",
       "    </tr>\n",
       "    <tr>\n",
       "      <th>228307330</th>\n",
       "      <td>9365_0:00244f</td>\n",
       "      <td>A0A1S2ZW29</td>\n",
       "      <td>UniProt</td>\n",
       "    </tr>\n",
       "    <tr>\n",
       "      <th>2530138</th>\n",
       "      <td>10090_0:0012ba</td>\n",
       "      <td>G3UXC1</td>\n",
       "      <td>UniProt</td>\n",
       "    </tr>\n",
       "  </tbody>\n",
       "</table>\n",
       "</div>"
      ],
      "text/plain": [
       "          orthodb_gene_id external_db_gene_id external_db_name\n",
       "2757392    10090_0:00343f              Q80TN5          UniProt\n",
       "2533638    10090_0:001341              Q8R3G1          UniProt\n",
       "228230370   9365_0:000624          A0A1S3WQE2          UniProt\n",
       "2427408    10090_0:0003c8              Q3UI57          UniProt\n",
       "231485434   9544_0:003cff              H9FND0          UniProt\n",
       "2502961    10090_0:000ebe              Q3TUE1          UniProt\n",
       "233938799   9606_0:000fa3              C9JLB7          UniProt\n",
       "241447783   9986_0:003a4b              G1SSX7          UniProt\n",
       "228307330   9365_0:00244f          A0A1S2ZW29          UniProt\n",
       "2530138    10090_0:0012ba              G3UXC1          UniProt"
      ]
     },
     "execution_count": 28,
     "metadata": {},
     "output_type": "execute_result"
    }
   ],
   "source": [
    "odb_xrefs_uniprot_busco_mammalia.sample(10)"
   ]
  },
  {
   "cell_type": "markdown",
   "metadata": {},
   "source": [
    "### Write to csv for later!"
   ]
  },
  {
   "cell_type": "code",
   "execution_count": 29,
   "metadata": {},
   "outputs": [],
   "source": [
    "odb_xrefs_uniprot_busco_mammalia.to_csv(\n",
    "    os.path.join(BUSCO_MAMMALIA_FOLDER, \"busco_mammalia__orthodb__to__uniprot.csv\"),\n",
    "    index=False,\n",
    ")"
   ]
  },
  {
   "cell_type": "markdown",
   "metadata": {},
   "source": [
    "### If using later, simply read the csv"
   ]
  },
  {
   "cell_type": "code",
   "execution_count": 30,
   "metadata": {},
   "outputs": [
    {
     "name": "stdout",
     "output_type": "stream",
     "text": [
      "(64198, 3)\n"
     ]
    },
    {
     "data": {
      "text/html": [
       "<div>\n",
       "<style scoped>\n",
       "    .dataframe tbody tr th:only-of-type {\n",
       "        vertical-align: middle;\n",
       "    }\n",
       "\n",
       "    .dataframe tbody tr th {\n",
       "        vertical-align: top;\n",
       "    }\n",
       "\n",
       "    .dataframe thead th {\n",
       "        text-align: right;\n",
       "    }\n",
       "</style>\n",
       "<table border=\"1\" class=\"dataframe\">\n",
       "  <thead>\n",
       "    <tr style=\"text-align: right;\">\n",
       "      <th></th>\n",
       "      <th>orthodb_gene_id</th>\n",
       "      <th>external_db_gene_id</th>\n",
       "      <th>external_db_name</th>\n",
       "    </tr>\n",
       "  </thead>\n",
       "  <tbody>\n",
       "    <tr>\n",
       "      <th>0</th>\n",
       "      <td>10090_0:00000d</td>\n",
       "      <td>Q91X05</td>\n",
       "      <td>UniProt</td>\n",
       "    </tr>\n",
       "    <tr>\n",
       "      <th>1</th>\n",
       "      <td>10090_0:00000d</td>\n",
       "      <td>C0LL94</td>\n",
       "      <td>UniProt</td>\n",
       "    </tr>\n",
       "    <tr>\n",
       "      <th>2</th>\n",
       "      <td>10090_0:000012</td>\n",
       "      <td>Q9R1A8</td>\n",
       "      <td>UniProt</td>\n",
       "    </tr>\n",
       "    <tr>\n",
       "      <th>3</th>\n",
       "      <td>10090_0:000015</td>\n",
       "      <td>Q8BX09</td>\n",
       "      <td>UniProt</td>\n",
       "    </tr>\n",
       "    <tr>\n",
       "      <th>4</th>\n",
       "      <td>10090_0:000018</td>\n",
       "      <td>A9ZNB6</td>\n",
       "      <td>UniProt</td>\n",
       "    </tr>\n",
       "  </tbody>\n",
       "</table>\n",
       "</div>"
      ],
      "text/plain": [
       "  orthodb_gene_id external_db_gene_id external_db_name\n",
       "0  10090_0:00000d              Q91X05          UniProt\n",
       "1  10090_0:00000d              C0LL94          UniProt\n",
       "2  10090_0:000012              Q9R1A8          UniProt\n",
       "3  10090_0:000015              Q8BX09          UniProt\n",
       "4  10090_0:000018              A9ZNB6          UniProt"
      ]
     },
     "execution_count": 30,
     "metadata": {},
     "output_type": "execute_result"
    }
   ],
   "source": [
    "odb_xrefs_uniprot_busco_mammalia = pd.read_csv(\n",
    "    os.path.join(BUSCO_MAMMALIA_FOLDER, \"busco_mammalia__orthodb__to__uniprot.csv\")\n",
    ")\n",
    "print(odb_xrefs_uniprot_busco_mammalia.shape)\n",
    "odb_xrefs_uniprot_busco_mammalia.head()"
   ]
  },
  {
   "cell_type": "markdown",
   "metadata": {},
   "source": [
    "# Subset input reads (human fastq gz) to only BUSCO mammalia ids"
   ]
  },
  {
   "cell_type": "code",
   "execution_count": 31,
   "metadata": {},
   "outputs": [
    {
     "name": "stdout",
     "output_type": "stream",
     "text": [
      "@read1/tr|A0A024R1R8|ENSP00000491117;mate1Start:1;mate2Start:1\n",
      "ATGTCCAGCCACGAAGGTGGCAAGAAGAAGGCACTGAAACAGCCCAAGAAGCAGGCCAAGGAGATGGACGAGGAAGAGAAGGCTTTCAAGCAGAAACAAAAAGAGGAGCAGAAGAAACTCGAGGTGCTAAAAGCGAAGGTCGTGGGGAAG\n",
      "+\n",
      "IIIIIIIIIIIIIIIIIIIIIIIIIIIIIIIIIIIIIIIIIIIIIIIIIIIIIIIIIIIIIIIIIIIIIIIIIIIIIIIIIIIIIIIIIIIIIIIIIIIIIIIIIIIIIIIIIIIIIIIIIIIIIIIIIIIIIIIIIIIIIIIIIIIIII\n",
      "@read2/tr|A0A024R1R8|ENSP00000491117;mate1Start:1;mate2Start:1\n",
      "ATTTCCAGCCACGAAGGTGGCAAGAAGAAGGCACTGAAACAGCCCAAGAAGCAGGCCAAGGAGATGGACGAGGAAGAGAAGGCTTTCAAGCAGAAACAAAAAGAGGAGCAGAAGAAACTCGAGGTGCTAAAAGCGAAGGTCGTGGGGAAG\n",
      "+\n",
      "IIIIIIIIIIIIIIIIIIIIIIIIIIIIIIIIIIIIIIIIIIIIIIIIIIIIIIIIIIIIIIIIIIIIIIIIIIIIIIIIIIIIIIIIIIIIIIIIIIIIIIIIIIIIIIIIIIIIIIIIIIIIIIIIIIIIIIIIIIIIIIIIIIIIII\n",
      "@read3/tr|A0A024R1R8|ENSP00000491117;mate1Start:1;mate2Start:1\n",
      "ATGTCCAGCCACGAAGGTGGCAAGAAGAAGGCACTGAAACAGCCCAAGAAGCNGGCCAAGGAGATGGACGAGGAAGAGAAGGCTTTCAAGCAGAAACAAAAAGAGGAGCAGAAGAAACTCGAGGTGCTAAAAGCGAAGGTCGTGGGGAAG\n",
      "\n",
      "gzip: stdout: Broken pipe\n"
     ]
    }
   ],
   "source": [
    "! zcat $SIMULATED_READS_FOLDER/Homo_sapiens_9606_qfo_dna_01.fq.gz | head"
   ]
  },
  {
   "cell_type": "code",
   "execution_count": 32,
   "metadata": {},
   "outputs": [],
   "source": [
    "fastq_subset_outdir = os.path.join(\n",
    "    SIMULATED_READS_FOLDER, \"reads_from_genes_in_busco_mammalia__orthodb-v10\"\n",
    ")"
   ]
  },
  {
   "cell_type": "code",
   "execution_count": 33,
   "metadata": {},
   "outputs": [
    {
     "data": {
      "text/plain": [
       "64197"
      ]
     },
     "execution_count": 33,
     "metadata": {},
     "output_type": "execute_result"
    }
   ],
   "source": [
    "busco_mammalia_uniprot_ids = set(odb_xrefs_uniprot_busco_mammalia.external_db_gene_id.values)\n",
    "len(busco_mammalia_uniprot_ids)"
   ]
  },
  {
   "cell_type": "markdown",
   "metadata": {},
   "source": [
    "## Read in simulated human reads and subset to only ones with busco IDs"
   ]
  },
  {
   "cell_type": "code",
   "execution_count": 34,
   "metadata": {},
   "outputs": [
    {
     "name": "stderr",
     "output_type": "stream",
     "text": [
      "1015001it [00:15, 63906.68it/s]\n"
     ]
    },
    {
     "data": {
      "text/plain": [
       "445051"
      ]
     },
     "execution_count": 34,
     "metadata": {},
     "output_type": "execute_result"
    }
   ],
   "source": [
    "fastq_in = '/home/olga/data_lg/data_sm_copy/immune-evolution/rawdata/simulated/human/Homo_sapiens_9606_qfo_dna_01.fq.gz'\n",
    "\n",
    "simulated_reads_busco_mammalia_records = []\n",
    "\n",
    "with screed.open(fastq_in) as records:\n",
    "    for record in tqdm(records):\n",
    "        name = record['name']\n",
    "        read_id_uniprot_ensembl = name.split(';')[0]\n",
    "        uniprot_ensembl = read_id_uniprot_ensembl.split('/')[1]\n",
    "        uniprot = read_id_uniprot_ensembl.split('|')[1]\n",
    "        if uniprot in busco_mammalia_uniprot_ids:\n",
    "            simulated_reads_busco_mammalia_records.append(record)\n",
    "len(simulated_reads_busco_mammalia_records)"
   ]
  },
  {
   "cell_type": "markdown",
   "metadata": {},
   "source": [
    "## WRite new human fastq gz "
   ]
  },
  {
   "cell_type": "code",
   "execution_count": 35,
   "metadata": {},
   "outputs": [],
   "source": [
    "fastq_outdir = '/home/olga/data_lg/data_sm_copy/immune-evolution/rawdata/simulated/human/busco_mammalia__orthodb-v10'"
   ]
  },
  {
   "cell_type": "code",
   "execution_count": 36,
   "metadata": {},
   "outputs": [
    {
     "name": "stderr",
     "output_type": "stream",
     "text": [
      "100%|██████████| 445051/445051 [00:17<00:00, 25436.45it/s]\n"
     ]
    }
   ],
   "source": [
    "fastq_output = f'{fastq_outdir}/Homo_sapiens_9606_qfo_dna_01.fq.gz'\n",
    "with gzip.open(fastq_output, 'wb') as f:\n",
    "    for record in tqdm(simulated_reads_busco_mammalia_records):\n",
    "        output_str = f'@{record[\"name\"]}\\n{record[\"sequence\"]}\\n+\\n{record[\"quality\"]}\\n'\n",
    "        output_bytes = bytes(output_str, 'utf-8')\n",
    "        f.write(output_bytes)"
   ]
  },
  {
   "cell_type": "markdown",
   "metadata": {},
   "source": [
    "# Subset protein fasta files for only BUSCO mammalia ids"
   ]
  },
  {
   "cell_type": "markdown",
   "metadata": {},
   "source": [
    "## Read human protein fasta\n",
    "\n",
    "\n",
    "Human taxonomy id is 9606"
   ]
  },
  {
   "cell_type": "code",
   "execution_count": 40,
   "metadata": {},
   "outputs": [
    {
     "name": "stdout",
     "output_type": "stream",
     "text": [
      "-rw-r--r-- 1 olga czb  36M Oct 13 12:59 ../kmer-homology-data/00--rawdata/quest-for-orthologs/2019/Eukaryota/UP000005640_9606_additional.fasta\n",
      "-rw-r--r-- 1 olga czb  34M Oct 13 12:59 ../kmer-homology-data/00--rawdata/quest-for-orthologs/2019/Eukaryota/UP000005640_9606_DNA.fasta\n",
      "-rw-r--r-- 1 olga czb  20K Oct 13 12:59 ../kmer-homology-data/00--rawdata/quest-for-orthologs/2019/Eukaryota/UP000005640_9606_DNA.miss\n",
      "-rw-r--r-- 1 olga czb  33M Oct 13 18:51 ../kmer-homology-data/00--rawdata/quest-for-orthologs/2019/Eukaryota/UP000005640_9606_DNA__startswith_atg_and_protein_startswith_m.fasta\n",
      "-rw-r--r-- 1 olga czb  14M Oct 13 12:59 ../kmer-homology-data/00--rawdata/quest-for-orthologs/2019/Eukaryota/UP000005640_9606.fasta\n",
      "-rw-r--r-- 1 olga czb  50K Oct 13 12:59 ../kmer-homology-data/00--rawdata/quest-for-orthologs/2019/Eukaryota/UP000005640_9606_gcoord.miss\n",
      "-rw-r--r-- 1 olga czb 2.7M Oct 13 12:59 ../kmer-homology-data/00--rawdata/quest-for-orthologs/2019/Eukaryota/UP000005640_9606.gene2acc\n",
      "-rw-r--r-- 1 olga czb  67M Oct 13 12:59 ../kmer-homology-data/00--rawdata/quest-for-orthologs/2019/Eukaryota/UP000005640_9606.idmapping\n"
     ]
    }
   ],
   "source": [
    "ls -lha $QFO_EUKARYOTA_FOLDER/*9606*"
   ]
  },
  {
   "cell_type": "code",
   "execution_count": 41,
   "metadata": {},
   "outputs": [
    {
     "name": "stdout",
     "output_type": "stream",
     "text": [
      ">tr|A0A024R1R8|A0A024R1R8_HUMAN HCG2014768, isoform CRA_a OS=Homo sapiens OX=9606 GN=hCG_2014768 PE=4 SV=1\n",
      "MSSHEGGKKKALKQPKKQAKEMDEEEKAFKQKQKEEQKKLEVLKAKVVGKGPLATGGIKK\n",
      "SGKK\n",
      ">sp|A0A024RBG1|NUD4B_HUMAN Diphosphoinositol polyphosphate phosphohydrolase NUDT4B OS=Homo sapiens OX=9606 GN=NUDT4B PE=3 SV=1\n",
      "MMKFKPNQTRTYDREGFKKRAACLCFRSEQEDEVLLVSSSRYPDQWIVPGGGMEPEEEPG\n",
      "GAAVREVYEEAGVKGKLGRLLGIFEQNQDRKHRTYVYVLTVTEILEDWEDSVNIGRKREW\n",
      "FKVEDAIKVLQCHKPVHAEYLEKLKLGCSPANGNSTVPSLPDNNALFVTAAQTSGLPSSV\n",
      "R\n",
      ">tr|A0A075B6H5|A0A075B6H5_HUMAN T cell receptor beta variable 20/OR9-2 (non-functional) (Fragment) OS=Homo sapiens OX=9606 GN=TRBV20OR9-2 PE=4 SV=1\n",
      "METVVTTLPREGGVGPSRKMLLLLLLLGPGSGLSAVVSQHPSRVICKSGTSVNIECRSLD\n"
     ]
    }
   ],
   "source": [
    "human_fasta = os.path.join(QFO_EUKARYOTA_FOLDER, \"UP000005640_9606.fasta\")\n",
    "! head $human_fasta"
   ]
  },
  {
   "cell_type": "code",
   "execution_count": 42,
   "metadata": {},
   "outputs": [
    {
     "name": "stdout",
     "output_type": "stream",
     "text": [
      ">sp|A0A024RBG1|NUD4B_HUMAN Diphosphoinositol polyphosphate phosphohydrolase NUDT4B OS=Homo sapiens OX=9606 GN=NUDT4B PE=3 SV=1\n",
      ">sp|A0A075B6H9|LV469_HUMAN Immunoglobulin lambda variable 4-69 OS=Homo sapiens OX=9606 GN=IGLV4-69 PE=1 SV=1\n",
      ">sp|A0A075B6I0|LV861_HUMAN Immunoglobulin lambda variable 8-61 OS=Homo sapiens OX=9606 GN=IGLV8-61 PE=3 SV=7\n",
      ">sp|A0A075B6I1|LV460_HUMAN Immunoglobulin lambda variable 4-60 OS=Homo sapiens OX=9606 GN=IGLV4-60 PE=3 SV=1\n",
      ">sp|A0A075B6I4|LVX54_HUMAN Immunoglobulin lambda variable 10-54 OS=Homo sapiens OX=9606 GN=IGLV10-54 PE=3 SV=1\n",
      ">sp|A0A075B6I9|LV746_HUMAN Immunoglobulin lambda variable 7-46 OS=Homo sapiens OX=9606 GN=IGLV7-46 PE=3 SV=4\n",
      ">sp|A0A075B6J1|LV537_HUMAN Immunoglobulin lambda variable 5-37 OS=Homo sapiens OX=9606 GN=IGLV5-37 PE=3 SV=1\n",
      ">sp|A0A075B6J6|LV322_HUMAN Immunoglobulin lambda variable 3-22 OS=Homo sapiens OX=9606 GN=IGLV3-22 PE=3 SV=1\n",
      ">sp|A0A075B6J9|LV218_HUMAN Immunoglobulin lambda variable 2-18 OS=Homo sapiens OX=9606 GN=IGLV2-18 PE=3 SV=2\n",
      ">sp|A0A075B6K0|LV316_HUMAN Immunoglobulin lambda variable 3-16 OS=Homo sapiens OX=9606 GN=IGLV3-16 PE=3 SV=2\n",
      "grep: write error: Broken pipe\n"
     ]
    }
   ],
   "source": [
    "! grep 'sp|' $human_fasta | head"
   ]
  },
  {
   "cell_type": "code",
   "execution_count": null,
   "metadata": {},
   "outputs": [],
   "source": [
    "! grep P61981 $fasta"
   ]
  },
  {
   "cell_type": "markdown",
   "metadata": {},
   "source": [
    "## Get Human Uniprot IDs from QFO that are also present in the BUSCO Mapping"
   ]
  },
  {
   "cell_type": "code",
   "execution_count": null,
   "metadata": {},
   "outputs": [],
   "source": [
    "\n",
    "def read_ids_filter_orthodb(filename):\n",
    "    df = pd.read_csv(\n",
    "        filename, sep=\"\\t\", header=None, names=[\"uniprot_id\", \"id_type\", \"db_id\"]\n",
    "    )\n",
    "    df.columns = \"source__\" + df.columns\n",
    "\n",
    "    df = df.query('source__id_type == \"OrthoDB\"')\n",
    "    return df\n",
    "\n",
    "\n",
    "human_ids_busco = read_ids_filter_orthodb(\n",
    "    os.path.join(QFO_EUKARYOTA_FOLDER, \"UP000005640_9606.idmapping\")\n",
    ")\n",
    "print(human_ids_busco.shape)\n",
    "human_ids_busco.head()"
   ]
  },
  {
   "cell_type": "code",
   "execution_count": null,
   "metadata": {},
   "outputs": [],
   "source": [
    "csv = os.path.join(\n",
    "    QFO_EUKARYOTA_FOLDER,\n",
    "    \"busco_mammalia_human_uniprot_ids_in_qfo.csv\",\n",
    ")\n",
    "\n",
    "human_ids_busco.to_csv(\n",
    "    csv,\n",
    "    index=False,\n",
    ")"
   ]
  },
  {
   "cell_type": "code",
   "execution_count": null,
   "metadata": {},
   "outputs": [],
   "source": [
    "2+1"
   ]
  },
  {
   "cell_type": "markdown",
   "metadata": {},
   "source": [
    "\n",
    "### How many fasta entries in the human proteome fasta?"
   ]
  },
  {
   "cell_type": "code",
   "execution_count": null,
   "metadata": {},
   "outputs": [],
   "source": [
    "! grep -c '>' $human_fasta"
   ]
  },
  {
   "cell_type": "markdown",
   "metadata": {},
   "source": [
    "## Perform subsetting of QFO fasta files from uniprot IDs present in BUSCO"
   ]
  },
  {
   "cell_type": "code",
   "execution_count": null,
   "metadata": {},
   "outputs": [],
   "source": [
    "def subset_by_uniprot_ids(fasta, uniprot_ids):\n",
    "    records_subset = []\n",
    "    with screed.open(fasta) as records:\n",
    "        for record in records:\n",
    "            name = record[\"name\"]\n",
    "            record_id = name.split()[0]\n",
    "            uniprot_id = record_id.split(\"|\")[1]\n",
    "            if uniprot_id in uniprot_ids:\n",
    "                records_subset.append(record)\n",
    "    return records_subset\n",
    "\n",
    "\n",
    "def write_fasta(output_fasta, records):\n",
    "    with open(output_fasta, \"w\") as f:\n",
    "        for record in records:\n",
    "            f.write(\">{name}\\n{sequence}\\n\".format(**record))\n",
    "\n",
    "\n",
    "# human fasta = protein sequences from quest for orthologs\n",
    "human_busco_mammalia_records = subset_by_uniprot_ids(\n",
    "    human_fasta, set(odb_xrefs_uniprot_busco_mammalia.external_db_gene_id.values)\n",
    ")\n",
    "print(len(human_busco_mammalia_records))\n",
    "human_busco_mammalia_records[:3]"
   ]
  },
  {
   "cell_type": "code",
   "execution_count": null,
   "metadata": {},
   "outputs": [],
   "source": [
    "write_fasta(\n",
    "    os.path.join(QFO_EUKARYOTA_FOLDER, \"UP000005640_9606__busco_mammlia_odbv10.fasta\"),\n",
    "    human_busco_mammalia_records,\n",
    ")"
   ]
  },
  {
   "cell_type": "markdown",
   "metadata": {},
   "source": [
    "## Mouse"
   ]
  },
  {
   "cell_type": "markdown",
   "metadata": {},
   "source": [
    "### Get mouse proteome fasta from QfO\n",
    "Mouse taxononmy id is `10090`"
   ]
  },
  {
   "cell_type": "code",
   "execution_count": null,
   "metadata": {},
   "outputs": [],
   "source": [
    "ls -lha /home/olga/data_lg/data_sm_copy/kmer-hashing/quest-for-orthologs/data/2019/Eukaryota/*10090*"
   ]
  },
  {
   "cell_type": "code",
   "execution_count": null,
   "metadata": {},
   "outputs": [],
   "source": [
    "! head /home/olga/data_lg/data_sm_copy/kmer-hashing/quest-for-orthologs/data/2019/Eukaryota/UP000000589_10090_DNA.fasta"
   ]
  },
  {
   "cell_type": "code",
   "execution_count": null,
   "metadata": {},
   "outputs": [],
   "source": [
    "mouse_ids_busco = read_ids_filter_orthodb(f'{qfo_eukaryota}/UP000000589_10090.idmapping')\n",
    "print(mouse_ids_busco.shape)\n",
    "mouse_ids_busco.head()"
   ]
  },
  {
   "cell_type": "markdown",
   "metadata": {},
   "source": [
    "### Subset mouse protein fasta on BUSCO Mammalia UniProt IDs"
   ]
  },
  {
   "cell_type": "code",
   "execution_count": null,
   "metadata": {},
   "outputs": [],
   "source": [
    "mouse_fasta = f'{qfo_eukaryota}/UP000000589_10090.fasta'\n",
    "mouse_busco_mammalia_records = subset_by_uniprot_ids(mouse_fasta, set(odb_xrefs_uniprot_busco_mammalia.external_db_gene_id.values))\n",
    "print(len(mouse_busco_mammalia_records))\n",
    "mouse_busco_mammalia_records[:3]"
   ]
  },
  {
   "cell_type": "code",
   "execution_count": null,
   "metadata": {},
   "outputs": [],
   "source": [
    "write_fasta(f'{qfo_2019}/Eukaryota/UP000000589_10090__busco_mammlia_odbv10.fasta', \n",
    "            mouse_busco_mammalia_records)"
   ]
  },
  {
   "cell_type": "code",
   "execution_count": null,
   "metadata": {},
   "outputs": [],
   "source": [
    "! head '/home/olga/data_lg/data_sm_copy/kmer-hashing/quest-for-orthologs/data/2019/Eukaryota/UP000000589_10090__busco_mammlia_odbv10.fasta'"
   ]
  }
 ],
 "metadata": {
  "kernelspec": {
   "display_name": "Python [conda env:immune-evolution]",
   "language": "python",
   "name": "conda-env-immune-evolution-py"
  },
  "language_info": {
   "codemirror_mode": {
    "name": "ipython",
    "version": 3
   },
   "file_extension": ".py",
   "mimetype": "text/x-python",
   "name": "python",
   "nbconvert_exporter": "python",
   "pygments_lexer": "ipython3",
   "version": "3.7.8"
  }
 },
 "nbformat": 4,
 "nbformat_minor": 4
}
