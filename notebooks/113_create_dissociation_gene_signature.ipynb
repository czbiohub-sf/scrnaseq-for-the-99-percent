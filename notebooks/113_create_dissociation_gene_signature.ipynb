{
 "cells": [
  {
   "cell_type": "code",
   "execution_count": 2,
   "metadata": {},
   "outputs": [],
   "source": [
    "import itertools\n",
    "import os\n",
    "import re\n",
    "\n",
    "import screed\n",
    "import pandas as pd"
   ]
  },
  {
   "cell_type": "markdown",
   "metadata": {},
   "source": [
    "# Filter fastas for for dissociation associated genes"
   ]
  },
  {
   "cell_type": "code",
   "execution_count": 3,
   "metadata": {},
   "outputs": [
    {
     "data": {
      "text/plain": [
       "1880"
      ]
     },
     "execution_count": 3,
     "metadata": {},
     "output_type": "execute_result"
    }
   ],
   "source": [
    "dissociation_genes = set(pd.read_csv('/home/olga/data_sm/immune-evolution/databases/nuisance-genes/dissociation_genes_3Nov2020.csv', index_col=0, squeeze=True))\n",
    "len(dissociation_genes)"
   ]
  },
  {
   "cell_type": "code",
   "execution_count": 4,
   "metadata": {},
   "outputs": [
    {
     "name": "stdout",
     "output_type": "stream",
     "text": [
      "total 3.9M\n",
      "drwxrwxr-x 2 olga czb 4.0K Sep 25 08:46 .\n",
      "drwxrwxr-x 3 olga czb 4.0K Sep 25 08:38 ..\n",
      "-rwxrwxr-x 1 olga czb 842K Sep 25 08:39 mRhiFer1_v1__gene_info.tsv.gz\n",
      "-rwxrwxr-x 1 olga czb 3.0M Sep 25 08:39 mRhiFer1_v1__human__mouse-lemur__mouse__orthologs.tsv.gz\n"
     ]
    }
   ],
   "source": [
    "! ls -lha /home/olga/data_sm/immune-evolution/rawdata/ensembl/v101/orthologs"
   ]
  },
  {
   "cell_type": "code",
   "execution_count": 5,
   "metadata": {},
   "outputs": [],
   "source": [
    "human_protein_fasta = '/home/olga/data_lg/czbiohub-reference/gencode/human/v30/gencode.v30.pc_translations.fa.gz'\n",
    "mouse_protein_fasta = '/home/olga/data_lg/czbiohub-reference/gencode/mouse/vM21/gencode.vM21.pc_translations.fa.gz'"
   ]
  },
  {
   "cell_type": "code",
   "execution_count": 6,
   "metadata": {},
   "outputs": [
    {
     "name": "stdout",
     "output_type": "stream",
     "text": [
      ">ENSP00000493376.2|ENST00000641515.2|ENSG00000186092.6|OTTHUMG00000001094.4|OTTHUMT00000003223.4|OR4F5-202|OR4F5|326\n",
      "MKKVTAEAISWNESTSETNNSMVTEFIFLGLSDSQELQTFLFMLFFVFYGGIVFGNLLIV\n",
      "ITVVSDSHLHSPMYFLLANLSLIDLSLSSVTAPKMITDFFSQRKVISFKGCLVQIFLLHF\n",
      "FGGSEMVILIAMGFDRYIAICKPLHYTTIMCGNACVGIMAVTWGIGFLHSVSQLAFAVHL\n",
      "LFCGPNEVDSFYCDLPRVIKLACTDTYRLDIMVIANSGVLTVCSFVLLIISYTIILMTIQ\n",
      "HRPLDKSSKALSTLTAHITVVLLFFGPCVFIYAWPFPIKSLDKFLAVFYSVITPLLNPII\n",
      "YTLRNKDMKTAIRQLRKWDAHSSVKF\n",
      ">ENSP00000334393.3|ENST00000335137.4|ENSG00000186092.6|OTTHUMG00000001094.4|-|OR4F5-201|OR4F5|305\n",
      "MVTEFIFLGLSDSQELQTFLFMLFFVFYGGIVFGNLLIVITVVSDSHLHSPMYFLLANLS\n",
      "LIDLSLSSVTAPKMITDFFSQRKVISFKGCLVQIFLLHFFGGSEMVILIAMGFDRYIAIC\n",
      "\n",
      "gzip: stdout: Broken pipe\n"
     ]
    }
   ],
   "source": [
    "! zcat $human_protein_fasta |head"
   ]
  },
  {
   "cell_type": "markdown",
   "metadata": {},
   "source": [
    "## Constants (ksizes)"
   ]
  },
  {
   "cell_type": "code",
   "execution_count": 2,
   "metadata": {},
   "outputs": [
    {
     "data": {
      "text/plain": [
       "'21,24,27,30,33,36,39,42,45,48,51,54,57,60,63,66,69,72,75,78,81,84,87,90'"
      ]
     },
     "execution_count": 2,
     "metadata": {},
     "output_type": "execute_result"
    }
   ],
   "source": [
    "ksizes_str = ','.join(map( str, range(21, 91, 3)))\n",
    "ksizes_str"
   ]
  },
  {
   "cell_type": "code",
   "execution_count": 7,
   "metadata": {},
   "outputs": [],
   "source": [
    "# dissociation_associated_gene_ids"
   ]
  },
  {
   "cell_type": "markdown",
   "metadata": {},
   "source": [
    "## Utility functions"
   ]
  },
  {
   "cell_type": "code",
   "execution_count": 25,
   "metadata": {},
   "outputs": [],
   "source": [
    "def write_records_to_fasta(records, fasta):\n",
    "    with open(fasta, 'w') as f:\n",
    "        for record in records:\n",
    "            f.write(f'>{record[\"name\"]}\\n{record[\"sequence\"]}\\n')\n",
    "\n",
    "def filter_records(fasta, pattern,):\n",
    "    filtered_records = []\n",
    "    with screed.open(fasta) as records:\n",
    "        for record in records:\n",
    "            name = record['name']\n",
    "            if re.findall(pattern, name, flags=re.I):\n",
    "                filtered_records.append(record)\n",
    "    return filtered_records\n",
    "\n",
    "\n",
    "def check_gene_label_in_ids_or_names(gene_name, gene_names, seqtype_id, seqtype_ids):\n",
    "    try:\n",
    "        in_seqtype_ids = seqtype_id in seqtype_ids\n",
    "    except TypeError:\n",
    "        in_seqtype_ids = False\n",
    "    \n",
    "    try:\n",
    "        in_gene_names = gene_name in gene_names\n",
    "    except TypeError:\n",
    "        in_gene_names = False\n",
    "        \n",
    "    return in_gene_names | in_seqtype_ids\n",
    "\n",
    "\n",
    "def filter_records_by_ids(fasta, seqtype_ids=None, gene_names=None, seqtype='protein'):\n",
    "    filtered_records = []\n",
    "    with screed.open(fasta) as records:\n",
    "        for record in records:\n",
    "            name = record['name']\n",
    "            split = record['name'].split('|')\n",
    "            if seqtype == 'protein':\n",
    "                seqtype_id = gene_id = split[0].split('.')[0]\n",
    "                gene_name = split[-2]\n",
    "            elif seqtype == 'transcript':\n",
    "                transcript_id = split[0].split('.')[0]\n",
    "                seqtype_id = transcript_id\n",
    "                gene_id = split[1].split('.')[0]\n",
    "                gene_name = split[-4]\n",
    "#             import pdb; pdb.set_trace()\n",
    "            if check_gene_label_in_ids_or_names(gene_name, gene_names, seqtype_id, seqtype_ids):\n",
    "                filtered_records.append(record)\n",
    "    return filtered_records\n",
    "\n",
    "\n",
    "def filter_fasta_with_regex(fasta_to_filter, out_fasta, regex=None, gene_ids=None, gene_names=None, seqtype=None):\n",
    "    if regex is None:\n",
    "        record_subset = filter_records_by_ids(fasta_to_filter, gene_ids, gene_names, seqtype)\n",
    "    else:\n",
    "        record_subset = filter_records(fasta_to_filter, regex)\n",
    "    write_records_to_fasta(record_subset, out_fasta)\n",
    "    \n",
    "    \n"
   ]
  },
  {
   "cell_type": "code",
   "execution_count": 11,
   "metadata": {},
   "outputs": [],
   "source": [
    "# ! head $human_transcript_fasta"
   ]
  },
  {
   "cell_type": "markdown",
   "metadata": {},
   "source": [
    "# Human"
   ]
  },
  {
   "cell_type": "markdown",
   "metadata": {},
   "source": [
    "## Filter human records for dissociation associated records"
   ]
  },
  {
   "cell_type": "code",
   "execution_count": 12,
   "metadata": {},
   "outputs": [
    {
     "data": {
      "text/plain": [
       "9068"
      ]
     },
     "execution_count": 12,
     "metadata": {},
     "output_type": "execute_result"
    }
   ],
   "source": [
    "dissociation_associated_records = []\n",
    "dissociation_associated_gene_ids = []\n",
    "\n",
    "with screed.open(human_protein_fasta) as records:\n",
    "    for record in records:\n",
    "        split = record['name'].split('|')\n",
    "        gene_id = split[2].split('.')[0]\n",
    "        gene_name = split[-2]\n",
    "        if gene_name in dissociation_genes:\n",
    "            dissociation_associated_records.append(record)\n",
    "            dissociation_associated_gene_ids.append(gene_id)\n",
    "            \n",
    "len(dissociation_associated_records)"
   ]
  },
  {
   "cell_type": "markdown",
   "metadata": {},
   "source": [
    "### Write to fasta"
   ]
  },
  {
   "cell_type": "code",
   "execution_count": 13,
   "metadata": {},
   "outputs": [],
   "source": [
    "human_dissociation_fasta = human_protein_fasta.replace('.fa.gz', '__dissociation_genes_3Nov2020.fasta')\n",
    "write_records_to_fasta(dissociation_associated_records, human_dissociation_fasta)"
   ]
  },
  {
   "cell_type": "markdown",
   "metadata": {},
   "source": [
    "## Filter human sequences for mitochondrial sequences"
   ]
  },
  {
   "cell_type": "code",
   "execution_count": 14,
   "metadata": {},
   "outputs": [
    {
     "name": "stdout",
     "output_type": "stream",
     "text": [
      "362 /home/olga/data_lg/czbiohub-reference/gencode/human/v30/gencode.v30.pc_translations__mitochondrial_genes.fasta\n",
      "181\n"
     ]
    }
   ],
   "source": [
    "human_mitochondrial_fasta = human_protein_fasta.replace('.fa.gz', '__mitochondrial_genes.fasta')\n",
    "filter_fasta_with_regex(human_protein_fasta, human_mitochondrial_fasta, 'MT-\\w+')\n",
    "! wc -l $human_mitochondrial_fasta\n",
    "! grep -c '>' $human_mitochondrial_fasta"
   ]
  },
  {
   "cell_type": "markdown",
   "metadata": {},
   "source": [
    "# Mouse"
   ]
  },
  {
   "cell_type": "markdown",
   "metadata": {},
   "source": [
    "## Get mouse orthologs"
   ]
  },
  {
   "cell_type": "code",
   "execution_count": 15,
   "metadata": {},
   "outputs": [
    {
     "name": "stdout",
     "output_type": "stream",
     "text": [
      "(265341, 20)\n"
     ]
    },
    {
     "name": "stderr",
     "output_type": "stream",
     "text": [
      "/home/olga/miniconda3/envs/immune-evolution/lib/python3.7/site-packages/IPython/core/interactiveshell.py:3146: DtypeWarning: Columns (4,5,6,7,10,11,12) have mixed types.Specify dtype option on import or set low_memory=False.\n",
      "  interactivity=interactivity, compiler=compiler, result=result)\n"
     ]
    },
    {
     "data": {
      "text/html": [
       "<div>\n",
       "<style scoped>\n",
       "    .dataframe tbody tr th:only-of-type {\n",
       "        vertical-align: middle;\n",
       "    }\n",
       "\n",
       "    .dataframe tbody tr th {\n",
       "        vertical-align: top;\n",
       "    }\n",
       "\n",
       "    .dataframe thead th {\n",
       "        text-align: right;\n",
       "    }\n",
       "</style>\n",
       "<table border=\"1\" class=\"dataframe\">\n",
       "  <thead>\n",
       "    <tr style=\"text-align: right;\">\n",
       "      <th></th>\n",
       "      <th>Gene stable ID</th>\n",
       "      <th>Gene stable ID version</th>\n",
       "      <th>Transcript stable ID</th>\n",
       "      <th>Transcript stable ID version</th>\n",
       "      <th>Mouse gene stable ID</th>\n",
       "      <th>Mouse gene name</th>\n",
       "      <th>Mouse protein or transcript stable ID</th>\n",
       "      <th>Mouse chromosome/scaffold name</th>\n",
       "      <th>Mouse chromosome/scaffold start (bp)</th>\n",
       "      <th>Mouse chromosome/scaffold end (bp)</th>\n",
       "      <th>Query protein or transcript ID</th>\n",
       "      <th>Last common ancestor with Mouse</th>\n",
       "      <th>Mouse homology type</th>\n",
       "      <th>%id. target Mouse gene identical to query gene</th>\n",
       "      <th>%id. query gene identical to target Mouse gene</th>\n",
       "      <th>Mouse Gene-order conservation score</th>\n",
       "      <th>Mouse Whole-genome alignment coverage</th>\n",
       "      <th>dN with Mouse</th>\n",
       "      <th>dS with Mouse</th>\n",
       "      <th>Mouse orthology confidence [0 low, 1 high]</th>\n",
       "    </tr>\n",
       "  </thead>\n",
       "  <tbody>\n",
       "    <tr>\n",
       "      <th>0</th>\n",
       "      <td>ENSG00000210049</td>\n",
       "      <td>ENSG00000210049.1</td>\n",
       "      <td>ENST00000387314</td>\n",
       "      <td>ENST00000387314.1</td>\n",
       "      <td>NaN</td>\n",
       "      <td>NaN</td>\n",
       "      <td>NaN</td>\n",
       "      <td>NaN</td>\n",
       "      <td>NaN</td>\n",
       "      <td>NaN</td>\n",
       "      <td>NaN</td>\n",
       "      <td>NaN</td>\n",
       "      <td>NaN</td>\n",
       "      <td>NaN</td>\n",
       "      <td>NaN</td>\n",
       "      <td>NaN</td>\n",
       "      <td>NaN</td>\n",
       "      <td>NaN</td>\n",
       "      <td>NaN</td>\n",
       "      <td>NaN</td>\n",
       "    </tr>\n",
       "    <tr>\n",
       "      <th>1</th>\n",
       "      <td>ENSG00000211459</td>\n",
       "      <td>ENSG00000211459.2</td>\n",
       "      <td>ENST00000389680</td>\n",
       "      <td>ENST00000389680.2</td>\n",
       "      <td>NaN</td>\n",
       "      <td>NaN</td>\n",
       "      <td>NaN</td>\n",
       "      <td>NaN</td>\n",
       "      <td>NaN</td>\n",
       "      <td>NaN</td>\n",
       "      <td>NaN</td>\n",
       "      <td>NaN</td>\n",
       "      <td>NaN</td>\n",
       "      <td>NaN</td>\n",
       "      <td>NaN</td>\n",
       "      <td>NaN</td>\n",
       "      <td>NaN</td>\n",
       "      <td>NaN</td>\n",
       "      <td>NaN</td>\n",
       "      <td>NaN</td>\n",
       "    </tr>\n",
       "    <tr>\n",
       "      <th>2</th>\n",
       "      <td>ENSG00000210077</td>\n",
       "      <td>ENSG00000210077.1</td>\n",
       "      <td>ENST00000387342</td>\n",
       "      <td>ENST00000387342.1</td>\n",
       "      <td>NaN</td>\n",
       "      <td>NaN</td>\n",
       "      <td>NaN</td>\n",
       "      <td>NaN</td>\n",
       "      <td>NaN</td>\n",
       "      <td>NaN</td>\n",
       "      <td>NaN</td>\n",
       "      <td>NaN</td>\n",
       "      <td>NaN</td>\n",
       "      <td>NaN</td>\n",
       "      <td>NaN</td>\n",
       "      <td>NaN</td>\n",
       "      <td>NaN</td>\n",
       "      <td>NaN</td>\n",
       "      <td>NaN</td>\n",
       "      <td>NaN</td>\n",
       "    </tr>\n",
       "    <tr>\n",
       "      <th>3</th>\n",
       "      <td>ENSG00000210082</td>\n",
       "      <td>ENSG00000210082.2</td>\n",
       "      <td>ENST00000387347</td>\n",
       "      <td>ENST00000387347.2</td>\n",
       "      <td>NaN</td>\n",
       "      <td>NaN</td>\n",
       "      <td>NaN</td>\n",
       "      <td>NaN</td>\n",
       "      <td>NaN</td>\n",
       "      <td>NaN</td>\n",
       "      <td>NaN</td>\n",
       "      <td>NaN</td>\n",
       "      <td>NaN</td>\n",
       "      <td>NaN</td>\n",
       "      <td>NaN</td>\n",
       "      <td>NaN</td>\n",
       "      <td>NaN</td>\n",
       "      <td>NaN</td>\n",
       "      <td>NaN</td>\n",
       "      <td>NaN</td>\n",
       "    </tr>\n",
       "    <tr>\n",
       "      <th>4</th>\n",
       "      <td>ENSG00000209082</td>\n",
       "      <td>ENSG00000209082.1</td>\n",
       "      <td>ENST00000386347</td>\n",
       "      <td>ENST00000386347.1</td>\n",
       "      <td>NaN</td>\n",
       "      <td>NaN</td>\n",
       "      <td>NaN</td>\n",
       "      <td>NaN</td>\n",
       "      <td>NaN</td>\n",
       "      <td>NaN</td>\n",
       "      <td>NaN</td>\n",
       "      <td>NaN</td>\n",
       "      <td>NaN</td>\n",
       "      <td>NaN</td>\n",
       "      <td>NaN</td>\n",
       "      <td>NaN</td>\n",
       "      <td>NaN</td>\n",
       "      <td>NaN</td>\n",
       "      <td>NaN</td>\n",
       "      <td>NaN</td>\n",
       "    </tr>\n",
       "  </tbody>\n",
       "</table>\n",
       "</div>"
      ],
      "text/plain": [
       "    Gene stable ID Gene stable ID version Transcript stable ID  \\\n",
       "0  ENSG00000210049      ENSG00000210049.1      ENST00000387314   \n",
       "1  ENSG00000211459      ENSG00000211459.2      ENST00000389680   \n",
       "2  ENSG00000210077      ENSG00000210077.1      ENST00000387342   \n",
       "3  ENSG00000210082      ENSG00000210082.2      ENST00000387347   \n",
       "4  ENSG00000209082      ENSG00000209082.1      ENST00000386347   \n",
       "\n",
       "  Transcript stable ID version Mouse gene stable ID Mouse gene name  \\\n",
       "0            ENST00000387314.1                  NaN             NaN   \n",
       "1            ENST00000389680.2                  NaN             NaN   \n",
       "2            ENST00000387342.1                  NaN             NaN   \n",
       "3            ENST00000387347.2                  NaN             NaN   \n",
       "4            ENST00000386347.1                  NaN             NaN   \n",
       "\n",
       "  Mouse protein or transcript stable ID Mouse chromosome/scaffold name  \\\n",
       "0                                   NaN                            NaN   \n",
       "1                                   NaN                            NaN   \n",
       "2                                   NaN                            NaN   \n",
       "3                                   NaN                            NaN   \n",
       "4                                   NaN                            NaN   \n",
       "\n",
       "   Mouse chromosome/scaffold start (bp)  Mouse chromosome/scaffold end (bp)  \\\n",
       "0                                   NaN                                 NaN   \n",
       "1                                   NaN                                 NaN   \n",
       "2                                   NaN                                 NaN   \n",
       "3                                   NaN                                 NaN   \n",
       "4                                   NaN                                 NaN   \n",
       "\n",
       "  Query protein or transcript ID Last common ancestor with Mouse  \\\n",
       "0                            NaN                             NaN   \n",
       "1                            NaN                             NaN   \n",
       "2                            NaN                             NaN   \n",
       "3                            NaN                             NaN   \n",
       "4                            NaN                             NaN   \n",
       "\n",
       "  Mouse homology type  %id. target Mouse gene identical to query gene  \\\n",
       "0                 NaN                                             NaN   \n",
       "1                 NaN                                             NaN   \n",
       "2                 NaN                                             NaN   \n",
       "3                 NaN                                             NaN   \n",
       "4                 NaN                                             NaN   \n",
       "\n",
       "   %id. query gene identical to target Mouse gene  \\\n",
       "0                                             NaN   \n",
       "1                                             NaN   \n",
       "2                                             NaN   \n",
       "3                                             NaN   \n",
       "4                                             NaN   \n",
       "\n",
       "   Mouse Gene-order conservation score  Mouse Whole-genome alignment coverage  \\\n",
       "0                                  NaN                                    NaN   \n",
       "1                                  NaN                                    NaN   \n",
       "2                                  NaN                                    NaN   \n",
       "3                                  NaN                                    NaN   \n",
       "4                                  NaN                                    NaN   \n",
       "\n",
       "   dN with Mouse  dS with Mouse  Mouse orthology confidence [0 low, 1 high]  \n",
       "0            NaN            NaN                                         NaN  \n",
       "1            NaN            NaN                                         NaN  \n",
       "2            NaN            NaN                                         NaN  \n",
       "3            NaN            NaN                                         NaN  \n",
       "4            NaN            NaN                                         NaN  "
      ]
     },
     "execution_count": 15,
     "metadata": {},
     "output_type": "execute_result"
    }
   ],
   "source": [
    "human_mouse_orthologs = pd.read_csv('/home/olga/googledrive/TabulaMicrocebus/data/orthologous-genes/ensembl98__human__to__mouse__orthologs.txt.gz', sep='\\t')\n",
    "print(human_mouse_orthologs.shape)\n",
    "human_mouse_orthologs.head()"
   ]
  },
  {
   "cell_type": "code",
   "execution_count": 16,
   "metadata": {},
   "outputs": [
    {
     "data": {
      "text/plain": [
       "(14505, 20)"
      ]
     },
     "execution_count": 16,
     "metadata": {},
     "output_type": "execute_result"
    }
   ],
   "source": [
    "rows = human_mouse_orthologs['Gene stable ID'].isin(dissociation_associated_gene_ids)\n",
    "human_mouse_orthologs_dissociation = human_mouse_orthologs.loc[rows]\n",
    "# human_mouse_orthologs_dissociation = human_mouse_orthologs_dissociation.drop_duplicates()\n",
    "human_mouse_orthologs_dissociation.shape"
   ]
  },
  {
   "cell_type": "code",
   "execution_count": 17,
   "metadata": {},
   "outputs": [
    {
     "data": {
      "text/html": [
       "<div>\n",
       "<style scoped>\n",
       "    .dataframe tbody tr th:only-of-type {\n",
       "        vertical-align: middle;\n",
       "    }\n",
       "\n",
       "    .dataframe tbody tr th {\n",
       "        vertical-align: top;\n",
       "    }\n",
       "\n",
       "    .dataframe thead th {\n",
       "        text-align: right;\n",
       "    }\n",
       "</style>\n",
       "<table border=\"1\" class=\"dataframe\">\n",
       "  <thead>\n",
       "    <tr style=\"text-align: right;\">\n",
       "      <th></th>\n",
       "      <th>Gene stable ID</th>\n",
       "      <th>Gene stable ID version</th>\n",
       "      <th>Transcript stable ID</th>\n",
       "      <th>Transcript stable ID version</th>\n",
       "      <th>Mouse gene stable ID</th>\n",
       "      <th>Mouse gene name</th>\n",
       "      <th>Mouse protein or transcript stable ID</th>\n",
       "      <th>Mouse chromosome/scaffold name</th>\n",
       "      <th>Mouse chromosome/scaffold start (bp)</th>\n",
       "      <th>Mouse chromosome/scaffold end (bp)</th>\n",
       "      <th>Query protein or transcript ID</th>\n",
       "      <th>Last common ancestor with Mouse</th>\n",
       "      <th>Mouse homology type</th>\n",
       "      <th>%id. target Mouse gene identical to query gene</th>\n",
       "      <th>%id. query gene identical to target Mouse gene</th>\n",
       "      <th>Mouse Gene-order conservation score</th>\n",
       "      <th>Mouse Whole-genome alignment coverage</th>\n",
       "      <th>dN with Mouse</th>\n",
       "      <th>dS with Mouse</th>\n",
       "      <th>Mouse orthology confidence [0 low, 1 high]</th>\n",
       "    </tr>\n",
       "  </thead>\n",
       "  <tbody>\n",
       "    <tr>\n",
       "      <th>138</th>\n",
       "      <td>ENSG00000067992</td>\n",
       "      <td>ENSG00000067992.15</td>\n",
       "      <td>ENST00000379162</td>\n",
       "      <td>ENST00000379162.8</td>\n",
       "      <td>ENSMUSG00000035232</td>\n",
       "      <td>Pdk3</td>\n",
       "      <td>ENSMUSP00000036604</td>\n",
       "      <td>X</td>\n",
       "      <td>93764607.0</td>\n",
       "      <td>93832201.0</td>\n",
       "      <td>ENSP00000498864</td>\n",
       "      <td>Euarchontoglires</td>\n",
       "      <td>ortholog_one2one</td>\n",
       "      <td>97.1084</td>\n",
       "      <td>97.1084</td>\n",
       "      <td>50.0</td>\n",
       "      <td>100.00</td>\n",
       "      <td>0.0151</td>\n",
       "      <td>0.5213</td>\n",
       "      <td>1.0</td>\n",
       "    </tr>\n",
       "    <tr>\n",
       "      <th>139</th>\n",
       "      <td>ENSG00000067992</td>\n",
       "      <td>ENSG00000067992.15</td>\n",
       "      <td>ENST00000648777</td>\n",
       "      <td>ENST00000648777.1</td>\n",
       "      <td>ENSMUSG00000035232</td>\n",
       "      <td>Pdk3</td>\n",
       "      <td>ENSMUSP00000036604</td>\n",
       "      <td>X</td>\n",
       "      <td>93764607.0</td>\n",
       "      <td>93832201.0</td>\n",
       "      <td>ENSP00000498864</td>\n",
       "      <td>Euarchontoglires</td>\n",
       "      <td>ortholog_one2one</td>\n",
       "      <td>97.1084</td>\n",
       "      <td>97.1084</td>\n",
       "      <td>50.0</td>\n",
       "      <td>100.00</td>\n",
       "      <td>0.0151</td>\n",
       "      <td>0.5213</td>\n",
       "      <td>1.0</td>\n",
       "    </tr>\n",
       "    <tr>\n",
       "      <th>140</th>\n",
       "      <td>ENSG00000067992</td>\n",
       "      <td>ENSG00000067992.15</td>\n",
       "      <td>ENST00000568479</td>\n",
       "      <td>ENST00000568479.2</td>\n",
       "      <td>ENSMUSG00000035232</td>\n",
       "      <td>Pdk3</td>\n",
       "      <td>ENSMUSP00000036604</td>\n",
       "      <td>X</td>\n",
       "      <td>93764607.0</td>\n",
       "      <td>93832201.0</td>\n",
       "      <td>ENSP00000498864</td>\n",
       "      <td>Euarchontoglires</td>\n",
       "      <td>ortholog_one2one</td>\n",
       "      <td>97.1084</td>\n",
       "      <td>97.1084</td>\n",
       "      <td>50.0</td>\n",
       "      <td>100.00</td>\n",
       "      <td>0.0151</td>\n",
       "      <td>0.5213</td>\n",
       "      <td>1.0</td>\n",
       "    </tr>\n",
       "    <tr>\n",
       "      <th>141</th>\n",
       "      <td>ENSG00000067992</td>\n",
       "      <td>ENSG00000067992.15</td>\n",
       "      <td>ENST00000493226</td>\n",
       "      <td>ENST00000493226.1</td>\n",
       "      <td>ENSMUSG00000035232</td>\n",
       "      <td>Pdk3</td>\n",
       "      <td>ENSMUSP00000036604</td>\n",
       "      <td>X</td>\n",
       "      <td>93764607.0</td>\n",
       "      <td>93832201.0</td>\n",
       "      <td>ENSP00000498864</td>\n",
       "      <td>Euarchontoglires</td>\n",
       "      <td>ortholog_one2one</td>\n",
       "      <td>97.1084</td>\n",
       "      <td>97.1084</td>\n",
       "      <td>50.0</td>\n",
       "      <td>100.00</td>\n",
       "      <td>0.0151</td>\n",
       "      <td>0.5213</td>\n",
       "      <td>1.0</td>\n",
       "    </tr>\n",
       "    <tr>\n",
       "      <th>674</th>\n",
       "      <td>ENSG00000138606</td>\n",
       "      <td>ENSG00000138606.19</td>\n",
       "      <td>ENST00000560540</td>\n",
       "      <td>ENST00000560540.5</td>\n",
       "      <td>ENSMUSG00000033256</td>\n",
       "      <td>Shf</td>\n",
       "      <td>ENSMUSP00000106160</td>\n",
       "      <td>2</td>\n",
       "      <td>122348892.0</td>\n",
       "      <td>122369162.0</td>\n",
       "      <td>ENSP00000290894</td>\n",
       "      <td>Eutheria</td>\n",
       "      <td>ortholog_one2one</td>\n",
       "      <td>54.1371</td>\n",
       "      <td>96.2185</td>\n",
       "      <td>75.0</td>\n",
       "      <td>94.31</td>\n",
       "      <td>0.0167</td>\n",
       "      <td>0.3423</td>\n",
       "      <td>1.0</td>\n",
       "    </tr>\n",
       "    <tr>\n",
       "      <th>...</th>\n",
       "      <td>...</td>\n",
       "      <td>...</td>\n",
       "      <td>...</td>\n",
       "      <td>...</td>\n",
       "      <td>...</td>\n",
       "      <td>...</td>\n",
       "      <td>...</td>\n",
       "      <td>...</td>\n",
       "      <td>...</td>\n",
       "      <td>...</td>\n",
       "      <td>...</td>\n",
       "      <td>...</td>\n",
       "      <td>...</td>\n",
       "      <td>...</td>\n",
       "      <td>...</td>\n",
       "      <td>...</td>\n",
       "      <td>...</td>\n",
       "      <td>...</td>\n",
       "      <td>...</td>\n",
       "      <td>...</td>\n",
       "    </tr>\n",
       "    <tr>\n",
       "      <th>250870</th>\n",
       "      <td>ENSG00000184867</td>\n",
       "      <td>ENSG00000184867.14</td>\n",
       "      <td>ENST00000431597</td>\n",
       "      <td>ENST00000431597.5</td>\n",
       "      <td>ENSMUSG00000033436</td>\n",
       "      <td>Armcx2</td>\n",
       "      <td>ENSMUSP00000127305</td>\n",
       "      <td>X</td>\n",
       "      <td>134804145.0</td>\n",
       "      <td>134809221.0</td>\n",
       "      <td>ENSP00000349281</td>\n",
       "      <td>Euarchontoglires</td>\n",
       "      <td>ortholog_one2one</td>\n",
       "      <td>78.0063</td>\n",
       "      <td>62.8827</td>\n",
       "      <td>75.0</td>\n",
       "      <td>95.19</td>\n",
       "      <td>0.1401</td>\n",
       "      <td>0.5306</td>\n",
       "      <td>1.0</td>\n",
       "    </tr>\n",
       "    <tr>\n",
       "      <th>250871</th>\n",
       "      <td>ENSG00000184867</td>\n",
       "      <td>ENSG00000184867.14</td>\n",
       "      <td>ENST00000479333</td>\n",
       "      <td>ENST00000479333.5</td>\n",
       "      <td>ENSMUSG00000033436</td>\n",
       "      <td>Armcx2</td>\n",
       "      <td>ENSMUSP00000127305</td>\n",
       "      <td>X</td>\n",
       "      <td>134804145.0</td>\n",
       "      <td>134809221.0</td>\n",
       "      <td>ENSP00000349281</td>\n",
       "      <td>Euarchontoglires</td>\n",
       "      <td>ortholog_one2one</td>\n",
       "      <td>78.0063</td>\n",
       "      <td>62.8827</td>\n",
       "      <td>75.0</td>\n",
       "      <td>95.19</td>\n",
       "      <td>0.1401</td>\n",
       "      <td>0.5306</td>\n",
       "      <td>1.0</td>\n",
       "    </tr>\n",
       "    <tr>\n",
       "      <th>250872</th>\n",
       "      <td>ENSG00000184867</td>\n",
       "      <td>ENSG00000184867.14</td>\n",
       "      <td>ENST00000496581</td>\n",
       "      <td>ENST00000496581.1</td>\n",
       "      <td>ENSMUSG00000033436</td>\n",
       "      <td>Armcx2</td>\n",
       "      <td>ENSMUSP00000127305</td>\n",
       "      <td>X</td>\n",
       "      <td>134804145.0</td>\n",
       "      <td>134809221.0</td>\n",
       "      <td>ENSP00000349281</td>\n",
       "      <td>Euarchontoglires</td>\n",
       "      <td>ortholog_one2one</td>\n",
       "      <td>78.0063</td>\n",
       "      <td>62.8827</td>\n",
       "      <td>75.0</td>\n",
       "      <td>95.19</td>\n",
       "      <td>0.1401</td>\n",
       "      <td>0.5306</td>\n",
       "      <td>1.0</td>\n",
       "    </tr>\n",
       "    <tr>\n",
       "      <th>250873</th>\n",
       "      <td>ENSG00000184867</td>\n",
       "      <td>ENSG00000184867.14</td>\n",
       "      <td>ENST00000488982</td>\n",
       "      <td>ENST00000488982.1</td>\n",
       "      <td>ENSMUSG00000033436</td>\n",
       "      <td>Armcx2</td>\n",
       "      <td>ENSMUSP00000127305</td>\n",
       "      <td>X</td>\n",
       "      <td>134804145.0</td>\n",
       "      <td>134809221.0</td>\n",
       "      <td>ENSP00000349281</td>\n",
       "      <td>Euarchontoglires</td>\n",
       "      <td>ortholog_one2one</td>\n",
       "      <td>78.0063</td>\n",
       "      <td>62.8827</td>\n",
       "      <td>75.0</td>\n",
       "      <td>95.19</td>\n",
       "      <td>0.1401</td>\n",
       "      <td>0.5306</td>\n",
       "      <td>1.0</td>\n",
       "    </tr>\n",
       "    <tr>\n",
       "      <th>250874</th>\n",
       "      <td>ENSG00000184867</td>\n",
       "      <td>ENSG00000184867.14</td>\n",
       "      <td>ENST00000475854</td>\n",
       "      <td>ENST00000475854.1</td>\n",
       "      <td>ENSMUSG00000033436</td>\n",
       "      <td>Armcx2</td>\n",
       "      <td>ENSMUSP00000127305</td>\n",
       "      <td>X</td>\n",
       "      <td>134804145.0</td>\n",
       "      <td>134809221.0</td>\n",
       "      <td>ENSP00000349281</td>\n",
       "      <td>Euarchontoglires</td>\n",
       "      <td>ortholog_one2one</td>\n",
       "      <td>78.0063</td>\n",
       "      <td>62.8827</td>\n",
       "      <td>75.0</td>\n",
       "      <td>95.19</td>\n",
       "      <td>0.1401</td>\n",
       "      <td>0.5306</td>\n",
       "      <td>1.0</td>\n",
       "    </tr>\n",
       "  </tbody>\n",
       "</table>\n",
       "<p>14505 rows × 20 columns</p>\n",
       "</div>"
      ],
      "text/plain": [
       "         Gene stable ID Gene stable ID version Transcript stable ID  \\\n",
       "138     ENSG00000067992     ENSG00000067992.15      ENST00000379162   \n",
       "139     ENSG00000067992     ENSG00000067992.15      ENST00000648777   \n",
       "140     ENSG00000067992     ENSG00000067992.15      ENST00000568479   \n",
       "141     ENSG00000067992     ENSG00000067992.15      ENST00000493226   \n",
       "674     ENSG00000138606     ENSG00000138606.19      ENST00000560540   \n",
       "...                 ...                    ...                  ...   \n",
       "250870  ENSG00000184867     ENSG00000184867.14      ENST00000431597   \n",
       "250871  ENSG00000184867     ENSG00000184867.14      ENST00000479333   \n",
       "250872  ENSG00000184867     ENSG00000184867.14      ENST00000496581   \n",
       "250873  ENSG00000184867     ENSG00000184867.14      ENST00000488982   \n",
       "250874  ENSG00000184867     ENSG00000184867.14      ENST00000475854   \n",
       "\n",
       "       Transcript stable ID version Mouse gene stable ID Mouse gene name  \\\n",
       "138               ENST00000379162.8   ENSMUSG00000035232            Pdk3   \n",
       "139               ENST00000648777.1   ENSMUSG00000035232            Pdk3   \n",
       "140               ENST00000568479.2   ENSMUSG00000035232            Pdk3   \n",
       "141               ENST00000493226.1   ENSMUSG00000035232            Pdk3   \n",
       "674               ENST00000560540.5   ENSMUSG00000033256             Shf   \n",
       "...                             ...                  ...             ...   \n",
       "250870            ENST00000431597.5   ENSMUSG00000033436          Armcx2   \n",
       "250871            ENST00000479333.5   ENSMUSG00000033436          Armcx2   \n",
       "250872            ENST00000496581.1   ENSMUSG00000033436          Armcx2   \n",
       "250873            ENST00000488982.1   ENSMUSG00000033436          Armcx2   \n",
       "250874            ENST00000475854.1   ENSMUSG00000033436          Armcx2   \n",
       "\n",
       "       Mouse protein or transcript stable ID Mouse chromosome/scaffold name  \\\n",
       "138                       ENSMUSP00000036604                              X   \n",
       "139                       ENSMUSP00000036604                              X   \n",
       "140                       ENSMUSP00000036604                              X   \n",
       "141                       ENSMUSP00000036604                              X   \n",
       "674                       ENSMUSP00000106160                              2   \n",
       "...                                      ...                            ...   \n",
       "250870                    ENSMUSP00000127305                              X   \n",
       "250871                    ENSMUSP00000127305                              X   \n",
       "250872                    ENSMUSP00000127305                              X   \n",
       "250873                    ENSMUSP00000127305                              X   \n",
       "250874                    ENSMUSP00000127305                              X   \n",
       "\n",
       "        Mouse chromosome/scaffold start (bp)  \\\n",
       "138                               93764607.0   \n",
       "139                               93764607.0   \n",
       "140                               93764607.0   \n",
       "141                               93764607.0   \n",
       "674                              122348892.0   \n",
       "...                                      ...   \n",
       "250870                           134804145.0   \n",
       "250871                           134804145.0   \n",
       "250872                           134804145.0   \n",
       "250873                           134804145.0   \n",
       "250874                           134804145.0   \n",
       "\n",
       "        Mouse chromosome/scaffold end (bp) Query protein or transcript ID  \\\n",
       "138                             93832201.0                ENSP00000498864   \n",
       "139                             93832201.0                ENSP00000498864   \n",
       "140                             93832201.0                ENSP00000498864   \n",
       "141                             93832201.0                ENSP00000498864   \n",
       "674                            122369162.0                ENSP00000290894   \n",
       "...                                    ...                            ...   \n",
       "250870                         134809221.0                ENSP00000349281   \n",
       "250871                         134809221.0                ENSP00000349281   \n",
       "250872                         134809221.0                ENSP00000349281   \n",
       "250873                         134809221.0                ENSP00000349281   \n",
       "250874                         134809221.0                ENSP00000349281   \n",
       "\n",
       "       Last common ancestor with Mouse Mouse homology type  \\\n",
       "138                   Euarchontoglires    ortholog_one2one   \n",
       "139                   Euarchontoglires    ortholog_one2one   \n",
       "140                   Euarchontoglires    ortholog_one2one   \n",
       "141                   Euarchontoglires    ortholog_one2one   \n",
       "674                           Eutheria    ortholog_one2one   \n",
       "...                                ...                 ...   \n",
       "250870                Euarchontoglires    ortholog_one2one   \n",
       "250871                Euarchontoglires    ortholog_one2one   \n",
       "250872                Euarchontoglires    ortholog_one2one   \n",
       "250873                Euarchontoglires    ortholog_one2one   \n",
       "250874                Euarchontoglires    ortholog_one2one   \n",
       "\n",
       "        %id. target Mouse gene identical to query gene  \\\n",
       "138                                            97.1084   \n",
       "139                                            97.1084   \n",
       "140                                            97.1084   \n",
       "141                                            97.1084   \n",
       "674                                            54.1371   \n",
       "...                                                ...   \n",
       "250870                                         78.0063   \n",
       "250871                                         78.0063   \n",
       "250872                                         78.0063   \n",
       "250873                                         78.0063   \n",
       "250874                                         78.0063   \n",
       "\n",
       "        %id. query gene identical to target Mouse gene  \\\n",
       "138                                            97.1084   \n",
       "139                                            97.1084   \n",
       "140                                            97.1084   \n",
       "141                                            97.1084   \n",
       "674                                            96.2185   \n",
       "...                                                ...   \n",
       "250870                                         62.8827   \n",
       "250871                                         62.8827   \n",
       "250872                                         62.8827   \n",
       "250873                                         62.8827   \n",
       "250874                                         62.8827   \n",
       "\n",
       "        Mouse Gene-order conservation score  \\\n",
       "138                                    50.0   \n",
       "139                                    50.0   \n",
       "140                                    50.0   \n",
       "141                                    50.0   \n",
       "674                                    75.0   \n",
       "...                                     ...   \n",
       "250870                                 75.0   \n",
       "250871                                 75.0   \n",
       "250872                                 75.0   \n",
       "250873                                 75.0   \n",
       "250874                                 75.0   \n",
       "\n",
       "        Mouse Whole-genome alignment coverage  dN with Mouse  dS with Mouse  \\\n",
       "138                                    100.00         0.0151         0.5213   \n",
       "139                                    100.00         0.0151         0.5213   \n",
       "140                                    100.00         0.0151         0.5213   \n",
       "141                                    100.00         0.0151         0.5213   \n",
       "674                                     94.31         0.0167         0.3423   \n",
       "...                                       ...            ...            ...   \n",
       "250870                                  95.19         0.1401         0.5306   \n",
       "250871                                  95.19         0.1401         0.5306   \n",
       "250872                                  95.19         0.1401         0.5306   \n",
       "250873                                  95.19         0.1401         0.5306   \n",
       "250874                                  95.19         0.1401         0.5306   \n",
       "\n",
       "        Mouse orthology confidence [0 low, 1 high]  \n",
       "138                                            1.0  \n",
       "139                                            1.0  \n",
       "140                                            1.0  \n",
       "141                                            1.0  \n",
       "674                                            1.0  \n",
       "...                                            ...  \n",
       "250870                                         1.0  \n",
       "250871                                         1.0  \n",
       "250872                                         1.0  \n",
       "250873                                         1.0  \n",
       "250874                                         1.0  \n",
       "\n",
       "[14505 rows x 20 columns]"
      ]
     },
     "execution_count": 17,
     "metadata": {},
     "output_type": "execute_result"
    }
   ],
   "source": [
    "human_mouse_orthologs_dissociation"
   ]
  },
  {
   "cell_type": "code",
   "execution_count": 18,
   "metadata": {},
   "outputs": [],
   "source": [
    "mouse_dissociation_gene_names = set(human_mouse_orthologs_dissociation['Mouse gene name'])\n",
    "mouse_dissociation_protein_ids = set(human_mouse_orthologs_dissociation['Mouse protein or transcript stable ID'])"
   ]
  },
  {
   "cell_type": "markdown",
   "metadata": {},
   "source": [
    "## Get records for mouse protein sequences of dissociation genes"
   ]
  },
  {
   "cell_type": "code",
   "execution_count": null,
   "metadata": {},
   "outputs": [],
   "source": [
    "mouse_dissociation_associated_records = []\n",
    "\n",
    "with screed.open(mouse_protein_fasta) as records:\n",
    "    for record in records:\n",
    "        split = record['name'].split('|')\n",
    "        protein_id = split[0].split('.')[0]\n",
    "        gene_name = split[-2]\n",
    "        if gene_name in mouse_dissociation_gene_names or protein_id in mouse_dissociation_protein_ids:\n",
    "            mouse_dissociation_associated_records.append(record)\n",
    "            \n",
    "len(mouse_dissociation_associated_records)"
   ]
  },
  {
   "cell_type": "code",
   "execution_count": null,
   "metadata": {},
   "outputs": [],
   "source": [
    "mouse_dissociation_fasta = human_protein_fasta.replace('.fa.gz', '__dissociation_genes_3Nov2020.fasta')\n",
    "write_records_to_fasta(mouse_dissociation_associated_records, mouse_dissociation_fasta)"
   ]
  },
  {
   "cell_type": "markdown",
   "metadata": {},
   "source": [
    "## Filter mouse sequences for mitochondrial sequences"
   ]
  },
  {
   "cell_type": "code",
   "execution_count": null,
   "metadata": {},
   "outputs": [],
   "source": [
    "mouse_mitochondrial_fasta = mouse_protein_fasta.replace('.fa.gz', '__mitochondrial_genes.fasta')\n",
    "filter_fasta_with_regex(mouse_protein_fasta, mouse_mitochondrial_fasta, 'mt-\\w+')\n",
    "! wc -l $mouse_mitochondrial_fasta\n",
    "! grep -c '>' $mouse_mitochondrial_fasta"
   ]
  },
  {
   "cell_type": "markdown",
   "metadata": {},
   "source": [
    "# Make signatures"
   ]
  },
  {
   "cell_type": "markdown",
   "metadata": {},
   "source": [
    "## Human dissociation genes"
   ]
  },
  {
   "cell_type": "code",
   "execution_count": null,
   "metadata": {},
   "outputs": [],
   "source": [
    "human_dissociation_sig = human_dissociation_fasta.replace('.fasta', '.sig')\n",
    "! sourmash compute --protein --dayhoff --input-is-protein --no-dna -k $ksizes_str -o $human_dissociation_sig --scaled 10 $human_dissociation_fasta "
   ]
  },
  {
   "cell_type": "markdown",
   "metadata": {},
   "source": [
    "## Mouse dissociation genes"
   ]
  },
  {
   "cell_type": "code",
   "execution_count": null,
   "metadata": {},
   "outputs": [],
   "source": [
    "mouse_dissociation_sig = mouse_dissociation_fasta.replace('.fasta', '.sig')\n",
    "! sourmash compute --protein --dayhoff --input-is-protein --no-dna -k $ksizes_str -o $mouse_dissociation_sig --scaled 10 $mouse_dissociation_fasta "
   ]
  },
  {
   "cell_type": "markdown",
   "metadata": {},
   "source": [
    "## Concatenate dissociation fastas together"
   ]
  },
  {
   "cell_type": "code",
   "execution_count": null,
   "metadata": {},
   "outputs": [],
   "source": [
    "catted_dissociation_fasta = '/home/olga/data_sm/immune-evolution/databases/nuisance-genes/mouse-human__dissociation_genes_3Nov2020.fasta'"
   ]
  },
  {
   "cell_type": "code",
   "execution_count": null,
   "metadata": {},
   "outputs": [],
   "source": [
    "! cat $mouse_dissociation_fasta $human_dissociation_fasta > $catted_dissociation_fasta\n",
    "! wc -l $catted_dissociation_fasta"
   ]
  },
  {
   "cell_type": "markdown",
   "metadata": {},
   "source": [
    "## Concatenate mitochondrial fastas together"
   ]
  },
  {
   "cell_type": "code",
   "execution_count": null,
   "metadata": {},
   "outputs": [],
   "source": [
    "catted_mitochondrial_fasta = '/home/olga/data_sm/immune-evolution/databases/nuisance-genes/mouse-human__mitochondrial_genes.fasta'\n",
    "! cat $mouse_mitochondrial_fasta $human_mitochondrial_fasta > $catted_mitochondrial_fasta\n",
    "! wc -l $catted_mitochondrial_fasta"
   ]
  },
  {
   "cell_type": "markdown",
   "metadata": {},
   "source": [
    "## Concatenate newly made dissociation, mitochondrial fastas ~with old refseq mammalian ribosomal  fasta~"
   ]
  },
  {
   "cell_type": "code",
   "execution_count": null,
   "metadata": {},
   "outputs": [],
   "source": [
    "ribosomal_fasta = '/home/olga/data_lg/czbiohub-reference/ncbi/refseq/releases/refseq-release98-2020-02-06/vertebrate_mammalian/vertebrate_mammalian_concatenated__ribosomal.faa'\n",
    "\n",
    "# catted_dissociation_with_mitochondrial_fasta = '/home/olga/data_sm/immune-evolution/databases/nuisance-genes/mouse-human__dissociation__ribosomal__refseq_mammalian_ribosomal.fasta'\n",
    "catted_dissociation_with_mitochondrial_fasta = '/home/olga/data_sm/immune-evolution/databases/nuisance-genes/mouse-human__dissociation__mitochondrial.fasta'\n",
    "\n",
    "! cat $catted_dissociation_fasta $catted_mitochondrial_fasta > $catted_dissociation_with_mitochondrial_fasta\n",
    "! wc -l $catted_dissociation_with_mitochondrial_fasta"
   ]
  },
  {
   "cell_type": "markdown",
   "metadata": {},
   "source": [
    "## Iterate over protein fastas, dissociation genes, mitochondrial and ribosomal regexes"
   ]
  },
  {
   "cell_type": "code",
   "execution_count": 26,
   "metadata": {},
   "outputs": [
    {
     "name": "stdout",
     "output_type": "stream",
     "text": [
      "172 /home/olga/data_lg/czbiohub-reference/gencode/mouse/vM21/gencode.vM21.pc_translations.fa__mitochondrial_genes.fasta\n",
      "86\n",
      "10300 /home/olga/data_lg/czbiohub-reference/gencode/mouse/vM21/gencode.vM21.pc_translations.fa__dissociation_genes.fasta\n",
      "5150\n",
      "1034 /home/olga/data_lg/czbiohub-reference/gencode/mouse/vM21/gencode.vM21.pc_translations.fa__ribosomal_genes.fasta\n",
      "517\n",
      "362 /home/olga/data_lg/czbiohub-reference/gencode/human/v30/gencode.v30.pc_translations.fa__mitochondrial_genes.fasta\n",
      "181\n",
      "18136 /home/olga/data_lg/czbiohub-reference/gencode/human/v30/gencode.v30.pc_translations.fa__dissociation_genes.fasta\n",
      "9068\n",
      "1870 /home/olga/data_lg/czbiohub-reference/gencode/human/v30/gencode.v30.pc_translations.fa__ribosomal_genes.fasta\n",
      "935\n",
      "31874 /home/olga/data_sm/immune-evolution/databases/nuisance-genes/mouse-human__dissociation3Nov2020__ribosomal__mitochondrial__protein.fasta\n",
      "15937\n"
     ]
    }
   ],
   "source": [
    "protein_fastas = {'mouse': mouse_protein_fasta, 'human': human_protein_fasta}\n",
    "\n",
    "genetype_kwargs = {\n",
    "    'mitochondrial': {\n",
    "        'mouse': dict(regex='mt-\\w+'), 'human': dict(regex='MT-\\w+')\n",
    "    },\n",
    "    'dissociation': {\n",
    "        'mouse': dict(\n",
    "            gene_names=mouse_dissociation_gene_names, \n",
    "            gene_ids=mouse_dissociation_protein_ids,\n",
    "            seqtype='protein'\n",
    "        ), \n",
    "        'human': dict(gene_names=dissociation_genes, seqtype='protein')\n",
    "    },\n",
    "    'ribosomal': {\n",
    "        # Flags to re.findall ignore case so we can use the same regex for both\n",
    "        'mouse': dict(regex='M*RP[LS]\\d+[[\\w\\d-]*]?', ),\n",
    "        # e.g. RPL14, RPS24, RPL3L2\n",
    "        'human': dict(regex='M*RP[LS]\\d+[[\\w\\d-]*]?')\n",
    "    }\n",
    "}\n",
    "\n",
    "def filter_fastas_with_regex(species_fastas, genetype_kwargs, concatenated_output_fasta):\n",
    "\n",
    "    filtered_fastas = []\n",
    "    for (species, fasta), (genetype, kwarg_dict) in itertools.product(species_fastas.items(), genetype_kwargs.items()):\n",
    "        root, extension = os.path.splitext(fasta)\n",
    "        filtered_fasta = fasta.replace(extension, f'__{genetype}_genes.fasta')\n",
    "        filtered_fastas.append(filtered_fasta)\n",
    "\n",
    "        kwargs = kwarg_dict[species]\n",
    "        filter_fasta_with_regex(fasta, filtered_fasta, **kwargs)\n",
    "        ! wc -l $filtered_fasta\n",
    "        ! grep -c '>' $filtered_fasta\n",
    "    fastas_to_cat = ' '.join(filtered_fastas)\n",
    "    ! cat $fastas_to_cat > $concatenated_output_fasta\n",
    "    ! wc -l $concatenated_output_fasta\n",
    "    ! grep -c '>' $concatenated_output_fasta\n",
    "    \n",
    "    \n",
    "catted_protein_fasta = '/home/olga/data_sm/immune-evolution/databases/nuisance-genes/mouse-human__dissociation3Nov2020__ribosomal__mitochondrial__protein.fasta'\n",
    "filter_fastas_with_regex(protein_fastas, genetype_kwargs, catted_protein_fasta)"
   ]
  },
  {
   "cell_type": "markdown",
   "metadata": {},
   "source": [
    "# Build protein signatures"
   ]
  },
  {
   "cell_type": "code",
   "execution_count": 4,
   "metadata": {},
   "outputs": [
    {
     "name": "stdout",
     "output_type": "stream",
     "text": [
      "\u001b[Ksourmash version 2.1.1.dev5+g878540f\n",
      "\u001b[K- loaded from path: /usr/local/lib/python3.6/dist-packages/sourmash-2.1.1.dev5+g878540f-py3.6-linux-x86_64.egg/sourmash\n",
      "\u001b[K\n"
     ]
    }
   ],
   "source": [
    "! sourmash info"
   ]
  },
  {
   "cell_type": "code",
   "execution_count": 5,
   "metadata": {},
   "outputs": [
    {
     "name": "stdout",
     "output_type": "stream",
     "text": [
      "/usr/local/bin/sourmash\n",
      "/usr/local/bin/sourmash\n",
      "/home/olga/miniconda3/envs/immune-evolution/bin/sourmash\n",
      "/usr/local/bin/sourmash\n"
     ]
    }
   ],
   "source": [
    "! which -a sourmash"
   ]
  },
  {
   "cell_type": "code",
   "execution_count": 7,
   "metadata": {},
   "outputs": [
    {
     "name": "stdout",
     "output_type": "stream",
     "text": [
      "\u001b[K\n",
      "== This is sourmash version 3.5.0. ==\n",
      "\u001b[K== Please cite Brown and Irber (2016), doi:10.21105/joss.00027. ==\n",
      "\n",
      "\u001b[Ksetting num_hashes to 0 because --scaled is set\n",
      "\u001b[Kcomputing signatures for files: /home/olga/data_sm/immune-evolution/databases/nuisance-genes/mouse-human__dissociation3Nov2020__ribosomal__mitochondrial__protein.fasta\n",
      "\u001b[KComputing signature for ksizes: [21, 24, 27, 30, 33, 36, 39, 42, 45, 48, 51, 54, 57, 60, 63, 66, 69, 72, 75, 78, 81, 84, 87, 90]\n",
      "\u001b[KComputing only protein (and not nucleotide) signatures.\n",
      "\u001b[KComputing a total of 24 signature(s).\n",
      "\u001b[K... reading sequences from /home/olga/data_sm/immune-evolution/databases/nuisance-genes/mouse-human__dissociation3Nov2020__ribosomal__mitochondrial__protein.fasta\n",
      "\u001b[Kcalculated 1 signatures for 15937 sequences in /home/olga/data_sm/immune-evolution/databases/nuisance-genes/mouse-human__dissociation3Nov2020__ribosomal__mitochondrial__protein.fasta\n",
      "\u001b[Ksaved signature(s) to /home/olga/data_sm/immune-evolution/databases/nuisance-genes/mouse-human__dissociation3Nov2020__ribosomal__mitochondrial__protein.sig. Note: signature license is CC0.\n"
     ]
    }
   ],
   "source": [
    "catted_protein_fasta = '/home/olga/data_sm/immune-evolution/databases/nuisance-genes/mouse-human__dissociation3Nov2020__ribosomal__mitochondrial__protein.fasta'\n",
    "catted_protein_fasta_sig = catted_protein_fasta.replace('.fasta', '.sig')\n",
    "! /home/olga/miniconda3/envs/immune-evolution/bin/sourmash \\\n",
    "    compute \\\n",
    "    --protein --dayhoff --hp --input-is-protein --no-dna \\\n",
    "    -k $ksizes_str \\\n",
    "    -o $catted_protein_fasta_sig \\\n",
    "    --scaled 10 \\\n",
    "    $catted_protein_fasta "
   ]
  },
  {
   "cell_type": "code",
   "execution_count": 43,
   "metadata": {},
   "outputs": [
    {
     "data": {
      "text/plain": [
       "'/home/olga/data_sm/immune-evolution/databases/nuisance-genes/mouse-human__dissociation_genes__refseq_mammalian_ribosomal.sig'"
      ]
     },
     "execution_count": 43,
     "metadata": {},
     "output_type": "execute_result"
    }
   ],
   "source": [
    "catted_dissociation_with_ribosomal_sig"
   ]
  },
  {
   "cell_type": "markdown",
   "metadata": {},
   "source": [
    "# Make DNA signatures of dissociation and mitochondrial genes"
   ]
  },
  {
   "cell_type": "code",
   "execution_count": null,
   "metadata": {},
   "outputs": [],
   "source": []
  },
  {
   "cell_type": "markdown",
   "metadata": {},
   "source": [
    "## Iterate over trancript fastas and dissociation genes"
   ]
  },
  {
   "cell_type": "code",
   "execution_count": 29,
   "metadata": {},
   "outputs": [
    {
     "name": "stdout",
     "output_type": "stream",
     "text": [
      "16542 /home/olga/data_lg/czbiohub-reference/gencode/mouse/vM21/gencode.vM21.transcripts__dissociation_genes.fasta\n",
      "8271\n",
      "2486 /home/olga/data_lg/czbiohub-reference/gencode/mouse/vM21/gencode.vM21.transcripts__ribosomal_genes.fasta\n",
      "1243\n",
      "28332 /home/olga/data_lg/czbiohub-reference/gencode/human/v30/gencode.v30.transcripts__dissociation_genes.fasta\n",
      "14166\n",
      "5364 /home/olga/data_lg/czbiohub-reference/gencode/human/v30/gencode.v30.transcripts__ribosomal_genes.fasta\n",
      "2682\n"
     ]
    }
   ],
   "source": [
    "human_transcript_fasta = '/home/olga/data_lg/czbiohub-reference/gencode/human/v30/gencode.v30.transcripts.fa'\n",
    "mouse_transcript_fasta = '/home/olga/data_lg/czbiohub-reference/gencode/mouse/vM21/gencode.vM21.transcripts.fa'\n",
    "\n",
    "transcript_fastas = {'mouse': mouse_transcript_fasta, 'human': human_transcript_fasta}\n",
    "\n",
    "genetype_kwargs = {\n",
    "    'mitochondrial': {\n",
    "        'mouse': dict(regex='mt-\\w+'), 'human': dict(regex='MT-\\w+')\n",
    "    },\n",
    "    'dissociation': {\n",
    "        'mouse': dict(\n",
    "            gene_names=mouse_dissociation_gene_names, \n",
    "            gene_ids=mouse_dissociation_protein_ids,\n",
    "            seqtype='transcript'\n",
    "        ), \n",
    "        'human': dict(gene_names=dissociation_genes, seqtype='transcript')\n",
    "    },\n",
    "    'ribosomal': {\n",
    "        # Flags to re.findall ignore case so we can use the same regex for both\n",
    "        'mouse': dict(regex='M*RP[LS]\\d+[[\\w\\d-]*]?', ),\n",
    "        # e.g. RPL14, RPS24, RPL3L2\n",
    "        'human': dict(regex='M*RP[LS]\\d+[[\\w\\d-]*]?')\n",
    "    }\n",
    "}\n",
    "\n",
    "filtered_fastas = []\n",
    "for (species, transcript_fasta), (genetype, kwarg_dict) in itertools.product(transcript_fastas.items(), genetype_kwargs.items()):\n",
    "    filtered_fasta = transcript_fasta.replace('.fa', f'__{genetype}_genes.fasta')\n",
    "    filtered_fastas.append(filtered_fasta)\n",
    "\n",
    "    if genetype == 'mitochondrial':\n",
    "        continue\n",
    "\n",
    "    kwargs = kwarg_dict[species]\n",
    "    filter_fasta_with_regex(transcript_fasta, filtered_fasta, **kwargs)\n",
    "    ! wc -l $filtered_fasta\n",
    "    ! grep -c '>' $filtered_fasta"
   ]
  },
  {
   "cell_type": "markdown",
   "metadata": {},
   "source": [
    "## Concatenate all the fastas together"
   ]
  },
  {
   "cell_type": "code",
   "execution_count": 31,
   "metadata": {},
   "outputs": [],
   "source": [
    "catted_dissociation_with_mitochondrial_nucleotide_fasta = '/home/olga/data_sm/immune-evolution/databases/nuisance-genes/mouse-human__dissociation3Nov2020__ribosomal__mitochondrial__nucleotide.fasta'"
   ]
  },
  {
   "cell_type": "code",
   "execution_count": 37,
   "metadata": {},
   "outputs": [
    {
     "data": {
      "text/plain": [
       "['/home/olga/data_lg/czbiohub-reference/gencode/mouse/vM21/gencode.vM21.transcripts__mitochondrial_genes.fasta',\n",
       " '/home/olga/data_lg/czbiohub-reference/gencode/mouse/vM21/gencode.vM21.transcripts__dissociation_genes.fasta',\n",
       " '/home/olga/data_lg/czbiohub-reference/gencode/mouse/vM21/gencode.vM21.transcripts__ribosomal_genes.fasta',\n",
       " '/home/olga/data_lg/czbiohub-reference/gencode/human/v30/gencode.v30.transcripts__mitochondrial_genes.fasta',\n",
       " '/home/olga/data_lg/czbiohub-reference/gencode/human/v30/gencode.v30.transcripts__dissociation_genes.fasta',\n",
       " '/home/olga/data_lg/czbiohub-reference/gencode/human/v30/gencode.v30.transcripts__ribosomal_genes.fasta']"
      ]
     },
     "execution_count": 37,
     "metadata": {},
     "output_type": "execute_result"
    }
   ],
   "source": [
    "filtered_fastas"
   ]
  },
  {
   "cell_type": "code",
   "execution_count": 36,
   "metadata": {},
   "outputs": [
    {
     "data": {
      "text/plain": [
       "'/home/olga/data_lg/czbiohub-reference/gencode/mouse/vM21/gencode.vM21.transcripts__mitochondrial_genes.fasta /home/olga/data_lg/czbiohub-reference/gencode/mouse/vM21/gencode.vM21.transcripts__dissociation_genes.fasta /home/olga/data_lg/czbiohub-reference/gencode/mouse/vM21/gencode.vM21.transcripts__ribosomal_genes.fasta /home/olga/data_lg/czbiohub-reference/gencode/human/v30/gencode.v30.transcripts__mitochondrial_genes.fasta /home/olga/data_lg/czbiohub-reference/gencode/human/v30/gencode.v30.transcripts__dissociation_genes.fasta /home/olga/data_lg/czbiohub-reference/gencode/human/v30/gencode.v30.transcripts__ribosomal_genes.fasta'"
      ]
     },
     "execution_count": 36,
     "metadata": {},
     "output_type": "execute_result"
    }
   ],
   "source": [
    "fastas_to_cat"
   ]
  },
  {
   "cell_type": "code",
   "execution_count": 33,
   "metadata": {},
   "outputs": [],
   "source": [
    "fastas_to_cat = ' '.join(filtered_fastas)\n",
    "! cat $fastas_to_cat > $catted_dissociation_with_mitochondrial_nucleotide_fasta"
   ]
  },
  {
   "cell_type": "code",
   "execution_count": 35,
   "metadata": {},
   "outputs": [
    {
     "name": "stdout",
     "output_type": "stream",
     "text": [
      "53664 /home/olga/data_sm/immune-evolution/databases/nuisance-genes/mouse-human__dissociation3Nov2020__ribosomal__mitochondrial__nucleotide.fasta\n"
     ]
    }
   ],
   "source": [
    "! wc -l $catted_dissociation_with_mitochondrial_nucleotide_fasta"
   ]
  },
  {
   "cell_type": "markdown",
   "metadata": {},
   "source": [
    "## Build DNA signatures"
   ]
  },
  {
   "cell_type": "code",
   "execution_count": 34,
   "metadata": {},
   "outputs": [
    {
     "name": "stdout",
     "output_type": "stream",
     "text": [
      "\u001b[K== This is sourmash version 2.1.1.dev5+g878540f. ==\n",
      "\u001b[K== Please cite Brown and Irber (2016), doi:10.21105/joss.00027. ==\n",
      "\n",
      "\u001b[Ksetting num_hashes to 0 because --scaled is set\n",
      "\u001b[Kcomputing signatures for files: /home/olga/data_sm/immune-evolution/databases/nuisance-genes/mouse-human__dissociation3Nov2020__ribosomal__mitochondrial__nucleotide.fasta\n",
      "\u001b[KComputing signature for ksizes: [21, 24, 27, 30, 33, 36, 39, 42, 45, 48, 51, 54, 57, 60, 63, 66, 69, 72, 75, 78, 81, 84, 87, 90]\n",
      "\u001b[KComputing only nucleotide (and not protein) signatures.\n",
      "\u001b[KComputing a total of 24 signature(s).\n",
      "\u001b[K... reading sequences from /home/olga/data_sm/immune-evolution/databases/nuisance-genes/mouse-human__dissociation3Nov2020__ribosomal__mitochondrial__nucleotide.fasta\n",
      "\u001b[Kcalculated 24 signatures for 26832 sequences in /home/olga/data_sm/immune-evolution/databases/nuisance-genes/mouse-human__dissociation3Nov2020__ribosomal__mitochondrial__nucleotide.fasta\n",
      "\u001b[Ksaved signature(s) to /home/olga/data_sm/immune-evolution/databases/nuisance-genes/mouse-human__dissociation3Nov2020__ribosomal__mitochondrial__nucleotide.sig. Note: signature license is CC0.\r"
     ]
    }
   ],
   "source": [
    "catted_dissociation_with_mitochondrial_nucleotide_sig = catted_dissociation_with_mitochondrial_nucleotide_fasta.replace('.fasta', '.sig')\n",
    "! sourmash compute \\\n",
    "    --dna \\\n",
    "    -k $ksizes_str \\\n",
    "    -o $catted_dissociation_with_mitochondrial_nucleotide_sig \\\n",
    "    --scaled 10 \\\n",
    "    $catted_dissociation_with_mitochondrial_nucleotide_fasta "
   ]
  },
  {
   "cell_type": "code",
   "execution_count": 77,
   "metadata": {},
   "outputs": [],
   "source": [
    "# mouse_dissociation_gene_names"
   ]
  },
  {
   "cell_type": "code",
   "execution_count": null,
   "metadata": {},
   "outputs": [],
   "source": []
  }
 ],
 "metadata": {
  "kernelspec": {
   "display_name": "Python [conda env:immune-evolution]",
   "language": "python",
   "name": "conda-env-immune-evolution-py"
  },
  "language_info": {
   "codemirror_mode": {
    "name": "ipython",
    "version": 3
   },
   "file_extension": ".py",
   "mimetype": "text/x-python",
   "name": "python",
   "nbconvert_exporter": "python",
   "pygments_lexer": "ipython3",
   "version": "3.7.8"
  }
 },
 "nbformat": 4,
 "nbformat_minor": 4
}
