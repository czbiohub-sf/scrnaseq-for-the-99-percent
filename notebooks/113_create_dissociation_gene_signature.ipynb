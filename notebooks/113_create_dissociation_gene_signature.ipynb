{
 "cells": [
  {
   "cell_type": "markdown",
   "metadata": {},
   "source": [
    "# Imports and constants"
   ]
  },
  {
   "cell_type": "code",
   "execution_count": 22,
   "metadata": {},
   "outputs": [],
   "source": [
    "import itertools\n",
    "import os\n",
    "import re\n",
    "\n",
    "import pandas as pd\n",
    "import screed\n",
    "from biothings_client import get_client"
   ]
  },
  {
   "cell_type": "markdown",
   "metadata": {},
   "source": [
    "## Fasta paths"
   ]
  },
  {
   "cell_type": "code",
   "execution_count": 23,
   "metadata": {},
   "outputs": [],
   "source": [
    "human_protein_fasta = '/home/olga/data_lg/czbiohub-reference/gencode/human/v30/gencode.v30.pc_translations.fa.gz'\n",
    "mouse_protein_fasta = '/home/olga/data_lg/czbiohub-reference/gencode/mouse/vM21/gencode.vM21.pc_translations.fa.gz'"
   ]
  },
  {
   "cell_type": "code",
   "execution_count": 24,
   "metadata": {},
   "outputs": [],
   "source": [
    "vertebrate_mammalian_dir = \"/home/olga/data_lg/czbiohub-reference/ncbi/refseq/releases/refseq-release98-2020-02-06/vertebrate_mammalian\"\n",
    "\n",
    "vertebrate_mammalian_fasta = os.path.join(\n",
    "    vertebrate_mammalian_dir, \"vertebrate_mammalian_concatenated.faa.gz\"\n",
    ")"
   ]
  },
  {
   "cell_type": "code",
   "execution_count": 25,
   "metadata": {},
   "outputs": [],
   "source": [
    "\n",
    "# catted_protein_fasta = '/home/olga/data_lg/data_sm_copy/immune-evolution/databases/nuisance-genes/mouse-human__dissociation3Nov2020__ribosomal__mitochondrial__protein.fasta'\n",
    "catted_protein_fasta = \"/home/olga/data_lg/data_sm_copy/immune-evolution/databases/nuisance-genes/mouse-human-refseq-vertebrate-mammalian__dissociation3Nov2020__ribosomal__mitochondrial__nuisance__protein.fasta\"\n"
   ]
  },
  {
   "cell_type": "markdown",
   "metadata": {},
   "source": [
    "## Ksizes string"
   ]
  },
  {
   "cell_type": "code",
   "execution_count": 26,
   "metadata": {},
   "outputs": [
    {
     "data": {
      "text/plain": [
       "'21,24,27,30,33,36,39,42,45,48,51,54,57,60,63,66,69,72,75,78,81,84,87,90'"
      ]
     },
     "execution_count": 26,
     "metadata": {},
     "output_type": "execute_result"
    }
   ],
   "source": [
    "ksizes_str = ','.join(map( str, range(21, 91, 3)))\n",
    "ksizes_str"
   ]
  },
  {
   "cell_type": "markdown",
   "metadata": {},
   "source": [
    "# Filter fastas for for dissociation associated genes"
   ]
  },
  {
   "cell_type": "code",
   "execution_count": 27,
   "metadata": {},
   "outputs": [
    {
     "data": {
      "text/plain": [
       "1880"
      ]
     },
     "execution_count": 27,
     "metadata": {},
     "output_type": "execute_result"
    }
   ],
   "source": [
    "dissociation_genes = set(pd.read_csv('/home/olga/data_lg/data_sm_copy/immune-evolution/databases/nuisance-genes/dissociation_genes_3Nov2020.csv', index_col=0, squeeze=True))\n",
    "len(dissociation_genes)"
   ]
  },
  {
   "cell_type": "markdown",
   "metadata": {},
   "source": [
    "## Use MyGene.info client to get gene descriptions\n"
   ]
  },
  {
   "cell_type": "code",
   "execution_count": 29,
   "metadata": {},
   "outputs": [
    {
     "name": "stdout",
     "output_type": "stream",
     "text": [
      "querying 1-1000...done.\n",
      "querying 1001-1880...done.\n",
      "Finished.\n"
     ]
    },
    {
     "name": "stderr",
     "output_type": "stream",
     "text": [
      "/home/olga/miniconda3/envs/immune-evolution/lib/python3.7/site-packages/biothings_client/base.py:143: FutureWarning: pandas.io.json.json_normalize is deprecated, use pandas.json_normalize instead\n",
      "  df = json_normalize(obj)\n"
     ]
    },
    {
     "name": "stdout",
     "output_type": "stream",
     "text": [
      "1797 input query terms found dup hits:\n",
      "\t[('ILDR1', 10), ('ETNK2', 10), ('AIF1', 10), ('RAB18', 10), ('ARHGEF10', 10), ('GSTM2', 10), ('HMCN2\n",
      "38 input query terms found no hit:\n",
      "\t['1700011H14RIK', '2700089E24RIK', '2810468N07RIK', 'FAM178A', 'GM813', 'GM9846', 'SEPP1', 'C5orf27'\n",
      "Pass \"returnall=True\" to return complete lists of duplicate or missing query terms.\n"
     ]
    },
    {
     "data": {
      "text/html": [
       "<div>\n",
       "<style scoped>\n",
       "    .dataframe tbody tr th:only-of-type {\n",
       "        vertical-align: middle;\n",
       "    }\n",
       "\n",
       "    .dataframe tbody tr th {\n",
       "        vertical-align: top;\n",
       "    }\n",
       "\n",
       "    .dataframe thead th {\n",
       "        text-align: right;\n",
       "    }\n",
       "</style>\n",
       "<table border=\"1\" class=\"dataframe\">\n",
       "  <thead>\n",
       "    <tr style=\"text-align: right;\">\n",
       "      <th></th>\n",
       "      <th>_id</th>\n",
       "      <th>_score</th>\n",
       "      <th>entrezgene</th>\n",
       "      <th>name</th>\n",
       "      <th>symbol</th>\n",
       "      <th>taxid</th>\n",
       "      <th>notfound</th>\n",
       "    </tr>\n",
       "    <tr>\n",
       "      <th>query</th>\n",
       "      <th></th>\n",
       "      <th></th>\n",
       "      <th></th>\n",
       "      <th></th>\n",
       "      <th></th>\n",
       "      <th></th>\n",
       "      <th></th>\n",
       "    </tr>\n",
       "  </thead>\n",
       "  <tbody>\n",
       "    <tr>\n",
       "      <th>ILDR1</th>\n",
       "      <td>286676</td>\n",
       "      <td>89.736920</td>\n",
       "      <td>286676</td>\n",
       "      <td>immunoglobulin like domain containing receptor 1</td>\n",
       "      <td>ILDR1</td>\n",
       "      <td>9606.0</td>\n",
       "      <td>NaN</td>\n",
       "    </tr>\n",
       "    <tr>\n",
       "      <th>ILDR1</th>\n",
       "      <td>106347</td>\n",
       "      <td>75.654594</td>\n",
       "      <td>106347</td>\n",
       "      <td>immunoglobulin-like domain containing receptor 1</td>\n",
       "      <td>Ildr1</td>\n",
       "      <td>10090.0</td>\n",
       "      <td>NaN</td>\n",
       "    </tr>\n",
       "    <tr>\n",
       "      <th>ILDR1</th>\n",
       "      <td>303914</td>\n",
       "      <td>62.974140</td>\n",
       "      <td>303914</td>\n",
       "      <td>immunoglobulin-like domain containing receptor 1</td>\n",
       "      <td>Ildr1</td>\n",
       "      <td>10116.0</td>\n",
       "      <td>NaN</td>\n",
       "    </tr>\n",
       "    <tr>\n",
       "      <th>ILDR1</th>\n",
       "      <td>112945587</td>\n",
       "      <td>58.195847</td>\n",
       "      <td>112945587</td>\n",
       "      <td>immunoglobulin like domain containing receptor 1</td>\n",
       "      <td>ILDR1</td>\n",
       "      <td>30464.0</td>\n",
       "      <td>NaN</td>\n",
       "    </tr>\n",
       "    <tr>\n",
       "      <th>ILDR1</th>\n",
       "      <td>102860736</td>\n",
       "      <td>58.195847</td>\n",
       "      <td>102860736</td>\n",
       "      <td>immunoglobulin like domain containing receptor 1</td>\n",
       "      <td>ILDR1</td>\n",
       "      <td>28737.0</td>\n",
       "      <td>NaN</td>\n",
       "    </tr>\n",
       "  </tbody>\n",
       "</table>\n",
       "</div>"
      ],
      "text/plain": [
       "             _id     _score entrezgene  \\\n",
       "query                                    \n",
       "ILDR1     286676  89.736920     286676   \n",
       "ILDR1     106347  75.654594     106347   \n",
       "ILDR1     303914  62.974140     303914   \n",
       "ILDR1  112945587  58.195847  112945587   \n",
       "ILDR1  102860736  58.195847  102860736   \n",
       "\n",
       "                                                   name symbol    taxid  \\\n",
       "query                                                                     \n",
       "ILDR1  immunoglobulin like domain containing receptor 1  ILDR1   9606.0   \n",
       "ILDR1  immunoglobulin-like domain containing receptor 1  Ildr1  10090.0   \n",
       "ILDR1  immunoglobulin-like domain containing receptor 1  Ildr1  10116.0   \n",
       "ILDR1  immunoglobulin like domain containing receptor 1  ILDR1  30464.0   \n",
       "ILDR1  immunoglobulin like domain containing receptor 1  ILDR1  28737.0   \n",
       "\n",
       "      notfound  \n",
       "query           \n",
       "ILDR1      NaN  \n",
       "ILDR1      NaN  \n",
       "ILDR1      NaN  \n",
       "ILDR1      NaN  \n",
       "ILDR1      NaN  "
      ]
     },
     "execution_count": 29,
     "metadata": {},
     "output_type": "execute_result"
    }
   ],
   "source": [
    "mg = get_client('gene')\n",
    "dissociation_gene_info = mg.querymany(dissociation_genes, scopes=['symbol', 'mgi'], as_dataframe=True)\n",
    "dissociation_gene_info.head()"
   ]
  },
  {
   "cell_type": "code",
   "execution_count": 31,
   "metadata": {},
   "outputs": [
    {
     "data": {
      "text/html": [
       "<div>\n",
       "<style scoped>\n",
       "    .dataframe tbody tr th:only-of-type {\n",
       "        vertical-align: middle;\n",
       "    }\n",
       "\n",
       "    .dataframe tbody tr th {\n",
       "        vertical-align: top;\n",
       "    }\n",
       "\n",
       "    .dataframe thead th {\n",
       "        text-align: right;\n",
       "    }\n",
       "</style>\n",
       "<table border=\"1\" class=\"dataframe\">\n",
       "  <thead>\n",
       "    <tr style=\"text-align: right;\">\n",
       "      <th></th>\n",
       "      <th>_id</th>\n",
       "      <th>_score</th>\n",
       "      <th>entrezgene</th>\n",
       "      <th>name</th>\n",
       "      <th>symbol</th>\n",
       "      <th>taxid</th>\n",
       "      <th>notfound</th>\n",
       "    </tr>\n",
       "    <tr>\n",
       "      <th>query</th>\n",
       "      <th></th>\n",
       "      <th></th>\n",
       "      <th></th>\n",
       "      <th></th>\n",
       "      <th></th>\n",
       "      <th></th>\n",
       "      <th></th>\n",
       "    </tr>\n",
       "  </thead>\n",
       "  <tbody>\n",
       "    <tr>\n",
       "      <th>LUC7L2</th>\n",
       "      <td>51631</td>\n",
       "      <td>106.270676</td>\n",
       "      <td>51631</td>\n",
       "      <td>LUC7 like 2, pre-mRNA splicing factor</td>\n",
       "      <td>LUC7L2</td>\n",
       "      <td>9606.0</td>\n",
       "      <td>NaN</td>\n",
       "    </tr>\n",
       "    <tr>\n",
       "      <th>LUC7L2</th>\n",
       "      <td>417971</td>\n",
       "      <td>73.726260</td>\n",
       "      <td>417971</td>\n",
       "      <td>LUC7 like 2, pre-mRNA splicing factor</td>\n",
       "      <td>LUC7L2</td>\n",
       "      <td>9031.0</td>\n",
       "      <td>NaN</td>\n",
       "    </tr>\n",
       "    <tr>\n",
       "      <th>LUC7L2</th>\n",
       "      <td>103075116</td>\n",
       "      <td>69.420540</td>\n",
       "      <td>103075116</td>\n",
       "      <td>LUC7 like 2, pre-mRNA splicing factor</td>\n",
       "      <td>LUC7L2</td>\n",
       "      <td>118797.0</td>\n",
       "      <td>NaN</td>\n",
       "    </tr>\n",
       "    <tr>\n",
       "      <th>LUC7L2</th>\n",
       "      <td>ENSPSMG00000019272</td>\n",
       "      <td>69.420540</td>\n",
       "      <td>NaN</td>\n",
       "      <td>LUC7 like 2, pre-mRNA splicing factor</td>\n",
       "      <td>LUC7L2</td>\n",
       "      <td>1328070.0</td>\n",
       "      <td>NaN</td>\n",
       "    </tr>\n",
       "  </tbody>\n",
       "</table>\n",
       "</div>"
      ],
      "text/plain": [
       "                       _id      _score entrezgene  \\\n",
       "query                                               \n",
       "LUC7L2               51631  106.270676      51631   \n",
       "LUC7L2              417971   73.726260     417971   \n",
       "LUC7L2           103075116   69.420540  103075116   \n",
       "LUC7L2  ENSPSMG00000019272   69.420540        NaN   \n",
       "\n",
       "                                         name  symbol      taxid notfound  \n",
       "query                                                                      \n",
       "LUC7L2  LUC7 like 2, pre-mRNA splicing factor  LUC7L2     9606.0      NaN  \n",
       "LUC7L2  LUC7 like 2, pre-mRNA splicing factor  LUC7L2     9031.0      NaN  \n",
       "LUC7L2  LUC7 like 2, pre-mRNA splicing factor  LUC7L2   118797.0      NaN  \n",
       "LUC7L2  LUC7 like 2, pre-mRNA splicing factor  LUC7L2  1328070.0      NaN  "
      ]
     },
     "execution_count": 31,
     "metadata": {},
     "output_type": "execute_result"
    }
   ],
   "source": [
    "dissociation_gene_info.loc[dissociation_gene_info.name.str.contains('LUC7 like 2').fillna(False)]"
   ]
  },
  {
   "cell_type": "code",
   "execution_count": 32,
   "metadata": {},
   "outputs": [
    {
     "data": {
      "text/html": [
       "<div>\n",
       "<style scoped>\n",
       "    .dataframe tbody tr th:only-of-type {\n",
       "        vertical-align: middle;\n",
       "    }\n",
       "\n",
       "    .dataframe tbody tr th {\n",
       "        vertical-align: top;\n",
       "    }\n",
       "\n",
       "    .dataframe thead th {\n",
       "        text-align: right;\n",
       "    }\n",
       "</style>\n",
       "<table border=\"1\" class=\"dataframe\">\n",
       "  <thead>\n",
       "    <tr style=\"text-align: right;\">\n",
       "      <th></th>\n",
       "      <th>_id</th>\n",
       "      <th>_score</th>\n",
       "      <th>entrezgene</th>\n",
       "      <th>name</th>\n",
       "      <th>symbol</th>\n",
       "      <th>taxid</th>\n",
       "      <th>notfound</th>\n",
       "    </tr>\n",
       "    <tr>\n",
       "      <th>query</th>\n",
       "      <th></th>\n",
       "      <th></th>\n",
       "      <th></th>\n",
       "      <th></th>\n",
       "      <th></th>\n",
       "      <th></th>\n",
       "      <th></th>\n",
       "    </tr>\n",
       "  </thead>\n",
       "  <tbody>\n",
       "    <tr>\n",
       "      <th>ARHGEF10</th>\n",
       "      <td>234094</td>\n",
       "      <td>73.087600</td>\n",
       "      <td>234094</td>\n",
       "      <td>Rho guanine nucleotide exchange factor (GEF) 10</td>\n",
       "      <td>Arhgef10</td>\n",
       "      <td>10090.0</td>\n",
       "      <td>NaN</td>\n",
       "    </tr>\n",
       "    <tr>\n",
       "      <th>GSTM2</th>\n",
       "      <td>100294593</td>\n",
       "      <td>72.653670</td>\n",
       "      <td>100294593</td>\n",
       "      <td>glutathione S-transferase mu 2 (muscle)</td>\n",
       "      <td>GSTM2</td>\n",
       "      <td>9940.0</td>\n",
       "      <td>NaN</td>\n",
       "    </tr>\n",
       "    <tr>\n",
       "      <th>GSTM2</th>\n",
       "      <td>395976</td>\n",
       "      <td>72.653670</td>\n",
       "      <td>395976</td>\n",
       "      <td>glutathione S-transferase mu 2 (muscle)</td>\n",
       "      <td>GSTM2</td>\n",
       "      <td>9031.0</td>\n",
       "      <td>NaN</td>\n",
       "    </tr>\n",
       "    <tr>\n",
       "      <th>RRAS</th>\n",
       "      <td>20130</td>\n",
       "      <td>73.833940</td>\n",
       "      <td>20130</td>\n",
       "      <td>related RAS viral (r-ras) oncogene</td>\n",
       "      <td>Rras</td>\n",
       "      <td>10090.0</td>\n",
       "      <td>NaN</td>\n",
       "    </tr>\n",
       "    <tr>\n",
       "      <th>HSPA5</th>\n",
       "      <td>3309</td>\n",
       "      <td>86.488300</td>\n",
       "      <td>3309</td>\n",
       "      <td>heat shock protein family A (Hsp70) member 5</td>\n",
       "      <td>HSPA5</td>\n",
       "      <td>9606.0</td>\n",
       "      <td>NaN</td>\n",
       "    </tr>\n",
       "    <tr>\n",
       "      <th>...</th>\n",
       "      <td>...</td>\n",
       "      <td>...</td>\n",
       "      <td>...</td>\n",
       "      <td>...</td>\n",
       "      <td>...</td>\n",
       "      <td>...</td>\n",
       "      <td>...</td>\n",
       "    </tr>\n",
       "    <tr>\n",
       "      <th>FSTL3</th>\n",
       "      <td>109625489</td>\n",
       "      <td>56.895634</td>\n",
       "      <td>109625489</td>\n",
       "      <td>follistatin-like 3 (secreted glycoprotein)</td>\n",
       "      <td>fstl3</td>\n",
       "      <td>8255.0</td>\n",
       "      <td>NaN</td>\n",
       "    </tr>\n",
       "    <tr>\n",
       "      <th>SELP</th>\n",
       "      <td>ENSSSCG00025073200</td>\n",
       "      <td>58.775364</td>\n",
       "      <td>NaN</td>\n",
       "      <td>Sus scrofa selectin P (SELP), mRNA.</td>\n",
       "      <td>SELP</td>\n",
       "      <td>9823.0</td>\n",
       "      <td>NaN</td>\n",
       "    </tr>\n",
       "    <tr>\n",
       "      <th>ELOVL4</th>\n",
       "      <td>83603</td>\n",
       "      <td>74.941574</td>\n",
       "      <td>83603</td>\n",
       "      <td>elongation of very long chain fatty acids (FEN...</td>\n",
       "      <td>Elovl4</td>\n",
       "      <td>10090.0</td>\n",
       "      <td>NaN</td>\n",
       "    </tr>\n",
       "    <tr>\n",
       "      <th>S100A9</th>\n",
       "      <td>20202</td>\n",
       "      <td>78.828804</td>\n",
       "      <td>20202</td>\n",
       "      <td>S100 calcium binding protein A9 (calgranulin B)</td>\n",
       "      <td>S100a9</td>\n",
       "      <td>10090.0</td>\n",
       "      <td>NaN</td>\n",
       "    </tr>\n",
       "    <tr>\n",
       "      <th>CDH6</th>\n",
       "      <td>102853263</td>\n",
       "      <td>58.847122</td>\n",
       "      <td>102853263</td>\n",
       "      <td>cadherin 6, type 2, K-cadherin (fetal kidney)</td>\n",
       "      <td>CDH6</td>\n",
       "      <td>28737.0</td>\n",
       "      <td>NaN</td>\n",
       "    </tr>\n",
       "  </tbody>\n",
       "</table>\n",
       "<p>698 rows × 7 columns</p>\n",
       "</div>"
      ],
      "text/plain": [
       "                         _id     _score entrezgene  \\\n",
       "query                                                \n",
       "ARHGEF10              234094  73.087600     234094   \n",
       "GSTM2              100294593  72.653670  100294593   \n",
       "GSTM2                 395976  72.653670     395976   \n",
       "RRAS                   20130  73.833940      20130   \n",
       "HSPA5                   3309  86.488300       3309   \n",
       "...                      ...        ...        ...   \n",
       "FSTL3              109625489  56.895634  109625489   \n",
       "SELP      ENSSSCG00025073200  58.775364        NaN   \n",
       "ELOVL4                 83603  74.941574      83603   \n",
       "S100A9                 20202  78.828804      20202   \n",
       "CDH6               102853263  58.847122  102853263   \n",
       "\n",
       "                                                       name    symbol  \\\n",
       "query                                                                   \n",
       "ARHGEF10    Rho guanine nucleotide exchange factor (GEF) 10  Arhgef10   \n",
       "GSTM2               glutathione S-transferase mu 2 (muscle)     GSTM2   \n",
       "GSTM2               glutathione S-transferase mu 2 (muscle)     GSTM2   \n",
       "RRAS                     related RAS viral (r-ras) oncogene      Rras   \n",
       "HSPA5          heat shock protein family A (Hsp70) member 5     HSPA5   \n",
       "...                                                     ...       ...   \n",
       "FSTL3            follistatin-like 3 (secreted glycoprotein)     fstl3   \n",
       "SELP                    Sus scrofa selectin P (SELP), mRNA.      SELP   \n",
       "ELOVL4    elongation of very long chain fatty acids (FEN...    Elovl4   \n",
       "S100A9      S100 calcium binding protein A9 (calgranulin B)    S100a9   \n",
       "CDH6          cadherin 6, type 2, K-cadherin (fetal kidney)      CDH6   \n",
       "\n",
       "            taxid notfound  \n",
       "query                       \n",
       "ARHGEF10  10090.0      NaN  \n",
       "GSTM2      9940.0      NaN  \n",
       "GSTM2      9031.0      NaN  \n",
       "RRAS      10090.0      NaN  \n",
       "HSPA5      9606.0      NaN  \n",
       "...           ...      ...  \n",
       "FSTL3      8255.0      NaN  \n",
       "SELP       9823.0      NaN  \n",
       "ELOVL4    10090.0      NaN  \n",
       "S100A9    10090.0      NaN  \n",
       "CDH6      28737.0      NaN  \n",
       "\n",
       "[698 rows x 7 columns]"
      ]
     },
     "execution_count": 32,
     "metadata": {},
     "output_type": "execute_result"
    }
   ],
   "source": [
    "dissociation_gene_info.loc[dissociation_gene_info.name.str.contains('\\(').fillna(False)]"
   ]
  },
  {
   "cell_type": "code",
   "execution_count": 33,
   "metadata": {},
   "outputs": [
    {
     "data": {
      "text/html": [
       "<div>\n",
       "<style scoped>\n",
       "    .dataframe tbody tr th:only-of-type {\n",
       "        vertical-align: middle;\n",
       "    }\n",
       "\n",
       "    .dataframe tbody tr th {\n",
       "        vertical-align: top;\n",
       "    }\n",
       "\n",
       "    .dataframe thead th {\n",
       "        text-align: right;\n",
       "    }\n",
       "</style>\n",
       "<table border=\"1\" class=\"dataframe\">\n",
       "  <thead>\n",
       "    <tr style=\"text-align: right;\">\n",
       "      <th></th>\n",
       "      <th>_id</th>\n",
       "      <th>_score</th>\n",
       "      <th>entrezgene</th>\n",
       "      <th>name</th>\n",
       "      <th>symbol</th>\n",
       "      <th>taxid</th>\n",
       "      <th>notfound</th>\n",
       "    </tr>\n",
       "    <tr>\n",
       "      <th>query</th>\n",
       "      <th></th>\n",
       "      <th></th>\n",
       "      <th></th>\n",
       "      <th></th>\n",
       "      <th></th>\n",
       "      <th></th>\n",
       "      <th></th>\n",
       "    </tr>\n",
       "  </thead>\n",
       "  <tbody>\n",
       "    <tr>\n",
       "      <th>ILDR1</th>\n",
       "      <td>286676</td>\n",
       "      <td>89.736920</td>\n",
       "      <td>286676</td>\n",
       "      <td>immunoglobulin like domain containing receptor 1</td>\n",
       "      <td>ILDR1</td>\n",
       "      <td>9606.0</td>\n",
       "      <td>NaN</td>\n",
       "    </tr>\n",
       "    <tr>\n",
       "      <th>ILDR1</th>\n",
       "      <td>106347</td>\n",
       "      <td>75.654594</td>\n",
       "      <td>106347</td>\n",
       "      <td>immunoglobulin-like domain containing receptor 1</td>\n",
       "      <td>Ildr1</td>\n",
       "      <td>10090.0</td>\n",
       "      <td>NaN</td>\n",
       "    </tr>\n",
       "    <tr>\n",
       "      <th>ILDR1</th>\n",
       "      <td>303914</td>\n",
       "      <td>62.974140</td>\n",
       "      <td>303914</td>\n",
       "      <td>immunoglobulin-like domain containing receptor 1</td>\n",
       "      <td>Ildr1</td>\n",
       "      <td>10116.0</td>\n",
       "      <td>NaN</td>\n",
       "    </tr>\n",
       "    <tr>\n",
       "      <th>ILDR1</th>\n",
       "      <td>112945587</td>\n",
       "      <td>58.195847</td>\n",
       "      <td>112945587</td>\n",
       "      <td>immunoglobulin like domain containing receptor 1</td>\n",
       "      <td>ILDR1</td>\n",
       "      <td>30464.0</td>\n",
       "      <td>NaN</td>\n",
       "    </tr>\n",
       "    <tr>\n",
       "      <th>ILDR1</th>\n",
       "      <td>102860736</td>\n",
       "      <td>58.195847</td>\n",
       "      <td>102860736</td>\n",
       "      <td>immunoglobulin like domain containing receptor 1</td>\n",
       "      <td>ILDR1</td>\n",
       "      <td>28737.0</td>\n",
       "      <td>NaN</td>\n",
       "    </tr>\n",
       "    <tr>\n",
       "      <th>...</th>\n",
       "      <td>...</td>\n",
       "      <td>...</td>\n",
       "      <td>...</td>\n",
       "      <td>...</td>\n",
       "      <td>...</td>\n",
       "      <td>...</td>\n",
       "      <td>...</td>\n",
       "    </tr>\n",
       "    <tr>\n",
       "      <th>TMSB10</th>\n",
       "      <td>110134758</td>\n",
       "      <td>61.373344</td>\n",
       "      <td>110134758</td>\n",
       "      <td>thymosin beta 10</td>\n",
       "      <td>TMSB10</td>\n",
       "      <td>9880.0</td>\n",
       "      <td>NaN</td>\n",
       "    </tr>\n",
       "    <tr>\n",
       "      <th>TMSB10</th>\n",
       "      <td>113937645</td>\n",
       "      <td>61.373344</td>\n",
       "      <td>113937645</td>\n",
       "      <td>thymosin beta 10</td>\n",
       "      <td>TMSB10</td>\n",
       "      <td>9704.0</td>\n",
       "      <td>NaN</td>\n",
       "    </tr>\n",
       "    <tr>\n",
       "      <th>TMSB10</th>\n",
       "      <td>105097270</td>\n",
       "      <td>61.373344</td>\n",
       "      <td>105097270</td>\n",
       "      <td>thymosin beta 10</td>\n",
       "      <td>TMSB10</td>\n",
       "      <td>9838.0</td>\n",
       "      <td>NaN</td>\n",
       "    </tr>\n",
       "    <tr>\n",
       "      <th>TMSB10</th>\n",
       "      <td>116526857</td>\n",
       "      <td>61.373344</td>\n",
       "      <td>116526857</td>\n",
       "      <td>thymosin beta 10</td>\n",
       "      <td>TMSB10</td>\n",
       "      <td>9515.0</td>\n",
       "      <td>NaN</td>\n",
       "    </tr>\n",
       "    <tr>\n",
       "      <th>TMSB10</th>\n",
       "      <td>113200395</td>\n",
       "      <td>61.373344</td>\n",
       "      <td>113200395</td>\n",
       "      <td>thymosin beta 10</td>\n",
       "      <td>Tmsb10</td>\n",
       "      <td>9999.0</td>\n",
       "      <td>NaN</td>\n",
       "    </tr>\n",
       "  </tbody>\n",
       "</table>\n",
       "<p>16848 rows × 7 columns</p>\n",
       "</div>"
      ],
      "text/plain": [
       "              _id     _score entrezgene  \\\n",
       "query                                     \n",
       "ILDR1      286676  89.736920     286676   \n",
       "ILDR1      106347  75.654594     106347   \n",
       "ILDR1      303914  62.974140     303914   \n",
       "ILDR1   112945587  58.195847  112945587   \n",
       "ILDR1   102860736  58.195847  102860736   \n",
       "...           ...        ...        ...   \n",
       "TMSB10  110134758  61.373344  110134758   \n",
       "TMSB10  113937645  61.373344  113937645   \n",
       "TMSB10  105097270  61.373344  105097270   \n",
       "TMSB10  116526857  61.373344  116526857   \n",
       "TMSB10  113200395  61.373344  113200395   \n",
       "\n",
       "                                                    name  symbol    taxid  \\\n",
       "query                                                                       \n",
       "ILDR1   immunoglobulin like domain containing receptor 1   ILDR1   9606.0   \n",
       "ILDR1   immunoglobulin-like domain containing receptor 1   Ildr1  10090.0   \n",
       "ILDR1   immunoglobulin-like domain containing receptor 1   Ildr1  10116.0   \n",
       "ILDR1   immunoglobulin like domain containing receptor 1   ILDR1  30464.0   \n",
       "ILDR1   immunoglobulin like domain containing receptor 1   ILDR1  28737.0   \n",
       "...                                                  ...     ...      ...   \n",
       "TMSB10                                  thymosin beta 10  TMSB10   9880.0   \n",
       "TMSB10                                  thymosin beta 10  TMSB10   9704.0   \n",
       "TMSB10                                  thymosin beta 10  TMSB10   9838.0   \n",
       "TMSB10                                  thymosin beta 10  TMSB10   9515.0   \n",
       "TMSB10                                  thymosin beta 10  Tmsb10   9999.0   \n",
       "\n",
       "       notfound  \n",
       "query            \n",
       "ILDR1       NaN  \n",
       "ILDR1       NaN  \n",
       "ILDR1       NaN  \n",
       "ILDR1       NaN  \n",
       "ILDR1       NaN  \n",
       "...         ...  \n",
       "TMSB10      NaN  \n",
       "TMSB10      NaN  \n",
       "TMSB10      NaN  \n",
       "TMSB10      NaN  \n",
       "TMSB10      NaN  \n",
       "\n",
       "[16848 rows x 7 columns]"
      ]
     },
     "execution_count": 33,
     "metadata": {},
     "output_type": "execute_result"
    }
   ],
   "source": [
    "dissociation_gene_info"
   ]
  },
  {
   "cell_type": "code",
   "execution_count": 34,
   "metadata": {},
   "outputs": [
    {
     "data": {
      "text/plain": [
       "3210"
      ]
     },
     "execution_count": 34,
     "metadata": {},
     "output_type": "execute_result"
    }
   ],
   "source": [
    "dissociation_gene_info.name.nunique()"
   ]
  },
  {
   "cell_type": "code",
   "execution_count": 35,
   "metadata": {},
   "outputs": [
    {
     "data": {
      "text/plain": [
       "2480"
      ]
     },
     "execution_count": 35,
     "metadata": {},
     "output_type": "execute_result"
    }
   ],
   "source": [
    "dissociation_gene_info['name_no_number'] = dissociation_gene_info.name.str.rstrip(' 0123456789').str.split(',').str[0]\n",
    "dissociation_gene_info['name_no_number'].nunique()"
   ]
  },
  {
   "cell_type": "code",
   "execution_count": 36,
   "metadata": {},
   "outputs": [],
   "source": [
    "dissociation_gene_descriptions = set(dissociation_gene_info['name_no_number'].dropna())"
   ]
  },
  {
   "cell_type": "code",
   "execution_count": 37,
   "metadata": {},
   "outputs": [],
   "source": [
    "# dissociation_gene_names = set(dissociation_gene_info.name"
   ]
  },
  {
   "cell_type": "code",
   "execution_count": 40,
   "metadata": {},
   "outputs": [
    {
     "name": "stdout",
     "output_type": "stream",
     "text": [
      "total 3.9M\n",
      "drwxrwxr-x 2 olga czb 4.0K Sep 25 08:46 .\n",
      "drwxrwxr-x 3 olga czb 4.0K Sep 25 08:38 ..\n",
      "-rwxrwxr-x 1 olga czb 842K Sep 25 08:39 mRhiFer1_v1__gene_info.tsv.gz\n",
      "-rwxrwxr-x 1 olga czb 3.0M Sep 25 08:39 mRhiFer1_v1__human__mouse-lemur__mouse__orthologs.tsv.gz\n"
     ]
    }
   ],
   "source": [
    "! ls -lha /home/olga/data_lg/data_sm_copy/immune-evolution/rawdata/ensembl/v101/orthologs"
   ]
  },
  {
   "cell_type": "code",
   "execution_count": 41,
   "metadata": {},
   "outputs": [
    {
     "name": "stdout",
     "output_type": "stream",
     "text": [
      ">ENSP00000493376.2|ENST00000641515.2|ENSG00000186092.6|OTTHUMG00000001094.4|OTTHUMT00000003223.4|OR4F5-202|OR4F5|326\n",
      "MKKVTAEAISWNESTSETNNSMVTEFIFLGLSDSQELQTFLFMLFFVFYGGIVFGNLLIV\n",
      "ITVVSDSHLHSPMYFLLANLSLIDLSLSSVTAPKMITDFFSQRKVISFKGCLVQIFLLHF\n",
      "FGGSEMVILIAMGFDRYIAICKPLHYTTIMCGNACVGIMAVTWGIGFLHSVSQLAFAVHL\n",
      "LFCGPNEVDSFYCDLPRVIKLACTDTYRLDIMVIANSGVLTVCSFVLLIISYTIILMTIQ\n",
      "HRPLDKSSKALSTLTAHITVVLLFFGPCVFIYAWPFPIKSLDKFLAVFYSVITPLLNPII\n",
      "YTLRNKDMKTAIRQLRKWDAHSSVKF\n",
      ">ENSP00000334393.3|ENST00000335137.4|ENSG00000186092.6|OTTHUMG00000001094.4|-|OR4F5-201|OR4F5|305\n",
      "MVTEFIFLGLSDSQELQTFLFMLFFVFYGGIVFGNLLIVITVVSDSHLHSPMYFLLANLS\n",
      "LIDLSLSSVTAPKMITDFFSQRKVISFKGCLVQIFLLHFFGGSEMVILIAMGFDRYIAIC\n",
      "\n",
      "gzip: stdout: Broken pipe\n"
     ]
    }
   ],
   "source": [
    "! zcat $human_protein_fasta |head"
   ]
  },
  {
   "cell_type": "markdown",
   "metadata": {},
   "source": [
    "## Constants (ksizes)"
   ]
  },
  {
   "cell_type": "code",
   "execution_count": 2,
   "metadata": {},
   "outputs": [
    {
     "data": {
      "text/plain": [
       "'21,24,27,30,33,36,39,42,45,48,51,54,57,60,63,66,69,72,75,78,81,84,87,90'"
      ]
     },
     "execution_count": 2,
     "metadata": {},
     "output_type": "execute_result"
    }
   ],
   "source": [
    "ksizes_str = ','.join(map( str, range(21, 91, 3)))\n",
    "ksizes_str"
   ]
  },
  {
   "cell_type": "code",
   "execution_count": 42,
   "metadata": {},
   "outputs": [],
   "source": [
    "# dissociation_associated_gene_ids"
   ]
  },
  {
   "cell_type": "markdown",
   "metadata": {},
   "source": [
    "## Utility functions"
   ]
  },
  {
   "cell_type": "code",
   "execution_count": 43,
   "metadata": {},
   "outputs": [],
   "source": [
    "def write_records_to_fasta(records, fasta):\n",
    "    with open(fasta, 'w') as f:\n",
    "        for record in records:\n",
    "            f.write(f'>{record[\"name\"]}\\n{record[\"sequence\"]}\\n')\n",
    "\n",
    "def filter_records(fasta, pattern,):\n",
    "    filtered_records = []\n",
    "    with screed.open(fasta) as records:\n",
    "        for record in records:\n",
    "            name = record['name']\n",
    "            if re.findall(pattern, name, flags=re.I):\n",
    "                filtered_records.append(record)\n",
    "    return filtered_records\n",
    "\n",
    "\n",
    "def check_gene_label_in_ids_or_names(gene_name, gene_names, seqtype_id, seqtype_ids):\n",
    "    try:\n",
    "        in_seqtype_ids = seqtype_id in seqtype_ids\n",
    "    except TypeError:\n",
    "        in_seqtype_ids = False\n",
    "    \n",
    "    try:\n",
    "        in_gene_names = gene_name in gene_names\n",
    "    except TypeError:\n",
    "        in_gene_names = False\n",
    "        \n",
    "    return in_gene_names | in_seqtype_ids\n",
    "\n",
    "\n",
    "def filter_records_by_ids(fasta, seqtype_ids=None, gene_names=None, seqtype='protein'):\n",
    "    filtered_records = []\n",
    "    with screed.open(fasta) as records:\n",
    "        for record in records:\n",
    "            name = record['name']\n",
    "            split = record['name'].split('|')\n",
    "            if seqtype == 'protein':\n",
    "                seqtype_id = gene_id = split[0].split('.')[0]\n",
    "                gene_name = split[-2]\n",
    "            elif seqtype == 'transcript':\n",
    "                transcript_id = split[0].split('.')[0]\n",
    "                seqtype_id = transcript_id\n",
    "                gene_id = split[1].split('.')[0]\n",
    "                gene_name = split[-4]\n",
    "#             import pdb; pdb.set_trace()\n",
    "            if check_gene_label_in_ids_or_names(gene_name, gene_names, seqtype_id, seqtype_ids):\n",
    "                filtered_records.append(record)\n",
    "    return filtered_records\n",
    "\n",
    "\n",
    "def filter_fasta_with_regex(fasta_to_filter, out_fasta, regex=None, gene_ids=None, gene_names=None, seqtype=None):\n",
    "    if regex is None:\n",
    "        record_subset = filter_records_by_ids(fasta_to_filter, gene_ids, gene_names, seqtype)\n",
    "    else:\n",
    "        record_subset = filter_records(fasta_to_filter, regex)\n",
    "    write_records_to_fasta(record_subset, out_fasta)\n",
    "    \n",
    "    \n"
   ]
  },
  {
   "cell_type": "code",
   "execution_count": 44,
   "metadata": {},
   "outputs": [],
   "source": [
    "# ! head $human_transcript_fasta"
   ]
  },
  {
   "cell_type": "markdown",
   "metadata": {},
   "source": [
    "# Human"
   ]
  },
  {
   "cell_type": "markdown",
   "metadata": {},
   "source": [
    "## Get dissociation associated gene IDs"
   ]
  },
  {
   "cell_type": "code",
   "execution_count": 50,
   "metadata": {},
   "outputs": [
    {
     "data": {
      "text/plain": [
       "9068"
      ]
     },
     "execution_count": 50,
     "metadata": {},
     "output_type": "execute_result"
    }
   ],
   "source": [
    "dissociation_associated_records = []\n",
    "dissociation_associated_gene_ids = []\n",
    "\n",
    "with screed.open(human_protein_fasta) as records:\n",
    "    for record in records:\n",
    "        split = record['name'].split('|')\n",
    "        gene_id = split[2].split('.')[0]\n",
    "        gene_name = split[-2]\n",
    "        if gene_name in dissociation_genes:\n",
    "            dissociation_associated_records.append(record)\n",
    "            dissociation_associated_gene_ids.append(gene_id)\n",
    "            \n",
    "len(dissociation_associated_records)"
   ]
  },
  {
   "cell_type": "markdown",
   "metadata": {},
   "source": [
    "# Mouse"
   ]
  },
  {
   "cell_type": "markdown",
   "metadata": {},
   "source": [
    "## Get mouse orthologs of dissociation genes"
   ]
  },
  {
   "cell_type": "code",
   "execution_count": 51,
   "metadata": {},
   "outputs": [
    {
     "name": "stdout",
     "output_type": "stream",
     "text": [
      "(265341, 20)\n"
     ]
    },
    {
     "name": "stderr",
     "output_type": "stream",
     "text": [
      "/home/olga/miniconda3/envs/immune-evolution/lib/python3.7/site-packages/IPython/core/interactiveshell.py:3146: DtypeWarning: Columns (4,5,6,7,10,11,12) have mixed types.Specify dtype option on import or set low_memory=False.\n",
      "  interactivity=interactivity, compiler=compiler, result=result)\n"
     ]
    },
    {
     "data": {
      "text/html": [
       "<div>\n",
       "<style scoped>\n",
       "    .dataframe tbody tr th:only-of-type {\n",
       "        vertical-align: middle;\n",
       "    }\n",
       "\n",
       "    .dataframe tbody tr th {\n",
       "        vertical-align: top;\n",
       "    }\n",
       "\n",
       "    .dataframe thead th {\n",
       "        text-align: right;\n",
       "    }\n",
       "</style>\n",
       "<table border=\"1\" class=\"dataframe\">\n",
       "  <thead>\n",
       "    <tr style=\"text-align: right;\">\n",
       "      <th></th>\n",
       "      <th>Gene stable ID</th>\n",
       "      <th>Gene stable ID version</th>\n",
       "      <th>Transcript stable ID</th>\n",
       "      <th>Transcript stable ID version</th>\n",
       "      <th>Mouse gene stable ID</th>\n",
       "      <th>Mouse gene name</th>\n",
       "      <th>Mouse protein or transcript stable ID</th>\n",
       "      <th>Mouse chromosome/scaffold name</th>\n",
       "      <th>Mouse chromosome/scaffold start (bp)</th>\n",
       "      <th>Mouse chromosome/scaffold end (bp)</th>\n",
       "      <th>Query protein or transcript ID</th>\n",
       "      <th>Last common ancestor with Mouse</th>\n",
       "      <th>Mouse homology type</th>\n",
       "      <th>%id. target Mouse gene identical to query gene</th>\n",
       "      <th>%id. query gene identical to target Mouse gene</th>\n",
       "      <th>Mouse Gene-order conservation score</th>\n",
       "      <th>Mouse Whole-genome alignment coverage</th>\n",
       "      <th>dN with Mouse</th>\n",
       "      <th>dS with Mouse</th>\n",
       "      <th>Mouse orthology confidence [0 low, 1 high]</th>\n",
       "    </tr>\n",
       "  </thead>\n",
       "  <tbody>\n",
       "    <tr>\n",
       "      <th>0</th>\n",
       "      <td>ENSG00000210049</td>\n",
       "      <td>ENSG00000210049.1</td>\n",
       "      <td>ENST00000387314</td>\n",
       "      <td>ENST00000387314.1</td>\n",
       "      <td>NaN</td>\n",
       "      <td>NaN</td>\n",
       "      <td>NaN</td>\n",
       "      <td>NaN</td>\n",
       "      <td>NaN</td>\n",
       "      <td>NaN</td>\n",
       "      <td>NaN</td>\n",
       "      <td>NaN</td>\n",
       "      <td>NaN</td>\n",
       "      <td>NaN</td>\n",
       "      <td>NaN</td>\n",
       "      <td>NaN</td>\n",
       "      <td>NaN</td>\n",
       "      <td>NaN</td>\n",
       "      <td>NaN</td>\n",
       "      <td>NaN</td>\n",
       "    </tr>\n",
       "    <tr>\n",
       "      <th>1</th>\n",
       "      <td>ENSG00000211459</td>\n",
       "      <td>ENSG00000211459.2</td>\n",
       "      <td>ENST00000389680</td>\n",
       "      <td>ENST00000389680.2</td>\n",
       "      <td>NaN</td>\n",
       "      <td>NaN</td>\n",
       "      <td>NaN</td>\n",
       "      <td>NaN</td>\n",
       "      <td>NaN</td>\n",
       "      <td>NaN</td>\n",
       "      <td>NaN</td>\n",
       "      <td>NaN</td>\n",
       "      <td>NaN</td>\n",
       "      <td>NaN</td>\n",
       "      <td>NaN</td>\n",
       "      <td>NaN</td>\n",
       "      <td>NaN</td>\n",
       "      <td>NaN</td>\n",
       "      <td>NaN</td>\n",
       "      <td>NaN</td>\n",
       "    </tr>\n",
       "    <tr>\n",
       "      <th>2</th>\n",
       "      <td>ENSG00000210077</td>\n",
       "      <td>ENSG00000210077.1</td>\n",
       "      <td>ENST00000387342</td>\n",
       "      <td>ENST00000387342.1</td>\n",
       "      <td>NaN</td>\n",
       "      <td>NaN</td>\n",
       "      <td>NaN</td>\n",
       "      <td>NaN</td>\n",
       "      <td>NaN</td>\n",
       "      <td>NaN</td>\n",
       "      <td>NaN</td>\n",
       "      <td>NaN</td>\n",
       "      <td>NaN</td>\n",
       "      <td>NaN</td>\n",
       "      <td>NaN</td>\n",
       "      <td>NaN</td>\n",
       "      <td>NaN</td>\n",
       "      <td>NaN</td>\n",
       "      <td>NaN</td>\n",
       "      <td>NaN</td>\n",
       "    </tr>\n",
       "    <tr>\n",
       "      <th>3</th>\n",
       "      <td>ENSG00000210082</td>\n",
       "      <td>ENSG00000210082.2</td>\n",
       "      <td>ENST00000387347</td>\n",
       "      <td>ENST00000387347.2</td>\n",
       "      <td>NaN</td>\n",
       "      <td>NaN</td>\n",
       "      <td>NaN</td>\n",
       "      <td>NaN</td>\n",
       "      <td>NaN</td>\n",
       "      <td>NaN</td>\n",
       "      <td>NaN</td>\n",
       "      <td>NaN</td>\n",
       "      <td>NaN</td>\n",
       "      <td>NaN</td>\n",
       "      <td>NaN</td>\n",
       "      <td>NaN</td>\n",
       "      <td>NaN</td>\n",
       "      <td>NaN</td>\n",
       "      <td>NaN</td>\n",
       "      <td>NaN</td>\n",
       "    </tr>\n",
       "    <tr>\n",
       "      <th>4</th>\n",
       "      <td>ENSG00000209082</td>\n",
       "      <td>ENSG00000209082.1</td>\n",
       "      <td>ENST00000386347</td>\n",
       "      <td>ENST00000386347.1</td>\n",
       "      <td>NaN</td>\n",
       "      <td>NaN</td>\n",
       "      <td>NaN</td>\n",
       "      <td>NaN</td>\n",
       "      <td>NaN</td>\n",
       "      <td>NaN</td>\n",
       "      <td>NaN</td>\n",
       "      <td>NaN</td>\n",
       "      <td>NaN</td>\n",
       "      <td>NaN</td>\n",
       "      <td>NaN</td>\n",
       "      <td>NaN</td>\n",
       "      <td>NaN</td>\n",
       "      <td>NaN</td>\n",
       "      <td>NaN</td>\n",
       "      <td>NaN</td>\n",
       "    </tr>\n",
       "  </tbody>\n",
       "</table>\n",
       "</div>"
      ],
      "text/plain": [
       "    Gene stable ID Gene stable ID version Transcript stable ID  \\\n",
       "0  ENSG00000210049      ENSG00000210049.1      ENST00000387314   \n",
       "1  ENSG00000211459      ENSG00000211459.2      ENST00000389680   \n",
       "2  ENSG00000210077      ENSG00000210077.1      ENST00000387342   \n",
       "3  ENSG00000210082      ENSG00000210082.2      ENST00000387347   \n",
       "4  ENSG00000209082      ENSG00000209082.1      ENST00000386347   \n",
       "\n",
       "  Transcript stable ID version Mouse gene stable ID Mouse gene name  \\\n",
       "0            ENST00000387314.1                  NaN             NaN   \n",
       "1            ENST00000389680.2                  NaN             NaN   \n",
       "2            ENST00000387342.1                  NaN             NaN   \n",
       "3            ENST00000387347.2                  NaN             NaN   \n",
       "4            ENST00000386347.1                  NaN             NaN   \n",
       "\n",
       "  Mouse protein or transcript stable ID Mouse chromosome/scaffold name  \\\n",
       "0                                   NaN                            NaN   \n",
       "1                                   NaN                            NaN   \n",
       "2                                   NaN                            NaN   \n",
       "3                                   NaN                            NaN   \n",
       "4                                   NaN                            NaN   \n",
       "\n",
       "   Mouse chromosome/scaffold start (bp)  Mouse chromosome/scaffold end (bp)  \\\n",
       "0                                   NaN                                 NaN   \n",
       "1                                   NaN                                 NaN   \n",
       "2                                   NaN                                 NaN   \n",
       "3                                   NaN                                 NaN   \n",
       "4                                   NaN                                 NaN   \n",
       "\n",
       "  Query protein or transcript ID Last common ancestor with Mouse  \\\n",
       "0                            NaN                             NaN   \n",
       "1                            NaN                             NaN   \n",
       "2                            NaN                             NaN   \n",
       "3                            NaN                             NaN   \n",
       "4                            NaN                             NaN   \n",
       "\n",
       "  Mouse homology type  %id. target Mouse gene identical to query gene  \\\n",
       "0                 NaN                                             NaN   \n",
       "1                 NaN                                             NaN   \n",
       "2                 NaN                                             NaN   \n",
       "3                 NaN                                             NaN   \n",
       "4                 NaN                                             NaN   \n",
       "\n",
       "   %id. query gene identical to target Mouse gene  \\\n",
       "0                                             NaN   \n",
       "1                                             NaN   \n",
       "2                                             NaN   \n",
       "3                                             NaN   \n",
       "4                                             NaN   \n",
       "\n",
       "   Mouse Gene-order conservation score  Mouse Whole-genome alignment coverage  \\\n",
       "0                                  NaN                                    NaN   \n",
       "1                                  NaN                                    NaN   \n",
       "2                                  NaN                                    NaN   \n",
       "3                                  NaN                                    NaN   \n",
       "4                                  NaN                                    NaN   \n",
       "\n",
       "   dN with Mouse  dS with Mouse  Mouse orthology confidence [0 low, 1 high]  \n",
       "0            NaN            NaN                                         NaN  \n",
       "1            NaN            NaN                                         NaN  \n",
       "2            NaN            NaN                                         NaN  \n",
       "3            NaN            NaN                                         NaN  \n",
       "4            NaN            NaN                                         NaN  "
      ]
     },
     "execution_count": 51,
     "metadata": {},
     "output_type": "execute_result"
    }
   ],
   "source": [
    "human_mouse_orthologs = pd.read_csv('/home/olga/googledrive/TabulaMicrocebus/data/orthologous-genes/ensembl98__human__to__mouse__orthologs.txt.gz', sep='\\t')\n",
    "print(human_mouse_orthologs.shape)\n",
    "human_mouse_orthologs.head()"
   ]
  },
  {
   "cell_type": "code",
   "execution_count": 52,
   "metadata": {},
   "outputs": [
    {
     "data": {
      "text/plain": [
       "(14505, 20)"
      ]
     },
     "execution_count": 52,
     "metadata": {},
     "output_type": "execute_result"
    }
   ],
   "source": [
    "rows = human_mouse_orthologs['Gene stable ID'].isin(dissociation_associated_gene_ids)\n",
    "human_mouse_orthologs_dissociation = human_mouse_orthologs.loc[rows]\n",
    "# human_mouse_orthologs_dissociation = human_mouse_orthologs_dissociation.drop_duplicates()\n",
    "human_mouse_orthologs_dissociation.shape"
   ]
  },
  {
   "cell_type": "code",
   "execution_count": 53,
   "metadata": {},
   "outputs": [
    {
     "data": {
      "text/html": [
       "<div>\n",
       "<style scoped>\n",
       "    .dataframe tbody tr th:only-of-type {\n",
       "        vertical-align: middle;\n",
       "    }\n",
       "\n",
       "    .dataframe tbody tr th {\n",
       "        vertical-align: top;\n",
       "    }\n",
       "\n",
       "    .dataframe thead th {\n",
       "        text-align: right;\n",
       "    }\n",
       "</style>\n",
       "<table border=\"1\" class=\"dataframe\">\n",
       "  <thead>\n",
       "    <tr style=\"text-align: right;\">\n",
       "      <th></th>\n",
       "      <th>Gene stable ID</th>\n",
       "      <th>Gene stable ID version</th>\n",
       "      <th>Transcript stable ID</th>\n",
       "      <th>Transcript stable ID version</th>\n",
       "      <th>Mouse gene stable ID</th>\n",
       "      <th>Mouse gene name</th>\n",
       "      <th>Mouse protein or transcript stable ID</th>\n",
       "      <th>Mouse chromosome/scaffold name</th>\n",
       "      <th>Mouse chromosome/scaffold start (bp)</th>\n",
       "      <th>Mouse chromosome/scaffold end (bp)</th>\n",
       "      <th>Query protein or transcript ID</th>\n",
       "      <th>Last common ancestor with Mouse</th>\n",
       "      <th>Mouse homology type</th>\n",
       "      <th>%id. target Mouse gene identical to query gene</th>\n",
       "      <th>%id. query gene identical to target Mouse gene</th>\n",
       "      <th>Mouse Gene-order conservation score</th>\n",
       "      <th>Mouse Whole-genome alignment coverage</th>\n",
       "      <th>dN with Mouse</th>\n",
       "      <th>dS with Mouse</th>\n",
       "      <th>Mouse orthology confidence [0 low, 1 high]</th>\n",
       "    </tr>\n",
       "  </thead>\n",
       "  <tbody>\n",
       "    <tr>\n",
       "      <th>138</th>\n",
       "      <td>ENSG00000067992</td>\n",
       "      <td>ENSG00000067992.15</td>\n",
       "      <td>ENST00000379162</td>\n",
       "      <td>ENST00000379162.8</td>\n",
       "      <td>ENSMUSG00000035232</td>\n",
       "      <td>Pdk3</td>\n",
       "      <td>ENSMUSP00000036604</td>\n",
       "      <td>X</td>\n",
       "      <td>93764607.0</td>\n",
       "      <td>93832201.0</td>\n",
       "      <td>ENSP00000498864</td>\n",
       "      <td>Euarchontoglires</td>\n",
       "      <td>ortholog_one2one</td>\n",
       "      <td>97.1084</td>\n",
       "      <td>97.1084</td>\n",
       "      <td>50.0</td>\n",
       "      <td>100.00</td>\n",
       "      <td>0.0151</td>\n",
       "      <td>0.5213</td>\n",
       "      <td>1.0</td>\n",
       "    </tr>\n",
       "    <tr>\n",
       "      <th>139</th>\n",
       "      <td>ENSG00000067992</td>\n",
       "      <td>ENSG00000067992.15</td>\n",
       "      <td>ENST00000648777</td>\n",
       "      <td>ENST00000648777.1</td>\n",
       "      <td>ENSMUSG00000035232</td>\n",
       "      <td>Pdk3</td>\n",
       "      <td>ENSMUSP00000036604</td>\n",
       "      <td>X</td>\n",
       "      <td>93764607.0</td>\n",
       "      <td>93832201.0</td>\n",
       "      <td>ENSP00000498864</td>\n",
       "      <td>Euarchontoglires</td>\n",
       "      <td>ortholog_one2one</td>\n",
       "      <td>97.1084</td>\n",
       "      <td>97.1084</td>\n",
       "      <td>50.0</td>\n",
       "      <td>100.00</td>\n",
       "      <td>0.0151</td>\n",
       "      <td>0.5213</td>\n",
       "      <td>1.0</td>\n",
       "    </tr>\n",
       "    <tr>\n",
       "      <th>140</th>\n",
       "      <td>ENSG00000067992</td>\n",
       "      <td>ENSG00000067992.15</td>\n",
       "      <td>ENST00000568479</td>\n",
       "      <td>ENST00000568479.2</td>\n",
       "      <td>ENSMUSG00000035232</td>\n",
       "      <td>Pdk3</td>\n",
       "      <td>ENSMUSP00000036604</td>\n",
       "      <td>X</td>\n",
       "      <td>93764607.0</td>\n",
       "      <td>93832201.0</td>\n",
       "      <td>ENSP00000498864</td>\n",
       "      <td>Euarchontoglires</td>\n",
       "      <td>ortholog_one2one</td>\n",
       "      <td>97.1084</td>\n",
       "      <td>97.1084</td>\n",
       "      <td>50.0</td>\n",
       "      <td>100.00</td>\n",
       "      <td>0.0151</td>\n",
       "      <td>0.5213</td>\n",
       "      <td>1.0</td>\n",
       "    </tr>\n",
       "    <tr>\n",
       "      <th>141</th>\n",
       "      <td>ENSG00000067992</td>\n",
       "      <td>ENSG00000067992.15</td>\n",
       "      <td>ENST00000493226</td>\n",
       "      <td>ENST00000493226.1</td>\n",
       "      <td>ENSMUSG00000035232</td>\n",
       "      <td>Pdk3</td>\n",
       "      <td>ENSMUSP00000036604</td>\n",
       "      <td>X</td>\n",
       "      <td>93764607.0</td>\n",
       "      <td>93832201.0</td>\n",
       "      <td>ENSP00000498864</td>\n",
       "      <td>Euarchontoglires</td>\n",
       "      <td>ortholog_one2one</td>\n",
       "      <td>97.1084</td>\n",
       "      <td>97.1084</td>\n",
       "      <td>50.0</td>\n",
       "      <td>100.00</td>\n",
       "      <td>0.0151</td>\n",
       "      <td>0.5213</td>\n",
       "      <td>1.0</td>\n",
       "    </tr>\n",
       "    <tr>\n",
       "      <th>674</th>\n",
       "      <td>ENSG00000138606</td>\n",
       "      <td>ENSG00000138606.19</td>\n",
       "      <td>ENST00000560540</td>\n",
       "      <td>ENST00000560540.5</td>\n",
       "      <td>ENSMUSG00000033256</td>\n",
       "      <td>Shf</td>\n",
       "      <td>ENSMUSP00000106160</td>\n",
       "      <td>2</td>\n",
       "      <td>122348892.0</td>\n",
       "      <td>122369162.0</td>\n",
       "      <td>ENSP00000290894</td>\n",
       "      <td>Eutheria</td>\n",
       "      <td>ortholog_one2one</td>\n",
       "      <td>54.1371</td>\n",
       "      <td>96.2185</td>\n",
       "      <td>75.0</td>\n",
       "      <td>94.31</td>\n",
       "      <td>0.0167</td>\n",
       "      <td>0.3423</td>\n",
       "      <td>1.0</td>\n",
       "    </tr>\n",
       "    <tr>\n",
       "      <th>...</th>\n",
       "      <td>...</td>\n",
       "      <td>...</td>\n",
       "      <td>...</td>\n",
       "      <td>...</td>\n",
       "      <td>...</td>\n",
       "      <td>...</td>\n",
       "      <td>...</td>\n",
       "      <td>...</td>\n",
       "      <td>...</td>\n",
       "      <td>...</td>\n",
       "      <td>...</td>\n",
       "      <td>...</td>\n",
       "      <td>...</td>\n",
       "      <td>...</td>\n",
       "      <td>...</td>\n",
       "      <td>...</td>\n",
       "      <td>...</td>\n",
       "      <td>...</td>\n",
       "      <td>...</td>\n",
       "      <td>...</td>\n",
       "    </tr>\n",
       "    <tr>\n",
       "      <th>250870</th>\n",
       "      <td>ENSG00000184867</td>\n",
       "      <td>ENSG00000184867.14</td>\n",
       "      <td>ENST00000431597</td>\n",
       "      <td>ENST00000431597.5</td>\n",
       "      <td>ENSMUSG00000033436</td>\n",
       "      <td>Armcx2</td>\n",
       "      <td>ENSMUSP00000127305</td>\n",
       "      <td>X</td>\n",
       "      <td>134804145.0</td>\n",
       "      <td>134809221.0</td>\n",
       "      <td>ENSP00000349281</td>\n",
       "      <td>Euarchontoglires</td>\n",
       "      <td>ortholog_one2one</td>\n",
       "      <td>78.0063</td>\n",
       "      <td>62.8827</td>\n",
       "      <td>75.0</td>\n",
       "      <td>95.19</td>\n",
       "      <td>0.1401</td>\n",
       "      <td>0.5306</td>\n",
       "      <td>1.0</td>\n",
       "    </tr>\n",
       "    <tr>\n",
       "      <th>250871</th>\n",
       "      <td>ENSG00000184867</td>\n",
       "      <td>ENSG00000184867.14</td>\n",
       "      <td>ENST00000479333</td>\n",
       "      <td>ENST00000479333.5</td>\n",
       "      <td>ENSMUSG00000033436</td>\n",
       "      <td>Armcx2</td>\n",
       "      <td>ENSMUSP00000127305</td>\n",
       "      <td>X</td>\n",
       "      <td>134804145.0</td>\n",
       "      <td>134809221.0</td>\n",
       "      <td>ENSP00000349281</td>\n",
       "      <td>Euarchontoglires</td>\n",
       "      <td>ortholog_one2one</td>\n",
       "      <td>78.0063</td>\n",
       "      <td>62.8827</td>\n",
       "      <td>75.0</td>\n",
       "      <td>95.19</td>\n",
       "      <td>0.1401</td>\n",
       "      <td>0.5306</td>\n",
       "      <td>1.0</td>\n",
       "    </tr>\n",
       "    <tr>\n",
       "      <th>250872</th>\n",
       "      <td>ENSG00000184867</td>\n",
       "      <td>ENSG00000184867.14</td>\n",
       "      <td>ENST00000496581</td>\n",
       "      <td>ENST00000496581.1</td>\n",
       "      <td>ENSMUSG00000033436</td>\n",
       "      <td>Armcx2</td>\n",
       "      <td>ENSMUSP00000127305</td>\n",
       "      <td>X</td>\n",
       "      <td>134804145.0</td>\n",
       "      <td>134809221.0</td>\n",
       "      <td>ENSP00000349281</td>\n",
       "      <td>Euarchontoglires</td>\n",
       "      <td>ortholog_one2one</td>\n",
       "      <td>78.0063</td>\n",
       "      <td>62.8827</td>\n",
       "      <td>75.0</td>\n",
       "      <td>95.19</td>\n",
       "      <td>0.1401</td>\n",
       "      <td>0.5306</td>\n",
       "      <td>1.0</td>\n",
       "    </tr>\n",
       "    <tr>\n",
       "      <th>250873</th>\n",
       "      <td>ENSG00000184867</td>\n",
       "      <td>ENSG00000184867.14</td>\n",
       "      <td>ENST00000488982</td>\n",
       "      <td>ENST00000488982.1</td>\n",
       "      <td>ENSMUSG00000033436</td>\n",
       "      <td>Armcx2</td>\n",
       "      <td>ENSMUSP00000127305</td>\n",
       "      <td>X</td>\n",
       "      <td>134804145.0</td>\n",
       "      <td>134809221.0</td>\n",
       "      <td>ENSP00000349281</td>\n",
       "      <td>Euarchontoglires</td>\n",
       "      <td>ortholog_one2one</td>\n",
       "      <td>78.0063</td>\n",
       "      <td>62.8827</td>\n",
       "      <td>75.0</td>\n",
       "      <td>95.19</td>\n",
       "      <td>0.1401</td>\n",
       "      <td>0.5306</td>\n",
       "      <td>1.0</td>\n",
       "    </tr>\n",
       "    <tr>\n",
       "      <th>250874</th>\n",
       "      <td>ENSG00000184867</td>\n",
       "      <td>ENSG00000184867.14</td>\n",
       "      <td>ENST00000475854</td>\n",
       "      <td>ENST00000475854.1</td>\n",
       "      <td>ENSMUSG00000033436</td>\n",
       "      <td>Armcx2</td>\n",
       "      <td>ENSMUSP00000127305</td>\n",
       "      <td>X</td>\n",
       "      <td>134804145.0</td>\n",
       "      <td>134809221.0</td>\n",
       "      <td>ENSP00000349281</td>\n",
       "      <td>Euarchontoglires</td>\n",
       "      <td>ortholog_one2one</td>\n",
       "      <td>78.0063</td>\n",
       "      <td>62.8827</td>\n",
       "      <td>75.0</td>\n",
       "      <td>95.19</td>\n",
       "      <td>0.1401</td>\n",
       "      <td>0.5306</td>\n",
       "      <td>1.0</td>\n",
       "    </tr>\n",
       "  </tbody>\n",
       "</table>\n",
       "<p>14505 rows × 20 columns</p>\n",
       "</div>"
      ],
      "text/plain": [
       "         Gene stable ID Gene stable ID version Transcript stable ID  \\\n",
       "138     ENSG00000067992     ENSG00000067992.15      ENST00000379162   \n",
       "139     ENSG00000067992     ENSG00000067992.15      ENST00000648777   \n",
       "140     ENSG00000067992     ENSG00000067992.15      ENST00000568479   \n",
       "141     ENSG00000067992     ENSG00000067992.15      ENST00000493226   \n",
       "674     ENSG00000138606     ENSG00000138606.19      ENST00000560540   \n",
       "...                 ...                    ...                  ...   \n",
       "250870  ENSG00000184867     ENSG00000184867.14      ENST00000431597   \n",
       "250871  ENSG00000184867     ENSG00000184867.14      ENST00000479333   \n",
       "250872  ENSG00000184867     ENSG00000184867.14      ENST00000496581   \n",
       "250873  ENSG00000184867     ENSG00000184867.14      ENST00000488982   \n",
       "250874  ENSG00000184867     ENSG00000184867.14      ENST00000475854   \n",
       "\n",
       "       Transcript stable ID version Mouse gene stable ID Mouse gene name  \\\n",
       "138               ENST00000379162.8   ENSMUSG00000035232            Pdk3   \n",
       "139               ENST00000648777.1   ENSMUSG00000035232            Pdk3   \n",
       "140               ENST00000568479.2   ENSMUSG00000035232            Pdk3   \n",
       "141               ENST00000493226.1   ENSMUSG00000035232            Pdk3   \n",
       "674               ENST00000560540.5   ENSMUSG00000033256             Shf   \n",
       "...                             ...                  ...             ...   \n",
       "250870            ENST00000431597.5   ENSMUSG00000033436          Armcx2   \n",
       "250871            ENST00000479333.5   ENSMUSG00000033436          Armcx2   \n",
       "250872            ENST00000496581.1   ENSMUSG00000033436          Armcx2   \n",
       "250873            ENST00000488982.1   ENSMUSG00000033436          Armcx2   \n",
       "250874            ENST00000475854.1   ENSMUSG00000033436          Armcx2   \n",
       "\n",
       "       Mouse protein or transcript stable ID Mouse chromosome/scaffold name  \\\n",
       "138                       ENSMUSP00000036604                              X   \n",
       "139                       ENSMUSP00000036604                              X   \n",
       "140                       ENSMUSP00000036604                              X   \n",
       "141                       ENSMUSP00000036604                              X   \n",
       "674                       ENSMUSP00000106160                              2   \n",
       "...                                      ...                            ...   \n",
       "250870                    ENSMUSP00000127305                              X   \n",
       "250871                    ENSMUSP00000127305                              X   \n",
       "250872                    ENSMUSP00000127305                              X   \n",
       "250873                    ENSMUSP00000127305                              X   \n",
       "250874                    ENSMUSP00000127305                              X   \n",
       "\n",
       "        Mouse chromosome/scaffold start (bp)  \\\n",
       "138                               93764607.0   \n",
       "139                               93764607.0   \n",
       "140                               93764607.0   \n",
       "141                               93764607.0   \n",
       "674                              122348892.0   \n",
       "...                                      ...   \n",
       "250870                           134804145.0   \n",
       "250871                           134804145.0   \n",
       "250872                           134804145.0   \n",
       "250873                           134804145.0   \n",
       "250874                           134804145.0   \n",
       "\n",
       "        Mouse chromosome/scaffold end (bp) Query protein or transcript ID  \\\n",
       "138                             93832201.0                ENSP00000498864   \n",
       "139                             93832201.0                ENSP00000498864   \n",
       "140                             93832201.0                ENSP00000498864   \n",
       "141                             93832201.0                ENSP00000498864   \n",
       "674                            122369162.0                ENSP00000290894   \n",
       "...                                    ...                            ...   \n",
       "250870                         134809221.0                ENSP00000349281   \n",
       "250871                         134809221.0                ENSP00000349281   \n",
       "250872                         134809221.0                ENSP00000349281   \n",
       "250873                         134809221.0                ENSP00000349281   \n",
       "250874                         134809221.0                ENSP00000349281   \n",
       "\n",
       "       Last common ancestor with Mouse Mouse homology type  \\\n",
       "138                   Euarchontoglires    ortholog_one2one   \n",
       "139                   Euarchontoglires    ortholog_one2one   \n",
       "140                   Euarchontoglires    ortholog_one2one   \n",
       "141                   Euarchontoglires    ortholog_one2one   \n",
       "674                           Eutheria    ortholog_one2one   \n",
       "...                                ...                 ...   \n",
       "250870                Euarchontoglires    ortholog_one2one   \n",
       "250871                Euarchontoglires    ortholog_one2one   \n",
       "250872                Euarchontoglires    ortholog_one2one   \n",
       "250873                Euarchontoglires    ortholog_one2one   \n",
       "250874                Euarchontoglires    ortholog_one2one   \n",
       "\n",
       "        %id. target Mouse gene identical to query gene  \\\n",
       "138                                            97.1084   \n",
       "139                                            97.1084   \n",
       "140                                            97.1084   \n",
       "141                                            97.1084   \n",
       "674                                            54.1371   \n",
       "...                                                ...   \n",
       "250870                                         78.0063   \n",
       "250871                                         78.0063   \n",
       "250872                                         78.0063   \n",
       "250873                                         78.0063   \n",
       "250874                                         78.0063   \n",
       "\n",
       "        %id. query gene identical to target Mouse gene  \\\n",
       "138                                            97.1084   \n",
       "139                                            97.1084   \n",
       "140                                            97.1084   \n",
       "141                                            97.1084   \n",
       "674                                            96.2185   \n",
       "...                                                ...   \n",
       "250870                                         62.8827   \n",
       "250871                                         62.8827   \n",
       "250872                                         62.8827   \n",
       "250873                                         62.8827   \n",
       "250874                                         62.8827   \n",
       "\n",
       "        Mouse Gene-order conservation score  \\\n",
       "138                                    50.0   \n",
       "139                                    50.0   \n",
       "140                                    50.0   \n",
       "141                                    50.0   \n",
       "674                                    75.0   \n",
       "...                                     ...   \n",
       "250870                                 75.0   \n",
       "250871                                 75.0   \n",
       "250872                                 75.0   \n",
       "250873                                 75.0   \n",
       "250874                                 75.0   \n",
       "\n",
       "        Mouse Whole-genome alignment coverage  dN with Mouse  dS with Mouse  \\\n",
       "138                                    100.00         0.0151         0.5213   \n",
       "139                                    100.00         0.0151         0.5213   \n",
       "140                                    100.00         0.0151         0.5213   \n",
       "141                                    100.00         0.0151         0.5213   \n",
       "674                                     94.31         0.0167         0.3423   \n",
       "...                                       ...            ...            ...   \n",
       "250870                                  95.19         0.1401         0.5306   \n",
       "250871                                  95.19         0.1401         0.5306   \n",
       "250872                                  95.19         0.1401         0.5306   \n",
       "250873                                  95.19         0.1401         0.5306   \n",
       "250874                                  95.19         0.1401         0.5306   \n",
       "\n",
       "        Mouse orthology confidence [0 low, 1 high]  \n",
       "138                                            1.0  \n",
       "139                                            1.0  \n",
       "140                                            1.0  \n",
       "141                                            1.0  \n",
       "674                                            1.0  \n",
       "...                                            ...  \n",
       "250870                                         1.0  \n",
       "250871                                         1.0  \n",
       "250872                                         1.0  \n",
       "250873                                         1.0  \n",
       "250874                                         1.0  \n",
       "\n",
       "[14505 rows x 20 columns]"
      ]
     },
     "execution_count": 53,
     "metadata": {},
     "output_type": "execute_result"
    }
   ],
   "source": [
    "human_mouse_orthologs_dissociation"
   ]
  },
  {
   "cell_type": "code",
   "execution_count": 54,
   "metadata": {},
   "outputs": [],
   "source": [
    "mouse_dissociation_gene_names = set(human_mouse_orthologs_dissociation['Mouse gene name'])\n",
    "mouse_dissociation_protein_ids = set(human_mouse_orthologs_dissociation['Mouse protein or transcript stable ID'])"
   ]
  },
  {
   "cell_type": "code",
   "execution_count": null,
   "metadata": {},
   "outputs": [],
   "source": []
  },
  {
   "cell_type": "markdown",
   "metadata": {},
   "source": [
    "## Iterate over protein fastas, dissociation genes, mitochondrial and ribosomal regexes"
   ]
  },
  {
   "cell_type": "code",
   "execution_count": null,
   "metadata": {},
   "outputs": [],
   "source": []
  },
  {
   "cell_type": "code",
   "execution_count": 57,
   "metadata": {},
   "outputs": [
    {
     "name": "stdout",
     "output_type": "stream",
     "text": [
      "\n",
      "--- mouse, mitochondrial ---\n",
      "CPU times: user 1.7 s, sys: 0 ns, total: 1.7 s\n",
      "Wall time: 1.71 s\n",
      "172 /home/olga/data_lg/czbiohub-reference/gencode/mouse/vM21/gencode.vM21.pc_translations.fa__mitochondrial_genes.fasta\n",
      "86\n",
      "\n",
      "--- mouse, dissociation ---\n",
      "CPU times: user 1.6 s, sys: 0 ns, total: 1.6 s\n",
      "Wall time: 1.75 s\n",
      "10300 /home/olga/data_lg/czbiohub-reference/gencode/mouse/vM21/gencode.vM21.pc_translations.fa__dissociation_genes.fasta\n",
      "5150\n",
      "\n",
      "--- mouse, ribosomal ---\n",
      "CPU times: user 1.89 s, sys: 0 ns, total: 1.89 s\n",
      "Wall time: 1.9 s\n",
      "1034 /home/olga/data_lg/czbiohub-reference/gencode/mouse/vM21/gencode.vM21.pc_translations.fa__ribosomal_genes.fasta\n",
      "517\n",
      "\n",
      "--- mouse, nuisance ---\n",
      "Key 'mouse' not found in nuisance's dictionary\n",
      "\n",
      "--- human, mitochondrial ---\n",
      "CPU times: user 2.36 s, sys: 0 ns, total: 2.36 s\n",
      "Wall time: 2.37 s\n",
      "362 /home/olga/data_lg/czbiohub-reference/gencode/human/v30/gencode.v30.pc_translations.fa__mitochondrial_genes.fasta\n",
      "181\n",
      "\n",
      "--- human, dissociation ---\n",
      "CPU times: user 2.39 s, sys: 0 ns, total: 2.39 s\n",
      "Wall time: 2.46 s\n",
      "18136 /home/olga/data_lg/czbiohub-reference/gencode/human/v30/gencode.v30.pc_translations.fa__dissociation_genes.fasta\n",
      "9068\n",
      "\n",
      "--- human, ribosomal ---\n",
      "CPU times: user 2.5 s, sys: 0 ns, total: 2.5 s\n",
      "Wall time: 2.55 s\n",
      "1870 /home/olga/data_lg/czbiohub-reference/gencode/human/v30/gencode.v30.pc_translations.fa__ribosomal_genes.fasta\n",
      "935\n",
      "\n",
      "--- human, nuisance ---\n",
      "Key 'human' not found in nuisance's dictionary\n",
      "\n",
      "--- refseq, mitochondrial ---\n",
      "Key 'refseq' not found in mitochondrial's dictionary\n",
      "\n",
      "--- refseq, dissociation ---\n",
      "Key 'refseq' not found in dissociation's dictionary\n",
      "\n",
      "--- refseq, ribosomal ---\n",
      "Key 'refseq' not found in ribosomal's dictionary\n",
      "\n",
      "--- refseq, nuisance ---\n",
      "CPU times: user 3min 33s, sys: 0 ns, total: 3min 33s\n",
      "Wall time: 3min 35s\n",
      "870712 /home/olga/data_lg/czbiohub-reference/ncbi/refseq/releases/refseq-release98-2020-02-06/vertebrate_mammalian/vertebrate_mammalian_concatenated.faa__nuisance_genes.fasta\n",
      "435356\n",
      "902586 /home/olga/data_lg/data_sm_copy/immune-evolution/databases/nuisance-genes/mouse-human-refseq-vertebrate-mammalian__dissociation3Nov2020__ribosomal__mitochondrial__nuisance__protein.fasta\n",
      "451293\n",
      "CPU times: user 3min 45s, sys: 0 ns, total: 3min 45s\n",
      "Wall time: 3min 53s\n"
     ]
    }
   ],
   "source": [
    "%%time\n",
    "\n",
    "protein_fastas = {\n",
    "    \"mouse\": mouse_protein_fasta,\n",
    "    \"human\": human_protein_fasta,\n",
    "    \"refseq\": vertebrate_mammalian_fasta,\n",
    "}\n",
    "\n",
    "nuisance_gene_regex = \"ribosom|mito|ubiqui|ferritin|cytochrome|eukaryotic translation|heat shock|NADH|NADPH\"\n",
    "\n",
    "# Make dissociation gene regex from gene descriptions\n",
    "# dissociation_gene_descriptions = set(dissociation_gene_info[\"name\"].dropna())\n",
    "# dissociation_gene_regex = \"|\".join(dissociation_gene_descriptions)\n",
    "\n",
    "# Escape parentheses, plus signs, minus signs from regex \n",
    "# dissociation_gene_regex_cleaned = (\n",
    "#     dissociation_gene_regex.replace(\"(\", \"\\(\")\n",
    "#     .replace(\")\", \"\\)\")\n",
    "#     .replace(\"+\", \"\\+\")\n",
    "#     .replace(\"-\", \"\\-\")\n",
    "#     .replace('[', '\\[')\n",
    "#     .replace(']', '\\]')\n",
    "# )\n",
    "# # dissociation_gene_regex_cleaned\n",
    "# manual_plus_computational_dissociation_gene_regex = (\n",
    "#     f\"{nuisance_gene_regex}|{dissociation_gene_regex_cleaned}\"\n",
    "# )\n",
    "# print(\n",
    "#     \"len(manual_plus_computational_dissociation_gene_regex)\",\n",
    "#     len(manual_plus_computational_dissociation_gene_regex),\n",
    "# )\n",
    "\n",
    "\n",
    "genetype_kwargs = {\n",
    "    \"mitochondrial\": {\"mouse\": dict(regex=\"mt-\\w+\"), \"human\": dict(regex=\"MT-\\w+\")},\n",
    "    \"dissociation\": {\n",
    "        \"mouse\": dict(\n",
    "            gene_names=mouse_dissociation_gene_names,\n",
    "            gene_ids=mouse_dissociation_protein_ids,\n",
    "            seqtype=\"protein\",\n",
    "        ),\n",
    "        \"human\": dict(gene_names=dissociation_genes, seqtype=\"protein\"),\n",
    "    },\n",
    "    \"ribosomal\": {\n",
    "        # Flags to re.findall ignore case so we can use the same regex for both\n",
    "        \"mouse\": dict(\n",
    "            regex=\"M*RP[LS]\\d+[[\\w\\d-]*]?\",\n",
    "        ),\n",
    "        # e.g. RPL14, RPS24, RPL3L2\n",
    "        \"human\": dict(regex=\"M*RP[LS]\\d+[[\\w\\d-]*]?\"),\n",
    "    },\n",
    "    \"nuisance\": {\n",
    "        \"refseq\": dict(regex=nuisance_gene_regex)\n",
    "    },\n",
    "}\n",
    "\n",
    "\n",
    "def filter_fastas_with_regex(\n",
    "    species_fastas, genetype_kwargs, concatenated_output_fasta\n",
    "):\n",
    "\n",
    "    filtered_fastas = []\n",
    "    for (species, fasta), (genetype, kwarg_dict) in itertools.product(\n",
    "        species_fastas.items(), genetype_kwargs.items()\n",
    "    ):\n",
    "        print(f'\\n--- {species}, {genetype} ---')\n",
    "        try:\n",
    "            kwargs = kwarg_dict[species]\n",
    "            root, extension = os.path.splitext(fasta)\n",
    "            filtered_fasta = fasta.replace(extension, f\"__{genetype}_genes.fasta\")\n",
    "            %time filter_fasta_with_regex(fasta, filtered_fasta, **kwargs)\n",
    "            ! wc -l $filtered_fasta\n",
    "            ! grep -c '>' $filtered_fasta\n",
    "            filtered_fastas.append(filtered_fasta)\n",
    "        except KeyError:\n",
    "            print(f\"Key '{species}' not found in {genetype}'s dictionary\")\n",
    "    fastas_to_cat = \" \".join(filtered_fastas)\n",
    "    ! cat $fastas_to_cat > $concatenated_output_fasta\n",
    "    ! wc -l $concatenated_output_fasta\n",
    "    ! grep -c '>' $concatenated_output_fasta\n",
    "\n",
    "\n",
    "filter_fastas_with_regex(protein_fastas, genetype_kwargs, catted_protein_fasta)"
   ]
  },
  {
   "cell_type": "code",
   "execution_count": 73,
   "metadata": {},
   "outputs": [
    {
     "data": {
      "text/plain": [
       "'al specificity phosphatase|Superoxide dismutase [Cu-Zn]|Sus scrofa carboxypeptidase B1 \\\\(CPB1\\\\), mRN'"
      ]
     },
     "execution_count": 73,
     "metadata": {},
     "output_type": "execute_result"
    }
   ],
   "source": [
    "manual_plus_computational_dissociation_gene_regex[(43713-50):(43713+50)]"
   ]
  },
  {
   "cell_type": "code",
   "execution_count": null,
   "metadata": {},
   "outputs": [],
   "source": [
    "1+1"
   ]
  },
  {
   "cell_type": "code",
   "execution_count": null,
   "metadata": {},
   "outputs": [],
   "source": [
    "# \n",
    "# ! ls -lha $vertebrate_mammalian_dir"
   ]
  },
  {
   "cell_type": "code",
   "execution_count": 59,
   "metadata": {},
   "outputs": [
    {
     "name": "stdout",
     "output_type": "stream",
     "text": [
      "lrrr\n"
     ]
    }
   ],
   "source": [
    "! hostname"
   ]
  },
  {
   "cell_type": "markdown",
   "metadata": {},
   "source": [
    "# Build protein signatures"
   ]
  },
  {
   "cell_type": "code",
   "execution_count": 32,
   "metadata": {},
   "outputs": [
    {
     "name": "stdout",
     "output_type": "stream",
     "text": [
      "/usr/local/bin/sourmash\n",
      "/usr/local/bin/sourmash\n",
      "/home/olga/miniconda3/envs/immune-evolution/bin/sourmash\n",
      "/usr/local/bin/sourmash\n"
     ]
    }
   ],
   "source": [
    "!which -a sourmash"
   ]
  },
  {
   "cell_type": "markdown",
   "metadata": {},
   "source": [
    "## Make signature on nuisance gene (mito/ribo/NADH/ubiqitin) fasta only"
   ]
  },
  {
   "cell_type": "code",
   "execution_count": 58,
   "metadata": {},
   "outputs": [
    {
     "name": "stdout",
     "output_type": "stream",
     "text": [
      "\u001b[K\n",
      "== This is sourmash version 4.0.0a3. ==\n",
      "\u001b[K== Please cite Brown and Irber (2016), doi:10.21105/joss.00027. ==\n",
      "\n",
      "\u001b[Ksetting num_hashes to 0 because --scaled is set\n",
      "\u001b[Kcomputing signatures for files: /home/olga/data_lg/czbiohub-reference/ncbi/refseq/releases/refseq-release98-2020-02-06/vertebrate_mammalian/vertebrate_mammalian_concatenated.faa__nuisance_genes.fasta\n",
      "\u001b[KComputing signature for ksizes: [21, 24, 27, 30, 33, 36, 39, 42, 45, 48, 51, 54, 57, 60, 63, 66, 69, 72, 75, 78, 81, 84, 87, 90]\n",
      "\u001b[KComputing only protein (and not nucleotide) signatures.\n",
      "\u001b[KComputing a total of 24 signature(s).\n",
      "\u001b[K... reading sequences from /home/olga/data_lg/czbiohub-reference/ncbi/refseq/releases/refseq-release98-2020-02-06/vertebrate_mammalian/vertebrate_mammalian_concatenated.faa__nuisance_genes.fasta\n",
      "\u001b[K... /home/olga/data_lg/czbiohub-reference/ncbi/refseq/releases/refseq-release98-2020-02-06/vertebrate_mammalian/vertebrate_mammalian_concatenated.faa__nuisance_genes.fasta 435356 sequences\n",
      "\u001b[Kcalculated 1 signatures for 435356 sequences taken from 1 files\n",
      "\u001b[Ksaved signature(s) to /home/olga/data_lg/czbiohub-reference/ncbi/refseq/releases/refseq-release98-2020-02-06/vertebrate_mammalian/vertebrate_mammalian_concatenated.faa__nuisance_genes.sig. Note: signature license is CC0.\n",
      "CPU times: user 30.8 s, sys: 59.2 ms, total: 30.9 s\n",
      "Wall time: 23min 35s\n"
     ]
    }
   ],
   "source": [
    "%%time\n",
    "\n",
    "nuisance_protein_fasta = '/home/olga/data_lg/czbiohub-reference/ncbi/refseq/releases/refseq-release98-2020-02-06/vertebrate_mammalian/vertebrate_mammalian_concatenated.faa__nuisance_genes.fasta'\n",
    "\n",
    "nuisance_protein_fasta_sig = nuisance_protein_fasta.replace('.fasta', '.sig')\n",
    "\n",
    "\n",
    "! /home/olga/miniconda3/envs/immune-evolution/bin/sourmash compute \\\n",
    "    --protein --dayhoff --hydrophobic-polar --input-is-protein --no-dna \\\n",
    "    -k $ksizes_str \\\n",
    "    -o $nuisance_protein_fasta_sig \\\n",
    "    --merge 'human-mouse-refseq-mammals_nuisance_genes' \\\n",
    "    --scaled 10 \\\n",
    "    $nuisance_protein_fasta"
   ]
  },
  {
   "cell_type": "code",
   "execution_count": 66,
   "metadata": {},
   "outputs": [
    {
     "name": "stdout",
     "output_type": "stream",
     "text": [
      "-rw-r--r-- 1 olga czb 259M Jan 28 10:40 /home/olga/data_lg/czbiohub-reference/ncbi/refseq/releases/refseq-release98-2020-02-06/vertebrate_mammalian/vertebrate_mammalian_concatenated.faa__nuisance_genes.fasta\n"
     ]
    }
   ],
   "source": [
    "! ls -lha $nuisance_protein_fasta"
   ]
  },
  {
   "cell_type": "code",
   "execution_count": 64,
   "metadata": {},
   "outputs": [],
   "source": [
    "# ! /home/olga/miniconda3/envs/immune-evolution/bin/sourmash sig  describe $nuisance_protein_fasta_sig"
   ]
  },
  {
   "cell_type": "code",
   "execution_count": 60,
   "metadata": {},
   "outputs": [
    {
     "name": "stdout",
     "output_type": "stream",
     "text": [
      "-rw-r--r-- 1 olga czb 1.9G Jan 28 11:39 /home/olga/data_lg/czbiohub-reference/ncbi/refseq/releases/refseq-release98-2020-02-06/vertebrate_mammalian/vertebrate_mammalian_concatenated.faa__nuisance_genes.sig\n"
     ]
    }
   ],
   "source": [
    "! ls -lha $nuisance_protein_fasta_sig"
   ]
  },
  {
   "cell_type": "code",
   "execution_count": 61,
   "metadata": {},
   "outputs": [],
   "source": [
    "nuisance_split_sig_dir = os.path.join(vertebrate_mammalian_dir, 'nuisance_genes__not_dissociation__sourmash_signature_split')\n",
    "!mkdir $nuisance_split_sig_dir"
   ]
  },
  {
   "cell_type": "markdown",
   "metadata": {},
   "source": [
    "### Sourmash sig split the nuisance signature per ksize and moltype"
   ]
  },
  {
   "cell_type": "code",
   "execution_count": 62,
   "metadata": {},
   "outputs": [
    {
     "name": "stdout",
     "output_type": "stream",
     "text": [
      "\u001b[K\n",
      "== This is sourmash version 4.0.0a3. ==\n",
      "\u001b[K== Please cite Brown and Irber (2016), doi:10.21105/joss.00027. ==\n",
      "\n",
      "\u001b[Kwriting sig to /home/olga/data_lg/czbiohub-reference/ncbi/refseq/releases/refseq-release98-2020-02-06/vertebrate_mammalian/nuisance_genes__not_dissociation__sourmash_signature_split/648defe6.k=21.scaled=10.protein.dup=0.vertebrate_mammalian_concatenated.faa__nuisance_genes.fasta.sig\n",
      "\u001b[Kwriting sig to /home/olga/data_lg/czbiohub-reference/ncbi/refseq/releases/refseq-release98-2020-02-06/vertebrate_mammalian/nuisance_genes__not_dissociation__sourmash_signature_split/fdde4669.k=21.scaled=10.dayhoff.dup=0.vertebrate_mammalian_concatenated.faa__nuisance_genes.fasta.sig\n",
      "\u001b[Kwriting sig to /home/olga/data_lg/czbiohub-reference/ncbi/refseq/releases/refseq-release98-2020-02-06/vertebrate_mammalian/nuisance_genes__not_dissociation__sourmash_signature_split/53cf4cb2.k=21.scaled=10.hp.dup=0.vertebrate_mammalian_concatenated.faa__nuisance_genes.fasta.sig\n",
      "\u001b[Kwriting sig to /home/olga/data_lg/czbiohub-reference/ncbi/refseq/releases/refseq-release98-2020-02-06/vertebrate_mammalian/nuisance_genes__not_dissociation__sourmash_signature_split/9365d746.k=24.scaled=10.protein.dup=0.vertebrate_mammalian_concatenated.faa__nuisance_genes.fasta.sig\n",
      "\u001b[Kwriting sig to /home/olga/data_lg/czbiohub-reference/ncbi/refseq/releases/refseq-release98-2020-02-06/vertebrate_mammalian/nuisance_genes__not_dissociation__sourmash_signature_split/3f59d1c9.k=24.scaled=10.dayhoff.dup=0.vertebrate_mammalian_concatenated.faa__nuisance_genes.fasta.sig\n",
      "\u001b[Kwriting sig to /home/olga/data_lg/czbiohub-reference/ncbi/refseq/releases/refseq-release98-2020-02-06/vertebrate_mammalian/nuisance_genes__not_dissociation__sourmash_signature_split/b6345998.k=24.scaled=10.hp.dup=0.vertebrate_mammalian_concatenated.faa__nuisance_genes.fasta.sig\n",
      "\u001b[Kwriting sig to /home/olga/data_lg/czbiohub-reference/ncbi/refseq/releases/refseq-release98-2020-02-06/vertebrate_mammalian/nuisance_genes__not_dissociation__sourmash_signature_split/652d2917.k=27.scaled=10.protein.dup=0.vertebrate_mammalian_concatenated.faa__nuisance_genes.fasta.sig\n",
      "\u001b[Kwriting sig to /home/olga/data_lg/czbiohub-reference/ncbi/refseq/releases/refseq-release98-2020-02-06/vertebrate_mammalian/nuisance_genes__not_dissociation__sourmash_signature_split/34690a57.k=27.scaled=10.dayhoff.dup=0.vertebrate_mammalian_concatenated.faa__nuisance_genes.fasta.sig\n",
      "\u001b[Kwriting sig to /home/olga/data_lg/czbiohub-reference/ncbi/refseq/releases/refseq-release98-2020-02-06/vertebrate_mammalian/nuisance_genes__not_dissociation__sourmash_signature_split/16e215a2.k=27.scaled=10.hp.dup=0.vertebrate_mammalian_concatenated.faa__nuisance_genes.fasta.sig\n",
      "\u001b[Kwriting sig to /home/olga/data_lg/czbiohub-reference/ncbi/refseq/releases/refseq-release98-2020-02-06/vertebrate_mammalian/nuisance_genes__not_dissociation__sourmash_signature_split/f282771b.k=30.scaled=10.protein.dup=0.vertebrate_mammalian_concatenated.faa__nuisance_genes.fasta.sig\n",
      "\u001b[Kwriting sig to /home/olga/data_lg/czbiohub-reference/ncbi/refseq/releases/refseq-release98-2020-02-06/vertebrate_mammalian/nuisance_genes__not_dissociation__sourmash_signature_split/fba511e4.k=30.scaled=10.dayhoff.dup=0.vertebrate_mammalian_concatenated.faa__nuisance_genes.fasta.sig\n",
      "\u001b[Kwriting sig to /home/olga/data_lg/czbiohub-reference/ncbi/refseq/releases/refseq-release98-2020-02-06/vertebrate_mammalian/nuisance_genes__not_dissociation__sourmash_signature_split/1fe59106.k=30.scaled=10.hp.dup=0.vertebrate_mammalian_concatenated.faa__nuisance_genes.fasta.sig\n",
      "\u001b[Kwriting sig to /home/olga/data_lg/czbiohub-reference/ncbi/refseq/releases/refseq-release98-2020-02-06/vertebrate_mammalian/nuisance_genes__not_dissociation__sourmash_signature_split/1e17f40b.k=33.scaled=10.protein.dup=0.vertebrate_mammalian_concatenated.faa__nuisance_genes.fasta.sig\n",
      "\u001b[Kwriting sig to /home/olga/data_lg/czbiohub-reference/ncbi/refseq/releases/refseq-release98-2020-02-06/vertebrate_mammalian/nuisance_genes__not_dissociation__sourmash_signature_split/0d8154e9.k=33.scaled=10.dayhoff.dup=0.vertebrate_mammalian_concatenated.faa__nuisance_genes.fasta.sig\n",
      "\u001b[Kwriting sig to /home/olga/data_lg/czbiohub-reference/ncbi/refseq/releases/refseq-release98-2020-02-06/vertebrate_mammalian/nuisance_genes__not_dissociation__sourmash_signature_split/d19417e2.k=33.scaled=10.hp.dup=0.vertebrate_mammalian_concatenated.faa__nuisance_genes.fasta.sig\n",
      "\u001b[Kwriting sig to /home/olga/data_lg/czbiohub-reference/ncbi/refseq/releases/refseq-release98-2020-02-06/vertebrate_mammalian/nuisance_genes__not_dissociation__sourmash_signature_split/986b14d5.k=36.scaled=10.protein.dup=0.vertebrate_mammalian_concatenated.faa__nuisance_genes.fasta.sig\n",
      "\u001b[Kwriting sig to /home/olga/data_lg/czbiohub-reference/ncbi/refseq/releases/refseq-release98-2020-02-06/vertebrate_mammalian/nuisance_genes__not_dissociation__sourmash_signature_split/90900c35.k=36.scaled=10.dayhoff.dup=0.vertebrate_mammalian_concatenated.faa__nuisance_genes.fasta.sig\n",
      "\u001b[Kwriting sig to /home/olga/data_lg/czbiohub-reference/ncbi/refseq/releases/refseq-release98-2020-02-06/vertebrate_mammalian/nuisance_genes__not_dissociation__sourmash_signature_split/668f2653.k=36.scaled=10.hp.dup=0.vertebrate_mammalian_concatenated.faa__nuisance_genes.fasta.sig\n",
      "\u001b[Kwriting sig to /home/olga/data_lg/czbiohub-reference/ncbi/refseq/releases/refseq-release98-2020-02-06/vertebrate_mammalian/nuisance_genes__not_dissociation__sourmash_signature_split/b1deef11.k=39.scaled=10.protein.dup=0.vertebrate_mammalian_concatenated.faa__nuisance_genes.fasta.sig\n",
      "\u001b[Kwriting sig to /home/olga/data_lg/czbiohub-reference/ncbi/refseq/releases/refseq-release98-2020-02-06/vertebrate_mammalian/nuisance_genes__not_dissociation__sourmash_signature_split/cbc8d89e.k=39.scaled=10.dayhoff.dup=0.vertebrate_mammalian_concatenated.faa__nuisance_genes.fasta.sig\n",
      "\u001b[Kwriting sig to /home/olga/data_lg/czbiohub-reference/ncbi/refseq/releases/refseq-release98-2020-02-06/vertebrate_mammalian/nuisance_genes__not_dissociation__sourmash_signature_split/8b6b30d9.k=39.scaled=10.hp.dup=0.vertebrate_mammalian_concatenated.faa__nuisance_genes.fasta.sig\n",
      "\u001b[Kwriting sig to /home/olga/data_lg/czbiohub-reference/ncbi/refseq/releases/refseq-release98-2020-02-06/vertebrate_mammalian/nuisance_genes__not_dissociation__sourmash_signature_split/f2616566.k=42.scaled=10.protein.dup=0.vertebrate_mammalian_concatenated.faa__nuisance_genes.fasta.sig\n",
      "\u001b[Kwriting sig to /home/olga/data_lg/czbiohub-reference/ncbi/refseq/releases/refseq-release98-2020-02-06/vertebrate_mammalian/nuisance_genes__not_dissociation__sourmash_signature_split/a6a550d6.k=42.scaled=10.dayhoff.dup=0.vertebrate_mammalian_concatenated.faa__nuisance_genes.fasta.sig\n",
      "\u001b[Kwriting sig to /home/olga/data_lg/czbiohub-reference/ncbi/refseq/releases/refseq-release98-2020-02-06/vertebrate_mammalian/nuisance_genes__not_dissociation__sourmash_signature_split/f7f4475c.k=42.scaled=10.hp.dup=0.vertebrate_mammalian_concatenated.faa__nuisance_genes.fasta.sig\n",
      "\u001b[Kwriting sig to /home/olga/data_lg/czbiohub-reference/ncbi/refseq/releases/refseq-release98-2020-02-06/vertebrate_mammalian/nuisance_genes__not_dissociation__sourmash_signature_split/8a9eaa9e.k=45.scaled=10.protein.dup=0.vertebrate_mammalian_concatenated.faa__nuisance_genes.fasta.sig\n",
      "\u001b[Kwriting sig to /home/olga/data_lg/czbiohub-reference/ncbi/refseq/releases/refseq-release98-2020-02-06/vertebrate_mammalian/nuisance_genes__not_dissociation__sourmash_signature_split/badd91e0.k=45.scaled=10.dayhoff.dup=0.vertebrate_mammalian_concatenated.faa__nuisance_genes.fasta.sig\n",
      "\u001b[Kwriting sig to /home/olga/data_lg/czbiohub-reference/ncbi/refseq/releases/refseq-release98-2020-02-06/vertebrate_mammalian/nuisance_genes__not_dissociation__sourmash_signature_split/b96d109f.k=45.scaled=10.hp.dup=0.vertebrate_mammalian_concatenated.faa__nuisance_genes.fasta.sig\n",
      "\u001b[Kwriting sig to /home/olga/data_lg/czbiohub-reference/ncbi/refseq/releases/refseq-release98-2020-02-06/vertebrate_mammalian/nuisance_genes__not_dissociation__sourmash_signature_split/fa11b3c8.k=48.scaled=10.protein.dup=0.vertebrate_mammalian_concatenated.faa__nuisance_genes.fasta.sig\n",
      "\u001b[Kwriting sig to /home/olga/data_lg/czbiohub-reference/ncbi/refseq/releases/refseq-release98-2020-02-06/vertebrate_mammalian/nuisance_genes__not_dissociation__sourmash_signature_split/e7d87ef5.k=48.scaled=10.dayhoff.dup=0.vertebrate_mammalian_concatenated.faa__nuisance_genes.fasta.sig\n",
      "\u001b[Kwriting sig to /home/olga/data_lg/czbiohub-reference/ncbi/refseq/releases/refseq-release98-2020-02-06/vertebrate_mammalian/nuisance_genes__not_dissociation__sourmash_signature_split/c21d7930.k=48.scaled=10.hp.dup=0.vertebrate_mammalian_concatenated.faa__nuisance_genes.fasta.sig\n",
      "\u001b[Kwriting sig to /home/olga/data_lg/czbiohub-reference/ncbi/refseq/releases/refseq-release98-2020-02-06/vertebrate_mammalian/nuisance_genes__not_dissociation__sourmash_signature_split/8512361b.k=51.scaled=10.protein.dup=0.vertebrate_mammalian_concatenated.faa__nuisance_genes.fasta.sig\n",
      "\u001b[Kwriting sig to /home/olga/data_lg/czbiohub-reference/ncbi/refseq/releases/refseq-release98-2020-02-06/vertebrate_mammalian/nuisance_genes__not_dissociation__sourmash_signature_split/0ddcc6c8.k=51.scaled=10.dayhoff.dup=0.vertebrate_mammalian_concatenated.faa__nuisance_genes.fasta.sig\n",
      "\u001b[Kwriting sig to /home/olga/data_lg/czbiohub-reference/ncbi/refseq/releases/refseq-release98-2020-02-06/vertebrate_mammalian/nuisance_genes__not_dissociation__sourmash_signature_split/a6231128.k=51.scaled=10.hp.dup=0.vertebrate_mammalian_concatenated.faa__nuisance_genes.fasta.sig\n",
      "\u001b[Kwriting sig to /home/olga/data_lg/czbiohub-reference/ncbi/refseq/releases/refseq-release98-2020-02-06/vertebrate_mammalian/nuisance_genes__not_dissociation__sourmash_signature_split/2b34d194.k=54.scaled=10.protein.dup=0.vertebrate_mammalian_concatenated.faa__nuisance_genes.fasta.sig\n",
      "\u001b[Kwriting sig to /home/olga/data_lg/czbiohub-reference/ncbi/refseq/releases/refseq-release98-2020-02-06/vertebrate_mammalian/nuisance_genes__not_dissociation__sourmash_signature_split/669d3906.k=54.scaled=10.dayhoff.dup=0.vertebrate_mammalian_concatenated.faa__nuisance_genes.fasta.sig\n",
      "\u001b[Kwriting sig to /home/olga/data_lg/czbiohub-reference/ncbi/refseq/releases/refseq-release98-2020-02-06/vertebrate_mammalian/nuisance_genes__not_dissociation__sourmash_signature_split/727afc68.k=54.scaled=10.hp.dup=0.vertebrate_mammalian_concatenated.faa__nuisance_genes.fasta.sig\n",
      "\u001b[Kwriting sig to /home/olga/data_lg/czbiohub-reference/ncbi/refseq/releases/refseq-release98-2020-02-06/vertebrate_mammalian/nuisance_genes__not_dissociation__sourmash_signature_split/66fa7257.k=57.scaled=10.protein.dup=0.vertebrate_mammalian_concatenated.faa__nuisance_genes.fasta.sig\n",
      "\u001b[Kwriting sig to /home/olga/data_lg/czbiohub-reference/ncbi/refseq/releases/refseq-release98-2020-02-06/vertebrate_mammalian/nuisance_genes__not_dissociation__sourmash_signature_split/339f174b.k=57.scaled=10.dayhoff.dup=0.vertebrate_mammalian_concatenated.faa__nuisance_genes.fasta.sig\n",
      "\u001b[Kwriting sig to /home/olga/data_lg/czbiohub-reference/ncbi/refseq/releases/refseq-release98-2020-02-06/vertebrate_mammalian/nuisance_genes__not_dissociation__sourmash_signature_split/24a3624a.k=57.scaled=10.hp.dup=0.vertebrate_mammalian_concatenated.faa__nuisance_genes.fasta.sig\n",
      "\u001b[Kwriting sig to /home/olga/data_lg/czbiohub-reference/ncbi/refseq/releases/refseq-release98-2020-02-06/vertebrate_mammalian/nuisance_genes__not_dissociation__sourmash_signature_split/a9f6795b.k=60.scaled=10.protein.dup=0.vertebrate_mammalian_concatenated.faa__nuisance_genes.fasta.sig\n",
      "\u001b[Kwriting sig to /home/olga/data_lg/czbiohub-reference/ncbi/refseq/releases/refseq-release98-2020-02-06/vertebrate_mammalian/nuisance_genes__not_dissociation__sourmash_signature_split/79707dd5.k=60.scaled=10.dayhoff.dup=0.vertebrate_mammalian_concatenated.faa__nuisance_genes.fasta.sig\n",
      "\u001b[Kwriting sig to /home/olga/data_lg/czbiohub-reference/ncbi/refseq/releases/refseq-release98-2020-02-06/vertebrate_mammalian/nuisance_genes__not_dissociation__sourmash_signature_split/2b766cbc.k=60.scaled=10.hp.dup=0.vertebrate_mammalian_concatenated.faa__nuisance_genes.fasta.sig\n",
      "\u001b[Kwriting sig to /home/olga/data_lg/czbiohub-reference/ncbi/refseq/releases/refseq-release98-2020-02-06/vertebrate_mammalian/nuisance_genes__not_dissociation__sourmash_signature_split/8f22a73f.k=63.scaled=10.protein.dup=0.vertebrate_mammalian_concatenated.faa__nuisance_genes.fasta.sig\n",
      "\u001b[Kwriting sig to /home/olga/data_lg/czbiohub-reference/ncbi/refseq/releases/refseq-release98-2020-02-06/vertebrate_mammalian/nuisance_genes__not_dissociation__sourmash_signature_split/28d1bb14.k=63.scaled=10.dayhoff.dup=0.vertebrate_mammalian_concatenated.faa__nuisance_genes.fasta.sig\n",
      "\u001b[Kwriting sig to /home/olga/data_lg/czbiohub-reference/ncbi/refseq/releases/refseq-release98-2020-02-06/vertebrate_mammalian/nuisance_genes__not_dissociation__sourmash_signature_split/c26aae90.k=63.scaled=10.hp.dup=0.vertebrate_mammalian_concatenated.faa__nuisance_genes.fasta.sig\n",
      "\u001b[Kwriting sig to /home/olga/data_lg/czbiohub-reference/ncbi/refseq/releases/refseq-release98-2020-02-06/vertebrate_mammalian/nuisance_genes__not_dissociation__sourmash_signature_split/cc389dca.k=66.scaled=10.protein.dup=0.vertebrate_mammalian_concatenated.faa__nuisance_genes.fasta.sig\n",
      "\u001b[Kwriting sig to /home/olga/data_lg/czbiohub-reference/ncbi/refseq/releases/refseq-release98-2020-02-06/vertebrate_mammalian/nuisance_genes__not_dissociation__sourmash_signature_split/4e596c1e.k=66.scaled=10.dayhoff.dup=0.vertebrate_mammalian_concatenated.faa__nuisance_genes.fasta.sig\n",
      "\u001b[Kwriting sig to /home/olga/data_lg/czbiohub-reference/ncbi/refseq/releases/refseq-release98-2020-02-06/vertebrate_mammalian/nuisance_genes__not_dissociation__sourmash_signature_split/2a55d526.k=66.scaled=10.hp.dup=0.vertebrate_mammalian_concatenated.faa__nuisance_genes.fasta.sig\n",
      "\u001b[Kwriting sig to /home/olga/data_lg/czbiohub-reference/ncbi/refseq/releases/refseq-release98-2020-02-06/vertebrate_mammalian/nuisance_genes__not_dissociation__sourmash_signature_split/1c30e37e.k=69.scaled=10.protein.dup=0.vertebrate_mammalian_concatenated.faa__nuisance_genes.fasta.sig\n",
      "\u001b[Kwriting sig to /home/olga/data_lg/czbiohub-reference/ncbi/refseq/releases/refseq-release98-2020-02-06/vertebrate_mammalian/nuisance_genes__not_dissociation__sourmash_signature_split/05cb4c8a.k=69.scaled=10.dayhoff.dup=0.vertebrate_mammalian_concatenated.faa__nuisance_genes.fasta.sig\n",
      "\u001b[Kwriting sig to /home/olga/data_lg/czbiohub-reference/ncbi/refseq/releases/refseq-release98-2020-02-06/vertebrate_mammalian/nuisance_genes__not_dissociation__sourmash_signature_split/8aaf4724.k=69.scaled=10.hp.dup=0.vertebrate_mammalian_concatenated.faa__nuisance_genes.fasta.sig\n",
      "\u001b[Kwriting sig to /home/olga/data_lg/czbiohub-reference/ncbi/refseq/releases/refseq-release98-2020-02-06/vertebrate_mammalian/nuisance_genes__not_dissociation__sourmash_signature_split/40e3936a.k=72.scaled=10.protein.dup=0.vertebrate_mammalian_concatenated.faa__nuisance_genes.fasta.sig\n",
      "\u001b[Kwriting sig to /home/olga/data_lg/czbiohub-reference/ncbi/refseq/releases/refseq-release98-2020-02-06/vertebrate_mammalian/nuisance_genes__not_dissociation__sourmash_signature_split/f38122d9.k=72.scaled=10.dayhoff.dup=0.vertebrate_mammalian_concatenated.faa__nuisance_genes.fasta.sig\n",
      "\u001b[Kwriting sig to /home/olga/data_lg/czbiohub-reference/ncbi/refseq/releases/refseq-release98-2020-02-06/vertebrate_mammalian/nuisance_genes__not_dissociation__sourmash_signature_split/1b48ae9d.k=72.scaled=10.hp.dup=0.vertebrate_mammalian_concatenated.faa__nuisance_genes.fasta.sig\n",
      "\u001b[Kwriting sig to /home/olga/data_lg/czbiohub-reference/ncbi/refseq/releases/refseq-release98-2020-02-06/vertebrate_mammalian/nuisance_genes__not_dissociation__sourmash_signature_split/b81dcfdc.k=75.scaled=10.protein.dup=0.vertebrate_mammalian_concatenated.faa__nuisance_genes.fasta.sig\n",
      "\u001b[Kwriting sig to /home/olga/data_lg/czbiohub-reference/ncbi/refseq/releases/refseq-release98-2020-02-06/vertebrate_mammalian/nuisance_genes__not_dissociation__sourmash_signature_split/5bae0c19.k=75.scaled=10.dayhoff.dup=0.vertebrate_mammalian_concatenated.faa__nuisance_genes.fasta.sig\n",
      "\u001b[Kwriting sig to /home/olga/data_lg/czbiohub-reference/ncbi/refseq/releases/refseq-release98-2020-02-06/vertebrate_mammalian/nuisance_genes__not_dissociation__sourmash_signature_split/0463531a.k=75.scaled=10.hp.dup=0.vertebrate_mammalian_concatenated.faa__nuisance_genes.fasta.sig\n",
      "\u001b[Kwriting sig to /home/olga/data_lg/czbiohub-reference/ncbi/refseq/releases/refseq-release98-2020-02-06/vertebrate_mammalian/nuisance_genes__not_dissociation__sourmash_signature_split/55119993.k=78.scaled=10.protein.dup=0.vertebrate_mammalian_concatenated.faa__nuisance_genes.fasta.sig\n",
      "\u001b[Kwriting sig to /home/olga/data_lg/czbiohub-reference/ncbi/refseq/releases/refseq-release98-2020-02-06/vertebrate_mammalian/nuisance_genes__not_dissociation__sourmash_signature_split/233f7e78.k=78.scaled=10.dayhoff.dup=0.vertebrate_mammalian_concatenated.faa__nuisance_genes.fasta.sig\n",
      "\u001b[Kwriting sig to /home/olga/data_lg/czbiohub-reference/ncbi/refseq/releases/refseq-release98-2020-02-06/vertebrate_mammalian/nuisance_genes__not_dissociation__sourmash_signature_split/f40d218b.k=78.scaled=10.hp.dup=0.vertebrate_mammalian_concatenated.faa__nuisance_genes.fasta.sig\n",
      "\u001b[Kwriting sig to /home/olga/data_lg/czbiohub-reference/ncbi/refseq/releases/refseq-release98-2020-02-06/vertebrate_mammalian/nuisance_genes__not_dissociation__sourmash_signature_split/05663400.k=81.scaled=10.protein.dup=0.vertebrate_mammalian_concatenated.faa__nuisance_genes.fasta.sig\n",
      "\u001b[Kwriting sig to /home/olga/data_lg/czbiohub-reference/ncbi/refseq/releases/refseq-release98-2020-02-06/vertebrate_mammalian/nuisance_genes__not_dissociation__sourmash_signature_split/7f2b004f.k=81.scaled=10.dayhoff.dup=0.vertebrate_mammalian_concatenated.faa__nuisance_genes.fasta.sig\n",
      "\u001b[Kwriting sig to /home/olga/data_lg/czbiohub-reference/ncbi/refseq/releases/refseq-release98-2020-02-06/vertebrate_mammalian/nuisance_genes__not_dissociation__sourmash_signature_split/f9771283.k=81.scaled=10.hp.dup=0.vertebrate_mammalian_concatenated.faa__nuisance_genes.fasta.sig\n",
      "\u001b[Kwriting sig to /home/olga/data_lg/czbiohub-reference/ncbi/refseq/releases/refseq-release98-2020-02-06/vertebrate_mammalian/nuisance_genes__not_dissociation__sourmash_signature_split/1c10cb8c.k=84.scaled=10.protein.dup=0.vertebrate_mammalian_concatenated.faa__nuisance_genes.fasta.sig\n",
      "\u001b[Kwriting sig to /home/olga/data_lg/czbiohub-reference/ncbi/refseq/releases/refseq-release98-2020-02-06/vertebrate_mammalian/nuisance_genes__not_dissociation__sourmash_signature_split/c3b95379.k=84.scaled=10.dayhoff.dup=0.vertebrate_mammalian_concatenated.faa__nuisance_genes.fasta.sig\n",
      "\u001b[Kwriting sig to /home/olga/data_lg/czbiohub-reference/ncbi/refseq/releases/refseq-release98-2020-02-06/vertebrate_mammalian/nuisance_genes__not_dissociation__sourmash_signature_split/d3b7014b.k=84.scaled=10.hp.dup=0.vertebrate_mammalian_concatenated.faa__nuisance_genes.fasta.sig\n",
      "\u001b[Kwriting sig to /home/olga/data_lg/czbiohub-reference/ncbi/refseq/releases/refseq-release98-2020-02-06/vertebrate_mammalian/nuisance_genes__not_dissociation__sourmash_signature_split/4bc6ea60.k=87.scaled=10.protein.dup=0.vertebrate_mammalian_concatenated.faa__nuisance_genes.fasta.sig\n",
      "\u001b[Kwriting sig to /home/olga/data_lg/czbiohub-reference/ncbi/refseq/releases/refseq-release98-2020-02-06/vertebrate_mammalian/nuisance_genes__not_dissociation__sourmash_signature_split/89218dc1.k=87.scaled=10.dayhoff.dup=0.vertebrate_mammalian_concatenated.faa__nuisance_genes.fasta.sig\n",
      "\u001b[Kwriting sig to /home/olga/data_lg/czbiohub-reference/ncbi/refseq/releases/refseq-release98-2020-02-06/vertebrate_mammalian/nuisance_genes__not_dissociation__sourmash_signature_split/c26ccc8b.k=87.scaled=10.hp.dup=0.vertebrate_mammalian_concatenated.faa__nuisance_genes.fasta.sig\n",
      "\u001b[Kwriting sig to /home/olga/data_lg/czbiohub-reference/ncbi/refseq/releases/refseq-release98-2020-02-06/vertebrate_mammalian/nuisance_genes__not_dissociation__sourmash_signature_split/4333bcb0.k=90.scaled=10.protein.dup=0.vertebrate_mammalian_concatenated.faa__nuisance_genes.fasta.sig\n",
      "\u001b[Kwriting sig to /home/olga/data_lg/czbiohub-reference/ncbi/refseq/releases/refseq-release98-2020-02-06/vertebrate_mammalian/nuisance_genes__not_dissociation__sourmash_signature_split/0443b273.k=90.scaled=10.dayhoff.dup=0.vertebrate_mammalian_concatenated.faa__nuisance_genes.fasta.sig\n",
      "\u001b[Kwriting sig to /home/olga/data_lg/czbiohub-reference/ncbi/refseq/releases/refseq-release98-2020-02-06/vertebrate_mammalian/nuisance_genes__not_dissociation__sourmash_signature_split/66754a54.k=90.scaled=10.hp.dup=0.vertebrate_mammalian_concatenated.faa__nuisance_genes.fasta.sig\n",
      "\u001b[K<<<tebrate_mammalian/vertebrate_mammalian_concatenated.faa__nuisance_genes.sig'\n",
      "\u001b[Kloaded and split 72 signatures total.data_lg/czbiohub-reference/ncbi/refseq/releases/refseq-release98-2020-02-06/vertebrate_mammalian/vertebrate_mammalian_concatenated.faa__nuisance_genes.sig...\n"
     ]
    }
   ],
   "source": [
    "! /home/olga/miniconda3/envs/immune-evolution/bin/sourmash sig split --outdir $nuisance_split_sig_dir $nuisance_protein_fasta_sig"
   ]
  },
  {
   "cell_type": "code",
   "execution_count": 65,
   "metadata": {},
   "outputs": [
    {
     "name": "stdout",
     "output_type": "stream",
     "text": [
      "total 1.9G\n",
      "drwxr-xr-x  2 olga czb  16K Jan 28 12:19  \u001b[0m\u001b[01;34m.\u001b[0m/\n",
      "drwxrwxr-x 10 olga czb  32K Jan 28 12:17  \u001b[01;34m..\u001b[0m/\n",
      "-rw-r--r--  1 olga czb  39M Jan 28 12:19 '0443b273.k=90.scaled=10.dayhoff.dup=0.vertebrate_mammalian_concatenated.faa__nuisance_genes.fasta.sig'\n",
      "-rw-r--r--  1 olga czb  22M Jan 28 12:19 '0463531a.k=75.scaled=10.hp.dup=0.vertebrate_mammalian_concatenated.faa__nuisance_genes.fasta.sig'\n",
      "-rw-r--r--  1 olga czb  56M Jan 28 12:19 '05663400.k=81.scaled=10.protein.dup=0.vertebrate_mammalian_concatenated.faa__nuisance_genes.fasta.sig'\n",
      "-rw-r--r--  1 olga czb  34M Jan 28 12:19 '05cb4c8a.k=69.scaled=10.dayhoff.dup=0.vertebrate_mammalian_concatenated.faa__nuisance_genes.fasta.sig'\n",
      "-rw-r--r--  1 olga czb  15M Jan 28 12:19 '0d8154e9.k=33.scaled=10.dayhoff.dup=0.vertebrate_mammalian_concatenated.faa__nuisance_genes.fasta.sig'\n",
      "-rw-r--r--  1 olga czb  28M Jan 28 12:19 '0ddcc6c8.k=51.scaled=10.dayhoff.dup=0.vertebrate_mammalian_concatenated.faa__nuisance_genes.fasta.sig'\n",
      "-rw-r--r--  1 olga czb  13K Jan 28 12:19 '16e215a2.k=27.scaled=10.hp.dup=0.vertebrate_mammalian_concatenated.faa__nuisance_genes.fasta.sig'\n",
      "-rw-r--r--  1 olga czb  18M Jan 28 12:19 '1b48ae9d.k=72.scaled=10.hp.dup=0.vertebrate_mammalian_concatenated.faa__nuisance_genes.fasta.sig'\n",
      "-rw-r--r--  1 olga czb  57M Jan 28 12:19 '1c10cb8c.k=84.scaled=10.protein.dup=0.vertebrate_mammalian_concatenated.faa__nuisance_genes.fasta.sig'\n",
      "-rw-r--r--  1 olga czb  52M Jan 28 12:19 '1c30e37e.k=69.scaled=10.protein.dup=0.vertebrate_mammalian_concatenated.faa__nuisance_genes.fasta.sig'\n",
      "-rw-r--r--  1 olga czb  34M Jan 28 12:19 '1e17f40b.k=33.scaled=10.protein.dup=0.vertebrate_mammalian_concatenated.faa__nuisance_genes.fasta.sig'\n",
      "-rw-r--r--  1 olga czb  25K Jan 28 12:19 '1fe59106.k=30.scaled=10.hp.dup=0.vertebrate_mammalian_concatenated.faa__nuisance_genes.fasta.sig'\n",
      "-rw-r--r--  1 olga czb  36M Jan 28 12:19 '233f7e78.k=78.scaled=10.dayhoff.dup=0.vertebrate_mammalian_concatenated.faa__nuisance_genes.fasta.sig'\n",
      "-rw-r--r--  1 olga czb 1.5M Jan 28 12:19 '24a3624a.k=57.scaled=10.hp.dup=0.vertebrate_mammalian_concatenated.faa__nuisance_genes.fasta.sig'\n",
      "-rw-r--r--  1 olga czb  32M Jan 28 12:19 '28d1bb14.k=63.scaled=10.dayhoff.dup=0.vertebrate_mammalian_concatenated.faa__nuisance_genes.fasta.sig'\n",
      "-rw-r--r--  1 olga czb 7.9M Jan 28 12:19 '2a55d526.k=66.scaled=10.hp.dup=0.vertebrate_mammalian_concatenated.faa__nuisance_genes.fasta.sig'\n",
      "-rw-r--r--  1 olga czb  46M Jan 28 12:19 '2b34d194.k=54.scaled=10.protein.dup=0.vertebrate_mammalian_concatenated.faa__nuisance_genes.fasta.sig'\n",
      "-rw-r--r--  1 olga czb 2.5M Jan 28 12:19 '2b766cbc.k=60.scaled=10.hp.dup=0.vertebrate_mammalian_concatenated.faa__nuisance_genes.fasta.sig'\n",
      "-rw-r--r--  1 olga czb  30M Jan 28 12:19 '339f174b.k=57.scaled=10.dayhoff.dup=0.vertebrate_mammalian_concatenated.faa__nuisance_genes.fasta.sig'\n",
      "-rw-r--r--  1 olga czb 4.8M Jan 28 12:19 '34690a57.k=27.scaled=10.dayhoff.dup=0.vertebrate_mammalian_concatenated.faa__nuisance_genes.fasta.sig'\n",
      "-rw-r--r--  1 olga czb 1.8M Jan 28 12:19 '3f59d1c9.k=24.scaled=10.dayhoff.dup=0.vertebrate_mammalian_concatenated.faa__nuisance_genes.fasta.sig'\n",
      "-rw-r--r--  1 olga czb  53M Jan 28 12:19 '40e3936a.k=72.scaled=10.protein.dup=0.vertebrate_mammalian_concatenated.faa__nuisance_genes.fasta.sig'\n",
      "-rw-r--r--  1 olga czb  59M Jan 28 12:19 '4333bcb0.k=90.scaled=10.protein.dup=0.vertebrate_mammalian_concatenated.faa__nuisance_genes.fasta.sig'\n",
      "-rw-r--r--  1 olga czb  58M Jan 28 12:19 '4bc6ea60.k=87.scaled=10.protein.dup=0.vertebrate_mammalian_concatenated.faa__nuisance_genes.fasta.sig'\n",
      "-rw-r--r--  1 olga czb  33M Jan 28 12:19 '4e596c1e.k=66.scaled=10.dayhoff.dup=0.vertebrate_mammalian_concatenated.faa__nuisance_genes.fasta.sig'\n",
      "-rw-r--r--  1 olga czb 3.5K Jan 28 12:19 '53cf4cb2.k=21.scaled=10.hp.dup=0.vertebrate_mammalian_concatenated.faa__nuisance_genes.fasta.sig'\n",
      "-rw-r--r--  1 olga czb  55M Jan 28 12:19 '55119993.k=78.scaled=10.protein.dup=0.vertebrate_mammalian_concatenated.faa__nuisance_genes.fasta.sig'\n",
      "-rw-r--r--  1 olga czb  35M Jan 28 12:19 '5bae0c19.k=75.scaled=10.dayhoff.dup=0.vertebrate_mammalian_concatenated.faa__nuisance_genes.fasta.sig'\n",
      "-rw-r--r--  1 olga czb  24M Jan 28 12:19 '648defe6.k=21.scaled=10.protein.dup=0.vertebrate_mammalian_concatenated.faa__nuisance_genes.fasta.sig'\n",
      "-rw-r--r--  1 olga czb  30M Jan 28 12:19 '652d2917.k=27.scaled=10.protein.dup=0.vertebrate_mammalian_concatenated.faa__nuisance_genes.fasta.sig'\n",
      "-rw-r--r--  1 olga czb  30M Jan 28 12:19 '66754a54.k=90.scaled=10.hp.dup=0.vertebrate_mammalian_concatenated.faa__nuisance_genes.fasta.sig'\n",
      "-rw-r--r--  1 olga czb  81K Jan 28 12:19 '668f2653.k=36.scaled=10.hp.dup=0.vertebrate_mammalian_concatenated.faa__nuisance_genes.fasta.sig'\n",
      "-rw-r--r--  1 olga czb  29M Jan 28 12:19 '669d3906.k=54.scaled=10.dayhoff.dup=0.vertebrate_mammalian_concatenated.faa__nuisance_genes.fasta.sig'\n",
      "-rw-r--r--  1 olga czb  47M Jan 28 12:19 '66fa7257.k=57.scaled=10.protein.dup=0.vertebrate_mammalian_concatenated.faa__nuisance_genes.fasta.sig'\n",
      "-rw-r--r--  1 olga czb 959K Jan 28 12:19 '727afc68.k=54.scaled=10.hp.dup=0.vertebrate_mammalian_concatenated.faa__nuisance_genes.fasta.sig'\n",
      "-rw-r--r--  1 olga czb  31M Jan 28 12:19 '79707dd5.k=60.scaled=10.dayhoff.dup=0.vertebrate_mammalian_concatenated.faa__nuisance_genes.fasta.sig'\n",
      "-rw-r--r--  1 olga czb  37M Jan 28 12:19 '7f2b004f.k=81.scaled=10.dayhoff.dup=0.vertebrate_mammalian_concatenated.faa__nuisance_genes.fasta.sig'\n",
      "-rw-r--r--  1 olga czb  44M Jan 28 12:19 '8512361b.k=51.scaled=10.protein.dup=0.vertebrate_mammalian_concatenated.faa__nuisance_genes.fasta.sig'\n",
      "-rw-r--r--  1 olga czb  38M Jan 28 12:19 '89218dc1.k=87.scaled=10.dayhoff.dup=0.vertebrate_mammalian_concatenated.faa__nuisance_genes.fasta.sig'\n",
      "-rw-r--r--  1 olga czb  41M Jan 28 12:19 '8a9eaa9e.k=45.scaled=10.protein.dup=0.vertebrate_mammalian_concatenated.faa__nuisance_genes.fasta.sig'\n",
      "-rw-r--r--  1 olga czb  13M Jan 28 12:19 '8aaf4724.k=69.scaled=10.hp.dup=0.vertebrate_mammalian_concatenated.faa__nuisance_genes.fasta.sig'\n",
      "-rw-r--r--  1 olga czb 146K Jan 28 12:19 '8b6b30d9.k=39.scaled=10.hp.dup=0.vertebrate_mammalian_concatenated.faa__nuisance_genes.fasta.sig'\n",
      "-rw-r--r--  1 olga czb  50M Jan 28 12:19 '8f22a73f.k=63.scaled=10.protein.dup=0.vertebrate_mammalian_concatenated.faa__nuisance_genes.fasta.sig'\n",
      "-rw-r--r--  1 olga czb  19M Jan 28 12:19 '90900c35.k=36.scaled=10.dayhoff.dup=0.vertebrate_mammalian_concatenated.faa__nuisance_genes.fasta.sig'\n",
      "-rw-r--r--  1 olga czb  27M Jan 28 12:19 '9365d746.k=24.scaled=10.protein.dup=0.vertebrate_mammalian_concatenated.faa__nuisance_genes.fasta.sig'\n",
      "-rw-r--r--  1 olga czb  36M Jan 28 12:19 '986b14d5.k=36.scaled=10.protein.dup=0.vertebrate_mammalian_concatenated.faa__nuisance_genes.fasta.sig'\n",
      "-rw-r--r--  1 olga czb 654K Jan 28 12:19 'a6231128.k=51.scaled=10.hp.dup=0.vertebrate_mammalian_concatenated.faa__nuisance_genes.fasta.sig'\n",
      "-rw-r--r--  1 olga czb  24M Jan 28 12:19 'a6a550d6.k=42.scaled=10.dayhoff.dup=0.vertebrate_mammalian_concatenated.faa__nuisance_genes.fasta.sig'\n",
      "-rw-r--r--  1 olga czb  48M Jan 28 12:19 'a9f6795b.k=60.scaled=10.protein.dup=0.vertebrate_mammalian_concatenated.faa__nuisance_genes.fasta.sig'\n",
      "-rw-r--r--  1 olga czb  38M Jan 28 12:19 'b1deef11.k=39.scaled=10.protein.dup=0.vertebrate_mammalian_concatenated.faa__nuisance_genes.fasta.sig'\n",
      "-rw-r--r--  1 olga czb 6.5K Jan 28 12:19 'b6345998.k=24.scaled=10.hp.dup=0.vertebrate_mammalian_concatenated.faa__nuisance_genes.fasta.sig'\n",
      "-rw-r--r--  1 olga czb  54M Jan 28 12:19 'b81dcfdc.k=75.scaled=10.protein.dup=0.vertebrate_mammalian_concatenated.faa__nuisance_genes.fasta.sig'\n",
      "-rw-r--r--  1 olga czb 346K Jan 28 12:19 'b96d109f.k=45.scaled=10.hp.dup=0.vertebrate_mammalian_concatenated.faa__nuisance_genes.fasta.sig'\n",
      "-rw-r--r--  1 olga czb  25M Jan 28 12:19 'badd91e0.k=45.scaled=10.dayhoff.dup=0.vertebrate_mammalian_concatenated.faa__nuisance_genes.fasta.sig'\n",
      "-rw-r--r--  1 olga czb 483K Jan 28 12:19 'c21d7930.k=48.scaled=10.hp.dup=0.vertebrate_mammalian_concatenated.faa__nuisance_genes.fasta.sig'\n",
      "-rw-r--r--  1 olga czb 4.4M Jan 28 12:19 'c26aae90.k=63.scaled=10.hp.dup=0.vertebrate_mammalian_concatenated.faa__nuisance_genes.fasta.sig'\n",
      "-rw-r--r--  1 olga czb  29M Jan 28 12:19 'c26ccc8b.k=87.scaled=10.hp.dup=0.vertebrate_mammalian_concatenated.faa__nuisance_genes.fasta.sig'\n",
      "-rw-r--r--  1 olga czb  38M Jan 28 12:19 'c3b95379.k=84.scaled=10.dayhoff.dup=0.vertebrate_mammalian_concatenated.faa__nuisance_genes.fasta.sig'\n",
      "-rw-r--r--  1 olga czb  22M Jan 28 12:19 'cbc8d89e.k=39.scaled=10.dayhoff.dup=0.vertebrate_mammalian_concatenated.faa__nuisance_genes.fasta.sig'\n",
      "-rw-r--r--  1 olga czb  51M Jan 28 12:19 'cc389dca.k=66.scaled=10.protein.dup=0.vertebrate_mammalian_concatenated.faa__nuisance_genes.fasta.sig'\n",
      "-rw-r--r--  1 olga czb  43K Jan 28 12:19 'd19417e2.k=33.scaled=10.hp.dup=0.vertebrate_mammalian_concatenated.faa__nuisance_genes.fasta.sig'\n",
      "-rw-r--r--  1 olga czb  28M Jan 28 12:19 'd3b7014b.k=84.scaled=10.hp.dup=0.vertebrate_mammalian_concatenated.faa__nuisance_genes.fasta.sig'\n",
      "-rw-r--r--  1 olga czb  27M Jan 28 12:19 'e7d87ef5.k=48.scaled=10.dayhoff.dup=0.vertebrate_mammalian_concatenated.faa__nuisance_genes.fasta.sig'\n",
      "-rw-r--r--  1 olga czb  39M Jan 28 12:19 'f2616566.k=42.scaled=10.protein.dup=0.vertebrate_mammalian_concatenated.faa__nuisance_genes.fasta.sig'\n",
      "-rw-r--r--  1 olga czb  32M Jan 28 12:19 'f282771b.k=30.scaled=10.protein.dup=0.vertebrate_mammalian_concatenated.faa__nuisance_genes.fasta.sig'\n",
      "-rw-r--r--  1 olga czb  34M Jan 28 12:19 'f38122d9.k=72.scaled=10.dayhoff.dup=0.vertebrate_mammalian_concatenated.faa__nuisance_genes.fasta.sig'\n",
      "-rw-r--r--  1 olga czb  24M Jan 28 12:19 'f40d218b.k=78.scaled=10.hp.dup=0.vertebrate_mammalian_concatenated.faa__nuisance_genes.fasta.sig'\n",
      "-rw-r--r--  1 olga czb 241K Jan 28 12:19 'f7f4475c.k=42.scaled=10.hp.dup=0.vertebrate_mammalian_concatenated.faa__nuisance_genes.fasta.sig'\n",
      "-rw-r--r--  1 olga czb  26M Jan 28 12:19 'f9771283.k=81.scaled=10.hp.dup=0.vertebrate_mammalian_concatenated.faa__nuisance_genes.fasta.sig'\n",
      "-rw-r--r--  1 olga czb  43M Jan 28 12:19 'fa11b3c8.k=48.scaled=10.protein.dup=0.vertebrate_mammalian_concatenated.faa__nuisance_genes.fasta.sig'\n",
      "-rw-r--r--  1 olga czb 9.5M Jan 28 12:19 'fba511e4.k=30.scaled=10.dayhoff.dup=0.vertebrate_mammalian_concatenated.faa__nuisance_genes.fasta.sig'\n",
      "-rw-r--r--  1 olga czb 541K Jan 28 12:19 'fdde4669.k=21.scaled=10.dayhoff.dup=0.vertebrate_mammalian_concatenated.faa__nuisance_genes.fasta.sig'\n"
     ]
    }
   ],
   "source": [
    "ls -lha $nuisance_split_sig_dir"
   ]
  },
  {
   "cell_type": "markdown",
   "metadata": {},
   "source": [
    "## Use catted protein fasta"
   ]
  },
  {
   "cell_type": "code",
   "execution_count": null,
   "metadata": {},
   "outputs": [
    {
     "name": "stdout",
     "output_type": "stream",
     "text": [
      "\u001b[K\n",
      "== This is sourmash version 3.5.0. ==\n",
      "\u001b[K== Please cite Brown and Irber (2016), doi:10.21105/joss.00027. ==\n",
      "\n",
      "\u001b[Ksetting num_hashes to 0 because --scaled is set\n",
      "\u001b[Kcomputing signatures for files: /home/olga/data_lg/data_sm_copy/immune-evolution/databases/nuisance-genes/mouse-human-refseq-vertebrate-mammalian__dissociation3Nov2020__ribosomal__mitochondrial__nuisance__protein.fasta\n",
      "\u001b[KComputing signature for ksizes: [21, 24, 27, 30, 33, 36, 39, 42, 45, 48, 51, 54, 57, 60, 63, 66, 69, 72, 75, 78, 81, 84, 87, 90]\n",
      "\u001b[KComputing only protein (and not nucleotide) signatures.\n",
      "\u001b[KComputing a total of 24 signature(s).\n",
      "\u001b[K... reading sequences from /home/olga/data_lg/data_sm_copy/immune-evolution/databases/nuisance-genes/mouse-human-refseq-vertebrate-mammalian__dissociation3Nov2020__ribosomal__mitochondrial__nuisance__protein.fasta\n",
      "... /home/olga/data_lg/data_sm_copy/immune-evolution/databases/nuisance-genes/mouse-human-refseq-vertebrate-mammalian__dissociation3Nov2020__ribosomal__mitochondrial__nuisance__protein.fasta 1810000"
     ]
    }
   ],
   "source": [
    "%%time\n",
    "\n",
    "catted_protein_fasta_sig = catted_protein_fasta.replace('.fasta', '.sig')\n",
    "! /home/olga/miniconda3/envs/immune-evolution/bin/sourmash compute \\\n",
    "    --protein --dayhoff --hydrophobic-polar --input-is-protein --no-dna \\\n",
    "    -k $ksizes_str \\\n",
    "    -o $catted_protein_fasta_sig \\\n",
    "    --merge 'human-mouse-refseq-mammals_dissociation_genes' \\\n",
    "    --scaled 10 \\\n",
    "    $catted_protein_fasta "
   ]
  },
  {
   "cell_type": "code",
   "execution_count": 12,
   "metadata": {},
   "outputs": [
    {
     "name": "stdout",
     "output_type": "stream",
     "text": [
      "\u001b[K\n",
      "== This is sourmash version 3.5.0. ==\n",
      "\u001b[K== Please cite Brown and Irber (2016), doi:10.21105/joss.00027. ==\n",
      "\n",
      "Manipulate signature files:\n",
      "  Operations\n",
      "          sourmash sig cat --help           concatenate signature files\n",
      "          sourmash sig describe --help      show details of signature\n",
      "          sourmash sig downsample --help    downsample one or more signatures\n",
      "          sourmash sig export --help        export a signature, e.g. to mash\n",
      "          sourmash sig extract --help       extract one or more signatures\n",
      "          sourmash sig filter --help        filter k-mers on abundance\n",
      "          sourmash sig flatten --help       remove abundances\n",
      "          sourmash sig ingest --help        import a mash or other signature\n",
      "          sourmash sig intersect --help     intersect one or more signatures\n",
      "          sourmash sig merge --help         merge one or more signatures\n",
      "          sourmash sig overlap --help       see detailed comparison of signatures\n",
      "          sourmash sig rename --help        rename signature\n",
      "          sourmash sig split --help         concatenate signature files\n",
      "          sourmash sig subtract --help      subtract one or more signatures\n",
      "\n",
      "Options:\n",
      "  -h, --help  show this help message and exit\n"
     ]
    }
   ],
   "source": [
    "! /home/olga/miniconda3/envs/immune-evolution/bin/sourmash sig --help"
   ]
  },
  {
   "cell_type": "code",
   "execution_count": 15,
   "metadata": {},
   "outputs": [
    {
     "data": {
      "text/plain": [
       "'/home/olga/data_lg/czbiohub-reference/ncbi/refseq/releases/refseq-release98-2020-02-06/vertebrate_mammalian'"
      ]
     },
     "execution_count": 15,
     "metadata": {},
     "output_type": "execute_result"
    }
   ],
   "source": [
    "vertebrate_mammalian_dir"
   ]
  },
  {
   "cell_type": "code",
   "execution_count": 18,
   "metadata": {},
   "outputs": [
    {
     "name": "stdout",
     "output_type": "stream",
     "text": [
      "mkdir: cannot create directory ‘/home/olga/data_lg/czbiohub-reference/ncbi/refseq/releases/refseq-release98-2020-02-06/vertebrate_mammalian/sourmash_signature_split’: File exists\n"
     ]
    }
   ],
   "source": [
    "split_sig_dir = os.path.join(vertebrate_mammalian_dir, 'sourmash_signature_split')\n",
    "!mkdir $split_sig_dir"
   ]
  },
  {
   "cell_type": "code",
   "execution_count": 20,
   "metadata": {},
   "outputs": [
    {
     "name": "stdout",
     "output_type": "stream",
     "text": [
      "\u001b[K\n",
      "== This is sourmash version 3.5.0. ==\n",
      "\u001b[K== Please cite Brown and Irber (2016), doi:10.21105/joss.00027. ==\n",
      "\n",
      "usage:  split [-h] [-q] [--outdir OUTDIR] signatures [signatures ...]\n",
      "\n",
      "positional arguments:\n",
      "  signatures\n",
      "\n",
      "optional arguments:\n",
      "  -h, --help       show this help message and exit\n",
      "  -q, --quiet      suppress non-error output\n",
      "  --outdir OUTDIR  output signatures to this directory\n"
     ]
    }
   ],
   "source": [
    "! /home/olga/miniconda3/envs/immune-evolution/bin/sourmash sig split --help"
   ]
  },
  {
   "cell_type": "code",
   "execution_count": null,
   "metadata": {},
   "outputs": [
    {
     "name": "stdout",
     "output_type": "stream",
     "text": [
      "\u001b[K\n",
      "== This is sourmash version 3.5.0. ==\n",
      "\u001b[K== Please cite Brown and Irber (2016), doi:10.21105/joss.00027. ==\n",
      "\n",
      "\u001b[Ksetting num_hashes to 0 because --scaled is set\n",
      "\u001b[Kcomputing signatures for files: /home/olga/data_lg/data_sm_copy/immune-evolution/databases/nuisance-genes/mouse-human__dissociation3Nov2020__ribosomal__mitochondrial__protein.fasta\n",
      "\u001b[KComputing signature for ksizes: [21, 24, 27, 30, 33, 36, 39, 42, 45, 48, 51, 54, 57, 60, 63, 66, 69, 72, 75, 78, 81, 84, 87, 90]\n",
      "\u001b[KComputing only protein (and not nucleotide) signatures.\n",
      "\u001b[KComputing a total of 24 signature(s).\n",
      "\u001b[K... reading sequences from /home/olga/data_lg/data_sm_copy/immune-evolution/databases/nuisance-genes/mouse-human__dissociation3Nov2020__ribosomal__mitochondrial__protein.fasta\n",
      "\u001b[Kcalculated 1 signatures for 15937 sequences in /home/olga/data_lg/data_sm_copy/immune-evolution/databases/nuisance-genes/mouse-human__dissociation3Nov2020__ribosomal__mitochondrial__protein.fasta\n",
      "\u001b[Ksaved signature(s) to /home/olga/data_lg/data_sm_copy/immune-evolution/databases/nuisance-genes/mouse-human__dissociation3Nov2020__ribosomal__mitochondrial__protein.sig. Note: signature license is CC0.\n"
     ]
    }
   ],
   "source": [
    "catted_protein_fasta = '/home/olga/data_lg/data_sm_copy/immune-evolution/databases/nuisance-genes/mouse-human__dissociation3Nov2020__ribosomal__mitochondrial__protein.fasta'\n",
    "catted_protein_fasta_sig = catted_protein_fasta.replace('.fasta', '.sig')\n",
    "! /home/olga/miniconda3/envs/immune-evolution/bin/sourmash \\\n",
    "    compute \\\n",
    "    --protein --dayhoff --hp --input-is-protein --no-dna \\\n",
    "    -k $ksizes_str \\\n",
    "    -o $catted_protein_fasta_sig \\\n",
    "    --scaled 10 \\\n",
    "    $catted_protein_fasta "
    "! /home/olga/miniconda3/envs/immune-evolution/bin/sourmash sig split --outdir $split_sig_dir $catted_protein_fasta_sig"
   ]
  },
  {
   "cell_type": "code",
   "execution_count": 10,
   "metadata": {},
   "outputs": [
    {
     "name": "stdout",
     "output_type": "stream",
     "text": [
      "-rw-r--r-- 1 olga czb 31G Jan 27 06:43 /home/olga/data_lg/data_sm_copy/immune-evolution/databases/nuisance-genes/mouse-human-refseq-vertebrate-mammalian__dissociation3Nov2020__ribosomal__mitochondrial__nuisance__protein.sig\n"
     ]
    }
   ],
   "source": [
    "ls -lha $catted_protein_fasta_sig"
   ]
  },
  {
   "cell_type": "markdown",
   "metadata": {},
   "source": [
    "# Make DNA signatures of dissociation and mitochondrial genes"
   ]
  },
  {
   "cell_type": "code",
   "execution_count": null,
   "metadata": {},
   "outputs": [],
   "source": []
  },
  {
   "cell_type": "markdown",
   "metadata": {},
   "source": [
    "## Iterate over trancript fastas and dissociation genes"
   ]
  },
  {
   "cell_type": "code",
   "execution_count": 29,
   "metadata": {},
   "outputs": [
    {
     "name": "stdout",
     "output_type": "stream",
     "text": [
      "16542 /home/olga/data_lg/czbiohub-reference/gencode/mouse/vM21/gencode.vM21.transcripts__dissociation_genes.fasta\n",
      "8271\n",
      "2486 /home/olga/data_lg/czbiohub-reference/gencode/mouse/vM21/gencode.vM21.transcripts__ribosomal_genes.fasta\n",
      "1243\n",
      "28332 /home/olga/data_lg/czbiohub-reference/gencode/human/v30/gencode.v30.transcripts__dissociation_genes.fasta\n",
      "14166\n",
      "5364 /home/olga/data_lg/czbiohub-reference/gencode/human/v30/gencode.v30.transcripts__ribosomal_genes.fasta\n",
      "2682\n"
     ]
    }
   ],
   "source": [
    "human_transcript_fasta = '/home/olga/data_lg/czbiohub-reference/gencode/human/v30/gencode.v30.transcripts.fa'\n",
    "mouse_transcript_fasta = '/home/olga/data_lg/czbiohub-reference/gencode/mouse/vM21/gencode.vM21.transcripts.fa'\n",
    "\n",
    "transcript_fastas = {'mouse': mouse_transcript_fasta, 'human': human_transcript_fasta}\n",
    "\n",
    "genetype_kwargs = {\n",
    "    'mitochondrial': {\n",
    "        'mouse': dict(regex='mt-\\w+'), 'human': dict(regex='MT-\\w+')\n",
    "    },\n",
    "    'dissociation': {\n",
    "        'mouse': dict(\n",
    "            gene_names=mouse_dissociation_gene_names, \n",
    "            gene_ids=mouse_dissociation_protein_ids,\n",
    "            seqtype='transcript'\n",
    "        ), \n",
    "        'human': dict(gene_names=dissociation_genes, seqtype='transcript')\n",
    "    },\n",
    "    'ribosomal': {\n",
    "        # Flags to re.findall ignore case so we can use the same regex for both\n",
    "        'mouse': dict(regex='M*RP[LS]\\d+[[\\w\\d-]*]?', ),\n",
    "        # e.g. RPL14, RPS24, RPL3L2\n",
    "        'human': dict(regex='M*RP[LS]\\d+[[\\w\\d-]*]?')\n",
    "    }\n",
    "}\n",
    "\n",
    "filtered_fastas = []\n",
    "for (species, transcript_fasta), (genetype, kwarg_dict) in itertools.product(transcript_fastas.items(), genetype_kwargs.items()):\n",
    "    filtered_fasta = transcript_fasta.replace('.fa', f'__{genetype}_genes.fasta')\n",
    "    filtered_fastas.append(filtered_fasta)\n",
    "\n",
    "    if genetype == 'mitochondrial':\n",
    "        continue\n",
    "\n",
    "    kwargs = kwarg_dict[species]\n",
    "    filter_fasta_with_regex(transcript_fasta, filtered_fasta, **kwargs)\n",
    "    ! wc -l $filtered_fasta\n",
    "    ! grep -c '>' $filtered_fasta"
   ]
  },
  {
   "cell_type": "markdown",
   "metadata": {},
   "source": [
    "## Concatenate all the fastas together"
   ]
  },
  {
   "cell_type": "code",
   "execution_count": 31,
   "metadata": {},
   "outputs": [],
   "source": [
    "catted_dissociation_with_mitochondrial_nucleotide_fasta = '/home/olga/data_lg/data_sm_copy/immune-evolution/databases/nuisance-genes/mouse-human__dissociation3Nov2020__ribosomal__mitochondrial__nucleotide.fasta'"
   ]
  },
  {
   "cell_type": "code",
   "execution_count": 37,
   "metadata": {},
   "outputs": [
    {
     "data": {
      "text/plain": [
       "['/home/olga/data_lg/czbiohub-reference/gencode/mouse/vM21/gencode.vM21.transcripts__mitochondrial_genes.fasta',\n",
       " '/home/olga/data_lg/czbiohub-reference/gencode/mouse/vM21/gencode.vM21.transcripts__dissociation_genes.fasta',\n",
       " '/home/olga/data_lg/czbiohub-reference/gencode/mouse/vM21/gencode.vM21.transcripts__ribosomal_genes.fasta',\n",
       " '/home/olga/data_lg/czbiohub-reference/gencode/human/v30/gencode.v30.transcripts__mitochondrial_genes.fasta',\n",
       " '/home/olga/data_lg/czbiohub-reference/gencode/human/v30/gencode.v30.transcripts__dissociation_genes.fasta',\n",
       " '/home/olga/data_lg/czbiohub-reference/gencode/human/v30/gencode.v30.transcripts__ribosomal_genes.fasta']"
      ]
     },
     "execution_count": 37,
     "metadata": {},
     "output_type": "execute_result"
    }
   ],
   "source": [
    "filtered_fastas"
   ]
  },
  {
   "cell_type": "code",
   "execution_count": 36,
   "metadata": {},
   "outputs": [
    {
     "data": {
      "text/plain": [
       "'/home/olga/data_lg/czbiohub-reference/gencode/mouse/vM21/gencode.vM21.transcripts__mitochondrial_genes.fasta /home/olga/data_lg/czbiohub-reference/gencode/mouse/vM21/gencode.vM21.transcripts__dissociation_genes.fasta /home/olga/data_lg/czbiohub-reference/gencode/mouse/vM21/gencode.vM21.transcripts__ribosomal_genes.fasta /home/olga/data_lg/czbiohub-reference/gencode/human/v30/gencode.v30.transcripts__mitochondrial_genes.fasta /home/olga/data_lg/czbiohub-reference/gencode/human/v30/gencode.v30.transcripts__dissociation_genes.fasta /home/olga/data_lg/czbiohub-reference/gencode/human/v30/gencode.v30.transcripts__ribosomal_genes.fasta'"
      ]
     },
     "execution_count": 36,
     "metadata": {},
     "output_type": "execute_result"
    }
   ],
   "source": [
    "fastas_to_cat"
   ]
  },
  {
   "cell_type": "code",
   "execution_count": 33,
   "metadata": {},
   "outputs": [],
   "source": [
    "fastas_to_cat = ' '.join(filtered_fastas)\n",
    "! cat $fastas_to_cat > $catted_dissociation_with_mitochondrial_nucleotide_fasta"
   ]
  },
  {
   "cell_type": "code",
   "execution_count": 35,
   "metadata": {},
   "outputs": [
    {
     "name": "stdout",
     "output_type": "stream",
     "text": [
      "53664 /home/olga/data_lg/data_sm_copy/immune-evolution/databases/nuisance-genes/mouse-human__dissociation3Nov2020__ribosomal__mitochondrial__nucleotide.fasta\n"
     ]
    }
   ],
   "source": [
    "! wc -l $catted_dissociation_with_mitochondrial_nucleotide_fasta"
   ]
  },
  {
   "cell_type": "markdown",
   "metadata": {},
   "source": [
    "## Build DNA signatures"
   ]
  },
  {
   "cell_type": "code",
   "execution_count": 34,
   "metadata": {},
   "outputs": [
    {
     "name": "stdout",
     "output_type": "stream",
     "text": [
      "\u001b[K== This is sourmash version 2.1.1.dev5+g878540f. ==\n",
      "\u001b[K== Please cite Brown and Irber (2016), doi:10.21105/joss.00027. ==\n",
      "\n",
      "\u001b[Ksetting num_hashes to 0 because --scaled is set\n",
      "\u001b[Kcomputing signatures for files: /home/olga/data_lg/data_sm_copy/immune-evolution/databases/nuisance-genes/mouse-human__dissociation3Nov2020__ribosomal__mitochondrial__nucleotide.fasta\n",
      "\u001b[KComputing signature for ksizes: [21, 24, 27, 30, 33, 36, 39, 42, 45, 48, 51, 54, 57, 60, 63, 66, 69, 72, 75, 78, 81, 84, 87, 90]\n",
      "\u001b[KComputing only nucleotide (and not protein) signatures.\n",
      "\u001b[KComputing a total of 24 signature(s).\n",
      "\u001b[K... reading sequences from /home/olga/data_lg/data_sm_copy/immune-evolution/databases/nuisance-genes/mouse-human__dissociation3Nov2020__ribosomal__mitochondrial__nucleotide.fasta\n",
      "\u001b[Kcalculated 24 signatures for 26832 sequences in /home/olga/data_lg/data_sm_copy/immune-evolution/databases/nuisance-genes/mouse-human__dissociation3Nov2020__ribosomal__mitochondrial__nucleotide.fasta\n",
      "\u001b[Ksaved signature(s) to /home/olga/data_lg/data_sm_copy/immune-evolution/databases/nuisance-genes/mouse-human__dissociation3Nov2020__ribosomal__mitochondrial__nucleotide.sig. Note: signature license is CC0.\r"
     ]
    }
   ],
   "source": [
    "catted_dissociation_with_mitochondrial_nucleotide_sig = catted_dissociation_with_mitochondrial_nucleotide_fasta.replace('.fasta', '.sig')\n",
    "! sourmash compute \\\n",
    "    --dna \\\n",
    "    -k $ksizes_str \\\n",
    "    -o $catted_dissociation_with_mitochondrial_nucleotide_sig \\\n",
    "    --scaled 10 \\\n",
    "    $catted_dissociation_with_mitochondrial_nucleotide_fasta "
   ]
  },
  {
   "cell_type": "code",
   "execution_count": 77,
   "metadata": {},
   "outputs": [],
   "source": [
    "# mouse_dissociation_gene_names"
   ]
  },
  {
   "cell_type": "code",
   "execution_count": null,
   "metadata": {},
   "outputs": [],
   "source": []
  }
 ],
 "metadata": {
  "kernelspec": {
   "display_name": "Python [conda env:immune-evolution]",
   "language": "python",
   "name": "conda-env-immune-evolution-py"
  },
  "language_info": {
   "codemirror_mode": {
    "name": "ipython",
    "version": 3
   },
   "file_extension": ".py",
   "mimetype": "text/x-python",
   "name": "python",
   "nbconvert_exporter": "python",
   "pygments_lexer": "ipython3",
   "version": "3.7.8"
  }
 },
 "nbformat": 4,
 "nbformat_minor": 4
}
