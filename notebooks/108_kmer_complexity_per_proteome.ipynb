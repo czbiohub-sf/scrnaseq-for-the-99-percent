{
 "cells": [
  {
   "cell_type": "code",
   "execution_count": 1,
   "metadata": {},
   "outputs": [],
   "source": [
    "%load_ext autoreload\n",
    "%autoreload 2"
   ]
  },
  {
   "cell_type": "code",
   "execution_count": 53,
   "metadata": {},
   "outputs": [],
   "source": [
    "import itertools\n",
    "import os\n",
    "import glob\n",
    "\n",
    "import pandas as pd\n",
    "from joblib import Parallel, delayed\n",
    "import khmer\n",
    "import screed\n",
    "\n",
    "from tqdm import tqdm\n",
    "\n",
    "import numpy as np\n",
    "from orpheum.index import maybe_save_peptide_index, make_peptide_index, ALPHABET_SIZES"
   ]
  },
  {
   "cell_type": "code",
   "execution_count": 43,
   "metadata": {},
   "outputs": [],
   "source": [
    "\n",
    "\n",
    "fasta_folder = '/home/olga/data_lg/czbiohub-reference/uniprot/releases/2019_11/manually_downloaded/mammalia_busco_subsets'"
   ]
  },
  {
   "cell_type": "code",
   "execution_count": 44,
   "metadata": {},
   "outputs": [
    {
     "name": "stdout",
     "output_type": "stream",
     "text": [
      "tesla\n"
     ]
    }
   ],
   "source": [
    "! hostname"
   ]
  },
  {
   "cell_type": "code",
   "execution_count": 45,
   "metadata": {},
   "outputs": [
    {
     "name": "stdout",
     "output_type": "stream",
     "text": [
      "total 43M\n",
      "drwxrwxr-x 2 olga  czb 4.0K Oct 22  2020 .\n",
      "drwxrwxrwx 3 olga  czb 256K Oct 14  2020 ..\n",
      "-rw-r--r-- 1 lekha czb 9.8M Oct 22  2020 10090__mus_musculus.fasta\n",
      "-rw-r--r-- 1 lekha czb 1.5K Oct 22  2020 1026970__nannospalax_galili.fasta\n",
      "-rw-r--r-- 1 lekha czb 3.1K Oct 22  2020 118797__lipotes_vexillifer.fasta\n",
      "-rw-r--r-- 1 lekha czb  535 Oct 22  2020 230844__peromyscus_maniculatus_bairdii.fasta\n",
      "-rw-r--r-- 1 lekha czb 672K Oct 22  2020 246437__tupaia_chinensis.fasta\n",
      "-rw-r--r-- 1 lekha czb 1.3K Oct 22  2020 34839__chinchilla_lanigera.fasta\n",
      "-rw-r--r-- 1 lekha czb 4.9M Oct 22  2020 37293__aotus_nancymaae.fasta\n",
      "-rw-r--r-- 1 lekha czb 4.7K Oct 22  2020 38626__phascolarctos_cinereus.fasta\n",
      "-rw-r--r-- 1 lekha czb  20K Oct 22  2020 42254__sorex_araneus.fasta\n",
      "-rw-r--r-- 1 lekha czb  249 Oct 22  2020 73337__ceratotherium_simum_simum.fasta\n",
      "-rw-r--r-- 1 lekha czb 1009 Oct 22  2020 89399__rhinolophus_sinicus.fasta\n",
      "-rw-r--r-- 1 lekha czb 794K Oct 22  2020 9258__ornithorhynchus_anatinus.fasta\n",
      "-rw-r--r-- 1 lekha czb 9.7M Oct 22  2020 9365__erinaceus_europaeus.fasta\n",
      "-rw-r--r-- 1 lekha czb 3.2M Oct 22  2020 9544__macaca_mulatta.fasta\n",
      "-rw-r--r-- 1 lekha czb 9.9M Oct 22  2020 9606__homo_sapiens.fasta\n",
      "-rw-r--r-- 1 lekha czb 1.2K Oct 22  2020 9837__camelus_bactrianus.fasta\n",
      "-rw-r--r-- 1 lekha czb 104K Oct 22  2020 9925__capra_hircus.fasta\n",
      "-rw-r--r-- 1 lekha czb 2.8M Oct 22  2020 9986__oryctolagus_cuniculus.fasta\n"
     ]
    }
   ],
   "source": [
    "! ls -lha $fasta_folder"
   ]
  },
  {
   "cell_type": "code",
   "execution_count": 46,
   "metadata": {},
   "outputs": [
    {
     "data": {
      "text/plain": [
       "['/home/olga/data_lg/czbiohub-reference/uniprot/releases/2019_11/manually_downloaded/mammalia_busco_subsets/246437__tupaia_chinensis.fasta',\n",
       " '/home/olga/data_lg/czbiohub-reference/uniprot/releases/2019_11/manually_downloaded/mammalia_busco_subsets/9837__camelus_bactrianus.fasta',\n",
       " '/home/olga/data_lg/czbiohub-reference/uniprot/releases/2019_11/manually_downloaded/mammalia_busco_subsets/10090__mus_musculus.fasta',\n",
       " '/home/olga/data_lg/czbiohub-reference/uniprot/releases/2019_11/manually_downloaded/mammalia_busco_subsets/118797__lipotes_vexillifer.fasta',\n",
       " '/home/olga/data_lg/czbiohub-reference/uniprot/releases/2019_11/manually_downloaded/mammalia_busco_subsets/9925__capra_hircus.fasta',\n",
       " '/home/olga/data_lg/czbiohub-reference/uniprot/releases/2019_11/manually_downloaded/mammalia_busco_subsets/89399__rhinolophus_sinicus.fasta',\n",
       " '/home/olga/data_lg/czbiohub-reference/uniprot/releases/2019_11/manually_downloaded/mammalia_busco_subsets/73337__ceratotherium_simum_simum.fasta',\n",
       " '/home/olga/data_lg/czbiohub-reference/uniprot/releases/2019_11/manually_downloaded/mammalia_busco_subsets/1026970__nannospalax_galili.fasta',\n",
       " '/home/olga/data_lg/czbiohub-reference/uniprot/releases/2019_11/manually_downloaded/mammalia_busco_subsets/9606__homo_sapiens.fasta',\n",
       " '/home/olga/data_lg/czbiohub-reference/uniprot/releases/2019_11/manually_downloaded/mammalia_busco_subsets/9365__erinaceus_europaeus.fasta',\n",
       " '/home/olga/data_lg/czbiohub-reference/uniprot/releases/2019_11/manually_downloaded/mammalia_busco_subsets/230844__peromyscus_maniculatus_bairdii.fasta',\n",
       " '/home/olga/data_lg/czbiohub-reference/uniprot/releases/2019_11/manually_downloaded/mammalia_busco_subsets/9544__macaca_mulatta.fasta',\n",
       " '/home/olga/data_lg/czbiohub-reference/uniprot/releases/2019_11/manually_downloaded/mammalia_busco_subsets/37293__aotus_nancymaae.fasta',\n",
       " '/home/olga/data_lg/czbiohub-reference/uniprot/releases/2019_11/manually_downloaded/mammalia_busco_subsets/38626__phascolarctos_cinereus.fasta',\n",
       " '/home/olga/data_lg/czbiohub-reference/uniprot/releases/2019_11/manually_downloaded/mammalia_busco_subsets/34839__chinchilla_lanigera.fasta',\n",
       " '/home/olga/data_lg/czbiohub-reference/uniprot/releases/2019_11/manually_downloaded/mammalia_busco_subsets/42254__sorex_araneus.fasta',\n",
       " '/home/olga/data_lg/czbiohub-reference/uniprot/releases/2019_11/manually_downloaded/mammalia_busco_subsets/9986__oryctolagus_cuniculus.fasta',\n",
       " '/home/olga/data_lg/czbiohub-reference/uniprot/releases/2019_11/manually_downloaded/mammalia_busco_subsets/9258__ornithorhynchus_anatinus.fasta']"
      ]
     },
     "execution_count": 46,
     "metadata": {},
     "output_type": "execute_result"
    }
   ],
   "source": [
    "filenames = glob.glob(os.path.join(fasta_folder, '*.fasta'))\n",
    "filenames"
   ]
  },
  {
   "cell_type": "code",
   "execution_count": 47,
   "metadata": {},
   "outputs": [
    {
     "data": {
      "text/plain": [
       "{'tupaia_chinensis': '/home/olga/data_lg/czbiohub-reference/uniprot/releases/2019_11/manually_downloaded/mammalia_busco_subsets/246437__tupaia_chinensis.fasta',\n",
       " 'camelus_bactrianus': '/home/olga/data_lg/czbiohub-reference/uniprot/releases/2019_11/manually_downloaded/mammalia_busco_subsets/9837__camelus_bactrianus.fasta',\n",
       " 'mus_musculus': '/home/olga/data_lg/czbiohub-reference/uniprot/releases/2019_11/manually_downloaded/mammalia_busco_subsets/10090__mus_musculus.fasta',\n",
       " 'lipotes_vexillifer': '/home/olga/data_lg/czbiohub-reference/uniprot/releases/2019_11/manually_downloaded/mammalia_busco_subsets/118797__lipotes_vexillifer.fasta',\n",
       " 'capra_hircus': '/home/olga/data_lg/czbiohub-reference/uniprot/releases/2019_11/manually_downloaded/mammalia_busco_subsets/9925__capra_hircus.fasta',\n",
       " 'rhinolophus_sinicus': '/home/olga/data_lg/czbiohub-reference/uniprot/releases/2019_11/manually_downloaded/mammalia_busco_subsets/89399__rhinolophus_sinicus.fasta',\n",
       " 'ceratotherium_simum_simum': '/home/olga/data_lg/czbiohub-reference/uniprot/releases/2019_11/manually_downloaded/mammalia_busco_subsets/73337__ceratotherium_simum_simum.fasta',\n",
       " 'nannospalax_galili': '/home/olga/data_lg/czbiohub-reference/uniprot/releases/2019_11/manually_downloaded/mammalia_busco_subsets/1026970__nannospalax_galili.fasta',\n",
       " 'homo_sapiens': '/home/olga/data_lg/czbiohub-reference/uniprot/releases/2019_11/manually_downloaded/mammalia_busco_subsets/9606__homo_sapiens.fasta',\n",
       " 'erinaceus_europaeus': '/home/olga/data_lg/czbiohub-reference/uniprot/releases/2019_11/manually_downloaded/mammalia_busco_subsets/9365__erinaceus_europaeus.fasta',\n",
       " 'peromyscus_maniculatus_bairdii': '/home/olga/data_lg/czbiohub-reference/uniprot/releases/2019_11/manually_downloaded/mammalia_busco_subsets/230844__peromyscus_maniculatus_bairdii.fasta',\n",
       " 'macaca_mulatta': '/home/olga/data_lg/czbiohub-reference/uniprot/releases/2019_11/manually_downloaded/mammalia_busco_subsets/9544__macaca_mulatta.fasta',\n",
       " 'aotus_nancymaae': '/home/olga/data_lg/czbiohub-reference/uniprot/releases/2019_11/manually_downloaded/mammalia_busco_subsets/37293__aotus_nancymaae.fasta',\n",
       " 'phascolarctos_cinereus': '/home/olga/data_lg/czbiohub-reference/uniprot/releases/2019_11/manually_downloaded/mammalia_busco_subsets/38626__phascolarctos_cinereus.fasta',\n",
       " 'chinchilla_lanigera': '/home/olga/data_lg/czbiohub-reference/uniprot/releases/2019_11/manually_downloaded/mammalia_busco_subsets/34839__chinchilla_lanigera.fasta',\n",
       " 'sorex_araneus': '/home/olga/data_lg/czbiohub-reference/uniprot/releases/2019_11/manually_downloaded/mammalia_busco_subsets/42254__sorex_araneus.fasta',\n",
       " 'oryctolagus_cuniculus': '/home/olga/data_lg/czbiohub-reference/uniprot/releases/2019_11/manually_downloaded/mammalia_busco_subsets/9986__oryctolagus_cuniculus.fasta',\n",
       " 'ornithorhynchus_anatinus': '/home/olga/data_lg/czbiohub-reference/uniprot/releases/2019_11/manually_downloaded/mammalia_busco_subsets/9258__ornithorhynchus_anatinus.fasta'}"
      ]
     },
     "execution_count": 47,
     "metadata": {},
     "output_type": "execute_result"
    }
   ],
   "source": [
    "fastas = {os.path.basename(x).split('__')[-1].split('.fasta')[0]: x for x in filenames}\n",
    "fastas"
   ]
  },
  {
   "cell_type": "code",
   "execution_count": 48,
   "metadata": {},
   "outputs": [],
   "source": [
    "\n",
    "\n",
    "lines = []\n",
    "\n",
    "def create_index_and_compute_stats(name, fasta, alphabet, ksize, tablesize=int(1e8)):\n",
    "    index = make_peptide_index(fasta, ksize, alphabet, tablesize=tablesize)\n",
    "    expected_collisions = khmer.calc_expected_collisions(index)\n",
    "    maybe_save_peptide_index(fasta, index, alphabet, save_peptide_index=True)\n",
    "\n",
    "    n_unique_kmers = index.n_unique_kmers()\n",
    "    sigma = ALPHABET_SIZES[alphabet]\n",
    "    line = [name, alphabet, ksize, sigma, expected_collisions, n_unique_kmers]\n",
    "    del index\n",
    "    return line"
   ]
  },
  {
   "cell_type": "code",
   "execution_count": 49,
   "metadata": {},
   "outputs": [],
   "source": [
    "N_JOBS = 32\n",
    "\n",
    "\n",
    "def format_index_stats(lines):\n",
    "    columns = ['name', 'molecule', 'ksize', 'sigma', 'expected_collisions', 'n_unique_kmers']\n",
    "    df = pd.DataFrame(lines, columns=columns)\n",
    "    df['n_theoretical_kmers_log10'] = df['ksize'] * np.log10(df['sigma'])\n",
    "    df['n_unique_kmers_log10'] = np.log10(df['n_unique_kmers'])\n",
    "    df['unique_over_theoretical_log10'] = df['n_unique_kmers_log10'] - df['n_theoretical_kmers_log10']\n",
    "    return df"
   ]
  },
  {
   "cell_type": "code",
   "execution_count": 61,
   "metadata": {},
   "outputs": [
    {
     "name": "stdout",
     "output_type": "stream",
     "text": [
      "name: tupaia_chinensis\n"
     ]
    },
    {
     "name": "stderr",
     "output_type": "stream",
     "text": [
      "[Parallel(n_jobs=2)]: Using backend LokyBackend with 2 concurrent workers.\n",
      "[Parallel(n_jobs=2)]: Done   2 out of   2 | elapsed:    2.4s remaining:    0.0s\n",
      "[Parallel(n_jobs=2)]: Done   2 out of   2 | elapsed:    2.4s finished\n",
      "[Parallel(n_jobs=2)]: Using backend LokyBackend with 2 concurrent workers.\n"
     ]
    },
    {
     "name": "stdout",
     "output_type": "stream",
     "text": [
      "name: camelus_bactrianus\n"
     ]
    },
    {
     "name": "stderr",
     "output_type": "stream",
     "text": [
      "[Parallel(n_jobs=2)]: Done   2 out of   2 | elapsed:    0.2s remaining:    0.0s\n",
      "[Parallel(n_jobs=2)]: Done   2 out of   2 | elapsed:    0.2s finished\n",
      "[Parallel(n_jobs=2)]: Using backend LokyBackend with 2 concurrent workers.\n"
     ]
    },
    {
     "name": "stdout",
     "output_type": "stream",
     "text": [
      "name: mus_musculus\n"
     ]
    },
    {
     "name": "stderr",
     "output_type": "stream",
     "text": [
      "[Parallel(n_jobs=2)]: Done   2 out of   2 | elapsed:   10.4s remaining:    0.0s\n",
      "[Parallel(n_jobs=2)]: Done   2 out of   2 | elapsed:   10.4s finished\n",
      "[Parallel(n_jobs=2)]: Using backend LokyBackend with 2 concurrent workers.\n"
     ]
    },
    {
     "name": "stdout",
     "output_type": "stream",
     "text": [
      "name: lipotes_vexillifer\n"
     ]
    },
    {
     "name": "stderr",
     "output_type": "stream",
     "text": [
      "[Parallel(n_jobs=2)]: Done   2 out of   2 | elapsed:    0.3s remaining:    0.0s\n",
      "[Parallel(n_jobs=2)]: Done   2 out of   2 | elapsed:    0.3s finished\n",
      "[Parallel(n_jobs=2)]: Using backend LokyBackend with 2 concurrent workers.\n"
     ]
    },
    {
     "name": "stdout",
     "output_type": "stream",
     "text": [
      "name: capra_hircus\n"
     ]
    },
    {
     "name": "stderr",
     "output_type": "stream",
     "text": [
      "[Parallel(n_jobs=2)]: Done   2 out of   2 | elapsed:    0.3s remaining:    0.0s\n",
      "[Parallel(n_jobs=2)]: Done   2 out of   2 | elapsed:    0.3s finished\n",
      "[Parallel(n_jobs=2)]: Using backend LokyBackend with 2 concurrent workers.\n"
     ]
    },
    {
     "name": "stdout",
     "output_type": "stream",
     "text": [
      "name: rhinolophus_sinicus\n"
     ]
    },
    {
     "name": "stderr",
     "output_type": "stream",
     "text": [
      "[Parallel(n_jobs=2)]: Done   2 out of   2 | elapsed:    0.2s remaining:    0.0s\n",
      "[Parallel(n_jobs=2)]: Done   2 out of   2 | elapsed:    0.2s finished\n",
      "[Parallel(n_jobs=2)]: Using backend LokyBackend with 2 concurrent workers.\n",
      "[Parallel(n_jobs=2)]: Done   2 out of   2 | elapsed:    0.2s remaining:    0.0s\n",
      "[Parallel(n_jobs=2)]: Done   2 out of   2 | elapsed:    0.2s finished\n"
     ]
    },
    {
     "name": "stdout",
     "output_type": "stream",
     "text": [
      "name: ceratotherium_simum_simum\n",
      "name: nannospalax_galili\n"
     ]
    },
    {
     "name": "stderr",
     "output_type": "stream",
     "text": [
      "[Parallel(n_jobs=2)]: Using backend LokyBackend with 2 concurrent workers.\n",
      "[Parallel(n_jobs=2)]: Done   2 out of   2 | elapsed:    0.2s remaining:    0.0s\n",
      "[Parallel(n_jobs=2)]: Done   2 out of   2 | elapsed:    0.2s finished\n"
     ]
    },
    {
     "name": "stdout",
     "output_type": "stream",
     "text": [
      "name: homo_sapiens\n"
     ]
    },
    {
     "name": "stderr",
     "output_type": "stream",
     "text": [
      "[Parallel(n_jobs=2)]: Using backend LokyBackend with 2 concurrent workers.\n",
      "[Parallel(n_jobs=2)]: Done   2 out of   2 | elapsed:   10.6s remaining:    0.0s\n",
      "[Parallel(n_jobs=2)]: Done   2 out of   2 | elapsed:   10.6s finished\n",
      "[Parallel(n_jobs=2)]: Using backend LokyBackend with 2 concurrent workers.\n"
     ]
    },
    {
     "name": "stdout",
     "output_type": "stream",
     "text": [
      "name: erinaceus_europaeus\n"
     ]
    },
    {
     "name": "stderr",
     "output_type": "stream",
     "text": [
      "[Parallel(n_jobs=2)]: Done   2 out of   2 | elapsed:   10.2s remaining:    0.0s\n",
      "[Parallel(n_jobs=2)]: Done   2 out of   2 | elapsed:   10.2s finished\n",
      "[Parallel(n_jobs=2)]: Using backend LokyBackend with 2 concurrent workers.\n"
     ]
    },
    {
     "name": "stdout",
     "output_type": "stream",
     "text": [
      "name: peromyscus_maniculatus_bairdii\n"
     ]
    },
    {
     "name": "stderr",
     "output_type": "stream",
     "text": [
      "[Parallel(n_jobs=2)]: Done   2 out of   2 | elapsed:    0.2s remaining:    0.0s\n",
      "[Parallel(n_jobs=2)]: Done   2 out of   2 | elapsed:    0.2s finished\n",
      "[Parallel(n_jobs=2)]: Using backend LokyBackend with 2 concurrent workers.\n"
     ]
    },
    {
     "name": "stdout",
     "output_type": "stream",
     "text": [
      "name: macaca_mulatta\n"
     ]
    },
    {
     "name": "stderr",
     "output_type": "stream",
     "text": [
      "[Parallel(n_jobs=2)]: Done   2 out of   2 | elapsed:    3.5s remaining:    0.0s\n",
      "[Parallel(n_jobs=2)]: Done   2 out of   2 | elapsed:    3.5s finished\n",
      "[Parallel(n_jobs=2)]: Using backend LokyBackend with 2 concurrent workers.\n"
     ]
    },
    {
     "name": "stdout",
     "output_type": "stream",
     "text": [
      "name: aotus_nancymaae\n"
     ]
    },
    {
     "name": "stderr",
     "output_type": "stream",
     "text": [
      "[Parallel(n_jobs=2)]: Done   2 out of   2 | elapsed:    5.2s remaining:    0.0s\n",
      "[Parallel(n_jobs=2)]: Done   2 out of   2 | elapsed:    5.2s finished\n",
      "[Parallel(n_jobs=2)]: Using backend LokyBackend with 2 concurrent workers.\n"
     ]
    },
    {
     "name": "stdout",
     "output_type": "stream",
     "text": [
      "name: phascolarctos_cinereus\n"
     ]
    },
    {
     "name": "stderr",
     "output_type": "stream",
     "text": [
      "[Parallel(n_jobs=2)]: Done   2 out of   2 | elapsed:    0.2s remaining:    0.0s\n",
      "[Parallel(n_jobs=2)]: Done   2 out of   2 | elapsed:    0.2s finished\n",
      "[Parallel(n_jobs=2)]: Using backend LokyBackend with 2 concurrent workers.\n"
     ]
    },
    {
     "name": "stdout",
     "output_type": "stream",
     "text": [
      "name: chinchilla_lanigera\n"
     ]
    },
    {
     "name": "stderr",
     "output_type": "stream",
     "text": [
      "[Parallel(n_jobs=2)]: Done   2 out of   2 | elapsed:    0.2s remaining:    0.0s\n",
      "[Parallel(n_jobs=2)]: Done   2 out of   2 | elapsed:    0.2s finished\n",
      "[Parallel(n_jobs=2)]: Using backend LokyBackend with 2 concurrent workers.\n"
     ]
    },
    {
     "name": "stdout",
     "output_type": "stream",
     "text": [
      "name: sorex_araneus\n"
     ]
    },
    {
     "name": "stderr",
     "output_type": "stream",
     "text": [
      "[Parallel(n_jobs=2)]: Done   2 out of   2 | elapsed:    0.2s remaining:    0.0s\n",
      "[Parallel(n_jobs=2)]: Done   2 out of   2 | elapsed:    0.2s finished\n",
      "[Parallel(n_jobs=2)]: Using backend LokyBackend with 2 concurrent workers.\n"
     ]
    },
    {
     "name": "stdout",
     "output_type": "stream",
     "text": [
      "name: oryctolagus_cuniculus\n"
     ]
    },
    {
     "name": "stderr",
     "output_type": "stream",
     "text": [
      "[Parallel(n_jobs=2)]: Done   2 out of   2 | elapsed:    3.1s remaining:    0.0s\n",
      "[Parallel(n_jobs=2)]: Done   2 out of   2 | elapsed:    3.1s finished\n",
      "[Parallel(n_jobs=2)]: Using backend LokyBackend with 2 concurrent workers.\n"
     ]
    },
    {
     "name": "stdout",
     "output_type": "stream",
     "text": [
      "name: ornithorhynchus_anatinus\n",
      "(36, 9)\n"
     ]
    },
    {
     "name": "stderr",
     "output_type": "stream",
     "text": [
      "[Parallel(n_jobs=2)]: Done   2 out of   2 | elapsed:    1.0s remaining:    0.0s\n",
      "[Parallel(n_jobs=2)]: Done   2 out of   2 | elapsed:    1.0s finished\n"
     ]
    },
    {
     "data": {
      "text/html": [
       "<div>\n",
       "<style scoped>\n",
       "    .dataframe tbody tr th:only-of-type {\n",
       "        vertical-align: middle;\n",
       "    }\n",
       "\n",
       "    .dataframe tbody tr th {\n",
       "        vertical-align: top;\n",
       "    }\n",
       "\n",
       "    .dataframe thead th {\n",
       "        text-align: right;\n",
       "    }\n",
       "</style>\n",
       "<table border=\"1\" class=\"dataframe\">\n",
       "  <thead>\n",
       "    <tr style=\"text-align: right;\">\n",
       "      <th></th>\n",
       "      <th>name</th>\n",
       "      <th>molecule</th>\n",
       "      <th>ksize</th>\n",
       "      <th>sigma</th>\n",
       "      <th>expected_collisions</th>\n",
       "      <th>n_unique_kmers</th>\n",
       "      <th>n_theoretical_kmers_log10</th>\n",
       "      <th>n_unique_kmers_log10</th>\n",
       "      <th>unique_over_theoretical_log10</th>\n",
       "    </tr>\n",
       "  </thead>\n",
       "  <tbody>\n",
       "    <tr>\n",
       "      <th>0</th>\n",
       "      <td>tupaia_chinensis</td>\n",
       "      <td>dayhoff6</td>\n",
       "      <td>17</td>\n",
       "      <td>6</td>\n",
       "      <td>6.506573e-10</td>\n",
       "      <td>506371</td>\n",
       "      <td>13.228571</td>\n",
       "      <td>5.704469</td>\n",
       "      <td>-7.524102</td>\n",
       "    </tr>\n",
       "    <tr>\n",
       "      <th>1</th>\n",
       "      <td>tupaia_chinensis</td>\n",
       "      <td>protein20</td>\n",
       "      <td>8</td>\n",
       "      <td>20</td>\n",
       "      <td>7.144468e-10</td>\n",
       "      <td>518316</td>\n",
       "      <td>10.408240</td>\n",
       "      <td>5.714595</td>\n",
       "      <td>-4.693645</td>\n",
       "    </tr>\n",
       "    <tr>\n",
       "      <th>0</th>\n",
       "      <td>camelus_bactrianus</td>\n",
       "      <td>dayhoff6</td>\n",
       "      <td>17</td>\n",
       "      <td>6</td>\n",
       "      <td>2.747611e-21</td>\n",
       "      <td>724</td>\n",
       "      <td>13.228571</td>\n",
       "      <td>2.859739</td>\n",
       "      <td>-10.368833</td>\n",
       "    </tr>\n",
       "    <tr>\n",
       "      <th>1</th>\n",
       "      <td>camelus_bactrianus</td>\n",
       "      <td>protein20</td>\n",
       "      <td>8</td>\n",
       "      <td>20</td>\n",
       "      <td>3.197955e-21</td>\n",
       "      <td>752</td>\n",
       "      <td>10.408240</td>\n",
       "      <td>2.876218</td>\n",
       "      <td>-7.532022</td>\n",
       "    </tr>\n",
       "    <tr>\n",
       "      <th>0</th>\n",
       "      <td>mus_musculus</td>\n",
       "      <td>dayhoff6</td>\n",
       "      <td>17</td>\n",
       "      <td>6</td>\n",
       "      <td>7.880357e-06</td>\n",
       "      <td>5443866</td>\n",
       "      <td>13.228571</td>\n",
       "      <td>6.735907</td>\n",
       "      <td>-6.492664</td>\n",
       "    </tr>\n",
       "  </tbody>\n",
       "</table>\n",
       "</div>"
      ],
      "text/plain": [
       "                 name   molecule  ksize  sigma  expected_collisions  \\\n",
       "0    tupaia_chinensis   dayhoff6     17      6         6.506573e-10   \n",
       "1    tupaia_chinensis  protein20      8     20         7.144468e-10   \n",
       "0  camelus_bactrianus   dayhoff6     17      6         2.747611e-21   \n",
       "1  camelus_bactrianus  protein20      8     20         3.197955e-21   \n",
       "0        mus_musculus   dayhoff6     17      6         7.880357e-06   \n",
       "\n",
       "   n_unique_kmers  n_theoretical_kmers_log10  n_unique_kmers_log10  \\\n",
       "0          506371                  13.228571              5.704469   \n",
       "1          518316                  10.408240              5.714595   \n",
       "0             724                  13.228571              2.859739   \n",
       "1             752                  10.408240              2.876218   \n",
       "0         5443866                  13.228571              6.735907   \n",
       "\n",
       "   unique_over_theoretical_log10  \n",
       "0                      -7.524102  \n",
       "1                      -4.693645  \n",
       "0                     -10.368833  \n",
       "1                      -7.532022  \n",
       "0                      -6.492664  "
      ]
     },
     "execution_count": 61,
     "metadata": {},
     "output_type": "execute_result"
    }
   ],
   "source": [
    "dfs = []\n",
    "\n",
    "alpha_ksizes = (('dayhoff6', 17), ('protein20', 8))\n",
    "\n",
    "for name, fasta in fastas.items():\n",
    "    print(f'name: {name}')\n",
    "#     iterator = itertools.product(['protein20', 'dayhoff6', 'hp2'], range(2, 51))\n",
    "    \n",
    "#     line = create_index_and_compute_stats(name, fasta, 'dayhoff6', 17)\n",
    "    this_fasta_lines = Parallel(n_jobs=2, verbose=True)(\n",
    "        delayed(create_index_and_compute_stats)(\n",
    "            name, fasta, alphabet, ksize) for alphabet, ksize in alpha_ksizes)\n",
    "    df = format_index_stats(this_fasta_lines)\n",
    "    df.to_csv(f'busco_mammalia_kmer_complexity__{name}.csv', index=False)\n",
    "    dfs.append(df)\n",
    "\n",
    "index_stats = pd.concat(dfs)\n",
    "# index_stats['n_theoretical_kmers'] = np.power(index_stats.sigma, index_stats.ksize)\n",
    "# index_stats['unique_over_theoretical'] = index_stats.n_unique_kmers / index_stats.n_theoretical_kmers\n",
    "# index_stats['unique_over_theoretical_log10'] = -1 * np.log10(index_stats['unique_over_theoretical'])\n",
    "index_stats.to_csv('busco_mammalia_kmer_complexity_all_species.csv', index=False)\n",
    "print(index_stats.shape)\n",
    "index_stats.head()"
   ]
  },
  {
   "cell_type": "code",
   "execution_count": 58,
   "metadata": {},
   "outputs": [
    {
     "data": {
      "text/plain": [
       "'/home/olga/code/2020-test-sencha--olgabot/human-qfo-v2/notebooks'"
      ]
     },
     "execution_count": 58,
     "metadata": {},
     "output_type": "execute_result"
    }
   ],
   "source": [
    "pwd"
   ]
  },
  {
   "cell_type": "code",
   "execution_count": 60,
   "metadata": {},
   "outputs": [
    {
     "name": "stdout",
     "output_type": "stream",
     "text": [
      "-rw-r--r-- 1 olga czb  370 Apr 27 09:44 busco_mammalia_kmer_complexity__aotus_nancymaae.csv\n",
      "-rw-r--r-- 1 olga czb  370 Apr 27 09:43 busco_mammalia_kmer_complexity__camelus_bactrianus.csv\n",
      "-rw-r--r-- 1 olga czb  362 Apr 27 09:43 busco_mammalia_kmer_complexity__capra_hircus.csv\n",
      "-rw-r--r-- 1 olga czb  382 Apr 27 09:43 busco_mammalia_kmer_complexity__ceratotherium_simum_simum.csv\n",
      "-rw-r--r-- 1 olga czb  373 Apr 27 09:44 busco_mammalia_kmer_complexity__chinchilla_lanigera.csv\n",
      "-rw-r--r-- 1 olga czb 4.3K Apr 27 09:44 busco_mammalia_kmer_complexity.csv\n",
      "-rw-r--r-- 1 olga czb  377 Apr 27 09:43 busco_mammalia_kmer_complexity__erinaceus_europaeus.csv\n",
      "-rw-r--r-- 1 olga czb  363 Apr 27 09:43 busco_mammalia_kmer_complexity__homo_sapiens.csv\n",
      "-rw-r--r-- 1 olga czb  373 Apr 27 09:43 busco_mammalia_kmer_complexity__lipotes_vexillifer.csv\n",
      "-rw-r--r-- 1 olga czb  370 Apr 27 09:43 busco_mammalia_kmer_complexity__macaca_mulatta.csv\n",
      "-rw-r--r-- 1 olga czb  365 Apr 27 09:43 busco_mammalia_kmer_complexity__mus_musculus.csv\n",
      "-rw-r--r-- 1 olga czb  373 Apr 27 09:43 busco_mammalia_kmer_complexity__nannospalax_galili.csv\n",
      "-rw-r--r-- 1 olga czb  388 Apr 27 09:44 busco_mammalia_kmer_complexity__ornithorhynchus_anatinus.csv\n",
      "-rw-r--r-- 1 olga czb  383 Apr 27 09:44 busco_mammalia_kmer_complexity__oryctolagus_cuniculus.csv\n",
      "-rw-r--r-- 1 olga czb  395 Apr 27 09:43 busco_mammalia_kmer_complexity__peromyscus_maniculatus_bairdii.csv\n",
      "-rw-r--r-- 1 olga czb  381 Apr 27 09:44 busco_mammalia_kmer_complexity__phascolarctos_cinereus.csv\n",
      "-rw-r--r-- 1 olga czb  375 Apr 27 09:43 busco_mammalia_kmer_complexity__rhinolophus_sinicus.csv\n",
      "-rw-r--r-- 1 olga czb  362 Apr 27 09:44 busco_mammalia_kmer_complexity__sorex_araneus.csv\n",
      "-rw-r--r-- 1 olga czb  372 Apr 27 09:43 busco_mammalia_kmer_complexity__tupaia_chinensis.csv\n",
      "-rw-r--r-- 1 olga czb  15K Apr 26 12:14 n_observed_vs_theoretical_kmers_archea.csv\n",
      "-rw-r--r-- 1 olga czb  16K Apr 26 12:14 n_observed_vs_theoretical_kmers_bacteria.csv\n",
      "-rw-r--r-- 1 olga czb  370 Apr 27 09:43 n_observed_vs_theoretical_kmers_camelus_bactrianus.csv\n",
      "-rw-r--r-- 1 olga czb  362 Apr 27 09:42 n_observed_vs_theoretical_kmers_capra_hircus.csv\n",
      "-rw-r--r-- 1 olga czb  382 Apr 27 09:42 n_observed_vs_theoretical_kmers_ceratotherium_simum_simum.csv\n",
      "-rw-r--r-- 1 olga czb  16K Apr 26 12:14 n_observed_vs_theoretical_kmers_eukaryota.csv\n",
      "-rw-r--r-- 1 olga czb  363 Apr 27 09:42 n_observed_vs_theoretical_kmers_homo_sapiens.csv\n",
      "-rw-r--r-- 1 olga czb  373 Apr 27 09:42 n_observed_vs_theoretical_kmers_lipotes_vexillifer.csv\n",
      "-rw-r--r-- 1 olga czb  16K Apr 26 12:14 n_observed_vs_theoretical_kmers_mammalia.csv\n",
      "-rw-r--r-- 1 olga czb  365 Apr 27 09:42 n_observed_vs_theoretical_kmers_mus_musculus.csv\n",
      "-rw-r--r-- 1 olga czb  373 Apr 27 09:42 n_observed_vs_theoretical_kmers_nannospalax_galili.csv\n",
      "-rw-r--r-- 1 olga czb  17K Apr 26 12:14 n_observed_vs_theoretical_kmers_not_eukaryota.csv\n",
      "-rw-r--r-- 1 olga czb  16K Apr 26 12:14 n_observed_vs_theoretical_kmers_opisthokonta.csv\n",
      "-rw-r--r-- 1 olga czb  135 Apr 26 12:14 n_observed_vs_theoretical_kmers_per_uniprot_database.csv\n",
      "-rw-r--r-- 1 olga czb  375 Apr 27 09:42 n_observed_vs_theoretical_kmers_rhinolophus_sinicus.csv\n",
      "-rw-r--r-- 1 olga czb  16K Apr 26 12:14 n_observed_vs_theoretical_kmers_swissprot.csv\n",
      "-rw-r--r-- 1 olga czb  372 Apr 27 09:43 n_observed_vs_theoretical_kmers_tupaia_chinensis.csv\n",
      "-rw-r--r-- 1 olga czb 730K Apr 26 12:14 QfO_vertebrates_s100_sencha_translate_summaries.csv\n",
      "-rw-r--r-- 1 olga czb  12K Apr 26 12:14 species_metadata.csv\n",
      "-rw-r--r-- 1 olga czb  588 Apr 26 12:14 total_sequence_lengths.csv\n"
     ]
    }
   ],
   "source": [
    "ls -lha *csv"
   ]
  },
  {
   "cell_type": "code",
   "execution_count": null,
   "metadata": {},
   "outputs": [],
   "source": []
  }
 ],
 "metadata": {
  "kernelspec": {
   "display_name": "Python [conda env:immune-evolution]",
   "language": "python",
   "name": "conda-env-immune-evolution-py"
  },
  "language_info": {
   "codemirror_mode": {
    "name": "ipython",
    "version": 3
   },
   "file_extension": ".py",
   "mimetype": "text/x-python",
   "name": "python",
   "nbconvert_exporter": "python",
   "pygments_lexer": "ipython3",
   "version": "3.7.8"
  }
 },
 "nbformat": 4,
 "nbformat_minor": 4
}
