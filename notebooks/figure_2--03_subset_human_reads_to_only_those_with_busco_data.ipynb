{
 "cells": [
  {
   "cell_type": "markdown",
   "metadata": {},
   "source": [
    "# Imports"
   ]
  },
  {
   "cell_type": "code",
   "execution_count": 1,
   "metadata": {},
   "outputs": [],
   "source": [
    "import math\n",
    "import gzip \n",
    "import json\n",
    "import os\n",
    "import glob\n",
    "\n",
    "\n",
    "import pandas as pd\n",
    "import screed\n",
    "from tqdm import tqdm\n",
    "# import seaborn as sns\n",
    "\n",
    "# %matplotlib inline"
   ]
  },
  {
   "cell_type": "code",
   "execution_count": 2,
   "metadata": {},
   "outputs": [],
   "source": [
    "from path_constants import (\n",
    "    QFO_FOLDER,\n",
    "    QFO_EUKARYOTA_FOLDER,\n",
    "    BUSCO_MAMMALIA_FOLDER,\n",
    "    ORTHODB_FOLDER,\n",
    "    SIMULATED_READS_FASTQ,\n",
    "    SIMULATED_READS_BUSCO_ORTHODB_FOLDER\n",
    ")"
   ]
  },
  {
   "cell_type": "code",
   "execution_count": 3,
   "metadata": {},
   "outputs": [
    {
     "name": "stdout",
     "output_type": "stream",
     "text": [
      "(78, 10)\n"
     ]
    },
    {
     "data": {
      "text/html": [
       "<div>\n",
       "<style scoped>\n",
       "    .dataframe tbody tr th:only-of-type {\n",
       "        vertical-align: middle;\n",
       "    }\n",
       "\n",
       "    .dataframe tbody tr th {\n",
       "        vertical-align: top;\n",
       "    }\n",
       "\n",
       "    .dataframe thead th {\n",
       "        text-align: right;\n",
       "    }\n",
       "</style>\n",
       "<table border=\"1\" class=\"dataframe\">\n",
       "  <thead>\n",
       "    <tr style=\"text-align: right;\">\n",
       "      <th></th>\n",
       "      <th>proteome_id</th>\n",
       "      <th>tax_id</th>\n",
       "      <th>oscode</th>\n",
       "      <th>n_main_fasta_canonical</th>\n",
       "      <th>n_additional_fasta_isoforms</th>\n",
       "      <th>n_gene2acc</th>\n",
       "      <th>species_name</th>\n",
       "      <th>divergence_from_human_mya</th>\n",
       "      <th>scientific_name</th>\n",
       "      <th>common_name_or_strain</th>\n",
       "    </tr>\n",
       "  </thead>\n",
       "  <tbody>\n",
       "    <tr>\n",
       "      <th>0</th>\n",
       "      <td>UP000007062</td>\n",
       "      <td>7165</td>\n",
       "      <td>ANOGA</td>\n",
       "      <td>12553</td>\n",
       "      <td>971</td>\n",
       "      <td>13619</td>\n",
       "      <td>Anopheles gambiae (African malaria mosquito)</td>\n",
       "      <td>797.0</td>\n",
       "      <td>Anopheles gambiae</td>\n",
       "      <td>African malaria mosquito</td>\n",
       "    </tr>\n",
       "    <tr>\n",
       "      <th>1</th>\n",
       "      <td>UP000000798</td>\n",
       "      <td>224324</td>\n",
       "      <td>AQUAE</td>\n",
       "      <td>1553</td>\n",
       "      <td>0</td>\n",
       "      <td>1557</td>\n",
       "      <td>Aquifex aeolicus (strain VF5)</td>\n",
       "      <td>4290.0</td>\n",
       "      <td>Aquifex aeolicus</td>\n",
       "      <td>strain VF5</td>\n",
       "    </tr>\n",
       "    <tr>\n",
       "      <th>2</th>\n",
       "      <td>UP000006548</td>\n",
       "      <td>3702</td>\n",
       "      <td>ARATH</td>\n",
       "      <td>27475</td>\n",
       "      <td>14123</td>\n",
       "      <td>41920</td>\n",
       "      <td>Arabidopsis thaliana (Mouse-ear cress)</td>\n",
       "      <td>1496.0</td>\n",
       "      <td>Arabidopsis thaliana</td>\n",
       "      <td>Mouse-ear cress</td>\n",
       "    </tr>\n",
       "    <tr>\n",
       "      <th>3</th>\n",
       "      <td>UP000001570</td>\n",
       "      <td>224308</td>\n",
       "      <td>BACSU</td>\n",
       "      <td>4260</td>\n",
       "      <td>7</td>\n",
       "      <td>4268</td>\n",
       "      <td>Bacillus subtilis (strain 168)</td>\n",
       "      <td>4290.0</td>\n",
       "      <td>Bacillus subtilis</td>\n",
       "      <td>strain 168</td>\n",
       "    </tr>\n",
       "    <tr>\n",
       "      <th>4</th>\n",
       "      <td>UP000001414</td>\n",
       "      <td>226186</td>\n",
       "      <td>BACTN</td>\n",
       "      <td>4782</td>\n",
       "      <td>0</td>\n",
       "      <td>4823</td>\n",
       "      <td>Bacteroides thetaiotaomicron (strain ATCC 2914...</td>\n",
       "      <td>4290.0</td>\n",
       "      <td>Bacteroides thetaiotaomicron</td>\n",
       "      <td>strain ATCC 29148 / DSM 2079 / NCTC 10582 / E5...</td>\n",
       "    </tr>\n",
       "  </tbody>\n",
       "</table>\n",
       "</div>"
      ],
      "text/plain": [
       "   proteome_id  tax_id oscode  n_main_fasta_canonical  \\\n",
       "0  UP000007062    7165  ANOGA                   12553   \n",
       "1  UP000000798  224324  AQUAE                    1553   \n",
       "2  UP000006548    3702  ARATH                   27475   \n",
       "3  UP000001570  224308  BACSU                    4260   \n",
       "4  UP000001414  226186  BACTN                    4782   \n",
       "\n",
       "   n_additional_fasta_isoforms  n_gene2acc  \\\n",
       "0                          971       13619   \n",
       "1                            0        1557   \n",
       "2                        14123       41920   \n",
       "3                            7        4268   \n",
       "4                            0        4823   \n",
       "\n",
       "                                        species_name  \\\n",
       "0       Anopheles gambiae (African malaria mosquito)   \n",
       "1                      Aquifex aeolicus (strain VF5)   \n",
       "2             Arabidopsis thaliana (Mouse-ear cress)   \n",
       "3                     Bacillus subtilis (strain 168)   \n",
       "4  Bacteroides thetaiotaomicron (strain ATCC 2914...   \n",
       "\n",
       "   divergence_from_human_mya               scientific_name  \\\n",
       "0                      797.0             Anopheles gambiae   \n",
       "1                     4290.0              Aquifex aeolicus   \n",
       "2                     1496.0          Arabidopsis thaliana   \n",
       "3                     4290.0             Bacillus subtilis   \n",
       "4                     4290.0  Bacteroides thetaiotaomicron   \n",
       "\n",
       "                               common_name_or_strain  \n",
       "0                           African malaria mosquito  \n",
       "1                                         strain VF5  \n",
       "2                                    Mouse-ear cress  \n",
       "3                                         strain 168  \n",
       "4  strain ATCC 29148 / DSM 2079 / NCTC 10582 / E5...  "
      ]
     },
     "execution_count": 3,
     "metadata": {},
     "output_type": "execute_result"
    }
   ],
   "source": [
    "species_metadata = pd.read_csv(os.path.join(QFO_FOLDER, \"species_metadata.csv\"))\n",
    "print(species_metadata.shape)\n",
    "species_metadata.head()"
   ]
  },
  {
   "cell_type": "code",
   "execution_count": 4,
   "metadata": {},
   "outputs": [
    {
     "name": "stdout",
     "output_type": "stream",
     "text": [
      "(64199, 6)\n"
     ]
    },
    {
     "data": {
      "text/html": [
       "<div>\n",
       "<style scoped>\n",
       "    .dataframe tbody tr th:only-of-type {\n",
       "        vertical-align: middle;\n",
       "    }\n",
       "\n",
       "    .dataframe tbody tr th {\n",
       "        vertical-align: top;\n",
       "    }\n",
       "\n",
       "    .dataframe thead th {\n",
       "        text-align: right;\n",
       "    }\n",
       "</style>\n",
       "<table border=\"1\" class=\"dataframe\">\n",
       "  <thead>\n",
       "    <tr style=\"text-align: right;\">\n",
       "      <th></th>\n",
       "      <th>orthodb_gene_id</th>\n",
       "      <th>external_db_gene_id</th>\n",
       "      <th>external_db_name</th>\n",
       "      <th>orthodb_id</th>\n",
       "      <th>species</th>\n",
       "      <th>species_name</th>\n",
       "    </tr>\n",
       "  </thead>\n",
       "  <tbody>\n",
       "    <tr>\n",
       "      <th>0</th>\n",
       "      <td>10090_0:00000d</td>\n",
       "      <td>Q91X05</td>\n",
       "      <td>UniProt</td>\n",
       "      <td>150380at40674</td>\n",
       "      <td>10090</td>\n",
       "      <td>Mus musculus</td>\n",
       "    </tr>\n",
       "    <tr>\n",
       "      <th>1</th>\n",
       "      <td>10090_0:00000d</td>\n",
       "      <td>C0LL94</td>\n",
       "      <td>UniProt</td>\n",
       "      <td>150380at40674</td>\n",
       "      <td>10090</td>\n",
       "      <td>Mus musculus</td>\n",
       "    </tr>\n",
       "    <tr>\n",
       "      <th>2</th>\n",
       "      <td>10090_0:000012</td>\n",
       "      <td>Q9R1A8</td>\n",
       "      <td>UniProt</td>\n",
       "      <td>80051at40674</td>\n",
       "      <td>10090</td>\n",
       "      <td>Mus musculus</td>\n",
       "    </tr>\n",
       "    <tr>\n",
       "      <th>3</th>\n",
       "      <td>10090_0:000015</td>\n",
       "      <td>Q8BX09</td>\n",
       "      <td>UniProt</td>\n",
       "      <td>73776at40674</td>\n",
       "      <td>10090</td>\n",
       "      <td>Mus musculus</td>\n",
       "    </tr>\n",
       "    <tr>\n",
       "      <th>4</th>\n",
       "      <td>10090_0:000018</td>\n",
       "      <td>A9ZNB6</td>\n",
       "      <td>UniProt</td>\n",
       "      <td>194736at40674</td>\n",
       "      <td>10090</td>\n",
       "      <td>Mus musculus</td>\n",
       "    </tr>\n",
       "  </tbody>\n",
       "</table>\n",
       "</div>"
      ],
      "text/plain": [
       "  orthodb_gene_id external_db_gene_id external_db_name     orthodb_id  \\\n",
       "0  10090_0:00000d              Q91X05          UniProt  150380at40674   \n",
       "1  10090_0:00000d              C0LL94          UniProt  150380at40674   \n",
       "2  10090_0:000012              Q9R1A8          UniProt   80051at40674   \n",
       "3  10090_0:000015              Q8BX09          UniProt   73776at40674   \n",
       "4  10090_0:000018              A9ZNB6          UniProt  194736at40674   \n",
       "\n",
       "   species  species_name  \n",
       "0    10090  Mus musculus  \n",
       "1    10090  Mus musculus  \n",
       "2    10090  Mus musculus  \n",
       "3    10090  Mus musculus  \n",
       "4    10090  Mus musculus  "
      ]
     },
     "execution_count": 4,
     "metadata": {},
     "output_type": "execute_result"
    }
   ],
   "source": [
    "orthodb_busco_mammalia = pd.read_csv(\n",
    "    os.path.join(\n",
    "        BUSCO_MAMMALIA_FOLDER, \"busco_mammalia__orthodb__to__uniprot__with_species.csv\"\n",
    "    )\n",
    ")\n",
    "print(orthodb_busco_mammalia.shape)\n",
    "orthodb_busco_mammalia.head()"
   ]
  },
  {
   "cell_type": "markdown",
   "metadata": {},
   "source": [
    "## Subset orthodb to busco mammali"
   ]
  },
  {
   "cell_type": "markdown",
   "metadata": {},
   "source": [
    "### If using later, simply read the csv"
   ]
  },
  {
   "cell_type": "code",
   "execution_count": 5,
   "metadata": {},
   "outputs": [
    {
     "name": "stdout",
     "output_type": "stream",
     "text": [
      "(64198, 3)\n"
     ]
    },
    {
     "data": {
      "text/html": [
       "<div>\n",
       "<style scoped>\n",
       "    .dataframe tbody tr th:only-of-type {\n",
       "        vertical-align: middle;\n",
       "    }\n",
       "\n",
       "    .dataframe tbody tr th {\n",
       "        vertical-align: top;\n",
       "    }\n",
       "\n",
       "    .dataframe thead th {\n",
       "        text-align: right;\n",
       "    }\n",
       "</style>\n",
       "<table border=\"1\" class=\"dataframe\">\n",
       "  <thead>\n",
       "    <tr style=\"text-align: right;\">\n",
       "      <th></th>\n",
       "      <th>orthodb_gene_id</th>\n",
       "      <th>external_db_gene_id</th>\n",
       "      <th>external_db_name</th>\n",
       "    </tr>\n",
       "  </thead>\n",
       "  <tbody>\n",
       "    <tr>\n",
       "      <th>0</th>\n",
       "      <td>10090_0:00000d</td>\n",
       "      <td>Q91X05</td>\n",
       "      <td>UniProt</td>\n",
       "    </tr>\n",
       "    <tr>\n",
       "      <th>1</th>\n",
       "      <td>10090_0:00000d</td>\n",
       "      <td>C0LL94</td>\n",
       "      <td>UniProt</td>\n",
       "    </tr>\n",
       "    <tr>\n",
       "      <th>2</th>\n",
       "      <td>10090_0:000012</td>\n",
       "      <td>Q9R1A8</td>\n",
       "      <td>UniProt</td>\n",
       "    </tr>\n",
       "    <tr>\n",
       "      <th>3</th>\n",
       "      <td>10090_0:000015</td>\n",
       "      <td>Q8BX09</td>\n",
       "      <td>UniProt</td>\n",
       "    </tr>\n",
       "    <tr>\n",
       "      <th>4</th>\n",
       "      <td>10090_0:000018</td>\n",
       "      <td>A9ZNB6</td>\n",
       "      <td>UniProt</td>\n",
       "    </tr>\n",
       "  </tbody>\n",
       "</table>\n",
       "</div>"
      ],
      "text/plain": [
       "  orthodb_gene_id external_db_gene_id external_db_name\n",
       "0  10090_0:00000d              Q91X05          UniProt\n",
       "1  10090_0:00000d              C0LL94          UniProt\n",
       "2  10090_0:000012              Q9R1A8          UniProt\n",
       "3  10090_0:000015              Q8BX09          UniProt\n",
       "4  10090_0:000018              A9ZNB6          UniProt"
      ]
     },
     "execution_count": 5,
     "metadata": {},
     "output_type": "execute_result"
    }
   ],
   "source": [
    "odb_xrefs_uniprot_busco_mammalia = pd.read_csv(\n",
    "    os.path.join(BUSCO_MAMMALIA_FOLDER, \"busco_mammalia__orthodb__to__uniprot.csv\")\n",
    ")\n",
    "print(odb_xrefs_uniprot_busco_mammalia.shape)\n",
    "odb_xrefs_uniprot_busco_mammalia.head()"
   ]
  },
  {
   "cell_type": "markdown",
   "metadata": {},
   "source": [
    "# Subset input reads (human fastq gz) to only BUSCO mammalia ids"
   ]
  },
  {
   "cell_type": "code",
   "execution_count": 6,
   "metadata": {},
   "outputs": [
    {
     "data": {
      "text/plain": [
       "64197"
      ]
     },
     "execution_count": 6,
     "metadata": {},
     "output_type": "execute_result"
    }
   ],
   "source": [
    "busco_mammalia_uniprot_ids = set(odb_xrefs_uniprot_busco_mammalia.external_db_gene_id.values)\n",
    "len(busco_mammalia_uniprot_ids)"
   ]
  },
  {
   "cell_type": "markdown",
   "metadata": {},
   "source": [
    "## Read in simulated human reads and subset to only ones with busco IDs"
   ]
  },
  {
   "cell_type": "code",
   "execution_count": 7,
   "metadata": {},
   "outputs": [
    {
     "name": "stderr",
     "output_type": "stream",
     "text": [
      "1015001it [00:12, 82569.32it/s]\n"
     ]
    },
    {
     "data": {
      "text/plain": [
       "445051"
      ]
     },
     "execution_count": 7,
     "metadata": {},
     "output_type": "execute_result"
    }
   ],
   "source": [
    "simulated_reads_busco_mammalia_records = []\n",
    "\n",
    "with screed.open(SIMULATED_READS_FASTQ) as records:\n",
    "    for record in tqdm(records):\n",
    "        name = record['name']\n",
    "        read_id_uniprot_ensembl = name.split(';')[0]\n",
    "        uniprot_ensembl = read_id_uniprot_ensembl.split('/')[1]\n",
    "        uniprot = read_id_uniprot_ensembl.split('|')[1]\n",
    "        if uniprot in busco_mammalia_uniprot_ids:\n",
    "            simulated_reads_busco_mammalia_records.append(record)\n",
    "len(simulated_reads_busco_mammalia_records)"
   ]
  },
  {
   "cell_type": "markdown",
   "metadata": {},
   "source": [
    "## WRite new human fastq gz "
   ]
  },
  {
   "cell_type": "code",
   "execution_count": 8,
   "metadata": {},
   "outputs": [
    {
     "name": "stderr",
     "output_type": "stream",
     "text": [
      "100%|████████████████████████████████████████████████████████████████████████████████████████████████████████████| 445051/445051 [00:17<00:00, 26120.04it/s]\n"
     ]
    }
   ],
   "source": [
    "fastq_output = os.path.join(\n",
    "    SIMULATED_READS_BUSCO_ORTHODB_FOLDER, \"Homo_sapiens_9606_qfo_dna_01.fq.gz\"\n",
    ")\n",
    "with gzip.open(fastq_output, \"wb\") as f:\n",
    "    for record in tqdm(simulated_reads_busco_mammalia_records):\n",
    "        output_str = (\n",
    "            f'@{record[\"name\"]}\\n{record[\"sequence\"]}\\n+\\n{record[\"quality\"]}\\n'\n",
    "        )\n",
    "        output_bytes = bytes(output_str, \"utf-8\")\n",
    "        f.write(output_bytes)"
   ]
  },
  {
   "cell_type": "markdown",
   "metadata": {
    "tags": []
   },
   "source": [
    "# Subset protein fasta files for only BUSCO mammalia ids"
   ]
  },
  {
   "cell_type": "markdown",
   "metadata": {},
   "source": [
    "## Read human protein fasta\n",
    "\n",
    "\n",
    "Human taxonomy id is 9606"
   ]
  },
  {
   "cell_type": "code",
   "execution_count": 9,
   "metadata": {},
   "outputs": [
    {
     "name": "stdout",
     "output_type": "stream",
     "text": [
      "-rw------- 1 olgabot  14M Jul 22 18:48 /Users/olgabot/Downloads/00-orpheum-benchmarking/00-external-data/quest-for-orthologs/2019/Eukaryota/UP000005640_9606.fasta\n",
      "-rw------- 1 olgabot 2.7M Jul 22 18:48 /Users/olgabot/Downloads/00-orpheum-benchmarking/00-external-data/quest-for-orthologs/2019/Eukaryota/UP000005640_9606.gene2acc\n",
      "-rw------- 1 olgabot  67M Jul 22 18:48 /Users/olgabot/Downloads/00-orpheum-benchmarking/00-external-data/quest-for-orthologs/2019/Eukaryota/UP000005640_9606.idmapping\n",
      "-rw------- 1 olgabot  34M Jul 22 18:47 /Users/olgabot/Downloads/00-orpheum-benchmarking/00-external-data/quest-for-orthologs/2019/Eukaryota/UP000005640_9606_DNA.fasta\n",
      "-rw------- 1 olgabot  20K Jul 22 18:48 /Users/olgabot/Downloads/00-orpheum-benchmarking/00-external-data/quest-for-orthologs/2019/Eukaryota/UP000005640_9606_DNA.miss\n",
      "-rw------- 1 olgabot  33M Jul 22 11:53 /Users/olgabot/Downloads/00-orpheum-benchmarking/00-external-data/quest-for-orthologs/2019/Eukaryota/UP000005640_9606_DNA__startswith_atg_and_protein_startswith_m.fasta\n",
      "-rw-r--r-- 1 olgabot 6.2M Jul 25 12:35 /Users/olgabot/Downloads/00-orpheum-benchmarking/00-external-data/quest-for-orthologs/2019/Eukaryota/UP000005640_9606__busco_mammlia_odbv10.fasta\n",
      "-rw------- 1 olgabot  36M Jul 22 18:48 /Users/olgabot/Downloads/00-orpheum-benchmarking/00-external-data/quest-for-orthologs/2019/Eukaryota/UP000005640_9606_additional.fasta\n",
      "-rw------- 1 olgabot  50K Jul 22 18:48 /Users/olgabot/Downloads/00-orpheum-benchmarking/00-external-data/quest-for-orthologs/2019/Eukaryota/UP000005640_9606_gcoord.miss\n"
     ]
    }
   ],
   "source": [
    "ls -lha $QFO_EUKARYOTA_FOLDER/*9606*"
   ]
  },
  {
   "cell_type": "code",
   "execution_count": 10,
   "metadata": {},
   "outputs": [
    {
     "name": "stdout",
     "output_type": "stream",
     "text": [
      ">tr|A0A024R1R8|A0A024R1R8_HUMAN HCG2014768, isoform CRA_a OS=Homo sapiens OX=9606 GN=hCG_2014768 PE=4 SV=1\n",
      "MSSHEGGKKKALKQPKKQAKEMDEEEKAFKQKQKEEQKKLEVLKAKVVGKGPLATGGIKK\n",
      "SGKK\n",
      ">sp|A0A024RBG1|NUD4B_HUMAN Diphosphoinositol polyphosphate phosphohydrolase NUDT4B OS=Homo sapiens OX=9606 GN=NUDT4B PE=3 SV=1\n",
      "MMKFKPNQTRTYDREGFKKRAACLCFRSEQEDEVLLVSSSRYPDQWIVPGGGMEPEEEPG\n",
      "GAAVREVYEEAGVKGKLGRLLGIFEQNQDRKHRTYVYVLTVTEILEDWEDSVNIGRKREW\n",
      "FKVEDAIKVLQCHKPVHAEYLEKLKLGCSPANGNSTVPSLPDNNALFVTAAQTSGLPSSV\n",
      "R\n",
      ">tr|A0A075B6H5|A0A075B6H5_HUMAN T cell receptor beta variable 20/OR9-2 (non-functional) (Fragment) OS=Homo sapiens OX=9606 GN=TRBV20OR9-2 PE=4 SV=1\n",
      "METVVTTLPREGGVGPSRKMLLLLLLLGPGSGLSAVVSQHPSRVICKSGTSVNIECRSLD\n"
     ]
    }
   ],
   "source": [
    "human_fasta = os.path.join(QFO_EUKARYOTA_FOLDER, \"UP000005640_9606.fasta\")\n",
    "! head $human_fasta"
   ]
  },
  {
   "cell_type": "code",
   "execution_count": 11,
   "metadata": {},
   "outputs": [
    {
     "name": "stdout",
     "output_type": "stream",
     "text": [
      ">sp|A0A024RBG1|NUD4B_HUMAN Diphosphoinositol polyphosphate phosphohydrolase NUDT4B OS=Homo sapiens OX=9606 GN=NUDT4B PE=3 SV=1\n",
      ">sp|A0A075B6H9|LV469_HUMAN Immunoglobulin lambda variable 4-69 OS=Homo sapiens OX=9606 GN=IGLV4-69 PE=1 SV=1\n",
      ">sp|A0A075B6I0|LV861_HUMAN Immunoglobulin lambda variable 8-61 OS=Homo sapiens OX=9606 GN=IGLV8-61 PE=3 SV=7\n",
      ">sp|A0A075B6I1|LV460_HUMAN Immunoglobulin lambda variable 4-60 OS=Homo sapiens OX=9606 GN=IGLV4-60 PE=3 SV=1\n",
      ">sp|A0A075B6I4|LVX54_HUMAN Immunoglobulin lambda variable 10-54 OS=Homo sapiens OX=9606 GN=IGLV10-54 PE=3 SV=1\n",
      ">sp|A0A075B6I9|LV746_HUMAN Immunoglobulin lambda variable 7-46 OS=Homo sapiens OX=9606 GN=IGLV7-46 PE=3 SV=4\n",
      ">sp|A0A075B6J1|LV537_HUMAN Immunoglobulin lambda variable 5-37 OS=Homo sapiens OX=9606 GN=IGLV5-37 PE=3 SV=1\n",
      ">sp|A0A075B6J6|LV322_HUMAN Immunoglobulin lambda variable 3-22 OS=Homo sapiens OX=9606 GN=IGLV3-22 PE=3 SV=1\n",
      ">sp|A0A075B6J9|LV218_HUMAN Immunoglobulin lambda variable 2-18 OS=Homo sapiens OX=9606 GN=IGLV2-18 PE=3 SV=2\n",
      ">sp|A0A075B6K0|LV316_HUMAN Immunoglobulin lambda variable 3-16 OS=Homo sapiens OX=9606 GN=IGLV3-16 PE=3 SV=2\n"
     ]
    }
   ],
   "source": [
    "! grep 'sp|' $human_fasta | head"
   ]
  },
  {
   "cell_type": "code",
   "execution_count": 12,
   "metadata": {},
   "outputs": [
    {
     "name": "stdout",
     "output_type": "stream",
     "text": [
      ">sp|P61981|1433G_HUMAN 14-3-3 protein gamma OS=Homo sapiens OX=9606 GN=YWHAG PE=1 SV=2\n"
     ]
    }
   ],
   "source": [
    "! grep P61981 $human_fasta"
   ]
  },
  {
   "cell_type": "markdown",
   "metadata": {},
   "source": [
    "## Get Human Uniprot IDs from QFO that are also present in the BUSCO Mapping"
   ]
  },
  {
   "cell_type": "code",
   "execution_count": 13,
   "metadata": {},
   "outputs": [
    {
     "name": "stdout",
     "output_type": "stream",
     "text": [
      "(22539, 3)\n"
     ]
    },
    {
     "data": {
      "text/html": [
       "<div>\n",
       "<style scoped>\n",
       "    .dataframe tbody tr th:only-of-type {\n",
       "        vertical-align: middle;\n",
       "    }\n",
       "\n",
       "    .dataframe tbody tr th {\n",
       "        vertical-align: top;\n",
       "    }\n",
       "\n",
       "    .dataframe thead th {\n",
       "        text-align: right;\n",
       "    }\n",
       "</style>\n",
       "<table border=\"1\" class=\"dataframe\">\n",
       "  <thead>\n",
       "    <tr style=\"text-align: right;\">\n",
       "      <th></th>\n",
       "      <th>source__uniprot_id</th>\n",
       "      <th>source__id_type</th>\n",
       "      <th>source__db_id</th>\n",
       "    </tr>\n",
       "  </thead>\n",
       "  <tbody>\n",
       "    <tr>\n",
       "      <th>102</th>\n",
       "      <td>P61981</td>\n",
       "      <td>OrthoDB</td>\n",
       "      <td>1176818at2759</td>\n",
       "    </tr>\n",
       "    <tr>\n",
       "      <th>200</th>\n",
       "      <td>P27348</td>\n",
       "      <td>OrthoDB</td>\n",
       "      <td>1176818at2759</td>\n",
       "    </tr>\n",
       "    <tr>\n",
       "      <th>300</th>\n",
       "      <td>P30443</td>\n",
       "      <td>OrthoDB</td>\n",
       "      <td>1390181at2759</td>\n",
       "    </tr>\n",
       "    <tr>\n",
       "      <th>357</th>\n",
       "      <td>Q96QU6</td>\n",
       "      <td>OrthoDB</td>\n",
       "      <td>1156861at2759</td>\n",
       "    </tr>\n",
       "    <tr>\n",
       "      <th>786</th>\n",
       "      <td>P10321</td>\n",
       "      <td>OrthoDB</td>\n",
       "      <td>1390181at2759</td>\n",
       "    </tr>\n",
       "  </tbody>\n",
       "</table>\n",
       "</div>"
      ],
      "text/plain": [
       "    source__uniprot_id source__id_type  source__db_id\n",
       "102             P61981         OrthoDB  1176818at2759\n",
       "200             P27348         OrthoDB  1176818at2759\n",
       "300             P30443         OrthoDB  1390181at2759\n",
       "357             Q96QU6         OrthoDB  1156861at2759\n",
       "786             P10321         OrthoDB  1390181at2759"
      ]
     },
     "execution_count": 13,
     "metadata": {},
     "output_type": "execute_result"
    }
   ],
   "source": [
    "\n",
    "def read_ids_filter_orthodb(filename):\n",
    "    df = pd.read_csv(\n",
    "        filename, sep=\"\\t\", header=None, names=[\"uniprot_id\", \"id_type\", \"db_id\"]\n",
    "    )\n",
    "    df.columns = \"source__\" + df.columns\n",
    "\n",
    "    df = df.query('source__id_type == \"OrthoDB\"')\n",
    "    return df\n",
    "\n",
    "\n",
    "human_ids_busco = read_ids_filter_orthodb(\n",
    "    os.path.join(QFO_EUKARYOTA_FOLDER, \"UP000005640_9606.idmapping\")\n",
    ")\n",
    "print(human_ids_busco.shape)\n",
    "human_ids_busco.head()"
   ]
  },
  {
   "cell_type": "code",
   "execution_count": 14,
   "metadata": {},
   "outputs": [],
   "source": [
    "csv = os.path.join(\n",
    "    QFO_EUKARYOTA_FOLDER,\n",
    "    \"busco_mammalia_human_uniprot_ids_in_qfo.csv\",\n",
    ")\n",
    "\n",
    "human_ids_busco.to_csv(\n",
    "    csv,\n",
    "    index=False,\n",
    ")"
   ]
  },
  {
   "cell_type": "code",
   "execution_count": 15,
   "metadata": {},
   "outputs": [
    {
     "data": {
      "text/plain": [
       "3"
      ]
     },
     "execution_count": 15,
     "metadata": {},
     "output_type": "execute_result"
    }
   ],
   "source": [
    "2+1"
   ]
  },
  {
   "cell_type": "markdown",
   "metadata": {},
   "source": [
    "\n",
    "### How many fasta entries in the human proteome fasta?"
   ]
  },
  {
   "cell_type": "code",
   "execution_count": 16,
   "metadata": {},
   "outputs": [
    {
     "name": "stdout",
     "output_type": "stream",
     "text": [
      "20874\n"
     ]
    }
   ],
   "source": [
    "! grep -c '>' $human_fasta"
   ]
  },
  {
   "cell_type": "markdown",
   "metadata": {},
   "source": [
    "## Perform subsetting of QFO fasta files from uniprot IDs present in BUSCO"
   ]
  },
  {
   "cell_type": "code",
   "execution_count": 17,
   "metadata": {},
   "outputs": [
    {
     "name": "stdout",
     "output_type": "stream",
     "text": [
      "8904\n"
     ]
    },
    {
     "data": {
      "text/plain": [
       "[{'name': 'sp|A0A087WTH1|TM265_HUMAN Transmembrane protein 265 OS=Homo sapiens OX=9606 GN=TMEM265 PE=3 SV=1', 'sequence': 'MEDEEKAVEILGNTEAAHPPSPIRCCWLRLRCLAATSIICGCSCLGVMALVFAIKAEERHKAGRSEEAVRWGARARKLILASFAVWLAVLILGPLLLWLLSYAIAQAE', 'description': ''},\n",
       " {'name': 'sp|A0A087WTH5|KCE1B_HUMAN Potassium voltage-gated channel subfamily E member 1B OS=Homo sapiens OX=9606 GN=KCNE1B PE=3 SV=2', 'sequence': 'MPRMILSNTTAVTPFLTKLWQETVQQGGNMSGLARRSPRSGDGKLEALYVLMVLGFFGFFTLGIMLSYIRSKKLEHSNDPFNVYIESNAWQEKDKAYVQARVLESYRSCYVVENHLAIEQPNTHLPETKPSP', 'description': ''},\n",
       " {'name': 'sp|A0A087WWA1|P3URF_HUMAN PIK3R3 upstream open reading frame protein OS=Homo sapiens OX=9606 GN=P3R3URF PE=4 SV=1', 'sequence': 'MGPSRLVRGPRPQGMRSPYRRPGMGWPRPRFPRMFKCSRRRYQQGLRGRTASSAAINPATRAMGINNTHTDTTIVWIFPPQVLRHLRQPGIFLIL', 'description': ''}]"
      ]
     },
     "execution_count": 17,
     "metadata": {},
     "output_type": "execute_result"
    }
   ],
   "source": [
    "def subset_by_uniprot_ids(fasta, uniprot_ids):\n",
    "    records_subset = []\n",
    "    with screed.open(fasta) as records:\n",
    "        for record in records:\n",
    "            name = record[\"name\"]\n",
    "            record_id = name.split()[0]\n",
    "            uniprot_id = record_id.split(\"|\")[1]\n",
    "            if uniprot_id in uniprot_ids:\n",
    "                records_subset.append(record)\n",
    "    return records_subset\n",
    "\n",
    "\n",
    "def write_fasta(output_fasta, records):\n",
    "    with open(output_fasta, \"w\") as f:\n",
    "        for record in records:\n",
    "            f.write(\">{name}\\n{sequence}\\n\".format(**record))\n",
    "\n",
    "\n",
    "# human fasta = protein sequences from quest for orthologs\n",
    "human_busco_mammalia_records = subset_by_uniprot_ids(\n",
    "    human_fasta, set(odb_xrefs_uniprot_busco_mammalia.external_db_gene_id.values)\n",
    ")\n",
    "print(len(human_busco_mammalia_records))\n",
    "human_busco_mammalia_records[:3]"
   ]
  },
  {
   "cell_type": "code",
   "execution_count": 18,
   "metadata": {},
   "outputs": [],
   "source": [
    "write_fasta(\n",
    "    os.path.join(QFO_EUKARYOTA_FOLDER, \"UP000005640_9606__busco_mammlia_odbv10.fasta\"),\n",
    "    human_busco_mammalia_records,\n",
    ")"
   ]
  },
  {
   "cell_type": "markdown",
   "metadata": {},
   "source": [
    "## Mouse"
   ]
  },
  {
   "cell_type": "markdown",
   "metadata": {},
   "source": [
    "### Get mouse proteome fasta from QfO\n",
    "Mouse taxononmy id is `10090`"
   ]
  },
  {
   "cell_type": "code",
   "execution_count": 19,
   "metadata": {},
   "outputs": [
    {
     "name": "stdout",
     "output_type": "stream",
     "text": [
      "-rw-r--r-- 1 olgabot  14M Jul 25 12:46 /Users/olgabot/Downloads/00-orpheum-benchmarking/00-external-data/quest-for-orthologs/2019/Eukaryota/UP000000589_10090.fasta\n",
      "-rw-r--r-- 1 olgabot  44M Jul 25 12:45 /Users/olgabot/Downloads/00-orpheum-benchmarking/00-external-data/quest-for-orthologs/2019/Eukaryota/UP000000589_10090.idmapping\n",
      "-rw-r--r-- 1 olgabot 5.9M Jul 25 12:47 /Users/olgabot/Downloads/00-orpheum-benchmarking/00-external-data/quest-for-orthologs/2019/Eukaryota/UP000000589_10090__busco_mammlia_odbv10.fasta\n"
     ]
    }
   ],
   "source": [
    "ls -lha $QFO_EUKARYOTA_FOLDER/*10090*"
   ]
  },
  {
   "cell_type": "code",
   "execution_count": 20,
   "metadata": {},
   "outputs": [
    {
     "name": "stdout",
     "output_type": "stream",
     "text": [
      "head: cannot open '/Users/olgabot/Downloads/00-orpheum-benchmarking/00-external-data/quest-for-orthologs/2019/Eukaryota/UP000000589_10090_DNA.fasta' for reading: No such file or directory\n"
     ]
    }
   ],
   "source": [
    "! head $QFO_EUKARYOTA_FOLDER/UP000000589_10090_DNA.fasta"
   ]
  },
  {
   "cell_type": "code",
   "execution_count": 21,
   "metadata": {},
   "outputs": [
    {
     "name": "stdout",
     "output_type": "stream",
     "text": [
      "(19931, 3)\n"
     ]
    },
    {
     "data": {
      "text/html": [
       "<div>\n",
       "<style scoped>\n",
       "    .dataframe tbody tr th:only-of-type {\n",
       "        vertical-align: middle;\n",
       "    }\n",
       "\n",
       "    .dataframe tbody tr th {\n",
       "        vertical-align: top;\n",
       "    }\n",
       "\n",
       "    .dataframe thead th {\n",
       "        text-align: right;\n",
       "    }\n",
       "</style>\n",
       "<table border=\"1\" class=\"dataframe\">\n",
       "  <thead>\n",
       "    <tr style=\"text-align: right;\">\n",
       "      <th></th>\n",
       "      <th>source__uniprot_id</th>\n",
       "      <th>source__id_type</th>\n",
       "      <th>source__db_id</th>\n",
       "    </tr>\n",
       "  </thead>\n",
       "  <tbody>\n",
       "    <tr>\n",
       "      <th>51</th>\n",
       "      <td>Q9CQV8</td>\n",
       "      <td>OrthoDB</td>\n",
       "      <td>EOG091G0VKY</td>\n",
       "    </tr>\n",
       "    <tr>\n",
       "      <th>115</th>\n",
       "      <td>O70456</td>\n",
       "      <td>OrthoDB</td>\n",
       "      <td>EOG091G0VKY</td>\n",
       "    </tr>\n",
       "    <tr>\n",
       "      <th>212</th>\n",
       "      <td>P63101</td>\n",
       "      <td>OrthoDB</td>\n",
       "      <td>EOG091G0VKY</td>\n",
       "    </tr>\n",
       "    <tr>\n",
       "      <th>259</th>\n",
       "      <td>A2AIG8</td>\n",
       "      <td>OrthoDB</td>\n",
       "      <td>EOG091G04H3</td>\n",
       "    </tr>\n",
       "    <tr>\n",
       "      <th>327</th>\n",
       "      <td>Q6ZWR4</td>\n",
       "      <td>OrthoDB</td>\n",
       "      <td>EOG091G09BB</td>\n",
       "    </tr>\n",
       "  </tbody>\n",
       "</table>\n",
       "</div>"
      ],
      "text/plain": [
       "    source__uniprot_id source__id_type source__db_id\n",
       "51              Q9CQV8         OrthoDB   EOG091G0VKY\n",
       "115             O70456         OrthoDB   EOG091G0VKY\n",
       "212             P63101         OrthoDB   EOG091G0VKY\n",
       "259             A2AIG8         OrthoDB   EOG091G04H3\n",
       "327             Q6ZWR4         OrthoDB   EOG091G09BB"
      ]
     },
     "execution_count": 21,
     "metadata": {},
     "output_type": "execute_result"
    }
   ],
   "source": [
    "mouse_ids_busco = read_ids_filter_orthodb(\n",
    "    os.path.join(QFO_EUKARYOTA_FOLDER, \"UP000000589_10090.idmapping\")\n",
    ")\n",
    "print(mouse_ids_busco.shape)\n",
    "mouse_ids_busco.head()"
   ]
  },
  {
   "cell_type": "markdown",
   "metadata": {},
   "source": [
    "### Subset mouse protein fasta on BUSCO Mammalia UniProt IDs"
   ]
  },
  {
   "cell_type": "code",
   "execution_count": 22,
   "metadata": {},
   "outputs": [
    {
     "name": "stdout",
     "output_type": "stream",
     "text": [
      "8670\n"
     ]
    },
    {
     "data": {
      "text/plain": [
       "[{'name': 'tr|A0A087WP46|A0A087WP46_MOUSE cDNA sequence BC034090 OS=Mus musculus OX=10090 GN=BC034090 PE=1 SV=1', 'sequence': 'MEGMEAAAKPARRSQASRPGSTTSPTQVTPAMARDGAEQPDSGPLPRPSPCPQEDRASNLMPPKPPRTWGLQLQGPSVLESKVKALKEKMTAGKQGTDPRPTSYERPSPTKSKCHQVKTGVAWSLPDALVVPHAQNPNDGHLARHVNEKKPARNSGSKPSTPESWNEQSPWSPEAVWMPADHEEDPVAGSGSLQESPNNRVSAVQPQRPGPCKTTPLSSQKKRRQYPLGDGIVTKEDLDSTTLTSKEDLIPRTDQPETFWRAQGLEALGSVANALSLSDRVERNRLLLQEILKVSRQSPPKAGSPDWTSWDRDASERPAGDVDWDSGTPQQDSGQSRTFVPKLEPTLSARHEEAKNLLRRARMKAKTQPLRASHDIVPTIAQGCRNGQRSPAPELRTTSAYRENLQNGNLNDPSSIESSNGQWPKQEMPLSHVRFEDESAHEAEFRYLDRLQQRQRQVLSTVLHAVDQGPLRSKPDLTNYINRIVGNSSFHRAVGCLDQSNFPVPPPPWDNERKCPACGSCLEERCPAEERAASDLRVLRSLQAACEAEAVLLGPCNSHGLSSPFPGLHTEWIRETHITDTVATHPEEEEDSALDSTHSSDSWKDGTDARTSQSSRAGEQIRVSSPQQRWHGSRPQGGPRWSRKAEAELPCGLQAWSHLPQLDDGVVGGEGREASGHIPQGTLFPEEDAVPKPALEPKRPWSQGQLGPRSGSHCAHPEDCRSPCRTAYAVPFSKTRGSSGSGQPPDQVPESHESLKTLCTSPLQRSHEEPSAPLPASQSTLTLPEEVPTPPSLRKSLCPMPPRKSVQKGHHWQEHQAEHMDSPLPVSPPRTVVLTRPQPQPCSPQVKHPLLDLFNNNSSSSIPLGLQGPSGVAVHRNRSEKDQCCQEPVLPLESNGDGTLQDSLQSVDIATVNSTAITLALTSEEPERSQEWGGGSQRTGSSSGGHVPTGASLEASAGHRSPSSTHSDGNKKRRSSITSALGLKKLFSALGHTPQPRLGPSRSYSVEQLQPSALAPQTSTPKVKRAPSLQTLHLVSSSHQHRRATSFQNLHSLLGGKGDRSSLYLVEGSGDSSGPSRPAKAFPHRALSVEDVGAPSLARTVGRVVEVFPDGTSQLQLQRPPKGTFGFHVAHGSGRRDSGLYVQAMADLDTAKLYSGLLRVGDEILEVGGAKVAGLGLAHIKELLAHAESLSIRVLRQRPVPQ', 'description': ''},\n",
       " {'name': 'tr|A0A087WQ44|A0A087WQ44_MOUSE Snf2-related CREBBP activator protein OS=Mus musculus OX=10090 GN=Srcap PE=1 SV=1', 'sequence': 'MQSSPSTAHPQLPILQTQMVSDGMTGSNPVSPASSSSPDSSGAGGISPQHIAQDSSLDGPPGPQDGTTVPLEGFSLSHAADLVNRGQKWEKSHAEIAEQAKHEAEIETRIAELRKEGFWSLKRLPKVPEPPRPKGHWDYLCEEMQWLSADFAQERRWKRGVARKVVRMVIRHHEEQRQKEERARREEQAKLRRIASTMAKDVRQFWSNVEKVVQFKQQSRLEEKRKKALDLHLDFIVGQTEKYSDLLSQSLNQPPASSKAGSSPCLGSSSAASSPPPPVSRLDDEDGDFQPQEEEEEDDEETIEVEEQQEGNDAETQRREIELLRHEGELPLEELLRSLPPQLLGGPFSPSQTPSHDSDTQDGPEENIEEEPSQDLEVHPPSSAVTQCNKQRWHPDEDDEEFTANEDEAEDEEDTIAAEEQLEGEVDHAMELSELAREGELSMEELLQQYAGAYACDASAPASGDSEDEDEVEANSSDGELEETVEEAAQEDSSSQSDSAEECSEDEEDEHSEEEMSGSSQSEESESDESEDAQSQSQADEEQDDEGEDDDVDDDDDDGFGVEYLLARDDERSEVDGGSGPPTPGPTTTLGPKKEITDIAAAAESLQPKGYTLATTQVKTPIPLLLRGQLREYQHIGLDWLVTMYEKKLNGILADEMGLGKTIQTISLLAHLACEKGNWGPHLIIVPTSVMLNWEMELKRWCPSFKILTYYGAQKERKLKRQGWTKPNAFHVCITSYKLVLQDHQAFRRKNWRYLILDEAQNIKNFKSQRWQSLLNFNSQRRLLLTGTPLQNSLMELWSLMHFLMPHVFQSHREFKEWFSNPLTGMIEGSQEYNEGLVKRLHKVLRPFLLRRVKVDVEKQMPKKYEHVIRCRLSKRQRCLYDDFMAQTTTKETLATGHFMSVINILMQLRKVCNHPNLFDPRPVTSPFITPGICFSTASLVLRATEVHPLQRIDMGRFDLIGLEGRVSRYEADTFLPRHRLSHRILLEIATAPDPPPRPKPVKMKVNRMLQPVPKQEGRTVVVVNSPRPPLGPVPVRPPPGPEVSAQPALGPVPPVLPAPLMVSASPAGTPVVPASRPPGPVLLSPLQPNTGPLPQVLPSPVGVMSGTSRPPTPTLSLKPAPPAPVRLSPAPPPGSSSLLKPLTVPPGYTLSPVAATTTSSTIATVTTTAVPAPNSTPQRLILSPEMQARLPSGEVVSIGQLASLAQRPVTSAGGSKPLTFQIQGNKLTLTGAQVRQLAVGQPRPLQRNVVHLVSAGGQHHLISQPAHVALVQAVAPTPGPTPVSVLPSTPSTTPAPTGLSLPLAANQVPPSMVNNTGVVKIVVRQAPRDGLTPVPPLAPAPRPSSSGLPAVLTSRPTLTPSRLSSPTLGTTRTPIPTPTLVRPLLKLVHSPSPEVSASAPGAAPMTISSSLHMPSSLPGPASSPMTIHNSSPLSSPVSSTVSVPVSSSLPISVPTTLPVPTSAPLPIPITAPLPVSDLGPALLTSVTPALAVVSAASGPPLASAGVSPSMSALALGLATTPALSPPQTSGHSLLLATTSSHVPGLNSAVAPACSPVLVSASALTSPFPVSPSSAPAQASLLAAAPSTSQALATSLAPMAASQTAILGPSPTPPLAPLPVLAASQTPLPAMTPPSMSGTPLPSSSLVSAPTSVLAPSSTQTLVSTPVSSPLSSLASTQTLTLAPTLAPTLGGLSPSQTHSLGTGSPQGPFPIQTLSLTPASSLVPTPAQTLSLAPGGPVGPTQTLSLAPVPPLPPSSPVGPAPGHTLTLAPAASSASLLVPTSVQTLTLSPAPVPVPTLDLSATQTLALAPALTQAPASQASSLVSASGAASLPVTMVNRLPVPKDEPETLTLRSGPPSPLPTATSFSGPRPRRQPPPPPRSPFYLDSLEEKRKQQRSERLDRIFQLSEAHGALAPVYGTEVLDFCTLPQPVASPIGPRSPGPSHPIFWTYTEAARRAVLFPQQRLEQLSEIIERFIFVMPPVEAPPPSLHACHPPPWLAPHQAAFQEQLACELWPRARPLHRIVCNMRTQFPDLRLIQYDCGKLQTLAVLLRQLKAEGHRVLIFTQMTRMLDVLEQFLTYHGHLYLRLDGSTRVEQRQALMERFNADKRIFCFILSTRSGGVGVNLTGADTVVFYDSDWNPTMDAQAQDRCHRIGQTRDVHIYRLISERTVEENILKKANQKRMLGDMAIEGGNFTTAYFKQQTIRELFDMPLEEPPGSSVSSVPEDEEEAVASKQTHILEQALCRAEDEEDIRAATQAKAEQVAELAEFNENDGFPAGEGEEANRPGPGAEDEEMSRAEQEIAALVEQLTPIERYAMKFLEASLEEVSREELKQAEEQVEAARKDLDQAKEEVFRLPHEEEEGPGAGDEMSCGSSGASHRRSKKIRAPERLGTRVSERLRGARAETQGANHTPVTSSHHTCNTFVPPQCSPVRERIPRPVPRPRPPPPPPAPPPPPAPPASPSPAPPPPPAPASPAPPAPPASPPAASPSPAPLPPAASVASAITSALATAPIPISAPNPVTILPVHILPTPPLLQLPPSSSPASTPPSACTPLPTCTPLQAQTSVLTSSSPAPLDSLSVPISPGVTNLPLDSGEVGLCAQELAPVESLELPGMTNSEASLASLVSPKDLLPVAVDILPESEKTLPCIPAPSSTLEAESIPNGQQQEVPGPVEGTNTTLLPGSEELTMSLNESNGLELPPSAASAEPLDELLETHRNSGETREVQIPISNSEKPQELVRAEVTAPSTSSSATSSPEGPLPARPPRRRTSADVEIRGQGSGRTGQLPGPKVLRKLPGRLVTVVEEKELVKRRRHRAPASTLVPGVSEVSASPRSPSIHSMSGPESSPPSSGPCEAAPTSSLSTPTQSTFIACRHNELGTTTGGSPENGEGTELAITPPAVKRRRGRPPKKNRSPADAGRGVDEVPSSISKGKTNGVDPVPGPETVTVAEPDLRPQFVPGPQPPGPQPVHRPEPTILSPVEKRRRGRPPKARDLPIPGTISSPGGGNLESRTQSLPFPAPLTPLLACPTAVTNTVTTVTISTSPPKRKRGRPPKNPPSPRPSQHPVLDPDSSSILESCGLGVQRQPLGQAESEGSSSDEDGSRPLTRLARLRLEAEGMRGRKSEGSMVMAVIQDDLDLADSGPSGLELTPPVVSLTPKFRSTRLRPGSLVPPLETEKMPRKRSGAPVGSSGMAKRGRLQPPSPLGPEGSVEESEVEASGDEEEGDGTPRRRTGPRRLVGTTNQGDQRILRSSAPPHLCIPTISHRGRKAKT', 'description': ''},\n",
       " {'name': 'tr|A0A087WR45|A0A087WR45_MOUSE Proline-rich basic protein 1 OS=Mus musculus OX=10090 GN=Prob1 PE=1 SV=1', 'sequence': 'MLTALAPLALPGLSRRLPAPAGRQDSSGSSGSYHTAPGSPEPPDVGPDTEGRGTWLWVAPGRGAGAQPVLSVSAQNSRQQHGSGSGFPRGPGSGPLPPRPQLRMLPSGEMEVIFGAGPLFNRSDAEDLQEQQLMAPTFSSPQLPGPASPASVSSQPQVPDGGSRWATYLELPPREPSPAVSGQYECVEVALEERSAPVRPRTVPKRQIELRPRPRSPSQDSRAPRPRLLLRTGSLDESLSRLQAAAGIVQTALARKLGSAVPAPSNVTFKSTAKPESTTNSQETTDSTRVLLEEAKSRPPRAHDNSSSARVPRPWPSLRERAIRRDKPAPGTEPLGPVSSSIFLQSEEKPHQAYKQESKTQFPRETPDRTVPRARSPPFHSRGSRVVPSRVVRPRSPSPPQQAPNGSPHNPPQPSKIVWRRSSPAFPGGTSSAWENRNASVEEVVSRRTPSPPPLPQWTQGVARVGNPCPEAPLVWKVPNSRGGDAVGLSRDSSLPALLPREAPHPIETRTPSPGETWSPVVQGASTALHQEAMNGLTQELEPPTPSAPATPELTEALCLLSLENAGIAVRGGQRSPDVDTPEQPRSHLTSTLDDDVCPEAVGSGEAASERPRVTIPRPRDVRKMVKTTYAPSFPAGTPGSGLPAPPADTCGEDGDASKTHKLPALESPAPAHYTSIFLKDFLPVVPHPYESPEPSLHATPKDASQSSGVPRRRAENSTAKPFARSEIRLPGALAFGQRREKTPSVQRRGPGGENPDAEAQRLVRDPEGRTSPLGGARTSTQCSPLESTGTRPPRPGSPQACPNSSLRAAPELETPLVAPATAVQAPLLPDHPATAARAAAPFPRAASAPPTDRLPPASSLGRRPPGAAPAGKVLVDPESGRYYFVEAPRQPRLRLLFDPESGQYVEVLLPPSPSPSRQPRQPYAPLALGPGLYPPAYGPISGPSLSPLSPNLSALGSLQLPWAPEAGPLEGMYYMPLSGTPSPAPPMLFCAPPSSSGPIQSSKGSVFPL', 'description': ''}]"
      ]
     },
     "execution_count": 22,
     "metadata": {},
     "output_type": "execute_result"
    }
   ],
   "source": [
    "mouse_fasta = os.path.join(QFO_EUKARYOTA_FOLDER, 'UP000000589_10090.fasta')\n",
    "mouse_busco_mammalia_records = subset_by_uniprot_ids(mouse_fasta, set(odb_xrefs_uniprot_busco_mammalia.external_db_gene_id.values))\n",
    "print(len(mouse_busco_mammalia_records))\n",
    "mouse_busco_mammalia_records[:3]"
   ]
  },
  {
   "cell_type": "code",
   "execution_count": 23,
   "metadata": {},
   "outputs": [],
   "source": [
    "mouse_new_fasta = os.path.join(\n",
    "    QFO_EUKARYOTA_FOLDER, \"UP000000589_10090__busco_mammlia_odbv10.fasta\"\n",
    ")\n",
    "write_fasta(\n",
    "    mouse_new_fasta,\n",
    "    mouse_busco_mammalia_records,\n",
    ")"
   ]
  },
  {
   "cell_type": "code",
   "execution_count": 24,
   "metadata": {},
   "outputs": [
    {
     "name": "stdout",
     "output_type": "stream",
     "text": [
      ">tr|A0A087WP46|A0A087WP46_MOUSE cDNA sequence BC034090 OS=Mus musculus OX=10090 GN=BC034090 PE=1 SV=1\n",
      "MEGMEAAAKPARRSQASRPGSTTSPTQVTPAMARDGAEQPDSGPLPRPSPCPQEDRASNLMPPKPPRTWGLQLQGPSVLESKVKALKEKMTAGKQGTDPRPTSYERPSPTKSKCHQVKTGVAWSLPDALVVPHAQNPNDGHLARHVNEKKPARNSGSKPSTPESWNEQSPWSPEAVWMPADHEEDPVAGSGSLQESPNNRVSAVQPQRPGPCKTTPLSSQKKRRQYPLGDGIVTKEDLDSTTLTSKEDLIPRTDQPETFWRAQGLEALGSVANALSLSDRVERNRLLLQEILKVSRQSPPKAGSPDWTSWDRDASERPAGDVDWDSGTPQQDSGQSRTFVPKLEPTLSARHEEAKNLLRRARMKAKTQPLRASHDIVPTIAQGCRNGQRSPAPELRTTSAYRENLQNGNLNDPSSIESSNGQWPKQEMPLSHVRFEDESAHEAEFRYLDRLQQRQRQVLSTVLHAVDQGPLRSKPDLTNYINRIVGNSSFHRAVGCLDQSNFPVPPPPWDNERKCPACGSCLEERCPAEERAASDLRVLRSLQAACEAEAVLLGPCNSHGLSSPFPGLHTEWIRETHITDTVATHPEEEEDSALDSTHSSDSWKDGTDARTSQSSRAGEQIRVSSPQQRWHGSRPQGGPRWSRKAEAELPCGLQAWSHLPQLDDGVVGGEGREASGHIPQGTLFPEEDAVPKPALEPKRPWSQGQLGPRSGSHCAHPEDCRSPCRTAYAVPFSKTRGSSGSGQPPDQVPESHESLKTLCTSPLQRSHEEPSAPLPASQSTLTLPEEVPTPPSLRKSLCPMPPRKSVQKGHHWQEHQAEHMDSPLPVSPPRTVVLTRPQPQPCSPQVKHPLLDLFNNNSSSSIPLGLQGPSGVAVHRNRSEKDQCCQEPVLPLESNGDGTLQDSLQSVDIATVNSTAITLALTSEEPERSQEWGGGSQRTGSSSGGHVPTGASLEASAGHRSPSSTHSDGNKKRRSSITSALGLKKLFSALGHTPQPRLGPSRSYSVEQLQPSALAPQTSTPKVKRAPSLQTLHLVSSSHQHRRATSFQNLHSLLGGKGDRSSLYLVEGSGDSSGPSRPAKAFPHRALSVEDVGAPSLARTVGRVVEVFPDGTSQLQLQRPPKGTFGFHVAHGSGRRDSGLYVQAMADLDTAKLYSGLLRVGDEILEVGGAKVAGLGLAHIKELLAHAESLSIRVLRQRPVPQ\n",
      ">tr|A0A087WQ44|A0A087WQ44_MOUSE Snf2-related CREBBP activator protein OS=Mus musculus OX=10090 GN=Srcap PE=1 SV=1\n",
      "MQSSPSTAHPQLPILQTQMVSDGMTGSNPVSPASSSSPDSSGAGGISPQHIAQDSSLDGPPGPQDGTTVPLEGFSLSHAADLVNRGQKWEKSHAEIAEQAKHEAEIETRIAELRKEGFWSLKRLPKVPEPPRPKGHWDYLCEEMQWLSADFAQERRWKRGVARKVVRMVIRHHEEQRQKEERARREEQAKLRRIASTMAKDVRQFWSNVEKVVQFKQQSRLEEKRKKALDLHLDFIVGQTEKYSDLLSQSLNQPPASSKAGSSPCLGSSSAASSPPPPVSRLDDEDGDFQPQEEEEEDDEETIEVEEQQEGNDAETQRREIELLRHEGELPLEELLRSLPPQLLGGPFSPSQTPSHDSDTQDGPEENIEEEPSQDLEVHPPSSAVTQCNKQRWHPDEDDEEFTANEDEAEDEEDTIAAEEQLEGEVDHAMELSELAREGELSMEELLQQYAGAYACDASAPASGDSEDEDEVEANSSDGELEETVEEAAQEDSSSQSDSAEECSEDEEDEHSEEEMSGSSQSEESESDESEDAQSQSQADEEQDDEGEDDDVDDDDDDGFGVEYLLARDDERSEVDGGSGPPTPGPTTTLGPKKEITDIAAAAESLQPKGYTLATTQVKTPIPLLLRGQLREYQHIGLDWLVTMYEKKLNGILADEMGLGKTIQTISLLAHLACEKGNWGPHLIIVPTSVMLNWEMELKRWCPSFKILTYYGAQKERKLKRQGWTKPNAFHVCITSYKLVLQDHQAFRRKNWRYLILDEAQNIKNFKSQRWQSLLNFNSQRRLLLTGTPLQNSLMELWSLMHFLMPHVFQSHREFKEWFSNPLTGMIEGSQEYNEGLVKRLHKVLRPFLLRRVKVDVEKQMPKKYEHVIRCRLSKRQRCLYDDFMAQTTTKETLATGHFMSVINILMQLRKVCNHPNLFDPRPVTSPFITPGICFSTASLVLRATEVHPLQRIDMGRFDLIGLEGRVSRYEADTFLPRHRLSHRILLEIATAPDPPPRPKPVKMKVNRMLQPVPKQEGRTVVVVNSPRPPLGPVPVRPPPGPEVSAQPALGPVPPVLPAPLMVSASPAGTPVVPASRPPGPVLLSPLQPNTGPLPQVLPSPVGVMSGTSRPPTPTLSLKPAPPAPVRLSPAPPPGSSSLLKPLTVPPGYTLSPVAATTTSSTIATVTTTAVPAPNSTPQRLILSPEMQARLPSGEVVSIGQLASLAQRPVTSAGGSKPLTFQIQGNKLTLTGAQVRQLAVGQPRPLQRNVVHLVSAGGQHHLISQPAHVALVQAVAPTPGPTPVSVLPSTPSTTPAPTGLSLPLAANQVPPSMVNNTGVVKIVVRQAPRDGLTPVPPLAPAPRPSSSGLPAVLTSRPTLTPSRLSSPTLGTTRTPIPTPTLVRPLLKLVHSPSPEVSASAPGAAPMTISSSLHMPSSLPGPASSPMTIHNSSPLSSPVSSTVSVPVSSSLPISVPTTLPVPTSAPLPIPITAPLPVSDLGPALLTSVTPALAVVSAASGPPLASAGVSPSMSALALGLATTPALSPPQTSGHSLLLATTSSHVPGLNSAVAPACSPVLVSASALTSPFPVSPSSAPAQASLLAAAPSTSQALATSLAPMAASQTAILGPSPTPPLAPLPVLAASQTPLPAMTPPSMSGTPLPSSSLVSAPTSVLAPSSTQTLVSTPVSSPLSSLASTQTLTLAPTLAPTLGGLSPSQTHSLGTGSPQGPFPIQTLSLTPASSLVPTPAQTLSLAPGGPVGPTQTLSLAPVPPLPPSSPVGPAPGHTLTLAPAASSASLLVPTSVQTLTLSPAPVPVPTLDLSATQTLALAPALTQAPASQASSLVSASGAASLPVTMVNRLPVPKDEPETLTLRSGPPSPLPTATSFSGPRPRRQPPPPPRSPFYLDSLEEKRKQQRSERLDRIFQLSEAHGALAPVYGTEVLDFCTLPQPVASPIGPRSPGPSHPIFWTYTEAARRAVLFPQQRLEQLSEIIERFIFVMPPVEAPPPSLHACHPPPWLAPHQAAFQEQLACELWPRARPLHRIVCNMRTQFPDLRLIQYDCGKLQTLAVLLRQLKAEGHRVLIFTQMTRMLDVLEQFLTYHGHLYLRLDGSTRVEQRQALMERFNADKRIFCFILSTRSGGVGVNLTGADTVVFYDSDWNPTMDAQAQDRCHRIGQTRDVHIYRLISERTVEENILKKANQKRMLGDMAIEGGNFTTAYFKQQTIRELFDMPLEEPPGSSVSSVPEDEEEAVASKQTHILEQALCRAEDEEDIRAATQAKAEQVAELAEFNENDGFPAGEGEEANRPGPGAEDEEMSRAEQEIAALVEQLTPIERYAMKFLEASLEEVSREELKQAEEQVEAARKDLDQAKEEVFRLPHEEEEGPGAGDEMSCGSSGASHRRSKKIRAPERLGTRVSERLRGARAETQGANHTPVTSSHHTCNTFVPPQCSPVRERIPRPVPRPRPPPPPPAPPPPPAPPASPSPAPPPPPAPASPAPPAPPASPPAASPSPAPLPPAASVASAITSALATAPIPISAPNPVTILPVHILPTPPLLQLPPSSSPASTPPSACTPLPTCTPLQAQTSVLTSSSPAPLDSLSVPISPGVTNLPLDSGEVGLCAQELAPVESLELPGMTNSEASLASLVSPKDLLPVAVDILPESEKTLPCIPAPSSTLEAESIPNGQQQEVPGPVEGTNTTLLPGSEELTMSLNESNGLELPPSAASAEPLDELLETHRNSGETREVQIPISNSEKPQELVRAEVTAPSTSSSATSSPEGPLPARPPRRRTSADVEIRGQGSGRTGQLPGPKVLRKLPGRLVTVVEEKELVKRRRHRAPASTLVPGVSEVSASPRSPSIHSMSGPESSPPSSGPCEAAPTSSLSTPTQSTFIACRHNELGTTTGGSPENGEGTELAITPPAVKRRRGRPPKKNRSPADAGRGVDEVPSSISKGKTNGVDPVPGPETVTVAEPDLRPQFVPGPQPPGPQPVHRPEPTILSPVEKRRRGRPPKARDLPIPGTISSPGGGNLESRTQSLPFPAPLTPLLACPTAVTNTVTTVTISTSPPKRKRGRPPKNPPSPRPSQHPVLDPDSSSILESCGLGVQRQPLGQAESEGSSSDEDGSRPLTRLARLRLEAEGMRGRKSEGSMVMAVIQDDLDLADSGPSGLELTPPVVSLTPKFRSTRLRPGSLVPPLETEKMPRKRSGAPVGSSGMAKRGRLQPPSPLGPEGSVEESEVEASGDEEEGDGTPRRRTGPRRLVGTTNQGDQRILRSSAPPHLCIPTISHRGRKAKT\n",
      ">tr|A0A087WR45|A0A087WR45_MOUSE Proline-rich basic protein 1 OS=Mus musculus OX=10090 GN=Prob1 PE=1 SV=1\n",
      "MLTALAPLALPGLSRRLPAPAGRQDSSGSSGSYHTAPGSPEPPDVGPDTEGRGTWLWVAPGRGAGAQPVLSVSAQNSRQQHGSGSGFPRGPGSGPLPPRPQLRMLPSGEMEVIFGAGPLFNRSDAEDLQEQQLMAPTFSSPQLPGPASPASVSSQPQVPDGGSRWATYLELPPREPSPAVSGQYECVEVALEERSAPVRPRTVPKRQIELRPRPRSPSQDSRAPRPRLLLRTGSLDESLSRLQAAAGIVQTALARKLGSAVPAPSNVTFKSTAKPESTTNSQETTDSTRVLLEEAKSRPPRAHDNSSSARVPRPWPSLRERAIRRDKPAPGTEPLGPVSSSIFLQSEEKPHQAYKQESKTQFPRETPDRTVPRARSPPFHSRGSRVVPSRVVRPRSPSPPQQAPNGSPHNPPQPSKIVWRRSSPAFPGGTSSAWENRNASVEEVVSRRTPSPPPLPQWTQGVARVGNPCPEAPLVWKVPNSRGGDAVGLSRDSSLPALLPREAPHPIETRTPSPGETWSPVVQGASTALHQEAMNGLTQELEPPTPSAPATPELTEALCLLSLENAGIAVRGGQRSPDVDTPEQPRSHLTSTLDDDVCPEAVGSGEAASERPRVTIPRPRDVRKMVKTTYAPSFPAGTPGSGLPAPPADTCGEDGDASKTHKLPALESPAPAHYTSIFLKDFLPVVPHPYESPEPSLHATPKDASQSSGVPRRRAENSTAKPFARSEIRLPGALAFGQRREKTPSVQRRGPGGENPDAEAQRLVRDPEGRTSPLGGARTSTQCSPLESTGTRPPRPGSPQACPNSSLRAAPELETPLVAPATAVQAPLLPDHPATAARAAAPFPRAASAPPTDRLPPASSLGRRPPGAAPAGKVLVDPESGRYYFVEAPRQPRLRLLFDPESGQYVEVLLPPSPSPSRQPRQPYAPLALGPGLYPPAYGPISGPSLSPLSPNLSALGSLQLPWAPEAGPLEGMYYMPLSGTPSPAPPMLFCAPPSSSGPIQSSKGSVFPL\n",
      ">sp|A0A0A6YY25|BTBDI_MOUSE BTB/POZ domain-containing protein 18 OS=Mus musculus OX=10090 GN=Btbd18 PE=1 SV=1\n",
      "MCSPASSKILYRNPRFLRVAFLQLHHQQQSGVFCDALLQAEGEAVPAHCCILSACSPFFTERLERERPVQGRKVVLEMGGLKIQTLRKLVDFLYTSEMEVSQEEAQDVLSAARQLRVSELETLQLEGGKLVKAPQGRRLNRECLQPPAAAPISARVVGPKSRPQTPLPVTQTPSPLGAVRLKSLGEEEGAHKKTNLPNADSLSDTQLKKKARVCLTQESRSSPSSQREGPKETKSNPGPTALPSLYPSVDEQLLPRKIRLSRSKPSPHVYTSTPSSILSGPSSMPTAPGRRLWRQRTVSKEAQGVDKQKPGEVRPLQSTPDPSDVGKPAENKKQSPELRAPTSSSVEEGQVGRVKLRKIVNGTCWEVVQEPPLRNTQDSPQILEPSDVEEPSGTLLSSVNEQEIPARIQLCQDSPESPRLQDILLSASHSPDHPMVKSEFGSSPMLTGKESDLNIDCREPYTFDTTLLGQPCEAEQYRITSAAATSELEEIFDFMLCGSDVEPPVGSLESPGAEGCRTPSYHLSETGKNWIEGEEWCLPDMELWPRDLTGLEKEPVSENKEPVEPFSPLVMRSENTESFEPLSPLVMPSEVSREELSLRGSWTPDLEITSSQPLDGQGEKLLHFDSSDPSQRSYNHLSPPCSDWAETGLEVSLGMDDVLCPVPKAVREVSANPEQLDPLPGSSEDEEIDVVDWTVEKKLGPTSVPSVWPDPSSESETEVDILT\n",
      ">tr|A0A0B4J1M2|A0A0B4J1M2_MOUSE Olfactory receptor OS=Mus musculus OX=10090 GN=Olfr455 PE=3 SV=1\n",
      "MDIPSNNTIPRGFLLQGFFEFPHLKPLLFLVLLAVHLATLSGNLLILVAVISVPSRPPMLLFLCQLSAIELCYTLVVVPRSLADLSMPGHGRGSPISFLGCAVQMQMFVALGGAECFLLAAMAYDRYVAICHPLRYASIVTPGLCARLALACCLGGLAVSVGLTVAVFHLPFCGSRLLVHFFCDITALLHLACTRSYVDELPLLGACLVLLLLPSMLILTSYGAIASALRRLHGGGGRRKAASTCASHLAVTFLHYGCATFMYVRPKSSYSPRLDRTLALVYTNVTPLLYPLIYSLRNREITSAIHRVLGFRGSGSV\n"
     ]
    }
   ],
   "source": [
    "! head $mouse_new_fasta"
   ]
  },
  {
   "cell_type": "code",
   "execution_count": null,
   "metadata": {},
   "outputs": [],
   "source": []
  }
 ],
 "metadata": {
  "kernelspec": {
   "display_name": "Python [conda env:kmer-homology]",
   "language": "python",
   "name": "conda-env-kmer-homology-py"
  },
  "language_info": {
   "codemirror_mode": {
    "name": "ipython",
    "version": 3
   },
   "file_extension": ".py",
   "mimetype": "text/x-python",
   "name": "python",
   "nbconvert_exporter": "python",
   "pygments_lexer": "ipython3",
   "version": "3.7.12"
  }
 },
 "nbformat": 4,
 "nbformat_minor": 4
}
