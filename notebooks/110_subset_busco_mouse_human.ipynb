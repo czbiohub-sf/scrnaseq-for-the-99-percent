{
 "cells": [
  {
   "cell_type": "markdown",
   "metadata": {},
   "source": [
    "# Imports"
   ]
  },
  {
   "cell_type": "code",
   "execution_count": 1,
   "metadata": {},
   "outputs": [],
   "source": [
    "import math\n",
    "import gzip\n",
    "import json\n",
    "import os\n",
    "import glob\n",
    "\n",
    "\n",
    "import pandas as pd\n",
    "import screed\n",
    "from tqdm import tqdm\n",
    "# import seaborn as sns\n",
    "\n",
    "# %matplotlib inline"
   ]
  },
  {
   "cell_type": "markdown",
   "metadata": {},
   "source": [
    "# Subset protein fasta files for only BUSCO mammalia ids"
   ]
  },
  {
   "cell_type": "markdown",
   "metadata": {},
   "source": [
    "## Perform subsetting of fasta files from uniprot IDs"
   ]
  },
  {
   "cell_type": "code",
   "execution_count": 4,
   "metadata": {},
   "outputs": [],
   "source": [
    "def subset_by_uniprot_ids(fasta, uniprot_ids):\n",
    "    records_subset = []\n",
    "    with screed.open(fasta) as records:\n",
    "        for record in records:\n",
    "            name = record['name']\n",
    "            record_id = name.split()[0]\n",
    "            uniprot_id = record_id.split('|')[1]\n",
    "            if uniprot_id in uniprot_ids:\n",
    "                records_subset.append(record)\n",
    "    return records_subset\n",
    "\n",
    "            \n",
    "def write_fasta(output_fasta, records):\n",
    "    with open(output_fasta, 'w') as f:\n",
    "        for record in records:\n",
    "            f.write(\">{name}\\n{sequence}\\n\".format(**record))\n",
    "\n",
    "        "
   ]
  },
  {
   "cell_type": "code",
   "execution_count": 16,
   "metadata": {},
   "outputs": [
    {
     "name": "stdout",
     "output_type": "stream",
     "text": [
      "(64199, 6)\n",
      "{'Capra hircus', 'Camelus bactrianus', 'Ornithorhynchus anatinus', 'Rhinolophus sinicus', 'Homo sapiens', 'Phascolarctos cinereus', 'Macaca mulatta', 'Aotus nancymaae', 'Oryctolagus cuniculus', 'Nannospalax galili', 'Ceratotherium simum simum', 'Tupaia chinensis', 'Erinaceus europaeus', 'Peromyscus maniculatus bairdii', 'Chinchilla lanigera', 'Lipotes vexillifer', 'Sorex araneus', 'Mus musculus'}\n"
     ]
    }
   ],
   "source": [
    "orthodb_busco_mammalia = pd.read_csv(\n",
    "    f'{busco_mammalia_folder}/busco_mammalia__orthodb__to__uniprot__with_species.csv'\n",
    ")\n",
    "print(orthodb_busco_mammalia.shape)\n",
    "orthodb_busco_mammalia.head()\n",
    "\n",
    "print((set(orthodb_busco_mammalia['species_name'])))"
   ]
  },
  {
   "cell_type": "code",
   "execution_count": 14,
   "metadata": {},
   "outputs": [],
   "source": [
    "\n",
    "uniprot_fasta = \"/home/olga/data_lg/czbiohub-reference/uniprot/releases/2019_11/manually_downloaded/uniprot__taxonomy_Mammalia_9MAMM_40674.fasta.gz\"\n",
    "output_folder = \"/home/olga/data_lg/czbiohub-reference/uniprot/releases/2019_11/manually_downloaded/mammalia_busco_subsets/\"\n",
    "\n",
    "for (species_id, species_name), df in orthodb_busco_mammalia.groupby([\"species\", \"species_name\"]):\n",
    "    species_uniprot_ids = set(df.external_db_gene_id)\n",
    "    species_records = subset_by_uniprot_ids(uniprot_fasta, species_uniprot_ids)\n",
    "    new_fasta = f\"{output_folder}{species_id}__{species_name.lower().replace(' ', '_')}.fasta\"\n",
    "    write_fasta(new_fasta, species_records)\n"
   ]
  },
  {
   "cell_type": "code",
   "execution_count": null,
   "metadata": {},
   "outputs": [],
   "source": []
  }
 ],
 "metadata": {
  "kernelspec": {
   "display_name": "Python [conda env:immune-evolution]",
   "language": "python",
   "name": "conda-env-immune-evolution-py"
  },
  "language_info": {
   "codemirror_mode": {
    "name": "ipython",
    "version": 3
   },
   "file_extension": ".py",
   "mimetype": "text/x-python",
   "name": "python",
   "nbconvert_exporter": "python",
   "pygments_lexer": "ipython3",
   "version": "3.7.8"
  },
  "toc-autonumbering": true
 },
 "nbformat": 4,
 "nbformat_minor": 4
}
