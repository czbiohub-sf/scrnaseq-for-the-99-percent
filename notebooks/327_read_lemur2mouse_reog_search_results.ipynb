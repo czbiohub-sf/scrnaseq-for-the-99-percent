{
 "cells": [
  {
   "cell_type": "markdown",
   "metadata": {},
   "source": [
    "# Imports"
   ]
  },
  {
   "cell_type": "code",
   "execution_count": 1,
   "metadata": {},
   "outputs": [],
   "source": [
    "%load_ext autoreload\n",
    "%autoreload 2\n",
    "\n",
    "import glob\n",
    "import os\n",
    "import re\n",
    "\n",
    "from joblib import Parallel, delayed\n",
    "import kmermaid_utils\n",
    "import numpy as np\n",
    "import pandas as pd\n",
    "import scanpy as sc\n",
    "import seaborn as sns\n",
    "import sig_utils\n",
    "import sourmash\n",
    "from tqdm import tqdm\n",
    "\n",
    "pd.options.display.max_colwidth = 500\n",
    "pd.options.display.max_columns = 50\n",
    "\n",
    "from sourmash_search_utils import read_and_process_sourmash_search_results"
   ]
  },
  {
   "cell_type": "markdown",
   "metadata": {},
   "source": [
    "## Constants (ksizes, scaled)"
   ]
  },
  {
   "cell_type": "code",
   "execution_count": 2,
   "metadata": {},
   "outputs": [
    {
     "name": "stdout",
     "output_type": "stream",
     "text": [
      "total 11K\n",
      "drwxr-xr-x  7 olga czb 4.0K Mar  5 12:02 \u001b[0m\u001b[01;34m.\u001b[0m/\n",
      "drwxrwxr-x 81 olga czb 8.0K Feb 28 09:02 \u001b[01;34m..\u001b[0m/\n",
      "drwxr-xr-x  4 olga czb 4.0K Feb 28 09:53 \u001b[01;34m0--mouse2mouse\u001b[0m/\n",
      "drwxr-xr-x  7 olga czb 4.0K Feb 28 16:57 \u001b[01;34m1--train-mouse\u001b[0m/\n",
      "drwxr-xr-x  8 olga czb 4.0K Mar  3 14:50 \u001b[01;34m2--test-human\u001b[0m/\n",
      "drwxr-xr-x  8 olga czb 4.0K Mar  5 11:57 \u001b[01;34m3--test-bat\u001b[0m/\n",
      "drwxr-xr-x  7 olga czb 4.0K Mar  3 14:45 \u001b[01;34m4--test-lemur\u001b[0m/\n"
     ]
    }
   ],
   "source": [
    "ls -lha /home/olga/data_sm/immune-evolution/kmer-signatures"
   ]
  },
  {
   "cell_type": "code",
   "execution_count": 3,
   "metadata": {},
   "outputs": [],
   "source": [
    "sig_outdir_base = '/home/olga/data_sm/immune-evolution/kmer-signatures'\n",
    "\n",
    "lemur_test_dir = os.path.join(sig_outdir_base, \"4--test-lemur\")\n",
    "\n",
    "aggregated_results_dir = os.path.join(lemur_test_dir, '4--aggregated-results')\n",
    "! mkdir -p $aggregated_results_dir"
   ]
  },
  {
   "cell_type": "code",
   "execution_count": 4,
   "metadata": {},
   "outputs": [
    {
     "data": {
      "text/plain": [
       "{'Alveolar Epithelial Type 2',\n",
       " 'B cell',\n",
       " 'Capillary',\n",
       " 'Dendritic',\n",
       " 'Fibroblast',\n",
       " 'Macrophage',\n",
       " 'Monocyte',\n",
       " 'Natural Killer T cell',\n",
       " 'Smooth Muscle and Myofibroblast',\n",
       " 'T cell'}"
      ]
     },
     "execution_count": 4,
     "metadata": {},
     "output_type": "execute_result"
    }
   ],
   "source": [
    "SHARED_CELLTYPES = set(['Alveolar Epithelial Type 2',\n",
    " 'B cell',\n",
    " 'Capillary',\n",
    " 'Dendritic',\n",
    " 'Fibroblast',\n",
    " 'Macrophage',\n",
    " 'Monocyte',\n",
    " 'Natural Killer T cell',\n",
    " 'Smooth Muscle and Myofibroblast',\n",
    " 'T cell'])\n",
    "SHARED_CELLTYPES"
   ]
  },
  {
   "cell_type": "markdown",
   "metadata": {},
   "source": [
    "## Def describe"
   ]
  },
  {
   "cell_type": "code",
   "execution_count": 5,
   "metadata": {},
   "outputs": [],
   "source": [
    "def describe(df, random=False):\n",
    "    print(df.shape)\n",
    "    print(\"--- First 5 entries ---\")\n",
    "    display(df.head())\n",
    "    if random:\n",
    "        print('--- Random subset ---')\n",
    "        display(df.sample(5))"
   ]
  },
  {
   "cell_type": "markdown",
   "metadata": {},
   "source": [
    "### Remove rogue TQDM instances"
   ]
  },
  {
   "cell_type": "code",
   "execution_count": 6,
   "metadata": {},
   "outputs": [],
   "source": [
    "def remove_rogue_tqdm():\n",
    "    import tqdm\n",
    "    try:\n",
    "        tqdm._instances.clear()\n",
    "    except AttributeError:\n",
    "        pass"
   ]
  },
  {
   "cell_type": "markdown",
   "metadata": {},
   "source": [
    "## Read one2one 5had"
   ]
  },
  {
   "cell_type": "code",
   "execution_count": 7,
   "metadata": {},
   "outputs": [
    {
     "data": {
      "text/html": [
       "<div>\n",
       "<style scoped>\n",
       "    .dataframe tbody tr th:only-of-type {\n",
       "        vertical-align: middle;\n",
       "    }\n",
       "\n",
       "    .dataframe tbody tr th {\n",
       "        vertical-align: top;\n",
       "    }\n",
       "\n",
       "    .dataframe thead th {\n",
       "        text-align: right;\n",
       "    }\n",
       "</style>\n",
       "<table border=\"1\" class=\"dataframe\">\n",
       "  <thead>\n",
       "    <tr style=\"text-align: right;\">\n",
       "      <th></th>\n",
       "      <th>index</th>\n",
       "      <th>age</th>\n",
       "      <th>cell_barcode</th>\n",
       "      <th>cell_ontology_class</th>\n",
       "      <th>cell_ontology_id</th>\n",
       "      <th>channel</th>\n",
       "      <th>free_annotation</th>\n",
       "      <th>individual</th>\n",
       "      <th>sample</th>\n",
       "      <th>sequencing_run</th>\n",
       "      <th>sex</th>\n",
       "      <th>species</th>\n",
       "      <th>species_batch</th>\n",
       "      <th>species_latin</th>\n",
       "      <th>tissue</th>\n",
       "      <th>narrow_group</th>\n",
       "      <th>broad_group</th>\n",
       "      <th>compartment_group</th>\n",
       "      <th>compartment_narrow</th>\n",
       "      <th>channel_cleaned</th>\n",
       "      <th>batch</th>\n",
       "      <th>n_genes</th>\n",
       "      <th>n_counts</th>\n",
       "      <th>species_batch_v2</th>\n",
       "      <th>compartment_broad</th>\n",
       "      <th>compartment_broad_narrow</th>\n",
       "      <th>compartment_species</th>\n",
       "      <th>compartment_narrow_species</th>\n",
       "      <th>common_individual_id</th>\n",
       "    </tr>\n",
       "    <tr>\n",
       "      <th>cell_id</th>\n",
       "      <th></th>\n",
       "      <th></th>\n",
       "      <th></th>\n",
       "      <th></th>\n",
       "      <th></th>\n",
       "      <th></th>\n",
       "      <th></th>\n",
       "      <th></th>\n",
       "      <th></th>\n",
       "      <th></th>\n",
       "      <th></th>\n",
       "      <th></th>\n",
       "      <th></th>\n",
       "      <th></th>\n",
       "      <th></th>\n",
       "      <th></th>\n",
       "      <th></th>\n",
       "      <th></th>\n",
       "      <th></th>\n",
       "      <th></th>\n",
       "      <th></th>\n",
       "      <th></th>\n",
       "      <th></th>\n",
       "      <th></th>\n",
       "      <th></th>\n",
       "      <th></th>\n",
       "      <th></th>\n",
       "      <th></th>\n",
       "      <th></th>\n",
       "    </tr>\n",
       "  </thead>\n",
       "  <tbody>\n",
       "    <tr>\n",
       "      <th>P2_1__AAACCTGAGAAACCAT</th>\n",
       "      <td>P2_1_AAACCTGAGAAACCAT-human-hlm</td>\n",
       "      <td>46y</td>\n",
       "      <td>AAACCTGAGAAACCAT</td>\n",
       "      <td>capillary endothelial cell</td>\n",
       "      <td>nan</td>\n",
       "      <td>P2_1</td>\n",
       "      <td>Capillary Aerocyte</td>\n",
       "      <td>patient_2</td>\n",
       "      <td>distal 2</td>\n",
       "      <td>180607_A00111_0155_BHFCWYDMXX</td>\n",
       "      <td>male</td>\n",
       "      <td>Human</td>\n",
       "      <td>human</td>\n",
       "      <td>Homo sapiens</td>\n",
       "      <td>Lung</td>\n",
       "      <td>Capillary Aerocyte</td>\n",
       "      <td>Capillary</td>\n",
       "      <td>endothelial</td>\n",
       "      <td>endothelial: Capillary Aerocyte</td>\n",
       "      <td>P2_1</td>\n",
       "      <td>NaN</td>\n",
       "      <td>NaN</td>\n",
       "      <td>NaN</td>\n",
       "      <td>hlm</td>\n",
       "      <td>endothelial: Capillary</td>\n",
       "      <td>endothelial: Capillary: Capillary Aerocyte</td>\n",
       "      <td>endothelial: human</td>\n",
       "      <td>endothelial: Capillary Aerocyte: human</td>\n",
       "      <td>human_patient_2</td>\n",
       "    </tr>\n",
       "    <tr>\n",
       "      <th>P2_1__AAATGCCAGATGAGAG</th>\n",
       "      <td>P2_1_AAATGCCAGATGAGAG-human-hlm</td>\n",
       "      <td>46y</td>\n",
       "      <td>AAATGCCAGATGAGAG</td>\n",
       "      <td>capillary endothelial cell</td>\n",
       "      <td>nan</td>\n",
       "      <td>P2_1</td>\n",
       "      <td>Capillary Aerocyte</td>\n",
       "      <td>patient_2</td>\n",
       "      <td>distal 2</td>\n",
       "      <td>180607_A00111_0155_BHFCWYDMXX</td>\n",
       "      <td>male</td>\n",
       "      <td>Human</td>\n",
       "      <td>human</td>\n",
       "      <td>Homo sapiens</td>\n",
       "      <td>Lung</td>\n",
       "      <td>Capillary Aerocyte</td>\n",
       "      <td>Capillary</td>\n",
       "      <td>endothelial</td>\n",
       "      <td>endothelial: Capillary Aerocyte</td>\n",
       "      <td>P2_1</td>\n",
       "      <td>NaN</td>\n",
       "      <td>NaN</td>\n",
       "      <td>NaN</td>\n",
       "      <td>hlm</td>\n",
       "      <td>endothelial: Capillary</td>\n",
       "      <td>endothelial: Capillary: Capillary Aerocyte</td>\n",
       "      <td>endothelial: human</td>\n",
       "      <td>endothelial: Capillary Aerocyte: human</td>\n",
       "      <td>human_patient_2</td>\n",
       "    </tr>\n",
       "    <tr>\n",
       "      <th>P2_1__AACACGTTCGATCCCT</th>\n",
       "      <td>P2_1_AACACGTTCGATCCCT-human-hlm</td>\n",
       "      <td>46y</td>\n",
       "      <td>AACACGTTCGATCCCT</td>\n",
       "      <td>capillary endothelial cell</td>\n",
       "      <td>nan</td>\n",
       "      <td>P2_1</td>\n",
       "      <td>Capillary Aerocyte</td>\n",
       "      <td>patient_2</td>\n",
       "      <td>distal 2</td>\n",
       "      <td>180607_A00111_0155_BHFCWYDMXX</td>\n",
       "      <td>male</td>\n",
       "      <td>Human</td>\n",
       "      <td>human</td>\n",
       "      <td>Homo sapiens</td>\n",
       "      <td>Lung</td>\n",
       "      <td>Capillary Aerocyte</td>\n",
       "      <td>Capillary</td>\n",
       "      <td>endothelial</td>\n",
       "      <td>endothelial: Capillary Aerocyte</td>\n",
       "      <td>P2_1</td>\n",
       "      <td>NaN</td>\n",
       "      <td>NaN</td>\n",
       "      <td>NaN</td>\n",
       "      <td>hlm</td>\n",
       "      <td>endothelial: Capillary</td>\n",
       "      <td>endothelial: Capillary: Capillary Aerocyte</td>\n",
       "      <td>endothelial: human</td>\n",
       "      <td>endothelial: Capillary Aerocyte: human</td>\n",
       "      <td>human_patient_2</td>\n",
       "    </tr>\n",
       "    <tr>\n",
       "      <th>P2_1__AACACGTTCGCACTCT</th>\n",
       "      <td>P2_1_AACACGTTCGCACTCT-human-hlm</td>\n",
       "      <td>46y</td>\n",
       "      <td>AACACGTTCGCACTCT</td>\n",
       "      <td>capillary endothelial cell</td>\n",
       "      <td>nan</td>\n",
       "      <td>P2_1</td>\n",
       "      <td>Capillary Aerocyte</td>\n",
       "      <td>patient_2</td>\n",
       "      <td>distal 2</td>\n",
       "      <td>180607_A00111_0155_BHFCWYDMXX</td>\n",
       "      <td>male</td>\n",
       "      <td>Human</td>\n",
       "      <td>human</td>\n",
       "      <td>Homo sapiens</td>\n",
       "      <td>Lung</td>\n",
       "      <td>Capillary Aerocyte</td>\n",
       "      <td>Capillary</td>\n",
       "      <td>endothelial</td>\n",
       "      <td>endothelial: Capillary Aerocyte</td>\n",
       "      <td>P2_1</td>\n",
       "      <td>NaN</td>\n",
       "      <td>NaN</td>\n",
       "      <td>NaN</td>\n",
       "      <td>hlm</td>\n",
       "      <td>endothelial: Capillary</td>\n",
       "      <td>endothelial: Capillary: Capillary Aerocyte</td>\n",
       "      <td>endothelial: human</td>\n",
       "      <td>endothelial: Capillary Aerocyte: human</td>\n",
       "      <td>human_patient_2</td>\n",
       "    </tr>\n",
       "    <tr>\n",
       "      <th>P2_1__AACCATGCAGCTCGCA</th>\n",
       "      <td>P2_1_AACCATGCAGCTCGCA-human-hlm</td>\n",
       "      <td>46y</td>\n",
       "      <td>AACCATGCAGCTCGCA</td>\n",
       "      <td>capillary endothelial cell</td>\n",
       "      <td>nan</td>\n",
       "      <td>P2_1</td>\n",
       "      <td>Capillary Aerocyte</td>\n",
       "      <td>patient_2</td>\n",
       "      <td>distal 2</td>\n",
       "      <td>180607_A00111_0155_BHFCWYDMXX</td>\n",
       "      <td>male</td>\n",
       "      <td>Human</td>\n",
       "      <td>human</td>\n",
       "      <td>Homo sapiens</td>\n",
       "      <td>Lung</td>\n",
       "      <td>Capillary Aerocyte</td>\n",
       "      <td>Capillary</td>\n",
       "      <td>endothelial</td>\n",
       "      <td>endothelial: Capillary Aerocyte</td>\n",
       "      <td>P2_1</td>\n",
       "      <td>NaN</td>\n",
       "      <td>NaN</td>\n",
       "      <td>NaN</td>\n",
       "      <td>hlm</td>\n",
       "      <td>endothelial: Capillary</td>\n",
       "      <td>endothelial: Capillary: Capillary Aerocyte</td>\n",
       "      <td>endothelial: human</td>\n",
       "      <td>endothelial: Capillary Aerocyte: human</td>\n",
       "      <td>human_patient_2</td>\n",
       "    </tr>\n",
       "  </tbody>\n",
       "</table>\n",
       "</div>"
      ],
      "text/plain": [
       "                                                  index  age  \\\n",
       "cell_id                                                        \n",
       "P2_1__AAACCTGAGAAACCAT  P2_1_AAACCTGAGAAACCAT-human-hlm  46y   \n",
       "P2_1__AAATGCCAGATGAGAG  P2_1_AAATGCCAGATGAGAG-human-hlm  46y   \n",
       "P2_1__AACACGTTCGATCCCT  P2_1_AACACGTTCGATCCCT-human-hlm  46y   \n",
       "P2_1__AACACGTTCGCACTCT  P2_1_AACACGTTCGCACTCT-human-hlm  46y   \n",
       "P2_1__AACCATGCAGCTCGCA  P2_1_AACCATGCAGCTCGCA-human-hlm  46y   \n",
       "\n",
       "                            cell_barcode         cell_ontology_class  \\\n",
       "cell_id                                                                \n",
       "P2_1__AAACCTGAGAAACCAT  AAACCTGAGAAACCAT  capillary endothelial cell   \n",
       "P2_1__AAATGCCAGATGAGAG  AAATGCCAGATGAGAG  capillary endothelial cell   \n",
       "P2_1__AACACGTTCGATCCCT  AACACGTTCGATCCCT  capillary endothelial cell   \n",
       "P2_1__AACACGTTCGCACTCT  AACACGTTCGCACTCT  capillary endothelial cell   \n",
       "P2_1__AACCATGCAGCTCGCA  AACCATGCAGCTCGCA  capillary endothelial cell   \n",
       "\n",
       "                       cell_ontology_id channel     free_annotation  \\\n",
       "cell_id                                                               \n",
       "P2_1__AAACCTGAGAAACCAT              nan    P2_1  Capillary Aerocyte   \n",
       "P2_1__AAATGCCAGATGAGAG              nan    P2_1  Capillary Aerocyte   \n",
       "P2_1__AACACGTTCGATCCCT              nan    P2_1  Capillary Aerocyte   \n",
       "P2_1__AACACGTTCGCACTCT              nan    P2_1  Capillary Aerocyte   \n",
       "P2_1__AACCATGCAGCTCGCA              nan    P2_1  Capillary Aerocyte   \n",
       "\n",
       "                       individual    sample                 sequencing_run  \\\n",
       "cell_id                                                                      \n",
       "P2_1__AAACCTGAGAAACCAT  patient_2  distal 2  180607_A00111_0155_BHFCWYDMXX   \n",
       "P2_1__AAATGCCAGATGAGAG  patient_2  distal 2  180607_A00111_0155_BHFCWYDMXX   \n",
       "P2_1__AACACGTTCGATCCCT  patient_2  distal 2  180607_A00111_0155_BHFCWYDMXX   \n",
       "P2_1__AACACGTTCGCACTCT  patient_2  distal 2  180607_A00111_0155_BHFCWYDMXX   \n",
       "P2_1__AACCATGCAGCTCGCA  patient_2  distal 2  180607_A00111_0155_BHFCWYDMXX   \n",
       "\n",
       "                         sex species species_batch species_latin tissue  \\\n",
       "cell_id                                                                   \n",
       "P2_1__AAACCTGAGAAACCAT  male   Human         human  Homo sapiens   Lung   \n",
       "P2_1__AAATGCCAGATGAGAG  male   Human         human  Homo sapiens   Lung   \n",
       "P2_1__AACACGTTCGATCCCT  male   Human         human  Homo sapiens   Lung   \n",
       "P2_1__AACACGTTCGCACTCT  male   Human         human  Homo sapiens   Lung   \n",
       "P2_1__AACCATGCAGCTCGCA  male   Human         human  Homo sapiens   Lung   \n",
       "\n",
       "                              narrow_group broad_group compartment_group  \\\n",
       "cell_id                                                                    \n",
       "P2_1__AAACCTGAGAAACCAT  Capillary Aerocyte   Capillary       endothelial   \n",
       "P2_1__AAATGCCAGATGAGAG  Capillary Aerocyte   Capillary       endothelial   \n",
       "P2_1__AACACGTTCGATCCCT  Capillary Aerocyte   Capillary       endothelial   \n",
       "P2_1__AACACGTTCGCACTCT  Capillary Aerocyte   Capillary       endothelial   \n",
       "P2_1__AACCATGCAGCTCGCA  Capillary Aerocyte   Capillary       endothelial   \n",
       "\n",
       "                                     compartment_narrow channel_cleaned  \\\n",
       "cell_id                                                                   \n",
       "P2_1__AAACCTGAGAAACCAT  endothelial: Capillary Aerocyte            P2_1   \n",
       "P2_1__AAATGCCAGATGAGAG  endothelial: Capillary Aerocyte            P2_1   \n",
       "P2_1__AACACGTTCGATCCCT  endothelial: Capillary Aerocyte            P2_1   \n",
       "P2_1__AACACGTTCGCACTCT  endothelial: Capillary Aerocyte            P2_1   \n",
       "P2_1__AACCATGCAGCTCGCA  endothelial: Capillary Aerocyte            P2_1   \n",
       "\n",
       "                        batch  n_genes  n_counts species_batch_v2  \\\n",
       "cell_id                                                             \n",
       "P2_1__AAACCTGAGAAACCAT    NaN      NaN       NaN              hlm   \n",
       "P2_1__AAATGCCAGATGAGAG    NaN      NaN       NaN              hlm   \n",
       "P2_1__AACACGTTCGATCCCT    NaN      NaN       NaN              hlm   \n",
       "P2_1__AACACGTTCGCACTCT    NaN      NaN       NaN              hlm   \n",
       "P2_1__AACCATGCAGCTCGCA    NaN      NaN       NaN              hlm   \n",
       "\n",
       "                             compartment_broad  \\\n",
       "cell_id                                          \n",
       "P2_1__AAACCTGAGAAACCAT  endothelial: Capillary   \n",
       "P2_1__AAATGCCAGATGAGAG  endothelial: Capillary   \n",
       "P2_1__AACACGTTCGATCCCT  endothelial: Capillary   \n",
       "P2_1__AACACGTTCGCACTCT  endothelial: Capillary   \n",
       "P2_1__AACCATGCAGCTCGCA  endothelial: Capillary   \n",
       "\n",
       "                                          compartment_broad_narrow  \\\n",
       "cell_id                                                              \n",
       "P2_1__AAACCTGAGAAACCAT  endothelial: Capillary: Capillary Aerocyte   \n",
       "P2_1__AAATGCCAGATGAGAG  endothelial: Capillary: Capillary Aerocyte   \n",
       "P2_1__AACACGTTCGATCCCT  endothelial: Capillary: Capillary Aerocyte   \n",
       "P2_1__AACACGTTCGCACTCT  endothelial: Capillary: Capillary Aerocyte   \n",
       "P2_1__AACCATGCAGCTCGCA  endothelial: Capillary: Capillary Aerocyte   \n",
       "\n",
       "                       compartment_species  \\\n",
       "cell_id                                      \n",
       "P2_1__AAACCTGAGAAACCAT  endothelial: human   \n",
       "P2_1__AAATGCCAGATGAGAG  endothelial: human   \n",
       "P2_1__AACACGTTCGATCCCT  endothelial: human   \n",
       "P2_1__AACACGTTCGCACTCT  endothelial: human   \n",
       "P2_1__AACCATGCAGCTCGCA  endothelial: human   \n",
       "\n",
       "                                    compartment_narrow_species  \\\n",
       "cell_id                                                          \n",
       "P2_1__AAACCTGAGAAACCAT  endothelial: Capillary Aerocyte: human   \n",
       "P2_1__AAATGCCAGATGAGAG  endothelial: Capillary Aerocyte: human   \n",
       "P2_1__AACACGTTCGATCCCT  endothelial: Capillary Aerocyte: human   \n",
       "P2_1__AACACGTTCGCACTCT  endothelial: Capillary Aerocyte: human   \n",
       "P2_1__AACCATGCAGCTCGCA  endothelial: Capillary Aerocyte: human   \n",
       "\n",
       "                       common_individual_id  \n",
       "cell_id                                      \n",
       "P2_1__AAACCTGAGAAACCAT      human_patient_2  \n",
       "P2_1__AAATGCCAGATGAGAG      human_patient_2  \n",
       "P2_1__AACACGTTCGATCCCT      human_patient_2  \n",
       "P2_1__AACACGTTCGCACTCT      human_patient_2  \n",
       "P2_1__AACCATGCAGCTCGCA      human_patient_2  "
      ]
     },
     "execution_count": 7,
     "metadata": {},
     "output_type": "execute_result"
    }
   ],
   "source": [
    "one2one = sc.read(\n",
    "#     \"/home/phoenix/data_sm/code/immune-evolution/h5ads/human-lemur-mouse-bat__lung_only_copy.h5ad\"\n",
    "    \"/home/olga/data_sm/immune-evolution/h5ads/human-lemur-mouse-bat/human-lemur-mouse-bat__lung_only.h5ad\"\n",
    ")\n",
    "one2one.obs = one2one.obs.reset_index().set_index('cell_id')\n",
    "\n",
    "one2one.obs.head()"
   ]
  },
  {
   "cell_type": "markdown",
   "metadata": {},
   "source": [
    "# Analyze Sourmash search"
   ]
  },
  {
   "cell_type": "markdown",
   "metadata": {},
   "source": [
    "## Functions / tools to add cell type ontologies"
   ]
  },
  {
   "cell_type": "markdown",
   "metadata": {},
   "source": [
    "## Search directory output"
   ]
  },
  {
   "cell_type": "markdown",
   "metadata": {},
   "source": [
    "### Column renamer"
   ]
  },
  {
   "cell_type": "code",
   "execution_count": 8,
   "metadata": {},
   "outputs": [],
   "source": []
  },
  {
   "cell_type": "markdown",
   "metadata": {},
   "source": [
    "## Read output CSVs -- Parallelized"
   ]
  },
  {
   "cell_type": "code",
   "execution_count": 9,
   "metadata": {},
   "outputs": [],
   "source": [
    "# from sourmash_search_utils import read_and_process_sourmash_search_results\n",
    "\n",
    "\n",
    "# bat_kmermaid_base = (\n",
    "#     \"/home/olga/data_sm/immune-evolution/pipeline-results/bat/kmermaid/ksize_8\"\n",
    "# )\n",
    "# bat_search_dir = os.path.join(\n",
    "#     bat_kmermaid_base,\n",
    "#     \"search_bat_in_mouse_no_ribosome_no_containment_no_dissociation__per_celltype_remove_common_hashes__remove_refseq_ribosomal\",\n",
    "# #     \"search_bat_in_mouse_no_ribosome_no_containment_no_dissociation__per_celltype_remove_common_hashes\",\n",
    "# )\n",
    "\n",
    "# total = 612648\n",
    "\n",
    "# globber = os.path.join(bat_search_dir, \"alphabet-dayhoff__ksize-39__scaled-10\", \"*.csv\")\n",
    "\n",
    "# # dfs = Parallel(n_jobs=96)(\n",
    "# #     delayed(read_and_process_sourmash_search_results)(\n",
    "# #         csv, adata=one2one, column_renamer=bat_renamer, query_species='bat'\n",
    "# #     )\n",
    "# #     for csv in tqdm(glob.iglob(globber), total=total)\n",
    "# # )\n",
    "\n",
    "# # search_results = pd.concat(dfs, ignore_index=True)\n",
    "# # print(search_results.shape)\n",
    "# # search_results.head()"
   ]
  },
  {
   "cell_type": "code",
   "execution_count": 10,
   "metadata": {},
   "outputs": [],
   "source": [
    "from sourmash_search_utils import add_ontologies"
   ]
  },
  {
   "cell_type": "markdown",
   "metadata": {},
   "source": [
    "## Read output CSVs"
   ]
  },
  {
   "cell_type": "raw",
   "metadata": {},
   "source": []
  },
  {
   "cell_type": "code",
   "execution_count": 53,
   "metadata": {},
   "outputs": [
    {
     "name": "stderr",
     "output_type": "stream",
     "text": [
      "100%|██████████| 100652/100652 [1:50:32<00:00, 15.18it/s] \n"
     ]
    },
    {
     "name": "stdout",
     "output_type": "stream",
     "text": [
      "(1006422, 16)\n"
     ]
    },
    {
     "data": {
      "text/html": [
       "<div>\n",
       "<style scoped>\n",
       "    .dataframe tbody tr th:only-of-type {\n",
       "        vertical-align: middle;\n",
       "    }\n",
       "\n",
       "    .dataframe tbody tr th {\n",
       "        vertical-align: top;\n",
       "    }\n",
       "\n",
       "    .dataframe thead th {\n",
       "        text-align: right;\n",
       "    }\n",
       "</style>\n",
       "<table border=\"1\" class=\"dataframe\">\n",
       "  <thead>\n",
       "    <tr style=\"text-align: right;\">\n",
       "      <th></th>\n",
       "      <th>similarity</th>\n",
       "      <th>mouse_broad_group</th>\n",
       "      <th>search_method</th>\n",
       "      <th>sketch_id</th>\n",
       "      <th>lemur_cell_id</th>\n",
       "      <th>mol_or_alpha</th>\n",
       "      <th>alphabet</th>\n",
       "      <th>ksize</th>\n",
       "      <th>sketch_style</th>\n",
       "      <th>sketch_value</th>\n",
       "      <th>lemur_channel</th>\n",
       "      <th>lemur_cell_ontology_class</th>\n",
       "      <th>lemur_narrow_group</th>\n",
       "      <th>lemur_broad_group</th>\n",
       "      <th>lemur_compartment_group</th>\n",
       "      <th>database_type</th>\n",
       "    </tr>\n",
       "  </thead>\n",
       "  <tbody>\n",
       "    <tr>\n",
       "      <th>0</th>\n",
       "      <td>0.146105</td>\n",
       "      <td>Dendritic</td>\n",
       "      <td>containment</td>\n",
       "      <td>alphabet-dayhoff__ksize-51__scaled-10</td>\n",
       "      <td>ANTOINE_LUNG_EPCAM__CCAATCCAGACTACAA</td>\n",
       "      <td>alphabet</td>\n",
       "      <td>dayhoff</td>\n",
       "      <td>51</td>\n",
       "      <td>scaled</td>\n",
       "      <td>10</td>\n",
       "      <td>ANTOINE_LUNG_EPCAM</td>\n",
       "      <td>monocyte</td>\n",
       "      <td>Monocyte</td>\n",
       "      <td>Monocyte</td>\n",
       "      <td>myeloid</td>\n",
       "      <td>min-5-percent-shared-kmers</td>\n",
       "    </tr>\n",
       "    <tr>\n",
       "      <th>1</th>\n",
       "      <td>0.139129</td>\n",
       "      <td>Monocyte</td>\n",
       "      <td>containment</td>\n",
       "      <td>alphabet-dayhoff__ksize-51__scaled-10</td>\n",
       "      <td>ANTOINE_LUNG_EPCAM__CCAATCCAGACTACAA</td>\n",
       "      <td>alphabet</td>\n",
       "      <td>dayhoff</td>\n",
       "      <td>51</td>\n",
       "      <td>scaled</td>\n",
       "      <td>10</td>\n",
       "      <td>ANTOINE_LUNG_EPCAM</td>\n",
       "      <td>monocyte</td>\n",
       "      <td>Monocyte</td>\n",
       "      <td>Monocyte</td>\n",
       "      <td>myeloid</td>\n",
       "      <td>min-5-percent-shared-kmers</td>\n",
       "    </tr>\n",
       "    <tr>\n",
       "      <th>2</th>\n",
       "      <td>0.117556</td>\n",
       "      <td>T cell</td>\n",
       "      <td>containment</td>\n",
       "      <td>alphabet-dayhoff__ksize-51__scaled-10</td>\n",
       "      <td>ANTOINE_LUNG_EPCAM__CCAATCCAGACTACAA</td>\n",
       "      <td>alphabet</td>\n",
       "      <td>dayhoff</td>\n",
       "      <td>51</td>\n",
       "      <td>scaled</td>\n",
       "      <td>10</td>\n",
       "      <td>ANTOINE_LUNG_EPCAM</td>\n",
       "      <td>monocyte</td>\n",
       "      <td>Monocyte</td>\n",
       "      <td>Monocyte</td>\n",
       "      <td>myeloid</td>\n",
       "      <td>min-5-percent-shared-kmers</td>\n",
       "    </tr>\n",
       "    <tr>\n",
       "      <th>3</th>\n",
       "      <td>0.114326</td>\n",
       "      <td>Natural Killer T cell</td>\n",
       "      <td>containment</td>\n",
       "      <td>alphabet-dayhoff__ksize-51__scaled-10</td>\n",
       "      <td>ANTOINE_LUNG_EPCAM__CCAATCCAGACTACAA</td>\n",
       "      <td>alphabet</td>\n",
       "      <td>dayhoff</td>\n",
       "      <td>51</td>\n",
       "      <td>scaled</td>\n",
       "      <td>10</td>\n",
       "      <td>ANTOINE_LUNG_EPCAM</td>\n",
       "      <td>monocyte</td>\n",
       "      <td>Monocyte</td>\n",
       "      <td>Monocyte</td>\n",
       "      <td>myeloid</td>\n",
       "      <td>min-5-percent-shared-kmers</td>\n",
       "    </tr>\n",
       "    <tr>\n",
       "      <th>4</th>\n",
       "      <td>0.113810</td>\n",
       "      <td>Alveolar Epithelial Type 2</td>\n",
       "      <td>containment</td>\n",
       "      <td>alphabet-dayhoff__ksize-51__scaled-10</td>\n",
       "      <td>ANTOINE_LUNG_EPCAM__CCAATCCAGACTACAA</td>\n",
       "      <td>alphabet</td>\n",
       "      <td>dayhoff</td>\n",
       "      <td>51</td>\n",
       "      <td>scaled</td>\n",
       "      <td>10</td>\n",
       "      <td>ANTOINE_LUNG_EPCAM</td>\n",
       "      <td>monocyte</td>\n",
       "      <td>Monocyte</td>\n",
       "      <td>Monocyte</td>\n",
       "      <td>myeloid</td>\n",
       "      <td>min-5-percent-shared-kmers</td>\n",
       "    </tr>\n",
       "  </tbody>\n",
       "</table>\n",
       "</div>"
      ],
      "text/plain": [
       "   similarity           mouse_broad_group search_method  \\\n",
       "0    0.146105                   Dendritic   containment   \n",
       "1    0.139129                    Monocyte   containment   \n",
       "2    0.117556                      T cell   containment   \n",
       "3    0.114326       Natural Killer T cell   containment   \n",
       "4    0.113810  Alveolar Epithelial Type 2   containment   \n",
       "\n",
       "                               sketch_id  \\\n",
       "0  alphabet-dayhoff__ksize-51__scaled-10   \n",
       "1  alphabet-dayhoff__ksize-51__scaled-10   \n",
       "2  alphabet-dayhoff__ksize-51__scaled-10   \n",
       "3  alphabet-dayhoff__ksize-51__scaled-10   \n",
       "4  alphabet-dayhoff__ksize-51__scaled-10   \n",
       "\n",
       "                          lemur_cell_id mol_or_alpha alphabet  ksize  \\\n",
       "0  ANTOINE_LUNG_EPCAM__CCAATCCAGACTACAA     alphabet  dayhoff     51   \n",
       "1  ANTOINE_LUNG_EPCAM__CCAATCCAGACTACAA     alphabet  dayhoff     51   \n",
       "2  ANTOINE_LUNG_EPCAM__CCAATCCAGACTACAA     alphabet  dayhoff     51   \n",
       "3  ANTOINE_LUNG_EPCAM__CCAATCCAGACTACAA     alphabet  dayhoff     51   \n",
       "4  ANTOINE_LUNG_EPCAM__CCAATCCAGACTACAA     alphabet  dayhoff     51   \n",
       "\n",
       "  sketch_style  sketch_value       lemur_channel lemur_cell_ontology_class  \\\n",
       "0       scaled            10  ANTOINE_LUNG_EPCAM                  monocyte   \n",
       "1       scaled            10  ANTOINE_LUNG_EPCAM                  monocyte   \n",
       "2       scaled            10  ANTOINE_LUNG_EPCAM                  monocyte   \n",
       "3       scaled            10  ANTOINE_LUNG_EPCAM                  monocyte   \n",
       "4       scaled            10  ANTOINE_LUNG_EPCAM                  monocyte   \n",
       "\n",
       "  lemur_narrow_group lemur_broad_group lemur_compartment_group  \\\n",
       "0           Monocyte          Monocyte                 myeloid   \n",
       "1           Monocyte          Monocyte                 myeloid   \n",
       "2           Monocyte          Monocyte                 myeloid   \n",
       "3           Monocyte          Monocyte                 myeloid   \n",
       "4           Monocyte          Monocyte                 myeloid   \n",
       "\n",
       "                database_type  \n",
       "0  min-5-percent-shared-kmers  \n",
       "1  min-5-percent-shared-kmers  \n",
       "2  min-5-percent-shared-kmers  \n",
       "3  min-5-percent-shared-kmers  \n",
       "4  min-5-percent-shared-kmers  "
      ]
     },
     "execution_count": 53,
     "metadata": {},
     "output_type": "execute_result"
    }
   ],
   "source": [
    "dfs = []\n",
    "\n",
    "globber = os.path.join(lemur_test_dir, \"3-*\", \"*\", \"*.csv\")\n",
    "\n",
    "total = sum(1 for _ in glob.iglob(globber))\n",
    "\n",
    "\n",
    "query_species = \"lemur\"\n",
    "\n",
    "cols = [\"cell_ontology_class\", \"narrow_group\", \"broad_group\", \"compartment_group\"]\n",
    "\n",
    "query_renamer = {col: f\"{query_species}_{col}\" for col in cols}\n",
    "\n",
    "\n",
    "\n",
    "for csv in tqdm(glob.iglob(globber), total=total):\n",
    "    df = read_and_process_sourmash_search_results(\n",
    "        csv,\n",
    "        adata=one2one,\n",
    "        column_renamer=query_renamer,\n",
    "        query_species=query_species,\n",
    "        shared_celltypes=SHARED_CELLTYPES,\n",
    "    )\n",
    "\n",
    "    df[\"database_type\"] = os.path.dirname(csv).split(\"/\")[-2].split(\"--\")[-1]\n",
    "\n",
    "    dfs.append(df)\n",
    "#     break\n",
    "search_results = pd.concat(dfs, ignore_index=True)\n",
    "print(search_results.shape)\n",
    "search_results.head()"
   ]
  },
  {
   "cell_type": "code",
   "execution_count": 67,
   "metadata": {},
   "outputs": [
    {
     "name": "stdout",
     "output_type": "stream",
     "text": [
      "(6, 5)\n",
      "--- First 5 entries ---\n"
     ]
    },
    {
     "data": {
      "text/html": [
       "<div>\n",
       "<style scoped>\n",
       "    .dataframe tbody tr th:only-of-type {\n",
       "        vertical-align: middle;\n",
       "    }\n",
       "\n",
       "    .dataframe tbody tr th {\n",
       "        vertical-align: top;\n",
       "    }\n",
       "\n",
       "    .dataframe thead th {\n",
       "        text-align: right;\n",
       "    }\n",
       "</style>\n",
       "<table border=\"1\" class=\"dataframe\">\n",
       "  <thead>\n",
       "    <tr style=\"text-align: right;\">\n",
       "      <th></th>\n",
       "      <th>sketch_id</th>\n",
       "      <th>alphabet</th>\n",
       "      <th>ksize</th>\n",
       "      <th>search_method</th>\n",
       "      <th>n_results</th>\n",
       "    </tr>\n",
       "  </thead>\n",
       "  <tbody>\n",
       "    <tr>\n",
       "      <th>0</th>\n",
       "      <td>alphabet-DNA__ksize-21__scaled-10</td>\n",
       "      <td>DNA</td>\n",
       "      <td>21</td>\n",
       "      <td>containment</td>\n",
       "      <td>14160</td>\n",
       "    </tr>\n",
       "    <tr>\n",
       "      <th>1</th>\n",
       "      <td>alphabet-DNA__ksize-21__scaled-10</td>\n",
       "      <td>DNA</td>\n",
       "      <td>21</td>\n",
       "      <td>similarity_abundance</td>\n",
       "      <td>14160</td>\n",
       "    </tr>\n",
       "    <tr>\n",
       "      <th>2</th>\n",
       "      <td>alphabet-dayhoff__ksize-51__scaled-10</td>\n",
       "      <td>dayhoff</td>\n",
       "      <td>51</td>\n",
       "      <td>containment</td>\n",
       "      <td>195640</td>\n",
       "    </tr>\n",
       "    <tr>\n",
       "      <th>3</th>\n",
       "      <td>alphabet-dayhoff__ksize-51__scaled-10</td>\n",
       "      <td>dayhoff</td>\n",
       "      <td>51</td>\n",
       "      <td>similarity_abundance</td>\n",
       "      <td>293434</td>\n",
       "    </tr>\n",
       "    <tr>\n",
       "      <th>4</th>\n",
       "      <td>alphabet-protein__ksize-30__scaled-10</td>\n",
       "      <td>protein</td>\n",
       "      <td>30</td>\n",
       "      <td>containment</td>\n",
       "      <td>195640</td>\n",
       "    </tr>\n",
       "  </tbody>\n",
       "</table>\n",
       "</div>"
      ],
      "text/plain": [
       "                               sketch_id alphabet  ksize  \\\n",
       "0      alphabet-DNA__ksize-21__scaled-10      DNA     21   \n",
       "1      alphabet-DNA__ksize-21__scaled-10      DNA     21   \n",
       "2  alphabet-dayhoff__ksize-51__scaled-10  dayhoff     51   \n",
       "3  alphabet-dayhoff__ksize-51__scaled-10  dayhoff     51   \n",
       "4  alphabet-protein__ksize-30__scaled-10  protein     30   \n",
       "\n",
       "          search_method  n_results  \n",
       "0           containment      14160  \n",
       "1  similarity_abundance      14160  \n",
       "2           containment     195640  \n",
       "3  similarity_abundance     293434  \n",
       "4           containment     195640  "
      ]
     },
     "metadata": {},
     "output_type": "display_data"
    }
   ],
   "source": [
    "n_results_per_sketch_id = search_results.groupby(['sketch_id', 'alphabet', 'ksize', 'search_method']).size()\n",
    "n_results_per_sketch_id.name = 'n_results'\n",
    "n_results_per_sketch_id = n_results_per_sketch_id.reset_index()\n",
    "describe(n_results_per_sketch_id)"
   ]
  },
  {
   "cell_type": "code",
   "execution_count": 55,
   "metadata": {},
   "outputs": [
    {
     "data": {
      "text/html": [
       "<div>\n",
       "<style scoped>\n",
       "    .dataframe tbody tr th:only-of-type {\n",
       "        vertical-align: middle;\n",
       "    }\n",
       "\n",
       "    .dataframe tbody tr th {\n",
       "        vertical-align: top;\n",
       "    }\n",
       "\n",
       "    .dataframe thead th {\n",
       "        text-align: right;\n",
       "    }\n",
       "</style>\n",
       "<table border=\"1\" class=\"dataframe\">\n",
       "  <thead>\n",
       "    <tr style=\"text-align: right;\">\n",
       "      <th></th>\n",
       "      <th>sketch_id</th>\n",
       "      <th>alphabet</th>\n",
       "      <th>ksize</th>\n",
       "      <th>n_results</th>\n",
       "    </tr>\n",
       "  </thead>\n",
       "  <tbody>\n",
       "    <tr>\n",
       "      <th>1</th>\n",
       "      <td>alphabet-dayhoff__ksize-51__scaled-10</td>\n",
       "      <td>dayhoff</td>\n",
       "      <td>51</td>\n",
       "      <td>489074</td>\n",
       "    </tr>\n",
       "    <tr>\n",
       "      <th>2</th>\n",
       "      <td>alphabet-protein__ksize-30__scaled-10</td>\n",
       "      <td>protein</td>\n",
       "      <td>30</td>\n",
       "      <td>489028</td>\n",
       "    </tr>\n",
       "    <tr>\n",
       "      <th>0</th>\n",
       "      <td>alphabet-DNA__ksize-21__scaled-10</td>\n",
       "      <td>DNA</td>\n",
       "      <td>21</td>\n",
       "      <td>28320</td>\n",
       "    </tr>\n",
       "  </tbody>\n",
       "</table>\n",
       "</div>"
      ],
      "text/plain": [
       "                               sketch_id alphabet  ksize  n_results\n",
       "1  alphabet-dayhoff__ksize-51__scaled-10  dayhoff     51     489074\n",
       "2  alphabet-protein__ksize-30__scaled-10  protein     30     489028\n",
       "0      alphabet-DNA__ksize-21__scaled-10      DNA     21      28320"
      ]
     },
     "execution_count": 55,
     "metadata": {},
     "output_type": "execute_result"
    }
   ],
   "source": [
    "n_results_per_sketch_id.nlargest(5, 'n_results')"
   ]
  },
  {
   "cell_type": "code",
   "execution_count": 56,
   "metadata": {},
   "outputs": [
    {
     "data": {
      "text/plain": [
       "sketch_id    alphabet-dayhoff__ksize-51__scaled-10\n",
       "alphabet                                   dayhoff\n",
       "ksize                                           51\n",
       "n_results                                   489074\n",
       "Name: 1, dtype: object"
      ]
     },
     "execution_count": 56,
     "metadata": {},
     "output_type": "execute_result"
    }
   ],
   "source": [
    "n_results_per_sketch_id.loc[n_results_per_sketch_id.n_results.argmax()]"
   ]
  },
  {
   "cell_type": "markdown",
   "metadata": {},
   "source": [
    "## Constants (`classification_groupby`, `celltype_col`, `query_organism`, `scoring_groupby`)"
   ]
  },
  {
   "cell_type": "code",
   "execution_count": 58,
   "metadata": {},
   "outputs": [],
   "source": [
    "celltype_col = \"broad_group\"\n",
    "sbt_organism = \"mouse\"\n",
    "query_organism = \"lemur\"\n",
    "\n",
    "classification_groupby = [\n",
    "    f\"{query_organism}_cell_id\",\n",
    "    \"database_type\",\n",
    "    \"search_method\",\n",
    "    \"alphabet\",\n",
    "    \"ksize\",\n",
    "]\n",
    "\n",
    "predicted_celltype_col = f\"{sbt_organism}_{celltype_col}\"\n",
    "ground_truth_celltype_col = f\"{query_organism}_{celltype_col}\"\n",
    "\n",
    "scoring_groupby = [\"database_type\", \"search_method\", \"alphabet\", \"ksize\"]"
   ]
  },
  {
   "cell_type": "markdown",
   "metadata": {},
   "source": [
    "## Add unifying column of predicted and ground truth celltypes"
   ]
  },
  {
   "cell_type": "code",
   "execution_count": 59,
   "metadata": {},
   "outputs": [],
   "source": [
    "search_results['groundtruth_celltype'] = search_results[ground_truth_celltype_col]\n",
    "search_results['predicted_celltype'] = search_results[predicted_celltype_col]"
   ]
  },
  {
   "cell_type": "markdown",
   "metadata": {},
   "source": [
    "# write results to parquet file"
   ]
  },
  {
   "cell_type": "code",
   "execution_count": 60,
   "metadata": {},
   "outputs": [
    {
     "name": "stdout",
     "output_type": "stream",
     "text": [
      "CPU times: user 1.66 s, sys: 164 ms, total: 1.82 s\n",
      "Wall time: 2.03 s\n"
     ]
    },
    {
     "data": {
      "text/plain": [
       "'/home/olga/data_sm/immune-evolution/kmer-signatures/4--test-lemur/4--aggregated-results/sourmash-search-results.parquet'"
      ]
     },
     "execution_count": 60,
     "metadata": {},
     "output_type": "execute_result"
    }
   ],
   "source": [
    "%%time\n",
    "\n",
    "parquet_fn = \"sourmash-search-results.parquet\"\n",
    "parquet = os.path.join(aggregated_results_dir, parquet_fn)\n",
    "search_results.to_parquet(parquet)\n",
    "\n",
    "parquet"
   ]
  },
  {
   "cell_type": "markdown",
   "metadata": {},
   "source": [
    "# Predict cell type with top hit"
   ]
  },
  {
   "cell_type": "markdown",
   "metadata": {},
   "source": [
    "## Get top N"
   ]
  },
  {
   "cell_type": "code",
   "execution_count": 68,
   "metadata": {},
   "outputs": [
    {
     "name": "stdout",
     "output_type": "stream",
     "text": [
      "(100652, 17)\n",
      "CPU times: user 7min 28s, sys: 12.3 s, total: 7min 41s\n",
      "Wall time: 7min 37s\n"
     ]
    },
    {
     "data": {
      "text/html": [
       "<div>\n",
       "<style scoped>\n",
       "    .dataframe tbody tr th:only-of-type {\n",
       "        vertical-align: middle;\n",
       "    }\n",
       "\n",
       "    .dataframe tbody tr th {\n",
       "        vertical-align: top;\n",
       "    }\n",
       "\n",
       "    .dataframe thead th {\n",
       "        text-align: right;\n",
       "    }\n",
       "</style>\n",
       "<table border=\"1\" class=\"dataframe\">\n",
       "  <thead>\n",
       "    <tr style=\"text-align: right;\">\n",
       "      <th></th>\n",
       "      <th>similarity</th>\n",
       "      <th>mouse_broad_group</th>\n",
       "      <th>search_method</th>\n",
       "      <th>sketch_id</th>\n",
       "      <th>mol_or_alpha</th>\n",
       "      <th>alphabet</th>\n",
       "      <th>ksize</th>\n",
       "      <th>sketch_style</th>\n",
       "      <th>sketch_value</th>\n",
       "      <th>lemur_channel</th>\n",
       "      <th>lemur_cell_ontology_class</th>\n",
       "      <th>lemur_narrow_group</th>\n",
       "      <th>lemur_broad_group</th>\n",
       "      <th>lemur_compartment_group</th>\n",
       "      <th>database_type</th>\n",
       "      <th>groundtruth_celltype</th>\n",
       "      <th>predicted_celltype</th>\n",
       "    </tr>\n",
       "    <tr>\n",
       "      <th>lemur_cell_id</th>\n",
       "      <th></th>\n",
       "      <th></th>\n",
       "      <th></th>\n",
       "      <th></th>\n",
       "      <th></th>\n",
       "      <th></th>\n",
       "      <th></th>\n",
       "      <th></th>\n",
       "      <th></th>\n",
       "      <th></th>\n",
       "      <th></th>\n",
       "      <th></th>\n",
       "      <th></th>\n",
       "      <th></th>\n",
       "      <th></th>\n",
       "      <th></th>\n",
       "      <th></th>\n",
       "    </tr>\n",
       "  </thead>\n",
       "  <tbody>\n",
       "    <tr>\n",
       "      <th>ANTOINE_LUNG_CD31__AAACCTGAGAAACGAG</th>\n",
       "      <td>0.114944</td>\n",
       "      <td>Dendritic</td>\n",
       "      <td>containment</td>\n",
       "      <td>alphabet-dayhoff__ksize-51__scaled-10</td>\n",
       "      <td>alphabet</td>\n",
       "      <td>dayhoff</td>\n",
       "      <td>51</td>\n",
       "      <td>scaled</td>\n",
       "      <td>10</td>\n",
       "      <td>ANTOINE_LUNG_CD31</td>\n",
       "      <td>macrophage</td>\n",
       "      <td>Macrophage</td>\n",
       "      <td>Macrophage</td>\n",
       "      <td>myeloid</td>\n",
       "      <td>min-10-percent-shared-kmers</td>\n",
       "      <td>Macrophage</td>\n",
       "      <td>Dendritic</td>\n",
       "    </tr>\n",
       "    <tr>\n",
       "      <th>ANTOINE_LUNG_CD31__AAACCTGAGAAACGAG</th>\n",
       "      <td>0.110182</td>\n",
       "      <td>Dendritic</td>\n",
       "      <td>containment</td>\n",
       "      <td>alphabet-protein__ksize-30__scaled-10</td>\n",
       "      <td>alphabet</td>\n",
       "      <td>protein</td>\n",
       "      <td>30</td>\n",
       "      <td>scaled</td>\n",
       "      <td>10</td>\n",
       "      <td>ANTOINE_LUNG_CD31</td>\n",
       "      <td>macrophage</td>\n",
       "      <td>Macrophage</td>\n",
       "      <td>Macrophage</td>\n",
       "      <td>myeloid</td>\n",
       "      <td>min-10-percent-shared-kmers</td>\n",
       "      <td>Macrophage</td>\n",
       "      <td>Dendritic</td>\n",
       "    </tr>\n",
       "    <tr>\n",
       "      <th>ANTOINE_LUNG_CD31__AAACCTGAGAAACGAG</th>\n",
       "      <td>0.090060</td>\n",
       "      <td>Macrophage</td>\n",
       "      <td>similarity_abundance</td>\n",
       "      <td>alphabet-dayhoff__ksize-51__scaled-10</td>\n",
       "      <td>alphabet</td>\n",
       "      <td>dayhoff</td>\n",
       "      <td>51</td>\n",
       "      <td>scaled</td>\n",
       "      <td>10</td>\n",
       "      <td>ANTOINE_LUNG_CD31</td>\n",
       "      <td>macrophage</td>\n",
       "      <td>Macrophage</td>\n",
       "      <td>Macrophage</td>\n",
       "      <td>myeloid</td>\n",
       "      <td>min-10-percent-shared-kmers</td>\n",
       "      <td>Macrophage</td>\n",
       "      <td>Macrophage</td>\n",
       "    </tr>\n",
       "    <tr>\n",
       "      <th>ANTOINE_LUNG_CD31__AAACCTGAGAAACGAG</th>\n",
       "      <td>0.013232</td>\n",
       "      <td>Macrophage</td>\n",
       "      <td>similarity_abundance</td>\n",
       "      <td>alphabet-protein__ksize-30__scaled-10</td>\n",
       "      <td>alphabet</td>\n",
       "      <td>protein</td>\n",
       "      <td>30</td>\n",
       "      <td>scaled</td>\n",
       "      <td>10</td>\n",
       "      <td>ANTOINE_LUNG_CD31</td>\n",
       "      <td>macrophage</td>\n",
       "      <td>Macrophage</td>\n",
       "      <td>Macrophage</td>\n",
       "      <td>myeloid</td>\n",
       "      <td>min-10-percent-shared-kmers</td>\n",
       "      <td>Macrophage</td>\n",
       "      <td>Macrophage</td>\n",
       "    </tr>\n",
       "    <tr>\n",
       "      <th>ANTOINE_LUNG_CD31__AAACCTGAGAAACGAG</th>\n",
       "      <td>0.044129</td>\n",
       "      <td>Dendritic</td>\n",
       "      <td>containment</td>\n",
       "      <td>alphabet-dayhoff__ksize-51__scaled-10</td>\n",
       "      <td>alphabet</td>\n",
       "      <td>dayhoff</td>\n",
       "      <td>51</td>\n",
       "      <td>scaled</td>\n",
       "      <td>10</td>\n",
       "      <td>ANTOINE_LUNG_CD31</td>\n",
       "      <td>macrophage</td>\n",
       "      <td>Macrophage</td>\n",
       "      <td>Macrophage</td>\n",
       "      <td>myeloid</td>\n",
       "      <td>min-10-percent-shared-kmers-remove-common-kmers</td>\n",
       "      <td>Macrophage</td>\n",
       "      <td>Dendritic</td>\n",
       "    </tr>\n",
       "  </tbody>\n",
       "</table>\n",
       "</div>"
      ],
      "text/plain": [
       "                                     similarity mouse_broad_group  \\\n",
       "lemur_cell_id                                                       \n",
       "ANTOINE_LUNG_CD31__AAACCTGAGAAACGAG    0.114944         Dendritic   \n",
       "ANTOINE_LUNG_CD31__AAACCTGAGAAACGAG    0.110182         Dendritic   \n",
       "ANTOINE_LUNG_CD31__AAACCTGAGAAACGAG    0.090060        Macrophage   \n",
       "ANTOINE_LUNG_CD31__AAACCTGAGAAACGAG    0.013232        Macrophage   \n",
       "ANTOINE_LUNG_CD31__AAACCTGAGAAACGAG    0.044129         Dendritic   \n",
       "\n",
       "                                            search_method  \\\n",
       "lemur_cell_id                                               \n",
       "ANTOINE_LUNG_CD31__AAACCTGAGAAACGAG           containment   \n",
       "ANTOINE_LUNG_CD31__AAACCTGAGAAACGAG           containment   \n",
       "ANTOINE_LUNG_CD31__AAACCTGAGAAACGAG  similarity_abundance   \n",
       "ANTOINE_LUNG_CD31__AAACCTGAGAAACGAG  similarity_abundance   \n",
       "ANTOINE_LUNG_CD31__AAACCTGAGAAACGAG           containment   \n",
       "\n",
       "                                                                 sketch_id  \\\n",
       "lemur_cell_id                                                                \n",
       "ANTOINE_LUNG_CD31__AAACCTGAGAAACGAG  alphabet-dayhoff__ksize-51__scaled-10   \n",
       "ANTOINE_LUNG_CD31__AAACCTGAGAAACGAG  alphabet-protein__ksize-30__scaled-10   \n",
       "ANTOINE_LUNG_CD31__AAACCTGAGAAACGAG  alphabet-dayhoff__ksize-51__scaled-10   \n",
       "ANTOINE_LUNG_CD31__AAACCTGAGAAACGAG  alphabet-protein__ksize-30__scaled-10   \n",
       "ANTOINE_LUNG_CD31__AAACCTGAGAAACGAG  alphabet-dayhoff__ksize-51__scaled-10   \n",
       "\n",
       "                                    mol_or_alpha alphabet  ksize sketch_style  \\\n",
       "lemur_cell_id                                                                   \n",
       "ANTOINE_LUNG_CD31__AAACCTGAGAAACGAG     alphabet  dayhoff     51       scaled   \n",
       "ANTOINE_LUNG_CD31__AAACCTGAGAAACGAG     alphabet  protein     30       scaled   \n",
       "ANTOINE_LUNG_CD31__AAACCTGAGAAACGAG     alphabet  dayhoff     51       scaled   \n",
       "ANTOINE_LUNG_CD31__AAACCTGAGAAACGAG     alphabet  protein     30       scaled   \n",
       "ANTOINE_LUNG_CD31__AAACCTGAGAAACGAG     alphabet  dayhoff     51       scaled   \n",
       "\n",
       "                                     sketch_value      lemur_channel  \\\n",
       "lemur_cell_id                                                          \n",
       "ANTOINE_LUNG_CD31__AAACCTGAGAAACGAG            10  ANTOINE_LUNG_CD31   \n",
       "ANTOINE_LUNG_CD31__AAACCTGAGAAACGAG            10  ANTOINE_LUNG_CD31   \n",
       "ANTOINE_LUNG_CD31__AAACCTGAGAAACGAG            10  ANTOINE_LUNG_CD31   \n",
       "ANTOINE_LUNG_CD31__AAACCTGAGAAACGAG            10  ANTOINE_LUNG_CD31   \n",
       "ANTOINE_LUNG_CD31__AAACCTGAGAAACGAG            10  ANTOINE_LUNG_CD31   \n",
       "\n",
       "                                    lemur_cell_ontology_class  \\\n",
       "lemur_cell_id                                                   \n",
       "ANTOINE_LUNG_CD31__AAACCTGAGAAACGAG                macrophage   \n",
       "ANTOINE_LUNG_CD31__AAACCTGAGAAACGAG                macrophage   \n",
       "ANTOINE_LUNG_CD31__AAACCTGAGAAACGAG                macrophage   \n",
       "ANTOINE_LUNG_CD31__AAACCTGAGAAACGAG                macrophage   \n",
       "ANTOINE_LUNG_CD31__AAACCTGAGAAACGAG                macrophage   \n",
       "\n",
       "                                    lemur_narrow_group lemur_broad_group  \\\n",
       "lemur_cell_id                                                              \n",
       "ANTOINE_LUNG_CD31__AAACCTGAGAAACGAG         Macrophage        Macrophage   \n",
       "ANTOINE_LUNG_CD31__AAACCTGAGAAACGAG         Macrophage        Macrophage   \n",
       "ANTOINE_LUNG_CD31__AAACCTGAGAAACGAG         Macrophage        Macrophage   \n",
       "ANTOINE_LUNG_CD31__AAACCTGAGAAACGAG         Macrophage        Macrophage   \n",
       "ANTOINE_LUNG_CD31__AAACCTGAGAAACGAG         Macrophage        Macrophage   \n",
       "\n",
       "                                    lemur_compartment_group  \\\n",
       "lemur_cell_id                                                 \n",
       "ANTOINE_LUNG_CD31__AAACCTGAGAAACGAG                 myeloid   \n",
       "ANTOINE_LUNG_CD31__AAACCTGAGAAACGAG                 myeloid   \n",
       "ANTOINE_LUNG_CD31__AAACCTGAGAAACGAG                 myeloid   \n",
       "ANTOINE_LUNG_CD31__AAACCTGAGAAACGAG                 myeloid   \n",
       "ANTOINE_LUNG_CD31__AAACCTGAGAAACGAG                 myeloid   \n",
       "\n",
       "                                                                       database_type  \\\n",
       "lemur_cell_id                                                                          \n",
       "ANTOINE_LUNG_CD31__AAACCTGAGAAACGAG                      min-10-percent-shared-kmers   \n",
       "ANTOINE_LUNG_CD31__AAACCTGAGAAACGAG                      min-10-percent-shared-kmers   \n",
       "ANTOINE_LUNG_CD31__AAACCTGAGAAACGAG                      min-10-percent-shared-kmers   \n",
       "ANTOINE_LUNG_CD31__AAACCTGAGAAACGAG                      min-10-percent-shared-kmers   \n",
       "ANTOINE_LUNG_CD31__AAACCTGAGAAACGAG  min-10-percent-shared-kmers-remove-common-kmers   \n",
       "\n",
       "                                    groundtruth_celltype predicted_celltype  \n",
       "lemur_cell_id                                                                \n",
       "ANTOINE_LUNG_CD31__AAACCTGAGAAACGAG           Macrophage          Dendritic  \n",
       "ANTOINE_LUNG_CD31__AAACCTGAGAAACGAG           Macrophage          Dendritic  \n",
       "ANTOINE_LUNG_CD31__AAACCTGAGAAACGAG           Macrophage         Macrophage  \n",
       "ANTOINE_LUNG_CD31__AAACCTGAGAAACGAG           Macrophage         Macrophage  \n",
       "ANTOINE_LUNG_CD31__AAACCTGAGAAACGAG           Macrophage          Dendritic  "
      ]
     },
     "execution_count": 68,
     "metadata": {},
     "output_type": "execute_result"
    }
   ],
   "source": [
    "%%time\n",
    "\n",
    "predicted_cells_top_hit = search_results.groupby(\n",
    "    classification_groupby, as_index=False, group_keys=False\n",
    ").apply(lambda x: x.nlargest(1, 'similarity'))\n",
    "\n",
    "predicted_cells_top_hit = predicted_cells_top_hit.set_index(f\"{query_organism}_cell_id\")\n",
    "\n",
    "print(predicted_cells_top_hit.shape)\n",
    "predicted_cells_top_hit.head()"
   ]
  },
  {
   "cell_type": "markdown",
   "metadata": {},
   "source": [
    "### Write top N to file"
   ]
  },
  {
   "cell_type": "code",
   "execution_count": 69,
   "metadata": {},
   "outputs": [
    {
     "name": "stdout",
     "output_type": "stream",
     "text": [
      "CPU times: user 414 ms, sys: 20.2 ms, total: 434 ms\n",
      "Wall time: 480 ms\n"
     ]
    }
   ],
   "source": [
    "%%time\n",
    "\n",
    "parquet_fn = \"sourmash-search-results--top-hit.parquet\"\n",
    "parquet = os.path.join(aggregated_results_dir, parquet_fn)\n",
    "predicted_cells_top_hit.to_parquet(parquet)"
   ]
  },
  {
   "cell_type": "code",
   "execution_count": 66,
   "metadata": {},
   "outputs": [
    {
     "data": {
      "text/plain": [
       "2"
      ]
     },
     "execution_count": 66,
     "metadata": {},
     "output_type": "execute_result"
    }
   ],
   "source": [
    "1+1"
   ]
  },
  {
   "cell_type": "markdown",
   "metadata": {},
   "source": [
    "# Get ideal ksizes per alphabet sizes"
   ]
  },
  {
   "cell_type": "code",
   "execution_count": 63,
   "metadata": {},
   "outputs": [
    {
     "data": {
      "text/plain": [
       "dayhoff    5.447059\n",
       "protein    9.107210\n",
       "hp         2.107210\n",
       "dtype: float64"
      ]
     },
     "execution_count": 63,
     "metadata": {},
     "output_type": "execute_result"
    }
   ],
   "source": [
    "alphabet_sizes = pd.Series(dict(dayhoff=6, protein=20, hp=2))\n",
    "np.log10(alphabet_sizes.pow(21/3))"
   ]
  },
  {
   "cell_type": "code",
   "execution_count": 64,
   "metadata": {},
   "outputs": [
    {
     "data": {
      "text/plain": [
       "dayhoff     7.003361\n",
       "protein    11.709270\n",
       "hp          2.709270\n",
       "dtype: float64"
      ]
     },
     "execution_count": 64,
     "metadata": {},
     "output_type": "execute_result"
    }
   ],
   "source": [
    "np.log10(alphabet_sizes.pow(27/3))"
   ]
  },
  {
   "cell_type": "code",
   "execution_count": 65,
   "metadata": {},
   "outputs": [
    {
     "data": {
      "text/plain": [
       "dayhoff    15.563025\n",
       "protein    26.020600\n",
       "hp          6.020600\n",
       "dtype: float64"
      ]
     },
     "execution_count": 65,
     "metadata": {},
     "output_type": "execute_result"
    }
   ],
   "source": [
    "np.log10(alphabet_sizes.pow(60/3))"
   ]
  },
  {
   "cell_type": "code",
   "execution_count": 50,
   "metadata": {},
   "outputs": [
    {
     "data": {
      "text/plain": [
       "dayhoff    16.341176\n",
       "protein    27.321630\n",
       "hp          6.321630\n",
       "dtype: float64"
      ]
     },
     "execution_count": 50,
     "metadata": {},
     "output_type": "execute_result"
    }
   ],
   "source": [
    "np.log10(alphabet_sizes.pow(63/3))"
   ]
  },
  {
   "cell_type": "code",
   "execution_count": 51,
   "metadata": {},
   "outputs": [
    {
     "data": {
      "text/plain": [
       "dayhoff    5.447059\n",
       "protein    9.107210\n",
       "hp         2.107210\n",
       "dtype: float64"
      ]
     },
     "execution_count": 51,
     "metadata": {},
     "output_type": "execute_result"
    }
   ],
   "source": [
    "21/3 * np.log10(alphabet_sizes)"
   ]
  },
  {
   "cell_type": "code",
   "execution_count": 52,
   "metadata": {},
   "outputs": [
    {
     "data": {
      "text/plain": [
       "array([21, 24, 27, 30, 33, 36, 39, 42, 45, 48, 51, 54, 57, 60, 63, 66, 69,\n",
       "       72, 75, 78, 81, 84, 87, 90])"
      ]
     },
     "execution_count": 52,
     "metadata": {},
     "output_type": "execute_result"
    }
   ],
   "source": [
    "k_nuc_sizes = np.arange(21, 91, 3)\n",
    "k_nuc_sizes"
   ]
  },
  {
   "cell_type": "code",
   "execution_count": 26,
   "metadata": {},
   "outputs": [
    {
     "data": {
      "text/plain": [
       "array([ 7.,  8.,  9., 10., 11., 12., 13., 14., 15., 16., 17., 18., 19.,\n",
       "       20., 21., 22., 23., 24., 25., 26., 27., 28., 29., 30.])"
      ]
     },
     "execution_count": 26,
     "metadata": {},
     "output_type": "execute_result"
    }
   ],
   "source": [
    "k_aa_sizes = k_nuc_sizes/3\n",
    "k_aa_sizes"
   ]
  },
  {
   "cell_type": "code",
   "execution_count": 27,
   "metadata": {},
   "outputs": [
    {
     "name": "stdout",
     "output_type": "stream",
     "text": [
      "(24, 3)\n",
      "--- First 5 entries ---\n"
     ]
    },
    {
     "data": {
      "text/html": [
       "<div>\n",
       "<style scoped>\n",
       "    .dataframe tbody tr th:only-of-type {\n",
       "        vertical-align: middle;\n",
       "    }\n",
       "\n",
       "    .dataframe tbody tr th {\n",
       "        vertical-align: top;\n",
       "    }\n",
       "\n",
       "    .dataframe thead th {\n",
       "        text-align: right;\n",
       "    }\n",
       "</style>\n",
       "<table border=\"1\" class=\"dataframe\">\n",
       "  <thead>\n",
       "    <tr style=\"text-align: right;\">\n",
       "      <th></th>\n",
       "      <th>k_nuc</th>\n",
       "      <th>entropy</th>\n",
       "      <th>alphabet</th>\n",
       "    </tr>\n",
       "  </thead>\n",
       "  <tbody>\n",
       "    <tr>\n",
       "      <th>0</th>\n",
       "      <td>21</td>\n",
       "      <td>12.64326</td>\n",
       "      <td>dna</td>\n",
       "    </tr>\n",
       "    <tr>\n",
       "      <th>1</th>\n",
       "      <td>24</td>\n",
       "      <td>14.44944</td>\n",
       "      <td>dna</td>\n",
       "    </tr>\n",
       "    <tr>\n",
       "      <th>2</th>\n",
       "      <td>27</td>\n",
       "      <td>16.25562</td>\n",
       "      <td>dna</td>\n",
       "    </tr>\n",
       "    <tr>\n",
       "      <th>3</th>\n",
       "      <td>30</td>\n",
       "      <td>18.06180</td>\n",
       "      <td>dna</td>\n",
       "    </tr>\n",
       "    <tr>\n",
       "      <th>4</th>\n",
       "      <td>33</td>\n",
       "      <td>19.86798</td>\n",
       "      <td>dna</td>\n",
       "    </tr>\n",
       "  </tbody>\n",
       "</table>\n",
       "</div>"
      ],
      "text/plain": [
       "   k_nuc   entropy alphabet\n",
       "0     21  12.64326      dna\n",
       "1     24  14.44944      dna\n",
       "2     27  16.25562      dna\n",
       "3     30  18.06180      dna\n",
       "4     33  19.86798      dna"
      ]
     },
     "metadata": {},
     "output_type": "display_data"
    }
   ],
   "source": [
    "dna_entropy = pd.Series(k_nuc_sizes * np.log10(4), name='entropy', index=k_nuc_sizes)\n",
    "dna_entropy = dna_entropy.reset_index()\n",
    "dna_entropy = dna_entropy.rename(columns={'index': 'k_nuc'})\n",
    "dna_entropy['alphabet'] = 'dna'\n",
    "describe(dna_entropy)"
   ]
  },
  {
   "cell_type": "code",
   "execution_count": 28,
   "metadata": {},
   "outputs": [],
   "source": [
    "aa_nuc_alphabet_sizes = alphabet_sizes.copy()\n",
    "aa_nuc_alphabet_sizes['dna'] = 4"
   ]
  },
  {
   "cell_type": "code",
   "execution_count": 29,
   "metadata": {},
   "outputs": [
    {
     "name": "stdout",
     "output_type": "stream",
     "text": [
      "(96, 7)\n",
      "--- First 5 entries ---\n"
     ]
    },
    {
     "data": {
      "text/html": [
       "<div>\n",
       "<style scoped>\n",
       "    .dataframe tbody tr th:only-of-type {\n",
       "        vertical-align: middle;\n",
       "    }\n",
       "\n",
       "    .dataframe tbody tr th {\n",
       "        vertical-align: top;\n",
       "    }\n",
       "\n",
       "    .dataframe thead th {\n",
       "        text-align: right;\n",
       "    }\n",
       "</style>\n",
       "<table border=\"1\" class=\"dataframe\">\n",
       "  <thead>\n",
       "    <tr style=\"text-align: right;\">\n",
       "      <th></th>\n",
       "      <th>k_nuc</th>\n",
       "      <th>alphabet</th>\n",
       "      <th>entropy</th>\n",
       "      <th>k_aa</th>\n",
       "      <th>sigma</th>\n",
       "      <th>alphabet_type</th>\n",
       "      <th>alphabet_label</th>\n",
       "    </tr>\n",
       "  </thead>\n",
       "  <tbody>\n",
       "    <tr>\n",
       "      <th>0</th>\n",
       "      <td>21</td>\n",
       "      <td>dayhoff</td>\n",
       "      <td>5.447059</td>\n",
       "      <td>7</td>\n",
       "      <td>6</td>\n",
       "      <td>aa</td>\n",
       "      <td>dayhoff $|\\Sigma_{aa}| = 6$</td>\n",
       "    </tr>\n",
       "    <tr>\n",
       "      <th>1</th>\n",
       "      <td>21</td>\n",
       "      <td>protein</td>\n",
       "      <td>9.107210</td>\n",
       "      <td>7</td>\n",
       "      <td>20</td>\n",
       "      <td>aa</td>\n",
       "      <td>protein $|\\Sigma_{aa}| = 20$</td>\n",
       "    </tr>\n",
       "    <tr>\n",
       "      <th>2</th>\n",
       "      <td>21</td>\n",
       "      <td>hp</td>\n",
       "      <td>2.107210</td>\n",
       "      <td>7</td>\n",
       "      <td>2</td>\n",
       "      <td>aa</td>\n",
       "      <td>hp $|\\Sigma_{aa}| = 2$</td>\n",
       "    </tr>\n",
       "    <tr>\n",
       "      <th>3</th>\n",
       "      <td>24</td>\n",
       "      <td>dayhoff</td>\n",
       "      <td>6.225210</td>\n",
       "      <td>8</td>\n",
       "      <td>6</td>\n",
       "      <td>aa</td>\n",
       "      <td>dayhoff $|\\Sigma_{aa}| = 6$</td>\n",
       "    </tr>\n",
       "    <tr>\n",
       "      <th>4</th>\n",
       "      <td>24</td>\n",
       "      <td>protein</td>\n",
       "      <td>10.408240</td>\n",
       "      <td>8</td>\n",
       "      <td>20</td>\n",
       "      <td>aa</td>\n",
       "      <td>protein $|\\Sigma_{aa}| = 20$</td>\n",
       "    </tr>\n",
       "  </tbody>\n",
       "</table>\n",
       "</div>"
      ],
      "text/plain": [
       "   k_nuc alphabet    entropy  k_aa  sigma alphabet_type  \\\n",
       "0     21  dayhoff   5.447059     7      6            aa   \n",
       "1     21  protein   9.107210     7     20            aa   \n",
       "2     21       hp   2.107210     7      2            aa   \n",
       "3     24  dayhoff   6.225210     8      6            aa   \n",
       "4     24  protein  10.408240     8     20            aa   \n",
       "\n",
       "                 alphabet_label  \n",
       "0   dayhoff $|\\Sigma_{aa}| = 6$  \n",
       "1  protein $|\\Sigma_{aa}| = 20$  \n",
       "2        hp $|\\Sigma_{aa}| = 2$  \n",
       "3   dayhoff $|\\Sigma_{aa}| = 6$  \n",
       "4  protein $|\\Sigma_{aa}| = 20$  "
      ]
     },
     "metadata": {},
     "output_type": "display_data"
    }
   ],
   "source": [
    "alphabet_complexity = alphabet_sizes.to_frame().apply(\n",
    "    lambda x: pd.Series(k_aa_sizes * np.log10(x.iloc[0]), name=x.name), axis=1\n",
    ")\n",
    "alphabet_complexity.columns = k_nuc_sizes\n",
    "alphabet_complexity = alphabet_complexity.unstack().reset_index()\n",
    "alphabet_complexity = alphabet_complexity.rename(\n",
    "    columns={\"level_0\": \"k_nuc\", \"level_1\": \"alphabet\", 0: \"entropy\"}\n",
    ")\n",
    "alphabet_complexity = pd.concat([alphabet_complexity, dna_entropy])\n",
    "alphabet_complexity[\"k_aa\"] = (alphabet_complexity[\"k_nuc\"] / 3).astype(int)\n",
    "alphabet_complexity[\"sigma\"] = alphabet_complexity.alphabet.map(aa_nuc_alphabet_sizes)\n",
    "alphabet_complexity[\"alphabet_type\"] = alphabet_complexity.alphabet.map(\n",
    "    lambda x: \"nuc\" if x == \"dna\" else \"aa\"\n",
    ")\n",
    "alphabet_complexity[\"alphabet_label\"] = alphabet_complexity.apply(\n",
    "    lambda x: \"{alphabet} $|\\Sigma_{{{alphabet_type}}}| = {sigma}$\".format(**x), axis=1\n",
    ")\n",
    "describe(alphabet_complexity)"
   ]
  },
  {
   "cell_type": "code",
   "execution_count": 30,
   "metadata": {},
   "outputs": [
    {
     "data": {
      "text/plain": [
       "['dayhoff $|\\\\Sigma_{aa}| = 6$',\n",
       " 'dna $|\\\\Sigma_{nuc}| = 4$',\n",
       " 'hp $|\\\\Sigma_{aa}| = 2$',\n",
       " 'protein $|\\\\Sigma_{aa}| = 20$']"
      ]
     },
     "execution_count": 30,
     "metadata": {},
     "output_type": "execute_result"
    }
   ],
   "source": [
    "sorted(alphabet_complexity.alphabet_label.unique())"
   ]
  },
  {
   "cell_type": "code",
   "execution_count": 31,
   "metadata": {},
   "outputs": [
    {
     "name": "stderr",
     "output_type": "stream",
     "text": [
      "/home/olga/miniconda3/envs/immune-evolution/lib/python3.7/site-packages/seaborn/categorical.py:3737: UserWarning: The `size` parameter has been renamed to `height`; please update your code.\n",
      "  warnings.warn(msg, UserWarning)\n"
     ]
    },
    {
     "data": {
      "image/png": "[encoded data removed]",
      "text/plain": [
       "<Figure size 501.249x216 with 1 Axes>"
      ]
     },
     "metadata": {
      "needs_background": "light"
     },
     "output_type": "display_data"
    }
   ],
   "source": [
    "alphabet_order = [\n",
    "    \"dna $|\\\\Sigma_{nuc}| = 4$\",\n",
    "    \"protein $|\\\\Sigma_{aa}| = 20$\",\n",
    "    \"dayhoff $|\\\\Sigma_{aa}| = 6$\",\n",
    "    \"hp $|\\\\Sigma_{aa}| = 2$\",\n",
    "]\n",
    "\n",
    "g = sns.catplot(\n",
    "    x=\"k_aa\",\n",
    "    data=alphabet_complexity,\n",
    "    y=\"entropy\",\n",
    "    hue=\"alphabet_label\",\n",
    "    kind=\"point\",\n",
    "    size=3,\n",
    "    aspect=1.75,\n",
    "    hue_order=alphabet_order,\n",
    ")\n",
    "\n",
    "entropy_min = alphabet_complexity.query(\n",
    "    'k_nuc == 63 and alphabet == \"hp\"'\n",
    ").entropy.iloc[0]\n",
    "entropy_max = alphabet_complexity.query(\n",
    "    'k_nuc == 60 and alphabet == \"dayhoff\"'\n",
    ").entropy.iloc[0]\n",
    "\n",
    "for ax in g.axes.flat:\n",
    "    xmin, xmax = ax.get_xlim()\n",
    "    ax.fill_between(\n",
    "        (xmin, xmax), entropy_min, entropy_max, color=\"lightgrey\", zorder=-1\n",
    "    )\n",
    "    ax.axhline(entropy_min, color=\"grey\", linestyle=\"--\", zorder=-1)\n",
    "    ax.axhline(entropy_max, color=\"grey\", linestyle=\"--\", zorder=-1)\n",
    "\n",
    "g.set(\n",
    "    ylabel=r\"$k \\times \\log_{10} \\left( | \\Sigma | \\right)$\",\n",
    "    xlim=(xmin, xmax),\n",
    "    ylim=(0, 30),\n",
    "    xlabel=r\"$k_{aa}$ size\",\n",
    ")\n",
    "figure_folder = (\n",
    "    \"/home/olga/googledrive/ImmuneEvolution/analysis/alphabet_size_vs_complexity\"\n",
    ")\n",
    "! mkdir -p $figure_folder\n",
    "pdf = os.path.join(figure_folder, \"alphabet_size_vs_complexity.pdf\")\n",
    "g.savefig(pdf)"
   ]
  },
  {
   "cell_type": "code",
   "execution_count": 32,
   "metadata": {},
   "outputs": [
    {
     "data": {
      "text/html": [
       "<div>\n",
       "<style scoped>\n",
       "    .dataframe tbody tr th:only-of-type {\n",
       "        vertical-align: middle;\n",
       "    }\n",
       "\n",
       "    .dataframe tbody tr th {\n",
       "        vertical-align: top;\n",
       "    }\n",
       "\n",
       "    .dataframe thead th {\n",
       "        text-align: right;\n",
       "    }\n",
       "</style>\n",
       "<table border=\"1\" class=\"dataframe\">\n",
       "  <thead>\n",
       "    <tr style=\"text-align: right;\">\n",
       "      <th></th>\n",
       "      <th>k_nuc</th>\n",
       "      <th>alphabet</th>\n",
       "      <th>entropy</th>\n",
       "      <th>k_aa</th>\n",
       "      <th>sigma</th>\n",
       "      <th>alphabet_type</th>\n",
       "      <th>alphabet_label</th>\n",
       "    </tr>\n",
       "  </thead>\n",
       "  <tbody>\n",
       "    <tr>\n",
       "      <th>18</th>\n",
       "      <td>39</td>\n",
       "      <td>dayhoff</td>\n",
       "      <td>10.115966</td>\n",
       "      <td>13</td>\n",
       "      <td>6</td>\n",
       "      <td>aa</td>\n",
       "      <td>dayhoff $|\\Sigma_{aa}| = 6$</td>\n",
       "    </tr>\n",
       "    <tr>\n",
       "      <th>19</th>\n",
       "      <td>39</td>\n",
       "      <td>protein</td>\n",
       "      <td>16.913390</td>\n",
       "      <td>13</td>\n",
       "      <td>20</td>\n",
       "      <td>aa</td>\n",
       "      <td>protein $|\\Sigma_{aa}| = 20$</td>\n",
       "    </tr>\n",
       "    <tr>\n",
       "      <th>20</th>\n",
       "      <td>39</td>\n",
       "      <td>hp</td>\n",
       "      <td>3.913390</td>\n",
       "      <td>13</td>\n",
       "      <td>2</td>\n",
       "      <td>aa</td>\n",
       "      <td>hp $|\\Sigma_{aa}| = 2$</td>\n",
       "    </tr>\n",
       "    <tr>\n",
       "      <th>6</th>\n",
       "      <td>39</td>\n",
       "      <td>dna</td>\n",
       "      <td>23.480340</td>\n",
       "      <td>13</td>\n",
       "      <td>4</td>\n",
       "      <td>nuc</td>\n",
       "      <td>dna $|\\Sigma_{nuc}| = 4$</td>\n",
       "    </tr>\n",
       "  </tbody>\n",
       "</table>\n",
       "</div>"
      ],
      "text/plain": [
       "    k_nuc alphabet    entropy  k_aa  sigma alphabet_type  \\\n",
       "18     39  dayhoff  10.115966    13      6            aa   \n",
       "19     39  protein  16.913390    13     20            aa   \n",
       "20     39       hp   3.913390    13      2            aa   \n",
       "6      39      dna  23.480340    13      4           nuc   \n",
       "\n",
       "                  alphabet_label  \n",
       "18   dayhoff $|\\Sigma_{aa}| = 6$  \n",
       "19  protein $|\\Sigma_{aa}| = 20$  \n",
       "20        hp $|\\Sigma_{aa}| = 2$  \n",
       "6       dna $|\\Sigma_{nuc}| = 4$  "
      ]
     },
     "execution_count": 32,
     "metadata": {},
     "output_type": "execute_result"
    }
   ],
   "source": [
    "alphabet_complexity.query('k_nuc == 39')"
   ]
  },
  {
   "cell_type": "code",
   "execution_count": 33,
   "metadata": {},
   "outputs": [
    {
     "data": {
      "text/html": [
       "<div>\n",
       "<style scoped>\n",
       "    .dataframe tbody tr th:only-of-type {\n",
       "        vertical-align: middle;\n",
       "    }\n",
       "\n",
       "    .dataframe tbody tr th {\n",
       "        vertical-align: top;\n",
       "    }\n",
       "\n",
       "    .dataframe thead th {\n",
       "        text-align: right;\n",
       "    }\n",
       "</style>\n",
       "<table border=\"1\" class=\"dataframe\">\n",
       "  <thead>\n",
       "    <tr style=\"text-align: right;\">\n",
       "      <th></th>\n",
       "      <th>k_nuc</th>\n",
       "      <th>alphabet</th>\n",
       "      <th>entropy</th>\n",
       "      <th>k_aa</th>\n",
       "      <th>sigma</th>\n",
       "      <th>alphabet_type</th>\n",
       "      <th>alphabet_label</th>\n",
       "    </tr>\n",
       "  </thead>\n",
       "  <tbody>\n",
       "    <tr>\n",
       "      <th>30</th>\n",
       "      <td>51</td>\n",
       "      <td>dayhoff</td>\n",
       "      <td>13.228571</td>\n",
       "      <td>17</td>\n",
       "      <td>6</td>\n",
       "      <td>aa</td>\n",
       "      <td>dayhoff $|\\Sigma_{aa}| = 6$</td>\n",
       "    </tr>\n",
       "    <tr>\n",
       "      <th>31</th>\n",
       "      <td>51</td>\n",
       "      <td>protein</td>\n",
       "      <td>22.117510</td>\n",
       "      <td>17</td>\n",
       "      <td>20</td>\n",
       "      <td>aa</td>\n",
       "      <td>protein $|\\Sigma_{aa}| = 20$</td>\n",
       "    </tr>\n",
       "    <tr>\n",
       "      <th>32</th>\n",
       "      <td>51</td>\n",
       "      <td>hp</td>\n",
       "      <td>5.117510</td>\n",
       "      <td>17</td>\n",
       "      <td>2</td>\n",
       "      <td>aa</td>\n",
       "      <td>hp $|\\Sigma_{aa}| = 2$</td>\n",
       "    </tr>\n",
       "    <tr>\n",
       "      <th>10</th>\n",
       "      <td>51</td>\n",
       "      <td>dna</td>\n",
       "      <td>30.705060</td>\n",
       "      <td>17</td>\n",
       "      <td>4</td>\n",
       "      <td>nuc</td>\n",
       "      <td>dna $|\\Sigma_{nuc}| = 4$</td>\n",
       "    </tr>\n",
       "  </tbody>\n",
       "</table>\n",
       "</div>"
      ],
      "text/plain": [
       "    k_nuc alphabet    entropy  k_aa  sigma alphabet_type  \\\n",
       "30     51  dayhoff  13.228571    17      6            aa   \n",
       "31     51  protein  22.117510    17     20            aa   \n",
       "32     51       hp   5.117510    17      2            aa   \n",
       "10     51      dna  30.705060    17      4           nuc   \n",
       "\n",
       "                  alphabet_label  \n",
       "30   dayhoff $|\\Sigma_{aa}| = 6$  \n",
       "31  protein $|\\Sigma_{aa}| = 20$  \n",
       "32        hp $|\\Sigma_{aa}| = 2$  \n",
       "10      dna $|\\Sigma_{nuc}| = 4$  "
      ]
     },
     "execution_count": 33,
     "metadata": {},
     "output_type": "execute_result"
    }
   ],
   "source": [
    "alphabet_complexity.query('k_nuc == 51')"
   ]
  },
  {
   "cell_type": "code",
   "execution_count": null,
   "metadata": {},
   "outputs": [],
   "source": []
  }
 ],
 "metadata": {
  "kernelspec": {
   "display_name": "Python [conda env:immune-evolution]",
   "language": "python",
   "name": "conda-env-immune-evolution-py"
  },
  "language_info": {
   "codemirror_mode": {
    "name": "ipython",
    "version": 3
   },
   "file_extension": ".py",
   "mimetype": "text/x-python",
   "name": "python",
   "nbconvert_exporter": "python",
   "pygments_lexer": "ipython3",
   "version": "3.7.8"
  },
  "toc-autonumbering": true
 },
 "nbformat": 4,
 "nbformat_minor": 4
}
