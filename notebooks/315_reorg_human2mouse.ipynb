{
 "cells": [
  {
   "cell_type": "markdown",
   "id": "social-lecture",
   "metadata": {},
   "source": [
    "# Goal for how to organize the signatures\n",
    "\n",
    "Copy all ribosomal-removed signatures to these subfolders\n",
    "\n",
    "\n",
    "Using `DNA`, `protein`, and `dayhoff` for shorthand now. In reality would use the full sketch id, e.g. `alphabet-DNA__ksize-21__scaled-10`\n",
    "\n",
    "```\n",
    "mouse2mouse/\n",
    "    self2self-bootstrapped/\n",
    "        0--train-mouse1-single-cells/\n",
    "            iteration-00/\n",
    "                DNA/\n",
    "                protein/\n",
    "                dayhoff/\n",
    "            iteration-01/\n",
    "                ...\n",
    "        1--test-mouse1-single-cells/\n",
    "            iteration-00/\n",
    "                DNA/\n",
    "                protein/\n",
    "                dayhoff/\n",
    "            iteration-01/\n",
    "                ...                \n",
    "        2--train-mouse1-merged-celltype-sigs/\n",
    "            iteration-00/\n",
    "                DNA/\n",
    "                protein/\n",
    "                dayhoff/\n",
    "            iteration-01/\n",
    "                ...\n",
    "        3--train-mouse1-celltype-remove-common-kmers/\n",
    "            iteration-00/\n",
    "                DNA/\n",
    "                protein/\n",
    "                dayhoff/\n",
    "            iteration-01/\n",
    "                ...\n",
    "        4--train-mouse1--celltype-sbt-dbs/\n",
    "            iteration-00/\n",
    "                DNA/\n",
    "                protein/\n",
    "                dayhoff/\n",
    "            iteration-01/\n",
    "                ...\n",
    "        5--search-results/\n",
    "            iteration-00/\n",
    "                DNA/\n",
    "                protein/\n",
    "                dayhoff/\n",
    "            iteration-00/\n",
    "                ...\n",
    "    mouse1-mouse2/\n",
    "        0--train-mouse1-single-cells/\n",
    "            DNA/\n",
    "            protein/\n",
    "            dayhoff/\n",
    "        1--test-mouse2-single-cells/\n",
    "            DNA/\n",
    "            protein/\n",
    "            dayhoff/\n",
    "        2--train-mouse1-merged-celltype-sigs/\n",
    "            DNA/\n",
    "            protein/\n",
    "            dayhoff/\n",
    "        3--train-mouse1-celltype-remove-common-kmers/\n",
    "            DNA/\n",
    "            protein/\n",
    "            dayhoff/\n",
    "        4--train-mouse1-celltype-sbt-dbs/\n",
    "            DNA/\n",
    "            protein/\n",
    "            dayhoff\n",
    "        5--search-results/\n",
    "            DNA/\n",
    "            protein/\n",
    "            dayhoff/\n",
    "train-mouse/\n",
    "    0--protein-coding-fastas/\n",
    "        nucleotide/\n",
    "        peptide/\n",
    "    1--single-cell-sigs/\n",
    "        DNA/\n",
    "        protein/\n",
    "        dayhoff/\n",
    "    2--merged-celltype-sigs/\n",
    "        DNA/\n",
    "        protein/\n",
    "        dayhoff/\n",
    "    3--celltype-remove-common-kmers/\n",
    "        DNA/\n",
    "        protein/\n",
    "        dayhoff/\n",
    "    4--celltype-sbt-dbs/\n",
    "        DNA/\n",
    "        protein/\n",
    "        dayhoff/\n",
    "test-human/\n",
    "    0--protein-coding-fastas/\n",
    "        nucleotide/\n",
    "        peptide/\n",
    "    1--single-cell-sigs/\n",
    "        DNA/\n",
    "        protein/\n",
    "        dayhoff/\n",
    "    2--mouse-search-results/\n",
    "        DNA/\n",
    "        protein/\n",
    "        dayhoffl\n",
    "test-lemur/\n",
    "    0--protein-coding-fastas/\n",
    "        nucleotide/\n",
    "        peptide/\n",
    "    1--single-cell-sigs/\n",
    "        protein/\n",
    "        dayhoff/\n",
    "    2--mouse-search-results/\n",
    "        DNA/\n",
    "        protein/\n",
    "        dayhoff/\n",
    "test-bat/\n",
    "    0--protein-coding-fastas/\n",
    "        nucleotide/\n",
    "        peptide/\n",
    "    1--single-cell-sigs/\n",
    "        protein/\n",
    "        dayhoff/\n",
    "    2--mouse-search-results/\n",
    "        DNA/\n",
    "        protein/\n",
    "        dayhoff/\n",
    "```"
   ]
  },
  {
   "cell_type": "markdown",
   "id": "surface-sellers",
   "metadata": {},
   "source": [
    "# Imports"
   ]
  },
  {
   "cell_type": "code",
   "execution_count": 32,
   "id": "together-question",
   "metadata": {},
   "outputs": [
    {
     "name": "stdout",
     "output_type": "stream",
     "text": [
      "The autoreload extension is already loaded. To reload it, use:\n",
      "  %reload_ext autoreload\n"
     ]
    }
   ],
   "source": [
    "import glob\n",
    "import os\n",
    "import shutil\n",
    "\n",
    "import pandas as pd\n",
    "import scanpy as sc\n",
    "import sig_utils\n",
    "from joblib import Parallel, delayed\n",
    "from tqdm import tqdm\n",
    "\n",
    "import create_sourmash_command_utils as csc_utils\n",
    "\n",
    "import sig_reorg\n",
    "\n",
    "pd.options.display.max_rows = 500\n",
    "\n",
    "%load_ext autoreload\n",
    "%autoreload 2"
   ]
  },
  {
   "cell_type": "markdown",
   "id": "instrumental-yeast",
   "metadata": {},
   "source": [
    "## Def Describe"
   ]
  },
  {
   "cell_type": "code",
   "execution_count": 2,
   "id": "political-score",
   "metadata": {},
   "outputs": [
    {
     "name": "stdout",
     "output_type": "stream",
     "text": [
      "Overwriting pandas_utils.py\n"
     ]
    }
   ],
   "source": [
    "%%file pandas_utils.py\n",
    "\n",
    "def describe(df, random=False):\n",
    "    print(df.shape)\n",
    "    print(\"--- First 5 entries ---\")\n",
    "    display(df.head())\n",
    "    if random:\n",
    "        print('--- Random subset ---')\n",
    "        display(df.sample(5))"
   ]
  },
  {
   "cell_type": "code",
   "execution_count": 3,
   "id": "aware-wesley",
   "metadata": {},
   "outputs": [],
   "source": [
    "from pandas_utils import describe"
   ]
  },
  {
   "cell_type": "markdown",
   "id": "satellite-association",
   "metadata": {},
   "source": [
    "## Read one2one h5ad"
   ]
  },
  {
   "cell_type": "code",
   "execution_count": 72,
   "id": "relevant-cologne",
   "metadata": {},
   "outputs": [
    {
     "name": "stdout",
     "output_type": "stream",
     "text": [
      "total 1.7G\n",
      "drwxrwxr-x 6 phoenix czb 4.0K Feb  3 09:47 \u001b[0m\u001b[01;34m.\u001b[0m/\n",
      "drwxrwxr-x 8 olga    czb 8.0K Mar 16 10:36 \u001b[01;34m..\u001b[0m/\n",
      "drwxrwxr-x 2 phoenix czb 4.0K Feb  3 09:48 \u001b[01;34mbat\u001b[0m/\n",
      "-rw-r--r-- 1 phoenix czb 496M Oct  8 17:45 bat_subset_w_shared_one2one_orthologs_human_lemur_mouse_bat.h5ad\n",
      "drwxr-xr-x 2 phoenix czb 4.0K Oct  8 17:51 \u001b[01;34mhuman_lemur_mouse\u001b[0m/\n",
      "drwxr-xr-x 2 olga    czb 4.0K Nov  5 07:54 \u001b[01;34mhuman-lemur-mouse-bat\u001b[0m/\n",
      "-rw-r--r-- 1 phoenix czb 470M Oct  8 17:45 human_lemur_mouse_subset_w_shared_one2one_orthologs_human_lemur_mouse_bat.h5ad\n",
      "drwxr-xr-x 2 olga    czb 4.0K Jan 11 15:00 \u001b[01;34mhuman-mouse\u001b[0m/\n",
      "-rw-r--r-- 1 olga    czb 689M Feb  3 09:46 human-mouse-bat__one2one_orthologs_raw.h5ad\n",
      "-rw-r--r-- 1 olga    czb 546K Feb  3 13:27 human-mouse-bat__one2one_orthologs_var.csv\n"
     ]
    }
   ],
   "source": [
    "ls -lha /home/olga/data_sm/immune-evolution/h5ads/"
   ]
  },
  {
   "cell_type": "code",
   "execution_count": 76,
   "id": "owned-librarian",
   "metadata": {},
   "outputs": [
    {
     "data": {
      "text/plain": [
       "Lung    63575\n",
       "Name: tissue, dtype: int64"
      ]
     },
     "execution_count": 76,
     "metadata": {},
     "output_type": "execute_result"
    }
   ],
   "source": [
    "ad = sc.read('/home/olga/data_sm/immune-evolution/h5ads/human-mouse-bat__one2one_orthologs_raw.h5ad')\n",
    "ad.obs.tissue.value_counts()"
   ]
  },
  {
   "cell_type": "code",
   "execution_count": 88,
   "id": "fuzzy-capitol",
   "metadata": {},
   "outputs": [
    {
     "data": {
      "text/plain": [
       "species  individual\n",
       "Human    TSP1          11628\n",
       "         TSP2          19489\n",
       "Mouse    18-F-50         320\n",
       "         18-F-51        1138\n",
       "         18-M-52        1573\n",
       "         18-M-53        1256\n",
       "         21-F-54        1312\n",
       "         21-F-55        1526\n",
       "         30-M-2         7728\n",
       "         30-M-3         1565\n",
       "         30-M-4          920\n",
       "         30-M-5          496\n",
       "         1-M-62         1043\n",
       "         1-M-63         1384\n",
       "         3-F-56          348\n",
       "         3-F-57          979\n",
       "         3-M-5/6         578\n",
       "         3-M-7/8        1636\n",
       "nan      nan            8656\n",
       "dtype: int64"
      ]
     },
     "execution_count": 88,
     "metadata": {},
     "output_type": "execute_result"
    }
   ],
   "source": [
    "ad.obs.groupby(['species', 'individual'], observed=True).size()"
   ]
  },
  {
   "cell_type": "code",
   "execution_count": 86,
   "id": "consistent-sheep",
   "metadata": {},
   "outputs": [
    {
     "data": {
      "text/html": [
       "<div>\n",
       "<style scoped>\n",
       "    .dataframe tbody tr th:only-of-type {\n",
       "        vertical-align: middle;\n",
       "    }\n",
       "\n",
       "    .dataframe tbody tr th {\n",
       "        vertical-align: top;\n",
       "    }\n",
       "\n",
       "    .dataframe thead th {\n",
       "        text-align: right;\n",
       "    }\n",
       "</style>\n",
       "<table border=\"1\" class=\"dataframe\">\n",
       "  <thead>\n",
       "    <tr style=\"text-align: right;\">\n",
       "      <th></th>\n",
       "      <th>original_cell_id</th>\n",
       "      <th>individual</th>\n",
       "      <th>tissue</th>\n",
       "      <th>subtissue</th>\n",
       "      <th>cell_barcode</th>\n",
       "      <th>channel</th>\n",
       "      <th>sex</th>\n",
       "      <th>n_counts</th>\n",
       "      <th>n_genes</th>\n",
       "      <th>cell_ontology_class</th>\n",
       "      <th>...</th>\n",
       "      <th>clustertype</th>\n",
       "      <th>cluster</th>\n",
       "      <th>celltype</th>\n",
       "      <th>celltype_tiss</th>\n",
       "      <th>clustercellnumber</th>\n",
       "      <th>newcelltype</th>\n",
       "      <th>clustertonumber</th>\n",
       "      <th>tissue_lower</th>\n",
       "      <th>sex_abbrev</th>\n",
       "      <th>cell_id</th>\n",
       "    </tr>\n",
       "  </thead>\n",
       "  <tbody>\n",
       "    <tr>\n",
       "      <th>TSP1_lung_2__AAACCCACAACTCGTA-0</th>\n",
       "      <td>AAACCCACAACTCGTA_TSP1_lung_2-5-human</td>\n",
       "      <td>TSP1</td>\n",
       "      <td>Lung</td>\n",
       "      <td>nan</td>\n",
       "      <td>AAACCCACAACTCGTA</td>\n",
       "      <td>TSP1_lung_2</td>\n",
       "      <td>female</td>\n",
       "      <td>31791.0</td>\n",
       "      <td>1470.0</td>\n",
       "      <td>basophil</td>\n",
       "      <td>...</td>\n",
       "      <td>nan</td>\n",
       "      <td>nan</td>\n",
       "      <td>nan</td>\n",
       "      <td>nan</td>\n",
       "      <td>NaN</td>\n",
       "      <td>nan</td>\n",
       "      <td>NaN</td>\n",
       "      <td>nan</td>\n",
       "      <td>nan</td>\n",
       "      <td>nan</td>\n",
       "    </tr>\n",
       "    <tr>\n",
       "      <th>TSP1_lung_2__AAACCCAGTCCGACGT-0</th>\n",
       "      <td>AAACCCAGTCCGACGT_TSP1_lung_2-5-human</td>\n",
       "      <td>TSP1</td>\n",
       "      <td>Lung</td>\n",
       "      <td>nan</td>\n",
       "      <td>AAACCCAGTCCGACGT</td>\n",
       "      <td>TSP1_lung_2</td>\n",
       "      <td>female</td>\n",
       "      <td>19200.0</td>\n",
       "      <td>3756.0</td>\n",
       "      <td>macrophage</td>\n",
       "      <td>...</td>\n",
       "      <td>nan</td>\n",
       "      <td>nan</td>\n",
       "      <td>nan</td>\n",
       "      <td>nan</td>\n",
       "      <td>NaN</td>\n",
       "      <td>nan</td>\n",
       "      <td>NaN</td>\n",
       "      <td>nan</td>\n",
       "      <td>nan</td>\n",
       "      <td>nan</td>\n",
       "    </tr>\n",
       "    <tr>\n",
       "      <th>TSP1_lung_2__AAACCCAGTTCAGTAC-0</th>\n",
       "      <td>AAACCCAGTTCAGTAC_TSP1_lung_2-5-human</td>\n",
       "      <td>TSP1</td>\n",
       "      <td>Lung</td>\n",
       "      <td>nan</td>\n",
       "      <td>AAACCCAGTTCAGTAC</td>\n",
       "      <td>TSP1_lung_2</td>\n",
       "      <td>female</td>\n",
       "      <td>20952.0</td>\n",
       "      <td>3885.0</td>\n",
       "      <td>macrophage</td>\n",
       "      <td>...</td>\n",
       "      <td>nan</td>\n",
       "      <td>nan</td>\n",
       "      <td>nan</td>\n",
       "      <td>nan</td>\n",
       "      <td>NaN</td>\n",
       "      <td>nan</td>\n",
       "      <td>NaN</td>\n",
       "      <td>nan</td>\n",
       "      <td>nan</td>\n",
       "      <td>nan</td>\n",
       "    </tr>\n",
       "    <tr>\n",
       "      <th>TSP1_lung_2__AAACGAAGTATCGATC-0</th>\n",
       "      <td>AAACGAAGTATCGATC_TSP1_lung_2-5-human</td>\n",
       "      <td>TSP1</td>\n",
       "      <td>Lung</td>\n",
       "      <td>nan</td>\n",
       "      <td>AAACGAAGTATCGATC</td>\n",
       "      <td>TSP1_lung_2</td>\n",
       "      <td>female</td>\n",
       "      <td>20300.0</td>\n",
       "      <td>4043.0</td>\n",
       "      <td>macrophage</td>\n",
       "      <td>...</td>\n",
       "      <td>nan</td>\n",
       "      <td>nan</td>\n",
       "      <td>nan</td>\n",
       "      <td>nan</td>\n",
       "      <td>NaN</td>\n",
       "      <td>nan</td>\n",
       "      <td>NaN</td>\n",
       "      <td>nan</td>\n",
       "      <td>nan</td>\n",
       "      <td>nan</td>\n",
       "    </tr>\n",
       "    <tr>\n",
       "      <th>TSP1_lung_2__AAACGAATCATTCATC-0</th>\n",
       "      <td>AAACGAATCATTCATC_TSP1_lung_2-5-human</td>\n",
       "      <td>TSP1</td>\n",
       "      <td>Lung</td>\n",
       "      <td>nan</td>\n",
       "      <td>AAACGAATCATTCATC</td>\n",
       "      <td>TSP1_lung_2</td>\n",
       "      <td>female</td>\n",
       "      <td>20878.0</td>\n",
       "      <td>4284.0</td>\n",
       "      <td>macrophage</td>\n",
       "      <td>...</td>\n",
       "      <td>nan</td>\n",
       "      <td>nan</td>\n",
       "      <td>nan</td>\n",
       "      <td>nan</td>\n",
       "      <td>NaN</td>\n",
       "      <td>nan</td>\n",
       "      <td>NaN</td>\n",
       "      <td>nan</td>\n",
       "      <td>nan</td>\n",
       "      <td>nan</td>\n",
       "    </tr>\n",
       "  </tbody>\n",
       "</table>\n",
       "<p>5 rows × 34 columns</p>\n",
       "</div>"
      ],
      "text/plain": [
       "                                                     original_cell_id  \\\n",
       "TSP1_lung_2__AAACCCACAACTCGTA-0  AAACCCACAACTCGTA_TSP1_lung_2-5-human   \n",
       "TSP1_lung_2__AAACCCAGTCCGACGT-0  AAACCCAGTCCGACGT_TSP1_lung_2-5-human   \n",
       "TSP1_lung_2__AAACCCAGTTCAGTAC-0  AAACCCAGTTCAGTAC_TSP1_lung_2-5-human   \n",
       "TSP1_lung_2__AAACGAAGTATCGATC-0  AAACGAAGTATCGATC_TSP1_lung_2-5-human   \n",
       "TSP1_lung_2__AAACGAATCATTCATC-0  AAACGAATCATTCATC_TSP1_lung_2-5-human   \n",
       "\n",
       "                                individual tissue subtissue      cell_barcode  \\\n",
       "TSP1_lung_2__AAACCCACAACTCGTA-0       TSP1   Lung       nan  AAACCCACAACTCGTA   \n",
       "TSP1_lung_2__AAACCCAGTCCGACGT-0       TSP1   Lung       nan  AAACCCAGTCCGACGT   \n",
       "TSP1_lung_2__AAACCCAGTTCAGTAC-0       TSP1   Lung       nan  AAACCCAGTTCAGTAC   \n",
       "TSP1_lung_2__AAACGAAGTATCGATC-0       TSP1   Lung       nan  AAACGAAGTATCGATC   \n",
       "TSP1_lung_2__AAACGAATCATTCATC-0       TSP1   Lung       nan  AAACGAATCATTCATC   \n",
       "\n",
       "                                     channel     sex  n_counts  n_genes  \\\n",
       "TSP1_lung_2__AAACCCACAACTCGTA-0  TSP1_lung_2  female   31791.0   1470.0   \n",
       "TSP1_lung_2__AAACCCAGTCCGACGT-0  TSP1_lung_2  female   19200.0   3756.0   \n",
       "TSP1_lung_2__AAACCCAGTTCAGTAC-0  TSP1_lung_2  female   20952.0   3885.0   \n",
       "TSP1_lung_2__AAACGAAGTATCGATC-0  TSP1_lung_2  female   20300.0   4043.0   \n",
       "TSP1_lung_2__AAACGAATCATTCATC-0  TSP1_lung_2  female   20878.0   4284.0   \n",
       "\n",
       "                                cell_ontology_class  ... clustertype cluster  \\\n",
       "TSP1_lung_2__AAACCCACAACTCGTA-0            basophil  ...         nan     nan   \n",
       "TSP1_lung_2__AAACCCAGTCCGACGT-0          macrophage  ...         nan     nan   \n",
       "TSP1_lung_2__AAACCCAGTTCAGTAC-0          macrophage  ...         nan     nan   \n",
       "TSP1_lung_2__AAACGAAGTATCGATC-0          macrophage  ...         nan     nan   \n",
       "TSP1_lung_2__AAACGAATCATTCATC-0          macrophage  ...         nan     nan   \n",
       "\n",
       "                                celltype celltype_tiss clustercellnumber  \\\n",
       "TSP1_lung_2__AAACCCACAACTCGTA-0      nan           nan               NaN   \n",
       "TSP1_lung_2__AAACCCAGTCCGACGT-0      nan           nan               NaN   \n",
       "TSP1_lung_2__AAACCCAGTTCAGTAC-0      nan           nan               NaN   \n",
       "TSP1_lung_2__AAACGAAGTATCGATC-0      nan           nan               NaN   \n",
       "TSP1_lung_2__AAACGAATCATTCATC-0      nan           nan               NaN   \n",
       "\n",
       "                                newcelltype clustertonumber tissue_lower  \\\n",
       "TSP1_lung_2__AAACCCACAACTCGTA-0         nan             NaN          nan   \n",
       "TSP1_lung_2__AAACCCAGTCCGACGT-0         nan             NaN          nan   \n",
       "TSP1_lung_2__AAACCCAGTTCAGTAC-0         nan             NaN          nan   \n",
       "TSP1_lung_2__AAACGAAGTATCGATC-0         nan             NaN          nan   \n",
       "TSP1_lung_2__AAACGAATCATTCATC-0         nan             NaN          nan   \n",
       "\n",
       "                                sex_abbrev cell_id  \n",
       "TSP1_lung_2__AAACCCACAACTCGTA-0        nan     nan  \n",
       "TSP1_lung_2__AAACCCAGTCCGACGT-0        nan     nan  \n",
       "TSP1_lung_2__AAACCCAGTTCAGTAC-0        nan     nan  \n",
       "TSP1_lung_2__AAACGAAGTATCGATC-0        nan     nan  \n",
       "TSP1_lung_2__AAACGAATCATTCATC-0        nan     nan  \n",
       "\n",
       "[5 rows x 34 columns]"
      ]
     },
     "execution_count": 86,
     "metadata": {},
     "output_type": "execute_result"
    }
   ],
   "source": [
    "ad.obs.head()"
   ]
  },
  {
   "cell_type": "code",
   "execution_count": 78,
   "id": "rubber-startup",
   "metadata": {},
   "outputs": [
    {
     "data": {
      "text/plain": [
       "species  tissue\n",
       "Human    Lung      31117\n",
       "Mouse    Lung      23802\n",
       "nan      Lung       8656\n",
       "dtype: int64"
      ]
     },
     "execution_count": 78,
     "metadata": {},
     "output_type": "execute_result"
    }
   ],
   "source": [
    "ad.obs.groupby(['species', 'tissue']).size()"
   ]
  },
  {
   "cell_type": "code",
   "execution_count": 73,
   "id": "announced-thickness",
   "metadata": {},
   "outputs": [
    {
     "name": "stdout",
     "output_type": "stream",
     "text": [
      "total 15G\n",
      "drwxr-xr-x 2 olga    czb 4.0K Jan 11 15:00 \u001b[0m\u001b[01;34m.\u001b[0m/\n",
      "drwxrwxr-x 6 phoenix czb 4.0K Feb  3 09:47 \u001b[01;34m..\u001b[0m/\n",
      "-rw-r--r-- 1 olga    czb 444M Jan 11 15:05 human-mouse-one2one-orthologs--bladder.h5ad\n",
      "-rw-r--r-- 1 olga    czb 5.1G Jan 11 15:04 human-mouse-one2one-orthologs.h5ad\n",
      "-rw-r--r-- 1 olga    czb 791M Jan 11 15:04 human-mouse-one2one-orthologs--lung.h5ad\n",
      "-rw-r--r-- 1 olga    czb 209M Jan 11 15:04 human-mouse-one2one-orthologs--muscle.h5ad\n",
      "-rw-r--r-- 1 olga    czb 3.1G Jan 11 14:58 tabula-muris-senis--human-mouse-one2one-ortholog-subset.h5ad\n",
      "-rw-r--r-- 1 olga    czb 4.9G Jan 11 14:50 tabula-sapiens--human-mouse-one2one-ortholog-subset.h5ad\n"
     ]
    }
   ],
   "source": [
    "ls -lha /home/olga/data_sm/immune-evolution/h5ads/human-mouse/"
   ]
  },
  {
   "cell_type": "code",
   "execution_count": 85,
   "id": "celtic-wayne",
   "metadata": {},
   "outputs": [],
   "source": [
    "! echo \"This is Tabula Sapiens + Tabula Muris Senis\" >> /home/olga/data_sm/immune-evolution/h5ads/human-mouse/README.md"
   ]
  },
  {
   "cell_type": "code",
   "execution_count": 80,
   "id": "bulgarian-student",
   "metadata": {},
   "outputs": [
    {
     "data": {
      "text/plain": [
       "AnnData object with n_obs × n_vars = 54919 × 14245\n",
       "    obs: 'original_cell_id', 'individual', 'tissue', 'subtissue', 'cell_barcode', 'channel', 'sex', 'n_counts', 'n_genes', 'cell_ontology_class', 'species', 'species_latin', 'narrow_group', 'broad_group', 'compartment_group', 'age', 'cell_ontology_id', 'free_annotation', 'sequencing_run', 'species_batch'\n",
       "    var: 'ensembl_id-human', 'len-human', 'mouse_gene_symbol-mouse', 'n_cells-mouse'"
      ]
     },
     "execution_count": 80,
     "metadata": {},
     "output_type": "execute_result"
    }
   ],
   "source": [
    "human_mouse = sc.read('/home/olga/data_sm/immune-evolution/h5ads/human-mouse/human-mouse-one2one-orthologs--lung.h5ad')\n",
    "human_mouse"
   ]
  },
  {
   "cell_type": "code",
   "execution_count": 82,
   "id": "heavy-aviation",
   "metadata": {},
   "outputs": [
    {
     "data": {
      "text/plain": [
       "human    31117\n",
       "mouse    23802\n",
       "Name: species_batch, dtype: int64"
      ]
     },
     "execution_count": 82,
     "metadata": {},
     "output_type": "execute_result"
    }
   ],
   "source": [
    "human_mouse.obs.species_batch.value_counts()"
   ]
  },
  {
   "cell_type": "code",
   "execution_count": 83,
   "id": "uniform-income",
   "metadata": {},
   "outputs": [
    {
     "data": {
      "text/html": [
       "<div>\n",
       "<style scoped>\n",
       "    .dataframe tbody tr th:only-of-type {\n",
       "        vertical-align: middle;\n",
       "    }\n",
       "\n",
       "    .dataframe tbody tr th {\n",
       "        vertical-align: top;\n",
       "    }\n",
       "\n",
       "    .dataframe thead th {\n",
       "        text-align: right;\n",
       "    }\n",
       "</style>\n",
       "<table border=\"1\" class=\"dataframe\">\n",
       "  <thead>\n",
       "    <tr style=\"text-align: right;\">\n",
       "      <th></th>\n",
       "      <th>original_cell_id</th>\n",
       "      <th>individual</th>\n",
       "      <th>tissue</th>\n",
       "      <th>subtissue</th>\n",
       "      <th>cell_barcode</th>\n",
       "      <th>channel</th>\n",
       "      <th>sex</th>\n",
       "      <th>n_counts</th>\n",
       "      <th>n_genes</th>\n",
       "      <th>cell_ontology_class</th>\n",
       "      <th>species</th>\n",
       "      <th>species_latin</th>\n",
       "      <th>narrow_group</th>\n",
       "      <th>broad_group</th>\n",
       "      <th>compartment_group</th>\n",
       "      <th>age</th>\n",
       "      <th>cell_ontology_id</th>\n",
       "      <th>free_annotation</th>\n",
       "      <th>sequencing_run</th>\n",
       "      <th>species_batch</th>\n",
       "    </tr>\n",
       "    <tr>\n",
       "      <th>cell_id</th>\n",
       "      <th></th>\n",
       "      <th></th>\n",
       "      <th></th>\n",
       "      <th></th>\n",
       "      <th></th>\n",
       "      <th></th>\n",
       "      <th></th>\n",
       "      <th></th>\n",
       "      <th></th>\n",
       "      <th></th>\n",
       "      <th></th>\n",
       "      <th></th>\n",
       "      <th></th>\n",
       "      <th></th>\n",
       "      <th></th>\n",
       "      <th></th>\n",
       "      <th></th>\n",
       "      <th></th>\n",
       "      <th></th>\n",
       "      <th></th>\n",
       "    </tr>\n",
       "  </thead>\n",
       "  <tbody>\n",
       "    <tr>\n",
       "      <th>TSP1_lung_2__AAACCCACAACTCGTA</th>\n",
       "      <td>AAACCCACAACTCGTA_TSP1_lung_2-5-human</td>\n",
       "      <td>TSP1</td>\n",
       "      <td>Lung</td>\n",
       "      <td>nan</td>\n",
       "      <td>AAACCCACAACTCGTA</td>\n",
       "      <td>TSP1_lung_2</td>\n",
       "      <td>female</td>\n",
       "      <td>31791.0</td>\n",
       "      <td>1470.0</td>\n",
       "      <td>basophil</td>\n",
       "      <td>Human</td>\n",
       "      <td>Homo sapiens</td>\n",
       "      <td>nan</td>\n",
       "      <td>nan</td>\n",
       "      <td>nan</td>\n",
       "      <td>nan</td>\n",
       "      <td>nan</td>\n",
       "      <td>nan</td>\n",
       "      <td>nan</td>\n",
       "      <td>human</td>\n",
       "    </tr>\n",
       "    <tr>\n",
       "      <th>TSP1_lung_2__AAACCCAGTCCGACGT</th>\n",
       "      <td>AAACCCAGTCCGACGT_TSP1_lung_2-5-human</td>\n",
       "      <td>TSP1</td>\n",
       "      <td>Lung</td>\n",
       "      <td>nan</td>\n",
       "      <td>AAACCCAGTCCGACGT</td>\n",
       "      <td>TSP1_lung_2</td>\n",
       "      <td>female</td>\n",
       "      <td>19200.0</td>\n",
       "      <td>3756.0</td>\n",
       "      <td>macrophage</td>\n",
       "      <td>Human</td>\n",
       "      <td>Homo sapiens</td>\n",
       "      <td>macrophage</td>\n",
       "      <td>macrophage</td>\n",
       "      <td>myeloid</td>\n",
       "      <td>nan</td>\n",
       "      <td>nan</td>\n",
       "      <td>nan</td>\n",
       "      <td>nan</td>\n",
       "      <td>human</td>\n",
       "    </tr>\n",
       "    <tr>\n",
       "      <th>TSP1_lung_2__AAACCCAGTTCAGTAC</th>\n",
       "      <td>AAACCCAGTTCAGTAC_TSP1_lung_2-5-human</td>\n",
       "      <td>TSP1</td>\n",
       "      <td>Lung</td>\n",
       "      <td>nan</td>\n",
       "      <td>AAACCCAGTTCAGTAC</td>\n",
       "      <td>TSP1_lung_2</td>\n",
       "      <td>female</td>\n",
       "      <td>20952.0</td>\n",
       "      <td>3885.0</td>\n",
       "      <td>macrophage</td>\n",
       "      <td>Human</td>\n",
       "      <td>Homo sapiens</td>\n",
       "      <td>macrophage</td>\n",
       "      <td>macrophage</td>\n",
       "      <td>myeloid</td>\n",
       "      <td>nan</td>\n",
       "      <td>nan</td>\n",
       "      <td>nan</td>\n",
       "      <td>nan</td>\n",
       "      <td>human</td>\n",
       "    </tr>\n",
       "    <tr>\n",
       "      <th>TSP1_lung_2__AAACGAAGTATCGATC</th>\n",
       "      <td>AAACGAAGTATCGATC_TSP1_lung_2-5-human</td>\n",
       "      <td>TSP1</td>\n",
       "      <td>Lung</td>\n",
       "      <td>nan</td>\n",
       "      <td>AAACGAAGTATCGATC</td>\n",
       "      <td>TSP1_lung_2</td>\n",
       "      <td>female</td>\n",
       "      <td>20300.0</td>\n",
       "      <td>4043.0</td>\n",
       "      <td>macrophage</td>\n",
       "      <td>Human</td>\n",
       "      <td>Homo sapiens</td>\n",
       "      <td>macrophage</td>\n",
       "      <td>macrophage</td>\n",
       "      <td>myeloid</td>\n",
       "      <td>nan</td>\n",
       "      <td>nan</td>\n",
       "      <td>nan</td>\n",
       "      <td>nan</td>\n",
       "      <td>human</td>\n",
       "    </tr>\n",
       "    <tr>\n",
       "      <th>TSP1_lung_2__AAACGAATCATTCATC</th>\n",
       "      <td>AAACGAATCATTCATC_TSP1_lung_2-5-human</td>\n",
       "      <td>TSP1</td>\n",
       "      <td>Lung</td>\n",
       "      <td>nan</td>\n",
       "      <td>AAACGAATCATTCATC</td>\n",
       "      <td>TSP1_lung_2</td>\n",
       "      <td>female</td>\n",
       "      <td>20878.0</td>\n",
       "      <td>4284.0</td>\n",
       "      <td>macrophage</td>\n",
       "      <td>Human</td>\n",
       "      <td>Homo sapiens</td>\n",
       "      <td>macrophage</td>\n",
       "      <td>macrophage</td>\n",
       "      <td>myeloid</td>\n",
       "      <td>nan</td>\n",
       "      <td>nan</td>\n",
       "      <td>nan</td>\n",
       "      <td>nan</td>\n",
       "      <td>human</td>\n",
       "    </tr>\n",
       "  </tbody>\n",
       "</table>\n",
       "</div>"
      ],
      "text/plain": [
       "                                                   original_cell_id  \\\n",
       "cell_id                                                               \n",
       "TSP1_lung_2__AAACCCACAACTCGTA  AAACCCACAACTCGTA_TSP1_lung_2-5-human   \n",
       "TSP1_lung_2__AAACCCAGTCCGACGT  AAACCCAGTCCGACGT_TSP1_lung_2-5-human   \n",
       "TSP1_lung_2__AAACCCAGTTCAGTAC  AAACCCAGTTCAGTAC_TSP1_lung_2-5-human   \n",
       "TSP1_lung_2__AAACGAAGTATCGATC  AAACGAAGTATCGATC_TSP1_lung_2-5-human   \n",
       "TSP1_lung_2__AAACGAATCATTCATC  AAACGAATCATTCATC_TSP1_lung_2-5-human   \n",
       "\n",
       "                              individual tissue subtissue      cell_barcode  \\\n",
       "cell_id                                                                       \n",
       "TSP1_lung_2__AAACCCACAACTCGTA       TSP1   Lung       nan  AAACCCACAACTCGTA   \n",
       "TSP1_lung_2__AAACCCAGTCCGACGT       TSP1   Lung       nan  AAACCCAGTCCGACGT   \n",
       "TSP1_lung_2__AAACCCAGTTCAGTAC       TSP1   Lung       nan  AAACCCAGTTCAGTAC   \n",
       "TSP1_lung_2__AAACGAAGTATCGATC       TSP1   Lung       nan  AAACGAAGTATCGATC   \n",
       "TSP1_lung_2__AAACGAATCATTCATC       TSP1   Lung       nan  AAACGAATCATTCATC   \n",
       "\n",
       "                                   channel     sex  n_counts  n_genes  \\\n",
       "cell_id                                                                 \n",
       "TSP1_lung_2__AAACCCACAACTCGTA  TSP1_lung_2  female   31791.0   1470.0   \n",
       "TSP1_lung_2__AAACCCAGTCCGACGT  TSP1_lung_2  female   19200.0   3756.0   \n",
       "TSP1_lung_2__AAACCCAGTTCAGTAC  TSP1_lung_2  female   20952.0   3885.0   \n",
       "TSP1_lung_2__AAACGAAGTATCGATC  TSP1_lung_2  female   20300.0   4043.0   \n",
       "TSP1_lung_2__AAACGAATCATTCATC  TSP1_lung_2  female   20878.0   4284.0   \n",
       "\n",
       "                              cell_ontology_class species species_latin  \\\n",
       "cell_id                                                                   \n",
       "TSP1_lung_2__AAACCCACAACTCGTA            basophil   Human  Homo sapiens   \n",
       "TSP1_lung_2__AAACCCAGTCCGACGT          macrophage   Human  Homo sapiens   \n",
       "TSP1_lung_2__AAACCCAGTTCAGTAC          macrophage   Human  Homo sapiens   \n",
       "TSP1_lung_2__AAACGAAGTATCGATC          macrophage   Human  Homo sapiens   \n",
       "TSP1_lung_2__AAACGAATCATTCATC          macrophage   Human  Homo sapiens   \n",
       "\n",
       "                              narrow_group broad_group compartment_group  age  \\\n",
       "cell_id                                                                         \n",
       "TSP1_lung_2__AAACCCACAACTCGTA          nan         nan               nan  nan   \n",
       "TSP1_lung_2__AAACCCAGTCCGACGT   macrophage  macrophage           myeloid  nan   \n",
       "TSP1_lung_2__AAACCCAGTTCAGTAC   macrophage  macrophage           myeloid  nan   \n",
       "TSP1_lung_2__AAACGAAGTATCGATC   macrophage  macrophage           myeloid  nan   \n",
       "TSP1_lung_2__AAACGAATCATTCATC   macrophage  macrophage           myeloid  nan   \n",
       "\n",
       "                              cell_ontology_id free_annotation sequencing_run  \\\n",
       "cell_id                                                                         \n",
       "TSP1_lung_2__AAACCCACAACTCGTA              nan             nan            nan   \n",
       "TSP1_lung_2__AAACCCAGTCCGACGT              nan             nan            nan   \n",
       "TSP1_lung_2__AAACCCAGTTCAGTAC              nan             nan            nan   \n",
       "TSP1_lung_2__AAACGAAGTATCGATC              nan             nan            nan   \n",
       "TSP1_lung_2__AAACGAATCATTCATC              nan             nan            nan   \n",
       "\n",
       "                              species_batch  \n",
       "cell_id                                      \n",
       "TSP1_lung_2__AAACCCACAACTCGTA         human  \n",
       "TSP1_lung_2__AAACCCAGTCCGACGT         human  \n",
       "TSP1_lung_2__AAACCCAGTTCAGTAC         human  \n",
       "TSP1_lung_2__AAACGAAGTATCGATC         human  \n",
       "TSP1_lung_2__AAACGAATCATTCATC         human  "
      ]
     },
     "execution_count": 83,
     "metadata": {},
     "output_type": "execute_result"
    }
   ],
   "source": [
    "human_mouse.obs.head()"
   ]
  },
  {
   "cell_type": "code",
   "execution_count": 4,
   "id": "remarkable-immigration",
   "metadata": {},
   "outputs": [
    {
     "name": "stdout",
     "output_type": "stream",
     "text": [
      "AnnData object with n_obs × n_vars = 126745 × 10560\n",
      "    obs: 'index', 'age', 'cell_barcode', 'cell_ontology_class', 'cell_ontology_id', 'channel', 'free_annotation', 'individual', 'sample', 'sequencing_run', 'sex', 'species', 'species_batch', 'species_latin', 'tissue', 'narrow_group', 'broad_group', 'compartment_group', 'compartment_narrow', 'channel_cleaned', 'batch', 'n_genes', 'n_counts', 'species_batch_v2', 'compartment_broad', 'compartment_broad_narrow', 'compartment_species', 'compartment_narrow_species', 'common_individual_id'\n",
      "    var: 'bat__gene_name', 'mouse_lemur__gene_name-bat', 'mouse__gene_name-bat', 'mouse_lemur__gene_name_x-hlm', 'mouse__gene_name_x-hlm', 'gene_ids-lemur-hlm', 'n_cells-mouse-hlm', 'mouse_lemur__gene_name_y-hlm', 'mouse__gene_name_y-hlm'\n"
     ]
    },
    {
     "data": {
      "text/html": [
       "<div>\n",
       "<style scoped>\n",
       "    .dataframe tbody tr th:only-of-type {\n",
       "        vertical-align: middle;\n",
       "    }\n",
       "\n",
       "    .dataframe tbody tr th {\n",
       "        vertical-align: top;\n",
       "    }\n",
       "\n",
       "    .dataframe thead th {\n",
       "        text-align: right;\n",
       "    }\n",
       "</style>\n",
       "<table border=\"1\" class=\"dataframe\">\n",
       "  <thead>\n",
       "    <tr style=\"text-align: right;\">\n",
       "      <th></th>\n",
       "      <th>index</th>\n",
       "      <th>age</th>\n",
       "      <th>cell_barcode</th>\n",
       "      <th>cell_ontology_class</th>\n",
       "      <th>cell_ontology_id</th>\n",
       "      <th>channel</th>\n",
       "      <th>free_annotation</th>\n",
       "      <th>individual</th>\n",
       "      <th>sample</th>\n",
       "      <th>sequencing_run</th>\n",
       "      <th>...</th>\n",
       "      <th>channel_cleaned</th>\n",
       "      <th>batch</th>\n",
       "      <th>n_genes</th>\n",
       "      <th>n_counts</th>\n",
       "      <th>species_batch_v2</th>\n",
       "      <th>compartment_broad</th>\n",
       "      <th>compartment_broad_narrow</th>\n",
       "      <th>compartment_species</th>\n",
       "      <th>compartment_narrow_species</th>\n",
       "      <th>common_individual_id</th>\n",
       "    </tr>\n",
       "    <tr>\n",
       "      <th>cell_id</th>\n",
       "      <th></th>\n",
       "      <th></th>\n",
       "      <th></th>\n",
       "      <th></th>\n",
       "      <th></th>\n",
       "      <th></th>\n",
       "      <th></th>\n",
       "      <th></th>\n",
       "      <th></th>\n",
       "      <th></th>\n",
       "      <th></th>\n",
       "      <th></th>\n",
       "      <th></th>\n",
       "      <th></th>\n",
       "      <th></th>\n",
       "      <th></th>\n",
       "      <th></th>\n",
       "      <th></th>\n",
       "      <th></th>\n",
       "      <th></th>\n",
       "      <th></th>\n",
       "    </tr>\n",
       "  </thead>\n",
       "  <tbody>\n",
       "    <tr>\n",
       "      <th>P2_1__AAACCTGAGAAACCAT</th>\n",
       "      <td>P2_1_AAACCTGAGAAACCAT-human-hlm</td>\n",
       "      <td>46y</td>\n",
       "      <td>AAACCTGAGAAACCAT</td>\n",
       "      <td>capillary endothelial cell</td>\n",
       "      <td>nan</td>\n",
       "      <td>P2_1</td>\n",
       "      <td>Capillary Aerocyte</td>\n",
       "      <td>patient_2</td>\n",
       "      <td>distal 2</td>\n",
       "      <td>180607_A00111_0155_BHFCWYDMXX</td>\n",
       "      <td>...</td>\n",
       "      <td>P2_1</td>\n",
       "      <td>NaN</td>\n",
       "      <td>NaN</td>\n",
       "      <td>NaN</td>\n",
       "      <td>hlm</td>\n",
       "      <td>endothelial: Capillary</td>\n",
       "      <td>endothelial: Capillary: Capillary Aerocyte</td>\n",
       "      <td>endothelial: human</td>\n",
       "      <td>endothelial: Capillary Aerocyte: human</td>\n",
       "      <td>human_patient_2</td>\n",
       "    </tr>\n",
       "    <tr>\n",
       "      <th>P2_1__AAATGCCAGATGAGAG</th>\n",
       "      <td>P2_1_AAATGCCAGATGAGAG-human-hlm</td>\n",
       "      <td>46y</td>\n",
       "      <td>AAATGCCAGATGAGAG</td>\n",
       "      <td>capillary endothelial cell</td>\n",
       "      <td>nan</td>\n",
       "      <td>P2_1</td>\n",
       "      <td>Capillary Aerocyte</td>\n",
       "      <td>patient_2</td>\n",
       "      <td>distal 2</td>\n",
       "      <td>180607_A00111_0155_BHFCWYDMXX</td>\n",
       "      <td>...</td>\n",
       "      <td>P2_1</td>\n",
       "      <td>NaN</td>\n",
       "      <td>NaN</td>\n",
       "      <td>NaN</td>\n",
       "      <td>hlm</td>\n",
       "      <td>endothelial: Capillary</td>\n",
       "      <td>endothelial: Capillary: Capillary Aerocyte</td>\n",
       "      <td>endothelial: human</td>\n",
       "      <td>endothelial: Capillary Aerocyte: human</td>\n",
       "      <td>human_patient_2</td>\n",
       "    </tr>\n",
       "    <tr>\n",
       "      <th>P2_1__AACACGTTCGATCCCT</th>\n",
       "      <td>P2_1_AACACGTTCGATCCCT-human-hlm</td>\n",
       "      <td>46y</td>\n",
       "      <td>AACACGTTCGATCCCT</td>\n",
       "      <td>capillary endothelial cell</td>\n",
       "      <td>nan</td>\n",
       "      <td>P2_1</td>\n",
       "      <td>Capillary Aerocyte</td>\n",
       "      <td>patient_2</td>\n",
       "      <td>distal 2</td>\n",
       "      <td>180607_A00111_0155_BHFCWYDMXX</td>\n",
       "      <td>...</td>\n",
       "      <td>P2_1</td>\n",
       "      <td>NaN</td>\n",
       "      <td>NaN</td>\n",
       "      <td>NaN</td>\n",
       "      <td>hlm</td>\n",
       "      <td>endothelial: Capillary</td>\n",
       "      <td>endothelial: Capillary: Capillary Aerocyte</td>\n",
       "      <td>endothelial: human</td>\n",
       "      <td>endothelial: Capillary Aerocyte: human</td>\n",
       "      <td>human_patient_2</td>\n",
       "    </tr>\n",
       "    <tr>\n",
       "      <th>P2_1__AACACGTTCGCACTCT</th>\n",
       "      <td>P2_1_AACACGTTCGCACTCT-human-hlm</td>\n",
       "      <td>46y</td>\n",
       "      <td>AACACGTTCGCACTCT</td>\n",
       "      <td>capillary endothelial cell</td>\n",
       "      <td>nan</td>\n",
       "      <td>P2_1</td>\n",
       "      <td>Capillary Aerocyte</td>\n",
       "      <td>patient_2</td>\n",
       "      <td>distal 2</td>\n",
       "      <td>180607_A00111_0155_BHFCWYDMXX</td>\n",
       "      <td>...</td>\n",
       "      <td>P2_1</td>\n",
       "      <td>NaN</td>\n",
       "      <td>NaN</td>\n",
       "      <td>NaN</td>\n",
       "      <td>hlm</td>\n",
       "      <td>endothelial: Capillary</td>\n",
       "      <td>endothelial: Capillary: Capillary Aerocyte</td>\n",
       "      <td>endothelial: human</td>\n",
       "      <td>endothelial: Capillary Aerocyte: human</td>\n",
       "      <td>human_patient_2</td>\n",
       "    </tr>\n",
       "    <tr>\n",
       "      <th>P2_1__AACCATGCAGCTCGCA</th>\n",
       "      <td>P2_1_AACCATGCAGCTCGCA-human-hlm</td>\n",
       "      <td>46y</td>\n",
       "      <td>AACCATGCAGCTCGCA</td>\n",
       "      <td>capillary endothelial cell</td>\n",
       "      <td>nan</td>\n",
       "      <td>P2_1</td>\n",
       "      <td>Capillary Aerocyte</td>\n",
       "      <td>patient_2</td>\n",
       "      <td>distal 2</td>\n",
       "      <td>180607_A00111_0155_BHFCWYDMXX</td>\n",
       "      <td>...</td>\n",
       "      <td>P2_1</td>\n",
       "      <td>NaN</td>\n",
       "      <td>NaN</td>\n",
       "      <td>NaN</td>\n",
       "      <td>hlm</td>\n",
       "      <td>endothelial: Capillary</td>\n",
       "      <td>endothelial: Capillary: Capillary Aerocyte</td>\n",
       "      <td>endothelial: human</td>\n",
       "      <td>endothelial: Capillary Aerocyte: human</td>\n",
       "      <td>human_patient_2</td>\n",
       "    </tr>\n",
       "  </tbody>\n",
       "</table>\n",
       "<p>5 rows × 29 columns</p>\n",
       "</div>"
      ],
      "text/plain": [
       "                                                  index  age  \\\n",
       "cell_id                                                        \n",
       "P2_1__AAACCTGAGAAACCAT  P2_1_AAACCTGAGAAACCAT-human-hlm  46y   \n",
       "P2_1__AAATGCCAGATGAGAG  P2_1_AAATGCCAGATGAGAG-human-hlm  46y   \n",
       "P2_1__AACACGTTCGATCCCT  P2_1_AACACGTTCGATCCCT-human-hlm  46y   \n",
       "P2_1__AACACGTTCGCACTCT  P2_1_AACACGTTCGCACTCT-human-hlm  46y   \n",
       "P2_1__AACCATGCAGCTCGCA  P2_1_AACCATGCAGCTCGCA-human-hlm  46y   \n",
       "\n",
       "                            cell_barcode         cell_ontology_class  \\\n",
       "cell_id                                                                \n",
       "P2_1__AAACCTGAGAAACCAT  AAACCTGAGAAACCAT  capillary endothelial cell   \n",
       "P2_1__AAATGCCAGATGAGAG  AAATGCCAGATGAGAG  capillary endothelial cell   \n",
       "P2_1__AACACGTTCGATCCCT  AACACGTTCGATCCCT  capillary endothelial cell   \n",
       "P2_1__AACACGTTCGCACTCT  AACACGTTCGCACTCT  capillary endothelial cell   \n",
       "P2_1__AACCATGCAGCTCGCA  AACCATGCAGCTCGCA  capillary endothelial cell   \n",
       "\n",
       "                       cell_ontology_id channel     free_annotation  \\\n",
       "cell_id                                                               \n",
       "P2_1__AAACCTGAGAAACCAT              nan    P2_1  Capillary Aerocyte   \n",
       "P2_1__AAATGCCAGATGAGAG              nan    P2_1  Capillary Aerocyte   \n",
       "P2_1__AACACGTTCGATCCCT              nan    P2_1  Capillary Aerocyte   \n",
       "P2_1__AACACGTTCGCACTCT              nan    P2_1  Capillary Aerocyte   \n",
       "P2_1__AACCATGCAGCTCGCA              nan    P2_1  Capillary Aerocyte   \n",
       "\n",
       "                       individual    sample                 sequencing_run  \\\n",
       "cell_id                                                                      \n",
       "P2_1__AAACCTGAGAAACCAT  patient_2  distal 2  180607_A00111_0155_BHFCWYDMXX   \n",
       "P2_1__AAATGCCAGATGAGAG  patient_2  distal 2  180607_A00111_0155_BHFCWYDMXX   \n",
       "P2_1__AACACGTTCGATCCCT  patient_2  distal 2  180607_A00111_0155_BHFCWYDMXX   \n",
       "P2_1__AACACGTTCGCACTCT  patient_2  distal 2  180607_A00111_0155_BHFCWYDMXX   \n",
       "P2_1__AACCATGCAGCTCGCA  patient_2  distal 2  180607_A00111_0155_BHFCWYDMXX   \n",
       "\n",
       "                        ... channel_cleaned batch n_genes n_counts  \\\n",
       "cell_id                 ...                                          \n",
       "P2_1__AAACCTGAGAAACCAT  ...            P2_1   NaN     NaN      NaN   \n",
       "P2_1__AAATGCCAGATGAGAG  ...            P2_1   NaN     NaN      NaN   \n",
       "P2_1__AACACGTTCGATCCCT  ...            P2_1   NaN     NaN      NaN   \n",
       "P2_1__AACACGTTCGCACTCT  ...            P2_1   NaN     NaN      NaN   \n",
       "P2_1__AACCATGCAGCTCGCA  ...            P2_1   NaN     NaN      NaN   \n",
       "\n",
       "                       species_batch_v2       compartment_broad  \\\n",
       "cell_id                                                           \n",
       "P2_1__AAACCTGAGAAACCAT              hlm  endothelial: Capillary   \n",
       "P2_1__AAATGCCAGATGAGAG              hlm  endothelial: Capillary   \n",
       "P2_1__AACACGTTCGATCCCT              hlm  endothelial: Capillary   \n",
       "P2_1__AACACGTTCGCACTCT              hlm  endothelial: Capillary   \n",
       "P2_1__AACCATGCAGCTCGCA              hlm  endothelial: Capillary   \n",
       "\n",
       "                                          compartment_broad_narrow  \\\n",
       "cell_id                                                              \n",
       "P2_1__AAACCTGAGAAACCAT  endothelial: Capillary: Capillary Aerocyte   \n",
       "P2_1__AAATGCCAGATGAGAG  endothelial: Capillary: Capillary Aerocyte   \n",
       "P2_1__AACACGTTCGATCCCT  endothelial: Capillary: Capillary Aerocyte   \n",
       "P2_1__AACACGTTCGCACTCT  endothelial: Capillary: Capillary Aerocyte   \n",
       "P2_1__AACCATGCAGCTCGCA  endothelial: Capillary: Capillary Aerocyte   \n",
       "\n",
       "                       compartment_species  \\\n",
       "cell_id                                      \n",
       "P2_1__AAACCTGAGAAACCAT  endothelial: human   \n",
       "P2_1__AAATGCCAGATGAGAG  endothelial: human   \n",
       "P2_1__AACACGTTCGATCCCT  endothelial: human   \n",
       "P2_1__AACACGTTCGCACTCT  endothelial: human   \n",
       "P2_1__AACCATGCAGCTCGCA  endothelial: human   \n",
       "\n",
       "                                    compartment_narrow_species  \\\n",
       "cell_id                                                          \n",
       "P2_1__AAACCTGAGAAACCAT  endothelial: Capillary Aerocyte: human   \n",
       "P2_1__AAATGCCAGATGAGAG  endothelial: Capillary Aerocyte: human   \n",
       "P2_1__AACACGTTCGATCCCT  endothelial: Capillary Aerocyte: human   \n",
       "P2_1__AACACGTTCGCACTCT  endothelial: Capillary Aerocyte: human   \n",
       "P2_1__AACCATGCAGCTCGCA  endothelial: Capillary Aerocyte: human   \n",
       "\n",
       "                       common_individual_id  \n",
       "cell_id                                      \n",
       "P2_1__AAACCTGAGAAACCAT      human_patient_2  \n",
       "P2_1__AAATGCCAGATGAGAG      human_patient_2  \n",
       "P2_1__AACACGTTCGATCCCT      human_patient_2  \n",
       "P2_1__AACACGTTCGCACTCT      human_patient_2  \n",
       "P2_1__AACCATGCAGCTCGCA      human_patient_2  \n",
       "\n",
       "[5 rows x 29 columns]"
      ]
     },
     "execution_count": 4,
     "metadata": {},
     "output_type": "execute_result"
    }
   ],
   "source": [
    "adata = sc.read(\n",
    "#     \"/home/phoenix/data_sm/code/immune-evolution/h5ads/human-lemur-mouse-bat__lung_only_copy.h5ad\"\n",
    "    \"/home/olga/data_sm/immune-evolution/h5ads/human-lemur-mouse-bat/human-lemur-mouse-bat__lung_only.h5ad\"\n",
    ")\n",
    "adata.obs = adata.obs.reset_index().set_index('cell_id')\n",
    "print(adata)\n",
    "adata.obs.head()"
   ]
  },
  {
   "cell_type": "code",
   "execution_count": 5,
   "id": "alpine-choir",
   "metadata": {},
   "outputs": [
    {
     "data": {
      "text/plain": [
       "Human          57353\n",
       "Mouse lemur    36934\n",
       "Mouse          23802\n",
       "Bat             8656\n",
       "Name: species, dtype: int64"
      ]
     },
     "execution_count": 5,
     "metadata": {},
     "output_type": "execute_result"
    }
   ],
   "source": [
    "adata.obs.species.value_counts()"
   ]
  },
  {
   "cell_type": "code",
   "execution_count": 6,
   "id": "chicken-contrary",
   "metadata": {},
   "outputs": [
    {
     "data": {
      "text/plain": [
       "age  channel           \n",
       "18m  MACA_18m_F_LUNG_50     320\n",
       "     MACA_18m_F_LUNG_51    1138\n",
       "     MACA_18m_M_LUNG_52    1573\n",
       "     MACA_18m_M_LUNG_53    1256\n",
       "21m  MACA_21m_F_LUNG_54    1312\n",
       "     MACA_21m_F_LUNG_55    1526\n",
       "30m  10X_P1_6              7728\n",
       "     10X_P1_14             1565\n",
       "     10X_P2_5               920\n",
       "     10X_P3_0               496\n",
       "1m   10X_P5_13             1043\n",
       "     10X_P5_14             1384\n",
       "3m   10X_P7_8               348\n",
       "     10X_P7_9               979\n",
       "     10X_P8_12              578\n",
       "     10X_P8_13             1636\n",
       "dtype: int64"
      ]
     },
     "execution_count": 6,
     "metadata": {},
     "output_type": "execute_result"
    }
   ],
   "source": [
    "adata.obs.query('species == \"Mouse\"').groupby([\"age\", \"channel\"], observed=True).size()"
   ]
  },
  {
   "cell_type": "markdown",
   "id": "demanding-upper",
   "metadata": {},
   "source": [
    "## Set shared celltypes"
   ]
  },
  {
   "cell_type": "code",
   "execution_count": 7,
   "id": "alpha-positive",
   "metadata": {},
   "outputs": [
    {
     "data": {
      "text/plain": [
       "10"
      ]
     },
     "execution_count": 7,
     "metadata": {},
     "output_type": "execute_result"
    }
   ],
   "source": [
    "SHARED_CELLTYPES = ['Alveolar Epithelial Type 2',\n",
    " 'B cell',\n",
    " 'Capillary',\n",
    " 'Dendritic',\n",
    " 'Fibroblast',\n",
    " 'Macrophage',\n",
    " 'Monocyte',\n",
    " 'Natural Killer T cell',\n",
    " 'Smooth Muscle and Myofibroblast',\n",
    " 'T cell']\n",
    "len(SHARED_CELLTYPES)"
   ]
  },
  {
   "cell_type": "code",
   "execution_count": 8,
   "id": "mobile-scott",
   "metadata": {},
   "outputs": [
    {
     "name": "stderr",
     "output_type": "stream",
     "text": [
      "/home/olga/miniconda3/envs/immune-evolution/lib/python3.7/site-packages/anndata/_core/anndata.py:1094: FutureWarning: is_categorical is deprecated and will be removed in a future version.  Use is_categorical_dtype instead\n",
      "  if not is_categorical(df_full[k]):\n"
     ]
    },
    {
     "data": {
      "text/plain": [
       "View of AnnData object with n_obs × n_vars = 89795 × 10560\n",
       "    obs: 'index', 'age', 'cell_barcode', 'cell_ontology_class', 'cell_ontology_id', 'channel', 'free_annotation', 'individual', 'sample', 'sequencing_run', 'sex', 'species', 'species_batch', 'species_latin', 'tissue', 'narrow_group', 'broad_group', 'compartment_group', 'compartment_narrow', 'channel_cleaned', 'batch', 'n_genes', 'n_counts', 'species_batch_v2', 'compartment_broad', 'compartment_broad_narrow', 'compartment_species', 'compartment_narrow_species', 'common_individual_id'\n",
       "    var: 'bat__gene_name', 'mouse_lemur__gene_name-bat', 'mouse__gene_name-bat', 'mouse_lemur__gene_name_x-hlm', 'mouse__gene_name_x-hlm', 'gene_ids-lemur-hlm', 'n_cells-mouse-hlm', 'mouse_lemur__gene_name_y-hlm', 'mouse__gene_name_y-hlm'"
      ]
     },
     "execution_count": 8,
     "metadata": {},
     "output_type": "execute_result"
    }
   ],
   "source": [
    "adata_shared = adata[adata.obs.broad_group.isin(SHARED_CELLTYPES)]\n",
    "adata_shared"
   ]
  },
  {
   "cell_type": "code",
   "execution_count": 9,
   "id": "monetary-prairie",
   "metadata": {},
   "outputs": [
    {
     "data": {
      "text/plain": [
       "89795"
      ]
     },
     "execution_count": 9,
     "metadata": {},
     "output_type": "execute_result"
    }
   ],
   "source": [
    "CELL_IDS_TO_USE = set(adata_shared.obs.index)\n",
    "len(CELL_IDS_TO_USE)"
   ]
  },
  {
   "cell_type": "code",
   "execution_count": 10,
   "id": "intermediate-insured",
   "metadata": {},
   "outputs": [],
   "source": [
    "# adata_shared.obs.query('species == \"Mouse\"').groupby(\n",
    "#     [\"channel\", \"broad_group\"], observed=True\n",
    "# ).size()"
   ]
  },
  {
   "cell_type": "code",
   "execution_count": 11,
   "id": "verbal-trinity",
   "metadata": {},
   "outputs": [
    {
     "data": {
      "text/plain": [
       "age  channel           \n",
       "18m  MACA_18m_F_LUNG_50     9\n",
       "     MACA_18m_F_LUNG_51    10\n",
       "     MACA_18m_M_LUNG_52    10\n",
       "     MACA_18m_M_LUNG_53    10\n",
       "21m  MACA_21m_F_LUNG_54    10\n",
       "     MACA_21m_F_LUNG_55    10\n",
       "30m  10X_P1_6               8\n",
       "     10X_P1_14              9\n",
       "     10X_P2_5               9\n",
       "     10X_P3_0               9\n",
       "1m   10X_P5_13             10\n",
       "     10X_P5_14              9\n",
       "3m   10X_P7_8              10\n",
       "     10X_P7_9              10\n",
       "     10X_P8_12              8\n",
       "     10X_P8_13              8\n",
       "Name: broad_group, dtype: int64"
      ]
     },
     "execution_count": 11,
     "metadata": {},
     "output_type": "execute_result"
    }
   ],
   "source": [
    "adata_shared.obs.query('species == \"Mouse\"').groupby(\n",
    "    ['age', \"channel\"],\n",
    "    observed=True,\n",
    ").broad_group.nunique()"
   ]
  },
  {
   "cell_type": "markdown",
   "id": "mature-clone",
   "metadata": {},
   "source": [
    "## Set signature outdir"
   ]
  },
  {
   "cell_type": "code",
   "execution_count": 40,
   "id": "capable-glenn",
   "metadata": {},
   "outputs": [],
   "source": []
  },
  {
   "cell_type": "code",
   "execution_count": 13,
   "id": "analyzed-ordering",
   "metadata": {},
   "outputs": [
    {
     "name": "stdout",
     "output_type": "stream",
     "text": [
      "total 11K\n",
      "drwxr-xr-x  6 olga czb 4.0K Feb 28 09:33 \u001b[0m\u001b[01;34m.\u001b[0m/\n",
      "drwxrwxr-x 81 olga czb 8.0K Feb 28 09:02 \u001b[01;34m..\u001b[0m/\n",
      "drwxr-xr-x  4 olga czb 4.0K Feb 28 09:53 \u001b[01;34m0--mouse2mouse\u001b[0m/\n",
      "drwxr-xr-x  4 olga czb 4.0K Feb 28 09:49 \u001b[01;34m1--train-mouse\u001b[0m/\n",
      "drwxr-xr-x  2 olga czb 4.0K Feb 28 09:17 \u001b[01;34mmouse\u001b[0m/\n",
      "drwxr-xr-x  3 olga czb 4.0K Feb 27 09:59 \u001b[01;34mmouse2mouse\u001b[0m/\n"
     ]
    }
   ],
   "source": [
    "ls -lha $sig_outdir_base"
   ]
  },
  {
   "cell_type": "code",
   "execution_count": 14,
   "id": "furnished-picture",
   "metadata": {},
   "outputs": [],
   "source": [
    "rm -rf $sig_outdir_base/mouse/single-cell"
   ]
  },
  {
   "cell_type": "markdown",
   "id": "tight-break",
   "metadata": {},
   "source": [
    "## sketch ids of interest"
   ]
  },
  {
   "cell_type": "code",
   "execution_count": 15,
   "id": "comfortable-transparency",
   "metadata": {},
   "outputs": [
    {
     "data": {
      "text/plain": [
       "['alphabet-DNA__ksize-21__scaled-10',\n",
       " 'alphabet-protein__ksize-30__scaled-10',\n",
       " 'alphabet-dayhoff__ksize-51__scaled-10']"
      ]
     },
     "execution_count": 15,
     "metadata": {},
     "output_type": "execute_result"
    }
   ],
   "source": [
    "alpha_ksizes = ((\"DNA\", 21), (\"protein\", 30), (\"dayhoff\", 51))\n",
    "sketch_ids = [sig_utils.make_sketch_id(alpha=alpha, ksize=ksize, style='scaled', value=10) for alpha, ksize in alpha_ksizes]\n",
    "sketch_ids"
   ]
  },
  {
   "cell_type": "code",
   "execution_count": 16,
   "id": "hired-quarterly",
   "metadata": {},
   "outputs": [
    {
     "data": {
      "text/plain": [
       "['alphabet-DNA__ksize-21__scaled-10']"
      ]
     },
     "execution_count": 16,
     "metadata": {},
     "output_type": "execute_result"
    }
   ],
   "source": [
    "nucleotide_sketch_ids = sketch_ids[:1]\n",
    "nucleotide_sketch_ids"
   ]
  },
  {
   "cell_type": "code",
   "execution_count": 17,
   "id": "sharp-bones",
   "metadata": {},
   "outputs": [
    {
     "data": {
      "text/plain": [
       "['alphabet-protein__ksize-30__scaled-10',\n",
       " 'alphabet-dayhoff__ksize-51__scaled-10']"
      ]
     },
     "execution_count": 17,
     "metadata": {},
     "output_type": "execute_result"
    }
   ],
   "source": [
    "peptide_sketch_ids = sketch_ids[1:]\n",
    "peptide_sketch_ids"
   ]
  },
  {
   "cell_type": "code",
   "execution_count": 45,
   "id": "aggregate-delay",
   "metadata": {},
   "outputs": [],
   "source": [
    "import sig_reorg"
   ]
  },
  {
   "cell_type": "markdown",
   "id": "herbal-pocket",
   "metadata": {},
   "source": [
    "# Human"
   ]
  },
  {
   "cell_type": "markdown",
   "id": "upset-ratio",
   "metadata": {},
   "source": [
    "## Single cell fastas"
   ]
  },
  {
   "cell_type": "code",
   "execution_count": 47,
   "id": "lyric-recycling",
   "metadata": {},
   "outputs": [
    {
     "name": "stdout",
     "output_type": "stream",
     "text": [
      "total 11K\n",
      "drwxr-xr-x  6 olga czb 4.0K Feb 28 09:33 .\n",
      "drwxrwxr-x 81 olga czb 8.0K Feb 28 09:02 ..\n",
      "drwxr-xr-x  3 olga czb 4.0K Feb 28 09:33 0--mouse2mouse\n",
      "drwxr-xr-x  3 olga czb 4.0K Feb 28 09:29 1--train-mouse\n",
      "drwxr-xr-x  2 olga czb 4.0K Feb 28 09:17 mouse\n",
      "drwxr-xr-x  3 olga czb 4.0K Feb 27 09:59 mouse2mouse\n"
     ]
    }
   ],
   "source": [
    "! ls -lha $sig_outdir_base"
   ]
  },
  {
   "cell_type": "code",
   "execution_count": 28,
   "id": "confident-disposal",
   "metadata": {},
   "outputs": [],
   "source": [
    "human_kmermaid_base = \"/home/olga/data_sm/tabula-microcebus/analyses/kmermaid/tenx-tgz--hlca-v2--normal-lung-remove-riborna\""
   ]
  },
  {
   "cell_type": "code",
   "execution_count": 41,
   "id": "saving-intervention",
   "metadata": {},
   "outputs": [],
   "source": [
    "sig_outdir_base = '/home/olga/data_sm/immune-evolution/kmer-signatures'\n",
    "\n",
    "human_test_dir = os.path.join(sig_outdir_base, \"2--test-human\")\n",
    "\n",
    "human_test_0_fastas = os.path.join(human_test_dir, \"0--fastas\")\n",
    "human_test_1_single_cells = os.path.join(human_test_dir, \"1--single-cell-sigs\")\n",
    "human_fasta_input_dir = os.path.join(human_kmermaid_base, \"translate\")\n",
    "\n",
    "results_dir = os.path.join(human_test_dir, \"2--mouse-search-results\")\n",
    "dirs = (human_test_0_fastas, human_test_1_single_cells, results_dir)\n",
    "\n",
    "for outdir in dirs:\n",
    "    if not os.path.exists(outdir):\n",
    "        os.makedirs(outdir)"
   ]
  },
  {
   "cell_type": "markdown",
   "id": "local-satisfaction",
   "metadata": {},
   "source": [
    "\n",
    "## Copy fastas"
   ]
  },
  {
   "cell_type": "code",
   "execution_count": 65,
   "id": "exposed-physics",
   "metadata": {},
   "outputs": [
    {
     "name": "stderr",
     "output_type": "stream",
     "text": [
      "0it [00:00, ?it/s]"
     ]
    },
    {
     "name": "stdout",
     "output_type": "stream",
     "text": [
      "Copying peptides\n"
     ]
    },
    {
     "name": "stderr",
     "output_type": "stream",
     "text": [
      "54305it [03:21, 269.80it/s]\n",
      "0it [00:00, ?it/s]"
     ]
    },
    {
     "name": "stdout",
     "output_type": "stream",
     "text": [
      "Copying nucleotides\n"
     ]
    },
    {
     "name": "stderr",
     "output_type": "stream",
     "text": [
      "54305it [03:21, 269.13it/s]\n"
     ]
    }
   ],
   "source": [
    "sig_reorg.copy_fastas(\n",
    "    human_test_0_fastas,\n",
    "    human_fasta_input_dir,\n",
    "    select_cell_ids=CELL_IDS_TO_USE,\n",
    "    dryrun=False,\n",
    ")"
   ]
  },
  {
   "cell_type": "markdown",
   "id": "adapted-qatar",
   "metadata": {},
   "source": [
    "## Single cell signatures"
   ]
  },
  {
   "cell_type": "code",
   "execution_count": 30,
   "id": "early-edgar",
   "metadata": {},
   "outputs": [],
   "source": [
    "\n",
    "human_peptide_sketch_dir = os.path.join(\n",
    "    human_kmermaid_base,\n",
    "    \"sketches_peptide_handmade_merged_remove_ribosomal_dissociation_allcells\",\n",
    ")\n",
    "\n",
    "human_nucleotide_sketch_dir = os.path.join(\n",
    "    human_kmermaid_base, \"sketches_nucleotide_handmade_merged_remove_ribosomal_dissociation_allcells\"\n",
    ")"
   ]
  },
  {
   "cell_type": "code",
   "execution_count": 31,
   "id": "perfect-fault",
   "metadata": {},
   "outputs": [
    {
     "name": "stderr",
     "output_type": "stream",
     "text": [
      "219it [00:00, 2189.94it/s]"
     ]
    },
    {
     "name": "stdout",
     "output_type": "stream",
     "text": [
      "Copying alphabet-DNA__ksize-21__scaled-10\n"
     ]
    },
    {
     "name": "stderr",
     "output_type": "stream",
     "text": [
      "14153it [03:32, 66.47it/s] \n",
      "8it [00:00, 63.92it/s]"
     ]
    },
    {
     "name": "stdout",
     "output_type": "stream",
     "text": [
      "Copying alphabet-protein__ksize-30__scaled-10\n"
     ]
    },
    {
     "name": "stderr",
     "output_type": "stream",
     "text": [
      "20059it [01:27, 230.41it/s]\n",
      "22it [00:00, 212.30it/s]"
     ]
    },
    {
     "name": "stdout",
     "output_type": "stream",
     "text": [
      "Copying alphabet-dayhoff__ksize-51__scaled-10\n"
     ]
    },
    {
     "name": "stderr",
     "output_type": "stream",
     "text": [
      "20059it [01:26, 231.48it/s]\n"
     ]
    }
   ],
   "source": [
    "sig_reorg.copy_nucleotide_peptide_sketches(\n",
    "    peptide_sketch_dir=human_peptide_sketch_dir,\n",
    "    nucleotide_sketch_dir=human_nucleotide_sketch_dir,\n",
    "    pre_sketch_id_outdir=human_test_1_single_cells,\n",
    "    select_cell_ids=CELL_IDS_TO_USE,\n",
    "    dryrun=False\n",
    ")"
   ]
  },
  {
   "cell_type": "markdown",
   "id": "accessible-station",
   "metadata": {},
   "source": [
    "# Create queries"
   ]
  },
  {
   "cell_type": "code",
   "execution_count": 45,
   "id": "occasional-diamond",
   "metadata": {},
   "outputs": [
    {
     "data": {
      "text/plain": [
       "'/home/olga/data_sm/immune-evolution/kmer-signatures/2--test-human'"
      ]
     },
     "execution_count": 45,
     "metadata": {},
     "output_type": "execute_result"
    }
   ],
   "source": [
    "human_test_dir"
   ]
  },
  {
   "cell_type": "markdown",
   "id": "advance-butler",
   "metadata": {},
   "source": [
    "## celltypes with removed common k-mers"
   ]
  },
  {
   "cell_type": "code",
   "execution_count": 62,
   "id": "sophisticated-albany",
   "metadata": {},
   "outputs": [
    {
     "name": "stdout",
     "output_type": "stream",
     "text": [
      "parallel --progress --eta --jobs 96 < /home/olga/data_sm/immune-evolution/kmer-signatures/2--test-human/3-0--mouse-search-results--remove_common/sourmash_search_commands_DNA.txt\n",
      "parallel --progress --eta --jobs 96 < /home/olga/data_sm/immune-evolution/kmer-signatures/2--test-human/3-0--mouse-search-results--remove_common/sourmash_search_commands_protein.txt\n",
      "parallel --progress --eta --jobs 96 < /home/olga/data_sm/immune-evolution/kmer-signatures/2--test-human/3-0--mouse-search-results--remove_common/sourmash_search_commands_dayhoff.txt\n",
      "parallel --progress --eta --jobs 96 < /home/olga/data_sm/immune-evolution/kmer-signatures/2--test-human/3-1--mouse-search-results--raw_merged/sourmash_search_commands_DNA.txt\n",
      "parallel --progress --eta --jobs 96 < /home/olga/data_sm/immune-evolution/kmer-signatures/2--test-human/3-1--mouse-search-results--raw_merged/sourmash_search_commands_protein.txt\n",
      "parallel --progress --eta --jobs 96 < /home/olga/data_sm/immune-evolution/kmer-signatures/2--test-human/3-1--mouse-search-results--raw_merged/sourmash_search_commands_dayhoff.txt\n",
      "---\n",
      "parallel --progress --eta --jobs 96 < /home/olga/data_sm/immune-evolution/kmer-signatures/2--test-human/2--mouse-search-results/sourmash_search_commands_concatenated.txt\n"
     ]
    }
   ],
   "source": [
    "moltypes = \"DNA\", \"protein\", \"dayhoff\"\n",
    "\n",
    "alpha_ksizes = ((\"DNA\", 21), (\"protein\", 30), (\"dayhoff\", 51))\n",
    "\n",
    "# mouse celltype database directory\n",
    "train_4_celltype_sbts = \"/home/olga/data_sm/immune-evolution/kmer-signatures/1--train-mouse/4--celltype-sbt-dbts\"\n",
    "train_3_merged_celltype_remove_common = \"/home/olga/data_sm/immune-evolution/kmer-signatures/1--train-mouse/3--merged-celltype-remove-common-kmers\"\n",
    "train_2_merged_celltype = \"/home/olga/data_sm/immune-evolution/kmer-signatures/1--train-mouse/2--merged-celltype-sigs\"\n",
    "\n",
    "# Try both with removed common hashes and original\n",
    "celltype_dirs = dict(\n",
    "    remove_common=train_3_merged_celltype_remove_common,\n",
    "    raw_merged=train_2_merged_celltype,\n",
    ")\n",
    "\n",
    "txts = []\n",
    "for i, (name, celltype_dir) in enumerate(celltype_dirs.items()):\n",
    "    this_celltype_dir_results = os.path.join(\n",
    "        human_test_dir, f\"3-{i}--mouse-search-results--{name}\"\n",
    "    )\n",
    "    if not os.path.exists(this_celltype_dir_results):\n",
    "        os.makedirs(this_celltype_dir_results)\n",
    "    for alpha, ksize in alpha_ksizes:\n",
    "        txt = csc_utils.make_sourmash_search_commands(\n",
    "            this_celltype_dir_results,\n",
    "            query_sigs_dir=human_test_1_single_cells,\n",
    "            sbt_base_dir=celltype_dir,\n",
    "            k_sizes=[ksize],\n",
    "            scaled_sizes=[\n",
    "                10,\n",
    "            ],\n",
    "            sbt_template_basename=None,\n",
    "            query_sig_files=False,\n",
    "            containment=False,\n",
    "            moltype=alpha,\n",
    "            threshold=1e-100,\n",
    "            n_jobs=96,\n",
    "            force=True,\n",
    "            num_results=None,\n",
    "            add_ksize_to_sig_dir=False,\n",
    "            traverse_directory=True,\n",
    "        )\n",
    "        txts.append(txt)\n",
    "txts_to_cat = \" \".join(txts)\n",
    "catted_txt = os.path.join(results_dir, \"sourmash_search_commands_concatenated.txt\")\n",
    "! cat $txts_to_cat > $catted_txt\n",
    "\n",
    "print(f\"---\\nparallel --progress --eta --jobs 96 < {catted_txt}\")"
   ]
  },
  {
   "cell_type": "markdown",
   "id": "accepted-order",
   "metadata": {},
   "source": [
    "## Search mouse celltypes with k-mers shared by 10% of cells"
   ]
  },
  {
   "cell_type": "code",
   "execution_count": 68,
   "id": "together-county",
   "metadata": {},
   "outputs": [
    {
     "name": "stdout",
     "output_type": "stream",
     "text": [
      "parallel --progress --eta --jobs 96 < /home/olga/data_sm/immune-evolution/kmer-signatures/2--test-human/3-0--mouse-search-results--min-5-percent-shared-kmers/sourmash_search_commands_DNA.txt\n",
      "parallel --progress --eta --jobs 96 < /home/olga/data_sm/immune-evolution/kmer-signatures/2--test-human/3-0--mouse-search-results--min-5-percent-shared-kmers/sourmash_search_commands_protein.txt\n",
      "parallel --progress --eta --jobs 96 < /home/olga/data_sm/immune-evolution/kmer-signatures/2--test-human/3-0--mouse-search-results--min-5-percent-shared-kmers/sourmash_search_commands_dayhoff.txt\n",
      "parallel --progress --eta --jobs 96 < /home/olga/data_sm/immune-evolution/kmer-signatures/2--test-human/3-1--mouse-search-results--min-10-percent-shared-kmers/sourmash_search_commands_DNA.txt\n",
      "parallel --progress --eta --jobs 96 < /home/olga/data_sm/immune-evolution/kmer-signatures/2--test-human/3-1--mouse-search-results--min-10-percent-shared-kmers/sourmash_search_commands_protein.txt\n",
      "parallel --progress --eta --jobs 96 < /home/olga/data_sm/immune-evolution/kmer-signatures/2--test-human/3-1--mouse-search-results--min-10-percent-shared-kmers/sourmash_search_commands_dayhoff.txt\n",
      "---\n",
      "parallel --progress --eta --jobs 96 < /home/olga/data_sm/immune-evolution/kmer-signatures/2--test-human/2--mouse-search-results/sourmash_search_commands_concatenated.txt\n"
     ]
    }
   ],
   "source": [
    "moltypes = \"DNA\", \"protein\", \"dayhoff\"\n",
    "\n",
    "alpha_ksizes = ((\"DNA\", 21), (\"protein\", 30), (\"dayhoff\", 51))\n",
    "\n",
    "# mouse celltype database directory\n",
    "train_4_celltype_sbts = \"/home/olga/data_sm/immune-evolution/kmer-signatures/1--train-mouse/4--celltype-sbt-dbts\"\n",
    "train_3_sigs_min_10_percent = \"/home/olga/data_sm/immune-evolution/kmer-signatures/1--train-mouse/2--merged-celltype-sigs--min-kmer-count--10-percent\"\n",
    "train_3_sigs_min_5_percent = \"/home/olga/data_sm/immune-evolution/kmer-signatures/1--train-mouse/2--merged-celltype-sigs--min-kmer-count--5-percent\"\n",
    "# train_2_merged_celltype = \"/home/olga/data_sm/immune-evolution/kmer-signatures/1--train-mouse/2--merged-celltype-sigs\"\n",
    "\n",
    "# Try both with removed common hashes and original\n",
    "celltype_dirs = {\n",
    "    'min-5-percent-shared-kmers': train_3_sigs_min_5_percent,\n",
    "    'min-10-percent-shared-kmers': train_3_sigs_min_10_percent,\n",
    "}\n",
    "\n",
    "txts = []\n",
    "for i, (name, celltype_dir) in enumerate(celltype_dirs.items()):\n",
    "    this_celltype_dir_results = os.path.join(\n",
    "        human_test_dir, f\"3-{i}--mouse-search-results--{name}\"\n",
    "    )\n",
    "    if not os.path.exists(this_celltype_dir_results):\n",
    "        os.makedirs(this_celltype_dir_results)\n",
    "    for alpha, ksize in alpha_ksizes:\n",
    "        txt = csc_utils.make_sourmash_search_commands(\n",
    "            this_celltype_dir_results,\n",
    "            query_sigs_dir=human_test_1_single_cells,\n",
    "            sbt_base_dir=celltype_dir,\n",
    "            k_sizes=[ksize],\n",
    "            scaled_sizes=[\n",
    "                10,\n",
    "            ],\n",
    "            sbt_template_basename=None,\n",
    "            query_sig_files=False,\n",
    "            containment=False,\n",
    "            moltype=alpha,\n",
    "            threshold=1e-100,\n",
    "            n_jobs=96,\n",
    "            force=True,\n",
    "            num_results=None,\n",
    "            add_ksize_to_sig_dir=False,\n",
    "            traverse_directory=True,\n",
    "        )\n",
    "        txts.append(txt)\n",
    "txts_to_cat = \" \".join(txts)\n",
    "catted_txt = os.path.join(results_dir, \"sourmash_search_commands_concatenated.txt\")\n",
    "! cat $txts_to_cat > $catted_txt\n",
    "\n",
    "print(f\"---\\nparallel --progress --eta --jobs 96 < {catted_txt}\")"
   ]
  },
  {
   "cell_type": "markdown",
   "id": "square-tactics",
   "metadata": {},
   "source": [
    "## Search mouse celltypes with k-mers shared by 5, 10% of cells, but remove k-mers shared by 80% of celltypes"
   ]
  },
  {
   "cell_type": "code",
   "execution_count": 70,
   "id": "prepared-latex",
   "metadata": {},
   "outputs": [
    {
     "name": "stdout",
     "output_type": "stream",
     "text": [
      "parallel --progress --eta --jobs 96 < /home/olga/data_sm/immune-evolution/kmer-signatures/2--test-human/3-0--mouse-search-results--min-5-percent-shared-kmers-remove-common-kmers/sourmash_search_commands_DNA.txt\n",
      "parallel --progress --eta --jobs 96 < /home/olga/data_sm/immune-evolution/kmer-signatures/2--test-human/3-0--mouse-search-results--min-5-percent-shared-kmers-remove-common-kmers/sourmash_search_commands_protein.txt\n",
      "parallel --progress --eta --jobs 96 < /home/olga/data_sm/immune-evolution/kmer-signatures/2--test-human/3-0--mouse-search-results--min-5-percent-shared-kmers-remove-common-kmers/sourmash_search_commands_dayhoff.txt\n",
      "parallel --progress --eta --jobs 96 < /home/olga/data_sm/immune-evolution/kmer-signatures/2--test-human/3-1--mouse-search-results--min-10-percent-shared-kmers-remove-common-kmers/sourmash_search_commands_DNA.txt\n",
      "parallel --progress --eta --jobs 96 < /home/olga/data_sm/immune-evolution/kmer-signatures/2--test-human/3-1--mouse-search-results--min-10-percent-shared-kmers-remove-common-kmers/sourmash_search_commands_protein.txt\n",
      "parallel --progress --eta --jobs 96 < /home/olga/data_sm/immune-evolution/kmer-signatures/2--test-human/3-1--mouse-search-results--min-10-percent-shared-kmers-remove-common-kmers/sourmash_search_commands_dayhoff.txt\n",
      "---\n",
      "parallel --progress --eta --jobs 96 < /home/olga/data_sm/immune-evolution/kmer-signatures/2--test-human/2--mouse-search-results/sourmash_search_commands_concatenated.txt\n"
     ]
    }
   ],
   "source": [
    "moltypes = \"DNA\", \"protein\", \"dayhoff\"\n",
    "\n",
    "alpha_ksizes = ((\"DNA\", 21), (\"protein\", 30), (\"dayhoff\", 51))\n",
    "\n",
    "# mouse celltype database directory\n",
    "train_4_celltype_sbts = \"/home/olga/data_sm/immune-evolution/kmer-signatures/1--train-mouse/4--celltype-sbt-dbts\"\n",
    "train_3_sigs_min_5_percent_remove_common = \"/home/olga/data_sm/immune-evolution/kmer-signatures/1--train-mouse/3--merged-celltype-remove-common-kmers--min-kmer-count--5-percent\"\n",
    "train_3_sigs_min_10_percent_remove_common = \"/home/olga/data_sm/immune-evolution/kmer-signatures/1--train-mouse/3--merged-celltype-remove-common-kmers--min-kmer-count--10-percent\"\n",
    "\n",
    "# Try both with removed common hashes and original\n",
    "celltype_dirs = {\n",
    "    'min-5-percent-shared-kmers-remove-common-kmers': train_3_sigs_min_5_percent_remove_common,\n",
    "    'min-10-percent-shared-kmers-remove-common-kmers': train_3_sigs_min_10_percent_remove_common,\n",
    "}\n",
    "\n",
    "txts = []\n",
    "for i, (name, celltype_dir) in enumerate(celltype_dirs.items()):\n",
    "    this_celltype_dir_results = os.path.join(\n",
    "        human_test_dir, f\"3-{i}--mouse-search-results--{name}\"\n",
    "    )\n",
    "    if not os.path.exists(this_celltype_dir_results):\n",
    "        os.makedirs(this_celltype_dir_results)\n",
    "    for alpha, ksize in alpha_ksizes:\n",
    "        txt = csc_utils.make_sourmash_search_commands(\n",
    "            this_celltype_dir_results,\n",
    "            query_sigs_dir=human_test_1_single_cells,\n",
    "            sbt_base_dir=celltype_dir,\n",
    "            k_sizes=[ksize],\n",
    "            scaled_sizes=[\n",
    "                10,\n",
    "            ],\n",
    "            sbt_template_basename=None,\n",
    "            query_sig_files=False,\n",
    "            containment=False,\n",
    "            moltype=alpha,\n",
    "            threshold=1e-100,\n",
    "            n_jobs=96,\n",
    "            force=True,\n",
    "            num_results=None,\n",
    "            add_ksize_to_sig_dir=False,\n",
    "            traverse_directory=True,\n",
    "        )\n",
    "        txts.append(txt)\n",
    "txts_to_cat = \" \".join(txts)\n",
    "catted_txt = os.path.join(results_dir, \"sourmash_search_commands_concatenated.txt\")\n",
    "! cat $txts_to_cat > $catted_txt\n",
    "\n",
    "print(f\"---\\nparallel --progress --eta --jobs 96 < {catted_txt}\")"
   ]
  },
  {
   "cell_type": "markdown",
   "id": "amber-trance",
   "metadata": {},
   "source": [
    "## CONTAINMENT - Search mouse celltypes with k-mers shared by 5, 10% of cells, but remove k-mers shared by 80% of celltypes"
   ]
  },
  {
   "cell_type": "code",
   "execution_count": 71,
   "id": "familiar-exchange",
   "metadata": {},
   "outputs": [
    {
     "name": "stdout",
     "output_type": "stream",
     "text": [
      "parallel --progress --eta --jobs 96 < /home/olga/data_sm/immune-evolution/kmer-signatures/2--test-human/3-0--mouse-containment-search-results--min-5-percent-shared-kmers/sourmash_search_commands_DNA.txt\n",
      "parallel --progress --eta --jobs 96 < /home/olga/data_sm/immune-evolution/kmer-signatures/2--test-human/3-0--mouse-containment-search-results--min-5-percent-shared-kmers/sourmash_search_commands_protein.txt\n",
      "parallel --progress --eta --jobs 96 < /home/olga/data_sm/immune-evolution/kmer-signatures/2--test-human/3-0--mouse-containment-search-results--min-5-percent-shared-kmers/sourmash_search_commands_dayhoff.txt\n",
      "parallel --progress --eta --jobs 96 < /home/olga/data_sm/immune-evolution/kmer-signatures/2--test-human/3-1--mouse-containment-search-results--min-10-percent-shared-kmers/sourmash_search_commands_DNA.txt\n",
      "parallel --progress --eta --jobs 96 < /home/olga/data_sm/immune-evolution/kmer-signatures/2--test-human/3-1--mouse-containment-search-results--min-10-percent-shared-kmers/sourmash_search_commands_protein.txt\n",
      "parallel --progress --eta --jobs 96 < /home/olga/data_sm/immune-evolution/kmer-signatures/2--test-human/3-1--mouse-containment-search-results--min-10-percent-shared-kmers/sourmash_search_commands_dayhoff.txt\n",
      "parallel --progress --eta --jobs 96 < /home/olga/data_sm/immune-evolution/kmer-signatures/2--test-human/3-2--mouse-containment-search-results--min-5-percent-shared-kmers-remove-common-kmers/sourmash_search_commands_DNA.txt\n",
      "parallel --progress --eta --jobs 96 < /home/olga/data_sm/immune-evolution/kmer-signatures/2--test-human/3-2--mouse-containment-search-results--min-5-percent-shared-kmers-remove-common-kmers/sourmash_search_commands_protein.txt\n",
      "parallel --progress --eta --jobs 96 < /home/olga/data_sm/immune-evolution/kmer-signatures/2--test-human/3-2--mouse-containment-search-results--min-5-percent-shared-kmers-remove-common-kmers/sourmash_search_commands_dayhoff.txt\n",
      "parallel --progress --eta --jobs 96 < /home/olga/data_sm/immune-evolution/kmer-signatures/2--test-human/3-3--mouse-containment-search-results--min-10-percent-shared-kmers-remove-common-kmers/sourmash_search_commands_DNA.txt\n",
      "parallel --progress --eta --jobs 96 < /home/olga/data_sm/immune-evolution/kmer-signatures/2--test-human/3-3--mouse-containment-search-results--min-10-percent-shared-kmers-remove-common-kmers/sourmash_search_commands_protein.txt\n",
      "parallel --progress --eta --jobs 96 < /home/olga/data_sm/immune-evolution/kmer-signatures/2--test-human/3-3--mouse-containment-search-results--min-10-percent-shared-kmers-remove-common-kmers/sourmash_search_commands_dayhoff.txt\n",
      "---\n",
      "parallel --progress --eta --jobs 96 < /home/olga/data_sm/immune-evolution/kmer-signatures/2--test-human/2--mouse-search-results/sourmash_containment_search_commands_concatenated.txt\n"
     ]
    }
   ],
   "source": [
    "moltypes = \"DNA\", \"protein\", \"dayhoff\"\n",
    "\n",
    "alpha_ksizes = ((\"DNA\", 21), (\"protein\", 30), (\"dayhoff\", 51))\n",
    "\n",
    "# mouse celltype database directory\n",
    "train_4_celltype_sbts = \"/home/olga/data_sm/immune-evolution/kmer-signatures/1--train-mouse/4--celltype-sbt-dbts\"\n",
    "train_3_sigs_min_5_percent_remove_common = \"/home/olga/data_sm/immune-evolution/kmer-signatures/1--train-mouse/3--merged-celltype-remove-common-kmers--min-kmer-count--5-percent\"\n",
    "train_3_sigs_min_10_percent_remove_common = \"/home/olga/data_sm/immune-evolution/kmer-signatures/1--train-mouse/3--merged-celltype-remove-common-kmers--min-kmer-count--10-percent\"\n",
    "\n",
    "# Try both with removed common hashes and original\n",
    "celltype_dirs = {\n",
    "        'min-5-percent-shared-kmers': train_3_sigs_min_5_percent,\n",
    "    'min-10-percent-shared-kmers': train_3_sigs_min_10_percent,\n",
    "    'min-5-percent-shared-kmers-remove-common-kmers': train_3_sigs_min_5_percent_remove_common,\n",
    "    'min-10-percent-shared-kmers-remove-common-kmers': train_3_sigs_min_10_percent_remove_common,\n",
    "}\n",
    "\n",
    "txts = []\n",
    "for i, (name, celltype_dir) in enumerate(celltype_dirs.items()):\n",
    "    this_celltype_dir_results = os.path.join(\n",
    "        human_test_dir, f\"3-{i}--mouse-containment-search-results--{name}\"\n",
    "    )\n",
    "    if not os.path.exists(this_celltype_dir_results):\n",
    "        os.makedirs(this_celltype_dir_results)\n",
    "    for alpha, ksize in alpha_ksizes:\n",
    "        txt = csc_utils.make_sourmash_search_commands(\n",
    "            this_celltype_dir_results,\n",
    "            query_sigs_dir=human_test_1_single_cells,\n",
    "            sbt_base_dir=celltype_dir,\n",
    "            k_sizes=[ksize],\n",
    "            scaled_sizes=[\n",
    "                10,\n",
    "            ],\n",
    "            sbt_template_basename=None,\n",
    "            query_sig_files=False,\n",
    "            containment=True,\n",
    "            moltype=alpha,\n",
    "            threshold=1e-100,\n",
    "            n_jobs=96,\n",
    "            force=True,\n",
    "            num_results=None,\n",
    "            add_ksize_to_sig_dir=False,\n",
    "            traverse_directory=True,\n",
    "        )\n",
    "        txts.append(txt)\n",
    "txts_to_cat = \" \".join(txts)\n",
    "catted_txt = os.path.join(results_dir, \"sourmash_containment_search_commands_concatenated.txt\")\n",
    "! cat $txts_to_cat > $catted_txt\n",
    "\n",
    "print(f\"---\\nparallel --progress --eta --jobs 96 < {catted_txt}\")"
   ]
  },
  {
   "cell_type": "markdown",
   "id": "sealed-liver",
   "metadata": {},
   "source": []
  }
 ],
 "metadata": {
  "kernelspec": {
   "display_name": "Python [conda env:immune-evolution]",
   "language": "python",
   "name": "conda-env-immune-evolution-py"
  },
  "language_info": {
   "codemirror_mode": {
    "name": "ipython",
    "version": 3
   },
   "file_extension": ".py",
   "mimetype": "text/x-python",
   "name": "python",
   "nbconvert_exporter": "python",
   "pygments_lexer": "ipython3",
   "version": "3.7.8"
  }
 },
 "nbformat": 4,
 "nbformat_minor": 5
}
