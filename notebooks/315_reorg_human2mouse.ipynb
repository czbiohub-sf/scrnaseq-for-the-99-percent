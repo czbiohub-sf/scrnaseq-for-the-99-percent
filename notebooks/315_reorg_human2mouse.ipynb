{
 "cells": [
  {
   "cell_type": "markdown",
   "id": "quality-taiwan",
   "metadata": {},
   "source": [
    "# Goal for how to organize the signatures\n",
    "\n",
    "Copy all ribosomal-removed signatures to these subfolders\n",
    "\n",
    "\n",
    "Using `DNA`, `protein`, and `dayhoff` for shorthand now. In reality would use the full sketch id, e.g. `alphabet-DNA__ksize-21__scaled-10`\n",
    "\n",
    "```\n",
    "mouse2mouse/\n",
    "    self2self-bootstrapped/\n",
    "        0--train-mouse1-single-cells/\n",
    "            iteration-00/\n",
    "                DNA/\n",
    "                protein/\n",
    "                dayhoff/\n",
    "            iteration-01/\n",
    "                ...\n",
    "        1--test-mouse1-single-cells/\n",
    "            iteration-00/\n",
    "                DNA/\n",
    "                protein/\n",
    "                dayhoff/\n",
    "            iteration-01/\n",
    "                ...                \n",
    "        2--train-mouse1-merged-celltype-sigs/\n",
    "            iteration-00/\n",
    "                DNA/\n",
    "                protein/\n",
    "                dayhoff/\n",
    "            iteration-01/\n",
    "                ...\n",
    "        3--train-mouse1-celltype-remove-common-kmers/\n",
    "            iteration-00/\n",
    "                DNA/\n",
    "                protein/\n",
    "                dayhoff/\n",
    "            iteration-01/\n",
    "                ...\n",
    "        4--train-mouse1--celltype-sbt-dbs/\n",
    "            iteration-00/\n",
    "                DNA/\n",
    "                protein/\n",
    "                dayhoff/\n",
    "            iteration-01/\n",
    "                ...\n",
    "        5--search-results/\n",
    "            iteration-00/\n",
    "                DNA/\n",
    "                protein/\n",
    "                dayhoff/\n",
    "            iteration-00/\n",
    "                ...\n",
    "    mouse1-mouse2/\n",
    "        0--train-mouse1-single-cells/\n",
    "            DNA/\n",
    "            protein/\n",
    "            dayhoff/\n",
    "        1--test-mouse2-single-cells/\n",
    "            DNA/\n",
    "            protein/\n",
    "            dayhoff/\n",
    "        2--train-mouse1-merged-celltype-sigs/\n",
    "            DNA/\n",
    "            protein/\n",
    "            dayhoff/\n",
    "        3--train-mouse1-celltype-remove-common-kmers/\n",
    "            DNA/\n",
    "            protein/\n",
    "            dayhoff/\n",
    "        4--train-mouse1-celltype-sbt-dbs/\n",
    "            DNA/\n",
    "            protein/\n",
    "            dayhoff\n",
    "        5--search-results/\n",
    "            DNA/\n",
    "            protein/\n",
    "            dayhoff/\n",
    "train-mouse/\n",
    "    0--protein-coding-fastas/\n",
    "        nucleotide/\n",
    "        peptide/\n",
    "    1--single-cell-sigs/\n",
    "        DNA/\n",
    "        protein/\n",
    "        dayhoff/\n",
    "    2--merged-celltype-sigs/\n",
    "        DNA/\n",
    "        protein/\n",
    "        dayhoff/\n",
    "    3--celltype-remove-common-kmers/\n",
    "        DNA/\n",
    "        protein/\n",
    "        dayhoff/\n",
    "    4--celltype-sbt-dbs/\n",
    "        DNA/\n",
    "        protein/\n",
    "        dayhoff/\n",
    "test-human/\n",
    "    0--protein-coding-fastas/\n",
    "        nucleotide/\n",
    "        peptide/\n",
    "    1--single-cell-sigs/\n",
    "        DNA/\n",
    "        protein/\n",
    "        dayhoff/\n",
    "    2--mouse-search-results/\n",
    "        DNA/\n",
    "        protein/\n",
    "        dayhoffl\n",
    "test-lemur/\n",
    "    0--protein-coding-fastas/\n",
    "        nucleotide/\n",
    "        peptide/\n",
    "    1--single-cell-sigs/\n",
    "        protein/\n",
    "        dayhoff/\n",
    "    2--mouse-search-results/\n",
    "        DNA/\n",
    "        protein/\n",
    "        dayhoff/\n",
    "test-bat/\n",
    "    0--protein-coding-fastas/\n",
    "        nucleotide/\n",
    "        peptide/\n",
    "    1--single-cell-sigs/\n",
    "        protein/\n",
    "        dayhoff/\n",
    "    2--mouse-search-results/\n",
    "        DNA/\n",
    "        protein/\n",
    "        dayhoff/\n",
    "```"
   ]
  },
  {
   "cell_type": "markdown",
   "id": "detailed-shelter",
   "metadata": {},
   "source": [
    "# Imports"
   ]
  },
  {
   "cell_type": "code",
   "execution_count": null,
   "id": "alleged-means",
   "metadata": {},
   "outputs": [],
   "source": [
    "import glob\n",
    "import os\n",
    "import shutil\n",
    "\n",
    "import pandas as pd\n",
    "import scanpy as sc\n",
    "import sig_utils\n",
    "from joblib import Parallel, delayed\n",
    "from tqdm import tqdm\n",
    "\n",
    "import create_sourmash_command_utils as csc_utils\n",
    "\n",
    "import sig_reorg\n",
    "\n",
    "pd.options.display.max_rows = 500\n",
    "\n",
    "%load_ext autoreload\n",
    "%autoreload 2"
   ]
  },
  {
   "cell_type": "markdown",
   "id": "written-youth",
   "metadata": {},
   "source": [
    "## Def Describe"
   ]
  },
  {
   "cell_type": "code",
   "execution_count": null,
   "id": "progressive-daily",
   "metadata": {},
   "outputs": [],
   "source": [
    "%%file pandas_utils.py\n",
    "\n",
    "def describe(df, random=False):\n",
    "    print(df.shape)\n",
    "    print(\"--- First 5 entries ---\")\n",
    "    display(df.head())\n",
    "    if random:\n",
    "        print('--- Random subset ---')\n",
    "        display(df.sample(5))"
   ]
  },
  {
   "cell_type": "code",
   "execution_count": null,
   "id": "naked-postage",
   "metadata": {},
   "outputs": [],
   "source": [
    "from pandas_utils import describe"
   ]
  },
  {
   "cell_type": "markdown",
   "id": "mental-insertion",
   "metadata": {},
   "source": [
    "## Read one2one h5ad"
   ]
  },
  {
   "cell_type": "code",
   "execution_count": null,
   "id": "precise-destruction",
   "metadata": {},
   "outputs": [],
   "source": [
    "ls -lha /home/olga/data_sm/immune-evolution/h5ads/"
   ]
  },
  {
   "cell_type": "code",
   "execution_count": 5,
   "id": "colored-number",
   "metadata": {},
   "outputs": [
    {
     "data": {
      "text/plain": [
       "Lung    63575\n",
       "Name: tissue, dtype: int64"
      ]
     },
     "execution_count": 5,
     "metadata": {},
     "output_type": "execute_result"
    }
   ],
   "source": [
    "ad = sc.read('/home/olga/data_sm/immune-evolution/h5ads/human-mouse-bat__one2one_orthologs_raw.h5ad')\n",
    "ad.obs.tissue.value_counts()"
   ]
  },
  {
   "cell_type": "code",
   "execution_count": 6,
   "id": "outdoor-rubber",
   "metadata": {},
   "outputs": [
    {
     "data": {
      "text/plain": [
       "species  individual\n",
       "Human    TSP1          11628\n",
       "         TSP2          19489\n",
       "Mouse    18-F-50         320\n",
       "         18-F-51        1138\n",
       "         18-M-52        1573\n",
       "         18-M-53        1256\n",
       "         21-F-54        1312\n",
       "         21-F-55        1526\n",
       "         30-M-2         7728\n",
       "         30-M-3         1565\n",
       "         30-M-4          920\n",
       "         30-M-5          496\n",
       "         1-M-62         1043\n",
       "         1-M-63         1384\n",
       "         3-F-56          348\n",
       "         3-F-57          979\n",
       "         3-M-5/6         578\n",
       "         3-M-7/8        1636\n",
       "nan      nan            8656\n",
       "dtype: int64"
      ]
     },
     "execution_count": 6,
     "metadata": {},
     "output_type": "execute_result"
    }
   ],
   "source": [
    "ad.obs.groupby(['species', 'individual'], observed=True).size()"
   ]
  },
  {
   "cell_type": "code",
   "execution_count": 7,
   "id": "systematic-master",
   "metadata": {},
   "outputs": [
    {
     "data": {
      "text/html": [
       "<div>\n",
       "<style scoped>\n",
       "    .dataframe tbody tr th:only-of-type {\n",
       "        vertical-align: middle;\n",
       "    }\n",
       "\n",
       "    .dataframe tbody tr th {\n",
       "        vertical-align: top;\n",
       "    }\n",
       "\n",
       "    .dataframe thead th {\n",
       "        text-align: right;\n",
       "    }\n",
       "</style>\n",
       "<table border=\"1\" class=\"dataframe\">\n",
       "  <thead>\n",
       "    <tr style=\"text-align: right;\">\n",
       "      <th></th>\n",
       "      <th>original_cell_id</th>\n",
       "      <th>individual</th>\n",
       "      <th>tissue</th>\n",
       "      <th>subtissue</th>\n",
       "      <th>cell_barcode</th>\n",
       "      <th>channel</th>\n",
       "      <th>sex</th>\n",
       "      <th>n_counts</th>\n",
       "      <th>n_genes</th>\n",
       "      <th>cell_ontology_class</th>\n",
       "      <th>...</th>\n",
       "      <th>clustertype</th>\n",
       "      <th>cluster</th>\n",
       "      <th>celltype</th>\n",
       "      <th>celltype_tiss</th>\n",
       "      <th>clustercellnumber</th>\n",
       "      <th>newcelltype</th>\n",
       "      <th>clustertonumber</th>\n",
       "      <th>tissue_lower</th>\n",
       "      <th>sex_abbrev</th>\n",
       "      <th>cell_id</th>\n",
       "    </tr>\n",
       "  </thead>\n",
       "  <tbody>\n",
       "    <tr>\n",
       "      <th>TSP1_lung_2__AAACCCACAACTCGTA-0</th>\n",
       "      <td>AAACCCACAACTCGTA_TSP1_lung_2-5-human</td>\n",
       "      <td>TSP1</td>\n",
       "      <td>Lung</td>\n",
       "      <td>nan</td>\n",
       "      <td>AAACCCACAACTCGTA</td>\n",
       "      <td>TSP1_lung_2</td>\n",
       "      <td>female</td>\n",
       "      <td>31791.0</td>\n",
       "      <td>1470.0</td>\n",
       "      <td>basophil</td>\n",
       "      <td>...</td>\n",
       "      <td>nan</td>\n",
       "      <td>nan</td>\n",
       "      <td>nan</td>\n",
       "      <td>nan</td>\n",
       "      <td>NaN</td>\n",
       "      <td>nan</td>\n",
       "      <td>NaN</td>\n",
       "      <td>nan</td>\n",
       "      <td>nan</td>\n",
       "      <td>nan</td>\n",
       "    </tr>\n",
       "    <tr>\n",
       "      <th>TSP1_lung_2__AAACCCAGTCCGACGT-0</th>\n",
       "      <td>AAACCCAGTCCGACGT_TSP1_lung_2-5-human</td>\n",
       "      <td>TSP1</td>\n",
       "      <td>Lung</td>\n",
       "      <td>nan</td>\n",
       "      <td>AAACCCAGTCCGACGT</td>\n",
       "      <td>TSP1_lung_2</td>\n",
       "      <td>female</td>\n",
       "      <td>19200.0</td>\n",
       "      <td>3756.0</td>\n",
       "      <td>macrophage</td>\n",
       "      <td>...</td>\n",
       "      <td>nan</td>\n",
       "      <td>nan</td>\n",
       "      <td>nan</td>\n",
       "      <td>nan</td>\n",
       "      <td>NaN</td>\n",
       "      <td>nan</td>\n",
       "      <td>NaN</td>\n",
       "      <td>nan</td>\n",
       "      <td>nan</td>\n",
       "      <td>nan</td>\n",
       "    </tr>\n",
       "    <tr>\n",
       "      <th>TSP1_lung_2__AAACCCAGTTCAGTAC-0</th>\n",
       "      <td>AAACCCAGTTCAGTAC_TSP1_lung_2-5-human</td>\n",
       "      <td>TSP1</td>\n",
       "      <td>Lung</td>\n",
       "      <td>nan</td>\n",
       "      <td>AAACCCAGTTCAGTAC</td>\n",
       "      <td>TSP1_lung_2</td>\n",
       "      <td>female</td>\n",
       "      <td>20952.0</td>\n",
       "      <td>3885.0</td>\n",
       "      <td>macrophage</td>\n",
       "      <td>...</td>\n",
       "      <td>nan</td>\n",
       "      <td>nan</td>\n",
       "      <td>nan</td>\n",
       "      <td>nan</td>\n",
       "      <td>NaN</td>\n",
       "      <td>nan</td>\n",
       "      <td>NaN</td>\n",
       "      <td>nan</td>\n",
       "      <td>nan</td>\n",
       "      <td>nan</td>\n",
       "    </tr>\n",
       "    <tr>\n",
       "      <th>TSP1_lung_2__AAACGAAGTATCGATC-0</th>\n",
       "      <td>AAACGAAGTATCGATC_TSP1_lung_2-5-human</td>\n",
       "      <td>TSP1</td>\n",
       "      <td>Lung</td>\n",
       "      <td>nan</td>\n",
       "      <td>AAACGAAGTATCGATC</td>\n",
       "      <td>TSP1_lung_2</td>\n",
       "      <td>female</td>\n",
       "      <td>20300.0</td>\n",
       "      <td>4043.0</td>\n",
       "      <td>macrophage</td>\n",
       "      <td>...</td>\n",
       "      <td>nan</td>\n",
       "      <td>nan</td>\n",
       "      <td>nan</td>\n",
       "      <td>nan</td>\n",
       "      <td>NaN</td>\n",
       "      <td>nan</td>\n",
       "      <td>NaN</td>\n",
       "      <td>nan</td>\n",
       "      <td>nan</td>\n",
       "      <td>nan</td>\n",
       "    </tr>\n",
       "    <tr>\n",
       "      <th>TSP1_lung_2__AAACGAATCATTCATC-0</th>\n",
       "      <td>AAACGAATCATTCATC_TSP1_lung_2-5-human</td>\n",
       "      <td>TSP1</td>\n",
       "      <td>Lung</td>\n",
       "      <td>nan</td>\n",
       "      <td>AAACGAATCATTCATC</td>\n",
       "      <td>TSP1_lung_2</td>\n",
       "      <td>female</td>\n",
       "      <td>20878.0</td>\n",
       "      <td>4284.0</td>\n",
       "      <td>macrophage</td>\n",
       "      <td>...</td>\n",
       "      <td>nan</td>\n",
       "      <td>nan</td>\n",
       "      <td>nan</td>\n",
       "      <td>nan</td>\n",
       "      <td>NaN</td>\n",
       "      <td>nan</td>\n",
       "      <td>NaN</td>\n",
       "      <td>nan</td>\n",
       "      <td>nan</td>\n",
       "      <td>nan</td>\n",
       "    </tr>\n",
       "  </tbody>\n",
       "</table>\n",
       "<p>5 rows × 34 columns</p>\n",
       "</div>"
      ],
      "text/plain": [
       "                                                     original_cell_id  \\\n",
       "TSP1_lung_2__AAACCCACAACTCGTA-0  AAACCCACAACTCGTA_TSP1_lung_2-5-human   \n",
       "TSP1_lung_2__AAACCCAGTCCGACGT-0  AAACCCAGTCCGACGT_TSP1_lung_2-5-human   \n",
       "TSP1_lung_2__AAACCCAGTTCAGTAC-0  AAACCCAGTTCAGTAC_TSP1_lung_2-5-human   \n",
       "TSP1_lung_2__AAACGAAGTATCGATC-0  AAACGAAGTATCGATC_TSP1_lung_2-5-human   \n",
       "TSP1_lung_2__AAACGAATCATTCATC-0  AAACGAATCATTCATC_TSP1_lung_2-5-human   \n",
       "\n",
       "                                individual tissue subtissue      cell_barcode  \\\n",
       "TSP1_lung_2__AAACCCACAACTCGTA-0       TSP1   Lung       nan  AAACCCACAACTCGTA   \n",
       "TSP1_lung_2__AAACCCAGTCCGACGT-0       TSP1   Lung       nan  AAACCCAGTCCGACGT   \n",
       "TSP1_lung_2__AAACCCAGTTCAGTAC-0       TSP1   Lung       nan  AAACCCAGTTCAGTAC   \n",
       "TSP1_lung_2__AAACGAAGTATCGATC-0       TSP1   Lung       nan  AAACGAAGTATCGATC   \n",
       "TSP1_lung_2__AAACGAATCATTCATC-0       TSP1   Lung       nan  AAACGAATCATTCATC   \n",
       "\n",
       "                                     channel     sex  n_counts  n_genes  \\\n",
       "TSP1_lung_2__AAACCCACAACTCGTA-0  TSP1_lung_2  female   31791.0   1470.0   \n",
       "TSP1_lung_2__AAACCCAGTCCGACGT-0  TSP1_lung_2  female   19200.0   3756.0   \n",
       "TSP1_lung_2__AAACCCAGTTCAGTAC-0  TSP1_lung_2  female   20952.0   3885.0   \n",
       "TSP1_lung_2__AAACGAAGTATCGATC-0  TSP1_lung_2  female   20300.0   4043.0   \n",
       "TSP1_lung_2__AAACGAATCATTCATC-0  TSP1_lung_2  female   20878.0   4284.0   \n",
       "\n",
       "                                cell_ontology_class  ... clustertype cluster  \\\n",
       "TSP1_lung_2__AAACCCACAACTCGTA-0            basophil  ...         nan     nan   \n",
       "TSP1_lung_2__AAACCCAGTCCGACGT-0          macrophage  ...         nan     nan   \n",
       "TSP1_lung_2__AAACCCAGTTCAGTAC-0          macrophage  ...         nan     nan   \n",
       "TSP1_lung_2__AAACGAAGTATCGATC-0          macrophage  ...         nan     nan   \n",
       "TSP1_lung_2__AAACGAATCATTCATC-0          macrophage  ...         nan     nan   \n",
       "\n",
       "                                celltype celltype_tiss clustercellnumber  \\\n",
       "TSP1_lung_2__AAACCCACAACTCGTA-0      nan           nan               NaN   \n",
       "TSP1_lung_2__AAACCCAGTCCGACGT-0      nan           nan               NaN   \n",
       "TSP1_lung_2__AAACCCAGTTCAGTAC-0      nan           nan               NaN   \n",
       "TSP1_lung_2__AAACGAAGTATCGATC-0      nan           nan               NaN   \n",
       "TSP1_lung_2__AAACGAATCATTCATC-0      nan           nan               NaN   \n",
       "\n",
       "                                newcelltype clustertonumber tissue_lower  \\\n",
       "TSP1_lung_2__AAACCCACAACTCGTA-0         nan             NaN          nan   \n",
       "TSP1_lung_2__AAACCCAGTCCGACGT-0         nan             NaN          nan   \n",
       "TSP1_lung_2__AAACCCAGTTCAGTAC-0         nan             NaN          nan   \n",
       "TSP1_lung_2__AAACGAAGTATCGATC-0         nan             NaN          nan   \n",
       "TSP1_lung_2__AAACGAATCATTCATC-0         nan             NaN          nan   \n",
       "\n",
       "                                sex_abbrev cell_id  \n",
       "TSP1_lung_2__AAACCCACAACTCGTA-0        nan     nan  \n",
       "TSP1_lung_2__AAACCCAGTCCGACGT-0        nan     nan  \n",
       "TSP1_lung_2__AAACCCAGTTCAGTAC-0        nan     nan  \n",
       "TSP1_lung_2__AAACGAAGTATCGATC-0        nan     nan  \n",
       "TSP1_lung_2__AAACGAATCATTCATC-0        nan     nan  \n",
       "\n",
       "[5 rows x 34 columns]"
      ]
     },
     "execution_count": 7,
     "metadata": {},
     "output_type": "execute_result"
    }
   ],
   "source": [
    "ad.obs.head()"
   ]
  },
  {
   "cell_type": "code",
   "execution_count": 8,
   "id": "asian-warning",
   "metadata": {},
   "outputs": [
    {
     "data": {
      "text/plain": [
       "species  tissue\n",
       "Human    Lung      31117\n",
       "Mouse    Lung      23802\n",
       "nan      Lung       8656\n",
       "dtype: int64"
      ]
     },
     "execution_count": 8,
     "metadata": {},
     "output_type": "execute_result"
    }
   ],
   "source": [
    "ad.obs.groupby(['species', 'tissue']).size()"
   ]
  },
  {
   "cell_type": "code",
   "execution_count": 9,
   "id": "medical-uncertainty",
   "metadata": {},
   "outputs": [
    {
     "name": "stdout",
     "output_type": "stream",
     "text": [
      "total 15G\n",
      "drwxr-xr-x 2 olga    czb 4.0K Mar 30 08:57 \u001b[0m\u001b[01;34m.\u001b[0m/\n",
      "drwxrwxr-x 6 phoenix czb 4.0K Mar 31 09:03 \u001b[01;34m..\u001b[0m/\n",
      "-rw-r--r-- 1 olga    czb 444M Jan 11 15:05 human-mouse-one2one-orthologs--bladder.h5ad\n",
      "-rw-r--r-- 1 olga    czb 5.1G Jan 11 15:04 human-mouse-one2one-orthologs.h5ad\n",
      "-rw-r--r-- 1 olga    czb 791M Jan 11 15:04 human-mouse-one2one-orthologs--lung.h5ad\n",
      "-rw-r--r-- 1 olga    czb 209M Jan 11 15:04 human-mouse-one2one-orthologs--muscle.h5ad\n",
      "-rw-r--r-- 1 olga    czb   44 Mar 30 08:57 README.md\n",
      "-rw-r--r-- 1 olga    czb 3.1G Jan 11 14:58 tabula-muris-senis--human-mouse-one2one-ortholog-subset.h5ad\n",
      "-rw-r--r-- 1 olga    czb 4.9G Jan 11 14:50 tabula-sapiens--human-mouse-one2one-ortholog-subset.h5ad\n"
     ]
    }
   ],
   "source": [
    "ls -lha /home/olga/data_sm/immune-evolution/h5ads/human-mouse/"
   ]
  },
  {
   "cell_type": "code",
   "execution_count": 10,
   "id": "induced-mention",
   "metadata": {},
   "outputs": [],
   "source": [
    "! echo \"This is Tabula Sapiens + Tabula Muris Senis\" >> /home/olga/data_sm/immune-evolution/h5ads/human-mouse/README.md"
   ]
  },
  {
   "cell_type": "code",
   "execution_count": 11,
   "id": "arctic-douglas",
   "metadata": {},
   "outputs": [
    {
     "data": {
      "text/plain": [
       "AnnData object with n_obs × n_vars = 54919 × 14245\n",
       "    obs: 'original_cell_id', 'individual', 'tissue', 'subtissue', 'cell_barcode', 'channel', 'sex', 'n_counts', 'n_genes', 'cell_ontology_class', 'species', 'species_latin', 'narrow_group', 'broad_group', 'compartment_group', 'age', 'cell_ontology_id', 'free_annotation', 'sequencing_run', 'species_batch'\n",
       "    var: 'ensembl_id-human', 'len-human', 'mouse_gene_symbol-mouse', 'n_cells-mouse'"
      ]
     },
     "execution_count": 11,
     "metadata": {},
     "output_type": "execute_result"
    }
   ],
   "source": [
    "human_mouse = sc.read('/home/olga/data_sm/immune-evolution/h5ads/human-mouse/human-mouse-one2one-orthologs--lung.h5ad')\n",
    "human_mouse"
   ]
  },
  {
   "cell_type": "code",
   "execution_count": 12,
   "id": "abroad-screw",
   "metadata": {},
   "outputs": [
    {
     "data": {
      "text/plain": [
       "human    31117\n",
       "mouse    23802\n",
       "Name: species_batch, dtype: int64"
      ]
     },
     "execution_count": 12,
     "metadata": {},
     "output_type": "execute_result"
    }
   ],
   "source": [
    "human_mouse.obs.species_batch.value_counts()"
   ]
  },
  {
   "cell_type": "code",
   "execution_count": 13,
   "id": "royal-arnold",
   "metadata": {},
   "outputs": [
    {
     "data": {
      "text/html": [
       "<div>\n",
       "<style scoped>\n",
       "    .dataframe tbody tr th:only-of-type {\n",
       "        vertical-align: middle;\n",
       "    }\n",
       "\n",
       "    .dataframe tbody tr th {\n",
       "        vertical-align: top;\n",
       "    }\n",
       "\n",
       "    .dataframe thead th {\n",
       "        text-align: right;\n",
       "    }\n",
       "</style>\n",
       "<table border=\"1\" class=\"dataframe\">\n",
       "  <thead>\n",
       "    <tr style=\"text-align: right;\">\n",
       "      <th></th>\n",
       "      <th>original_cell_id</th>\n",
       "      <th>individual</th>\n",
       "      <th>tissue</th>\n",
       "      <th>subtissue</th>\n",
       "      <th>cell_barcode</th>\n",
       "      <th>channel</th>\n",
       "      <th>sex</th>\n",
       "      <th>n_counts</th>\n",
       "      <th>n_genes</th>\n",
       "      <th>cell_ontology_class</th>\n",
       "      <th>species</th>\n",
       "      <th>species_latin</th>\n",
       "      <th>narrow_group</th>\n",
       "      <th>broad_group</th>\n",
       "      <th>compartment_group</th>\n",
       "      <th>age</th>\n",
       "      <th>cell_ontology_id</th>\n",
       "      <th>free_annotation</th>\n",
       "      <th>sequencing_run</th>\n",
       "      <th>species_batch</th>\n",
       "    </tr>\n",
       "    <tr>\n",
       "      <th>cell_id</th>\n",
       "      <th></th>\n",
       "      <th></th>\n",
       "      <th></th>\n",
       "      <th></th>\n",
       "      <th></th>\n",
       "      <th></th>\n",
       "      <th></th>\n",
       "      <th></th>\n",
       "      <th></th>\n",
       "      <th></th>\n",
       "      <th></th>\n",
       "      <th></th>\n",
       "      <th></th>\n",
       "      <th></th>\n",
       "      <th></th>\n",
       "      <th></th>\n",
       "      <th></th>\n",
       "      <th></th>\n",
       "      <th></th>\n",
       "      <th></th>\n",
       "    </tr>\n",
       "  </thead>\n",
       "  <tbody>\n",
       "    <tr>\n",
       "      <th>TSP1_lung_2__AAACCCACAACTCGTA</th>\n",
       "      <td>AAACCCACAACTCGTA_TSP1_lung_2-5-human</td>\n",
       "      <td>TSP1</td>\n",
       "      <td>Lung</td>\n",
       "      <td>nan</td>\n",
       "      <td>AAACCCACAACTCGTA</td>\n",
       "      <td>TSP1_lung_2</td>\n",
       "      <td>female</td>\n",
       "      <td>31791.0</td>\n",
       "      <td>1470.0</td>\n",
       "      <td>basophil</td>\n",
       "      <td>Human</td>\n",
       "      <td>Homo sapiens</td>\n",
       "      <td>nan</td>\n",
       "      <td>nan</td>\n",
       "      <td>nan</td>\n",
       "      <td>nan</td>\n",
       "      <td>nan</td>\n",
       "      <td>nan</td>\n",
       "      <td>nan</td>\n",
       "      <td>human</td>\n",
       "    </tr>\n",
       "    <tr>\n",
       "      <th>TSP1_lung_2__AAACCCAGTCCGACGT</th>\n",
       "      <td>AAACCCAGTCCGACGT_TSP1_lung_2-5-human</td>\n",
       "      <td>TSP1</td>\n",
       "      <td>Lung</td>\n",
       "      <td>nan</td>\n",
       "      <td>AAACCCAGTCCGACGT</td>\n",
       "      <td>TSP1_lung_2</td>\n",
       "      <td>female</td>\n",
       "      <td>19200.0</td>\n",
       "      <td>3756.0</td>\n",
       "      <td>macrophage</td>\n",
       "      <td>Human</td>\n",
       "      <td>Homo sapiens</td>\n",
       "      <td>macrophage</td>\n",
       "      <td>macrophage</td>\n",
       "      <td>myeloid</td>\n",
       "      <td>nan</td>\n",
       "      <td>nan</td>\n",
       "      <td>nan</td>\n",
       "      <td>nan</td>\n",
       "      <td>human</td>\n",
       "    </tr>\n",
       "    <tr>\n",
       "      <th>TSP1_lung_2__AAACCCAGTTCAGTAC</th>\n",
       "      <td>AAACCCAGTTCAGTAC_TSP1_lung_2-5-human</td>\n",
       "      <td>TSP1</td>\n",
       "      <td>Lung</td>\n",
       "      <td>nan</td>\n",
       "      <td>AAACCCAGTTCAGTAC</td>\n",
       "      <td>TSP1_lung_2</td>\n",
       "      <td>female</td>\n",
       "      <td>20952.0</td>\n",
       "      <td>3885.0</td>\n",
       "      <td>macrophage</td>\n",
       "      <td>Human</td>\n",
       "      <td>Homo sapiens</td>\n",
       "      <td>macrophage</td>\n",
       "      <td>macrophage</td>\n",
       "      <td>myeloid</td>\n",
       "      <td>nan</td>\n",
       "      <td>nan</td>\n",
       "      <td>nan</td>\n",
       "      <td>nan</td>\n",
       "      <td>human</td>\n",
       "    </tr>\n",
       "    <tr>\n",
       "      <th>TSP1_lung_2__AAACGAAGTATCGATC</th>\n",
       "      <td>AAACGAAGTATCGATC_TSP1_lung_2-5-human</td>\n",
       "      <td>TSP1</td>\n",
       "      <td>Lung</td>\n",
       "      <td>nan</td>\n",
       "      <td>AAACGAAGTATCGATC</td>\n",
       "      <td>TSP1_lung_2</td>\n",
       "      <td>female</td>\n",
       "      <td>20300.0</td>\n",
       "      <td>4043.0</td>\n",
       "      <td>macrophage</td>\n",
       "      <td>Human</td>\n",
       "      <td>Homo sapiens</td>\n",
       "      <td>macrophage</td>\n",
       "      <td>macrophage</td>\n",
       "      <td>myeloid</td>\n",
       "      <td>nan</td>\n",
       "      <td>nan</td>\n",
       "      <td>nan</td>\n",
       "      <td>nan</td>\n",
       "      <td>human</td>\n",
       "    </tr>\n",
       "    <tr>\n",
       "      <th>TSP1_lung_2__AAACGAATCATTCATC</th>\n",
       "      <td>AAACGAATCATTCATC_TSP1_lung_2-5-human</td>\n",
       "      <td>TSP1</td>\n",
       "      <td>Lung</td>\n",
       "      <td>nan</td>\n",
       "      <td>AAACGAATCATTCATC</td>\n",
       "      <td>TSP1_lung_2</td>\n",
       "      <td>female</td>\n",
       "      <td>20878.0</td>\n",
       "      <td>4284.0</td>\n",
       "      <td>macrophage</td>\n",
       "      <td>Human</td>\n",
       "      <td>Homo sapiens</td>\n",
       "      <td>macrophage</td>\n",
       "      <td>macrophage</td>\n",
       "      <td>myeloid</td>\n",
       "      <td>nan</td>\n",
       "      <td>nan</td>\n",
       "      <td>nan</td>\n",
       "      <td>nan</td>\n",
       "      <td>human</td>\n",
       "    </tr>\n",
       "  </tbody>\n",
       "</table>\n",
       "</div>"
      ],
      "text/plain": [
       "                                                   original_cell_id  \\\n",
       "cell_id                                                               \n",
       "TSP1_lung_2__AAACCCACAACTCGTA  AAACCCACAACTCGTA_TSP1_lung_2-5-human   \n",
       "TSP1_lung_2__AAACCCAGTCCGACGT  AAACCCAGTCCGACGT_TSP1_lung_2-5-human   \n",
       "TSP1_lung_2__AAACCCAGTTCAGTAC  AAACCCAGTTCAGTAC_TSP1_lung_2-5-human   \n",
       "TSP1_lung_2__AAACGAAGTATCGATC  AAACGAAGTATCGATC_TSP1_lung_2-5-human   \n",
       "TSP1_lung_2__AAACGAATCATTCATC  AAACGAATCATTCATC_TSP1_lung_2-5-human   \n",
       "\n",
       "                              individual tissue subtissue      cell_barcode  \\\n",
       "cell_id                                                                       \n",
       "TSP1_lung_2__AAACCCACAACTCGTA       TSP1   Lung       nan  AAACCCACAACTCGTA   \n",
       "TSP1_lung_2__AAACCCAGTCCGACGT       TSP1   Lung       nan  AAACCCAGTCCGACGT   \n",
       "TSP1_lung_2__AAACCCAGTTCAGTAC       TSP1   Lung       nan  AAACCCAGTTCAGTAC   \n",
       "TSP1_lung_2__AAACGAAGTATCGATC       TSP1   Lung       nan  AAACGAAGTATCGATC   \n",
       "TSP1_lung_2__AAACGAATCATTCATC       TSP1   Lung       nan  AAACGAATCATTCATC   \n",
       "\n",
       "                                   channel     sex  n_counts  n_genes  \\\n",
       "cell_id                                                                 \n",
       "TSP1_lung_2__AAACCCACAACTCGTA  TSP1_lung_2  female   31791.0   1470.0   \n",
       "TSP1_lung_2__AAACCCAGTCCGACGT  TSP1_lung_2  female   19200.0   3756.0   \n",
       "TSP1_lung_2__AAACCCAGTTCAGTAC  TSP1_lung_2  female   20952.0   3885.0   \n",
       "TSP1_lung_2__AAACGAAGTATCGATC  TSP1_lung_2  female   20300.0   4043.0   \n",
       "TSP1_lung_2__AAACGAATCATTCATC  TSP1_lung_2  female   20878.0   4284.0   \n",
       "\n",
       "                              cell_ontology_class species species_latin  \\\n",
       "cell_id                                                                   \n",
       "TSP1_lung_2__AAACCCACAACTCGTA            basophil   Human  Homo sapiens   \n",
       "TSP1_lung_2__AAACCCAGTCCGACGT          macrophage   Human  Homo sapiens   \n",
       "TSP1_lung_2__AAACCCAGTTCAGTAC          macrophage   Human  Homo sapiens   \n",
       "TSP1_lung_2__AAACGAAGTATCGATC          macrophage   Human  Homo sapiens   \n",
       "TSP1_lung_2__AAACGAATCATTCATC          macrophage   Human  Homo sapiens   \n",
       "\n",
       "                              narrow_group broad_group compartment_group  age  \\\n",
       "cell_id                                                                         \n",
       "TSP1_lung_2__AAACCCACAACTCGTA          nan         nan               nan  nan   \n",
       "TSP1_lung_2__AAACCCAGTCCGACGT   macrophage  macrophage           myeloid  nan   \n",
       "TSP1_lung_2__AAACCCAGTTCAGTAC   macrophage  macrophage           myeloid  nan   \n",
       "TSP1_lung_2__AAACGAAGTATCGATC   macrophage  macrophage           myeloid  nan   \n",
       "TSP1_lung_2__AAACGAATCATTCATC   macrophage  macrophage           myeloid  nan   \n",
       "\n",
       "                              cell_ontology_id free_annotation sequencing_run  \\\n",
       "cell_id                                                                         \n",
       "TSP1_lung_2__AAACCCACAACTCGTA              nan             nan            nan   \n",
       "TSP1_lung_2__AAACCCAGTCCGACGT              nan             nan            nan   \n",
       "TSP1_lung_2__AAACCCAGTTCAGTAC              nan             nan            nan   \n",
       "TSP1_lung_2__AAACGAAGTATCGATC              nan             nan            nan   \n",
       "TSP1_lung_2__AAACGAATCATTCATC              nan             nan            nan   \n",
       "\n",
       "                              species_batch  \n",
       "cell_id                                      \n",
       "TSP1_lung_2__AAACCCACAACTCGTA         human  \n",
       "TSP1_lung_2__AAACCCAGTCCGACGT         human  \n",
       "TSP1_lung_2__AAACCCAGTTCAGTAC         human  \n",
       "TSP1_lung_2__AAACGAAGTATCGATC         human  \n",
       "TSP1_lung_2__AAACGAATCATTCATC         human  "
      ]
     },
     "execution_count": 13,
     "metadata": {},
     "output_type": "execute_result"
    }
   ],
   "source": [
    "human_mouse.obs.head()"
   ]
  },
  {
   "cell_type": "code",
   "execution_count": 14,
   "id": "prostate-compact",
   "metadata": {},
   "outputs": [
    {
     "name": "stdout",
     "output_type": "stream",
     "text": [
      "AnnData object with n_obs × n_vars = 126745 × 10560\n",
      "    obs: 'index', 'age', 'cell_barcode', 'cell_ontology_class', 'cell_ontology_id', 'channel', 'free_annotation', 'individual', 'sample', 'sequencing_run', 'sex', 'species', 'species_batch', 'species_latin', 'tissue', 'narrow_group', 'broad_group', 'compartment_group', 'compartment_narrow', 'channel_cleaned', 'batch', 'n_genes', 'n_counts', 'species_batch_v2', 'compartment_broad', 'compartment_broad_narrow', 'compartment_species', 'compartment_narrow_species', 'common_individual_id'\n",
      "    var: 'bat__gene_name', 'mouse_lemur__gene_name-bat', 'mouse__gene_name-bat', 'mouse_lemur__gene_name_x-hlm', 'mouse__gene_name_x-hlm', 'gene_ids-lemur-hlm', 'n_cells-mouse-hlm', 'mouse_lemur__gene_name_y-hlm', 'mouse__gene_name_y-hlm'\n"
     ]
    },
    {
     "data": {
      "text/html": [
       "<div>\n",
       "<style scoped>\n",
       "    .dataframe tbody tr th:only-of-type {\n",
       "        vertical-align: middle;\n",
       "    }\n",
       "\n",
       "    .dataframe tbody tr th {\n",
       "        vertical-align: top;\n",
       "    }\n",
       "\n",
       "    .dataframe thead th {\n",
       "        text-align: right;\n",
       "    }\n",
       "</style>\n",
       "<table border=\"1\" class=\"dataframe\">\n",
       "  <thead>\n",
       "    <tr style=\"text-align: right;\">\n",
       "      <th></th>\n",
       "      <th>index</th>\n",
       "      <th>age</th>\n",
       "      <th>cell_barcode</th>\n",
       "      <th>cell_ontology_class</th>\n",
       "      <th>cell_ontology_id</th>\n",
       "      <th>channel</th>\n",
       "      <th>free_annotation</th>\n",
       "      <th>individual</th>\n",
       "      <th>sample</th>\n",
       "      <th>sequencing_run</th>\n",
       "      <th>...</th>\n",
       "      <th>channel_cleaned</th>\n",
       "      <th>batch</th>\n",
       "      <th>n_genes</th>\n",
       "      <th>n_counts</th>\n",
       "      <th>species_batch_v2</th>\n",
       "      <th>compartment_broad</th>\n",
       "      <th>compartment_broad_narrow</th>\n",
       "      <th>compartment_species</th>\n",
       "      <th>compartment_narrow_species</th>\n",
       "      <th>common_individual_id</th>\n",
       "    </tr>\n",
       "    <tr>\n",
       "      <th>cell_id</th>\n",
       "      <th></th>\n",
       "      <th></th>\n",
       "      <th></th>\n",
       "      <th></th>\n",
       "      <th></th>\n",
       "      <th></th>\n",
       "      <th></th>\n",
       "      <th></th>\n",
       "      <th></th>\n",
       "      <th></th>\n",
       "      <th></th>\n",
       "      <th></th>\n",
       "      <th></th>\n",
       "      <th></th>\n",
       "      <th></th>\n",
       "      <th></th>\n",
       "      <th></th>\n",
       "      <th></th>\n",
       "      <th></th>\n",
       "      <th></th>\n",
       "      <th></th>\n",
       "    </tr>\n",
       "  </thead>\n",
       "  <tbody>\n",
       "    <tr>\n",
       "      <th>P2_1__AAACCTGAGAAACCAT</th>\n",
       "      <td>P2_1_AAACCTGAGAAACCAT-human-hlm</td>\n",
       "      <td>46y</td>\n",
       "      <td>AAACCTGAGAAACCAT</td>\n",
       "      <td>capillary endothelial cell</td>\n",
       "      <td>nan</td>\n",
       "      <td>P2_1</td>\n",
       "      <td>Capillary Aerocyte</td>\n",
       "      <td>patient_2</td>\n",
       "      <td>distal 2</td>\n",
       "      <td>180607_A00111_0155_BHFCWYDMXX</td>\n",
       "      <td>...</td>\n",
       "      <td>P2_1</td>\n",
       "      <td>NaN</td>\n",
       "      <td>NaN</td>\n",
       "      <td>NaN</td>\n",
       "      <td>hlm</td>\n",
       "      <td>endothelial: Capillary</td>\n",
       "      <td>endothelial: Capillary: Capillary Aerocyte</td>\n",
       "      <td>endothelial: human</td>\n",
       "      <td>endothelial: Capillary Aerocyte: human</td>\n",
       "      <td>human_patient_2</td>\n",
       "    </tr>\n",
       "    <tr>\n",
       "      <th>P2_1__AAATGCCAGATGAGAG</th>\n",
       "      <td>P2_1_AAATGCCAGATGAGAG-human-hlm</td>\n",
       "      <td>46y</td>\n",
       "      <td>AAATGCCAGATGAGAG</td>\n",
       "      <td>capillary endothelial cell</td>\n",
       "      <td>nan</td>\n",
       "      <td>P2_1</td>\n",
       "      <td>Capillary Aerocyte</td>\n",
       "      <td>patient_2</td>\n",
       "      <td>distal 2</td>\n",
       "      <td>180607_A00111_0155_BHFCWYDMXX</td>\n",
       "      <td>...</td>\n",
       "      <td>P2_1</td>\n",
       "      <td>NaN</td>\n",
       "      <td>NaN</td>\n",
       "      <td>NaN</td>\n",
       "      <td>hlm</td>\n",
       "      <td>endothelial: Capillary</td>\n",
       "      <td>endothelial: Capillary: Capillary Aerocyte</td>\n",
       "      <td>endothelial: human</td>\n",
       "      <td>endothelial: Capillary Aerocyte: human</td>\n",
       "      <td>human_patient_2</td>\n",
       "    </tr>\n",
       "    <tr>\n",
       "      <th>P2_1__AACACGTTCGATCCCT</th>\n",
       "      <td>P2_1_AACACGTTCGATCCCT-human-hlm</td>\n",
       "      <td>46y</td>\n",
       "      <td>AACACGTTCGATCCCT</td>\n",
       "      <td>capillary endothelial cell</td>\n",
       "      <td>nan</td>\n",
       "      <td>P2_1</td>\n",
       "      <td>Capillary Aerocyte</td>\n",
       "      <td>patient_2</td>\n",
       "      <td>distal 2</td>\n",
       "      <td>180607_A00111_0155_BHFCWYDMXX</td>\n",
       "      <td>...</td>\n",
       "      <td>P2_1</td>\n",
       "      <td>NaN</td>\n",
       "      <td>NaN</td>\n",
       "      <td>NaN</td>\n",
       "      <td>hlm</td>\n",
       "      <td>endothelial: Capillary</td>\n",
       "      <td>endothelial: Capillary: Capillary Aerocyte</td>\n",
       "      <td>endothelial: human</td>\n",
       "      <td>endothelial: Capillary Aerocyte: human</td>\n",
       "      <td>human_patient_2</td>\n",
       "    </tr>\n",
       "    <tr>\n",
       "      <th>P2_1__AACACGTTCGCACTCT</th>\n",
       "      <td>P2_1_AACACGTTCGCACTCT-human-hlm</td>\n",
       "      <td>46y</td>\n",
       "      <td>AACACGTTCGCACTCT</td>\n",
       "      <td>capillary endothelial cell</td>\n",
       "      <td>nan</td>\n",
       "      <td>P2_1</td>\n",
       "      <td>Capillary Aerocyte</td>\n",
       "      <td>patient_2</td>\n",
       "      <td>distal 2</td>\n",
       "      <td>180607_A00111_0155_BHFCWYDMXX</td>\n",
       "      <td>...</td>\n",
       "      <td>P2_1</td>\n",
       "      <td>NaN</td>\n",
       "      <td>NaN</td>\n",
       "      <td>NaN</td>\n",
       "      <td>hlm</td>\n",
       "      <td>endothelial: Capillary</td>\n",
       "      <td>endothelial: Capillary: Capillary Aerocyte</td>\n",
       "      <td>endothelial: human</td>\n",
       "      <td>endothelial: Capillary Aerocyte: human</td>\n",
       "      <td>human_patient_2</td>\n",
       "    </tr>\n",
       "    <tr>\n",
       "      <th>P2_1__AACCATGCAGCTCGCA</th>\n",
       "      <td>P2_1_AACCATGCAGCTCGCA-human-hlm</td>\n",
       "      <td>46y</td>\n",
       "      <td>AACCATGCAGCTCGCA</td>\n",
       "      <td>capillary endothelial cell</td>\n",
       "      <td>nan</td>\n",
       "      <td>P2_1</td>\n",
       "      <td>Capillary Aerocyte</td>\n",
       "      <td>patient_2</td>\n",
       "      <td>distal 2</td>\n",
       "      <td>180607_A00111_0155_BHFCWYDMXX</td>\n",
       "      <td>...</td>\n",
       "      <td>P2_1</td>\n",
       "      <td>NaN</td>\n",
       "      <td>NaN</td>\n",
       "      <td>NaN</td>\n",
       "      <td>hlm</td>\n",
       "      <td>endothelial: Capillary</td>\n",
       "      <td>endothelial: Capillary: Capillary Aerocyte</td>\n",
       "      <td>endothelial: human</td>\n",
       "      <td>endothelial: Capillary Aerocyte: human</td>\n",
       "      <td>human_patient_2</td>\n",
       "    </tr>\n",
       "  </tbody>\n",
       "</table>\n",
       "<p>5 rows × 29 columns</p>\n",
       "</div>"
      ],
      "text/plain": [
       "                                                  index  age  \\\n",
       "cell_id                                                        \n",
       "P2_1__AAACCTGAGAAACCAT  P2_1_AAACCTGAGAAACCAT-human-hlm  46y   \n",
       "P2_1__AAATGCCAGATGAGAG  P2_1_AAATGCCAGATGAGAG-human-hlm  46y   \n",
       "P2_1__AACACGTTCGATCCCT  P2_1_AACACGTTCGATCCCT-human-hlm  46y   \n",
       "P2_1__AACACGTTCGCACTCT  P2_1_AACACGTTCGCACTCT-human-hlm  46y   \n",
       "P2_1__AACCATGCAGCTCGCA  P2_1_AACCATGCAGCTCGCA-human-hlm  46y   \n",
       "\n",
       "                            cell_barcode         cell_ontology_class  \\\n",
       "cell_id                                                                \n",
       "P2_1__AAACCTGAGAAACCAT  AAACCTGAGAAACCAT  capillary endothelial cell   \n",
       "P2_1__AAATGCCAGATGAGAG  AAATGCCAGATGAGAG  capillary endothelial cell   \n",
       "P2_1__AACACGTTCGATCCCT  AACACGTTCGATCCCT  capillary endothelial cell   \n",
       "P2_1__AACACGTTCGCACTCT  AACACGTTCGCACTCT  capillary endothelial cell   \n",
       "P2_1__AACCATGCAGCTCGCA  AACCATGCAGCTCGCA  capillary endothelial cell   \n",
       "\n",
       "                       cell_ontology_id channel     free_annotation  \\\n",
       "cell_id                                                               \n",
       "P2_1__AAACCTGAGAAACCAT              nan    P2_1  Capillary Aerocyte   \n",
       "P2_1__AAATGCCAGATGAGAG              nan    P2_1  Capillary Aerocyte   \n",
       "P2_1__AACACGTTCGATCCCT              nan    P2_1  Capillary Aerocyte   \n",
       "P2_1__AACACGTTCGCACTCT              nan    P2_1  Capillary Aerocyte   \n",
       "P2_1__AACCATGCAGCTCGCA              nan    P2_1  Capillary Aerocyte   \n",
       "\n",
       "                       individual    sample                 sequencing_run  \\\n",
       "cell_id                                                                      \n",
       "P2_1__AAACCTGAGAAACCAT  patient_2  distal 2  180607_A00111_0155_BHFCWYDMXX   \n",
       "P2_1__AAATGCCAGATGAGAG  patient_2  distal 2  180607_A00111_0155_BHFCWYDMXX   \n",
       "P2_1__AACACGTTCGATCCCT  patient_2  distal 2  180607_A00111_0155_BHFCWYDMXX   \n",
       "P2_1__AACACGTTCGCACTCT  patient_2  distal 2  180607_A00111_0155_BHFCWYDMXX   \n",
       "P2_1__AACCATGCAGCTCGCA  patient_2  distal 2  180607_A00111_0155_BHFCWYDMXX   \n",
       "\n",
       "                        ... channel_cleaned batch n_genes n_counts  \\\n",
       "cell_id                 ...                                          \n",
       "P2_1__AAACCTGAGAAACCAT  ...            P2_1   NaN     NaN      NaN   \n",
       "P2_1__AAATGCCAGATGAGAG  ...            P2_1   NaN     NaN      NaN   \n",
       "P2_1__AACACGTTCGATCCCT  ...            P2_1   NaN     NaN      NaN   \n",
       "P2_1__AACACGTTCGCACTCT  ...            P2_1   NaN     NaN      NaN   \n",
       "P2_1__AACCATGCAGCTCGCA  ...            P2_1   NaN     NaN      NaN   \n",
       "\n",
       "                       species_batch_v2       compartment_broad  \\\n",
       "cell_id                                                           \n",
       "P2_1__AAACCTGAGAAACCAT              hlm  endothelial: Capillary   \n",
       "P2_1__AAATGCCAGATGAGAG              hlm  endothelial: Capillary   \n",
       "P2_1__AACACGTTCGATCCCT              hlm  endothelial: Capillary   \n",
       "P2_1__AACACGTTCGCACTCT              hlm  endothelial: Capillary   \n",
       "P2_1__AACCATGCAGCTCGCA              hlm  endothelial: Capillary   \n",
       "\n",
       "                                          compartment_broad_narrow  \\\n",
       "cell_id                                                              \n",
       "P2_1__AAACCTGAGAAACCAT  endothelial: Capillary: Capillary Aerocyte   \n",
       "P2_1__AAATGCCAGATGAGAG  endothelial: Capillary: Capillary Aerocyte   \n",
       "P2_1__AACACGTTCGATCCCT  endothelial: Capillary: Capillary Aerocyte   \n",
       "P2_1__AACACGTTCGCACTCT  endothelial: Capillary: Capillary Aerocyte   \n",
       "P2_1__AACCATGCAGCTCGCA  endothelial: Capillary: Capillary Aerocyte   \n",
       "\n",
       "                       compartment_species  \\\n",
       "cell_id                                      \n",
       "P2_1__AAACCTGAGAAACCAT  endothelial: human   \n",
       "P2_1__AAATGCCAGATGAGAG  endothelial: human   \n",
       "P2_1__AACACGTTCGATCCCT  endothelial: human   \n",
       "P2_1__AACACGTTCGCACTCT  endothelial: human   \n",
       "P2_1__AACCATGCAGCTCGCA  endothelial: human   \n",
       "\n",
       "                                    compartment_narrow_species  \\\n",
       "cell_id                                                          \n",
       "P2_1__AAACCTGAGAAACCAT  endothelial: Capillary Aerocyte: human   \n",
       "P2_1__AAATGCCAGATGAGAG  endothelial: Capillary Aerocyte: human   \n",
       "P2_1__AACACGTTCGATCCCT  endothelial: Capillary Aerocyte: human   \n",
       "P2_1__AACACGTTCGCACTCT  endothelial: Capillary Aerocyte: human   \n",
       "P2_1__AACCATGCAGCTCGCA  endothelial: Capillary Aerocyte: human   \n",
       "\n",
       "                       common_individual_id  \n",
       "cell_id                                      \n",
       "P2_1__AAACCTGAGAAACCAT      human_patient_2  \n",
       "P2_1__AAATGCCAGATGAGAG      human_patient_2  \n",
       "P2_1__AACACGTTCGATCCCT      human_patient_2  \n",
       "P2_1__AACACGTTCGCACTCT      human_patient_2  \n",
       "P2_1__AACCATGCAGCTCGCA      human_patient_2  \n",
       "\n",
       "[5 rows x 29 columns]"
      ]
     },
     "execution_count": 14,
     "metadata": {},
     "output_type": "execute_result"
    }
   ],
   "source": [
    "adata = sc.read(\n",
    "#     \"/home/phoenix/data_sm/code/immune-evolution/h5ads/human-lemur-mouse-bat__lung_only_copy.h5ad\"\n",
    "    \"/home/olga/data_sm/immune-evolution/h5ads/human-lemur-mouse-bat/human-lemur-mouse-bat__lung_only.h5ad\"\n",
    ")\n",
    "adata.obs = adata.obs.reset_index().set_index('cell_id')\n",
    "print(adata)\n",
    "adata.obs.head()"
   ]
  },
  {
   "cell_type": "code",
   "execution_count": 15,
   "id": "laughing-involvement",
   "metadata": {},
   "outputs": [
    {
     "data": {
      "text/plain": [
       "Human          57353\n",
       "Mouse lemur    36934\n",
       "Mouse          23802\n",
       "Bat             8656\n",
       "Name: species, dtype: int64"
      ]
     },
     "execution_count": 15,
     "metadata": {},
     "output_type": "execute_result"
    }
   ],
   "source": [
    "adata.obs.species.value_counts()"
   ]
  },
  {
   "cell_type": "code",
   "execution_count": 16,
   "id": "entire-democrat",
   "metadata": {},
   "outputs": [
    {
     "data": {
      "text/plain": [
       "age  channel           \n",
       "18m  MACA_18m_F_LUNG_50     320\n",
       "     MACA_18m_F_LUNG_51    1138\n",
       "     MACA_18m_M_LUNG_52    1573\n",
       "     MACA_18m_M_LUNG_53    1256\n",
       "21m  MACA_21m_F_LUNG_54    1312\n",
       "     MACA_21m_F_LUNG_55    1526\n",
       "30m  10X_P1_6              7728\n",
       "     10X_P1_14             1565\n",
       "     10X_P2_5               920\n",
       "     10X_P3_0               496\n",
       "1m   10X_P5_13             1043\n",
       "     10X_P5_14             1384\n",
       "3m   10X_P7_8               348\n",
       "     10X_P7_9               979\n",
       "     10X_P8_12              578\n",
       "     10X_P8_13             1636\n",
       "dtype: int64"
      ]
     },
     "execution_count": 16,
     "metadata": {},
     "output_type": "execute_result"
    }
   ],
   "source": [
    "adata.obs.query('species == \"Mouse\"').groupby([\"age\", \"channel\"], observed=True).size()"
   ]
  },
  {
   "cell_type": "markdown",
   "id": "ahead-supplement",
   "metadata": {},
   "source": [
    "## Set shared celltypes"
   ]
  },
  {
   "cell_type": "code",
   "execution_count": 17,
   "id": "sporting-locking",
   "metadata": {},
   "outputs": [
    {
     "data": {
      "text/plain": [
       "10"
      ]
     },
     "execution_count": 17,
     "metadata": {},
     "output_type": "execute_result"
    }
   ],
   "source": [
    "SHARED_CELLTYPES = ['Alveolar Epithelial Type 2',\n",
    " 'B cell',\n",
    " 'Capillary',\n",
    " 'Dendritic',\n",
    " 'Fibroblast',\n",
    " 'Macrophage',\n",
    " 'Monocyte',\n",
    " 'Natural Killer T cell',\n",
    " 'Smooth Muscle and Myofibroblast',\n",
    " 'T cell']\n",
    "len(SHARED_CELLTYPES)"
   ]
  },
  {
   "cell_type": "code",
   "execution_count": 18,
   "id": "actual-iceland",
   "metadata": {},
   "outputs": [
    {
     "name": "stderr",
     "output_type": "stream",
     "text": [
      "/home/olga/miniconda3/envs/immune-evolution/lib/python3.7/site-packages/anndata/_core/anndata.py:1094: FutureWarning: is_categorical is deprecated and will be removed in a future version.  Use is_categorical_dtype instead\n",
      "  if not is_categorical(df_full[k]):\n"
     ]
    },
    {
     "data": {
      "text/plain": [
       "View of AnnData object with n_obs × n_vars = 89795 × 10560\n",
       "    obs: 'index', 'age', 'cell_barcode', 'cell_ontology_class', 'cell_ontology_id', 'channel', 'free_annotation', 'individual', 'sample', 'sequencing_run', 'sex', 'species', 'species_batch', 'species_latin', 'tissue', 'narrow_group', 'broad_group', 'compartment_group', 'compartment_narrow', 'channel_cleaned', 'batch', 'n_genes', 'n_counts', 'species_batch_v2', 'compartment_broad', 'compartment_broad_narrow', 'compartment_species', 'compartment_narrow_species', 'common_individual_id'\n",
       "    var: 'bat__gene_name', 'mouse_lemur__gene_name-bat', 'mouse__gene_name-bat', 'mouse_lemur__gene_name_x-hlm', 'mouse__gene_name_x-hlm', 'gene_ids-lemur-hlm', 'n_cells-mouse-hlm', 'mouse_lemur__gene_name_y-hlm', 'mouse__gene_name_y-hlm'"
      ]
     },
     "execution_count": 18,
     "metadata": {},
     "output_type": "execute_result"
    }
   ],
   "source": [
    "adata_shared = adata[adata.obs.broad_group.isin(SHARED_CELLTYPES)]\n",
    "adata_shared"
   ]
  },
  {
   "cell_type": "code",
   "execution_count": 34,
   "id": "eastern-discount",
   "metadata": {},
   "outputs": [
    {
     "data": {
      "text/plain": [
       "41675"
      ]
     },
     "execution_count": 34,
     "metadata": {},
     "output_type": "execute_result"
    }
   ],
   "source": [
    "CELL_IDS_TO_USE = set(adata_shared.obs.query(\"species == 'Human'\").index)\n",
    "len(CELL_IDS_TO_USE)"
   ]
  },
  {
   "cell_type": "code",
   "execution_count": 35,
   "id": "double-treat",
   "metadata": {},
   "outputs": [],
   "source": [
    "# adata_shared.obs.query('species == \"Mouse\"').groupby(\n",
    "#     [\"channel\", \"broad_group\"], observed=True\n",
    "# ).size()"
   ]
  },
  {
   "cell_type": "code",
   "execution_count": 36,
   "id": "statistical-original",
   "metadata": {},
   "outputs": [
    {
     "data": {
      "text/plain": [
       "age  channel           \n",
       "18m  MACA_18m_F_LUNG_50     9\n",
       "     MACA_18m_F_LUNG_51    10\n",
       "     MACA_18m_M_LUNG_52    10\n",
       "     MACA_18m_M_LUNG_53    10\n",
       "21m  MACA_21m_F_LUNG_54    10\n",
       "     MACA_21m_F_LUNG_55    10\n",
       "30m  10X_P1_6               8\n",
       "     10X_P1_14              9\n",
       "     10X_P2_5               9\n",
       "     10X_P3_0               9\n",
       "1m   10X_P5_13             10\n",
       "     10X_P5_14              9\n",
       "3m   10X_P7_8              10\n",
       "     10X_P7_9              10\n",
       "     10X_P8_12              8\n",
       "     10X_P8_13              8\n",
       "Name: broad_group, dtype: int64"
      ]
     },
     "execution_count": 36,
     "metadata": {},
     "output_type": "execute_result"
    }
   ],
   "source": [
    "adata_shared.obs.query('species == \"Mouse\"').groupby(\n",
    "    ['age', \"channel\"],\n",
    "    observed=True,\n",
    ").broad_group.nunique()"
   ]
  },
  {
   "cell_type": "markdown",
   "id": "manual-symposium",
   "metadata": {},
   "source": [
    "## Set signature outdir"
   ]
  },
  {
   "cell_type": "code",
   "execution_count": null,
   "id": "understanding-sympathy",
   "metadata": {},
   "outputs": [],
   "source": []
  },
  {
   "cell_type": "code",
   "execution_count": 37,
   "id": "massive-blast",
   "metadata": {},
   "outputs": [
    {
     "name": "stdout",
     "output_type": "stream",
     "text": [
      "total 11K\n",
      "drwxr-xr-x  7 olga czb 4.0K Mar  5 12:02 \u001b[0m\u001b[01;34m.\u001b[0m/\n",
      "drwxrwxr-x  8 olga czb 8.0K Mar 16 10:36 \u001b[01;34m..\u001b[0m/\n",
      "drwxr-xr-x  4 olga czb 4.0K Feb 28 09:53 \u001b[01;34m0--mouse2mouse\u001b[0m/\n",
      "drwxr-xr-x 20 olga czb 4.0K Apr 16 09:10 \u001b[01;34m1--train-mouse\u001b[0m/\n",
      "drwxr-xr-x 17 olga czb 4.0K Apr 16 09:10 \u001b[01;34m2--test-human\u001b[0m/\n",
      "drwxr-xr-x 21 olga czb 4.0K Apr 16 09:10 \u001b[01;34m3--test-bat\u001b[0m/\n",
      "drwxr-xr-x 20 olga czb 4.0K Apr 16 17:56 \u001b[01;34m4--test-lemur\u001b[0m/\n"
     ]
    }
   ],
   "source": [
    "ls -lha $sig_outdir_base"
   ]
  },
  {
   "cell_type": "code",
   "execution_count": 38,
   "id": "guided-costs",
   "metadata": {},
   "outputs": [],
   "source": [
    "rm -rf $sig_outdir_base/mouse/single-cell"
   ]
  },
  {
   "cell_type": "markdown",
   "id": "public-cross",
   "metadata": {},
   "source": [
    "## sketch ids of interest"
   ]
  },
  {
   "cell_type": "code",
   "execution_count": 39,
   "id": "empty-immune",
   "metadata": {},
   "outputs": [
    {
     "data": {
      "text/plain": [
       "['alphabet-DNA__ksize-21__scaled-10',\n",
       " 'alphabet-protein__ksize-30__scaled-10',\n",
       " 'alphabet-dayhoff__ksize-51__scaled-10']"
      ]
     },
     "execution_count": 39,
     "metadata": {},
     "output_type": "execute_result"
    }
   ],
   "source": [
    "alpha_ksizes = ((\"DNA\", 21), (\"protein\", 30), (\"dayhoff\", 51))\n",
    "sketch_ids = [sig_utils.make_sketch_id(alpha=alpha, ksize=ksize, style='scaled', value=10) for alpha, ksize in alpha_ksizes]\n",
    "sketch_ids"
   ]
  },
  {
   "cell_type": "code",
   "execution_count": 25,
   "id": "moving-romania",
   "metadata": {},
   "outputs": [
    {
     "data": {
      "text/plain": [
       "['alphabet-DNA__ksize-21__scaled-10']"
      ]
     },
     "execution_count": 25,
     "metadata": {},
     "output_type": "execute_result"
    }
   ],
   "source": [
    "nucleotide_sketch_ids = sketch_ids[:1]\n",
    "nucleotide_sketch_ids"
   ]
  },
  {
   "cell_type": "code",
   "execution_count": 26,
   "id": "fitted-index",
   "metadata": {},
   "outputs": [
    {
     "data": {
      "text/plain": [
       "['alphabet-protein__ksize-30__scaled-10',\n",
       " 'alphabet-dayhoff__ksize-51__scaled-10']"
      ]
     },
     "execution_count": 26,
     "metadata": {},
     "output_type": "execute_result"
    }
   ],
   "source": [
    "peptide_sketch_ids = sketch_ids[1:]\n",
    "peptide_sketch_ids"
   ]
  },
  {
   "cell_type": "code",
   "execution_count": 27,
   "id": "listed-smell",
   "metadata": {},
   "outputs": [],
   "source": [
    "import sig_reorg"
   ]
  },
  {
   "cell_type": "markdown",
   "id": "stopped-sister",
   "metadata": {},
   "source": [
    "# Human"
   ]
  },
  {
   "cell_type": "markdown",
   "id": "noted-rochester",
   "metadata": {},
   "source": [
    "## Single cell fastas"
   ]
  },
  {
   "cell_type": "code",
   "execution_count": 28,
   "id": "bacterial-baking",
   "metadata": {},
   "outputs": [
    {
     "name": "stdout",
     "output_type": "stream",
     "text": [
      "total 267M\n",
      "drwxr-xr-x 7 olga czb  12K Apr 16 17:58  .\n",
      "drwxr-xr-x 7 olga czb 4.0K Apr 16 08:15  ..\n",
      "-rw-r--r-- 1 olga czb  18K Jan 11 10:02  000_initial_analyses_with_sketches.ipynb\n",
      "-rw-r--r-- 1 olga czb  49K Jan 11 10:02  001_umap_initial_sketches.ipynb\n",
      "-rw-r--r-- 1 olga czb  134 Jan 11 10:02  001_umap_initial_sketches-requirements.txt\n",
      "-rw-r--r-- 1 olga czb  92K Feb 24 11:08  002_get_one2one_orthologs.ipynb\n",
      "-rw-r--r-- 1 olga czb 117K Jan 11 10:02  003_subset_h5ad_one2one_orthologs.ipynb\n",
      "-rw-r--r-- 1 olga czb 292K Jan 11 10:02  004_interferon_kmer_expression.ipynb\n",
      "-rw-r--r-- 1 olga czb  71K Jan 11 10:02  005_lemur_fastqs_fastas_sigs.ipynb\n",
      "-rw-r--r-- 1 olga czb  75K Jan 11 10:02  006_mismatched_ksize_molecule_signatures.ipynb\n",
      "-rw-r--r-- 1 olga czb  90K Jan 11 10:02  007_bat_annotation_unification.ipynb\n",
      "-rw-r--r-- 1 olga czb 1.5M Jan 11 10:02  009_nk_cell_receptor_sigs.ipynb\n",
      "-rw-r--r-- 1 olga czb  34K Jan 11 10:02  010_orthogroup_subset_mammalia.ipynb\n",
      "-rw-r--r-- 1 olga czb  36K Jan 11 10:02  011_orthogroup_xref_gene_names.ipynb\n",
      "-rw-r--r-- 1 olga czb  25K Jan 11 10:02  012_make_mammalia_orthogroup_fastas.ipynb\n",
      "-rw-r--r-- 1 olga czb  62K Jan 11 10:02  013_missing_orthodb_sigs.ipynb\n",
      "-rw-r--r-- 1 olga czb 5.2K Jan 11 10:02  014_orthodb_concatenate_sigs.ipynb\n",
      "-rw-r--r-- 1 olga czb 258K Jan 11 10:02  020_translate_results_so_far.ipynb\n",
      "-rw-r--r-- 1 olga czb  134 Jan 11 10:02  020_translate_results_so_far-requirements.txt\n",
      "-rw-r--r-- 1 olga czb  31M Jan 11 10:02  021_bbknn_translate_results.ipynb\n",
      "-rw-r--r-- 1 olga czb  134 Jan 11 10:02  021_bbknn_translate_results-requirements.txt\n",
      "-rw-r--r-- 1 olga czb  69K Jan 11 10:02  022_translate_results_to_predictorthologs.ipynb\n",
      "-rw-r--r-- 1 olga czb 118K Jan 11 10:02  024_bat_nk_cell_receptor.ipynb\n",
      "-rw-r--r-- 1 olga czb  23K Jan 11 10:02  025_orthogroup_containment.ipynb\n",
      "-rw-r--r-- 1 olga czb 867K Jan 11 10:02  100_make_sourmash_search_commands.ipynb\n",
      "-rw-r--r-- 1 olga czb 8.3K Jan 11 10:02  101b_read_sourmash_search.ipynb\n",
      "-rw-r--r-- 1 olga czb 7.0K Jan 11 10:02  101_read_sourmash_search.ipynb\n",
      "-rw-r--r-- 1 olga czb  32K Jan 11 10:02  102b_join_ontologies_sourmash_search.ipynb\n",
      "-rw-r--r-- 1 olga czb  33K Jan 11 10:02  102_join_ontologies_sourmash_search.ipynb\n",
      "-rw-r--r-- 1 olga czb 2.1M Jan 11 10:02  103_analyze_sourmash_search.ipynb\n",
      "-rw-r--r-- 1 olga czb 1.9M Jan 11 10:02  103b_analyze_sourmash_search.ipynb\n",
      "-rw-r--r-- 1 olga czb  84K Jan 11 10:02  104_n_genes_per_celltype.ipynb\n",
      "-rw-r--r-- 1 olga czb 341K Jan 11 10:02  105b_human-mouse_sig_overlap.ipynb\n",
      "-rw-r--r-- 1 olga czb 217K Jan 11 10:02  110_mouse1_sbt_query_mouse2_cell_sourmash_search.ipynb\n",
      "-rw-r--r-- 1 olga czb 1.8M Jan 11 10:02  111b_read_mouse-mouse_sourmash_search_remove_ribosomal_dissociaation.ipynb\n",
      "-rw-r--r-- 1 olga czb 1.6M Jan 11 10:02  111_read_mouse-mouse_sourmash_search.ipynb\n",
      "-rw-r--r-- 1 olga czb 5.3M Jan 11 10:02  112_analyze_mouse-mouse_sourmash_search.ipynb\n",
      "-rw-r--r-- 1 olga czb 9.1M Jan 11 10:02  112b_analyze_mouse-mouse_sourmash_search_remove_dissociation_ribosomal.ipynb\n",
      "-rw-r--r-- 1 olga czb 127K Mar  8 09:27  113_create_dissociation_gene_signature.ipynb\n",
      "-rw-r--r-- 1 olga czb 5.3K Jan 26 16:42  114_sketch_refseq_vertebrate_mammalian_proteins.ipynb\n",
      "-rw-r--r-- 1 olga czb 1.9M Jan 11 10:02  120_read_mouse-mouse_sourmash_search_remove_ribosomal_dissociaation_nucleotide.ipynb\n",
      "-rw-r--r-- 1 olga czb  11M Jan 11 10:02  121_analyze_mouse-mouse_sourmash_search_remove_dissociation_ribosomal_nucleotide.ipynb\n",
      "-rw-r--r-- 1 olga czb 1.9M Jan 11 10:02  125_read_human-mouse_sourmash_search_remove_ribosomal_dissociation_protein.ipynb\n",
      "-rw-r--r-- 1 olga czb 1.8M Jan 11 10:02  126_analyze_human-mouse_sourmash_search_remove_dissociation_ribosomal.ipynb\n",
      "-rw-r--r-- 1 olga czb 126K Jan 11 10:02  130_predictorthologs_human-mouse_dayhoff36.ipynb\n",
      "-rw-r--r-- 1 olga czb 120K Jan 11 10:02  131_unannotated_genes_predictorthologs.ipynb\n",
      "-rw-r--r-- 1 olga czb 4.5K Jan 11 10:02  132_filter_refseq_vertebrate_mammalian_no_uncharacterized.ipynb\n",
      "-rw-r--r-- 1 olga czb 247K Feb 26 16:41  200_mouse_signature_prep.ipynb\n",
      "-rw-r--r-- 1 olga czb 188K Feb 26 19:02  201_mouse2mouse_lookup_all_cells.ipynb\n",
      "-rw-r--r-- 1 olga czb 115K Feb 28 10:37  202_human2mouse_lookup_v0.ipynb\n",
      "-rw-r--r-- 1 olga czb 882K Apr  9 08:51  203_bat2mouse_lookup_all_cells.ipynb\n",
      "-rw-r--r-- 1 olga czb 158K Apr 16 17:58  204_lemur2mouse_lookup.ipynb\n",
      "-rw-r--r-- 1 olga czb  32K Jan 11 10:02  210_read_mouse2mouse_sourmash_search_csvs.ipynb\n",
      "-rw-r--r-- 1 olga czb  16M Feb  3 08:24  211_predict_mouse2mouse_per_celltype_remove_shared_hashes_allcells.ipynb\n",
      "-rw-r--r-- 1 olga czb 710K Feb  9 06:55  212_analyze_mouse2mouse_per_celltype_remove_shared_hashes_allcells.ipynb\n",
      "-rw-r--r-- 1 olga czb  82K Jan 11 10:02  212_mouse2mouse_predict_celltype_max_similarity_across_alphabets.ipynb\n",
      "-rw-r--r-- 1 olga czb 598K Jan 11 10:02  213_analyze_mouse2mouse_predict_celltype_max_similarity_across_alphabets.ipynb\n",
      "-rw-r--r-- 1 olga czb 319K Jan 11 10:02  214_mouse2mouse_pareto.ipynb\n",
      "-rw-r--r-- 1 olga czb  30K Feb  9 06:12  220_read_human2mouse_search_results.ipynb\n",
      "-rw-r--r-- 1 olga czb 4.3M Feb  2 09:44  221_predict_human2mouse.ipynb\n",
      "-rw-r--r-- 1 olga czb 2.4M Feb  3 08:11  222_analyze_human2mouse_per_celltype_remove_common_hashes-Copy1.ipynb\n",
      "-rw-r--r-- 1 olga czb  41K Jan 11 10:02  225_human2mouse_predict_celltype_max_similarity_across_alphabets.ipynb\n",
      "-rw-r--r-- 1 olga czb 291K Jan 11 10:02  226_analyze_human2mouse_predict_celltype_max_similarity_across_alphabets.ipynb\n",
      "-rw-r--r-- 1 olga czb 283K Jan 11 10:02  227_human2mouse_pareto.ipynb\n",
      "-rw-r--r-- 1 olga czb  27K Feb 26 18:29  228_diagnostic_kmers_lung_human2mouse.ipynb\n",
      "-rw-r--r-- 1 olga czb  46K Feb  6 19:01  229_diagnostic_mouse_lung_kmers.ipynb\n",
      "-rw-r--r-- 1 olga czb 115K Feb  4 13:32  230_read_bat2mouse_search_results.ipynb\n",
      "-rw-r--r-- 1 olga czb 4.3M Feb  2 09:58  231_predict_bat2mouse.ipynb\n",
      "-rw-r--r-- 1 olga czb 1.6M Feb  3 08:09  232_analyze_bat2mouse_predictions.ipynb\n",
      "-rw-r--r-- 1 olga czb  90K Feb  4 15:22  235_diagnostic_bat2mouse_lung.ipynb\n",
      "-rw-r--r-- 1 olga czb 223K Feb  3 14:53  236_barplot_diagnostic_kmers.ipynb\n",
      "-rw-r--r-- 1 olga czb 124K Apr 14 11:15  240_hash2kmer_mouse.ipynb\n",
      "-rw-r--r-- 1 olga czb 126K Feb  9 06:12  240_read_bat2mouse_search_results_remove_refseq_ribo.ipynb\n",
      "-rw-r--r-- 1 olga czb  21K Apr 16 08:36  241_hash2kmer_human.ipynb\n",
      "-rw-r--r-- 1 olga czb  76K Feb  9 06:12  241_predict_bat2mouse_refseq_remove_ribo.ipynb\n",
      "-rw-r--r-- 1 olga czb 3.4M Mar  5 15:23  242_analyze_bat2mouse_predictions_refseq_remove_ribo.ipynb\n",
      "-rw-r--r-- 1 olga czb  59K Apr 16 08:30  243_diagnostic_bat2mose_lung_refseq_remove_ribo.ipynb\n",
      "-rw-r--r-- 1 olga czb 7.0K Apr 14 12:00  243_diagnostic_bat2mose_lung_refseq_remove_ribo.py\n",
      "-rw-r--r-- 1 olga czb 271K Feb 24 10:45  244_barplot_diagnostic_kmers_remove_ribo_refseq.ipynb\n",
      "-rw-r--r-- 1 olga czb 138K Feb  9 10:35  245_diagnostic_kmer_overlap.ipynb\n",
      "-rw-r--r-- 1 olga czb 447K Feb 12 15:54  249_classification_metrics_across_species.ipynb\n",
      "-rw-r--r-- 1 olga czb  38K Feb  3 13:43  250_n_kmers_aligned_unaligned_per_lung_celltype_per_species.ipynb\n",
      "-rw-r--r-- 1 olga czb 668K Jan 20 10:37  250_umap_compute_similarities_bat2mouse.ipynb\n",
      "-rw-r--r-- 1 olga czb 4.0M Feb  8 12:54  251_sankey_lung_celltypes_mouse2mouse.ipynb\n",
      "-rw-r--r-- 1 olga czb 565K Jan 21 09:21  251_umap_plot_bat2mouse_lung.ipynb\n",
      "-rw-r--r-- 1 olga czb 674K Feb  8 13:02  260_read_predictorthologs_bat2mouse_diagnostic_kmers.ipynb\n",
      "-rw-r--r-- 1 olga czb 116K Feb 28 16:58  290_kmer_sparse_matrix.ipynb\n",
      "-rw-r--r-- 1 olga czb 1.6M Mar  8 16:06  310_umap_bat.ipynb\n",
      "-rw-r--r-- 1 olga czb 258K Mar 29 06:59  312_reorg_mouse_self2self.ipynb\n",
      "-rw-r--r-- 1 olga czb 207K Mar 29 06:55  313_reorg_mouse2mouse.ipynb\n",
      "-rw-r--r-- 1 olga czb  84K Apr 16 08:45  314_reorg_mouse_db.ipynb\n",
      "-rw-r--r-- 1 olga czb  80K Apr 16 08:45  315_reorg_human2mouse.ipynb\n",
      "-rw-r--r-- 1 olga czb  55K Apr 16 08:45  316_reorg_bat2mouse.ipynb\n",
      "-rw-r--r-- 1 olga czb  77K Apr 16 17:55  317_reorg_lemur2mouse.ipynb\n",
      "-rw-r--r-- 1 olga czb 175K Mar 28 16:49  318_mouse_db__n_kmers_per_celltype.ipynb\n",
      "-rw-r--r-- 1 olga czb 968K Apr  6 08:36  319_mouse_db_bloomfilter.ipynb\n",
      "-rw-r--r-- 1 olga czb  33K Mar 17 14:28  322_read_self2self_mouse2mouse_from_reorg.ipynb\n",
      "-rw-r--r-- 1 olga czb 282K Apr  6 09:04  323_read_mouse2mouse_sourmash_search_results_from_reorg.ipynb\n",
      "-rw-r--r-- 1 olga czb  59K Apr  6 09:26  325_read_human2mouse_search_results_from_reorg.ipynb\n",
      "-rw-r--r-- 1 olga czb 106K Apr  9 14:09  326_read_bat2mouse_reog_search_results.ipynb\n",
      "-rw-r--r-- 1 olga czb 103K Apr 14 11:10  327_read_lemur2mouse_reog_search_results.ipynb\n",
      "-rw-r--r-- 1 olga czb 2.8M Apr 15 07:00  330_analyze_aggregated_classifications_from_reorg.ipynb\n",
      "-rw-r--r-- 1 olga czb 463K Apr 16 17:26  340_sig2kmer_all_species.ipynb\n",
      "-rw-r--r-- 1 olga czb 3.8K Apr 16 08:32  341_hash2kmer_human.py\n",
      "-rw-r--r-- 1 olga czb 4.0M Apr  6 14:29  350_sankey_celltypes.ipynb\n",
      "-rw-r--r-- 1 olga czb 144K Jan 17 00:00  400_mouse_sig_prep_bladder.ipynb\n",
      "-rw-r--r-- 1 olga czb 219K Jan 15 10:57  401_mouse2mouse_bladder.ipynb\n",
      "-rw-r--r-- 1 olga czb  70K Jan 19 02:30  402_human2mouse_bladder.ipynb\n",
      "-rw-r--r-- 1 olga czb  22K Jan 17 00:17  410_read_mouse2mouse_sourmash_bladder_search_csvs.ipynb\n",
      "-rw-r--r-- 1 olga czb  45K Jan 19 19:40  420_read_human2mouse_bladder_search.ipynb\n",
      "-rw-r--r-- 1 olga czb 579K Jan 19 13:50  421_analyze_human2mouse_bladder.ipynb\n",
      "-rw-r--r-- 1 olga czb  52K Jan 19 09:56  425_diagnostic_kmers_bladder_human2mouse.ipynb\n",
      "-rw-r--r-- 1 olga czb 107K Jan 19 16:41  426_diagnostic_kmers_in_mouse.ipynb\n",
      "-rw-r--r-- 1 olga czb  33K Jan 19 10:50  427_diagnostic_kmer_sankey.ipynb\n",
      "-rw-r--r-- 1 olga czb  52K Jan 20 08:24  430_bladder_unaligned_predictorthologs.ipynb\n",
      "-rw-r--r-- 1 olga czb  30K Jan 11 10:02  900_check_tabula_muris_senis_lung_translation_times.ipynb\n",
      "-rw-r--r-- 1 olga czb  97K Mar 31 09:17  901_lung_human-mouse.ipynb\n",
      "-rw-r--r-- 1 olga czb  16K Jan 21 08:08  bbknn_utils.py\n",
      "-rw-r--r-- 1 olga czb 4.3K Mar  5 15:25  classification_metrics.py\n",
      "-rw-r--r-- 1 olga czb  19K Feb 28 17:15  create_sourmash_command_utils.py\n",
      "-rw-r--r-- 1 olga czb 8.0M Feb  1 05:00  HOM_MouseHumanSequence.rpt\n",
      "-rw-r--r-- 1 olga czb 3.3M Jan 11 10:02  human.fasta\n",
      "-rw-r--r-- 1 olga czb 2.8M Jan 11 10:02  human-kmers.csv\n",
      "drwxr-xr-x 3 olga czb 4.0K Apr 14 12:00  .idea\n",
      "-rw-r--r-- 1 olga czb 705K Jan 11 10:02  intersected-at2-at2.fasta\n",
      "-rw-r--r-- 1 olga czb 588K Jan 11 10:02  intersected-at2-at2-kmers.csv\n",
      "-rw-r--r-- 1 olga czb  13K Jan 11 10:02  intersected-at2-at2.sig\n",
      "-rw-r--r-- 1 olga czb 622K Jan 11 10:02  intersected-at2-other.fasta\n",
      "-rw-r--r-- 1 olga czb 516K Jan 11 10:02  intersected-at2-other-kmers.csv\n",
      "-rw-r--r-- 1 olga czb  17K Jan 11 10:02  intersected-at2-other.sig\n",
      "-rw-r--r-- 1 olga czb 4.2M Jan 11 10:02  intersected-b-b.fasta\n",
      "-rw-r--r-- 1 olga czb 3.6M Jan 11 10:02  intersected-b-b-kmers.csv\n",
      "-rw-r--r-- 1 olga czb  25K Jan 11 10:02  intersected-b-b.sig\n",
      "-rw-r--r-- 1 olga czb 3.8M Jan 11 10:02  intersected-b-t.csv\n",
      "-rw-r--r-- 1 olga czb 4.4M Jan 11 10:02  intersected-b-t.fasta\n",
      "-rw-r--r-- 1 olga czb 3.8M Jan 11 10:02  intersected-b-t-kmers.csv\n",
      "-rw-r--r-- 1 olga czb  31K Jan 11 10:02  intersected-b-t.sig\n",
      "drwxr-xr-x 2 olga czb  12K Apr 16 08:45  .ipynb_checkpoints\n",
      "-rw-r--r-- 1 olga czb 5.4K Jan 11 10:02  kmermaid_utils.py\n",
      "-rw-r--r-- 1 olga czb 1.6K Mar  5 15:31  kmer_sparse_matrix.py\n",
      "-rw-r--r-- 1 olga czb 6.5M Jan 11 10:02  mouse-at2.fasta\n",
      "-rw-r--r-- 1 olga czb 5.6M Jan 11 10:02  mouse-at2-kmers.csv\n",
      "-rw-r--r-- 1 olga czb 7.1M Jan 11 10:02  output_fasta\n",
      "-rw-r--r-- 1 olga czb  197 Apr 16 17:59  pandas_utils.py\n",
      "-rw-r--r-- 1 olga czb 2.4K Jan 25 15:31  predictorthologs_utils.py\n",
      "drwxr-xr-x 2 olga czb 4.0K Apr 16 17:59  __pycache__\n",
      "-rw-r--r-- 1 olga czb  83M Apr  7 14:49  sig2kmer.log\n",
      "-rwxr-xr-x 1 olga czb  15K Apr 16 09:23  sig2kmer.py\n",
      "-rw-r--r-- 1 olga czb 4.9K Mar  5 16:35  sig_reorg.py\n",
      "-rw-r--r-- 1 olga czb 8.0K Mar 25 15:48  sig_utils.log\n",
      "-rw-r--r-- 1 olga czb  21K Mar 27 13:06  sig_utils.py\n",
      "-rw-r--r-- 1 olga czb  16K Mar 29 07:50  sourmash_search_utils.py\n",
      "-rw-r--r-- 1 olga czb 1.1K Jan 11 10:02  umap_utils.py\n",
      "drwxr-xr-x 2 olga czb 4.0K Jan 18 11:32 'Untitled Folder'\n",
      "drwxr-xr-x 2 olga czb 4.0K Feb 28 09:25 'Untitled Folder 1'\n",
      "-rw-r--r-- 1 olga czb 7.0K Mar 28 16:50  Untitled.ipynb\n"
     ]
    }
   ],
   "source": [
    "! ls -lha $sig_outdir_base"
   ]
  },
  {
   "cell_type": "code",
   "execution_count": 29,
   "id": "grateful-participant",
   "metadata": {},
   "outputs": [],
   "source": [
    "human_kmermaid_base = \"/home/olga/data_sm/tabula-microcebus/analyses/kmermaid/tenx-tgz--hlca-v2--normal-lung-remove-riborna\""
   ]
  },
  {
   "cell_type": "code",
   "execution_count": 30,
   "id": "affiliated-cotton",
   "metadata": {},
   "outputs": [],
   "source": [
    "sig_outdir_base = '/home/olga/data_sm/immune-evolution/kmer-signatures'\n",
    "\n",
    "human_test_dir = os.path.join(sig_outdir_base, \"2--test-human\")\n",
    "\n",
    "human_test_0_fastas = os.path.join(human_test_dir, \"0--fastas\")\n",
    "human_test_1_single_cells = os.path.join(human_test_dir, \"1--single-cell-sigs\")\n",
    "human_fasta_input_dir = os.path.join(human_kmermaid_base, \"translate\")\n",
    "\n",
    "results_dir = os.path.join(human_test_dir, \"2--mouse-search-results\")\n",
    "dirs = (human_test_0_fastas, human_test_1_single_cells, results_dir)\n",
    "\n",
    "for outdir in dirs:\n",
    "    if not os.path.exists(outdir):\n",
    "        os.makedirs(outdir)"
   ]
  },
  {
   "cell_type": "markdown",
   "id": "hidden-general",
   "metadata": {},
   "source": [
    "\n",
    "## Copy fastas"
   ]
  },
  {
   "cell_type": "code",
   "execution_count": 65,
   "id": "champion-plain",
   "metadata": {},
   "outputs": [
    {
     "name": "stderr",
     "output_type": "stream",
     "text": [
      "0it [00:00, ?it/s]"
     ]
    },
    {
     "name": "stdout",
     "output_type": "stream",
     "text": [
      "Copying peptides\n"
     ]
    },
    {
     "name": "stderr",
     "output_type": "stream",
     "text": [
      "54305it [03:21, 269.80it/s]\n",
      "0it [00:00, ?it/s]"
     ]
    },
    {
     "name": "stdout",
     "output_type": "stream",
     "text": [
      "Copying nucleotides\n"
     ]
    },
    {
     "name": "stderr",
     "output_type": "stream",
     "text": [
      "54305it [03:21, 269.13it/s]\n"
     ]
    }
   ],
   "source": [
    "sig_reorg.copy_fastas(\n",
    "    human_test_0_fastas,\n",
    "    human_fasta_input_dir,\n",
    "    select_cell_ids=CELL_IDS_TO_USE,\n",
    "    dryrun=False,\n",
    ")"
   ]
  },
  {
   "cell_type": "markdown",
   "id": "incident-remains",
   "metadata": {},
   "source": [
    "## Single cell signatures"
   ]
  },
  {
   "cell_type": "code",
   "execution_count": 30,
   "id": "minus-captain",
   "metadata": {},
   "outputs": [],
   "source": [
    "\n",
    "human_peptide_sketch_dir = os.path.join(\n",
    "    human_kmermaid_base,\n",
    "    \"sketches_peptide_handmade_merged_remove_ribosomal_dissociation_allcells\",\n",
    ")\n",
    "\n",
    "human_nucleotide_sketch_dir = os.path.join(\n",
    "    human_kmermaid_base, \"sketches_nucleotide_handmade_merged_remove_ribosomal_dissociation_allcells\"\n",
    ")"
   ]
  },
  {
   "cell_type": "code",
   "execution_count": 31,
   "id": "regular-wedding",
   "metadata": {},
   "outputs": [
    {
     "name": "stderr",
     "output_type": "stream",
     "text": [
      "219it [00:00, 2189.94it/s]"
     ]
    },
    {
     "name": "stdout",
     "output_type": "stream",
     "text": [
      "Copying alphabet-DNA__ksize-21__scaled-10\n"
     ]
    },
    {
     "name": "stderr",
     "output_type": "stream",
     "text": [
      "14153it [03:32, 66.47it/s] \n",
      "8it [00:00, 63.92it/s]"
     ]
    },
    {
     "name": "stdout",
     "output_type": "stream",
     "text": [
      "Copying alphabet-protein__ksize-30__scaled-10\n"
     ]
    },
    {
     "name": "stderr",
     "output_type": "stream",
     "text": [
      "20059it [01:27, 230.41it/s]\n",
      "22it [00:00, 212.30it/s]"
     ]
    },
    {
     "name": "stdout",
     "output_type": "stream",
     "text": [
      "Copying alphabet-dayhoff__ksize-51__scaled-10\n"
     ]
    },
    {
     "name": "stderr",
     "output_type": "stream",
     "text": [
      "20059it [01:26, 231.48it/s]\n"
     ]
    }
   ],
   "source": [
    "sig_reorg.copy_nucleotide_peptide_sketches(\n",
    "    peptide_sketch_dir=human_peptide_sketch_dir,\n",
    "    nucleotide_sketch_dir=human_nucleotide_sketch_dir,\n",
    "    pre_sketch_id_outdir=human_test_1_single_cells,\n",
    "    select_cell_ids=CELL_IDS_TO_USE,\n",
    "    dryrun=False\n",
    ")"
   ]
  },
  {
   "cell_type": "markdown",
   "id": "primary-vanilla",
   "metadata": {},
   "source": [
    "# Create queries"
   ]
  },
  {
   "cell_type": "code",
   "execution_count": 45,
   "id": "spread-concert",
   "metadata": {},
   "outputs": [
    {
     "data": {
      "text/plain": [
       "'/home/olga/data_sm/immune-evolution/kmer-signatures/2--test-human'"
      ]
     },
     "execution_count": 45,
     "metadata": {},
     "output_type": "execute_result"
    }
   ],
   "source": [
    "human_test_dir"
   ]
  },
  {
   "cell_type": "markdown",
   "id": "pending-junior",
   "metadata": {},
   "source": [
    "## celltypes with removed common k-mers"
   ]
  },
  {
   "cell_type": "code",
   "execution_count": 62,
   "id": "exclusive-algebra",
   "metadata": {},
   "outputs": [
    {
     "name": "stdout",
     "output_type": "stream",
     "text": [
      "parallel --progress --eta --jobs 96 < /home/olga/data_sm/immune-evolution/kmer-signatures/2--test-human/3-0--mouse-search-results--remove_common/sourmash_search_commands_DNA.txt\n",
      "parallel --progress --eta --jobs 96 < /home/olga/data_sm/immune-evolution/kmer-signatures/2--test-human/3-0--mouse-search-results--remove_common/sourmash_search_commands_protein.txt\n",
      "parallel --progress --eta --jobs 96 < /home/olga/data_sm/immune-evolution/kmer-signatures/2--test-human/3-0--mouse-search-results--remove_common/sourmash_search_commands_dayhoff.txt\n",
      "parallel --progress --eta --jobs 96 < /home/olga/data_sm/immune-evolution/kmer-signatures/2--test-human/3-1--mouse-search-results--raw_merged/sourmash_search_commands_DNA.txt\n",
      "parallel --progress --eta --jobs 96 < /home/olga/data_sm/immune-evolution/kmer-signatures/2--test-human/3-1--mouse-search-results--raw_merged/sourmash_search_commands_protein.txt\n",
      "parallel --progress --eta --jobs 96 < /home/olga/data_sm/immune-evolution/kmer-signatures/2--test-human/3-1--mouse-search-results--raw_merged/sourmash_search_commands_dayhoff.txt\n",
      "---\n",
      "parallel --progress --eta --jobs 96 < /home/olga/data_sm/immune-evolution/kmer-signatures/2--test-human/2--mouse-search-results/sourmash_search_commands_concatenated.txt\n"
     ]
    }
   ],
   "source": [
    "moltypes = \"DNA\", \"protein\", \"dayhoff\"\n",
    "\n",
    "alpha_ksizes = ((\"DNA\", 21), (\"protein\", 30), (\"dayhoff\", 51))\n",
    "\n",
    "# mouse celltype database directory\n",
    "train_4_celltype_sbts = \"/home/olga/data_sm/immune-evolution/kmer-signatures/1--train-mouse/4--celltype-sbt-dbts\"\n",
    "train_3_merged_celltype_remove_common = \"/home/olga/data_sm/immune-evolution/kmer-signatures/1--train-mouse/3--merged-celltype-remove-common-kmers\"\n",
    "train_2_merged_celltype = \"/home/olga/data_sm/immune-evolution/kmer-signatures/1--train-mouse/2--merged-celltype-sigs\"\n",
    "\n",
    "# Try both with removed common hashes and original\n",
    "celltype_dirs = dict(\n",
    "    remove_common=train_3_merged_celltype_remove_common,\n",
    "    raw_merged=train_2_merged_celltype,\n",
    ")\n",
    "\n",
    "txts = []\n",
    "for i, (name, celltype_dir) in enumerate(celltype_dirs.items()):\n",
    "    this_celltype_dir_results = os.path.join(\n",
    "        human_test_dir, f\"3-{i}--mouse-search-results--{name}\"\n",
    "    )\n",
    "    if not os.path.exists(this_celltype_dir_results):\n",
    "        os.makedirs(this_celltype_dir_results)\n",
    "    for alpha, ksize in alpha_ksizes:\n",
    "        txt = csc_utils.make_sourmash_search_commands(\n",
    "            this_celltype_dir_results,\n",
    "            query_sigs_dir=human_test_1_single_cells,\n",
    "            sbt_base_dir=celltype_dir,\n",
    "            k_sizes=[ksize],\n",
    "            scaled_sizes=[\n",
    "                10,\n",
    "            ],\n",
    "            sbt_template_basename=None,\n",
    "            query_sig_files=False,\n",
    "            containment=False,\n",
    "            moltype=alpha,\n",
    "            threshold=1e-100,\n",
    "            n_jobs=96,\n",
    "            force=True,\n",
    "            num_results=None,\n",
    "            add_ksize_to_sig_dir=False,\n",
    "            traverse_directory=True,\n",
    "        )\n",
    "        txts.append(txt)\n",
    "txts_to_cat = \" \".join(txts)\n",
    "catted_txt = os.path.join(results_dir, \"sourmash_search_commands_concatenated.txt\")\n",
    "! cat $txts_to_cat > $catted_txt\n",
    "\n",
    "print(f\"---\\nparallel --progress --eta --jobs 96 < {catted_txt}\")"
   ]
  },
  {
   "cell_type": "markdown",
   "id": "million-minneapolis",
   "metadata": {},
   "source": [
    "## Search mouse celltypes with k-mers shared by 10% of cells"
   ]
  },
  {
   "cell_type": "code",
   "execution_count": 68,
   "id": "fundamental-layer",
   "metadata": {},
   "outputs": [
    {
     "name": "stdout",
     "output_type": "stream",
     "text": [
      "parallel --progress --eta --jobs 96 < /home/olga/data_sm/immune-evolution/kmer-signatures/2--test-human/3-0--mouse-search-results--min-5-percent-shared-kmers/sourmash_search_commands_DNA.txt\n",
      "parallel --progress --eta --jobs 96 < /home/olga/data_sm/immune-evolution/kmer-signatures/2--test-human/3-0--mouse-search-results--min-5-percent-shared-kmers/sourmash_search_commands_protein.txt\n",
      "parallel --progress --eta --jobs 96 < /home/olga/data_sm/immune-evolution/kmer-signatures/2--test-human/3-0--mouse-search-results--min-5-percent-shared-kmers/sourmash_search_commands_dayhoff.txt\n",
      "parallel --progress --eta --jobs 96 < /home/olga/data_sm/immune-evolution/kmer-signatures/2--test-human/3-1--mouse-search-results--min-10-percent-shared-kmers/sourmash_search_commands_DNA.txt\n",
      "parallel --progress --eta --jobs 96 < /home/olga/data_sm/immune-evolution/kmer-signatures/2--test-human/3-1--mouse-search-results--min-10-percent-shared-kmers/sourmash_search_commands_protein.txt\n",
      "parallel --progress --eta --jobs 96 < /home/olga/data_sm/immune-evolution/kmer-signatures/2--test-human/3-1--mouse-search-results--min-10-percent-shared-kmers/sourmash_search_commands_dayhoff.txt\n",
      "---\n",
      "parallel --progress --eta --jobs 96 < /home/olga/data_sm/immune-evolution/kmer-signatures/2--test-human/2--mouse-search-results/sourmash_search_commands_concatenated.txt\n"
     ]
    }
   ],
   "source": [
    "moltypes = \"DNA\", \"protein\", \"dayhoff\"\n",
    "\n",
    "alpha_ksizes = ((\"DNA\", 21), (\"protein\", 30), (\"dayhoff\", 51))\n",
    "\n",
    "# mouse celltype database directory\n",
    "train_4_celltype_sbts = \"/home/olga/data_sm/immune-evolution/kmer-signatures/1--train-mouse/4--celltype-sbt-dbts\"\n",
    "train_3_sigs_min_10_percent = \"/home/olga/data_sm/immune-evolution/kmer-signatures/1--train-mouse/2--merged-celltype-sigs--min-kmer-count--10-percent\"\n",
    "train_3_sigs_min_5_percent = \"/home/olga/data_sm/immune-evolution/kmer-signatures/1--train-mouse/2--merged-celltype-sigs--min-kmer-count--5-percent\"\n",
    "# train_2_merged_celltype = \"/home/olga/data_sm/immune-evolution/kmer-signatures/1--train-mouse/2--merged-celltype-sigs\"\n",
    "\n",
    "# Try both with removed common hashes and original\n",
    "celltype_dirs = {\n",
    "    'min-5-percent-shared-kmers': train_3_sigs_min_5_percent,\n",
    "    'min-10-percent-shared-kmers': train_3_sigs_min_10_percent,\n",
    "}\n",
    "\n",
    "txts = []\n",
    "for i, (name, celltype_dir) in enumerate(celltype_dirs.items()):\n",
    "    this_celltype_dir_results = os.path.join(\n",
    "        human_test_dir, f\"3-{i}--mouse-search-results--{name}\"\n",
    "    )\n",
    "    if not os.path.exists(this_celltype_dir_results):\n",
    "        os.makedirs(this_celltype_dir_results)\n",
    "    for alpha, ksize in alpha_ksizes:\n",
    "        txt = csc_utils.make_sourmash_search_commands(\n",
    "            this_celltype_dir_results,\n",
    "            query_sigs_dir=human_test_1_single_cells,\n",
    "            sbt_base_dir=celltype_dir,\n",
    "            k_sizes=[ksize],\n",
    "            scaled_sizes=[\n",
    "                10,\n",
    "            ],\n",
    "            sbt_template_basename=None,\n",
    "            query_sig_files=False,\n",
    "            containment=False,\n",
    "            moltype=alpha,\n",
    "            threshold=1e-100,\n",
    "            n_jobs=96,\n",
    "            force=True,\n",
    "            num_results=None,\n",
    "            add_ksize_to_sig_dir=False,\n",
    "            traverse_directory=True,\n",
    "        )\n",
    "        txts.append(txt)\n",
    "txts_to_cat = \" \".join(txts)\n",
    "catted_txt = os.path.join(results_dir, \"sourmash_search_commands_concatenated.txt\")\n",
    "! cat $txts_to_cat > $catted_txt\n",
    "\n",
    "print(f\"---\\nparallel --progress --eta --jobs 96 < {catted_txt}\")"
   ]
  },
  {
   "cell_type": "markdown",
   "id": "mature-impossible",
   "metadata": {},
   "source": [
    "## Search mouse celltypes with k-mers shared by 5, 10% of cells, but remove k-mers shared by 80% of celltypes"
   ]
  },
  {
   "cell_type": "code",
   "execution_count": 70,
   "id": "immediate-tucson",
   "metadata": {},
   "outputs": [
    {
     "name": "stdout",
     "output_type": "stream",
     "text": [
      "parallel --progress --eta --jobs 96 < /home/olga/data_sm/immune-evolution/kmer-signatures/2--test-human/3-0--mouse-search-results--min-5-percent-shared-kmers-remove-common-kmers/sourmash_search_commands_DNA.txt\n",
      "parallel --progress --eta --jobs 96 < /home/olga/data_sm/immune-evolution/kmer-signatures/2--test-human/3-0--mouse-search-results--min-5-percent-shared-kmers-remove-common-kmers/sourmash_search_commands_protein.txt\n",
      "parallel --progress --eta --jobs 96 < /home/olga/data_sm/immune-evolution/kmer-signatures/2--test-human/3-0--mouse-search-results--min-5-percent-shared-kmers-remove-common-kmers/sourmash_search_commands_dayhoff.txt\n",
      "parallel --progress --eta --jobs 96 < /home/olga/data_sm/immune-evolution/kmer-signatures/2--test-human/3-1--mouse-search-results--min-10-percent-shared-kmers-remove-common-kmers/sourmash_search_commands_DNA.txt\n",
      "parallel --progress --eta --jobs 96 < /home/olga/data_sm/immune-evolution/kmer-signatures/2--test-human/3-1--mouse-search-results--min-10-percent-shared-kmers-remove-common-kmers/sourmash_search_commands_protein.txt\n",
      "parallel --progress --eta --jobs 96 < /home/olga/data_sm/immune-evolution/kmer-signatures/2--test-human/3-1--mouse-search-results--min-10-percent-shared-kmers-remove-common-kmers/sourmash_search_commands_dayhoff.txt\n",
      "---\n",
      "parallel --progress --eta --jobs 96 < /home/olga/data_sm/immune-evolution/kmer-signatures/2--test-human/2--mouse-search-results/sourmash_search_commands_concatenated.txt\n"
     ]
    }
   ],
   "source": [
    "moltypes = \"DNA\", \"protein\", \"dayhoff\"\n",
    "\n",
    "alpha_ksizes = ((\"DNA\", 21), (\"protein\", 30), (\"dayhoff\", 51))\n",
    "\n",
    "# mouse celltype database directory\n",
    "train_4_celltype_sbts = \"/home/olga/data_sm/immune-evolution/kmer-signatures/1--train-mouse/4--celltype-sbt-dbts\"\n",
    "train_3_sigs_min_5_percent_remove_common = \"/home/olga/data_sm/immune-evolution/kmer-signatures/1--train-mouse/3--merged-celltype-remove-common-kmers--min-kmer-count--5-percent\"\n",
    "train_3_sigs_min_10_percent_remove_common = \"/home/olga/data_sm/immune-evolution/kmer-signatures/1--train-mouse/3--merged-celltype-remove-common-kmers--min-kmer-count--10-percent\"\n",
    "\n",
    "# Try both with removed common hashes and original\n",
    "celltype_dirs = {\n",
    "    'min-5-percent-shared-kmers-remove-common-kmers': train_3_sigs_min_5_percent_remove_common,\n",
    "    'min-10-percent-shared-kmers-remove-common-kmers': train_3_sigs_min_10_percent_remove_common,\n",
    "}\n",
    "\n",
    "txts = []\n",
    "for i, (name, celltype_dir) in enumerate(celltype_dirs.items()):\n",
    "    this_celltype_dir_results = os.path.join(\n",
    "        human_test_dir, f\"3-{i}--mouse-search-results--{name}\"\n",
    "    )\n",
    "    if not os.path.exists(this_celltype_dir_results):\n",
    "        os.makedirs(this_celltype_dir_results)\n",
    "    for alpha, ksize in alpha_ksizes:\n",
    "        txt = csc_utils.make_sourmash_search_commands(\n",
    "            this_celltype_dir_results,\n",
    "            query_sigs_dir=human_test_1_single_cells,\n",
    "            sbt_base_dir=celltype_dir,\n",
    "            k_sizes=[ksize],\n",
    "            scaled_sizes=[\n",
    "                10,\n",
    "            ],\n",
    "            sbt_template_basename=None,\n",
    "            query_sig_files=False,\n",
    "            containment=False,\n",
    "            moltype=alpha,\n",
    "            threshold=1e-100,\n",
    "            n_jobs=96,\n",
    "            force=True,\n",
    "            num_results=None,\n",
    "            add_ksize_to_sig_dir=False,\n",
    "            traverse_directory=True,\n",
    "        )\n",
    "        txts.append(txt)\n",
    "txts_to_cat = \" \".join(txts)\n",
    "catted_txt = os.path.join(results_dir, \"sourmash_search_commands_concatenated.txt\")\n",
    "! cat $txts_to_cat > $catted_txt\n",
    "\n",
    "print(f\"---\\nparallel --progress --eta --jobs 96 < {catted_txt}\")"
   ]
  },
  {
   "cell_type": "markdown",
   "id": "greek-contact",
   "metadata": {},
   "source": [
    "## CONTAINMENT - Search mouse celltypes with k-mers shared by 5, 10% of cells, but remove k-mers shared by 80% of celltypes"
   ]
  },
  {
   "cell_type": "code",
   "execution_count": 71,
   "id": "thorough-powder",
   "metadata": {},
   "outputs": [
    {
     "name": "stdout",
     "output_type": "stream",
     "text": [
      "parallel --progress --eta --jobs 96 < /home/olga/data_sm/immune-evolution/kmer-signatures/2--test-human/3-0--mouse-containment-search-results--min-5-percent-shared-kmers/sourmash_search_commands_DNA.txt\n",
      "parallel --progress --eta --jobs 96 < /home/olga/data_sm/immune-evolution/kmer-signatures/2--test-human/3-0--mouse-containment-search-results--min-5-percent-shared-kmers/sourmash_search_commands_protein.txt\n",
      "parallel --progress --eta --jobs 96 < /home/olga/data_sm/immune-evolution/kmer-signatures/2--test-human/3-0--mouse-containment-search-results--min-5-percent-shared-kmers/sourmash_search_commands_dayhoff.txt\n",
      "parallel --progress --eta --jobs 96 < /home/olga/data_sm/immune-evolution/kmer-signatures/2--test-human/3-1--mouse-containment-search-results--min-10-percent-shared-kmers/sourmash_search_commands_DNA.txt\n",
      "parallel --progress --eta --jobs 96 < /home/olga/data_sm/immune-evolution/kmer-signatures/2--test-human/3-1--mouse-containment-search-results--min-10-percent-shared-kmers/sourmash_search_commands_protein.txt\n",
      "parallel --progress --eta --jobs 96 < /home/olga/data_sm/immune-evolution/kmer-signatures/2--test-human/3-1--mouse-containment-search-results--min-10-percent-shared-kmers/sourmash_search_commands_dayhoff.txt\n",
      "parallel --progress --eta --jobs 96 < /home/olga/data_sm/immune-evolution/kmer-signatures/2--test-human/3-2--mouse-containment-search-results--min-5-percent-shared-kmers-remove-common-kmers/sourmash_search_commands_DNA.txt\n",
      "parallel --progress --eta --jobs 96 < /home/olga/data_sm/immune-evolution/kmer-signatures/2--test-human/3-2--mouse-containment-search-results--min-5-percent-shared-kmers-remove-common-kmers/sourmash_search_commands_protein.txt\n",
      "parallel --progress --eta --jobs 96 < /home/olga/data_sm/immune-evolution/kmer-signatures/2--test-human/3-2--mouse-containment-search-results--min-5-percent-shared-kmers-remove-common-kmers/sourmash_search_commands_dayhoff.txt\n",
      "parallel --progress --eta --jobs 96 < /home/olga/data_sm/immune-evolution/kmer-signatures/2--test-human/3-3--mouse-containment-search-results--min-10-percent-shared-kmers-remove-common-kmers/sourmash_search_commands_DNA.txt\n",
      "parallel --progress --eta --jobs 96 < /home/olga/data_sm/immune-evolution/kmer-signatures/2--test-human/3-3--mouse-containment-search-results--min-10-percent-shared-kmers-remove-common-kmers/sourmash_search_commands_protein.txt\n",
      "parallel --progress --eta --jobs 96 < /home/olga/data_sm/immune-evolution/kmer-signatures/2--test-human/3-3--mouse-containment-search-results--min-10-percent-shared-kmers-remove-common-kmers/sourmash_search_commands_dayhoff.txt\n",
      "---\n",
      "parallel --progress --eta --jobs 96 < /home/olga/data_sm/immune-evolution/kmer-signatures/2--test-human/2--mouse-search-results/sourmash_containment_search_commands_concatenated.txt\n"
     ]
    }
   ],
   "source": [
    "moltypes = \"DNA\", \"protein\", \"dayhoff\"\n",
    "\n",
    "alpha_ksizes = ((\"DNA\", 21), (\"protein\", 30), (\"dayhoff\", 51))\n",
    "\n",
    "# mouse celltype database directory\n",
    "train_4_celltype_sbts = \"/home/olga/data_sm/immune-evolution/kmer-signatures/1--train-mouse/4--celltype-sbt-dbts\"\n",
    "train_3_sigs_min_5_percent_remove_common = \"/home/olga/data_sm/immune-evolution/kmer-signatures/1--train-mouse/3--merged-celltype-remove-common-kmers--min-kmer-count--5-percent\"\n",
    "train_3_sigs_min_10_percent_remove_common = \"/home/olga/data_sm/immune-evolution/kmer-signatures/1--train-mouse/3--merged-celltype-remove-common-kmers--min-kmer-count--10-percent\"\n",
    "\n",
    "# Try both with removed common hashes and original\n",
    "celltype_dirs = {\n",
    "        'min-5-percent-shared-kmers': train_3_sigs_min_5_percent,\n",
    "    'min-10-percent-shared-kmers': train_3_sigs_min_10_percent,\n",
    "    'min-5-percent-shared-kmers-remove-common-kmers': train_3_sigs_min_5_percent_remove_common,\n",
    "    'min-10-percent-shared-kmers-remove-common-kmers': train_3_sigs_min_10_percent_remove_common,\n",
    "}\n",
    "\n",
    "txts = []\n",
    "for i, (name, celltype_dir) in enumerate(celltype_dirs.items()):\n",
    "    this_celltype_dir_results = os.path.join(\n",
    "        human_test_dir, f\"3-{i}--mouse-containment-search-results--{name}\"\n",
    "    )\n",
    "    if not os.path.exists(this_celltype_dir_results):\n",
    "        os.makedirs(this_celltype_dir_results)\n",
    "    for alpha, ksize in alpha_ksizes:\n",
    "        txt = csc_utils.make_sourmash_search_commands(\n",
    "            this_celltype_dir_results,\n",
    "            query_sigs_dir=human_test_1_single_cells,\n",
    "            sbt_base_dir=celltype_dir,\n",
    "            k_sizes=[ksize],\n",
    "            scaled_sizes=[\n",
    "                10,\n",
    "            ],\n",
    "            sbt_template_basename=None,\n",
    "            query_sig_files=False,\n",
    "            containment=True,\n",
    "            moltype=alpha,\n",
    "            threshold=1e-100,\n",
    "            n_jobs=96,\n",
    "            force=True,\n",
    "            num_results=None,\n",
    "            add_ksize_to_sig_dir=False,\n",
    "            traverse_directory=True,\n",
    "        )\n",
    "        txts.append(txt)\n",
    "txts_to_cat = \" \".join(txts)\n",
    "catted_txt = os.path.join(results_dir, \"sourmash_containment_search_commands_concatenated.txt\")\n",
    "! cat $txts_to_cat > $catted_txt\n",
    "\n",
    "print(f\"---\\nparallel --progress --eta --jobs 96 < {catted_txt}\")"
   ]
  },
  {
   "cell_type": "markdown",
   "id": "innovative-annex",
   "metadata": {},
   "source": []
  }
 ],
 "metadata": {
  "kernelspec": {
   "display_name": "Python [conda env:immune-evolution]",
   "language": "python",
   "name": "conda-env-immune-evolution-py"
  },
  "language_info": {
   "codemirror_mode": {
    "name": "ipython",
    "version": 3
   },
   "file_extension": ".py",
   "mimetype": "text/x-python",
   "name": "python",
   "nbconvert_exporter": "python",
   "pygments_lexer": "ipython3",
   "version": "3.7.8"
  }
 },
 "nbformat": 4,
 "nbformat_minor": 5
}
