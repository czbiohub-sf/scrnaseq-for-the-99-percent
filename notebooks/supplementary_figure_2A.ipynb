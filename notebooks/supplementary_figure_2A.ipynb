{
 "cells": [
  {
   "cell_type": "markdown",
   "metadata": {},
   "source": [
    "# Imports"
   ]
  },
  {
   "cell_type": "code",
   "execution_count": 26,
   "metadata": {},
   "outputs": [],
   "source": [
    "# %load_ext autoreload\n",
    "# %autoreload 2\n",
    "\n",
    "# import glob\n",
    "import os\n",
    "# import re\n",
    "\n",
    "# from joblib import Parallel, delayed\n",
    "# import kmermaid_utils\n",
    "import numpy as np\n",
    "import pandas as pd\n",
    "# import scanpy as sc\n",
    "import seaborn as sns\n",
    "# import sig_utils\n",
    "# import sourmash\n",
    "# from tqdm import tqdm\n",
    "\n",
    "from path_constants import FIGURE_FOLDER\n",
    "\n",
    "# pd.options.display.max_colwidth = 500\n",
    "# pd.options.display.max_columns = 50\n",
    "\n",
    "# from sourmash_search_utils import read_and_process_sourmash_search_results"
   ]
  },
  {
   "cell_type": "code",
   "execution_count": 10,
   "metadata": {},
   "outputs": [],
   "source": [
    "from nb_utils import describe"
   ]
  },
  {
   "cell_type": "markdown",
   "metadata": {},
   "source": [
    "# Get ideal ksizes per alphabet sizes"
   ]
  },
  {
   "cell_type": "code",
   "execution_count": 11,
   "metadata": {},
   "outputs": [
    {
     "data": {
      "text/plain": [
       "dayhoff    5.447059\n",
       "protein    9.107210\n",
       "dtype: float64"
      ]
     },
     "execution_count": 11,
     "metadata": {},
     "output_type": "execute_result"
    }
   ],
   "source": [
    "alphabet_sizes = pd.Series(dict(dayhoff=6, protein=20))  # hp=2,\n",
    "np.log10(alphabet_sizes.pow(21 / 3))"
   ]
  },
  {
   "cell_type": "code",
   "execution_count": 12,
   "metadata": {},
   "outputs": [
    {
     "data": {
      "text/plain": [
       "dayhoff    17.0\n",
       "protein    10.0\n",
       "dtype: float64"
      ]
     },
     "execution_count": 12,
     "metadata": {},
     "output_type": "execute_result"
    }
   ],
   "source": [
    "ideal_ksizes = np.ceil(21 * np.log(4) / np.log(alphabet_sizes))\n",
    "ideal_ksizes"
   ]
  },
  {
   "cell_type": "code",
   "execution_count": null,
   "metadata": {},
   "outputs": [],
   "source": []
  },
  {
   "cell_type": "code",
   "execution_count": 13,
   "metadata": {},
   "outputs": [
    {
     "data": {
      "text/plain": [
       "dayhoff    13.228571\n",
       "protein    13.010300\n",
       "dtype: float64"
      ]
     },
     "execution_count": 13,
     "metadata": {},
     "output_type": "execute_result"
    }
   ],
   "source": [
    "np.log10(alphabet_sizes.pow(ideal_ksizes))"
   ]
  },
  {
   "cell_type": "code",
   "execution_count": 14,
   "metadata": {},
   "outputs": [
    {
     "data": {
      "text/plain": [
       "array([21, 24, 27, 30, 33, 36, 39, 42, 45, 48, 51, 54, 57, 60, 63, 66, 69,\n",
       "       72, 75, 78, 81, 84, 87, 90])"
      ]
     },
     "execution_count": 14,
     "metadata": {},
     "output_type": "execute_result"
    }
   ],
   "source": [
    "k_nuc_sizes = np.arange(21, 91, 3)\n",
    "k_nuc_sizes"
   ]
  },
  {
   "cell_type": "code",
   "execution_count": 15,
   "metadata": {},
   "outputs": [
    {
     "data": {
      "text/plain": [
       "array([ 7.,  8.,  9., 10., 11., 12., 13., 14., 15., 16., 17., 18., 19.,\n",
       "       20., 21., 22., 23., 24., 25., 26., 27., 28., 29., 30.])"
      ]
     },
     "execution_count": 15,
     "metadata": {},
     "output_type": "execute_result"
    }
   ],
   "source": [
    "k_aa_sizes = k_nuc_sizes/3\n",
    "k_aa_sizes"
   ]
  },
  {
   "cell_type": "code",
   "execution_count": 16,
   "metadata": {},
   "outputs": [
    {
     "name": "stdout",
     "output_type": "stream",
     "text": [
      "(24, 3)\n",
      "--- First 5 entries ---\n"
     ]
    },
    {
     "data": {
      "text/html": [
       "<div>\n",
       "<style scoped>\n",
       "    .dataframe tbody tr th:only-of-type {\n",
       "        vertical-align: middle;\n",
       "    }\n",
       "\n",
       "    .dataframe tbody tr th {\n",
       "        vertical-align: top;\n",
       "    }\n",
       "\n",
       "    .dataframe thead th {\n",
       "        text-align: right;\n",
       "    }\n",
       "</style>\n",
       "<table border=\"1\" class=\"dataframe\">\n",
       "  <thead>\n",
       "    <tr style=\"text-align: right;\">\n",
       "      <th></th>\n",
       "      <th>k_nuc</th>\n",
       "      <th>entropy</th>\n",
       "      <th>alphabet</th>\n",
       "    </tr>\n",
       "  </thead>\n",
       "  <tbody>\n",
       "    <tr>\n",
       "      <th>0</th>\n",
       "      <td>21</td>\n",
       "      <td>12.64326</td>\n",
       "      <td>dna</td>\n",
       "    </tr>\n",
       "    <tr>\n",
       "      <th>1</th>\n",
       "      <td>24</td>\n",
       "      <td>14.44944</td>\n",
       "      <td>dna</td>\n",
       "    </tr>\n",
       "    <tr>\n",
       "      <th>2</th>\n",
       "      <td>27</td>\n",
       "      <td>16.25562</td>\n",
       "      <td>dna</td>\n",
       "    </tr>\n",
       "    <tr>\n",
       "      <th>3</th>\n",
       "      <td>30</td>\n",
       "      <td>18.06180</td>\n",
       "      <td>dna</td>\n",
       "    </tr>\n",
       "    <tr>\n",
       "      <th>4</th>\n",
       "      <td>33</td>\n",
       "      <td>19.86798</td>\n",
       "      <td>dna</td>\n",
       "    </tr>\n",
       "  </tbody>\n",
       "</table>\n",
       "</div>"
      ],
      "text/plain": [
       "   k_nuc   entropy alphabet\n",
       "0     21  12.64326      dna\n",
       "1     24  14.44944      dna\n",
       "2     27  16.25562      dna\n",
       "3     30  18.06180      dna\n",
       "4     33  19.86798      dna"
      ]
     },
     "metadata": {},
     "output_type": "display_data"
    }
   ],
   "source": [
    "dna_entropy = pd.Series(k_nuc_sizes * np.log10(4), name='entropy', index=k_nuc_sizes)\n",
    "dna_entropy = dna_entropy.reset_index()\n",
    "dna_entropy = dna_entropy.rename(columns={'index': 'k_nuc'})\n",
    "dna_entropy['alphabet'] = 'dna'\n",
    "describe(dna_entropy)"
   ]
  },
  {
   "cell_type": "code",
   "execution_count": 17,
   "metadata": {},
   "outputs": [],
   "source": [
    "aa_nuc_alphabet_sizes = alphabet_sizes.copy()\n",
    "aa_nuc_alphabet_sizes['dna'] = 4"
   ]
  },
  {
   "cell_type": "code",
   "execution_count": 18,
   "metadata": {},
   "outputs": [
    {
     "name": "stdout",
     "output_type": "stream",
     "text": [
      "(72, 7)\n",
      "--- First 5 entries ---\n"
     ]
    },
    {
     "data": {
      "text/html": [
       "<div>\n",
       "<style scoped>\n",
       "    .dataframe tbody tr th:only-of-type {\n",
       "        vertical-align: middle;\n",
       "    }\n",
       "\n",
       "    .dataframe tbody tr th {\n",
       "        vertical-align: top;\n",
       "    }\n",
       "\n",
       "    .dataframe thead th {\n",
       "        text-align: right;\n",
       "    }\n",
       "</style>\n",
       "<table border=\"1\" class=\"dataframe\">\n",
       "  <thead>\n",
       "    <tr style=\"text-align: right;\">\n",
       "      <th></th>\n",
       "      <th>k_nuc</th>\n",
       "      <th>alphabet</th>\n",
       "      <th>entropy</th>\n",
       "      <th>k_aa</th>\n",
       "      <th>sigma</th>\n",
       "      <th>alphabet_type</th>\n",
       "      <th>alphabet_label</th>\n",
       "    </tr>\n",
       "  </thead>\n",
       "  <tbody>\n",
       "    <tr>\n",
       "      <th>0</th>\n",
       "      <td>21</td>\n",
       "      <td>dayhoff</td>\n",
       "      <td>5.447059</td>\n",
       "      <td>7</td>\n",
       "      <td>6</td>\n",
       "      <td>aa</td>\n",
       "      <td>dayhoff $|\\Sigma_{aa}| = 6$</td>\n",
       "    </tr>\n",
       "    <tr>\n",
       "      <th>1</th>\n",
       "      <td>21</td>\n",
       "      <td>protein</td>\n",
       "      <td>9.107210</td>\n",
       "      <td>7</td>\n",
       "      <td>20</td>\n",
       "      <td>aa</td>\n",
       "      <td>protein $|\\Sigma_{aa}| = 20$</td>\n",
       "    </tr>\n",
       "    <tr>\n",
       "      <th>2</th>\n",
       "      <td>24</td>\n",
       "      <td>dayhoff</td>\n",
       "      <td>6.225210</td>\n",
       "      <td>8</td>\n",
       "      <td>6</td>\n",
       "      <td>aa</td>\n",
       "      <td>dayhoff $|\\Sigma_{aa}| = 6$</td>\n",
       "    </tr>\n",
       "    <tr>\n",
       "      <th>3</th>\n",
       "      <td>24</td>\n",
       "      <td>protein</td>\n",
       "      <td>10.408240</td>\n",
       "      <td>8</td>\n",
       "      <td>20</td>\n",
       "      <td>aa</td>\n",
       "      <td>protein $|\\Sigma_{aa}| = 20$</td>\n",
       "    </tr>\n",
       "    <tr>\n",
       "      <th>4</th>\n",
       "      <td>27</td>\n",
       "      <td>dayhoff</td>\n",
       "      <td>7.003361</td>\n",
       "      <td>9</td>\n",
       "      <td>6</td>\n",
       "      <td>aa</td>\n",
       "      <td>dayhoff $|\\Sigma_{aa}| = 6$</td>\n",
       "    </tr>\n",
       "  </tbody>\n",
       "</table>\n",
       "</div>"
      ],
      "text/plain": [
       "   k_nuc alphabet    entropy  k_aa  sigma alphabet_type  \\\n",
       "0     21  dayhoff   5.447059     7      6            aa   \n",
       "1     21  protein   9.107210     7     20            aa   \n",
       "2     24  dayhoff   6.225210     8      6            aa   \n",
       "3     24  protein  10.408240     8     20            aa   \n",
       "4     27  dayhoff   7.003361     9      6            aa   \n",
       "\n",
       "                 alphabet_label  \n",
       "0   dayhoff $|\\Sigma_{aa}| = 6$  \n",
       "1  protein $|\\Sigma_{aa}| = 20$  \n",
       "2   dayhoff $|\\Sigma_{aa}| = 6$  \n",
       "3  protein $|\\Sigma_{aa}| = 20$  \n",
       "4   dayhoff $|\\Sigma_{aa}| = 6$  "
      ]
     },
     "metadata": {},
     "output_type": "display_data"
    }
   ],
   "source": [
    "alphabet_complexity = alphabet_sizes.to_frame().apply(\n",
    "    lambda x: pd.Series(k_aa_sizes * np.log10(x.iloc[0]), name=x.name), axis=1\n",
    ")\n",
    "alphabet_complexity.columns = k_nuc_sizes\n",
    "alphabet_complexity = alphabet_complexity.unstack().reset_index()\n",
    "alphabet_complexity = alphabet_complexity.rename(\n",
    "    columns={\"level_0\": \"k_nuc\", \"level_1\": \"alphabet\", 0: \"entropy\"}\n",
    ")\n",
    "alphabet_complexity = pd.concat([alphabet_complexity, dna_entropy])\n",
    "alphabet_complexity[\"k_aa\"] = (alphabet_complexity[\"k_nuc\"] / 3).astype(int)\n",
    "alphabet_complexity[\"sigma\"] = alphabet_complexity.alphabet.map(aa_nuc_alphabet_sizes)\n",
    "alphabet_complexity[\"alphabet_type\"] = alphabet_complexity.alphabet.map(\n",
    "    lambda x: \"nuc\" if x == \"dna\" else \"aa\"\n",
    ")\n",
    "alphabet_complexity[\"alphabet_label\"] = alphabet_complexity.apply(\n",
    "    lambda x: \"{alphabet} $|\\Sigma_{{{alphabet_type}}}| = {sigma}$\".format(**x), axis=1\n",
    ")\n",
    "describe(alphabet_complexity)"
   ]
  },
  {
   "cell_type": "code",
   "execution_count": 19,
   "metadata": {},
   "outputs": [
    {
     "data": {
      "text/plain": [
       "['dayhoff $|\\\\Sigma_{aa}| = 6$',\n",
       " 'dna $|\\\\Sigma_{nuc}| = 4$',\n",
       " 'protein $|\\\\Sigma_{aa}| = 20$']"
      ]
     },
     "execution_count": 19,
     "metadata": {},
     "output_type": "execute_result"
    }
   ],
   "source": [
    "sorted(alphabet_complexity.alphabet_label.unique())"
   ]
  },
  {
   "cell_type": "code",
   "execution_count": 28,
   "metadata": {},
   "outputs": [
    {
     "name": "stderr",
     "output_type": "stream",
     "text": [
      "/home/olga/miniconda3/envs/immune-evolution/lib/python3.7/site-packages/seaborn/categorical.py:3737: UserWarning: The `size` parameter has been renamed to `height`; please update your code.\n",
      "  warnings.warn(msg, UserWarning)\n"
     ]
    },
    {
     "data": {
      "image/png": "[encoded data removed]",
      "text/plain": [
       "<Figure size 501.249x216 with 1 Axes>"
      ]
     },
     "metadata": {
      "needs_background": "light"
     },
     "output_type": "display_data"
    }
   ],
   "source": [
    "alphabet_order = [\n",
    "    \"dna $|\\\\Sigma_{nuc}| = 4$\",\n",
    "    \"protein $|\\\\Sigma_{aa}| = 20$\",\n",
    "    \"dayhoff $|\\\\Sigma_{aa}| = 6$\",\n",
    "    #     \"hp $|\\\\Sigma_{aa}| = 2$\",\n",
    "]\n",
    "\n",
    "g = sns.catplot(\n",
    "    x=\"k_aa\",\n",
    "    data=alphabet_complexity,\n",
    "    y=\"entropy\",\n",
    "    hue=\"alphabet_label\",\n",
    "    kind=\"point\",\n",
    "    size=3,\n",
    "    aspect=1.75,\n",
    "    hue_order=alphabet_order,\n",
    ")\n",
    "\n",
    "# entropy_min = alphabet_complexity.query(\n",
    "#     'k_nuc == 63 and alphabet == \"hp\"'\n",
    "# ).entropy.iloc[0]\n",
    "# entropy_max = alphabet_complexity.query(\n",
    "#     'k_nuc == 60 and alphabet == \"dayhoff\"'\n",
    "# ).entropy.iloc[0]\n",
    "\n",
    "for ax in g.axes.flat:\n",
    "    #     xmin, xmax = ax.get_xlim()\n",
    "    #     ax.fill_between(\n",
    "    #         (xmin, xmax), entropy_min, entropy_max, color=\"lightgrey\", zorder=-1\n",
    "    #     )\n",
    "    ax.axhline(10 * np.log10(20), color=\"grey\", linestyle=\"--\", zorder=-1)\n",
    "#     ax.axhline(entropy_max, color=\"grey\", linestyle=\"--\", zorder=-1)\n",
    "\n",
    "g.set(\n",
    "    ylabel=r\"$k \\times \\log_{10} \\left( | \\Sigma | \\right)$\",\n",
    "    #     xlim=(xmin, xmax),\n",
    "    ylim=(0, 30),\n",
    "    xlabel=r\"$k_{aa}$ size\",\n",
    ")\n",
    "figure_folder = os.path.join(FIGURE_FOLDER, \"alphabet_size_vs_complexity\")\n",
    "! mkdir -p $figure_folder\n",
    "pdf = os.path.join(figure_folder, \"alphabet_size_vs_complexity.pdf\")\n",
    "g.savefig(pdf)"
   ]
  },
  {
   "cell_type": "code",
   "execution_count": null,
   "metadata": {},
   "outputs": [],
   "source": []
  }
 ],
 "metadata": {
  "kernelspec": {
   "display_name": "Python [conda env:immune-evolution]",
   "language": "python",
   "name": "conda-env-immune-evolution-py"
  },
  "language_info": {
   "codemirror_mode": {
    "name": "ipython",
    "version": 3
   },
   "file_extension": ".py",
   "mimetype": "text/x-python",
   "name": "python",
   "nbconvert_exporter": "python",
   "pygments_lexer": "ipython3",
   "version": "3.7.8"
  },
  "toc-autonumbering": true
 },
 "nbformat": 4,
 "nbformat_minor": 4
}
