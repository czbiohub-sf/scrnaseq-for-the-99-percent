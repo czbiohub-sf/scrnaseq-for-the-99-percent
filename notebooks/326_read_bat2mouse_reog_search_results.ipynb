{
 "cells": [
  {
   "cell_type": "markdown",
   "metadata": {},
   "source": [
    "# Imports"
   ]
  },
  {
   "cell_type": "code",
   "execution_count": 3,
   "metadata": {},
   "outputs": [],
   "source": [
    "%load_ext autoreload\n",
    "%autoreload 2\n",
    "\n",
    "import glob\n",
    "import os\n",
    "import re\n",
    "\n",
    "from joblib import Parallel, delayed\n",
    "import kmermaid_utils\n",
    "import numpy as np\n",
    "import pandas as pd\n",
    "import scanpy as sc\n",
    "import seaborn as sns\n",
    "import sig_utils\n",
    "import sourmash\n",
    "from tqdm import tqdm\n",
    "\n",
    "pd.options.display.max_colwidth = 500\n",
    "pd.options.display.max_columns = 50\n",
    "\n",
    "from sourmash_search_utils import read_and_process_sourmash_search_results"
   ]
  },
  {
   "cell_type": "markdown",
   "metadata": {},
   "source": [
    "## Constants (ksizes, scaled)"
   ]
  },
  {
   "cell_type": "code",
   "execution_count": 4,
   "metadata": {},
   "outputs": [
    {
     "name": "stdout",
     "output_type": "stream",
     "text": [
      "total 12K\n",
      "drwxr-xr-x  8 olga czb 4.0K Mar  3 14:22 \u001b[0m\u001b[01;34m.\u001b[0m/\n",
      "drwxrwxr-x 81 olga czb 8.0K Feb 28 09:02 \u001b[01;34m..\u001b[0m/\n",
      "drwxr-xr-x  4 olga czb 4.0K Feb 28 09:53 \u001b[01;34m0--mouse2mouse\u001b[0m/\n",
      "drwxr-xr-x  7 olga czb 4.0K Feb 28 16:57 \u001b[01;34m1--train-mouse\u001b[0m/\n",
      "drwxr-xr-x  8 olga czb 4.0K Mar  3 14:50 \u001b[01;34m2--test-human\u001b[0m/\n",
      "drwxr-xr-x  7 olga czb 4.0K Mar  3 14:45 \u001b[01;34m2--test-lemur\u001b[0m/\n",
      "drwxr-xr-x  7 olga czb 4.0K Feb 28 20:01 \u001b[01;34m3--test-bat\u001b[0m/\n",
      "drwxr-xr-x  5 olga czb 4.0K Feb 28 19:48 \u001b[01;34m4--test-lemur\u001b[0m/\n"
     ]
    }
   ],
   "source": [
    "ls -lha /home/olga/data_sm/immune-evolution/kmer-signatures"
   ]
  },
  {
   "cell_type": "code",
   "execution_count": 6,
   "metadata": {},
   "outputs": [],
   "source": [
    "sig_outdir_base = '/home/olga/data_sm/immune-evolution/kmer-signatures'\n",
    "\n",
    "bat_test_dir = os.path.join(sig_outdir_base, \"3--test-bat\")\n",
    "\n",
    "aggregated_results_dir = os.path.join(bat_test_dir, '4--aggregated-results')\n",
    "! mkdir -p $aggregated_results_dir"
   ]
  },
  {
   "cell_type": "code",
   "execution_count": 7,
   "metadata": {},
   "outputs": [
    {
     "data": {
      "text/plain": [
       "{'Alveolar Epithelial Type 2',\n",
       " 'B cell',\n",
       " 'Capillary',\n",
       " 'Dendritic',\n",
       " 'Fibroblast',\n",
       " 'Macrophage',\n",
       " 'Monocyte',\n",
       " 'Natural Killer T cell',\n",
       " 'Smooth Muscle and Myofibroblast',\n",
       " 'T cell'}"
      ]
     },
     "execution_count": 7,
     "metadata": {},
     "output_type": "execute_result"
    }
   ],
   "source": [
    "SHARED_CELLTYPES = set(['Alveolar Epithelial Type 2',\n",
    " 'B cell',\n",
    " 'Capillary',\n",
    " 'Dendritic',\n",
    " 'Fibroblast',\n",
    " 'Macrophage',\n",
    " 'Monocyte',\n",
    " 'Natural Killer T cell',\n",
    " 'Smooth Muscle and Myofibroblast',\n",
    " 'T cell'])\n",
    "SHARED_CELLTYPES"
   ]
  },
  {
   "cell_type": "markdown",
   "metadata": {},
   "source": [
    "## Def describe"
   ]
  },
  {
   "cell_type": "code",
   "execution_count": 10,
   "metadata": {},
   "outputs": [],
   "source": [
    "def describe(df, random=False):\n",
    "    print(df.shape)\n",
    "    print(\"--- First 5 entries ---\")\n",
    "    display(df.head())\n",
    "    if random:\n",
    "        print('--- Random subset ---')\n",
    "        display(df.sample(5))"
   ]
  },
  {
   "cell_type": "markdown",
   "metadata": {},
   "source": [
    "### Remove rogue TQDM instances"
   ]
  },
  {
   "cell_type": "code",
   "execution_count": 11,
   "metadata": {},
   "outputs": [],
   "source": [
    "def remove_rogue_tqdm():\n",
    "    import tqdm\n",
    "    try:\n",
    "        tqdm._instances.clear()\n",
    "    except AttributeError:\n",
    "        pass"
   ]
  },
  {
   "cell_type": "markdown",
   "metadata": {},
   "source": [
    "## Read one2one 5had"
   ]
  },
  {
   "cell_type": "code",
   "execution_count": 12,
   "metadata": {},
   "outputs": [
    {
     "data": {
      "text/html": [
       "<div>\n",
       "<style scoped>\n",
       "    .dataframe tbody tr th:only-of-type {\n",
       "        vertical-align: middle;\n",
       "    }\n",
       "\n",
       "    .dataframe tbody tr th {\n",
       "        vertical-align: top;\n",
       "    }\n",
       "\n",
       "    .dataframe thead th {\n",
       "        text-align: right;\n",
       "    }\n",
       "</style>\n",
       "<table border=\"1\" class=\"dataframe\">\n",
       "  <thead>\n",
       "    <tr style=\"text-align: right;\">\n",
       "      <th></th>\n",
       "      <th>index</th>\n",
       "      <th>age</th>\n",
       "      <th>cell_barcode</th>\n",
       "      <th>cell_ontology_class</th>\n",
       "      <th>cell_ontology_id</th>\n",
       "      <th>channel</th>\n",
       "      <th>free_annotation</th>\n",
       "      <th>individual</th>\n",
       "      <th>sample</th>\n",
       "      <th>sequencing_run</th>\n",
       "      <th>sex</th>\n",
       "      <th>species</th>\n",
       "      <th>species_batch</th>\n",
       "      <th>species_latin</th>\n",
       "      <th>tissue</th>\n",
       "      <th>narrow_group</th>\n",
       "      <th>broad_group</th>\n",
       "      <th>compartment_group</th>\n",
       "      <th>compartment_narrow</th>\n",
       "      <th>channel_cleaned</th>\n",
       "      <th>batch</th>\n",
       "      <th>n_genes</th>\n",
       "      <th>n_counts</th>\n",
       "      <th>species_batch_v2</th>\n",
       "      <th>compartment_broad</th>\n",
       "      <th>compartment_broad_narrow</th>\n",
       "      <th>compartment_species</th>\n",
       "      <th>compartment_narrow_species</th>\n",
       "      <th>common_individual_id</th>\n",
       "    </tr>\n",
       "    <tr>\n",
       "      <th>cell_id</th>\n",
       "      <th></th>\n",
       "      <th></th>\n",
       "      <th></th>\n",
       "      <th></th>\n",
       "      <th></th>\n",
       "      <th></th>\n",
       "      <th></th>\n",
       "      <th></th>\n",
       "      <th></th>\n",
       "      <th></th>\n",
       "      <th></th>\n",
       "      <th></th>\n",
       "      <th></th>\n",
       "      <th></th>\n",
       "      <th></th>\n",
       "      <th></th>\n",
       "      <th></th>\n",
       "      <th></th>\n",
       "      <th></th>\n",
       "      <th></th>\n",
       "      <th></th>\n",
       "      <th></th>\n",
       "      <th></th>\n",
       "      <th></th>\n",
       "      <th></th>\n",
       "      <th></th>\n",
       "      <th></th>\n",
       "      <th></th>\n",
       "      <th></th>\n",
       "    </tr>\n",
       "  </thead>\n",
       "  <tbody>\n",
       "    <tr>\n",
       "      <th>P2_1__AAACCTGAGAAACCAT</th>\n",
       "      <td>P2_1_AAACCTGAGAAACCAT-human-hlm</td>\n",
       "      <td>46y</td>\n",
       "      <td>AAACCTGAGAAACCAT</td>\n",
       "      <td>capillary endothelial cell</td>\n",
       "      <td>nan</td>\n",
       "      <td>P2_1</td>\n",
       "      <td>Capillary Aerocyte</td>\n",
       "      <td>patient_2</td>\n",
       "      <td>distal 2</td>\n",
       "      <td>180607_A00111_0155_BHFCWYDMXX</td>\n",
       "      <td>male</td>\n",
       "      <td>Human</td>\n",
       "      <td>human</td>\n",
       "      <td>Homo sapiens</td>\n",
       "      <td>Lung</td>\n",
       "      <td>Capillary Aerocyte</td>\n",
       "      <td>Capillary</td>\n",
       "      <td>endothelial</td>\n",
       "      <td>endothelial: Capillary Aerocyte</td>\n",
       "      <td>P2_1</td>\n",
       "      <td>NaN</td>\n",
       "      <td>NaN</td>\n",
       "      <td>NaN</td>\n",
       "      <td>hlm</td>\n",
       "      <td>endothelial: Capillary</td>\n",
       "      <td>endothelial: Capillary: Capillary Aerocyte</td>\n",
       "      <td>endothelial: human</td>\n",
       "      <td>endothelial: Capillary Aerocyte: human</td>\n",
       "      <td>human_patient_2</td>\n",
       "    </tr>\n",
       "    <tr>\n",
       "      <th>P2_1__AAATGCCAGATGAGAG</th>\n",
       "      <td>P2_1_AAATGCCAGATGAGAG-human-hlm</td>\n",
       "      <td>46y</td>\n",
       "      <td>AAATGCCAGATGAGAG</td>\n",
       "      <td>capillary endothelial cell</td>\n",
       "      <td>nan</td>\n",
       "      <td>P2_1</td>\n",
       "      <td>Capillary Aerocyte</td>\n",
       "      <td>patient_2</td>\n",
       "      <td>distal 2</td>\n",
       "      <td>180607_A00111_0155_BHFCWYDMXX</td>\n",
       "      <td>male</td>\n",
       "      <td>Human</td>\n",
       "      <td>human</td>\n",
       "      <td>Homo sapiens</td>\n",
       "      <td>Lung</td>\n",
       "      <td>Capillary Aerocyte</td>\n",
       "      <td>Capillary</td>\n",
       "      <td>endothelial</td>\n",
       "      <td>endothelial: Capillary Aerocyte</td>\n",
       "      <td>P2_1</td>\n",
       "      <td>NaN</td>\n",
       "      <td>NaN</td>\n",
       "      <td>NaN</td>\n",
       "      <td>hlm</td>\n",
       "      <td>endothelial: Capillary</td>\n",
       "      <td>endothelial: Capillary: Capillary Aerocyte</td>\n",
       "      <td>endothelial: human</td>\n",
       "      <td>endothelial: Capillary Aerocyte: human</td>\n",
       "      <td>human_patient_2</td>\n",
       "    </tr>\n",
       "    <tr>\n",
       "      <th>P2_1__AACACGTTCGATCCCT</th>\n",
       "      <td>P2_1_AACACGTTCGATCCCT-human-hlm</td>\n",
       "      <td>46y</td>\n",
       "      <td>AACACGTTCGATCCCT</td>\n",
       "      <td>capillary endothelial cell</td>\n",
       "      <td>nan</td>\n",
       "      <td>P2_1</td>\n",
       "      <td>Capillary Aerocyte</td>\n",
       "      <td>patient_2</td>\n",
       "      <td>distal 2</td>\n",
       "      <td>180607_A00111_0155_BHFCWYDMXX</td>\n",
       "      <td>male</td>\n",
       "      <td>Human</td>\n",
       "      <td>human</td>\n",
       "      <td>Homo sapiens</td>\n",
       "      <td>Lung</td>\n",
       "      <td>Capillary Aerocyte</td>\n",
       "      <td>Capillary</td>\n",
       "      <td>endothelial</td>\n",
       "      <td>endothelial: Capillary Aerocyte</td>\n",
       "      <td>P2_1</td>\n",
       "      <td>NaN</td>\n",
       "      <td>NaN</td>\n",
       "      <td>NaN</td>\n",
       "      <td>hlm</td>\n",
       "      <td>endothelial: Capillary</td>\n",
       "      <td>endothelial: Capillary: Capillary Aerocyte</td>\n",
       "      <td>endothelial: human</td>\n",
       "      <td>endothelial: Capillary Aerocyte: human</td>\n",
       "      <td>human_patient_2</td>\n",
       "    </tr>\n",
       "    <tr>\n",
       "      <th>P2_1__AACACGTTCGCACTCT</th>\n",
       "      <td>P2_1_AACACGTTCGCACTCT-human-hlm</td>\n",
       "      <td>46y</td>\n",
       "      <td>AACACGTTCGCACTCT</td>\n",
       "      <td>capillary endothelial cell</td>\n",
       "      <td>nan</td>\n",
       "      <td>P2_1</td>\n",
       "      <td>Capillary Aerocyte</td>\n",
       "      <td>patient_2</td>\n",
       "      <td>distal 2</td>\n",
       "      <td>180607_A00111_0155_BHFCWYDMXX</td>\n",
       "      <td>male</td>\n",
       "      <td>Human</td>\n",
       "      <td>human</td>\n",
       "      <td>Homo sapiens</td>\n",
       "      <td>Lung</td>\n",
       "      <td>Capillary Aerocyte</td>\n",
       "      <td>Capillary</td>\n",
       "      <td>endothelial</td>\n",
       "      <td>endothelial: Capillary Aerocyte</td>\n",
       "      <td>P2_1</td>\n",
       "      <td>NaN</td>\n",
       "      <td>NaN</td>\n",
       "      <td>NaN</td>\n",
       "      <td>hlm</td>\n",
       "      <td>endothelial: Capillary</td>\n",
       "      <td>endothelial: Capillary: Capillary Aerocyte</td>\n",
       "      <td>endothelial: human</td>\n",
       "      <td>endothelial: Capillary Aerocyte: human</td>\n",
       "      <td>human_patient_2</td>\n",
       "    </tr>\n",
       "    <tr>\n",
       "      <th>P2_1__AACCATGCAGCTCGCA</th>\n",
       "      <td>P2_1_AACCATGCAGCTCGCA-human-hlm</td>\n",
       "      <td>46y</td>\n",
       "      <td>AACCATGCAGCTCGCA</td>\n",
       "      <td>capillary endothelial cell</td>\n",
       "      <td>nan</td>\n",
       "      <td>P2_1</td>\n",
       "      <td>Capillary Aerocyte</td>\n",
       "      <td>patient_2</td>\n",
       "      <td>distal 2</td>\n",
       "      <td>180607_A00111_0155_BHFCWYDMXX</td>\n",
       "      <td>male</td>\n",
       "      <td>Human</td>\n",
       "      <td>human</td>\n",
       "      <td>Homo sapiens</td>\n",
       "      <td>Lung</td>\n",
       "      <td>Capillary Aerocyte</td>\n",
       "      <td>Capillary</td>\n",
       "      <td>endothelial</td>\n",
       "      <td>endothelial: Capillary Aerocyte</td>\n",
       "      <td>P2_1</td>\n",
       "      <td>NaN</td>\n",
       "      <td>NaN</td>\n",
       "      <td>NaN</td>\n",
       "      <td>hlm</td>\n",
       "      <td>endothelial: Capillary</td>\n",
       "      <td>endothelial: Capillary: Capillary Aerocyte</td>\n",
       "      <td>endothelial: human</td>\n",
       "      <td>endothelial: Capillary Aerocyte: human</td>\n",
       "      <td>human_patient_2</td>\n",
       "    </tr>\n",
       "  </tbody>\n",
       "</table>\n",
       "</div>"
      ],
      "text/plain": [
       "                                                  index  age  \\\n",
       "cell_id                                                        \n",
       "P2_1__AAACCTGAGAAACCAT  P2_1_AAACCTGAGAAACCAT-human-hlm  46y   \n",
       "P2_1__AAATGCCAGATGAGAG  P2_1_AAATGCCAGATGAGAG-human-hlm  46y   \n",
       "P2_1__AACACGTTCGATCCCT  P2_1_AACACGTTCGATCCCT-human-hlm  46y   \n",
       "P2_1__AACACGTTCGCACTCT  P2_1_AACACGTTCGCACTCT-human-hlm  46y   \n",
       "P2_1__AACCATGCAGCTCGCA  P2_1_AACCATGCAGCTCGCA-human-hlm  46y   \n",
       "\n",
       "                            cell_barcode         cell_ontology_class  \\\n",
       "cell_id                                                                \n",
       "P2_1__AAACCTGAGAAACCAT  AAACCTGAGAAACCAT  capillary endothelial cell   \n",
       "P2_1__AAATGCCAGATGAGAG  AAATGCCAGATGAGAG  capillary endothelial cell   \n",
       "P2_1__AACACGTTCGATCCCT  AACACGTTCGATCCCT  capillary endothelial cell   \n",
       "P2_1__AACACGTTCGCACTCT  AACACGTTCGCACTCT  capillary endothelial cell   \n",
       "P2_1__AACCATGCAGCTCGCA  AACCATGCAGCTCGCA  capillary endothelial cell   \n",
       "\n",
       "                       cell_ontology_id channel     free_annotation  \\\n",
       "cell_id                                                               \n",
       "P2_1__AAACCTGAGAAACCAT              nan    P2_1  Capillary Aerocyte   \n",
       "P2_1__AAATGCCAGATGAGAG              nan    P2_1  Capillary Aerocyte   \n",
       "P2_1__AACACGTTCGATCCCT              nan    P2_1  Capillary Aerocyte   \n",
       "P2_1__AACACGTTCGCACTCT              nan    P2_1  Capillary Aerocyte   \n",
       "P2_1__AACCATGCAGCTCGCA              nan    P2_1  Capillary Aerocyte   \n",
       "\n",
       "                       individual    sample                 sequencing_run  \\\n",
       "cell_id                                                                      \n",
       "P2_1__AAACCTGAGAAACCAT  patient_2  distal 2  180607_A00111_0155_BHFCWYDMXX   \n",
       "P2_1__AAATGCCAGATGAGAG  patient_2  distal 2  180607_A00111_0155_BHFCWYDMXX   \n",
       "P2_1__AACACGTTCGATCCCT  patient_2  distal 2  180607_A00111_0155_BHFCWYDMXX   \n",
       "P2_1__AACACGTTCGCACTCT  patient_2  distal 2  180607_A00111_0155_BHFCWYDMXX   \n",
       "P2_1__AACCATGCAGCTCGCA  patient_2  distal 2  180607_A00111_0155_BHFCWYDMXX   \n",
       "\n",
       "                         sex species species_batch species_latin tissue  \\\n",
       "cell_id                                                                   \n",
       "P2_1__AAACCTGAGAAACCAT  male   Human         human  Homo sapiens   Lung   \n",
       "P2_1__AAATGCCAGATGAGAG  male   Human         human  Homo sapiens   Lung   \n",
       "P2_1__AACACGTTCGATCCCT  male   Human         human  Homo sapiens   Lung   \n",
       "P2_1__AACACGTTCGCACTCT  male   Human         human  Homo sapiens   Lung   \n",
       "P2_1__AACCATGCAGCTCGCA  male   Human         human  Homo sapiens   Lung   \n",
       "\n",
       "                              narrow_group broad_group compartment_group  \\\n",
       "cell_id                                                                    \n",
       "P2_1__AAACCTGAGAAACCAT  Capillary Aerocyte   Capillary       endothelial   \n",
       "P2_1__AAATGCCAGATGAGAG  Capillary Aerocyte   Capillary       endothelial   \n",
       "P2_1__AACACGTTCGATCCCT  Capillary Aerocyte   Capillary       endothelial   \n",
       "P2_1__AACACGTTCGCACTCT  Capillary Aerocyte   Capillary       endothelial   \n",
       "P2_1__AACCATGCAGCTCGCA  Capillary Aerocyte   Capillary       endothelial   \n",
       "\n",
       "                                     compartment_narrow channel_cleaned  \\\n",
       "cell_id                                                                   \n",
       "P2_1__AAACCTGAGAAACCAT  endothelial: Capillary Aerocyte            P2_1   \n",
       "P2_1__AAATGCCAGATGAGAG  endothelial: Capillary Aerocyte            P2_1   \n",
       "P2_1__AACACGTTCGATCCCT  endothelial: Capillary Aerocyte            P2_1   \n",
       "P2_1__AACACGTTCGCACTCT  endothelial: Capillary Aerocyte            P2_1   \n",
       "P2_1__AACCATGCAGCTCGCA  endothelial: Capillary Aerocyte            P2_1   \n",
       "\n",
       "                        batch  n_genes  n_counts species_batch_v2  \\\n",
       "cell_id                                                             \n",
       "P2_1__AAACCTGAGAAACCAT    NaN      NaN       NaN              hlm   \n",
       "P2_1__AAATGCCAGATGAGAG    NaN      NaN       NaN              hlm   \n",
       "P2_1__AACACGTTCGATCCCT    NaN      NaN       NaN              hlm   \n",
       "P2_1__AACACGTTCGCACTCT    NaN      NaN       NaN              hlm   \n",
       "P2_1__AACCATGCAGCTCGCA    NaN      NaN       NaN              hlm   \n",
       "\n",
       "                             compartment_broad  \\\n",
       "cell_id                                          \n",
       "P2_1__AAACCTGAGAAACCAT  endothelial: Capillary   \n",
       "P2_1__AAATGCCAGATGAGAG  endothelial: Capillary   \n",
       "P2_1__AACACGTTCGATCCCT  endothelial: Capillary   \n",
       "P2_1__AACACGTTCGCACTCT  endothelial: Capillary   \n",
       "P2_1__AACCATGCAGCTCGCA  endothelial: Capillary   \n",
       "\n",
       "                                          compartment_broad_narrow  \\\n",
       "cell_id                                                              \n",
       "P2_1__AAACCTGAGAAACCAT  endothelial: Capillary: Capillary Aerocyte   \n",
       "P2_1__AAATGCCAGATGAGAG  endothelial: Capillary: Capillary Aerocyte   \n",
       "P2_1__AACACGTTCGATCCCT  endothelial: Capillary: Capillary Aerocyte   \n",
       "P2_1__AACACGTTCGCACTCT  endothelial: Capillary: Capillary Aerocyte   \n",
       "P2_1__AACCATGCAGCTCGCA  endothelial: Capillary: Capillary Aerocyte   \n",
       "\n",
       "                       compartment_species  \\\n",
       "cell_id                                      \n",
       "P2_1__AAACCTGAGAAACCAT  endothelial: human   \n",
       "P2_1__AAATGCCAGATGAGAG  endothelial: human   \n",
       "P2_1__AACACGTTCGATCCCT  endothelial: human   \n",
       "P2_1__AACACGTTCGCACTCT  endothelial: human   \n",
       "P2_1__AACCATGCAGCTCGCA  endothelial: human   \n",
       "\n",
       "                                    compartment_narrow_species  \\\n",
       "cell_id                                                          \n",
       "P2_1__AAACCTGAGAAACCAT  endothelial: Capillary Aerocyte: human   \n",
       "P2_1__AAATGCCAGATGAGAG  endothelial: Capillary Aerocyte: human   \n",
       "P2_1__AACACGTTCGATCCCT  endothelial: Capillary Aerocyte: human   \n",
       "P2_1__AACACGTTCGCACTCT  endothelial: Capillary Aerocyte: human   \n",
       "P2_1__AACCATGCAGCTCGCA  endothelial: Capillary Aerocyte: human   \n",
       "\n",
       "                       common_individual_id  \n",
       "cell_id                                      \n",
       "P2_1__AAACCTGAGAAACCAT      human_patient_2  \n",
       "P2_1__AAATGCCAGATGAGAG      human_patient_2  \n",
       "P2_1__AACACGTTCGATCCCT      human_patient_2  \n",
       "P2_1__AACACGTTCGCACTCT      human_patient_2  \n",
       "P2_1__AACCATGCAGCTCGCA      human_patient_2  "
      ]
     },
     "execution_count": 12,
     "metadata": {},
     "output_type": "execute_result"
    }
   ],
   "source": [
    "one2one = sc.read(\n",
    "#     \"/home/phoenix/data_sm/code/immune-evolution/h5ads/human-lemur-mouse-bat__lung_only_copy.h5ad\"\n",
    "    \"/home/olga/data_sm/immune-evolution/h5ads/human-lemur-mouse-bat/human-lemur-mouse-bat__lung_only.h5ad\"\n",
    ")\n",
    "one2one.obs = one2one.obs.reset_index().set_index('cell_id')\n",
    "\n",
    "one2one.obs.head()"
   ]
  },
  {
   "cell_type": "markdown",
   "metadata": {},
   "source": [
    "# Analyze Sourmash search"
   ]
  },
  {
   "cell_type": "markdown",
   "metadata": {},
   "source": [
    "## Functions / tools to add cell type ontologies"
   ]
  },
  {
   "cell_type": "markdown",
   "metadata": {},
   "source": [
    "## Search directory output"
   ]
  },
  {
   "cell_type": "markdown",
   "metadata": {},
   "source": [
    "### Column renamer"
   ]
  },
  {
   "cell_type": "code",
   "execution_count": 13,
   "metadata": {},
   "outputs": [],
   "source": [
    "cols = [\"cell_ontology_class\", \"narrow_group\", \"broad_group\", \"compartment_group\"]\n",
    "\n",
    "mouse_renamer = {col: f\"mouse_{col}\"  for col in cols}\n",
    "bat_renamer = {col: f\"bat_{col}\" for col in cols}"
   ]
  },
  {
   "cell_type": "markdown",
   "metadata": {},
   "source": [
    "## Read output CSVs -- Parallelized"
   ]
  },
  {
   "cell_type": "code",
   "execution_count": 11,
   "metadata": {},
   "outputs": [],
   "source": [
    "# from sourmash_search_utils import read_and_process_sourmash_search_results\n",
    "\n",
    "\n",
    "# bat_kmermaid_base = (\n",
    "#     \"/home/olga/data_sm/immune-evolution/pipeline-results/bat/kmermaid/ksize_8\"\n",
    "# )\n",
    "# bat_search_dir = os.path.join(\n",
    "#     bat_kmermaid_base,\n",
    "#     \"search_bat_in_mouse_no_ribosome_no_containment_no_dissociation__per_celltype_remove_common_hashes__remove_refseq_ribosomal\",\n",
    "# #     \"search_bat_in_mouse_no_ribosome_no_containment_no_dissociation__per_celltype_remove_common_hashes\",\n",
    "# )\n",
    "\n",
    "# total = 612648\n",
    "\n",
    "# globber = os.path.join(bat_search_dir, \"alphabet-dayhoff__ksize-39__scaled-10\", \"*.csv\")\n",
    "\n",
    "# # dfs = Parallel(n_jobs=96)(\n",
    "# #     delayed(read_and_process_sourmash_search_results)(\n",
    "# #         csv, adata=one2one, column_renamer=bat_renamer, query_species='bat'\n",
    "# #     )\n",
    "# #     for csv in tqdm(glob.iglob(globber), total=total)\n",
    "# # )\n",
    "\n",
    "# # search_results = pd.concat(dfs, ignore_index=True)\n",
    "# # print(search_results.shape)\n",
    "# # search_results.head()"
   ]
  },
  {
   "cell_type": "code",
   "execution_count": 19,
   "metadata": {},
   "outputs": [],
   "source": [
    "from sourmash_search_utils import add_ontologies"
   ]
  },
  {
   "cell_type": "markdown",
   "metadata": {},
   "source": [
    "## Read output CSVs"
   ]
  },
  {
   "cell_type": "code",
   "execution_count": 103,
   "metadata": {},
   "outputs": [
    {
     "data": {
      "text/plain": [
       "'/home/olga/data_sm/immune-evolution/kmer-signatures/3--test-bat'"
      ]
     },
     "execution_count": 103,
     "metadata": {},
     "output_type": "execute_result"
    }
   ],
   "source": [
    "bat_test_dir"
   ]
  },
  {
   "cell_type": "code",
   "execution_count": 115,
   "metadata": {},
   "outputs": [
    {
     "data": {
      "text/plain": [
       "216998"
      ]
     },
     "execution_count": 115,
     "metadata": {},
     "output_type": "execute_result"
    }
   ],
   "source": [
    "\n",
    "\n",
    "globber = os.path.join(bat_test_dir, \"3-*\", \"*\", \"*.csv\")\n",
    "\n",
    "total = sum(1 for _ in glob.iglob(globber))\n",
    "total"
   ]
  },
  {
   "cell_type": "code",
   "execution_count": 116,
   "metadata": {},
   "outputs": [
    {
     "data": {
      "text/plain": [
       "62208"
      ]
     },
     "execution_count": 116,
     "metadata": {},
     "output_type": "execute_result"
    }
   ],
   "source": [
    "dna_count = sum(1 for x in glob.iglob(globber) if \"DNA\" in x)\n",
    "dna_count"
   ]
  },
  {
   "cell_type": "code",
   "execution_count": 117,
   "metadata": {},
   "outputs": [
    {
     "name": "stderr",
     "output_type": "stream",
     "text": [
      "100%|██████████| 216998/216998 [3:20:11<00:00, 18.07it/s]   \n"
     ]
    },
    {
     "name": "stdout",
     "output_type": "stream",
     "text": [
      "(2169496, 16)\n"
     ]
    },
    {
     "data": {
      "text/html": [
       "<div>\n",
       "<style scoped>\n",
       "    .dataframe tbody tr th:only-of-type {\n",
       "        vertical-align: middle;\n",
       "    }\n",
       "\n",
       "    .dataframe tbody tr th {\n",
       "        vertical-align: top;\n",
       "    }\n",
       "\n",
       "    .dataframe thead th {\n",
       "        text-align: right;\n",
       "    }\n",
       "</style>\n",
       "<table border=\"1\" class=\"dataframe\">\n",
       "  <thead>\n",
       "    <tr style=\"text-align: right;\">\n",
       "      <th></th>\n",
       "      <th>similarity</th>\n",
       "      <th>mouse_broad_group</th>\n",
       "      <th>search_method</th>\n",
       "      <th>sketch_id</th>\n",
       "      <th>bat_cell_id</th>\n",
       "      <th>mol_or_alpha</th>\n",
       "      <th>alphabet</th>\n",
       "      <th>ksize</th>\n",
       "      <th>sketch_style</th>\n",
       "      <th>sketch_value</th>\n",
       "      <th>bat_channel</th>\n",
       "      <th>bat_cell_ontology_class</th>\n",
       "      <th>bat_narrow_group</th>\n",
       "      <th>bat_broad_group</th>\n",
       "      <th>bat_compartment_group</th>\n",
       "      <th>database_type</th>\n",
       "    </tr>\n",
       "  </thead>\n",
       "  <tbody>\n",
       "    <tr>\n",
       "      <th>0</th>\n",
       "      <td>0.098667</td>\n",
       "      <td>Dendritic</td>\n",
       "      <td>containment</td>\n",
       "      <td>alphabet-dayhoff__ksize-51__scaled-10</td>\n",
       "      <td>bat3-LU__AGTGAGGCAGGATCGA</td>\n",
       "      <td>alphabet</td>\n",
       "      <td>dayhoff</td>\n",
       "      <td>51</td>\n",
       "      <td>scaled</td>\n",
       "      <td>10</td>\n",
       "      <td>bat3-LU</td>\n",
       "      <td>nan</td>\n",
       "      <td>Alveolar Fibroblast</td>\n",
       "      <td>Fibroblast</td>\n",
       "      <td>stromal</td>\n",
       "      <td>min-5-percent-shared-kmers</td>\n",
       "    </tr>\n",
       "    <tr>\n",
       "      <th>1</th>\n",
       "      <td>0.090870</td>\n",
       "      <td>Monocyte</td>\n",
       "      <td>containment</td>\n",
       "      <td>alphabet-dayhoff__ksize-51__scaled-10</td>\n",
       "      <td>bat3-LU__AGTGAGGCAGGATCGA</td>\n",
       "      <td>alphabet</td>\n",
       "      <td>dayhoff</td>\n",
       "      <td>51</td>\n",
       "      <td>scaled</td>\n",
       "      <td>10</td>\n",
       "      <td>bat3-LU</td>\n",
       "      <td>nan</td>\n",
       "      <td>Alveolar Fibroblast</td>\n",
       "      <td>Fibroblast</td>\n",
       "      <td>stromal</td>\n",
       "      <td>min-5-percent-shared-kmers</td>\n",
       "    </tr>\n",
       "    <tr>\n",
       "      <th>2</th>\n",
       "      <td>0.086759</td>\n",
       "      <td>Alveolar Epithelial Type 2</td>\n",
       "      <td>containment</td>\n",
       "      <td>alphabet-dayhoff__ksize-51__scaled-10</td>\n",
       "      <td>bat3-LU__AGTGAGGCAGGATCGA</td>\n",
       "      <td>alphabet</td>\n",
       "      <td>dayhoff</td>\n",
       "      <td>51</td>\n",
       "      <td>scaled</td>\n",
       "      <td>10</td>\n",
       "      <td>bat3-LU</td>\n",
       "      <td>nan</td>\n",
       "      <td>Alveolar Fibroblast</td>\n",
       "      <td>Fibroblast</td>\n",
       "      <td>stromal</td>\n",
       "      <td>min-5-percent-shared-kmers</td>\n",
       "    </tr>\n",
       "    <tr>\n",
       "      <th>3</th>\n",
       "      <td>0.085909</td>\n",
       "      <td>Smooth Muscle and Myofibroblast</td>\n",
       "      <td>containment</td>\n",
       "      <td>alphabet-dayhoff__ksize-51__scaled-10</td>\n",
       "      <td>bat3-LU__AGTGAGGCAGGATCGA</td>\n",
       "      <td>alphabet</td>\n",
       "      <td>dayhoff</td>\n",
       "      <td>51</td>\n",
       "      <td>scaled</td>\n",
       "      <td>10</td>\n",
       "      <td>bat3-LU</td>\n",
       "      <td>nan</td>\n",
       "      <td>Alveolar Fibroblast</td>\n",
       "      <td>Fibroblast</td>\n",
       "      <td>stromal</td>\n",
       "      <td>min-5-percent-shared-kmers</td>\n",
       "    </tr>\n",
       "    <tr>\n",
       "      <th>4</th>\n",
       "      <td>0.081798</td>\n",
       "      <td>Fibroblast</td>\n",
       "      <td>containment</td>\n",
       "      <td>alphabet-dayhoff__ksize-51__scaled-10</td>\n",
       "      <td>bat3-LU__AGTGAGGCAGGATCGA</td>\n",
       "      <td>alphabet</td>\n",
       "      <td>dayhoff</td>\n",
       "      <td>51</td>\n",
       "      <td>scaled</td>\n",
       "      <td>10</td>\n",
       "      <td>bat3-LU</td>\n",
       "      <td>nan</td>\n",
       "      <td>Alveolar Fibroblast</td>\n",
       "      <td>Fibroblast</td>\n",
       "      <td>stromal</td>\n",
       "      <td>min-5-percent-shared-kmers</td>\n",
       "    </tr>\n",
       "  </tbody>\n",
       "</table>\n",
       "</div>"
      ],
      "text/plain": [
       "   similarity                mouse_broad_group search_method  \\\n",
       "0    0.098667                        Dendritic   containment   \n",
       "1    0.090870                         Monocyte   containment   \n",
       "2    0.086759       Alveolar Epithelial Type 2   containment   \n",
       "3    0.085909  Smooth Muscle and Myofibroblast   containment   \n",
       "4    0.081798                       Fibroblast   containment   \n",
       "\n",
       "                               sketch_id                bat_cell_id  \\\n",
       "0  alphabet-dayhoff__ksize-51__scaled-10  bat3-LU__AGTGAGGCAGGATCGA   \n",
       "1  alphabet-dayhoff__ksize-51__scaled-10  bat3-LU__AGTGAGGCAGGATCGA   \n",
       "2  alphabet-dayhoff__ksize-51__scaled-10  bat3-LU__AGTGAGGCAGGATCGA   \n",
       "3  alphabet-dayhoff__ksize-51__scaled-10  bat3-LU__AGTGAGGCAGGATCGA   \n",
       "4  alphabet-dayhoff__ksize-51__scaled-10  bat3-LU__AGTGAGGCAGGATCGA   \n",
       "\n",
       "  mol_or_alpha alphabet  ksize sketch_style  sketch_value bat_channel  \\\n",
       "0     alphabet  dayhoff     51       scaled            10     bat3-LU   \n",
       "1     alphabet  dayhoff     51       scaled            10     bat3-LU   \n",
       "2     alphabet  dayhoff     51       scaled            10     bat3-LU   \n",
       "3     alphabet  dayhoff     51       scaled            10     bat3-LU   \n",
       "4     alphabet  dayhoff     51       scaled            10     bat3-LU   \n",
       "\n",
       "  bat_cell_ontology_class     bat_narrow_group bat_broad_group  \\\n",
       "0                     nan  Alveolar Fibroblast      Fibroblast   \n",
       "1                     nan  Alveolar Fibroblast      Fibroblast   \n",
       "2                     nan  Alveolar Fibroblast      Fibroblast   \n",
       "3                     nan  Alveolar Fibroblast      Fibroblast   \n",
       "4                     nan  Alveolar Fibroblast      Fibroblast   \n",
       "\n",
       "  bat_compartment_group               database_type  \n",
       "0               stromal  min-5-percent-shared-kmers  \n",
       "1               stromal  min-5-percent-shared-kmers  \n",
       "2               stromal  min-5-percent-shared-kmers  \n",
       "3               stromal  min-5-percent-shared-kmers  \n",
       "4               stromal  min-5-percent-shared-kmers  "
      ]
     },
     "execution_count": 117,
     "metadata": {},
     "output_type": "execute_result"
    }
   ],
   "source": [
    "\n",
    "dfs = []\n",
    "\n",
    "celltype_col = \"broad_group\"\n",
    "query_species = \"bat\"\n",
    "query_cell_id_col = f\"{query_species}_cell_id\"\n",
    "query_celltype_col = f\"{query_species}_{celltype_col}\"\n",
    "\n",
    "sbt_species = \"mouse\"\n",
    "sbt_celltype_col = f\"{sbt_species}_{celltype_col}\"\n",
    "\n",
    "\n",
    "for csv in tqdm(glob.iglob(globber), total=total):\n",
    "    df = read_and_process_sourmash_search_results(\n",
    "        csv,\n",
    "        adata=one2one,\n",
    "        column_renamer=bat_renamer,\n",
    "        query_species=\"bat\",\n",
    "        shared_celltypes=SHARED_CELLTYPES,\n",
    "    )\n",
    "\n",
    "    df[\"database_type\"] = os.path.dirname(csv).split(\"/\")[-2].split(\"--\")[-1]\n",
    "\n",
    "    dfs.append(df)\n",
    "# break\n",
    "search_results = pd.concat(dfs, ignore_index=True)\n",
    "print(search_results.shape)\n",
    "search_results.head()"
   ]
  },
  {
   "cell_type": "code",
   "execution_count": 118,
   "metadata": {},
   "outputs": [],
   "source": [
    "globber = os.path.join(bat_test_dir, \"3-*\", \"*\", \"*.csv\")\n",
    "\n",
    "total = sum(1 for _ in glob.iglob(globber))"
   ]
  },
  {
   "cell_type": "code",
   "execution_count": 119,
   "metadata": {},
   "outputs": [
    {
     "data": {
      "text/plain": [
       "alphabet-protein__ksize-30__scaled-10    777329\n",
       "alphabet-dayhoff__ksize-51__scaled-10    770087\n",
       "alphabet-DNA__ksize-21__scaled-10        622080\n",
       "Name: sketch_id, dtype: int64"
      ]
     },
     "execution_count": 119,
     "metadata": {},
     "output_type": "execute_result"
    }
   ],
   "source": [
    "search_results.sketch_id.value_counts()"
   ]
  },
  {
   "cell_type": "code",
   "execution_count": 120,
   "metadata": {},
   "outputs": [
    {
     "data": {
      "text/plain": [
       "'/home/olga/data_sm/immune-evolution/kmer-signatures/3--test-bat/3-1--mouse-search-results--min-10-percent-shared-kmers/alphabet-protein__ksize-30__scaled-10/bat3-LU__TTGGCAATCGGAAATA.csv'"
      ]
     },
     "execution_count": 120,
     "metadata": {},
     "output_type": "execute_result"
    }
   ],
   "source": [
    "csv"
   ]
  },
  {
   "cell_type": "code",
   "execution_count": 121,
   "metadata": {},
   "outputs": [],
   "source": [
    "dna_csv = '/home/olga/data_sm/immune-evolution/kmer-signatures/3--test-bat/3-3--mouse-search-results--min-10-percent-shared-kmers-remove-common-kmers/alphabet-dayhoff__ksize-51__scaled-10/bat2-LU__AAACCTGAGGTACTCT.csv'\n"
   ]
  },
  {
   "cell_type": "code",
   "execution_count": 122,
   "metadata": {},
   "outputs": [
    {
     "data": {
      "text/plain": [
       "'/home/olga/data_sm/immune-evolution/kmer-signatures/3--test-bat/3-3--mouse-search-results--min-10-percent-shared-kmers-remove-common-kmers/alphabet-dayhoff__ksize-51__scaled-10/bat2-LU__AAACCTGAGGTACTCT.csv'"
      ]
     },
     "execution_count": 122,
     "metadata": {},
     "output_type": "execute_result"
    }
   ],
   "source": [
    "dna_csv"
   ]
  },
  {
   "cell_type": "code",
   "execution_count": 123,
   "metadata": {},
   "outputs": [
    {
     "data": {
      "text/plain": [
       "'/home/olga/data_sm/immune-evolution/kmer-signatures/3--test-bat/3-1--mouse-search-results--min-10-percent-shared-kmers/alphabet-protein__ksize-30__scaled-10/bat3-LU__TTGGCAATCGGAAATA.csv'"
      ]
     },
     "execution_count": 123,
     "metadata": {},
     "output_type": "execute_result"
    }
   ],
   "source": [
    "csv"
   ]
  },
  {
   "cell_type": "code",
   "execution_count": 124,
   "metadata": {},
   "outputs": [
    {
     "data": {
      "text/plain": [
       "216998"
      ]
     },
     "execution_count": 124,
     "metadata": {},
     "output_type": "execute_result"
    }
   ],
   "source": [
    "total"
   ]
  },
  {
   "cell_type": "code",
   "execution_count": null,
   "metadata": {},
   "outputs": [],
   "source": []
  },
  {
   "cell_type": "code",
   "execution_count": 125,
   "metadata": {},
   "outputs": [
    {
     "data": {
      "text/plain": [
       "similarity_abundance    1239296\n",
       "containment              930200\n",
       "Name: search_method, dtype: int64"
      ]
     },
     "execution_count": 125,
     "metadata": {},
     "output_type": "execute_result"
    }
   ],
   "source": [
    "search_results.search_method.value_counts()"
   ]
  },
  {
   "cell_type": "code",
   "execution_count": 126,
   "metadata": {},
   "outputs": [
    {
     "data": {
      "text/plain": [
       "alphabet-protein__ksize-30__scaled-10    777329\n",
       "alphabet-dayhoff__ksize-51__scaled-10    770087\n",
       "alphabet-DNA__ksize-21__scaled-10        622080\n",
       "Name: sketch_id, dtype: int64"
      ]
     },
     "execution_count": 126,
     "metadata": {},
     "output_type": "execute_result"
    }
   ],
   "source": [
    "search_results.sketch_id.value_counts()"
   ]
  },
  {
   "cell_type": "code",
   "execution_count": 127,
   "metadata": {},
   "outputs": [
    {
     "name": "stdout",
     "output_type": "stream",
     "text": [
      "(2169496, 16)\n",
      "--- First 5 entries ---\n"
     ]
    },
    {
     "data": {
      "text/html": [
       "<div>\n",
       "<style scoped>\n",
       "    .dataframe tbody tr th:only-of-type {\n",
       "        vertical-align: middle;\n",
       "    }\n",
       "\n",
       "    .dataframe tbody tr th {\n",
       "        vertical-align: top;\n",
       "    }\n",
       "\n",
       "    .dataframe thead th {\n",
       "        text-align: right;\n",
       "    }\n",
       "</style>\n",
       "<table border=\"1\" class=\"dataframe\">\n",
       "  <thead>\n",
       "    <tr style=\"text-align: right;\">\n",
       "      <th></th>\n",
       "      <th>similarity</th>\n",
       "      <th>mouse_broad_group</th>\n",
       "      <th>search_method</th>\n",
       "      <th>sketch_id</th>\n",
       "      <th>bat_cell_id</th>\n",
       "      <th>mol_or_alpha</th>\n",
       "      <th>alphabet</th>\n",
       "      <th>ksize</th>\n",
       "      <th>sketch_style</th>\n",
       "      <th>sketch_value</th>\n",
       "      <th>bat_channel</th>\n",
       "      <th>bat_cell_ontology_class</th>\n",
       "      <th>bat_narrow_group</th>\n",
       "      <th>bat_broad_group</th>\n",
       "      <th>bat_compartment_group</th>\n",
       "      <th>database_type</th>\n",
       "    </tr>\n",
       "  </thead>\n",
       "  <tbody>\n",
       "    <tr>\n",
       "      <th>0</th>\n",
       "      <td>0.098667</td>\n",
       "      <td>Dendritic</td>\n",
       "      <td>containment</td>\n",
       "      <td>alphabet-dayhoff__ksize-51__scaled-10</td>\n",
       "      <td>bat3-LU__AGTGAGGCAGGATCGA</td>\n",
       "      <td>alphabet</td>\n",
       "      <td>dayhoff</td>\n",
       "      <td>51</td>\n",
       "      <td>scaled</td>\n",
       "      <td>10</td>\n",
       "      <td>bat3-LU</td>\n",
       "      <td>nan</td>\n",
       "      <td>Alveolar Fibroblast</td>\n",
       "      <td>Fibroblast</td>\n",
       "      <td>stromal</td>\n",
       "      <td>min-5-percent-shared-kmers</td>\n",
       "    </tr>\n",
       "    <tr>\n",
       "      <th>1</th>\n",
       "      <td>0.090870</td>\n",
       "      <td>Monocyte</td>\n",
       "      <td>containment</td>\n",
       "      <td>alphabet-dayhoff__ksize-51__scaled-10</td>\n",
       "      <td>bat3-LU__AGTGAGGCAGGATCGA</td>\n",
       "      <td>alphabet</td>\n",
       "      <td>dayhoff</td>\n",
       "      <td>51</td>\n",
       "      <td>scaled</td>\n",
       "      <td>10</td>\n",
       "      <td>bat3-LU</td>\n",
       "      <td>nan</td>\n",
       "      <td>Alveolar Fibroblast</td>\n",
       "      <td>Fibroblast</td>\n",
       "      <td>stromal</td>\n",
       "      <td>min-5-percent-shared-kmers</td>\n",
       "    </tr>\n",
       "    <tr>\n",
       "      <th>2</th>\n",
       "      <td>0.086759</td>\n",
       "      <td>Alveolar Epithelial Type 2</td>\n",
       "      <td>containment</td>\n",
       "      <td>alphabet-dayhoff__ksize-51__scaled-10</td>\n",
       "      <td>bat3-LU__AGTGAGGCAGGATCGA</td>\n",
       "      <td>alphabet</td>\n",
       "      <td>dayhoff</td>\n",
       "      <td>51</td>\n",
       "      <td>scaled</td>\n",
       "      <td>10</td>\n",
       "      <td>bat3-LU</td>\n",
       "      <td>nan</td>\n",
       "      <td>Alveolar Fibroblast</td>\n",
       "      <td>Fibroblast</td>\n",
       "      <td>stromal</td>\n",
       "      <td>min-5-percent-shared-kmers</td>\n",
       "    </tr>\n",
       "    <tr>\n",
       "      <th>3</th>\n",
       "      <td>0.085909</td>\n",
       "      <td>Smooth Muscle and Myofibroblast</td>\n",
       "      <td>containment</td>\n",
       "      <td>alphabet-dayhoff__ksize-51__scaled-10</td>\n",
       "      <td>bat3-LU__AGTGAGGCAGGATCGA</td>\n",
       "      <td>alphabet</td>\n",
       "      <td>dayhoff</td>\n",
       "      <td>51</td>\n",
       "      <td>scaled</td>\n",
       "      <td>10</td>\n",
       "      <td>bat3-LU</td>\n",
       "      <td>nan</td>\n",
       "      <td>Alveolar Fibroblast</td>\n",
       "      <td>Fibroblast</td>\n",
       "      <td>stromal</td>\n",
       "      <td>min-5-percent-shared-kmers</td>\n",
       "    </tr>\n",
       "    <tr>\n",
       "      <th>4</th>\n",
       "      <td>0.081798</td>\n",
       "      <td>Fibroblast</td>\n",
       "      <td>containment</td>\n",
       "      <td>alphabet-dayhoff__ksize-51__scaled-10</td>\n",
       "      <td>bat3-LU__AGTGAGGCAGGATCGA</td>\n",
       "      <td>alphabet</td>\n",
       "      <td>dayhoff</td>\n",
       "      <td>51</td>\n",
       "      <td>scaled</td>\n",
       "      <td>10</td>\n",
       "      <td>bat3-LU</td>\n",
       "      <td>nan</td>\n",
       "      <td>Alveolar Fibroblast</td>\n",
       "      <td>Fibroblast</td>\n",
       "      <td>stromal</td>\n",
       "      <td>min-5-percent-shared-kmers</td>\n",
       "    </tr>\n",
       "  </tbody>\n",
       "</table>\n",
       "</div>"
      ],
      "text/plain": [
       "   similarity                mouse_broad_group search_method  \\\n",
       "0    0.098667                        Dendritic   containment   \n",
       "1    0.090870                         Monocyte   containment   \n",
       "2    0.086759       Alveolar Epithelial Type 2   containment   \n",
       "3    0.085909  Smooth Muscle and Myofibroblast   containment   \n",
       "4    0.081798                       Fibroblast   containment   \n",
       "\n",
       "                               sketch_id                bat_cell_id  \\\n",
       "0  alphabet-dayhoff__ksize-51__scaled-10  bat3-LU__AGTGAGGCAGGATCGA   \n",
       "1  alphabet-dayhoff__ksize-51__scaled-10  bat3-LU__AGTGAGGCAGGATCGA   \n",
       "2  alphabet-dayhoff__ksize-51__scaled-10  bat3-LU__AGTGAGGCAGGATCGA   \n",
       "3  alphabet-dayhoff__ksize-51__scaled-10  bat3-LU__AGTGAGGCAGGATCGA   \n",
       "4  alphabet-dayhoff__ksize-51__scaled-10  bat3-LU__AGTGAGGCAGGATCGA   \n",
       "\n",
       "  mol_or_alpha alphabet  ksize sketch_style  sketch_value bat_channel  \\\n",
       "0     alphabet  dayhoff     51       scaled            10     bat3-LU   \n",
       "1     alphabet  dayhoff     51       scaled            10     bat3-LU   \n",
       "2     alphabet  dayhoff     51       scaled            10     bat3-LU   \n",
       "3     alphabet  dayhoff     51       scaled            10     bat3-LU   \n",
       "4     alphabet  dayhoff     51       scaled            10     bat3-LU   \n",
       "\n",
       "  bat_cell_ontology_class     bat_narrow_group bat_broad_group  \\\n",
       "0                     nan  Alveolar Fibroblast      Fibroblast   \n",
       "1                     nan  Alveolar Fibroblast      Fibroblast   \n",
       "2                     nan  Alveolar Fibroblast      Fibroblast   \n",
       "3                     nan  Alveolar Fibroblast      Fibroblast   \n",
       "4                     nan  Alveolar Fibroblast      Fibroblast   \n",
       "\n",
       "  bat_compartment_group               database_type  \n",
       "0               stromal  min-5-percent-shared-kmers  \n",
       "1               stromal  min-5-percent-shared-kmers  \n",
       "2               stromal  min-5-percent-shared-kmers  \n",
       "3               stromal  min-5-percent-shared-kmers  \n",
       "4               stromal  min-5-percent-shared-kmers  "
      ]
     },
     "metadata": {},
     "output_type": "display_data"
    }
   ],
   "source": [
    "describe(search_results)"
   ]
  },
  {
   "cell_type": "code",
   "execution_count": 128,
   "metadata": {},
   "outputs": [
    {
     "name": "stdout",
     "output_type": "stream",
     "text": [
      "(3, 4)\n",
      "--- First 5 entries ---\n"
     ]
    },
    {
     "data": {
      "text/html": [
       "<div>\n",
       "<style scoped>\n",
       "    .dataframe tbody tr th:only-of-type {\n",
       "        vertical-align: middle;\n",
       "    }\n",
       "\n",
       "    .dataframe tbody tr th {\n",
       "        vertical-align: top;\n",
       "    }\n",
       "\n",
       "    .dataframe thead th {\n",
       "        text-align: right;\n",
       "    }\n",
       "</style>\n",
       "<table border=\"1\" class=\"dataframe\">\n",
       "  <thead>\n",
       "    <tr style=\"text-align: right;\">\n",
       "      <th></th>\n",
       "      <th>sketch_id</th>\n",
       "      <th>alphabet</th>\n",
       "      <th>ksize</th>\n",
       "      <th>n_results</th>\n",
       "    </tr>\n",
       "  </thead>\n",
       "  <tbody>\n",
       "    <tr>\n",
       "      <th>0</th>\n",
       "      <td>alphabet-DNA__ksize-21__scaled-10</td>\n",
       "      <td>DNA</td>\n",
       "      <td>21</td>\n",
       "      <td>622080</td>\n",
       "    </tr>\n",
       "    <tr>\n",
       "      <th>1</th>\n",
       "      <td>alphabet-dayhoff__ksize-51__scaled-10</td>\n",
       "      <td>dayhoff</td>\n",
       "      <td>51</td>\n",
       "      <td>770087</td>\n",
       "    </tr>\n",
       "    <tr>\n",
       "      <th>2</th>\n",
       "      <td>alphabet-protein__ksize-30__scaled-10</td>\n",
       "      <td>protein</td>\n",
       "      <td>30</td>\n",
       "      <td>777329</td>\n",
       "    </tr>\n",
       "  </tbody>\n",
       "</table>\n",
       "</div>"
      ],
      "text/plain": [
       "                               sketch_id alphabet  ksize  n_results\n",
       "0      alphabet-DNA__ksize-21__scaled-10      DNA     21     622080\n",
       "1  alphabet-dayhoff__ksize-51__scaled-10  dayhoff     51     770087\n",
       "2  alphabet-protein__ksize-30__scaled-10  protein     30     777329"
      ]
     },
     "metadata": {},
     "output_type": "display_data"
    }
   ],
   "source": [
    "n_results_per_sketch_id = search_results.groupby(['sketch_id', 'alphabet', 'ksize']).size()\n",
    "n_results_per_sketch_id.name = 'n_results'\n",
    "n_results_per_sketch_id = n_results_per_sketch_id.reset_index()\n",
    "describe(n_results_per_sketch_id)"
   ]
  },
  {
   "cell_type": "code",
   "execution_count": 129,
   "metadata": {},
   "outputs": [
    {
     "data": {
      "text/html": [
       "<div>\n",
       "<style scoped>\n",
       "    .dataframe tbody tr th:only-of-type {\n",
       "        vertical-align: middle;\n",
       "    }\n",
       "\n",
       "    .dataframe tbody tr th {\n",
       "        vertical-align: top;\n",
       "    }\n",
       "\n",
       "    .dataframe thead th {\n",
       "        text-align: right;\n",
       "    }\n",
       "</style>\n",
       "<table border=\"1\" class=\"dataframe\">\n",
       "  <thead>\n",
       "    <tr style=\"text-align: right;\">\n",
       "      <th></th>\n",
       "      <th>sketch_id</th>\n",
       "      <th>alphabet</th>\n",
       "      <th>ksize</th>\n",
       "      <th>n_results</th>\n",
       "    </tr>\n",
       "  </thead>\n",
       "  <tbody>\n",
       "    <tr>\n",
       "      <th>2</th>\n",
       "      <td>alphabet-protein__ksize-30__scaled-10</td>\n",
       "      <td>protein</td>\n",
       "      <td>30</td>\n",
       "      <td>777329</td>\n",
       "    </tr>\n",
       "    <tr>\n",
       "      <th>1</th>\n",
       "      <td>alphabet-dayhoff__ksize-51__scaled-10</td>\n",
       "      <td>dayhoff</td>\n",
       "      <td>51</td>\n",
       "      <td>770087</td>\n",
       "    </tr>\n",
       "    <tr>\n",
       "      <th>0</th>\n",
       "      <td>alphabet-DNA__ksize-21__scaled-10</td>\n",
       "      <td>DNA</td>\n",
       "      <td>21</td>\n",
       "      <td>622080</td>\n",
       "    </tr>\n",
       "  </tbody>\n",
       "</table>\n",
       "</div>"
      ],
      "text/plain": [
       "                               sketch_id alphabet  ksize  n_results\n",
       "2  alphabet-protein__ksize-30__scaled-10  protein     30     777329\n",
       "1  alphabet-dayhoff__ksize-51__scaled-10  dayhoff     51     770087\n",
       "0      alphabet-DNA__ksize-21__scaled-10      DNA     21     622080"
      ]
     },
     "execution_count": 129,
     "metadata": {},
     "output_type": "execute_result"
    }
   ],
   "source": [
    "n_results_per_sketch_id.nlargest(5, 'n_results')"
   ]
  },
  {
   "cell_type": "code",
   "execution_count": 130,
   "metadata": {},
   "outputs": [
    {
     "data": {
      "text/plain": [
       "sketch_id    alphabet-protein__ksize-30__scaled-10\n",
       "alphabet                                   protein\n",
       "ksize                                           30\n",
       "n_results                                   777329\n",
       "Name: 2, dtype: object"
      ]
     },
     "execution_count": 130,
     "metadata": {},
     "output_type": "execute_result"
    }
   ],
   "source": [
    "n_results_per_sketch_id.loc[n_results_per_sketch_id.n_results.argmax()]"
   ]
  },
  {
   "cell_type": "markdown",
   "metadata": {},
   "source": [
    "## Constants (`classification_groupby`, `celltype_col`, `query_organism`, `scoring_groupby`)"
   ]
  },
  {
   "cell_type": "code",
   "execution_count": 131,
   "metadata": {},
   "outputs": [],
   "source": [
    "celltype_col = \"broad_group\"\n",
    "sbt_organism = \"mouse\"\n",
    "query_organism = \"bat\"\n",
    "\n",
    "classification_groupby = [\n",
    "    f\"{query_organism}_cell_id\",\n",
    "    \"database_type\",\n",
    "    \"search_method\",\n",
    "    \"alphabet\",\n",
    "    \"ksize\",\n",
    "]\n",
    "\n",
    "predicted_celltype_col = f\"{sbt_organism}_{celltype_col}\"\n",
    "ground_truth_celltype_col = f\"{query_organism}_{celltype_col}\"\n",
    "\n",
    "scoring_groupby = [\"database_type\", \"search_method\", \"alphabet\", \"ksize\"]"
   ]
  },
  {
   "cell_type": "markdown",
   "metadata": {},
   "source": [
    "## Add unifying column of predicted and ground truth celltypes"
   ]
  },
  {
   "cell_type": "code",
   "execution_count": 132,
   "metadata": {},
   "outputs": [],
   "source": [
    "search_results['groundtruth_celltype'] = search_results[ground_truth_celltype_col]\n",
    "search_results['predicted_celltype'] = search_results[predicted_celltype_col]"
   ]
  },
  {
   "cell_type": "markdown",
   "metadata": {},
   "source": [
    "# write results to parquet file"
   ]
  },
  {
   "cell_type": "code",
   "execution_count": 133,
   "metadata": {},
   "outputs": [
    {
     "name": "stdout",
     "output_type": "stream",
     "text": [
      "CPU times: user 3.48 s, sys: 540 ms, total: 4.02 s\n",
      "Wall time: 4.09 s\n"
     ]
    },
    {
     "data": {
      "text/plain": [
       "'/home/olga/data_sm/immune-evolution/kmer-signatures/3--test-bat/4--aggregated-results/sourmash-search-results.parquet'"
      ]
     },
     "execution_count": 133,
     "metadata": {},
     "output_type": "execute_result"
    }
   ],
   "source": [
    "%%time\n",
    "\n",
    "parquet_fn = \"sourmash-search-results.parquet\"\n",
    "parquet = os.path.join(aggregated_results_dir, parquet_fn)\n",
    "search_results.to_parquet(parquet)\n",
    "\n",
    "parquet"
   ]
  },
  {
   "cell_type": "markdown",
   "metadata": {},
   "source": [
    "# Predict cell type with top hit"
   ]
  },
  {
   "cell_type": "markdown",
   "metadata": {},
   "source": [
    "## Get top N"
   ]
  },
  {
   "cell_type": "code",
   "execution_count": 134,
   "metadata": {},
   "outputs": [
    {
     "name": "stdout",
     "output_type": "stream",
     "text": [
      "(216998, 17)\n",
      "CPU times: user 16min 48s, sys: 39.9 s, total: 17min 28s\n",
      "Wall time: 17min 20s\n"
     ]
    },
    {
     "data": {
      "text/html": [
       "<div>\n",
       "<style scoped>\n",
       "    .dataframe tbody tr th:only-of-type {\n",
       "        vertical-align: middle;\n",
       "    }\n",
       "\n",
       "    .dataframe tbody tr th {\n",
       "        vertical-align: top;\n",
       "    }\n",
       "\n",
       "    .dataframe thead th {\n",
       "        text-align: right;\n",
       "    }\n",
       "</style>\n",
       "<table border=\"1\" class=\"dataframe\">\n",
       "  <thead>\n",
       "    <tr style=\"text-align: right;\">\n",
       "      <th></th>\n",
       "      <th>similarity</th>\n",
       "      <th>mouse_broad_group</th>\n",
       "      <th>search_method</th>\n",
       "      <th>sketch_id</th>\n",
       "      <th>mol_or_alpha</th>\n",
       "      <th>alphabet</th>\n",
       "      <th>ksize</th>\n",
       "      <th>sketch_style</th>\n",
       "      <th>sketch_value</th>\n",
       "      <th>bat_channel</th>\n",
       "      <th>bat_cell_ontology_class</th>\n",
       "      <th>bat_narrow_group</th>\n",
       "      <th>bat_broad_group</th>\n",
       "      <th>bat_compartment_group</th>\n",
       "      <th>database_type</th>\n",
       "      <th>groundtruth_celltype</th>\n",
       "      <th>predicted_celltype</th>\n",
       "    </tr>\n",
       "    <tr>\n",
       "      <th>bat_cell_id</th>\n",
       "      <th></th>\n",
       "      <th></th>\n",
       "      <th></th>\n",
       "      <th></th>\n",
       "      <th></th>\n",
       "      <th></th>\n",
       "      <th></th>\n",
       "      <th></th>\n",
       "      <th></th>\n",
       "      <th></th>\n",
       "      <th></th>\n",
       "      <th></th>\n",
       "      <th></th>\n",
       "      <th></th>\n",
       "      <th></th>\n",
       "      <th></th>\n",
       "      <th></th>\n",
       "    </tr>\n",
       "  </thead>\n",
       "  <tbody>\n",
       "    <tr>\n",
       "      <th>bat2-LU__AAACCTGAGGTACTCT</th>\n",
       "      <td>0.021308</td>\n",
       "      <td>Dendritic</td>\n",
       "      <td>containment</td>\n",
       "      <td>alphabet-DNA__ksize-21__scaled-10</td>\n",
       "      <td>alphabet</td>\n",
       "      <td>DNA</td>\n",
       "      <td>21</td>\n",
       "      <td>scaled</td>\n",
       "      <td>10</td>\n",
       "      <td>bat2-LU</td>\n",
       "      <td>nan</td>\n",
       "      <td>Macrophage</td>\n",
       "      <td>Macrophage</td>\n",
       "      <td>myeloid</td>\n",
       "      <td>min-10-percent-shared-kmers</td>\n",
       "      <td>Macrophage</td>\n",
       "      <td>Dendritic</td>\n",
       "    </tr>\n",
       "    <tr>\n",
       "      <th>bat2-LU__AAACCTGAGGTACTCT</th>\n",
       "      <td>0.056749</td>\n",
       "      <td>Dendritic</td>\n",
       "      <td>containment</td>\n",
       "      <td>alphabet-dayhoff__ksize-51__scaled-10</td>\n",
       "      <td>alphabet</td>\n",
       "      <td>dayhoff</td>\n",
       "      <td>51</td>\n",
       "      <td>scaled</td>\n",
       "      <td>10</td>\n",
       "      <td>bat2-LU</td>\n",
       "      <td>nan</td>\n",
       "      <td>Macrophage</td>\n",
       "      <td>Macrophage</td>\n",
       "      <td>myeloid</td>\n",
       "      <td>min-10-percent-shared-kmers</td>\n",
       "      <td>Macrophage</td>\n",
       "      <td>Dendritic</td>\n",
       "    </tr>\n",
       "    <tr>\n",
       "      <th>bat2-LU__AAACCTGAGGTACTCT</th>\n",
       "      <td>0.064116</td>\n",
       "      <td>Dendritic</td>\n",
       "      <td>containment</td>\n",
       "      <td>alphabet-protein__ksize-30__scaled-10</td>\n",
       "      <td>alphabet</td>\n",
       "      <td>protein</td>\n",
       "      <td>30</td>\n",
       "      <td>scaled</td>\n",
       "      <td>10</td>\n",
       "      <td>bat2-LU</td>\n",
       "      <td>nan</td>\n",
       "      <td>Macrophage</td>\n",
       "      <td>Macrophage</td>\n",
       "      <td>myeloid</td>\n",
       "      <td>min-10-percent-shared-kmers</td>\n",
       "      <td>Macrophage</td>\n",
       "      <td>Dendritic</td>\n",
       "    </tr>\n",
       "    <tr>\n",
       "      <th>bat2-LU__AAACCTGAGGTACTCT</th>\n",
       "      <td>0.060978</td>\n",
       "      <td>Macrophage</td>\n",
       "      <td>similarity_abundance</td>\n",
       "      <td>alphabet-DNA__ksize-21__scaled-10</td>\n",
       "      <td>alphabet</td>\n",
       "      <td>DNA</td>\n",
       "      <td>21</td>\n",
       "      <td>scaled</td>\n",
       "      <td>10</td>\n",
       "      <td>bat2-LU</td>\n",
       "      <td>nan</td>\n",
       "      <td>Macrophage</td>\n",
       "      <td>Macrophage</td>\n",
       "      <td>myeloid</td>\n",
       "      <td>min-10-percent-shared-kmers</td>\n",
       "      <td>Macrophage</td>\n",
       "      <td>Macrophage</td>\n",
       "    </tr>\n",
       "    <tr>\n",
       "      <th>bat2-LU__AAACCTGAGGTACTCT</th>\n",
       "      <td>0.030150</td>\n",
       "      <td>Dendritic</td>\n",
       "      <td>similarity_abundance</td>\n",
       "      <td>alphabet-dayhoff__ksize-51__scaled-10</td>\n",
       "      <td>alphabet</td>\n",
       "      <td>dayhoff</td>\n",
       "      <td>51</td>\n",
       "      <td>scaled</td>\n",
       "      <td>10</td>\n",
       "      <td>bat2-LU</td>\n",
       "      <td>nan</td>\n",
       "      <td>Macrophage</td>\n",
       "      <td>Macrophage</td>\n",
       "      <td>myeloid</td>\n",
       "      <td>min-10-percent-shared-kmers</td>\n",
       "      <td>Macrophage</td>\n",
       "      <td>Dendritic</td>\n",
       "    </tr>\n",
       "  </tbody>\n",
       "</table>\n",
       "</div>"
      ],
      "text/plain": [
       "                           similarity mouse_broad_group         search_method  \\\n",
       "bat_cell_id                                                                     \n",
       "bat2-LU__AAACCTGAGGTACTCT    0.021308         Dendritic           containment   \n",
       "bat2-LU__AAACCTGAGGTACTCT    0.056749         Dendritic           containment   \n",
       "bat2-LU__AAACCTGAGGTACTCT    0.064116         Dendritic           containment   \n",
       "bat2-LU__AAACCTGAGGTACTCT    0.060978        Macrophage  similarity_abundance   \n",
       "bat2-LU__AAACCTGAGGTACTCT    0.030150         Dendritic  similarity_abundance   \n",
       "\n",
       "                                                       sketch_id mol_or_alpha  \\\n",
       "bat_cell_id                                                                     \n",
       "bat2-LU__AAACCTGAGGTACTCT      alphabet-DNA__ksize-21__scaled-10     alphabet   \n",
       "bat2-LU__AAACCTGAGGTACTCT  alphabet-dayhoff__ksize-51__scaled-10     alphabet   \n",
       "bat2-LU__AAACCTGAGGTACTCT  alphabet-protein__ksize-30__scaled-10     alphabet   \n",
       "bat2-LU__AAACCTGAGGTACTCT      alphabet-DNA__ksize-21__scaled-10     alphabet   \n",
       "bat2-LU__AAACCTGAGGTACTCT  alphabet-dayhoff__ksize-51__scaled-10     alphabet   \n",
       "\n",
       "                          alphabet  ksize sketch_style  sketch_value  \\\n",
       "bat_cell_id                                                            \n",
       "bat2-LU__AAACCTGAGGTACTCT      DNA     21       scaled            10   \n",
       "bat2-LU__AAACCTGAGGTACTCT  dayhoff     51       scaled            10   \n",
       "bat2-LU__AAACCTGAGGTACTCT  protein     30       scaled            10   \n",
       "bat2-LU__AAACCTGAGGTACTCT      DNA     21       scaled            10   \n",
       "bat2-LU__AAACCTGAGGTACTCT  dayhoff     51       scaled            10   \n",
       "\n",
       "                          bat_channel bat_cell_ontology_class  \\\n",
       "bat_cell_id                                                     \n",
       "bat2-LU__AAACCTGAGGTACTCT     bat2-LU                     nan   \n",
       "bat2-LU__AAACCTGAGGTACTCT     bat2-LU                     nan   \n",
       "bat2-LU__AAACCTGAGGTACTCT     bat2-LU                     nan   \n",
       "bat2-LU__AAACCTGAGGTACTCT     bat2-LU                     nan   \n",
       "bat2-LU__AAACCTGAGGTACTCT     bat2-LU                     nan   \n",
       "\n",
       "                          bat_narrow_group bat_broad_group  \\\n",
       "bat_cell_id                                                  \n",
       "bat2-LU__AAACCTGAGGTACTCT       Macrophage      Macrophage   \n",
       "bat2-LU__AAACCTGAGGTACTCT       Macrophage      Macrophage   \n",
       "bat2-LU__AAACCTGAGGTACTCT       Macrophage      Macrophage   \n",
       "bat2-LU__AAACCTGAGGTACTCT       Macrophage      Macrophage   \n",
       "bat2-LU__AAACCTGAGGTACTCT       Macrophage      Macrophage   \n",
       "\n",
       "                          bat_compartment_group                database_type  \\\n",
       "bat_cell_id                                                                    \n",
       "bat2-LU__AAACCTGAGGTACTCT               myeloid  min-10-percent-shared-kmers   \n",
       "bat2-LU__AAACCTGAGGTACTCT               myeloid  min-10-percent-shared-kmers   \n",
       "bat2-LU__AAACCTGAGGTACTCT               myeloid  min-10-percent-shared-kmers   \n",
       "bat2-LU__AAACCTGAGGTACTCT               myeloid  min-10-percent-shared-kmers   \n",
       "bat2-LU__AAACCTGAGGTACTCT               myeloid  min-10-percent-shared-kmers   \n",
       "\n",
       "                          groundtruth_celltype predicted_celltype  \n",
       "bat_cell_id                                                        \n",
       "bat2-LU__AAACCTGAGGTACTCT           Macrophage          Dendritic  \n",
       "bat2-LU__AAACCTGAGGTACTCT           Macrophage          Dendritic  \n",
       "bat2-LU__AAACCTGAGGTACTCT           Macrophage          Dendritic  \n",
       "bat2-LU__AAACCTGAGGTACTCT           Macrophage         Macrophage  \n",
       "bat2-LU__AAACCTGAGGTACTCT           Macrophage          Dendritic  "
      ]
     },
     "execution_count": 134,
     "metadata": {},
     "output_type": "execute_result"
    }
   ],
   "source": [
    "%%time\n",
    "\n",
    "predicted_cells_top_hit = search_results.groupby(\n",
    "    classification_groupby, as_index=False, group_keys=False\n",
    ").apply(lambda x: x.nlargest(1, 'similarity'))\n",
    "\n",
    "predicted_cells_top_hit = predicted_cells_top_hit.set_index(f\"{query_organism}_cell_id\")\n",
    "\n",
    "print(predicted_cells_top_hit.shape)\n",
    "predicted_cells_top_hit.head()"
   ]
  },
  {
   "cell_type": "markdown",
   "metadata": {},
   "source": [
    "## Add unifying column of predicted and ground truth celltypes"
   ]
  },
  {
   "cell_type": "code",
   "execution_count": 135,
   "metadata": {},
   "outputs": [],
   "source": [
    "predicted_cells_top_hit['groundtruth_celltype'] = predicted_cells_top_hit[ground_truth_celltype_col]\n",
    "predicted_cells_top_hit['predicted_celltype'] = predicted_cells_top_hit[predicted_celltype_col]"
   ]
  },
  {
   "cell_type": "markdown",
   "metadata": {},
   "source": [
    "### Write top N to file"
   ]
  },
  {
   "cell_type": "code",
   "execution_count": 136,
   "metadata": {},
   "outputs": [
    {
     "name": "stdout",
     "output_type": "stream",
     "text": [
      "CPU times: user 886 ms, sys: 52 ms, total: 938 ms\n",
      "Wall time: 1.01 s\n"
     ]
    }
   ],
   "source": [
    "%%time\n",
    "\n",
    "parquet_fn = \"sourmash-search-results--top-hit.parquet\"\n",
    "parquet = os.path.join(aggregated_results_dir, parquet_fn)\n",
    "predicted_cells_top_hit.to_parquet(parquet)"
   ]
  },
  {
   "cell_type": "code",
   "execution_count": 137,
   "metadata": {},
   "outputs": [
    {
     "data": {
      "text/plain": [
       "'/home/olga/data_sm/immune-evolution/kmer-signatures/3--test-bat/4--aggregated-results/sourmash-search-results--top-hit.parquet'"
      ]
     },
     "execution_count": 137,
     "metadata": {},
     "output_type": "execute_result"
    }
   ],
   "source": [
    "parquet"
   ]
  },
  {
   "cell_type": "markdown",
   "metadata": {},
   "source": [
    "# Get ideal ksizes per alphabet sizes"
   ]
  },
  {
   "cell_type": "code",
   "execution_count": 74,
   "metadata": {},
   "outputs": [
    {
     "data": {
      "text/plain": [
       "dayhoff    5.447059\n",
       "protein    9.107210\n",
       "dtype: float64"
      ]
     },
     "execution_count": 74,
     "metadata": {},
     "output_type": "execute_result"
    }
   ],
   "source": [
    "alphabet_sizes = pd.Series(dict(dayhoff=6, protein=20))  # hp=2,\n",
    "np.log10(alphabet_sizes.pow(21 / 3))"
   ]
  },
  {
   "cell_type": "code",
   "execution_count": 75,
   "metadata": {},
   "outputs": [
    {
     "data": {
      "text/plain": [
       "dayhoff    17.0\n",
       "protein    10.0\n",
       "dtype: float64"
      ]
     },
     "execution_count": 75,
     "metadata": {},
     "output_type": "execute_result"
    }
   ],
   "source": [
    "ideal_ksizes = np.ceil(21 * np.log(4) / np.log(alphabet_sizes))\n",
    "ideal_ksizes"
   ]
  },
  {
   "cell_type": "code",
   "execution_count": null,
   "metadata": {},
   "outputs": [],
   "source": []
  },
  {
   "cell_type": "code",
   "execution_count": 76,
   "metadata": {},
   "outputs": [
    {
     "data": {
      "text/plain": [
       "dayhoff    13.228571\n",
       "protein    13.010300\n",
       "dtype: float64"
      ]
     },
     "execution_count": 76,
     "metadata": {},
     "output_type": "execute_result"
    }
   ],
   "source": [
    "np.log10(alphabet_sizes.pow(ideal_ksizes))"
   ]
  },
  {
   "cell_type": "code",
   "execution_count": 77,
   "metadata": {},
   "outputs": [
    {
     "data": {
      "text/plain": [
       "array([21, 24, 27, 30, 33, 36, 39, 42, 45, 48, 51, 54, 57, 60, 63, 66, 69,\n",
       "       72, 75, 78, 81, 84, 87, 90])"
      ]
     },
     "execution_count": 77,
     "metadata": {},
     "output_type": "execute_result"
    }
   ],
   "source": [
    "k_nuc_sizes = np.arange(21, 91, 3)\n",
    "k_nuc_sizes"
   ]
  },
  {
   "cell_type": "code",
   "execution_count": 78,
   "metadata": {},
   "outputs": [
    {
     "data": {
      "text/plain": [
       "array([ 7.,  8.,  9., 10., 11., 12., 13., 14., 15., 16., 17., 18., 19.,\n",
       "       20., 21., 22., 23., 24., 25., 26., 27., 28., 29., 30.])"
      ]
     },
     "execution_count": 78,
     "metadata": {},
     "output_type": "execute_result"
    }
   ],
   "source": [
    "k_aa_sizes = k_nuc_sizes/3\n",
    "k_aa_sizes"
   ]
  },
  {
   "cell_type": "code",
   "execution_count": 79,
   "metadata": {},
   "outputs": [
    {
     "name": "stdout",
     "output_type": "stream",
     "text": [
      "(24, 3)\n",
      "--- First 5 entries ---\n"
     ]
    },
    {
     "data": {
      "text/html": [
       "<div>\n",
       "<style scoped>\n",
       "    .dataframe tbody tr th:only-of-type {\n",
       "        vertical-align: middle;\n",
       "    }\n",
       "\n",
       "    .dataframe tbody tr th {\n",
       "        vertical-align: top;\n",
       "    }\n",
       "\n",
       "    .dataframe thead th {\n",
       "        text-align: right;\n",
       "    }\n",
       "</style>\n",
       "<table border=\"1\" class=\"dataframe\">\n",
       "  <thead>\n",
       "    <tr style=\"text-align: right;\">\n",
       "      <th></th>\n",
       "      <th>k_nuc</th>\n",
       "      <th>entropy</th>\n",
       "      <th>alphabet</th>\n",
       "    </tr>\n",
       "  </thead>\n",
       "  <tbody>\n",
       "    <tr>\n",
       "      <th>0</th>\n",
       "      <td>21</td>\n",
       "      <td>12.64326</td>\n",
       "      <td>dna</td>\n",
       "    </tr>\n",
       "    <tr>\n",
       "      <th>1</th>\n",
       "      <td>24</td>\n",
       "      <td>14.44944</td>\n",
       "      <td>dna</td>\n",
       "    </tr>\n",
       "    <tr>\n",
       "      <th>2</th>\n",
       "      <td>27</td>\n",
       "      <td>16.25562</td>\n",
       "      <td>dna</td>\n",
       "    </tr>\n",
       "    <tr>\n",
       "      <th>3</th>\n",
       "      <td>30</td>\n",
       "      <td>18.06180</td>\n",
       "      <td>dna</td>\n",
       "    </tr>\n",
       "    <tr>\n",
       "      <th>4</th>\n",
       "      <td>33</td>\n",
       "      <td>19.86798</td>\n",
       "      <td>dna</td>\n",
       "    </tr>\n",
       "  </tbody>\n",
       "</table>\n",
       "</div>"
      ],
      "text/plain": [
       "   k_nuc   entropy alphabet\n",
       "0     21  12.64326      dna\n",
       "1     24  14.44944      dna\n",
       "2     27  16.25562      dna\n",
       "3     30  18.06180      dna\n",
       "4     33  19.86798      dna"
      ]
     },
     "metadata": {},
     "output_type": "display_data"
    }
   ],
   "source": [
    "dna_entropy = pd.Series(k_nuc_sizes * np.log10(4), name='entropy', index=k_nuc_sizes)\n",
    "dna_entropy = dna_entropy.reset_index()\n",
    "dna_entropy = dna_entropy.rename(columns={'index': 'k_nuc'})\n",
    "dna_entropy['alphabet'] = 'dna'\n",
    "describe(dna_entropy)"
   ]
  },
  {
   "cell_type": "code",
   "execution_count": 80,
   "metadata": {},
   "outputs": [],
   "source": [
    "aa_nuc_alphabet_sizes = alphabet_sizes.copy()\n",
    "aa_nuc_alphabet_sizes['dna'] = 4"
   ]
  },
  {
   "cell_type": "code",
   "execution_count": 81,
   "metadata": {},
   "outputs": [
    {
     "name": "stdout",
     "output_type": "stream",
     "text": [
      "(72, 7)\n",
      "--- First 5 entries ---\n"
     ]
    },
    {
     "data": {
      "text/html": [
       "<div>\n",
       "<style scoped>\n",
       "    .dataframe tbody tr th:only-of-type {\n",
       "        vertical-align: middle;\n",
       "    }\n",
       "\n",
       "    .dataframe tbody tr th {\n",
       "        vertical-align: top;\n",
       "    }\n",
       "\n",
       "    .dataframe thead th {\n",
       "        text-align: right;\n",
       "    }\n",
       "</style>\n",
       "<table border=\"1\" class=\"dataframe\">\n",
       "  <thead>\n",
       "    <tr style=\"text-align: right;\">\n",
       "      <th></th>\n",
       "      <th>k_nuc</th>\n",
       "      <th>alphabet</th>\n",
       "      <th>entropy</th>\n",
       "      <th>k_aa</th>\n",
       "      <th>sigma</th>\n",
       "      <th>alphabet_type</th>\n",
       "      <th>alphabet_label</th>\n",
       "    </tr>\n",
       "  </thead>\n",
       "  <tbody>\n",
       "    <tr>\n",
       "      <th>0</th>\n",
       "      <td>21</td>\n",
       "      <td>dayhoff</td>\n",
       "      <td>5.447059</td>\n",
       "      <td>7</td>\n",
       "      <td>6</td>\n",
       "      <td>aa</td>\n",
       "      <td>dayhoff $|\\Sigma_{aa}| = 6$</td>\n",
       "    </tr>\n",
       "    <tr>\n",
       "      <th>1</th>\n",
       "      <td>21</td>\n",
       "      <td>protein</td>\n",
       "      <td>9.107210</td>\n",
       "      <td>7</td>\n",
       "      <td>20</td>\n",
       "      <td>aa</td>\n",
       "      <td>protein $|\\Sigma_{aa}| = 20$</td>\n",
       "    </tr>\n",
       "    <tr>\n",
       "      <th>2</th>\n",
       "      <td>24</td>\n",
       "      <td>dayhoff</td>\n",
       "      <td>6.225210</td>\n",
       "      <td>8</td>\n",
       "      <td>6</td>\n",
       "      <td>aa</td>\n",
       "      <td>dayhoff $|\\Sigma_{aa}| = 6$</td>\n",
       "    </tr>\n",
       "    <tr>\n",
       "      <th>3</th>\n",
       "      <td>24</td>\n",
       "      <td>protein</td>\n",
       "      <td>10.408240</td>\n",
       "      <td>8</td>\n",
       "      <td>20</td>\n",
       "      <td>aa</td>\n",
       "      <td>protein $|\\Sigma_{aa}| = 20$</td>\n",
       "    </tr>\n",
       "    <tr>\n",
       "      <th>4</th>\n",
       "      <td>27</td>\n",
       "      <td>dayhoff</td>\n",
       "      <td>7.003361</td>\n",
       "      <td>9</td>\n",
       "      <td>6</td>\n",
       "      <td>aa</td>\n",
       "      <td>dayhoff $|\\Sigma_{aa}| = 6$</td>\n",
       "    </tr>\n",
       "  </tbody>\n",
       "</table>\n",
       "</div>"
      ],
      "text/plain": [
       "   k_nuc alphabet    entropy  k_aa  sigma alphabet_type  \\\n",
       "0     21  dayhoff   5.447059     7      6            aa   \n",
       "1     21  protein   9.107210     7     20            aa   \n",
       "2     24  dayhoff   6.225210     8      6            aa   \n",
       "3     24  protein  10.408240     8     20            aa   \n",
       "4     27  dayhoff   7.003361     9      6            aa   \n",
       "\n",
       "                 alphabet_label  \n",
       "0   dayhoff $|\\Sigma_{aa}| = 6$  \n",
       "1  protein $|\\Sigma_{aa}| = 20$  \n",
       "2   dayhoff $|\\Sigma_{aa}| = 6$  \n",
       "3  protein $|\\Sigma_{aa}| = 20$  \n",
       "4   dayhoff $|\\Sigma_{aa}| = 6$  "
      ]
     },
     "metadata": {},
     "output_type": "display_data"
    }
   ],
   "source": [
    "alphabet_complexity = alphabet_sizes.to_frame().apply(\n",
    "    lambda x: pd.Series(k_aa_sizes * np.log10(x.iloc[0]), name=x.name), axis=1\n",
    ")\n",
    "alphabet_complexity.columns = k_nuc_sizes\n",
    "alphabet_complexity = alphabet_complexity.unstack().reset_index()\n",
    "alphabet_complexity = alphabet_complexity.rename(\n",
    "    columns={\"level_0\": \"k_nuc\", \"level_1\": \"alphabet\", 0: \"entropy\"}\n",
    ")\n",
    "alphabet_complexity = pd.concat([alphabet_complexity, dna_entropy])\n",
    "alphabet_complexity[\"k_aa\"] = (alphabet_complexity[\"k_nuc\"] / 3).astype(int)\n",
    "alphabet_complexity[\"sigma\"] = alphabet_complexity.alphabet.map(aa_nuc_alphabet_sizes)\n",
    "alphabet_complexity[\"alphabet_type\"] = alphabet_complexity.alphabet.map(\n",
    "    lambda x: \"nuc\" if x == \"dna\" else \"aa\"\n",
    ")\n",
    "alphabet_complexity[\"alphabet_label\"] = alphabet_complexity.apply(\n",
    "    lambda x: \"{alphabet} $|\\Sigma_{{{alphabet_type}}}| = {sigma}$\".format(**x), axis=1\n",
    ")\n",
    "describe(alphabet_complexity)"
   ]
  },
  {
   "cell_type": "code",
   "execution_count": 82,
   "metadata": {},
   "outputs": [
    {
     "data": {
      "text/plain": [
       "['dayhoff $|\\\\Sigma_{aa}| = 6$',\n",
       " 'dna $|\\\\Sigma_{nuc}| = 4$',\n",
       " 'protein $|\\\\Sigma_{aa}| = 20$']"
      ]
     },
     "execution_count": 82,
     "metadata": {},
     "output_type": "execute_result"
    }
   ],
   "source": [
    "sorted(alphabet_complexity.alphabet_label.unique())"
   ]
  },
  {
   "cell_type": "code",
   "execution_count": 83,
   "metadata": {},
   "outputs": [
    {
     "name": "stderr",
     "output_type": "stream",
     "text": [
      "/home/olga/miniconda3/envs/immune-evolution/lib/python3.7/site-packages/seaborn/categorical.py:3737: UserWarning: The `size` parameter has been renamed to `height`; please update your code.\n",
      "  warnings.warn(msg, UserWarning)\n"
     ]
    },
    {
     "ename": "IndexError",
     "evalue": "single positional indexer is out-of-bounds",
     "output_type": "error",
     "traceback": [
      "\u001b[0;31m---------------------------------------------------------------------------\u001b[0m",
      "\u001b[0;31mIndexError\u001b[0m                                Traceback (most recent call last)",
      "\u001b[0;32m<ipython-input-83-fc6c0bcb62ff>\u001b[0m in \u001b[0;36m<module>\u001b[0;34m\u001b[0m\n\u001b[1;32m     19\u001b[0m entropy_min = alphabet_complexity.query(\n\u001b[1;32m     20\u001b[0m     \u001b[0;34m'k_nuc == 63 and alphabet == \"hp\"'\u001b[0m\u001b[0;34m\u001b[0m\u001b[0;34m\u001b[0m\u001b[0m\n\u001b[0;32m---> 21\u001b[0;31m ).entropy.iloc[0]\n\u001b[0m\u001b[1;32m     22\u001b[0m entropy_max = alphabet_complexity.query(\n\u001b[1;32m     23\u001b[0m     \u001b[0;34m'k_nuc == 60 and alphabet == \"dayhoff\"'\u001b[0m\u001b[0;34m\u001b[0m\u001b[0;34m\u001b[0m\u001b[0m\n",
      "\u001b[0;32m~/miniconda3/envs/immune-evolution/lib/python3.7/site-packages/pandas/core/indexing.py\u001b[0m in \u001b[0;36m__getitem__\u001b[0;34m(self, key)\u001b[0m\n\u001b[1;32m    877\u001b[0m \u001b[0;34m\u001b[0m\u001b[0m\n\u001b[1;32m    878\u001b[0m             \u001b[0mmaybe_callable\u001b[0m \u001b[0;34m=\u001b[0m \u001b[0mcom\u001b[0m\u001b[0;34m.\u001b[0m\u001b[0mapply_if_callable\u001b[0m\u001b[0;34m(\u001b[0m\u001b[0mkey\u001b[0m\u001b[0;34m,\u001b[0m \u001b[0mself\u001b[0m\u001b[0;34m.\u001b[0m\u001b[0mobj\u001b[0m\u001b[0;34m)\u001b[0m\u001b[0;34m\u001b[0m\u001b[0;34m\u001b[0m\u001b[0m\n\u001b[0;32m--> 879\u001b[0;31m             \u001b[0;32mreturn\u001b[0m \u001b[0mself\u001b[0m\u001b[0;34m.\u001b[0m\u001b[0m_getitem_axis\u001b[0m\u001b[0;34m(\u001b[0m\u001b[0mmaybe_callable\u001b[0m\u001b[0;34m,\u001b[0m \u001b[0maxis\u001b[0m\u001b[0;34m=\u001b[0m\u001b[0maxis\u001b[0m\u001b[0;34m)\u001b[0m\u001b[0;34m\u001b[0m\u001b[0;34m\u001b[0m\u001b[0m\n\u001b[0m\u001b[1;32m    880\u001b[0m \u001b[0;34m\u001b[0m\u001b[0m\n\u001b[1;32m    881\u001b[0m     \u001b[0;32mdef\u001b[0m \u001b[0m_is_scalar_access\u001b[0m\u001b[0;34m(\u001b[0m\u001b[0mself\u001b[0m\u001b[0;34m,\u001b[0m \u001b[0mkey\u001b[0m\u001b[0;34m:\u001b[0m \u001b[0mTuple\u001b[0m\u001b[0;34m)\u001b[0m\u001b[0;34m:\u001b[0m\u001b[0;34m\u001b[0m\u001b[0;34m\u001b[0m\u001b[0m\n",
      "\u001b[0;32m~/miniconda3/envs/immune-evolution/lib/python3.7/site-packages/pandas/core/indexing.py\u001b[0m in \u001b[0;36m_getitem_axis\u001b[0;34m(self, key, axis)\u001b[0m\n\u001b[1;32m   1494\u001b[0m \u001b[0;34m\u001b[0m\u001b[0m\n\u001b[1;32m   1495\u001b[0m             \u001b[0;31m# validate the location\u001b[0m\u001b[0;34m\u001b[0m\u001b[0;34m\u001b[0m\u001b[0;34m\u001b[0m\u001b[0m\n\u001b[0;32m-> 1496\u001b[0;31m             \u001b[0mself\u001b[0m\u001b[0;34m.\u001b[0m\u001b[0m_validate_integer\u001b[0m\u001b[0;34m(\u001b[0m\u001b[0mkey\u001b[0m\u001b[0;34m,\u001b[0m \u001b[0maxis\u001b[0m\u001b[0;34m)\u001b[0m\u001b[0;34m\u001b[0m\u001b[0;34m\u001b[0m\u001b[0m\n\u001b[0m\u001b[1;32m   1497\u001b[0m \u001b[0;34m\u001b[0m\u001b[0m\n\u001b[1;32m   1498\u001b[0m             \u001b[0;32mreturn\u001b[0m \u001b[0mself\u001b[0m\u001b[0;34m.\u001b[0m\u001b[0mobj\u001b[0m\u001b[0;34m.\u001b[0m\u001b[0m_ixs\u001b[0m\u001b[0;34m(\u001b[0m\u001b[0mkey\u001b[0m\u001b[0;34m,\u001b[0m \u001b[0maxis\u001b[0m\u001b[0;34m=\u001b[0m\u001b[0maxis\u001b[0m\u001b[0;34m)\u001b[0m\u001b[0;34m\u001b[0m\u001b[0;34m\u001b[0m\u001b[0m\n",
      "\u001b[0;32m~/miniconda3/envs/immune-evolution/lib/python3.7/site-packages/pandas/core/indexing.py\u001b[0m in \u001b[0;36m_validate_integer\u001b[0;34m(self, key, axis)\u001b[0m\n\u001b[1;32m   1435\u001b[0m         \u001b[0mlen_axis\u001b[0m \u001b[0;34m=\u001b[0m \u001b[0mlen\u001b[0m\u001b[0;34m(\u001b[0m\u001b[0mself\u001b[0m\u001b[0;34m.\u001b[0m\u001b[0mobj\u001b[0m\u001b[0;34m.\u001b[0m\u001b[0m_get_axis\u001b[0m\u001b[0;34m(\u001b[0m\u001b[0maxis\u001b[0m\u001b[0;34m)\u001b[0m\u001b[0;34m)\u001b[0m\u001b[0;34m\u001b[0m\u001b[0;34m\u001b[0m\u001b[0m\n\u001b[1;32m   1436\u001b[0m         \u001b[0;32mif\u001b[0m \u001b[0mkey\u001b[0m \u001b[0;34m>=\u001b[0m \u001b[0mlen_axis\u001b[0m \u001b[0;32mor\u001b[0m \u001b[0mkey\u001b[0m \u001b[0;34m<\u001b[0m \u001b[0;34m-\u001b[0m\u001b[0mlen_axis\u001b[0m\u001b[0;34m:\u001b[0m\u001b[0;34m\u001b[0m\u001b[0;34m\u001b[0m\u001b[0m\n\u001b[0;32m-> 1437\u001b[0;31m             \u001b[0;32mraise\u001b[0m \u001b[0mIndexError\u001b[0m\u001b[0;34m(\u001b[0m\u001b[0;34m\"single positional indexer is out-of-bounds\"\u001b[0m\u001b[0;34m)\u001b[0m\u001b[0;34m\u001b[0m\u001b[0;34m\u001b[0m\u001b[0m\n\u001b[0m\u001b[1;32m   1438\u001b[0m \u001b[0;34m\u001b[0m\u001b[0m\n\u001b[1;32m   1439\u001b[0m     \u001b[0;31m# -------------------------------------------------------------------\u001b[0m\u001b[0;34m\u001b[0m\u001b[0;34m\u001b[0m\u001b[0;34m\u001b[0m\u001b[0m\n",
      "\u001b[0;31mIndexError\u001b[0m: single positional indexer is out-of-bounds"
     ]
    },
    {
     "data": {
      "image/png": "[encoded data removed]",
      "text/plain": [
       "<Figure size 501.249x216 with 1 Axes>"
      ]
     },
     "metadata": {
      "needs_background": "light"
     },
     "output_type": "display_data"
    }
   ],
   "source": [
    "alphabet_order = [\n",
    "    \"dna $|\\\\Sigma_{nuc}| = 4$\",\n",
    "    \"protein $|\\\\Sigma_{aa}| = 20$\",\n",
    "    \"dayhoff $|\\\\Sigma_{aa}| = 6$\",\n",
    "#     \"hp $|\\\\Sigma_{aa}| = 2$\",\n",
    "]\n",
    "\n",
    "g = sns.catplot(\n",
    "    x=\"k_aa\",\n",
    "    data=alphabet_complexity,\n",
    "    y=\"entropy\",\n",
    "    hue=\"alphabet_label\",\n",
    "    kind=\"point\",\n",
    "    size=3,\n",
    "    aspect=1.75,\n",
    "    hue_order=alphabet_order,\n",
    ")\n",
    "\n",
    "entropy_min = alphabet_complexity.query(\n",
    "    'k_nuc == 63 and alphabet == \"hp\"'\n",
    ").entropy.iloc[0]\n",
    "entropy_max = alphabet_complexity.query(\n",
    "    'k_nuc == 60 and alphabet == \"dayhoff\"'\n",
    ").entropy.iloc[0]\n",
    "\n",
    "for ax in g.axes.flat:\n",
    "    xmin, xmax = ax.get_xlim()\n",
    "    ax.fill_between(\n",
    "        (xmin, xmax), entropy_min, entropy_max, color=\"lightgrey\", zorder=-1\n",
    "    )\n",
    "    ax.axhline(entropy_min, color=\"grey\", linestyle=\"--\", zorder=-1)\n",
    "    ax.axhline(entropy_max, color=\"grey\", linestyle=\"--\", zorder=-1)\n",
    "\n",
    "g.set(\n",
    "    ylabel=r\"$k \\times \\log_{10} \\left( | \\Sigma | \\right)$\",\n",
    "    xlim=(xmin, xmax),\n",
    "    ylim=(0, 30),\n",
    "    xlabel=r\"$k_{aa}$ size\",\n",
    ")\n",
    "figure_folder = (\n",
    "    \"/home/olga/googledrive/ImmuneEvolution/analysis/alphabet_size_vs_complexity\"\n",
    ")\n",
    "! mkdir -p $figure_folder\n",
    "pdf = os.path.join(figure_folder, \"alphabet_size_vs_complexity.pdf\")\n",
    "g.savefig(pdf)"
   ]
  },
  {
   "cell_type": "code",
   "execution_count": null,
   "metadata": {},
   "outputs": [],
   "source": [
    "alphabet_complexity.query('k_nuc == 39')"
   ]
  },
  {
   "cell_type": "code",
   "execution_count": null,
   "metadata": {},
   "outputs": [],
   "source": [
    "alphabet_complexity.query('k_nuc == 51')"
   ]
  },
  {
   "cell_type": "code",
   "execution_count": null,
   "metadata": {},
   "outputs": [],
   "source": [
    "alphabet_complexity.query()"
   ]
  },
  {
   "cell_type": "code",
   "execution_count": null,
   "metadata": {},
   "outputs": [],
   "source": []
  }
 ],
 "metadata": {
  "kernelspec": {
   "display_name": "Python [conda env:immune-evolution]",
   "language": "python",
   "name": "conda-env-immune-evolution-py"
  },
  "language_info": {
   "codemirror_mode": {
    "name": "ipython",
    "version": 3
   },
   "file_extension": ".py",
   "mimetype": "text/x-python",
   "name": "python",
   "nbconvert_exporter": "python",
   "pygments_lexer": "ipython3",
   "version": "3.7.8"
  },
  "toc-autonumbering": true
 },
 "nbformat": 4,
 "nbformat_minor": 4
}
