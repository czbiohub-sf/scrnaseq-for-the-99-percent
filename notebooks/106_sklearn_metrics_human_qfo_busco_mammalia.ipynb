{
 "cells": [
  {
   "cell_type": "markdown",
   "metadata": {},
   "source": [
    "# Imports"
   ]
  },
  {
   "cell_type": "code",
   "execution_count": 1,
   "metadata": {},
   "outputs": [],
   "source": [
    "import itertools\n",
    "import math\n",
    "import pandas as pd\n",
    "import json\n",
    "import os\n",
    "import glob\n",
    "\n",
    "from tqdm import tqdm\n",
    "import matplotlib.pyplot as plt\n",
    "import seaborn as sns\n",
    "\n",
    "import screed\n",
    "from sklearn import metrics\n",
    "\n",
    "%matplotlib inline"
   ]
  },
  {
   "cell_type": "code",
   "execution_count": 2,
   "metadata": {},
   "outputs": [],
   "source": [
    "def describe(df):\n",
    "    print(df.shape)\n",
    "    print(\"--- First 5 entries ---\")\n",
    "    display(df.head())\n",
    "    print('--- Random subset ---')\n",
    "    display(df.sample(5))"
   ]
  },
  {
   "cell_type": "markdown",
   "metadata": {},
   "source": [
    "# Get gold standard reading frames"
   ]
  },
  {
   "cell_type": "markdown",
   "metadata": {},
   "source": [
    "## Read gold standard reading frame file"
   ]
  },
  {
   "cell_type": "code",
   "execution_count": 3,
   "metadata": {},
   "outputs": [
    {
     "data": {
      "text/plain": [
       "read1/tr|A0A024R1R8|ENSP00000491117;mate1Start:1;mate2Start:1__frame=1      True\n",
       "read1/tr|A0A024R1R8|ENSP00000491117;mate1Start:1;mate2Start:1__frame=2     False\n",
       "read1/tr|A0A024R1R8|ENSP00000491117;mate1Start:1;mate2Start:1__frame=3     False\n",
       "read1/tr|A0A024R1R8|ENSP00000491117;mate1Start:1;mate2Start:1__frame=-1    False\n",
       "read1/tr|A0A024R1R8|ENSP00000491117;mate1Start:1;mate2Start:1__frame=-2    False\n",
       "Name: is_coding, dtype: bool"
      ]
     },
     "execution_count": 3,
     "metadata": {},
     "output_type": "execute_result"
    }
   ],
   "source": [
    "parquet = '/mnt/ibm_sm/home/olga/pipeline-results/human-simulated/true_reading_frames.parquet'\n",
    "\n",
    "true_coding_frame = pd.read_parquet(parquet)\n",
    "# Create just a series (single column) from this\n",
    "true_coding_frame = true_coding_frame['is_coding']\n",
    "true_coding_frame.head()"
   ]
  },
  {
   "cell_type": "markdown",
   "metadata": {},
   "source": [
    "# Read concatenated scores for metrics"
   ]
  },
  {
   "cell_type": "markdown",
   "metadata": {},
   "source": [
    "## Human"
   ]
  },
  {
   "cell_type": "code",
   "execution_count": 4,
   "metadata": {},
   "outputs": [
    {
     "name": "stdout",
     "output_type": "stream",
     "text": [
      "(43973736, 12)\n",
      "CPU times: user 4min 43s, sys: 2min 20s, total: 7min 4s\n",
      "Wall time: 4min 30s\n"
     ]
    }
   ],
   "source": [
    "%%time\n",
    "\n",
    "\n",
    "has_stop_codon = 'Translation frame has stop codon(s)'\n",
    "\n",
    "\n",
    "parquet = '/mnt/ibm_sm/home/olga/pipeline-results/human-simulated/nf-predictorthologs--busco-mammalia-human/translate/coding_scores.parquet'\n",
    "human_scores_for_metrics = pd.read_parquet(parquet, use_threads=True)\n",
    "human_scores_for_metrics = human_scores_for_metrics.query('(category == \"Non-coding\") or (category == \"Coding\")')\n",
    "\n",
    "# human_scores_for_metrics = human_scores_for_metrics.set_index('read_id_frame')\n",
    "print(human_scores_for_metrics.shape)\n",
    "human_scores_for_metrics.head()"
   ]
  },
  {
   "cell_type": "markdown",
   "metadata": {},
   "source": [
    "### Make sure none of the jaccard in peptide db is null"
   ]
  },
  {
   "cell_type": "code",
   "execution_count": 5,
   "metadata": {},
   "outputs": [
    {
     "data": {
      "text/plain": [
       "Non-coding    30860350\n",
       "Coding        13113386\n",
       "Name: category, dtype: int64"
      ]
     },
     "execution_count": 5,
     "metadata": {},
     "output_type": "execute_result"
    }
   ],
   "source": [
    "human_scores_for_metrics.category.value_counts()"
   ]
  },
  {
   "cell_type": "code",
   "execution_count": 6,
   "metadata": {},
   "outputs": [
    {
     "data": {
      "text/html": [
       "<div>\n",
       "<style scoped>\n",
       "    .dataframe tbody tr th:only-of-type {\n",
       "        vertical-align: middle;\n",
       "    }\n",
       "\n",
       "    .dataframe tbody tr th {\n",
       "        vertical-align: top;\n",
       "    }\n",
       "\n",
       "    .dataframe thead th {\n",
       "        text-align: right;\n",
       "    }\n",
       "</style>\n",
       "<table border=\"1\" class=\"dataframe\">\n",
       "  <thead>\n",
       "    <tr style=\"text-align: right;\">\n",
       "      <th></th>\n",
       "      <th>read_id</th>\n",
       "      <th>jaccard_in_peptide_db</th>\n",
       "      <th>n_kmers</th>\n",
       "      <th>category</th>\n",
       "      <th>translation_frame</th>\n",
       "      <th>filename</th>\n",
       "      <th>alphabet</th>\n",
       "      <th>ksize</th>\n",
       "      <th>species</th>\n",
       "      <th>is_coding</th>\n",
       "      <th>protein_id</th>\n",
       "      <th>uniprot_id</th>\n",
       "    </tr>\n",
       "    <tr>\n",
       "      <th>read_id_frame</th>\n",
       "      <th></th>\n",
       "      <th></th>\n",
       "      <th></th>\n",
       "      <th></th>\n",
       "      <th></th>\n",
       "      <th></th>\n",
       "      <th></th>\n",
       "      <th></th>\n",
       "      <th></th>\n",
       "      <th></th>\n",
       "      <th></th>\n",
       "      <th></th>\n",
       "    </tr>\n",
       "  </thead>\n",
       "  <tbody>\n",
       "    <tr>\n",
       "      <th>read100001/sp|O43295|ENSP00000373347;mate1:1283-1432;mate2:1391-1540__frame=-3</th>\n",
       "      <td>read100001/sp|O43295|ENSP00000373347;mate1:128...</td>\n",
       "      <td>0.888889</td>\n",
       "      <td>36.0</td>\n",
       "      <td>Non-coding</td>\n",
       "      <td>-3</td>\n",
       "      <td>Homo_sapiens_9606_qfo_dna_01.fq.gz</td>\n",
       "      <td>protein</td>\n",
       "      <td>14</td>\n",
       "      <td>human</td>\n",
       "      <td>False</td>\n",
       "      <td>sp|O43295|ENSP00000373347</td>\n",
       "      <td>O43295</td>\n",
       "    </tr>\n",
       "    <tr>\n",
       "      <th>read100001/sp|O43295|ENSP00000373347;mate1:1283-1432;mate2:1391-1540__frame=-3</th>\n",
       "      <td>read100001/sp|O43295|ENSP00000373347;mate1:128...</td>\n",
       "      <td>0.846154</td>\n",
       "      <td>26.0</td>\n",
       "      <td>Non-coding</td>\n",
       "      <td>-3</td>\n",
       "      <td>Homo_sapiens_9606_qfo_dna_01.fq.gz</td>\n",
       "      <td>dayhoff</td>\n",
       "      <td>24</td>\n",
       "      <td>human</td>\n",
       "      <td>False</td>\n",
       "      <td>sp|O43295|ENSP00000373347</td>\n",
       "      <td>O43295</td>\n",
       "    </tr>\n",
       "    <tr>\n",
       "      <th>read100001/sp|O43295|ENSP00000373347;mate1:1283-1432;mate2:1391-1540__frame=-3</th>\n",
       "      <td>read100001/sp|O43295|ENSP00000373347;mate1:128...</td>\n",
       "      <td>0.875000</td>\n",
       "      <td>32.0</td>\n",
       "      <td>Non-coding</td>\n",
       "      <td>-3</td>\n",
       "      <td>Homo_sapiens_9606_qfo_dna_01.fq.gz</td>\n",
       "      <td>protein</td>\n",
       "      <td>18</td>\n",
       "      <td>human</td>\n",
       "      <td>False</td>\n",
       "      <td>sp|O43295|ENSP00000373347</td>\n",
       "      <td>O43295</td>\n",
       "    </tr>\n",
       "    <tr>\n",
       "      <th>read100001/sp|O43295|ENSP00000373347;mate1:1283-1432;mate2:1391-1540__frame=-3</th>\n",
       "      <td>read100001/sp|O43295|ENSP00000373347;mate1:128...</td>\n",
       "      <td>0.789474</td>\n",
       "      <td>19.0</td>\n",
       "      <td>Non-coding</td>\n",
       "      <td>-3</td>\n",
       "      <td>Homo_sapiens_9606_qfo_dna_01.fq.gz</td>\n",
       "      <td>dayhoff</td>\n",
       "      <td>31</td>\n",
       "      <td>human</td>\n",
       "      <td>False</td>\n",
       "      <td>sp|O43295|ENSP00000373347</td>\n",
       "      <td>O43295</td>\n",
       "    </tr>\n",
       "    <tr>\n",
       "      <th>read100001/sp|O43295|ENSP00000373347;mate1:1283-1432;mate2:1391-1540__frame=-3</th>\n",
       "      <td>read100001/sp|O43295|ENSP00000373347;mate1:128...</td>\n",
       "      <td>0.840000</td>\n",
       "      <td>25.0</td>\n",
       "      <td>Non-coding</td>\n",
       "      <td>-3</td>\n",
       "      <td>Homo_sapiens_9606_qfo_dna_01.fq.gz</td>\n",
       "      <td>protein</td>\n",
       "      <td>25</td>\n",
       "      <td>human</td>\n",
       "      <td>False</td>\n",
       "      <td>sp|O43295|ENSP00000373347</td>\n",
       "      <td>O43295</td>\n",
       "    </tr>\n",
       "  </tbody>\n",
       "</table>\n",
       "</div>"
      ],
      "text/plain": [
       "                                                                                              read_id  \\\n",
       "read_id_frame                                                                                           \n",
       "read100001/sp|O43295|ENSP00000373347;mate1:1283...  read100001/sp|O43295|ENSP00000373347;mate1:128...   \n",
       "read100001/sp|O43295|ENSP00000373347;mate1:1283...  read100001/sp|O43295|ENSP00000373347;mate1:128...   \n",
       "read100001/sp|O43295|ENSP00000373347;mate1:1283...  read100001/sp|O43295|ENSP00000373347;mate1:128...   \n",
       "read100001/sp|O43295|ENSP00000373347;mate1:1283...  read100001/sp|O43295|ENSP00000373347;mate1:128...   \n",
       "read100001/sp|O43295|ENSP00000373347;mate1:1283...  read100001/sp|O43295|ENSP00000373347;mate1:128...   \n",
       "\n",
       "                                                    jaccard_in_peptide_db  \\\n",
       "read_id_frame                                                               \n",
       "read100001/sp|O43295|ENSP00000373347;mate1:1283...               0.888889   \n",
       "read100001/sp|O43295|ENSP00000373347;mate1:1283...               0.846154   \n",
       "read100001/sp|O43295|ENSP00000373347;mate1:1283...               0.875000   \n",
       "read100001/sp|O43295|ENSP00000373347;mate1:1283...               0.789474   \n",
       "read100001/sp|O43295|ENSP00000373347;mate1:1283...               0.840000   \n",
       "\n",
       "                                                    n_kmers    category  \\\n",
       "read_id_frame                                                             \n",
       "read100001/sp|O43295|ENSP00000373347;mate1:1283...     36.0  Non-coding   \n",
       "read100001/sp|O43295|ENSP00000373347;mate1:1283...     26.0  Non-coding   \n",
       "read100001/sp|O43295|ENSP00000373347;mate1:1283...     32.0  Non-coding   \n",
       "read100001/sp|O43295|ENSP00000373347;mate1:1283...     19.0  Non-coding   \n",
       "read100001/sp|O43295|ENSP00000373347;mate1:1283...     25.0  Non-coding   \n",
       "\n",
       "                                                    translation_frame  \\\n",
       "read_id_frame                                                           \n",
       "read100001/sp|O43295|ENSP00000373347;mate1:1283...                 -3   \n",
       "read100001/sp|O43295|ENSP00000373347;mate1:1283...                 -3   \n",
       "read100001/sp|O43295|ENSP00000373347;mate1:1283...                 -3   \n",
       "read100001/sp|O43295|ENSP00000373347;mate1:1283...                 -3   \n",
       "read100001/sp|O43295|ENSP00000373347;mate1:1283...                 -3   \n",
       "\n",
       "                                                                              filename  \\\n",
       "read_id_frame                                                                            \n",
       "read100001/sp|O43295|ENSP00000373347;mate1:1283...  Homo_sapiens_9606_qfo_dna_01.fq.gz   \n",
       "read100001/sp|O43295|ENSP00000373347;mate1:1283...  Homo_sapiens_9606_qfo_dna_01.fq.gz   \n",
       "read100001/sp|O43295|ENSP00000373347;mate1:1283...  Homo_sapiens_9606_qfo_dna_01.fq.gz   \n",
       "read100001/sp|O43295|ENSP00000373347;mate1:1283...  Homo_sapiens_9606_qfo_dna_01.fq.gz   \n",
       "read100001/sp|O43295|ENSP00000373347;mate1:1283...  Homo_sapiens_9606_qfo_dna_01.fq.gz   \n",
       "\n",
       "                                                   alphabet  ksize species  \\\n",
       "read_id_frame                                                                \n",
       "read100001/sp|O43295|ENSP00000373347;mate1:1283...  protein     14   human   \n",
       "read100001/sp|O43295|ENSP00000373347;mate1:1283...  dayhoff     24   human   \n",
       "read100001/sp|O43295|ENSP00000373347;mate1:1283...  protein     18   human   \n",
       "read100001/sp|O43295|ENSP00000373347;mate1:1283...  dayhoff     31   human   \n",
       "read100001/sp|O43295|ENSP00000373347;mate1:1283...  protein     25   human   \n",
       "\n",
       "                                                    is_coding  \\\n",
       "read_id_frame                                                   \n",
       "read100001/sp|O43295|ENSP00000373347;mate1:1283...      False   \n",
       "read100001/sp|O43295|ENSP00000373347;mate1:1283...      False   \n",
       "read100001/sp|O43295|ENSP00000373347;mate1:1283...      False   \n",
       "read100001/sp|O43295|ENSP00000373347;mate1:1283...      False   \n",
       "read100001/sp|O43295|ENSP00000373347;mate1:1283...      False   \n",
       "\n",
       "                                                                   protein_id  \\\n",
       "read_id_frame                                                                   \n",
       "read100001/sp|O43295|ENSP00000373347;mate1:1283...  sp|O43295|ENSP00000373347   \n",
       "read100001/sp|O43295|ENSP00000373347;mate1:1283...  sp|O43295|ENSP00000373347   \n",
       "read100001/sp|O43295|ENSP00000373347;mate1:1283...  sp|O43295|ENSP00000373347   \n",
       "read100001/sp|O43295|ENSP00000373347;mate1:1283...  sp|O43295|ENSP00000373347   \n",
       "read100001/sp|O43295|ENSP00000373347;mate1:1283...  sp|O43295|ENSP00000373347   \n",
       "\n",
       "                                                   uniprot_id  \n",
       "read_id_frame                                                  \n",
       "read100001/sp|O43295|ENSP00000373347;mate1:1283...     O43295  \n",
       "read100001/sp|O43295|ENSP00000373347;mate1:1283...     O43295  \n",
       "read100001/sp|O43295|ENSP00000373347;mate1:1283...     O43295  \n",
       "read100001/sp|O43295|ENSP00000373347;mate1:1283...     O43295  \n",
       "read100001/sp|O43295|ENSP00000373347;mate1:1283...     O43295  "
      ]
     },
     "execution_count": 6,
     "metadata": {},
     "output_type": "execute_result"
    }
   ],
   "source": [
    "human_scores_for_metrics.head()"
   ]
  },
  {
   "cell_type": "markdown",
   "metadata": {},
   "source": [
    "## Mouse"
   ]
  },
  {
   "cell_type": "code",
   "execution_count": 7,
   "metadata": {},
   "outputs": [
    {
     "name": "stdout",
     "output_type": "stream",
     "text": [
      "(43973736, 12)\n",
      "CPU times: user 3min 3s, sys: 1min 52s, total: 4min 55s\n",
      "Wall time: 2min 29s\n"
     ]
    }
   ],
   "source": [
    "%%time\n",
    "\n",
    "parquet = '/mnt/ibm_sm/home/olga/pipeline-results/human-simulated/nf-predictorthologs--busco-mammalia-mouse/translate/coding_scores.parquet'\n",
    "mouse_scores_for_metrics = pd.read_parquet(parquet, use_threads=True)\n",
    "# mouse_scores_for_metrics = mouse_scores_for_metrics.set_index('read_id_frame')\n",
    "mouse_scores_for_metrics = mouse_scores_for_metrics.query('(category == \"Non-coding\") or (category == \"Coding\")')\n",
    "print(mouse_scores_for_metrics.shape)\n",
    "mouse_scores_for_metrics.head()"
   ]
  },
  {
   "cell_type": "markdown",
   "metadata": {},
   "source": [
    "### Make sure none of the jaccard in peptide db is null"
   ]
  },
  {
   "cell_type": "code",
   "execution_count": 8,
   "metadata": {},
   "outputs": [
    {
     "data": {
      "text/plain": [
       "0"
      ]
     },
     "execution_count": 8,
     "metadata": {},
     "output_type": "execute_result"
    }
   ],
   "source": [
    "mouse_scores_for_metrics.jaccard_in_peptide_db.isnull().sum()"
   ]
  },
  {
   "cell_type": "code",
   "execution_count": 9,
   "metadata": {},
   "outputs": [
    {
     "data": {
      "text/html": [
       "<div>\n",
       "<style scoped>\n",
       "    .dataframe tbody tr th:only-of-type {\n",
       "        vertical-align: middle;\n",
       "    }\n",
       "\n",
       "    .dataframe tbody tr th {\n",
       "        vertical-align: top;\n",
       "    }\n",
       "\n",
       "    .dataframe thead th {\n",
       "        text-align: right;\n",
       "    }\n",
       "</style>\n",
       "<table border=\"1\" class=\"dataframe\">\n",
       "  <thead>\n",
       "    <tr style=\"text-align: right;\">\n",
       "      <th></th>\n",
       "      <th>read_id</th>\n",
       "      <th>jaccard_in_peptide_db</th>\n",
       "      <th>n_kmers</th>\n",
       "      <th>category</th>\n",
       "      <th>translation_frame</th>\n",
       "      <th>filename</th>\n",
       "      <th>alphabet</th>\n",
       "      <th>ksize</th>\n",
       "      <th>species</th>\n",
       "      <th>is_coding</th>\n",
       "      <th>protein_id</th>\n",
       "      <th>uniprot_id</th>\n",
       "    </tr>\n",
       "    <tr>\n",
       "      <th>read_id_frame</th>\n",
       "      <th></th>\n",
       "      <th></th>\n",
       "      <th></th>\n",
       "      <th></th>\n",
       "      <th></th>\n",
       "      <th></th>\n",
       "      <th></th>\n",
       "      <th></th>\n",
       "      <th></th>\n",
       "      <th></th>\n",
       "      <th></th>\n",
       "      <th></th>\n",
       "    </tr>\n",
       "  </thead>\n",
       "  <tbody>\n",
       "    <tr>\n",
       "      <th>read100001/sp|O43295|ENSP00000373347;mate1:1283-1432;mate2:1391-1540__frame=-3</th>\n",
       "      <td>read100001/sp|O43295|ENSP00000373347;mate1:128...</td>\n",
       "      <td>0.0</td>\n",
       "      <td>36.0</td>\n",
       "      <td>Non-coding</td>\n",
       "      <td>-3</td>\n",
       "      <td>Homo_sapiens_9606_qfo_dna_01.fq.gz</td>\n",
       "      <td>protein</td>\n",
       "      <td>14</td>\n",
       "      <td>mouse</td>\n",
       "      <td>False</td>\n",
       "      <td>sp|O43295|ENSP00000373347</td>\n",
       "      <td>O43295</td>\n",
       "    </tr>\n",
       "    <tr>\n",
       "      <th>read100001/sp|O43295|ENSP00000373347;mate1:1283-1432;mate2:1391-1540__frame=-3</th>\n",
       "      <td>read100001/sp|O43295|ENSP00000373347;mate1:128...</td>\n",
       "      <td>0.0</td>\n",
       "      <td>26.0</td>\n",
       "      <td>Non-coding</td>\n",
       "      <td>-3</td>\n",
       "      <td>Homo_sapiens_9606_qfo_dna_01.fq.gz</td>\n",
       "      <td>dayhoff</td>\n",
       "      <td>24</td>\n",
       "      <td>mouse</td>\n",
       "      <td>False</td>\n",
       "      <td>sp|O43295|ENSP00000373347</td>\n",
       "      <td>O43295</td>\n",
       "    </tr>\n",
       "    <tr>\n",
       "      <th>read100001/sp|O43295|ENSP00000373347;mate1:1283-1432;mate2:1391-1540__frame=-3</th>\n",
       "      <td>read100001/sp|O43295|ENSP00000373347;mate1:128...</td>\n",
       "      <td>0.0</td>\n",
       "      <td>32.0</td>\n",
       "      <td>Non-coding</td>\n",
       "      <td>-3</td>\n",
       "      <td>Homo_sapiens_9606_qfo_dna_01.fq.gz</td>\n",
       "      <td>protein</td>\n",
       "      <td>18</td>\n",
       "      <td>mouse</td>\n",
       "      <td>False</td>\n",
       "      <td>sp|O43295|ENSP00000373347</td>\n",
       "      <td>O43295</td>\n",
       "    </tr>\n",
       "    <tr>\n",
       "      <th>read100001/sp|O43295|ENSP00000373347;mate1:1283-1432;mate2:1391-1540__frame=-3</th>\n",
       "      <td>read100001/sp|O43295|ENSP00000373347;mate1:128...</td>\n",
       "      <td>0.0</td>\n",
       "      <td>19.0</td>\n",
       "      <td>Non-coding</td>\n",
       "      <td>-3</td>\n",
       "      <td>Homo_sapiens_9606_qfo_dna_01.fq.gz</td>\n",
       "      <td>dayhoff</td>\n",
       "      <td>31</td>\n",
       "      <td>mouse</td>\n",
       "      <td>False</td>\n",
       "      <td>sp|O43295|ENSP00000373347</td>\n",
       "      <td>O43295</td>\n",
       "    </tr>\n",
       "    <tr>\n",
       "      <th>read100001/sp|O43295|ENSP00000373347;mate1:1283-1432;mate2:1391-1540__frame=-3</th>\n",
       "      <td>read100001/sp|O43295|ENSP00000373347;mate1:128...</td>\n",
       "      <td>0.0</td>\n",
       "      <td>25.0</td>\n",
       "      <td>Non-coding</td>\n",
       "      <td>-3</td>\n",
       "      <td>Homo_sapiens_9606_qfo_dna_01.fq.gz</td>\n",
       "      <td>protein</td>\n",
       "      <td>25</td>\n",
       "      <td>mouse</td>\n",
       "      <td>False</td>\n",
       "      <td>sp|O43295|ENSP00000373347</td>\n",
       "      <td>O43295</td>\n",
       "    </tr>\n",
       "  </tbody>\n",
       "</table>\n",
       "</div>"
      ],
      "text/plain": [
       "                                                                                              read_id  \\\n",
       "read_id_frame                                                                                           \n",
       "read100001/sp|O43295|ENSP00000373347;mate1:1283...  read100001/sp|O43295|ENSP00000373347;mate1:128...   \n",
       "read100001/sp|O43295|ENSP00000373347;mate1:1283...  read100001/sp|O43295|ENSP00000373347;mate1:128...   \n",
       "read100001/sp|O43295|ENSP00000373347;mate1:1283...  read100001/sp|O43295|ENSP00000373347;mate1:128...   \n",
       "read100001/sp|O43295|ENSP00000373347;mate1:1283...  read100001/sp|O43295|ENSP00000373347;mate1:128...   \n",
       "read100001/sp|O43295|ENSP00000373347;mate1:1283...  read100001/sp|O43295|ENSP00000373347;mate1:128...   \n",
       "\n",
       "                                                    jaccard_in_peptide_db  \\\n",
       "read_id_frame                                                               \n",
       "read100001/sp|O43295|ENSP00000373347;mate1:1283...                    0.0   \n",
       "read100001/sp|O43295|ENSP00000373347;mate1:1283...                    0.0   \n",
       "read100001/sp|O43295|ENSP00000373347;mate1:1283...                    0.0   \n",
       "read100001/sp|O43295|ENSP00000373347;mate1:1283...                    0.0   \n",
       "read100001/sp|O43295|ENSP00000373347;mate1:1283...                    0.0   \n",
       "\n",
       "                                                    n_kmers    category  \\\n",
       "read_id_frame                                                             \n",
       "read100001/sp|O43295|ENSP00000373347;mate1:1283...     36.0  Non-coding   \n",
       "read100001/sp|O43295|ENSP00000373347;mate1:1283...     26.0  Non-coding   \n",
       "read100001/sp|O43295|ENSP00000373347;mate1:1283...     32.0  Non-coding   \n",
       "read100001/sp|O43295|ENSP00000373347;mate1:1283...     19.0  Non-coding   \n",
       "read100001/sp|O43295|ENSP00000373347;mate1:1283...     25.0  Non-coding   \n",
       "\n",
       "                                                    translation_frame  \\\n",
       "read_id_frame                                                           \n",
       "read100001/sp|O43295|ENSP00000373347;mate1:1283...                 -3   \n",
       "read100001/sp|O43295|ENSP00000373347;mate1:1283...                 -3   \n",
       "read100001/sp|O43295|ENSP00000373347;mate1:1283...                 -3   \n",
       "read100001/sp|O43295|ENSP00000373347;mate1:1283...                 -3   \n",
       "read100001/sp|O43295|ENSP00000373347;mate1:1283...                 -3   \n",
       "\n",
       "                                                                              filename  \\\n",
       "read_id_frame                                                                            \n",
       "read100001/sp|O43295|ENSP00000373347;mate1:1283...  Homo_sapiens_9606_qfo_dna_01.fq.gz   \n",
       "read100001/sp|O43295|ENSP00000373347;mate1:1283...  Homo_sapiens_9606_qfo_dna_01.fq.gz   \n",
       "read100001/sp|O43295|ENSP00000373347;mate1:1283...  Homo_sapiens_9606_qfo_dna_01.fq.gz   \n",
       "read100001/sp|O43295|ENSP00000373347;mate1:1283...  Homo_sapiens_9606_qfo_dna_01.fq.gz   \n",
       "read100001/sp|O43295|ENSP00000373347;mate1:1283...  Homo_sapiens_9606_qfo_dna_01.fq.gz   \n",
       "\n",
       "                                                   alphabet  ksize species  \\\n",
       "read_id_frame                                                                \n",
       "read100001/sp|O43295|ENSP00000373347;mate1:1283...  protein     14   mouse   \n",
       "read100001/sp|O43295|ENSP00000373347;mate1:1283...  dayhoff     24   mouse   \n",
       "read100001/sp|O43295|ENSP00000373347;mate1:1283...  protein     18   mouse   \n",
       "read100001/sp|O43295|ENSP00000373347;mate1:1283...  dayhoff     31   mouse   \n",
       "read100001/sp|O43295|ENSP00000373347;mate1:1283...  protein     25   mouse   \n",
       "\n",
       "                                                    is_coding  \\\n",
       "read_id_frame                                                   \n",
       "read100001/sp|O43295|ENSP00000373347;mate1:1283...      False   \n",
       "read100001/sp|O43295|ENSP00000373347;mate1:1283...      False   \n",
       "read100001/sp|O43295|ENSP00000373347;mate1:1283...      False   \n",
       "read100001/sp|O43295|ENSP00000373347;mate1:1283...      False   \n",
       "read100001/sp|O43295|ENSP00000373347;mate1:1283...      False   \n",
       "\n",
       "                                                                   protein_id  \\\n",
       "read_id_frame                                                                   \n",
       "read100001/sp|O43295|ENSP00000373347;mate1:1283...  sp|O43295|ENSP00000373347   \n",
       "read100001/sp|O43295|ENSP00000373347;mate1:1283...  sp|O43295|ENSP00000373347   \n",
       "read100001/sp|O43295|ENSP00000373347;mate1:1283...  sp|O43295|ENSP00000373347   \n",
       "read100001/sp|O43295|ENSP00000373347;mate1:1283...  sp|O43295|ENSP00000373347   \n",
       "read100001/sp|O43295|ENSP00000373347;mate1:1283...  sp|O43295|ENSP00000373347   \n",
       "\n",
       "                                                   uniprot_id  \n",
       "read_id_frame                                                  \n",
       "read100001/sp|O43295|ENSP00000373347;mate1:1283...     O43295  \n",
       "read100001/sp|O43295|ENSP00000373347;mate1:1283...     O43295  \n",
       "read100001/sp|O43295|ENSP00000373347;mate1:1283...     O43295  \n",
       "read100001/sp|O43295|ENSP00000373347;mate1:1283...     O43295  \n",
       "read100001/sp|O43295|ENSP00000373347;mate1:1283...     O43295  "
      ]
     },
     "execution_count": 9,
     "metadata": {},
     "output_type": "execute_result"
    }
   ],
   "source": [
    "mouse_scores_for_metrics.head()"
   ]
  },
  {
   "cell_type": "markdown",
   "metadata": {},
   "source": [
    "## Combine mouse and human to compute scores on one"
   ]
  },
  {
   "cell_type": "code",
   "execution_count": 10,
   "metadata": {},
   "outputs": [
    {
     "name": "stdout",
     "output_type": "stream",
     "text": [
      "(87947472, 12)\n"
     ]
    },
    {
     "data": {
      "text/html": [
       "<div>\n",
       "<style scoped>\n",
       "    .dataframe tbody tr th:only-of-type {\n",
       "        vertical-align: middle;\n",
       "    }\n",
       "\n",
       "    .dataframe tbody tr th {\n",
       "        vertical-align: top;\n",
       "    }\n",
       "\n",
       "    .dataframe thead th {\n",
       "        text-align: right;\n",
       "    }\n",
       "</style>\n",
       "<table border=\"1\" class=\"dataframe\">\n",
       "  <thead>\n",
       "    <tr style=\"text-align: right;\">\n",
       "      <th></th>\n",
       "      <th>read_id</th>\n",
       "      <th>jaccard_in_peptide_db</th>\n",
       "      <th>n_kmers</th>\n",
       "      <th>category</th>\n",
       "      <th>translation_frame</th>\n",
       "      <th>filename</th>\n",
       "      <th>alphabet</th>\n",
       "      <th>ksize</th>\n",
       "      <th>species</th>\n",
       "      <th>is_coding</th>\n",
       "      <th>protein_id</th>\n",
       "      <th>uniprot_id</th>\n",
       "    </tr>\n",
       "    <tr>\n",
       "      <th>read_id_frame</th>\n",
       "      <th></th>\n",
       "      <th></th>\n",
       "      <th></th>\n",
       "      <th></th>\n",
       "      <th></th>\n",
       "      <th></th>\n",
       "      <th></th>\n",
       "      <th></th>\n",
       "      <th></th>\n",
       "      <th></th>\n",
       "      <th></th>\n",
       "      <th></th>\n",
       "    </tr>\n",
       "  </thead>\n",
       "  <tbody>\n",
       "    <tr>\n",
       "      <th>read100001/sp|O43295|ENSP00000373347;mate1:1283-1432;mate2:1391-1540__frame=-3</th>\n",
       "      <td>read100001/sp|O43295|ENSP00000373347;mate1:128...</td>\n",
       "      <td>0.888889</td>\n",
       "      <td>36.0</td>\n",
       "      <td>Non-coding</td>\n",
       "      <td>-3</td>\n",
       "      <td>Homo_sapiens_9606_qfo_dna_01.fq.gz</td>\n",
       "      <td>protein</td>\n",
       "      <td>14</td>\n",
       "      <td>human</td>\n",
       "      <td>False</td>\n",
       "      <td>sp|O43295|ENSP00000373347</td>\n",
       "      <td>O43295</td>\n",
       "    </tr>\n",
       "    <tr>\n",
       "      <th>read100001/sp|O43295|ENSP00000373347;mate1:1283-1432;mate2:1391-1540__frame=-3</th>\n",
       "      <td>read100001/sp|O43295|ENSP00000373347;mate1:128...</td>\n",
       "      <td>0.000000</td>\n",
       "      <td>27.0</td>\n",
       "      <td>Non-coding</td>\n",
       "      <td>-3</td>\n",
       "      <td>Homo_sapiens_9606_qfo_dna_01.fq.gz</td>\n",
       "      <td>dayhoff</td>\n",
       "      <td>23</td>\n",
       "      <td>mouse</td>\n",
       "      <td>False</td>\n",
       "      <td>sp|O43295|ENSP00000373347</td>\n",
       "      <td>O43295</td>\n",
       "    </tr>\n",
       "    <tr>\n",
       "      <th>read100001/sp|O43295|ENSP00000373347;mate1:1283-1432;mate2:1391-1540__frame=-3</th>\n",
       "      <td>read100001/sp|O43295|ENSP00000373347;mate1:128...</td>\n",
       "      <td>0.000000</td>\n",
       "      <td>35.0</td>\n",
       "      <td>Non-coding</td>\n",
       "      <td>-3</td>\n",
       "      <td>Homo_sapiens_9606_qfo_dna_01.fq.gz</td>\n",
       "      <td>protein</td>\n",
       "      <td>15</td>\n",
       "      <td>mouse</td>\n",
       "      <td>False</td>\n",
       "      <td>sp|O43295|ENSP00000373347</td>\n",
       "      <td>O43295</td>\n",
       "    </tr>\n",
       "    <tr>\n",
       "      <th>read100001/sp|O43295|ENSP00000373347;mate1:1283-1432;mate2:1391-1540__frame=-3</th>\n",
       "      <td>read100001/sp|O43295|ENSP00000373347;mate1:128...</td>\n",
       "      <td>0.000000</td>\n",
       "      <td>37.0</td>\n",
       "      <td>Non-coding</td>\n",
       "      <td>-3</td>\n",
       "      <td>Homo_sapiens_9606_qfo_dna_01.fq.gz</td>\n",
       "      <td>protein</td>\n",
       "      <td>13</td>\n",
       "      <td>mouse</td>\n",
       "      <td>False</td>\n",
       "      <td>sp|O43295|ENSP00000373347</td>\n",
       "      <td>O43295</td>\n",
       "    </tr>\n",
       "    <tr>\n",
       "      <th>read100001/sp|O43295|ENSP00000373347;mate1:1283-1432;mate2:1391-1540__frame=-3</th>\n",
       "      <td>read100001/sp|O43295|ENSP00000373347;mate1:128...</td>\n",
       "      <td>0.000000</td>\n",
       "      <td>31.0</td>\n",
       "      <td>Non-coding</td>\n",
       "      <td>-3</td>\n",
       "      <td>Homo_sapiens_9606_qfo_dna_01.fq.gz</td>\n",
       "      <td>dayhoff</td>\n",
       "      <td>19</td>\n",
       "      <td>mouse</td>\n",
       "      <td>False</td>\n",
       "      <td>sp|O43295|ENSP00000373347</td>\n",
       "      <td>O43295</td>\n",
       "    </tr>\n",
       "  </tbody>\n",
       "</table>\n",
       "</div>"
      ],
      "text/plain": [
       "                                                                                              read_id  \\\n",
       "read_id_frame                                                                                           \n",
       "read100001/sp|O43295|ENSP00000373347;mate1:1283...  read100001/sp|O43295|ENSP00000373347;mate1:128...   \n",
       "read100001/sp|O43295|ENSP00000373347;mate1:1283...  read100001/sp|O43295|ENSP00000373347;mate1:128...   \n",
       "read100001/sp|O43295|ENSP00000373347;mate1:1283...  read100001/sp|O43295|ENSP00000373347;mate1:128...   \n",
       "read100001/sp|O43295|ENSP00000373347;mate1:1283...  read100001/sp|O43295|ENSP00000373347;mate1:128...   \n",
       "read100001/sp|O43295|ENSP00000373347;mate1:1283...  read100001/sp|O43295|ENSP00000373347;mate1:128...   \n",
       "\n",
       "                                                    jaccard_in_peptide_db  \\\n",
       "read_id_frame                                                               \n",
       "read100001/sp|O43295|ENSP00000373347;mate1:1283...               0.888889   \n",
       "read100001/sp|O43295|ENSP00000373347;mate1:1283...               0.000000   \n",
       "read100001/sp|O43295|ENSP00000373347;mate1:1283...               0.000000   \n",
       "read100001/sp|O43295|ENSP00000373347;mate1:1283...               0.000000   \n",
       "read100001/sp|O43295|ENSP00000373347;mate1:1283...               0.000000   \n",
       "\n",
       "                                                    n_kmers    category  \\\n",
       "read_id_frame                                                             \n",
       "read100001/sp|O43295|ENSP00000373347;mate1:1283...     36.0  Non-coding   \n",
       "read100001/sp|O43295|ENSP00000373347;mate1:1283...     27.0  Non-coding   \n",
       "read100001/sp|O43295|ENSP00000373347;mate1:1283...     35.0  Non-coding   \n",
       "read100001/sp|O43295|ENSP00000373347;mate1:1283...     37.0  Non-coding   \n",
       "read100001/sp|O43295|ENSP00000373347;mate1:1283...     31.0  Non-coding   \n",
       "\n",
       "                                                    translation_frame  \\\n",
       "read_id_frame                                                           \n",
       "read100001/sp|O43295|ENSP00000373347;mate1:1283...                 -3   \n",
       "read100001/sp|O43295|ENSP00000373347;mate1:1283...                 -3   \n",
       "read100001/sp|O43295|ENSP00000373347;mate1:1283...                 -3   \n",
       "read100001/sp|O43295|ENSP00000373347;mate1:1283...                 -3   \n",
       "read100001/sp|O43295|ENSP00000373347;mate1:1283...                 -3   \n",
       "\n",
       "                                                                              filename  \\\n",
       "read_id_frame                                                                            \n",
       "read100001/sp|O43295|ENSP00000373347;mate1:1283...  Homo_sapiens_9606_qfo_dna_01.fq.gz   \n",
       "read100001/sp|O43295|ENSP00000373347;mate1:1283...  Homo_sapiens_9606_qfo_dna_01.fq.gz   \n",
       "read100001/sp|O43295|ENSP00000373347;mate1:1283...  Homo_sapiens_9606_qfo_dna_01.fq.gz   \n",
       "read100001/sp|O43295|ENSP00000373347;mate1:1283...  Homo_sapiens_9606_qfo_dna_01.fq.gz   \n",
       "read100001/sp|O43295|ENSP00000373347;mate1:1283...  Homo_sapiens_9606_qfo_dna_01.fq.gz   \n",
       "\n",
       "                                                   alphabet  ksize species  \\\n",
       "read_id_frame                                                                \n",
       "read100001/sp|O43295|ENSP00000373347;mate1:1283...  protein     14   human   \n",
       "read100001/sp|O43295|ENSP00000373347;mate1:1283...  dayhoff     23   mouse   \n",
       "read100001/sp|O43295|ENSP00000373347;mate1:1283...  protein     15   mouse   \n",
       "read100001/sp|O43295|ENSP00000373347;mate1:1283...  protein     13   mouse   \n",
       "read100001/sp|O43295|ENSP00000373347;mate1:1283...  dayhoff     19   mouse   \n",
       "\n",
       "                                                    is_coding  \\\n",
       "read_id_frame                                                   \n",
       "read100001/sp|O43295|ENSP00000373347;mate1:1283...      False   \n",
       "read100001/sp|O43295|ENSP00000373347;mate1:1283...      False   \n",
       "read100001/sp|O43295|ENSP00000373347;mate1:1283...      False   \n",
       "read100001/sp|O43295|ENSP00000373347;mate1:1283...      False   \n",
       "read100001/sp|O43295|ENSP00000373347;mate1:1283...      False   \n",
       "\n",
       "                                                                   protein_id  \\\n",
       "read_id_frame                                                                   \n",
       "read100001/sp|O43295|ENSP00000373347;mate1:1283...  sp|O43295|ENSP00000373347   \n",
       "read100001/sp|O43295|ENSP00000373347;mate1:1283...  sp|O43295|ENSP00000373347   \n",
       "read100001/sp|O43295|ENSP00000373347;mate1:1283...  sp|O43295|ENSP00000373347   \n",
       "read100001/sp|O43295|ENSP00000373347;mate1:1283...  sp|O43295|ENSP00000373347   \n",
       "read100001/sp|O43295|ENSP00000373347;mate1:1283...  sp|O43295|ENSP00000373347   \n",
       "\n",
       "                                                   uniprot_id  \n",
       "read_id_frame                                                  \n",
       "read100001/sp|O43295|ENSP00000373347;mate1:1283...     O43295  \n",
       "read100001/sp|O43295|ENSP00000373347;mate1:1283...     O43295  \n",
       "read100001/sp|O43295|ENSP00000373347;mate1:1283...     O43295  \n",
       "read100001/sp|O43295|ENSP00000373347;mate1:1283...     O43295  \n",
       "read100001/sp|O43295|ENSP00000373347;mate1:1283...     O43295  "
      ]
     },
     "execution_count": 10,
     "metadata": {},
     "output_type": "execute_result"
    }
   ],
   "source": [
    "combined_scores = pd.concat([human_scores_for_metrics, mouse_scores_for_metrics])\n",
    "combined_scores = combined_scores.sort_index()\n",
    "print(combined_scores.shape)\n",
    "combined_scores.head()"
   ]
  },
  {
   "cell_type": "markdown",
   "metadata": {},
   "source": [
    "# Compute accuracy/F1 scores"
   ]
  },
  {
   "cell_type": "markdown",
   "metadata": {},
   "source": [
    "## Human F1, accuracy, etc...scores"
   ]
  },
  {
   "cell_type": "code",
   "execution_count": 11,
   "metadata": {},
   "outputs": [
    {
     "ename": "NameError",
     "evalue": "name 'sklearn' is not defined",
     "output_type": "error",
     "traceback": [
      "\u001b[0;31m---------------------------------------------------------------------------\u001b[0m",
      "\u001b[0;31mNameError\u001b[0m                                 Traceback (most recent call last)",
      "\u001b[0;32m<timed exec>\u001b[0m in \u001b[0;36m<module>\u001b[0;34m()\u001b[0m\n",
      "\u001b[0;31mNameError\u001b[0m: name 'sklearn' is not defined"
     ]
    }
   ],
   "source": [
    "%%time\n",
    "\n",
    "score_names = 'accuracy', 'f1', 'jaccard', 'precision', 'recall',  \n",
    "\n",
    "\n",
    "metrics = {\n",
    "    'f1_score': sklearn.metrics.f1_score,\n",
    "    'accuracy_score': sklearn.metrics.accuracy_score,\n",
    "    'jaccard_score': sklearn.metrics.jaccard_score,\n",
    "    'precision_score': sklearn.metrics.precision_score,\n",
    "    'recall_score': sklearn.metrics.recall_score,\n",
    "}\n",
    "\n",
    "def score_coding_metrics(coding_results, true_coding_frame=true_coding_frame, metrics=metrics):\n",
    "\n",
    "    dfs = []\n",
    "    for score_name, scorer in tqdm(metrics.items()):\n",
    "        print(f'score_name: {score_name}')\n",
    "    #     scorer = sklearn.metrics.get_scorer(score_name)\n",
    "\n",
    "        scores = coding_results.groupby(['species', 'alphabet', 'ksize']).is_coding.apply(\n",
    "            lambda x: scorer(true_coding_frame[x.index], x))\n",
    "\n",
    "        scores.name = 'score_value'\n",
    "        scores_df = scores.reset_index()\n",
    "        scores_df['score_name'] = score_name\n",
    "        dfs.append(scores_df)\n",
    "    metrics_df = pd.concat(dfs)\n",
    "    return metrics_df\n",
    "\n",
    "combined_metrics = score_coding_metrics(combined_scores)\n",
    "print(combined_metrics.shape)\n",
    "combined_metrics.head()"
   ]
  },
  {
   "cell_type": "markdown",
   "metadata": {},
   "source": [
    "### Write human metrics to csv!!!"
   ]
  },
  {
   "cell_type": "code",
   "execution_count": 12,
   "metadata": {},
   "outputs": [
    {
     "ename": "NameError",
     "evalue": "name 'combined_metrics' is not defined",
     "output_type": "error",
     "traceback": [
      "\u001b[0;31m---------------------------------------------------------------------------\u001b[0m",
      "\u001b[0;31mNameError\u001b[0m                                 Traceback (most recent call last)",
      "\u001b[0;32m<ipython-input-12-5750570ef4e2>\u001b[0m in \u001b[0;36m<module>\u001b[0;34m()\u001b[0m\n\u001b[1;32m      1\u001b[0m \u001b[0mcsv\u001b[0m \u001b[0;34m=\u001b[0m \u001b[0;34m'/mnt/ibm_sm/home/olga/pipeline-results/human-simulated/human_mouse__coding_scores_metrics.csv'\u001b[0m\u001b[0;34m\u001b[0m\u001b[0;34m\u001b[0m\u001b[0m\n\u001b[0;32m----> 2\u001b[0;31m \u001b[0mcombined_metrics\u001b[0m\u001b[0;34m.\u001b[0m\u001b[0mto_csv\u001b[0m\u001b[0;34m(\u001b[0m\u001b[0mcsv\u001b[0m\u001b[0;34m,\u001b[0m \u001b[0mindex\u001b[0m\u001b[0;34m=\u001b[0m\u001b[0;32mFalse\u001b[0m\u001b[0;34m)\u001b[0m\u001b[0;34m\u001b[0m\u001b[0;34m\u001b[0m\u001b[0m\n\u001b[0m",
      "\u001b[0;31mNameError\u001b[0m: name 'combined_metrics' is not defined"
     ]
    }
   ],
   "source": [
    "csv = '/mnt/ibm_sm/home/olga/pipeline-results/human-simulated/human_mouse__coding_scores_metrics.csv'\n",
    "combined_metrics.to_csv(csv, index=False)"
   ]
  },
  {
   "cell_type": "markdown",
   "metadata": {},
   "source": [
    "### Plot metrics"
   ]
  },
  {
   "cell_type": "code",
   "execution_count": null,
   "metadata": {},
   "outputs": [],
   "source": [
    "sns.catplot(x='ksize', y='score_value', hue='alphabet', col='score_name', \n",
    "            data=combined_metrics, kind='point', col_wrap=3)"
   ]
  },
  {
   "cell_type": "markdown",
   "metadata": {},
   "source": [
    "## Compute ROC AUC"
   ]
  },
  {
   "cell_type": "markdown",
   "metadata": {},
   "source": [
    "### Human"
   ]
  },
  {
   "cell_type": "code",
   "execution_count": null,
   "metadata": {},
   "outputs": [],
   "source": [
    "%%time\n",
    "\n",
    "def compute_roc_auc(coding_results, true_coding_frame=true_coding_frame):\n",
    "    scores = coding_results.groupby(['species', 'alphabet', 'ksize']).jaccard_in_peptide_db.apply(\n",
    "        lambda x: sklearn.metrics.roc_auc_score(true_coding_frame[x.index], x))\n",
    "\n",
    "    scores.name = 'score_value'\n",
    "    scores_df = scores.reset_index()\n",
    "    scores_df['score_name'] = 'roc_auc'\n",
    "\n",
    "    return scores_df\n",
    "\n",
    "combined_roc_auc_score = compute_roc_auc(combined_metrics)\n",
    "combined_roc_auc_score.head()"
   ]
  },
  {
   "cell_type": "markdown",
   "metadata": {},
   "source": [
    "\n",
    "## Compute ROC Curve"
   ]
  },
  {
   "cell_type": "markdown",
   "metadata": {},
   "source": [
    "### Human"
   ]
  },
  {
   "cell_type": "code",
   "execution_count": null,
   "metadata": {},
   "outputs": [],
   "source": [
    "%%time\n",
    "\n",
    "def _get_roc_curve_df(y_true, y_score):\n",
    "    fpr, tpr, thresholds = sklearn.metrics.roc_curve(y_true, y_score)\n",
    "    \n",
    "    df = pd.DataFrame({'fpr': fpr, 'tpr': tpr, 'thresholds': thresholds})\n",
    "    df.index.name = 'threshold_i'\n",
    "    return df\n",
    "\n",
    "\n",
    "\n",
    "def compute_roc_curve(coding_results, true_coding_frame=true_coding_frame):\n",
    "    curve_df = coding_results.groupby(['species', 'alphabet', 'ksize']).jaccard_in_peptide_db.apply(\n",
    "        lambda x: _get_roc_curve_df(true_coding_frame[x.index], x))\n",
    "\n",
    "    curve_df['score_name'] = 'roc_auc'\n",
    "\n",
    "    return curve_df\n",
    "\n",
    "combined_roc_curve = compute_roc_curve(combined_metrics)\n",
    "describe(combined_roc_curve)"
   ]
  },
  {
   "cell_type": "markdown",
   "metadata": {},
   "source": [
    "# Concatenate ROC AUC with other metrics"
   ]
  },
  {
   "cell_type": "code",
   "execution_count": null,
   "metadata": {},
   "outputs": [],
   "source": []
  },
  {
   "cell_type": "markdown",
   "metadata": {},
   "source": [
    "## Combine non-curve sscores"
   ]
  },
  {
   "cell_type": "code",
   "execution_count": null,
   "metadata": {},
   "outputs": [],
   "source": [
    "concatenated_metrics = pd.concat([combined_roc_auc_score, combined_metrics], ignore_index=True)\n",
    "describe(concatenated_metrics)"
   ]
  },
  {
   "cell_type": "code",
   "execution_count": null,
   "metadata": {},
   "outputs": [],
   "source": [
    "concatenated_metrics.score_name.value_counts()"
   ]
  },
  {
   "cell_type": "markdown",
   "metadata": {},
   "source": [
    "## Plot combined metrics"
   ]
  },
  {
   "cell_type": "markdown",
   "metadata": {},
   "source": [
    "### Groupby score name, one by one"
   ]
  },
  {
   "cell_type": "code",
   "execution_count": null,
   "metadata": {},
   "outputs": [],
   "source": [
    "for score_name, df in concatenated_metrics.groupby('score_name'):\n",
    "    g = sns.catplot(x='ksize', y='score_value', hue='species', col='alphabet', \n",
    "            data=df, kind='point', palette=\"Set2\")\n",
    "    g.set(ylabel=score_name, ylim=(0, 1))"
   ]
  },
  {
   "cell_type": "markdown",
   "metadata": {},
   "source": [
    "## Just plot ROC AUC"
   ]
  },
  {
   "cell_type": "code",
   "execution_count": null,
   "metadata": {},
   "outputs": [],
   "source": [
    "combined_roc_auc = concatenated_metrics.query('score_name == \"roc_auc\"')"
   ]
  },
  {
   "cell_type": "code",
   "execution_count": null,
   "metadata": {},
   "outputs": [],
   "source": [
    "combined_roc_auc.loc[combined_roc_auc.groupby(['species', 'score_name', 'alphabet']).score_value.idxmax()]"
   ]
  },
  {
   "cell_type": "code",
   "execution_count": null,
   "metadata": {},
   "outputs": [],
   "source": [
    "def plot_argmax(x, y, *args, **kwargs):\n",
    "    idxmax = y.idxmax()\n",
    "    plt.vlines(x[idxmax], 0, y.max(), linestyle='--', *args, **kwargs)\n",
    "#     print('x:', x)\n",
    "#     print('y:', y)\n",
    "    print('args:', args)\n",
    "    print('kwargs:', kwargs)\n",
    "    pass\n",
    "\n",
    "alphabet_order = ['protein', 'dayhoff']\n",
    "g = sns.FacetGrid( hue='species', col='alphabet', col_order=alphabet_order,\n",
    "        data=combined_roc_auc, palette=\"Set2\", height=3, aspect=1.5)\n",
    "g.map(sns.scatterplot, 'ksize', 'score_value')\n",
    "g.add_legend()\n",
    "g.map(plt.plot, 'ksize', 'score_value')\n",
    "g.map(plot_argmax, 'ksize', 'score_value')\n",
    "g.set(ylabel='ROC AUC', ylim=(0, 1))\n"
   ]
  },
  {
   "cell_type": "markdown",
   "metadata": {},
   "source": [
    "### All in one grid"
   ]
  },
  {
   "cell_type": "code",
   "execution_count": null,
   "metadata": {},
   "outputs": [],
   "source": [
    "g = sns.catplot(x='ksize', y='score_value', hue='species', col='alphabet', \n",
    "        data=concatenated_metrics, kind='point', palette='Set2', row='score_name')\n",
    "g.set(ylim=(0, 1 ))"
   ]
  },
  {
   "cell_type": "markdown",
   "metadata": {},
   "source": [
    "## Plot ROC curves"
   ]
  },
  {
   "cell_type": "markdown",
   "metadata": {},
   "source": [
    "### Plot combined roc curves"
   ]
  },
  {
   "cell_type": "code",
   "execution_count": null,
   "metadata": {},
   "outputs": [],
   "source": [
    "\n",
    "g = sns.FacetGrid(data=combined_roc_curves, col='alphabet', hue='ksize', palette='viridis', row='species')\n",
    "g.map(plt.plot, 'fpr', 'tpr')"
   ]
  },
  {
   "cell_type": "code",
   "execution_count": null,
   "metadata": {},
   "outputs": [],
   "source": []
  }
 ],
 "metadata": {
  "kernelspec": {
   "display_name": "Python 3",
   "language": "python",
   "name": "python3"
  },
  "language_info": {
   "codemirror_mode": {
    "name": "ipython",
    "version": 3
   },
   "file_extension": ".py",
   "mimetype": "text/x-python",
   "name": "python",
   "nbconvert_exporter": "python",
   "pygments_lexer": "ipython3",
   "version": "3.6.10"
  }
 },
 "nbformat": 4,
 "nbformat_minor": 4
}
