{
 "cells": [
  {
   "cell_type": "markdown",
   "metadata": {},
   "source": [
    "# Imports"
   ]
  },
  {
   "cell_type": "code",
   "execution_count": 81,
   "metadata": {},
   "outputs": [],
   "source": [
    "import itertools\n",
    "import math\n",
    "import pandas as pd\n",
    "import json\n",
    "import os\n",
    "import glob\n",
    "\n",
    "from tqdm import tqdm\n",
    "import seaborn as sns\n",
    "\n",
    "import screed\n",
    "import sklearn\n",
    "\n",
    "%matplotlib inline"
   ]
  },
  {
   "cell_type": "code",
   "execution_count": 2,
   "metadata": {},
   "outputs": [
    {
     "ename": "NameError",
     "evalue": "name 'filename' is not defined",
     "output_type": "error",
     "traceback": [
      "\u001b[0;31m---------------------------------------------------------------------------\u001b[0m",
      "\u001b[0;31mNameError\u001b[0m                                 Traceback (most recent call last)",
      "\u001b[0;32m<ipython-input-2-0ee53525f0e4>\u001b[0m in \u001b[0;36m<module>\u001b[0;34m()\u001b[0m\n\u001b[0;32m----> 1\u001b[0;31m \u001b[0mfilename\u001b[0m\u001b[0;34m\u001b[0m\u001b[0;34m\u001b[0m\u001b[0m\n\u001b[0m",
      "\u001b[0;31mNameError\u001b[0m: name 'filename' is not defined"
     ]
    }
   ],
   "source": [
    "mouse_busco_dir = '/mnt/ibm_sm/home/olga/pipeline-results/human-simulated/nf-predictorthologs--busco-mammalia-mouse'    \n",
    "human_busco_dir = '/mnt/ibm_sm/home/olga/pipeline-results/human-simulated/nf-predictorthologs--busco-mammalia-human'    \n"
   ]
  },
  {
   "cell_type": "markdown",
   "metadata": {},
   "source": [
    "# Get ids of \"good\" reads to use for classification"
   ]
  },
  {
   "cell_type": "markdown",
   "metadata": {},
   "source": [
    "## Subset to only reads from complete protein sequences -- *will not change with input species*\n",
    "\n",
    "could maybe write these ids to file"
   ]
  },
  {
   "cell_type": "code",
   "execution_count": 43,
   "metadata": {},
   "outputs": [
    {
     "name": "stdout",
     "output_type": "stream",
     "text": [
      "uniprot_protein_starts_with_m 20483\n",
      "uniprot_dna_starts_with_atg 20336\n"
     ]
    }
   ],
   "source": [
    "uniprot_protein_starts_with_m = []\n",
    "\n",
    "with screed.open('/home/olga/data_sm/kmer-hashing/quest-for-orthologs/data/2019/Eukaryota/UP000005640_9606.fasta') as records:\n",
    "    for record in records:\n",
    "        if record['sequence'].startswith(\"M\"):\n",
    "            uniprot_protein_starts_with_m.append(record['name'].split()[0])\n",
    "print('uniprot_protein_starts_with_m', len(uniprot_protein_starts_with_m))\n",
    "\n",
    "\n",
    "uniprot_dna_starts_with_atg = []\n",
    "with screed.open('/home/olga/data_sm/kmer-hashing/quest-for-orthologs/data/2019/Eukaryota/UP000005640_9606_DNA.fasta') as records:\n",
    "    for record in records:\n",
    "        if record['sequence'].startswith(\"ATG\"):\n",
    "            uniprot_dna_starts_with_atg.append(record['name'].split()[0])\n",
    "print('uniprot_dna_starts_with_atg', len(uniprot_dna_starts_with_atg))"
   ]
  },
  {
   "cell_type": "code",
   "execution_count": 50,
   "metadata": {},
   "outputs": [
    {
     "data": {
      "text/plain": [
       "['tr|A0A024R161|ENSP00000363412',\n",
       " 'tr|A0A024R1R8|ENSP00000491117',\n",
       " 'sp|A0A024RBG1|ENSP00000338352']"
      ]
     },
     "execution_count": 50,
     "metadata": {},
     "output_type": "execute_result"
    }
   ],
   "source": [
    "uniprot_dna_starts_with_atg[:3]"
   ]
  },
  {
   "cell_type": "markdown",
   "metadata": {},
   "source": [
    "## Read gold standard reading frame file"
   ]
  },
  {
   "cell_type": "code",
   "execution_count": 145,
   "metadata": {},
   "outputs": [
    {
     "data": {
      "text/plain": [
       "read1/tr|A0A024R1R8|ENSP00000491117;mate1Start:1;mate2Start:1__frame=1      True\n",
       "read1/tr|A0A024R1R8|ENSP00000491117;mate1Start:1;mate2Start:1__frame=2     False\n",
       "read1/tr|A0A024R1R8|ENSP00000491117;mate1Start:1;mate2Start:1__frame=3     False\n",
       "read1/tr|A0A024R1R8|ENSP00000491117;mate1Start:1;mate2Start:1__frame=-1    False\n",
       "read1/tr|A0A024R1R8|ENSP00000491117;mate1Start:1;mate2Start:1__frame=-2    False\n",
       "Name: is_coding, dtype: bool"
      ]
     },
     "execution_count": 145,
     "metadata": {},
     "output_type": "execute_result"
    }
   ],
   "source": [
    "parquet = '/mnt/ibm_sm/home/olga/pipeline-results/human-simulated/true_reading_frames.parquet'\n",
    "\n",
    "true_coding_frame = pd.read_parquet(parquet)\n",
    "# Create just a series (single column) from this\n",
    "true_coding_frame = true_coding_frame['is_coding']\n",
    "true_coding_frame.head()"
   ]
  },
  {
   "cell_type": "markdown",
   "metadata": {},
   "source": [
    "# Read coding score csvs"
   ]
  },
  {
   "cell_type": "markdown",
   "metadata": {},
   "source": [
    "## Add read_id_frame and is_coding for computing metrics"
   ]
  },
  {
   "cell_type": "code",
   "execution_count": 75,
   "metadata": {},
   "outputs": [],
   "source": [
    "def add_read_id_frame_and_is_coding(df):\n",
    "    df['read_id_frame'] = df.read_id.astype(str) + '__frame=' + df.translation_frame.astype(str)\n",
    "    df['is_coding'] = df['category'] == \"Coding\"\n",
    "    return df"
   ]
  },
  {
   "cell_type": "markdown",
   "metadata": {},
   "source": [
    "## Get human busco mammalia reads"
   ]
  },
  {
   "cell_type": "code",
   "execution_count": 111,
   "metadata": {},
   "outputs": [
    {
     "name": "stdout",
     "output_type": "stream",
     "text": [
      "(22539, 3)\n"
     ]
    },
    {
     "data": {
      "text/html": [
       "<div>\n",
       "<style scoped>\n",
       "    .dataframe tbody tr th:only-of-type {\n",
       "        vertical-align: middle;\n",
       "    }\n",
       "\n",
       "    .dataframe tbody tr th {\n",
       "        vertical-align: top;\n",
       "    }\n",
       "\n",
       "    .dataframe thead th {\n",
       "        text-align: right;\n",
       "    }\n",
       "</style>\n",
       "<table border=\"1\" class=\"dataframe\">\n",
       "  <thead>\n",
       "    <tr style=\"text-align: right;\">\n",
       "      <th></th>\n",
       "      <th>source__uniprot_id</th>\n",
       "      <th>source__id_type</th>\n",
       "      <th>source__db_id</th>\n",
       "    </tr>\n",
       "  </thead>\n",
       "  <tbody>\n",
       "    <tr>\n",
       "      <th>0</th>\n",
       "      <td>P61981</td>\n",
       "      <td>OrthoDB</td>\n",
       "      <td>1176818at2759</td>\n",
       "    </tr>\n",
       "    <tr>\n",
       "      <th>1</th>\n",
       "      <td>P27348</td>\n",
       "      <td>OrthoDB</td>\n",
       "      <td>1176818at2759</td>\n",
       "    </tr>\n",
       "    <tr>\n",
       "      <th>2</th>\n",
       "      <td>P30443</td>\n",
       "      <td>OrthoDB</td>\n",
       "      <td>1390181at2759</td>\n",
       "    </tr>\n",
       "    <tr>\n",
       "      <th>3</th>\n",
       "      <td>Q96QU6</td>\n",
       "      <td>OrthoDB</td>\n",
       "      <td>1156861at2759</td>\n",
       "    </tr>\n",
       "    <tr>\n",
       "      <th>4</th>\n",
       "      <td>P10321</td>\n",
       "      <td>OrthoDB</td>\n",
       "      <td>1390181at2759</td>\n",
       "    </tr>\n",
       "  </tbody>\n",
       "</table>\n",
       "</div>"
      ],
      "text/plain": [
       "  source__uniprot_id source__id_type  source__db_id\n",
       "0             P61981         OrthoDB  1176818at2759\n",
       "1             P27348         OrthoDB  1176818at2759\n",
       "2             P30443         OrthoDB  1390181at2759\n",
       "3             Q96QU6         OrthoDB  1156861at2759\n",
       "4             P10321         OrthoDB  1390181at2759"
      ]
     },
     "execution_count": 111,
     "metadata": {},
     "output_type": "execute_result"
    }
   ],
   "source": [
    "human_busco_mammalia = pd.read_csv('/mnt/ibm_sm/home/olga/pipeline-results/human-simulated/busco_mammalia_human_uniprot_ids.csv')\n",
    "print(human_busco_mammalia.shape)\n",
    "human_busco_mammalia.head()"
   ]
  },
  {
   "cell_type": "markdown",
   "metadata": {},
   "source": [
    "## Function to read coding scores consistently"
   ]
  },
  {
   "cell_type": "code",
   "execution_count": 130,
   "metadata": {},
   "outputs": [],
   "source": [
    "def read_translate_csvs(globber, species=None, \n",
    "                        human_busco_mammalia=human_busco_mammalia, \n",
    "                        uniprot_dna_starts_with_atg=uniprot_dna_starts_with_atg, \n",
    "                        true_coding_frame=true_coding_frame):\n",
    "    dfs = []\n",
    "    \n",
    "    for filename in tqdm(glob.glob(globber)):\n",
    "        dirname = os.path.dirname(filename)\n",
    "        parent_dir = os.path.basename(dirname)\n",
    "        molecule_, ksize_ = parent_dir.split('_')\n",
    "        molecule = molecule_.split('-')[1]\n",
    "        ksize = int(ksize_.split('-')[1])\n",
    "        \n",
    "        df = pd.read_csv(filename)\n",
    "        df['alphabet'] = molecule\n",
    "        df['ksize'] = ksize\n",
    "        df['species'] = species \n",
    "        df = add_read_id_frame_and_is_coding(df)\n",
    "        \n",
    "        # Get only reads generated from busco mammalia data\n",
    "        df['protein_id'] = df['read_id'].map(lambda x: x.split('/')[1].split(';')[0])\n",
    "        df['uniprot_id'] = df['protein_id'].str.split('|').str[1]\n",
    "        df = df.query('uniprot_id in @human_busco_mammalia.source__uniprot_id')\n",
    "        \n",
    "        # Get only reads from transcripts starting with ATG and no Ns\n",
    "        df = df.query('protein_id in @uniprot_dna_starts_with_atg')\n",
    "        \n",
    "        # Only use reads and frames in the gold standard data\n",
    "        df = df.query('read_id_frame in @true_coding_frame.index')\n",
    "        \n",
    "        # Set the read id and frame as the row names\n",
    "        df = df.set_index('read_id_frame')\n",
    "\n",
    "        dfs.append(df)\n",
    "    concatenated = pd.concat(dfs, ignore_index=False)\n",
    "    concatenated = concatenated.sort_index()\n",
    "    return concatenated"
   ]
  },
  {
   "cell_type": "markdown",
   "metadata": {},
   "source": [
    "## Read human coding scores"
   ]
  },
  {
   "cell_type": "code",
   "execution_count": 146,
   "metadata": {},
   "outputs": [
    {
     "name": "stdout",
     "output_type": "stream",
     "text": [
      "total 1.4G\n",
      "drwxr-xr-x  2 olga czb 4.0K Sep 22 18:30 .\n",
      "drwxr-xr-x 48 olga czb 8.0K Sep 30 17:54 ..\n",
      "-rw-r--r--  1 olga czb 181M Sep 22 18:30 Homo_sapiens_9606_qfo_dna_01__molecule-dayhoff_ksize-10__coding_reads_nucleotides.fasta\n",
      "-rw-r--r--  1 olga czb 109M Sep 22 18:30 Homo_sapiens_9606_qfo_dna_01__molecule-dayhoff_ksize-10__coding_reads_peptides.fasta\n",
      "-rw-r--r--  1 olga czb 812M Sep 22 18:30 Homo_sapiens_9606_qfo_dna_01__molecule-dayhoff_ksize-10__coding_scores.csv\n",
      "-rw-r--r--  1 olga czb 2.0K Sep 22 18:30 Homo_sapiens_9606_qfo_dna_01__molecule-dayhoff_ksize-10__coding_summary.json\n",
      "-rw-r--r--  1 olga czb 321M Sep 22 18:30 Homo_sapiens_9606_qfo_dna_01__molecule-dayhoff_ksize-10__noncoding_reads_nucleotides.fasta\n"
     ]
    }
   ],
   "source": [
    "! ls -lha $human_busco_dir/translate/molecule-dayhoff_ksize-10/"
   ]
  },
  {
   "cell_type": "code",
   "execution_count": 131,
   "metadata": {},
   "outputs": [
    {
     "name": "stdout",
     "output_type": "stream",
     "text": [
      "total 51M\n",
      "drwxr-xr-x  8 olga czb 4.0K Sep 25 19:08 .\n",
      "drwxr-xr-x  9 olga czb 4.0K Sep 29 08:47 ..\n",
      "drwxr-xr-x  2 olga czb 8.0K Sep 22 18:43 blastp\n",
      "-rw-r--r--  1 olga czb  51M Sep 25 19:08 correct_reading_frames.csv\n",
      "drwxr-xr-x  2 olga czb 4.0K Sep 22 18:26 MultiQC\n",
      "drwxr-xr-x  2 olga czb 4.0K Sep 22 18:26 ncbi_refseq\n",
      "drwxr-xr-x  2 olga czb 4.0K Sep 22 18:43 pipeline_info\n",
      "drwxr-xr-x  2 olga czb 8.0K Sep 22 18:26 sencha\n",
      "drwxr-xr-x 48 olga czb 8.0K Sep 29 08:05 translate\n"
     ]
    },
    {
     "name": "stderr",
     "output_type": "stream",
     "text": [
      "\n",
      "  0%|          | 0/46 [00:00<?, ?it/s]\u001b[A\n",
      "  2%|▏         | 1/46 [01:22<1:02:06, 82.81s/it]\u001b[A\n",
      "  4%|▍         | 2/46 [02:09<47:36, 64.93s/it]  \u001b[A\n",
      "  7%|▋         | 3/46 [02:57<42:23, 59.14s/it]\u001b[A\n",
      "  9%|▊         | 4/46 [03:46<39:41, 56.69s/it]\u001b[A\n",
      " 11%|█         | 5/46 [04:41<38:30, 56.34s/it]\u001b[A\n",
      " 13%|█▎        | 6/46 [05:37<37:29, 56.23s/it]\u001b[A\n",
      " 15%|█▌        | 7/46 [06:30<36:17, 55.84s/it]\u001b[A\n",
      " 17%|█▋        | 8/46 [07:19<34:49, 54.99s/it]\u001b[A\n",
      " 20%|█▉        | 9/46 [08:10<33:38, 54.54s/it]\u001b[A\n",
      " 22%|██▏       | 10/46 [09:02<32:32, 54.23s/it]\u001b[A\n",
      " 24%|██▍       | 11/46 [09:52<31:25, 53.88s/it]\u001b[A\n",
      " 26%|██▌       | 12/46 [10:41<30:16, 53.43s/it]\u001b[A\n",
      " 28%|██▊       | 13/46 [11:34<29:21, 53.39s/it]\u001b[A\n",
      " 30%|███       | 14/46 [12:19<28:10, 52.84s/it]\u001b[A\n",
      " 33%|███▎      | 15/46 [13:08<27:09, 52.57s/it]\u001b[A\n",
      " 35%|███▍      | 16/46 [13:58<26:12, 52.42s/it]\u001b[A\n",
      " 37%|███▋      | 17/46 [14:45<25:11, 52.11s/it]\u001b[A\n",
      " 39%|███▉      | 18/46 [15:35<24:15, 51.99s/it]\u001b[A\n",
      " 41%|████▏     | 19/46 [16:23<23:17, 51.76s/it]\u001b[A\n",
      " 43%|████▎     | 20/46 [17:13<22:23, 51.69s/it]\u001b[A\n",
      " 46%|████▌     | 21/46 [18:06<21:33, 51.72s/it]\u001b[A\n",
      " 48%|████▊     | 22/46 [18:56<20:39, 51.65s/it]\u001b[A\n",
      " 50%|█████     | 23/46 [19:42<19:42, 51.43s/it]\u001b[A\n",
      " 52%|█████▏    | 24/46 [20:36<18:53, 51.53s/it]\u001b[A\n",
      " 54%|█████▍    | 25/46 [21:24<17:59, 51.39s/it]\u001b[A\n",
      " 57%|█████▋    | 26/46 [22:10<17:03, 51.17s/it]\u001b[A\n",
      " 59%|█████▊    | 27/46 [22:58<16:09, 51.04s/it]\u001b[A\n",
      " 61%|██████    | 28/46 [23:47<15:17, 50.99s/it]\u001b[A\n",
      " 63%|██████▎   | 29/46 [24:35<14:25, 50.88s/it]\u001b[A\n",
      " 65%|██████▌   | 30/46 [25:25<13:33, 50.86s/it]\u001b[A\n",
      " 67%|██████▋   | 31/46 [26:14<12:41, 50.78s/it]\u001b[A\n",
      " 70%|██████▉   | 32/46 [27:09<11:52, 50.91s/it]\u001b[A\n",
      " 72%|███████▏  | 33/46 [27:57<11:00, 50.84s/it]\u001b[A\n",
      " 74%|███████▍  | 34/46 [28:46<10:09, 50.78s/it]\u001b[A\n",
      " 76%|███████▌  | 35/46 [29:38<09:18, 50.82s/it]\u001b[A\n",
      " 78%|███████▊  | 36/46 [30:24<08:26, 50.69s/it]\u001b[A\n",
      " 80%|████████  | 37/46 [31:12<07:35, 50.60s/it]\u001b[A\n",
      " 83%|████████▎ | 38/46 [31:59<06:44, 50.53s/it]\u001b[A\n",
      " 85%|████████▍ | 39/46 [32:51<05:53, 50.55s/it]\u001b[A\n",
      " 87%|████████▋ | 40/46 [33:40<05:03, 50.52s/it]\u001b[A\n",
      " 89%|████████▉ | 41/46 [34:32<04:12, 50.54s/it]\u001b[A\n",
      " 91%|█████████▏| 42/46 [35:21<03:22, 50.50s/it]\u001b[A\n",
      " 93%|█████████▎| 43/46 [36:07<02:31, 50.40s/it]\u001b[A\n",
      " 96%|█████████▌| 44/46 [36:57<01:40, 50.39s/it]\u001b[A\n",
      " 98%|█████████▊| 45/46 [37:42<00:50, 50.27s/it]\u001b[A\n",
      "100%|██████████| 46/46 [38:28<00:00, 50.18s/it]\u001b[A\n",
      "\u001b[A"
     ]
    },
    {
     "name": "stdout",
     "output_type": "stream",
     "text": [
      "(127187424, 12)\n",
      "CPU times: user 53min 7s, sys: 4min 10s, total: 57min 18s\n",
      "Wall time: 57min 47s\n"
     ]
    }
   ],
   "source": [
    "%%time\n",
    "\n",
    "human_busco_dir = '/mnt/ibm_sm/home/olga/pipeline-results/human-simulated/nf-predictorthologs--busco-mammalia-human'    \n",
    "!ls -lha $human_busco_dir\n",
    "human_scores = read_translate_csvs(\n",
    "    f'{human_busco_dir}/translate/*/*.csv', \n",
    "    species='human',\n",
    "    human_busco_mammalia=human_busco_mammalia, \n",
    "    uniprot_dna_starts_with_atg=uniprot_dna_starts_with_atg, \n",
    "    true_coding_frame=true_coding_frame\n",
    ")\n",
    "print(human_scores.shape)\n",
    "human_scores.head()"
   ]
  },
  {
   "cell_type": "code",
   "execution_count": 132,
   "metadata": {},
   "outputs": [
    {
     "data": {
      "text/html": [
       "<div>\n",
       "<style scoped>\n",
       "    .dataframe tbody tr th:only-of-type {\n",
       "        vertical-align: middle;\n",
       "    }\n",
       "\n",
       "    .dataframe tbody tr th {\n",
       "        vertical-align: top;\n",
       "    }\n",
       "\n",
       "    .dataframe thead th {\n",
       "        text-align: right;\n",
       "    }\n",
       "</style>\n",
       "<table border=\"1\" class=\"dataframe\">\n",
       "  <thead>\n",
       "    <tr style=\"text-align: right;\">\n",
       "      <th></th>\n",
       "      <th>read_id</th>\n",
       "      <th>jaccard_in_peptide_db</th>\n",
       "      <th>n_kmers</th>\n",
       "      <th>category</th>\n",
       "      <th>translation_frame</th>\n",
       "      <th>filename</th>\n",
       "      <th>alphabet</th>\n",
       "      <th>ksize</th>\n",
       "      <th>species</th>\n",
       "      <th>is_coding</th>\n",
       "      <th>protein_id</th>\n",
       "      <th>uniprot_id</th>\n",
       "    </tr>\n",
       "    <tr>\n",
       "      <th>read_id_frame</th>\n",
       "      <th></th>\n",
       "      <th></th>\n",
       "      <th></th>\n",
       "      <th></th>\n",
       "      <th></th>\n",
       "      <th></th>\n",
       "      <th></th>\n",
       "      <th></th>\n",
       "      <th></th>\n",
       "      <th></th>\n",
       "      <th></th>\n",
       "      <th></th>\n",
       "    </tr>\n",
       "  </thead>\n",
       "  <tbody>\n",
       "    <tr>\n",
       "      <th>read100001/sp|O43295|ENSP00000373347;mate1:1283-1432;mate2:1391-1540__frame=-1</th>\n",
       "      <td>read100001/sp|O43295|ENSP00000373347;mate1:128...</td>\n",
       "      <td>NaN</td>\n",
       "      <td>NaN</td>\n",
       "      <td>Translation frame has stop codon(s)</td>\n",
       "      <td>-1</td>\n",
       "      <td>Homo_sapiens_9606_qfo_dna_01.fq.gz</td>\n",
       "      <td>dayhoff</td>\n",
       "      <td>31</td>\n",
       "      <td>human</td>\n",
       "      <td>False</td>\n",
       "      <td>sp|O43295|ENSP00000373347</td>\n",
       "      <td>O43295</td>\n",
       "    </tr>\n",
       "    <tr>\n",
       "      <th>read100001/sp|O43295|ENSP00000373347;mate1:1283-1432;mate2:1391-1540__frame=-1</th>\n",
       "      <td>read100001/sp|O43295|ENSP00000373347;mate1:128...</td>\n",
       "      <td>NaN</td>\n",
       "      <td>NaN</td>\n",
       "      <td>Translation frame has stop codon(s)</td>\n",
       "      <td>-1</td>\n",
       "      <td>Homo_sapiens_9606_qfo_dna_01.fq.gz</td>\n",
       "      <td>dayhoff</td>\n",
       "      <td>19</td>\n",
       "      <td>human</td>\n",
       "      <td>False</td>\n",
       "      <td>sp|O43295|ENSP00000373347</td>\n",
       "      <td>O43295</td>\n",
       "    </tr>\n",
       "    <tr>\n",
       "      <th>read100001/sp|O43295|ENSP00000373347;mate1:1283-1432;mate2:1391-1540__frame=-1</th>\n",
       "      <td>read100001/sp|O43295|ENSP00000373347;mate1:128...</td>\n",
       "      <td>NaN</td>\n",
       "      <td>NaN</td>\n",
       "      <td>Translation frame has stop codon(s)</td>\n",
       "      <td>-1</td>\n",
       "      <td>Homo_sapiens_9606_qfo_dna_01.fq.gz</td>\n",
       "      <td>protein</td>\n",
       "      <td>13</td>\n",
       "      <td>human</td>\n",
       "      <td>False</td>\n",
       "      <td>sp|O43295|ENSP00000373347</td>\n",
       "      <td>O43295</td>\n",
       "    </tr>\n",
       "    <tr>\n",
       "      <th>read100001/sp|O43295|ENSP00000373347;mate1:1283-1432;mate2:1391-1540__frame=-1</th>\n",
       "      <td>read100001/sp|O43295|ENSP00000373347;mate1:128...</td>\n",
       "      <td>NaN</td>\n",
       "      <td>NaN</td>\n",
       "      <td>Translation frame has stop codon(s)</td>\n",
       "      <td>-1</td>\n",
       "      <td>Homo_sapiens_9606_qfo_dna_01.fq.gz</td>\n",
       "      <td>protein</td>\n",
       "      <td>27</td>\n",
       "      <td>human</td>\n",
       "      <td>False</td>\n",
       "      <td>sp|O43295|ENSP00000373347</td>\n",
       "      <td>O43295</td>\n",
       "    </tr>\n",
       "    <tr>\n",
       "      <th>read100001/sp|O43295|ENSP00000373347;mate1:1283-1432;mate2:1391-1540__frame=-1</th>\n",
       "      <td>read100001/sp|O43295|ENSP00000373347;mate1:128...</td>\n",
       "      <td>NaN</td>\n",
       "      <td>NaN</td>\n",
       "      <td>Translation frame has stop codon(s)</td>\n",
       "      <td>-1</td>\n",
       "      <td>Homo_sapiens_9606_qfo_dna_01.fq.gz</td>\n",
       "      <td>protein</td>\n",
       "      <td>24</td>\n",
       "      <td>human</td>\n",
       "      <td>False</td>\n",
       "      <td>sp|O43295|ENSP00000373347</td>\n",
       "      <td>O43295</td>\n",
       "    </tr>\n",
       "  </tbody>\n",
       "</table>\n",
       "</div>"
      ],
      "text/plain": [
       "                                                                                              read_id  \\\n",
       "read_id_frame                                                                                           \n",
       "read100001/sp|O43295|ENSP00000373347;mate1:1283...  read100001/sp|O43295|ENSP00000373347;mate1:128...   \n",
       "read100001/sp|O43295|ENSP00000373347;mate1:1283...  read100001/sp|O43295|ENSP00000373347;mate1:128...   \n",
       "read100001/sp|O43295|ENSP00000373347;mate1:1283...  read100001/sp|O43295|ENSP00000373347;mate1:128...   \n",
       "read100001/sp|O43295|ENSP00000373347;mate1:1283...  read100001/sp|O43295|ENSP00000373347;mate1:128...   \n",
       "read100001/sp|O43295|ENSP00000373347;mate1:1283...  read100001/sp|O43295|ENSP00000373347;mate1:128...   \n",
       "\n",
       "                                                    jaccard_in_peptide_db  \\\n",
       "read_id_frame                                                               \n",
       "read100001/sp|O43295|ENSP00000373347;mate1:1283...                    NaN   \n",
       "read100001/sp|O43295|ENSP00000373347;mate1:1283...                    NaN   \n",
       "read100001/sp|O43295|ENSP00000373347;mate1:1283...                    NaN   \n",
       "read100001/sp|O43295|ENSP00000373347;mate1:1283...                    NaN   \n",
       "read100001/sp|O43295|ENSP00000373347;mate1:1283...                    NaN   \n",
       "\n",
       "                                                    n_kmers  \\\n",
       "read_id_frame                                                 \n",
       "read100001/sp|O43295|ENSP00000373347;mate1:1283...      NaN   \n",
       "read100001/sp|O43295|ENSP00000373347;mate1:1283...      NaN   \n",
       "read100001/sp|O43295|ENSP00000373347;mate1:1283...      NaN   \n",
       "read100001/sp|O43295|ENSP00000373347;mate1:1283...      NaN   \n",
       "read100001/sp|O43295|ENSP00000373347;mate1:1283...      NaN   \n",
       "\n",
       "                                                                               category  \\\n",
       "read_id_frame                                                                             \n",
       "read100001/sp|O43295|ENSP00000373347;mate1:1283...  Translation frame has stop codon(s)   \n",
       "read100001/sp|O43295|ENSP00000373347;mate1:1283...  Translation frame has stop codon(s)   \n",
       "read100001/sp|O43295|ENSP00000373347;mate1:1283...  Translation frame has stop codon(s)   \n",
       "read100001/sp|O43295|ENSP00000373347;mate1:1283...  Translation frame has stop codon(s)   \n",
       "read100001/sp|O43295|ENSP00000373347;mate1:1283...  Translation frame has stop codon(s)   \n",
       "\n",
       "                                                    translation_frame  \\\n",
       "read_id_frame                                                           \n",
       "read100001/sp|O43295|ENSP00000373347;mate1:1283...                 -1   \n",
       "read100001/sp|O43295|ENSP00000373347;mate1:1283...                 -1   \n",
       "read100001/sp|O43295|ENSP00000373347;mate1:1283...                 -1   \n",
       "read100001/sp|O43295|ENSP00000373347;mate1:1283...                 -1   \n",
       "read100001/sp|O43295|ENSP00000373347;mate1:1283...                 -1   \n",
       "\n",
       "                                                                              filename  \\\n",
       "read_id_frame                                                                            \n",
       "read100001/sp|O43295|ENSP00000373347;mate1:1283...  Homo_sapiens_9606_qfo_dna_01.fq.gz   \n",
       "read100001/sp|O43295|ENSP00000373347;mate1:1283...  Homo_sapiens_9606_qfo_dna_01.fq.gz   \n",
       "read100001/sp|O43295|ENSP00000373347;mate1:1283...  Homo_sapiens_9606_qfo_dna_01.fq.gz   \n",
       "read100001/sp|O43295|ENSP00000373347;mate1:1283...  Homo_sapiens_9606_qfo_dna_01.fq.gz   \n",
       "read100001/sp|O43295|ENSP00000373347;mate1:1283...  Homo_sapiens_9606_qfo_dna_01.fq.gz   \n",
       "\n",
       "                                                   alphabet  ksize species  \\\n",
       "read_id_frame                                                                \n",
       "read100001/sp|O43295|ENSP00000373347;mate1:1283...  dayhoff     31   human   \n",
       "read100001/sp|O43295|ENSP00000373347;mate1:1283...  dayhoff     19   human   \n",
       "read100001/sp|O43295|ENSP00000373347;mate1:1283...  protein     13   human   \n",
       "read100001/sp|O43295|ENSP00000373347;mate1:1283...  protein     27   human   \n",
       "read100001/sp|O43295|ENSP00000373347;mate1:1283...  protein     24   human   \n",
       "\n",
       "                                                    is_coding  \\\n",
       "read_id_frame                                                   \n",
       "read100001/sp|O43295|ENSP00000373347;mate1:1283...      False   \n",
       "read100001/sp|O43295|ENSP00000373347;mate1:1283...      False   \n",
       "read100001/sp|O43295|ENSP00000373347;mate1:1283...      False   \n",
       "read100001/sp|O43295|ENSP00000373347;mate1:1283...      False   \n",
       "read100001/sp|O43295|ENSP00000373347;mate1:1283...      False   \n",
       "\n",
       "                                                                   protein_id  \\\n",
       "read_id_frame                                                                   \n",
       "read100001/sp|O43295|ENSP00000373347;mate1:1283...  sp|O43295|ENSP00000373347   \n",
       "read100001/sp|O43295|ENSP00000373347;mate1:1283...  sp|O43295|ENSP00000373347   \n",
       "read100001/sp|O43295|ENSP00000373347;mate1:1283...  sp|O43295|ENSP00000373347   \n",
       "read100001/sp|O43295|ENSP00000373347;mate1:1283...  sp|O43295|ENSP00000373347   \n",
       "read100001/sp|O43295|ENSP00000373347;mate1:1283...  sp|O43295|ENSP00000373347   \n",
       "\n",
       "                                                   uniprot_id  \n",
       "read_id_frame                                                  \n",
       "read100001/sp|O43295|ENSP00000373347;mate1:1283...     O43295  \n",
       "read100001/sp|O43295|ENSP00000373347;mate1:1283...     O43295  \n",
       "read100001/sp|O43295|ENSP00000373347;mate1:1283...     O43295  \n",
       "read100001/sp|O43295|ENSP00000373347;mate1:1283...     O43295  \n",
       "read100001/sp|O43295|ENSP00000373347;mate1:1283...     O43295  "
      ]
     },
     "execution_count": 132,
     "metadata": {},
     "output_type": "execute_result"
    }
   ],
   "source": [
    "human_scores.head()"
   ]
  },
  {
   "cell_type": "markdown",
   "metadata": {},
   "source": [
    "### Write concatenated n frames per read, categorization to file"
   ]
  },
  {
   "cell_type": "code",
   "execution_count": 140,
   "metadata": {},
   "outputs": [],
   "source": [
    "human_scores.to_parquet('/mnt/ibm_sm/home/olga/pipeline-results/human-simulated/nf-predictorthologs--busco-mammalia-human/translate/coding_scores.parquet')"
   ]
  },
  {
   "cell_type": "markdown",
   "metadata": {},
   "source": [
    "## Read mouse coding scores"
   ]
  },
  {
   "cell_type": "code",
   "execution_count": 134,
   "metadata": {},
   "outputs": [
    {
     "name": "stdout",
     "output_type": "stream",
     "text": [
      "total 19K\n",
      "drwxr-xr-x  8 olga czb 4.0K Sep 22 18:48 .\n",
      "drwxr-xr-x  9 olga czb 4.0K Sep 29 08:47 ..\n",
      "drwxr-xr-x  2 olga czb 8.0K Sep 22 19:00 blastp\n",
      "drwxr-xr-x  2 olga czb 4.0K Sep 22 18:44 MultiQC\n",
      "drwxr-xr-x  2 olga czb 4.0K Sep 22 18:44 ncbi_refseq\n",
      "drwxr-xr-x  2 olga czb 4.0K Sep 22 19:00 pipeline_info\n",
      "drwxr-xr-x  2 olga czb 8.0K Sep 22 18:44 sencha\n",
      "drwxr-xr-x 48 olga czb 4.0K Sep 30 10:48 translate\n"
     ]
    },
    {
     "name": "stderr",
     "output_type": "stream",
     "text": [
      "\n",
      "  0%|          | 0/46 [00:00<?, ?it/s]\u001b[A\n",
      "  2%|▏         | 1/46 [01:02<47:12, 62.95s/it]\u001b[A\n",
      "  4%|▍         | 2/46 [01:50<40:28, 55.19s/it]\u001b[A\n",
      "  7%|▋         | 3/46 [02:37<37:42, 52.62s/it]\u001b[A\n",
      "  9%|▊         | 4/46 [03:28<36:31, 52.17s/it]\u001b[A\n",
      " 11%|█         | 5/46 [04:19<35:31, 51.98s/it]\u001b[A\n",
      " 13%|█▎        | 6/46 [05:09<34:22, 51.56s/it]\u001b[A\n",
      " 15%|█▌        | 7/46 [06:01<33:36, 51.71s/it]\u001b[A\n",
      " 17%|█▋        | 8/46 [06:54<32:47, 51.77s/it]\u001b[A\n",
      " 20%|█▉        | 9/46 [07:41<31:37, 51.29s/it]\u001b[A\n",
      " 22%|██▏       | 10/46 [08:31<30:40, 51.14s/it]\u001b[A\n",
      " 24%|██▍       | 11/46 [09:21<29:45, 51.00s/it]\u001b[A\n",
      " 26%|██▌       | 12/46 [10:06<28:39, 50.58s/it]\u001b[A\n",
      " 28%|██▊       | 13/46 [10:56<27:46, 50.50s/it]\u001b[A\n",
      " 30%|███       | 14/46 [11:47<26:57, 50.56s/it]\u001b[A\n",
      " 33%|███▎      | 15/46 [12:36<26:03, 50.44s/it]\u001b[A\n",
      " 35%|███▍      | 16/46 [13:26<25:13, 50.44s/it]\u001b[A\n",
      " 37%|███▋      | 17/46 [14:17<24:22, 50.43s/it]\u001b[A\n",
      " 39%|███▉      | 18/46 [15:22<23:55, 51.28s/it]\u001b[A\n",
      " 41%|████▏     | 19/46 [16:08<22:56, 50.98s/it]\u001b[A\n",
      " 43%|████▎     | 20/46 [16:57<22:03, 50.89s/it]\u001b[A\n",
      " 46%|████▌     | 21/46 [18:03<21:29, 51.59s/it]\u001b[A\n",
      " 48%|████▊     | 22/46 [18:55<20:39, 51.63s/it]\u001b[A\n",
      " 50%|█████     | 23/46 [19:44<19:44, 51.49s/it]\u001b[A\n",
      " 52%|█████▏    | 24/46 [20:35<18:52, 51.49s/it]\u001b[A\n",
      " 54%|█████▍    | 25/46 [21:22<17:57, 51.30s/it]\u001b[A\n",
      " 57%|█████▋    | 26/46 [22:13<17:05, 51.29s/it]\u001b[A\n",
      " 59%|█████▊    | 27/46 [23:03<16:13, 51.22s/it]\u001b[A\n",
      " 61%|██████    | 28/46 [23:52<15:20, 51.15s/it]\u001b[A\n",
      " 63%|██████▎   | 29/46 [24:38<14:26, 50.98s/it]\u001b[A\n",
      " 65%|██████▌   | 30/46 [25:29<13:35, 50.97s/it]\u001b[A\n",
      " 67%|██████▋   | 31/46 [26:15<12:42, 50.82s/it]\u001b[A\n",
      " 70%|██████▉   | 32/46 [27:03<11:50, 50.73s/it]\u001b[A\n",
      " 72%|███████▏  | 33/46 [27:55<11:00, 50.77s/it]\u001b[A\n",
      " 74%|███████▍  | 34/46 [28:41<10:07, 50.64s/it]\u001b[A\n",
      " 76%|███████▌  | 35/46 [29:29<09:16, 50.56s/it]\u001b[A\n",
      " 78%|███████▊  | 36/46 [30:13<08:23, 50.38s/it]\u001b[A\n",
      " 80%|████████  | 37/46 [31:01<07:32, 50.31s/it]\u001b[A\n",
      " 83%|████████▎ | 38/46 [31:49<06:41, 50.24s/it]\u001b[A\n",
      " 85%|████████▍ | 39/46 [32:38<05:51, 50.21s/it]\u001b[A\n",
      " 87%|████████▋ | 40/46 [33:25<05:00, 50.13s/it]\u001b[A\n",
      " 89%|████████▉ | 41/46 [34:10<04:10, 50.02s/it]\u001b[A\n",
      " 91%|█████████▏| 42/46 [34:59<03:19, 49.99s/it]\u001b[A\n",
      " 93%|█████████▎| 43/46 [35:47<02:29, 49.95s/it]\u001b[A\n",
      " 96%|█████████▌| 44/46 [36:36<01:39, 49.92s/it]\u001b[A\n",
      " 98%|█████████▊| 45/46 [37:24<00:49, 49.88s/it]\u001b[A\n",
      "100%|██████████| 46/46 [38:11<00:00, 49.81s/it]\u001b[A\n",
      "\u001b[A"
     ]
    },
    {
     "name": "stdout",
     "output_type": "stream",
     "text": [
      "(127187424, 12)\n",
      "CPU times: user 53min 44s, sys: 4min 5s, total: 57min 50s\n",
      "Wall time: 57min 59s\n"
     ]
    }
   ],
   "source": [
    "%%time\n",
    "\n",
    "mouse_busco_dir = '/mnt/ibm_sm/home/olga/pipeline-results/human-simulated/nf-predictorthologs--busco-mammalia-mouse'    \n",
    "!ls -lha $mouse_busco_dir\n",
    "mouse_scores = read_translate_csvs(\n",
    "    f'{mouse_busco_dir}/translate/*/*.csv', \n",
    "    species='mouse'\n",
    "    human_busco_mammalia=human_busco_mammalia, \n",
    "    uniprot_dna_starts_with_atg=uniprot_dna_starts_with_atg, \n",
    "    true_coding_frame=true_coding_frame\n",
    ")\n",
    "print(mouse_scores.shape)\n",
    "mouse_scores.head()"
   ]
  },
  {
   "cell_type": "code",
   "execution_count": 135,
   "metadata": {},
   "outputs": [
    {
     "data": {
      "text/html": [
       "<div>\n",
       "<style scoped>\n",
       "    .dataframe tbody tr th:only-of-type {\n",
       "        vertical-align: middle;\n",
       "    }\n",
       "\n",
       "    .dataframe tbody tr th {\n",
       "        vertical-align: top;\n",
       "    }\n",
       "\n",
       "    .dataframe thead th {\n",
       "        text-align: right;\n",
       "    }\n",
       "</style>\n",
       "<table border=\"1\" class=\"dataframe\">\n",
       "  <thead>\n",
       "    <tr style=\"text-align: right;\">\n",
       "      <th></th>\n",
       "      <th>read_id</th>\n",
       "      <th>jaccard_in_peptide_db</th>\n",
       "      <th>n_kmers</th>\n",
       "      <th>category</th>\n",
       "      <th>translation_frame</th>\n",
       "      <th>filename</th>\n",
       "      <th>alphabet</th>\n",
       "      <th>ksize</th>\n",
       "      <th>species</th>\n",
       "      <th>is_coding</th>\n",
       "      <th>protein_id</th>\n",
       "      <th>uniprot_id</th>\n",
       "    </tr>\n",
       "    <tr>\n",
       "      <th>read_id_frame</th>\n",
       "      <th></th>\n",
       "      <th></th>\n",
       "      <th></th>\n",
       "      <th></th>\n",
       "      <th></th>\n",
       "      <th></th>\n",
       "      <th></th>\n",
       "      <th></th>\n",
       "      <th></th>\n",
       "      <th></th>\n",
       "      <th></th>\n",
       "      <th></th>\n",
       "    </tr>\n",
       "  </thead>\n",
       "  <tbody>\n",
       "    <tr>\n",
       "      <th>read100001/sp|O43295|ENSP00000373347;mate1:1283-1432;mate2:1391-1540__frame=-1</th>\n",
       "      <td>read100001/sp|O43295|ENSP00000373347;mate1:128...</td>\n",
       "      <td>NaN</td>\n",
       "      <td>NaN</td>\n",
       "      <td>Translation frame has stop codon(s)</td>\n",
       "      <td>-1</td>\n",
       "      <td>Homo_sapiens_9606_qfo_dna_01.fq.gz</td>\n",
       "      <td>dayhoff</td>\n",
       "      <td>31</td>\n",
       "      <td>mouse</td>\n",
       "      <td>False</td>\n",
       "      <td>sp|O43295|ENSP00000373347</td>\n",
       "      <td>O43295</td>\n",
       "    </tr>\n",
       "    <tr>\n",
       "      <th>read100001/sp|O43295|ENSP00000373347;mate1:1283-1432;mate2:1391-1540__frame=-1</th>\n",
       "      <td>read100001/sp|O43295|ENSP00000373347;mate1:128...</td>\n",
       "      <td>NaN</td>\n",
       "      <td>NaN</td>\n",
       "      <td>Translation frame has stop codon(s)</td>\n",
       "      <td>-1</td>\n",
       "      <td>Homo_sapiens_9606_qfo_dna_01.fq.gz</td>\n",
       "      <td>dayhoff</td>\n",
       "      <td>19</td>\n",
       "      <td>mouse</td>\n",
       "      <td>False</td>\n",
       "      <td>sp|O43295|ENSP00000373347</td>\n",
       "      <td>O43295</td>\n",
       "    </tr>\n",
       "    <tr>\n",
       "      <th>read100001/sp|O43295|ENSP00000373347;mate1:1283-1432;mate2:1391-1540__frame=-1</th>\n",
       "      <td>read100001/sp|O43295|ENSP00000373347;mate1:128...</td>\n",
       "      <td>NaN</td>\n",
       "      <td>NaN</td>\n",
       "      <td>Translation frame has stop codon(s)</td>\n",
       "      <td>-1</td>\n",
       "      <td>Homo_sapiens_9606_qfo_dna_01.fq.gz</td>\n",
       "      <td>protein</td>\n",
       "      <td>13</td>\n",
       "      <td>mouse</td>\n",
       "      <td>False</td>\n",
       "      <td>sp|O43295|ENSP00000373347</td>\n",
       "      <td>O43295</td>\n",
       "    </tr>\n",
       "    <tr>\n",
       "      <th>read100001/sp|O43295|ENSP00000373347;mate1:1283-1432;mate2:1391-1540__frame=-1</th>\n",
       "      <td>read100001/sp|O43295|ENSP00000373347;mate1:128...</td>\n",
       "      <td>NaN</td>\n",
       "      <td>NaN</td>\n",
       "      <td>Translation frame has stop codon(s)</td>\n",
       "      <td>-1</td>\n",
       "      <td>Homo_sapiens_9606_qfo_dna_01.fq.gz</td>\n",
       "      <td>protein</td>\n",
       "      <td>27</td>\n",
       "      <td>mouse</td>\n",
       "      <td>False</td>\n",
       "      <td>sp|O43295|ENSP00000373347</td>\n",
       "      <td>O43295</td>\n",
       "    </tr>\n",
       "    <tr>\n",
       "      <th>read100001/sp|O43295|ENSP00000373347;mate1:1283-1432;mate2:1391-1540__frame=-1</th>\n",
       "      <td>read100001/sp|O43295|ENSP00000373347;mate1:128...</td>\n",
       "      <td>NaN</td>\n",
       "      <td>NaN</td>\n",
       "      <td>Translation frame has stop codon(s)</td>\n",
       "      <td>-1</td>\n",
       "      <td>Homo_sapiens_9606_qfo_dna_01.fq.gz</td>\n",
       "      <td>protein</td>\n",
       "      <td>24</td>\n",
       "      <td>mouse</td>\n",
       "      <td>False</td>\n",
       "      <td>sp|O43295|ENSP00000373347</td>\n",
       "      <td>O43295</td>\n",
       "    </tr>\n",
       "  </tbody>\n",
       "</table>\n",
       "</div>"
      ],
      "text/plain": [
       "                                                                                              read_id  \\\n",
       "read_id_frame                                                                                           \n",
       "read100001/sp|O43295|ENSP00000373347;mate1:1283...  read100001/sp|O43295|ENSP00000373347;mate1:128...   \n",
       "read100001/sp|O43295|ENSP00000373347;mate1:1283...  read100001/sp|O43295|ENSP00000373347;mate1:128...   \n",
       "read100001/sp|O43295|ENSP00000373347;mate1:1283...  read100001/sp|O43295|ENSP00000373347;mate1:128...   \n",
       "read100001/sp|O43295|ENSP00000373347;mate1:1283...  read100001/sp|O43295|ENSP00000373347;mate1:128...   \n",
       "read100001/sp|O43295|ENSP00000373347;mate1:1283...  read100001/sp|O43295|ENSP00000373347;mate1:128...   \n",
       "\n",
       "                                                    jaccard_in_peptide_db  \\\n",
       "read_id_frame                                                               \n",
       "read100001/sp|O43295|ENSP00000373347;mate1:1283...                    NaN   \n",
       "read100001/sp|O43295|ENSP00000373347;mate1:1283...                    NaN   \n",
       "read100001/sp|O43295|ENSP00000373347;mate1:1283...                    NaN   \n",
       "read100001/sp|O43295|ENSP00000373347;mate1:1283...                    NaN   \n",
       "read100001/sp|O43295|ENSP00000373347;mate1:1283...                    NaN   \n",
       "\n",
       "                                                    n_kmers  \\\n",
       "read_id_frame                                                 \n",
       "read100001/sp|O43295|ENSP00000373347;mate1:1283...      NaN   \n",
       "read100001/sp|O43295|ENSP00000373347;mate1:1283...      NaN   \n",
       "read100001/sp|O43295|ENSP00000373347;mate1:1283...      NaN   \n",
       "read100001/sp|O43295|ENSP00000373347;mate1:1283...      NaN   \n",
       "read100001/sp|O43295|ENSP00000373347;mate1:1283...      NaN   \n",
       "\n",
       "                                                                               category  \\\n",
       "read_id_frame                                                                             \n",
       "read100001/sp|O43295|ENSP00000373347;mate1:1283...  Translation frame has stop codon(s)   \n",
       "read100001/sp|O43295|ENSP00000373347;mate1:1283...  Translation frame has stop codon(s)   \n",
       "read100001/sp|O43295|ENSP00000373347;mate1:1283...  Translation frame has stop codon(s)   \n",
       "read100001/sp|O43295|ENSP00000373347;mate1:1283...  Translation frame has stop codon(s)   \n",
       "read100001/sp|O43295|ENSP00000373347;mate1:1283...  Translation frame has stop codon(s)   \n",
       "\n",
       "                                                    translation_frame  \\\n",
       "read_id_frame                                                           \n",
       "read100001/sp|O43295|ENSP00000373347;mate1:1283...                 -1   \n",
       "read100001/sp|O43295|ENSP00000373347;mate1:1283...                 -1   \n",
       "read100001/sp|O43295|ENSP00000373347;mate1:1283...                 -1   \n",
       "read100001/sp|O43295|ENSP00000373347;mate1:1283...                 -1   \n",
       "read100001/sp|O43295|ENSP00000373347;mate1:1283...                 -1   \n",
       "\n",
       "                                                                              filename  \\\n",
       "read_id_frame                                                                            \n",
       "read100001/sp|O43295|ENSP00000373347;mate1:1283...  Homo_sapiens_9606_qfo_dna_01.fq.gz   \n",
       "read100001/sp|O43295|ENSP00000373347;mate1:1283...  Homo_sapiens_9606_qfo_dna_01.fq.gz   \n",
       "read100001/sp|O43295|ENSP00000373347;mate1:1283...  Homo_sapiens_9606_qfo_dna_01.fq.gz   \n",
       "read100001/sp|O43295|ENSP00000373347;mate1:1283...  Homo_sapiens_9606_qfo_dna_01.fq.gz   \n",
       "read100001/sp|O43295|ENSP00000373347;mate1:1283...  Homo_sapiens_9606_qfo_dna_01.fq.gz   \n",
       "\n",
       "                                                   alphabet  ksize species  \\\n",
       "read_id_frame                                                                \n",
       "read100001/sp|O43295|ENSP00000373347;mate1:1283...  dayhoff     31   mouse   \n",
       "read100001/sp|O43295|ENSP00000373347;mate1:1283...  dayhoff     19   mouse   \n",
       "read100001/sp|O43295|ENSP00000373347;mate1:1283...  protein     13   mouse   \n",
       "read100001/sp|O43295|ENSP00000373347;mate1:1283...  protein     27   mouse   \n",
       "read100001/sp|O43295|ENSP00000373347;mate1:1283...  protein     24   mouse   \n",
       "\n",
       "                                                    is_coding  \\\n",
       "read_id_frame                                                   \n",
       "read100001/sp|O43295|ENSP00000373347;mate1:1283...      False   \n",
       "read100001/sp|O43295|ENSP00000373347;mate1:1283...      False   \n",
       "read100001/sp|O43295|ENSP00000373347;mate1:1283...      False   \n",
       "read100001/sp|O43295|ENSP00000373347;mate1:1283...      False   \n",
       "read100001/sp|O43295|ENSP00000373347;mate1:1283...      False   \n",
       "\n",
       "                                                                   protein_id  \\\n",
       "read_id_frame                                                                   \n",
       "read100001/sp|O43295|ENSP00000373347;mate1:1283...  sp|O43295|ENSP00000373347   \n",
       "read100001/sp|O43295|ENSP00000373347;mate1:1283...  sp|O43295|ENSP00000373347   \n",
       "read100001/sp|O43295|ENSP00000373347;mate1:1283...  sp|O43295|ENSP00000373347   \n",
       "read100001/sp|O43295|ENSP00000373347;mate1:1283...  sp|O43295|ENSP00000373347   \n",
       "read100001/sp|O43295|ENSP00000373347;mate1:1283...  sp|O43295|ENSP00000373347   \n",
       "\n",
       "                                                   uniprot_id  \n",
       "read_id_frame                                                  \n",
       "read100001/sp|O43295|ENSP00000373347;mate1:1283...     O43295  \n",
       "read100001/sp|O43295|ENSP00000373347;mate1:1283...     O43295  \n",
       "read100001/sp|O43295|ENSP00000373347;mate1:1283...     O43295  \n",
       "read100001/sp|O43295|ENSP00000373347;mate1:1283...     O43295  \n",
       "read100001/sp|O43295|ENSP00000373347;mate1:1283...     O43295  "
      ]
     },
     "execution_count": 135,
     "metadata": {},
     "output_type": "execute_result"
    }
   ],
   "source": [
    "mouse_scores.head()"
   ]
  },
  {
   "cell_type": "code",
   "execution_count": 136,
   "metadata": {},
   "outputs": [
    {
     "data": {
      "text/html": [
       "<div>\n",
       "<style scoped>\n",
       "    .dataframe tbody tr th:only-of-type {\n",
       "        vertical-align: middle;\n",
       "    }\n",
       "\n",
       "    .dataframe tbody tr th {\n",
       "        vertical-align: top;\n",
       "    }\n",
       "\n",
       "    .dataframe thead th {\n",
       "        text-align: right;\n",
       "    }\n",
       "</style>\n",
       "<table border=\"1\" class=\"dataframe\">\n",
       "  <thead>\n",
       "    <tr style=\"text-align: right;\">\n",
       "      <th></th>\n",
       "      <th>read_id</th>\n",
       "      <th>jaccard_in_peptide_db</th>\n",
       "      <th>n_kmers</th>\n",
       "      <th>category</th>\n",
       "      <th>translation_frame</th>\n",
       "      <th>filename</th>\n",
       "      <th>alphabet</th>\n",
       "      <th>ksize</th>\n",
       "      <th>species</th>\n",
       "      <th>is_coding</th>\n",
       "      <th>protein_id</th>\n",
       "      <th>uniprot_id</th>\n",
       "    </tr>\n",
       "    <tr>\n",
       "      <th>read_id_frame</th>\n",
       "      <th></th>\n",
       "      <th></th>\n",
       "      <th></th>\n",
       "      <th></th>\n",
       "      <th></th>\n",
       "      <th></th>\n",
       "      <th></th>\n",
       "      <th></th>\n",
       "      <th></th>\n",
       "      <th></th>\n",
       "      <th></th>\n",
       "      <th></th>\n",
       "    </tr>\n",
       "  </thead>\n",
       "  <tbody>\n",
       "    <tr>\n",
       "      <th>read100001/sp|O43295|ENSP00000373347;mate1:1283-1432;mate2:1391-1540__frame=-1</th>\n",
       "      <td>read100001/sp|O43295|ENSP00000373347;mate1:128...</td>\n",
       "      <td>NaN</td>\n",
       "      <td>NaN</td>\n",
       "      <td>Translation frame has stop codon(s)</td>\n",
       "      <td>-1</td>\n",
       "      <td>Homo_sapiens_9606_qfo_dna_01.fq.gz</td>\n",
       "      <td>dayhoff</td>\n",
       "      <td>31</td>\n",
       "      <td>human</td>\n",
       "      <td>False</td>\n",
       "      <td>sp|O43295|ENSP00000373347</td>\n",
       "      <td>O43295</td>\n",
       "    </tr>\n",
       "    <tr>\n",
       "      <th>read100001/sp|O43295|ENSP00000373347;mate1:1283-1432;mate2:1391-1540__frame=-1</th>\n",
       "      <td>read100001/sp|O43295|ENSP00000373347;mate1:128...</td>\n",
       "      <td>NaN</td>\n",
       "      <td>NaN</td>\n",
       "      <td>Translation frame has stop codon(s)</td>\n",
       "      <td>-1</td>\n",
       "      <td>Homo_sapiens_9606_qfo_dna_01.fq.gz</td>\n",
       "      <td>dayhoff</td>\n",
       "      <td>19</td>\n",
       "      <td>human</td>\n",
       "      <td>False</td>\n",
       "      <td>sp|O43295|ENSP00000373347</td>\n",
       "      <td>O43295</td>\n",
       "    </tr>\n",
       "    <tr>\n",
       "      <th>read100001/sp|O43295|ENSP00000373347;mate1:1283-1432;mate2:1391-1540__frame=-1</th>\n",
       "      <td>read100001/sp|O43295|ENSP00000373347;mate1:128...</td>\n",
       "      <td>NaN</td>\n",
       "      <td>NaN</td>\n",
       "      <td>Translation frame has stop codon(s)</td>\n",
       "      <td>-1</td>\n",
       "      <td>Homo_sapiens_9606_qfo_dna_01.fq.gz</td>\n",
       "      <td>protein</td>\n",
       "      <td>13</td>\n",
       "      <td>human</td>\n",
       "      <td>False</td>\n",
       "      <td>sp|O43295|ENSP00000373347</td>\n",
       "      <td>O43295</td>\n",
       "    </tr>\n",
       "    <tr>\n",
       "      <th>read100001/sp|O43295|ENSP00000373347;mate1:1283-1432;mate2:1391-1540__frame=-1</th>\n",
       "      <td>read100001/sp|O43295|ENSP00000373347;mate1:128...</td>\n",
       "      <td>NaN</td>\n",
       "      <td>NaN</td>\n",
       "      <td>Translation frame has stop codon(s)</td>\n",
       "      <td>-1</td>\n",
       "      <td>Homo_sapiens_9606_qfo_dna_01.fq.gz</td>\n",
       "      <td>protein</td>\n",
       "      <td>27</td>\n",
       "      <td>human</td>\n",
       "      <td>False</td>\n",
       "      <td>sp|O43295|ENSP00000373347</td>\n",
       "      <td>O43295</td>\n",
       "    </tr>\n",
       "    <tr>\n",
       "      <th>read100001/sp|O43295|ENSP00000373347;mate1:1283-1432;mate2:1391-1540__frame=-1</th>\n",
       "      <td>read100001/sp|O43295|ENSP00000373347;mate1:128...</td>\n",
       "      <td>NaN</td>\n",
       "      <td>NaN</td>\n",
       "      <td>Translation frame has stop codon(s)</td>\n",
       "      <td>-1</td>\n",
       "      <td>Homo_sapiens_9606_qfo_dna_01.fq.gz</td>\n",
       "      <td>protein</td>\n",
       "      <td>24</td>\n",
       "      <td>human</td>\n",
       "      <td>False</td>\n",
       "      <td>sp|O43295|ENSP00000373347</td>\n",
       "      <td>O43295</td>\n",
       "    </tr>\n",
       "  </tbody>\n",
       "</table>\n",
       "</div>"
      ],
      "text/plain": [
       "                                                                                              read_id  \\\n",
       "read_id_frame                                                                                           \n",
       "read100001/sp|O43295|ENSP00000373347;mate1:1283...  read100001/sp|O43295|ENSP00000373347;mate1:128...   \n",
       "read100001/sp|O43295|ENSP00000373347;mate1:1283...  read100001/sp|O43295|ENSP00000373347;mate1:128...   \n",
       "read100001/sp|O43295|ENSP00000373347;mate1:1283...  read100001/sp|O43295|ENSP00000373347;mate1:128...   \n",
       "read100001/sp|O43295|ENSP00000373347;mate1:1283...  read100001/sp|O43295|ENSP00000373347;mate1:128...   \n",
       "read100001/sp|O43295|ENSP00000373347;mate1:1283...  read100001/sp|O43295|ENSP00000373347;mate1:128...   \n",
       "\n",
       "                                                    jaccard_in_peptide_db  \\\n",
       "read_id_frame                                                               \n",
       "read100001/sp|O43295|ENSP00000373347;mate1:1283...                    NaN   \n",
       "read100001/sp|O43295|ENSP00000373347;mate1:1283...                    NaN   \n",
       "read100001/sp|O43295|ENSP00000373347;mate1:1283...                    NaN   \n",
       "read100001/sp|O43295|ENSP00000373347;mate1:1283...                    NaN   \n",
       "read100001/sp|O43295|ENSP00000373347;mate1:1283...                    NaN   \n",
       "\n",
       "                                                    n_kmers  \\\n",
       "read_id_frame                                                 \n",
       "read100001/sp|O43295|ENSP00000373347;mate1:1283...      NaN   \n",
       "read100001/sp|O43295|ENSP00000373347;mate1:1283...      NaN   \n",
       "read100001/sp|O43295|ENSP00000373347;mate1:1283...      NaN   \n",
       "read100001/sp|O43295|ENSP00000373347;mate1:1283...      NaN   \n",
       "read100001/sp|O43295|ENSP00000373347;mate1:1283...      NaN   \n",
       "\n",
       "                                                                               category  \\\n",
       "read_id_frame                                                                             \n",
       "read100001/sp|O43295|ENSP00000373347;mate1:1283...  Translation frame has stop codon(s)   \n",
       "read100001/sp|O43295|ENSP00000373347;mate1:1283...  Translation frame has stop codon(s)   \n",
       "read100001/sp|O43295|ENSP00000373347;mate1:1283...  Translation frame has stop codon(s)   \n",
       "read100001/sp|O43295|ENSP00000373347;mate1:1283...  Translation frame has stop codon(s)   \n",
       "read100001/sp|O43295|ENSP00000373347;mate1:1283...  Translation frame has stop codon(s)   \n",
       "\n",
       "                                                    translation_frame  \\\n",
       "read_id_frame                                                           \n",
       "read100001/sp|O43295|ENSP00000373347;mate1:1283...                 -1   \n",
       "read100001/sp|O43295|ENSP00000373347;mate1:1283...                 -1   \n",
       "read100001/sp|O43295|ENSP00000373347;mate1:1283...                 -1   \n",
       "read100001/sp|O43295|ENSP00000373347;mate1:1283...                 -1   \n",
       "read100001/sp|O43295|ENSP00000373347;mate1:1283...                 -1   \n",
       "\n",
       "                                                                              filename  \\\n",
       "read_id_frame                                                                            \n",
       "read100001/sp|O43295|ENSP00000373347;mate1:1283...  Homo_sapiens_9606_qfo_dna_01.fq.gz   \n",
       "read100001/sp|O43295|ENSP00000373347;mate1:1283...  Homo_sapiens_9606_qfo_dna_01.fq.gz   \n",
       "read100001/sp|O43295|ENSP00000373347;mate1:1283...  Homo_sapiens_9606_qfo_dna_01.fq.gz   \n",
       "read100001/sp|O43295|ENSP00000373347;mate1:1283...  Homo_sapiens_9606_qfo_dna_01.fq.gz   \n",
       "read100001/sp|O43295|ENSP00000373347;mate1:1283...  Homo_sapiens_9606_qfo_dna_01.fq.gz   \n",
       "\n",
       "                                                   alphabet  ksize species  \\\n",
       "read_id_frame                                                                \n",
       "read100001/sp|O43295|ENSP00000373347;mate1:1283...  dayhoff     31   human   \n",
       "read100001/sp|O43295|ENSP00000373347;mate1:1283...  dayhoff     19   human   \n",
       "read100001/sp|O43295|ENSP00000373347;mate1:1283...  protein     13   human   \n",
       "read100001/sp|O43295|ENSP00000373347;mate1:1283...  protein     27   human   \n",
       "read100001/sp|O43295|ENSP00000373347;mate1:1283...  protein     24   human   \n",
       "\n",
       "                                                    is_coding  \\\n",
       "read_id_frame                                                   \n",
       "read100001/sp|O43295|ENSP00000373347;mate1:1283...      False   \n",
       "read100001/sp|O43295|ENSP00000373347;mate1:1283...      False   \n",
       "read100001/sp|O43295|ENSP00000373347;mate1:1283...      False   \n",
       "read100001/sp|O43295|ENSP00000373347;mate1:1283...      False   \n",
       "read100001/sp|O43295|ENSP00000373347;mate1:1283...      False   \n",
       "\n",
       "                                                                   protein_id  \\\n",
       "read_id_frame                                                                   \n",
       "read100001/sp|O43295|ENSP00000373347;mate1:1283...  sp|O43295|ENSP00000373347   \n",
       "read100001/sp|O43295|ENSP00000373347;mate1:1283...  sp|O43295|ENSP00000373347   \n",
       "read100001/sp|O43295|ENSP00000373347;mate1:1283...  sp|O43295|ENSP00000373347   \n",
       "read100001/sp|O43295|ENSP00000373347;mate1:1283...  sp|O43295|ENSP00000373347   \n",
       "read100001/sp|O43295|ENSP00000373347;mate1:1283...  sp|O43295|ENSP00000373347   \n",
       "\n",
       "                                                   uniprot_id  \n",
       "read_id_frame                                                  \n",
       "read100001/sp|O43295|ENSP00000373347;mate1:1283...     O43295  \n",
       "read100001/sp|O43295|ENSP00000373347;mate1:1283...     O43295  \n",
       "read100001/sp|O43295|ENSP00000373347;mate1:1283...     O43295  \n",
       "read100001/sp|O43295|ENSP00000373347;mate1:1283...     O43295  \n",
       "read100001/sp|O43295|ENSP00000373347;mate1:1283...     O43295  "
      ]
     },
     "execution_count": 136,
     "metadata": {},
     "output_type": "execute_result"
    }
   ],
   "source": [
    "human_scores.head()"
   ]
  },
  {
   "cell_type": "code",
   "execution_count": 137,
   "metadata": {},
   "outputs": [
    {
     "data": {
      "text/plain": [
       "(127187424, 12)"
      ]
     },
     "execution_count": 137,
     "metadata": {},
     "output_type": "execute_result"
    }
   ],
   "source": [
    "human_scores.shape"
   ]
  },
  {
   "cell_type": "code",
   "execution_count": 138,
   "metadata": {},
   "outputs": [
    {
     "data": {
      "text/plain": [
       "(127187424, 12)"
      ]
     },
     "execution_count": 138,
     "metadata": {},
     "output_type": "execute_result"
    }
   ],
   "source": [
    "mouse_scores.shape"
   ]
  },
  {
   "cell_type": "markdown",
   "metadata": {},
   "source": [
    "### Check that human and mouse are not equal"
   ]
  },
  {
   "cell_type": "code",
   "execution_count": 139,
   "metadata": {},
   "outputs": [
    {
     "data": {
      "text/plain": [
       "False"
      ]
     },
     "execution_count": 139,
     "metadata": {},
     "output_type": "execute_result"
    }
   ],
   "source": [
    "(human_scores.jaccard_in_peptide_db == mouse_scores.jaccard_in_peptide_db).all()"
   ]
  },
  {
   "cell_type": "code",
   "execution_count": 143,
   "metadata": {},
   "outputs": [
    {
     "data": {
      "text/plain": [
       "<matplotlib.axes._subplots.AxesSubplot at 0x7e9e3e6184a8>"
      ]
     },
     "execution_count": 143,
     "metadata": {},
     "output_type": "execute_result"
    },
    {
     "data": {
      "image/png": "[encoded data removed]",
      "text/plain": [
       "<Figure size 432x288 with 1 Axes>"
      ]
     },
     "metadata": {
      "needs_background": "light"
     },
     "output_type": "display_data"
    }
   ],
   "source": [
    "jaccard_diff = human_scores.jaccard_in_peptide_db.subtract(mouse_scores.jaccard_in_peptide_db)\n",
    "sns.distplot(jaccard_diff.dropna())"
   ]
  },
  {
   "cell_type": "markdown",
   "metadata": {},
   "source": [
    "### Write concatenated n frames per read, categorization to file"
   ]
  },
  {
   "cell_type": "code",
   "execution_count": 141,
   "metadata": {},
   "outputs": [],
   "source": [
    "mouse_scores.to_parquet('/mnt/ibm_sm/home/olga/pipeline-results/human-simulated/nf-predictorthologs--busco-mammalia-mouse/translate/coding_scores.parquet')"
   ]
  },
  {
   "cell_type": "code",
   "execution_count": null,
   "metadata": {},
   "outputs": [],
   "source": [
    "ls -lha '/mnt/ibm_sm/home/olga/pipeline-results/human-simulated/nf-predictorthologs--busco-mammalia-mouse/translate/coding_scores.parquet'"
   ]
  }
 ],
 "metadata": {
  "kernelspec": {
   "display_name": "Python 3",
   "language": "python",
   "name": "python3"
  },
  "language_info": {
   "codemirror_mode": {
    "name": "ipython",
    "version": 3
   },
   "file_extension": ".py",
   "mimetype": "text/x-python",
   "name": "python",
   "nbconvert_exporter": "python",
   "pygments_lexer": "ipython3",
   "version": "3.6.10"
  }
 },
 "nbformat": 4,
 "nbformat_minor": 4
}
