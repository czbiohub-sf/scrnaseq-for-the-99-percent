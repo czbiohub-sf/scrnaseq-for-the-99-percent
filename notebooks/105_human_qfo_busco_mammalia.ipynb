{
 "cells": [
  {
   "cell_type": "markdown",
   "metadata": {},
   "source": [
    "# Imports"
   ]
  },
  {
   "cell_type": "code",
   "execution_count": 1,
   "metadata": {},
   "outputs": [],
   "source": [
    "import itertools\n",
    "import math\n",
    "import pandas as pd\n",
    "import json\n",
    "import os\n",
    "import glob\n",
    "\n",
    "from tqdm import tqdm\n",
    "import seaborn as sns\n",
    "\n",
    "import screed\n",
    "import sklearn\n",
    "\n",
    "%matplotlib inline"
   ]
  },
  {
   "cell_type": "code",
   "execution_count": 2,
   "metadata": {},
   "outputs": [],
   "source": [
    "mouse_busco_dir = '/mnt/ibm_sm/home/olga/pipeline-results/human-simulated/nf-predictorthologs--busco-mammalia-mouse'    \n",
    "human_busco_dir = '/mnt/ibm_sm/home/olga/pipeline-results/human-simulated/nf-predictorthologs--busco-mammalia-human'    \n"
   ]
  },
  {
   "cell_type": "markdown",
   "metadata": {},
   "source": [
    "# Get ids of \"good\" reads to use for classification"
   ]
  },
  {
   "cell_type": "markdown",
   "metadata": {},
   "source": [
    "## Subset to only reads from complete protein sequences -- *will not change with input species*\n",
    "\n",
    "could maybe write these ids to file"
   ]
  },
  {
   "cell_type": "code",
   "execution_count": 8,
   "metadata": {},
   "outputs": [],
   "source": [
    "# Quest for Orthologs data\n",
    "qfo_2019 = '/home/olga/data_sm/immune-evolution/databases/quest-for-orthologs/2019'\n",
    "qfo_eukaryota = f'{qfo_2019}/Eukaryota'\n"
   ]
  },
  {
   "cell_type": "code",
   "execution_count": 15,
   "metadata": {},
   "outputs": [
    {
     "name": "stdout",
     "output_type": "stream",
     "text": [
      "busco_mammalia_uniprot_protein_starts_with_m 8904\n",
      "uniprot_dna_starts_with_atg 20336\n"
     ]
    }
   ],
   "source": [
    "busco_mammalia_uniprot_protein_starts_with_m = []\n",
    "\n",
    "# Use only the busco mammalia proteins\n",
    "with screed.open(f'{qfo_eukaryota}/UP000005640_9606__busco_mammlia_odbv10.fasta') as records:\n",
    "    for record in records:\n",
    "        if record['sequence'].startswith(\"M\"):\n",
    "            busco_mammalia_uniprot_protein_starts_with_m.append(record['name'].split()[0].split('|')[1])\n",
    "print('busco_mammalia_uniprot_protein_starts_with_m', len(busco_mammalia_uniprot_protein_starts_with_m))\n",
    "\n",
    "\n",
    "uniprot_dna_starts_with_atg = []\n",
    "with screed.open(f'{qfo_eukaryota}/UP000005640_9606_DNA.fasta') as records:\n",
    "    for record in records:\n",
    "        if record['sequence'].startswith(\"ATG\"):\n",
    "            uniprot_dna_starts_with_atg.append(record['name'].split()[0].split('|')[1])\n",
    "print('uniprot_dna_starts_with_atg', len(uniprot_dna_starts_with_atg))"
   ]
  },
  {
   "cell_type": "code",
   "execution_count": 16,
   "metadata": {},
   "outputs": [
    {
     "data": {
      "text/plain": [
       "['A0A024R161', 'A0A024R1R8', 'A0A024RBG1']"
      ]
     },
     "execution_count": 16,
     "metadata": {},
     "output_type": "execute_result"
    }
   ],
   "source": [
    "uniprot_dna_starts_with_atg[:3]"
   ]
  },
  {
   "cell_type": "code",
   "execution_count": 17,
   "metadata": {},
   "outputs": [
    {
     "data": {
      "text/plain": [
       "['A0A087WTH1', 'A0A087WTH5', 'A0A087WWA1']"
      ]
     },
     "execution_count": 17,
     "metadata": {},
     "output_type": "execute_result"
    }
   ],
   "source": [
    "busco_mammalia_uniprot_protein_starts_with_m[:3]"
   ]
  },
  {
   "cell_type": "code",
   "execution_count": 25,
   "metadata": {},
   "outputs": [
    {
     "data": {
      "text/plain": [
       "8833"
      ]
     },
     "execution_count": 25,
     "metadata": {},
     "output_type": "execute_result"
    }
   ],
   "source": [
    "busco_mammalia_startswith_m__and__dna_startswith_atg = set(busco_mammalia_uniprot_protein_starts_with_m).intersection(uniprot_dna_starts_with_atg)\n",
    "len(busco_mammalia_startswith_m__and__dna_startswith_atg)"
   ]
  },
  {
   "cell_type": "code",
   "execution_count": 26,
   "metadata": {},
   "outputs": [
    {
     "data": {
      "text/plain": [
       "['A0A024R161', 'A0A024R1R8', 'A0A024RBG1']"
      ]
     },
     "execution_count": 26,
     "metadata": {},
     "output_type": "execute_result"
    }
   ],
   "source": [
    "uniprot_dna_starts_with_atg[:3]"
   ]
  },
  {
   "cell_type": "markdown",
   "metadata": {},
   "source": [
    "## Read gold standard reading frame file"
   ]
  },
  {
   "cell_type": "code",
   "execution_count": 27,
   "metadata": {},
   "outputs": [
    {
     "data": {
      "text/plain": [
       "read1/tr|A0A024R1R8|ENSP00000491117;mate1Start:1;mate2Start:1__frame=1      True\n",
       "read1/tr|A0A024R1R8|ENSP00000491117;mate1Start:1;mate2Start:1__frame=2     False\n",
       "read1/tr|A0A024R1R8|ENSP00000491117;mate1Start:1;mate2Start:1__frame=3     False\n",
       "read1/tr|A0A024R1R8|ENSP00000491117;mate1Start:1;mate2Start:1__frame=-1    False\n",
       "read1/tr|A0A024R1R8|ENSP00000491117;mate1Start:1;mate2Start:1__frame=-2    False\n",
       "Name: is_coding, dtype: bool"
      ]
     },
     "execution_count": 27,
     "metadata": {},
     "output_type": "execute_result"
    }
   ],
   "source": [
    "parquet = '/mnt/ibm_sm/home/olga/pipeline-results/human-simulated/true_reading_frames.parquet'\n",
    "\n",
    "true_coding_frame = pd.read_parquet(parquet)\n",
    "# Create just a series (single column) from this\n",
    "true_coding_frame = true_coding_frame['is_coding']\n",
    "true_coding_frame.head()"
   ]
  },
  {
   "cell_type": "markdown",
   "metadata": {},
   "source": [
    "# Read coding score csvs"
   ]
  },
  {
   "cell_type": "markdown",
   "metadata": {},
   "source": [
    "## Add read_id_frame and is_coding for computing metrics"
   ]
  },
  {
   "cell_type": "code",
   "execution_count": 28,
   "metadata": {},
   "outputs": [],
   "source": [
    "def add_read_id_frame_and_is_coding(df):\n",
    "    df['read_id_frame'] = df.read_id.astype(str) + '__frame=' + df.translation_frame.astype(str)\n",
    "    df['is_coding'] = df['category'] == \"Coding\"\n",
    "    return df"
   ]
  },
  {
   "cell_type": "markdown",
   "metadata": {},
   "source": [
    "## Get human busco mammalia reads"
   ]
  },
  {
   "cell_type": "code",
   "execution_count": 29,
   "metadata": {},
   "outputs": [
    {
     "name": "stdout",
     "output_type": "stream",
     "text": [
      "(22539, 3)\n"
     ]
    },
    {
     "data": {
      "text/html": [
       "<div>\n",
       "<style scoped>\n",
       "    .dataframe tbody tr th:only-of-type {\n",
       "        vertical-align: middle;\n",
       "    }\n",
       "\n",
       "    .dataframe tbody tr th {\n",
       "        vertical-align: top;\n",
       "    }\n",
       "\n",
       "    .dataframe thead th {\n",
       "        text-align: right;\n",
       "    }\n",
       "</style>\n",
       "<table border=\"1\" class=\"dataframe\">\n",
       "  <thead>\n",
       "    <tr style=\"text-align: right;\">\n",
       "      <th></th>\n",
       "      <th>source__uniprot_id</th>\n",
       "      <th>source__id_type</th>\n",
       "      <th>source__db_id</th>\n",
       "    </tr>\n",
       "  </thead>\n",
       "  <tbody>\n",
       "    <tr>\n",
       "      <th>0</th>\n",
       "      <td>P61981</td>\n",
       "      <td>OrthoDB</td>\n",
       "      <td>1176818at2759</td>\n",
       "    </tr>\n",
       "    <tr>\n",
       "      <th>1</th>\n",
       "      <td>P27348</td>\n",
       "      <td>OrthoDB</td>\n",
       "      <td>1176818at2759</td>\n",
       "    </tr>\n",
       "    <tr>\n",
       "      <th>2</th>\n",
       "      <td>P30443</td>\n",
       "      <td>OrthoDB</td>\n",
       "      <td>1390181at2759</td>\n",
       "    </tr>\n",
       "    <tr>\n",
       "      <th>3</th>\n",
       "      <td>Q96QU6</td>\n",
       "      <td>OrthoDB</td>\n",
       "      <td>1156861at2759</td>\n",
       "    </tr>\n",
       "    <tr>\n",
       "      <th>4</th>\n",
       "      <td>P10321</td>\n",
       "      <td>OrthoDB</td>\n",
       "      <td>1390181at2759</td>\n",
       "    </tr>\n",
       "  </tbody>\n",
       "</table>\n",
       "</div>"
      ],
      "text/plain": [
       "  source__uniprot_id source__id_type  source__db_id\n",
       "0             P61981         OrthoDB  1176818at2759\n",
       "1             P27348         OrthoDB  1176818at2759\n",
       "2             P30443         OrthoDB  1390181at2759\n",
       "3             Q96QU6         OrthoDB  1156861at2759\n",
       "4             P10321         OrthoDB  1390181at2759"
      ]
     },
     "execution_count": 29,
     "metadata": {},
     "output_type": "execute_result"
    }
   ],
   "source": [
    "human_busco_mammalia = pd.read_csv('/mnt/ibm_sm/home/olga/pipeline-results/human-simulated/busco_mammalia_human_uniprot_ids.csv')\n",
    "print(human_busco_mammalia.shape)\n",
    "human_busco_mammalia.head()"
   ]
  },
  {
   "cell_type": "markdown",
   "metadata": {},
   "source": [
    "## Function to read coding scores consistently"
   ]
  },
  {
   "cell_type": "code",
   "execution_count": 30,
   "metadata": {},
   "outputs": [
    {
     "name": "stdout",
     "output_type": "stream",
     "text": [
      "ndnd\n"
     ]
    }
   ],
   "source": [
    "!hostname"
   ]
  },
  {
   "cell_type": "code",
   "execution_count": 31,
   "metadata": {},
   "outputs": [],
   "source": [
    "def read_translate_csvs(globber, species=None, \n",
    "                        human_busco_mammalia=human_busco_mammalia, \n",
    "                        uniprot_dna_starts_with_atg=uniprot_dna_starts_with_atg, \n",
    "                        true_coding_frame=true_coding_frame):\n",
    "    dfs = []\n",
    "    \n",
    "    for filename in tqdm(glob.glob(globber)):\n",
    "        dirname = os.path.dirname(filename)\n",
    "        parent_dir = os.path.basename(dirname)\n",
    "        molecule_, ksize_ = parent_dir.split('_')\n",
    "        molecule = molecule_.split('-')[1]\n",
    "        ksize = int(ksize_.split('-')[1])\n",
    "        \n",
    "        df = pd.read_csv(filename)\n",
    "        df['alphabet'] = molecule\n",
    "        df['ksize'] = ksize\n",
    "        df['species'] = species \n",
    "        df = add_read_id_frame_and_is_coding(df)\n",
    "        \n",
    "        # Get only reads generated from busco mammalia data\n",
    "        df['protein_id'] = df['read_id'].map(lambda x: x.split('/')[1].split(';')[0])\n",
    "        df['uniprot_id'] = df['protein_id'].str.split('|').str[1]\n",
    "        df = df.query('uniprot_id in @human_busco_mammalia.source__uniprot_id')\n",
    "        \n",
    "        # Get only reads from transcripts starting with ATG and no Ns, and only busco mammalia\n",
    "        df = df.query('uniprot_id in @busco_mammalia_startswith_m__and__dna_startswith_atg')\n",
    "        \n",
    "        # Only use reads and frames in the gold standard data\n",
    "        df = df.query('read_id_frame in @true_coding_frame.index')\n",
    "        \n",
    "        # Set the read id and frame as the row names\n",
    "        df = df.set_index('read_id_frame')\n",
    "\n",
    "        dfs.append(df)\n",
    "    concatenated = pd.concat(dfs, ignore_index=False)\n",
    "    concatenated = concatenated.sort_index()\n",
    "    return concatenated"
   ]
  },
  {
   "cell_type": "markdown",
   "metadata": {},
   "source": [
    "## Read human coding scores"
   ]
  },
  {
   "cell_type": "code",
   "execution_count": 32,
   "metadata": {},
   "outputs": [
    {
     "name": "stdout",
     "output_type": "stream",
     "text": [
      "total 1.4G\n",
      "drwxr-xr-x  2 olga czb 4.0K Oct  5 10:47 .\n",
      "drwxr-xr-x 48 olga czb 8.0K Sep 30 17:54 ..\n",
      "-rw-r--r--  1 olga czb  87M Oct  5 10:47 Homo_sapiens_9606_qfo_dna_01__molecule-dayhoff_ksize-10__coding_reads_nucleotides.fasta\n",
      "-rw-r--r--  1 olga czb  53M Oct  5 10:47 Homo_sapiens_9606_qfo_dna_01__molecule-dayhoff_ksize-10__coding_reads_peptides.fasta\n",
      "-rw-r--r--  1 olga czb 815M Oct  5 10:47 Homo_sapiens_9606_qfo_dna_01__molecule-dayhoff_ksize-10__coding_scores.csv\n",
      "-rw-r--r--  1 olga czb 2.0K Oct  5 10:47 Homo_sapiens_9606_qfo_dna_01__molecule-dayhoff_ksize-10__coding_summary.json\n",
      "-rw-r--r--  1 olga czb 417M Oct  5 10:47 Homo_sapiens_9606_qfo_dna_01__molecule-dayhoff_ksize-10__noncoding_reads_nucleotides.fasta\n"
     ]
    }
   ],
   "source": [
    "! ls -lha $human_busco_dir/translate/molecule-dayhoff_ksize-10/"
   ]
  },
  {
   "cell_type": "code",
   "execution_count": null,
   "metadata": {},
   "outputs": [
    {
     "name": "stdout",
     "output_type": "stream",
     "text": [
      "total 51M\n",
      "drwxr-xr-x  8 olga czb 4.0K Sep 25 19:08 .\n",
      "drwxr-xr-x  9 olga czb 4.0K Oct  2 09:04 ..\n",
      "drwxr-xr-x  2 olga czb 8.0K Oct  5 15:04 blastp\n",
      "-rw-r--r--  1 olga czb  51M Sep 25 19:08 correct_reading_frames.csv\n",
      "drwxr-xr-x  2 olga czb 4.0K Oct  5 14:54 MultiQC\n",
      "drwxr-xr-x  2 olga czb 4.0K Oct  5 10:29 ncbi_refseq\n",
      "drwxr-xr-x  2 olga czb 4.0K Oct  5 15:04 pipeline_info\n",
      "drwxr-xr-x  2 olga czb 8.0K Oct  5 10:30 sencha\n",
      "drwxr-xr-x 48 olga czb 8.0K Sep 30 17:54 translate\n"
     ]
    },
    {
     "name": "stderr",
     "output_type": "stream",
     "text": [
      " 26%|██▌       | 12/46 [08:05<22:55, 40.47s/it]"
     ]
    }
   ],
   "source": [
    "%%time\n",
    "\n",
    "human_busco_dir = '/mnt/ibm_sm/home/olga/pipeline-results/human-simulated/nf-predictorthologs--busco-mammalia-human'    \n",
    "!ls -lha $human_busco_dir\n",
    "human_scores = read_translate_csvs(\n",
    "    f'{human_busco_dir}/translate/*/*.csv', \n",
    "    species='human',\n",
    "    human_busco_mammalia=human_busco_mammalia, \n",
    "    uniprot_dna_starts_with_atg=uniprot_dna_starts_with_atg, \n",
    "    true_coding_frame=true_coding_frame\n",
    ")\n",
    "print(human_scores.shape)\n",
    "human_scores.head()"
   ]
  },
  {
   "cell_type": "code",
   "execution_count": null,
   "metadata": {},
   "outputs": [],
   "source": [
    "human_scores.head()"
   ]
  },
  {
   "cell_type": "markdown",
   "metadata": {},
   "source": [
    "### Write concatenated n frames per read, categorization to file"
   ]
  },
  {
   "cell_type": "code",
   "execution_count": null,
   "metadata": {},
   "outputs": [],
   "source": [
    "human_scores.to_parquet('/mnt/ibm_sm/home/olga/pipeline-results/human-simulated/nf-predictorthologs--busco-mammalia-human/translate/coding_scores.parquet')"
   ]
  },
  {
   "cell_type": "markdown",
   "metadata": {},
   "source": [
    "## Read mouse coding scores"
   ]
  },
  {
   "cell_type": "code",
   "execution_count": null,
   "metadata": {},
   "outputs": [],
   "source": [
    "%%time\n",
    "\n",
    "mouse_busco_dir = '/mnt/ibm_sm/home/olga/pipeline-results/human-simulated/nf-predictorthologs--busco-mammalia-mouse'    \n",
    "!ls -lha $mouse_busco_dir\n",
    "mouse_scores = read_translate_csvs(\n",
    "    f'{mouse_busco_dir}/translate/*/*.csv', \n",
    "    species='mouse'\n",
    "    human_busco_mammalia=human_busco_mammalia, \n",
    "    uniprot_dna_starts_with_atg=uniprot_dna_starts_with_atg, \n",
    "    true_coding_frame=true_coding_frame\n",
    ")\n",
    "print(mouse_scores.shape)\n",
    "mouse_scores.head()"
   ]
  },
  {
   "cell_type": "code",
   "execution_count": null,
   "metadata": {},
   "outputs": [],
   "source": [
    "mouse_scores.head()"
   ]
  },
  {
   "cell_type": "code",
   "execution_count": null,
   "metadata": {},
   "outputs": [],
   "source": [
    "human_scores.head()"
   ]
  },
  {
   "cell_type": "code",
   "execution_count": null,
   "metadata": {},
   "outputs": [],
   "source": [
    "human_scores.shape"
   ]
  },
  {
   "cell_type": "code",
   "execution_count": null,
   "metadata": {},
   "outputs": [],
   "source": [
    "mouse_scores.shape"
   ]
  },
  {
   "cell_type": "markdown",
   "metadata": {},
   "source": [
    "### Check that human and mouse are not equal"
   ]
  },
  {
   "cell_type": "code",
   "execution_count": null,
   "metadata": {},
   "outputs": [],
   "source": [
    "(human_scores.jaccard_in_peptide_db == mouse_scores.jaccard_in_peptide_db).all()"
   ]
  },
  {
   "cell_type": "code",
   "execution_count": null,
   "metadata": {},
   "outputs": [],
   "source": [
    "jaccard_diff = human_scores.jaccard_in_peptide_db.subtract(mouse_scores.jaccard_in_peptide_db)\n",
    "sns.distplot(jaccard_diff.dropna())"
   ]
  },
  {
   "cell_type": "markdown",
   "metadata": {},
   "source": [
    "### Write concatenated n frames per read, categorization to file"
   ]
  },
  {
   "cell_type": "code",
   "execution_count": null,
   "metadata": {},
   "outputs": [],
   "source": [
    "mouse_scores.to_parquet('/mnt/ibm_sm/home/olga/pipeline-results/human-simulated/nf-predictorthologs--busco-mammalia-mouse/translate/coding_scores.parquet')"
   ]
  },
  {
   "cell_type": "code",
   "execution_count": null,
   "metadata": {},
   "outputs": [],
   "source": [
    "ls -lha '/mnt/ibm_sm/home/olga/pipeline-results/human-simulated/nf-predictorthologs--busco-mammalia-mouse/translate/coding_scores.parquet'"
   ]
  }
 ],
 "metadata": {
  "kernelspec": {
   "display_name": "Python 3",
   "language": "python",
   "name": "python3"
  },
  "language_info": {
   "codemirror_mode": {
    "name": "ipython",
    "version": 3
   },
   "file_extension": ".py",
   "mimetype": "text/x-python",
   "name": "python",
   "nbconvert_exporter": "python",
   "pygments_lexer": "ipython3",
   "version": "3.6.10"
  }
 },
 "nbformat": 4,
 "nbformat_minor": 4
}
