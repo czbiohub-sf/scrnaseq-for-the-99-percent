{
 "cells": [
  {
   "cell_type": "markdown",
   "metadata": {},
   "source": [
    "# Imports"
   ]
  },
  {
   "cell_type": "code",
   "execution_count": 1,
   "metadata": {},
   "outputs": [],
   "source": [
    "import itertools\n",
    "import math\n",
    "import pandas as pd\n",
    "import json\n",
    "import os\n",
    "import glob\n",
    "\n",
    "from tqdm import tqdm\n",
    "import seaborn as sns\n",
    "\n",
    "\n",
    "import screed\n",
    "import sklearn\n",
    "\n",
    "%matplotlib inline"
   ]
  },
  {
   "cell_type": "markdown",
   "metadata": {},
   "source": [
    "# Get ids of \"good\" reads to use for classification"
   ]
  },
  {
   "cell_type": "markdown",
   "metadata": {},
   "source": [
    "## Subset to only reads from complete protein sequences -- *will not change with input species*\n",
    "\n",
    "could maybe write these ids to file"
   ]
  },
  {
   "cell_type": "code",
   "execution_count": 1,
   "metadata": {},
   "outputs": [],
   "source": [
    "# Quest for Orthologs data\n",
    "qfo_2019 = '/home/olga/data_sm/immune-evolution/databases/quest-for-orthologs/2019'\n",
    "qfo_eukaryota = f'{qfo_2019}/Eukaryota'\n"
   ]
  },
  {
   "cell_type": "code",
   "execution_count": 3,
   "metadata": {},
   "outputs": [
    {
     "name": "stdout",
     "output_type": "stream",
     "text": [
      "busco_mammalia_uniprot_protein_starts_with_m 8904\n",
      "uniprot_dna_starts_with_atg 20336\n"
     ]
    }
   ],
   "source": [
    "busco_mammalia_uniprot_protein_starts_with_m = []\n",
    "\n",
    "# Use only the busco mammalia proteins\n",
    "with screed.open(f'{qfo_eukaryota}/UP000005640_9606__busco_mammlia_odbv10.fasta') as records:\n",
    "    for record in records:\n",
    "        if record['sequence'].startswith(\"M\"):\n",
    "            busco_mammalia_uniprot_protein_starts_with_m.append(record['name'].split()[0].split('|')[1])\n",
    "print('busco_mammalia_uniprot_protein_starts_with_m', len(busco_mammalia_uniprot_protein_starts_with_m))\n",
    "\n",
    "\n",
    "uniprot_dna_starts_with_atg = []\n",
    "with screed.open(f'{qfo_eukaryota}/UP000005640_9606_DNA.fasta') as records:\n",
    "    for record in records:\n",
    "        if record['sequence'].startswith(\"ATG\"):\n",
    "            uniprot_dna_starts_with_atg.append(record['name'].split()[0].split('|')[1])\n",
    "print('uniprot_dna_starts_with_atg', len(uniprot_dna_starts_with_atg))"
   ]
  },
  {
   "cell_type": "code",
   "execution_count": 4,
   "metadata": {},
   "outputs": [
    {
     "data": {
      "text/plain": [
       "8833"
      ]
     },
     "execution_count": 4,
     "metadata": {},
     "output_type": "execute_result"
    }
   ],
   "source": [
    "busco_mammalia_startswith_m__and__dna_startswith_atg = set(busco_mammalia_uniprot_protein_starts_with_m).intersection(uniprot_dna_starts_with_atg)\n",
    "len(busco_mammalia_startswith_m__and__dna_startswith_atg)"
   ]
  },
  {
   "cell_type": "markdown",
   "metadata": {},
   "source": [
    "## Read gold standard reading frame file"
   ]
  },
  {
   "cell_type": "code",
   "execution_count": 5,
   "metadata": {},
   "outputs": [
    {
     "data": {
      "text/plain": [
       "read1/tr|A0A024R1R8|ENSP00000491117;mate1Start:1;mate2Start:1__frame=1      True\n",
       "read1/tr|A0A024R1R8|ENSP00000491117;mate1Start:1;mate2Start:1__frame=2     False\n",
       "read1/tr|A0A024R1R8|ENSP00000491117;mate1Start:1;mate2Start:1__frame=3     False\n",
       "read1/tr|A0A024R1R8|ENSP00000491117;mate1Start:1;mate2Start:1__frame=-1    False\n",
       "read1/tr|A0A024R1R8|ENSP00000491117;mate1Start:1;mate2Start:1__frame=-2    False\n",
       "Name: is_coding, dtype: bool"
      ]
     },
     "execution_count": 5,
     "metadata": {},
     "output_type": "execute_result"
    }
   ],
   "source": [
    "parquet = '/mnt/ibm_sm/home/olga/pipeline-results/human-simulated/true_reading_frames.parquet'\n",
    "\n",
    "true_coding_frame = pd.read_parquet(parquet)\n",
    "# Create just a series (single column) from this\n",
    "true_coding_frame = true_coding_frame['is_coding']\n",
    "true_coding_frame.head()"
   ]
  },
  {
   "cell_type": "markdown",
   "metadata": {},
   "source": [
    "# Read coding score csvs"
   ]
  },
  {
   "cell_type": "markdown",
   "metadata": {},
   "source": [
    "## Add read_id_frame and is_coding for computing metrics"
   ]
  },
  {
   "cell_type": "code",
   "execution_count": 6,
   "metadata": {},
   "outputs": [],
   "source": [
    "def add_read_id_frame_and_is_coding(df):\n",
    "    df['read_id_frame'] = df.read_id.astype(str) + '__frame=' + df.translation_frame.astype(str)\n",
    "    df['is_coding'] = df['category'] == \"Coding\"\n",
    "    return df"
   ]
  },
  {
   "cell_type": "markdown",
   "metadata": {},
   "source": [
    "## Get human busco mammalia reads"
   ]
  },
  {
   "cell_type": "code",
   "execution_count": 7,
   "metadata": {},
   "outputs": [
    {
     "name": "stdout",
     "output_type": "stream",
     "text": [
      "(22539, 3)\n"
     ]
    },
    {
     "data": {
      "text/html": [
       "<div>\n",
       "<style scoped>\n",
       "    .dataframe tbody tr th:only-of-type {\n",
       "        vertical-align: middle;\n",
       "    }\n",
       "\n",
       "    .dataframe tbody tr th {\n",
       "        vertical-align: top;\n",
       "    }\n",
       "\n",
       "    .dataframe thead th {\n",
       "        text-align: right;\n",
       "    }\n",
       "</style>\n",
       "<table border=\"1\" class=\"dataframe\">\n",
       "  <thead>\n",
       "    <tr style=\"text-align: right;\">\n",
       "      <th></th>\n",
       "      <th>source__uniprot_id</th>\n",
       "      <th>source__id_type</th>\n",
       "      <th>source__db_id</th>\n",
       "    </tr>\n",
       "  </thead>\n",
       "  <tbody>\n",
       "    <tr>\n",
       "      <th>0</th>\n",
       "      <td>P61981</td>\n",
       "      <td>OrthoDB</td>\n",
       "      <td>1176818at2759</td>\n",
       "    </tr>\n",
       "    <tr>\n",
       "      <th>1</th>\n",
       "      <td>P27348</td>\n",
       "      <td>OrthoDB</td>\n",
       "      <td>1176818at2759</td>\n",
       "    </tr>\n",
       "    <tr>\n",
       "      <th>2</th>\n",
       "      <td>P30443</td>\n",
       "      <td>OrthoDB</td>\n",
       "      <td>1390181at2759</td>\n",
       "    </tr>\n",
       "    <tr>\n",
       "      <th>3</th>\n",
       "      <td>Q96QU6</td>\n",
       "      <td>OrthoDB</td>\n",
       "      <td>1156861at2759</td>\n",
       "    </tr>\n",
       "    <tr>\n",
       "      <th>4</th>\n",
       "      <td>P10321</td>\n",
       "      <td>OrthoDB</td>\n",
       "      <td>1390181at2759</td>\n",
       "    </tr>\n",
       "  </tbody>\n",
       "</table>\n",
       "</div>"
      ],
      "text/plain": [
       "  source__uniprot_id source__id_type  source__db_id\n",
       "0             P61981         OrthoDB  1176818at2759\n",
       "1             P27348         OrthoDB  1176818at2759\n",
       "2             P30443         OrthoDB  1390181at2759\n",
       "3             Q96QU6         OrthoDB  1156861at2759\n",
       "4             P10321         OrthoDB  1390181at2759"
      ]
     },
     "execution_count": 7,
     "metadata": {},
     "output_type": "execute_result"
    }
   ],
   "source": [
    "human_busco_mammalia = pd.read_csv('/mnt/ibm_sm/home/olga/pipeline-results/human-simulated/busco_mammalia_human_uniprot_ids.csv')\n",
    "print(human_busco_mammalia.shape)\n",
    "human_busco_mammalia.head()"
   ]
  },
  {
   "cell_type": "markdown",
   "metadata": {},
   "source": [
    "## Function to read coding scores consistently"
   ]
  },
  {
   "cell_type": "code",
   "execution_count": 8,
   "metadata": {},
   "outputs": [
    {
     "name": "stdout",
     "output_type": "stream",
     "text": [
      "lrrr\n"
     ]
    }
   ],
   "source": [
    "!hostname"
   ]
  },
  {
   "cell_type": "code",
   "execution_count": 9,
   "metadata": {},
   "outputs": [],
   "source": [
    "def read_translate_csvs(globber, species=None, \n",
    "                        human_busco_mammalia=human_busco_mammalia, \n",
    "                        uniprot_dna_starts_with_atg=uniprot_dna_starts_with_atg, \n",
    "                        true_coding_frame=true_coding_frame):\n",
    "    dfs = []\n",
    "    \n",
    "    for filename in tqdm(glob.glob(globber)):\n",
    "        dirname = os.path.dirname(filename)\n",
    "        parent_dir = os.path.basename(dirname)\n",
    "        molecule_, ksize_ = parent_dir.split('_')\n",
    "        molecule = molecule_.split('-')[1]\n",
    "        ksize = int(ksize_.split('-')[1])\n",
    "        \n",
    "        df = pd.read_csv(filename)\n",
    "        df['alphabet'] = molecule\n",
    "        df['ksize'] = ksize\n",
    "        df['species'] = species \n",
    "        df = add_read_id_frame_and_is_coding(df)\n",
    "        \n",
    "        # Get only reads generated from busco mammalia data\n",
    "        df['protein_id'] = df['read_id'].map(lambda x: x.split('/')[1].split(';')[0])\n",
    "        df['uniprot_id'] = df['protein_id'].str.split('|').str[1]\n",
    "        df = df.query('uniprot_id in @human_busco_mammalia.source__uniprot_id')\n",
    "        \n",
    "        # Get only reads from transcripts starting with ATG and no Ns, and only busco mammalia\n",
    "        df = df.query('uniprot_id in @busco_mammalia_startswith_m__and__dna_startswith_atg')\n",
    "        \n",
    "        # Only use reads and frames in the gold standard data\n",
    "        df = df.query('read_id_frame in @true_coding_frame.index')\n",
    "        \n",
    "        # Set the read id and frame as the row names\n",
    "        df = df.set_index('read_id_frame')\n",
    "\n",
    "        dfs.append(df)\n",
    "    concatenated = pd.concat(dfs, ignore_index=False)\n",
    "    concatenated = concatenated.sort_index()\n",
    "    return concatenated"
   ]
  },
  {
   "cell_type": "markdown",
   "metadata": {},
   "source": [
    "## Read Busco mammalia coding scores"
   ]
  },
  {
   "cell_type": "code",
   "execution_count": null,
   "metadata": {},
   "outputs": [
    {
     "name": "stdout",
     "output_type": "stream",
     "text": [
      "nf-predictorthologs--busco-mammalia--mouse\n",
      "mouse\n"
     ]
    },
    {
     "name": "stderr",
     "output_type": "stream",
     "text": [
      "100%|██████████| 54/54 [30:22<00:00, 33.75s/it]\n",
      "  0%|          | 0/54 [00:00<?, ?it/s]"
     ]
    },
    {
     "name": "stdout",
     "output_type": "stream",
     "text": [
      "nf-predictorthologs--busco-mammalia--rabbit\n",
      "rabbit\n"
     ]
    },
    {
     "name": "stderr",
     "output_type": "stream",
     "text": [
      "100%|██████████| 54/54 [32:07<00:00, 35.70s/it]\n",
      "  0%|          | 0/54 [00:00<?, ?it/s]"
     ]
    },
    {
     "name": "stdout",
     "output_type": "stream",
     "text": [
      "nf-predictorthologs--busco-mammalia--bat\n",
      "bat\n"
     ]
    },
    {
     "name": "stderr",
     "output_type": "stream",
     "text": [
      "100%|██████████| 54/54 [30:24<00:00, 33.80s/it]\n"
     ]
    },
    {
     "name": "stdout",
     "output_type": "stream",
     "text": [
      "nf-predictorthologs--busco-mammalia--hedgehog\n",
      "hedgehog\n"
     ]
    },
    {
     "name": "stderr",
     "output_type": "stream",
     "text": [
      "100%|██████████| 54/54 [31:28<00:00, 34.98s/it]\n"
     ]
    },
    {
     "name": "stdout",
     "output_type": "stream",
     "text": [
      "nf-predictorthologs--busco-mammalia--shrew\n",
      "shrew\n"
     ]
    },
    {
     "name": "stderr",
     "output_type": "stream",
     "text": [
      "100%|██████████| 54/54 [31:50<00:00, 35.39s/it]\n"
     ]
    },
    {
     "name": "stdout",
     "output_type": "stream",
     "text": [
      "nf-predictorthologs--busco-mammalia--platypus\n",
      "platypus\n"
     ]
    },
    {
     "name": "stderr",
     "output_type": "stream",
     "text": [
      "100%|██████████| 54/54 [31:03<00:00, 34.52s/it]\n"
     ]
    },
    {
     "name": "stdout",
     "output_type": "stream",
     "text": [
      "nf-predictorthologs--busco-mammalia--night_monkey\n",
      "night_monkey\n"
     ]
    },
    {
     "name": "stderr",
     "output_type": "stream",
     "text": [
      "100%|██████████| 54/54 [30:37<00:00, 34.03s/it]\n"
     ]
    },
    {
     "name": "stdout",
     "output_type": "stream",
     "text": [
      "nf-predictorthologs--busco-mammalia--rhino\n",
      "rhino\n"
     ]
    },
    {
     "name": "stderr",
     "output_type": "stream",
     "text": [
      "100%|██████████| 54/54 [31:41<00:00, 35.21s/it]\n"
     ]
    },
    {
     "name": "stdout",
     "output_type": "stream",
     "text": [
      "nf-predictorthologs--busco-mammalia--camel\n",
      "camel\n"
     ]
    },
    {
     "name": "stderr",
     "output_type": "stream",
     "text": [
      "100%|██████████| 54/54 [31:25<00:00, 34.91s/it]\n"
     ]
    },
    {
     "name": "stdout",
     "output_type": "stream",
     "text": [
      "nf-predictorthologs--busco-mammalia--baiji\n",
      "baiji\n"
     ]
    },
    {
     "name": "stderr",
     "output_type": "stream",
     "text": [
      "100%|██████████| 54/54 [32:54<00:00, 36.57s/it]\n"
     ]
    }
   ],
   "source": [
    "%%time\n",
    "pipeline_base_dir = \"/home/olga/data_sm/immune-evolution/pipeline-results/human-simulated/\"\n",
    "dfs = []\n",
    "for subfolder in glob.glob(f\"{pipeline_base_dir}/*\"):\n",
    "    basename = os.path.basename(subfolder)\n",
    "    print(basename)\n",
    "    species = basename.split('--')[-1]\n",
    "    print(species)\n",
    "    df = read_translate_csvs(\n",
    "        f'{subfolder}/translate/*/*.csv', \n",
    "        species= species,\n",
    "        human_busco_mammalia=human_busco_mammalia, \n",
    "        uniprot_dna_starts_with_atg=uniprot_dna_starts_with_atg, \n",
    "        true_coding_frame=true_coding_frame\n",
    "    )\n",
    "    dfs.append(df)\n",
    "coding_scores = pd.concat(dfs)\n",
    "print(coding_scores.shape)\n",
    "coding_scores.head()"
   ]
  },
  {
   "cell_type": "code",
   "execution_count": 35,
   "metadata": {},
   "outputs": [
    {
     "name": "stdout",
     "output_type": "stream",
     "text": [
      "{'mouse'}\n",
      "{'rabbit'}\n",
      "{'bat'}\n",
      "{'hedgehog'}\n",
      "{'shrew'}\n",
      "{'platypus'}\n",
      "{'night_monkey'}\n",
      "{'rhino'}\n",
      "{'camel'}\n",
      "{'baiji'}\n",
      "{'chinchilla'}\n",
      "{'macaque'}\n",
      "{'human'}\n",
      "{'tupaia'}\n",
      "{'deer_mouse'}\n",
      "{'goat'}\n",
      "{'spalax'}\n",
      "{'koala'}\n"
     ]
    }
   ],
   "source": [
    "for d in dfs:\n",
    "    print(set(d['species']))"
   ]
  },
  {
   "cell_type": "code",
   "execution_count": 2,
   "metadata": {},
   "outputs": [
    {
     "ename": "NameError",
     "evalue": "name 'df' is not defined",
     "output_type": "error",
     "traceback": [
      "\u001b[0;31m---------------------------------------------------------------------------\u001b[0m",
      "\u001b[0;31mNameError\u001b[0m                                 Traceback (most recent call last)",
      "\u001b[0;32m<ipython-input-2-889294f0bb3b>\u001b[0m in \u001b[0;36m<module>\u001b[0;34m\u001b[0m\n\u001b[0;32m----> 1\u001b[0;31m \u001b[0mdf\u001b[0m\u001b[0;34m.\u001b[0m\u001b[0mspecies\u001b[0m\u001b[0;34m.\u001b[0m\u001b[0munique\u001b[0m\u001b[0;34m(\u001b[0m\u001b[0;34m)\u001b[0m\u001b[0;34m\u001b[0m\u001b[0;34m\u001b[0m\u001b[0m\n\u001b[0m",
      "\u001b[0;31mNameError\u001b[0m: name 'df' is not defined"
     ]
    }
   ],
   "source": [
    "for d in dfs:\n",
    "    d.species.unique()"
   ]
  },
  {
   "cell_type": "code",
   "execution_count": null,
   "metadata": {},
   "outputs": [],
   "source": [
    "coding_scores.species.value_counts()"
   ]
  },
  {
   "cell_type": "code",
   "execution_count": null,
   "metadata": {},
   "outputs": [],
   "source": [
    "print(coding_scores.shape)\n",
    "coding_scores.loc[:,'species']"
   ]
  },
  {
   "cell_type": "markdown",
   "metadata": {},
   "source": [
    "### Write concatenated n frames per read, categorization to file"
   ]
  },
  {
   "cell_type": "code",
   "execution_count": null,
   "metadata": {},
   "outputs": [],
   "source": [
    "coding_scores.to_parquet(f'{pipeline_base_dir}/coding_scores.parquet')"
   ]
  },
  {
   "cell_type": "code",
   "execution_count": 1,
   "metadata": {},
   "outputs": [
    {
     "ename": "NameError",
     "evalue": "name 'pipeline_base_dir' is not defined",
     "output_type": "error",
     "traceback": [
      "\u001b[0;31m---------------------------------------------------------------------------\u001b[0m",
      "\u001b[0;31mNameError\u001b[0m                                 Traceback (most recent call last)",
      "\u001b[0;32m<ipython-input-1-881d6689c77d>\u001b[0m in \u001b[0;36m<module>\u001b[0;34m\u001b[0m\n\u001b[0;32m----> 1\u001b[0;31m \u001b[0mpipeline_base_dir\u001b[0m\u001b[0;34m\u001b[0m\u001b[0;34m\u001b[0m\u001b[0m\n\u001b[0m",
      "\u001b[0;31mNameError\u001b[0m: name 'pipeline_base_dir' is not defined"
     ]
    }
   ],
   "source": [
    "pipeline_base_dir"
   ]
  },
  {
   "cell_type": "code",
   "execution_count": null,
   "metadata": {},
   "outputs": [],
   "source": []
  }
 ],
 "metadata": {
  "kernelspec": {
   "display_name": "Python [conda env:immune-evolution]",
   "language": "python",
   "name": "conda-env-immune-evolution-py"
  },
  "language_info": {
   "codemirror_mode": {
    "name": "ipython",
    "version": 3
   },
   "file_extension": ".py",
   "mimetype": "text/x-python",
   "name": "python",
   "nbconvert_exporter": "python",
   "pygments_lexer": "ipython3",
   "version": "3.7.8"
  },
  "toc-autonumbering": false
 },
 "nbformat": 4,
 "nbformat_minor": 4
}
