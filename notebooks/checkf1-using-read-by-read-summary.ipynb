{
 "cells": [
  {
   "cell_type": "code",
   "execution_count": 72,
   "metadata": {},
   "outputs": [],
   "source": [
    "import json\n",
    "import glob\n",
    "import pandas as pd\n",
    "from pandas import json_normalize\n",
    "\n",
    "#from sklearn.metrics import f1_score\n",
    "#from sklearn.metrics import roc_auc_score #average_precision_score\n",
    "from sklearn.metrics import precision_recall_fscore_support"
   ]
  },
  {
   "cell_type": "code",
   "execution_count": 206,
   "metadata": {},
   "outputs": [],
   "source": [
    "ncRNA = \"translate_s100/Homo_sapiens_ncRNA_03_dayhoff_k13_refsprot_t1e9_jacc0.5.readsummary.tsv\"\n",
    "qfo = \"translate_s100/Homo_sapiens_qfo_dna_03_dayhoff_k13_refsprot_t1e9_jacc0.5.readsummary.tsv\"\n",
    "nc = pd.read_csv(ncRNA, sep=\"\\t\",  index_col=[\"read_id\"])\n",
    "cd = pd.read_csv(qfo, sep=\"\\t\", index_col=[\"read_id\"])\n",
    "testDF = pd.concat([nc,cd])"
   ]
  },
  {
   "cell_type": "code",
   "execution_count": 207,
   "metadata": {},
   "outputs": [
    {
     "data": {
      "text/plain": [
       "(200, 5)"
      ]
     },
     "execution_count": 207,
     "metadata": {},
     "output_type": "execute_result"
    }
   ],
   "source": [
    "testDF.shape"
   ]
  },
  {
   "cell_type": "code",
   "execution_count": 208,
   "metadata": {},
   "outputs": [
    {
     "data": {
      "text/html": [
       "<div>\n",
       "<style scoped>\n",
       "    .dataframe tbody tr th:only-of-type {\n",
       "        vertical-align: middle;\n",
       "    }\n",
       "\n",
       "    .dataframe tbody tr th {\n",
       "        vertical-align: top;\n",
       "    }\n",
       "\n",
       "    .dataframe thead th {\n",
       "        text-align: right;\n",
       "    }\n",
       "</style>\n",
       "<table border=\"1\" class=\"dataframe\">\n",
       "  <thead>\n",
       "    <tr style=\"text-align: right;\">\n",
       "      <th></th>\n",
       "      <th>read_id</th>\n",
       "      <th>frames_coding</th>\n",
       "      <th>frames_stop</th>\n",
       "      <th>frames_noncoding</th>\n",
       "      <th>classification</th>\n",
       "      <th>filename</th>\n",
       "    </tr>\n",
       "  </thead>\n",
       "  <tbody>\n",
       "    <tr>\n",
       "      <th>0</th>\n",
       "      <td>read31734308/ENST00000609363.1 havana:known ch...</td>\n",
       "      <td>2</td>\n",
       "      <td>0</td>\n",
       "      <td>4</td>\n",
       "      <td>coding</td>\n",
       "      <td>/home/ntpierce/2020-simulate-rnaseq/QfO_verteb...</td>\n",
       "    </tr>\n",
       "    <tr>\n",
       "      <th>1</th>\n",
       "      <td>read11626489/ENST00000424955.1 havana:known ch...</td>\n",
       "      <td>0</td>\n",
       "      <td>6</td>\n",
       "      <td>0</td>\n",
       "      <td>non-coding</td>\n",
       "      <td>/home/ntpierce/2020-simulate-rnaseq/QfO_verteb...</td>\n",
       "    </tr>\n",
       "    <tr>\n",
       "      <th>2</th>\n",
       "      <td>read33406805/ENST00000398275.4 ensembl_havana_...</td>\n",
       "      <td>1</td>\n",
       "      <td>2</td>\n",
       "      <td>3</td>\n",
       "      <td>coding</td>\n",
       "      <td>/home/ntpierce/2020-simulate-rnaseq/QfO_verteb...</td>\n",
       "    </tr>\n",
       "    <tr>\n",
       "      <th>3</th>\n",
       "      <td>read1331888/ENST00000362764.1 ncrna:known chro...</td>\n",
       "      <td>0</td>\n",
       "      <td>6</td>\n",
       "      <td>0</td>\n",
       "      <td>non-coding</td>\n",
       "      <td>/home/ntpierce/2020-simulate-rnaseq/QfO_verteb...</td>\n",
       "    </tr>\n",
       "    <tr>\n",
       "      <th>4</th>\n",
       "      <td>read34338972/ENST00000415573.1 havana:known ch...</td>\n",
       "      <td>0</td>\n",
       "      <td>5</td>\n",
       "      <td>1</td>\n",
       "      <td>non-coding</td>\n",
       "      <td>/home/ntpierce/2020-simulate-rnaseq/QfO_verteb...</td>\n",
       "    </tr>\n",
       "  </tbody>\n",
       "</table>\n",
       "</div>"
      ],
      "text/plain": [
       "                                             read_id  frames_coding  \\\n",
       "0  read31734308/ENST00000609363.1 havana:known ch...              2   \n",
       "1  read11626489/ENST00000424955.1 havana:known ch...              0   \n",
       "2  read33406805/ENST00000398275.4 ensembl_havana_...              1   \n",
       "3  read1331888/ENST00000362764.1 ncrna:known chro...              0   \n",
       "4  read34338972/ENST00000415573.1 havana:known ch...              0   \n",
       "\n",
       "   frames_stop  frames_noncoding classification  \\\n",
       "0            0                 4         coding   \n",
       "1            6                 0     non-coding   \n",
       "2            2                 3         coding   \n",
       "3            6                 0     non-coding   \n",
       "4            5                 1     non-coding   \n",
       "\n",
       "                                            filename  \n",
       "0  /home/ntpierce/2020-simulate-rnaseq/QfO_verteb...  \n",
       "1  /home/ntpierce/2020-simulate-rnaseq/QfO_verteb...  \n",
       "2  /home/ntpierce/2020-simulate-rnaseq/QfO_verteb...  \n",
       "3  /home/ntpierce/2020-simulate-rnaseq/QfO_verteb...  \n",
       "4  /home/ntpierce/2020-simulate-rnaseq/QfO_verteb...  "
      ]
     },
     "execution_count": 208,
     "metadata": {},
     "output_type": "execute_result"
    }
   ],
   "source": [
    "testDF.reset_index(inplace=True)\n",
    "testDF.head()"
   ]
  },
  {
   "cell_type": "code",
   "execution_count": 242,
   "metadata": {},
   "outputs": [
    {
     "data": {
      "text/plain": [
       "'read11626489/ENST00000424955.1 havana:known chromosome:GRCh37:1:103817769:103828355:1 gene:ENSG00000232753.1 gene_biotype:lincRNA transcript_biotype:lincRNA;mate1:131-280;mate2:269-418'"
      ]
     },
     "execution_count": 242,
     "metadata": {},
     "output_type": "execute_result"
    }
   ],
   "source": [
    "testDF.loc[1][\"read_id\"]"
   ]
  },
  {
   "cell_type": "code",
   "execution_count": 218,
   "metadata": {},
   "outputs": [],
   "source": [
    "#def find_origin_csv(row):\n",
    "#    if \"qfo\" in row[\"filename\"][0]:\n",
    "#        row[\"origin\"] = \"coding\"\n",
    "#    elif \"ncRNA\" in row[\"filename\"][0]:\n",
    "#        row[\"origin\"] = \"non-coding\"\n",
    "#    return row\n",
    "#testDF.apply(find_origin_csv, axis=1)\n",
    "\n",
    "testDF[\"origin\"] = [\"non-coding\"]*100 + [\"coding\"]*100"
   ]
  },
  {
   "cell_type": "code",
   "execution_count": 219,
   "metadata": {},
   "outputs": [
    {
     "data": {
      "text/html": [
       "<div>\n",
       "<style scoped>\n",
       "    .dataframe tbody tr th:only-of-type {\n",
       "        vertical-align: middle;\n",
       "    }\n",
       "\n",
       "    .dataframe tbody tr th {\n",
       "        vertical-align: top;\n",
       "    }\n",
       "\n",
       "    .dataframe thead th {\n",
       "        text-align: right;\n",
       "    }\n",
       "</style>\n",
       "<table border=\"1\" class=\"dataframe\">\n",
       "  <thead>\n",
       "    <tr style=\"text-align: right;\">\n",
       "      <th></th>\n",
       "      <th>read_id</th>\n",
       "      <th>frames_coding</th>\n",
       "      <th>frames_stop</th>\n",
       "      <th>frames_noncoding</th>\n",
       "      <th>classification</th>\n",
       "      <th>filename</th>\n",
       "      <th>origin</th>\n",
       "    </tr>\n",
       "  </thead>\n",
       "  <tbody>\n",
       "    <tr>\n",
       "      <th>0</th>\n",
       "      <td>read31734308/ENST00000609363.1 havana:known ch...</td>\n",
       "      <td>2</td>\n",
       "      <td>0</td>\n",
       "      <td>4</td>\n",
       "      <td>coding</td>\n",
       "      <td>/home/ntpierce/2020-simulate-rnaseq/QfO_verteb...</td>\n",
       "      <td>non-coding</td>\n",
       "    </tr>\n",
       "    <tr>\n",
       "      <th>1</th>\n",
       "      <td>read11626489/ENST00000424955.1 havana:known ch...</td>\n",
       "      <td>0</td>\n",
       "      <td>6</td>\n",
       "      <td>0</td>\n",
       "      <td>non-coding</td>\n",
       "      <td>/home/ntpierce/2020-simulate-rnaseq/QfO_verteb...</td>\n",
       "      <td>non-coding</td>\n",
       "    </tr>\n",
       "    <tr>\n",
       "      <th>2</th>\n",
       "      <td>read33406805/ENST00000398275.4 ensembl_havana_...</td>\n",
       "      <td>1</td>\n",
       "      <td>2</td>\n",
       "      <td>3</td>\n",
       "      <td>coding</td>\n",
       "      <td>/home/ntpierce/2020-simulate-rnaseq/QfO_verteb...</td>\n",
       "      <td>non-coding</td>\n",
       "    </tr>\n",
       "    <tr>\n",
       "      <th>3</th>\n",
       "      <td>read1331888/ENST00000362764.1 ncrna:known chro...</td>\n",
       "      <td>0</td>\n",
       "      <td>6</td>\n",
       "      <td>0</td>\n",
       "      <td>non-coding</td>\n",
       "      <td>/home/ntpierce/2020-simulate-rnaseq/QfO_verteb...</td>\n",
       "      <td>non-coding</td>\n",
       "    </tr>\n",
       "    <tr>\n",
       "      <th>4</th>\n",
       "      <td>read34338972/ENST00000415573.1 havana:known ch...</td>\n",
       "      <td>0</td>\n",
       "      <td>5</td>\n",
       "      <td>1</td>\n",
       "      <td>non-coding</td>\n",
       "      <td>/home/ntpierce/2020-simulate-rnaseq/QfO_verteb...</td>\n",
       "      <td>non-coding</td>\n",
       "    </tr>\n",
       "  </tbody>\n",
       "</table>\n",
       "</div>"
      ],
      "text/plain": [
       "                                             read_id  frames_coding  \\\n",
       "0  read31734308/ENST00000609363.1 havana:known ch...              2   \n",
       "1  read11626489/ENST00000424955.1 havana:known ch...              0   \n",
       "2  read33406805/ENST00000398275.4 ensembl_havana_...              1   \n",
       "3  read1331888/ENST00000362764.1 ncrna:known chro...              0   \n",
       "4  read34338972/ENST00000415573.1 havana:known ch...              0   \n",
       "\n",
       "   frames_stop  frames_noncoding classification  \\\n",
       "0            0                 4         coding   \n",
       "1            6                 0     non-coding   \n",
       "2            2                 3         coding   \n",
       "3            6                 0     non-coding   \n",
       "4            5                 1     non-coding   \n",
       "\n",
       "                                            filename      origin  \n",
       "0  /home/ntpierce/2020-simulate-rnaseq/QfO_verteb...  non-coding  \n",
       "1  /home/ntpierce/2020-simulate-rnaseq/QfO_verteb...  non-coding  \n",
       "2  /home/ntpierce/2020-simulate-rnaseq/QfO_verteb...  non-coding  \n",
       "3  /home/ntpierce/2020-simulate-rnaseq/QfO_verteb...  non-coding  \n",
       "4  /home/ntpierce/2020-simulate-rnaseq/QfO_verteb...  non-coding  "
      ]
     },
     "execution_count": 219,
     "metadata": {},
     "output_type": "execute_result"
    }
   ],
   "source": [
    "testDF.head()"
   ]
  },
  {
   "cell_type": "code",
   "execution_count": 220,
   "metadata": {},
   "outputs": [
    {
     "data": {
      "text/plain": [
       "coding        104\n",
       "non-coding     96\n",
       "Name: classification, dtype: int64"
      ]
     },
     "execution_count": 220,
     "metadata": {},
     "output_type": "execute_result"
    }
   ],
   "source": [
    "testDF[\"classification\"].value_counts()"
   ]
  },
  {
   "cell_type": "code",
   "execution_count": 221,
   "metadata": {},
   "outputs": [
    {
     "data": {
      "text/plain": [
       "coding        100\n",
       "non-coding    100\n",
       "Name: origin, dtype: int64"
      ]
     },
     "execution_count": 221,
     "metadata": {},
     "output_type": "execute_result"
    }
   ],
   "source": [
    "testDF[\"origin\"].value_counts()"
   ]
  },
  {
   "cell_type": "code",
   "execution_count": 222,
   "metadata": {},
   "outputs": [
    {
     "data": {
      "text/plain": [
       "(array([0.90384615, 0.9375    ]),\n",
       " array([0.94, 0.9 ]),\n",
       " array([0.92156863, 0.91836735]),\n",
       " array([100, 100]))"
      ]
     },
     "execution_count": 222,
     "metadata": {},
     "output_type": "execute_result"
    }
   ],
   "source": [
    "# precision_recall_fscore_support returns:\n",
    "#    precisionfloat (if average is not None) or array of float, shape = [n_unique_labels]\n",
    "#    recallfloat (if average is not None) or array of float, , shape = [n_unique_labels]\n",
    "#    fbeta_scorefloat (if average is not None) or array of float, shape = [n_unique_labels]\n",
    "#    supportNone (if average is not None) or array of int, shape = [n_unique_labels]\n",
    "#The number of occurrences of each label in y_true.\n",
    "\n",
    "# precision = TP/ (TP + FP)\n",
    "# recall = TP/ (TP + FN)\n",
    "\n",
    "precision_recall_fscore_support(testDF[\"origin\"].tolist(), testDF[\"classification\"].tolist()) #labels=None, pos_label=1, average='binary', sample_weight=None, zero_division='warn')"
   ]
  },
  {
   "cell_type": "code",
   "execution_count": 223,
   "metadata": {},
   "outputs": [
    {
     "data": {
      "text/plain": [
       "(array([0.90384615, 0.9375    ]),\n",
       " array([0.94, 0.9 ]),\n",
       " array([0.92156863, 0.91836735]),\n",
       " array([100, 100]))"
      ]
     },
     "execution_count": 223,
     "metadata": {},
     "output_type": "execute_result"
    }
   ],
   "source": [
    "precision_recall_fscore_support(testDF[\"origin\"].tolist(), testDF[\"classification\"].tolist(), labels=['coding', 'non-coding']) #labels=None, pos_label=1, average='binary', sample_weight=None, zero_division='warn')"
   ]
  },
  {
   "cell_type": "code",
   "execution_count": 224,
   "metadata": {},
   "outputs": [
    {
     "data": {
      "text/plain": [
       "(0.92, 0.92, 0.92, None)"
      ]
     },
     "execution_count": 224,
     "metadata": {},
     "output_type": "execute_result"
    }
   ],
   "source": [
    "# average = \"micro\"\n",
    "# Calculate metrics globally by counting the total true positives, false negatives and false positives.\n",
    "\n",
    "precision_recall_fscore_support(testDF[\"origin\"].tolist(), testDF[\"classification\"].tolist(), labels=['coding', 'non-coding'], average=\"micro\") #labels=None, pos_label=1, average='binary', sample_weight=None, zero_division='warn')\n",
    "# returns global precision, global recall, global fbeta"
   ]
  },
  {
   "cell_type": "code",
   "execution_count": 225,
   "metadata": {},
   "outputs": [],
   "source": [
    "from sklearn.metrics import classification_report"
   ]
  },
  {
   "cell_type": "code",
   "execution_count": 226,
   "metadata": {},
   "outputs": [
    {
     "name": "stdout",
     "output_type": "stream",
     "text": [
      "              precision    recall  f1-score   support\n",
      "\n",
      "      coding       0.90      0.94      0.92       100\n",
      "  non-coding       0.94      0.90      0.92       100\n",
      "\n",
      "    accuracy                           0.92       200\n",
      "   macro avg       0.92      0.92      0.92       200\n",
      "weighted avg       0.92      0.92      0.92       200\n",
      "\n"
     ]
    }
   ],
   "source": [
    " print(classification_report(testDF[\"origin\"].tolist(), testDF[\"classification\"].tolist(), labels=['coding', 'non-coding']))#, average=\"micro\") #labels=None, pos_label=1, average='binary', sample_weight=None, zero_division='warn')\n"
   ]
  },
  {
   "cell_type": "code",
   "execution_count": 227,
   "metadata": {},
   "outputs": [],
   "source": [
    "# lets read in json summary and csv for this exact file and double check my summary script\n",
    "json_coding = \"translate_Hsapiens/Homo_sapiens_qfo_dna_03_dayhoff_k13_refsprot_t1e9.json\"\n",
    "json_nc = \"translate_Hsapiens/Homo_sapiens_ncRNA_03_dayhoff_k13_refsprot_t1e9.json\"\n",
    "#sencha_csv = \"translate_Hsapiens/Homo_sapiens_ncRNA_qfo_dna_03_dayhoff_k13_refsprot_t1e9.csv\"\n",
    "filename_list = [json_coding, json_nc]"
   ]
  },
  {
   "cell_type": "code",
   "execution_count": 228,
   "metadata": {},
   "outputs": [],
   "source": [
    "def build_summary_df(filename_list):\n",
    "    all_info=[]\n",
    "    for fi in filename_list:\n",
    "        with open(fi) as f:\n",
    "            all_info.append(json_normalize(json.load(f)))\n",
    "    return all_info"
   ]
  },
  {
   "cell_type": "code",
   "execution_count": 229,
   "metadata": {},
   "outputs": [],
   "source": [
    "jsonInfo = build_summary_df(filename_list)\n",
    "jDF = pd.concat(jsonInfo).fillna(0)"
   ]
  },
  {
   "cell_type": "code",
   "execution_count": 230,
   "metadata": {},
   "outputs": [],
   "source": [
    "jDF[\"total_reads\"] = jDF.groupby((jDF.columns.str.split(\".\").str[0].str.contains(\"categorization_counts\")),axis=1).sum()[True]"
   ]
  },
  {
   "cell_type": "code",
   "execution_count": 231,
   "metadata": {},
   "outputs": [
    {
     "data": {
      "text/plain": [
       "0    94\n",
       "0    10\n",
       "Name: categorization_counts.Coding, dtype: int64"
      ]
     },
     "execution_count": 231,
     "metadata": {},
     "output_type": "execute_result"
    }
   ],
   "source": [
    "jDF[\"categorization_counts.Coding\"]\n"
   ]
  },
  {
   "cell_type": "code",
   "execution_count": 250,
   "metadata": {},
   "outputs": [],
   "source": [
    "def find_origin(row):\n",
    "    if \"qfo\" in row[\"input_files\"][0]:\n",
    "        row[\"origin\"] = \"coding\"\n",
    "        row[\"true_positives\"] = row[\"categorization_counts.Coding\"]\n",
    "        row[\"true_negatives\"] = 0\n",
    "        row[\"false_positives\"] = 0 \n",
    "        row[\"false_negatives\"] = row[\"total_reads\"] - row[\"categorization_counts.Coding\"]\n",
    "    elif \"ncRNA\" in row[\"input_files\"][0]:\n",
    "        row[\"origin\"] = \"noncoding\"\n",
    "        row[\"true_positives\"] = 0\n",
    "        row[\"true_negatives\"] = row[\"total_reads\"] - row[\"categorization_counts.Coding\"]\n",
    "        row[\"false_positives\"] = row[\"categorization_counts.Coding\"]\n",
    "        row[\"false_negatives\"]= 0\n",
    "    return row\n",
    "\n",
    "jDF = jDF.apply(find_origin, axis=1)"
   ]
  },
  {
   "cell_type": "code",
   "execution_count": 251,
   "metadata": {},
   "outputs": [
    {
     "data": {
      "text/plain": [
       "0     0\n",
       "0    90\n",
       "Name: true_negatives, dtype: int64"
      ]
     },
     "execution_count": 251,
     "metadata": {},
     "output_type": "execute_result"
    }
   ],
   "source": [
    "jDF[\"true_negatives\"]"
   ]
  },
  {
   "cell_type": "code",
   "execution_count": 252,
   "metadata": {},
   "outputs": [],
   "source": [
    "metricDF = jDF.groupby([\"peptide_alphabet\", \"peptide_ksize\", \"peptide_bloom_filter\"]).sum()[[\"true_positives\", \"true_negatives\", \"false_positives\", \"false_negatives\"]]"
   ]
  },
  {
   "cell_type": "code",
   "execution_count": 253,
   "metadata": {},
   "outputs": [
    {
     "data": {
      "text/html": [
       "<div>\n",
       "<style scoped>\n",
       "    .dataframe tbody tr th:only-of-type {\n",
       "        vertical-align: middle;\n",
       "    }\n",
       "\n",
       "    .dataframe tbody tr th {\n",
       "        vertical-align: top;\n",
       "    }\n",
       "\n",
       "    .dataframe thead th {\n",
       "        text-align: right;\n",
       "    }\n",
       "</style>\n",
       "<table border=\"1\" class=\"dataframe\">\n",
       "  <thead>\n",
       "    <tr style=\"text-align: right;\">\n",
       "      <th></th>\n",
       "      <th></th>\n",
       "      <th></th>\n",
       "      <th>true_positives</th>\n",
       "      <th>true_negatives</th>\n",
       "      <th>false_positives</th>\n",
       "      <th>false_negatives</th>\n",
       "    </tr>\n",
       "    <tr>\n",
       "      <th>peptide_alphabet</th>\n",
       "      <th>peptide_ksize</th>\n",
       "      <th>peptide_bloom_filter</th>\n",
       "      <th></th>\n",
       "      <th></th>\n",
       "      <th></th>\n",
       "      <th></th>\n",
       "    </tr>\n",
       "  </thead>\n",
       "  <tbody>\n",
       "    <tr>\n",
       "      <th>dayhoff</th>\n",
       "      <th>13</th>\n",
       "      <th>output_simreads/sencha/index/refsprot_t1e9_dayhoff_k13.index</th>\n",
       "      <td>94</td>\n",
       "      <td>90</td>\n",
       "      <td>10</td>\n",
       "      <td>6</td>\n",
       "    </tr>\n",
       "  </tbody>\n",
       "</table>\n",
       "</div>"
      ],
      "text/plain": [
       "                                                                                   true_positives  \\\n",
       "peptide_alphabet peptide_ksize peptide_bloom_filter                                                 \n",
       "dayhoff          13            output_simreads/sencha/index/refsprot_t1e9_dayh...              94   \n",
       "\n",
       "                                                                                   true_negatives  \\\n",
       "peptide_alphabet peptide_ksize peptide_bloom_filter                                                 \n",
       "dayhoff          13            output_simreads/sencha/index/refsprot_t1e9_dayh...              90   \n",
       "\n",
       "                                                                                   false_positives  \\\n",
       "peptide_alphabet peptide_ksize peptide_bloom_filter                                                  \n",
       "dayhoff          13            output_simreads/sencha/index/refsprot_t1e9_dayh...               10   \n",
       "\n",
       "                                                                                   false_negatives  \n",
       "peptide_alphabet peptide_ksize peptide_bloom_filter                                                 \n",
       "dayhoff          13            output_simreads/sencha/index/refsprot_t1e9_dayh...                6  "
      ]
     },
     "execution_count": 253,
     "metadata": {},
     "output_type": "execute_result"
    }
   ],
   "source": [
    "metricDF"
   ]
  },
  {
   "cell_type": "code",
   "execution_count": 254,
   "metadata": {},
   "outputs": [],
   "source": [
    "metricDF[\"precision\"] = metricDF[\"true_positives\"]/(metricDF[\"true_positives\"] + metricDF[\"false_positives\"])\n",
    "metricDF[\"recall\"] = metricDF[\"true_positives\"]/(metricDF[\"true_positives\"] + metricDF[\"false_negatives\"])\n",
    "metricDF[\"F1_score\"] = 2 * (metricDF[\"precision\"] * metricDF[\"recall\"]) / (metricDF[\"precision\"] + metricDF[\"recall\"])"
   ]
  },
  {
   "cell_type": "code",
   "execution_count": 255,
   "metadata": {},
   "outputs": [
    {
     "data": {
      "text/html": [
       "<div>\n",
       "<style scoped>\n",
       "    .dataframe tbody tr th:only-of-type {\n",
       "        vertical-align: middle;\n",
       "    }\n",
       "\n",
       "    .dataframe tbody tr th {\n",
       "        vertical-align: top;\n",
       "    }\n",
       "\n",
       "    .dataframe thead th {\n",
       "        text-align: right;\n",
       "    }\n",
       "</style>\n",
       "<table border=\"1\" class=\"dataframe\">\n",
       "  <thead>\n",
       "    <tr style=\"text-align: right;\">\n",
       "      <th></th>\n",
       "      <th></th>\n",
       "      <th></th>\n",
       "      <th>true_positives</th>\n",
       "      <th>true_negatives</th>\n",
       "      <th>false_positives</th>\n",
       "      <th>false_negatives</th>\n",
       "      <th>precision</th>\n",
       "      <th>recall</th>\n",
       "      <th>F1_score</th>\n",
       "    </tr>\n",
       "    <tr>\n",
       "      <th>peptide_alphabet</th>\n",
       "      <th>peptide_ksize</th>\n",
       "      <th>peptide_bloom_filter</th>\n",
       "      <th></th>\n",
       "      <th></th>\n",
       "      <th></th>\n",
       "      <th></th>\n",
       "      <th></th>\n",
       "      <th></th>\n",
       "      <th></th>\n",
       "    </tr>\n",
       "  </thead>\n",
       "  <tbody>\n",
       "    <tr>\n",
       "      <th>dayhoff</th>\n",
       "      <th>13</th>\n",
       "      <th>output_simreads/sencha/index/refsprot_t1e9_dayhoff_k13.index</th>\n",
       "      <td>94</td>\n",
       "      <td>90</td>\n",
       "      <td>10</td>\n",
       "      <td>6</td>\n",
       "      <td>0.903846</td>\n",
       "      <td>0.94</td>\n",
       "      <td>0.921569</td>\n",
       "    </tr>\n",
       "  </tbody>\n",
       "</table>\n",
       "</div>"
      ],
      "text/plain": [
       "                                                                                   true_positives  \\\n",
       "peptide_alphabet peptide_ksize peptide_bloom_filter                                                 \n",
       "dayhoff          13            output_simreads/sencha/index/refsprot_t1e9_dayh...              94   \n",
       "\n",
       "                                                                                   true_negatives  \\\n",
       "peptide_alphabet peptide_ksize peptide_bloom_filter                                                 \n",
       "dayhoff          13            output_simreads/sencha/index/refsprot_t1e9_dayh...              90   \n",
       "\n",
       "                                                                                   false_positives  \\\n",
       "peptide_alphabet peptide_ksize peptide_bloom_filter                                                  \n",
       "dayhoff          13            output_simreads/sencha/index/refsprot_t1e9_dayh...               10   \n",
       "\n",
       "                                                                                   false_negatives  \\\n",
       "peptide_alphabet peptide_ksize peptide_bloom_filter                                                  \n",
       "dayhoff          13            output_simreads/sencha/index/refsprot_t1e9_dayh...                6   \n",
       "\n",
       "                                                                                   precision  \\\n",
       "peptide_alphabet peptide_ksize peptide_bloom_filter                                            \n",
       "dayhoff          13            output_simreads/sencha/index/refsprot_t1e9_dayh...   0.903846   \n",
       "\n",
       "                                                                                   recall  \\\n",
       "peptide_alphabet peptide_ksize peptide_bloom_filter                                         \n",
       "dayhoff          13            output_simreads/sencha/index/refsprot_t1e9_dayh...    0.94   \n",
       "\n",
       "                                                                                   F1_score  \n",
       "peptide_alphabet peptide_ksize peptide_bloom_filter                                          \n",
       "dayhoff          13            output_simreads/sencha/index/refsprot_t1e9_dayh...  0.921569  "
      ]
     },
     "execution_count": 255,
     "metadata": {},
     "output_type": "execute_result"
    }
   ],
   "source": [
    "metricDF"
   ]
  },
  {
   "cell_type": "code",
   "execution_count": null,
   "metadata": {},
   "outputs": [],
   "source": []
  },
  {
   "cell_type": "code",
   "execution_count": null,
   "metadata": {},
   "outputs": [],
   "source": []
  }
 ],
 "metadata": {
  "kernelspec": {
   "display_name": "Python 3",
   "language": "python",
   "name": "python3"
  },
  "language_info": {
   "codemirror_mode": {
    "name": "ipython",
    "version": 3
   },
   "file_extension": ".py",
   "mimetype": "text/x-python",
   "name": "python",
   "nbconvert_exporter": "python",
   "pygments_lexer": "ipython3",
   "version": "3.8.1"
  }
 },
 "nbformat": 4,
 "nbformat_minor": 4
}
