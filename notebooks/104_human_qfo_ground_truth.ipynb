{
 "cells": [
  {
   "cell_type": "markdown",
   "metadata": {},
   "source": [
    "# Imports"
   ]
  },
  {
   "cell_type": "code",
   "execution_count": 299,
   "metadata": {},
   "outputs": [],
   "source": [
    "from io import StringIO\n",
    "import math\n",
    "import json\n",
    "import os\n",
    "import glob\n",
    "import re\n",
    "\n",
    "import pandas as pd\n",
    "import seaborn as sns\n",
    "import screed\n",
    "from tqdm import tqdm\n",
    " \n",
    "%matplotlib inline"
   ]
  },
  {
   "cell_type": "markdown",
   "metadata": {},
   "source": [
    "# Get `leaftea translate` ressults"
   ]
  },
  {
   "cell_type": "code",
   "execution_count": 29,
   "metadata": {},
   "outputs": [
    {
     "name": "stdout",
     "output_type": "stream",
     "text": [
      "total 20K\n",
      "drwxr-xr-x  9 olga czb 4.0K Aug 30 21:46 \u001b[0m\u001b[01;34m.\u001b[0m/\n",
      "drwxr-xr-x  9 olga czb 4.0K Sep 22 18:44 \u001b[01;34m..\u001b[0m/\n",
      "drwxr-xr-x  2 olga czb 8.0K Sep 15 12:02 \u001b[01;34mblastp\u001b[0m/\n",
      "drwxr-xr-x  2 olga czb 4.0K Sep  4 20:05 \u001b[01;34minfernal\u001b[0m/\n",
      "drwxr-xr-x  2 olga czb 4.0K Sep 15 12:00 \u001b[01;34mMultiQC\u001b[0m/\n",
      "drwxr-xr-x  2 olga czb 4.0K Aug 28 09:20 \u001b[01;34mncbi_refseq\u001b[0m/\n",
      "drwxr-xr-x  2 olga czb 4.0K Sep 15 11:58 \u001b[01;34mpipeline_info\u001b[0m/\n",
      "drwxr-xr-x  2 olga czb 8.0K Sep 15 11:51 \u001b[01;34msencha\u001b[0m/\n",
      "drwxr-xr-x 48 olga czb 4.0K Sep 15 12:00 \u001b[01;34mtranslate\u001b[0m/\n"
     ]
    }
   ],
   "source": [
    "ls -lha /mnt/ibm_sm/home/olga/pipeline-results/human-simulated/nf-predictorthologs--run/"
   ]
  },
  {
   "cell_type": "code",
   "execution_count": 30,
   "metadata": {},
   "outputs": [
    {
     "name": "stdout",
     "output_type": "stream",
     "text": [
      "total 24K\n",
      "drwxr-xr-x 48 olga czb 4.0K Sep 15 12:00 \u001b[0m\u001b[01;34m.\u001b[0m/\n",
      "drwxr-xr-x  9 olga czb 4.0K Aug 30 21:46 \u001b[01;34m..\u001b[0m/\n",
      "drwxr-xr-x  2 olga czb 4.0K Aug 28 09:43 \u001b[01;34mmolecule-dayhoff_ksize-10\u001b[0m/\n",
      "drwxr-xr-x  2 olga czb 4.0K Aug 28 09:40 \u001b[01;34mmolecule-dayhoff_ksize-11\u001b[0m/\n",
      "drwxr-xr-x  2 olga czb 4.0K Aug 28 09:40 \u001b[01;34mmolecule-dayhoff_ksize-12\u001b[0m/\n",
      "drwxr-xr-x  2 olga czb 4.0K Aug 28 09:40 \u001b[01;34mmolecule-dayhoff_ksize-13\u001b[0m/\n",
      "drwxr-xr-x  2 olga czb 4.0K Aug 28 09:43 \u001b[01;34mmolecule-dayhoff_ksize-14\u001b[0m/\n",
      "drwxr-xr-x  2 olga czb 4.0K Aug 28 09:44 \u001b[01;34mmolecule-dayhoff_ksize-15\u001b[0m/\n",
      "drwxr-xr-x  2 olga czb 4.0K Aug 28 09:40 \u001b[01;34mmolecule-dayhoff_ksize-16\u001b[0m/\n",
      "drwxr-xr-x  2 olga czb 4.0K Aug 28 09:39 \u001b[01;34mmolecule-dayhoff_ksize-17\u001b[0m/\n",
      "drwxr-xr-x  2 olga czb 4.0K Aug 28 09:39 \u001b[01;34mmolecule-dayhoff_ksize-18\u001b[0m/\n",
      "drwxr-xr-x  2 olga czb 4.0K Aug 28 09:44 \u001b[01;34mmolecule-dayhoff_ksize-19\u001b[0m/\n",
      "drwxr-xr-x  2 olga czb 4.0K Aug 28 09:40 \u001b[01;34mmolecule-dayhoff_ksize-20\u001b[0m/\n",
      "drwxr-xr-x  2 olga czb 4.0K Aug 28 09:40 \u001b[01;34mmolecule-dayhoff_ksize-21\u001b[0m/\n",
      "drwxr-xr-x  2 olga czb 4.0K Sep 15 11:54 \u001b[01;34mmolecule-dayhoff_ksize-22\u001b[0m/\n",
      "drwxr-xr-x  2 olga czb 4.0K Sep 15 11:57 \u001b[01;34mmolecule-dayhoff_ksize-23\u001b[0m/\n",
      "drwxr-xr-x  2 olga czb 4.0K Sep 15 11:54 \u001b[01;34mmolecule-dayhoff_ksize-24\u001b[0m/\n",
      "drwxr-xr-x  2 olga czb 4.0K Sep 15 12:00 \u001b[01;34mmolecule-dayhoff_ksize-25\u001b[0m/\n",
      "drwxr-xr-x  2 olga czb 4.0K Sep 15 11:54 \u001b[01;34mmolecule-dayhoff_ksize-26\u001b[0m/\n",
      "drwxr-xr-x  2 olga czb 4.0K Sep 15 11:57 \u001b[01;34mmolecule-dayhoff_ksize-27\u001b[0m/\n",
      "drwxr-xr-x  2 olga czb 4.0K Sep 15 11:57 \u001b[01;34mmolecule-dayhoff_ksize-28\u001b[0m/\n",
      "drwxr-xr-x  2 olga czb 4.0K Sep 15 11:54 \u001b[01;34mmolecule-dayhoff_ksize-29\u001b[0m/\n",
      "drwxr-xr-x  2 olga czb 4.0K Sep 15 11:57 \u001b[01;34mmolecule-dayhoff_ksize-30\u001b[0m/\n",
      "drwxr-xr-x  2 olga czb 4.0K Sep 15 11:54 \u001b[01;34mmolecule-dayhoff_ksize-31\u001b[0m/\n",
      "drwxr-xr-x  2 olga czb 4.0K Aug 28 09:40 \u001b[01;34mmolecule-dayhoff_ksize-9\u001b[0m/\n",
      "drwxr-xr-x  2 olga czb 4.0K Aug 28 09:31 \u001b[01;34mmolecule-protein_ksize-10\u001b[0m/\n",
      "drwxr-xr-x  2 olga czb 4.0K Aug 28 09:32 \u001b[01;34mmolecule-protein_ksize-11\u001b[0m/\n",
      "drwxr-xr-x  2 olga czb 4.0K Aug 28 09:44 \u001b[01;34mmolecule-protein_ksize-12\u001b[0m/\n",
      "drwxr-xr-x  2 olga czb 4.0K Aug 28 09:31 \u001b[01;34mmolecule-protein_ksize-13\u001b[0m/\n",
      "drwxr-xr-x  2 olga czb 4.0K Aug 28 09:31 \u001b[01;34mmolecule-protein_ksize-14\u001b[0m/\n",
      "drwxr-xr-x  2 olga czb 4.0K Aug 28 09:31 \u001b[01;34mmolecule-protein_ksize-15\u001b[0m/\n",
      "drwxr-xr-x  2 olga czb 4.0K Aug 28 09:31 \u001b[01;34mmolecule-protein_ksize-16\u001b[0m/\n",
      "drwxr-xr-x  2 olga czb 4.0K Aug 28 09:31 \u001b[01;34mmolecule-protein_ksize-17\u001b[0m/\n",
      "drwxr-xr-x  2 olga czb 4.0K Aug 28 09:44 \u001b[01;34mmolecule-protein_ksize-18\u001b[0m/\n",
      "drwxr-xr-x  2 olga czb 4.0K Aug 28 09:44 \u001b[01;34mmolecule-protein_ksize-19\u001b[0m/\n",
      "drwxr-xr-x  2 olga czb 4.0K Aug 28 09:31 \u001b[01;34mmolecule-protein_ksize-20\u001b[0m/\n",
      "drwxr-xr-x  2 olga czb 4.0K Aug 28 09:31 \u001b[01;34mmolecule-protein_ksize-21\u001b[0m/\n",
      "drwxr-xr-x  2 olga czb 4.0K Sep 15 11:54 \u001b[01;34mmolecule-protein_ksize-22\u001b[0m/\n",
      "drwxr-xr-x  2 olga czb 4.0K Sep 15 11:57 \u001b[01;34mmolecule-protein_ksize-23\u001b[0m/\n",
      "drwxr-xr-x  2 olga czb 4.0K Sep 15 12:00 \u001b[01;34mmolecule-protein_ksize-24\u001b[0m/\n",
      "drwxr-xr-x  2 olga czb 4.0K Sep 15 11:57 \u001b[01;34mmolecule-protein_ksize-25\u001b[0m/\n",
      "drwxr-xr-x  2 olga czb 4.0K Sep 15 11:54 \u001b[01;34mmolecule-protein_ksize-26\u001b[0m/\n",
      "drwxr-xr-x  2 olga czb 4.0K Sep 15 11:56 \u001b[01;34mmolecule-protein_ksize-27\u001b[0m/\n",
      "drwxr-xr-x  2 olga czb 4.0K Sep 15 11:54 \u001b[01;34mmolecule-protein_ksize-28\u001b[0m/\n",
      "drwxr-xr-x  2 olga czb 4.0K Sep 15 12:00 \u001b[01;34mmolecule-protein_ksize-29\u001b[0m/\n",
      "drwxr-xr-x  2 olga czb 4.0K Sep 15 11:57 \u001b[01;34mmolecule-protein_ksize-30\u001b[0m/\n",
      "drwxr-xr-x  2 olga czb 4.0K Sep 15 11:54 \u001b[01;34mmolecule-protein_ksize-31\u001b[0m/\n",
      "drwxr-xr-x  2 olga czb 4.0K Aug 28 09:44 \u001b[01;34mmolecule-protein_ksize-9\u001b[0m/\n"
     ]
    }
   ],
   "source": [
    "ls -lha /mnt/ibm_sm/home/olga/pipeline-results/human-simulated/nf-predictorthologs--run/translate"
   ]
  },
  {
   "cell_type": "code",
   "execution_count": 31,
   "metadata": {},
   "outputs": [
    {
     "name": "stdout",
     "output_type": "stream",
     "text": [
      "total 1.4G\n",
      "drwxr-xr-x  2 olga czb 4.0K Aug 28 09:31 \u001b[0m\u001b[01;34m.\u001b[0m/\n",
      "drwxr-xr-x 48 olga czb 4.0K Sep 15 12:00 \u001b[01;34m..\u001b[0m/\n",
      "-rw-r--r--  1 olga czb 130M Aug 28 09:31 Homo_sapiens_9606_qfo_dna_01__molecule-protein_ksize-15__coding_reads_nucleotides.fasta\n",
      "-rw-r--r--  1 olga czb  78M Aug 28 09:31 Homo_sapiens_9606_qfo_dna_01__molecule-protein_ksize-15__coding_reads_peptides.fasta\n",
      "-rw-r--r--  1 olga czb 810M Aug 28 09:31 Homo_sapiens_9606_qfo_dna_01__molecule-protein_ksize-15__coding_scores.csv\n",
      "-rw-r--r--  1 olga czb 1.5K Aug 28 09:31 Homo_sapiens_9606_qfo_dna_01__molecule-protein_ksize-15__coding_summary.json\n",
      "-rw-r--r--  1 olga czb 370M Aug 28 09:31 Homo_sapiens_9606_qfo_dna_01__molecule-protein_ksize-15__noncoding_reads_nucleotides.fasta\n"
     ]
    }
   ],
   "source": [
    "ls -lha /mnt/ibm_sm/home/olga/pipeline-results/human-simulated/nf-predictorthologs--run/translate/molecule-protein_ksize-15/"
   ]
  },
  {
   "cell_type": "code",
   "execution_count": 32,
   "metadata": {},
   "outputs": [
    {
     "name": "stdout",
     "output_type": "stream",
     "text": [
      "==> /mnt/ibm_sm/home/olga/pipeline-results/human-simulated/nf-predictorthologs--run/translate/molecule-protein_ksize-15/Homo_sapiens_9606_qfo_dna_01__molecule-protein_ksize-15__coding_reads_nucleotides.fasta <==\n",
      ">read1/tr|A0A024R1R8|ENSP00000491117;mate1Start:1;mate2Start:1 translation_frame: 1 jaccard: 1.0\n",
      "ATGTCCAGCCACGAAGGTGGCAAGAAGAAGGCACTGAAACAGCCCAAGAAGCAGGCCAAGGAGATGGACGAGGAAGAGAAGGCTTTCAAGCAGAAACAAAAAGAGGAGCAGAAGAAACTCGAGGTGCTAAAAGCGAAGGTCGTGGGGAAG\n",
      ">read2/tr|A0A024R1R8|ENSP00000491117;mate1Start:1;mate2Start:1 translation_frame: 1 jaccard: 0.9722222222222222\n",
      "ATTTCCAGCCACGAAGGTGGCAAGAAGAAGGCACTGAAACAGCCCAAGAAGCAGGCCAAGGAGATGGACGAGGAAGAGAAGGCTTTCAAGCAGAAACAAAAAGAGGAGCAGAAGAAACTCGAGGTGCTAAAAGCGAAGGTCGTGGGGAAG\n",
      ">read6/tr|A0A024R1R8|ENSP00000491117;mate1Start:1;mate2Start:1 translation_frame: 1 jaccard: 1.0\n",
      "ATGTCCAGCCACGAAGGTGGCAAGAAGAAGGCACTGAAACAGCCCAAGAAGCAGGCCAAGGAGATGGACGAGGAAGAGAAGGCNTTCAAGCAGAAACAAAAAGAGGAGCAGAAGAAACTCGAGGTGCTAAAAGCGAAGGTCGTGGGGAAG\n",
      ">read7/tr|A0A024R1R8|ENSP00000491117;mate1Start:1;mate2Start:1 translation_frame: 1 jaccard: 1.0\n",
      "ATGTCCAGCCACGAAGGTGGCAAGAAGAAGGCACTGAAACAGCCCAAGAAGCAGGCCAAGGAGATGGACGAGGAAGAGAAGGCTTTCAAGCAGAAACAAAAAGAGGAGCAGAAGAAACTCGAGGTGCTAAAAGCGAAGGTCGTGGGGAAG\n",
      ">read10/tr|A0A024R1R8|ENSP00000491117;mate1Start:1;mate2Start:1 translation_frame: 1 jaccard: 0.9722222222222222\n",
      "ATGTCCAGCCACGAAGGTGGCAAGAAGAAGGCACTGAAACAGCCCAAGAAGCAGGCCAAGGAGATGGACGAGGAAGAGAAGGCTTTCAAGCAGAAACAAAAAGAGGAGCAGAAGAAACTCGAGGTGCTAAAAGCGAAGGTCGTGGGGAAC\n",
      "\n",
      "==> /mnt/ibm_sm/home/olga/pipeline-results/human-simulated/nf-predictorthologs--run/translate/molecule-protein_ksize-15/Homo_sapiens_9606_qfo_dna_01__molecule-protein_ksize-15__coding_reads_peptides.fasta <==\n",
      ">read1/tr|A0A024R1R8|ENSP00000491117;mate1Start:1;mate2Start:1 translation_frame: 1 jaccard: 1.0\n",
      "MSSHEGGKKKALKQPKKQAKEMDEEEKAFKQKQKEEQKKLEVLKAKVVGK\n",
      ">read2/tr|A0A024R1R8|ENSP00000491117;mate1Start:1;mate2Start:1 translation_frame: 1 jaccard: 0.9722222222222222\n",
      "ISSHEGGKKKALKQPKKQAKEMDEEEKAFKQKQKEEQKKLEVLKAKVVGK\n",
      ">read6/tr|A0A024R1R8|ENSP00000491117;mate1Start:1;mate2Start:1 translation_frame: 1 jaccard: 1.0\n",
      "MSSHEGGKKKALKQPKKQAKEMDEEEKAFKQKQKEEQKKLEVLKAKVVGK\n",
      ">read7/tr|A0A024R1R8|ENSP00000491117;mate1Start:1;mate2Start:1 translation_frame: 1 jaccard: 1.0\n",
      "MSSHEGGKKKALKQPKKQAKEMDEEEKAFKQKQKEEQKKLEVLKAKVVGK\n",
      ">read10/tr|A0A024R1R8|ENSP00000491117;mate1Start:1;mate2Start:1 translation_frame: 1 jaccard: 0.9722222222222222\n",
      "MSSHEGGKKKALKQPKKQAKEMDEEEKAFKQKQKEEQKKLEVLKAKVVGN\n"
     ]
    }
   ],
   "source": [
    "!head -n 10 /mnt/ibm_sm/home/olga/pipeline-results/human-simulated/nf-predictorthologs--run/translate/molecule-protein_ksize-15/*_coding_reads*fasta"
   ]
  },
  {
   "cell_type": "markdown",
   "metadata": {},
   "source": [
    "## Read `leaftea` JSON metadata"
   ]
  },
  {
   "cell_type": "markdown",
   "metadata": {},
   "source": [
    "### jq transform to see contents"
   ]
  },
  {
   "cell_type": "code",
   "execution_count": 33,
   "metadata": {},
   "outputs": [
    {
     "name": "stdout",
     "output_type": "stream",
     "text": [
      "\u001b[1;39m{\n",
      "  \u001b[0m\u001b[34;1m\"input_files\"\u001b[0m\u001b[1;39m: \u001b[0m\u001b[1;39m[\n",
      "    \u001b[0;32m\"Homo_sapiens_9606_qfo_dna_01.fq.gz\"\u001b[0m\u001b[1;39m\n",
      "  \u001b[1;39m]\u001b[0m\u001b[1;39m,\n",
      "  \u001b[0m\u001b[34;1m\"jaccard_info\"\u001b[0m\u001b[1;39m: \u001b[0m\u001b[1;39m{\n",
      "    \u001b[0m\u001b[34;1m\"count\"\u001b[0m\u001b[1;39m: \u001b[0m\u001b[0;39m2056774\u001b[0m\u001b[1;39m,\n",
      "    \u001b[0m\u001b[34;1m\"mean\"\u001b[0m\u001b[1;39m: \u001b[0m\u001b[0;39m0.388295798026765\u001b[0m\u001b[1;39m,\n",
      "    \u001b[0m\u001b[34;1m\"std\"\u001b[0m\u001b[1;39m: \u001b[0m\u001b[0;39m0.4422436270898122\u001b[0m\u001b[1;39m,\n",
      "    \u001b[0m\u001b[34;1m\"min\"\u001b[0m\u001b[1;39m: \u001b[0m\u001b[0;39m0\u001b[0m\u001b[1;39m,\n",
      "    \u001b[0m\u001b[34;1m\"25%\"\u001b[0m\u001b[1;39m: \u001b[0m\u001b[0;39m0\u001b[0m\u001b[1;39m,\n",
      "    \u001b[0m\u001b[34;1m\"50%\"\u001b[0m\u001b[1;39m: \u001b[0m\u001b[0;39m0\u001b[0m\u001b[1;39m,\n",
      "    \u001b[0m\u001b[34;1m\"75%\"\u001b[0m\u001b[1;39m: \u001b[0m\u001b[0;39m1\u001b[0m\u001b[1;39m,\n",
      "    \u001b[0m\u001b[34;1m\"max\"\u001b[0m\u001b[1;39m: \u001b[0m\u001b[0;39m1\u001b[0m\u001b[1;39m\n",
      "  \u001b[1;39m}\u001b[0m\u001b[1;39m,\n",
      "  \u001b[0m\u001b[34;1m\"categorization_counts\"\u001b[0m\u001b[1;39m: \u001b[0m\u001b[1;39m{\n",
      "    \u001b[0m\u001b[34;1m\"Translation is shorter than peptide k-mer size + 1\"\u001b[0m\u001b[1;39m: \u001b[0m\u001b[0;39m1225\u001b[0m\u001b[1;39m,\n",
      "    \u001b[0m\u001b[34;1m\"Translation frame has stop codon(s)\"\u001b[0m\u001b[1;39m: \u001b[0m\u001b[0;39m19360\u001b[0m\u001b[1;39m,\n",
      "    \u001b[0m\u001b[34;1m\"Coding\"\u001b[0m\u001b[1;39m: \u001b[0m\u001b[0;39m538372\u001b[0m\u001b[1;39m,\n",
      "    \u001b[0m\u001b[34;1m\"Non-coding\"\u001b[0m\u001b[1;39m: \u001b[0m\u001b[0;39m456018\u001b[0m\u001b[1;39m,\n",
      "    \u001b[0m\u001b[34;1m\"Low complexity nucleotide\"\u001b[0m\u001b[1;39m: \u001b[0m\u001b[0;39m0\u001b[0m\u001b[1;39m,\n",
      "    \u001b[0m\u001b[34;1m\"Read length was shorter than 3 * peptide k-mer size\"\u001b[0m\u001b[1;39m: \u001b[0m\u001b[0;39m0\u001b[0m\u001b[1;39m,\n",
      "    \u001b[0m\u001b[34;1m\"Low complexity peptide in protein20 alphabet\"\u001b[0m\u001b[1;39m: \u001b[0m\u001b[0;39m26\u001b[0m\u001b[1;39m\n",
      "  \u001b[1;39m}\u001b[0m\u001b[1;39m,\n",
      "  \u001b[0m\u001b[34;1m\"categorization_percentages\"\u001b[0m\u001b[1;39m: \u001b[0m\u001b[1;39m{\n",
      "    \u001b[0m\u001b[34;1m\"Translation is shorter than peptide k-mer size + 1\"\u001b[0m\u001b[1;39m: \u001b[0m\u001b[0;39m0.12068953626646674\u001b[0m\u001b[1;39m,\n",
      "    \u001b[0m\u001b[34;1m\"Translation frame has stop codon(s)\"\u001b[0m\u001b[1;39m: \u001b[0m\u001b[0;39m1.9073872833622825\u001b[0m\u001b[1;39m,\n",
      "    \u001b[0m\u001b[34;1m\"Coding\"\u001b[0m\u001b[1;39m: \u001b[0m\u001b[0;39m53.04152409702059\u001b[0m\u001b[1;39m,\n",
      "    \u001b[0m\u001b[34;1m\"Non-coding\"\u001b[0m\u001b[1;39m: \u001b[0m\u001b[0;39m44.9278375095197\u001b[0m\u001b[1;39m,\n",
      "    \u001b[0m\u001b[34;1m\"Low complexity nucleotide\"\u001b[0m\u001b[1;39m: \u001b[0m\u001b[0;39m0\u001b[0m\u001b[1;39m,\n",
      "    \u001b[0m\u001b[34;1m\"Read length was shorter than 3 * peptide k-mer size\"\u001b[0m\u001b[1;39m: \u001b[0m\u001b[0;39m0\u001b[0m\u001b[1;39m,\n",
      "    \u001b[0m\u001b[34;1m\"Low complexity peptide in protein20 alphabet\"\u001b[0m\u001b[1;39m: \u001b[0m\u001b[0;39m0.0025615738309617427\u001b[0m\u001b[1;39m\n",
      "  \u001b[1;39m}\u001b[0m\u001b[1;39m,\n",
      "  \u001b[0m\u001b[34;1m\"histogram_n_coding_frames_per_read\"\u001b[0m\u001b[1;39m: \u001b[0m\u001b[1;39m{\n",
      "    \u001b[0m\u001b[34;1m\"Number of reads with 1 putative protein-coding translations\"\u001b[0m\u001b[1;39m: \u001b[0m\u001b[0;39m538105\u001b[0m\u001b[1;39m,\n",
      "    \u001b[0m\u001b[34;1m\"Number of reads with 2 putative protein-coding translations\"\u001b[0m\u001b[1;39m: \u001b[0m\u001b[0;39m267\u001b[0m\u001b[1;39m\n",
      "  \u001b[1;39m}\u001b[0m\u001b[1;39m,\n",
      "  \u001b[0m\u001b[34;1m\"histogram_n_coding_frames_per_read_percentages\"\u001b[0m\u001b[1;39m: \u001b[0m\u001b[1;39m{\n",
      "    \u001b[0m\u001b[34;1m\"Number of reads with 1 putative protein-coding translations\"\u001b[0m\u001b[1;39m: \u001b[0m\u001b[0;39m99.95040603894705\u001b[0m\u001b[1;39m,\n",
      "    \u001b[0m\u001b[34;1m\"Number of reads with 2 putative protein-coding translations\"\u001b[0m\u001b[1;39m: \u001b[0m\u001b[0;39m0.04959396105295223\u001b[0m\u001b[1;39m\n",
      "  \u001b[1;39m}\u001b[0m\u001b[1;39m,\n",
      "  \u001b[0m\u001b[34;1m\"peptide_bloom_filter\"\u001b[0m\u001b[1;39m: \u001b[0m\u001b[0;32m\"UP000005640_9606__molecule-protein_ksize-15.bloomfilter\"\u001b[0m\u001b[1;39m,\n",
      "  \u001b[0m\u001b[34;1m\"peptide_alphabet\"\u001b[0m\u001b[1;39m: \u001b[0m\u001b[0;32m\"protein\"\u001b[0m\u001b[1;39m,\n",
      "  \u001b[0m\u001b[34;1m\"peptide_ksize\"\u001b[0m\u001b[1;39m: \u001b[0m\u001b[0;39m15\u001b[0m\u001b[1;39m,\n",
      "  \u001b[0m\u001b[34;1m\"jaccard_threshold\"\u001b[0m\u001b[1;39m: \u001b[0m\u001b[0;39m0.95\u001b[0m\u001b[1;39m\n",
      "\u001b[1;39m}\u001b[0m\n"
     ]
    }
   ],
   "source": [
    "! jq . /mnt/ibm_sm/home/olga/pipeline-results/human-simulated/nf-predictorthologs--run/translate/molecule-protein_ksize-15/Homo_sapiens_9606_qfo_dna_01__molecule-protein_ksize-15__coding_summary.json"
   ]
  },
  {
   "cell_type": "markdown",
   "metadata": {},
   "source": [
    "## Iterate over json summary and read them in"
   ]
  },
  {
   "cell_type": "code",
   "execution_count": 21,
   "metadata": {},
   "outputs": [
    {
     "name": "stderr",
     "output_type": "stream",
     "text": [
      "100%|██████████| 46/46 [00:00<00:00, 711.24it/s]\n"
     ]
    },
    {
     "data": {
      "text/html": [
       "<div>\n",
       "<style scoped>\n",
       "    .dataframe tbody tr th:only-of-type {\n",
       "        vertical-align: middle;\n",
       "    }\n",
       "\n",
       "    .dataframe tbody tr th {\n",
       "        vertical-align: top;\n",
       "    }\n",
       "\n",
       "    .dataframe thead th {\n",
       "        text-align: right;\n",
       "    }\n",
       "</style>\n",
       "<table border=\"1\" class=\"dataframe\">\n",
       "  <thead>\n",
       "    <tr style=\"text-align: right;\">\n",
       "      <th></th>\n",
       "      <th></th>\n",
       "      <th>Number of reads with 1 putative protein-coding translations</th>\n",
       "      <th>Number of reads with 2 putative protein-coding translations</th>\n",
       "      <th>Number of reads with 3 putative protein-coding translations</th>\n",
       "      <th>Number of reads with 4 putative protein-coding translations</th>\n",
       "      <th>Number of reads with 5 putative protein-coding translations</th>\n",
       "      <th>Number of reads with 6 putative protein-coding translations</th>\n",
       "    </tr>\n",
       "  </thead>\n",
       "  <tbody>\n",
       "    <tr>\n",
       "      <th rowspan=\"5\" valign=\"top\">dayhoff</th>\n",
       "      <th>9</th>\n",
       "      <td>557044.0</td>\n",
       "      <td>189392.0</td>\n",
       "      <td>59919.0</td>\n",
       "      <td>14828.0</td>\n",
       "      <td>2316.0</td>\n",
       "      <td>203.0</td>\n",
       "    </tr>\n",
       "    <tr>\n",
       "      <th>10</th>\n",
       "      <td>643703.0</td>\n",
       "      <td>60263.0</td>\n",
       "      <td>10529.0</td>\n",
       "      <td>1273.0</td>\n",
       "      <td>84.0</td>\n",
       "      <td>0.0</td>\n",
       "    </tr>\n",
       "    <tr>\n",
       "      <th>11</th>\n",
       "      <td>630387.0</td>\n",
       "      <td>11857.0</td>\n",
       "      <td>1697.0</td>\n",
       "      <td>64.0</td>\n",
       "      <td>0.0</td>\n",
       "      <td>0.0</td>\n",
       "    </tr>\n",
       "    <tr>\n",
       "      <th>12</th>\n",
       "      <td>620349.0</td>\n",
       "      <td>4087.0</td>\n",
       "      <td>341.0</td>\n",
       "      <td>11.0</td>\n",
       "      <td>0.0</td>\n",
       "      <td>0.0</td>\n",
       "    </tr>\n",
       "    <tr>\n",
       "      <th>13</th>\n",
       "      <td>617005.0</td>\n",
       "      <td>1857.0</td>\n",
       "      <td>169.0</td>\n",
       "      <td>4.0</td>\n",
       "      <td>0.0</td>\n",
       "      <td>0.0</td>\n",
       "    </tr>\n",
       "  </tbody>\n",
       "</table>\n",
       "</div>"
      ],
      "text/plain": [
       "            Number of reads with 1 putative protein-coding translations  \\\n",
       "dayhoff 9                                            557044.0             \n",
       "        10                                           643703.0             \n",
       "        11                                           630387.0             \n",
       "        12                                           620349.0             \n",
       "        13                                           617005.0             \n",
       "\n",
       "            Number of reads with 2 putative protein-coding translations  \\\n",
       "dayhoff 9                                            189392.0             \n",
       "        10                                            60263.0             \n",
       "        11                                            11857.0             \n",
       "        12                                             4087.0             \n",
       "        13                                             1857.0             \n",
       "\n",
       "            Number of reads with 3 putative protein-coding translations  \\\n",
       "dayhoff 9                                             59919.0             \n",
       "        10                                            10529.0             \n",
       "        11                                             1697.0             \n",
       "        12                                              341.0             \n",
       "        13                                              169.0             \n",
       "\n",
       "            Number of reads with 4 putative protein-coding translations  \\\n",
       "dayhoff 9                                             14828.0             \n",
       "        10                                             1273.0             \n",
       "        11                                               64.0             \n",
       "        12                                               11.0             \n",
       "        13                                                4.0             \n",
       "\n",
       "            Number of reads with 5 putative protein-coding translations  \\\n",
       "dayhoff 9                                              2316.0             \n",
       "        10                                               84.0             \n",
       "        11                                                0.0             \n",
       "        12                                                0.0             \n",
       "        13                                                0.0             \n",
       "\n",
       "            Number of reads with 6 putative protein-coding translations  \n",
       "dayhoff 9                                               203.0            \n",
       "        10                                                0.0            \n",
       "        11                                                0.0            \n",
       "        12                                                0.0            \n",
       "        13                                                0.0            "
      ]
     },
     "execution_count": 21,
     "metadata": {},
     "output_type": "execute_result"
    }
   ],
   "source": [
    "translate_dir = '/mnt/ibm_sm/home/olga/pipeline-results/human-simulated/nf-predictorthologs--run/translate'\n",
    "\n",
    "categorization_dict = {}\n",
    "n_reads_per_frame_dict = {}\n",
    "for filename in tqdm(glob.glob(f'{translate_dir}/*/*.json')):\n",
    "    with open(filename) as f:\n",
    "        data = json.load(f)\n",
    "        \n",
    "    basename = os.path.basename(filename)\n",
    "    sketch_id = basename.split('__')[1]\n",
    "    split = sketch_id.split('_')\n",
    "    alphabet = split[0].split('-')[1]\n",
    "    ksize = int(split[1].split('-')[1])\n",
    "    \n",
    "    cat = data['categorization_percentages']\n",
    "    cat_new = {}\n",
    "    for key, value in cat.items():\n",
    "        if 'complexity peptide' in key:\n",
    "            new_key = key.split('in')[0].strip()\n",
    "        else:\n",
    "            new_key = key\n",
    "        cat_new[new_key] = value\n",
    "        \n",
    "    \n",
    "    categorization_dict[(alphabet, ksize)] = cat_new\n",
    "    n_reads_per_frame_dict[(alphabet, ksize)] = data['histogram_n_coding_frames_per_read']\n",
    "\n",
    "n_frames_per_read = pd.DataFrame(n_reads_per_frame_dict).T.sort_index()\n",
    "n_frames_per_read = n_frames_per_read.fillna(0)\n",
    "n_frames_per_read.head()"
   ]
  },
  {
   "cell_type": "markdown",
   "metadata": {},
   "source": [
    "### Number frames per read"
   ]
  },
  {
   "cell_type": "code",
   "execution_count": 22,
   "metadata": {},
   "outputs": [
    {
     "data": {
      "text/plain": [
       "<matplotlib.axes._subplots.AxesSubplot at 0x7fe10c2c9fd0>"
      ]
     },
     "execution_count": 22,
     "metadata": {},
     "output_type": "execute_result"
    },
    {
     "data": {
      "image/png": "[encoded data removed]",
      "text/plain": [
       "<Figure size 432x288 with 1 Axes>"
      ]
     },
     "metadata": {
      "needs_background": "light"
     },
     "output_type": "display_data"
    }
   ],
   "source": [
    "n_frames_per_read.plot()"
   ]
  },
  {
   "cell_type": "code",
   "execution_count": 23,
   "metadata": {},
   "outputs": [
    {
     "data": {
      "text/html": [
       "<div>\n",
       "<style scoped>\n",
       "    .dataframe tbody tr th:only-of-type {\n",
       "        vertical-align: middle;\n",
       "    }\n",
       "\n",
       "    .dataframe tbody tr th {\n",
       "        vertical-align: top;\n",
       "    }\n",
       "\n",
       "    .dataframe thead th {\n",
       "        text-align: right;\n",
       "    }\n",
       "</style>\n",
       "<table border=\"1\" class=\"dataframe\">\n",
       "  <thead>\n",
       "    <tr style=\"text-align: right;\">\n",
       "      <th></th>\n",
       "      <th>alphabet</th>\n",
       "      <th>ksize</th>\n",
       "      <th>category</th>\n",
       "      <th>n_reads</th>\n",
       "      <th>n_frames</th>\n",
       "    </tr>\n",
       "  </thead>\n",
       "  <tbody>\n",
       "    <tr>\n",
       "      <th>0</th>\n",
       "      <td>dayhoff</td>\n",
       "      <td>9</td>\n",
       "      <td>Number of reads with 1 putative protein-coding...</td>\n",
       "      <td>557044.0</td>\n",
       "      <td>1</td>\n",
       "    </tr>\n",
       "    <tr>\n",
       "      <th>1</th>\n",
       "      <td>dayhoff</td>\n",
       "      <td>9</td>\n",
       "      <td>Number of reads with 2 putative protein-coding...</td>\n",
       "      <td>189392.0</td>\n",
       "      <td>2</td>\n",
       "    </tr>\n",
       "    <tr>\n",
       "      <th>2</th>\n",
       "      <td>dayhoff</td>\n",
       "      <td>9</td>\n",
       "      <td>Number of reads with 3 putative protein-coding...</td>\n",
       "      <td>59919.0</td>\n",
       "      <td>3</td>\n",
       "    </tr>\n",
       "    <tr>\n",
       "      <th>3</th>\n",
       "      <td>dayhoff</td>\n",
       "      <td>9</td>\n",
       "      <td>Number of reads with 4 putative protein-coding...</td>\n",
       "      <td>14828.0</td>\n",
       "      <td>4</td>\n",
       "    </tr>\n",
       "    <tr>\n",
       "      <th>4</th>\n",
       "      <td>dayhoff</td>\n",
       "      <td>9</td>\n",
       "      <td>Number of reads with 5 putative protein-coding...</td>\n",
       "      <td>2316.0</td>\n",
       "      <td>5</td>\n",
       "    </tr>\n",
       "  </tbody>\n",
       "</table>\n",
       "</div>"
      ],
      "text/plain": [
       "  alphabet  ksize                                           category  \\\n",
       "0  dayhoff      9  Number of reads with 1 putative protein-coding...   \n",
       "1  dayhoff      9  Number of reads with 2 putative protein-coding...   \n",
       "2  dayhoff      9  Number of reads with 3 putative protein-coding...   \n",
       "3  dayhoff      9  Number of reads with 4 putative protein-coding...   \n",
       "4  dayhoff      9  Number of reads with 5 putative protein-coding...   \n",
       "\n",
       "    n_reads  n_frames  \n",
       "0  557044.0         1  \n",
       "1  189392.0         2  \n",
       "2   59919.0         3  \n",
       "3   14828.0         4  \n",
       "4    2316.0         5  "
      ]
     },
     "execution_count": 23,
     "metadata": {},
     "output_type": "execute_result"
    }
   ],
   "source": [
    "n_frames_per_read_tidy = n_frames_per_read.stack().reset_index()\n",
    "n_frames_per_read_tidy = n_frames_per_read_tidy.rename(\n",
    "    columns={'level_0': 'alphabet', 'level_1': 'ksize', \n",
    "             'level_2': 'category', 0: 'n_reads'}\n",
    ")\n",
    "n_frames_per_read_tidy['n_frames'] = n_frames_per_read_tidy['category'].str.extract('(\\d)').astype(int)\n",
    "n_frames_per_read_tidy.head()"
   ]
  },
  {
   "cell_type": "markdown",
   "metadata": {},
   "source": [
    "#### Actually plot"
   ]
  },
  {
   "cell_type": "code",
   "execution_count": 24,
   "metadata": {},
   "outputs": [
    {
     "data": {
      "text/plain": [
       "<seaborn.axisgrid.FacetGrid at 0x7fe10c72abe0>"
      ]
     },
     "execution_count": 24,
     "metadata": {},
     "output_type": "execute_result"
    },
    {
     "data": {
      "image/png": "[encoded data removed]",
      "text/plain": [
       "<Figure size 1208x432 with 6 Axes>"
      ]
     },
     "metadata": {
      "needs_background": "light"
     },
     "output_type": "display_data"
    }
   ],
   "source": [
    "g = sns.catplot(\n",
    "    x='ksize', y='n_reads', hue='alphabet', \n",
    "    col='n_frames', col_wrap=3, height=3, aspect=1.75,\n",
    "    data=n_frames_per_read_tidy, kind='bar', sharey=False)\n",
    "g.set(yscale='log')"
   ]
  },
  {
   "cell_type": "code",
   "execution_count": 25,
   "metadata": {},
   "outputs": [
    {
     "data": {
      "text/html": [
       "<div>\n",
       "<style scoped>\n",
       "    .dataframe tbody tr th:only-of-type {\n",
       "        vertical-align: middle;\n",
       "    }\n",
       "\n",
       "    .dataframe tbody tr th {\n",
       "        vertical-align: top;\n",
       "    }\n",
       "\n",
       "    .dataframe thead th {\n",
       "        text-align: right;\n",
       "    }\n",
       "</style>\n",
       "<table border=\"1\" class=\"dataframe\">\n",
       "  <thead>\n",
       "    <tr style=\"text-align: right;\">\n",
       "      <th></th>\n",
       "      <th>alphabet</th>\n",
       "      <th>ksize</th>\n",
       "      <th>category</th>\n",
       "      <th>n_reads</th>\n",
       "      <th>n_frames</th>\n",
       "    </tr>\n",
       "  </thead>\n",
       "  <tbody>\n",
       "    <tr>\n",
       "      <th>45</th>\n",
       "      <td>dayhoff</td>\n",
       "      <td>16</td>\n",
       "      <td>Number of reads with 4 putative protein-coding...</td>\n",
       "      <td>0.0</td>\n",
       "      <td>4</td>\n",
       "    </tr>\n",
       "    <tr>\n",
       "      <th>51</th>\n",
       "      <td>dayhoff</td>\n",
       "      <td>17</td>\n",
       "      <td>Number of reads with 4 putative protein-coding...</td>\n",
       "      <td>0.0</td>\n",
       "      <td>4</td>\n",
       "    </tr>\n",
       "    <tr>\n",
       "      <th>57</th>\n",
       "      <td>dayhoff</td>\n",
       "      <td>18</td>\n",
       "      <td>Number of reads with 4 putative protein-coding...</td>\n",
       "      <td>0.0</td>\n",
       "      <td>4</td>\n",
       "    </tr>\n",
       "    <tr>\n",
       "      <th>63</th>\n",
       "      <td>dayhoff</td>\n",
       "      <td>19</td>\n",
       "      <td>Number of reads with 4 putative protein-coding...</td>\n",
       "      <td>0.0</td>\n",
       "      <td>4</td>\n",
       "    </tr>\n",
       "    <tr>\n",
       "      <th>69</th>\n",
       "      <td>dayhoff</td>\n",
       "      <td>20</td>\n",
       "      <td>Number of reads with 4 putative protein-coding...</td>\n",
       "      <td>0.0</td>\n",
       "      <td>4</td>\n",
       "    </tr>\n",
       "    <tr>\n",
       "      <th>75</th>\n",
       "      <td>dayhoff</td>\n",
       "      <td>21</td>\n",
       "      <td>Number of reads with 4 putative protein-coding...</td>\n",
       "      <td>0.0</td>\n",
       "      <td>4</td>\n",
       "    </tr>\n",
       "    <tr>\n",
       "      <th>81</th>\n",
       "      <td>dayhoff</td>\n",
       "      <td>22</td>\n",
       "      <td>Number of reads with 4 putative protein-coding...</td>\n",
       "      <td>0.0</td>\n",
       "      <td>4</td>\n",
       "    </tr>\n",
       "    <tr>\n",
       "      <th>87</th>\n",
       "      <td>dayhoff</td>\n",
       "      <td>23</td>\n",
       "      <td>Number of reads with 4 putative protein-coding...</td>\n",
       "      <td>0.0</td>\n",
       "      <td>4</td>\n",
       "    </tr>\n",
       "    <tr>\n",
       "      <th>93</th>\n",
       "      <td>dayhoff</td>\n",
       "      <td>24</td>\n",
       "      <td>Number of reads with 4 putative protein-coding...</td>\n",
       "      <td>0.0</td>\n",
       "      <td>4</td>\n",
       "    </tr>\n",
       "    <tr>\n",
       "      <th>99</th>\n",
       "      <td>dayhoff</td>\n",
       "      <td>25</td>\n",
       "      <td>Number of reads with 4 putative protein-coding...</td>\n",
       "      <td>0.0</td>\n",
       "      <td>4</td>\n",
       "    </tr>\n",
       "    <tr>\n",
       "      <th>105</th>\n",
       "      <td>dayhoff</td>\n",
       "      <td>26</td>\n",
       "      <td>Number of reads with 4 putative protein-coding...</td>\n",
       "      <td>0.0</td>\n",
       "      <td>4</td>\n",
       "    </tr>\n",
       "    <tr>\n",
       "      <th>111</th>\n",
       "      <td>dayhoff</td>\n",
       "      <td>27</td>\n",
       "      <td>Number of reads with 4 putative protein-coding...</td>\n",
       "      <td>0.0</td>\n",
       "      <td>4</td>\n",
       "    </tr>\n",
       "    <tr>\n",
       "      <th>117</th>\n",
       "      <td>dayhoff</td>\n",
       "      <td>28</td>\n",
       "      <td>Number of reads with 4 putative protein-coding...</td>\n",
       "      <td>0.0</td>\n",
       "      <td>4</td>\n",
       "    </tr>\n",
       "    <tr>\n",
       "      <th>123</th>\n",
       "      <td>dayhoff</td>\n",
       "      <td>29</td>\n",
       "      <td>Number of reads with 4 putative protein-coding...</td>\n",
       "      <td>0.0</td>\n",
       "      <td>4</td>\n",
       "    </tr>\n",
       "    <tr>\n",
       "      <th>129</th>\n",
       "      <td>dayhoff</td>\n",
       "      <td>30</td>\n",
       "      <td>Number of reads with 4 putative protein-coding...</td>\n",
       "      <td>0.0</td>\n",
       "      <td>4</td>\n",
       "    </tr>\n",
       "    <tr>\n",
       "      <th>135</th>\n",
       "      <td>dayhoff</td>\n",
       "      <td>31</td>\n",
       "      <td>Number of reads with 4 putative protein-coding...</td>\n",
       "      <td>0.0</td>\n",
       "      <td>4</td>\n",
       "    </tr>\n",
       "  </tbody>\n",
       "</table>\n",
       "</div>"
      ],
      "text/plain": [
       "    alphabet  ksize                                           category  \\\n",
       "45   dayhoff     16  Number of reads with 4 putative protein-coding...   \n",
       "51   dayhoff     17  Number of reads with 4 putative protein-coding...   \n",
       "57   dayhoff     18  Number of reads with 4 putative protein-coding...   \n",
       "63   dayhoff     19  Number of reads with 4 putative protein-coding...   \n",
       "69   dayhoff     20  Number of reads with 4 putative protein-coding...   \n",
       "75   dayhoff     21  Number of reads with 4 putative protein-coding...   \n",
       "81   dayhoff     22  Number of reads with 4 putative protein-coding...   \n",
       "87   dayhoff     23  Number of reads with 4 putative protein-coding...   \n",
       "93   dayhoff     24  Number of reads with 4 putative protein-coding...   \n",
       "99   dayhoff     25  Number of reads with 4 putative protein-coding...   \n",
       "105  dayhoff     26  Number of reads with 4 putative protein-coding...   \n",
       "111  dayhoff     27  Number of reads with 4 putative protein-coding...   \n",
       "117  dayhoff     28  Number of reads with 4 putative protein-coding...   \n",
       "123  dayhoff     29  Number of reads with 4 putative protein-coding...   \n",
       "129  dayhoff     30  Number of reads with 4 putative protein-coding...   \n",
       "135  dayhoff     31  Number of reads with 4 putative protein-coding...   \n",
       "\n",
       "     n_reads  n_frames  \n",
       "45       0.0         4  \n",
       "51       0.0         4  \n",
       "57       0.0         4  \n",
       "63       0.0         4  \n",
       "69       0.0         4  \n",
       "75       0.0         4  \n",
       "81       0.0         4  \n",
       "87       0.0         4  \n",
       "93       0.0         4  \n",
       "99       0.0         4  \n",
       "105      0.0         4  \n",
       "111      0.0         4  \n",
       "117      0.0         4  \n",
       "123      0.0         4  \n",
       "129      0.0         4  \n",
       "135      0.0         4  "
      ]
     },
     "execution_count": 25,
     "metadata": {},
     "output_type": "execute_result"
    }
   ],
   "source": [
    "n_frames_per_read_tidy.query(\n",
    "    '(n_frames == 4) & (n_reads == 0) & (alphabet == \"dayhoff\")'\n",
    ")"
   ]
  },
  {
   "cell_type": "code",
   "execution_count": 26,
   "metadata": {},
   "outputs": [
    {
     "data": {
      "text/html": [
       "<div>\n",
       "<style scoped>\n",
       "    .dataframe tbody tr th:only-of-type {\n",
       "        vertical-align: middle;\n",
       "    }\n",
       "\n",
       "    .dataframe tbody tr th {\n",
       "        vertical-align: top;\n",
       "    }\n",
       "\n",
       "    .dataframe thead th {\n",
       "        text-align: right;\n",
       "    }\n",
       "</style>\n",
       "<table border=\"1\" class=\"dataframe\">\n",
       "  <thead>\n",
       "    <tr style=\"text-align: right;\">\n",
       "      <th></th>\n",
       "      <th>alphabet</th>\n",
       "      <th>ksize</th>\n",
       "      <th>category</th>\n",
       "      <th>n_reads</th>\n",
       "      <th>n_frames</th>\n",
       "    </tr>\n",
       "  </thead>\n",
       "  <tbody>\n",
       "  </tbody>\n",
       "</table>\n",
       "</div>"
      ],
      "text/plain": [
       "Empty DataFrame\n",
       "Columns: [alphabet, ksize, category, n_reads, n_frames]\n",
       "Index: []"
      ]
     },
     "execution_count": 26,
     "metadata": {},
     "output_type": "execute_result"
    }
   ],
   "source": [
    "n_frames_per_read_tidy.query(\n",
    "    '(n_frames == 3) & (n_reads == 0) & (alphabet == \"dayhoff\")'\n",
    ")"
   ]
  },
  {
   "cell_type": "code",
   "execution_count": 27,
   "metadata": {},
   "outputs": [
    {
     "data": {
      "text/html": [
       "<div>\n",
       "<style scoped>\n",
       "    .dataframe tbody tr th:only-of-type {\n",
       "        vertical-align: middle;\n",
       "    }\n",
       "\n",
       "    .dataframe tbody tr th {\n",
       "        vertical-align: top;\n",
       "    }\n",
       "\n",
       "    .dataframe thead th {\n",
       "        text-align: right;\n",
       "    }\n",
       "</style>\n",
       "<table border=\"1\" class=\"dataframe\">\n",
       "  <thead>\n",
       "    <tr style=\"text-align: right;\">\n",
       "      <th></th>\n",
       "      <th>alphabet</th>\n",
       "      <th>ksize</th>\n",
       "      <th>category</th>\n",
       "      <th>n_reads</th>\n",
       "      <th>n_frames</th>\n",
       "    </tr>\n",
       "  </thead>\n",
       "  <tbody>\n",
       "    <tr>\n",
       "      <th>138</th>\n",
       "      <td>protein</td>\n",
       "      <td>9</td>\n",
       "      <td>Number of reads with 1 putative protein-coding...</td>\n",
       "      <td>552319.0</td>\n",
       "      <td>1</td>\n",
       "    </tr>\n",
       "    <tr>\n",
       "      <th>139</th>\n",
       "      <td>protein</td>\n",
       "      <td>9</td>\n",
       "      <td>Number of reads with 2 putative protein-coding...</td>\n",
       "      <td>289.0</td>\n",
       "      <td>2</td>\n",
       "    </tr>\n",
       "    <tr>\n",
       "      <th>140</th>\n",
       "      <td>protein</td>\n",
       "      <td>9</td>\n",
       "      <td>Number of reads with 3 putative protein-coding...</td>\n",
       "      <td>4.0</td>\n",
       "      <td>3</td>\n",
       "    </tr>\n",
       "    <tr>\n",
       "      <th>144</th>\n",
       "      <td>protein</td>\n",
       "      <td>10</td>\n",
       "      <td>Number of reads with 1 putative protein-coding...</td>\n",
       "      <td>543198.0</td>\n",
       "      <td>1</td>\n",
       "    </tr>\n",
       "    <tr>\n",
       "      <th>145</th>\n",
       "      <td>protein</td>\n",
       "      <td>10</td>\n",
       "      <td>Number of reads with 2 putative protein-coding...</td>\n",
       "      <td>270.0</td>\n",
       "      <td>2</td>\n",
       "    </tr>\n",
       "    <tr>\n",
       "      <th>146</th>\n",
       "      <td>protein</td>\n",
       "      <td>10</td>\n",
       "      <td>Number of reads with 3 putative protein-coding...</td>\n",
       "      <td>4.0</td>\n",
       "      <td>3</td>\n",
       "    </tr>\n",
       "    <tr>\n",
       "      <th>150</th>\n",
       "      <td>protein</td>\n",
       "      <td>11</td>\n",
       "      <td>Number of reads with 1 putative protein-coding...</td>\n",
       "      <td>538629.0</td>\n",
       "      <td>1</td>\n",
       "    </tr>\n",
       "    <tr>\n",
       "      <th>151</th>\n",
       "      <td>protein</td>\n",
       "      <td>11</td>\n",
       "      <td>Number of reads with 2 putative protein-coding...</td>\n",
       "      <td>270.0</td>\n",
       "      <td>2</td>\n",
       "    </tr>\n",
       "    <tr>\n",
       "      <th>156</th>\n",
       "      <td>protein</td>\n",
       "      <td>12</td>\n",
       "      <td>Number of reads with 1 putative protein-coding...</td>\n",
       "      <td>538413.0</td>\n",
       "      <td>1</td>\n",
       "    </tr>\n",
       "    <tr>\n",
       "      <th>157</th>\n",
       "      <td>protein</td>\n",
       "      <td>12</td>\n",
       "      <td>Number of reads with 2 putative protein-coding...</td>\n",
       "      <td>270.0</td>\n",
       "      <td>2</td>\n",
       "    </tr>\n",
       "    <tr>\n",
       "      <th>162</th>\n",
       "      <td>protein</td>\n",
       "      <td>13</td>\n",
       "      <td>Number of reads with 1 putative protein-coding...</td>\n",
       "      <td>538246.0</td>\n",
       "      <td>1</td>\n",
       "    </tr>\n",
       "    <tr>\n",
       "      <th>163</th>\n",
       "      <td>protein</td>\n",
       "      <td>13</td>\n",
       "      <td>Number of reads with 2 putative protein-coding...</td>\n",
       "      <td>269.0</td>\n",
       "      <td>2</td>\n",
       "    </tr>\n",
       "    <tr>\n",
       "      <th>168</th>\n",
       "      <td>protein</td>\n",
       "      <td>14</td>\n",
       "      <td>Number of reads with 1 putative protein-coding...</td>\n",
       "      <td>538208.0</td>\n",
       "      <td>1</td>\n",
       "    </tr>\n",
       "    <tr>\n",
       "      <th>169</th>\n",
       "      <td>protein</td>\n",
       "      <td>14</td>\n",
       "      <td>Number of reads with 2 putative protein-coding...</td>\n",
       "      <td>267.0</td>\n",
       "      <td>2</td>\n",
       "    </tr>\n",
       "    <tr>\n",
       "      <th>174</th>\n",
       "      <td>protein</td>\n",
       "      <td>15</td>\n",
       "      <td>Number of reads with 1 putative protein-coding...</td>\n",
       "      <td>538105.0</td>\n",
       "      <td>1</td>\n",
       "    </tr>\n",
       "    <tr>\n",
       "      <th>175</th>\n",
       "      <td>protein</td>\n",
       "      <td>15</td>\n",
       "      <td>Number of reads with 2 putative protein-coding...</td>\n",
       "      <td>267.0</td>\n",
       "      <td>2</td>\n",
       "    </tr>\n",
       "    <tr>\n",
       "      <th>180</th>\n",
       "      <td>protein</td>\n",
       "      <td>16</td>\n",
       "      <td>Number of reads with 1 putative protein-coding...</td>\n",
       "      <td>537837.0</td>\n",
       "      <td>1</td>\n",
       "    </tr>\n",
       "    <tr>\n",
       "      <th>181</th>\n",
       "      <td>protein</td>\n",
       "      <td>16</td>\n",
       "      <td>Number of reads with 2 putative protein-coding...</td>\n",
       "      <td>263.0</td>\n",
       "      <td>2</td>\n",
       "    </tr>\n",
       "    <tr>\n",
       "      <th>186</th>\n",
       "      <td>protein</td>\n",
       "      <td>17</td>\n",
       "      <td>Number of reads with 1 putative protein-coding...</td>\n",
       "      <td>537651.0</td>\n",
       "      <td>1</td>\n",
       "    </tr>\n",
       "    <tr>\n",
       "      <th>187</th>\n",
       "      <td>protein</td>\n",
       "      <td>17</td>\n",
       "      <td>Number of reads with 2 putative protein-coding...</td>\n",
       "      <td>263.0</td>\n",
       "      <td>2</td>\n",
       "    </tr>\n",
       "    <tr>\n",
       "      <th>192</th>\n",
       "      <td>protein</td>\n",
       "      <td>18</td>\n",
       "      <td>Number of reads with 1 putative protein-coding...</td>\n",
       "      <td>537435.0</td>\n",
       "      <td>1</td>\n",
       "    </tr>\n",
       "    <tr>\n",
       "      <th>193</th>\n",
       "      <td>protein</td>\n",
       "      <td>18</td>\n",
       "      <td>Number of reads with 2 putative protein-coding...</td>\n",
       "      <td>263.0</td>\n",
       "      <td>2</td>\n",
       "    </tr>\n",
       "    <tr>\n",
       "      <th>198</th>\n",
       "      <td>protein</td>\n",
       "      <td>19</td>\n",
       "      <td>Number of reads with 1 putative protein-coding...</td>\n",
       "      <td>537143.0</td>\n",
       "      <td>1</td>\n",
       "    </tr>\n",
       "    <tr>\n",
       "      <th>199</th>\n",
       "      <td>protein</td>\n",
       "      <td>19</td>\n",
       "      <td>Number of reads with 2 putative protein-coding...</td>\n",
       "      <td>263.0</td>\n",
       "      <td>2</td>\n",
       "    </tr>\n",
       "    <tr>\n",
       "      <th>204</th>\n",
       "      <td>protein</td>\n",
       "      <td>20</td>\n",
       "      <td>Number of reads with 1 putative protein-coding...</td>\n",
       "      <td>536316.0</td>\n",
       "      <td>1</td>\n",
       "    </tr>\n",
       "    <tr>\n",
       "      <th>205</th>\n",
       "      <td>protein</td>\n",
       "      <td>20</td>\n",
       "      <td>Number of reads with 2 putative protein-coding...</td>\n",
       "      <td>263.0</td>\n",
       "      <td>2</td>\n",
       "    </tr>\n",
       "    <tr>\n",
       "      <th>210</th>\n",
       "      <td>protein</td>\n",
       "      <td>21</td>\n",
       "      <td>Number of reads with 1 putative protein-coding...</td>\n",
       "      <td>535586.0</td>\n",
       "      <td>1</td>\n",
       "    </tr>\n",
       "    <tr>\n",
       "      <th>211</th>\n",
       "      <td>protein</td>\n",
       "      <td>21</td>\n",
       "      <td>Number of reads with 2 putative protein-coding...</td>\n",
       "      <td>263.0</td>\n",
       "      <td>2</td>\n",
       "    </tr>\n",
       "    <tr>\n",
       "      <th>216</th>\n",
       "      <td>protein</td>\n",
       "      <td>22</td>\n",
       "      <td>Number of reads with 1 putative protein-coding...</td>\n",
       "      <td>535292.0</td>\n",
       "      <td>1</td>\n",
       "    </tr>\n",
       "    <tr>\n",
       "      <th>217</th>\n",
       "      <td>protein</td>\n",
       "      <td>22</td>\n",
       "      <td>Number of reads with 2 putative protein-coding...</td>\n",
       "      <td>263.0</td>\n",
       "      <td>2</td>\n",
       "    </tr>\n",
       "    <tr>\n",
       "      <th>222</th>\n",
       "      <td>protein</td>\n",
       "      <td>23</td>\n",
       "      <td>Number of reads with 1 putative protein-coding...</td>\n",
       "      <td>535148.0</td>\n",
       "      <td>1</td>\n",
       "    </tr>\n",
       "    <tr>\n",
       "      <th>223</th>\n",
       "      <td>protein</td>\n",
       "      <td>23</td>\n",
       "      <td>Number of reads with 2 putative protein-coding...</td>\n",
       "      <td>263.0</td>\n",
       "      <td>2</td>\n",
       "    </tr>\n",
       "    <tr>\n",
       "      <th>228</th>\n",
       "      <td>protein</td>\n",
       "      <td>24</td>\n",
       "      <td>Number of reads with 1 putative protein-coding...</td>\n",
       "      <td>535101.0</td>\n",
       "      <td>1</td>\n",
       "    </tr>\n",
       "    <tr>\n",
       "      <th>229</th>\n",
       "      <td>protein</td>\n",
       "      <td>24</td>\n",
       "      <td>Number of reads with 2 putative protein-coding...</td>\n",
       "      <td>263.0</td>\n",
       "      <td>2</td>\n",
       "    </tr>\n",
       "    <tr>\n",
       "      <th>234</th>\n",
       "      <td>protein</td>\n",
       "      <td>25</td>\n",
       "      <td>Number of reads with 1 putative protein-coding...</td>\n",
       "      <td>535064.0</td>\n",
       "      <td>1</td>\n",
       "    </tr>\n",
       "    <tr>\n",
       "      <th>235</th>\n",
       "      <td>protein</td>\n",
       "      <td>25</td>\n",
       "      <td>Number of reads with 2 putative protein-coding...</td>\n",
       "      <td>261.0</td>\n",
       "      <td>2</td>\n",
       "    </tr>\n",
       "    <tr>\n",
       "      <th>240</th>\n",
       "      <td>protein</td>\n",
       "      <td>26</td>\n",
       "      <td>Number of reads with 1 putative protein-coding...</td>\n",
       "      <td>535057.0</td>\n",
       "      <td>1</td>\n",
       "    </tr>\n",
       "    <tr>\n",
       "      <th>241</th>\n",
       "      <td>protein</td>\n",
       "      <td>26</td>\n",
       "      <td>Number of reads with 2 putative protein-coding...</td>\n",
       "      <td>261.0</td>\n",
       "      <td>2</td>\n",
       "    </tr>\n",
       "    <tr>\n",
       "      <th>246</th>\n",
       "      <td>protein</td>\n",
       "      <td>27</td>\n",
       "      <td>Number of reads with 1 putative protein-coding...</td>\n",
       "      <td>535055.0</td>\n",
       "      <td>1</td>\n",
       "    </tr>\n",
       "    <tr>\n",
       "      <th>247</th>\n",
       "      <td>protein</td>\n",
       "      <td>27</td>\n",
       "      <td>Number of reads with 2 putative protein-coding...</td>\n",
       "      <td>260.0</td>\n",
       "      <td>2</td>\n",
       "    </tr>\n",
       "    <tr>\n",
       "      <th>252</th>\n",
       "      <td>protein</td>\n",
       "      <td>28</td>\n",
       "      <td>Number of reads with 1 putative protein-coding...</td>\n",
       "      <td>535006.0</td>\n",
       "      <td>1</td>\n",
       "    </tr>\n",
       "    <tr>\n",
       "      <th>253</th>\n",
       "      <td>protein</td>\n",
       "      <td>28</td>\n",
       "      <td>Number of reads with 2 putative protein-coding...</td>\n",
       "      <td>260.0</td>\n",
       "      <td>2</td>\n",
       "    </tr>\n",
       "    <tr>\n",
       "      <th>258</th>\n",
       "      <td>protein</td>\n",
       "      <td>29</td>\n",
       "      <td>Number of reads with 1 putative protein-coding...</td>\n",
       "      <td>535006.0</td>\n",
       "      <td>1</td>\n",
       "    </tr>\n",
       "    <tr>\n",
       "      <th>259</th>\n",
       "      <td>protein</td>\n",
       "      <td>29</td>\n",
       "      <td>Number of reads with 2 putative protein-coding...</td>\n",
       "      <td>260.0</td>\n",
       "      <td>2</td>\n",
       "    </tr>\n",
       "    <tr>\n",
       "      <th>264</th>\n",
       "      <td>protein</td>\n",
       "      <td>30</td>\n",
       "      <td>Number of reads with 1 putative protein-coding...</td>\n",
       "      <td>526475.0</td>\n",
       "      <td>1</td>\n",
       "    </tr>\n",
       "    <tr>\n",
       "      <th>265</th>\n",
       "      <td>protein</td>\n",
       "      <td>30</td>\n",
       "      <td>Number of reads with 2 putative protein-coding...</td>\n",
       "      <td>251.0</td>\n",
       "      <td>2</td>\n",
       "    </tr>\n",
       "    <tr>\n",
       "      <th>270</th>\n",
       "      <td>protein</td>\n",
       "      <td>31</td>\n",
       "      <td>Number of reads with 1 putative protein-coding...</td>\n",
       "      <td>521970.0</td>\n",
       "      <td>1</td>\n",
       "    </tr>\n",
       "    <tr>\n",
       "      <th>271</th>\n",
       "      <td>protein</td>\n",
       "      <td>31</td>\n",
       "      <td>Number of reads with 2 putative protein-coding...</td>\n",
       "      <td>249.0</td>\n",
       "      <td>2</td>\n",
       "    </tr>\n",
       "  </tbody>\n",
       "</table>\n",
       "</div>"
      ],
      "text/plain": [
       "    alphabet  ksize                                           category  \\\n",
       "138  protein      9  Number of reads with 1 putative protein-coding...   \n",
       "139  protein      9  Number of reads with 2 putative protein-coding...   \n",
       "140  protein      9  Number of reads with 3 putative protein-coding...   \n",
       "144  protein     10  Number of reads with 1 putative protein-coding...   \n",
       "145  protein     10  Number of reads with 2 putative protein-coding...   \n",
       "146  protein     10  Number of reads with 3 putative protein-coding...   \n",
       "150  protein     11  Number of reads with 1 putative protein-coding...   \n",
       "151  protein     11  Number of reads with 2 putative protein-coding...   \n",
       "156  protein     12  Number of reads with 1 putative protein-coding...   \n",
       "157  protein     12  Number of reads with 2 putative protein-coding...   \n",
       "162  protein     13  Number of reads with 1 putative protein-coding...   \n",
       "163  protein     13  Number of reads with 2 putative protein-coding...   \n",
       "168  protein     14  Number of reads with 1 putative protein-coding...   \n",
       "169  protein     14  Number of reads with 2 putative protein-coding...   \n",
       "174  protein     15  Number of reads with 1 putative protein-coding...   \n",
       "175  protein     15  Number of reads with 2 putative protein-coding...   \n",
       "180  protein     16  Number of reads with 1 putative protein-coding...   \n",
       "181  protein     16  Number of reads with 2 putative protein-coding...   \n",
       "186  protein     17  Number of reads with 1 putative protein-coding...   \n",
       "187  protein     17  Number of reads with 2 putative protein-coding...   \n",
       "192  protein     18  Number of reads with 1 putative protein-coding...   \n",
       "193  protein     18  Number of reads with 2 putative protein-coding...   \n",
       "198  protein     19  Number of reads with 1 putative protein-coding...   \n",
       "199  protein     19  Number of reads with 2 putative protein-coding...   \n",
       "204  protein     20  Number of reads with 1 putative protein-coding...   \n",
       "205  protein     20  Number of reads with 2 putative protein-coding...   \n",
       "210  protein     21  Number of reads with 1 putative protein-coding...   \n",
       "211  protein     21  Number of reads with 2 putative protein-coding...   \n",
       "216  protein     22  Number of reads with 1 putative protein-coding...   \n",
       "217  protein     22  Number of reads with 2 putative protein-coding...   \n",
       "222  protein     23  Number of reads with 1 putative protein-coding...   \n",
       "223  protein     23  Number of reads with 2 putative protein-coding...   \n",
       "228  protein     24  Number of reads with 1 putative protein-coding...   \n",
       "229  protein     24  Number of reads with 2 putative protein-coding...   \n",
       "234  protein     25  Number of reads with 1 putative protein-coding...   \n",
       "235  protein     25  Number of reads with 2 putative protein-coding...   \n",
       "240  protein     26  Number of reads with 1 putative protein-coding...   \n",
       "241  protein     26  Number of reads with 2 putative protein-coding...   \n",
       "246  protein     27  Number of reads with 1 putative protein-coding...   \n",
       "247  protein     27  Number of reads with 2 putative protein-coding...   \n",
       "252  protein     28  Number of reads with 1 putative protein-coding...   \n",
       "253  protein     28  Number of reads with 2 putative protein-coding...   \n",
       "258  protein     29  Number of reads with 1 putative protein-coding...   \n",
       "259  protein     29  Number of reads with 2 putative protein-coding...   \n",
       "264  protein     30  Number of reads with 1 putative protein-coding...   \n",
       "265  protein     30  Number of reads with 2 putative protein-coding...   \n",
       "270  protein     31  Number of reads with 1 putative protein-coding...   \n",
       "271  protein     31  Number of reads with 2 putative protein-coding...   \n",
       "\n",
       "      n_reads  n_frames  \n",
       "138  552319.0         1  \n",
       "139     289.0         2  \n",
       "140       4.0         3  \n",
       "144  543198.0         1  \n",
       "145     270.0         2  \n",
       "146       4.0         3  \n",
       "150  538629.0         1  \n",
       "151     270.0         2  \n",
       "156  538413.0         1  \n",
       "157     270.0         2  \n",
       "162  538246.0         1  \n",
       "163     269.0         2  \n",
       "168  538208.0         1  \n",
       "169     267.0         2  \n",
       "174  538105.0         1  \n",
       "175     267.0         2  \n",
       "180  537837.0         1  \n",
       "181     263.0         2  \n",
       "186  537651.0         1  \n",
       "187     263.0         2  \n",
       "192  537435.0         1  \n",
       "193     263.0         2  \n",
       "198  537143.0         1  \n",
       "199     263.0         2  \n",
       "204  536316.0         1  \n",
       "205     263.0         2  \n",
       "210  535586.0         1  \n",
       "211     263.0         2  \n",
       "216  535292.0         1  \n",
       "217     263.0         2  \n",
       "222  535148.0         1  \n",
       "223     263.0         2  \n",
       "228  535101.0         1  \n",
       "229     263.0         2  \n",
       "234  535064.0         1  \n",
       "235     261.0         2  \n",
       "240  535057.0         1  \n",
       "241     261.0         2  \n",
       "246  535055.0         1  \n",
       "247     260.0         2  \n",
       "252  535006.0         1  \n",
       "253     260.0         2  \n",
       "258  535006.0         1  \n",
       "259     260.0         2  \n",
       "264  526475.0         1  \n",
       "265     251.0         2  \n",
       "270  521970.0         1  \n",
       "271     249.0         2  "
      ]
     },
     "execution_count": 27,
     "metadata": {},
     "output_type": "execute_result"
    }
   ],
   "source": [
    "n_frames_per_read_tidy.query(\n",
    "    '(n_frames <= 3) & (n_reads > 0) & (alphabet == \"protein\")')"
   ]
  },
  {
   "cell_type": "markdown",
   "metadata": {
    "toc-hr-collapsed": true,
    "toc-nb-collapsed": true
   },
   "source": [
    "##### What is the equivalent of k=11 in proteins, for dayhoff?"
   ]
  },
  {
   "cell_type": "code",
   "execution_count": null,
   "metadata": {},
   "outputs": [],
   "source": []
  },
  {
   "cell_type": "code",
   "execution_count": null,
   "metadata": {},
   "outputs": [],
   "source": []
  },
  {
   "cell_type": "code",
   "execution_count": null,
   "metadata": {},
   "outputs": [],
   "source": []
  },
  {
   "cell_type": "code",
   "execution_count": null,
   "metadata": {},
   "outputs": [],
   "source": []
  },
  {
   "cell_type": "code",
   "execution_count": null,
   "metadata": {},
   "outputs": [],
   "source": []
  },
  {
   "cell_type": "code",
   "execution_count": null,
   "metadata": {},
   "outputs": [],
   "source": []
  },
  {
   "cell_type": "code",
   "execution_count": null,
   "metadata": {},
   "outputs": [],
   "source": []
  },
  {
   "cell_type": "code",
   "execution_count": 20,
   "metadata": {},
   "outputs": [
    {
     "ename": "SyntaxError",
     "evalue": "invalid syntax (<ipython-input-20-c493d82954d7>, line 1)",
     "output_type": "error",
     "traceback": [
      "\u001b[0;36m  File \u001b[0;32m\"<ipython-input-20-c493d82954d7>\"\u001b[0;36m, line \u001b[0;32m1\u001b[0m\n\u001b[0;31m    11 *\u001b[0m\n\u001b[0m         ^\u001b[0m\n\u001b[0;31mSyntaxError\u001b[0m\u001b[0;31m:\u001b[0m invalid syntax\n"
     ]
    }
   ],
   "source": [
    "11 * "
   ]
  },
  {
   "cell_type": "code",
   "execution_count": null,
   "metadata": {},
   "outputs": [],
   "source": [
    "g = sns.catplot(\n",
    "    x='ksize', y='n_reads', hue='alphabet', \n",
    "    col='n_frames', col_wrap=4, height=3, \n",
    "    data=n_frames_per_read_tidy, kind='point', sharey=False)\n",
    "g.set(yscale='log')"
   ]
  },
  {
   "cell_type": "code",
   "execution_count": null,
   "metadata": {},
   "outputs": [],
   "source": []
  },
  {
   "cell_type": "code",
   "execution_count": null,
   "metadata": {},
   "outputs": [],
   "source": []
  },
  {
   "cell_type": "code",
   "execution_count": 137,
   "metadata": {},
   "outputs": [
    {
     "data": {
      "text/plain": [
       "18.391450177903113"
      ]
     },
     "execution_count": 137,
     "metadata": {},
     "output_type": "execute_result"
    }
   ],
   "source": [
    "11 * math.log(20) / math.log(6)"
   ]
  },
  {
   "cell_type": "markdown",
   "metadata": {},
   "source": [
    "### Categorization"
   ]
  },
  {
   "cell_type": "code",
   "execution_count": 138,
   "metadata": {},
   "outputs": [
    {
     "name": "stdout",
     "output_type": "stream",
     "text": [
      "(46, 7)\n",
      "Zero for all alpahbets and ksizes: Index(['Low complexity nucleotide', 'Read length was shorter than 3 * peptide k-mer size'], dtype='object')\n",
      "(46, 5)\n"
     ]
    },
    {
     "data": {
      "text/html": [
       "<div>\n",
       "<style scoped>\n",
       "    .dataframe tbody tr th:only-of-type {\n",
       "        vertical-align: middle;\n",
       "    }\n",
       "\n",
       "    .dataframe tbody tr th {\n",
       "        vertical-align: top;\n",
       "    }\n",
       "\n",
       "    .dataframe thead th {\n",
       "        text-align: right;\n",
       "    }\n",
       "</style>\n",
       "<table border=\"1\" class=\"dataframe\">\n",
       "  <thead>\n",
       "    <tr style=\"text-align: right;\">\n",
       "      <th></th>\n",
       "      <th></th>\n",
       "      <th>Coding</th>\n",
       "      <th>Low complexity peptide</th>\n",
       "      <th>Non-coding</th>\n",
       "      <th>Translation frame has stop codon(s)</th>\n",
       "      <th>Too few k-mers</th>\n",
       "    </tr>\n",
       "  </thead>\n",
       "  <tbody>\n",
       "    <tr>\n",
       "      <th rowspan=\"5\" valign=\"top\">dayhoff</th>\n",
       "      <th>9</th>\n",
       "      <td>81.152826</td>\n",
       "      <td>0.003350</td>\n",
       "      <td>16.886880</td>\n",
       "      <td>1.907387</td>\n",
       "      <td>0.049557</td>\n",
       "    </tr>\n",
       "    <tr>\n",
       "      <th>10</th>\n",
       "      <td>70.527221</td>\n",
       "      <td>0.003153</td>\n",
       "      <td>27.497805</td>\n",
       "      <td>1.907387</td>\n",
       "      <td>0.064433</td>\n",
       "    </tr>\n",
       "    <tr>\n",
       "      <th>11</th>\n",
       "      <td>63.448706</td>\n",
       "      <td>0.002857</td>\n",
       "      <td>34.571887</td>\n",
       "      <td>1.907387</td>\n",
       "      <td>0.069162</td>\n",
       "    </tr>\n",
       "    <tr>\n",
       "      <th>12</th>\n",
       "      <td>61.555407</td>\n",
       "      <td>0.002857</td>\n",
       "      <td>36.454545</td>\n",
       "      <td>1.907387</td>\n",
       "      <td>0.079803</td>\n",
       "    </tr>\n",
       "    <tr>\n",
       "      <th>13</th>\n",
       "      <td>60.988610</td>\n",
       "      <td>0.002759</td>\n",
       "      <td>37.007648</td>\n",
       "      <td>1.907387</td>\n",
       "      <td>0.093596</td>\n",
       "    </tr>\n",
       "  </tbody>\n",
       "</table>\n",
       "</div>"
      ],
      "text/plain": [
       "               Coding  Low complexity peptide  Non-coding  \\\n",
       "dayhoff 9   81.152826                0.003350   16.886880   \n",
       "        10  70.527221                0.003153   27.497805   \n",
       "        11  63.448706                0.002857   34.571887   \n",
       "        12  61.555407                0.002857   36.454545   \n",
       "        13  60.988610                0.002759   37.007648   \n",
       "\n",
       "            Translation frame has stop codon(s)  Too few k-mers  \n",
       "dayhoff 9                              1.907387        0.049557  \n",
       "        10                             1.907387        0.064433  \n",
       "        11                             1.907387        0.069162  \n",
       "        12                             1.907387        0.079803  \n",
       "        13                             1.907387        0.093596  "
      ]
     },
     "execution_count": 138,
     "metadata": {},
     "output_type": "execute_result"
    }
   ],
   "source": [
    "categorization = pd.DataFrame(categorization_dict).T.sort_index()\n",
    "# categorization.columns = [for x in categorization.columns]\n",
    "# categorization = categorization.groupby(axis=1, level=0).sum()\n",
    "print(categorization.shape)\n",
    "\n",
    "# remove categories that are 0 for all alphabets and ksizes\n",
    "nonzero_for_all = (categorization > 0).any(axis=0)\n",
    "print(\"Zero for all alpahbets and ksizes:\", \n",
    "      categorization.columns[~nonzero_for_all])\n",
    "categorization = categorization.loc[:, nonzero_for_all]\n",
    "categorization = categorization.rename(columns={'Translation is shorter than peptide k-mer size + 1': 'Too few k-mers'})\n",
    "\n",
    "print(categorization.shape)\n",
    "categorization.head()"
   ]
  },
  {
   "cell_type": "code",
   "execution_count": 139,
   "metadata": {},
   "outputs": [
    {
     "data": {
      "text/html": [
       "<div>\n",
       "<style scoped>\n",
       "    .dataframe tbody tr th:only-of-type {\n",
       "        vertical-align: middle;\n",
       "    }\n",
       "\n",
       "    .dataframe tbody tr th {\n",
       "        vertical-align: top;\n",
       "    }\n",
       "\n",
       "    .dataframe thead th {\n",
       "        text-align: right;\n",
       "    }\n",
       "</style>\n",
       "<table border=\"1\" class=\"dataframe\">\n",
       "  <thead>\n",
       "    <tr style=\"text-align: right;\">\n",
       "      <th></th>\n",
       "      <th>alphabet</th>\n",
       "      <th>ksize</th>\n",
       "      <th>category</th>\n",
       "      <th>percentage</th>\n",
       "    </tr>\n",
       "  </thead>\n",
       "  <tbody>\n",
       "    <tr>\n",
       "      <th>0</th>\n",
       "      <td>dayhoff</td>\n",
       "      <td>9</td>\n",
       "      <td>Coding</td>\n",
       "      <td>81.152826</td>\n",
       "    </tr>\n",
       "    <tr>\n",
       "      <th>1</th>\n",
       "      <td>dayhoff</td>\n",
       "      <td>9</td>\n",
       "      <td>Low complexity peptide</td>\n",
       "      <td>0.003350</td>\n",
       "    </tr>\n",
       "    <tr>\n",
       "      <th>2</th>\n",
       "      <td>dayhoff</td>\n",
       "      <td>9</td>\n",
       "      <td>Non-coding</td>\n",
       "      <td>16.886880</td>\n",
       "    </tr>\n",
       "    <tr>\n",
       "      <th>3</th>\n",
       "      <td>dayhoff</td>\n",
       "      <td>9</td>\n",
       "      <td>Translation frame has stop codon(s)</td>\n",
       "      <td>1.907387</td>\n",
       "    </tr>\n",
       "    <tr>\n",
       "      <th>4</th>\n",
       "      <td>dayhoff</td>\n",
       "      <td>9</td>\n",
       "      <td>Too few k-mers</td>\n",
       "      <td>0.049557</td>\n",
       "    </tr>\n",
       "  </tbody>\n",
       "</table>\n",
       "</div>"
      ],
      "text/plain": [
       "  alphabet  ksize                             category  percentage\n",
       "0  dayhoff      9                               Coding   81.152826\n",
       "1  dayhoff      9               Low complexity peptide    0.003350\n",
       "2  dayhoff      9                           Non-coding   16.886880\n",
       "3  dayhoff      9  Translation frame has stop codon(s)    1.907387\n",
       "4  dayhoff      9                       Too few k-mers    0.049557"
      ]
     },
     "execution_count": 139,
     "metadata": {},
     "output_type": "execute_result"
    }
   ],
   "source": [
    "categorization_tidy = categorization.stack().reset_index()\n",
    "categorization_tidy = categorization_tidy.rename(\n",
    "    columns={'level_0': 'alphabet', 'level_1': 'ksize', \n",
    "             'level_2': 'category', 0: 'percentage'}\n",
    ")\n",
    "\n",
    "categorization_tidy.head()"
   ]
  },
  {
   "cell_type": "markdown",
   "metadata": {},
   "source": [
    "#### Plot it"
   ]
  },
  {
   "cell_type": "code",
   "execution_count": 143,
   "metadata": {},
   "outputs": [
    {
     "data": {
      "text/plain": [
       "<seaborn.axisgrid.FacetGrid at 0x7f6b19365f98>"
      ]
     },
     "execution_count": 143,
     "metadata": {},
     "output_type": "execute_result"
    },
    {
     "data": {
      "image/png": "[encoded data removed]",
      "text/plain": [
       "<Figure size 1046x432 with 5 Axes>"
      ]
     },
     "metadata": {
      "needs_background": "light"
     },
     "output_type": "display_data"
    }
   ],
   "source": [
    "g = sns.catplot(\n",
    "    x='ksize', y='percentage', hue='alphabet', \n",
    "    col='category', col_wrap=3, height=3, aspect=1.5,\n",
    "    data=categorization_tidy, kind='point', sharey=False)\n",
    "g.set_titles('{col_name}')"
   ]
  },
  {
   "cell_type": "code",
   "execution_count": 144,
   "metadata": {},
   "outputs": [],
   "source": [
    "# categorization.columns = [x.split('in')[0].strip() if 'complexity peptide' in x else x for x in categorization.columns]\n",
    "# categorization.groupby(ax)"
   ]
  },
  {
   "cell_type": "code",
   "execution_count": 145,
   "metadata": {},
   "outputs": [
    {
     "data": {
      "text/plain": [
       "array(['read1/tr|A0A024R1R8|ENSP00000491117;mate1Start:1;mate2Start:1',\n",
       "       'read1/tr|A0A024R1R8|ENSP00000491117;mate1Start:1;mate2Start:1',\n",
       "       'read2/tr|A0A024R1R8|ENSP00000491117;mate1Start:1;mate2Start:1',\n",
       "       'read2/tr|A0A024R1R8|ENSP00000491117;mate1Start:1;mate2Start:1',\n",
       "       'read6/tr|A0A024R1R8|ENSP00000491117;mate1Start:1;mate2Start:1'],\n",
       "      dtype=object)"
      ]
     },
     "execution_count": 145,
     "metadata": {},
     "output_type": "execute_result"
    }
   ],
   "source": [
    "blastp_results['read_id'].head().values"
   ]
  },
  {
   "cell_type": "code",
   "execution_count": null,
   "metadata": {},
   "outputs": [],
   "source": [
    "blastp_results"
   ]
  },
  {
   "cell_type": "markdown",
   "metadata": {},
   "source": [
    "# Read DIAMOND blastp results"
   ]
  },
  {
   "cell_type": "code",
   "execution_count": 11,
   "metadata": {},
   "outputs": [
    {
     "name": "stdout",
     "output_type": "stream",
     "text": [
      "total 5.5G\n",
      "drwxr-xr-x 2 olga czb 4.0K Aug 28 09:54 .\n",
      "drwxr-xr-x 9 olga czb 4.0K Aug 30 21:46 ..\n",
      "-rw-r--r-- 1 olga czb 252M Aug 28 09:48 homo_sapiens_9606_qfo_dna_01__molecule-dayhoff_ksize-10__diamond__UP000005640_9606_db.tsv\n",
      "-rw-r--r-- 1 olga czb 232M Aug 28 09:48 homo_sapiens_9606_qfo_dna_01__molecule-dayhoff_ksize-11__diamond__UP000005640_9606_db.tsv\n",
      "-rw-r--r-- 1 olga czb 227M Aug 28 09:54 homo_sapiens_9606_qfo_dna_01__molecule-dayhoff_ksize-12__diamond__UP000005640_9606_db.tsv\n",
      "-rw-r--r-- 1 olga czb 225M Aug 28 09:47 homo_sapiens_9606_qfo_dna_01__molecule-dayhoff_ksize-13__diamond__UP000005640_9606_db.tsv\n",
      "-rw-r--r-- 1 olga czb 225M Aug 28 09:50 homo_sapiens_9606_qfo_dna_01__molecule-dayhoff_ksize-14__diamond__UP000005640_9606_db.tsv\n",
      "-rw-r--r-- 1 olga czb 225M Aug 28 09:50 homo_sapiens_9606_qfo_dna_01__molecule-dayhoff_ksize-15__diamond__UP000005640_9606_db.tsv\n",
      "-rw-r--r-- 1 olga czb 224M Aug 28 09:48 homo_sapiens_9606_qfo_dna_01__molecule-dayhoff_ksize-16__diamond__UP000005640_9606_db.tsv\n",
      "-rw-r--r-- 1 olga czb 224M Aug 28 09:46 homo_sapiens_9606_qfo_dna_01__molecule-dayhoff_ksize-17__diamond__UP000005640_9606_db.tsv\n",
      "-rw-r--r-- 1 olga czb 224M Aug 28 09:47 homo_sapiens_9606_qfo_dna_01__molecule-dayhoff_ksize-18__diamond__UP000005640_9606_db.tsv\n",
      "-rw-r--r-- 1 olga czb 224M Aug 28 09:51 homo_sapiens_9606_qfo_dna_01__molecule-dayhoff_ksize-19__diamond__UP000005640_9606_db.tsv\n",
      "-rw-r--r-- 1 olga czb 224M Aug 28 09:47 homo_sapiens_9606_qfo_dna_01__molecule-dayhoff_ksize-20__diamond__UP000005640_9606_db.tsv\n",
      "-rw-r--r-- 1 olga czb 224M Aug 28 09:47 homo_sapiens_9606_qfo_dna_01__molecule-dayhoff_ksize-21__diamond__UP000005640_9606_db.tsv\n",
      "-rw-r--r-- 1 olga czb 283M Aug 28 09:49 homo_sapiens_9606_qfo_dna_01__molecule-dayhoff_ksize-9__diamond__UP000005640_9606_db.tsv\n",
      "-rw-r--r-- 1 olga czb 198M Aug 28 09:52 homo_sapiens_9606_qfo_dna_01__molecule-protein_ksize-10__diamond__UP000005640_9606_db.tsv\n",
      "-rw-r--r-- 1 olga czb 197M Aug 28 09:52 homo_sapiens_9606_qfo_dna_01__molecule-protein_ksize-11__diamond__UP000005640_9606_db.tsv\n",
      "-rw-r--r-- 1 olga czb 197M Aug 28 09:52 homo_sapiens_9606_qfo_dna_01__molecule-protein_ksize-12__diamond__UP000005640_9606_db.tsv\n",
      "-rw-r--r-- 1 olga czb 197M Aug 28 09:53 homo_sapiens_9606_qfo_dna_01__molecule-protein_ksize-13__diamond__UP000005640_9606_db.tsv\n",
      "-rw-r--r-- 1 olga czb 197M Aug 28 09:50 homo_sapiens_9606_qfo_dna_01__molecule-protein_ksize-14__diamond__UP000005640_9606_db.tsv\n",
      "-rw-r--r-- 1 olga czb 197M Aug 28 09:45 homo_sapiens_9606_qfo_dna_01__molecule-protein_ksize-15__diamond__UP000005640_9606_db.tsv\n",
      "-rw-r--r-- 1 olga czb 196M Aug 28 09:51 homo_sapiens_9606_qfo_dna_01__molecule-protein_ksize-16__diamond__UP000005640_9606_db.tsv\n",
      "-rw-r--r-- 1 olga czb 196M Aug 28 09:50 homo_sapiens_9606_qfo_dna_01__molecule-protein_ksize-17__diamond__UP000005640_9606_db.tsv\n",
      "-rw-r--r-- 1 olga czb 196M Aug 28 09:51 homo_sapiens_9606_qfo_dna_01__molecule-protein_ksize-18__diamond__UP000005640_9606_db.tsv\n",
      "-rw-r--r-- 1 olga czb 196M Aug 28 09:52 homo_sapiens_9606_qfo_dna_01__molecule-protein_ksize-19__diamond__UP000005640_9606_db.tsv\n",
      "-rw-r--r-- 1 olga czb 196M Aug 28 09:45 homo_sapiens_9606_qfo_dna_01__molecule-protein_ksize-20__diamond__UP000005640_9606_db.tsv\n",
      "-rw-r--r-- 1 olga czb 196M Aug 28 09:45 homo_sapiens_9606_qfo_dna_01__molecule-protein_ksize-21__diamond__UP000005640_9606_db.tsv\n",
      "-rw-r--r-- 1 olga czb 202M Aug 28 09:54 homo_sapiens_9606_qfo_dna_01__molecule-protein_ksize-9__diamond__UP000005640_9606_db.tsv\n"
     ]
    }
   ],
   "source": [
    "blastp_dir = '/mnt/ibm_sm/home/olga/pipeline-results/human-simulated/nf-predictorthologs--run/blastp'\n",
    "! ls -lha $blastp_dir"
   ]
  },
  {
   "cell_type": "code",
   "execution_count": 179,
   "metadata": {},
   "outputs": [
    {
     "name": "stderr",
     "output_type": "stream",
     "text": [
      "100%|██████████| 46/46 [06:33<00:00,  8.56s/it]\n"
     ]
    },
    {
     "name": "stdout",
     "output_type": "stream",
     "text": [
      "(42185045, 13)\n",
      "CPU times: user 4min 55s, sys: 3min 42s, total: 8min 37s\n",
      "Wall time: 8min 47s\n"
     ]
    }
   ],
   "source": [
    "%%time\n",
    "\n",
    "DIAMOND_BLASTP_COLUMNS = ['read_id', 'subject_id', 'percent_identity', 'e_value', 'bitscore', \n",
    "           'subject_title', 'subject_taxid', 'subject_species', 'subject_kingdom', \n",
    "           'subject_superkingdom',\n",
    "           'subject_phylum']\n",
    "\n",
    "DIAMOND_PATTERN = '\\d+.\\d(.+)\\[[\\w ]+\\]'\n",
    "\n",
    "def read_diamond_blastp_output(filename):\n",
    "    df = pd.read_csv(filename, sep='\\t', names=DIAMOND_BLASTP_COLUMNS)\n",
    "    basename = os.path.basename(filename)\n",
    "    sketch_id = basename.split('__')[1]\n",
    "    split = sketch_id.split('_')\n",
    "    alphabet = split[0].split('-')[1]\n",
    "    ksize = int(split[1].split('-')[1])\n",
    "    df['alphabet'] = alphabet\n",
    "    df['ksize'] = ksize\n",
    "    df['read_uniprot_id'] = df['read_id'].str.extract('read\\d+\\/(?P<read_uniprot_id>[\\w|]+);')\n",
    "    df['read_uniprot_id_minimal'] = df['read_uniprot_id'].map(lambda x: '|'.join(x.split('|')[:2]) if isinstance(x, str) else x)\n",
    "\n",
    "    df['subject_id_minimal'] = df['subject_id'].map(lambda x: '|'.join(x.split('|')[:2]))\n",
    "    df['read_subject_uniprot_match'] = df['read_uniprot_id_minimal'] == blastp_results['subject_id_minimal']\n",
    "\n",
    "#     df['refseq_id'] = df['subject_id']\n",
    "#     df['description_with_predicted'] = df.subject_title.str.extract(DIAMOND_PATTERN)\n",
    "#     df['is_predicted'] = df.subject_title.str.contains('PREDICTED')\n",
    "#     df['description'] = df['description_with_predicted'].str.split('PREDICTED: ').str[-1]\n",
    "    return df \n",
    "    \n",
    "dfs = []\n",
    "for filename in tqdm(glob.glob(f'{blastp_dir}/*')):\n",
    "    df = read_diamond_blastp_output(filename)\n",
    "    dfs.append(df)\n",
    "blastp_results = pd.concat(dfs, ignore_index=True)\n",
    "print(blastp_results.shape)\n",
    "blastp_results.head()"
   ]
  },
  {
   "cell_type": "markdown",
   "metadata": {},
   "source": [
    "## Read test/train data\n",
    "\n",
    "Build bloom filter on isoforms of proteins, but translate the actual proteins"
   ]
  },
  {
   "cell_type": "code",
   "execution_count": 207,
   "metadata": {},
   "outputs": [
    {
     "name": "stdout",
     "output_type": "stream",
     "text": [
      "total 3.0K\n",
      "drwxr-xr-x 6 olga czb 4.0K Sep 14 14:49 \u001b[0m\u001b[01;34m.\u001b[0m/\n",
      "drwxr-xr-x 4 olga czb 4.0K Aug 27 09:02 \u001b[01;34m..\u001b[0m/\n",
      "drwxr-xr-x 8 olga czb 4.0K Sep 14 10:14 \u001b[01;34mnf-predictorthologs--additional-isoforms\u001b[0m/\n",
      "drwxr-xr-x 3 olga czb 4.0K Sep 14 14:49 \u001b[01;34mnf-predictorthologs--rnaseq\u001b[0m/\n",
      "drwxr-xr-x 9 olga czb 4.0K Aug 30 21:46 \u001b[01;34mnf-predictorthologs--run\u001b[0m/\n",
      "drwxr-xr-x 9 olga czb 4.0K Sep 14 14:30 \u001b[01;34mnf-predictorthologs--run--search-additional\u001b[0m/\n"
     ]
    }
   ],
   "source": [
    "ls -lha /mnt/ibm_sm/home/olga/pipeline-results/human-simulated"
   ]
  },
  {
   "cell_type": "code",
   "execution_count": 210,
   "metadata": {},
   "outputs": [
    {
     "name": "stderr",
     "output_type": "stream",
     "text": [
      "100%|██████████| 26/26 [01:13<00:00,  2.81s/it]\n"
     ]
    },
    {
     "name": "stdout",
     "output_type": "stream",
     "text": [
      "(27799014, 13)\n"
     ]
    },
    {
     "data": {
      "text/html": [
       "<div>\n",
       "<style scoped>\n",
       "    .dataframe tbody tr th:only-of-type {\n",
       "        vertical-align: middle;\n",
       "    }\n",
       "\n",
       "    .dataframe tbody tr th {\n",
       "        vertical-align: top;\n",
       "    }\n",
       "\n",
       "    .dataframe thead th {\n",
       "        text-align: right;\n",
       "    }\n",
       "</style>\n",
       "<table border=\"1\" class=\"dataframe\">\n",
       "  <thead>\n",
       "    <tr style=\"text-align: right;\">\n",
       "      <th></th>\n",
       "      <th>read_id</th>\n",
       "      <th>subject_id</th>\n",
       "      <th>percent_identity</th>\n",
       "      <th>e_value</th>\n",
       "      <th>bitscore</th>\n",
       "      <th>subject_title</th>\n",
       "      <th>subject_taxid</th>\n",
       "      <th>subject_species</th>\n",
       "      <th>subject_kingdom</th>\n",
       "      <th>subject_superkingdom</th>\n",
       "      <th>subject_phylum</th>\n",
       "      <th>alphabet</th>\n",
       "      <th>ksize</th>\n",
       "    </tr>\n",
       "  </thead>\n",
       "  <tbody>\n",
       "    <tr>\n",
       "      <th>0</th>\n",
       "      <td>read51/sp|A0A024RBG1|ENSP00000492425;mate1:130...</td>\n",
       "      <td>sp|A0A024RBG1|NUD4B_HUMAN</td>\n",
       "      <td>100.0</td>\n",
       "      <td>4.900000e-24</td>\n",
       "      <td>108.2</td>\n",
       "      <td>sp|A0A024RBG1|NUD4B_HUMAN Diphosphoinositol po...</td>\n",
       "      <td>9606.0</td>\n",
       "      <td>Homo sapiens</td>\n",
       "      <td>Eukaryota</td>\n",
       "      <td>Chordata</td>\n",
       "      <td>NaN</td>\n",
       "      <td>protein</td>\n",
       "      <td>12</td>\n",
       "    </tr>\n",
       "    <tr>\n",
       "      <th>1</th>\n",
       "      <td>read51/sp|A0A024RBG1|ENSP00000492425;mate1:130...</td>\n",
       "      <td>sp|Q9NZJ9|NUDT4_HUMAN</td>\n",
       "      <td>100.0</td>\n",
       "      <td>4.900000e-24</td>\n",
       "      <td>108.2</td>\n",
       "      <td>sp|Q9NZJ9|NUDT4_HUMAN Diphosphoinositol polyph...</td>\n",
       "      <td>9606.0</td>\n",
       "      <td>Homo sapiens</td>\n",
       "      <td>Eukaryota</td>\n",
       "      <td>Chordata</td>\n",
       "      <td>NaN</td>\n",
       "      <td>protein</td>\n",
       "      <td>12</td>\n",
       "    </tr>\n",
       "    <tr>\n",
       "      <th>2</th>\n",
       "      <td>read51/sp|A0A024RBG1|ENSP00000492425;mate1:130...</td>\n",
       "      <td>tr|A0A0C4DGJ4|A0A0C4DGJ4_HUMAN</td>\n",
       "      <td>100.0</td>\n",
       "      <td>4.900000e-24</td>\n",
       "      <td>108.2</td>\n",
       "      <td>tr|A0A0C4DGJ4|A0A0C4DGJ4_HUMAN Isoform of Q9NZ...</td>\n",
       "      <td>NaN</td>\n",
       "      <td>NaN</td>\n",
       "      <td>NaN</td>\n",
       "      <td>NaN</td>\n",
       "      <td>NaN</td>\n",
       "      <td>protein</td>\n",
       "      <td>12</td>\n",
       "    </tr>\n",
       "    <tr>\n",
       "      <th>3</th>\n",
       "      <td>read52/sp|A0A024RBG1|ENSP00000492425;mate1:125...</td>\n",
       "      <td>sp|A0A024RBG1|NUD4B_HUMAN</td>\n",
       "      <td>100.0</td>\n",
       "      <td>2.100000e-22</td>\n",
       "      <td>102.8</td>\n",
       "      <td>sp|A0A024RBG1|NUD4B_HUMAN Diphosphoinositol po...</td>\n",
       "      <td>9606.0</td>\n",
       "      <td>Homo sapiens</td>\n",
       "      <td>Eukaryota</td>\n",
       "      <td>Chordata</td>\n",
       "      <td>NaN</td>\n",
       "      <td>protein</td>\n",
       "      <td>12</td>\n",
       "    </tr>\n",
       "    <tr>\n",
       "      <th>4</th>\n",
       "      <td>read52/sp|A0A024RBG1|ENSP00000492425;mate1:125...</td>\n",
       "      <td>sp|Q9NZJ9-2|NUDT4-2_HUMAN</td>\n",
       "      <td>100.0</td>\n",
       "      <td>2.100000e-22</td>\n",
       "      <td>102.8</td>\n",
       "      <td>sp|Q9NZJ9-2|NUDT4-2_HUMAN Isoform of Q9NZJ9, I...</td>\n",
       "      <td>9606.0</td>\n",
       "      <td>Homo sapiens</td>\n",
       "      <td>Eukaryota</td>\n",
       "      <td>Chordata</td>\n",
       "      <td>NaN</td>\n",
       "      <td>protein</td>\n",
       "      <td>12</td>\n",
       "    </tr>\n",
       "  </tbody>\n",
       "</table>\n",
       "</div>"
      ],
      "text/plain": [
       "                                             read_id  \\\n",
       "0  read51/sp|A0A024RBG1|ENSP00000492425;mate1:130...   \n",
       "1  read51/sp|A0A024RBG1|ENSP00000492425;mate1:130...   \n",
       "2  read51/sp|A0A024RBG1|ENSP00000492425;mate1:130...   \n",
       "3  read52/sp|A0A024RBG1|ENSP00000492425;mate1:125...   \n",
       "4  read52/sp|A0A024RBG1|ENSP00000492425;mate1:125...   \n",
       "\n",
       "                       subject_id  percent_identity       e_value  bitscore  \\\n",
       "0       sp|A0A024RBG1|NUD4B_HUMAN             100.0  4.900000e-24     108.2   \n",
       "1           sp|Q9NZJ9|NUDT4_HUMAN             100.0  4.900000e-24     108.2   \n",
       "2  tr|A0A0C4DGJ4|A0A0C4DGJ4_HUMAN             100.0  4.900000e-24     108.2   \n",
       "3       sp|A0A024RBG1|NUD4B_HUMAN             100.0  2.100000e-22     102.8   \n",
       "4       sp|Q9NZJ9-2|NUDT4-2_HUMAN             100.0  2.100000e-22     102.8   \n",
       "\n",
       "                                       subject_title  subject_taxid  \\\n",
       "0  sp|A0A024RBG1|NUD4B_HUMAN Diphosphoinositol po...         9606.0   \n",
       "1  sp|Q9NZJ9|NUDT4_HUMAN Diphosphoinositol polyph...         9606.0   \n",
       "2  tr|A0A0C4DGJ4|A0A0C4DGJ4_HUMAN Isoform of Q9NZ...            NaN   \n",
       "3  sp|A0A024RBG1|NUD4B_HUMAN Diphosphoinositol po...         9606.0   \n",
       "4  sp|Q9NZJ9-2|NUDT4-2_HUMAN Isoform of Q9NZJ9, I...         9606.0   \n",
       "\n",
       "  subject_species subject_kingdom subject_superkingdom  subject_phylum  \\\n",
       "0    Homo sapiens       Eukaryota             Chordata             NaN   \n",
       "1    Homo sapiens       Eukaryota             Chordata             NaN   \n",
       "2             NaN             NaN                  NaN             NaN   \n",
       "3    Homo sapiens       Eukaryota             Chordata             NaN   \n",
       "4    Homo sapiens       Eukaryota             Chordata             NaN   \n",
       "\n",
       "  alphabet  ksize  \n",
       "0  protein     12  \n",
       "1  protein     12  \n",
       "2  protein     12  \n",
       "3  protein     12  \n",
       "4  protein     12  "
      ]
     },
     "execution_count": 210,
     "metadata": {},
     "output_type": "execute_result"
    }
   ],
   "source": [
    "dfs = []\n",
    "for filename in tqdm(glob.glob(f'/mnt/ibm_sm/home/olga/pipeline-results/human-simulated/nf-predictorthologs--additional-isoforms/blastp/*')):\n",
    "    df = read_diamond_blastp_output(filename)\n",
    "    dfs.append(df)\n",
    "blastp_isoform_results = pd.concat(dfs, ignore_index=True)\n",
    "print(blastp_isoform_results.shape)\n",
    "blastp_isoform_results.head()"
   ]
  },
  {
   "cell_type": "markdown",
   "metadata": {},
   "source": [
    "## Extract uniprot id from read\n",
    "\n",
    "Regex: https://regex101.com/r/3scVin/1"
   ]
  },
  {
   "cell_type": "code",
   "execution_count": 180,
   "metadata": {},
   "outputs": [
    {
     "name": "stdout",
     "output_type": "stream",
     "text": [
      "(42185045, 15)\n",
      "CPU times: user 5min 13s, sys: 43 s, total: 5min 56s\n",
      "Wall time: 5min 56s\n"
     ]
    }
   ],
   "source": [
    "%%time\n",
    "blastp_results['read_uniprot_id'] = blastp_results['read_id'].str.extract('read\\d+\\/(?P<read_uniprot_id>[\\w|]+);')\n",
    "blastp_results['read_uniprot_id_minimal'] = blastp_results['read_uniprot_id'].map(lambda x: '|'.join(x.split('|')[:2]) if isinstance(x, str) else x)\n",
    "print(blastp_results.shape)\n",
    "blastp_results.head()"
   ]
  },
  {
   "cell_type": "code",
   "execution_count": 181,
   "metadata": {},
   "outputs": [
    {
     "data": {
      "text/html": [
       "<div>\n",
       "<style scoped>\n",
       "    .dataframe tbody tr th:only-of-type {\n",
       "        vertical-align: middle;\n",
       "    }\n",
       "\n",
       "    .dataframe tbody tr th {\n",
       "        vertical-align: top;\n",
       "    }\n",
       "\n",
       "    .dataframe thead th {\n",
       "        text-align: right;\n",
       "    }\n",
       "</style>\n",
       "<table border=\"1\" class=\"dataframe\">\n",
       "  <thead>\n",
       "    <tr style=\"text-align: right;\">\n",
       "      <th></th>\n",
       "      <th>read_id</th>\n",
       "      <th>subject_id</th>\n",
       "      <th>percent_identity</th>\n",
       "      <th>e_value</th>\n",
       "      <th>bitscore</th>\n",
       "      <th>subject_title</th>\n",
       "      <th>subject_taxid</th>\n",
       "      <th>subject_species</th>\n",
       "      <th>subject_kingdom</th>\n",
       "      <th>subject_superkingdom</th>\n",
       "      <th>subject_phylum</th>\n",
       "      <th>alphabet</th>\n",
       "      <th>ksize</th>\n",
       "      <th>read_uniprot_id</th>\n",
       "      <th>read_uniprot_id_minimal</th>\n",
       "    </tr>\n",
       "  </thead>\n",
       "  <tbody>\n",
       "    <tr>\n",
       "      <th>37076449</th>\n",
       "      <td>read639926/sp|Q8N7L0|ENSP00000445786;mate1:85-...</td>\n",
       "      <td>sp|Q8N7L0|F216B_HUMAN</td>\n",
       "      <td>100.0</td>\n",
       "      <td>8.300000e-23</td>\n",
       "      <td>102.4</td>\n",
       "      <td>sp|Q8N7L0|F216B_HUMAN Protein FAM216B OS=Homo ...</td>\n",
       "      <td>9606.0</td>\n",
       "      <td>Homo sapiens</td>\n",
       "      <td>Eukaryota</td>\n",
       "      <td>Chordata</td>\n",
       "      <td>NaN</td>\n",
       "      <td>dayhoff</td>\n",
       "      <td>12</td>\n",
       "      <td>sp|Q8N7L0|ENSP00000445786</td>\n",
       "      <td>sp|Q8N7L0</td>\n",
       "    </tr>\n",
       "    <tr>\n",
       "      <th>11450739</th>\n",
       "      <td>read981887/sp|Q9Y226|ENSP00000310241;mate1:144...</td>\n",
       "      <td>sp|Q9Y226|S22AD_HUMAN</td>\n",
       "      <td>100.0</td>\n",
       "      <td>2.300000e-25</td>\n",
       "      <td>110.9</td>\n",
       "      <td>sp|Q9Y226|S22AD_HUMAN Solute carrier family 22...</td>\n",
       "      <td>9606.0</td>\n",
       "      <td>Homo sapiens</td>\n",
       "      <td>Eukaryota</td>\n",
       "      <td>Chordata</td>\n",
       "      <td>NaN</td>\n",
       "      <td>protein</td>\n",
       "      <td>22</td>\n",
       "      <td>sp|Q9Y226|ENSP00000310241</td>\n",
       "      <td>sp|Q9Y226</td>\n",
       "    </tr>\n",
       "    <tr>\n",
       "      <th>31487988</th>\n",
       "      <td>read676372/sp|Q8NH00|ENSP00000484014;mate1:779...</td>\n",
       "      <td>sp|Q6IEZ7|OR2T5_HUMAN</td>\n",
       "      <td>98.0</td>\n",
       "      <td>1.500000e-21</td>\n",
       "      <td>98.2</td>\n",
       "      <td>sp|Q6IEZ7|OR2T5_HUMAN Olfactory receptor 2T5 O...</td>\n",
       "      <td>9606.0</td>\n",
       "      <td>Homo sapiens</td>\n",
       "      <td>Eukaryota</td>\n",
       "      <td>Chordata</td>\n",
       "      <td>NaN</td>\n",
       "      <td>protein</td>\n",
       "      <td>26</td>\n",
       "      <td>sp|Q8NH00|ENSP00000484014</td>\n",
       "      <td>sp|Q8NH00</td>\n",
       "    </tr>\n",
       "    <tr>\n",
       "      <th>37987822</th>\n",
       "      <td>read567343/sp|Q7Z401|ENSP00000396830;mate1:354...</td>\n",
       "      <td>sp|Q7Z401|MYCPP_HUMAN</td>\n",
       "      <td>97.6</td>\n",
       "      <td>1.500000e-16</td>\n",
       "      <td>81.6</td>\n",
       "      <td>sp|Q7Z401|MYCPP_HUMAN C-myc promoter-binding p...</td>\n",
       "      <td>9606.0</td>\n",
       "      <td>Homo sapiens</td>\n",
       "      <td>Eukaryota</td>\n",
       "      <td>Chordata</td>\n",
       "      <td>NaN</td>\n",
       "      <td>dayhoff</td>\n",
       "      <td>22</td>\n",
       "      <td>sp|Q7Z401|ENSP00000396830</td>\n",
       "      <td>sp|Q7Z401</td>\n",
       "    </tr>\n",
       "    <tr>\n",
       "      <th>25216478</th>\n",
       "      <td>read1013881/sp|Q9Y6X2|ENSP00000376765;mate1:74...</td>\n",
       "      <td>sp|O75928|PIAS2_HUMAN</td>\n",
       "      <td>85.7</td>\n",
       "      <td>4.600000e-18</td>\n",
       "      <td>86.7</td>\n",
       "      <td>sp|O75928|PIAS2_HUMAN E3 SUMO-protein ligase P...</td>\n",
       "      <td>9606.0</td>\n",
       "      <td>Homo sapiens</td>\n",
       "      <td>Eukaryota</td>\n",
       "      <td>Chordata</td>\n",
       "      <td>NaN</td>\n",
       "      <td>protein</td>\n",
       "      <td>25</td>\n",
       "      <td>sp|Q9Y6X2|ENSP00000376765</td>\n",
       "      <td>sp|Q9Y6X2</td>\n",
       "    </tr>\n",
       "    <tr>\n",
       "      <th>27383680</th>\n",
       "      <td>read220807/sp|P14652|ENSP00000331741;mate1:267...</td>\n",
       "      <td>sp|O43364|HXA2_HUMAN</td>\n",
       "      <td>97.9</td>\n",
       "      <td>4.400000e-21</td>\n",
       "      <td>96.7</td>\n",
       "      <td>sp|O43364|HXA2_HUMAN Homeobox protein Hox-A2 O...</td>\n",
       "      <td>9606.0</td>\n",
       "      <td>Homo sapiens</td>\n",
       "      <td>Eukaryota</td>\n",
       "      <td>Chordata</td>\n",
       "      <td>NaN</td>\n",
       "      <td>dayhoff</td>\n",
       "      <td>24</td>\n",
       "      <td>sp|P14652|ENSP00000331741</td>\n",
       "      <td>sp|P14652</td>\n",
       "    </tr>\n",
       "    <tr>\n",
       "      <th>16430061</th>\n",
       "      <td>read356414/sp|Q00532|ENSP00000379176;mate1:820...</td>\n",
       "      <td>sp|Q00532|CDKL1_HUMAN</td>\n",
       "      <td>100.0</td>\n",
       "      <td>9.800000e-24</td>\n",
       "      <td>105.5</td>\n",
       "      <td>sp|Q00532|CDKL1_HUMAN Cyclin-dependent kinase-...</td>\n",
       "      <td>9606.0</td>\n",
       "      <td>Homo sapiens</td>\n",
       "      <td>Eukaryota</td>\n",
       "      <td>Chordata</td>\n",
       "      <td>NaN</td>\n",
       "      <td>protein</td>\n",
       "      <td>13</td>\n",
       "      <td>sp|Q00532|ENSP00000379176</td>\n",
       "      <td>sp|Q00532</td>\n",
       "    </tr>\n",
       "    <tr>\n",
       "      <th>39276225</th>\n",
       "      <td>read886099/sp|Q9HCM3|ENSP00000416040;mate1:324...</td>\n",
       "      <td>sp|Q9HCM3|K1549_HUMAN</td>\n",
       "      <td>100.0</td>\n",
       "      <td>1.500000e-21</td>\n",
       "      <td>98.2</td>\n",
       "      <td>sp|Q9HCM3|K1549_HUMAN UPF0606 protein KIAA1549...</td>\n",
       "      <td>9606.0</td>\n",
       "      <td>Homo sapiens</td>\n",
       "      <td>Eukaryota</td>\n",
       "      <td>Chordata</td>\n",
       "      <td>NaN</td>\n",
       "      <td>dayhoff</td>\n",
       "      <td>11</td>\n",
       "      <td>sp|Q9HCM3|ENSP00000416040</td>\n",
       "      <td>sp|Q9HCM3</td>\n",
       "    </tr>\n",
       "    <tr>\n",
       "      <th>8892891</th>\n",
       "      <td>read76918/sp|O00591|ENSP00000430100;mate1:387-...</td>\n",
       "      <td>sp|O14764|GBRD_HUMAN</td>\n",
       "      <td>64.6</td>\n",
       "      <td>9.900000e-13</td>\n",
       "      <td>68.9</td>\n",
       "      <td>sp|O14764|GBRD_HUMAN Gamma-aminobutyric acid r...</td>\n",
       "      <td>9606.0</td>\n",
       "      <td>Homo sapiens</td>\n",
       "      <td>Eukaryota</td>\n",
       "      <td>Chordata</td>\n",
       "      <td>NaN</td>\n",
       "      <td>dayhoff</td>\n",
       "      <td>25</td>\n",
       "      <td>sp|O00591|ENSP00000430100</td>\n",
       "      <td>sp|O00591</td>\n",
       "    </tr>\n",
       "    <tr>\n",
       "      <th>37849919</th>\n",
       "      <td>read407526/sp|Q14596|ENSP00000467816;mate1:960...</td>\n",
       "      <td>sp|Q14596|NBR1_HUMAN</td>\n",
       "      <td>100.0</td>\n",
       "      <td>3.300000e-24</td>\n",
       "      <td>107.1</td>\n",
       "      <td>sp|Q14596|NBR1_HUMAN Next to BRCA1 gene 1 prot...</td>\n",
       "      <td>9606.0</td>\n",
       "      <td>Homo sapiens</td>\n",
       "      <td>Eukaryota</td>\n",
       "      <td>Chordata</td>\n",
       "      <td>NaN</td>\n",
       "      <td>dayhoff</td>\n",
       "      <td>22</td>\n",
       "      <td>sp|Q14596|ENSP00000467816</td>\n",
       "      <td>sp|Q14596</td>\n",
       "    </tr>\n",
       "  </tbody>\n",
       "</table>\n",
       "</div>"
      ],
      "text/plain": [
       "                                                    read_id  \\\n",
       "37076449  read639926/sp|Q8N7L0|ENSP00000445786;mate1:85-...   \n",
       "11450739  read981887/sp|Q9Y226|ENSP00000310241;mate1:144...   \n",
       "31487988  read676372/sp|Q8NH00|ENSP00000484014;mate1:779...   \n",
       "37987822  read567343/sp|Q7Z401|ENSP00000396830;mate1:354...   \n",
       "25216478  read1013881/sp|Q9Y6X2|ENSP00000376765;mate1:74...   \n",
       "27383680  read220807/sp|P14652|ENSP00000331741;mate1:267...   \n",
       "16430061  read356414/sp|Q00532|ENSP00000379176;mate1:820...   \n",
       "39276225  read886099/sp|Q9HCM3|ENSP00000416040;mate1:324...   \n",
       "8892891   read76918/sp|O00591|ENSP00000430100;mate1:387-...   \n",
       "37849919  read407526/sp|Q14596|ENSP00000467816;mate1:960...   \n",
       "\n",
       "                     subject_id  percent_identity       e_value  bitscore  \\\n",
       "37076449  sp|Q8N7L0|F216B_HUMAN             100.0  8.300000e-23     102.4   \n",
       "11450739  sp|Q9Y226|S22AD_HUMAN             100.0  2.300000e-25     110.9   \n",
       "31487988  sp|Q6IEZ7|OR2T5_HUMAN              98.0  1.500000e-21      98.2   \n",
       "37987822  sp|Q7Z401|MYCPP_HUMAN              97.6  1.500000e-16      81.6   \n",
       "25216478  sp|O75928|PIAS2_HUMAN              85.7  4.600000e-18      86.7   \n",
       "27383680   sp|O43364|HXA2_HUMAN              97.9  4.400000e-21      96.7   \n",
       "16430061  sp|Q00532|CDKL1_HUMAN             100.0  9.800000e-24     105.5   \n",
       "39276225  sp|Q9HCM3|K1549_HUMAN             100.0  1.500000e-21      98.2   \n",
       "8892891    sp|O14764|GBRD_HUMAN              64.6  9.900000e-13      68.9   \n",
       "37849919   sp|Q14596|NBR1_HUMAN             100.0  3.300000e-24     107.1   \n",
       "\n",
       "                                              subject_title  subject_taxid  \\\n",
       "37076449  sp|Q8N7L0|F216B_HUMAN Protein FAM216B OS=Homo ...         9606.0   \n",
       "11450739  sp|Q9Y226|S22AD_HUMAN Solute carrier family 22...         9606.0   \n",
       "31487988  sp|Q6IEZ7|OR2T5_HUMAN Olfactory receptor 2T5 O...         9606.0   \n",
       "37987822  sp|Q7Z401|MYCPP_HUMAN C-myc promoter-binding p...         9606.0   \n",
       "25216478  sp|O75928|PIAS2_HUMAN E3 SUMO-protein ligase P...         9606.0   \n",
       "27383680  sp|O43364|HXA2_HUMAN Homeobox protein Hox-A2 O...         9606.0   \n",
       "16430061  sp|Q00532|CDKL1_HUMAN Cyclin-dependent kinase-...         9606.0   \n",
       "39276225  sp|Q9HCM3|K1549_HUMAN UPF0606 protein KIAA1549...         9606.0   \n",
       "8892891   sp|O14764|GBRD_HUMAN Gamma-aminobutyric acid r...         9606.0   \n",
       "37849919  sp|Q14596|NBR1_HUMAN Next to BRCA1 gene 1 prot...         9606.0   \n",
       "\n",
       "         subject_species subject_kingdom subject_superkingdom  subject_phylum  \\\n",
       "37076449    Homo sapiens       Eukaryota             Chordata             NaN   \n",
       "11450739    Homo sapiens       Eukaryota             Chordata             NaN   \n",
       "31487988    Homo sapiens       Eukaryota             Chordata             NaN   \n",
       "37987822    Homo sapiens       Eukaryota             Chordata             NaN   \n",
       "25216478    Homo sapiens       Eukaryota             Chordata             NaN   \n",
       "27383680    Homo sapiens       Eukaryota             Chordata             NaN   \n",
       "16430061    Homo sapiens       Eukaryota             Chordata             NaN   \n",
       "39276225    Homo sapiens       Eukaryota             Chordata             NaN   \n",
       "8892891     Homo sapiens       Eukaryota             Chordata             NaN   \n",
       "37849919    Homo sapiens       Eukaryota             Chordata             NaN   \n",
       "\n",
       "         alphabet  ksize            read_uniprot_id read_uniprot_id_minimal  \n",
       "37076449  dayhoff     12  sp|Q8N7L0|ENSP00000445786               sp|Q8N7L0  \n",
       "11450739  protein     22  sp|Q9Y226|ENSP00000310241               sp|Q9Y226  \n",
       "31487988  protein     26  sp|Q8NH00|ENSP00000484014               sp|Q8NH00  \n",
       "37987822  dayhoff     22  sp|Q7Z401|ENSP00000396830               sp|Q7Z401  \n",
       "25216478  protein     25  sp|Q9Y6X2|ENSP00000376765               sp|Q9Y6X2  \n",
       "27383680  dayhoff     24  sp|P14652|ENSP00000331741               sp|P14652  \n",
       "16430061  protein     13  sp|Q00532|ENSP00000379176               sp|Q00532  \n",
       "39276225  dayhoff     11  sp|Q9HCM3|ENSP00000416040               sp|Q9HCM3  \n",
       "8892891   dayhoff     25  sp|O00591|ENSP00000430100               sp|O00591  \n",
       "37849919  dayhoff     22  sp|Q14596|ENSP00000467816               sp|Q14596  "
      ]
     },
     "execution_count": 181,
     "metadata": {},
     "output_type": "execute_result"
    }
   ],
   "source": [
    "blastp_results.sample(10)"
   ]
  },
  {
   "cell_type": "code",
   "execution_count": 182,
   "metadata": {},
   "outputs": [
    {
     "name": "stdout",
     "output_type": "stream",
     "text": [
      "(42185045, 16)\n",
      "CPU times: user 46.4 s, sys: 4.51 s, total: 50.9 s\n",
      "Wall time: 51 s\n"
     ]
    }
   ],
   "source": [
    "%%time\n",
    "blastp_results['subject_id_minimal'] = blastp_results['subject_id'].map(lambda x: '|'.join(x.split('|')[:2]))\n",
    "print(blastp_results.shape)\n",
    "blastp_results.head()"
   ]
  },
  {
   "cell_type": "code",
   "execution_count": 183,
   "metadata": {},
   "outputs": [
    {
     "data": {
      "text/plain": [
       "<matplotlib.axes._subplots.AxesSubplot at 0x7f6a0aef8eb8>"
      ]
     },
     "execution_count": 183,
     "metadata": {},
     "output_type": "execute_result"
    },
    {
     "data": {
      "image/png": "[encoded data removed]",
      "text/plain": [
       "<Figure size 432x288 with 1 Axes>"
      ]
     },
     "metadata": {
      "needs_background": "light"
     },
     "output_type": "display_data"
    }
   ],
   "source": [
    "sns.distplot(blastp_results['percent_identity'])"
   ]
  },
  {
   "cell_type": "code",
   "execution_count": 184,
   "metadata": {},
   "outputs": [
    {
     "data": {
      "text/plain": [
       "count    4.218504e+07\n",
       "mean     8.975080e+01\n",
       "std      1.593857e+01\n",
       "min      2.810000e+01\n",
       "25%      8.130000e+01\n",
       "50%      1.000000e+02\n",
       "75%      1.000000e+02\n",
       "max      1.000000e+02\n",
       "Name: percent_identity, dtype: float64"
      ]
     },
     "execution_count": 184,
     "metadata": {},
     "output_type": "execute_result"
    }
   ],
   "source": [
    "blastp_results['percent_identity'].describe()"
   ]
  },
  {
   "cell_type": "code",
   "execution_count": 185,
   "metadata": {},
   "outputs": [
    {
     "name": "stdout",
     "output_type": "stream",
     "text": [
      "CPU times: user 13.3 s, sys: 1.62 s, total: 14.9 s\n",
      "Wall time: 14.7 s\n"
     ]
    }
   ],
   "source": [
    "%%time\n",
    "blastp_results['read_subject_uniprot_match'] = blastp_results['read_uniprot_id_minimal'] == blastp_results['subject_id_minimal']\n",
    "blastp_results.head()"
   ]
  },
  {
   "cell_type": "code",
   "execution_count": 186,
   "metadata": {},
   "outputs": [
    {
     "data": {
      "text/html": [
       "<div>\n",
       "<style scoped>\n",
       "    .dataframe tbody tr th:only-of-type {\n",
       "        vertical-align: middle;\n",
       "    }\n",
       "\n",
       "    .dataframe tbody tr th {\n",
       "        vertical-align: top;\n",
       "    }\n",
       "\n",
       "    .dataframe thead th {\n",
       "        text-align: right;\n",
       "    }\n",
       "</style>\n",
       "<table border=\"1\" class=\"dataframe\">\n",
       "  <thead>\n",
       "    <tr style=\"text-align: right;\">\n",
       "      <th></th>\n",
       "      <th>read_id</th>\n",
       "      <th>subject_id</th>\n",
       "      <th>percent_identity</th>\n",
       "      <th>e_value</th>\n",
       "      <th>bitscore</th>\n",
       "      <th>subject_title</th>\n",
       "      <th>subject_taxid</th>\n",
       "      <th>subject_species</th>\n",
       "      <th>subject_kingdom</th>\n",
       "      <th>subject_superkingdom</th>\n",
       "      <th>subject_phylum</th>\n",
       "      <th>alphabet</th>\n",
       "      <th>ksize</th>\n",
       "      <th>read_uniprot_id</th>\n",
       "      <th>read_uniprot_id_minimal</th>\n",
       "      <th>subject_id_minimal</th>\n",
       "      <th>read_subject_uniprot_match</th>\n",
       "    </tr>\n",
       "  </thead>\n",
       "  <tbody>\n",
       "    <tr>\n",
       "      <th>38632387</th>\n",
       "      <td>read220690/sp|P14635|ENSP00000424588;mate1:424...</td>\n",
       "      <td>sp|O95067|CCNB2_HUMAN</td>\n",
       "      <td>64.6</td>\n",
       "      <td>1.300000e-12</td>\n",
       "      <td>68.6</td>\n",
       "      <td>sp|O95067|CCNB2_HUMAN G2/mitotic-specific cycl...</td>\n",
       "      <td>9606.0</td>\n",
       "      <td>Homo sapiens</td>\n",
       "      <td>Eukaryota</td>\n",
       "      <td>Chordata</td>\n",
       "      <td>NaN</td>\n",
       "      <td>dayhoff</td>\n",
       "      <td>11</td>\n",
       "      <td>sp|P14635|ENSP00000424588</td>\n",
       "      <td>sp|P14635</td>\n",
       "      <td>sp|O95067</td>\n",
       "      <td>False</td>\n",
       "    </tr>\n",
       "    <tr>\n",
       "      <th>28195371</th>\n",
       "      <td>read70125/sp|O00155|ENSP00000301917;mate1:360-...</td>\n",
       "      <td>sp|O00155|GPR25_HUMAN</td>\n",
       "      <td>100.0</td>\n",
       "      <td>1.600000e-23</td>\n",
       "      <td>104.8</td>\n",
       "      <td>sp|O00155|GPR25_HUMAN Probable G-protein coupl...</td>\n",
       "      <td>9606.0</td>\n",
       "      <td>Homo sapiens</td>\n",
       "      <td>Eukaryota</td>\n",
       "      <td>Chordata</td>\n",
       "      <td>NaN</td>\n",
       "      <td>dayhoff</td>\n",
       "      <td>21</td>\n",
       "      <td>sp|O00155|ENSP00000301917</td>\n",
       "      <td>sp|O00155</td>\n",
       "      <td>sp|O00155</td>\n",
       "      <td>True</td>\n",
       "    </tr>\n",
       "    <tr>\n",
       "      <th>38196827</th>\n",
       "      <td>read796057/sp|Q99595|ENSP00000356256;mate1:117...</td>\n",
       "      <td>sp|O60830|TI17B_HUMAN</td>\n",
       "      <td>81.6</td>\n",
       "      <td>3.900000e-17</td>\n",
       "      <td>83.6</td>\n",
       "      <td>sp|O60830|TI17B_HUMAN Mitochondrial import inn...</td>\n",
       "      <td>9606.0</td>\n",
       "      <td>Homo sapiens</td>\n",
       "      <td>Eukaryota</td>\n",
       "      <td>Chordata</td>\n",
       "      <td>NaN</td>\n",
       "      <td>dayhoff</td>\n",
       "      <td>22</td>\n",
       "      <td>sp|Q99595|ENSP00000356256</td>\n",
       "      <td>sp|Q99595</td>\n",
       "      <td>sp|O60830</td>\n",
       "      <td>False</td>\n",
       "    </tr>\n",
       "    <tr>\n",
       "      <th>15282228</th>\n",
       "      <td>read52760/sp|A6NNJ1|ENSP00000497259;mate1:941-...</td>\n",
       "      <td>sp|A8MWA6|F90AM_HUMAN</td>\n",
       "      <td>100.0</td>\n",
       "      <td>3.100000e-22</td>\n",
       "      <td>100.5</td>\n",
       "      <td>sp|A8MWA6|F90AM_HUMAN Putative protein FAM90A2...</td>\n",
       "      <td>9606.0</td>\n",
       "      <td>Homo sapiens</td>\n",
       "      <td>Eukaryota</td>\n",
       "      <td>Chordata</td>\n",
       "      <td>NaN</td>\n",
       "      <td>protein</td>\n",
       "      <td>9</td>\n",
       "      <td>sp|A6NNJ1|ENSP00000497259</td>\n",
       "      <td>sp|A6NNJ1</td>\n",
       "      <td>sp|A8MWA6</td>\n",
       "      <td>False</td>\n",
       "    </tr>\n",
       "    <tr>\n",
       "      <th>33475380</th>\n",
       "      <td>read789267/sp|Q96S94|ENSP00000424647;mate1:246...</td>\n",
       "      <td>sp|Q96S94|CCNL2_HUMAN</td>\n",
       "      <td>100.0</td>\n",
       "      <td>2.000000e-21</td>\n",
       "      <td>97.8</td>\n",
       "      <td>sp|Q96S94|CCNL2_HUMAN Cyclin-L2 OS=Homo sapien...</td>\n",
       "      <td>9606.0</td>\n",
       "      <td>Homo sapiens</td>\n",
       "      <td>Eukaryota</td>\n",
       "      <td>Chordata</td>\n",
       "      <td>NaN</td>\n",
       "      <td>dayhoff</td>\n",
       "      <td>28</td>\n",
       "      <td>sp|Q96S94|ENSP00000424647</td>\n",
       "      <td>sp|Q96S94</td>\n",
       "      <td>sp|Q96S94</td>\n",
       "      <td>True</td>\n",
       "    </tr>\n",
       "    <tr>\n",
       "      <th>16383163</th>\n",
       "      <td>read305088/sp|P50148|ENSP00000286548;mate1:754...</td>\n",
       "      <td>sp|P50148|GNAQ_HUMAN</td>\n",
       "      <td>100.0</td>\n",
       "      <td>4.000000e-25</td>\n",
       "      <td>110.2</td>\n",
       "      <td>sp|P50148|GNAQ_HUMAN Guanine nucleotide-bindin...</td>\n",
       "      <td>9606.0</td>\n",
       "      <td>Homo sapiens</td>\n",
       "      <td>Eukaryota</td>\n",
       "      <td>Chordata</td>\n",
       "      <td>NaN</td>\n",
       "      <td>protein</td>\n",
       "      <td>13</td>\n",
       "      <td>sp|P50148|ENSP00000286548</td>\n",
       "      <td>sp|P50148</td>\n",
       "      <td>sp|P50148</td>\n",
       "      <td>True</td>\n",
       "    </tr>\n",
       "    <tr>\n",
       "      <th>29573450</th>\n",
       "      <td>read554932/sp|Q70EL2|ENSP00000424372;mate1:104...</td>\n",
       "      <td>sp|Q70EL2|UBP45_HUMAN</td>\n",
       "      <td>100.0</td>\n",
       "      <td>9.800000e-24</td>\n",
       "      <td>105.5</td>\n",
       "      <td>sp|Q70EL2|UBP45_HUMAN Ubiquitin carboxyl-termi...</td>\n",
       "      <td>9606.0</td>\n",
       "      <td>Homo sapiens</td>\n",
       "      <td>Eukaryota</td>\n",
       "      <td>Chordata</td>\n",
       "      <td>NaN</td>\n",
       "      <td>protein</td>\n",
       "      <td>23</td>\n",
       "      <td>sp|Q70EL2|ENSP00000424372</td>\n",
       "      <td>sp|Q70EL2</td>\n",
       "      <td>sp|Q70EL2</td>\n",
       "      <td>True</td>\n",
       "    </tr>\n",
       "    <tr>\n",
       "      <th>38630444</th>\n",
       "      <td>read218830/sp|P13929|ENSP00000431087;mate1:905...</td>\n",
       "      <td>sp|P13929|ENOB_HUMAN</td>\n",
       "      <td>100.0</td>\n",
       "      <td>3.100000e-22</td>\n",
       "      <td>100.5</td>\n",
       "      <td>sp|P13929|ENOB_HUMAN Beta-enolase OS=Homo sapi...</td>\n",
       "      <td>9606.0</td>\n",
       "      <td>Homo sapiens</td>\n",
       "      <td>Eukaryota</td>\n",
       "      <td>Chordata</td>\n",
       "      <td>NaN</td>\n",
       "      <td>dayhoff</td>\n",
       "      <td>11</td>\n",
       "      <td>sp|P13929|ENSP00000431087</td>\n",
       "      <td>sp|P13929</td>\n",
       "      <td>sp|P13929</td>\n",
       "      <td>True</td>\n",
       "    </tr>\n",
       "    <tr>\n",
       "      <th>1047721</th>\n",
       "      <td>read218248/sp|P13747|ENSP00000409910;mate1:17-...</td>\n",
       "      <td>sp|P13747|HLAE_HUMAN</td>\n",
       "      <td>100.0</td>\n",
       "      <td>2.300000e-25</td>\n",
       "      <td>110.9</td>\n",
       "      <td>sp|P13747|HLAE_HUMAN HLA class I histocompatib...</td>\n",
       "      <td>9606.0</td>\n",
       "      <td>Homo sapiens</td>\n",
       "      <td>Eukaryota</td>\n",
       "      <td>Chordata</td>\n",
       "      <td>NaN</td>\n",
       "      <td>protein</td>\n",
       "      <td>12</td>\n",
       "      <td>sp|P13747|ENSP00000409910</td>\n",
       "      <td>sp|P13747</td>\n",
       "      <td>sp|P13747</td>\n",
       "      <td>True</td>\n",
       "    </tr>\n",
       "    <tr>\n",
       "      <th>30961067</th>\n",
       "      <td>read58244/sp|A8MXQ7|ENSP00000489685;mate1:1120...</td>\n",
       "      <td>sp|A8MXQ7|YH010_HUMAN</td>\n",
       "      <td>67.1</td>\n",
       "      <td>8.400000e-20</td>\n",
       "      <td>92.4</td>\n",
       "      <td>sp|A8MXQ7|YH010_HUMAN Putative IQ motif and an...</td>\n",
       "      <td>9606.0</td>\n",
       "      <td>Homo sapiens</td>\n",
       "      <td>Eukaryota</td>\n",
       "      <td>Chordata</td>\n",
       "      <td>NaN</td>\n",
       "      <td>protein</td>\n",
       "      <td>26</td>\n",
       "      <td>sp|A8MXQ7|ENSP00000489685</td>\n",
       "      <td>sp|A8MXQ7</td>\n",
       "      <td>sp|A8MXQ7</td>\n",
       "      <td>True</td>\n",
       "    </tr>\n",
       "  </tbody>\n",
       "</table>\n",
       "</div>"
      ],
      "text/plain": [
       "                                                    read_id  \\\n",
       "38632387  read220690/sp|P14635|ENSP00000424588;mate1:424...   \n",
       "28195371  read70125/sp|O00155|ENSP00000301917;mate1:360-...   \n",
       "38196827  read796057/sp|Q99595|ENSP00000356256;mate1:117...   \n",
       "15282228  read52760/sp|A6NNJ1|ENSP00000497259;mate1:941-...   \n",
       "33475380  read789267/sp|Q96S94|ENSP00000424647;mate1:246...   \n",
       "16383163  read305088/sp|P50148|ENSP00000286548;mate1:754...   \n",
       "29573450  read554932/sp|Q70EL2|ENSP00000424372;mate1:104...   \n",
       "38630444  read218830/sp|P13929|ENSP00000431087;mate1:905...   \n",
       "1047721   read218248/sp|P13747|ENSP00000409910;mate1:17-...   \n",
       "30961067  read58244/sp|A8MXQ7|ENSP00000489685;mate1:1120...   \n",
       "\n",
       "                     subject_id  percent_identity       e_value  bitscore  \\\n",
       "38632387  sp|O95067|CCNB2_HUMAN              64.6  1.300000e-12      68.6   \n",
       "28195371  sp|O00155|GPR25_HUMAN             100.0  1.600000e-23     104.8   \n",
       "38196827  sp|O60830|TI17B_HUMAN              81.6  3.900000e-17      83.6   \n",
       "15282228  sp|A8MWA6|F90AM_HUMAN             100.0  3.100000e-22     100.5   \n",
       "33475380  sp|Q96S94|CCNL2_HUMAN             100.0  2.000000e-21      97.8   \n",
       "16383163   sp|P50148|GNAQ_HUMAN             100.0  4.000000e-25     110.2   \n",
       "29573450  sp|Q70EL2|UBP45_HUMAN             100.0  9.800000e-24     105.5   \n",
       "38630444   sp|P13929|ENOB_HUMAN             100.0  3.100000e-22     100.5   \n",
       "1047721    sp|P13747|HLAE_HUMAN             100.0  2.300000e-25     110.9   \n",
       "30961067  sp|A8MXQ7|YH010_HUMAN              67.1  8.400000e-20      92.4   \n",
       "\n",
       "                                              subject_title  subject_taxid  \\\n",
       "38632387  sp|O95067|CCNB2_HUMAN G2/mitotic-specific cycl...         9606.0   \n",
       "28195371  sp|O00155|GPR25_HUMAN Probable G-protein coupl...         9606.0   \n",
       "38196827  sp|O60830|TI17B_HUMAN Mitochondrial import inn...         9606.0   \n",
       "15282228  sp|A8MWA6|F90AM_HUMAN Putative protein FAM90A2...         9606.0   \n",
       "33475380  sp|Q96S94|CCNL2_HUMAN Cyclin-L2 OS=Homo sapien...         9606.0   \n",
       "16383163  sp|P50148|GNAQ_HUMAN Guanine nucleotide-bindin...         9606.0   \n",
       "29573450  sp|Q70EL2|UBP45_HUMAN Ubiquitin carboxyl-termi...         9606.0   \n",
       "38630444  sp|P13929|ENOB_HUMAN Beta-enolase OS=Homo sapi...         9606.0   \n",
       "1047721   sp|P13747|HLAE_HUMAN HLA class I histocompatib...         9606.0   \n",
       "30961067  sp|A8MXQ7|YH010_HUMAN Putative IQ motif and an...         9606.0   \n",
       "\n",
       "         subject_species subject_kingdom subject_superkingdom  subject_phylum  \\\n",
       "38632387    Homo sapiens       Eukaryota             Chordata             NaN   \n",
       "28195371    Homo sapiens       Eukaryota             Chordata             NaN   \n",
       "38196827    Homo sapiens       Eukaryota             Chordata             NaN   \n",
       "15282228    Homo sapiens       Eukaryota             Chordata             NaN   \n",
       "33475380    Homo sapiens       Eukaryota             Chordata             NaN   \n",
       "16383163    Homo sapiens       Eukaryota             Chordata             NaN   \n",
       "29573450    Homo sapiens       Eukaryota             Chordata             NaN   \n",
       "38630444    Homo sapiens       Eukaryota             Chordata             NaN   \n",
       "1047721     Homo sapiens       Eukaryota             Chordata             NaN   \n",
       "30961067    Homo sapiens       Eukaryota             Chordata             NaN   \n",
       "\n",
       "         alphabet  ksize            read_uniprot_id read_uniprot_id_minimal  \\\n",
       "38632387  dayhoff     11  sp|P14635|ENSP00000424588               sp|P14635   \n",
       "28195371  dayhoff     21  sp|O00155|ENSP00000301917               sp|O00155   \n",
       "38196827  dayhoff     22  sp|Q99595|ENSP00000356256               sp|Q99595   \n",
       "15282228  protein      9  sp|A6NNJ1|ENSP00000497259               sp|A6NNJ1   \n",
       "33475380  dayhoff     28  sp|Q96S94|ENSP00000424647               sp|Q96S94   \n",
       "16383163  protein     13  sp|P50148|ENSP00000286548               sp|P50148   \n",
       "29573450  protein     23  sp|Q70EL2|ENSP00000424372               sp|Q70EL2   \n",
       "38630444  dayhoff     11  sp|P13929|ENSP00000431087               sp|P13929   \n",
       "1047721   protein     12  sp|P13747|ENSP00000409910               sp|P13747   \n",
       "30961067  protein     26  sp|A8MXQ7|ENSP00000489685               sp|A8MXQ7   \n",
       "\n",
       "         subject_id_minimal  read_subject_uniprot_match  \n",
       "38632387          sp|O95067                       False  \n",
       "28195371          sp|O00155                        True  \n",
       "38196827          sp|O60830                       False  \n",
       "15282228          sp|A8MWA6                       False  \n",
       "33475380          sp|Q96S94                        True  \n",
       "16383163          sp|P50148                        True  \n",
       "29573450          sp|Q70EL2                        True  \n",
       "38630444          sp|P13929                        True  \n",
       "1047721           sp|P13747                        True  \n",
       "30961067          sp|A8MXQ7                        True  "
      ]
     },
     "execution_count": 186,
     "metadata": {},
     "output_type": "execute_result"
    }
   ],
   "source": [
    "blastp_results.sample(10)"
   ]
  },
  {
   "cell_type": "code",
   "execution_count": 187,
   "metadata": {},
   "outputs": [
    {
     "data": {
      "text/plain": [
       "array(['tr|A0A024R1R8', 'sp|Q9Y2S6', 'tr|A0A024R1R8', 'sp|Q9Y2S6',\n",
       "       'tr|A0A024R1R8'], dtype=object)"
      ]
     },
     "execution_count": 187,
     "metadata": {},
     "output_type": "execute_result"
    }
   ],
   "source": [
    "blastp_results['subject_id_minimal'].head().values"
   ]
  },
  {
   "cell_type": "code",
   "execution_count": 188,
   "metadata": {},
   "outputs": [
    {
     "data": {
      "text/plain": [
       "array(['tr|A0A024R1R8|A0A024R1R8_HUMAN', 'sp|Q9Y2S6|TMA7_HUMAN',\n",
       "       'tr|A0A024R1R8|A0A024R1R8_HUMAN', 'sp|Q9Y2S6|TMA7_HUMAN',\n",
       "       'tr|A0A024R1R8|A0A024R1R8_HUMAN'], dtype=object)"
      ]
     },
     "execution_count": 188,
     "metadata": {},
     "output_type": "execute_result"
    }
   ],
   "source": [
    "blastp_results['subject_id'].head().values"
   ]
  },
  {
   "cell_type": "code",
   "execution_count": 195,
   "metadata": {},
   "outputs": [
    {
     "name": "stdout",
     "output_type": "stream",
     "text": [
      "CPU times: user 4.77 s, sys: 1min 32s, total: 1min 37s\n",
      "Wall time: 1min 38s\n"
     ]
    }
   ],
   "source": [
    "%%time\n",
    "blastp_matches = blastp_results.groupby(['alphabet', 'ksize'])['read_subject_uniprot_match'].sum()\n",
    "blastp_matches.head()"
   ]
  },
  {
   "cell_type": "code",
   "execution_count": 196,
   "metadata": {},
   "outputs": [
    {
     "data": {
      "text/plain": [
       "alphabet  ksize\n",
       "dayhoff   9        739060.0\n",
       "          10       657533.0\n",
       "          11       602626.0\n",
       "          12       587366.0\n",
       "          13       583132.0\n",
       "Name: read_subject_uniprot_match, dtype: float64"
      ]
     },
     "execution_count": 196,
     "metadata": {},
     "output_type": "execute_result"
    }
   ],
   "source": [
    "blastp_matches.head()"
   ]
  },
  {
   "cell_type": "code",
   "execution_count": 197,
   "metadata": {},
   "outputs": [
    {
     "name": "stdout",
     "output_type": "stream",
     "text": [
      "(25622052,)\n"
     ]
    },
    {
     "data": {
      "text/plain": [
       "alphabet  ksize  read_id                                                           \n",
       "dayhoff   9      read1/tr|A0A024R1R8|ENSP00000491117;mate1Start:1;mate2Start:1         0.500000\n",
       "                 read10/tr|A0A024R1R8|ENSP00000491117;mate1Start:1;mate2Start:1        0.500000\n",
       "                 read100/sp|A0A024RBG1|ENSP00000492425;mate1:221-370;mate2:280-429     0.333333\n",
       "                 read10000/sp|A0A0B4J1V1|ENSP00000487805;mate1:77-226;mate2:131-280    0.333333\n",
       "                 read100000/sp|O43294|ENSP00000457586;mate1:8-157;mate2:88-237         1.000000\n",
       "Name: read_subject_uniprot_match, dtype: float64"
      ]
     },
     "execution_count": 197,
     "metadata": {},
     "output_type": "execute_result"
    }
   ],
   "source": [
    "blastp_matches_percent_per_read = blastp_results.groupby(['alphabet', 'ksize', 'read_id'])['read_subject_uniprot_match'].apply(lambda x: x.sum()/len(x))\n",
    "print(blastp_matches_percent_per_read.shape)\n",
    "blastp_matches_percent_per_read.head()"
   ]
  },
  {
   "cell_type": "code",
   "execution_count": 199,
   "metadata": {},
   "outputs": [
    {
     "data": {
      "text/plain": [
       "4"
      ]
     },
     "execution_count": 199,
     "metadata": {},
     "output_type": "execute_result"
    }
   ],
   "source": [
    "2+2"
   ]
  },
  {
   "cell_type": "code",
   "execution_count": 204,
   "metadata": {},
   "outputs": [
    {
     "name": "stdout",
     "output_type": "stream",
     "text": [
      "(25622052, 4)\n"
     ]
    },
    {
     "data": {
      "text/html": [
       "<div>\n",
       "<style scoped>\n",
       "    .dataframe tbody tr th:only-of-type {\n",
       "        vertical-align: middle;\n",
       "    }\n",
       "\n",
       "    .dataframe tbody tr th {\n",
       "        vertical-align: top;\n",
       "    }\n",
       "\n",
       "    .dataframe thead th {\n",
       "        text-align: right;\n",
       "    }\n",
       "</style>\n",
       "<table border=\"1\" class=\"dataframe\">\n",
       "  <thead>\n",
       "    <tr style=\"text-align: right;\">\n",
       "      <th></th>\n",
       "      <th>alphabet</th>\n",
       "      <th>ksize</th>\n",
       "      <th>read_id</th>\n",
       "      <th>read_subject_uniprot_match</th>\n",
       "    </tr>\n",
       "  </thead>\n",
       "  <tbody>\n",
       "    <tr>\n",
       "      <th>0</th>\n",
       "      <td>dayhoff</td>\n",
       "      <td>9</td>\n",
       "      <td>read1/tr|A0A024R1R8|ENSP00000491117;mate1Start...</td>\n",
       "      <td>50.000000</td>\n",
       "    </tr>\n",
       "    <tr>\n",
       "      <th>1</th>\n",
       "      <td>dayhoff</td>\n",
       "      <td>9</td>\n",
       "      <td>read10/tr|A0A024R1R8|ENSP00000491117;mate1Star...</td>\n",
       "      <td>50.000000</td>\n",
       "    </tr>\n",
       "    <tr>\n",
       "      <th>2</th>\n",
       "      <td>dayhoff</td>\n",
       "      <td>9</td>\n",
       "      <td>read100/sp|A0A024RBG1|ENSP00000492425;mate1:22...</td>\n",
       "      <td>33.333333</td>\n",
       "    </tr>\n",
       "    <tr>\n",
       "      <th>3</th>\n",
       "      <td>dayhoff</td>\n",
       "      <td>9</td>\n",
       "      <td>read10000/sp|A0A0B4J1V1|ENSP00000487805;mate1:...</td>\n",
       "      <td>33.333333</td>\n",
       "    </tr>\n",
       "    <tr>\n",
       "      <th>4</th>\n",
       "      <td>dayhoff</td>\n",
       "      <td>9</td>\n",
       "      <td>read100000/sp|O43294|ENSP00000457586;mate1:8-1...</td>\n",
       "      <td>100.000000</td>\n",
       "    </tr>\n",
       "  </tbody>\n",
       "</table>\n",
       "</div>"
      ],
      "text/plain": [
       "  alphabet  ksize                                            read_id  \\\n",
       "0  dayhoff      9  read1/tr|A0A024R1R8|ENSP00000491117;mate1Start...   \n",
       "1  dayhoff      9  read10/tr|A0A024R1R8|ENSP00000491117;mate1Star...   \n",
       "2  dayhoff      9  read100/sp|A0A024RBG1|ENSP00000492425;mate1:22...   \n",
       "3  dayhoff      9  read10000/sp|A0A0B4J1V1|ENSP00000487805;mate1:...   \n",
       "4  dayhoff      9  read100000/sp|O43294|ENSP00000457586;mate1:8-1...   \n",
       "\n",
       "   read_subject_uniprot_match  \n",
       "0                   50.000000  \n",
       "1                   50.000000  \n",
       "2                   33.333333  \n",
       "3                   33.333333  \n",
       "4                  100.000000  "
      ]
     },
     "execution_count": 204,
     "metadata": {},
     "output_type": "execute_result"
    }
   ],
   "source": [
    "blastp_matches_percent_per_read_percent = blastp_matches_percent_per_read * 100\n",
    "blastp_matches_percent_per_read_df = blastp_matches_percent_per_read_percent.reset_index()\n",
    "# blastp_matches_percent_per_read_df =\n",
    "print(blastp_matches_percent_per_read_df.shape)\n",
    "blastp_matches_percent_per_read_df.head()"
   ]
  },
  {
   "cell_type": "code",
   "execution_count": 203,
   "metadata": {},
   "outputs": [
    {
     "data": {
      "text/plain": [
       "<seaborn.axisgrid.FacetGrid at 0x7f612256acf8>"
      ]
     },
     "execution_count": 203,
     "metadata": {},
     "output_type": "execute_result"
    },
    {
     "data": {
      "image/png": "[encoded data removed]",
      "text/plain": [
       "<Figure size 434x360 with 1 Axes>"
      ]
     },
     "metadata": {
      "needs_background": "light"
     },
     "output_type": "display_data"
    }
   ],
   "source": [
    "sns.catplot(x='ksize', hue='alphabet', y='read_subject_uniprot_match', \n",
    "            data=blastp_matches_percent_per_read_df, kind='point')"
   ]
  },
  {
   "cell_type": "code",
   "execution_count": 205,
   "metadata": {},
   "outputs": [
    {
     "data": {
      "text/html": [
       "<div>\n",
       "<style scoped>\n",
       "    .dataframe tbody tr th:only-of-type {\n",
       "        vertical-align: middle;\n",
       "    }\n",
       "\n",
       "    .dataframe tbody tr th {\n",
       "        vertical-align: top;\n",
       "    }\n",
       "\n",
       "    .dataframe thead th {\n",
       "        text-align: right;\n",
       "    }\n",
       "</style>\n",
       "<table border=\"1\" class=\"dataframe\">\n",
       "  <thead>\n",
       "    <tr style=\"text-align: right;\">\n",
       "      <th></th>\n",
       "      <th>alphabet</th>\n",
       "      <th>ksize</th>\n",
       "      <th>read_subject_uniprot_match</th>\n",
       "    </tr>\n",
       "  </thead>\n",
       "  <tbody>\n",
       "    <tr>\n",
       "      <th>0</th>\n",
       "      <td>dayhoff</td>\n",
       "      <td>9</td>\n",
       "      <td>739060.0</td>\n",
       "    </tr>\n",
       "    <tr>\n",
       "      <th>1</th>\n",
       "      <td>dayhoff</td>\n",
       "      <td>10</td>\n",
       "      <td>657533.0</td>\n",
       "    </tr>\n",
       "    <tr>\n",
       "      <th>2</th>\n",
       "      <td>dayhoff</td>\n",
       "      <td>11</td>\n",
       "      <td>602626.0</td>\n",
       "    </tr>\n",
       "    <tr>\n",
       "      <th>3</th>\n",
       "      <td>dayhoff</td>\n",
       "      <td>12</td>\n",
       "      <td>587366.0</td>\n",
       "    </tr>\n",
       "    <tr>\n",
       "      <th>4</th>\n",
       "      <td>dayhoff</td>\n",
       "      <td>13</td>\n",
       "      <td>583132.0</td>\n",
       "    </tr>\n",
       "  </tbody>\n",
       "</table>\n",
       "</div>"
      ],
      "text/plain": [
       "  alphabet  ksize  read_subject_uniprot_match\n",
       "0  dayhoff      9                    739060.0\n",
       "1  dayhoff     10                    657533.0\n",
       "2  dayhoff     11                    602626.0\n",
       "3  dayhoff     12                    587366.0\n",
       "4  dayhoff     13                    583132.0"
      ]
     },
     "execution_count": 205,
     "metadata": {},
     "output_type": "execute_result"
    }
   ],
   "source": [
    "blastp_matches_df = blastp_matches.reset_index()\n",
    "blastp_matches_df.head()"
   ]
  },
  {
   "cell_type": "code",
   "execution_count": 206,
   "metadata": {},
   "outputs": [],
   "source": [
    "# sns.catplot(blastp_matches)"
   ]
  },
  {
   "cell_type": "code",
   "execution_count": 191,
   "metadata": {},
   "outputs": [
    {
     "data": {
      "text/plain": [
       "4"
      ]
     },
     "execution_count": 191,
     "metadata": {},
     "output_type": "execute_result"
    }
   ],
   "source": [
    "2+2"
   ]
  },
  {
   "cell_type": "markdown",
   "metadata": {},
   "source": [
    "# Subset to only reads from complete protein sequences -- no fragments"
   ]
  },
  {
   "cell_type": "markdown",
   "metadata": {},
   "source": [
    "## Get good uniprot ids, starting with M and ATG"
   ]
  },
  {
   "cell_type": "code",
   "execution_count": 53,
   "metadata": {},
   "outputs": [
    {
     "name": "stdout",
     "output_type": "stream",
     "text": [
      "uniprot_protein_starts_with_m 20483\n",
      "uniprot_dna_starts_with_atg 20336\n"
     ]
    }
   ],
   "source": [
    "uniprot_protein_starts_with_m = []\n",
    "\n",
    "with screed.open('/home/olga/data_sm/kmer-hashing/quest-for-orthologs/data/2019/Eukaryota/UP000005640_9606.fasta') as records:\n",
    "    for record in records:\n",
    "        if record['sequence'].startswith(\"M\"):\n",
    "            uniprot_protein_starts_with_m.append('|'.join(record['name'].split()[0].split('|')[:2]))\n",
    "print('uniprot_protein_starts_with_m', len(uniprot_protein_starts_with_m))\n",
    "\n",
    "\n",
    "uniprot_dna_starts_with_atg = []\n",
    "with screed.open('/home/olga/data_sm/kmer-hashing/quest-for-orthologs/data/2019/Eukaryota/UP000005640_9606_DNA.fasta') as records:\n",
    "    for record in records:\n",
    "        if record['sequence'].startswith(\"ATG\"):\n",
    "            uniprot_dna_starts_with_atg.append('|'.join(record['name'].split()[0].split('|')[:2]))\n",
    "print('uniprot_dna_starts_with_atg', len(uniprot_dna_starts_with_atg))"
   ]
  },
  {
   "cell_type": "code",
   "execution_count": 54,
   "metadata": {},
   "outputs": [
    {
     "data": {
      "text/plain": [
       "['tr|A0A024R161', 'tr|A0A024R1R8', 'sp|A0A024RBG1']"
      ]
     },
     "execution_count": 54,
     "metadata": {},
     "output_type": "execute_result"
    }
   ],
   "source": [
    "uniprot_dna_starts_with_atg[:3]"
   ]
  },
  {
   "cell_type": "code",
   "execution_count": 55,
   "metadata": {},
   "outputs": [
    {
     "data": {
      "text/plain": [
       "['tr|A0A024R1R8', 'sp|A0A024RBG1', 'tr|A0A075B6H5']"
      ]
     },
     "execution_count": 55,
     "metadata": {},
     "output_type": "execute_result"
    }
   ],
   "source": [
    "uniprot_protein_starts_with_m[:3]"
   ]
  },
  {
   "cell_type": "code",
   "execution_count": 56,
   "metadata": {},
   "outputs": [
    {
     "data": {
      "text/plain": [
       "19909"
      ]
     },
     "execution_count": 56,
     "metadata": {},
     "output_type": "execute_result"
    }
   ],
   "source": [
    "uniprot_starts_with_atg_and_m = set(uniprot_dna_starts_with_atg).intersection(set(uniprot_protein_starts_with_m))\n",
    "len(uniprot_starts_with_atg_and_m)"
   ]
  },
  {
   "cell_type": "code",
   "execution_count": 59,
   "metadata": {},
   "outputs": [
    {
     "data": {
      "text/plain": [
       "['tr|A0A024R1R8', 'sp|P08151', 'sp|Q9HCK5', 'sp|Q96PN8', 'sp|O60336']"
      ]
     },
     "execution_count": 59,
     "metadata": {},
     "output_type": "execute_result"
    }
   ],
   "source": [
    "uniprot_starts_with_atg_and_m_list = list(uniprot_starts_with_atg_and_m)\n",
    "uniprot_starts_with_atg_and_m_list[:5]"
   ]
  },
  {
   "cell_type": "code",
   "execution_count": 42,
   "metadata": {},
   "outputs": [
    {
     "name": "stdout",
     "output_type": "stream",
     "text": [
      "20917\n"
     ]
    }
   ],
   "source": [
    "! grep -c '>' '/home/olga/data_sm/kmer-hashing/quest-for-orthologs/data/2019/Eukaryota/UP000005640_9606_DNA.fasta'"
   ]
  },
  {
   "cell_type": "code",
   "execution_count": 43,
   "metadata": {},
   "outputs": [
    {
     "name": "stdout",
     "output_type": "stream",
     "text": [
      "20874\n"
     ]
    }
   ],
   "source": [
    "! grep -c '>' '/home/olga/data_sm/kmer-hashing/quest-for-orthologs/data/2019/Eukaryota/UP000005640_9606.fasta'"
   ]
  },
  {
   "cell_type": "code",
   "execution_count": 35,
   "metadata": {},
   "outputs": [
    {
     "data": {
      "text/plain": [
       "['tr|A0A024R161|ENSP00000363412',\n",
       " 'tr|A0A024R1R8|ENSP00000491117',\n",
       " 'sp|A0A024RBG1|ENSP00000338352']"
      ]
     },
     "execution_count": 35,
     "metadata": {},
     "output_type": "execute_result"
    }
   ],
   "source": [
    "uniprot_dna_starts_with_atg[:3]"
   ]
  },
  {
   "cell_type": "markdown",
   "metadata": {},
   "source": [
    "## Write good uniprot ids to file"
   ]
  },
  {
   "cell_type": "code",
   "execution_count": 103,
   "metadata": {},
   "outputs": [
    {
     "data": {
      "text/plain": [
       "19909"
      ]
     },
     "execution_count": 103,
     "metadata": {},
     "output_type": "execute_result"
    }
   ],
   "source": [
    "good_uniprot_records = []\n",
    "with screed.open('/home/olga/data_sm/kmer-hashing/quest-for-orthologs/data/2019/Eukaryota/UP000005640_9606_DNA.fasta') as records:\n",
    "    for record in records:\n",
    "        clean_uniprot_id = '|'.join(record['name'].split('|')[:2])\n",
    "        if clean_uniprot_id in uniprot_starts_with_atg_and_m:\n",
    "            good_uniprot_records.append(record)\n",
    "len(good_uniprot_records)"
   ]
  },
  {
   "cell_type": "code",
   "execution_count": 108,
   "metadata": {},
   "outputs": [
    {
     "data": {
      "text/plain": [
       "[{'name': 'tr|A0A024R1R8|ENSP00000491117', 'sequence': 'ATGTCCAGCCACGAAGGTGGCAAGAAGAAGGCACTGAAACAGCCCAAGAAGCAGGCCAAGGAGATGGACGAGGAAGAGAAGGCTTTCAAGCAGAAACAAAAAGAGGAGCAGAAGAAACTCGAGGTGCTAAAAGCGAAGGTCGTGGGGAAGGGGCCTCTGGCCACAGGTGGAATTAAGAAATCTGGCAAAAAATAA', 'description': ''},\n",
       " {'name': 'sp|A0A024RBG1|ENSP00000338352', 'sequence': 'ATGATGAAGTTCAAGCCCAACCAGACGCGGACCTACGACCGCGAGGGCTTCAAGAAGCGGGCGGCGTGCCTGTGCTTCCGGAGCGAGCAGGAGGACGAGGTGCTGCTGGTGAGTAGCAGCCGGTACCCAGACCAGTGGATTGTCCCAGGAGGAGGAATGGAACCCGAGGAGGAACCTGGCGGTGCTGCCGTGAGGGAAGTTTATGAGGAGGCTGGAGTCAAAGGAAAACTAGGCAGACTTCTGGGCATATTTGAGCAGAACCAAGACCGAAAGCACAGAACATATGTTTATGTTCTAACAGTCACTGAAATATTAGAAGATTGGGAAGATTCTGTTAATATTGGAAGGAAGAGAGAGTGGTTCAAAGTAGAAGATGCTATCAAAGTTCTCCAGTGTCATAAACCTGTACATGCAGAGTATCTGGAAAAGCTAAAGCTGGGTTGTTCCCCAGCCAATGGAAATTCTACAGTCCCTTCCCTTCCGGATAATAATGCCTTGTTTGTAACCGCTGCACAGACCTCTGGGTTGCCATCTAGTGTAAGATAG', 'description': ''},\n",
       " {'name': 'tr|A0A075B6H5|ENSP00000368747', 'sequence': 'ATGGAGACAGTGGTCACAACTCTCCCCAGAGAAGGTGGTGTGGGGCCATCACGGAAGATGCTGCTGCTTCTGCTGCTTCTGGGGCCAGGCTCCGGGCTTAGTGCTGTCGTCTCTCAACATCCGAGCAGGGTTATCTGTAAGAGTGGAACCTCTGTGAACATCGAGTGCCGTTCCCTGGACTTTCAGGCCACAACTATGTTTTGGTATCGTCAGCTCCGGAAACAGAGCCTCATGCTGATGGCAACTTCCAATGAGGGCTCCGAGGTCACATACGAGCAAGGCGTCAAGAAGGACAAGTTTCCCATCAACCATCCAAACCTGACCTTCTCCGCTCTGACAGTGACCAGTGCCCATCCTGAAGACAGCAGCTTCTACATCTGCAGTGCTAGA', 'description': ''}]"
      ]
     },
     "execution_count": 108,
     "metadata": {},
     "output_type": "execute_result"
    }
   ],
   "source": [
    "good_uniprot_records[:3]"
   ]
  },
  {
   "cell_type": "code",
   "execution_count": 102,
   "metadata": {},
   "outputs": [
    {
     "data": {
      "text/plain": [
       "'tr|X6R8D5|ENSP00000362054'"
      ]
     },
     "execution_count": 102,
     "metadata": {},
     "output_type": "execute_result"
    }
   ],
   "source": [
    "record['name']"
   ]
  },
  {
   "cell_type": "code",
   "execution_count": 104,
   "metadata": {},
   "outputs": [],
   "source": [
    "with open('/home/olga/data_sm/kmer-hashing/quest-for-orthologs/data/2019/Eukaryota/UP000005640_9606_DNA__startswith_atg_and_protein_startswith_m.fasta', 'w') as f:\n",
    "    for record in good_uniprot_records:\n",
    "        f.write(f'>{record[\"name\"]}\\n{record[\"sequence\"]}\\n')\n"
   ]
  },
  {
   "cell_type": "code",
   "execution_count": 105,
   "metadata": {},
   "outputs": [
    {
     "data": {
      "text/plain": [
       "19909"
      ]
     },
     "execution_count": 105,
     "metadata": {},
     "output_type": "execute_result"
    }
   ],
   "source": [
    "good_uniprot_records_dict = {'|'.join(r['name'].split('|')[:2]): r['sequence'] for r in good_uniprot_records}\n",
    "len(good_uniprot_records_dict)"
   ]
  },
  {
   "cell_type": "code",
   "execution_count": 110,
   "metadata": {},
   "outputs": [],
   "source": [
    "good_uniprot_records_series = pd.Series(good_uniprot_records_dict)"
   ]
  },
  {
   "cell_type": "code",
   "execution_count": 109,
   "metadata": {},
   "outputs": [
    {
     "data": {
      "text/plain": [
       "'ATGTCCAGCCACGAAGGTGGCAAGAAGAAGGCACTGAAACAGCCCAAGAAGCAGGCCAAGGAGATGGACGAGGAAGAGAAGGCTTTCAAGCAGAAACAAAAAGAGGAGCAGAAGAAACTCGAGGTGCTAAAAGCGAAGGTCGTGGGGAAGGGGCCTCTGGCCACAGGTGGAATTAAGAAATCTGGCAAAAAATAA'"
      ]
     },
     "execution_count": 109,
     "metadata": {},
     "output_type": "execute_result"
    }
   ],
   "source": [
    "good_uniprot_records_dict['tr|A0A024R1R8']"
   ]
  },
  {
   "cell_type": "code",
   "execution_count": null,
   "metadata": {},
   "outputs": [],
   "source": [
    "uniprot_dna_starts_with_atg[:3]"
   ]
  },
  {
   "cell_type": "markdown",
   "metadata": {},
   "source": [
    "# Get protein, k=11 and dayhoff, k=17 csvs"
   ]
  },
  {
   "cell_type": "code",
   "execution_count": 36,
   "metadata": {},
   "outputs": [
    {
     "name": "stdout",
     "output_type": "stream",
     "text": [
      "total 1.4G\n",
      "drwxr-xr-x  2 olga czb 4.0K Aug 28 09:32 \u001b[0m\u001b[01;34m.\u001b[0m/\n",
      "drwxr-xr-x 48 olga czb 4.0K Sep 15 12:00 \u001b[01;34m..\u001b[0m/\n",
      "-rw-r--r--  1 olga czb 130M Aug 28 09:32 Homo_sapiens_9606_qfo_dna_01__molecule-protein_ksize-11__coding_reads_nucleotides.fasta\n",
      "-rw-r--r--  1 olga czb  78M Aug 28 09:32 Homo_sapiens_9606_qfo_dna_01__molecule-protein_ksize-11__coding_reads_peptides.fasta\n",
      "-rw-r--r--  1 olga czb 809M Aug 28 09:32 Homo_sapiens_9606_qfo_dna_01__molecule-protein_ksize-11__coding_scores.csv\n",
      "-rw-r--r--  1 olga czb 1.5K Aug 28 09:31 Homo_sapiens_9606_qfo_dna_01__molecule-protein_ksize-11__coding_summary.json\n",
      "-rw-r--r--  1 olga czb 368M Aug 28 09:32 Homo_sapiens_9606_qfo_dna_01__molecule-protein_ksize-11__noncoding_reads_nucleotides.fasta\n"
     ]
    }
   ],
   "source": [
    "ls -lha $translate_dir/molecule-protein_ksize-11/"
   ]
  },
  {
   "cell_type": "code",
   "execution_count": 40,
   "metadata": {},
   "outputs": [
    {
     "name": "stdout",
     "output_type": "stream",
     "text": [
      "read_id,jaccard_in_peptide_db,n_kmers,category,translation_frame,filename\n",
      "read1/tr|A0A024R1R8|ENSP00000491117;mate1Start:1;mate2Start:1,1.0,40.0,Coding,1,Homo_sapiens_9606_qfo_dna_01.fq.gz\n",
      "read1/tr|A0A024R1R8|ENSP00000491117;mate1Start:1;mate2Start:1,nan,nan,Translation frame has stop codon(s),2,Homo_sapiens_9606_qfo_dna_01.fq.gz\n",
      "read1/tr|A0A024R1R8|ENSP00000491117;mate1Start:1;mate2Start:1,0.0,39.0,Non-coding,3,Homo_sapiens_9606_qfo_dna_01.fq.gz\n",
      "read1/tr|A0A024R1R8|ENSP00000491117;mate1Start:1;mate2Start:1,nan,nan,Translation frame has stop codon(s),-1,Homo_sapiens_9606_qfo_dna_01.fq.gz\n",
      "read1/tr|A0A024R1R8|ENSP00000491117;mate1Start:1;mate2Start:1,0.0,39.0,Non-coding,-2,Homo_sapiens_9606_qfo_dna_01.fq.gz\n",
      "read1/tr|A0A024R1R8|ENSP00000491117;mate1Start:1;mate2Start:1,nan,nan,Translation frame has stop codon(s),-3,Homo_sapiens_9606_qfo_dna_01.fq.gz\n",
      "read2/tr|A0A024R1R8|ENSP00000491117;mate1Start:1;mate2Start:1,0.975,40.0,Coding,1,Homo_sapiens_9606_qfo_dna_01.fq.gz\n",
      "read2/tr|A0A024R1R8|ENSP00000491117;mate1Start:1;mate2Start:1,nan,nan,Translation frame has stop codon(s),2,Homo_sapiens_9606_qfo_dna_01.fq.gz\n",
      "read2/tr|A0A024R1R8|ENSP00000491117;mate1Start:1;mate2Start:1,0.0,39.0,Non-coding,3,Homo_sapiens_9606_qfo_dna_01.fq.gz\n"
     ]
    }
   ],
   "source": [
    "! rg 'tr|A0A024R161|ENSP00000363412' $translate_dir/molecule-protein_ksize-11/Homo_sapiens_9606_qfo_dna_01__molecule-protein_ksize-11__coding_scores.csv | head"
   ]
  },
  {
   "cell_type": "code",
   "execution_count": 41,
   "metadata": {},
   "outputs": [
    {
     "name": "stdout",
     "output_type": "stream",
     "text": [
      "read51/sp|A0A024RBG1|ENSP00000492425;mate1:130-279;mate2:281-430,nan,nan,Translation frame has stop codon(s),1,Homo_sapiens_9606_qfo_dna_01.fq.gz\n",
      "read51/sp|A0A024RBG1|ENSP00000492425;mate1:130-279;mate2:281-430,nan,nan,Translation frame has stop codon(s),2,Homo_sapiens_9606_qfo_dna_01.fq.gz\n",
      "read51/sp|A0A024RBG1|ENSP00000492425;mate1:130-279;mate2:281-430,nan,nan,Translation frame has stop codon(s),3,Homo_sapiens_9606_qfo_dna_01.fq.gz\n",
      "read51/sp|A0A024RBG1|ENSP00000492425;mate1:130-279;mate2:281-430,nan,nan,Translation frame has stop codon(s),-1,Homo_sapiens_9606_qfo_dna_01.fq.gz\n",
      "read51/sp|A0A024RBG1|ENSP00000492425;mate1:130-279;mate2:281-430,nan,nan,Translation frame has stop codon(s),-2,Homo_sapiens_9606_qfo_dna_01.fq.gz\n",
      "read51/sp|A0A024RBG1|ENSP00000492425;mate1:130-279;mate2:281-430,1.0,39.0,Coding,-3,Homo_sapiens_9606_qfo_dna_01.fq.gz\n",
      "read52/sp|A0A024RBG1|ENSP00000492425;mate1:125-274;mate2:193-342,nan,nan,Translation frame has stop codon(s),1,Homo_sapiens_9606_qfo_dna_01.fq.gz\n",
      "read52/sp|A0A024RBG1|ENSP00000492425;mate1:125-274;mate2:193-342,nan,nan,Translation frame has stop codon(s),2,Homo_sapiens_9606_qfo_dna_01.fq.gz\n",
      "read52/sp|A0A024RBG1|ENSP00000492425;mate1:125-274;mate2:193-342,1.0,39.0,Coding,3,Homo_sapiens_9606_qfo_dna_01.fq.gz\n",
      "read52/sp|A0A024RBG1|ENSP00000492425;mate1:125-274;mate2:193-342,nan,nan,Translation frame has stop codon(s),-1,Homo_sapiens_9606_qfo_dna_01.fq.gz\n"
     ]
    }
   ],
   "source": [
    "! rg 'sp|A0A024RBG1|ENSP00000338352' $translate_dir/molecule-protein_ksize-11/Homo_sapiens_9606_qfo_dna_01__molecule-protein_ksize-11__coding_scores.csv | head"
   ]
  },
  {
   "cell_type": "markdown",
   "metadata": {},
   "source": [
    "## Protein k=11 coding score csvs"
   ]
  },
  {
   "cell_type": "code",
   "execution_count": 60,
   "metadata": {},
   "outputs": [
    {
     "data": {
      "text/html": [
       "<div>\n",
       "<style scoped>\n",
       "    .dataframe tbody tr th:only-of-type {\n",
       "        vertical-align: middle;\n",
       "    }\n",
       "\n",
       "    .dataframe tbody tr th {\n",
       "        vertical-align: top;\n",
       "    }\n",
       "\n",
       "    .dataframe thead th {\n",
       "        text-align: right;\n",
       "    }\n",
       "</style>\n",
       "<table border=\"1\" class=\"dataframe\">\n",
       "  <thead>\n",
       "    <tr style=\"text-align: right;\">\n",
       "      <th></th>\n",
       "      <th>read_id</th>\n",
       "      <th>jaccard_in_peptide_db</th>\n",
       "      <th>n_kmers</th>\n",
       "      <th>category</th>\n",
       "      <th>translation_frame</th>\n",
       "      <th>filename</th>\n",
       "      <th>alphabet</th>\n",
       "      <th>ksize</th>\n",
       "    </tr>\n",
       "  </thead>\n",
       "  <tbody>\n",
       "    <tr>\n",
       "      <th>0</th>\n",
       "      <td>read1/tr|A0A024R1R8|ENSP00000491117;mate1Start...</td>\n",
       "      <td>1.0</td>\n",
       "      <td>40.0</td>\n",
       "      <td>Coding</td>\n",
       "      <td>1</td>\n",
       "      <td>Homo_sapiens_9606_qfo_dna_01.fq.gz</td>\n",
       "      <td>protein</td>\n",
       "      <td>11</td>\n",
       "    </tr>\n",
       "    <tr>\n",
       "      <th>1</th>\n",
       "      <td>read1/tr|A0A024R1R8|ENSP00000491117;mate1Start...</td>\n",
       "      <td>NaN</td>\n",
       "      <td>NaN</td>\n",
       "      <td>Translation frame has stop codon(s)</td>\n",
       "      <td>2</td>\n",
       "      <td>Homo_sapiens_9606_qfo_dna_01.fq.gz</td>\n",
       "      <td>protein</td>\n",
       "      <td>11</td>\n",
       "    </tr>\n",
       "    <tr>\n",
       "      <th>2</th>\n",
       "      <td>read1/tr|A0A024R1R8|ENSP00000491117;mate1Start...</td>\n",
       "      <td>0.0</td>\n",
       "      <td>39.0</td>\n",
       "      <td>Non-coding</td>\n",
       "      <td>3</td>\n",
       "      <td>Homo_sapiens_9606_qfo_dna_01.fq.gz</td>\n",
       "      <td>protein</td>\n",
       "      <td>11</td>\n",
       "    </tr>\n",
       "    <tr>\n",
       "      <th>3</th>\n",
       "      <td>read1/tr|A0A024R1R8|ENSP00000491117;mate1Start...</td>\n",
       "      <td>NaN</td>\n",
       "      <td>NaN</td>\n",
       "      <td>Translation frame has stop codon(s)</td>\n",
       "      <td>-1</td>\n",
       "      <td>Homo_sapiens_9606_qfo_dna_01.fq.gz</td>\n",
       "      <td>protein</td>\n",
       "      <td>11</td>\n",
       "    </tr>\n",
       "    <tr>\n",
       "      <th>4</th>\n",
       "      <td>read1/tr|A0A024R1R8|ENSP00000491117;mate1Start...</td>\n",
       "      <td>0.0</td>\n",
       "      <td>39.0</td>\n",
       "      <td>Non-coding</td>\n",
       "      <td>-2</td>\n",
       "      <td>Homo_sapiens_9606_qfo_dna_01.fq.gz</td>\n",
       "      <td>protein</td>\n",
       "      <td>11</td>\n",
       "    </tr>\n",
       "  </tbody>\n",
       "</table>\n",
       "</div>"
      ],
      "text/plain": [
       "                                             read_id  jaccard_in_peptide_db  \\\n",
       "0  read1/tr|A0A024R1R8|ENSP00000491117;mate1Start...                    1.0   \n",
       "1  read1/tr|A0A024R1R8|ENSP00000491117;mate1Start...                    NaN   \n",
       "2  read1/tr|A0A024R1R8|ENSP00000491117;mate1Start...                    0.0   \n",
       "3  read1/tr|A0A024R1R8|ENSP00000491117;mate1Start...                    NaN   \n",
       "4  read1/tr|A0A024R1R8|ENSP00000491117;mate1Start...                    0.0   \n",
       "\n",
       "   n_kmers                             category  translation_frame  \\\n",
       "0     40.0                               Coding                  1   \n",
       "1      NaN  Translation frame has stop codon(s)                  2   \n",
       "2     39.0                           Non-coding                  3   \n",
       "3      NaN  Translation frame has stop codon(s)                 -1   \n",
       "4     39.0                           Non-coding                 -2   \n",
       "\n",
       "                             filename alphabet  ksize  \n",
       "0  Homo_sapiens_9606_qfo_dna_01.fq.gz  protein     11  \n",
       "1  Homo_sapiens_9606_qfo_dna_01.fq.gz  protein     11  \n",
       "2  Homo_sapiens_9606_qfo_dna_01.fq.gz  protein     11  \n",
       "3  Homo_sapiens_9606_qfo_dna_01.fq.gz  protein     11  \n",
       "4  Homo_sapiens_9606_qfo_dna_01.fq.gz  protein     11  "
      ]
     },
     "execution_count": 60,
     "metadata": {},
     "output_type": "execute_result"
    }
   ],
   "source": [
    "protein_k11 = pd.read_csv(f'{translate_dir}/molecule-protein_ksize-11/Homo_sapiens_9606_qfo_dna_01__molecule-protein_ksize-11__coding_scores.csv')\n",
    "protein_k11['alphabet'] = 'protein'\n",
    "protein_k11['ksize'] = 11\n",
    "protein_k11.head()"
   ]
  },
  {
   "cell_type": "code",
   "execution_count": 63,
   "metadata": {},
   "outputs": [
    {
     "name": "stdout",
     "output_type": "stream",
     "text": [
      "CPU times: user 18.2 s, sys: 354 ms, total: 18.6 s\n",
      "Wall time: 18.6 s\n"
     ]
    }
   ],
   "source": [
    "%%time\n",
    "protein_k11['uniprot_id'] = protein_k11['read_id'].str.extract('read\\d+\\/(\\w+\\|\\w+)|\\w+;')\n",
    "protein_k11.head()"
   ]
  },
  {
   "cell_type": "code",
   "execution_count": null,
   "metadata": {},
   "outputs": [],
   "source": [
    "protein_k11.shape"
   ]
  },
  {
   "cell_type": "markdown",
   "metadata": {},
   "source": [
    "### Look at only good uniprot ids"
   ]
  },
  {
   "cell_type": "code",
   "execution_count": 64,
   "metadata": {},
   "outputs": [
    {
     "name": "stdout",
     "output_type": "stream",
     "text": [
      "(5911206, 9)\n"
     ]
    },
    {
     "data": {
      "text/html": [
       "<div>\n",
       "<style scoped>\n",
       "    .dataframe tbody tr th:only-of-type {\n",
       "        vertical-align: middle;\n",
       "    }\n",
       "\n",
       "    .dataframe tbody tr th {\n",
       "        vertical-align: top;\n",
       "    }\n",
       "\n",
       "    .dataframe thead th {\n",
       "        text-align: right;\n",
       "    }\n",
       "</style>\n",
       "<table border=\"1\" class=\"dataframe\">\n",
       "  <thead>\n",
       "    <tr style=\"text-align: right;\">\n",
       "      <th></th>\n",
       "      <th>read_id</th>\n",
       "      <th>jaccard_in_peptide_db</th>\n",
       "      <th>n_kmers</th>\n",
       "      <th>category</th>\n",
       "      <th>translation_frame</th>\n",
       "      <th>filename</th>\n",
       "      <th>alphabet</th>\n",
       "      <th>ksize</th>\n",
       "      <th>uniprot_id</th>\n",
       "    </tr>\n",
       "  </thead>\n",
       "  <tbody>\n",
       "    <tr>\n",
       "      <th>0</th>\n",
       "      <td>read1/tr|A0A024R1R8|ENSP00000491117;mate1Start...</td>\n",
       "      <td>1.0</td>\n",
       "      <td>40.0</td>\n",
       "      <td>Coding</td>\n",
       "      <td>1</td>\n",
       "      <td>Homo_sapiens_9606_qfo_dna_01.fq.gz</td>\n",
       "      <td>protein</td>\n",
       "      <td>11</td>\n",
       "      <td>tr|A0A024R1R8</td>\n",
       "    </tr>\n",
       "    <tr>\n",
       "      <th>1</th>\n",
       "      <td>read1/tr|A0A024R1R8|ENSP00000491117;mate1Start...</td>\n",
       "      <td>NaN</td>\n",
       "      <td>NaN</td>\n",
       "      <td>Translation frame has stop codon(s)</td>\n",
       "      <td>2</td>\n",
       "      <td>Homo_sapiens_9606_qfo_dna_01.fq.gz</td>\n",
       "      <td>protein</td>\n",
       "      <td>11</td>\n",
       "      <td>tr|A0A024R1R8</td>\n",
       "    </tr>\n",
       "    <tr>\n",
       "      <th>2</th>\n",
       "      <td>read1/tr|A0A024R1R8|ENSP00000491117;mate1Start...</td>\n",
       "      <td>0.0</td>\n",
       "      <td>39.0</td>\n",
       "      <td>Non-coding</td>\n",
       "      <td>3</td>\n",
       "      <td>Homo_sapiens_9606_qfo_dna_01.fq.gz</td>\n",
       "      <td>protein</td>\n",
       "      <td>11</td>\n",
       "      <td>tr|A0A024R1R8</td>\n",
       "    </tr>\n",
       "    <tr>\n",
       "      <th>3</th>\n",
       "      <td>read1/tr|A0A024R1R8|ENSP00000491117;mate1Start...</td>\n",
       "      <td>NaN</td>\n",
       "      <td>NaN</td>\n",
       "      <td>Translation frame has stop codon(s)</td>\n",
       "      <td>-1</td>\n",
       "      <td>Homo_sapiens_9606_qfo_dna_01.fq.gz</td>\n",
       "      <td>protein</td>\n",
       "      <td>11</td>\n",
       "      <td>tr|A0A024R1R8</td>\n",
       "    </tr>\n",
       "    <tr>\n",
       "      <th>4</th>\n",
       "      <td>read1/tr|A0A024R1R8|ENSP00000491117;mate1Start...</td>\n",
       "      <td>0.0</td>\n",
       "      <td>39.0</td>\n",
       "      <td>Non-coding</td>\n",
       "      <td>-2</td>\n",
       "      <td>Homo_sapiens_9606_qfo_dna_01.fq.gz</td>\n",
       "      <td>protein</td>\n",
       "      <td>11</td>\n",
       "      <td>tr|A0A024R1R8</td>\n",
       "    </tr>\n",
       "  </tbody>\n",
       "</table>\n",
       "</div>"
      ],
      "text/plain": [
       "                                             read_id  jaccard_in_peptide_db  \\\n",
       "0  read1/tr|A0A024R1R8|ENSP00000491117;mate1Start...                    1.0   \n",
       "1  read1/tr|A0A024R1R8|ENSP00000491117;mate1Start...                    NaN   \n",
       "2  read1/tr|A0A024R1R8|ENSP00000491117;mate1Start...                    0.0   \n",
       "3  read1/tr|A0A024R1R8|ENSP00000491117;mate1Start...                    NaN   \n",
       "4  read1/tr|A0A024R1R8|ENSP00000491117;mate1Start...                    0.0   \n",
       "\n",
       "   n_kmers                             category  translation_frame  \\\n",
       "0     40.0                               Coding                  1   \n",
       "1      NaN  Translation frame has stop codon(s)                  2   \n",
       "2     39.0                           Non-coding                  3   \n",
       "3      NaN  Translation frame has stop codon(s)                 -1   \n",
       "4     39.0                           Non-coding                 -2   \n",
       "\n",
       "                             filename alphabet  ksize     uniprot_id  \n",
       "0  Homo_sapiens_9606_qfo_dna_01.fq.gz  protein     11  tr|A0A024R1R8  \n",
       "1  Homo_sapiens_9606_qfo_dna_01.fq.gz  protein     11  tr|A0A024R1R8  \n",
       "2  Homo_sapiens_9606_qfo_dna_01.fq.gz  protein     11  tr|A0A024R1R8  \n",
       "3  Homo_sapiens_9606_qfo_dna_01.fq.gz  protein     11  tr|A0A024R1R8  \n",
       "4  Homo_sapiens_9606_qfo_dna_01.fq.gz  protein     11  tr|A0A024R1R8  "
      ]
     },
     "execution_count": 64,
     "metadata": {},
     "output_type": "execute_result"
    }
   ],
   "source": [
    "protein_k11_good_uniprot_ids = protein_k11.query('uniprot_id in @uniprot_starts_with_atg_and_m')\n",
    "print(protein_k11_good_uniprot_ids.shape)\n",
    "protein_k11_good_uniprot_ids.head()"
   ]
  },
  {
   "cell_type": "code",
   "execution_count": 81,
   "metadata": {},
   "outputs": [
    {
     "data": {
      "text/plain": [
       "array(['read1/tr|A0A024R1R8|ENSP00000491117;mate1Start:1;mate2Start:1',\n",
       "       'read1/tr|A0A024R1R8|ENSP00000491117;mate1Start:1;mate2Start:1',\n",
       "       'read1/tr|A0A024R1R8|ENSP00000491117;mate1Start:1;mate2Start:1',\n",
       "       'read1/tr|A0A024R1R8|ENSP00000491117;mate1Start:1;mate2Start:1',\n",
       "       'read1/tr|A0A024R1R8|ENSP00000491117;mate1Start:1;mate2Start:1',\n",
       "       'read1/tr|A0A024R1R8|ENSP00000491117;mate1Start:1;mate2Start:1',\n",
       "       'read2/tr|A0A024R1R8|ENSP00000491117;mate1Start:1;mate2Start:1',\n",
       "       'read2/tr|A0A024R1R8|ENSP00000491117;mate1Start:1;mate2Start:1',\n",
       "       'read2/tr|A0A024R1R8|ENSP00000491117;mate1Start:1;mate2Start:1',\n",
       "       'read2/tr|A0A024R1R8|ENSP00000491117;mate1Start:1;mate2Start:1',\n",
       "       'read2/tr|A0A024R1R8|ENSP00000491117;mate1Start:1;mate2Start:1',\n",
       "       'read2/tr|A0A024R1R8|ENSP00000491117;mate1Start:1;mate2Start:1',\n",
       "       'read3/tr|A0A024R1R8|ENSP00000491117;mate1Start:1;mate2Start:1',\n",
       "       'read3/tr|A0A024R1R8|ENSP00000491117;mate1Start:1;mate2Start:1',\n",
       "       'read3/tr|A0A024R1R8|ENSP00000491117;mate1Start:1;mate2Start:1',\n",
       "       'read3/tr|A0A024R1R8|ENSP00000491117;mate1Start:1;mate2Start:1',\n",
       "       'read3/tr|A0A024R1R8|ENSP00000491117;mate1Start:1;mate2Start:1',\n",
       "       'read3/tr|A0A024R1R8|ENSP00000491117;mate1Start:1;mate2Start:1',\n",
       "       'read4/tr|A0A024R1R8|ENSP00000491117;mate1Start:1;mate2Start:1',\n",
       "       'read4/tr|A0A024R1R8|ENSP00000491117;mate1Start:1;mate2Start:1'],\n",
       "      dtype=object)"
      ]
     },
     "execution_count": 81,
     "metadata": {},
     "output_type": "execute_result"
    }
   ],
   "source": [
    "protein_k11_good_uniprot_ids.read_id.head(20).values"
   ]
  },
  {
   "cell_type": "markdown",
   "metadata": {},
   "source": [
    "### Look at only good uniprot ids, is coding"
   ]
  },
  {
   "cell_type": "code",
   "execution_count": 66,
   "metadata": {},
   "outputs": [
    {
     "name": "stdout",
     "output_type": "stream",
     "text": [
      "(985201,)\n"
     ]
    },
    {
     "data": {
      "text/plain": [
       "read_id\n",
       "read1/tr|A0A024R1R8|ENSP00000491117;mate1Start:1;mate2Start:1          True\n",
       "read10/tr|A0A024R1R8|ENSP00000491117;mate1Start:1;mate2Start:1         True\n",
       "read100/sp|A0A024RBG1|ENSP00000492425;mate1:221-370;mate2:280-429      True\n",
       "read1000/sp|A0A075B6K2|ENSP00000374848;mate1:5-154;mate2:37-186       False\n",
       "read10000/sp|A0A0B4J1V1|ENSP00000487805;mate1:77-226;mate2:131-280    False\n",
       "dtype: bool"
      ]
     },
     "execution_count": 66,
     "metadata": {},
     "output_type": "execute_result"
    }
   ],
   "source": [
    "protein_k11_good_uniprot_ids_is_coding = protein_k11_good_uniprot_ids.groupby('read_id').apply(lambda x: (x.category == 'Coding').any())\n",
    "print(protein_k11_good_uniprot_ids_is_coding.shape)\n",
    "protein_k11_good_uniprot_ids_is_coding.head()"
   ]
  },
  {
   "cell_type": "code",
   "execution_count": 75,
   "metadata": {},
   "outputs": [
    {
     "data": {
      "text/plain": [
       "read_id\n",
       "read341353/sp|P62269|ENSP00000416110;mate1:91-240;mate2:207-356          True\n",
       "read993589/sp|Q9Y3D8|ENSP00000484679;mate1:32-181;mate2:154-303          True\n",
       "read885153/sp|Q9HCI6|ENSP00000359768;mate1:1139-1288;mate2:1240-1389     True\n",
       "read881020/sp|Q9HBH1|ENSP00000288022;mate1:311-460;mate2:420-569         True\n",
       "read222205/sp|P15121|ENSP00000285930;mate1:426-575;mate2:492-641         True\n",
       "read371246/sp|Q07283|ENSP00000480484;mate1:3713-3862;mate2:3854-4003     True\n",
       "read419293/sp|Q15388|ENSP00000355566;mate1:9-158;mate2:141-290           True\n",
       "read870674/sp|Q9H7R0|ENSP00000440162;mate1:1075-1224;mate2:1216-1365    False\n",
       "read212687/sp|P11586|ENSP00000450560;mate1:122-271;mate2:217-366        False\n",
       "read235760/sp|P19838|ENSP00000469340;mate1:1164-1313;mate2:1271-1420    False\n",
       "dtype: bool"
      ]
     },
     "execution_count": 75,
     "metadata": {},
     "output_type": "execute_result"
    }
   ],
   "source": [
    "protein_k11_good_uniprot_ids_is_coding.sample(10)"
   ]
  },
  {
   "cell_type": "markdown",
   "metadata": {},
   "source": [
    "### Grep dna fasta for the sequence"
   ]
  },
  {
   "cell_type": "code",
   "execution_count": 69,
   "metadata": {},
   "outputs": [],
   "source": [
    "human_dna_fasta = '/home/olga/data_sm/kmer-hashing/quest-for-orthologs/data/2019/Eukaryota/UP000005640_9606_DNA.fasta'\n",
    "human_protein_fasta = '/home/olga/data_sm/kmer-hashing/quest-for-orthologs/data/2019/Eukaryota/UP000005640_9606.fasta'"
   ]
  },
  {
   "cell_type": "code",
   "execution_count": 77,
   "metadata": {},
   "outputs": [
    {
     "name": "stdout",
     "output_type": "stream",
     "text": [
      ">sp|A0A075B6K2|ENSP00000374848\n",
      "ATGGCCTGGACCCCTCTCCTCCTCAGCCTCCTCGCTCACTGCACAGGCTCTGCGACCTCC\n"
     ]
    }
   ],
   "source": [
    "! grep -A 1 'sp|A0A075B6K2|ENSP00000374848' $human_dna_fasta"
   ]
  },
  {
   "cell_type": "code",
   "execution_count": 73,
   "metadata": {},
   "outputs": [],
   "source": [
    "reads_dir = '/home/olga/data_sm/immune-evolution/rawdata/simulated/human'"
   ]
  },
  {
   "cell_type": "code",
   "execution_count": 76,
   "metadata": {},
   "outputs": [
    {
     "name": "stdout",
     "output_type": "stream",
     "text": [
      "@read1000/sp|A0A075B6K2|ENSP00000374848;mate1:5-154;mate2:37-186\n",
      "CCTGGACCCCTCTCCTCCTCAGCCTCCTCGCTCACTGCACAGGCTCTGCGACCTCCTNTGAGCTGACTCAGCCACACTCAGTGTCAGTGGCTACAGCACAGATGGCCAGGATCACCTGTGGGGGAAACAACATTGGAAGTAAAGCTGTGC\n",
      "+\n",
      "IIIIIIIIIIIIIIIIIIIIIIIIIIIIIIIIIIIIIIIIIIIIIIIIIIIIIIIIIIIIIIIIIIIIIIIIIIIIIIIIIIIIIIIIIIIIIIIIIIIIIIIIIIIIIIIIIIIIIIIIIIIIIIIIIIIIIIIIIIIIIIIIIIIIII\n"
     ]
    }
   ],
   "source": [
    "! zgrep -A 3 'read1000/sp|A0A075B6K2|ENSP00000374848;mate1:5-154;mate2:37-186' $reads_dir/*.fq.gz"
   ]
  },
  {
   "cell_type": "code",
   "execution_count": 78,
   "metadata": {},
   "outputs": [
    {
     "data": {
      "text/html": [
       "<div>\n",
       "<style scoped>\n",
       "    .dataframe tbody tr th:only-of-type {\n",
       "        vertical-align: middle;\n",
       "    }\n",
       "\n",
       "    .dataframe tbody tr th {\n",
       "        vertical-align: top;\n",
       "    }\n",
       "\n",
       "    .dataframe thead th {\n",
       "        text-align: right;\n",
       "    }\n",
       "</style>\n",
       "<table border=\"1\" class=\"dataframe\">\n",
       "  <thead>\n",
       "    <tr style=\"text-align: right;\">\n",
       "      <th></th>\n",
       "      <th>read_id</th>\n",
       "      <th>jaccard_in_peptide_db</th>\n",
       "      <th>n_kmers</th>\n",
       "      <th>category</th>\n",
       "      <th>translation_frame</th>\n",
       "      <th>filename</th>\n",
       "      <th>alphabet</th>\n",
       "      <th>ksize</th>\n",
       "      <th>uniprot_id</th>\n",
       "    </tr>\n",
       "  </thead>\n",
       "  <tbody>\n",
       "    <tr>\n",
       "      <th>5994</th>\n",
       "      <td>read1000/sp|A0A075B6K2|ENSP00000374848;mate1:5...</td>\n",
       "      <td>NaN</td>\n",
       "      <td>NaN</td>\n",
       "      <td>Translation frame has stop codon(s)</td>\n",
       "      <td>1</td>\n",
       "      <td>Homo_sapiens_9606_qfo_dna_01.fq.gz</td>\n",
       "      <td>protein</td>\n",
       "      <td>11</td>\n",
       "      <td>sp|A0A075B6K2</td>\n",
       "    </tr>\n",
       "    <tr>\n",
       "      <th>5995</th>\n",
       "      <td>read1000/sp|A0A075B6K2|ENSP00000374848;mate1:5...</td>\n",
       "      <td>NaN</td>\n",
       "      <td>NaN</td>\n",
       "      <td>Translation frame has stop codon(s)</td>\n",
       "      <td>2</td>\n",
       "      <td>Homo_sapiens_9606_qfo_dna_01.fq.gz</td>\n",
       "      <td>protein</td>\n",
       "      <td>11</td>\n",
       "      <td>sp|A0A075B6K2</td>\n",
       "    </tr>\n",
       "    <tr>\n",
       "      <th>5996</th>\n",
       "      <td>read1000/sp|A0A075B6K2|ENSP00000374848;mate1:5...</td>\n",
       "      <td>0.717949</td>\n",
       "      <td>39.0</td>\n",
       "      <td>Non-coding</td>\n",
       "      <td>3</td>\n",
       "      <td>Homo_sapiens_9606_qfo_dna_01.fq.gz</td>\n",
       "      <td>protein</td>\n",
       "      <td>11</td>\n",
       "      <td>sp|A0A075B6K2</td>\n",
       "    </tr>\n",
       "    <tr>\n",
       "      <th>5997</th>\n",
       "      <td>read1000/sp|A0A075B6K2|ENSP00000374848;mate1:5...</td>\n",
       "      <td>NaN</td>\n",
       "      <td>NaN</td>\n",
       "      <td>Translation frame has stop codon(s)</td>\n",
       "      <td>-1</td>\n",
       "      <td>Homo_sapiens_9606_qfo_dna_01.fq.gz</td>\n",
       "      <td>protein</td>\n",
       "      <td>11</td>\n",
       "      <td>sp|A0A075B6K2</td>\n",
       "    </tr>\n",
       "    <tr>\n",
       "      <th>5998</th>\n",
       "      <td>read1000/sp|A0A075B6K2|ENSP00000374848;mate1:5...</td>\n",
       "      <td>NaN</td>\n",
       "      <td>NaN</td>\n",
       "      <td>Translation frame has stop codon(s)</td>\n",
       "      <td>-2</td>\n",
       "      <td>Homo_sapiens_9606_qfo_dna_01.fq.gz</td>\n",
       "      <td>protein</td>\n",
       "      <td>11</td>\n",
       "      <td>sp|A0A075B6K2</td>\n",
       "    </tr>\n",
       "    <tr>\n",
       "      <th>5999</th>\n",
       "      <td>read1000/sp|A0A075B6K2|ENSP00000374848;mate1:5...</td>\n",
       "      <td>NaN</td>\n",
       "      <td>NaN</td>\n",
       "      <td>Translation frame has stop codon(s)</td>\n",
       "      <td>-3</td>\n",
       "      <td>Homo_sapiens_9606_qfo_dna_01.fq.gz</td>\n",
       "      <td>protein</td>\n",
       "      <td>11</td>\n",
       "      <td>sp|A0A075B6K2</td>\n",
       "    </tr>\n",
       "  </tbody>\n",
       "</table>\n",
       "</div>"
      ],
      "text/plain": [
       "                                                read_id  \\\n",
       "5994  read1000/sp|A0A075B6K2|ENSP00000374848;mate1:5...   \n",
       "5995  read1000/sp|A0A075B6K2|ENSP00000374848;mate1:5...   \n",
       "5996  read1000/sp|A0A075B6K2|ENSP00000374848;mate1:5...   \n",
       "5997  read1000/sp|A0A075B6K2|ENSP00000374848;mate1:5...   \n",
       "5998  read1000/sp|A0A075B6K2|ENSP00000374848;mate1:5...   \n",
       "5999  read1000/sp|A0A075B6K2|ENSP00000374848;mate1:5...   \n",
       "\n",
       "      jaccard_in_peptide_db  n_kmers                             category  \\\n",
       "5994                    NaN      NaN  Translation frame has stop codon(s)   \n",
       "5995                    NaN      NaN  Translation frame has stop codon(s)   \n",
       "5996               0.717949     39.0                           Non-coding   \n",
       "5997                    NaN      NaN  Translation frame has stop codon(s)   \n",
       "5998                    NaN      NaN  Translation frame has stop codon(s)   \n",
       "5999                    NaN      NaN  Translation frame has stop codon(s)   \n",
       "\n",
       "      translation_frame                            filename alphabet  ksize  \\\n",
       "5994                  1  Homo_sapiens_9606_qfo_dna_01.fq.gz  protein     11   \n",
       "5995                  2  Homo_sapiens_9606_qfo_dna_01.fq.gz  protein     11   \n",
       "5996                  3  Homo_sapiens_9606_qfo_dna_01.fq.gz  protein     11   \n",
       "5997                 -1  Homo_sapiens_9606_qfo_dna_01.fq.gz  protein     11   \n",
       "5998                 -2  Homo_sapiens_9606_qfo_dna_01.fq.gz  protein     11   \n",
       "5999                 -3  Homo_sapiens_9606_qfo_dna_01.fq.gz  protein     11   \n",
       "\n",
       "         uniprot_id  \n",
       "5994  sp|A0A075B6K2  \n",
       "5995  sp|A0A075B6K2  \n",
       "5996  sp|A0A075B6K2  \n",
       "5997  sp|A0A075B6K2  \n",
       "5998  sp|A0A075B6K2  \n",
       "5999  sp|A0A075B6K2  "
      ]
     },
     "execution_count": 78,
     "metadata": {},
     "output_type": "execute_result"
    }
   ],
   "source": [
    "protein_k11_good_uniprot_ids.query('read_id == \"read1000/sp|A0A075B6K2|ENSP00000374848;mate1:5-154;mate2:37-186\"')"
   ]
  },
  {
   "cell_type": "code",
   "execution_count": 86,
   "metadata": {},
   "outputs": [
    {
     "name": "stdout",
     "output_type": "stream",
     "text": [
      "(524484, 9)\n"
     ]
    },
    {
     "data": {
      "text/html": [
       "<div>\n",
       "<style scoped>\n",
       "    .dataframe tbody tr th:only-of-type {\n",
       "        vertical-align: middle;\n",
       "    }\n",
       "\n",
       "    .dataframe tbody tr th {\n",
       "        vertical-align: top;\n",
       "    }\n",
       "\n",
       "    .dataframe thead th {\n",
       "        text-align: right;\n",
       "    }\n",
       "</style>\n",
       "<table border=\"1\" class=\"dataframe\">\n",
       "  <thead>\n",
       "    <tr style=\"text-align: right;\">\n",
       "      <th></th>\n",
       "      <th>read_id</th>\n",
       "      <th>jaccard_in_peptide_db</th>\n",
       "      <th>n_kmers</th>\n",
       "      <th>category</th>\n",
       "      <th>translation_frame</th>\n",
       "      <th>filename</th>\n",
       "      <th>alphabet</th>\n",
       "      <th>ksize</th>\n",
       "      <th>uniprot_id</th>\n",
       "    </tr>\n",
       "  </thead>\n",
       "  <tbody>\n",
       "    <tr>\n",
       "      <th>0</th>\n",
       "      <td>read1/tr|A0A024R1R8|ENSP00000491117;mate1Start...</td>\n",
       "      <td>1.000</td>\n",
       "      <td>40.0</td>\n",
       "      <td>Coding</td>\n",
       "      <td>1</td>\n",
       "      <td>Homo_sapiens_9606_qfo_dna_01.fq.gz</td>\n",
       "      <td>protein</td>\n",
       "      <td>11</td>\n",
       "      <td>tr|A0A024R1R8</td>\n",
       "    </tr>\n",
       "    <tr>\n",
       "      <th>6</th>\n",
       "      <td>read2/tr|A0A024R1R8|ENSP00000491117;mate1Start...</td>\n",
       "      <td>0.975</td>\n",
       "      <td>40.0</td>\n",
       "      <td>Coding</td>\n",
       "      <td>1</td>\n",
       "      <td>Homo_sapiens_9606_qfo_dna_01.fq.gz</td>\n",
       "      <td>protein</td>\n",
       "      <td>11</td>\n",
       "      <td>tr|A0A024R1R8</td>\n",
       "    </tr>\n",
       "    <tr>\n",
       "      <th>30</th>\n",
       "      <td>read6/tr|A0A024R1R8|ENSP00000491117;mate1Start...</td>\n",
       "      <td>1.000</td>\n",
       "      <td>40.0</td>\n",
       "      <td>Coding</td>\n",
       "      <td>1</td>\n",
       "      <td>Homo_sapiens_9606_qfo_dna_01.fq.gz</td>\n",
       "      <td>protein</td>\n",
       "      <td>11</td>\n",
       "      <td>tr|A0A024R1R8</td>\n",
       "    </tr>\n",
       "    <tr>\n",
       "      <th>36</th>\n",
       "      <td>read7/tr|A0A024R1R8|ENSP00000491117;mate1Start...</td>\n",
       "      <td>1.000</td>\n",
       "      <td>40.0</td>\n",
       "      <td>Coding</td>\n",
       "      <td>1</td>\n",
       "      <td>Homo_sapiens_9606_qfo_dna_01.fq.gz</td>\n",
       "      <td>protein</td>\n",
       "      <td>11</td>\n",
       "      <td>tr|A0A024R1R8</td>\n",
       "    </tr>\n",
       "    <tr>\n",
       "      <th>54</th>\n",
       "      <td>read10/tr|A0A024R1R8|ENSP00000491117;mate1Star...</td>\n",
       "      <td>0.975</td>\n",
       "      <td>40.0</td>\n",
       "      <td>Coding</td>\n",
       "      <td>1</td>\n",
       "      <td>Homo_sapiens_9606_qfo_dna_01.fq.gz</td>\n",
       "      <td>protein</td>\n",
       "      <td>11</td>\n",
       "      <td>tr|A0A024R1R8</td>\n",
       "    </tr>\n",
       "  </tbody>\n",
       "</table>\n",
       "</div>"
      ],
      "text/plain": [
       "                                              read_id  jaccard_in_peptide_db  \\\n",
       "0   read1/tr|A0A024R1R8|ENSP00000491117;mate1Start...                  1.000   \n",
       "6   read2/tr|A0A024R1R8|ENSP00000491117;mate1Start...                  0.975   \n",
       "30  read6/tr|A0A024R1R8|ENSP00000491117;mate1Start...                  1.000   \n",
       "36  read7/tr|A0A024R1R8|ENSP00000491117;mate1Start...                  1.000   \n",
       "54  read10/tr|A0A024R1R8|ENSP00000491117;mate1Star...                  0.975   \n",
       "\n",
       "    n_kmers category  translation_frame                            filename  \\\n",
       "0      40.0   Coding                  1  Homo_sapiens_9606_qfo_dna_01.fq.gz   \n",
       "6      40.0   Coding                  1  Homo_sapiens_9606_qfo_dna_01.fq.gz   \n",
       "30     40.0   Coding                  1  Homo_sapiens_9606_qfo_dna_01.fq.gz   \n",
       "36     40.0   Coding                  1  Homo_sapiens_9606_qfo_dna_01.fq.gz   \n",
       "54     40.0   Coding                  1  Homo_sapiens_9606_qfo_dna_01.fq.gz   \n",
       "\n",
       "   alphabet  ksize     uniprot_id  \n",
       "0   protein     11  tr|A0A024R1R8  \n",
       "6   protein     11  tr|A0A024R1R8  \n",
       "30  protein     11  tr|A0A024R1R8  \n",
       "36  protein     11  tr|A0A024R1R8  \n",
       "54  protein     11  tr|A0A024R1R8  "
      ]
     },
     "execution_count": 86,
     "metadata": {},
     "output_type": "execute_result"
    }
   ],
   "source": [
    "protein_k11_good_uniprot_ids_coding = protein_k11_good_uniprot_ids.query('category == \"Coding\"')\n",
    "print(protein_k11_good_uniprot_ids_coding.shape)\n",
    "protein_k11_good_uniprot_ids_coding.head()"
   ]
  },
  {
   "cell_type": "markdown",
   "metadata": {},
   "source": [
    "## Check ~60 reads with two translation frames"
   ]
  },
  {
   "cell_type": "code",
   "execution_count": 129,
   "metadata": {},
   "outputs": [
    {
     "name": "stdout",
     "output_type": "stream",
     "text": [
      "(522, 9)\n"
     ]
    },
    {
     "data": {
      "text/html": [
       "<div>\n",
       "<style scoped>\n",
       "    .dataframe tbody tr th:only-of-type {\n",
       "        vertical-align: middle;\n",
       "    }\n",
       "\n",
       "    .dataframe tbody tr th {\n",
       "        vertical-align: top;\n",
       "    }\n",
       "\n",
       "    .dataframe thead th {\n",
       "        text-align: right;\n",
       "    }\n",
       "</style>\n",
       "<table border=\"1\" class=\"dataframe\">\n",
       "  <thead>\n",
       "    <tr style=\"text-align: right;\">\n",
       "      <th></th>\n",
       "      <th>read_id</th>\n",
       "      <th>jaccard_in_peptide_db</th>\n",
       "      <th>n_kmers</th>\n",
       "      <th>category</th>\n",
       "      <th>translation_frame</th>\n",
       "      <th>filename</th>\n",
       "      <th>alphabet</th>\n",
       "      <th>ksize</th>\n",
       "      <th>uniprot_id</th>\n",
       "    </tr>\n",
       "  </thead>\n",
       "  <tbody>\n",
       "    <tr>\n",
       "      <th>291918</th>\n",
       "      <td>read48654/sp|A6NJU9|ENSP00000429734;mate1:1241...</td>\n",
       "      <td>1.0</td>\n",
       "      <td>40.0</td>\n",
       "      <td>Coding</td>\n",
       "      <td>1</td>\n",
       "      <td>Homo_sapiens_9606_qfo_dna_01.fq.gz</td>\n",
       "      <td>protein</td>\n",
       "      <td>11</td>\n",
       "      <td>sp|A6NJU9</td>\n",
       "    </tr>\n",
       "    <tr>\n",
       "      <th>291920</th>\n",
       "      <td>read48654/sp|A6NJU9|ENSP00000429734;mate1:1241...</td>\n",
       "      <td>1.0</td>\n",
       "      <td>39.0</td>\n",
       "      <td>Coding</td>\n",
       "      <td>3</td>\n",
       "      <td>Homo_sapiens_9606_qfo_dna_01.fq.gz</td>\n",
       "      <td>protein</td>\n",
       "      <td>11</td>\n",
       "      <td>sp|A6NJU9</td>\n",
       "    </tr>\n",
       "    <tr>\n",
       "      <th>291975</th>\n",
       "      <td>read48663/sp|A6NJU9|ENSP00000429734;mate1:2605...</td>\n",
       "      <td>1.0</td>\n",
       "      <td>40.0</td>\n",
       "      <td>Coding</td>\n",
       "      <td>-1</td>\n",
       "      <td>Homo_sapiens_9606_qfo_dna_01.fq.gz</td>\n",
       "      <td>protein</td>\n",
       "      <td>11</td>\n",
       "      <td>sp|A6NJU9</td>\n",
       "    </tr>\n",
       "    <tr>\n",
       "      <th>291977</th>\n",
       "      <td>read48663/sp|A6NJU9|ENSP00000429734;mate1:2605...</td>\n",
       "      <td>1.0</td>\n",
       "      <td>39.0</td>\n",
       "      <td>Coding</td>\n",
       "      <td>-3</td>\n",
       "      <td>Homo_sapiens_9606_qfo_dna_01.fq.gz</td>\n",
       "      <td>protein</td>\n",
       "      <td>11</td>\n",
       "      <td>sp|A6NJU9</td>\n",
       "    </tr>\n",
       "    <tr>\n",
       "      <th>292023</th>\n",
       "      <td>read48671/sp|A6NJU9|ENSP00000429734;mate1:1409...</td>\n",
       "      <td>1.0</td>\n",
       "      <td>40.0</td>\n",
       "      <td>Coding</td>\n",
       "      <td>-1</td>\n",
       "      <td>Homo_sapiens_9606_qfo_dna_01.fq.gz</td>\n",
       "      <td>protein</td>\n",
       "      <td>11</td>\n",
       "      <td>sp|A6NJU9</td>\n",
       "    </tr>\n",
       "  </tbody>\n",
       "</table>\n",
       "</div>"
      ],
      "text/plain": [
       "                                                  read_id  \\\n",
       "291918  read48654/sp|A6NJU9|ENSP00000429734;mate1:1241...   \n",
       "291920  read48654/sp|A6NJU9|ENSP00000429734;mate1:1241...   \n",
       "291975  read48663/sp|A6NJU9|ENSP00000429734;mate1:2605...   \n",
       "291977  read48663/sp|A6NJU9|ENSP00000429734;mate1:2605...   \n",
       "292023  read48671/sp|A6NJU9|ENSP00000429734;mate1:1409...   \n",
       "\n",
       "        jaccard_in_peptide_db  n_kmers category  translation_frame  \\\n",
       "291918                    1.0     40.0   Coding                  1   \n",
       "291920                    1.0     39.0   Coding                  3   \n",
       "291975                    1.0     40.0   Coding                 -1   \n",
       "291977                    1.0     39.0   Coding                 -3   \n",
       "292023                    1.0     40.0   Coding                 -1   \n",
       "\n",
       "                                  filename alphabet  ksize uniprot_id  \n",
       "291918  Homo_sapiens_9606_qfo_dna_01.fq.gz  protein     11  sp|A6NJU9  \n",
       "291920  Homo_sapiens_9606_qfo_dna_01.fq.gz  protein     11  sp|A6NJU9  \n",
       "291975  Homo_sapiens_9606_qfo_dna_01.fq.gz  protein     11  sp|A6NJU9  \n",
       "291977  Homo_sapiens_9606_qfo_dna_01.fq.gz  protein     11  sp|A6NJU9  \n",
       "292023  Homo_sapiens_9606_qfo_dna_01.fq.gz  protein     11  sp|A6NJU9  "
      ]
     },
     "execution_count": 129,
     "metadata": {},
     "output_type": "execute_result"
    }
   ],
   "source": [
    "protein_k11_good_uniprot_ids_coding_two_frames = protein_k11_good_uniprot_ids_coding.groupby('read_id').filter(lambda x: len(x) > 1)\n",
    "print(protein_k11_good_uniprot_ids_coding_two_frames.shape)\n",
    "protein_k11_good_uniprot_ids_coding_two_frames.head()"
   ]
  },
  {
   "cell_type": "code",
   "execution_count": 177,
   "metadata": {},
   "outputs": [
    {
     "data": {
      "text/plain": [
       "261"
      ]
     },
     "execution_count": 177,
     "metadata": {},
     "output_type": "execute_result"
    }
   ],
   "source": [
    "protein_k11_good_uniprot_ids_coding_two_frames.read_id.nunique()"
   ]
  },
  {
   "cell_type": "code",
   "execution_count": 180,
   "metadata": {},
   "outputs": [
    {
     "data": {
      "text/plain": [
       "261"
      ]
     },
     "execution_count": 180,
     "metadata": {},
     "output_type": "execute_result"
    }
   ],
   "source": [
    "protein_k11_good_uniprot_ids_coding_two_frames.groupby('read_id').filter(lambda x: len(x) == 2).read_id.nunique()"
   ]
  },
  {
   "cell_type": "markdown",
   "metadata": {},
   "source": [
    "### Get some random translation frames"
   ]
  },
  {
   "cell_type": "code",
   "execution_count": 187,
   "metadata": {},
   "outputs": [],
   "source": [
    "import random"
   ]
  },
  {
   "cell_type": "code",
   "execution_count": 190,
   "metadata": {},
   "outputs": [
    {
     "data": {
      "text/html": [
       "<div>\n",
       "<style scoped>\n",
       "    .dataframe tbody tr th:only-of-type {\n",
       "        vertical-align: middle;\n",
       "    }\n",
       "\n",
       "    .dataframe tbody tr th {\n",
       "        vertical-align: top;\n",
       "    }\n",
       "\n",
       "    .dataframe thead th {\n",
       "        text-align: right;\n",
       "    }\n",
       "</style>\n",
       "<table border=\"1\" class=\"dataframe\">\n",
       "  <thead>\n",
       "    <tr style=\"text-align: right;\">\n",
       "      <th></th>\n",
       "      <th>read_id</th>\n",
       "      <th>jaccard_in_peptide_db</th>\n",
       "      <th>n_kmers</th>\n",
       "      <th>category</th>\n",
       "      <th>translation_frame</th>\n",
       "      <th>filename</th>\n",
       "      <th>alphabet</th>\n",
       "      <th>ksize</th>\n",
       "      <th>uniprot_id</th>\n",
       "    </tr>\n",
       "  </thead>\n",
       "  <tbody>\n",
       "    <tr>\n",
       "      <th>2774880</th>\n",
       "      <td>read462481/sp|Q58A44|BAD93185;mate1:22-171;mat...</td>\n",
       "      <td>1.0</td>\n",
       "      <td>40.0</td>\n",
       "      <td>Coding</td>\n",
       "      <td>1</td>\n",
       "      <td>Homo_sapiens_9606_qfo_dna_01.fq.gz</td>\n",
       "      <td>protein</td>\n",
       "      <td>11</td>\n",
       "      <td>sp|Q58A44</td>\n",
       "    </tr>\n",
       "    <tr>\n",
       "      <th>2774884</th>\n",
       "      <td>read462481/sp|Q58A44|BAD93185;mate1:22-171;mat...</td>\n",
       "      <td>1.0</td>\n",
       "      <td>39.0</td>\n",
       "      <td>Coding</td>\n",
       "      <td>-2</td>\n",
       "      <td>Homo_sapiens_9606_qfo_dna_01.fq.gz</td>\n",
       "      <td>protein</td>\n",
       "      <td>11</td>\n",
       "      <td>sp|Q58A44</td>\n",
       "    </tr>\n",
       "    <tr>\n",
       "      <th>3243548</th>\n",
       "      <td>read540592/tr|Q6YL49|ENSP00000483175;mate1:182...</td>\n",
       "      <td>1.0</td>\n",
       "      <td>39.0</td>\n",
       "      <td>Coding</td>\n",
       "      <td>3</td>\n",
       "      <td>Homo_sapiens_9606_qfo_dna_01.fq.gz</td>\n",
       "      <td>protein</td>\n",
       "      <td>11</td>\n",
       "      <td>tr|Q6YL49</td>\n",
       "    </tr>\n",
       "    <tr>\n",
       "      <th>3243549</th>\n",
       "      <td>read540592/tr|Q6YL49|ENSP00000483175;mate1:182...</td>\n",
       "      <td>1.0</td>\n",
       "      <td>40.0</td>\n",
       "      <td>Coding</td>\n",
       "      <td>-1</td>\n",
       "      <td>Homo_sapiens_9606_qfo_dna_01.fq.gz</td>\n",
       "      <td>protein</td>\n",
       "      <td>11</td>\n",
       "      <td>tr|Q6YL49</td>\n",
       "    </tr>\n",
       "    <tr>\n",
       "      <th>3699626</th>\n",
       "      <td>read616605/sp|Q8IZM0|AAN65378;mate1:8-157;mate...</td>\n",
       "      <td>1.0</td>\n",
       "      <td>39.0</td>\n",
       "      <td>Coding</td>\n",
       "      <td>3</td>\n",
       "      <td>Homo_sapiens_9606_qfo_dna_01.fq.gz</td>\n",
       "      <td>protein</td>\n",
       "      <td>11</td>\n",
       "      <td>sp|Q8IZM0</td>\n",
       "    </tr>\n",
       "    <tr>\n",
       "      <th>3699629</th>\n",
       "      <td>read616605/sp|Q8IZM0|AAN65378;mate1:8-157;mate...</td>\n",
       "      <td>1.0</td>\n",
       "      <td>39.0</td>\n",
       "      <td>Coding</td>\n",
       "      <td>-3</td>\n",
       "      <td>Homo_sapiens_9606_qfo_dna_01.fq.gz</td>\n",
       "      <td>protein</td>\n",
       "      <td>11</td>\n",
       "      <td>sp|Q8IZM0</td>\n",
       "    </tr>\n",
       "    <tr>\n",
       "      <th>4297615</th>\n",
       "      <td>read716270/sp|Q902F9|AAL18258;mate1:116-265;ma...</td>\n",
       "      <td>1.0</td>\n",
       "      <td>39.0</td>\n",
       "      <td>Coding</td>\n",
       "      <td>2</td>\n",
       "      <td>Homo_sapiens_9606_qfo_dna_01.fq.gz</td>\n",
       "      <td>protein</td>\n",
       "      <td>11</td>\n",
       "      <td>sp|Q902F9</td>\n",
       "    </tr>\n",
       "    <tr>\n",
       "      <th>4297616</th>\n",
       "      <td>read716270/sp|Q902F9|AAL18258;mate1:116-265;ma...</td>\n",
       "      <td>1.0</td>\n",
       "      <td>39.0</td>\n",
       "      <td>Coding</td>\n",
       "      <td>3</td>\n",
       "      <td>Homo_sapiens_9606_qfo_dna_01.fq.gz</td>\n",
       "      <td>protein</td>\n",
       "      <td>11</td>\n",
       "      <td>sp|Q902F9</td>\n",
       "    </tr>\n",
       "  </tbody>\n",
       "</table>\n",
       "</div>"
      ],
      "text/plain": [
       "                                                   read_id  \\\n",
       "2774880  read462481/sp|Q58A44|BAD93185;mate1:22-171;mat...   \n",
       "2774884  read462481/sp|Q58A44|BAD93185;mate1:22-171;mat...   \n",
       "3243548  read540592/tr|Q6YL49|ENSP00000483175;mate1:182...   \n",
       "3243549  read540592/tr|Q6YL49|ENSP00000483175;mate1:182...   \n",
       "3699626  read616605/sp|Q8IZM0|AAN65378;mate1:8-157;mate...   \n",
       "3699629  read616605/sp|Q8IZM0|AAN65378;mate1:8-157;mate...   \n",
       "4297615  read716270/sp|Q902F9|AAL18258;mate1:116-265;ma...   \n",
       "4297616  read716270/sp|Q902F9|AAL18258;mate1:116-265;ma...   \n",
       "\n",
       "         jaccard_in_peptide_db  n_kmers category  translation_frame  \\\n",
       "2774880                    1.0     40.0   Coding                  1   \n",
       "2774884                    1.0     39.0   Coding                 -2   \n",
       "3243548                    1.0     39.0   Coding                  3   \n",
       "3243549                    1.0     40.0   Coding                 -1   \n",
       "3699626                    1.0     39.0   Coding                  3   \n",
       "3699629                    1.0     39.0   Coding                 -3   \n",
       "4297615                    1.0     39.0   Coding                  2   \n",
       "4297616                    1.0     39.0   Coding                  3   \n",
       "\n",
       "                                   filename alphabet  ksize uniprot_id  \n",
       "2774880  Homo_sapiens_9606_qfo_dna_01.fq.gz  protein     11  sp|Q58A44  \n",
       "2774884  Homo_sapiens_9606_qfo_dna_01.fq.gz  protein     11  sp|Q58A44  \n",
       "3243548  Homo_sapiens_9606_qfo_dna_01.fq.gz  protein     11  tr|Q6YL49  \n",
       "3243549  Homo_sapiens_9606_qfo_dna_01.fq.gz  protein     11  tr|Q6YL49  \n",
       "3699626  Homo_sapiens_9606_qfo_dna_01.fq.gz  protein     11  sp|Q8IZM0  \n",
       "3699629  Homo_sapiens_9606_qfo_dna_01.fq.gz  protein     11  sp|Q8IZM0  \n",
       "4297615  Homo_sapiens_9606_qfo_dna_01.fq.gz  protein     11  sp|Q902F9  \n",
       "4297616  Homo_sapiens_9606_qfo_dna_01.fq.gz  protein     11  sp|Q902F9  "
      ]
     },
     "execution_count": 190,
     "metadata": {},
     "output_type": "execute_result"
    }
   ],
   "source": [
    "random_translation_frames = protein_k11_good_uniprot_ids_coding_two_frames.groupby('read_id').filter(lambda x: random.random() < 0.01)\n",
    "random_translation_frames"
   ]
  },
  {
   "cell_type": "code",
   "execution_count": 192,
   "metadata": {},
   "outputs": [
    {
     "data": {
      "text/plain": [
       "array(['read462481/sp|Q58A44|BAD93185;mate1:22-171;mate2:88-237',\n",
       "       'read540592/tr|Q6YL49|ENSP00000483175;mate1:182-331;mate2:249-398',\n",
       "       'read616605/sp|Q8IZM0|AAN65378;mate1:8-157;mate2:92-241',\n",
       "       'read716270/sp|Q902F9|AAL18258;mate1:116-265;mate2:240-389'],\n",
       "      dtype=object)"
      ]
     },
     "execution_count": 192,
     "metadata": {},
     "output_type": "execute_result"
    }
   ],
   "source": [
    "random_translation_frames.read_id.unique()"
   ]
  },
  {
   "cell_type": "code",
   "execution_count": 196,
   "metadata": {},
   "outputs": [
    {
     "name": "stdout",
     "output_type": "stream",
     "text": [
      "@read716270/sp|Q902F9|AAL18258;mate1:116-265;mate2:240-389\n",
      "TGCCATCCACCAAGAAGGCAGAGCCGCCGACTTGGGCACAACTAAAGAAGCTGACGCAGTTAGCTACAAAATATCTAGAGAACACAAAGGTGACACAAACCCCAGAGAGTATGCTGCTTGCAGCCTTGATGATTGTATCAATGGTGGTAA\n",
      "+\n",
      "IIIIIIIIIIIIIIIIIIIIIIIIIIIIIIIIIIIIIIIIIIIIIIIIIIIIIIIIIIIIIIIIIIIIIIIIIIIIIIIIIIIIIIIIIIIIIIIIIIIIIIIIIIIIIIIIIIIIIIIIIIIIIIIIIIIIIIIIIIIIIIIIIIIIII\n",
      "@read716271/sp|Q902F9|AAL18258;mate1:975-1124;mate2:1042-1191\n"
     ]
    }
   ],
   "source": [
    "! zgrep -A 4 'read716270/sp|Q902F9|AAL18258;mate1:116-265;mate2:240-389' $reads_dir/*"
   ]
  },
  {
   "cell_type": "markdown",
   "metadata": {},
   "source": [
    "## Check negative translation frames"
   ]
  },
  {
   "cell_type": "code",
   "execution_count": 130,
   "metadata": {},
   "outputs": [
    {
     "data": {
      "text/plain": [
       "array(['read51/sp|A0A024RBG1|ENSP00000492425;mate1:130-279;mate2:281-430',\n",
       "       'read53/sp|A0A024RBG1|ENSP00000492425;mate1:158-307;mate2:252-401',\n",
       "       'read55/sp|A0A024RBG1|ENSP00000492425;mate1:183-332;mate2:307-456',\n",
       "       ..., 'read1014994/sp|W6CW81|AHI87498;mate1:64-213;mate2:154-303',\n",
       "       'read1014995/sp|W6CW81|AHI87498;mate1:65-214;mate2:155-304',\n",
       "       'read1014997/sp|W6CW81|AHI87498;mate1:46-195;mate2:187-336'],\n",
       "      dtype=object)"
      ]
     },
     "execution_count": 130,
     "metadata": {},
     "output_type": "execute_result"
    }
   ],
   "source": [
    "protein_k11_good_uniprot_ids_coding.query('translation_frame < 0').read_id.values"
   ]
  },
  {
   "cell_type": "code",
   "execution_count": 94,
   "metadata": {},
   "outputs": [
    {
     "name": "stdout",
     "output_type": "stream",
     "text": [
      "@read51/sp|A0A024RBG1|ENSP00000492425;mate1:130-279;mate2:281-430\n",
      "GCTTTTCCAGATACTCTGCATGTACAGGTTTATGACACTGGAGAACTTTGATAGCATCTTCTACTTTGAACCACTCTCTCTTCCTTCCAATATTAACAGAATCTTCCCAATCTTCTAATATTTCAGTGACTGTTAGAACATAAACATATG\n",
      "+\n",
      "IIIIIIIIIIIIIIIIIIIIIIIIIIIIIIIIIIIIIIIIIIIIIIIIIIIIIIIIIIIIIIIIIIIIIIIIIIIIIIIIIIIIIIIIIIIIIIIIIIIIIIIIIIIIIIIIIIIIIIIIIIIIIIIIIIIIIIIIIIIIIIIIIIIIII\n",
      "@read52/sp|A0A024RBG1|ENSP00000492425;mate1:125-274;mate2:193-342\n",
      "ACCCAGACCAGTGGATTGTCCCAGGAGGAGGAATGGAACCCGAGGAGGAACCTGGCGGTGCTGCCGTGAGGGAAGTTTATGAGGAGGCTGGAGTCAAAGGAAAACTAGGCAGACTTCTGGGCATATTTGAGCAGAACCAAGACCGAAAGC\n",
      "+\n",
      "IIIIIIIIIIIIIIIIIIIIIIIIIIIIIIIIIIIIIIIIIIIIIIIIIIIIIIIIIIIIIIIIIIIIIIIIIIIIIIIIIIIIIIIIIIIIIIIIIIIIIIIIIIIIIIIIIIIIIIIIIIIIIIIIIIIIIIIIIIIIIIIIIIIIII\n",
      "@read53/sp|A0A024RBG1|ENSP00000492425;mate1:158-307;mate2:252-401\n",
      "TTATGACACTGGAGAACTTTGATAGCATCTTCTACTTTGAACCACTCTCTCTTCCTTCCAATATTAACAGAATCTTCCCAATCTTCTAATATTTCAGTGACTGTTAGAACATAAACATATGTTCTGTGCTTTCGGTCTTGGTTCTGCTCA\n",
      "+\n"
     ]
    }
   ],
   "source": [
    "! zgrep -A 10 'read51/' $reads_dir/*"
   ]
  },
  {
   "cell_type": "code",
   "execution_count": 89,
   "metadata": {},
   "outputs": [
    {
     "data": {
      "text/plain": [
       "array(['read137138/sp|O75969|ENSP00000440994;mate1:1145-1294;mate2:1203-1352',\n",
       "       'read350491/sp|P78562|ENSP00000368682;mate1:501-650;mate2:588-737',\n",
       "       'read879877/sp|Q9HB55|ENSP00000416581;mate1:535-684;mate2:665-814',\n",
       "       'read397871/sp|Q13797|ENSP00000264741;mate1:1515-1664;mate2:1666-1815',\n",
       "       'read647021/sp|Q8N9R8|ENSP00000362650;mate1:1261-1410;mate2:1337-1486',\n",
       "       'read562225/sp|Q7RTP6|ENSP00000462033;mate1:450-599;mate2:544-693',\n",
       "       'read78351/sp|O14493|ENSP00000409544;mate1:266-415;mate2:385-534',\n",
       "       'read409940/sp|Q14761|ENSP00000325589;mate1:157-306;mate2:276-425',\n",
       "       'read610788/sp|Q8IYA8|ENSP00000407837;mate1:494-643;mate2:602-751',\n",
       "       'read310027/sp|P51648|ENSP00000500092;mate1:163-312;mate2:274-423'],\n",
       "      dtype=object)"
      ]
     },
     "execution_count": 89,
     "metadata": {},
     "output_type": "execute_result"
    }
   ],
   "source": [
    "protein_k11_good_uniprot_ids_coding.query('translation_frame < 0').read_id.sample(10).values"
   ]
  },
  {
   "cell_type": "code",
   "execution_count": 91,
   "metadata": {},
   "outputs": [
    {
     "name": "stdout",
     "output_type": "stream",
     "text": [
      "@read137138/sp|O75969|ENSP00000440994;mate1:1145-1294;mate2:1203-1352\n",
      "TCACCCAGAGTTTTCGCACAAGTCTCCTCCTCTGATTTGGGTTCAGAATACATTTTTTCTCTCAATTTAGTTTCAGATTTCATGGCAAAGTTCACATTTCGGTTTTTAGGATCACCCATTCCTTTCATGGAGATGAGGGAATAACTCTCA\n",
      "+\n",
      "IIIIIIIIIIIIIIIIIIIIIIIIIIIIIIIIIIIIIIIIIIIIIIIIIIIIIIIIIIIIIIIIIIIIIIIIIIIIIIIIIIIIIIIIIIIIIIIIIIIIIIIIIIIIIIIIIIIIIIIIIIIIIIIIIIIIIIIIIIIIIIIIIIIIII\n",
      "@read137139/sp|O75969|ENSP00000440994;mate1:160-309;mate2:238-387\n"
     ]
    }
   ],
   "source": [
    "! zgrep -A 4 'read137138/sp|O75969|ENSP00000440994;mate1:1145-1294;mate2:1203-1352' $reads_dir/*"
   ]
  },
  {
   "cell_type": "code",
   "execution_count": 79,
   "metadata": {},
   "outputs": [
    {
     "name": "stdout",
     "output_type": "stream",
     "text": [
      "total 37M\n",
      "drwxr-xr-x 2 olga czb 4.0K Aug 27 08:44 \u001b[0m\u001b[01;34m.\u001b[0m/\n",
      "drwxr-xr-x 3 olga czb 4.0K Aug 27 08:38 \u001b[01;34m..\u001b[0m/\n",
      "-rw-r--r-- 1 olga czb  37M Aug 27 08:44 \u001b[01;31mHomo_sapiens_9606_qfo_dna_01.fq.gz\u001b[0m\n"
     ]
    }
   ],
   "source": [
    "ls -lha $reads_dir"
   ]
  },
  {
   "cell_type": "markdown",
   "metadata": {},
   "source": [
    "### How many reads are there?"
   ]
  },
  {
   "cell_type": "code",
   "execution_count": 199,
   "metadata": {},
   "outputs": [
    {
     "name": "stdout",
     "output_type": "stream",
     "text": [
      "1015001\n"
     ]
    }
   ],
   "source": [
    "! zgrep -c '@read' $reads_dir/*"
   ]
  },
  {
   "cell_type": "markdown",
   "metadata": {},
   "source": [
    "## Get read IDs of reads that don't have an `N`"
   ]
  },
  {
   "cell_type": "code",
   "execution_count": 84,
   "metadata": {},
   "outputs": [
    {
     "name": "stdout",
     "output_type": "stream",
     "text": [
      "838259\n"
     ]
    },
    {
     "data": {
      "text/plain": [
       "['read1/tr|A0A024R1R8|ENSP00000491117;mate1Start:1;mate2Start:1',\n",
       " 'read2/tr|A0A024R1R8|ENSP00000491117;mate1Start:1;mate2Start:1',\n",
       " 'read4/tr|A0A024R1R8|ENSP00000491117;mate1Start:1;mate2Start:1']"
      ]
     },
     "execution_count": 84,
     "metadata": {},
     "output_type": "execute_result"
    }
   ],
   "source": [
    "fastq = f'{reads_dir}/Homo_sapiens_9606_qfo_dna_01.fq.gz'\n",
    "\n",
    "read_ids_without_n = []\n",
    "with screed.open(fastq) as records:\n",
    "    for record in records:\n",
    "        if \"N\" not in record['sequence']:\n",
    "            read_ids_without_n.append(record['name'])\n",
    "print(len(read_ids_without_n))\n",
    "read_ids_without_n[:3]"
   ]
  },
  {
   "cell_type": "code",
   "execution_count": 97,
   "metadata": {},
   "outputs": [
    {
     "name": "stdout",
     "output_type": "stream",
     "text": [
      "(4898100, 9)\n"
     ]
    },
    {
     "data": {
      "text/html": [
       "<div>\n",
       "<style scoped>\n",
       "    .dataframe tbody tr th:only-of-type {\n",
       "        vertical-align: middle;\n",
       "    }\n",
       "\n",
       "    .dataframe tbody tr th {\n",
       "        vertical-align: top;\n",
       "    }\n",
       "\n",
       "    .dataframe thead th {\n",
       "        text-align: right;\n",
       "    }\n",
       "</style>\n",
       "<table border=\"1\" class=\"dataframe\">\n",
       "  <thead>\n",
       "    <tr style=\"text-align: right;\">\n",
       "      <th></th>\n",
       "      <th>read_id</th>\n",
       "      <th>jaccard_in_peptide_db</th>\n",
       "      <th>n_kmers</th>\n",
       "      <th>category</th>\n",
       "      <th>translation_frame</th>\n",
       "      <th>filename</th>\n",
       "      <th>alphabet</th>\n",
       "      <th>ksize</th>\n",
       "      <th>uniprot_id</th>\n",
       "    </tr>\n",
       "  </thead>\n",
       "  <tbody>\n",
       "    <tr>\n",
       "      <th>0</th>\n",
       "      <td>read1/tr|A0A024R1R8|ENSP00000491117;mate1Start...</td>\n",
       "      <td>1.0</td>\n",
       "      <td>40.0</td>\n",
       "      <td>Coding</td>\n",
       "      <td>1</td>\n",
       "      <td>Homo_sapiens_9606_qfo_dna_01.fq.gz</td>\n",
       "      <td>protein</td>\n",
       "      <td>11</td>\n",
       "      <td>tr|A0A024R1R8</td>\n",
       "    </tr>\n",
       "    <tr>\n",
       "      <th>1</th>\n",
       "      <td>read1/tr|A0A024R1R8|ENSP00000491117;mate1Start...</td>\n",
       "      <td>NaN</td>\n",
       "      <td>NaN</td>\n",
       "      <td>Translation frame has stop codon(s)</td>\n",
       "      <td>2</td>\n",
       "      <td>Homo_sapiens_9606_qfo_dna_01.fq.gz</td>\n",
       "      <td>protein</td>\n",
       "      <td>11</td>\n",
       "      <td>tr|A0A024R1R8</td>\n",
       "    </tr>\n",
       "    <tr>\n",
       "      <th>2</th>\n",
       "      <td>read1/tr|A0A024R1R8|ENSP00000491117;mate1Start...</td>\n",
       "      <td>0.0</td>\n",
       "      <td>39.0</td>\n",
       "      <td>Non-coding</td>\n",
       "      <td>3</td>\n",
       "      <td>Homo_sapiens_9606_qfo_dna_01.fq.gz</td>\n",
       "      <td>protein</td>\n",
       "      <td>11</td>\n",
       "      <td>tr|A0A024R1R8</td>\n",
       "    </tr>\n",
       "    <tr>\n",
       "      <th>3</th>\n",
       "      <td>read1/tr|A0A024R1R8|ENSP00000491117;mate1Start...</td>\n",
       "      <td>NaN</td>\n",
       "      <td>NaN</td>\n",
       "      <td>Translation frame has stop codon(s)</td>\n",
       "      <td>-1</td>\n",
       "      <td>Homo_sapiens_9606_qfo_dna_01.fq.gz</td>\n",
       "      <td>protein</td>\n",
       "      <td>11</td>\n",
       "      <td>tr|A0A024R1R8</td>\n",
       "    </tr>\n",
       "    <tr>\n",
       "      <th>4</th>\n",
       "      <td>read1/tr|A0A024R1R8|ENSP00000491117;mate1Start...</td>\n",
       "      <td>0.0</td>\n",
       "      <td>39.0</td>\n",
       "      <td>Non-coding</td>\n",
       "      <td>-2</td>\n",
       "      <td>Homo_sapiens_9606_qfo_dna_01.fq.gz</td>\n",
       "      <td>protein</td>\n",
       "      <td>11</td>\n",
       "      <td>tr|A0A024R1R8</td>\n",
       "    </tr>\n",
       "  </tbody>\n",
       "</table>\n",
       "</div>"
      ],
      "text/plain": [
       "                                             read_id  jaccard_in_peptide_db  \\\n",
       "0  read1/tr|A0A024R1R8|ENSP00000491117;mate1Start...                    1.0   \n",
       "1  read1/tr|A0A024R1R8|ENSP00000491117;mate1Start...                    NaN   \n",
       "2  read1/tr|A0A024R1R8|ENSP00000491117;mate1Start...                    0.0   \n",
       "3  read1/tr|A0A024R1R8|ENSP00000491117;mate1Start...                    NaN   \n",
       "4  read1/tr|A0A024R1R8|ENSP00000491117;mate1Start...                    0.0   \n",
       "\n",
       "   n_kmers                             category  translation_frame  \\\n",
       "0     40.0                               Coding                  1   \n",
       "1      NaN  Translation frame has stop codon(s)                  2   \n",
       "2     39.0                           Non-coding                  3   \n",
       "3      NaN  Translation frame has stop codon(s)                 -1   \n",
       "4     39.0                           Non-coding                 -2   \n",
       "\n",
       "                             filename alphabet  ksize     uniprot_id  \n",
       "0  Homo_sapiens_9606_qfo_dna_01.fq.gz  protein     11  tr|A0A024R1R8  \n",
       "1  Homo_sapiens_9606_qfo_dna_01.fq.gz  protein     11  tr|A0A024R1R8  \n",
       "2  Homo_sapiens_9606_qfo_dna_01.fq.gz  protein     11  tr|A0A024R1R8  \n",
       "3  Homo_sapiens_9606_qfo_dna_01.fq.gz  protein     11  tr|A0A024R1R8  \n",
       "4  Homo_sapiens_9606_qfo_dna_01.fq.gz  protein     11  tr|A0A024R1R8  "
      ]
     },
     "execution_count": 97,
     "metadata": {},
     "output_type": "execute_result"
    }
   ],
   "source": [
    "protein_k11_good_uniprot_ids_no_ns = protein_k11_good_uniprot_ids.query('read_id in @read_ids_without_n')\n",
    "print(protein_k11_good_uniprot_ids_no_ns.shape)\n",
    "protein_k11_good_uniprot_ids_no_ns.head()"
   ]
  },
  {
   "cell_type": "markdown",
   "metadata": {},
   "source": [
    "## Get whether or not is coding for each read that doesn't have an N"
   ]
  },
  {
   "cell_type": "code",
   "execution_count": 96,
   "metadata": {},
   "outputs": [
    {
     "name": "stderr",
     "output_type": "stream",
     "text": [
      "ERROR:root:Internal Python error in the inspect module.\n",
      "Below is the traceback from this internal error.\n",
      "\n"
     ]
    },
    {
     "name": "stdout",
     "output_type": "stream",
     "text": [
      "Traceback (most recent call last):\n",
      "  File \"/home/olga/miniconda3/lib/python3.6/site-packages/IPython/core/interactiveshell.py\", line 2963, in run_code\n",
      "    exec(code_obj, self.user_global_ns, self.user_ns)\n",
      "  File \"<ipython-input-96-efdd63fcf14b>\", line 1, in <module>\n",
      "    protein_k11_good_uniprot_ids_coding_no_ns_is_coding = protein_k11_good_uniprot_ids_coding_no_ns.groupby('read_id').apply(lambda x: (x.category == 'Coding').any())\n",
      "  File \"/home/olga/miniconda3/lib/python3.6/site-packages/pandas/core/groupby/groupby.py\", line 918, in apply\n",
      "    result = self._python_apply_general(f)\n",
      "  File \"/home/olga/miniconda3/lib/python3.6/site-packages/pandas/core/groupby/groupby.py\", line 936, in _python_apply_general\n",
      "    self.axis)\n",
      "  File \"/home/olga/miniconda3/lib/python3.6/site-packages/pandas/core/groupby/groupby.py\", line 2257, in apply\n",
      "    values, mutated = splitter.fast_apply(f, group_keys)\n",
      "  File \"/home/olga/miniconda3/lib/python3.6/site-packages/pandas/core/groupby/groupby.py\", line 5088, in fast_apply\n",
      "    starts, ends)\n",
      "  File \"pandas/_libs/reduction.pyx\", line 532, in pandas._libs.reduction.apply_frame_axis0\n",
      "  File \"<ipython-input-96-efdd63fcf14b>\", line 1, in <lambda>\n",
      "    protein_k11_good_uniprot_ids_coding_no_ns_is_coding = protein_k11_good_uniprot_ids_coding_no_ns.groupby('read_id').apply(lambda x: (x.category == 'Coding').any())\n",
      "  File \"/home/olga/miniconda3/lib/python3.6/site-packages/pandas/core/ops.py\", line 1291, in wrapper\n",
      "    name=res_name, dtype='bool')\n",
      "  File \"/home/olga/miniconda3/lib/python3.6/site-packages/pandas/core/series.py\", line 279, in __init__\n",
      "    generic.NDFrame.__init__(self, data, fastpath=True)\n",
      "  File \"/home/olga/miniconda3/lib/python3.6/site-packages/pandas/core/generic.py\", line 124, in __init__\n",
      "    def __init__(self, data, axes=None, copy=False, dtype=None,\n",
      "KeyboardInterrupt\n",
      "\n",
      "During handling of the above exception, another exception occurred:\n",
      "\n",
      "Traceback (most recent call last):\n",
      "  File \"/home/olga/miniconda3/lib/python3.6/site-packages/IPython/core/interactiveshell.py\", line 1863, in showtraceback\n",
      "    stb = value._render_traceback_()\n",
      "AttributeError: 'KeyboardInterrupt' object has no attribute '_render_traceback_'\n",
      "\n",
      "During handling of the above exception, another exception occurred:\n",
      "\n",
      "Traceback (most recent call last):\n",
      "  File \"/home/olga/miniconda3/lib/python3.6/site-packages/IPython/core/ultratb.py\", line 1095, in get_records\n",
      "    return _fixed_getinnerframes(etb, number_of_lines_of_context, tb_offset)\n",
      "  File \"/home/olga/miniconda3/lib/python3.6/site-packages/IPython/core/ultratb.py\", line 311, in wrapped\n",
      "    return f(*args, **kwargs)\n",
      "  File \"/home/olga/miniconda3/lib/python3.6/site-packages/IPython/core/ultratb.py\", line 345, in _fixed_getinnerframes\n",
      "    records = fix_frame_records_filenames(inspect.getinnerframes(etb, context))\n",
      "  File \"/home/olga/miniconda3/lib/python3.6/inspect.py\", line 1490, in getinnerframes\n",
      "    frameinfo = (tb.tb_frame,) + getframeinfo(tb, context)\n",
      "  File \"/home/olga/miniconda3/lib/python3.6/inspect.py\", line 1448, in getframeinfo\n",
      "    filename = getsourcefile(frame) or getfile(frame)\n",
      "  File \"/home/olga/miniconda3/lib/python3.6/inspect.py\", line 693, in getsourcefile\n",
      "    if os.path.exists(filename):\n",
      "  File \"/home/olga/miniconda3/lib/python3.6/genericpath.py\", line 19, in exists\n",
      "    os.stat(path)\n",
      "KeyboardInterrupt\n"
     ]
    },
    {
     "ename": "KeyboardInterrupt",
     "evalue": "",
     "output_type": "error",
     "traceback": [
      "\u001b[0;31m---------------------------------------------------------------------------\u001b[0m"
     ]
    }
   ],
   "source": [
    "protein_k11_good_uniprot_ids_coding_no_ns_is_coding = protein_k11_good_uniprot_ids_coding_no_ns.groupby('read_id').apply(\n",
    "    lambda x: (x.category == 'Coding').any())\n",
    "print(protein_k11_good_uniprot_ids_coding_no_ns_is_coding.shape)\n",
    "protein_k11_good_uniprot_ids_coding_no_ns_is_coding.head()"
   ]
  },
  {
   "cell_type": "markdown",
   "metadata": {},
   "source": [
    "# Infer reading frame from read start -- assume all reads start with ATG"
   ]
  },
  {
   "cell_type": "code",
   "execution_count": 98,
   "metadata": {},
   "outputs": [],
   "source": [
    "import re"
   ]
  },
  {
   "cell_type": "code",
   "execution_count": 114,
   "metadata": {},
   "outputs": [
    {
     "data": {
      "text/plain": [
       "[('501', '650')]"
      ]
     },
     "execution_count": 114,
     "metadata": {},
     "output_type": "execute_result"
    }
   ],
   "source": [
    "mate1_start_pattern = 'mate1:(?P<mate1_start>\\d+)-(\\d+)'\n",
    "\n",
    "re.findall(mate1_start_pattern, 'read350491/sp|P78562|ENSP00000368682;mate1:501-650;mate2:588-737')"
   ]
  },
  {
   "cell_type": "code",
   "execution_count": 115,
   "metadata": {},
   "outputs": [
    {
     "name": "stdout",
     "output_type": "stream",
     "text": [
      "@read51/sp|A0A024RBG1|ENSP00000492425;mate1:130-279;mate2:281-430\n",
      "GCTTTTCCAGATACTCTGCATGTACAGGTTTATGACACTGGAGAACTTTGATAGCATCTTCTACTTTGAACCACTCTCTCTTCCTTCCAATATTAACAGAATCTTCCCAATCTTCTAATATTTCAGTGACTGTTAGAACATAAACATATG\n",
      "+\n",
      "IIIIIIIIIIIIIIIIIIIIIIIIIIIIIIIIIIIIIIIIIIIIIIIIIIIIIIIIIIIIIIIIIIIIIIIIIIIIIIIIIIIIIIIIIIIIIIIIIIIIIIIIIIIIIIIIIIIIIIIIIIIIIIIIIIIIIIIIIIIIIIIIIIIIII\n",
      "@read52/sp|A0A024RBG1|ENSP00000492425;mate1:125-274;mate2:193-342\n",
      "ACCCAGACCAGTGGATTGTCCCAGGAGGAGGAATGGAACCCGAGGAGGAACCTGGCGGTGCTGCCGTGAGGGAAGTTTATGAGGAGGCTGGAGTCAAAGGAAAACTAGGCAGACTTCTGGGCATATTTGAGCAGAACCAAGACCGAAAGC\n",
      "+\n",
      "IIIIIIIIIIIIIIIIIIIIIIIIIIIIIIIIIIIIIIIIIIIIIIIIIIIIIIIIIIIIIIIIIIIIIIIIIIIIIIIIIIIIIIIIIIIIIIIIIIIIIIIIIIIIIIIIIIIIIIIIIIIIIIIIIIIIIIIIIIIIIIIIIIIIII\n",
      "@read53/sp|A0A024RBG1|ENSP00000492425;mate1:158-307;mate2:252-401\n",
      "TTATGACACTGGAGAACTTTGATAGCATCTTCTACTTTGAACCACTCTCTCTTCCTTCCAATATTAACAGAATCTTCCCAATCTTCTAATATTTCAGTGACTGTTAGAACATAAACATATGTTCTGTGCTTTCGGTCTTGGTTCTGCTCA\n",
      "+\n"
     ]
    }
   ],
   "source": [
    "! zgrep -A 10 'read51/' $reads_dir/*"
   ]
  },
  {
   "cell_type": "code",
   "execution_count": 118,
   "metadata": {},
   "outputs": [
    {
     "data": {
      "text/html": [
       "<div>\n",
       "<style scoped>\n",
       "    .dataframe tbody tr th:only-of-type {\n",
       "        vertical-align: middle;\n",
       "    }\n",
       "\n",
       "    .dataframe tbody tr th {\n",
       "        vertical-align: top;\n",
       "    }\n",
       "\n",
       "    .dataframe thead th {\n",
       "        text-align: right;\n",
       "    }\n",
       "</style>\n",
       "<table border=\"1\" class=\"dataframe\">\n",
       "  <thead>\n",
       "    <tr style=\"text-align: right;\">\n",
       "      <th></th>\n",
       "      <th>read_id</th>\n",
       "      <th>jaccard_in_peptide_db</th>\n",
       "      <th>n_kmers</th>\n",
       "      <th>category</th>\n",
       "      <th>translation_frame</th>\n",
       "      <th>filename</th>\n",
       "      <th>alphabet</th>\n",
       "      <th>ksize</th>\n",
       "      <th>uniprot_id</th>\n",
       "    </tr>\n",
       "  </thead>\n",
       "  <tbody>\n",
       "    <tr>\n",
       "      <th>300</th>\n",
       "      <td>read51/sp|A0A024RBG1|ENSP00000492425;mate1:130...</td>\n",
       "      <td>NaN</td>\n",
       "      <td>NaN</td>\n",
       "      <td>Translation frame has stop codon(s)</td>\n",
       "      <td>1</td>\n",
       "      <td>Homo_sapiens_9606_qfo_dna_01.fq.gz</td>\n",
       "      <td>protein</td>\n",
       "      <td>11</td>\n",
       "      <td>sp|A0A024RBG1</td>\n",
       "    </tr>\n",
       "    <tr>\n",
       "      <th>301</th>\n",
       "      <td>read51/sp|A0A024RBG1|ENSP00000492425;mate1:130...</td>\n",
       "      <td>NaN</td>\n",
       "      <td>NaN</td>\n",
       "      <td>Translation frame has stop codon(s)</td>\n",
       "      <td>2</td>\n",
       "      <td>Homo_sapiens_9606_qfo_dna_01.fq.gz</td>\n",
       "      <td>protein</td>\n",
       "      <td>11</td>\n",
       "      <td>sp|A0A024RBG1</td>\n",
       "    </tr>\n",
       "    <tr>\n",
       "      <th>302</th>\n",
       "      <td>read51/sp|A0A024RBG1|ENSP00000492425;mate1:130...</td>\n",
       "      <td>NaN</td>\n",
       "      <td>NaN</td>\n",
       "      <td>Translation frame has stop codon(s)</td>\n",
       "      <td>3</td>\n",
       "      <td>Homo_sapiens_9606_qfo_dna_01.fq.gz</td>\n",
       "      <td>protein</td>\n",
       "      <td>11</td>\n",
       "      <td>sp|A0A024RBG1</td>\n",
       "    </tr>\n",
       "    <tr>\n",
       "      <th>303</th>\n",
       "      <td>read51/sp|A0A024RBG1|ENSP00000492425;mate1:130...</td>\n",
       "      <td>NaN</td>\n",
       "      <td>NaN</td>\n",
       "      <td>Translation frame has stop codon(s)</td>\n",
       "      <td>-1</td>\n",
       "      <td>Homo_sapiens_9606_qfo_dna_01.fq.gz</td>\n",
       "      <td>protein</td>\n",
       "      <td>11</td>\n",
       "      <td>sp|A0A024RBG1</td>\n",
       "    </tr>\n",
       "    <tr>\n",
       "      <th>304</th>\n",
       "      <td>read51/sp|A0A024RBG1|ENSP00000492425;mate1:130...</td>\n",
       "      <td>NaN</td>\n",
       "      <td>NaN</td>\n",
       "      <td>Translation frame has stop codon(s)</td>\n",
       "      <td>-2</td>\n",
       "      <td>Homo_sapiens_9606_qfo_dna_01.fq.gz</td>\n",
       "      <td>protein</td>\n",
       "      <td>11</td>\n",
       "      <td>sp|A0A024RBG1</td>\n",
       "    </tr>\n",
       "    <tr>\n",
       "      <th>305</th>\n",
       "      <td>read51/sp|A0A024RBG1|ENSP00000492425;mate1:130...</td>\n",
       "      <td>1.0</td>\n",
       "      <td>39.0</td>\n",
       "      <td>Coding</td>\n",
       "      <td>-3</td>\n",
       "      <td>Homo_sapiens_9606_qfo_dna_01.fq.gz</td>\n",
       "      <td>protein</td>\n",
       "      <td>11</td>\n",
       "      <td>sp|A0A024RBG1</td>\n",
       "    </tr>\n",
       "    <tr>\n",
       "      <th>306</th>\n",
       "      <td>read52/sp|A0A024RBG1|ENSP00000492425;mate1:125...</td>\n",
       "      <td>NaN</td>\n",
       "      <td>NaN</td>\n",
       "      <td>Translation frame has stop codon(s)</td>\n",
       "      <td>1</td>\n",
       "      <td>Homo_sapiens_9606_qfo_dna_01.fq.gz</td>\n",
       "      <td>protein</td>\n",
       "      <td>11</td>\n",
       "      <td>sp|A0A024RBG1</td>\n",
       "    </tr>\n",
       "    <tr>\n",
       "      <th>307</th>\n",
       "      <td>read52/sp|A0A024RBG1|ENSP00000492425;mate1:125...</td>\n",
       "      <td>NaN</td>\n",
       "      <td>NaN</td>\n",
       "      <td>Translation frame has stop codon(s)</td>\n",
       "      <td>2</td>\n",
       "      <td>Homo_sapiens_9606_qfo_dna_01.fq.gz</td>\n",
       "      <td>protein</td>\n",
       "      <td>11</td>\n",
       "      <td>sp|A0A024RBG1</td>\n",
       "    </tr>\n",
       "    <tr>\n",
       "      <th>308</th>\n",
       "      <td>read52/sp|A0A024RBG1|ENSP00000492425;mate1:125...</td>\n",
       "      <td>1.0</td>\n",
       "      <td>39.0</td>\n",
       "      <td>Coding</td>\n",
       "      <td>3</td>\n",
       "      <td>Homo_sapiens_9606_qfo_dna_01.fq.gz</td>\n",
       "      <td>protein</td>\n",
       "      <td>11</td>\n",
       "      <td>sp|A0A024RBG1</td>\n",
       "    </tr>\n",
       "    <tr>\n",
       "      <th>309</th>\n",
       "      <td>read52/sp|A0A024RBG1|ENSP00000492425;mate1:125...</td>\n",
       "      <td>NaN</td>\n",
       "      <td>NaN</td>\n",
       "      <td>Translation frame has stop codon(s)</td>\n",
       "      <td>-1</td>\n",
       "      <td>Homo_sapiens_9606_qfo_dna_01.fq.gz</td>\n",
       "      <td>protein</td>\n",
       "      <td>11</td>\n",
       "      <td>sp|A0A024RBG1</td>\n",
       "    </tr>\n",
       "    <tr>\n",
       "      <th>310</th>\n",
       "      <td>read52/sp|A0A024RBG1|ENSP00000492425;mate1:125...</td>\n",
       "      <td>NaN</td>\n",
       "      <td>NaN</td>\n",
       "      <td>Translation frame has stop codon(s)</td>\n",
       "      <td>-2</td>\n",
       "      <td>Homo_sapiens_9606_qfo_dna_01.fq.gz</td>\n",
       "      <td>protein</td>\n",
       "      <td>11</td>\n",
       "      <td>sp|A0A024RBG1</td>\n",
       "    </tr>\n",
       "    <tr>\n",
       "      <th>311</th>\n",
       "      <td>read52/sp|A0A024RBG1|ENSP00000492425;mate1:125...</td>\n",
       "      <td>NaN</td>\n",
       "      <td>NaN</td>\n",
       "      <td>Translation frame has stop codon(s)</td>\n",
       "      <td>-3</td>\n",
       "      <td>Homo_sapiens_9606_qfo_dna_01.fq.gz</td>\n",
       "      <td>protein</td>\n",
       "      <td>11</td>\n",
       "      <td>sp|A0A024RBG1</td>\n",
       "    </tr>\n",
       "  </tbody>\n",
       "</table>\n",
       "</div>"
      ],
      "text/plain": [
       "                                               read_id  jaccard_in_peptide_db  \\\n",
       "300  read51/sp|A0A024RBG1|ENSP00000492425;mate1:130...                    NaN   \n",
       "301  read51/sp|A0A024RBG1|ENSP00000492425;mate1:130...                    NaN   \n",
       "302  read51/sp|A0A024RBG1|ENSP00000492425;mate1:130...                    NaN   \n",
       "303  read51/sp|A0A024RBG1|ENSP00000492425;mate1:130...                    NaN   \n",
       "304  read51/sp|A0A024RBG1|ENSP00000492425;mate1:130...                    NaN   \n",
       "305  read51/sp|A0A024RBG1|ENSP00000492425;mate1:130...                    1.0   \n",
       "306  read52/sp|A0A024RBG1|ENSP00000492425;mate1:125...                    NaN   \n",
       "307  read52/sp|A0A024RBG1|ENSP00000492425;mate1:125...                    NaN   \n",
       "308  read52/sp|A0A024RBG1|ENSP00000492425;mate1:125...                    1.0   \n",
       "309  read52/sp|A0A024RBG1|ENSP00000492425;mate1:125...                    NaN   \n",
       "310  read52/sp|A0A024RBG1|ENSP00000492425;mate1:125...                    NaN   \n",
       "311  read52/sp|A0A024RBG1|ENSP00000492425;mate1:125...                    NaN   \n",
       "\n",
       "     n_kmers                             category  translation_frame  \\\n",
       "300      NaN  Translation frame has stop codon(s)                  1   \n",
       "301      NaN  Translation frame has stop codon(s)                  2   \n",
       "302      NaN  Translation frame has stop codon(s)                  3   \n",
       "303      NaN  Translation frame has stop codon(s)                 -1   \n",
       "304      NaN  Translation frame has stop codon(s)                 -2   \n",
       "305     39.0                               Coding                 -3   \n",
       "306      NaN  Translation frame has stop codon(s)                  1   \n",
       "307      NaN  Translation frame has stop codon(s)                  2   \n",
       "308     39.0                               Coding                  3   \n",
       "309      NaN  Translation frame has stop codon(s)                 -1   \n",
       "310      NaN  Translation frame has stop codon(s)                 -2   \n",
       "311      NaN  Translation frame has stop codon(s)                 -3   \n",
       "\n",
       "                               filename alphabet  ksize     uniprot_id  \n",
       "300  Homo_sapiens_9606_qfo_dna_01.fq.gz  protein     11  sp|A0A024RBG1  \n",
       "301  Homo_sapiens_9606_qfo_dna_01.fq.gz  protein     11  sp|A0A024RBG1  \n",
       "302  Homo_sapiens_9606_qfo_dna_01.fq.gz  protein     11  sp|A0A024RBG1  \n",
       "303  Homo_sapiens_9606_qfo_dna_01.fq.gz  protein     11  sp|A0A024RBG1  \n",
       "304  Homo_sapiens_9606_qfo_dna_01.fq.gz  protein     11  sp|A0A024RBG1  \n",
       "305  Homo_sapiens_9606_qfo_dna_01.fq.gz  protein     11  sp|A0A024RBG1  \n",
       "306  Homo_sapiens_9606_qfo_dna_01.fq.gz  protein     11  sp|A0A024RBG1  \n",
       "307  Homo_sapiens_9606_qfo_dna_01.fq.gz  protein     11  sp|A0A024RBG1  \n",
       "308  Homo_sapiens_9606_qfo_dna_01.fq.gz  protein     11  sp|A0A024RBG1  \n",
       "309  Homo_sapiens_9606_qfo_dna_01.fq.gz  protein     11  sp|A0A024RBG1  \n",
       "310  Homo_sapiens_9606_qfo_dna_01.fq.gz  protein     11  sp|A0A024RBG1  \n",
       "311  Homo_sapiens_9606_qfo_dna_01.fq.gz  protein     11  sp|A0A024RBG1  "
      ]
     },
     "execution_count": 118,
     "metadata": {},
     "output_type": "execute_result"
    }
   ],
   "source": [
    "reads51_52 = protein_k11_good_uniprot_ids.loc[protein_k11_good_uniprot_ids.read_id.str.contains('read51/') | protein_k11_good_uniprot_ids.read_id.str.contains('read52/')]\n",
    "reads51_52"
   ]
  },
  {
   "cell_type": "markdown",
   "metadata": {},
   "source": [
    "## Hamming distance function\n",
    "\n",
    "from http://claresloggett.github.io/python_workshops/improved_hammingdist.html"
   ]
  },
  {
   "cell_type": "code",
   "execution_count": 125,
   "metadata": {},
   "outputs": [],
   "source": [
    "# Return the Hamming distance between string1 and string2.\n",
    "# string1 and string2 should be the same length.\n",
    "def hamming_distance(string1, string2): \n",
    "    # Start with a distance of zero, and count up\n",
    "    distance = 0\n",
    "    # Loop over the indices of the string\n",
    "    L = len(string1)\n",
    "    for i in range(L):\n",
    "        # Add 1 to the distance if these two characters are not equal\n",
    "        if string1[i] != string2[i]:\n",
    "            distance += 1\n",
    "    # Return the final count of differences\n",
    "    return distance\n",
    "\n",
    "\n",
    "# Reveres complemeent\n",
    "\n",
    "old_chars = \"ACGT\"\n",
    "replace_chars = \"TGCA\"\n",
    "tab = str.maketrans(old_chars,replace_chars)\n",
    "\n",
    "def reverse_complement(sequence):\n",
    "    return sequence.translate(tab)[::-1]\n",
    "\n",
    "def rev_compl(st):\n",
    "    nn = {'A': 'T', 'C': 'G', 'G': 'C', 'T': 'A'}\n",
    "    return \"\".join(nn[n] for n in reversed(st))"
   ]
  },
  {
   "cell_type": "markdown",
   "metadata": {},
   "source": [
    "### read 51 is coding in negative frame, and mate2!!\n",
    "\n",
    "```\n",
    "@read51/sp|A0A024RBG1|ENSP00000492425;mate1:130-279;mate2:281-430\n",
    "GCTTTTCCAGATACTCTGCATGTACAGGTTTATGACACTGGAGAACTTTGATAGCATCTTCTACTTTGAACCACTCTCTCTTCCTTCCAATATTAACAGAATCTTCCCAATCTTCTAATATTTCAGTGACTGTTAGAACATAAACATATG\n",
    "+\n",
    "IIIIIIIIIIIIIIIIIIIIIIIIIIIIIIIIIIIIIIIIIIIIIIIIIIIIIIIIIIIIIIIIIIIIIIIIIIIIIIIIIIIIIIIIIIIIIIIIIIIIIIIIIIIIIIIIIIIIIIIIIIIIIIIIIIIIIIIIIIIIIIIIIIIIII\n",
    "```"
   ]
  },
  {
   "cell_type": "code",
   "execution_count": 149,
   "metadata": {},
   "outputs": [
    {
     "data": {
      "text/plain": [
       "111"
      ]
     },
     "execution_count": 149,
     "metadata": {},
     "output_type": "execute_result"
    }
   ],
   "source": [
    "hamming_distance(good_uniprot_records_dict['sp|A0A024RBG1'][280:429], \n",
    "                 'GCTTTTCCAGATACTCTGCATGTACAGGTTTATGACACTGGAGAACTTTGATAGCATCTTCTACTTTGAACCACTCTCTCTTCCTTCCAATATTAACAGAATCTTCCCAATCTTCTAATATTTCAGTGACTGTTAGAACATAAACATATG')"
   ]
  },
  {
   "cell_type": "markdown",
   "metadata": {},
   "source": [
    "### Read 52 is coding in positive frame\n",
    "\n",
    "```\n",
    "@read52/sp|A0A024RBG1|ENSP00000492425;mate1:125-274;mate2:193-342\n",
    "ACCCAGACCAGTGGATTGTCCCAGGAGGAGGAATGGAACCCGAGGAGGAACCTGGCGGTGCTGCCGTGAGGGAAGTTTATGAGGAGGCTGGAGTCAAAGGAAAACTAGGCAGACTTCTGGGCATATTTGAGCAGAACCAAGACCGAAAGC\n",
    "+\n",
    "IIIIIIIIIIIIIIIIIIIIIIIIIIIIIIIIIIIIIIIIIIIIIIIIIIIIIIIIIIIIIIIIIIIIIIIIIIIIIIIIIIIIIIIIIIIIIIIIIIIIIIIIIIIIIIIIIIIIIIIIIIIIIIIIIIIIIIIIIIIIIIIIIIIIII\n",
    "```\n"
   ]
  },
  {
   "cell_type": "code",
   "execution_count": 123,
   "metadata": {},
   "outputs": [
    {
     "data": {
      "text/plain": [
       "0"
      ]
     },
     "execution_count": 123,
     "metadata": {},
     "output_type": "execute_result"
    }
   ],
   "source": [
    "hamming_distance(good_uniprot_records_dict['sp|A0A024RBG1'][124:273], \n",
    "                 'ACCCAGACCAGTGGATTGTCCCAGGAGGAGGAATGGAACCCGAGGAGGAACCTGGCGGTGCTGCCGTGAGGGAAGTTTATGAGGAGGCTGGAGTCAAAGGAAAACTAGGCAGACTTCTGGGCATATTTGAGCAGAACCAAGACCGAAAGC')"
   ]
  },
  {
   "cell_type": "code",
   "execution_count": null,
   "metadata": {},
   "outputs": [],
   "source": [
    "human_dna = {}\n",
    "with screed.open()"
   ]
  },
  {
   "cell_type": "markdown",
   "metadata": {},
   "source": [
    "## Function to actually infer translation frame"
   ]
  },
  {
   "cell_type": "code",
   "execution_count": 465,
   "metadata": {},
   "outputs": [],
   "source": [
    "# %%time\n",
    "\n",
    "# https://regex101.com/r/WNtXD8/1/\n",
    "interval_patterns = 'mate1:(?P<mate1_start>\\d+)-(\\d+);mate2:(\\d+)-(\\d+)'\n",
    "\n",
    "\n",
    "\n",
    "def get_strand(canonical_seq, record_seq):\n",
    "#     import pdb ; pdb.set_trace()\n",
    "    try:\n",
    "        n_mismatches = hamming_distance(canonical_seq, record_seq)\n",
    "    except IndexError:\n",
    "        # Lengths don't match, ignore this read\n",
    "        return None\n",
    "    if n_mismatches > 10:\n",
    "        # Make sure it's really the reverse complement\n",
    "        revcomp = reverse_complement(record_seq)\n",
    "        try:\n",
    "            n_mismatches = hamming_distance(canonical_seq, revcomp)\n",
    "        except IndexError:\n",
    "            # Lengths don't match, ignore this read\n",
    "            return None\n",
    "        # Not too many mismatches\n",
    "        if n_mismatches <= 10:\n",
    "            strand = -1\n",
    "        else:\n",
    "            strand = None\n",
    "    else:\n",
    "        strand = 1\n",
    "#     if strand is None:\n",
    "#         raise ValueError\n",
    "    return strand\n",
    "\n",
    "\n",
    "def get_correct_reading_frame(record, required_length=150, verbose=False):\n",
    "    name = record['name']\n",
    "    if 'mate1Start' in name:\n",
    "        frame = 1\n",
    "    else:\n",
    "        # Subtract 1 since the fastq file uses 1-based indexing for the start/stop but python is 0-based\n",
    "        try:\n",
    "            start1, end1, start2, end2 = map(lambda x: int(x) - 1 , re.findall(interval_patterns, name)[0])\n",
    "        except IndexError:\n",
    "            # Read id has negative values and otherwise doesn't match my mental model --> ignore\n",
    "            return None\n",
    "        \n",
    "        end1 += 1\n",
    "#         start2 += 1\n",
    "        end2 += 1\n",
    "\n",
    "\n",
    "        uniprot_id = '|'.join(name.split(';')[0].split('/')[-1].split('|')[:2])\n",
    "        try:\n",
    "            canonical_sequence = good_uniprot_records_dict[uniprot_id]\n",
    "        except KeyError:\n",
    "            # Uniprot record doesn't have clear start/stop site, so difficult to infer frame --> skip\n",
    "            return None\n",
    "        \n",
    "        canonical_length = len(canonical_sequence)\n",
    "        if end1 > canonical_length or end2 > canonical_length:\n",
    "            # Read extends past the boundary of the source sequence --> skip\n",
    "            return None\n",
    "        \n",
    "\n",
    "        mate1 = canonical_sequence[start1:end1]\n",
    "        mate2 = canonical_sequence[start2:end2]\n",
    "        assert len(mate1) == required_length\n",
    "        assert len(mate2) == required_length\n",
    "        \n",
    "        if verbose:\n",
    "            print(name)\n",
    "            print(f'start1: {start1} -- end1: {end1}')\n",
    "            print(f'start2: {start2} -- end2: {end2}')\n",
    "\n",
    "        if verbose > 1:\n",
    "            print(f'>mate1\\n{mate1}')\n",
    "            print(f'>mate1_rc\\n{reverse_complement(mate1)}')\n",
    "        if verbose > 1:\n",
    "            print(f'>mate2\\n{mate2}')\n",
    "            print(f'>mate2_rc\\n{reverse_complement(mate2)}')\n",
    "        \n",
    "        frame_number = 3 - ((start1 -1 )% 3) \n",
    "        if verbose > 1:\n",
    "            print(f'{frame_number} = (({start1} + 1) % 3) + 1')\n",
    "\n",
    "#         frame_number = ((start1)% 3) + 1\n",
    "\n",
    "        record_seq = record['sequence']\n",
    "        if verbose > 1:\n",
    "            print(f'>record\\n{record_seq}')\n",
    "            print(f'>record_rc\\n{reverse_complement(record_seq)}')\n",
    "\n",
    "        if verbose:\n",
    "            print('--- Trying mate 1 ---')\n",
    "        strand = get_strand(mate1, record_seq)\n",
    "        if verbose and strand is not None:\n",
    "            if strand > 0:\n",
    "                print('mate1')\n",
    "            if strand < 0:\n",
    "                print('mate1, reverse complement')\n",
    "\n",
    "        \n",
    "        if strand is None:\n",
    "            if verbose:\n",
    "                print('--- Not mate1, trying mate 2 ---')\n",
    "            # Maybe it's mate2?\n",
    "#             strand = -1\n",
    "            strand = get_strand(mate2, record_seq)\n",
    "            frame_number = 3 - ((start2 - 1 ) % 3)\n",
    "            \n",
    "            if verbose and strand is not None:\n",
    "                print(f'{frame_number} = (({start2} + 1) % 3) + 1')\n",
    "                if strand > 0:\n",
    "                    print('mate2')\n",
    "                if strand < 0:\n",
    "                    print('mate2, reverse complement')\n",
    "                \n",
    "\n",
    "        # Multiply the frame number by the strand multiplier\n",
    "        try:\n",
    "            frame = frame_number * strand\n",
    "            if verbose:\n",
    "                print(f'{frame} = {frame_number} * {strand}')\n",
    "        except TypeError:\n",
    "            # Strand is still none, don't know what's going on so skip this read\n",
    "            frame = None\n",
    "    return frame\n",
    "            \n",
    "\n",
    "def fastq_per_read_frame(fastq, verbose=False):\n",
    "    read_id_to_frame = {}\n",
    "    with screed.open(fastq) as records:\n",
    "        for record in tqdm(records):\n",
    "    #         if 'read52/' in record['name']:\n",
    "    #             break\n",
    "            if verbose:\n",
    "                print('\\n---')\n",
    "            frame = get_correct_reading_frame(record, required_length=150, verbose=verbose)\n",
    "            if verbose:\n",
    "                print(f'frame: {frame}')\n",
    "            if frame is not None:\n",
    "                read_id_to_frame[record['name']] = frame\n",
    "\n",
    "    read_id_to_frame_series = pd.Series(read_id_to_frame, name='translation_frame')\n",
    "    print(read_id_to_frame_series.shape)\n",
    "    read_id_to_frame_series.head()\n",
    "    return read_id_to_frame_series"
   ]
  },
  {
   "cell_type": "markdown",
   "metadata": {},
   "source": [
    "## Make mini fastq for testing"
   ]
  },
  {
   "cell_type": "code",
   "execution_count": 441,
   "metadata": {},
   "outputs": [],
   "source": [
    "# for read_id in protein_k11_good_uniprot_ids_no_ns_coding.sample(5).read_id.values:\n",
    "\n",
    "#     ! zgrep -A 3 \"$read_id\" $reads_dir/*"
   ]
  },
  {
   "cell_type": "code",
   "execution_count": 435,
   "metadata": {},
   "outputs": [
    {
     "name": "stdout",
     "output_type": "stream",
     "text": [
      "Overwriting mini.fastq\n"
     ]
    }
   ],
   "source": [
    "%%file mini.fastq\n",
    "@read51/sp|A0A024RBG1|ENSP00000492425;mate1:130-279;mate2:281-430__frame=-3\n",
    "GCTTTTCCAGATACTCTGCATGTACAGGTTTATGACACTGGAGAACTTTGATAGCATCTTCTACTTTGAACCACTCTCTCTTCCTTCCAATATTAACAGAATCTTCCCAATCTTCTAATATTTCAGTGACTGTTAGAACATAAACATATG\n",
    "+\n",
    "IIIIIIIIIIIIIIIIIIIIIIIIIIIIIIIIIIIIIIIIIIIIIIIIIIIIIIIIIIIIIIIIIIIIIIIIIIIIIIIIIIIIIIIIIIIIIIIIIIIIIIIIIIIIIIIIIIIIIIIIIIIIIIIIIIIIIIIIIIIIIIIIIIIIII\n",
    "@read52/sp|A0A024RBG1|ENSP00000492425;mate1:125-274;mate2:193-342__frame=3\n",
    "ACCCAGACCAGTGGATTGTCCCAGGAGGAGGAATGGAACCCGAGGAGGAACCTGGCGGTGCTGCCGTGAGGGAAGTTTATGAGGAGGCTGGAGTCAAAGGAAAACTAGGCAGACTTCTGGGCATATTTGAGCAGAACCAAGACCGAAAGC\n",
    "+\n",
    "IIIIIIIIIIIIIIIIIIIIIIIIIIIIIIIIIIIIIIIIIIIIIIIIIIIIIIIIIIIIIIIIIIIIIIIIIIIIIIIIIIIIIIIIIIIIIIIIIIIIIIIIIIIIIIIIIIIIIIIIIIIIIIIIIIIIIIIIIIIIIIIIIIIIII\n",
    "@read302822/sp|P49760|ENSP00000460443;mate1:755-904;mate2:890-1039__frame=3\n",
    "ATTTCCTCAAAGACAACAACTACCTGCCCTACCCCATCCACCAAGTGCGCCACATGGCCTTCCAGCTGTGCCAGGCTGTCAAGTTCCTCCATGATAACAAGCTGACACATACAGACCTCAAGCCTGAAAATATTCTGATTGTGAATTCAG\n",
    "+\n",
    "IIIIIIIIIIIIIIIIIIIIIIIIIIIIIIIIIIIIIIIIIIIIIIIIIIIIIIIIIIIIIIIIIIIIIIIIIIIIIIIIIIIIIIIIIIIIIIIIIIIIIIIIIIIIIIIIIIIIIIIIIIIIIIIIIIIIIIIIIIIIIIIIIIIIII\n",
    "@read780376/sp|Q96PL2|ENSP00000494896;mate1:747-896;mate2:829-978__frame=2\n",
    "CCNGTTCCAGAACATCCCCAAACTCTCCAAGGTGTGGTTACACTGTGAGACGTTCATCTGCGACAGTGAGAAACTCTCCTGCCCAGTGACCTGCGATAAACGGAAGCGCCTCCTGCGAGACCAGACCGGGGGAGTCCTGGTCGTGGAGCT\n",
    "+\n",
    "IIIIIIIIIIIIIIIIIIIIIIIIIIIIIIIIIIIIIIIIIIIIIIIIIIIIIIIIIIIIIIIIIIIIIIIIIIIIIIIIIIIIIIIIIIIIIIIIIIIIIIIIIIIIIIIIIIIIIIIIIIIIIIIIIIIIIIIIIIIIIIIIIIIIII\n",
    "@read192484/sp|P09629|ENSP00000239165;mate1:19-168;mate2:125-274__frame=1\n",
    "GCGAATACTTTATTTTCTAAATATCCAGCCTCAAGTTCGGTTTTCGCTACCGGAGCCTTCCCAGAACAAACTTCTTGTGCGTTTGCTTCCAACCCCCAGCGCCCGGGCTATGGAGCGGGTTCGGGCGCTTCCTTCGCCGCCTCGATGCAG\n",
    "+\n",
    "IIIIIIIIIIIIIIIIIIIIIIIIIIIIIIIIIIIIIIIIIIIIIIIIIIIIIIIIIIIIIIIIIIIIIIIIIIIIIIIIIIIIIIIIIIIIIIIIIIIIIIIIIIIIIIIIIIIIIIIIIIIIIIIIIIIIIIIIIIIIIIIIIIIIII\n",
    "@read335141/sp|P60368|ENSP00000375479;mate1:141-290;mate2:251-400__frame=2\n",
    "CACCCCAGTGAGCTGTGTGTCCAGCCCCTGCTGCCAGGCGGCCTGTGAGCCCAGCGCCTGCCAATCAGGCTGCACCAGCTCCTGCACGCCCTCGTGCTGCCAGCAGTCTAGCTGCCAGCCGGCTTGCTGCACCTCCTCCCCCTGCCAGCA\n",
    "+\n",
    "IIIIIIIIIIIIIIIIIIIIIIIIIIIIIIIIIIIIIIIIIIIIIIIIIIIIIIIIIIIIIIIIIIIIIIIIIIIIIIIIIIIIIIIIIIIIIIIIIIIIIIIIIIIIIIIIIIIIIIIIIIIIIIIIIIIIIIIIIIIIIIIIIIIIII\n",
    "@read494460/sp|Q5VWX1|ENSP00000281156;mate1:81-230;mate2:193-342__frame=2\n",
    "TTTGGCAGAAGAAATTGAAAAGTTTCAAGGTTCTGATGGAAAAAAGGAAGACGAAGAAAAGAAGTATCTTGATGTCATCAGCAACAAAAACATAAAGCTCTCAGAAAGAGTACTGATTCCTGTCAAGCAGTATCCAAAGTTCAATTTTGT\n",
    "+\n",
    "IIIIIIIIIIIIIIIIIIIIIIIIIIIIIIIIIIIIIIIIIIIIIIIIIIIIIIIIIIIIIIIIIIIIIIIIIIIIIIIIIIIIIIIIIIIIIIIIIIIIIIIIIIIIIIIIIIIIIIIIIIIIIIIIIIIIIIIIIIIIIIIIIIIIII\n",
    "@read734191/sp|Q96A65|ENSP00000376868;mate1:842-991;mate2:949-1098__frame=-1\n",
    "AGTGTCCTGCAGGTATCCCAGGACCACAGAGTGTGCAGCGGCTACAGCATTAAACTTGTCAAACAGTAACTCCAGCAGTTCTAGAAGCAACCTTGGTTGGTTCTCCACAGTAACGTTCTCCCCCCGCTGATAGCCACTGTCTGCCACCTG\n",
    "+\n",
    "IIIIIIIIIIIIIIIIIIIIIIIIIIIIIIIIIIIIIIIIIIIIIIIIIIIIIIIIIIIIIIIIIIIIIIIIIIIIIIIIIIIIIIIIIIIIIIIIIIIIIIIIIIIIIIIIIIIIIIIIIIIIIIIIIIIIIIIIIIIIIIIIIIIIII\n",
    "@read640286/sp|Q8N7Q2|BAC05176;mate1:30-179;mate2:140-289__frame=?\n",
    "TTTGGCCAACTTCGCCTCTTCAATTAAAAGGACACATGCTGTTAACGGGTGCTGTGGATTACAGATGATCGCACTCTGGGCACAGTCCTCTGGAAATGCAGATGCCCGTGTGGAGGAAATTCTGGCGGGAGAGGAGCGGCGACTCGCCGC\n",
    "+\n",
    "IIIIIIIIIIIIIIIIIIIIIIIIIIIIIIIIIIIIIIIIIIIIIIIIIIIIIIIIIIIIIIIIIIIIIIIIIIIIIIIIIIIIIIIIIIIIIIIIIIIIIIIIIIIIIIIIIIIIIIIIIIIIIIIIIIIIIIIIIIIIIIIIIIIIII\n",
    "@read325914/sp|P56278|ENSP00000358488;mate1:12-161;mate2:125-274__frame=2\n",
    "GGATGTGGGGGCTCCACCCGATCACCTCTGGGTTCACCAAGAGGGTATCTACCGCGACGAATACCAGCGCACGTGGGTGGCCGTCGTGGAAGAGGAGACGAGTTTCCTAAGGGCACGAGTCCAGCAAATTCAGGTTCCCTTAGGTGACGC\n",
    "+\n",
    "IIIIIIIIIIIIIIIIIIIIIIIIIIIIIIIIIIIIIIIIIIIIIIIIIIIIIIIIIIIIIIIIIIIIIIIIIIIIIIIIIIIIIIIIIIIIIIIIIIIIIIIIIIIIIIIIIIIIIIIIIIIIIIIIIIIIIIIIIIIIIIIIIIIIII\n",
    "@read714894/sp|Q8WYR1|ENSP00000485280;mate1:570-719;mate2:662-811__frame=2\n",
    "GAGCCAGACGCCCTCACCCCCGACAGACTCCCCTAGGCACGCCAGCCCTGGAGAGCTGGGCACCACCCCATGGGAGGAGAGCACCAATGACATCTCCCACTACCTCGGCATGCTGGACCCCTGGTATGAGCGCAATGTACTGGGCCTCAT\n",
    "+\n",
    "IIIIIIIIIIIIIIIIIIIIIIIIIIIIIIIIIIIIIIIIIIIIIIIIIIIIIIIIIIIIIIIIIIIIIIIIIIIIIIIIIIIIIIIIIIIIIIIIIIIIIIIIIIIIIIIIIIIIIIIIIIIIIIIIIIIIIIIIIIIIIIIIIIIIII\n"
   ]
  },
  {
   "cell_type": "markdown",
   "metadata": {},
   "source": [
    "### Test on mini dataset"
   ]
  },
  {
   "cell_type": "code",
   "execution_count": 467,
   "metadata": {},
   "outputs": [
    {
     "name": "stderr",
     "output_type": "stream",
     "text": [
      "11it [00:00, 477.31it/s]"
     ]
    },
    {
     "name": "stdout",
     "output_type": "stream",
     "text": [
      "\n",
      "---\n",
      "read51/sp|A0A024RBG1|ENSP00000492425;mate1:130-279;mate2:281-430__frame=-3\n",
      "start1: 129 -- end1: 279\n",
      "start2: 280 -- end2: 430\n",
      ">mate1\n",
      "GACCAGTGGATTGTCCCAGGAGGAGGAATGGAACCCGAGGAGGAACCTGGCGGTGCTGCCGTGAGGGAAGTTTATGAGGAGGCTGGAGTCAAAGGAAAACTAGGCAGACTTCTGGGCATATTTGAGCAGAACCAAGACCGAAAGCACAGA\n",
      ">mate1_rc\n",
      "TCTGTGCTTTCGGTCTTGGTTCTGCTCAAATATGCCCAGAAGTCTGCCTAGTTTTCCTTTGACTCCAGCCTCCTCATAAACTTCCCTCACGGCAGCACCGCCAGGTTCCTCCTCGGGTTCCATTCCTCCTCCTGGGACAATCCACTGGTC\n",
      ">mate2\n",
      "CATATGTTTATGTTCTAACAGTCACTGAAATATTAGAAGATTGGGAAGATTCTGTTAATATTGGAAGGAAGAGAGAGTGGTTCAAAGTAGAAGATGCTATCAAAGTTCTCCAGTGTCATAAACCTGTACATGCAGAGTATCTGGAAAAGC\n",
      ">mate2_rc\n",
      "GCTTTTCCAGATACTCTGCATGTACAGGTTTATGACACTGGAGAACTTTGATAGCATCTTCTACTTTGAACCACTCTCTCTTCCTTCCAATATTAACAGAATCTTCCCAATCTTCTAATATTTCAGTGACTGTTAGAACATAAACATATG\n",
      "1 = ((129 + 1) % 3) + 1\n",
      ">record\n",
      "GCTTTTCCAGATACTCTGCATGTACAGGTTTATGACACTGGAGAACTTTGATAGCATCTTCTACTTTGAACCACTCTCTCTTCCTTCCAATATTAACAGAATCTTCCCAATCTTCTAATATTTCAGTGACTGTTAGAACATAAACATATG\n",
      ">record_rc\n",
      "CATATGTTTATGTTCTAACAGTCACTGAAATATTAGAAGATTGGGAAGATTCTGTTAATATTGGAAGGAAGAGAGAGTGGTTCAAAGTAGAAGATGCTATCAAAGTTCTCCAGTGTCATAAACCTGTACATGCAGAGTATCTGGAAAAGC\n",
      "--- Trying mate 1 ---\n",
      "--- Not mate1, trying mate 2 ---\n",
      "3 = ((280 + 1) % 3) + 1\n",
      "mate2, reverse complement\n",
      "-3 = 3 * -1\n",
      "frame: -3\n",
      "\n",
      "---\n",
      "read52/sp|A0A024RBG1|ENSP00000492425;mate1:125-274;mate2:193-342__frame=3\n",
      "start1: 124 -- end1: 274\n",
      "start2: 192 -- end2: 342\n",
      ">mate1\n",
      "ACCCAGACCAGTGGATTGTCCCAGGAGGAGGAATGGAACCCGAGGAGGAACCTGGCGGTGCTGCCGTGAGGGAAGTTTATGAGGAGGCTGGAGTCAAAGGAAAACTAGGCAGACTTCTGGGCATATTTGAGCAGAACCAAGACCGAAAGC\n",
      ">mate1_rc\n",
      "GCTTTCGGTCTTGGTTCTGCTCAAATATGCCCAGAAGTCTGCCTAGTTTTCCTTTGACTCCAGCCTCCTCATAAACTTCCCTCACGGCAGCACCGCCAGGTTCCTCCTCGGGTTCCATTCCTCCTCCTGGGACAATCCACTGGTCTGGGT\n",
      ">mate2\n",
      "AGGGAAGTTTATGAGGAGGCTGGAGTCAAAGGAAAACTAGGCAGACTTCTGGGCATATTTGAGCAGAACCAAGACCGAAAGCACAGAACATATGTTTATGTTCTAACAGTCACTGAAATATTAGAAGATTGGGAAGATTCTGTTAATATT\n",
      ">mate2_rc\n",
      "AATATTAACAGAATCTTCCCAATCTTCTAATATTTCAGTGACTGTTAGAACATAAACATATGTTCTGTGCTTTCGGTCTTGGTTCTGCTCAAATATGCCCAGAAGTCTGCCTAGTTTTCCTTTGACTCCAGCCTCCTCATAAACTTCCCT\n",
      "3 = ((124 + 1) % 3) + 1\n",
      ">record\n",
      "ACCCAGACCAGTGGATTGTCCCAGGAGGAGGAATGGAACCCGAGGAGGAACCTGGCGGTGCTGCCGTGAGGGAAGTTTATGAGGAGGCTGGAGTCAAAGGAAAACTAGGCAGACTTCTGGGCATATTTGAGCAGAACCAAGACCGAAAGC\n",
      ">record_rc\n",
      "GCTTTCGGTCTTGGTTCTGCTCAAATATGCCCAGAAGTCTGCCTAGTTTTCCTTTGACTCCAGCCTCCTCATAAACTTCCCTCACGGCAGCACCGCCAGGTTCCTCCTCGGGTTCCATTCCTCCTCCTGGGACAATCCACTGGTCTGGGT\n",
      "--- Trying mate 1 ---\n",
      "mate1\n",
      "3 = 3 * 1\n",
      "frame: 3\n",
      "\n",
      "---\n",
      "read302822/sp|P49760|ENSP00000460443;mate1:755-904;mate2:890-1039__frame=3\n",
      "start1: 754 -- end1: 904\n",
      "start2: 889 -- end2: 1039\n",
      ">mate1\n",
      "ATTTCCTCAAAGACAACAACTACCTGCCCTACCCCATCCACCAAGTGCGCCACATGGCCTTCCAGCTGTGCCAGGCTGTCAAGTTCCTCCATGATAACAAGCTGACACATACAGACCTCAAGCCTGAAAATATTCTGTTTGTGAATTCAG\n",
      ">mate1_rc\n",
      "CTGAATTCACAAACAGAATATTTTCAGGCTTGAGGTCTGTATGTGTCAGCTTGTTATCATGGAGGAACTTGACAGCCTGGCACAGCTGGAAGGCCATGTGGCGCACTTGGTGGATGGGGTAGGGCAGGTAGTTGTTGTCTTTGAGGAAAT\n",
      ">mate2\n",
      "TGTTTGTGAATTCAGACTATGAGCTCACCTACAACCTAGAGAAGAAGCGAGATGAGCGCAGTGTGAAGAGCACAGCTGTGCGGGTGGTAGACTTTGGCAGTGCCACCTTTGACCATGAGCACCATAGCACCATTGTCTCCACTCGCCATT\n",
      ">mate2_rc\n",
      "AATGGCGAGTGGAGACAATGGTGCTATGGTGCTCATGGTCAAAGGTGGCACTGCCAAAGTCTACCACCCGCACAGCTGTGCTCTTCACACTGCGCTCATCTCGCTTCTTCTCTAGGTTGTAGGTGAGCTCATAGTCTGAATTCACAAACA\n",
      "3 = ((754 + 1) % 3) + 1\n",
      ">record\n",
      "ATTTCCTCAAAGACAACAACTACCTGCCCTACCCCATCCACCAAGTGCGCCACATGGCCTTCCAGCTGTGCCAGGCTGTCAAGTTCCTCCATGATAACAAGCTGACACATACAGACCTCAAGCCTGAAAATATTCTGATTGTGAATTCAG\n",
      ">record_rc\n",
      "CTGAATTCACAATCAGAATATTTTCAGGCTTGAGGTCTGTATGTGTCAGCTTGTTATCATGGAGGAACTTGACAGCCTGGCACAGCTGGAAGGCCATGTGGCGCACTTGGTGGATGGGGTAGGGCAGGTAGTTGTTGTCTTTGAGGAAAT\n",
      "--- Trying mate 1 ---\n",
      "mate1\n",
      "3 = 3 * 1\n",
      "frame: 3\n",
      "\n",
      "---\n",
      "read780376/sp|Q96PL2|ENSP00000494896;mate1:747-896;mate2:829-978__frame=2\n",
      "start1: 746 -- end1: 896\n",
      "start2: 828 -- end2: 978\n",
      ">mate1\n",
      "CCGGTTCCAGAACATCCCCAAACTCTCCAAGGTGTGGTTACACTGTGAGACGTTCATCTGCGACAGTGAGAAACTCTCCTGCCCAGTGACCTGCGATAAACGGAAGCGCCTCCTGCGAGACCAGACCGGGGGAGTCCTGGTCGTGGAGCT\n",
      ">mate1_rc\n",
      "AGCTCCACGACCAGGACTCCCCCGGTCTGGTCTCGCAGGAGGCGCTTCCGTTTATCGCAGGTCACTGGGCAGGAGAGTTTCTCACTGTCGCAGATGAACGTCTCACAGTGTAACCACACCTTGGAGAGTTTGGGGATGTTCTGGAACCGG\n",
      ">mate2\n",
      "CCAGTGACCTGCGATAAACGGAAGCGCCTCCTGCGAGACCAGACCGGGGGAGTCCTGGTCGTGGAGCTCTCCCTGCGGAGCAGGGGATTTTCCAGTCTCTATAGCTTCTCAGATGTTCTCCACCACCTCATCATGATGTTGGGGATTTGT\n",
      ">mate2_rc\n",
      "ACAAATCCCCAACATCATGATGAGGTGGTGGAGAACATCTGAGAAGCTATAGAGACTGGAAAATCCCCTGCTCCGCAGGGAGAGCTCCACGACCAGGACTCCCCCGGTCTGGTCTCGCAGGAGGCGCTTCCGTTTATCGCAGGTCACTGG\n",
      "2 = ((746 + 1) % 3) + 1\n",
      ">record\n",
      "CCNGTTCCAGAACATCCCCAAACTCTCCAAGGTGTGGTTACACTGTGAGACGTTCATCTGCGACAGTGAGAAACTCTCCTGCCCAGTGACCTGCGATAAACGGAAGCGCCTCCTGCGAGACCAGACCGGGGGAGTCCTGGTCGTGGAGCT\n",
      ">record_rc\n",
      "AGCTCCACGACCAGGACTCCCCCGGTCTGGTCTCGCAGGAGGCGCTTCCGTTTATCGCAGGTCACTGGGCAGGAGAGTTTCTCACTGTCGCAGATGAACGTCTCACAGTGTAACCACACCTTGGAGAGTTTGGGGATGTTCTGGAACNGG\n",
      "--- Trying mate 1 ---\n",
      "mate1\n",
      "2 = 2 * 1\n",
      "frame: 2\n",
      "\n",
      "---\n",
      "read192484/sp|P09629|ENSP00000239165;mate1:19-168;mate2:125-274__frame=1\n",
      "start1: 18 -- end1: 168\n",
      "start2: 124 -- end2: 274\n",
      ">mate1\n",
      "GCGAATACTTTATTTTCTAAATATCCAGCCTCAAGTTCGGTTTTCGCTACCGGAGCCTTCCCAGAACAAACTTCTTGTGCGTTTGCTTCCAACCCCCAGCGCCCGGGCTATGGAGCGGGTTCGGGCGCTTCCTTCGCCGCCTCGATGCAG\n",
      ">mate1_rc\n",
      "CTGCATCGAGGCGGCGAAGGAAGCGCCCGAACCCGCTCCATAGCCCGGGCGCTGGGGGTTGGAAGCAAACGCACAAGAAGTTTGTTCTGGGAAGGCTCCGGTAGCGAAAACCGAACTTGAGGCTGGATATTTAGAAAATAAAGTATTCGC\n",
      ">mate2\n",
      "GCTATGGAGCGGGTTCGGGCGCTTCCTTCGCCGCCTCGATGCAGGGCTTGTACCCCGGCGGGGGGGGCATGGCGGGCCAGAGCGCGGCCGGCGTCTACGCGGCCGGCTATGGGCTCGAGCCGAGTTCCTTCAACATGCACTGCGCGCCCT\n",
      ">mate2_rc\n",
      "AGGGCGCGCAGTGCATGTTGAAGGAACTCGGCTCGAGCCCATAGCCGGCCGCGTAGACGCCGGCCGCGCTCTGGCCCGCCATGCCCCCCCCGCCGGGGTACAAGCCCTGCATCGAGGCGGCGAAGGAAGCGCCCGAACCCGCTCCATAGC\n",
      "1 = ((18 + 1) % 3) + 1\n",
      ">record\n",
      "GCGAATACTTTATTTTCTAAATATCCAGCCTCAAGTTCGGTTTTCGCTACCGGAGCCTTCCCAGAACAAACTTCTTGTGCGTTTGCTTCCAACCCCCAGCGCCCGGGCTATGGAGCGGGTTCGGGCGCTTCCTTCGCCGCCTCGATGCAG\n",
      ">record_rc\n",
      "CTGCATCGAGGCGGCGAAGGAAGCGCCCGAACCCGCTCCATAGCCCGGGCGCTGGGGGTTGGAAGCAAACGCACAAGAAGTTTGTTCTGGGAAGGCTCCGGTAGCGAAAACCGAACTTGAGGCTGGATATTTAGAAAATAAAGTATTCGC\n",
      "--- Trying mate 1 ---\n",
      "mate1\n",
      "1 = 1 * 1\n",
      "frame: 1\n",
      "\n",
      "---\n",
      "read335141/sp|P60368|ENSP00000375479;mate1:141-290;mate2:251-400__frame=2\n",
      "start1: 140 -- end1: 290\n",
      "start2: 250 -- end2: 400\n",
      ">mate1\n",
      "CACCCCAGTGAGCTGTGTGTCCAGCCCCTGCTGCCAGGCGGCCTGTGAGCCCAGCGCCTGCCAATCAGGCTGCACCAGCTCCTGCACGCCCTCGTGCTGCCAGCAGTCTAGCTGCCAGCCGGCTTGCTGCACCTCCTCCCCCTGCCAGCA\n",
      ">mate1_rc\n",
      "TGCTGGCAGGGGGAGGAGGTGCAGCAAGCCGGCTGGCAGCTAGACTGCTGGCAGCACGAGGGCGTGCAGGAGCTGGTGCAGCCTGATTGGCAGGCGCTGGGCTCACAGGCCGCCTGGCAGCAGGGGCTGGACACACAGCTCACTGGGGTG\n",
      ">mate2\n",
      "GCTGCCAGCCGGCTTGCTGCACCTCCTCCCCCTGCCAGCAGGCCTGCTGCGTGCCCGTCTGCTGCAAGCCTGTGTGCTGTGTGCCCGTCTGCTGTGGGGCTTCTTCATGCTGCCAGCAGTCTAGCTGCCAGCCAGCTTGCTGTGCCTCTT\n",
      ">mate2_rc\n",
      "AAGAGGCACAGCAAGCTGGCTGGCAGCTAGACTGCTGGCAGCATGAAGAAGCCCCACAGCAGACGGGCACACAGCACACAGGCTTGCAGCAGACGGGCACGCAGCAGGCCTGCTGGCAGGGGGAGGAGGTGCAGCAAGCCGGCTGGCAGC\n",
      "2 = ((140 + 1) % 3) + 1\n",
      ">record\n",
      "CACCCCAGTGAGCTGTGTGTCCAGCCCCTGCTGCCAGGCGGCCTGTGAGCCCAGCGCCTGCCAATCAGGCTGCACCAGCTCCTGCACGCCCTCGTGCTGCCAGCAGTCTAGCTGCCAGCCGGCTTGCTGCACCTCCTCCCCCTGCCAGCA\n",
      ">record_rc\n",
      "TGCTGGCAGGGGGAGGAGGTGCAGCAAGCCGGCTGGCAGCTAGACTGCTGGCAGCACGAGGGCGTGCAGGAGCTGGTGCAGCCTGATTGGCAGGCGCTGGGCTCACAGGCCGCCTGGCAGCAGGGGCTGGACACACAGCTCACTGGGGTG\n",
      "--- Trying mate 1 ---\n",
      "mate1\n",
      "2 = 2 * 1\n",
      "frame: 2\n",
      "\n",
      "---\n",
      "read494460/sp|Q5VWX1|ENSP00000281156;mate1:81-230;mate2:193-342__frame=2\n",
      "start1: 80 -- end1: 230\n",
      "start2: 192 -- end2: 342\n",
      ">mate1\n",
      "TTTGGCAGAAGAAATTGAAAAGTTTCAAGGTTCTGATGGAAAAAAGGAAGACGAAGAAAAGAAGTATCTTGATGTCATCAGCAACAAAAACATAAAGCTCTCAGAAAGAGTACTGATTCCTGTCAAGCAGTATCCAAAGTTCAATTTTGT\n",
      ">mate1_rc\n",
      "ACAAAATTGAACTTTGGATACTGCTTGACAGGAATCAGTACTCTTTCTGAGAGCTTTATGTTTTTGTTGCTGATGACATCAAGATACTTCTTTTCTTCGTCTTCCTTTTTTCCATCAGAACCTTGAAACTTTTCAATTTCTTCTGCCAAA\n",
      ">mate2\n",
      "CTGATTCCTGTCAAGCAGTATCCAAAGTTCAATTTTGTGGGGAAATTGCTTGGACCAAGAGGAAACTCCTTGAAGAGGCTACAGGAAGAAACAGGTGCTAAAATGTCTATCCTGGGCAAAGGATCAATGAGAGATAAAGCTAAGGAAGAA\n",
      ">mate2_rc\n",
      "TTCTTCCTTAGCTTTATCTCTCATTGATCCTTTGCCCAGGATAGACATTTTAGCACCTGTTTCTTCCTGTAGCCTCTTCAAGGAGTTTCCTCTTGGTCCAAGCAATTTCCCCACAAAATTGAACTTTGGATACTGCTTGACAGGAATCAG\n",
      "2 = ((80 + 1) % 3) + 1\n",
      ">record\n",
      "TTTGGCAGAAGAAATTGAAAAGTTTCAAGGTTCTGATGGAAAAAAGGAAGACGAAGAAAAGAAGTATCTTGATGTCATCAGCAACAAAAACATAAAGCTCTCAGAAAGAGTACTGATTCCTGTCAAGCAGTATCCAAAGTTCAATTTTGT\n",
      ">record_rc\n",
      "ACAAAATTGAACTTTGGATACTGCTTGACAGGAATCAGTACTCTTTCTGAGAGCTTTATGTTTTTGTTGCTGATGACATCAAGATACTTCTTTTCTTCGTCTTCCTTTTTTCCATCAGAACCTTGAAACTTTTCAATTTCTTCTGCCAAA\n",
      "--- Trying mate 1 ---\n",
      "mate1\n",
      "2 = 2 * 1\n",
      "frame: 2\n",
      "\n",
      "---\n",
      "read734191/sp|Q96A65|ENSP00000376868;mate1:842-991;mate2:949-1098__frame=-1\n",
      "start1: 841 -- end1: 991\n",
      "start2: 948 -- end2: 1098\n",
      ">mate1\n",
      "TCCTCATTAAGGGCTTGGCGAAACTGAAGAAGATCCCAGAAACAGTTAAGGCAATCATAGAGCGCTTGGAGCAGGAGTTGAAGCAAATTGTGAAGAGGTCTACAACCCAGGTGGCAGACAGTGGCTATCAGCGGGGGGAGAACGTTACTG\n",
      ">mate1_rc\n",
      "CAGTAACGTTCTCCCCCCGCTGATAGCCACTGTCTGCCACCTGGGTTGTAGACCTCTTCACAATTTGCTTCAACTCCTGCTCCAAGCGCTCTATGATTGCCTTAACTGTTTCTGGGATCTTCTTCAGTTTCGCCAAGCCCTTAATGAGGA\n",
      ">mate2\n",
      "CAGGTGGCAGACAGTGGCTATCAGCGGGGGGAGAACGTTACTGTGGAGAACCAACCAAGGTTGCTTCTAGAACTGCTGGAGTTACTGTTTGACAAGTTTAATGCTGTAGCCGCTGCACACTCTGTGGTCCTGGGATACCTGCAGGACACT\n",
      ">mate2_rc\n",
      "AGTGTCCTGCAGGTATCCCAGGACCACAGAGTGTGCAGCGGCTACAGCATTAAACTTGTCAAACAGTAACTCCAGCAGTTCTAGAAGCAACCTTGGTTGGTTCTCCACAGTAACGTTCTCCCCCCGCTGATAGCCACTGTCTGCCACCTG\n",
      "3 = ((841 + 1) % 3) + 1\n",
      ">record\n",
      "AGTGTCCTGCAGGTATCCCAGGACCACAGAGTGTGCAGCGGCTACAGCATTAAACTTGTCAAACAGTAACTCCAGCAGTTCTAGAAGCAACCTTGGTTGGTTCTCCACAGTAACGTTCTCCCCCCGCTGATAGCCACTGTCTGCCACCTG\n",
      ">record_rc\n",
      "CAGGTGGCAGACAGTGGCTATCAGCGGGGGGAGAACGTTACTGTGGAGAACCAACCAAGGTTGCTTCTAGAACTGCTGGAGTTACTGTTTGACAAGTTTAATGCTGTAGCCGCTGCACACTCTGTGGTCCTGGGATACCTGCAGGACACT\n",
      "--- Trying mate 1 ---\n",
      "--- Not mate1, trying mate 2 ---\n",
      "1 = ((948 + 1) % 3) + 1\n",
      "mate2, reverse complement\n",
      "-1 = 1 * -1\n",
      "frame: -1\n",
      "\n",
      "---\n",
      "read640286/sp|Q8N7Q2|BAC05176;mate1:30-179;mate2:140-289__frame=?\n",
      "start1: 29 -- end1: 179\n",
      "start2: 139 -- end2: 289\n",
      ">mate1\n",
      "TTTGGCCAACTTCGCCTCTTCAATTAAAAGGACACATGCTGTTAACGGGTGCTGTGGATTACAGATGATCGCACTCTGGGCACAGTCCTCTGGAAATGCAGATGCCCGTGTGGAGGAAATTCTGGCGGGAGAGGAGCGGCGACTCGCCGC\n",
      ">mate1_rc\n",
      "GCGGCGAGTCGCCGCTCCTCTCCCGCCAGAATTTCCTCCACACGGGCATCTGCATTTCCAGAGGACTGTGCCCAGAGTGCGATCATCTGTAATCCACAGCACCCGTTAACAGCATGTGTCCTTTTAATTGAAGAGGCGAAGTTGGCCAAA\n",
      ">mate2\n",
      "TGGAGGAAATTCTGGCGGGAGAGGAGCGGCGACTCGCCGCTCTGCTTGGATCTCAAGGCATGAGGTTCTGGGTGTGCCTCGCAGCCTGCAGAGCCATGTGGGGCCTTGCTGCCAGACGAGGACGGGCTGAAGACAGCAGCTCGTCTCCAG\n",
      ">mate2_rc\n",
      "CTGGAGACGAGCTGCTGTCTTCAGCCCGTCCTCGTCTGGCAGCAAGGCCCCACATGGCTCTGCAGGCTGCGAGGCACACCCAGAACCTCATGCCTTGAGATCCAAGCAGAGCGGCGAGTCGCCGCTCCTCTCCCGCCAGAATTTCCTCCA\n",
      "2 = ((29 + 1) % 3) + 1\n",
      ">record\n",
      "TTTGGCCAACTTCGCCTCTTCAATTAAAAGGACACATGCTGTTAACGGGTGCTGTGGATTACAGATGATCGCACTCTGGGCACAGTCCTCTGGAAATGCAGATGCCCGTGTGGAGGAAATTCTGGCGGGAGAGGAGCGGCGACTCGCCGC\n",
      ">record_rc\n",
      "GCGGCGAGTCGCCGCTCCTCTCCCGCCAGAATTTCCTCCACACGGGCATCTGCATTTCCAGAGGACTGTGCCCAGAGTGCGATCATCTGTAATCCACAGCACCCGTTAACAGCATGTGTCCTTTTAATTGAAGAGGCGAAGTTGGCCAAA\n",
      "--- Trying mate 1 ---\n",
      "mate1\n",
      "2 = 2 * 1\n",
      "frame: 2\n",
      "\n",
      "---\n",
      "read325914/sp|P56278|ENSP00000358488;mate1:12-161;mate2:125-274__frame=2\n",
      "start1: 11 -- end1: 161\n",
      "start2: 124 -- end2: 274\n",
      ">mate1\n",
      "GGATGTGGGGGCTCCACCCGATCACCTCTGGGTTCACCAAGAGGGTATCTACCGCGACGAATACCAGCGCACGTGGGTGGCCGTCGTGGAAGAGGAGACGAGTTTCCTAAGGGCACGAGTCCAGCAAATTCAGGTTCCCTTAGGTGACGC\n",
      ">mate1_rc\n",
      "GCGTCACCTAAGGGAACCTGAATTTGCTGGACTCGTGCCCTTAGGAAACTCGTCTCCTCTTCCACGACGGCCACCCACGTGCGCTGGTATTCGTCGCGGTAGATACCCTCTTGGTGAACCCAGAGGTGATCGGGTGGAGCCCCCACATCC\n",
      ">mate2\n",
      "CACGAGTCCAGCAAATTCAGGTTCCCTTAGGTGACGCAGCTAGGCCAAGTCACCTTCTTACCTCCCAGCTACCTCTCATGTGGCAACTCTACCCGGAGGAGCGCTACATGGATAACAACTCTCGCTTGTGGCAGATACAGCATCATTTAA\n",
      ">mate2_rc\n",
      "TTAAATGATGCTGTATCTGCCACAAGCGAGAGTTGTTATCCATGTAGCGCTCCTCCGGGTAGAGTTGCCACATGAGAGGTAGCTGGGAGGTAAGAAGGTGACTTGGCCTAGCTGCGTCACCTAAGGGAACCTGAATTTGCTGGACTCGTG\n",
      "2 = ((11 + 1) % 3) + 1\n",
      ">record\n",
      "GGATGTGGGGGCTCCACCCGATCACCTCTGGGTTCACCAAGAGGGTATCTACCGCGACGAATACCAGCGCACGTGGGTGGCCGTCGTGGAAGAGGAGACGAGTTTCCTAAGGGCACGAGTCCAGCAAATTCAGGTTCCCTTAGGTGACGC\n",
      ">record_rc\n",
      "GCGTCACCTAAGGGAACCTGAATTTGCTGGACTCGTGCCCTTAGGAAACTCGTCTCCTCTTCCACGACGGCCACCCACGTGCGCTGGTATTCGTCGCGGTAGATACCCTCTTGGTGAACCCAGAGGTGATCGGGTGGAGCCCCCACATCC\n",
      "--- Trying mate 1 ---\n",
      "mate1\n",
      "2 = 2 * 1\n",
      "frame: 2\n",
      "\n",
      "---\n",
      "read714894/sp|Q8WYR1|ENSP00000485280;mate1:570-719;mate2:662-811__frame=2\n",
      "start1: 569 -- end1: 719\n",
      "start2: 661 -- end2: 811\n",
      ">mate1\n",
      "CAGTGCCTACACCACCCTGCTCCTGCACGCCTTCCAGGCCACCTTTGGGGCCCACTGTGACGTCCCGGGCCTGCACTGCAGGCTACAGGCCAAGACCCTGGCAGAGCTTGAGGACATCTTCACGGAGACCGCAGAGGCACAGGAGCTGGC\n",
      ">mate1_rc\n",
      "GCCAGCTCCTGTGCCTCTGCGGTCTCCGTGAAGATGTCCTCAAGCTCTGCCAGGGTCTTGGCCTGTAGCCTGCAGTGCAGGCCCGGGACGTCACAGTGGGCCCCAAAGGTGGCCTGGAAGGCGTGCAGGAGCAGGGTGGTGTAGGCACTG\n",
      ">mate2\n",
      "AGACCCTGGCAGAGCTTGAGGACATCTTCACGGAGACCGCAGAGGCACAGGAGCTGGCATCTGGCATCGGGGATGCTGCAGAGGCCCGGCGGTGGCTCAGGACCAAGCTGCAGGCGGTGGGAGAAAAAGCTGGCTTCCCTGGGGTGTTAG\n",
      ">mate2_rc\n",
      "CTAACACCCCAGGGAAGCCAGCTTTTTCTCCCACCGCCTGCAGCTTGGTCCTGAGCCACCGCCGGGCCTCTGCAGCATCCCCGATGCCAGATGCCAGCTCCTGTGCCTCTGCGGTCTCCGTGAAGATGTCCTCAAGCTCTGCCAGGGTCT\n",
      "2 = ((569 + 1) % 3) + 1\n",
      ">record\n",
      "GAGCCAGACGCCCTCACCCCCGACAGACTCCCCTAGGCACGCCAGCCCTGGAGAGCTGGGCACCACCCCATGGGAGGAGAGCACCAATGACATCTCCCACTACCTCGGCATGCTGGACCCCTGGTATGAGCGCAATGTACTGGGCCTCAT\n",
      ">record_rc\n",
      "ATGAGGCCCAGTACATTGCGCTCATACCAGGGGTCCAGCATGCCGAGGTAGTGGGAGATGTCATTGGTGCTCTCCTCCCATGGGGTGGTGCCCAGCTCTCCAGGGCTGGCGTGCCTAGGGGAGTCTGTCGGGGGTGAGGGCGTCTGGCTC\n",
      "--- Trying mate 1 ---\n",
      "--- Not mate1, trying mate 2 ---\n",
      "frame: None\n",
      "(10,)\n"
     ]
    },
    {
     "name": "stderr",
     "output_type": "stream",
     "text": [
      "\n"
     ]
    },
    {
     "data": {
      "text/plain": [
       "read51/sp|A0A024RBG1|ENSP00000492425;mate1:130-279;mate2:281-430__frame=-3    -3\n",
       "read52/sp|A0A024RBG1|ENSP00000492425;mate1:125-274;mate2:193-342__frame=3      3\n",
       "read302822/sp|P49760|ENSP00000460443;mate1:755-904;mate2:890-1039__frame=3     3\n",
       "read780376/sp|Q96PL2|ENSP00000494896;mate1:747-896;mate2:829-978__frame=2      2\n",
       "read192484/sp|P09629|ENSP00000239165;mate1:19-168;mate2:125-274__frame=1       1\n",
       "read335141/sp|P60368|ENSP00000375479;mate1:141-290;mate2:251-400__frame=2      2\n",
       "read494460/sp|Q5VWX1|ENSP00000281156;mate1:81-230;mate2:193-342__frame=2       2\n",
       "read734191/sp|Q96A65|ENSP00000376868;mate1:842-991;mate2:949-1098__frame=-1   -1\n",
       "read640286/sp|Q8N7Q2|BAC05176;mate1:30-179;mate2:140-289__frame=?              2\n",
       "read325914/sp|P56278|ENSP00000358488;mate1:12-161;mate2:125-274__frame=2       2\n",
       "Name: translation_frame, dtype: int64"
      ]
     },
     "execution_count": 467,
     "metadata": {},
     "output_type": "execute_result"
    }
   ],
   "source": [
    "mini_results = fastq_per_read_frame('mini.fastq', verbose=2)\n",
    "mini_results"
   ]
  },
  {
   "cell_type": "code",
   "execution_count": 468,
   "metadata": {},
   "outputs": [
    {
     "data": {
      "text/plain": [
       "3"
      ]
     },
     "execution_count": 468,
     "metadata": {},
     "output_type": "execute_result"
    }
   ],
   "source": [
    "((125  ) % 3 ) + 1"
   ]
  },
  {
   "cell_type": "code",
   "execution_count": 469,
   "metadata": {},
   "outputs": [
    {
     "data": {
      "text/plain": [
       "read51/sp|A0A024RBG1|ENSP00000492425;mate1:130-279;mate2:281-430__frame=-3    -3\n",
       "read52/sp|A0A024RBG1|ENSP00000492425;mate1:125-274;mate2:193-342__frame=3      3\n",
       "read302822/sp|P49760|ENSP00000460443;mate1:755-904;mate2:890-1039__frame=3     3\n",
       "read780376/sp|Q96PL2|ENSP00000494896;mate1:747-896;mate2:829-978__frame=2      2\n",
       "read192484/sp|P09629|ENSP00000239165;mate1:19-168;mate2:125-274__frame=1       1\n",
       "read335141/sp|P60368|ENSP00000375479;mate1:141-290;mate2:251-400__frame=2      2\n",
       "read494460/sp|Q5VWX1|ENSP00000281156;mate1:81-230;mate2:193-342__frame=2       2\n",
       "read734191/sp|Q96A65|ENSP00000376868;mate1:842-991;mate2:949-1098__frame=-1   -1\n",
       "read640286/sp|Q8N7Q2|BAC05176;mate1:30-179;mate2:140-289__frame=?              2\n",
       "read325914/sp|P56278|ENSP00000358488;mate1:12-161;mate2:125-274__frame=2       2\n",
       "Name: translation_frame, dtype: int64"
      ]
     },
     "execution_count": 469,
     "metadata": {},
     "output_type": "execute_result"
    }
   ],
   "source": [
    "mini_results"
   ]
  },
  {
   "cell_type": "code",
   "execution_count": 397,
   "metadata": {},
   "outputs": [
    {
     "data": {
      "text/html": [
       "<div>\n",
       "<style scoped>\n",
       "    .dataframe tbody tr th:only-of-type {\n",
       "        vertical-align: middle;\n",
       "    }\n",
       "\n",
       "    .dataframe tbody tr th {\n",
       "        vertical-align: top;\n",
       "    }\n",
       "\n",
       "    .dataframe thead th {\n",
       "        text-align: right;\n",
       "    }\n",
       "</style>\n",
       "<table border=\"1\" class=\"dataframe\">\n",
       "  <thead>\n",
       "    <tr style=\"text-align: right;\">\n",
       "      <th></th>\n",
       "      <th>read_id</th>\n",
       "      <th>jaccard_in_peptide_db</th>\n",
       "      <th>n_kmers</th>\n",
       "      <th>category</th>\n",
       "      <th>translation_frame</th>\n",
       "      <th>filename</th>\n",
       "      <th>alphabet</th>\n",
       "      <th>ksize</th>\n",
       "      <th>uniprot_id</th>\n",
       "    </tr>\n",
       "  </thead>\n",
       "  <tbody>\n",
       "    <tr>\n",
       "      <th>305</th>\n",
       "      <td>read51/sp|A0A024RBG1|ENSP00000492425;mate1:130...</td>\n",
       "      <td>1.000000</td>\n",
       "      <td>39.0</td>\n",
       "      <td>Coding</td>\n",
       "      <td>-3</td>\n",
       "      <td>Homo_sapiens_9606_qfo_dna_01.fq.gz</td>\n",
       "      <td>protein</td>\n",
       "      <td>11</td>\n",
       "      <td>sp|A0A024RBG1</td>\n",
       "    </tr>\n",
       "    <tr>\n",
       "      <th>308</th>\n",
       "      <td>read52/sp|A0A024RBG1|ENSP00000492425;mate1:125...</td>\n",
       "      <td>1.000000</td>\n",
       "      <td>39.0</td>\n",
       "      <td>Coding</td>\n",
       "      <td>3</td>\n",
       "      <td>Homo_sapiens_9606_qfo_dna_01.fq.gz</td>\n",
       "      <td>protein</td>\n",
       "      <td>11</td>\n",
       "      <td>sp|A0A024RBG1</td>\n",
       "    </tr>\n",
       "    <tr>\n",
       "      <th>1154898</th>\n",
       "      <td>read192484/sp|P09629|ENSP00000239165;mate1:19-...</td>\n",
       "      <td>1.000000</td>\n",
       "      <td>40.0</td>\n",
       "      <td>Coding</td>\n",
       "      <td>1</td>\n",
       "      <td>Homo_sapiens_9606_qfo_dna_01.fq.gz</td>\n",
       "      <td>protein</td>\n",
       "      <td>11</td>\n",
       "      <td>sp|P09629</td>\n",
       "    </tr>\n",
       "    <tr>\n",
       "      <th>1955479</th>\n",
       "      <td>read325914/sp|P56278|ENSP00000358488;mate1:12-...</td>\n",
       "      <td>1.000000</td>\n",
       "      <td>39.0</td>\n",
       "      <td>Coding</td>\n",
       "      <td>2</td>\n",
       "      <td>Homo_sapiens_9606_qfo_dna_01.fq.gz</td>\n",
       "      <td>protein</td>\n",
       "      <td>11</td>\n",
       "      <td>sp|P56278</td>\n",
       "    </tr>\n",
       "    <tr>\n",
       "      <th>2010841</th>\n",
       "      <td>read335141/sp|P60368|ENSP00000375479;mate1:141...</td>\n",
       "      <td>1.000000</td>\n",
       "      <td>39.0</td>\n",
       "      <td>Coding</td>\n",
       "      <td>2</td>\n",
       "      <td>Homo_sapiens_9606_qfo_dna_01.fq.gz</td>\n",
       "      <td>protein</td>\n",
       "      <td>11</td>\n",
       "      <td>sp|P60368</td>\n",
       "    </tr>\n",
       "    <tr>\n",
       "      <th>2966755</th>\n",
       "      <td>read494460/sp|Q5VWX1|ENSP00000281156;mate1:81-...</td>\n",
       "      <td>1.000000</td>\n",
       "      <td>39.0</td>\n",
       "      <td>Coding</td>\n",
       "      <td>2</td>\n",
       "      <td>Homo_sapiens_9606_qfo_dna_01.fq.gz</td>\n",
       "      <td>protein</td>\n",
       "      <td>11</td>\n",
       "      <td>sp|Q5VWX1</td>\n",
       "    </tr>\n",
       "    <tr>\n",
       "      <th>3841711</th>\n",
       "      <td>read640286/sp|Q8N7Q2|BAC05176;mate1:30-179;mat...</td>\n",
       "      <td>1.000000</td>\n",
       "      <td>39.0</td>\n",
       "      <td>Coding</td>\n",
       "      <td>2</td>\n",
       "      <td>Homo_sapiens_9606_qfo_dna_01.fq.gz</td>\n",
       "      <td>protein</td>\n",
       "      <td>11</td>\n",
       "      <td>sp|Q8N7Q2</td>\n",
       "    </tr>\n",
       "    <tr>\n",
       "      <th>4405143</th>\n",
       "      <td>read734191/sp|Q96A65|ENSP00000376868;mate1:842...</td>\n",
       "      <td>1.000000</td>\n",
       "      <td>40.0</td>\n",
       "      <td>Coding</td>\n",
       "      <td>-1</td>\n",
       "      <td>Homo_sapiens_9606_qfo_dna_01.fq.gz</td>\n",
       "      <td>protein</td>\n",
       "      <td>11</td>\n",
       "      <td>sp|Q96A65</td>\n",
       "    </tr>\n",
       "    <tr>\n",
       "      <th>4682251</th>\n",
       "      <td>read780376/sp|Q96PL2|ENSP00000494896;mate1:747...</td>\n",
       "      <td>0.974359</td>\n",
       "      <td>39.0</td>\n",
       "      <td>Coding</td>\n",
       "      <td>2</td>\n",
       "      <td>Homo_sapiens_9606_qfo_dna_01.fq.gz</td>\n",
       "      <td>protein</td>\n",
       "      <td>11</td>\n",
       "      <td>sp|Q96PL2</td>\n",
       "    </tr>\n",
       "  </tbody>\n",
       "</table>\n",
       "</div>"
      ],
      "text/plain": [
       "                                                   read_id  \\\n",
       "305      read51/sp|A0A024RBG1|ENSP00000492425;mate1:130...   \n",
       "308      read52/sp|A0A024RBG1|ENSP00000492425;mate1:125...   \n",
       "1154898  read192484/sp|P09629|ENSP00000239165;mate1:19-...   \n",
       "1955479  read325914/sp|P56278|ENSP00000358488;mate1:12-...   \n",
       "2010841  read335141/sp|P60368|ENSP00000375479;mate1:141...   \n",
       "2966755  read494460/sp|Q5VWX1|ENSP00000281156;mate1:81-...   \n",
       "3841711  read640286/sp|Q8N7Q2|BAC05176;mate1:30-179;mat...   \n",
       "4405143  read734191/sp|Q96A65|ENSP00000376868;mate1:842...   \n",
       "4682251  read780376/sp|Q96PL2|ENSP00000494896;mate1:747...   \n",
       "\n",
       "         jaccard_in_peptide_db  n_kmers category  translation_frame  \\\n",
       "305                   1.000000     39.0   Coding                 -3   \n",
       "308                   1.000000     39.0   Coding                  3   \n",
       "1154898               1.000000     40.0   Coding                  1   \n",
       "1955479               1.000000     39.0   Coding                  2   \n",
       "2010841               1.000000     39.0   Coding                  2   \n",
       "2966755               1.000000     39.0   Coding                  2   \n",
       "3841711               1.000000     39.0   Coding                  2   \n",
       "4405143               1.000000     40.0   Coding                 -1   \n",
       "4682251               0.974359     39.0   Coding                  2   \n",
       "\n",
       "                                   filename alphabet  ksize     uniprot_id  \n",
       "305      Homo_sapiens_9606_qfo_dna_01.fq.gz  protein     11  sp|A0A024RBG1  \n",
       "308      Homo_sapiens_9606_qfo_dna_01.fq.gz  protein     11  sp|A0A024RBG1  \n",
       "1154898  Homo_sapiens_9606_qfo_dna_01.fq.gz  protein     11      sp|P09629  \n",
       "1955479  Homo_sapiens_9606_qfo_dna_01.fq.gz  protein     11      sp|P56278  \n",
       "2010841  Homo_sapiens_9606_qfo_dna_01.fq.gz  protein     11      sp|P60368  \n",
       "2966755  Homo_sapiens_9606_qfo_dna_01.fq.gz  protein     11      sp|Q5VWX1  \n",
       "3841711  Homo_sapiens_9606_qfo_dna_01.fq.gz  protein     11      sp|Q8N7Q2  \n",
       "4405143  Homo_sapiens_9606_qfo_dna_01.fq.gz  protein     11      sp|Q96A65  \n",
       "4682251  Homo_sapiens_9606_qfo_dna_01.fq.gz  protein     11      sp|Q96PL2  "
      ]
     },
     "execution_count": 397,
     "metadata": {},
     "output_type": "execute_result"
    }
   ],
   "source": [
    "mini_reads = mini_results.index.str.split('__').str[0]\n",
    "\n",
    "protein_k11_good_uniprot_ids_coding.query('read_id in @mini_reads')"
   ]
  },
  {
   "cell_type": "code",
   "execution_count": 411,
   "metadata": {},
   "outputs": [
    {
     "data": {
      "text/html": [
       "<div>\n",
       "<style scoped>\n",
       "    .dataframe tbody tr th:only-of-type {\n",
       "        vertical-align: middle;\n",
       "    }\n",
       "\n",
       "    .dataframe tbody tr th {\n",
       "        vertical-align: top;\n",
       "    }\n",
       "\n",
       "    .dataframe thead th {\n",
       "        text-align: right;\n",
       "    }\n",
       "</style>\n",
       "<table border=\"1\" class=\"dataframe\">\n",
       "  <thead>\n",
       "    <tr style=\"text-align: right;\">\n",
       "      <th></th>\n",
       "      <th>read_id</th>\n",
       "      <th>true_mate</th>\n",
       "      <th>true_frame</th>\n",
       "      <th>guessed_frame</th>\n",
       "    </tr>\n",
       "  </thead>\n",
       "  <tbody>\n",
       "    <tr>\n",
       "      <th>0</th>\n",
       "      <td>read51/sp|A0A024RBG1|ENSP00000492425;mate1:130...</td>\n",
       "      <td>mate2_rc</td>\n",
       "      <td>-3</td>\n",
       "      <td>-3</td>\n",
       "    </tr>\n",
       "    <tr>\n",
       "      <th>1</th>\n",
       "      <td>read52/sp|A0A024RBG1|ENSP00000492425;mate1:125...</td>\n",
       "      <td>mate1</td>\n",
       "      <td>3</td>\n",
       "      <td>2</td>\n",
       "    </tr>\n",
       "    <tr>\n",
       "      <th>2</th>\n",
       "      <td>read302822/sp|P49760|ENSP00000460443;mate1:755...</td>\n",
       "      <td>mate1</td>\n",
       "      <td>3</td>\n",
       "      <td>2</td>\n",
       "    </tr>\n",
       "    <tr>\n",
       "      <th>3</th>\n",
       "      <td>read780376/sp|Q96PL2|ENSP00000494896;mate1:747...</td>\n",
       "      <td>mate1</td>\n",
       "      <td>2</td>\n",
       "      <td>3</td>\n",
       "    </tr>\n",
       "    <tr>\n",
       "      <th>4</th>\n",
       "      <td>read192484/sp|P09629|ENSP00000239165;mate1:19-...</td>\n",
       "      <td>mate1</td>\n",
       "      <td>1</td>\n",
       "      <td>1</td>\n",
       "    </tr>\n",
       "    <tr>\n",
       "      <th>5</th>\n",
       "      <td>read335141/sp|P60368|ENSP00000375479;mate1:141...</td>\n",
       "      <td>mate1</td>\n",
       "      <td>2</td>\n",
       "      <td>3</td>\n",
       "    </tr>\n",
       "    <tr>\n",
       "      <th>6</th>\n",
       "      <td>read494460/sp|Q5VWX1|ENSP00000281156;mate1:81-...</td>\n",
       "      <td>mate1</td>\n",
       "      <td>2</td>\n",
       "      <td>3</td>\n",
       "    </tr>\n",
       "    <tr>\n",
       "      <th>7</th>\n",
       "      <td>read734191/sp|Q96A65|ENSP00000376868;mate1:842...</td>\n",
       "      <td>mate2_rc</td>\n",
       "      <td>-1</td>\n",
       "      <td>-2</td>\n",
       "    </tr>\n",
       "    <tr>\n",
       "      <th>8</th>\n",
       "      <td>read640286/sp|Q8N7Q2|BAC05176;mate1:30-179;mat...</td>\n",
       "      <td>mate1</td>\n",
       "      <td>3</td>\n",
       "      <td>2</td>\n",
       "    </tr>\n",
       "    <tr>\n",
       "      <th>9</th>\n",
       "      <td>read325914/sp|P56278|ENSP00000358488;mate1:12-...</td>\n",
       "      <td>mate1</td>\n",
       "      <td>2</td>\n",
       "      <td>3</td>\n",
       "    </tr>\n",
       "  </tbody>\n",
       "</table>\n",
       "</div>"
      ],
      "text/plain": [
       "                                             read_id true_mate  true_frame  \\\n",
       "0  read51/sp|A0A024RBG1|ENSP00000492425;mate1:130...  mate2_rc          -3   \n",
       "1  read52/sp|A0A024RBG1|ENSP00000492425;mate1:125...     mate1           3   \n",
       "2  read302822/sp|P49760|ENSP00000460443;mate1:755...     mate1           3   \n",
       "3  read780376/sp|Q96PL2|ENSP00000494896;mate1:747...     mate1           2   \n",
       "4  read192484/sp|P09629|ENSP00000239165;mate1:19-...     mate1           1   \n",
       "5  read335141/sp|P60368|ENSP00000375479;mate1:141...     mate1           2   \n",
       "6  read494460/sp|Q5VWX1|ENSP00000281156;mate1:81-...     mate1           2   \n",
       "7  read734191/sp|Q96A65|ENSP00000376868;mate1:842...  mate2_rc          -1   \n",
       "8  read640286/sp|Q8N7Q2|BAC05176;mate1:30-179;mat...     mate1           3   \n",
       "9  read325914/sp|P56278|ENSP00000358488;mate1:12-...     mate1           2   \n",
       "\n",
       "   guessed_frame  \n",
       "0             -3  \n",
       "1              2  \n",
       "2              2  \n",
       "3              3  \n",
       "4              1  \n",
       "5              3  \n",
       "6              3  \n",
       "7             -2  \n",
       "8              2  \n",
       "9              3  "
      ]
     },
     "execution_count": 411,
     "metadata": {},
     "output_type": "execute_result"
    }
   ],
   "source": [
    "from io import StringIO\n",
    "s = '''read_id\ttrue_mate\ttrue_frame\tguessed_frame\n",
    "read51/sp|A0A024RBG1|ENSP00000492425;mate1:130-279;mate2:281-430\tmate2_rc\t-3\t-3\n",
    "read52/sp|A0A024RBG1|ENSP00000492425;mate1:125-274;mate2:193-342\tmate1\t3\t2\n",
    "read302822/sp|P49760|ENSP00000460443;mate1:755-904;mate2:890-1039\tmate1\t3\t2\n",
    "read780376/sp|Q96PL2|ENSP00000494896;mate1:747-896;mate2:829-978\tmate1\t2\t3\n",
    "read192484/sp|P09629|ENSP00000239165;mate1:19-168;mate2:125-274\tmate1\t1\t1\n",
    "read335141/sp|P60368|ENSP00000375479;mate1:141-290;mate2:251-400\tmate1\t2\t3\n",
    "read494460/sp|Q5VWX1|ENSP00000281156;mate1:81-230;mate2:193-342\tmate1\t2\t3\n",
    "read734191/sp|Q96A65|ENSP00000376868;mate1:842-991;mate2:949-1098\tmate2_rc\t-1\t-2\n",
    "read640286/sp|Q8N7Q2|BAC05176;mate1:30-179;mate2:140-289\tmate1\t3\t2\n",
    "read325914/sp|P56278|ENSP00000358488;mate1:12-161;mate2:125-274\tmate1\t2\t3\n",
    "'''\n",
    "mini_df = pd.read_csv(StringIO(s), sep='\\t')\n",
    "mini_df"
   ]
  },
  {
   "cell_type": "code",
   "execution_count": 414,
   "metadata": {},
   "outputs": [
    {
     "data": {
      "text/html": [
       "<div>\n",
       "<style scoped>\n",
       "    .dataframe tbody tr th:only-of-type {\n",
       "        vertical-align: middle;\n",
       "    }\n",
       "\n",
       "    .dataframe tbody tr th {\n",
       "        vertical-align: top;\n",
       "    }\n",
       "\n",
       "    .dataframe thead th {\n",
       "        text-align: right;\n",
       "    }\n",
       "</style>\n",
       "<table border=\"1\" class=\"dataframe\">\n",
       "  <thead>\n",
       "    <tr style=\"text-align: right;\">\n",
       "      <th></th>\n",
       "      <th>read_id</th>\n",
       "      <th>true_mate</th>\n",
       "      <th>true_frame</th>\n",
       "      <th>guessed_frame</th>\n",
       "      <th>transcript_id</th>\n",
       "      <th>uniprot_id</th>\n",
       "    </tr>\n",
       "  </thead>\n",
       "  <tbody>\n",
       "    <tr>\n",
       "      <th>0</th>\n",
       "      <td>read51/sp|A0A024RBG1|ENSP00000492425;mate1:130...</td>\n",
       "      <td>mate2_rc</td>\n",
       "      <td>-3</td>\n",
       "      <td>-3</td>\n",
       "      <td>sp|A0A024RBG1|ENSP00000492425</td>\n",
       "      <td>sp|A0A024RBG1</td>\n",
       "    </tr>\n",
       "    <tr>\n",
       "      <th>1</th>\n",
       "      <td>read52/sp|A0A024RBG1|ENSP00000492425;mate1:125...</td>\n",
       "      <td>mate1</td>\n",
       "      <td>3</td>\n",
       "      <td>2</td>\n",
       "      <td>sp|A0A024RBG1|ENSP00000492425</td>\n",
       "      <td>sp|A0A024RBG1</td>\n",
       "    </tr>\n",
       "    <tr>\n",
       "      <th>2</th>\n",
       "      <td>read302822/sp|P49760|ENSP00000460443;mate1:755...</td>\n",
       "      <td>mate1</td>\n",
       "      <td>3</td>\n",
       "      <td>2</td>\n",
       "      <td>sp|P49760|ENSP00000460443</td>\n",
       "      <td>sp|P49760</td>\n",
       "    </tr>\n",
       "    <tr>\n",
       "      <th>3</th>\n",
       "      <td>read780376/sp|Q96PL2|ENSP00000494896;mate1:747...</td>\n",
       "      <td>mate1</td>\n",
       "      <td>2</td>\n",
       "      <td>3</td>\n",
       "      <td>sp|Q96PL2|ENSP00000494896</td>\n",
       "      <td>sp|Q96PL2</td>\n",
       "    </tr>\n",
       "    <tr>\n",
       "      <th>4</th>\n",
       "      <td>read192484/sp|P09629|ENSP00000239165;mate1:19-...</td>\n",
       "      <td>mate1</td>\n",
       "      <td>1</td>\n",
       "      <td>1</td>\n",
       "      <td>sp|P09629|ENSP00000239165</td>\n",
       "      <td>sp|P09629</td>\n",
       "    </tr>\n",
       "    <tr>\n",
       "      <th>5</th>\n",
       "      <td>read335141/sp|P60368|ENSP00000375479;mate1:141...</td>\n",
       "      <td>mate1</td>\n",
       "      <td>2</td>\n",
       "      <td>3</td>\n",
       "      <td>sp|P60368|ENSP00000375479</td>\n",
       "      <td>sp|P60368</td>\n",
       "    </tr>\n",
       "    <tr>\n",
       "      <th>6</th>\n",
       "      <td>read494460/sp|Q5VWX1|ENSP00000281156;mate1:81-...</td>\n",
       "      <td>mate1</td>\n",
       "      <td>2</td>\n",
       "      <td>3</td>\n",
       "      <td>sp|Q5VWX1|ENSP00000281156</td>\n",
       "      <td>sp|Q5VWX1</td>\n",
       "    </tr>\n",
       "    <tr>\n",
       "      <th>7</th>\n",
       "      <td>read734191/sp|Q96A65|ENSP00000376868;mate1:842...</td>\n",
       "      <td>mate2_rc</td>\n",
       "      <td>-1</td>\n",
       "      <td>-2</td>\n",
       "      <td>sp|Q96A65|ENSP00000376868</td>\n",
       "      <td>sp|Q96A65</td>\n",
       "    </tr>\n",
       "    <tr>\n",
       "      <th>8</th>\n",
       "      <td>read640286/sp|Q8N7Q2|BAC05176;mate1:30-179;mat...</td>\n",
       "      <td>mate1</td>\n",
       "      <td>3</td>\n",
       "      <td>2</td>\n",
       "      <td>sp|Q8N7Q2|BAC05176</td>\n",
       "      <td>sp|Q8N7Q2</td>\n",
       "    </tr>\n",
       "    <tr>\n",
       "      <th>9</th>\n",
       "      <td>read325914/sp|P56278|ENSP00000358488;mate1:12-...</td>\n",
       "      <td>mate1</td>\n",
       "      <td>2</td>\n",
       "      <td>3</td>\n",
       "      <td>sp|P56278|ENSP00000358488</td>\n",
       "      <td>sp|P56278</td>\n",
       "    </tr>\n",
       "  </tbody>\n",
       "</table>\n",
       "</div>"
      ],
      "text/plain": [
       "                                             read_id true_mate  true_frame  \\\n",
       "0  read51/sp|A0A024RBG1|ENSP00000492425;mate1:130...  mate2_rc          -3   \n",
       "1  read52/sp|A0A024RBG1|ENSP00000492425;mate1:125...     mate1           3   \n",
       "2  read302822/sp|P49760|ENSP00000460443;mate1:755...     mate1           3   \n",
       "3  read780376/sp|Q96PL2|ENSP00000494896;mate1:747...     mate1           2   \n",
       "4  read192484/sp|P09629|ENSP00000239165;mate1:19-...     mate1           1   \n",
       "5  read335141/sp|P60368|ENSP00000375479;mate1:141...     mate1           2   \n",
       "6  read494460/sp|Q5VWX1|ENSP00000281156;mate1:81-...     mate1           2   \n",
       "7  read734191/sp|Q96A65|ENSP00000376868;mate1:842...  mate2_rc          -1   \n",
       "8  read640286/sp|Q8N7Q2|BAC05176;mate1:30-179;mat...     mate1           3   \n",
       "9  read325914/sp|P56278|ENSP00000358488;mate1:12-...     mate1           2   \n",
       "\n",
       "   guessed_frame                  transcript_id     uniprot_id  \n",
       "0             -3  sp|A0A024RBG1|ENSP00000492425  sp|A0A024RBG1  \n",
       "1              2  sp|A0A024RBG1|ENSP00000492425  sp|A0A024RBG1  \n",
       "2              2      sp|P49760|ENSP00000460443      sp|P49760  \n",
       "3              3      sp|Q96PL2|ENSP00000494896      sp|Q96PL2  \n",
       "4              1      sp|P09629|ENSP00000239165      sp|P09629  \n",
       "5              3      sp|P60368|ENSP00000375479      sp|P60368  \n",
       "6              3      sp|Q5VWX1|ENSP00000281156      sp|Q5VWX1  \n",
       "7             -2      sp|Q96A65|ENSP00000376868      sp|Q96A65  \n",
       "8              2             sp|Q8N7Q2|BAC05176      sp|Q8N7Q2  \n",
       "9              3      sp|P56278|ENSP00000358488      sp|P56278  "
      ]
     },
     "execution_count": 414,
     "metadata": {},
     "output_type": "execute_result"
    }
   ],
   "source": [
    "mini_df['transcript_id'] = mini_df.read_id.map(lambda x: x.split(';')[0].split('/')[-1])\n",
    "mini_df['uniprot_id'] = mini_df.transcript_id.map(lambda x: '|'.join(x.split('|')[:2]))\n",
    "mini_df"
   ]
  },
  {
   "cell_type": "code",
   "execution_count": null,
   "metadata": {},
   "outputs": [],
   "source": []
  },
  {
   "cell_type": "code",
   "execution_count": 417,
   "metadata": {},
   "outputs": [
    {
     "name": "stdout",
     "output_type": "stream",
     "text": [
      "\n",
      "---\n",
      "read51/sp|A0A024RBG1|ENSP00000492425;mate1:130-279;mate2:281-430\n",
      "ATGATGAAGTTCAAGCCCAACCAGACGCGGACCTACGACCGCGAGGGCTTCAAGAAGCGGGCGGCGTGCCTGTGCTTCCGGAGCGAGCAGGAGGACGAGGTGCTGCTGGTGAGTAGCAGCCGGTACCCAGACCAGTGGATTGTCCCAGGAGGAGGAATGGAACCCGAGGAGGAACCTGGCGGTGCTGCCGTGAGGGAAGTTTATGAGGAGGCTGGAGTCAAAGGAAAACTAGGCAGACTTCTGGGCATATTTGAGCAGAACCAAGACCGAAAGCACAGAACATATGTTTATGTTCTAACAGTCACTGAAATATTAGAAGATTGGGAAGATTCTGTTAATATTGGAAGGAAGAGAGAGTGGTTCAAAGTAGAAGATGCTATCAAAGTTCTCCAGTGTCATAAACCTGTACATGCAGAGTATCTGGAAAAGCTAAAGCTGGGTTGTTCCCCAGCCAATGGAAATTCTACAGTCCCTTCCCTTCCGGATAATAATGCCTTGTTTGTAACCGCTGCACAGACCTCTGGGTTGCCATCTAGTGTAAGATAG\n",
      "\n",
      "---\n",
      "read52/sp|A0A024RBG1|ENSP00000492425;mate1:125-274;mate2:193-342\n",
      "ATGATGAAGTTCAAGCCCAACCAGACGCGGACCTACGACCGCGAGGGCTTCAAGAAGCGGGCGGCGTGCCTGTGCTTCCGGAGCGAGCAGGAGGACGAGGTGCTGCTGGTGAGTAGCAGCCGGTACCCAGACCAGTGGATTGTCCCAGGAGGAGGAATGGAACCCGAGGAGGAACCTGGCGGTGCTGCCGTGAGGGAAGTTTATGAGGAGGCTGGAGTCAAAGGAAAACTAGGCAGACTTCTGGGCATATTTGAGCAGAACCAAGACCGAAAGCACAGAACATATGTTTATGTTCTAACAGTCACTGAAATATTAGAAGATTGGGAAGATTCTGTTAATATTGGAAGGAAGAGAGAGTGGTTCAAAGTAGAAGATGCTATCAAAGTTCTCCAGTGTCATAAACCTGTACATGCAGAGTATCTGGAAAAGCTAAAGCTGGGTTGTTCCCCAGCCAATGGAAATTCTACAGTCCCTTCCCTTCCGGATAATAATGCCTTGTTTGTAACCGCTGCACAGACCTCTGGGTTGCCATCTAGTGTAAGATAG\n",
      "\n",
      "---\n",
      "read302822/sp|P49760|ENSP00000460443;mate1:755-904;mate2:890-1039\n",
      "ATGCCGCATCCTCGAAGGTACCACTCCTCAGAGCGAGGCAGCCGGGGGAGTTACCGTGAACACTATCGGAGCCGAAAGCATAAGCGACGAAGAAGTCGCTCCTGGTCAAGTAGTAGTGACCGGACACGACGGCGTCGGCGAGAGGACAGCTACCATGTCCGTTCTCGAAGCAGTTATGATGATCGTTCGTCCGACCGGAGGGTGTATGACCGGCGATACTGTGGCAGCTACAGACGCAACGATTATAGCCGGGATCGGGGAGATGCCTACTATGACACAGACTATCGGCATTCCTATGAATATCAGCGGGAGAACAGCAGTTACCGCAGCCAGCGCAGCAGCCGGAGGAAGCACAGACGGCGGAGGAGGCGCAGCCGGACATTTAGCCGCTCATCTTCGCAGCACAGCAGCCGGAGAGCCAAGAGTGTAGAGGACGACGCTGAGGGCCACCTCATCTACCACGTCGGGGACTGGCTACAAGAGCGATATGAAATCGTTAGCACCTTAGGAGAGGGGACCTTCGGCCGAGTTGTACAATGTGTTGACCATCGCAGGGGTGGGGCTCGAGTTGCCCTGAAGATCATTAAGAATGTGGAGAAGTACAAGGAAGCAGCTCGACTTGAGATCAACGTGCTAGAGAAAATCAATGAGAAAGACCCTGACAACAAGAACCTCTGTGTCCAGATGTTTGACTGGTTTGACTACCATGGCCACATGTGTATCTCCTTTGAGCTTCTGGGCCTTAGCACCTTCGATTTCCTCAAAGACAACAACTACCTGCCCTACCCCATCCACCAAGTGCGCCACATGGCCTTCCAGCTGTGCCAGGCTGTCAAGTTCCTCCATGATAACAAGCTGACACATACAGACCTCAAGCCTGAAAATATTCTGTTTGTGAATTCAGACTATGAGCTCACCTACAACCTAGAGAAGAAGCGAGATGAGCGCAGTGTGAAGAGCACAGCTGTGCGGGTGGTAGACTTTGGCAGTGCCACCTTTGACCATGAGCACCATAGCACCATTGTCTCCACTCGCCATTACCGAGCACCAGAAGTCATCCTTGAGTTGGGCTGGTCACAGCCTTGTGATGTGTGGAGTATAGGCTGCATCATCTTTGAATACTATGTGGGATTCACCCTCTTCCAGACCCATGACAACAGAGAGCATCTAGCCATGATGGAAAGGATCTTGGGTCCTATCCCTTCCCGGATGATCCGAAAGACAAGAAAGCAGAAATATTTTTACCGGGGTCGCCTGGATTGGGATGAGAACACATCAGCTGGGCGCTATGTTCGTGAGAACTGCAAACCGCTGCGGCGGTATCTGACCTCAGAGGCAGAGGAACACCACCAGCTCTTCGATCTGATTGAAAGCATGCTAGAGTATGAACCAGCTAAGCGGCTGACCTTGGGTGAAGCCCTTCAGCATCCTTTCTTCGCCCGCCTTCGGGCTGAGCCGCCCAACAAGTTGTGGGACTCCAGTCGGGATATCAGTCGGTGA\n",
      "\n",
      "---\n",
      "read780376/sp|Q96PL2|ENSP00000494896;mate1:747-896;mate2:829-978\n",
      "ATGGTGACGAAGGCCTTTGTCTTGTTGGCCATCTTTGCAGAAGCCTCTGCAAAATCGTGTGCTCCAAATAAAGCAGATGTCATTCTTGTGTTTTGCTATCCCAAAACCATCATCACCAAAATCCCCGAGTGTCCCTATGGATGGGAAGTTCATCAGCTGGCCCTCGGAGGGCTGTGTTACAATGGGGTCCACGAAGGAGGTTACTACCAATTTGTGATCCCAGATTTATCACCTAAAAACAAGTCCTATTGTGGAACCCAGTCTGAGTACAAGCCACCTATCTATCACTTCTACAGTCACATCGTTTCCAATGACACCACAGTGATTGTAAAAAACCAGCCTGTCAACTACTCCTTCTCCTGCACCTACCACTCCACCTACTTGGTGAACCAGGCTGCCTTTGACCAGAGAGTGGCCACTGTTCACGTGAAGAACGGGAGCATGGGCACATTTGAGAGCCAACTGTCTCTCAACTTCTACACTAATGCCAAGTTCTCCATCAAGAAAGAAGCTCCCTTTGTCCTGGAGGCATCCGAAATCGGTTCAGATCTGTTTGCAGGAGTGGAAGCCAAAGGGTTAAGCATTAGGTTTAAAGTGGTCTTGAACAGCTGTTGGGCCACCCCCTCGGCTGACTTCATGTATCCCTTGCAGTGGCAGCTGATCAACAAGGGCTGCCCCACGGATGAAACCGTCCTCGTGCATGAGAATGGGAGAGATCACAGGGCAACCTTCCAATTCAATGCTTTCCGGTTCCAGAACATCCCCAAACTCTCCAAGGTGTGGTTACACTGTGAGACGTTCATCTGCGACAGTGAGAAACTCTCCTGCCCAGTGACCTGCGATAAACGGAAGCGCCTCCTGCGAGACCAGACCGGGGGAGTCCTGGTCGTGGAGCTCTCCCTGCGGAGCAGGGGATTTTCCAGTCTCTATAGCTTCTCAGATGTTCTCCACCACCTCATCATGATGTTGGGGATTTGTGCCGTGTTATAG\n",
      "\n",
      "---\n",
      "read192484/sp|P09629|ENSP00000239165;mate1:19-168;mate2:125-274\n",
      "ATGAGTTCATTGTATTATGCGAATACTTTATTTTCTAAATATCCAGCCTCAAGTTCGGTTTTCGCTACCGGAGCCTTCCCAGAACAAACTTCTTGTGCGTTTGCTTCCAACCCCCAGCGCCCGGGCTATGGAGCGGGTTCGGGCGCTTCCTTCGCCGCCTCGATGCAGGGCTTGTACCCCGGCGGGGGGGGCATGGCGGGCCAGAGCGCGGCCGGCGTCTACGCGGCCGGCTATGGGCTCGAGCCGAGTTCCTTCAACATGCACTGCGCGCCCTTTGAGCAGAACCTCTCCGGGGTGTGTCCCGGCGACTCCGCCAAGGCGGCGGGCGCCAAGGAGCAGAGGGACTCGGACTTGGCGGCCGAGAGTAACTTCCGGATCTACCCCTGGATGCGAAGCTCAGGAACTGACCGCAAACGAGGCCGCCAGACCTACACCCGCTACCAGACCCTGGAGCTGGAGAAAGAATTTCACTACAATCGCTACCTGACGCGGCGGCGGCGCATCGAGATCGCGCACACGCTCTGCCTCACGGAAAGACAGATCAAGATTTGGTTTCAGAACCGGCGCATGAAGTGGAAAAAGGAGAACAAGACCGCGGGCCCGGGGACCACCGGCCAAGACAGGGCTGAAGCAGAGGAGGAAGAGGAAGAGTGA\n",
      "\n",
      "---\n",
      "read335141/sp|P60368|ENSP00000375479;mate1:141-290;mate2:251-400\n",
      "ATGGCCGCCTCCACCATGTCCATCTGCTCCAGCGCCTGCACCAACTCCTGGCAGGTGGACGACTGCCCAGAGAGCTGCTGTGAGCTCCCCTGCGGCACCCCCAGCTGCTGTGCCCCAGCCCCCTGCCTGACCCTGGTCTGCACCCCAGTGAGCTGTGTGTCCAGCCCCTGCTGCCAGGCGGCCTGTGAGCCCAGCGCCTGCCAATCAGGCTGCACCAGCTCCTGCACGCCCTCGTGCTGCCAGCAGTCTAGCTGCCAGCCGGCTTGCTGCACCTCCTCCCCCTGCCAGCAGGCCTGCTGCGTGCCCGTCTGCTGCAAGCCTGTGTGCTGTGTGCCCGTCTGCTGTGGGGCTTCTTCATGCTGCCAGCAGTCTAGCTGCCAGCCAGCTTGCTGTGCCTCTTCCTCCTGCCAGCAGTCCTGCCGTGTGCCTGTCTGCTGCAAAGCTGTGTGCTGCGTGCCCACCTGCTCTGAGTCATCCTCTTCATGCTGCCAGCAGTCTAGCTGCCAGCCGGCTTGCTGCACCTCCTCCCCGTGTCAGCAGTCCTGCTGTGTGTCCGTCTGCTGCAAGCCTGTCTGCTGCAAGTCCATCTGCTGTGTACCTGTTTGCTCTGGGGCTTCCTCTCCGTGCTGCCAGCAGTCTAGCTGCCAGCCAGCTTGCTGCACCTCCTCCTGCTGCAGACCCTCCTCCTCTGTGTCCCTCCTCTGCCGCCCCGTGTGCTCCCGCCCAGCCTCCTGCAGCTTTTCCTCAGGCCAAAAGTCTAGCTGCTGA\n",
      "\n",
      "---\n",
      "read494460/sp|Q5VWX1|ENSP00000281156;mate1:81-230;mate2:193-342\n",
      "ATGGAAGAGGAGAAATATTTGCCTGAGCTGATGGCAGAGAAAGATAGCCTGGATCCATCTTTTGTGCATGCGTCGCGCCTTTTGGCAGAAGAAATTGAAAAGTTTCAAGGTTCTGATGGAAAAAAGGAAGACGAAGAAAAGAAGTATCTTGATGTCATCAGCAACAAAAACATAAAGCTCTCAGAAAGAGTACTGATTCCTGTCAAGCAGTATCCAAAGTTCAATTTTGTGGGGAAATTGCTTGGACCAAGAGGAAACTCCTTGAAGAGGCTACAGGAAGAAACAGGTGCTAAAATGTCTATCCTGGGCAAAGGATCAATGAGAGATAAAGCTAAGGAAGAAGAACTAAGGAAGAGTGGGGAAGCCAAATATGCCCACTTGAGTGATGAGCTTCATGTATTAATTGAAGTGTTTGCTCCACCTGGGGAAGCTTATTCACGTATGAGTCATGCATTGGAAGAGATTAAAAAATTCCTGGTTCCTGACTACAATGATGAAATTCGTCAGGAACAACTACGTGAATTATCTTACTTAAATGGCTCAGAGGACTCTGGTCGTGGCAGAGGTATTAGAGGCAGAGGGATCAGAATAGCTCCCACAGCTCCTTCAAGGGGCCGTGGGGGTGCCATTCCTCCTCCCCCACCACCTGGACGAGGTGTTCTCACCCCTCGGGGAAGCACTGTAACCCGTGGAGCGCTTCCAGTGCCACCTGTAGCAAGAGGTGTCCCTACCCCTCGAGCCCGGGGGGCACCAACAGTGCCAGGATACAGGGCACCTCCTCCTCCAGCCCATGAAGCTTATGAAGAATATGGTTATGATGATGGCTACGGGGGTGAATATGATGACCAGACCTATGAGACTTATGATAACAGCTATGCGACCCAAACACAAAGTGTGCCTGAATACTATGACTACGGTCATGGAGTAAGTGAGGATGCCTATGACAGCTACGCACCAGAAGAATGGGCCACAACCCGCTCTAGCTTGAAGGCACCACCGCAAAGGTCAGCCAGAGGGGGATACAGGGAACACCCCTATGGTAGATATTGA\n",
      "\n",
      "---\n",
      "read734191/sp|Q96A65|ENSP00000376868;mate1:842-991;mate2:949-1098\n",
      "ATGGCGGCAGAAGCAGCTGGTGGGAAATACAGAAGCACAGTCAGCAAAAGCAAAGACCCCTCGGGGCTGCTCATCTCTGTGATCAGGACTCTGTCTACTAGTGACGATGTCGAAGACAGGGAAAATGAAAAGGGTCGCCTTGAAGAAGCCTACGAGAAATGTGACCGTGACCTGGATGAATTGATTGTACAGCACTACACAGAATTGACGACAGCCATTCGCACATACCAGAGCATCACAGAGCGCATCACTAACTCCCGAAATAAAATAAAGCAGGTAAAAGAGAACCTGCTTTCATGCAAGATGCTGCTGCACTGCAAACGGGATGAGCTTCGGAAACTGTGGATTGAAGGAATTGAGCATAAGCATGTCCTGAACTTGTTGGATGAAATTGAGAATATCAAGCAAGTGCCTCAAAAGCTGGAACAGTGCATGGCCAGCAAGCACTATCTCAGTGCCACTGACATGTTGGTGTCAGCAGTTGAGTCTTTGGAGGGCCCCCTGCTCCAGGTGGAAGGACTGAGTGACCTTCGACTAGAGCTTCACAGCAAGAAGATGAACCTTCACTTGGTTCTCATAGATGAACTACACCGGCACCTGTACATCAAATCGACTAGCCGAGTTGTGCAGCGTAACAAGGAAAAAGGGAAAATCAGCTCCCTCGTGAAAGATGCTTCTGTTCCTCTGATTGATGTTACAAACCTCCCTACTCCTCGAAAATTCCTTGATACCTCTCACTATTCTACTGCTGGAAGCTCAAGTGTGAGGGAGATAAATCTGCAGGACATCAAGGAAGATTTAGAATTGGATCCAGAGGAAAACAGCACCCTGTTTATGGGTATCCTCATTAAGGGCTTGGCGAAACTGAAGAAGATCCCAGAAACAGTTAAGGCAATCATAGAGCGCTTGGAGCAGGAGTTGAAGCAAATTGTGAAGAGGTCTACAACCCAGGTGGCAGACAGTGGCTATCAGCGGGGGGAGAACGTTACTGTGGAGAACCAACCAAGGTTGCTTCTAGAACTGCTGGAGTTACTGTTTGACAAGTTTAATGCTGTAGCCGCTGCACACTCTGTGGTCCTGGGATACCTGCAGGACACTGTAGTGACTCCACTGACTCAGCAGGAAGATATCAAACTGTATGATATGGCAGATGTATGGGTGAAGATCCAAGATGTTCTACAGATGCTATTAACTGAGTACTTGGATATGAAAAATACTCGTACGGCCTCTGAACCATCAGCTCAACTAAGCTATGCCAGCACTGGACGAGAGTTTGCAGCCTTTTTTGCCAAGAAGAAACCTCAAAGGCCAAAAAATTCTCTTTTCAAGTTCGAATCGTCCTCCCATGCCATCAGTATGAGCGCCTATCTGCGAGAACAGAGAAGGGAGCTCTATAGTCGGAGTGGAGAACTGCAAGGGGGTCCTGATGACAACTTAATTGAAGGTGGAGGAACAAAATTTGTCTGCAAACCTGGAGCCAGAAACATTACCGTCATATTCCACCCATTACTAAGATTTATTCAGGAGATTGAGCATGCTCTGGGTCTTGGCCCAGCCAAACAGTGTCCTCTTCGAGAGTTTCTCACCGTGTACATCAAAAACATCTTTCTCAATCAAGTCTTGGCTGAGATCAACAAGGAGATTGAAGGAGTCACTAAAACATCTGACCCTTTGAAGATTCTGGCCAACGCAGACACCATGAAGGTGCTGGGAGTGCAGCGGCCTCTCCTACAGAGCACAATCATTGTGGAGAAGACAGTTCAAGACCTCCTGAACCTGATGCATGACTTGAGTGCATATTCAGATCAATTCCTCAACATGGTGTGCGTGAAGCTCCAGGAGTACAAGGACACCTGCACTGCAGCTTACAGGGGTATTGTCCAGTCAGAAGAAAAACTTGTCATCAGTGCATCCTGGGCAAAAGATGATGATATCAGCAGACTCTTGAAATCTCTACCAAACTGGATGAATATGGCTCAACCCAAACAGCTGAGGCCAAAAAGAGAGGAGGAAGAAGATTTCATAAGGGCAGCTTTTGGCAAGGAGTCTGAAGTTCTTATTGGGAACCTGGGTGATAAATTAATCCCTCCACAAGACATCCTTCGTGACGTCAGTGACCTCAAAGCCTTGGCCAACATGCATGAAAGCCTGGAATGGTTGGCAAGTCGAACAAAGTCAGCTTTCTCCAATCTTTCTACATCCCAGATGCTTTCTCCTGCTCAAGACAGCCACACGAACACGGATCTCCCCCCAGTGTCAGAGCAGATCATGCAGACTCTCAGTGAACTTGCCAAATCGTTCCAGGATATGGCTGACCGCTGCTTGCTTGTCTTACATCTGGAAGTGAGGGTTCACTGTTTCCACTATCTTATCCCTCTTGCAAAGGAGGGGAACTATGCCATTGTGGCTAATGTGGAAAGTATGGATTATGACCCCCTGGTGGTCAAGCTCAACAAAGATATCAGCGCCATTGAAGAGGCCATGAGCGCCAGCCTTCAGCAGCACAAGTTCCAGTATATCTTCGAAGGCCTGGGCCACCTGATCTCCTGCATCCTCATTAATGGTGCCCAGTACTTCAGGCGCATCAGTGAGTCTGGCATCAAGAAAATGTGTAGGAACATTTTTGTTCTTCAGCAGAATTTGACCAACATCACCATGTCGCGGGAGGCAGACCTGGACTTTGCAAGGCAGTACTACGAGATGCTTTACAACACAGCTGACGAGCTCCTGAACCTGGTGGTGGACCAGGGTGTGAAGTACACGGAGCTGGAGTACATCCACGCTCTGACCCTGCTGCACCGCAGCCAGACTGGGGTGGGGGAACTGACCACCCAGAACACGAGGCTGCAGAGGCTCAAAGAGATCATCTGCGAGCAGGCTGCCATCAAGCAAGCCACCAAGGACAAGAAGATAACTACCGTTTAG\n",
      "\n",
      "---\n",
      "read640286/sp|Q8N7Q2|BAC05176;mate1:30-179;mate2:140-289\n",
      "ATGTTCTGTTTACTCCACTTGTGCTTCTATTTGGCCAACTTCGCCTCTTCAATTAAAAGGACACATGCTGTTAACGGGTGCTGTGGATTACAGATGATCGCACTCTGGGCACAGTCCTCTGGAAATGCAGATGCCCGTGTGGAGGAAATTCTGGCGGGAGAGGAGCGGCGACTCGCCGCTCTGCTTGGATCTCAAGGCATGAGGTTCTGGGTGTGCCTCGCAGCCTGCAGAGCCATGTGGGGCCTTGCTGCCAGACGAGGACGGGCTGAAGACAGCAGCTCGTCTCCAGTGGACGCCTCCAAGTTCCCATGGAGGGGTGGGCAGCATCGCACCACCATGATGCCTTGTCTGCTGCGGGTGGGAGTTTTCAGGCCCTGTCATGTGAGACCCACGGGGGATCCTTCCTGCGATGTGCAGCCTCCACGACTCGGCTTCTCCAGAGTGCCAGATACACAGGTGGCATTTTATGGCAGTGGTCACTGGGACCCAACTCCCTTCTTCTGTACACAGCTGTTTTTTTAA\n",
      "\n",
      "---\n",
      "read325914/sp|P56278|ENSP00000358488;mate1:12-161;mate2:125-274\n",
      "ATGGCAGGAGAGGATGTGGGGGCTCCACCCGATCACCTCTGGGTTCACCAAGAGGGTATCTACCGCGACGAATACCAGCGCACGTGGGTGGCCGTCGTGGAAGAGGAGACGAGTTTCCTAAGGGCACGAGTCCAGCAAATTCAGGTTCCCTTAGGTGACGCAGCTAGGCCAAGTCACCTTCTTACCTCCCAGCTACCTCTCATGTGGCAACTCTACCCGGAGGAGCGCTACATGGATAACAACTCTCGCTTGTGGCAGATACAGCATCATTTAATGGTCAGGGGAGTACAGGAGCTGTTGCTTAAGCTTTTGCCTGATGACTAA\n"
     ]
    }
   ],
   "source": [
    "for i, row in mini_df.iterrows():\n",
    "    uniprot_id = row['uniprot_id']\n",
    "    print(f'\\n---\\n{row.read_id}')\n",
    "    print(good_uniprot_records_dict[uniprot_id])"
   ]
  },
  {
   "cell_type": "code",
   "execution_count": 385,
   "metadata": {},
   "outputs": [
    {
     "data": {
      "text/plain": [
       "2"
      ]
     },
     "execution_count": 385,
     "metadata": {},
     "output_type": "execute_result"
    }
   ],
   "source": [
    "(747 +1) % 3 + 1"
   ]
  },
  {
   "cell_type": "code",
   "execution_count": 356,
   "metadata": {},
   "outputs": [
    {
     "data": {
      "text/plain": [
       " 1    158227\n",
       " 3    126936\n",
       " 2    126789\n",
       "-2    124506\n",
       "-3    124055\n",
       "-1    123792\n",
       "Name: translation_frame, dtype: int64"
      ]
     },
     "execution_count": 356,
     "metadata": {},
     "output_type": "execute_result"
    }
   ],
   "source": [
    "read_id_to_frame_series.value_counts()"
   ]
  },
  {
   "cell_type": "markdown",
   "metadata": {},
   "source": [
    "### Spot check some reading frames"
   ]
  },
  {
   "cell_type": "code",
   "execution_count": 344,
   "metadata": {},
   "outputs": [
    {
     "data": {
      "text/plain": [
       "-3"
      ]
     },
     "execution_count": 344,
     "metadata": {},
     "output_type": "execute_result"
    }
   ],
   "source": [
    "get_correct_reading_frame(read51)"
   ]
  },
  {
   "cell_type": "code",
   "execution_count": 345,
   "metadata": {},
   "outputs": [
    {
     "data": {
      "text/plain": [
       "2"
      ]
     },
     "execution_count": 345,
     "metadata": {},
     "output_type": "execute_result"
    }
   ],
   "source": [
    "get_correct_reading_frame(read52)"
   ]
  },
  {
   "cell_type": "code",
   "execution_count": 346,
   "metadata": {},
   "outputs": [
    {
     "data": {
      "text/html": [
       "<div>\n",
       "<style scoped>\n",
       "    .dataframe tbody tr th:only-of-type {\n",
       "        vertical-align: middle;\n",
       "    }\n",
       "\n",
       "    .dataframe tbody tr th {\n",
       "        vertical-align: top;\n",
       "    }\n",
       "\n",
       "    .dataframe thead th {\n",
       "        text-align: right;\n",
       "    }\n",
       "</style>\n",
       "<table border=\"1\" class=\"dataframe\">\n",
       "  <thead>\n",
       "    <tr style=\"text-align: right;\">\n",
       "      <th></th>\n",
       "      <th>read_id</th>\n",
       "      <th>jaccard_in_peptide_db</th>\n",
       "      <th>n_kmers</th>\n",
       "      <th>category</th>\n",
       "      <th>translation_frame</th>\n",
       "      <th>filename</th>\n",
       "      <th>alphabet</th>\n",
       "      <th>ksize</th>\n",
       "      <th>uniprot_id</th>\n",
       "    </tr>\n",
       "  </thead>\n",
       "  <tbody>\n",
       "    <tr>\n",
       "      <th>305</th>\n",
       "      <td>read51/sp|A0A024RBG1|ENSP00000492425;mate1:130...</td>\n",
       "      <td>1.0</td>\n",
       "      <td>39.0</td>\n",
       "      <td>Coding</td>\n",
       "      <td>-3</td>\n",
       "      <td>Homo_sapiens_9606_qfo_dna_01.fq.gz</td>\n",
       "      <td>protein</td>\n",
       "      <td>11</td>\n",
       "      <td>sp|A0A024RBG1</td>\n",
       "    </tr>\n",
       "    <tr>\n",
       "      <th>308</th>\n",
       "      <td>read52/sp|A0A024RBG1|ENSP00000492425;mate1:125...</td>\n",
       "      <td>1.0</td>\n",
       "      <td>39.0</td>\n",
       "      <td>Coding</td>\n",
       "      <td>3</td>\n",
       "      <td>Homo_sapiens_9606_qfo_dna_01.fq.gz</td>\n",
       "      <td>protein</td>\n",
       "      <td>11</td>\n",
       "      <td>sp|A0A024RBG1</td>\n",
       "    </tr>\n",
       "  </tbody>\n",
       "</table>\n",
       "</div>"
      ],
      "text/plain": [
       "                                               read_id  jaccard_in_peptide_db  \\\n",
       "305  read51/sp|A0A024RBG1|ENSP00000492425;mate1:130...                    1.0   \n",
       "308  read52/sp|A0A024RBG1|ENSP00000492425;mate1:125...                    1.0   \n",
       "\n",
       "     n_kmers category  translation_frame                            filename  \\\n",
       "305     39.0   Coding                 -3  Homo_sapiens_9606_qfo_dna_01.fq.gz   \n",
       "308     39.0   Coding                  3  Homo_sapiens_9606_qfo_dna_01.fq.gz   \n",
       "\n",
       "    alphabet  ksize     uniprot_id  \n",
       "305  protein     11  sp|A0A024RBG1  \n",
       "308  protein     11  sp|A0A024RBG1  "
      ]
     },
     "execution_count": 346,
     "metadata": {},
     "output_type": "execute_result"
    }
   ],
   "source": [
    "reads51_52.query('category == \"Coding\"')"
   ]
  },
  {
   "cell_type": "code",
   "execution_count": 347,
   "metadata": {},
   "outputs": [
    {
     "data": {
      "text/plain": [
       "read484012/sp|Q5T870|ENSP00000357733;mate1:40-189;mate2:137-286         2\n",
       "read402370/sp|Q14184|ENSP00000482950;mate1:650-799;mate2:738-887       -1\n",
       "read212984/sp|P11717|ENSP00000349437;mate1:3653-3802;mate2:3744-3893    3\n",
       "read428716/sp|Q16513|ENSP00000359552;mate1:1069-1218;mate2:1136-1285   -3\n",
       "read111308/sp|O60268|ENSP00000457408;mate1:348-497;mate2:440-589        1\n",
       "read469690/sp|Q5JRV8|ENSP00000405781;mate1:117-266;mate2:174-323       -1\n",
       "read393048/sp|Q13487|ENSP00000221573;mate1:458-607;mate2:558-707       -1\n",
       "read572341/sp|Q7Z692|ENSP00000384887;mate1:28-177;mate2:92-241         -3\n",
       "read355383/sp|P98174|ENSP00000364277;mate1:1073-1222;mate2:1184-1333    3\n",
       "read711166/sp|Q8WXC6|ENSP00000475979;mate1Start:1;mate2Start:1          1\n",
       "Name: translation_frame, dtype: int64"
      ]
     },
     "execution_count": 347,
     "metadata": {},
     "output_type": "execute_result"
    }
   ],
   "source": [
    "read_id_to_frame_series.sample(10)"
   ]
  },
  {
   "cell_type": "code",
   "execution_count": 348,
   "metadata": {},
   "outputs": [
    {
     "name": "stdout",
     "output_type": "stream",
     "text": [
      "@read335141/sp|P60368|ENSP00000375479;mate1:141-290;mate2:251-400\n",
      "CACCCCAGTGAGCTGTGTGTCCAGCCCCTGCTGCCAGGCGGCCTGTGAGCCCAGCGCCTGCCAATCAGGCTGCACCAGCTCCTGCACGCCCTCGTGCTGCCAGCAGTCTAGCTGCCAGCCGGCTTGCTGCACCTCCTCCCCCTGCCAGCA\n",
      "+\n",
      "IIIIIIIIIIIIIIIIIIIIIIIIIIIIIIIIIIIIIIIIIIIIIIIIIIIIIIIIIIIIIIIIIIIIIIIIIIIIIIIIIIIIIIIIIIIIIIIIIIIIIIIIIIIIIIIIIIIIIIIIIIIIIIIIIIIIIIIIIIIIIIIIIIIIII\n"
     ]
    }
   ],
   "source": [
    "read_id = \"read335141/sp|P60368|ENSP00000375479;mate1:141-290;mate2:251-400\"\n",
    "! zgrep -A 3 \"$read_id\" $reads_dir/*"
   ]
  },
  {
   "cell_type": "code",
   "execution_count": 349,
   "metadata": {},
   "outputs": [
    {
     "data": {
      "text/html": [
       "<div>\n",
       "<style scoped>\n",
       "    .dataframe tbody tr th:only-of-type {\n",
       "        vertical-align: middle;\n",
       "    }\n",
       "\n",
       "    .dataframe tbody tr th {\n",
       "        vertical-align: top;\n",
       "    }\n",
       "\n",
       "    .dataframe thead th {\n",
       "        text-align: right;\n",
       "    }\n",
       "</style>\n",
       "<table border=\"1\" class=\"dataframe\">\n",
       "  <thead>\n",
       "    <tr style=\"text-align: right;\">\n",
       "      <th></th>\n",
       "      <th>read_id</th>\n",
       "      <th>jaccard_in_peptide_db</th>\n",
       "      <th>n_kmers</th>\n",
       "      <th>category</th>\n",
       "      <th>translation_frame</th>\n",
       "      <th>filename</th>\n",
       "      <th>alphabet</th>\n",
       "      <th>ksize</th>\n",
       "      <th>uniprot_id</th>\n",
       "    </tr>\n",
       "  </thead>\n",
       "  <tbody>\n",
       "    <tr>\n",
       "      <th>2010840</th>\n",
       "      <td>read335141/sp|P60368|ENSP00000375479;mate1:141...</td>\n",
       "      <td>NaN</td>\n",
       "      <td>NaN</td>\n",
       "      <td>Translation frame has stop codon(s)</td>\n",
       "      <td>1</td>\n",
       "      <td>Homo_sapiens_9606_qfo_dna_01.fq.gz</td>\n",
       "      <td>protein</td>\n",
       "      <td>11</td>\n",
       "      <td>sp|P60368</td>\n",
       "    </tr>\n",
       "    <tr>\n",
       "      <th>2010841</th>\n",
       "      <td>read335141/sp|P60368|ENSP00000375479;mate1:141...</td>\n",
       "      <td>1.0</td>\n",
       "      <td>39.0</td>\n",
       "      <td>Coding</td>\n",
       "      <td>2</td>\n",
       "      <td>Homo_sapiens_9606_qfo_dna_01.fq.gz</td>\n",
       "      <td>protein</td>\n",
       "      <td>11</td>\n",
       "      <td>sp|P60368</td>\n",
       "    </tr>\n",
       "    <tr>\n",
       "      <th>2010842</th>\n",
       "      <td>read335141/sp|P60368|ENSP00000375479;mate1:141...</td>\n",
       "      <td>NaN</td>\n",
       "      <td>NaN</td>\n",
       "      <td>Translation frame has stop codon(s)</td>\n",
       "      <td>3</td>\n",
       "      <td>Homo_sapiens_9606_qfo_dna_01.fq.gz</td>\n",
       "      <td>protein</td>\n",
       "      <td>11</td>\n",
       "      <td>sp|P60368</td>\n",
       "    </tr>\n",
       "    <tr>\n",
       "      <th>2010843</th>\n",
       "      <td>read335141/sp|P60368|ENSP00000375479;mate1:141...</td>\n",
       "      <td>0.0</td>\n",
       "      <td>40.0</td>\n",
       "      <td>Non-coding</td>\n",
       "      <td>-1</td>\n",
       "      <td>Homo_sapiens_9606_qfo_dna_01.fq.gz</td>\n",
       "      <td>protein</td>\n",
       "      <td>11</td>\n",
       "      <td>sp|P60368</td>\n",
       "    </tr>\n",
       "    <tr>\n",
       "      <th>2010844</th>\n",
       "      <td>read335141/sp|P60368|ENSP00000375479;mate1:141...</td>\n",
       "      <td>NaN</td>\n",
       "      <td>NaN</td>\n",
       "      <td>Translation frame has stop codon(s)</td>\n",
       "      <td>-2</td>\n",
       "      <td>Homo_sapiens_9606_qfo_dna_01.fq.gz</td>\n",
       "      <td>protein</td>\n",
       "      <td>11</td>\n",
       "      <td>sp|P60368</td>\n",
       "    </tr>\n",
       "    <tr>\n",
       "      <th>2010845</th>\n",
       "      <td>read335141/sp|P60368|ENSP00000375479;mate1:141...</td>\n",
       "      <td>NaN</td>\n",
       "      <td>NaN</td>\n",
       "      <td>Translation frame has stop codon(s)</td>\n",
       "      <td>-3</td>\n",
       "      <td>Homo_sapiens_9606_qfo_dna_01.fq.gz</td>\n",
       "      <td>protein</td>\n",
       "      <td>11</td>\n",
       "      <td>sp|P60368</td>\n",
       "    </tr>\n",
       "  </tbody>\n",
       "</table>\n",
       "</div>"
      ],
      "text/plain": [
       "                                                   read_id  \\\n",
       "2010840  read335141/sp|P60368|ENSP00000375479;mate1:141...   \n",
       "2010841  read335141/sp|P60368|ENSP00000375479;mate1:141...   \n",
       "2010842  read335141/sp|P60368|ENSP00000375479;mate1:141...   \n",
       "2010843  read335141/sp|P60368|ENSP00000375479;mate1:141...   \n",
       "2010844  read335141/sp|P60368|ENSP00000375479;mate1:141...   \n",
       "2010845  read335141/sp|P60368|ENSP00000375479;mate1:141...   \n",
       "\n",
       "         jaccard_in_peptide_db  n_kmers                             category  \\\n",
       "2010840                    NaN      NaN  Translation frame has stop codon(s)   \n",
       "2010841                    1.0     39.0                               Coding   \n",
       "2010842                    NaN      NaN  Translation frame has stop codon(s)   \n",
       "2010843                    0.0     40.0                           Non-coding   \n",
       "2010844                    NaN      NaN  Translation frame has stop codon(s)   \n",
       "2010845                    NaN      NaN  Translation frame has stop codon(s)   \n",
       "\n",
       "         translation_frame                            filename alphabet  \\\n",
       "2010840                  1  Homo_sapiens_9606_qfo_dna_01.fq.gz  protein   \n",
       "2010841                  2  Homo_sapiens_9606_qfo_dna_01.fq.gz  protein   \n",
       "2010842                  3  Homo_sapiens_9606_qfo_dna_01.fq.gz  protein   \n",
       "2010843                 -1  Homo_sapiens_9606_qfo_dna_01.fq.gz  protein   \n",
       "2010844                 -2  Homo_sapiens_9606_qfo_dna_01.fq.gz  protein   \n",
       "2010845                 -3  Homo_sapiens_9606_qfo_dna_01.fq.gz  protein   \n",
       "\n",
       "         ksize uniprot_id  \n",
       "2010840     11  sp|P60368  \n",
       "2010841     11  sp|P60368  \n",
       "2010842     11  sp|P60368  \n",
       "2010843     11  sp|P60368  \n",
       "2010844     11  sp|P60368  \n",
       "2010845     11  sp|P60368  "
      ]
     },
     "execution_count": 349,
     "metadata": {},
     "output_type": "execute_result"
    }
   ],
   "source": [
    "protein_k11.query('read_id == @read_id')"
   ]
  },
  {
   "cell_type": "markdown",
   "metadata": {},
   "source": [
    "## Check frames with protein k11"
   ]
  },
  {
   "cell_type": "markdown",
   "metadata": {},
   "source": [
    "### Filter protein k11, good uniprot ids, no Ns, to **CODING**"
   ]
  },
  {
   "cell_type": "code",
   "execution_count": 332,
   "metadata": {},
   "outputs": [
    {
     "name": "stdout",
     "output_type": "stream",
     "text": [
      "(506547, 9)\n"
     ]
    },
    {
     "data": {
      "text/html": [
       "<div>\n",
       "<style scoped>\n",
       "    .dataframe tbody tr th:only-of-type {\n",
       "        vertical-align: middle;\n",
       "    }\n",
       "\n",
       "    .dataframe tbody tr th {\n",
       "        vertical-align: top;\n",
       "    }\n",
       "\n",
       "    .dataframe thead th {\n",
       "        text-align: right;\n",
       "    }\n",
       "</style>\n",
       "<table border=\"1\" class=\"dataframe\">\n",
       "  <thead>\n",
       "    <tr style=\"text-align: right;\">\n",
       "      <th></th>\n",
       "      <th>read_id</th>\n",
       "      <th>jaccard_in_peptide_db</th>\n",
       "      <th>n_kmers</th>\n",
       "      <th>category</th>\n",
       "      <th>translation_frame</th>\n",
       "      <th>filename</th>\n",
       "      <th>alphabet</th>\n",
       "      <th>ksize</th>\n",
       "      <th>uniprot_id</th>\n",
       "    </tr>\n",
       "  </thead>\n",
       "  <tbody>\n",
       "    <tr>\n",
       "      <th>0</th>\n",
       "      <td>read1/tr|A0A024R1R8|ENSP00000491117;mate1Start...</td>\n",
       "      <td>1.000</td>\n",
       "      <td>40.0</td>\n",
       "      <td>Coding</td>\n",
       "      <td>1</td>\n",
       "      <td>Homo_sapiens_9606_qfo_dna_01.fq.gz</td>\n",
       "      <td>protein</td>\n",
       "      <td>11</td>\n",
       "      <td>tr|A0A024R1R8</td>\n",
       "    </tr>\n",
       "    <tr>\n",
       "      <th>6</th>\n",
       "      <td>read2/tr|A0A024R1R8|ENSP00000491117;mate1Start...</td>\n",
       "      <td>0.975</td>\n",
       "      <td>40.0</td>\n",
       "      <td>Coding</td>\n",
       "      <td>1</td>\n",
       "      <td>Homo_sapiens_9606_qfo_dna_01.fq.gz</td>\n",
       "      <td>protein</td>\n",
       "      <td>11</td>\n",
       "      <td>tr|A0A024R1R8</td>\n",
       "    </tr>\n",
       "    <tr>\n",
       "      <th>36</th>\n",
       "      <td>read7/tr|A0A024R1R8|ENSP00000491117;mate1Start...</td>\n",
       "      <td>1.000</td>\n",
       "      <td>40.0</td>\n",
       "      <td>Coding</td>\n",
       "      <td>1</td>\n",
       "      <td>Homo_sapiens_9606_qfo_dna_01.fq.gz</td>\n",
       "      <td>protein</td>\n",
       "      <td>11</td>\n",
       "      <td>tr|A0A024R1R8</td>\n",
       "    </tr>\n",
       "    <tr>\n",
       "      <th>54</th>\n",
       "      <td>read10/tr|A0A024R1R8|ENSP00000491117;mate1Star...</td>\n",
       "      <td>0.975</td>\n",
       "      <td>40.0</td>\n",
       "      <td>Coding</td>\n",
       "      <td>1</td>\n",
       "      <td>Homo_sapiens_9606_qfo_dna_01.fq.gz</td>\n",
       "      <td>protein</td>\n",
       "      <td>11</td>\n",
       "      <td>tr|A0A024R1R8</td>\n",
       "    </tr>\n",
       "    <tr>\n",
       "      <th>78</th>\n",
       "      <td>read14/tr|A0A024R1R8|ENSP00000491117;mate1Star...</td>\n",
       "      <td>1.000</td>\n",
       "      <td>40.0</td>\n",
       "      <td>Coding</td>\n",
       "      <td>1</td>\n",
       "      <td>Homo_sapiens_9606_qfo_dna_01.fq.gz</td>\n",
       "      <td>protein</td>\n",
       "      <td>11</td>\n",
       "      <td>tr|A0A024R1R8</td>\n",
       "    </tr>\n",
       "  </tbody>\n",
       "</table>\n",
       "</div>"
      ],
      "text/plain": [
       "                                              read_id  jaccard_in_peptide_db  \\\n",
       "0   read1/tr|A0A024R1R8|ENSP00000491117;mate1Start...                  1.000   \n",
       "6   read2/tr|A0A024R1R8|ENSP00000491117;mate1Start...                  0.975   \n",
       "36  read7/tr|A0A024R1R8|ENSP00000491117;mate1Start...                  1.000   \n",
       "54  read10/tr|A0A024R1R8|ENSP00000491117;mate1Star...                  0.975   \n",
       "78  read14/tr|A0A024R1R8|ENSP00000491117;mate1Star...                  1.000   \n",
       "\n",
       "    n_kmers category  translation_frame                            filename  \\\n",
       "0      40.0   Coding                  1  Homo_sapiens_9606_qfo_dna_01.fq.gz   \n",
       "6      40.0   Coding                  1  Homo_sapiens_9606_qfo_dna_01.fq.gz   \n",
       "36     40.0   Coding                  1  Homo_sapiens_9606_qfo_dna_01.fq.gz   \n",
       "54     40.0   Coding                  1  Homo_sapiens_9606_qfo_dna_01.fq.gz   \n",
       "78     40.0   Coding                  1  Homo_sapiens_9606_qfo_dna_01.fq.gz   \n",
       "\n",
       "   alphabet  ksize     uniprot_id  \n",
       "0   protein     11  tr|A0A024R1R8  \n",
       "6   protein     11  tr|A0A024R1R8  \n",
       "36  protein     11  tr|A0A024R1R8  \n",
       "54  protein     11  tr|A0A024R1R8  \n",
       "78  protein     11  tr|A0A024R1R8  "
      ]
     },
     "execution_count": 332,
     "metadata": {},
     "output_type": "execute_result"
    }
   ],
   "source": [
    "protein_k11_good_uniprot_ids_no_ns_coding = protein_k11_good_uniprot_ids_no_ns.query('category == \"Coding\"')\n",
    "print(protein_k11_good_uniprot_ids_no_ns_coding.shape)\n",
    "protein_k11_good_uniprot_ids_no_ns_coding.head()"
   ]
  },
  {
   "cell_type": "code",
   "execution_count": 386,
   "metadata": {},
   "outputs": [
    {
     "data": {
      "text/html": [
       "<div>\n",
       "<style scoped>\n",
       "    .dataframe tbody tr th:only-of-type {\n",
       "        vertical-align: middle;\n",
       "    }\n",
       "\n",
       "    .dataframe tbody tr th {\n",
       "        vertical-align: top;\n",
       "    }\n",
       "\n",
       "    .dataframe thead th {\n",
       "        text-align: right;\n",
       "    }\n",
       "</style>\n",
       "<table border=\"1\" class=\"dataframe\">\n",
       "  <thead>\n",
       "    <tr style=\"text-align: right;\">\n",
       "      <th></th>\n",
       "      <th>read_id</th>\n",
       "      <th>jaccard_in_peptide_db</th>\n",
       "      <th>n_kmers</th>\n",
       "      <th>category</th>\n",
       "      <th>translation_frame</th>\n",
       "      <th>filename</th>\n",
       "      <th>alphabet</th>\n",
       "      <th>ksize</th>\n",
       "      <th>uniprot_id</th>\n",
       "    </tr>\n",
       "  </thead>\n",
       "  <tbody>\n",
       "    <tr>\n",
       "      <th>486442</th>\n",
       "      <td>read81074/sp|O14633|ENSP00000357769;mate1:51-2...</td>\n",
       "      <td>1.0</td>\n",
       "      <td>39.0</td>\n",
       "      <td>Coding</td>\n",
       "      <td>-2</td>\n",
       "      <td>Homo_sapiens_9606_qfo_dna_01.fq.gz</td>\n",
       "      <td>protein</td>\n",
       "      <td>11</td>\n",
       "      <td>sp|O14633</td>\n",
       "    </tr>\n",
       "    <tr>\n",
       "      <th>3667562</th>\n",
       "      <td>read611261/sp|Q8IYD2|ENSP00000442229;mate1:608...</td>\n",
       "      <td>1.0</td>\n",
       "      <td>39.0</td>\n",
       "      <td>Coding</td>\n",
       "      <td>3</td>\n",
       "      <td>Homo_sapiens_9606_qfo_dna_01.fq.gz</td>\n",
       "      <td>protein</td>\n",
       "      <td>11</td>\n",
       "      <td>sp|Q8IYD2</td>\n",
       "    </tr>\n",
       "    <tr>\n",
       "      <th>5042089</th>\n",
       "      <td>read840349/sp|Q9C0C4|ENSP00000306844;mate1:168...</td>\n",
       "      <td>1.0</td>\n",
       "      <td>39.0</td>\n",
       "      <td>Coding</td>\n",
       "      <td>2</td>\n",
       "      <td>Homo_sapiens_9606_qfo_dna_01.fq.gz</td>\n",
       "      <td>protein</td>\n",
       "      <td>11</td>\n",
       "      <td>sp|Q9C0C4</td>\n",
       "    </tr>\n",
       "    <tr>\n",
       "      <th>5321479</th>\n",
       "      <td>read886914/sp|Q9HCS7|BAB84861;mate1:549-698;ma...</td>\n",
       "      <td>1.0</td>\n",
       "      <td>39.0</td>\n",
       "      <td>Coding</td>\n",
       "      <td>2</td>\n",
       "      <td>Homo_sapiens_9606_qfo_dna_01.fq.gz</td>\n",
       "      <td>protein</td>\n",
       "      <td>11</td>\n",
       "      <td>sp|Q9HCS7</td>\n",
       "    </tr>\n",
       "    <tr>\n",
       "      <th>1047013</th>\n",
       "      <td>read174503/sp|P04196|ENSP00000232003;mate1:708...</td>\n",
       "      <td>1.0</td>\n",
       "      <td>39.0</td>\n",
       "      <td>Coding</td>\n",
       "      <td>2</td>\n",
       "      <td>Homo_sapiens_9606_qfo_dna_01.fq.gz</td>\n",
       "      <td>protein</td>\n",
       "      <td>11</td>\n",
       "      <td>sp|P04196</td>\n",
       "    </tr>\n",
       "    <tr>\n",
       "      <th>4600480</th>\n",
       "      <td>read766747/sp|Q96L93|ENSP00000384164;mate1:583...</td>\n",
       "      <td>1.0</td>\n",
       "      <td>39.0</td>\n",
       "      <td>Coding</td>\n",
       "      <td>-2</td>\n",
       "      <td>Homo_sapiens_9606_qfo_dna_01.fq.gz</td>\n",
       "      <td>protein</td>\n",
       "      <td>11</td>\n",
       "      <td>sp|Q96L93</td>\n",
       "    </tr>\n",
       "    <tr>\n",
       "      <th>3731923</th>\n",
       "      <td>read621988/sp|Q8N1B3|ENSP00000461135;mate1:282...</td>\n",
       "      <td>1.0</td>\n",
       "      <td>39.0</td>\n",
       "      <td>Coding</td>\n",
       "      <td>2</td>\n",
       "      <td>Homo_sapiens_9606_qfo_dna_01.fq.gz</td>\n",
       "      <td>protein</td>\n",
       "      <td>11</td>\n",
       "      <td>sp|Q8N1B3</td>\n",
       "    </tr>\n",
       "    <tr>\n",
       "      <th>3927473</th>\n",
       "      <td>read654579/sp|Q8NCI6|ENSP00000396615;mate1:728...</td>\n",
       "      <td>1.0</td>\n",
       "      <td>39.0</td>\n",
       "      <td>Coding</td>\n",
       "      <td>-3</td>\n",
       "      <td>Homo_sapiens_9606_qfo_dna_01.fq.gz</td>\n",
       "      <td>protein</td>\n",
       "      <td>11</td>\n",
       "      <td>sp|Q8NCI6</td>\n",
       "    </tr>\n",
       "    <tr>\n",
       "      <th>5302094</th>\n",
       "      <td>read883683/sp|Q9HC62|ENSP00000296257;mate1:86-...</td>\n",
       "      <td>1.0</td>\n",
       "      <td>39.0</td>\n",
       "      <td>Coding</td>\n",
       "      <td>3</td>\n",
       "      <td>Homo_sapiens_9606_qfo_dna_01.fq.gz</td>\n",
       "      <td>protein</td>\n",
       "      <td>11</td>\n",
       "      <td>sp|Q9HC62</td>\n",
       "    </tr>\n",
       "    <tr>\n",
       "      <th>3040887</th>\n",
       "      <td>read506815/sp|Q6FIF0|ENSP00000484971;mate1:17-...</td>\n",
       "      <td>1.0</td>\n",
       "      <td>40.0</td>\n",
       "      <td>Coding</td>\n",
       "      <td>-1</td>\n",
       "      <td>Homo_sapiens_9606_qfo_dna_01.fq.gz</td>\n",
       "      <td>protein</td>\n",
       "      <td>11</td>\n",
       "      <td>sp|Q6FIF0</td>\n",
       "    </tr>\n",
       "  </tbody>\n",
       "</table>\n",
       "</div>"
      ],
      "text/plain": [
       "                                                   read_id  \\\n",
       "486442   read81074/sp|O14633|ENSP00000357769;mate1:51-2...   \n",
       "3667562  read611261/sp|Q8IYD2|ENSP00000442229;mate1:608...   \n",
       "5042089  read840349/sp|Q9C0C4|ENSP00000306844;mate1:168...   \n",
       "5321479  read886914/sp|Q9HCS7|BAB84861;mate1:549-698;ma...   \n",
       "1047013  read174503/sp|P04196|ENSP00000232003;mate1:708...   \n",
       "4600480  read766747/sp|Q96L93|ENSP00000384164;mate1:583...   \n",
       "3731923  read621988/sp|Q8N1B3|ENSP00000461135;mate1:282...   \n",
       "3927473  read654579/sp|Q8NCI6|ENSP00000396615;mate1:728...   \n",
       "5302094  read883683/sp|Q9HC62|ENSP00000296257;mate1:86-...   \n",
       "3040887  read506815/sp|Q6FIF0|ENSP00000484971;mate1:17-...   \n",
       "\n",
       "         jaccard_in_peptide_db  n_kmers category  translation_frame  \\\n",
       "486442                     1.0     39.0   Coding                 -2   \n",
       "3667562                    1.0     39.0   Coding                  3   \n",
       "5042089                    1.0     39.0   Coding                  2   \n",
       "5321479                    1.0     39.0   Coding                  2   \n",
       "1047013                    1.0     39.0   Coding                  2   \n",
       "4600480                    1.0     39.0   Coding                 -2   \n",
       "3731923                    1.0     39.0   Coding                  2   \n",
       "3927473                    1.0     39.0   Coding                 -3   \n",
       "5302094                    1.0     39.0   Coding                  3   \n",
       "3040887                    1.0     40.0   Coding                 -1   \n",
       "\n",
       "                                   filename alphabet  ksize uniprot_id  \n",
       "486442   Homo_sapiens_9606_qfo_dna_01.fq.gz  protein     11  sp|O14633  \n",
       "3667562  Homo_sapiens_9606_qfo_dna_01.fq.gz  protein     11  sp|Q8IYD2  \n",
       "5042089  Homo_sapiens_9606_qfo_dna_01.fq.gz  protein     11  sp|Q9C0C4  \n",
       "5321479  Homo_sapiens_9606_qfo_dna_01.fq.gz  protein     11  sp|Q9HCS7  \n",
       "1047013  Homo_sapiens_9606_qfo_dna_01.fq.gz  protein     11  sp|P04196  \n",
       "4600480  Homo_sapiens_9606_qfo_dna_01.fq.gz  protein     11  sp|Q96L93  \n",
       "3731923  Homo_sapiens_9606_qfo_dna_01.fq.gz  protein     11  sp|Q8N1B3  \n",
       "3927473  Homo_sapiens_9606_qfo_dna_01.fq.gz  protein     11  sp|Q8NCI6  \n",
       "5302094  Homo_sapiens_9606_qfo_dna_01.fq.gz  protein     11  sp|Q9HC62  \n",
       "3040887  Homo_sapiens_9606_qfo_dna_01.fq.gz  protein     11  sp|Q6FIF0  "
      ]
     },
     "execution_count": 386,
     "metadata": {},
     "output_type": "execute_result"
    }
   ],
   "source": [
    "protein_k11_good_uniprot_ids_no_ns_coding.sample(10)"
   ]
  },
  {
   "cell_type": "markdown",
   "metadata": {},
   "source": [
    "### Filter protein k11, good uniprot ids, no Ns, **CODING**, to single frame"
   ]
  },
  {
   "cell_type": "code",
   "execution_count": 333,
   "metadata": {},
   "outputs": [
    {
     "name": "stdout",
     "output_type": "stream",
     "text": [
      "(506027, 9)\n",
      "CPU times: user 1min 58s, sys: 547 ms, total: 1min 59s\n",
      "Wall time: 1min 59s\n"
     ]
    }
   ],
   "source": [
    "%%time\n",
    "\n",
    "protein_k11_good_uniprot_ids_no_ns_single_frame = protein_k11_good_uniprot_ids_no_ns_coding.groupby('read_id').filter(lambda x: len(x) == 1)\n",
    "print(protein_k11_good_uniprot_ids_no_ns_single_frame.shape)\n",
    "protein_k11_good_uniprot_ids_no_ns_single_frame.head()"
   ]
  },
  {
   "cell_type": "markdown",
   "metadata": {},
   "source": [
    "### Set read id as index"
   ]
  },
  {
   "cell_type": "code",
   "execution_count": 334,
   "metadata": {},
   "outputs": [
    {
     "name": "stdout",
     "output_type": "stream",
     "text": [
      "(506027, 8)\n"
     ]
    },
    {
     "data": {
      "text/html": [
       "<div>\n",
       "<style scoped>\n",
       "    .dataframe tbody tr th:only-of-type {\n",
       "        vertical-align: middle;\n",
       "    }\n",
       "\n",
       "    .dataframe tbody tr th {\n",
       "        vertical-align: top;\n",
       "    }\n",
       "\n",
       "    .dataframe thead th {\n",
       "        text-align: right;\n",
       "    }\n",
       "</style>\n",
       "<table border=\"1\" class=\"dataframe\">\n",
       "  <thead>\n",
       "    <tr style=\"text-align: right;\">\n",
       "      <th></th>\n",
       "      <th>jaccard_in_peptide_db</th>\n",
       "      <th>n_kmers</th>\n",
       "      <th>category</th>\n",
       "      <th>translation_frame</th>\n",
       "      <th>filename</th>\n",
       "      <th>alphabet</th>\n",
       "      <th>ksize</th>\n",
       "      <th>uniprot_id</th>\n",
       "    </tr>\n",
       "    <tr>\n",
       "      <th>read_id</th>\n",
       "      <th></th>\n",
       "      <th></th>\n",
       "      <th></th>\n",
       "      <th></th>\n",
       "      <th></th>\n",
       "      <th></th>\n",
       "      <th></th>\n",
       "      <th></th>\n",
       "    </tr>\n",
       "  </thead>\n",
       "  <tbody>\n",
       "    <tr>\n",
       "      <th>read1/tr|A0A024R1R8|ENSP00000491117;mate1Start:1;mate2Start:1</th>\n",
       "      <td>1.000</td>\n",
       "      <td>40.0</td>\n",
       "      <td>Coding</td>\n",
       "      <td>1</td>\n",
       "      <td>Homo_sapiens_9606_qfo_dna_01.fq.gz</td>\n",
       "      <td>protein</td>\n",
       "      <td>11</td>\n",
       "      <td>tr|A0A024R1R8</td>\n",
       "    </tr>\n",
       "    <tr>\n",
       "      <th>read2/tr|A0A024R1R8|ENSP00000491117;mate1Start:1;mate2Start:1</th>\n",
       "      <td>0.975</td>\n",
       "      <td>40.0</td>\n",
       "      <td>Coding</td>\n",
       "      <td>1</td>\n",
       "      <td>Homo_sapiens_9606_qfo_dna_01.fq.gz</td>\n",
       "      <td>protein</td>\n",
       "      <td>11</td>\n",
       "      <td>tr|A0A024R1R8</td>\n",
       "    </tr>\n",
       "    <tr>\n",
       "      <th>read7/tr|A0A024R1R8|ENSP00000491117;mate1Start:1;mate2Start:1</th>\n",
       "      <td>1.000</td>\n",
       "      <td>40.0</td>\n",
       "      <td>Coding</td>\n",
       "      <td>1</td>\n",
       "      <td>Homo_sapiens_9606_qfo_dna_01.fq.gz</td>\n",
       "      <td>protein</td>\n",
       "      <td>11</td>\n",
       "      <td>tr|A0A024R1R8</td>\n",
       "    </tr>\n",
       "    <tr>\n",
       "      <th>read10/tr|A0A024R1R8|ENSP00000491117;mate1Start:1;mate2Start:1</th>\n",
       "      <td>0.975</td>\n",
       "      <td>40.0</td>\n",
       "      <td>Coding</td>\n",
       "      <td>1</td>\n",
       "      <td>Homo_sapiens_9606_qfo_dna_01.fq.gz</td>\n",
       "      <td>protein</td>\n",
       "      <td>11</td>\n",
       "      <td>tr|A0A024R1R8</td>\n",
       "    </tr>\n",
       "    <tr>\n",
       "      <th>read14/tr|A0A024R1R8|ENSP00000491117;mate1Start:1;mate2Start:1</th>\n",
       "      <td>1.000</td>\n",
       "      <td>40.0</td>\n",
       "      <td>Coding</td>\n",
       "      <td>1</td>\n",
       "      <td>Homo_sapiens_9606_qfo_dna_01.fq.gz</td>\n",
       "      <td>protein</td>\n",
       "      <td>11</td>\n",
       "      <td>tr|A0A024R1R8</td>\n",
       "    </tr>\n",
       "  </tbody>\n",
       "</table>\n",
       "</div>"
      ],
      "text/plain": [
       "                                                    jaccard_in_peptide_db  \\\n",
       "read_id                                                                     \n",
       "read1/tr|A0A024R1R8|ENSP00000491117;mate1Start:...                  1.000   \n",
       "read2/tr|A0A024R1R8|ENSP00000491117;mate1Start:...                  0.975   \n",
       "read7/tr|A0A024R1R8|ENSP00000491117;mate1Start:...                  1.000   \n",
       "read10/tr|A0A024R1R8|ENSP00000491117;mate1Start...                  0.975   \n",
       "read14/tr|A0A024R1R8|ENSP00000491117;mate1Start...                  1.000   \n",
       "\n",
       "                                                    n_kmers category  \\\n",
       "read_id                                                                \n",
       "read1/tr|A0A024R1R8|ENSP00000491117;mate1Start:...     40.0   Coding   \n",
       "read2/tr|A0A024R1R8|ENSP00000491117;mate1Start:...     40.0   Coding   \n",
       "read7/tr|A0A024R1R8|ENSP00000491117;mate1Start:...     40.0   Coding   \n",
       "read10/tr|A0A024R1R8|ENSP00000491117;mate1Start...     40.0   Coding   \n",
       "read14/tr|A0A024R1R8|ENSP00000491117;mate1Start...     40.0   Coding   \n",
       "\n",
       "                                                    translation_frame  \\\n",
       "read_id                                                                 \n",
       "read1/tr|A0A024R1R8|ENSP00000491117;mate1Start:...                  1   \n",
       "read2/tr|A0A024R1R8|ENSP00000491117;mate1Start:...                  1   \n",
       "read7/tr|A0A024R1R8|ENSP00000491117;mate1Start:...                  1   \n",
       "read10/tr|A0A024R1R8|ENSP00000491117;mate1Start...                  1   \n",
       "read14/tr|A0A024R1R8|ENSP00000491117;mate1Start...                  1   \n",
       "\n",
       "                                                                              filename  \\\n",
       "read_id                                                                                  \n",
       "read1/tr|A0A024R1R8|ENSP00000491117;mate1Start:...  Homo_sapiens_9606_qfo_dna_01.fq.gz   \n",
       "read2/tr|A0A024R1R8|ENSP00000491117;mate1Start:...  Homo_sapiens_9606_qfo_dna_01.fq.gz   \n",
       "read7/tr|A0A024R1R8|ENSP00000491117;mate1Start:...  Homo_sapiens_9606_qfo_dna_01.fq.gz   \n",
       "read10/tr|A0A024R1R8|ENSP00000491117;mate1Start...  Homo_sapiens_9606_qfo_dna_01.fq.gz   \n",
       "read14/tr|A0A024R1R8|ENSP00000491117;mate1Start...  Homo_sapiens_9606_qfo_dna_01.fq.gz   \n",
       "\n",
       "                                                   alphabet  ksize  \\\n",
       "read_id                                                              \n",
       "read1/tr|A0A024R1R8|ENSP00000491117;mate1Start:...  protein     11   \n",
       "read2/tr|A0A024R1R8|ENSP00000491117;mate1Start:...  protein     11   \n",
       "read7/tr|A0A024R1R8|ENSP00000491117;mate1Start:...  protein     11   \n",
       "read10/tr|A0A024R1R8|ENSP00000491117;mate1Start...  protein     11   \n",
       "read14/tr|A0A024R1R8|ENSP00000491117;mate1Start...  protein     11   \n",
       "\n",
       "                                                       uniprot_id  \n",
       "read_id                                                            \n",
       "read1/tr|A0A024R1R8|ENSP00000491117;mate1Start:...  tr|A0A024R1R8  \n",
       "read2/tr|A0A024R1R8|ENSP00000491117;mate1Start:...  tr|A0A024R1R8  \n",
       "read7/tr|A0A024R1R8|ENSP00000491117;mate1Start:...  tr|A0A024R1R8  \n",
       "read10/tr|A0A024R1R8|ENSP00000491117;mate1Start...  tr|A0A024R1R8  \n",
       "read14/tr|A0A024R1R8|ENSP00000491117;mate1Start...  tr|A0A024R1R8  "
      ]
     },
     "execution_count": 334,
     "metadata": {},
     "output_type": "execute_result"
    }
   ],
   "source": [
    "protein_k11_good_uniprot_ids_no_ns_single_frame_read_id_index = protein_k11_good_uniprot_ids_no_ns_single_frame.set_index('read_id')\n",
    "print(protein_k11_good_uniprot_ids_no_ns_single_frame_read_id_index.shape)\n",
    "protein_k11_good_uniprot_ids_no_ns_single_frame_read_id_index.head()"
   ]
  },
  {
   "cell_type": "markdown",
   "metadata": {},
   "source": [
    "## Get only shared reads"
   ]
  },
  {
   "cell_type": "code",
   "execution_count": 335,
   "metadata": {},
   "outputs": [
    {
     "data": {
      "text/plain": [
       "read1/tr|A0A024R1R8|ENSP00000491117;mate1Start:1;mate2Start:1    1\n",
       "read2/tr|A0A024R1R8|ENSP00000491117;mate1Start:1;mate2Start:1    1\n",
       "read3/tr|A0A024R1R8|ENSP00000491117;mate1Start:1;mate2Start:1    1\n",
       "read4/tr|A0A024R1R8|ENSP00000491117;mate1Start:1;mate2Start:1    1\n",
       "read5/tr|A0A024R1R8|ENSP00000491117;mate1Start:1;mate2Start:1    1\n",
       "Name: translation_frame, dtype: int64"
      ]
     },
     "execution_count": 335,
     "metadata": {},
     "output_type": "execute_result"
    }
   ],
   "source": [
    "read_id_to_frame_series.head()"
   ]
  },
  {
   "cell_type": "code",
   "execution_count": 388,
   "metadata": {},
   "outputs": [
    {
     "data": {
      "text/plain": [
       "array(['read630164/sp|Q8N4C6|ENSP00000436092;mate1:262-411;mate2:287-436',\n",
       "       'read97775/sp|O43155|ENSP00000451050;mate1:383-532;mate2:525-674',\n",
       "       'read800960/sp|Q99877|ENSP00000483903;mate1:20-169;mate2:135-284',\n",
       "       'read776841/sp|Q96NS1|ENSP00000432648;mate1:66-215;mate2:215-364',\n",
       "       'read446270/sp|Q3KQU3|ENSP00000362244;mate1:1269-1418;mate2:1367-1516'],\n",
       "      dtype=object)"
      ]
     },
     "execution_count": 388,
     "metadata": {},
     "output_type": "execute_result"
    }
   ],
   "source": [
    "protein_k11_good_uniprot_ids_no_ns_coding.sample(5).read_id.values"
   ]
  },
  {
   "cell_type": "code",
   "execution_count": 354,
   "metadata": {},
   "outputs": [
    {
     "name": "stderr",
     "output_type": "stream",
     "text": [
      "6it [00:00, 5184.55it/s]"
     ]
    },
    {
     "name": "stdout",
     "output_type": "stream",
     "text": [
      "(6,)\n"
     ]
    },
    {
     "name": "stderr",
     "output_type": "stream",
     "text": [
      "\n"
     ]
    },
    {
     "data": {
      "text/plain": [
       "read51/sp|A0A024RBG1|ENSP00000492425;mate1:130-279;mate2:281-430__frame=-3   -3\n",
       "read52/sp|A0A024RBG1|ENSP00000492425;mate1:125-274;mate2:193-342__frame=3     2\n",
       "read302822/sp|P49760|ENSP00000460443;mate1:755-904;mate2:890-1039__frame=3    2\n",
       "read780376/sp|Q96PL2|ENSP00000494896;mate1:747-896;mate2:829-978__frame=2     3\n",
       "read192484/sp|P09629|ENSP00000239165;mate1:19-168;mate2:125-274__frame=1      1\n",
       "read335141/sp|P60368|ENSP00000375479;mate1:141-290;mate2:251-400__frame=2     3\n",
       "Name: translation_frame, dtype: int64"
      ]
     },
     "execution_count": 354,
     "metadata": {},
     "output_type": "execute_result"
    }
   ],
   "source": [
    "fastq_per_read_frame('mini.fastq')"
   ]
  },
  {
   "cell_type": "code",
   "execution_count": 290,
   "metadata": {},
   "outputs": [
    {
     "data": {
      "text/plain": [
       "2"
      ]
     },
     "execution_count": 290,
     "metadata": {},
     "output_type": "execute_result"
    }
   ],
   "source": [
    "(747 - 1) % 3"
   ]
  },
  {
   "cell_type": "code",
   "execution_count": 269,
   "metadata": {},
   "outputs": [],
   "source": [
    "# read52 = dict(record)"
   ]
  },
  {
   "cell_type": "code",
   "execution_count": 271,
   "metadata": {},
   "outputs": [],
   "source": [
    "    # read51 = dict(record"
   ]
  },
  {
   "cell_type": "code",
   "execution_count": 272,
   "metadata": {},
   "outputs": [
    {
     "name": "stdout",
     "output_type": "stream",
     "text": [
      "read52/sp|A0A024RBG1|ENSP00000492425;mate1:125-274;mate2:193-342\n",
      ">mate1\n",
      "ACCCAGACCAGTGGATTGTCCCAGGAGGAGGAATGGAACCCGAGGAGGAACCTGGCGGTGCTGCCGTGAGGGAAGTTTATGAGGAGGCTGGAGTCAAAGGAAAACTAGGCAGACTTCTGGGCATATTTGAGCAGAACCAAGACCGAAAGC\n",
      ">mate1_rc\n",
      "GCTTTCGGTCTTGGTTCTGCTCAAATATGCCCAGAAGTCTGCCTAGTTTTCCTTTGACTCCAGCCTCCTCATAAACTTCCCTCACGGCAGCACCGCCAGGTTCCTCCTCGGGTTCCATTCCTCCTCCTGGGACAATCCACTGGTCTGGGT\n",
      ">mate2\n",
      "AGGGAAGTTTATGAGGAGGCTGGAGTCAAAGGAAAACTAGGCAGACTTCTGGGCATATTTGAGCAGAACCAAGACCGAAAGCACAGAACATATGTTTATGTTCTAACAGTCACTGAAATATTAGAAGATTGGGAAGATTCTGTTAATATT\n",
      ">mate2_rc\n",
      "AATATTAACAGAATCTTCCCAATCTTCTAATATTTCAGTGACTGTTAGAACATAAACATATGTTCTGTGCTTTCGGTCTTGGTTCTGCTCAAATATGCCCAGAAGTCTGCCTAGTTTTCCTTTGACTCCAGCCTCCTCATAAACTTCCCT\n",
      ">record\n",
      "ACCCAGACCAGTGGATTGTCCCAGGAGGAGGAATGGAACCCGAGGAGGAACCTGGCGGTGCTGCCGTGAGGGAAGTTTATGAGGAGGCTGGAGTCAAAGGAAAACTAGGCAGACTTCTGGGCATATTTGAGCAGAACCAAGACCGAAAGC\n",
      ">record_rc\n",
      "GCTTTCGGTCTTGGTTCTGCTCAAATATGCCCAGAAGTCTGCCTAGTTTTCCTTTGACTCCAGCCTCCTCATAAACTTCCCTCACGGCAGCACCGCCAGGTTCCTCCTCGGGTTCCATTCCTCCTCCTGGGACAATCCACTGGTCTGGGT\n"
     ]
    },
    {
     "data": {
      "text/plain": [
       "3"
      ]
     },
     "execution_count": 272,
     "metadata": {},
     "output_type": "execute_result"
    }
   ],
   "source": [
    "get_correct_reading_frame(read52, debug=True)"
   ]
  },
  {
   "cell_type": "code",
   "execution_count": 273,
   "metadata": {},
   "outputs": [
    {
     "name": "stdout",
     "output_type": "stream",
     "text": [
      "read51/sp|A0A024RBG1|ENSP00000492425;mate1:130-279;mate2:281-430\n",
      ">mate1\n",
      "GACCAGTGGATTGTCCCAGGAGGAGGAATGGAACCCGAGGAGGAACCTGGCGGTGCTGCCGTGAGGGAAGTTTATGAGGAGGCTGGAGTCAAAGGAAAACTAGGCAGACTTCTGGGCATATTTGAGCAGAACCAAGACCGAAAGCACAGA\n",
      ">mate1_rc\n",
      "TCTGTGCTTTCGGTCTTGGTTCTGCTCAAATATGCCCAGAAGTCTGCCTAGTTTTCCTTTGACTCCAGCCTCCTCATAAACTTCCCTCACGGCAGCACCGCCAGGTTCCTCCTCGGGTTCCATTCCTCCTCCTGGGACAATCCACTGGTC\n",
      ">mate2\n",
      "CATATGTTTATGTTCTAACAGTCACTGAAATATTAGAAGATTGGGAAGATTCTGTTAATATTGGAAGGAAGAGAGAGTGGTTCAAAGTAGAAGATGCTATCAAAGTTCTCCAGTGTCATAAACCTGTACATGCAGAGTATCTGGAAAAGC\n",
      ">mate2_rc\n",
      "GCTTTTCCAGATACTCTGCATGTACAGGTTTATGACACTGGAGAACTTTGATAGCATCTTCTACTTTGAACCACTCTCTCTTCCTTCCAATATTAACAGAATCTTCCCAATCTTCTAATATTTCAGTGACTGTTAGAACATAAACATATG\n",
      ">record\n",
      "GCTTTTCCAGATACTCTGCATGTACAGGTTTATGACACTGGAGAACTTTGATAGCATCTTCTACTTTGAACCACTCTCTCTTCCTTCCAATATTAACAGAATCTTCCCAATCTTCTAATATTTCAGTGACTGTTAGAACATAAACATATG\n",
      ">record_rc\n",
      "CATATGTTTATGTTCTAACAGTCACTGAAATATTAGAAGATTGGGAAGATTCTGTTAATATTGGAAGGAAGAGAGAGTGGTTCAAAGTAGAAGATGCTATCAAAGTTCTCCAGTGTCATAAACCTGTACATGCAGAGTATCTGGAAAAGC\n",
      "-3\n"
     ]
    }
   ],
   "source": [
    "frame = get_correct_reading_frame(read51, debug=True)\n",
    "print(frame)"
   ]
  },
  {
   "cell_type": "code",
   "execution_count": 208,
   "metadata": {},
   "outputs": [
    {
     "data": {
      "text/plain": [
       "1"
      ]
     },
     "execution_count": 208,
     "metadata": {},
     "output_type": "execute_result"
    }
   ],
   "source": [
    "(281 - 1) % 3"
   ]
  },
  {
   "cell_type": "code",
   "execution_count": null,
   "metadata": {},
   "outputs": [],
   "source": [
    "reads51_52.query('category == \"Coding\"')"
   ]
  },
  {
   "cell_type": "code",
   "execution_count": 181,
   "metadata": {},
   "outputs": [
    {
     "data": {
      "text/plain": [
       "'read371896/sp|Q07699|ENSP00000492022;mate1:11-160;mate2:-10-139'"
      ]
     },
     "execution_count": 181,
     "metadata": {},
     "output_type": "execute_result"
    }
   ],
   "source": [
    "record['name']"
   ]
  },
  {
   "cell_type": "code",
   "execution_count": 182,
   "metadata": {},
   "outputs": [
    {
     "data": {
      "text/plain": [
       "{'name': 'read371896/sp|Q07699|ENSP00000492022;mate1:11-160;mate2:-10-139', 'sequence': 'TGCTGGCCTTAGTGGTCGGCGCGGCACTGGTGTCCTCAGCCTGCGGGGGCTGCGTGGAGGTGGACTCGGAGACCGAGGCCGTGTATGGGATGACCTTCAAAATTCTTTGCATCTCCTGCAAGCGCCGCA', 'annotations': '', 'quality': 'IIIIIIIIIIIIIIIIIIIIIIIIIIIIIIIIIIIIIIIIIIIIIIIIIIIIIIIIIIIIIIIIIIIIIIIIIIIIIIIIIIIIIIIIIIIIIIIIIIIIIIIIIIIIIIIIIIIIIIIIIIIIIIIII'}"
      ]
     },
     "execution_count": 182,
     "metadata": {},
     "output_type": "execute_result"
    }
   ],
   "source": [
    "record"
   ]
  },
  {
   "cell_type": "code",
   "execution_count": 162,
   "metadata": {},
   "outputs": [
    {
     "data": {
      "text/plain": [
       "'sp|A0A087WUL8'"
      ]
     },
     "execution_count": 162,
     "metadata": {},
     "output_type": "execute_result"
    }
   ],
   "source": [
    "uniprot_id"
   ]
  },
  {
   "cell_type": "code",
   "execution_count": 164,
   "metadata": {},
   "outputs": [
    {
     "data": {
      "text/plain": [
       "'TCTCTTGACGTGGGAGAAATTGAAAAGAAGGGGAAGGGGAAGAAAAGAAGGGGAAGAAGATCAAAGAAGGAAAGAAGAAGGGGAAGAAAAGAAGGGGAAGAAGATCAAAACCCACCATGCCCCAGGCTCAGCAGGGAGCTGCTGGATGA'"
      ]
     },
     "execution_count": 164,
     "metadata": {},
     "output_type": "execute_result"
    }
   ],
   "source": [
    "mate1"
   ]
  },
  {
   "cell_type": "code",
   "execution_count": 169,
   "metadata": {},
   "outputs": [
    {
     "data": {
      "text/plain": [
       "'TCATCCAGCAGCTCCCTGCTGAGCCTGGGGCATGGTGGGTTTTGATCTTCTTCCCCTTCTTTTCTTCCCCTTCTTCTTTCCTTCTTTGATCTTCTTCCCCTTCTTTTCTTCCCCTTCCCCTTCTTTTCAATTTCTCCCACGTCAAGAGA'"
      ]
     },
     "execution_count": 169,
     "metadata": {},
     "output_type": "execute_result"
    }
   ],
   "source": [
    "reverse_complement(mate1)"
   ]
  },
  {
   "cell_type": "code",
   "execution_count": 165,
   "metadata": {},
   "outputs": [
    {
     "data": {
      "text/plain": [
       "'TTGCAGGACTCACTGGATAGATGTTATTCAACTCCTTCAGGTTGTCTTGAACTGACTGACTCATGCCAGCCCTACAGAAGTGCCTTTTACATATTGGAGCAACAGTGTGTTGGCTTGGCTGTTGACATGGATGAAATTGAAAAGTACCA'"
      ]
     },
     "execution_count": 165,
     "metadata": {},
     "output_type": "execute_result"
    }
   ],
   "source": [
    "mate2"
   ]
  },
  {
   "cell_type": "code",
   "execution_count": 170,
   "metadata": {},
   "outputs": [
    {
     "data": {
      "text/plain": [
       "'TGGTACTTTTCAATTTCATCCATGTCAACAGCCAAGCCAACACACTGTTGCTCCAATATGTAAAAGGCACTTCTGTAGGGCTGGCATGAGTCAGTCAGTTCAAGACAACCTGAAGGAGTTGAATAACATCTATCCAGTGAGTCCTGCAA'"
      ]
     },
     "execution_count": 170,
     "metadata": {},
     "output_type": "execute_result"
    }
   ],
   "source": [
    "reverse_complement(mate2)"
   ]
  },
  {
   "cell_type": "code",
   "execution_count": 166,
   "metadata": {},
   "outputs": [
    {
     "data": {
      "text/plain": [
       "'CAGAAGTGCCTTTTACATATTGGAGCAACAGTGTGTTGGCTTGGCTGTTGACATGGATGAAATTGAAAAGTACCAAGAAATGGAAGAAGACCAAGACGCATCATGCCCCAGGCTCAGCAGGGAGCTGCTGGATGAGAAAGAGCCTGAAGT'"
      ]
     },
     "execution_count": 166,
     "metadata": {},
     "output_type": "execute_result"
    }
   ],
   "source": [
    "record_seq"
   ]
  },
  {
   "cell_type": "code",
   "execution_count": 172,
   "metadata": {},
   "outputs": [
    {
     "data": {
      "text/plain": [
       "(8967, 9116)"
      ]
     },
     "execution_count": 172,
     "metadata": {},
     "output_type": "execute_result"
    }
   ],
   "source": [
    "start1, end1"
   ]
  },
  {
   "cell_type": "code",
   "execution_count": 173,
   "metadata": {},
   "outputs": [
    {
     "data": {
      "text/plain": [
       "(9132, 9281)"
      ]
     },
     "execution_count": 173,
     "metadata": {},
     "output_type": "execute_result"
    }
   ],
   "source": [
    "start2, end2"
   ]
  },
  {
   "cell_type": "code",
   "execution_count": 167,
   "metadata": {},
   "outputs": [
    {
     "data": {
      "text/plain": [
       "{'name': 'read6151/sp|A0A087WUL8|ENSP00000498781;mate1:8968-9117;mate2:9133-9282', 'sequence': 'CAGAAGTGCCTTTTACATATTGGAGCAACAGTGTGTTGGCTTGGCTGTTGACATGGATGAAATTGAAAAGTACCAAGAAATGGAAGAAGACCAAGACGCATCATGCCCCAGGCTCAGCAGGGAGCTGCTGGATGAGAAAGAGCCTGAAGT', 'annotations': '', 'quality': 'IIIIIIIIIIIIIIIIIIIIIIIIIIIIIIIIIIIIIIIIIIIIIIIIIIIIIIIIIIIIIIIIIIIIIIIIIIIIIIIIIIIIIIIIIIIIIIIIIIIIIIIIIIIIIIIIIIIIIIIIIIIIIIIIIIIIIIIIIIIIIIIIIIIIII'}"
      ]
     },
     "execution_count": 167,
     "metadata": {},
     "output_type": "execute_result"
    }
   ],
   "source": [
    "record"
   ]
  },
  {
   "cell_type": "code",
   "execution_count": 168,
   "metadata": {},
   "outputs": [
    {
     "data": {
      "text/plain": [
       "'CATATGTTTATGTTCTAACAGTCACTGAAATATTAGAAGATTGGGAAGATTCTGTTAATATTGGAAGGAAGAGAGAGTGGTTCAAAGTAGAAGATGCTATCAAAGTTCTCCAGTGTCATAAACCTGTACATGCAGAGTATCTGGAAAAGC'"
      ]
     },
     "execution_count": 168,
     "metadata": {},
     "output_type": "execute_result"
    }
   ],
   "source": [
    "revcomp"
   ]
  },
  {
   "cell_type": "code",
   "execution_count": 142,
   "metadata": {},
   "outputs": [
    {
     "data": {
      "text/plain": [
       "1"
      ]
     },
     "execution_count": 142,
     "metadata": {},
     "output_type": "execute_result"
    }
   ],
   "source": [
    "frame_number"
   ]
  },
  {
   "cell_type": "code",
   "execution_count": 137,
   "metadata": {},
   "outputs": [
    {
     "data": {
      "text/plain": [
       "{}"
      ]
     },
     "execution_count": 137,
     "metadata": {},
     "output_type": "execute_result"
    }
   ],
   "source": [
    "read_id_to_frame"
   ]
  },
  {
   "cell_type": "markdown",
   "metadata": {},
   "source": [
    "# Percentage frame matching for Protein k11"
   ]
  },
  {
   "cell_type": "markdown",
   "metadata": {},
   "source": [
    "## Get read id to frame"
   ]
  },
  {
   "cell_type": "code",
   "execution_count": 470,
   "metadata": {},
   "outputs": [
    {
     "data": {
      "text/plain": [
       "'/home/olga/data_sm/immune-evolution/rawdata/simulated/human/Homo_sapiens_9606_qfo_dna_01.fq.gz'"
      ]
     },
     "execution_count": 470,
     "metadata": {},
     "output_type": "execute_result"
    }
   ],
   "source": [
    "fastq"
   ]
  },
  {
   "cell_type": "code",
   "execution_count": 471,
   "metadata": {},
   "outputs": [
    {
     "name": "stderr",
     "output_type": "stream",
     "text": [
      "1015001it [01:26, 11732.97it/s]\n"
     ]
    },
    {
     "name": "stdout",
     "output_type": "stream",
     "text": [
      "(784305,)\n",
      "(784305,)\n",
      "CPU times: user 1min 27s, sys: 865 ms, total: 1min 28s\n",
      "Wall time: 1min 28s\n"
     ]
    }
   ],
   "source": [
    "%%time\n",
    "read_id_to_frame_series = fastq_per_read_frame(fastq)\n",
    "print(read_id_to_frame_series.shape)\n",
    "read_id_to_frame_series.head()"
   ]
  },
  {
   "cell_type": "code",
   "execution_count": 475,
   "metadata": {},
   "outputs": [
    {
     "data": {
      "text/plain": [
       "read1/tr|A0A024R1R8|ENSP00000491117;mate1Start:1;mate2Start:1    1\n",
       "read2/tr|A0A024R1R8|ENSP00000491117;mate1Start:1;mate2Start:1    1\n",
       "read3/tr|A0A024R1R8|ENSP00000491117;mate1Start:1;mate2Start:1    1\n",
       "read4/tr|A0A024R1R8|ENSP00000491117;mate1Start:1;mate2Start:1    1\n",
       "read5/tr|A0A024R1R8|ENSP00000491117;mate1Start:1;mate2Start:1    1\n",
       "Name: translation_frame, dtype: int64"
      ]
     },
     "execution_count": 475,
     "metadata": {},
     "output_type": "execute_result"
    }
   ],
   "source": [
    "read_id_to_frame_series.head()"
   ]
  },
  {
   "cell_type": "code",
   "execution_count": 480,
   "metadata": {},
   "outputs": [],
   "source": [
    "human_busco_dir = '/mnt/ibm_sm/home/olga/pipeline-results/human-simulated/nf-predictorthologs--busco-mammalia-human'    \n",
    "\n",
    "\n",
    "read_id_to_frame_series.to_csv(f'{human_busco_dir}/correct_reading_frames.csv', index=True, header=True)"
   ]
  },
  {
   "cell_type": "markdown",
   "metadata": {},
   "source": [
    "### "
   ]
  },
  {
   "cell_type": "markdown",
   "metadata": {},
   "source": [
    "## Subset to shared reads"
   ]
  },
  {
   "cell_type": "code",
   "execution_count": 472,
   "metadata": {},
   "outputs": [
    {
     "data": {
      "text/plain": [
       "(414536,)"
      ]
     },
     "execution_count": 472,
     "metadata": {},
     "output_type": "execute_result"
    }
   ],
   "source": [
    "leaftea_frame = protein_k11_good_uniprot_ids_no_ns_single_frame_read_id_index['translation_frame']\n",
    "index = leaftea_frame.index.intersection(read_id_to_frame_series.index)\n",
    "leaftea_frame_intersect = leaftea_frame[index]\n",
    "read_id_to_frame_series_intersect = read_id_to_frame_series[index]\n",
    "assert read_id_to_frame_series_intersect.shape == leaftea_frame_intersect.shape\n",
    "leaftea_frame_intersect.shape"
   ]
  },
  {
   "cell_type": "markdown",
   "metadata": {},
   "source": [
    "## Compute percentage match"
   ]
  },
  {
   "cell_type": "code",
   "execution_count": 473,
   "metadata": {},
   "outputs": [
    {
     "data": {
      "text/plain": [
       "99.90012930119458"
      ]
     },
     "execution_count": 473,
     "metadata": {},
     "output_type": "execute_result"
    }
   ],
   "source": [
    "frame_matches = read_id_to_frame_series_intersect == leaftea_frame_intersect\n",
    "100 * frame_matches.sum()/frame_matches.shape[0]"
   ]
  },
  {
   "cell_type": "markdown",
   "metadata": {},
   "source": [
    "## Dayhoff k=16 coding score csvs\n",
    "\n",
    "dayhoff, k=16 is the smallest ksize where there are no reads with 4+ translations"
   ]
  },
  {
   "cell_type": "code",
   "execution_count": null,
   "metadata": {},
   "outputs": [],
   "source": [
    "dayhoff_k16 = pd.read_csv(f'{translate_dir}/molecule-dayhoff_ksize-16/Homo_sapiens_9606_qfo_dna_01__molecule-dayhoff_ksize-16__coding_scores.csv')\n",
    "print(dayhoff_k16.shape)\n",
    "dayhoff_k16['alphabet'] = 'dayhoff'\n",
    "dayhoff_k16['ksize'] = 17\n",
    "dayhoff_k16_coding = dayhoff_k16.query('category == \"Coding\"')\n",
    "print(dayhoff_k16_coding.shape)\n",
    "dayhoff_k16_coding.head()"
   ]
  },
  {
   "cell_type": "markdown",
   "metadata": {},
   "source": [
    "### Get dayoff-translated sequenceds that had three or more translation frames"
   ]
  },
  {
   "cell_type": "code",
   "execution_count": null,
   "metadata": {},
   "outputs": [],
   "source": [
    "%%time\n",
    "\n",
    "dayhoff_k16_three_frames = dayhoff_k16.groupby('read_id').filter(lambda x: (x['jaccard_in_peptide_db'] >= 0.95).sum() >= 3)\n",
    "print(dayhoff_k16_three_frames.shape)\n",
    "dayhoff_k16_three_frames.head()"
   ]
  },
  {
   "cell_type": "code",
   "execution_count": null,
   "metadata": {},
   "outputs": [],
   "source": [
    "coding_scores = pd.concat([dayhoff_k17, protein_k11])\n",
    "coding_scores"
   ]
  }
 ],
 "metadata": {
  "kernelspec": {
   "display_name": "Python 3",
   "language": "python",
   "name": "python3"
  },
  "language_info": {
   "codemirror_mode": {
    "name": "ipython",
    "version": 3
   },
   "file_extension": ".py",
   "mimetype": "text/x-python",
   "name": "python",
   "nbconvert_exporter": "python",
   "pygments_lexer": "ipython3",
   "version": "3.6.10"
  }
 },
 "nbformat": 4,
 "nbformat_minor": 4
}
