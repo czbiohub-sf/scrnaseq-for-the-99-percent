{
 "cells": [
  {
   "cell_type": "markdown",
   "id": "spectacular-football",
   "metadata": {},
   "source": [
    "# Imports"
   ]
  },
  {
   "cell_type": "code",
   "execution_count": 1,
   "id": "spare-minority",
   "metadata": {},
   "outputs": [],
   "source": [
    "import glob\n",
    "import os\n",
    "\n",
    "import matplotlib.pyplot as plt\n",
    "import pandas as pd\n",
    "import scanpy as sc\n",
    "import seaborn as sns"
   ]
  },
  {
   "cell_type": "markdown",
   "id": "ordered-bunch",
   "metadata": {},
   "source": [
    "## Def describe"
   ]
  },
  {
   "cell_type": "code",
   "execution_count": 2,
   "id": "adolescent-deputy",
   "metadata": {},
   "outputs": [],
   "source": [
    "def describe(df, random=False):\n",
    "    print(df.shape)\n",
    "    print(\"--- First 5 entries ---\")\n",
    "    display(df.head())\n",
    "    if random:\n",
    "        print('--- Random subset ---')\n",
    "        display(df.sample(5))"
   ]
  },
  {
   "cell_type": "markdown",
   "id": "applicable-european",
   "metadata": {},
   "source": [
    "## Read one2one h5ad"
   ]
  },
  {
   "cell_type": "code",
   "execution_count": 3,
   "id": "premier-nelson",
   "metadata": {},
   "outputs": [
    {
     "name": "stderr",
     "output_type": "stream",
     "text": [
      "/home/olga/miniconda3/envs/immune-evolution/lib/python3.7/site-packages/anndata/_core/anndata.py:1094: FutureWarning: is_categorical is deprecated and will be removed in a future version.  Use is_categorical_dtype instead\n",
      "  if not is_categorical(df_full[k]):\n"
     ]
    },
    {
     "data": {
      "text/plain": [
       "View of AnnData object with n_obs × n_vars = 89795 × 10560\n",
       "    obs: 'index', 'age', 'cell_barcode', 'cell_ontology_class', 'cell_ontology_id', 'channel', 'free_annotation', 'individual', 'sample', 'sequencing_run', 'sex', 'species', 'species_batch', 'species_latin', 'tissue', 'narrow_group', 'broad_group', 'compartment_group', 'compartment_narrow', 'channel_cleaned', 'batch', 'n_genes', 'n_counts', 'species_batch_v2', 'compartment_broad', 'compartment_broad_narrow', 'compartment_species', 'compartment_narrow_species', 'common_individual_id'\n",
       "    var: 'bat__gene_name', 'mouse_lemur__gene_name-bat', 'mouse__gene_name-bat', 'mouse_lemur__gene_name_x-hlm', 'mouse__gene_name_x-hlm', 'gene_ids-lemur-hlm', 'n_cells-mouse-hlm', 'mouse_lemur__gene_name_y-hlm', 'mouse__gene_name_y-hlm'"
      ]
     },
     "execution_count": 3,
     "metadata": {},
     "output_type": "execute_result"
    }
   ],
   "source": [
    "adata = sc.read(\n",
    "#     \"/home/phoenix/data_lg/data_sm_copy/code/immune-evolution/h5ads/human-lemur-mouse-bat__lung_only_copy.h5ad\"\n",
    "    \"/home/olga/data_lg/data_sm_copy/immune-evolution/h5ads/human-lemur-mouse-bat/human-lemur-mouse-bat__lung_only.h5ad\"\n",
    ")\n",
    "adata.obs = adata.obs.reset_index().set_index('cell_id')\n",
    "SHARED_CELLTYPES = ['Alveolar Epithelial Type 2',\n",
    " 'B cell',\n",
    " 'Capillary',\n",
    " 'Dendritic',\n",
    " 'Fibroblast',\n",
    " 'Macrophage',\n",
    " 'Monocyte',\n",
    " 'Natural Killer T cell',\n",
    " 'Smooth Muscle and Myofibroblast',\n",
    " 'T cell']\n",
    "len(SHARED_CELLTYPES)\n",
    "\n",
    "adata_shared = adata[adata.obs.broad_group.isin(SHARED_CELLTYPES)]\n",
    "adata_shared"
   ]
  },
  {
   "cell_type": "markdown",
   "id": "varying-error",
   "metadata": {},
   "source": [
    "# Read parquet files"
   ]
  },
  {
   "cell_type": "markdown",
   "id": "opponent-testimony",
   "metadata": {},
   "source": [
    "## File paths"
   ]
  },
  {
   "cell_type": "code",
   "execution_count": 4,
   "id": "hispanic-slope",
   "metadata": {},
   "outputs": [
    {
     "data": {
      "text/plain": [
       "['/home/olga/data_lg/data_sm_copy/immune-evolution/kmer-signatures/2--test-human/2--single-cell-kmers/alphabet-dayhoff__ksize-51__scaled-10/hash2kmer__unique_kmers_per_celltype.parquet',\n",
       " '/home/olga/data_lg/data_sm_copy/immune-evolution/kmer-signatures/3--test-bat/2--single-cell-kmers/alphabet-dayhoff__ksize-51__scaled-10/hash2kmer__unique_kmers_per_celltype.parquet',\n",
       " '/home/olga/data_lg/data_sm_copy/immune-evolution/kmer-signatures/4--test-lemur/2--single-cell-kmers/alphabet-dayhoff__ksize-51__scaled-10/hash2kmer__unique_kmers_per_celltype.parquet',\n",
       " '/home/olga/data_lg/data_sm_copy/immune-evolution/kmer-signatures/1--train-mouse/2--single-cell-kmers/alphabet-dayhoff__ksize-51__scaled-10/hash2kmer__unique_kmers_per_celltype.parquet']"
      ]
     },
     "execution_count": 4,
     "metadata": {},
     "output_type": "execute_result"
    }
   ],
   "source": [
    "sketch_id = 'alphabet-dayhoff__ksize-51__scaled-10'\n",
    "sig_outdir_base = \"/home/olga/data_lg/data_sm_copy/immune-evolution/kmer-signatures\"\n",
    "\n",
    "\n",
    "parquets = glob.glob(f'/home/olga/data_lg/data_sm_copy/immune-evolution/kmer-signatures/*/2--single-cell-kmers/{sketch_id}/hash2kmer__unique_kmers_per_celltype.parquet')\n",
    "parquets"
   ]
  },
  {
   "cell_type": "code",
   "execution_count": 5,
   "id": "manufactured-panel",
   "metadata": {},
   "outputs": [],
   "source": [
    "# parquets = glob.glob(f'/home/olga/data_lg/data_sm_copy/immune-evolution/kmer-signatures/*/2--single-cell-kmers/*/hash2kmer__unique_kmers_per_celltype.parquet')\n",
    "# parquets"
   ]
  },
  {
   "cell_type": "code",
   "execution_count": 6,
   "id": "dimensional-france",
   "metadata": {},
   "outputs": [
    {
     "name": "stdout",
     "output_type": "stream",
     "text": [
      "-rw-r--r-- 1 olga czb 2.4G May  3 11:03 /home/olga/data_lg/data_sm_copy/immune-evolution/kmer-signatures/2--test-human/2--single-cell-kmers/alphabet-dayhoff__ksize-51__scaled-10/hash2kmer__unique_kmers_per_celltype.parquet\n",
      "CPU times: user 43.5 s, sys: 21.7 s, total: 1min 5s\n",
      "Wall time: 40.8 s\n",
      "-rw-r--r-- 1 olga czb 5.0G May 10 13:26 /home/olga/data_lg/data_sm_copy/immune-evolution/kmer-signatures/3--test-bat/2--single-cell-kmers/alphabet-dayhoff__ksize-51__scaled-10/hash2kmer__unique_kmers_per_celltype.parquet\n",
      "CPU times: user 2min, sys: 1min, total: 3min 1s\n",
      "Wall time: 2min 43s\n",
      "-rw-r--r-- 1 olga czb 149M Apr 30 13:26 /home/olga/data_lg/data_sm_copy/immune-evolution/kmer-signatures/4--test-lemur/2--single-cell-kmers/alphabet-dayhoff__ksize-51__scaled-10/hash2kmer__unique_kmers_per_celltype.parquet\n",
      "CPU times: user 2.91 s, sys: 1.72 s, total: 4.63 s\n",
      "Wall time: 4.19 s\n",
      "-rw-r--r-- 1 olga czb 3.3G May  3 11:12 /home/olga/data_lg/data_sm_copy/immune-evolution/kmer-signatures/1--train-mouse/2--single-cell-kmers/alphabet-dayhoff__ksize-51__scaled-10/hash2kmer__unique_kmers_per_celltype.parquet\n",
      "CPU times: user 1min 6s, sys: 34.7 s, total: 1min 41s\n",
      "Wall time: 1min 34s\n",
      "(148123511, 13)\n",
      "--- First 5 entries ---\n"
     ]
    },
    {
     "data": {
      "text/html": [
       "<div>\n",
       "<style scoped>\n",
       "    .dataframe tbody tr th:only-of-type {\n",
       "        vertical-align: middle;\n",
       "    }\n",
       "\n",
       "    .dataframe tbody tr th {\n",
       "        vertical-align: top;\n",
       "    }\n",
       "\n",
       "    .dataframe thead th {\n",
       "        text-align: right;\n",
       "    }\n",
       "</style>\n",
       "<table border=\"1\" class=\"dataframe\">\n",
       "  <thead>\n",
       "    <tr style=\"text-align: right;\">\n",
       "      <th></th>\n",
       "      <th>kmer_in_sequence</th>\n",
       "      <th>kmer_in_alphabet</th>\n",
       "      <th>hashval</th>\n",
       "      <th>read_name</th>\n",
       "      <th>gene_name</th>\n",
       "      <th>species</th>\n",
       "      <th>cell_id</th>\n",
       "      <th>sketch_id</th>\n",
       "      <th>moltype</th>\n",
       "      <th>ksize</th>\n",
       "      <th>scaled</th>\n",
       "      <th>alignment_status</th>\n",
       "      <th>groundtruth_celltype</th>\n",
       "    </tr>\n",
       "  </thead>\n",
       "  <tbody>\n",
       "    <tr>\n",
       "      <th>0</th>\n",
       "      <td>DLNVKPKTIKTLEENLG</td>\n",
       "      <td>cecedbdbedbeccceb</td>\n",
       "      <td>550348301278027135</td>\n",
       "      <td>A00111:155:HFCWYDMXX:1:1359:1190:25066\\tCB:Z:G...</td>\n",
       "      <td>None</td>\n",
       "      <td>human</td>\n",
       "      <td>P3_4__GAGCAGAAGTGGACGT</td>\n",
       "      <td>alphabet-dayhoff__ksize-51__scaled-10</td>\n",
       "      <td>dayhoff</td>\n",
       "      <td>51</td>\n",
       "      <td>10</td>\n",
       "      <td>unaligned</td>\n",
       "      <td>Fibroblast</td>\n",
       "    </tr>\n",
       "    <tr>\n",
       "      <th>1</th>\n",
       "      <td>IKTLEENLGITIQDIGV</td>\n",
       "      <td>edbecccebebeccebe</td>\n",
       "      <td>974148631326387115</td>\n",
       "      <td>A00111:155:HFCWYDMXX:1:1359:1190:25066\\tCB:Z:G...</td>\n",
       "      <td>None</td>\n",
       "      <td>human</td>\n",
       "      <td>P3_4__GAGCAGAAGTGGACGT</td>\n",
       "      <td>alphabet-dayhoff__ksize-51__scaled-10</td>\n",
       "      <td>dayhoff</td>\n",
       "      <td>51</td>\n",
       "      <td>10</td>\n",
       "      <td>unaligned</td>\n",
       "      <td>Fibroblast</td>\n",
       "    </tr>\n",
       "    <tr>\n",
       "      <th>3</th>\n",
       "      <td>CRKLKLDPFLTPYTKIN</td>\n",
       "      <td>addedecbfebbfbdec</td>\n",
       "      <td>1662986983738689810</td>\n",
       "      <td>A00111:155:HFCWYDMXX:2:1129:25961:14544\\tCB:Z:...</td>\n",
       "      <td>None</td>\n",
       "      <td>human</td>\n",
       "      <td>P3_4__GAGCAGAAGTGGACGT</td>\n",
       "      <td>alphabet-dayhoff__ksize-51__scaled-10</td>\n",
       "      <td>dayhoff</td>\n",
       "      <td>51</td>\n",
       "      <td>10</td>\n",
       "      <td>unaligned</td>\n",
       "      <td>Fibroblast</td>\n",
       "    </tr>\n",
       "    <tr>\n",
       "      <th>4</th>\n",
       "      <td>RKLKLDPFLTPYTKINS</td>\n",
       "      <td>ddedecbfebbfbdecb</td>\n",
       "      <td>799720167227311772</td>\n",
       "      <td>A00111:155:HFCWYDMXX:2:1129:25961:14544\\tCB:Z:...</td>\n",
       "      <td>None</td>\n",
       "      <td>human</td>\n",
       "      <td>P3_4__GAGCAGAAGTGGACGT</td>\n",
       "      <td>alphabet-dayhoff__ksize-51__scaled-10</td>\n",
       "      <td>dayhoff</td>\n",
       "      <td>51</td>\n",
       "      <td>10</td>\n",
       "      <td>unaligned</td>\n",
       "      <td>Fibroblast</td>\n",
       "    </tr>\n",
       "    <tr>\n",
       "      <th>7</th>\n",
       "      <td>LDPFLTPYTKINSRWIK</td>\n",
       "      <td>ecbfebbfbdecbdfed</td>\n",
       "      <td>537198855570371996</td>\n",
       "      <td>A00111:155:HFCWYDMXX:2:1360:14886:30185\\tCB:Z:...</td>\n",
       "      <td>None</td>\n",
       "      <td>human</td>\n",
       "      <td>P3_4__GAGCAGAAGTGGACGT</td>\n",
       "      <td>alphabet-dayhoff__ksize-51__scaled-10</td>\n",
       "      <td>dayhoff</td>\n",
       "      <td>51</td>\n",
       "      <td>10</td>\n",
       "      <td>unaligned</td>\n",
       "      <td>Fibroblast</td>\n",
       "    </tr>\n",
       "  </tbody>\n",
       "</table>\n",
       "</div>"
      ],
      "text/plain": [
       "    kmer_in_sequence   kmer_in_alphabet              hashval  \\\n",
       "0  DLNVKPKTIKTLEENLG  cecedbdbedbeccceb   550348301278027135   \n",
       "1  IKTLEENLGITIQDIGV  edbecccebebeccebe   974148631326387115   \n",
       "3  CRKLKLDPFLTPYTKIN  addedecbfebbfbdec  1662986983738689810   \n",
       "4  RKLKLDPFLTPYTKINS  ddedecbfebbfbdecb   799720167227311772   \n",
       "7  LDPFLTPYTKINSRWIK  ecbfebbfbdecbdfed   537198855570371996   \n",
       "\n",
       "                                           read_name gene_name species  \\\n",
       "0  A00111:155:HFCWYDMXX:1:1359:1190:25066\\tCB:Z:G...      None   human   \n",
       "1  A00111:155:HFCWYDMXX:1:1359:1190:25066\\tCB:Z:G...      None   human   \n",
       "3  A00111:155:HFCWYDMXX:2:1129:25961:14544\\tCB:Z:...      None   human   \n",
       "4  A00111:155:HFCWYDMXX:2:1129:25961:14544\\tCB:Z:...      None   human   \n",
       "7  A00111:155:HFCWYDMXX:2:1360:14886:30185\\tCB:Z:...      None   human   \n",
       "\n",
       "                  cell_id                              sketch_id  moltype  \\\n",
       "0  P3_4__GAGCAGAAGTGGACGT  alphabet-dayhoff__ksize-51__scaled-10  dayhoff   \n",
       "1  P3_4__GAGCAGAAGTGGACGT  alphabet-dayhoff__ksize-51__scaled-10  dayhoff   \n",
       "3  P3_4__GAGCAGAAGTGGACGT  alphabet-dayhoff__ksize-51__scaled-10  dayhoff   \n",
       "4  P3_4__GAGCAGAAGTGGACGT  alphabet-dayhoff__ksize-51__scaled-10  dayhoff   \n",
       "7  P3_4__GAGCAGAAGTGGACGT  alphabet-dayhoff__ksize-51__scaled-10  dayhoff   \n",
       "\n",
       "  ksize  scaled alignment_status groundtruth_celltype  \n",
       "0    51      10        unaligned           Fibroblast  \n",
       "1    51      10        unaligned           Fibroblast  \n",
       "3    51      10        unaligned           Fibroblast  \n",
       "4    51      10        unaligned           Fibroblast  \n",
       "7    51      10        unaligned           Fibroblast  "
      ]
     },
     "metadata": {},
     "output_type": "display_data"
    },
    {
     "name": "stdout",
     "output_type": "stream",
     "text": [
      "CPU times: user 4min 55s, sys: 2min 42s, total: 7min 38s\n",
      "Wall time: 6min 40s\n"
     ]
    }
   ],
   "source": [
    "%%time\n",
    "dfs = []\n",
    "\n",
    "for parquet in parquets:\n",
    "    ! ls -lha $parquet\n",
    "    %time df = pd.read_parquet(parquet)\n",
    "    df = df.rename(columns={'broad_group': 'groundtruth_celltype'})\n",
    "    dfs.append(df)\n",
    "    \n",
    "hash2kmer = pd.concat(dfs)\n",
    "describe(hash2kmer)"
   ]
  },
  {
   "cell_type": "markdown",
   "id": "terminal-tolerance",
   "metadata": {},
   "source": [
    "## Read predicted cell types"
   ]
  },
  {
   "cell_type": "code",
   "execution_count": 7,
   "id": "armed-lease",
   "metadata": {},
   "outputs": [
    {
     "name": "stdout",
     "output_type": "stream",
     "text": [
      "(29750, 43)\n",
      "--- First 5 entries ---\n"
     ]
    },
    {
     "data": {
      "text/html": [
       "<div>\n",
       "<style scoped>\n",
       "    .dataframe tbody tr th:only-of-type {\n",
       "        vertical-align: middle;\n",
       "    }\n",
       "\n",
       "    .dataframe tbody tr th {\n",
       "        vertical-align: top;\n",
       "    }\n",
       "\n",
       "    .dataframe thead th {\n",
       "        text-align: right;\n",
       "    }\n",
       "</style>\n",
       "<table border=\"1\" class=\"dataframe\">\n",
       "  <thead>\n",
       "    <tr style=\"text-align: right;\">\n",
       "      <th></th>\n",
       "      <th>similarity</th>\n",
       "      <th>mouse1_broad_group</th>\n",
       "      <th>search_method</th>\n",
       "      <th>database_type</th>\n",
       "      <th>sketch_id</th>\n",
       "      <th>mol_or_alpha</th>\n",
       "      <th>alphabet</th>\n",
       "      <th>ksize</th>\n",
       "      <th>sketch_style</th>\n",
       "      <th>sketch_value</th>\n",
       "      <th>...</th>\n",
       "      <th>bat_narrow_group</th>\n",
       "      <th>bat_broad_group</th>\n",
       "      <th>bat_compartment_group</th>\n",
       "      <th>human_channel</th>\n",
       "      <th>human_cell_ontology_class</th>\n",
       "      <th>human_narrow_group</th>\n",
       "      <th>human_broad_group</th>\n",
       "      <th>human_compartment_group</th>\n",
       "      <th>predicted_compartment</th>\n",
       "      <th>groundtruth_compartment</th>\n",
       "    </tr>\n",
       "    <tr>\n",
       "      <th>query_cell_id</th>\n",
       "      <th></th>\n",
       "      <th></th>\n",
       "      <th></th>\n",
       "      <th></th>\n",
       "      <th></th>\n",
       "      <th></th>\n",
       "      <th></th>\n",
       "      <th></th>\n",
       "      <th></th>\n",
       "      <th></th>\n",
       "      <th></th>\n",
       "      <th></th>\n",
       "      <th></th>\n",
       "      <th></th>\n",
       "      <th></th>\n",
       "      <th></th>\n",
       "      <th></th>\n",
       "      <th></th>\n",
       "      <th></th>\n",
       "      <th></th>\n",
       "      <th></th>\n",
       "    </tr>\n",
       "  </thead>\n",
       "  <tbody>\n",
       "    <tr>\n",
       "      <th>MACA_18m_F_LUNG_51__AAACCTGCAGCCTATA</th>\n",
       "      <td>0.119992</td>\n",
       "      <td>T cell</td>\n",
       "      <td>similarity_abundance</td>\n",
       "      <td>min-5-percent-shared-kmers-remove-common-kmers</td>\n",
       "      <td>alphabet-dayhoff__ksize-51__scaled-10</td>\n",
       "      <td>alphabet</td>\n",
       "      <td>dayhoff</td>\n",
       "      <td>51</td>\n",
       "      <td>scaled</td>\n",
       "      <td>10</td>\n",
       "      <td>...</td>\n",
       "      <td>None</td>\n",
       "      <td>None</td>\n",
       "      <td>None</td>\n",
       "      <td>None</td>\n",
       "      <td>None</td>\n",
       "      <td>None</td>\n",
       "      <td>None</td>\n",
       "      <td>None</td>\n",
       "      <td>lymphoid</td>\n",
       "      <td>lymphoid</td>\n",
       "    </tr>\n",
       "    <tr>\n",
       "      <th>MACA_18m_F_LUNG_51__AAACCTGGTGTGGTTT</th>\n",
       "      <td>0.170558</td>\n",
       "      <td>B cell</td>\n",
       "      <td>similarity_abundance</td>\n",
       "      <td>min-5-percent-shared-kmers-remove-common-kmers</td>\n",
       "      <td>alphabet-dayhoff__ksize-51__scaled-10</td>\n",
       "      <td>alphabet</td>\n",
       "      <td>dayhoff</td>\n",
       "      <td>51</td>\n",
       "      <td>scaled</td>\n",
       "      <td>10</td>\n",
       "      <td>...</td>\n",
       "      <td>None</td>\n",
       "      <td>None</td>\n",
       "      <td>None</td>\n",
       "      <td>None</td>\n",
       "      <td>None</td>\n",
       "      <td>None</td>\n",
       "      <td>None</td>\n",
       "      <td>None</td>\n",
       "      <td>lymphoid</td>\n",
       "      <td>lymphoid</td>\n",
       "    </tr>\n",
       "    <tr>\n",
       "      <th>MACA_18m_F_LUNG_51__AAACGGGAGTTTCCTT</th>\n",
       "      <td>0.080257</td>\n",
       "      <td>T cell</td>\n",
       "      <td>similarity_abundance</td>\n",
       "      <td>min-5-percent-shared-kmers-remove-common-kmers</td>\n",
       "      <td>alphabet-dayhoff__ksize-51__scaled-10</td>\n",
       "      <td>alphabet</td>\n",
       "      <td>dayhoff</td>\n",
       "      <td>51</td>\n",
       "      <td>scaled</td>\n",
       "      <td>10</td>\n",
       "      <td>...</td>\n",
       "      <td>None</td>\n",
       "      <td>None</td>\n",
       "      <td>None</td>\n",
       "      <td>None</td>\n",
       "      <td>None</td>\n",
       "      <td>None</td>\n",
       "      <td>None</td>\n",
       "      <td>None</td>\n",
       "      <td>lymphoid</td>\n",
       "      <td>lymphoid</td>\n",
       "    </tr>\n",
       "    <tr>\n",
       "      <th>MACA_18m_F_LUNG_51__AAACGGGCAGTTCATG</th>\n",
       "      <td>0.263881</td>\n",
       "      <td>Monocyte</td>\n",
       "      <td>similarity_abundance</td>\n",
       "      <td>min-5-percent-shared-kmers-remove-common-kmers</td>\n",
       "      <td>alphabet-dayhoff__ksize-51__scaled-10</td>\n",
       "      <td>alphabet</td>\n",
       "      <td>dayhoff</td>\n",
       "      <td>51</td>\n",
       "      <td>scaled</td>\n",
       "      <td>10</td>\n",
       "      <td>...</td>\n",
       "      <td>None</td>\n",
       "      <td>None</td>\n",
       "      <td>None</td>\n",
       "      <td>None</td>\n",
       "      <td>None</td>\n",
       "      <td>None</td>\n",
       "      <td>None</td>\n",
       "      <td>None</td>\n",
       "      <td>myeloid</td>\n",
       "      <td>myeloid</td>\n",
       "    </tr>\n",
       "    <tr>\n",
       "      <th>MACA_18m_F_LUNG_51__AAACGGGGTCATCCCT</th>\n",
       "      <td>0.326669</td>\n",
       "      <td>Monocyte</td>\n",
       "      <td>similarity_abundance</td>\n",
       "      <td>min-5-percent-shared-kmers-remove-common-kmers</td>\n",
       "      <td>alphabet-dayhoff__ksize-51__scaled-10</td>\n",
       "      <td>alphabet</td>\n",
       "      <td>dayhoff</td>\n",
       "      <td>51</td>\n",
       "      <td>scaled</td>\n",
       "      <td>10</td>\n",
       "      <td>...</td>\n",
       "      <td>None</td>\n",
       "      <td>None</td>\n",
       "      <td>None</td>\n",
       "      <td>None</td>\n",
       "      <td>None</td>\n",
       "      <td>None</td>\n",
       "      <td>None</td>\n",
       "      <td>None</td>\n",
       "      <td>myeloid</td>\n",
       "      <td>myeloid</td>\n",
       "    </tr>\n",
       "  </tbody>\n",
       "</table>\n",
       "<p>5 rows × 43 columns</p>\n",
       "</div>"
      ],
      "text/plain": [
       "                                      similarity mouse1_broad_group  \\\n",
       "query_cell_id                                                         \n",
       "MACA_18m_F_LUNG_51__AAACCTGCAGCCTATA    0.119992             T cell   \n",
       "MACA_18m_F_LUNG_51__AAACCTGGTGTGGTTT    0.170558             B cell   \n",
       "MACA_18m_F_LUNG_51__AAACGGGAGTTTCCTT    0.080257             T cell   \n",
       "MACA_18m_F_LUNG_51__AAACGGGCAGTTCATG    0.263881           Monocyte   \n",
       "MACA_18m_F_LUNG_51__AAACGGGGTCATCCCT    0.326669           Monocyte   \n",
       "\n",
       "                                             search_method  \\\n",
       "query_cell_id                                                \n",
       "MACA_18m_F_LUNG_51__AAACCTGCAGCCTATA  similarity_abundance   \n",
       "MACA_18m_F_LUNG_51__AAACCTGGTGTGGTTT  similarity_abundance   \n",
       "MACA_18m_F_LUNG_51__AAACGGGAGTTTCCTT  similarity_abundance   \n",
       "MACA_18m_F_LUNG_51__AAACGGGCAGTTCATG  similarity_abundance   \n",
       "MACA_18m_F_LUNG_51__AAACGGGGTCATCCCT  similarity_abundance   \n",
       "\n",
       "                                                                       database_type  \\\n",
       "query_cell_id                                                                          \n",
       "MACA_18m_F_LUNG_51__AAACCTGCAGCCTATA  min-5-percent-shared-kmers-remove-common-kmers   \n",
       "MACA_18m_F_LUNG_51__AAACCTGGTGTGGTTT  min-5-percent-shared-kmers-remove-common-kmers   \n",
       "MACA_18m_F_LUNG_51__AAACGGGAGTTTCCTT  min-5-percent-shared-kmers-remove-common-kmers   \n",
       "MACA_18m_F_LUNG_51__AAACGGGCAGTTCATG  min-5-percent-shared-kmers-remove-common-kmers   \n",
       "MACA_18m_F_LUNG_51__AAACGGGGTCATCCCT  min-5-percent-shared-kmers-remove-common-kmers   \n",
       "\n",
       "                                                                  sketch_id  \\\n",
       "query_cell_id                                                                 \n",
       "MACA_18m_F_LUNG_51__AAACCTGCAGCCTATA  alphabet-dayhoff__ksize-51__scaled-10   \n",
       "MACA_18m_F_LUNG_51__AAACCTGGTGTGGTTT  alphabet-dayhoff__ksize-51__scaled-10   \n",
       "MACA_18m_F_LUNG_51__AAACGGGAGTTTCCTT  alphabet-dayhoff__ksize-51__scaled-10   \n",
       "MACA_18m_F_LUNG_51__AAACGGGCAGTTCATG  alphabet-dayhoff__ksize-51__scaled-10   \n",
       "MACA_18m_F_LUNG_51__AAACGGGGTCATCCCT  alphabet-dayhoff__ksize-51__scaled-10   \n",
       "\n",
       "                                     mol_or_alpha alphabet  ksize  \\\n",
       "query_cell_id                                                       \n",
       "MACA_18m_F_LUNG_51__AAACCTGCAGCCTATA     alphabet  dayhoff     51   \n",
       "MACA_18m_F_LUNG_51__AAACCTGGTGTGGTTT     alphabet  dayhoff     51   \n",
       "MACA_18m_F_LUNG_51__AAACGGGAGTTTCCTT     alphabet  dayhoff     51   \n",
       "MACA_18m_F_LUNG_51__AAACGGGCAGTTCATG     alphabet  dayhoff     51   \n",
       "MACA_18m_F_LUNG_51__AAACGGGGTCATCCCT     alphabet  dayhoff     51   \n",
       "\n",
       "                                     sketch_style  sketch_value  ...  \\\n",
       "query_cell_id                                                    ...   \n",
       "MACA_18m_F_LUNG_51__AAACCTGCAGCCTATA       scaled            10  ...   \n",
       "MACA_18m_F_LUNG_51__AAACCTGGTGTGGTTT       scaled            10  ...   \n",
       "MACA_18m_F_LUNG_51__AAACGGGAGTTTCCTT       scaled            10  ...   \n",
       "MACA_18m_F_LUNG_51__AAACGGGCAGTTCATG       scaled            10  ...   \n",
       "MACA_18m_F_LUNG_51__AAACGGGGTCATCCCT       scaled            10  ...   \n",
       "\n",
       "                                     bat_narrow_group bat_broad_group  \\\n",
       "query_cell_id                                                           \n",
       "MACA_18m_F_LUNG_51__AAACCTGCAGCCTATA             None            None   \n",
       "MACA_18m_F_LUNG_51__AAACCTGGTGTGGTTT             None            None   \n",
       "MACA_18m_F_LUNG_51__AAACGGGAGTTTCCTT             None            None   \n",
       "MACA_18m_F_LUNG_51__AAACGGGCAGTTCATG             None            None   \n",
       "MACA_18m_F_LUNG_51__AAACGGGGTCATCCCT             None            None   \n",
       "\n",
       "                                     bat_compartment_group human_channel  \\\n",
       "query_cell_id                                                              \n",
       "MACA_18m_F_LUNG_51__AAACCTGCAGCCTATA                  None          None   \n",
       "MACA_18m_F_LUNG_51__AAACCTGGTGTGGTTT                  None          None   \n",
       "MACA_18m_F_LUNG_51__AAACGGGAGTTTCCTT                  None          None   \n",
       "MACA_18m_F_LUNG_51__AAACGGGCAGTTCATG                  None          None   \n",
       "MACA_18m_F_LUNG_51__AAACGGGGTCATCCCT                  None          None   \n",
       "\n",
       "                                     human_cell_ontology_class  \\\n",
       "query_cell_id                                                    \n",
       "MACA_18m_F_LUNG_51__AAACCTGCAGCCTATA                      None   \n",
       "MACA_18m_F_LUNG_51__AAACCTGGTGTGGTTT                      None   \n",
       "MACA_18m_F_LUNG_51__AAACGGGAGTTTCCTT                      None   \n",
       "MACA_18m_F_LUNG_51__AAACGGGCAGTTCATG                      None   \n",
       "MACA_18m_F_LUNG_51__AAACGGGGTCATCCCT                      None   \n",
       "\n",
       "                                     human_narrow_group human_broad_group  \\\n",
       "query_cell_id                                                               \n",
       "MACA_18m_F_LUNG_51__AAACCTGCAGCCTATA               None              None   \n",
       "MACA_18m_F_LUNG_51__AAACCTGGTGTGGTTT               None              None   \n",
       "MACA_18m_F_LUNG_51__AAACGGGAGTTTCCTT               None              None   \n",
       "MACA_18m_F_LUNG_51__AAACGGGCAGTTCATG               None              None   \n",
       "MACA_18m_F_LUNG_51__AAACGGGGTCATCCCT               None              None   \n",
       "\n",
       "                                     human_compartment_group  \\\n",
       "query_cell_id                                                  \n",
       "MACA_18m_F_LUNG_51__AAACCTGCAGCCTATA                    None   \n",
       "MACA_18m_F_LUNG_51__AAACCTGGTGTGGTTT                    None   \n",
       "MACA_18m_F_LUNG_51__AAACGGGAGTTTCCTT                    None   \n",
       "MACA_18m_F_LUNG_51__AAACGGGCAGTTCATG                    None   \n",
       "MACA_18m_F_LUNG_51__AAACGGGGTCATCCCT                    None   \n",
       "\n",
       "                                     predicted_compartment  \\\n",
       "query_cell_id                                                \n",
       "MACA_18m_F_LUNG_51__AAACCTGCAGCCTATA              lymphoid   \n",
       "MACA_18m_F_LUNG_51__AAACCTGGTGTGGTTT              lymphoid   \n",
       "MACA_18m_F_LUNG_51__AAACGGGAGTTTCCTT              lymphoid   \n",
       "MACA_18m_F_LUNG_51__AAACGGGCAGTTCATG               myeloid   \n",
       "MACA_18m_F_LUNG_51__AAACGGGGTCATCCCT               myeloid   \n",
       "\n",
       "                                     groundtruth_compartment  \n",
       "query_cell_id                                                 \n",
       "MACA_18m_F_LUNG_51__AAACCTGCAGCCTATA                lymphoid  \n",
       "MACA_18m_F_LUNG_51__AAACCTGGTGTGGTTT                lymphoid  \n",
       "MACA_18m_F_LUNG_51__AAACGGGAGTTTCCTT                lymphoid  \n",
       "MACA_18m_F_LUNG_51__AAACGGGCAGTTCATG                 myeloid  \n",
       "MACA_18m_F_LUNG_51__AAACGGGGTCATCCCT                 myeloid  \n",
       "\n",
       "[5 rows x 43 columns]"
      ]
     },
     "metadata": {},
     "output_type": "display_data"
    }
   ],
   "source": [
    "predicted_cells_min_5_percent = pd.read_parquet(\n",
    "    os.path.join(sig_outdir_base, \"aggregated-predicted-cells.parquet\")\n",
    ")\n",
    "predicted_cells_min_5_percent = predicted_cells_min_5_percent.query('sketch_id == @sketch_id')\n",
    "describe(predicted_cells_min_5_percent)"
   ]
  },
  {
   "cell_type": "markdown",
   "id": "checked-toronto",
   "metadata": {},
   "source": [
    "### Join hash2kmer with predicted cell types"
   ]
  },
  {
   "cell_type": "code",
   "execution_count": 8,
   "id": "sixth-conclusion",
   "metadata": {},
   "outputs": [
    {
     "name": "stdout",
     "output_type": "stream",
     "text": [
      "(29750, 3)\n",
      "--- First 5 entries ---\n"
     ]
    },
    {
     "data": {
      "text/html": [
       "<div>\n",
       "<style scoped>\n",
       "    .dataframe tbody tr th:only-of-type {\n",
       "        vertical-align: middle;\n",
       "    }\n",
       "\n",
       "    .dataframe tbody tr th {\n",
       "        vertical-align: top;\n",
       "    }\n",
       "\n",
       "    .dataframe thead th {\n",
       "        text-align: right;\n",
       "    }\n",
       "</style>\n",
       "<table border=\"1\" class=\"dataframe\">\n",
       "  <thead>\n",
       "    <tr style=\"text-align: right;\">\n",
       "      <th></th>\n",
       "      <th>predicted_celltype</th>\n",
       "      <th>groundtruth_compartment</th>\n",
       "      <th>predicted_compartment</th>\n",
       "    </tr>\n",
       "    <tr>\n",
       "      <th>query_cell_id</th>\n",
       "      <th></th>\n",
       "      <th></th>\n",
       "      <th></th>\n",
       "    </tr>\n",
       "  </thead>\n",
       "  <tbody>\n",
       "    <tr>\n",
       "      <th>MACA_18M_F_LUNG_51__AAACCTGCAGCCTATA</th>\n",
       "      <td>T cell</td>\n",
       "      <td>lymphoid</td>\n",
       "      <td>lymphoid</td>\n",
       "    </tr>\n",
       "    <tr>\n",
       "      <th>MACA_18M_F_LUNG_51__AAACCTGGTGTGGTTT</th>\n",
       "      <td>B cell</td>\n",
       "      <td>lymphoid</td>\n",
       "      <td>lymphoid</td>\n",
       "    </tr>\n",
       "    <tr>\n",
       "      <th>MACA_18M_F_LUNG_51__AAACGGGAGTTTCCTT</th>\n",
       "      <td>T cell</td>\n",
       "      <td>lymphoid</td>\n",
       "      <td>lymphoid</td>\n",
       "    </tr>\n",
       "    <tr>\n",
       "      <th>MACA_18M_F_LUNG_51__AAACGGGCAGTTCATG</th>\n",
       "      <td>Monocyte</td>\n",
       "      <td>myeloid</td>\n",
       "      <td>myeloid</td>\n",
       "    </tr>\n",
       "    <tr>\n",
       "      <th>MACA_18M_F_LUNG_51__AAACGGGGTCATCCCT</th>\n",
       "      <td>Monocyte</td>\n",
       "      <td>myeloid</td>\n",
       "      <td>myeloid</td>\n",
       "    </tr>\n",
       "  </tbody>\n",
       "</table>\n",
       "</div>"
      ],
      "text/plain": [
       "                                     predicted_celltype  \\\n",
       "query_cell_id                                             \n",
       "MACA_18M_F_LUNG_51__AAACCTGCAGCCTATA             T cell   \n",
       "MACA_18M_F_LUNG_51__AAACCTGGTGTGGTTT             B cell   \n",
       "MACA_18M_F_LUNG_51__AAACGGGAGTTTCCTT             T cell   \n",
       "MACA_18M_F_LUNG_51__AAACGGGCAGTTCATG           Monocyte   \n",
       "MACA_18M_F_LUNG_51__AAACGGGGTCATCCCT           Monocyte   \n",
       "\n",
       "                                     groundtruth_compartment  \\\n",
       "query_cell_id                                                  \n",
       "MACA_18M_F_LUNG_51__AAACCTGCAGCCTATA                lymphoid   \n",
       "MACA_18M_F_LUNG_51__AAACCTGGTGTGGTTT                lymphoid   \n",
       "MACA_18M_F_LUNG_51__AAACGGGAGTTTCCTT                lymphoid   \n",
       "MACA_18M_F_LUNG_51__AAACGGGCAGTTCATG                 myeloid   \n",
       "MACA_18M_F_LUNG_51__AAACGGGGTCATCCCT                 myeloid   \n",
       "\n",
       "                                     predicted_compartment  \n",
       "query_cell_id                                               \n",
       "MACA_18M_F_LUNG_51__AAACCTGCAGCCTATA              lymphoid  \n",
       "MACA_18M_F_LUNG_51__AAACCTGGTGTGGTTT              lymphoid  \n",
       "MACA_18M_F_LUNG_51__AAACGGGAGTTTCCTT              lymphoid  \n",
       "MACA_18M_F_LUNG_51__AAACGGGCAGTTCATG               myeloid  \n",
       "MACA_18M_F_LUNG_51__AAACGGGGTCATCCCT               myeloid  "
      ]
     },
     "metadata": {},
     "output_type": "display_data"
    }
   ],
   "source": [
    "celltype_predictions = predicted_cells_min_5_percent[\n",
    "    [\"predicted_celltype\", \"groundtruth_compartment\", \"predicted_compartment\"]\n",
    "]\n",
    "celltype_predictions.index = celltype_predictions.index.str.upper()\n",
    "describe(celltype_predictions)"
   ]
  },
  {
   "cell_type": "code",
   "execution_count": 9,
   "id": "separate-athens",
   "metadata": {},
   "outputs": [],
   "source": [
    "hash2kmer.cell_id = hash2kmer.cell_id.str.upper()"
   ]
  },
  {
   "cell_type": "code",
   "execution_count": 10,
   "id": "future-working",
   "metadata": {},
   "outputs": [
    {
     "name": "stdout",
     "output_type": "stream",
     "text": [
      "(148123511, 16)\n",
      "--- First 5 entries ---\n"
     ]
    },
    {
     "data": {
      "text/html": [
       "<div>\n",
       "<style scoped>\n",
       "    .dataframe tbody tr th:only-of-type {\n",
       "        vertical-align: middle;\n",
       "    }\n",
       "\n",
       "    .dataframe tbody tr th {\n",
       "        vertical-align: top;\n",
       "    }\n",
       "\n",
       "    .dataframe thead th {\n",
       "        text-align: right;\n",
       "    }\n",
       "</style>\n",
       "<table border=\"1\" class=\"dataframe\">\n",
       "  <thead>\n",
       "    <tr style=\"text-align: right;\">\n",
       "      <th></th>\n",
       "      <th>kmer_in_sequence</th>\n",
       "      <th>kmer_in_alphabet</th>\n",
       "      <th>hashval</th>\n",
       "      <th>read_name</th>\n",
       "      <th>gene_name</th>\n",
       "      <th>species</th>\n",
       "      <th>cell_id</th>\n",
       "      <th>sketch_id</th>\n",
       "      <th>moltype</th>\n",
       "      <th>ksize</th>\n",
       "      <th>scaled</th>\n",
       "      <th>alignment_status</th>\n",
       "      <th>groundtruth_celltype</th>\n",
       "      <th>predicted_celltype</th>\n",
       "      <th>groundtruth_compartment</th>\n",
       "      <th>predicted_compartment</th>\n",
       "    </tr>\n",
       "  </thead>\n",
       "  <tbody>\n",
       "    <tr>\n",
       "      <th>0</th>\n",
       "      <td>DLNVKPKTIKTLEENLG</td>\n",
       "      <td>cecedbdbedbeccceb</td>\n",
       "      <td>550348301278027135</td>\n",
       "      <td>A00111:155:HFCWYDMXX:1:1359:1190:25066\\tCB:Z:G...</td>\n",
       "      <td>None</td>\n",
       "      <td>human</td>\n",
       "      <td>P3_4__GAGCAGAAGTGGACGT</td>\n",
       "      <td>alphabet-dayhoff__ksize-51__scaled-10</td>\n",
       "      <td>dayhoff</td>\n",
       "      <td>51</td>\n",
       "      <td>10</td>\n",
       "      <td>unaligned</td>\n",
       "      <td>Fibroblast</td>\n",
       "      <td>Fibroblast</td>\n",
       "      <td>stromal</td>\n",
       "      <td>stromal</td>\n",
       "    </tr>\n",
       "    <tr>\n",
       "      <th>1</th>\n",
       "      <td>IKTLEENLGITIQDIGV</td>\n",
       "      <td>edbecccebebeccebe</td>\n",
       "      <td>974148631326387115</td>\n",
       "      <td>A00111:155:HFCWYDMXX:1:1359:1190:25066\\tCB:Z:G...</td>\n",
       "      <td>None</td>\n",
       "      <td>human</td>\n",
       "      <td>P3_4__GAGCAGAAGTGGACGT</td>\n",
       "      <td>alphabet-dayhoff__ksize-51__scaled-10</td>\n",
       "      <td>dayhoff</td>\n",
       "      <td>51</td>\n",
       "      <td>10</td>\n",
       "      <td>unaligned</td>\n",
       "      <td>Fibroblast</td>\n",
       "      <td>Fibroblast</td>\n",
       "      <td>stromal</td>\n",
       "      <td>stromal</td>\n",
       "    </tr>\n",
       "    <tr>\n",
       "      <th>3</th>\n",
       "      <td>CRKLKLDPFLTPYTKIN</td>\n",
       "      <td>addedecbfebbfbdec</td>\n",
       "      <td>1662986983738689810</td>\n",
       "      <td>A00111:155:HFCWYDMXX:2:1129:25961:14544\\tCB:Z:...</td>\n",
       "      <td>None</td>\n",
       "      <td>human</td>\n",
       "      <td>P3_4__GAGCAGAAGTGGACGT</td>\n",
       "      <td>alphabet-dayhoff__ksize-51__scaled-10</td>\n",
       "      <td>dayhoff</td>\n",
       "      <td>51</td>\n",
       "      <td>10</td>\n",
       "      <td>unaligned</td>\n",
       "      <td>Fibroblast</td>\n",
       "      <td>Fibroblast</td>\n",
       "      <td>stromal</td>\n",
       "      <td>stromal</td>\n",
       "    </tr>\n",
       "    <tr>\n",
       "      <th>4</th>\n",
       "      <td>RKLKLDPFLTPYTKINS</td>\n",
       "      <td>ddedecbfebbfbdecb</td>\n",
       "      <td>799720167227311772</td>\n",
       "      <td>A00111:155:HFCWYDMXX:2:1129:25961:14544\\tCB:Z:...</td>\n",
       "      <td>None</td>\n",
       "      <td>human</td>\n",
       "      <td>P3_4__GAGCAGAAGTGGACGT</td>\n",
       "      <td>alphabet-dayhoff__ksize-51__scaled-10</td>\n",
       "      <td>dayhoff</td>\n",
       "      <td>51</td>\n",
       "      <td>10</td>\n",
       "      <td>unaligned</td>\n",
       "      <td>Fibroblast</td>\n",
       "      <td>Fibroblast</td>\n",
       "      <td>stromal</td>\n",
       "      <td>stromal</td>\n",
       "    </tr>\n",
       "    <tr>\n",
       "      <th>7</th>\n",
       "      <td>LDPFLTPYTKINSRWIK</td>\n",
       "      <td>ecbfebbfbdecbdfed</td>\n",
       "      <td>537198855570371996</td>\n",
       "      <td>A00111:155:HFCWYDMXX:2:1360:14886:30185\\tCB:Z:...</td>\n",
       "      <td>None</td>\n",
       "      <td>human</td>\n",
       "      <td>P3_4__GAGCAGAAGTGGACGT</td>\n",
       "      <td>alphabet-dayhoff__ksize-51__scaled-10</td>\n",
       "      <td>dayhoff</td>\n",
       "      <td>51</td>\n",
       "      <td>10</td>\n",
       "      <td>unaligned</td>\n",
       "      <td>Fibroblast</td>\n",
       "      <td>Fibroblast</td>\n",
       "      <td>stromal</td>\n",
       "      <td>stromal</td>\n",
       "    </tr>\n",
       "  </tbody>\n",
       "</table>\n",
       "</div>"
      ],
      "text/plain": [
       "    kmer_in_sequence   kmer_in_alphabet              hashval  \\\n",
       "0  DLNVKPKTIKTLEENLG  cecedbdbedbeccceb   550348301278027135   \n",
       "1  IKTLEENLGITIQDIGV  edbecccebebeccebe   974148631326387115   \n",
       "3  CRKLKLDPFLTPYTKIN  addedecbfebbfbdec  1662986983738689810   \n",
       "4  RKLKLDPFLTPYTKINS  ddedecbfebbfbdecb   799720167227311772   \n",
       "7  LDPFLTPYTKINSRWIK  ecbfebbfbdecbdfed   537198855570371996   \n",
       "\n",
       "                                           read_name gene_name species  \\\n",
       "0  A00111:155:HFCWYDMXX:1:1359:1190:25066\\tCB:Z:G...      None   human   \n",
       "1  A00111:155:HFCWYDMXX:1:1359:1190:25066\\tCB:Z:G...      None   human   \n",
       "3  A00111:155:HFCWYDMXX:2:1129:25961:14544\\tCB:Z:...      None   human   \n",
       "4  A00111:155:HFCWYDMXX:2:1129:25961:14544\\tCB:Z:...      None   human   \n",
       "7  A00111:155:HFCWYDMXX:2:1360:14886:30185\\tCB:Z:...      None   human   \n",
       "\n",
       "                  cell_id                              sketch_id  moltype  \\\n",
       "0  P3_4__GAGCAGAAGTGGACGT  alphabet-dayhoff__ksize-51__scaled-10  dayhoff   \n",
       "1  P3_4__GAGCAGAAGTGGACGT  alphabet-dayhoff__ksize-51__scaled-10  dayhoff   \n",
       "3  P3_4__GAGCAGAAGTGGACGT  alphabet-dayhoff__ksize-51__scaled-10  dayhoff   \n",
       "4  P3_4__GAGCAGAAGTGGACGT  alphabet-dayhoff__ksize-51__scaled-10  dayhoff   \n",
       "7  P3_4__GAGCAGAAGTGGACGT  alphabet-dayhoff__ksize-51__scaled-10  dayhoff   \n",
       "\n",
       "  ksize  scaled alignment_status groundtruth_celltype predicted_celltype  \\\n",
       "0    51      10        unaligned           Fibroblast         Fibroblast   \n",
       "1    51      10        unaligned           Fibroblast         Fibroblast   \n",
       "3    51      10        unaligned           Fibroblast         Fibroblast   \n",
       "4    51      10        unaligned           Fibroblast         Fibroblast   \n",
       "7    51      10        unaligned           Fibroblast         Fibroblast   \n",
       "\n",
       "  groundtruth_compartment predicted_compartment  \n",
       "0                 stromal               stromal  \n",
       "1                 stromal               stromal  \n",
       "3                 stromal               stromal  \n",
       "4                 stromal               stromal  \n",
       "7                 stromal               stromal  "
      ]
     },
     "metadata": {},
     "output_type": "display_data"
    }
   ],
   "source": [
    "hash2kmer_with_predictions = hash2kmer.join(celltype_predictions, on='cell_id')\n",
    "describe(hash2kmer_with_predictions)"
   ]
  },
  {
   "cell_type": "code",
   "execution_count": 11,
   "id": "latest-spell",
   "metadata": {},
   "outputs": [],
   "source": [
    "hash2kmer_with_predictions['hashval'] = hash2kmer_with_predictions['hashval'].astype(str)"
   ]
  },
  {
   "cell_type": "markdown",
   "id": "elect-sudan",
   "metadata": {},
   "source": [
    "### Write joined to parquet"
   ]
  },
  {
   "cell_type": "code",
   "execution_count": 12,
   "id": "moderate-leader",
   "metadata": {},
   "outputs": [],
   "source": [
    "hash2kmer_with_predictions.to_parquet(\n",
    "    os.path.join(sig_outdir_base, f\"aggregated-hash2kmer-with-predicted-cells__{sketch_id}.parquet\")\n",
    ")"
   ]
  },
  {
   "cell_type": "markdown",
   "id": "environmental-thesis",
   "metadata": {},
   "source": [
    "## Seems like some cell ids aren't there .. why?"
   ]
  },
  {
   "cell_type": "code",
   "execution_count": 13,
   "id": "numeric-discipline",
   "metadata": {},
   "outputs": [],
   "source": [
    "hash2kmer_cell_ids = set(hash2kmer.cell_id)"
   ]
  },
  {
   "cell_type": "code",
   "execution_count": 14,
   "id": "wicked-teddy",
   "metadata": {},
   "outputs": [],
   "source": [
    "adata_shared.obs.index = adata_shared.obs.index.str.upper()"
   ]
  },
  {
   "cell_type": "code",
   "execution_count": 15,
   "id": "voluntary-flood",
   "metadata": {},
   "outputs": [
    {
     "data": {
      "text/plain": [
       "61250"
      ]
     },
     "execution_count": 15,
     "metadata": {},
     "output_type": "execute_result"
    }
   ],
   "source": [
    "cell_ids_not_in_hash2kmer = adata_shared.obs.index.difference(hash2kmer_cell_ids)\n",
    "len(cell_ids_not_in_hash2kmer)"
   ]
  },
  {
   "cell_type": "code",
   "execution_count": 16,
   "id": "infrared-google",
   "metadata": {},
   "outputs": [
    {
     "data": {
      "text/plain": [
       "Human          27521\n",
       "Mouse lemur    18284\n",
       "Mouse          15372\n",
       "Bat               73\n",
       "Name: species, dtype: int64"
      ]
     },
     "execution_count": 16,
     "metadata": {},
     "output_type": "execute_result"
    }
   ],
   "source": [
    "adata_shared.obs.loc[cell_ids_not_in_hash2kmer].species.value_counts()"
   ]
  },
  {
   "cell_type": "code",
   "execution_count": 17,
   "id": "parental-economy",
   "metadata": {},
   "outputs": [],
   "source": [
    "channel_sizes = adata_shared.obs.groupby('channel').size()"
   ]
  },
  {
   "cell_type": "code",
   "execution_count": 18,
   "id": "circular-pizza",
   "metadata": {},
   "outputs": [],
   "source": [
    "no_id_present_channel_sizes = adata_shared.obs.loc[cell_ids_not_in_hash2kmer].groupby('channel').size()"
   ]
  },
  {
   "cell_type": "code",
   "execution_count": 19,
   "id": "interstate-involvement",
   "metadata": {},
   "outputs": [
    {
     "data": {
      "text/plain": [
       "channel\n",
       "10X_P1_6                  7680\n",
       "10X_P1_14                 1413\n",
       "10X_P2_5                   825\n",
       "10X_P3_0                   447\n",
       "10X_P5_13                  936\n",
       "10X_P5_14                 1202\n",
       "10X_P7_8                   294\n",
       "10X_P7_9                   745\n",
       "10X_P8_12                  489\n",
       "10X_P8_13                 1327\n",
       "Antoine_Lung_CD31_10X     5873\n",
       "Antoine_Lung_EPCAM_10X    2647\n",
       "Antoine_Lung_P3_10X       3547\n",
       "Bernard_Lung_10X          2596\n",
       "MACA_18m_F_LUNG_50          14\n",
       "MACA_18m_F_LUNG_51           0\n",
       "MACA_18m_M_LUNG_52           0\n",
       "MACA_18m_M_LUNG_53           0\n",
       "MACA_21m_F_LUNG_54           0\n",
       "MACA_21m_F_LUNG_55           0\n",
       "Martine_Lung_1_10X         856\n",
       "Martine_Lung_2_10X         887\n",
       "P1_2                      1677\n",
       "P1_3                      1932\n",
       "P1_4                      2265\n",
       "P2_1                      2921\n",
       "P2_2                      2764\n",
       "P2_3                      2328\n",
       "P2_4                       882\n",
       "P2_5                      3817\n",
       "P2_6                       922\n",
       "P2_7                      2953\n",
       "P2_8                      2519\n",
       "P3_2                         1\n",
       "P3_3                        29\n",
       "P3_4                         0\n",
       "P3_5                      2511\n",
       "P3_6                         0\n",
       "P3_7                         0\n",
       "Stumpy_Lung_10X           1878\n",
       "bat2-LU                     55\n",
       "bat3-LU                     18\n",
       "dtype: int64"
      ]
     },
     "execution_count": 19,
     "metadata": {},
     "output_type": "execute_result"
    }
   ],
   "source": [
    "no_id_present_channel_sizes"
   ]
  },
  {
   "cell_type": "code",
   "execution_count": 20,
   "id": "qualified-damages",
   "metadata": {},
   "outputs": [
    {
     "data": {
      "text/plain": [
       "channel\n",
       "10X_P1_6                  100.000000\n",
       "10X_P1_14                 100.000000\n",
       "10X_P2_5                  100.000000\n",
       "10X_P3_0                  100.000000\n",
       "10X_P5_13                 100.000000\n",
       "10X_P5_14                 100.000000\n",
       "10X_P7_8                  100.000000\n",
       "10X_P7_9                  100.000000\n",
       "10X_P8_12                 100.000000\n",
       "10X_P8_13                 100.000000\n",
       "Antoine_Lung_CD31_10X     100.000000\n",
       "Antoine_Lung_EPCAM_10X    100.000000\n",
       "Antoine_Lung_P3_10X        81.521489\n",
       "Bernard_Lung_10X          100.000000\n",
       "MACA_18m_F_LUNG_50          5.000000\n",
       "MACA_18m_F_LUNG_51          0.000000\n",
       "MACA_18m_M_LUNG_52          0.000000\n",
       "MACA_18m_M_LUNG_53          0.000000\n",
       "MACA_21m_F_LUNG_54          0.000000\n",
       "MACA_21m_F_LUNG_55          0.000000\n",
       "Martine_Lung_1_10X        100.000000\n",
       "Martine_Lung_2_10X        100.000000\n",
       "P1_2                      100.000000\n",
       "P1_3                      100.000000\n",
       "P1_4                      100.000000\n",
       "P2_1                      100.000000\n",
       "P2_2                      100.000000\n",
       "P2_3                      100.000000\n",
       "P2_4                      100.000000\n",
       "P2_5                      100.000000\n",
       "P2_6                      100.000000\n",
       "P2_7                      100.000000\n",
       "P2_8                      100.000000\n",
       "P3_2                        0.104275\n",
       "P3_3                        1.413255\n",
       "P3_4                        0.000000\n",
       "P3_5                       67.228916\n",
       "P3_6                        0.000000\n",
       "P3_7                        0.000000\n",
       "Stumpy_Lung_10X           100.000000\n",
       "bat2-LU                     2.789047\n",
       "bat3-LU                     0.310131\n",
       "dtype: float64"
      ]
     },
     "execution_count": 20,
     "metadata": {},
     "output_type": "execute_result"
    }
   ],
   "source": [
    "100 * no_id_present_channel_sizes/channel_sizes"
   ]
  },
  {
   "cell_type": "code",
   "execution_count": 21,
   "id": "regular-hawaii",
   "metadata": {},
   "outputs": [
    {
     "data": {
      "text/plain": [
       "species  groundtruth_celltype        alignment_status\n",
       "bat      Alveolar Epithelial Type 2  aligned             13522422\n",
       "                                     unaligned             759922\n",
       "         B cell                      aligned              1055558\n",
       "                                     unaligned              58700\n",
       "         Capillary                   aligned             14688263\n",
       "Name: alignment_status, dtype: int64"
      ]
     },
     "execution_count": 21,
     "metadata": {},
     "output_type": "execute_result"
    }
   ],
   "source": [
    "celltype_hashvals = hash2kmer.groupby(['species', 'groundtruth_celltype']).alignment_status.value_counts()\n",
    "celltype_hashvals.head()"
   ]
  },
  {
   "cell_type": "code",
   "execution_count": 22,
   "id": "heavy-thumb",
   "metadata": {},
   "outputs": [
    {
     "data": {
      "text/plain": [
       "species  groundtruth_celltype             alignment_status\n",
       "bat      Alveolar Epithelial Type 2       aligned             13522422\n",
       "                                          unaligned             759922\n",
       "         B cell                           aligned              1055558\n",
       "                                          unaligned              58700\n",
       "         Capillary                        aligned             14688263\n",
       "                                                                ...   \n",
       "mouse    Natural Killer T cell            unaligned              42411\n",
       "         Smooth Muscle and Myofibroblast  aligned               184572\n",
       "                                          unaligned               5618\n",
       "         T cell                           aligned              5653466\n",
       "                                          unaligned             189747\n",
       "Name: alignment_status, Length: 78, dtype: int64"
      ]
     },
     "execution_count": 22,
     "metadata": {},
     "output_type": "execute_result"
    }
   ],
   "source": [
    "celltype_hashvals"
   ]
  },
  {
   "cell_type": "code",
   "execution_count": 23,
   "id": "major-arizona",
   "metadata": {},
   "outputs": [
    {
     "data": {
      "text/html": [
       "<div>\n",
       "<style scoped>\n",
       "    .dataframe tbody tr th:only-of-type {\n",
       "        vertical-align: middle;\n",
       "    }\n",
       "\n",
       "    .dataframe tbody tr th {\n",
       "        vertical-align: top;\n",
       "    }\n",
       "\n",
       "    .dataframe thead th {\n",
       "        text-align: right;\n",
       "    }\n",
       "</style>\n",
       "<table border=\"1\" class=\"dataframe\">\n",
       "  <thead>\n",
       "    <tr style=\"text-align: right;\">\n",
       "      <th></th>\n",
       "      <th>species</th>\n",
       "      <th>groundtruth_celltype</th>\n",
       "      <th>alignment_status</th>\n",
       "      <th>percentage</th>\n",
       "    </tr>\n",
       "  </thead>\n",
       "  <tbody>\n",
       "    <tr>\n",
       "      <th>0</th>\n",
       "      <td>bat</td>\n",
       "      <td>Alveolar Epithelial Type 2</td>\n",
       "      <td>aligned</td>\n",
       "      <td>94.679291</td>\n",
       "    </tr>\n",
       "    <tr>\n",
       "      <th>1</th>\n",
       "      <td>bat</td>\n",
       "      <td>Alveolar Epithelial Type 2</td>\n",
       "      <td>unaligned</td>\n",
       "      <td>5.320709</td>\n",
       "    </tr>\n",
       "    <tr>\n",
       "      <th>2</th>\n",
       "      <td>bat</td>\n",
       "      <td>B cell</td>\n",
       "      <td>aligned</td>\n",
       "      <td>94.731920</td>\n",
       "    </tr>\n",
       "    <tr>\n",
       "      <th>3</th>\n",
       "      <td>bat</td>\n",
       "      <td>B cell</td>\n",
       "      <td>unaligned</td>\n",
       "      <td>5.268080</td>\n",
       "    </tr>\n",
       "    <tr>\n",
       "      <th>4</th>\n",
       "      <td>bat</td>\n",
       "      <td>Capillary</td>\n",
       "      <td>aligned</td>\n",
       "      <td>95.639091</td>\n",
       "    </tr>\n",
       "    <tr>\n",
       "      <th>...</th>\n",
       "      <td>...</td>\n",
       "      <td>...</td>\n",
       "      <td>...</td>\n",
       "      <td>...</td>\n",
       "    </tr>\n",
       "    <tr>\n",
       "      <th>73</th>\n",
       "      <td>mouse</td>\n",
       "      <td>Natural Killer T cell</td>\n",
       "      <td>unaligned</td>\n",
       "      <td>3.501037</td>\n",
       "    </tr>\n",
       "    <tr>\n",
       "      <th>74</th>\n",
       "      <td>mouse</td>\n",
       "      <td>Smooth Muscle and Myofibroblast</td>\n",
       "      <td>aligned</td>\n",
       "      <td>97.046112</td>\n",
       "    </tr>\n",
       "    <tr>\n",
       "      <th>75</th>\n",
       "      <td>mouse</td>\n",
       "      <td>Smooth Muscle and Myofibroblast</td>\n",
       "      <td>unaligned</td>\n",
       "      <td>2.953888</td>\n",
       "    </tr>\n",
       "    <tr>\n",
       "      <th>76</th>\n",
       "      <td>mouse</td>\n",
       "      <td>T cell</td>\n",
       "      <td>aligned</td>\n",
       "      <td>96.752694</td>\n",
       "    </tr>\n",
       "    <tr>\n",
       "      <th>77</th>\n",
       "      <td>mouse</td>\n",
       "      <td>T cell</td>\n",
       "      <td>unaligned</td>\n",
       "      <td>3.247306</td>\n",
       "    </tr>\n",
       "  </tbody>\n",
       "</table>\n",
       "<p>78 rows × 4 columns</p>\n",
       "</div>"
      ],
      "text/plain": [
       "   species             groundtruth_celltype alignment_status  percentage\n",
       "0      bat       Alveolar Epithelial Type 2          aligned   94.679291\n",
       "1      bat       Alveolar Epithelial Type 2        unaligned    5.320709\n",
       "2      bat                           B cell          aligned   94.731920\n",
       "3      bat                           B cell        unaligned    5.268080\n",
       "4      bat                        Capillary          aligned   95.639091\n",
       "..     ...                              ...              ...         ...\n",
       "73   mouse            Natural Killer T cell        unaligned    3.501037\n",
       "74   mouse  Smooth Muscle and Myofibroblast          aligned   97.046112\n",
       "75   mouse  Smooth Muscle and Myofibroblast        unaligned    2.953888\n",
       "76   mouse                           T cell          aligned   96.752694\n",
       "77   mouse                           T cell        unaligned    3.247306\n",
       "\n",
       "[78 rows x 4 columns]"
      ]
     },
     "execution_count": 23,
     "metadata": {},
     "output_type": "execute_result"
    }
   ],
   "source": [
    "celltype_hashval_percentage = celltype_hashvals.groupby(level=[0, 1]).apply(lambda x: 100 * x/x.sum())\n",
    "celltype_hashval_percentage.name = 'percentage'\n",
    "celltype_hashval_percentage = celltype_hashval_percentage.reset_index()\n",
    "celltype_hashval_percentage"
   ]
  },
  {
   "cell_type": "code",
   "execution_count": 24,
   "id": "hairy-sociology",
   "metadata": {},
   "outputs": [],
   "source": [
    "celltype_hashval_percentage_unaligned = celltype_hashval_percentage.query('alignment_status == \"unaligned\"')\n"
   ]
  },
  {
   "cell_type": "code",
   "execution_count": 25,
   "id": "unauthorized-newsletter",
   "metadata": {},
   "outputs": [
    {
     "data": {
      "text/plain": [
       "9                          Fibroblast\n",
       "5                           Capillary\n",
       "17    Smooth Muscle and Myofibroblast\n",
       "11                         Macrophage\n",
       "19                             T cell\n",
       "13                           Monocyte\n",
       "15              Natural Killer T cell\n",
       "3                              B cell\n",
       "1          Alveolar Epithelial Type 2\n",
       "7                           Dendritic\n",
       "Name: groundtruth_celltype, dtype: category\n",
       "Categories (10, object): ['Alveolar Epithelial Type 2', 'B cell', 'Capillary', 'Dendritic', ..., 'Monocyte', 'Natural Killer T cell', 'Smooth Muscle and Myofibroblast', 'T cell']"
      ]
     },
     "execution_count": 25,
     "metadata": {},
     "output_type": "execute_result"
    }
   ],
   "source": [
    "order = celltype_hashval_percentage_unaligned.query('species == \"bat\"').sort_values(\n",
    "    \"percentage\"\n",
    ")[\"groundtruth_celltype\"]\n",
    "order"
   ]
  },
  {
   "cell_type": "code",
   "execution_count": 26,
   "id": "abstract-chapter",
   "metadata": {},
   "outputs": [
    {
     "data": {
      "text/plain": [
       "<seaborn.axisgrid.FacetGrid at 0x7f49cae4aa90>"
      ]
     },
     "execution_count": 26,
     "metadata": {},
     "output_type": "execute_result"
    },
    {
     "data": {
      "image/png": "[encoded data removed]",
      "text/plain": [
       "<Figure size 430.875x360 with 1 Axes>"
      ]
     },
     "metadata": {
      "needs_background": "light"
     },
     "output_type": "display_data"
    }
   ],
   "source": [
    "g = sns.catplot(\n",
    "    data=celltype_hashval_percentage_unaligned,\n",
    "    y=\"groundtruth_celltype\",\n",
    "    x=\"percentage\",\n",
    "    hue=\"species\",\n",
    "    kind=\"bar\",\n",
    "    order=order\n",
    ")\n",
    "g.set(xscale=\"log\")"
   ]
  },
  {
   "cell_type": "code",
   "execution_count": 27,
   "id": "quantitative-gateway",
   "metadata": {},
   "outputs": [
    {
     "data": {
      "text/plain": [
       "<seaborn.axisgrid.FacetGrid at 0x7f3b451a1c10>"
      ]
     },
     "execution_count": 27,
     "metadata": {},
     "output_type": "execute_result"
    },
    {
     "data": {
      "image/png": "[encoded data removed]",
      "text/plain": [
       "<Figure size 1440x360 with 4 Axes>"
      ]
     },
     "metadata": {
      "needs_background": "light"
     },
     "output_type": "display_data"
    }
   ],
   "source": [
    "g = sns.catplot(\n",
    "    data=celltype_hashval_percentage_unaligned,\n",
    "    y=\"groundtruth_celltype\",\n",
    "    x=\"percentage\",\n",
    "    col=\"species\",\n",
    "    kind=\"bar\",\n",
    "    order=order\n",
    ")\n",
    "g.set(xscale=\"log\")"
   ]
  },
  {
   "cell_type": "markdown",
   "id": "downtown-style",
   "metadata": {},
   "source": [
    "## Read mouse diagnostic k-mer csvs"
   ]
  },
  {
   "cell_type": "code",
   "execution_count": 28,
   "id": "strong-geography",
   "metadata": {},
   "outputs": [
    {
     "data": {
      "text/plain": [
       "['/home/olga/data_lg/data_sm_copy/immune-evolution/kmer-signatures/1--train-mouse/5--celltype-kmers--merged-celltype-remove-common-kmers--min-kmer-count--5-percent/alphabet-dayhoff__ksize-51__scaled-10/csvs/natural_killer_t_cell.csv',\n",
       " '/home/olga/data_lg/data_sm_copy/immune-evolution/kmer-signatures/1--train-mouse/5--celltype-kmers--merged-celltype-remove-common-kmers--min-kmer-count--5-percent/alphabet-dayhoff__ksize-51__scaled-10/csvs/alveolar_epithelial_type_2.csv',\n",
       " '/home/olga/data_lg/data_sm_copy/immune-evolution/kmer-signatures/1--train-mouse/5--celltype-kmers--merged-celltype-remove-common-kmers--min-kmer-count--5-percent/alphabet-dayhoff__ksize-51__scaled-10/csvs/smooth_muscle_and_myofibroblast.csv',\n",
       " '/home/olga/data_lg/data_sm_copy/immune-evolution/kmer-signatures/1--train-mouse/5--celltype-kmers--merged-celltype-remove-common-kmers--min-kmer-count--5-percent/alphabet-dayhoff__ksize-51__scaled-10/csvs/monocyte.csv',\n",
       " '/home/olga/data_lg/data_sm_copy/immune-evolution/kmer-signatures/1--train-mouse/5--celltype-kmers--merged-celltype-remove-common-kmers--min-kmer-count--5-percent/alphabet-dayhoff__ksize-51__scaled-10/csvs/b_cell.csv',\n",
       " '/home/olga/data_lg/data_sm_copy/immune-evolution/kmer-signatures/1--train-mouse/5--celltype-kmers--merged-celltype-remove-common-kmers--min-kmer-count--5-percent/alphabet-dayhoff__ksize-51__scaled-10/csvs/fibroblast.csv',\n",
       " '/home/olga/data_lg/data_sm_copy/immune-evolution/kmer-signatures/1--train-mouse/5--celltype-kmers--merged-celltype-remove-common-kmers--min-kmer-count--5-percent/alphabet-dayhoff__ksize-51__scaled-10/csvs/t_cell.csv',\n",
       " '/home/olga/data_lg/data_sm_copy/immune-evolution/kmer-signatures/1--train-mouse/5--celltype-kmers--merged-celltype-remove-common-kmers--min-kmer-count--5-percent/alphabet-dayhoff__ksize-51__scaled-10/csvs/capillary.csv',\n",
       " '/home/olga/data_lg/data_sm_copy/immune-evolution/kmer-signatures/1--train-mouse/5--celltype-kmers--merged-celltype-remove-common-kmers--min-kmer-count--5-percent/alphabet-dayhoff__ksize-51__scaled-10/csvs/dendritic.csv',\n",
       " '/home/olga/data_lg/data_sm_copy/immune-evolution/kmer-signatures/1--train-mouse/5--celltype-kmers--merged-celltype-remove-common-kmers--min-kmer-count--5-percent/alphabet-dayhoff__ksize-51__scaled-10/csvs/macrophage.csv']"
      ]
     },
     "execution_count": 28,
     "metadata": {},
     "output_type": "execute_result"
    }
   ],
   "source": [
    "mouse_dir = '/home/olga/data_lg/data_sm_copy/immune-evolution/kmer-signatures/1--train-mouse/'\n",
    "celltype_kmer_subdir = '5--celltype-kmers--merged-celltype-remove-common-kmers--min-kmer-count--5-percent'\n",
    "\n",
    "mouse_celltype_kmer_csvs = glob.glob(os.path.join(mouse_dir, celltype_kmer_subdir, sketch_id, 'csvs', '*csv'))\n",
    "mouse_celltype_kmer_csvs"
   ]
  },
  {
   "cell_type": "code",
   "execution_count": 29,
   "id": "medical-forestry",
   "metadata": {},
   "outputs": [
    {
     "name": "stdout",
     "output_type": "stream",
     "text": [
      "\n",
      "celltype file:\n",
      "CPU times: user 4.66 s, sys: 1.88 s, total: 6.54 s\n",
      "Wall time: 6.98 s\n",
      "\n",
      "celltype file:\n",
      "CPU times: user 1.26 s, sys: 117 ms, total: 1.37 s\n",
      "Wall time: 1.87 s\n",
      "\n",
      "celltype file:\n",
      "CPU times: user 438 ms, sys: 59 ms, total: 497 ms\n",
      "Wall time: 741 ms\n",
      "\n",
      "celltype file:\n",
      "CPU times: user 23.5 s, sys: 2 s, total: 25.5 s\n",
      "Wall time: 32.3 s\n",
      "\n",
      "celltype file:\n",
      "CPU times: user 7.21 s, sys: 553 ms, total: 7.77 s\n",
      "Wall time: 10 s\n",
      "\n",
      "celltype file:\n",
      "CPU times: user 3.23 s, sys: 172 ms, total: 3.4 s\n",
      "Wall time: 4.54 s\n",
      "\n",
      "celltype file:\n",
      "CPU times: user 4.12 s, sys: 308 ms, total: 4.43 s\n",
      "Wall time: 5.62 s\n",
      "\n",
      "celltype file:\n",
      "CPU times: user 9.71 s, sys: 668 ms, total: 10.4 s\n",
      "Wall time: 13.3 s\n",
      "\n",
      "celltype file:\n",
      "CPU times: user 2.08 s, sys: 171 ms, total: 2.25 s\n",
      "Wall time: 2.93 s\n",
      "\n",
      "celltype file:\n",
      "CPU times: user 2.07 s, sys: 163 ms, total: 2.23 s\n",
      "Wall time: 2.97 s\n",
      "(22370943, 5)\n",
      "--- First 5 entries ---\n"
     ]
    },
    {
     "data": {
      "text/html": [
       "<div>\n",
       "<style scoped>\n",
       "    .dataframe tbody tr th:only-of-type {\n",
       "        vertical-align: middle;\n",
       "    }\n",
       "\n",
       "    .dataframe tbody tr th {\n",
       "        vertical-align: top;\n",
       "    }\n",
       "\n",
       "    .dataframe thead th {\n",
       "        text-align: right;\n",
       "    }\n",
       "</style>\n",
       "<table border=\"1\" class=\"dataframe\">\n",
       "  <thead>\n",
       "    <tr style=\"text-align: right;\">\n",
       "      <th></th>\n",
       "      <th>kmer_in_sequence</th>\n",
       "      <th>kmer_in_alphabet</th>\n",
       "      <th>hashval</th>\n",
       "      <th>read_name</th>\n",
       "      <th>celltype</th>\n",
       "    </tr>\n",
       "  </thead>\n",
       "  <tbody>\n",
       "    <tr>\n",
       "      <th>0</th>\n",
       "      <td>KLSSPRGGMKKKTTHFG</td>\n",
       "      <td>debbbdbbedddbbdfb</td>\n",
       "      <td>308103755003737144</td>\n",
       "      <td>A00111:73:H3YHNDMXX:2:1218:21983:15264\\tCB:Z:A...</td>\n",
       "      <td>natural_killer_t_cell</td>\n",
       "    </tr>\n",
       "    <tr>\n",
       "      <th>1</th>\n",
       "      <td>LSSPRGGMKKKTTHFGE</td>\n",
       "      <td>ebbbdbbedddbbdfbc</td>\n",
       "      <td>177719887282804153</td>\n",
       "      <td>A00111:73:H3YHNDMXX:2:1218:21983:15264\\tCB:Z:A...</td>\n",
       "      <td>natural_killer_t_cell</td>\n",
       "    </tr>\n",
       "    <tr>\n",
       "      <th>2</th>\n",
       "      <td>YTVGKRFKEANNFLRPF</td>\n",
       "      <td>fbebddfdcbccfedbf</td>\n",
       "      <td>1822116523473074621</td>\n",
       "      <td>A00111:73:H3YHNDMXX:1:2311:5367:19179\\tCB:Z:AA...</td>\n",
       "      <td>natural_killer_t_cell</td>\n",
       "    </tr>\n",
       "    <tr>\n",
       "      <th>3</th>\n",
       "      <td>KFGIICMEDLIQDIYTI</td>\n",
       "      <td>dfbeeaecceeccefbe</td>\n",
       "      <td>115722640331910096</td>\n",
       "      <td>A00111:73:H3YHNDMXX:2:1175:17463:20556\\tCB:Z:A...</td>\n",
       "      <td>natural_killer_t_cell</td>\n",
       "    </tr>\n",
       "    <tr>\n",
       "      <th>4</th>\n",
       "      <td>KFGIICMEDLIQEIYTV</td>\n",
       "      <td>dfbeeaecceeccefbe</td>\n",
       "      <td>115722640331910096</td>\n",
       "      <td>A00111:73:H3YHNDMXX:2:2229:8260:32111\\tCB:Z:AA...</td>\n",
       "      <td>natural_killer_t_cell</td>\n",
       "    </tr>\n",
       "  </tbody>\n",
       "</table>\n",
       "</div>"
      ],
      "text/plain": [
       "    kmer_in_sequence   kmer_in_alphabet              hashval  \\\n",
       "0  KLSSPRGGMKKKTTHFG  debbbdbbedddbbdfb   308103755003737144   \n",
       "1  LSSPRGGMKKKTTHFGE  ebbbdbbedddbbdfbc   177719887282804153   \n",
       "2  YTVGKRFKEANNFLRPF  fbebddfdcbccfedbf  1822116523473074621   \n",
       "3  KFGIICMEDLIQDIYTI  dfbeeaecceeccefbe   115722640331910096   \n",
       "4  KFGIICMEDLIQEIYTV  dfbeeaecceeccefbe   115722640331910096   \n",
       "\n",
       "                                           read_name               celltype  \n",
       "0  A00111:73:H3YHNDMXX:2:1218:21983:15264\\tCB:Z:A...  natural_killer_t_cell  \n",
       "1  A00111:73:H3YHNDMXX:2:1218:21983:15264\\tCB:Z:A...  natural_killer_t_cell  \n",
       "2  A00111:73:H3YHNDMXX:1:2311:5367:19179\\tCB:Z:AA...  natural_killer_t_cell  \n",
       "3  A00111:73:H3YHNDMXX:2:1175:17463:20556\\tCB:Z:A...  natural_killer_t_cell  \n",
       "4  A00111:73:H3YHNDMXX:2:2229:8260:32111\\tCB:Z:AA...  natural_killer_t_cell  "
      ]
     },
     "metadata": {},
     "output_type": "display_data"
    },
    {
     "name": "stdout",
     "output_type": "stream",
     "text": [
      "CPU times: user 1min 10s, sys: 10.9 s, total: 1min 21s\n",
      "Wall time: 1min 37s\n"
     ]
    }
   ],
   "source": [
    "%%time\n",
    "\n",
    "dfs = []\n",
    "\n",
    "for csv in mouse_celltype_kmer_csvs:\n",
    "    basename = os.path.basename(csv)\n",
    "    print('\\ncelltype file:', )\n",
    "    %time df = pd.read_csv(csv)\n",
    "    df['celltype'] = basename.split('.')[0]\n",
    "    dfs.append(df)\n",
    "mouse_celltype_kmers = pd.concat(dfs)\n",
    "describe(mouse_celltype_kmers)"
   ]
  },
  {
   "cell_type": "markdown",
   "id": "legitimate-stevens",
   "metadata": {},
   "source": [
    "# Overlap in hashes for cell types"
   ]
  },
  {
   "cell_type": "code",
   "execution_count": 30,
   "id": "extensive-christopher",
   "metadata": {},
   "outputs": [
    {
     "data": {
      "text/html": [
       "<div>\n",
       "<style scoped>\n",
       "    .dataframe tbody tr th:only-of-type {\n",
       "        vertical-align: middle;\n",
       "    }\n",
       "\n",
       "    .dataframe tbody tr th {\n",
       "        vertical-align: top;\n",
       "    }\n",
       "\n",
       "    .dataframe thead th {\n",
       "        text-align: right;\n",
       "    }\n",
       "</style>\n",
       "<table border=\"1\" class=\"dataframe\">\n",
       "  <thead>\n",
       "    <tr style=\"text-align: right;\">\n",
       "      <th></th>\n",
       "      <th>kmer_in_sequence</th>\n",
       "      <th>kmer_in_alphabet</th>\n",
       "      <th>hashval</th>\n",
       "      <th>read_name</th>\n",
       "      <th>gene_name</th>\n",
       "      <th>species</th>\n",
       "      <th>cell_id</th>\n",
       "      <th>sketch_id</th>\n",
       "      <th>moltype</th>\n",
       "      <th>ksize</th>\n",
       "      <th>scaled</th>\n",
       "      <th>alignment_status</th>\n",
       "      <th>groundtruth_celltype</th>\n",
       "    </tr>\n",
       "  </thead>\n",
       "  <tbody>\n",
       "    <tr>\n",
       "      <th>0</th>\n",
       "      <td>DLNVKPKTIKTLEENLG</td>\n",
       "      <td>cecedbdbedbeccceb</td>\n",
       "      <td>550348301278027135</td>\n",
       "      <td>A00111:155:HFCWYDMXX:1:1359:1190:25066\\tCB:Z:G...</td>\n",
       "      <td>None</td>\n",
       "      <td>human</td>\n",
       "      <td>P3_4__GAGCAGAAGTGGACGT</td>\n",
       "      <td>alphabet-dayhoff__ksize-51__scaled-10</td>\n",
       "      <td>dayhoff</td>\n",
       "      <td>51</td>\n",
       "      <td>10</td>\n",
       "      <td>unaligned</td>\n",
       "      <td>Fibroblast</td>\n",
       "    </tr>\n",
       "    <tr>\n",
       "      <th>1</th>\n",
       "      <td>IKTLEENLGITIQDIGV</td>\n",
       "      <td>edbecccebebeccebe</td>\n",
       "      <td>974148631326387115</td>\n",
       "      <td>A00111:155:HFCWYDMXX:1:1359:1190:25066\\tCB:Z:G...</td>\n",
       "      <td>None</td>\n",
       "      <td>human</td>\n",
       "      <td>P3_4__GAGCAGAAGTGGACGT</td>\n",
       "      <td>alphabet-dayhoff__ksize-51__scaled-10</td>\n",
       "      <td>dayhoff</td>\n",
       "      <td>51</td>\n",
       "      <td>10</td>\n",
       "      <td>unaligned</td>\n",
       "      <td>Fibroblast</td>\n",
       "    </tr>\n",
       "    <tr>\n",
       "      <th>3</th>\n",
       "      <td>CRKLKLDPFLTPYTKIN</td>\n",
       "      <td>addedecbfebbfbdec</td>\n",
       "      <td>1662986983738689810</td>\n",
       "      <td>A00111:155:HFCWYDMXX:2:1129:25961:14544\\tCB:Z:...</td>\n",
       "      <td>None</td>\n",
       "      <td>human</td>\n",
       "      <td>P3_4__GAGCAGAAGTGGACGT</td>\n",
       "      <td>alphabet-dayhoff__ksize-51__scaled-10</td>\n",
       "      <td>dayhoff</td>\n",
       "      <td>51</td>\n",
       "      <td>10</td>\n",
       "      <td>unaligned</td>\n",
       "      <td>Fibroblast</td>\n",
       "    </tr>\n",
       "    <tr>\n",
       "      <th>4</th>\n",
       "      <td>RKLKLDPFLTPYTKINS</td>\n",
       "      <td>ddedecbfebbfbdecb</td>\n",
       "      <td>799720167227311772</td>\n",
       "      <td>A00111:155:HFCWYDMXX:2:1129:25961:14544\\tCB:Z:...</td>\n",
       "      <td>None</td>\n",
       "      <td>human</td>\n",
       "      <td>P3_4__GAGCAGAAGTGGACGT</td>\n",
       "      <td>alphabet-dayhoff__ksize-51__scaled-10</td>\n",
       "      <td>dayhoff</td>\n",
       "      <td>51</td>\n",
       "      <td>10</td>\n",
       "      <td>unaligned</td>\n",
       "      <td>Fibroblast</td>\n",
       "    </tr>\n",
       "    <tr>\n",
       "      <th>7</th>\n",
       "      <td>LDPFLTPYTKINSRWIK</td>\n",
       "      <td>ecbfebbfbdecbdfed</td>\n",
       "      <td>537198855570371996</td>\n",
       "      <td>A00111:155:HFCWYDMXX:2:1360:14886:30185\\tCB:Z:...</td>\n",
       "      <td>None</td>\n",
       "      <td>human</td>\n",
       "      <td>P3_4__GAGCAGAAGTGGACGT</td>\n",
       "      <td>alphabet-dayhoff__ksize-51__scaled-10</td>\n",
       "      <td>dayhoff</td>\n",
       "      <td>51</td>\n",
       "      <td>10</td>\n",
       "      <td>unaligned</td>\n",
       "      <td>Fibroblast</td>\n",
       "    </tr>\n",
       "  </tbody>\n",
       "</table>\n",
       "</div>"
      ],
      "text/plain": [
       "    kmer_in_sequence   kmer_in_alphabet              hashval  \\\n",
       "0  DLNVKPKTIKTLEENLG  cecedbdbedbeccceb   550348301278027135   \n",
       "1  IKTLEENLGITIQDIGV  edbecccebebeccebe   974148631326387115   \n",
       "3  CRKLKLDPFLTPYTKIN  addedecbfebbfbdec  1662986983738689810   \n",
       "4  RKLKLDPFLTPYTKINS  ddedecbfebbfbdecb   799720167227311772   \n",
       "7  LDPFLTPYTKINSRWIK  ecbfebbfbdecbdfed   537198855570371996   \n",
       "\n",
       "                                           read_name gene_name species  \\\n",
       "0  A00111:155:HFCWYDMXX:1:1359:1190:25066\\tCB:Z:G...      None   human   \n",
       "1  A00111:155:HFCWYDMXX:1:1359:1190:25066\\tCB:Z:G...      None   human   \n",
       "3  A00111:155:HFCWYDMXX:2:1129:25961:14544\\tCB:Z:...      None   human   \n",
       "4  A00111:155:HFCWYDMXX:2:1129:25961:14544\\tCB:Z:...      None   human   \n",
       "7  A00111:155:HFCWYDMXX:2:1360:14886:30185\\tCB:Z:...      None   human   \n",
       "\n",
       "                  cell_id                              sketch_id  moltype  \\\n",
       "0  P3_4__GAGCAGAAGTGGACGT  alphabet-dayhoff__ksize-51__scaled-10  dayhoff   \n",
       "1  P3_4__GAGCAGAAGTGGACGT  alphabet-dayhoff__ksize-51__scaled-10  dayhoff   \n",
       "3  P3_4__GAGCAGAAGTGGACGT  alphabet-dayhoff__ksize-51__scaled-10  dayhoff   \n",
       "4  P3_4__GAGCAGAAGTGGACGT  alphabet-dayhoff__ksize-51__scaled-10  dayhoff   \n",
       "7  P3_4__GAGCAGAAGTGGACGT  alphabet-dayhoff__ksize-51__scaled-10  dayhoff   \n",
       "\n",
       "  ksize  scaled alignment_status groundtruth_celltype  \n",
       "0    51      10        unaligned           Fibroblast  \n",
       "1    51      10        unaligned           Fibroblast  \n",
       "3    51      10        unaligned           Fibroblast  \n",
       "4    51      10        unaligned           Fibroblast  \n",
       "7    51      10        unaligned           Fibroblast  "
      ]
     },
     "execution_count": 30,
     "metadata": {},
     "output_type": "execute_result"
    }
   ],
   "source": [
    "hash2kmer.head()"
   ]
  },
  {
   "cell_type": "markdown",
   "id": "disciplinary-semester",
   "metadata": {},
   "source": [
    "## Remove lemur for now"
   ]
  },
  {
   "cell_type": "code",
   "execution_count": 31,
   "id": "unlike-sandwich",
   "metadata": {},
   "outputs": [
    {
     "data": {
      "text/html": [
       "<div>\n",
       "<style scoped>\n",
       "    .dataframe tbody tr th:only-of-type {\n",
       "        vertical-align: middle;\n",
       "    }\n",
       "\n",
       "    .dataframe tbody tr th {\n",
       "        vertical-align: top;\n",
       "    }\n",
       "\n",
       "    .dataframe thead th {\n",
       "        text-align: right;\n",
       "    }\n",
       "</style>\n",
       "<table border=\"1\" class=\"dataframe\">\n",
       "  <thead>\n",
       "    <tr style=\"text-align: right;\">\n",
       "      <th></th>\n",
       "      <th>kmer_in_sequence</th>\n",
       "      <th>kmer_in_alphabet</th>\n",
       "      <th>hashval</th>\n",
       "      <th>read_name</th>\n",
       "      <th>gene_name</th>\n",
       "      <th>species</th>\n",
       "      <th>cell_id</th>\n",
       "      <th>sketch_id</th>\n",
       "      <th>moltype</th>\n",
       "      <th>ksize</th>\n",
       "      <th>scaled</th>\n",
       "      <th>alignment_status</th>\n",
       "      <th>groundtruth_celltype</th>\n",
       "    </tr>\n",
       "  </thead>\n",
       "  <tbody>\n",
       "    <tr>\n",
       "      <th>0</th>\n",
       "      <td>DLNVKPKTIKTLEENLG</td>\n",
       "      <td>cecedbdbedbeccceb</td>\n",
       "      <td>550348301278027135</td>\n",
       "      <td>A00111:155:HFCWYDMXX:1:1359:1190:25066\\tCB:Z:G...</td>\n",
       "      <td>None</td>\n",
       "      <td>human</td>\n",
       "      <td>P3_4__GAGCAGAAGTGGACGT</td>\n",
       "      <td>alphabet-dayhoff__ksize-51__scaled-10</td>\n",
       "      <td>dayhoff</td>\n",
       "      <td>51</td>\n",
       "      <td>10</td>\n",
       "      <td>unaligned</td>\n",
       "      <td>Fibroblast</td>\n",
       "    </tr>\n",
       "    <tr>\n",
       "      <th>1</th>\n",
       "      <td>IKTLEENLGITIQDIGV</td>\n",
       "      <td>edbecccebebeccebe</td>\n",
       "      <td>974148631326387115</td>\n",
       "      <td>A00111:155:HFCWYDMXX:1:1359:1190:25066\\tCB:Z:G...</td>\n",
       "      <td>None</td>\n",
       "      <td>human</td>\n",
       "      <td>P3_4__GAGCAGAAGTGGACGT</td>\n",
       "      <td>alphabet-dayhoff__ksize-51__scaled-10</td>\n",
       "      <td>dayhoff</td>\n",
       "      <td>51</td>\n",
       "      <td>10</td>\n",
       "      <td>unaligned</td>\n",
       "      <td>Fibroblast</td>\n",
       "    </tr>\n",
       "    <tr>\n",
       "      <th>3</th>\n",
       "      <td>CRKLKLDPFLTPYTKIN</td>\n",
       "      <td>addedecbfebbfbdec</td>\n",
       "      <td>1662986983738689810</td>\n",
       "      <td>A00111:155:HFCWYDMXX:2:1129:25961:14544\\tCB:Z:...</td>\n",
       "      <td>None</td>\n",
       "      <td>human</td>\n",
       "      <td>P3_4__GAGCAGAAGTGGACGT</td>\n",
       "      <td>alphabet-dayhoff__ksize-51__scaled-10</td>\n",
       "      <td>dayhoff</td>\n",
       "      <td>51</td>\n",
       "      <td>10</td>\n",
       "      <td>unaligned</td>\n",
       "      <td>Fibroblast</td>\n",
       "    </tr>\n",
       "    <tr>\n",
       "      <th>4</th>\n",
       "      <td>RKLKLDPFLTPYTKINS</td>\n",
       "      <td>ddedecbfebbfbdecb</td>\n",
       "      <td>799720167227311772</td>\n",
       "      <td>A00111:155:HFCWYDMXX:2:1129:25961:14544\\tCB:Z:...</td>\n",
       "      <td>None</td>\n",
       "      <td>human</td>\n",
       "      <td>P3_4__GAGCAGAAGTGGACGT</td>\n",
       "      <td>alphabet-dayhoff__ksize-51__scaled-10</td>\n",
       "      <td>dayhoff</td>\n",
       "      <td>51</td>\n",
       "      <td>10</td>\n",
       "      <td>unaligned</td>\n",
       "      <td>Fibroblast</td>\n",
       "    </tr>\n",
       "    <tr>\n",
       "      <th>7</th>\n",
       "      <td>LDPFLTPYTKINSRWIK</td>\n",
       "      <td>ecbfebbfbdecbdfed</td>\n",
       "      <td>537198855570371996</td>\n",
       "      <td>A00111:155:HFCWYDMXX:2:1360:14886:30185\\tCB:Z:...</td>\n",
       "      <td>None</td>\n",
       "      <td>human</td>\n",
       "      <td>P3_4__GAGCAGAAGTGGACGT</td>\n",
       "      <td>alphabet-dayhoff__ksize-51__scaled-10</td>\n",
       "      <td>dayhoff</td>\n",
       "      <td>51</td>\n",
       "      <td>10</td>\n",
       "      <td>unaligned</td>\n",
       "      <td>Fibroblast</td>\n",
       "    </tr>\n",
       "  </tbody>\n",
       "</table>\n",
       "</div>"
      ],
      "text/plain": [
       "    kmer_in_sequence   kmer_in_alphabet              hashval  \\\n",
       "0  DLNVKPKTIKTLEENLG  cecedbdbedbeccceb   550348301278027135   \n",
       "1  IKTLEENLGITIQDIGV  edbecccebebeccebe   974148631326387115   \n",
       "3  CRKLKLDPFLTPYTKIN  addedecbfebbfbdec  1662986983738689810   \n",
       "4  RKLKLDPFLTPYTKINS  ddedecbfebbfbdecb   799720167227311772   \n",
       "7  LDPFLTPYTKINSRWIK  ecbfebbfbdecbdfed   537198855570371996   \n",
       "\n",
       "                                           read_name gene_name species  \\\n",
       "0  A00111:155:HFCWYDMXX:1:1359:1190:25066\\tCB:Z:G...      None   human   \n",
       "1  A00111:155:HFCWYDMXX:1:1359:1190:25066\\tCB:Z:G...      None   human   \n",
       "3  A00111:155:HFCWYDMXX:2:1129:25961:14544\\tCB:Z:...      None   human   \n",
       "4  A00111:155:HFCWYDMXX:2:1129:25961:14544\\tCB:Z:...      None   human   \n",
       "7  A00111:155:HFCWYDMXX:2:1360:14886:30185\\tCB:Z:...      None   human   \n",
       "\n",
       "                  cell_id                              sketch_id  moltype  \\\n",
       "0  P3_4__GAGCAGAAGTGGACGT  alphabet-dayhoff__ksize-51__scaled-10  dayhoff   \n",
       "1  P3_4__GAGCAGAAGTGGACGT  alphabet-dayhoff__ksize-51__scaled-10  dayhoff   \n",
       "3  P3_4__GAGCAGAAGTGGACGT  alphabet-dayhoff__ksize-51__scaled-10  dayhoff   \n",
       "4  P3_4__GAGCAGAAGTGGACGT  alphabet-dayhoff__ksize-51__scaled-10  dayhoff   \n",
       "7  P3_4__GAGCAGAAGTGGACGT  alphabet-dayhoff__ksize-51__scaled-10  dayhoff   \n",
       "\n",
       "  ksize  scaled alignment_status groundtruth_celltype  \n",
       "0    51      10        unaligned           Fibroblast  \n",
       "1    51      10        unaligned           Fibroblast  \n",
       "3    51      10        unaligned           Fibroblast  \n",
       "4    51      10        unaligned           Fibroblast  \n",
       "7    51      10        unaligned           Fibroblast  "
      ]
     },
     "execution_count": 31,
     "metadata": {},
     "output_type": "execute_result"
    }
   ],
   "source": [
    "hash2kmer_no_lemur = hash2kmer.query('species != \"lemur\"')\n",
    "hash2kmer_no_lemur.head()"
   ]
  },
  {
   "cell_type": "markdown",
   "id": "printable-bones",
   "metadata": {},
   "source": [
    "## get diagnostic k-mers for each species and "
   ]
  },
  {
   "cell_type": "code",
   "execution_count": 32,
   "id": "colonial-parameter",
   "metadata": {},
   "outputs": [
    {
     "data": {
      "text/plain": [
       "<bound method DataFrame.groupby of         kmer_in_sequence   kmer_in_alphabet              hashval  \\\n",
       "0      DLNVKPKTIKTLEENLG  cecedbdbedbeccceb   550348301278027135   \n",
       "1      IKTLEENLGITIQDIGV  edbecccebebeccebe   974148631326387115   \n",
       "3      CRKLKLDPFLTPYTKIN  addedecbfebbfbdec  1662986983738689810   \n",
       "4      RKLKLDPFLTPYTKINS  ddedecbfebbfbdecb   799720167227311772   \n",
       "7      LDPFLTPYTKINSRWIK  ecbfebbfbdecbdfed   537198855570371996   \n",
       "...                  ...                ...                  ...   \n",
       "23409  FIWNPRLSKVSHRSSSV  fefcbdebdebddbbbe   989408111628569969   \n",
       "23410  VSHRSSSVLSHGLCVDT  ebddbbbeebdbeaecb    62515329136865349   \n",
       "23413  VFLFLSSSLPFLFSLFH  efefebbbebfefbefd  1563197722135732861   \n",
       "23415  SSSLPFLFSHFPMYSAL  bbbebfefbdfbefbbe   605995314189153464   \n",
       "23416  PFLFSHFPMYSALIPLL  bfefbdfbefbbeebee   741982259205681112   \n",
       "\n",
       "                                               read_name gene_name species  \\\n",
       "0      A00111:155:HFCWYDMXX:1:1359:1190:25066\\tCB:Z:G...      None   human   \n",
       "1      A00111:155:HFCWYDMXX:1:1359:1190:25066\\tCB:Z:G...      None   human   \n",
       "3      A00111:155:HFCWYDMXX:2:1129:25961:14544\\tCB:Z:...      None   human   \n",
       "4      A00111:155:HFCWYDMXX:2:1129:25961:14544\\tCB:Z:...      None   human   \n",
       "7      A00111:155:HFCWYDMXX:2:1360:14886:30185\\tCB:Z:...      None   human   \n",
       "...                                                  ...       ...     ...   \n",
       "23409  A00111:78:H3YHCDMXX:2:1219:31756:32189\\tCB:Z:C...      None   mouse   \n",
       "23410  A00111:78:H3YHCDMXX:2:1219:31756:32189\\tCB:Z:C...      None   mouse   \n",
       "23413  A00111:78:H3YHCDMXX:2:1117:25988:16971\\tCB:Z:C...      None   mouse   \n",
       "23415  A00111:78:H3YHCDMXX:1:1301:32606:26866\\tCB:Z:C...      None   mouse   \n",
       "23416  A00111:78:H3YHCDMXX:1:1301:32606:26866\\tCB:Z:C...      None   mouse   \n",
       "\n",
       "                                    cell_id  \\\n",
       "0                    P3_4__GAGCAGAAGTGGACGT   \n",
       "1                    P3_4__GAGCAGAAGTGGACGT   \n",
       "3                    P3_4__GAGCAGAAGTGGACGT   \n",
       "4                    P3_4__GAGCAGAAGTGGACGT   \n",
       "7                    P3_4__GAGCAGAAGTGGACGT   \n",
       "...                                     ...   \n",
       "23409  MACA_21M_F_LUNG_55__CACACAATCCTCAACC   \n",
       "23410  MACA_21M_F_LUNG_55__CACACAATCCTCAACC   \n",
       "23413  MACA_21M_F_LUNG_55__CACACAATCCTCAACC   \n",
       "23415  MACA_21M_F_LUNG_55__CACACAATCCTCAACC   \n",
       "23416  MACA_21M_F_LUNG_55__CACACAATCCTCAACC   \n",
       "\n",
       "                                   sketch_id  moltype ksize  scaled  \\\n",
       "0      alphabet-dayhoff__ksize-51__scaled-10  dayhoff    51      10   \n",
       "1      alphabet-dayhoff__ksize-51__scaled-10  dayhoff    51      10   \n",
       "3      alphabet-dayhoff__ksize-51__scaled-10  dayhoff    51      10   \n",
       "4      alphabet-dayhoff__ksize-51__scaled-10  dayhoff    51      10   \n",
       "7      alphabet-dayhoff__ksize-51__scaled-10  dayhoff    51      10   \n",
       "...                                      ...      ...   ...     ...   \n",
       "23409  alphabet-dayhoff__ksize-51__scaled-10  dayhoff    51      10   \n",
       "23410  alphabet-dayhoff__ksize-51__scaled-10  dayhoff    51      10   \n",
       "23413  alphabet-dayhoff__ksize-51__scaled-10  dayhoff    51      10   \n",
       "23415  alphabet-dayhoff__ksize-51__scaled-10  dayhoff    51      10   \n",
       "23416  alphabet-dayhoff__ksize-51__scaled-10  dayhoff    51      10   \n",
       "\n",
       "      alignment_status        groundtruth_celltype  \n",
       "0            unaligned                  Fibroblast  \n",
       "1            unaligned                  Fibroblast  \n",
       "3            unaligned                  Fibroblast  \n",
       "4            unaligned                  Fibroblast  \n",
       "7            unaligned                  Fibroblast  \n",
       "...                ...                         ...  \n",
       "23409          aligned  Alveolar Epithelial Type 2  \n",
       "23410          aligned  Alveolar Epithelial Type 2  \n",
       "23413          aligned  Alveolar Epithelial Type 2  \n",
       "23415          aligned  Alveolar Epithelial Type 2  \n",
       "23416          aligned  Alveolar Epithelial Type 2  \n",
       "\n",
       "[146094013 rows x 13 columns]>"
      ]
     },
     "execution_count": 32,
     "metadata": {},
     "output_type": "execute_result"
    }
   ],
   "source": [
    "hash2kmer_no_lemur.groupby"
   ]
  },
  {
   "cell_type": "code",
   "execution_count": 34,
   "id": "single-offense",
   "metadata": {},
   "outputs": [],
   "source": [
    "for celltype, df in hash2kmer_no_lemur.groupby(\"groundtruth_celltype\"):\n",
    "    species_hashes = df.groupby('species').kmer_in_alphabet.apply(lambda x: set(x)).to_dict()\n",
    "    break"
   ]
  },
  {
   "cell_type": "markdown",
   "id": "realistic-belarus",
   "metadata": {},
   "source": [
    "### Matplotlib venn diagrams"
   ]
  },
  {
   "cell_type": "code",
   "execution_count": 35,
   "id": "swedish-popularity",
   "metadata": {},
   "outputs": [],
   "source": [
    "import matplotlib_venn"
   ]
  },
  {
   "cell_type": "code",
   "execution_count": 36,
   "id": "aging-emphasis",
   "metadata": {},
   "outputs": [],
   "source": [
    "hashes = list(species_hashes.values())\n",
    "# hashes"
   ]
  },
  {
   "cell_type": "code",
   "execution_count": 37,
   "id": "incredible-therapist",
   "metadata": {},
   "outputs": [
    {
     "data": {
      "text/plain": [
       "3"
      ]
     },
     "execution_count": 37,
     "metadata": {},
     "output_type": "execute_result"
    }
   ],
   "source": [
    "len(hashes)"
   ]
  },
  {
   "cell_type": "code",
   "execution_count": 38,
   "id": "white-belle",
   "metadata": {},
   "outputs": [
    {
     "data": {
      "text/plain": [
       "'Alveolar Epithelial Type 2'"
      ]
     },
     "execution_count": 38,
     "metadata": {},
     "output_type": "execute_result"
    }
   ],
   "source": [
    "celltype"
   ]
  },
  {
   "cell_type": "code",
   "execution_count": 39,
   "id": "analyzed-afghanistan",
   "metadata": {},
   "outputs": [
    {
     "data": {
      "text/plain": [
       "species\n",
       "bat       832\n",
       "human    3150\n",
       "mouse      51\n",
       "Name: cell_id, dtype: int64"
      ]
     },
     "execution_count": 39,
     "metadata": {},
     "output_type": "execute_result"
    }
   ],
   "source": [
    "df.groupby('species').cell_id.nunique()"
   ]
  },
  {
   "cell_type": "code",
   "execution_count": 40,
   "id": "every-replication",
   "metadata": {},
   "outputs": [
    {
     "data": {
      "text/plain": [
       "<matplotlib_venn._common.VennDiagram at 0x7f5fd32a3490>"
      ]
     },
     "execution_count": 40,
     "metadata": {},
     "output_type": "execute_result"
    },
    {
     "data": {
      "image/png": "[encoded data removed]",
      "text/plain": [
       "<Figure size 432x288 with 1 Axes>"
      ]
     },
     "metadata": {},
     "output_type": "display_data"
    }
   ],
   "source": [
    "matplotlib_venn.venn3(list(species_hashes.values()), set_labels=list(species_hashes.keys()))"
   ]
  },
  {
   "cell_type": "markdown",
   "id": "automatic-yahoo",
   "metadata": {},
   "source": [
    "### Bat has the most unique hashes per cell type but has the fewest cells??"
   ]
  },
  {
   "cell_type": "code",
   "execution_count": 41,
   "id": "protected-memorabilia",
   "metadata": {},
   "outputs": [
    {
     "data": {
      "text/plain": [
       "species\n",
       "bat      1247.856290\n",
       "human      34.499011\n",
       "mouse     930.735554\n",
       "dtype: float64"
      ]
     },
     "execution_count": 41,
     "metadata": {},
     "output_type": "execute_result"
    }
   ],
   "source": [
    "hash2kmer_no_lemur.groupby(['species']).apply(lambda x: x.hashval.nunique()/x.cell_id.nunique())"
   ]
  },
  {
   "cell_type": "markdown",
   "id": "further-wilderness",
   "metadata": {},
   "source": [
    "## Try UpSet Plot"
   ]
  },
  {
   "cell_type": "code",
   "execution_count": 42,
   "id": "ecological-tracy",
   "metadata": {},
   "outputs": [],
   "source": [
    "import upsetplot as up"
   ]
  },
  {
   "cell_type": "code",
   "execution_count": 43,
   "id": "electoral-command",
   "metadata": {},
   "outputs": [
    {
     "data": {
      "text/html": [
       "<div>\n",
       "<style scoped>\n",
       "    .dataframe tbody tr th:only-of-type {\n",
       "        vertical-align: middle;\n",
       "    }\n",
       "\n",
       "    .dataframe tbody tr th {\n",
       "        vertical-align: top;\n",
       "    }\n",
       "\n",
       "    .dataframe thead th {\n",
       "        text-align: right;\n",
       "    }\n",
       "</style>\n",
       "<table border=\"1\" class=\"dataframe\">\n",
       "  <thead>\n",
       "    <tr style=\"text-align: right;\">\n",
       "      <th></th>\n",
       "      <th></th>\n",
       "      <th></th>\n",
       "      <th>id</th>\n",
       "    </tr>\n",
       "    <tr>\n",
       "      <th>bat</th>\n",
       "      <th>human</th>\n",
       "      <th>mouse</th>\n",
       "      <th></th>\n",
       "    </tr>\n",
       "  </thead>\n",
       "  <tbody>\n",
       "    <tr>\n",
       "      <th rowspan=\"5\" valign=\"top\">True</th>\n",
       "      <th rowspan=\"5\" valign=\"top\">False</th>\n",
       "      <th>False</th>\n",
       "      <td>cecebbeffcbebeddc</td>\n",
       "    </tr>\n",
       "    <tr>\n",
       "      <th>False</th>\n",
       "      <td>ebbbbcbcebdbbbcdb</td>\n",
       "    </tr>\n",
       "    <tr>\n",
       "      <th>False</th>\n",
       "      <td>bbbbbbeefcfbdeeeb</td>\n",
       "    </tr>\n",
       "    <tr>\n",
       "      <th>False</th>\n",
       "      <td>efbafcccdcbebbcee</td>\n",
       "    </tr>\n",
       "    <tr>\n",
       "      <th>False</th>\n",
       "      <td>cbbbebebcdefbbebb</td>\n",
       "    </tr>\n",
       "  </tbody>\n",
       "</table>\n",
       "</div>"
      ],
      "text/plain": [
       "                                 id\n",
       "bat  human mouse                   \n",
       "True False False  cecebbeffcbebeddc\n",
       "           False  ebbbbcbcebdbbbcdb\n",
       "           False  bbbbbbeefcfbdeeeb\n",
       "           False  efbafcccdcbebbcee\n",
       "           False  cbbbebebcdefbbebb"
      ]
     },
     "execution_count": 43,
     "metadata": {},
     "output_type": "execute_result"
    }
   ],
   "source": [
    "upsetplot_data = up.from_contents(species_hashes)\n",
    "upsetplot_data.head()"
   ]
  },
  {
   "cell_type": "code",
   "execution_count": 44,
   "id": "trying-behalf",
   "metadata": {},
   "outputs": [
    {
     "data": {
      "text/plain": [
       "{'matrix': <AxesSubplot:>,\n",
       " 'shading': <AxesSubplot:>,\n",
       " 'totals': <AxesSubplot:>,\n",
       " 'intersections': <AxesSubplot:title={'center':'Alveolar Epithelial Type 2'}, ylabel='Intersection size'>}"
      ]
     },
     "execution_count": 44,
     "metadata": {},
     "output_type": "execute_result"
    },
    {
     "data": {
      "image/png": "[encoded data removed]",
      "text/plain": [
       "<Figure size 332.875x288 with 4 Axes>"
      ]
     },
     "metadata": {
      "needs_background": "light"
     },
     "output_type": "display_data"
    }
   ],
   "source": [
    "upsetplotted = up.plot(upsetplot_data)\n",
    "upsetplotted['intersections'].set_title(celltype)\n",
    "upsetplotted"
   ]
  },
  {
   "cell_type": "code",
   "execution_count": null,
   "id": "coordinated-carrier",
   "metadata": {},
   "outputs": [],
   "source": []
  },
  {
   "cell_type": "markdown",
   "id": "novel-desktop",
   "metadata": {},
   "source": [
    "## Do on all celltypes"
   ]
  },
  {
   "cell_type": "code",
   "execution_count": 45,
   "id": "listed-cornwall",
   "metadata": {},
   "outputs": [
    {
     "data": {
      "image/png": "[encoded data removed]",
      "text/plain": [
       "<Figure size 432x288 with 1 Axes>"
      ]
     },
     "metadata": {},
     "output_type": "display_data"
    },
    {
     "data": {
      "image/png": "[encoded data removed]",
      "text/plain": [
       "<Figure size 332.875x288 with 4 Axes>"
      ]
     },
     "metadata": {
      "needs_background": "light"
     },
     "output_type": "display_data"
    },
    {
     "data": {
      "image/png": "[encoded data removed]",
      "text/plain": [
       "<Figure size 432x288 with 1 Axes>"
      ]
     },
     "metadata": {},
     "output_type": "display_data"
    },
    {
     "data": {
      "image/png": "[encoded data removed]",
      "text/plain": [
       "<Figure size 332.875x288 with 4 Axes>"
      ]
     },
     "metadata": {
      "needs_background": "light"
     },
     "output_type": "display_data"
    },
    {
     "data": {
      "image/png": "[encoded data removed]",
      "text/plain": [
       "<Figure size 432x288 with 1 Axes>"
      ]
     },
     "metadata": {},
     "output_type": "display_data"
    },
    {
     "data": {
      "image/png": "[encoded data removed]",
      "text/plain": [
       "<Figure size 332.875x288 with 4 Axes>"
      ]
     },
     "metadata": {
      "needs_background": "light"
     },
     "output_type": "display_data"
    },
    {
     "data": {
      "image/png": "[encoded data removed]",
      "text/plain": [
       "<Figure size 432x288 with 1 Axes>"
      ]
     },
     "metadata": {},
     "output_type": "display_data"
    },
    {
     "data": {
      "image/png": "[encoded data removed]",
      "text/plain": [
       "<Figure size 332.875x288 with 4 Axes>"
      ]
     },
     "metadata": {
      "needs_background": "light"
     },
     "output_type": "display_data"
    },
    {
     "data": {
      "image/png": "[encoded data removed]",
      "text/plain": [
       "<Figure size 432x288 with 1 Axes>"
      ]
     },
     "metadata": {},
     "output_type": "display_data"
    },
    {
     "data": {
      "image/png": "[encoded data removed]",
      "text/plain": [
       "<Figure size 332.875x288 with 4 Axes>"
      ]
     },
     "metadata": {
      "needs_background": "light"
     },
     "output_type": "display_data"
    },
    {
     "data": {
      "image/png": "[encoded data removed]",
      "text/plain": [
       "<Figure size 432x288 with 1 Axes>"
      ]
     },
     "metadata": {},
     "output_type": "display_data"
    },
    {
     "data": {
      "image/png": "[encoded data removed]",
      "text/plain": [
       "<Figure size 332.875x288 with 4 Axes>"
      ]
     },
     "metadata": {
      "needs_background": "light"
     },
     "output_type": "display_data"
    },
    {
     "data": {
      "image/png": "[encoded data removed]",
      "text/plain": [
       "<Figure size 432x288 with 1 Axes>"
      ]
     },
     "metadata": {},
     "output_type": "display_data"
    },
    {
     "data": {
      "image/png": "[encoded data removed]",
      "text/plain": [
       "<Figure size 332.875x288 with 4 Axes>"
      ]
     },
     "metadata": {
      "needs_background": "light"
     },
     "output_type": "display_data"
    },
    {
     "data": {
      "image/png": "[encoded data removed]",
      "text/plain": [
       "<Figure size 432x288 with 1 Axes>"
      ]
     },
     "metadata": {},
     "output_type": "display_data"
    },
    {
     "data": {
      "image/png": "[encoded data removed]",
      "text/plain": [
       "<Figure size 332.875x288 with 4 Axes>"
      ]
     },
     "metadata": {
      "needs_background": "light"
     },
     "output_type": "display_data"
    },
    {
     "data": {
      "image/png": "[encoded data removed]",
      "text/plain": [
       "<Figure size 432x288 with 1 Axes>"
      ]
     },
     "metadata": {},
     "output_type": "display_data"
    },
    {
     "data": {
      "image/png": "[encoded data removed]",
      "text/plain": [
       "<Figure size 332.875x288 with 4 Axes>"
      ]
     },
     "metadata": {
      "needs_background": "light"
     },
     "output_type": "display_data"
    },
    {
     "data": {
      "image/png": "[encoded data removed]",
      "text/plain": [
       "<Figure size 432x288 with 1 Axes>"
      ]
     },
     "metadata": {},
     "output_type": "display_data"
    },
    {
     "data": {
      "image/png": "[encoded data removed]",
      "text/plain": [
       "<Figure size 332.875x288 with 4 Axes>"
      ]
     },
     "metadata": {
      "needs_background": "light"
     },
     "output_type": "display_data"
    }
   ],
   "source": [
    "for celltype, df in hash2kmer_no_lemur.groupby(\"groundtruth_celltype\"):\n",
    "    species_hashes = (\n",
    "        df.groupby(\"species\").kmer_in_alphabet.apply(lambda x: set(x)).to_dict()\n",
    "    )\n",
    "    fig, ax = plt.subplots()\n",
    "\n",
    "    matplotlib_venn.venn3(\n",
    "        list(species_hashes.values()), set_labels=list(species_hashes.keys())\n",
    "    )\n",
    "    ax.set(title = celltype)\n",
    "    \n",
    "    upsetplot_data = up.from_contents(species_hashes)\n",
    "    upsetplotted = up.plot(upsetplot_data)\n",
    "    upsetplotted['intersections'].set_title(celltype)\n",
    "#     upsetplotted"
   ]
  },
  {
   "cell_type": "markdown",
   "id": "anonymous-navigator",
   "metadata": {},
   "source": [
    "## Do on all celltypes, including lemur"
   ]
  },
  {
   "cell_type": "code",
   "execution_count": null,
   "id": "aggregate-circular",
   "metadata": {},
   "outputs": [],
   "source": [
    "for celltype, df in hash2kmer_with_predictions.groupby(\"predicted_compartment\"):\n",
    "    species_hashes = (\n",
    "        df.groupby(\"species\").kmer_in_alphabet.apply(lambda x: set(x)).to_dict()\n",
    "    )\n",
    "    upsetplot_data = up.from_contents(species_hashes)\n",
    "    upsetplotted = up.plot(upsetplot_data)\n",
    "    upsetplotted['intersections'].set_title(celltype)\n",
    "#     upsetplotted"
   ]
  },
  {
   "cell_type": "markdown",
   "id": "radical-sellers",
   "metadata": {},
   "source": [
    "## Do on all celltypes, separate by aligned/unaligned"
   ]
  },
  {
   "cell_type": "code",
   "execution_count": null,
   "id": "latest-richards",
   "metadata": {},
   "outputs": [],
   "source": [
    "hash2kmer_no_lemur['species__alignment_status'] = hash2kmer_no_lemur['species'] + ', ' + hash2kmer_no_lemur['alignment_status']\n",
    "hash2kmer_no_lemur.head()"
   ]
  },
  {
   "cell_type": "code",
   "execution_count": null,
   "id": "headed-yesterday",
   "metadata": {},
   "outputs": [],
   "source": [
    "# for celltype, df in hash2kmer_no_lemur.groupby(\"broad_group\"):\n",
    "#     species_hashes = (\n",
    "#         df.groupby('species__alignment_status').kmer_in_alphabet.apply(lambda x: set(x)).to_dict()\n",
    "#     )\n",
    "\n",
    "#     upsetplot_data = up.from_contents(species_hashes)\n",
    "#     upsetplotted = up.plot(upsetplot_data, sort_by='cardinality')\n",
    "#     ax = upsetplotted['intersections']\n",
    "#     ax.set(title=celltype, yscale='log')\n",
    "# #     upsetplotted"
   ]
  },
  {
   "cell_type": "markdown",
   "id": "laughing-paradise",
   "metadata": {},
   "source": [
    "## Get hashes unaligned in bat"
   ]
  },
  {
   "cell_type": "code",
   "execution_count": null,
   "id": "adopted-nudist",
   "metadata": {},
   "outputs": [],
   "source": [
    "%%time\n",
    "\n",
    "df_bat_unaligned = df.groupby(\"hashval\").filter(\n",
    "    lambda x: \"bat, unaligned\" in set(x[\"species__alignment_status\"])\n",
    ")\n",
    "df_bat_unaligned.head()"
   ]
  },
  {
   "cell_type": "code",
   "execution_count": null,
   "id": "moderate-flesh",
   "metadata": {},
   "outputs": [],
   "source": [
    "species_hashes.keys()"
   ]
  },
  {
   "cell_type": "code",
   "execution_count": null,
   "id": "silver-stream",
   "metadata": {},
   "outputs": [],
   "source": [
    "hash2kmer_no_lemur.groupby(['species', 'broad_group']).cell_id.nunique()"
   ]
  },
  {
   "cell_type": "markdown",
   "id": "finite-rocket",
   "metadata": {},
   "source": [
    "### Not *exactly* the same number of cells as originally, but same order of magnitude\n",
    "\n",
    "Bat:\n",
    "```\n",
    "broad_group\n",
    "Alveolar Epithelial Type 2          832\n",
    "B cell                              165\n",
    "Capillary                          2214\n",
    "Dendritic                            98\n",
    "Fibroblast                         1382\n",
    "Macrophage                         1196\n",
    "Monocyte                            969\n",
    "Natural Killer T cell               351\n",
    "Smooth Muscle and Myofibroblast     120\n",
    "T cell                              376\n",
    "Name: cell_id, dtype: int64\n",
    "```\n",
    "\n",
    "Human: \n",
    "```\n",
    "broad_group\n",
    "Alveolar Epithelial Type 2         3150\n",
    "B cell                              174\n",
    "Capillary                          2093\n",
    "Dendritic                           438\n",
    "Fibroblast                          725\n",
    "Macrophage                         3356\n",
    "Monocyte                            752\n",
    "Natural Killer T cell               224\n",
    "Smooth Muscle and Myofibroblast     587\n",
    "T cell                             2655\n",
    "Name: cell_id, dtype: int64\n",
    "```"
   ]
  },
  {
   "cell_type": "markdown",
   "id": "strong-township",
   "metadata": {},
   "source": [
    "# Gene orthology"
   ]
  },
  {
   "cell_type": "markdown",
   "id": "prescription-cooler",
   "metadata": {},
   "source": [
    "## Assign figure folder"
   ]
  },
  {
   "cell_type": "code",
   "execution_count": 46,
   "id": "resistant-denial",
   "metadata": {},
   "outputs": [],
   "source": [
    "figure_folder = (\n",
    "    \"/home/olga/googledrive/ImmuneEvolution/figures/kmer_gene_orthology\"\n",
    ")\n",
    "!mkdir -p $figure_folder"
   ]
  },
  {
   "cell_type": "markdown",
   "id": "proper-submission",
   "metadata": {},
   "source": [
    "## Use 1:1 orthologs from Anndata of bat-Lemur-human-mouse"
   ]
  },
  {
   "cell_type": "code",
   "execution_count": 47,
   "id": "anonymous-child",
   "metadata": {},
   "outputs": [
    {
     "name": "stdout",
     "output_type": "stream",
     "text": [
      "(10560, 9)\n",
      "--- First 5 entries ---\n"
     ]
    },
    {
     "data": {
      "text/html": [
       "<div>\n",
       "<style scoped>\n",
       "    .dataframe tbody tr th:only-of-type {\n",
       "        vertical-align: middle;\n",
       "    }\n",
       "\n",
       "    .dataframe tbody tr th {\n",
       "        vertical-align: top;\n",
       "    }\n",
       "\n",
       "    .dataframe thead th {\n",
       "        text-align: right;\n",
       "    }\n",
       "</style>\n",
       "<table border=\"1\" class=\"dataframe\">\n",
       "  <thead>\n",
       "    <tr style=\"text-align: right;\">\n",
       "      <th></th>\n",
       "      <th>bat__gene_name</th>\n",
       "      <th>mouse_lemur__gene_name-bat</th>\n",
       "      <th>mouse__gene_name-bat</th>\n",
       "      <th>mouse_lemur__gene_name_x-hlm</th>\n",
       "      <th>mouse__gene_name_x-hlm</th>\n",
       "      <th>gene_ids-lemur-hlm</th>\n",
       "      <th>n_cells-mouse-hlm</th>\n",
       "      <th>mouse_lemur__gene_name_y-hlm</th>\n",
       "      <th>mouse__gene_name_y-hlm</th>\n",
       "    </tr>\n",
       "    <tr>\n",
       "      <th>human__gene_name</th>\n",
       "      <th></th>\n",
       "      <th></th>\n",
       "      <th></th>\n",
       "      <th></th>\n",
       "      <th></th>\n",
       "      <th></th>\n",
       "      <th></th>\n",
       "      <th></th>\n",
       "      <th></th>\n",
       "    </tr>\n",
       "  </thead>\n",
       "  <tbody>\n",
       "    <tr>\n",
       "      <th>SAMD11</th>\n",
       "      <td>SAMD11</td>\n",
       "      <td>SAMD11</td>\n",
       "      <td>Samd11</td>\n",
       "      <td>SAMD11</td>\n",
       "      <td>Samd11</td>\n",
       "      <td>gene2117</td>\n",
       "      <td>5381</td>\n",
       "      <td>SAMD11</td>\n",
       "      <td>Samd11</td>\n",
       "    </tr>\n",
       "    <tr>\n",
       "      <th>NOC2L</th>\n",
       "      <td>NOC2L</td>\n",
       "      <td>NOC2L</td>\n",
       "      <td>Noc2l</td>\n",
       "      <td>NOC2L</td>\n",
       "      <td>Noc2l</td>\n",
       "      <td>gene2116</td>\n",
       "      <td>48156</td>\n",
       "      <td>NOC2L</td>\n",
       "      <td>Noc2l</td>\n",
       "    </tr>\n",
       "    <tr>\n",
       "      <th>KLHL17</th>\n",
       "      <td>KLHL17</td>\n",
       "      <td>KLHL17</td>\n",
       "      <td>Klhl17</td>\n",
       "      <td>KLHL17</td>\n",
       "      <td>Klhl17</td>\n",
       "      <td>gene2115</td>\n",
       "      <td>11262</td>\n",
       "      <td>KLHL17</td>\n",
       "      <td>Klhl17</td>\n",
       "    </tr>\n",
       "    <tr>\n",
       "      <th>ISG15</th>\n",
       "      <td>ISG15</td>\n",
       "      <td>ISG15</td>\n",
       "      <td>Isg15</td>\n",
       "      <td>ISG15</td>\n",
       "      <td>Isg15</td>\n",
       "      <td>gene2111</td>\n",
       "      <td>74269</td>\n",
       "      <td>ISG15</td>\n",
       "      <td>Isg15</td>\n",
       "    </tr>\n",
       "    <tr>\n",
       "      <th>AGRN</th>\n",
       "      <td>AGRN</td>\n",
       "      <td>AGRN</td>\n",
       "      <td>Agrn</td>\n",
       "      <td>AGRN</td>\n",
       "      <td>Agrn</td>\n",
       "      <td>gene2110</td>\n",
       "      <td>23538</td>\n",
       "      <td>AGRN</td>\n",
       "      <td>Agrn</td>\n",
       "    </tr>\n",
       "  </tbody>\n",
       "</table>\n",
       "</div>"
      ],
      "text/plain": [
       "                 bat__gene_name mouse_lemur__gene_name-bat  \\\n",
       "human__gene_name                                             \n",
       "SAMD11                   SAMD11                     SAMD11   \n",
       "NOC2L                     NOC2L                      NOC2L   \n",
       "KLHL17                   KLHL17                     KLHL17   \n",
       "ISG15                     ISG15                      ISG15   \n",
       "AGRN                       AGRN                       AGRN   \n",
       "\n",
       "                 mouse__gene_name-bat mouse_lemur__gene_name_x-hlm  \\\n",
       "human__gene_name                                                     \n",
       "SAMD11                         Samd11                       SAMD11   \n",
       "NOC2L                           Noc2l                        NOC2L   \n",
       "KLHL17                         Klhl17                       KLHL17   \n",
       "ISG15                           Isg15                        ISG15   \n",
       "AGRN                             Agrn                         AGRN   \n",
       "\n",
       "                 mouse__gene_name_x-hlm gene_ids-lemur-hlm  n_cells-mouse-hlm  \\\n",
       "human__gene_name                                                                \n",
       "SAMD11                           Samd11           gene2117               5381   \n",
       "NOC2L                             Noc2l           gene2116              48156   \n",
       "KLHL17                           Klhl17           gene2115              11262   \n",
       "ISG15                             Isg15           gene2111              74269   \n",
       "AGRN                               Agrn           gene2110              23538   \n",
       "\n",
       "                 mouse_lemur__gene_name_y-hlm mouse__gene_name_y-hlm  \n",
       "human__gene_name                                                      \n",
       "SAMD11                                 SAMD11                 Samd11  \n",
       "NOC2L                                   NOC2L                  Noc2l  \n",
       "KLHL17                                 KLHL17                 Klhl17  \n",
       "ISG15                                   ISG15                  Isg15  \n",
       "AGRN                                     AGRN                   Agrn  "
      ]
     },
     "metadata": {},
     "output_type": "display_data"
    }
   ],
   "source": [
    "describe(adata_shared.var)"
   ]
  },
  {
   "cell_type": "markdown",
   "id": "statistical-problem",
   "metadata": {},
   "source": [
    "## Assign k-mer type based on alignment status and gene name"
   ]
  },
  {
   "cell_type": "code",
   "execution_count": 48,
   "id": "embedded-classification",
   "metadata": {},
   "outputs": [
    {
     "name": "stdout",
     "output_type": "stream",
     "text": [
      "bat 10560\n",
      "lemur 10560\n",
      "human 10560\n",
      "mouse 10560\n"
     ]
    }
   ],
   "source": [
    "PER_SPECIES_ORTHOLOGOUS_GENES = {\n",
    "    \"bat\": set(adata_shared.var[\"bat__gene_name\"]),\n",
    "    \"lemur\": set(adata_shared.var[\"mouse_lemur__gene_name_x-hlm\"]),\n",
    "    \"human\": set(adata_shared.var.index),\n",
    "    \"mouse\": set(adata_shared.var[\"mouse__gene_name-bat\"]),\n",
    "}\n",
    "for k, v in PER_SPECIES_ORTHOLOGOUS_GENES.items():\n",
    "    print(k, len(v))"
   ]
  },
  {
   "cell_type": "code",
   "execution_count": 49,
   "id": "historic-passion",
   "metadata": {},
   "outputs": [
    {
     "name": "stdout",
     "output_type": "stream",
     "text": [
      "CPU times: user 1h 14min 44s, sys: 2min 33s, total: 1h 17min 18s\n",
      "Wall time: 1h 17min 27s\n"
     ]
    },
    {
     "data": {
      "text/plain": [
       "species  kmer_category                               \n",
       "bat      In ref genome, in a 1:1 orthologous gene        12951997\n",
       "         In ref genome, not in a 1:1 orthologous gene    11802122\n",
       "         In ref genome, not in a gene                    41883743\n",
       "         Not in reference genome                          3350575\n",
       "human    In ref genome, in a 1:1 orthologous gene        17815886\n",
       "         In ref genome, not in a 1:1 orthologous gene    13476922\n",
       "         In ref genome, not in a gene                     1973137\n",
       "         Not in reference genome                           100633\n",
       "lemur    In ref genome, in a 1:1 orthologous gene          756876\n",
       "         In ref genome, not in a 1:1 orthologous gene      594885\n",
       "         In ref genome, not in a gene                      577493\n",
       "         Not in reference genome                           100244\n",
       "mouse    In ref genome, in a 1:1 orthologous gene        15732855\n",
       "         In ref genome, not in a 1:1 orthologous gene    19588670\n",
       "         In ref genome, not in a gene                     6096299\n",
       "         Not in reference genome                          1321174\n",
       "dtype: int64"
      ]
     },
     "execution_count": 49,
     "metadata": {},
     "output_type": "execute_result"
    }
   ],
   "source": [
    "%%time\n",
    "\n",
    "def is_orthologous(query_gene, species, per_species_orthologous_genes=PER_SPECIES_ORTHOLOGOUS_GENES):\n",
    "    orthologous_genes = per_species_orthologous_genes[species]\n",
    "    return query_gene in orthologous_genes\n",
    "\n",
    "\n",
    "def assign_kmer_category(row):\n",
    "    if row.alignment_status == 'unaligned':\n",
    "        return 'Not in reference genome'\n",
    "    elif pd.isnull(row.gene_name):\n",
    "        return 'In ref genome, not in a gene'\n",
    "    elif is_orthologous(row.gene_name, row.species):\n",
    "        return 'In ref genome, in a 1:1 orthologous gene'\n",
    "    else:\n",
    "        return 'In ref genome, not in a 1:1 orthologous gene'\n",
    "\n",
    "hash2kmer['kmer_category'] = hash2kmer.apply(assign_kmer_category, axis=1)\n",
    "hash2kmer.groupby(['species', 'kmer_category']).size()"
   ]
  },
  {
   "cell_type": "code",
   "execution_count": 50,
   "id": "operational-pattern",
   "metadata": {},
   "outputs": [
    {
     "name": "stdout",
     "output_type": "stream",
     "text": [
      "(148123511, 17)\n",
      "--- First 5 entries ---\n"
     ]
    },
    {
     "data": {
      "text/html": [
       "<div>\n",
       "<style scoped>\n",
       "    .dataframe tbody tr th:only-of-type {\n",
       "        vertical-align: middle;\n",
       "    }\n",
       "\n",
       "    .dataframe tbody tr th {\n",
       "        vertical-align: top;\n",
       "    }\n",
       "\n",
       "    .dataframe thead th {\n",
       "        text-align: right;\n",
       "    }\n",
       "</style>\n",
       "<table border=\"1\" class=\"dataframe\">\n",
       "  <thead>\n",
       "    <tr style=\"text-align: right;\">\n",
       "      <th></th>\n",
       "      <th>kmer_in_sequence</th>\n",
       "      <th>kmer_in_alphabet</th>\n",
       "      <th>hashval</th>\n",
       "      <th>read_name</th>\n",
       "      <th>gene_name</th>\n",
       "      <th>species</th>\n",
       "      <th>cell_id</th>\n",
       "      <th>sketch_id</th>\n",
       "      <th>moltype</th>\n",
       "      <th>ksize</th>\n",
       "      <th>scaled</th>\n",
       "      <th>alignment_status</th>\n",
       "      <th>groundtruth_celltype</th>\n",
       "      <th>kmer_category</th>\n",
       "      <th>predicted_celltype</th>\n",
       "      <th>groundtruth_compartment</th>\n",
       "      <th>predicted_compartment</th>\n",
       "    </tr>\n",
       "  </thead>\n",
       "  <tbody>\n",
       "    <tr>\n",
       "      <th>0</th>\n",
       "      <td>DLNVKPKTIKTLEENLG</td>\n",
       "      <td>cecedbdbedbeccceb</td>\n",
       "      <td>550348301278027135</td>\n",
       "      <td>A00111:155:HFCWYDMXX:1:1359:1190:25066\\tCB:Z:G...</td>\n",
       "      <td>None</td>\n",
       "      <td>human</td>\n",
       "      <td>P3_4__GAGCAGAAGTGGACGT</td>\n",
       "      <td>alphabet-dayhoff__ksize-51__scaled-10</td>\n",
       "      <td>dayhoff</td>\n",
       "      <td>51</td>\n",
       "      <td>10</td>\n",
       "      <td>unaligned</td>\n",
       "      <td>Fibroblast</td>\n",
       "      <td>Not in reference genome</td>\n",
       "      <td>Fibroblast</td>\n",
       "      <td>stromal</td>\n",
       "      <td>stromal</td>\n",
       "    </tr>\n",
       "    <tr>\n",
       "      <th>1</th>\n",
       "      <td>IKTLEENLGITIQDIGV</td>\n",
       "      <td>edbecccebebeccebe</td>\n",
       "      <td>974148631326387115</td>\n",
       "      <td>A00111:155:HFCWYDMXX:1:1359:1190:25066\\tCB:Z:G...</td>\n",
       "      <td>None</td>\n",
       "      <td>human</td>\n",
       "      <td>P3_4__GAGCAGAAGTGGACGT</td>\n",
       "      <td>alphabet-dayhoff__ksize-51__scaled-10</td>\n",
       "      <td>dayhoff</td>\n",
       "      <td>51</td>\n",
       "      <td>10</td>\n",
       "      <td>unaligned</td>\n",
       "      <td>Fibroblast</td>\n",
       "      <td>Not in reference genome</td>\n",
       "      <td>Fibroblast</td>\n",
       "      <td>stromal</td>\n",
       "      <td>stromal</td>\n",
       "    </tr>\n",
       "    <tr>\n",
       "      <th>3</th>\n",
       "      <td>CRKLKLDPFLTPYTKIN</td>\n",
       "      <td>addedecbfebbfbdec</td>\n",
       "      <td>1662986983738689810</td>\n",
       "      <td>A00111:155:HFCWYDMXX:2:1129:25961:14544\\tCB:Z:...</td>\n",
       "      <td>None</td>\n",
       "      <td>human</td>\n",
       "      <td>P3_4__GAGCAGAAGTGGACGT</td>\n",
       "      <td>alphabet-dayhoff__ksize-51__scaled-10</td>\n",
       "      <td>dayhoff</td>\n",
       "      <td>51</td>\n",
       "      <td>10</td>\n",
       "      <td>unaligned</td>\n",
       "      <td>Fibroblast</td>\n",
       "      <td>Not in reference genome</td>\n",
       "      <td>Fibroblast</td>\n",
       "      <td>stromal</td>\n",
       "      <td>stromal</td>\n",
       "    </tr>\n",
       "    <tr>\n",
       "      <th>4</th>\n",
       "      <td>RKLKLDPFLTPYTKINS</td>\n",
       "      <td>ddedecbfebbfbdecb</td>\n",
       "      <td>799720167227311772</td>\n",
       "      <td>A00111:155:HFCWYDMXX:2:1129:25961:14544\\tCB:Z:...</td>\n",
       "      <td>None</td>\n",
       "      <td>human</td>\n",
       "      <td>P3_4__GAGCAGAAGTGGACGT</td>\n",
       "      <td>alphabet-dayhoff__ksize-51__scaled-10</td>\n",
       "      <td>dayhoff</td>\n",
       "      <td>51</td>\n",
       "      <td>10</td>\n",
       "      <td>unaligned</td>\n",
       "      <td>Fibroblast</td>\n",
       "      <td>Not in reference genome</td>\n",
       "      <td>Fibroblast</td>\n",
       "      <td>stromal</td>\n",
       "      <td>stromal</td>\n",
       "    </tr>\n",
       "    <tr>\n",
       "      <th>7</th>\n",
       "      <td>LDPFLTPYTKINSRWIK</td>\n",
       "      <td>ecbfebbfbdecbdfed</td>\n",
       "      <td>537198855570371996</td>\n",
       "      <td>A00111:155:HFCWYDMXX:2:1360:14886:30185\\tCB:Z:...</td>\n",
       "      <td>None</td>\n",
       "      <td>human</td>\n",
       "      <td>P3_4__GAGCAGAAGTGGACGT</td>\n",
       "      <td>alphabet-dayhoff__ksize-51__scaled-10</td>\n",
       "      <td>dayhoff</td>\n",
       "      <td>51</td>\n",
       "      <td>10</td>\n",
       "      <td>unaligned</td>\n",
       "      <td>Fibroblast</td>\n",
       "      <td>Not in reference genome</td>\n",
       "      <td>Fibroblast</td>\n",
       "      <td>stromal</td>\n",
       "      <td>stromal</td>\n",
       "    </tr>\n",
       "  </tbody>\n",
       "</table>\n",
       "</div>"
      ],
      "text/plain": [
       "    kmer_in_sequence   kmer_in_alphabet              hashval  \\\n",
       "0  DLNVKPKTIKTLEENLG  cecedbdbedbeccceb   550348301278027135   \n",
       "1  IKTLEENLGITIQDIGV  edbecccebebeccebe   974148631326387115   \n",
       "3  CRKLKLDPFLTPYTKIN  addedecbfebbfbdec  1662986983738689810   \n",
       "4  RKLKLDPFLTPYTKINS  ddedecbfebbfbdecb   799720167227311772   \n",
       "7  LDPFLTPYTKINSRWIK  ecbfebbfbdecbdfed   537198855570371996   \n",
       "\n",
       "                                           read_name gene_name species  \\\n",
       "0  A00111:155:HFCWYDMXX:1:1359:1190:25066\\tCB:Z:G...      None   human   \n",
       "1  A00111:155:HFCWYDMXX:1:1359:1190:25066\\tCB:Z:G...      None   human   \n",
       "3  A00111:155:HFCWYDMXX:2:1129:25961:14544\\tCB:Z:...      None   human   \n",
       "4  A00111:155:HFCWYDMXX:2:1129:25961:14544\\tCB:Z:...      None   human   \n",
       "7  A00111:155:HFCWYDMXX:2:1360:14886:30185\\tCB:Z:...      None   human   \n",
       "\n",
       "                  cell_id                              sketch_id  moltype  \\\n",
       "0  P3_4__GAGCAGAAGTGGACGT  alphabet-dayhoff__ksize-51__scaled-10  dayhoff   \n",
       "1  P3_4__GAGCAGAAGTGGACGT  alphabet-dayhoff__ksize-51__scaled-10  dayhoff   \n",
       "3  P3_4__GAGCAGAAGTGGACGT  alphabet-dayhoff__ksize-51__scaled-10  dayhoff   \n",
       "4  P3_4__GAGCAGAAGTGGACGT  alphabet-dayhoff__ksize-51__scaled-10  dayhoff   \n",
       "7  P3_4__GAGCAGAAGTGGACGT  alphabet-dayhoff__ksize-51__scaled-10  dayhoff   \n",
       "\n",
       "  ksize  scaled alignment_status groundtruth_celltype  \\\n",
       "0    51      10        unaligned           Fibroblast   \n",
       "1    51      10        unaligned           Fibroblast   \n",
       "3    51      10        unaligned           Fibroblast   \n",
       "4    51      10        unaligned           Fibroblast   \n",
       "7    51      10        unaligned           Fibroblast   \n",
       "\n",
       "             kmer_category predicted_celltype groundtruth_compartment  \\\n",
       "0  Not in reference genome         Fibroblast                 stromal   \n",
       "1  Not in reference genome         Fibroblast                 stromal   \n",
       "3  Not in reference genome         Fibroblast                 stromal   \n",
       "4  Not in reference genome         Fibroblast                 stromal   \n",
       "7  Not in reference genome         Fibroblast                 stromal   \n",
       "\n",
       "  predicted_compartment  \n",
       "0               stromal  \n",
       "1               stromal  \n",
       "3               stromal  \n",
       "4               stromal  \n",
       "7               stromal  "
      ]
     },
     "metadata": {},
     "output_type": "display_data"
    }
   ],
   "source": [
    "hash2kmer_with_predictions = hash2kmer.join(celltype_predictions, on='cell_id')\n",
    "describe(hash2kmer_with_predictions)"
   ]
  },
  {
   "cell_type": "code",
   "execution_count": 51,
   "id": "entitled-control",
   "metadata": {},
   "outputs": [],
   "source": [
    "kmer_categories = (\n",
    "    \"Not in reference genome\",\n",
    "    \"In ref genome, not in a gene\",\n",
    "    \"In ref genome, not in a 1:1 orthologous gene\",\n",
    "    \"In ref genome, in a 1:1 orthologous gene\",\n",
    ")"
   ]
  },
  {
   "cell_type": "code",
   "execution_count": 52,
   "id": "suffering-negative",
   "metadata": {},
   "outputs": [],
   "source": [
    "hash2kmer_with_predictions['kmer_category'] = pd.Categorical(hash2kmer_with_predictions['kmer_category'], categories=kmer_categories, ordered=True)"
   ]
  },
  {
   "cell_type": "markdown",
   "id": "excellent-jordan",
   "metadata": {},
   "source": [
    "## Write hash2kmer with predictions and orthology to parquet"
   ]
  },
  {
   "cell_type": "code",
   "execution_count": 53,
   "id": "adapted-significance",
   "metadata": {},
   "outputs": [],
   "source": [
    "hash2kmer_with_predictions['hashval'] = hash2kmer_with_predictions['hashval'].astype(str)"
   ]
  },
  {
   "cell_type": "code",
   "execution_count": 54,
   "id": "unlike-looking",
   "metadata": {},
   "outputs": [],
   "source": [
    "hash2kmer_with_predictions.to_parquet(\n",
    "    os.path.join(sig_outdir_base, f\"aggregated-hash2kmer-with-predicted-cells--{sketch_id}--with-orthology.parquet\")\n",
    ")"
   ]
  },
  {
   "cell_type": "code",
   "execution_count": 55,
   "id": "nominated-nurse",
   "metadata": {},
   "outputs": [
    {
     "data": {
      "text/plain": [
       "2"
      ]
     },
     "execution_count": 55,
     "metadata": {},
     "output_type": "execute_result"
    }
   ],
   "source": [
    "1+1"
   ]
  },
  {
   "cell_type": "markdown",
   "id": "composed-december",
   "metadata": {},
   "source": [
    "## Get number of k-mers in different categories per `groundtruth_celltype`"
   ]
  },
  {
   "cell_type": "code",
   "execution_count": 56,
   "id": "spoken-scoop",
   "metadata": {},
   "outputs": [
    {
     "name": "stdout",
     "output_type": "stream",
     "text": [
      "CPU times: user 2min 22s, sys: 21.7 s, total: 2min 44s\n",
      "Wall time: 2min 44s\n"
     ]
    },
    {
     "data": {
      "text/plain": [
       "species  groundtruth_celltype             kmer_category                               \n",
       "bat      Alveolar Epithelial Type 2       Not in reference genome                          391623\n",
       "                                          In ref genome, not in a gene                    1865345\n",
       "                                          In ref genome, not in a 1:1 orthologous gene     584145\n",
       "                                          In ref genome, in a 1:1 orthologous gene         689674\n",
       "         B cell                           Not in reference genome                           39302\n",
       "                                                                                           ...   \n",
       "mouse    Smooth Muscle and Myofibroblast  In ref genome, in a 1:1 orthologous gene          48120\n",
       "         T cell                           Not in reference genome                           97250\n",
       "                                          In ref genome, not in a gene                     294772\n",
       "                                          In ref genome, not in a 1:1 orthologous gene     532747\n",
       "                                          In ref genome, in a 1:1 orthologous gene         404116\n",
       "Name: percent_kmers, Length: 160, dtype: int64"
      ]
     },
     "execution_count": 56,
     "metadata": {},
     "output_type": "execute_result"
    }
   ],
   "source": [
    "%%time\n",
    "\n",
    "celltype_col = \"groundtruth_celltype\"\n",
    "\n",
    "diagnostic_kmers_n_per_category = hash2kmer_with_predictions.groupby(\n",
    "    [\"species\", celltype_col, \"kmer_category\"]\n",
    ").hashval.nunique()\n",
    "diagnostic_kmers_n_per_category.name = \"percent_kmers\"\n",
    "diagnostic_kmers_n_per_category"
   ]
  },
  {
   "cell_type": "code",
   "execution_count": 57,
   "id": "lucky-skill",
   "metadata": {},
   "outputs": [
    {
     "data": {
      "text/html": [
       "<div>\n",
       "<style scoped>\n",
       "    .dataframe tbody tr th:only-of-type {\n",
       "        vertical-align: middle;\n",
       "    }\n",
       "\n",
       "    .dataframe tbody tr th {\n",
       "        vertical-align: top;\n",
       "    }\n",
       "\n",
       "    .dataframe thead th {\n",
       "        text-align: right;\n",
       "    }\n",
       "</style>\n",
       "<table border=\"1\" class=\"dataframe\">\n",
       "  <thead>\n",
       "    <tr style=\"text-align: right;\">\n",
       "      <th></th>\n",
       "      <th>species</th>\n",
       "      <th>groundtruth_celltype</th>\n",
       "      <th>kmer_category</th>\n",
       "      <th>percent_kmers</th>\n",
       "    </tr>\n",
       "  </thead>\n",
       "  <tbody>\n",
       "    <tr>\n",
       "      <th>0</th>\n",
       "      <td>bat</td>\n",
       "      <td>Alveolar Epithelial Type 2</td>\n",
       "      <td>Not in reference genome</td>\n",
       "      <td>11.091663</td>\n",
       "    </tr>\n",
       "    <tr>\n",
       "      <th>1</th>\n",
       "      <td>bat</td>\n",
       "      <td>Alveolar Epithelial Type 2</td>\n",
       "      <td>In ref genome, not in a gene</td>\n",
       "      <td>52.830856</td>\n",
       "    </tr>\n",
       "    <tr>\n",
       "      <th>2</th>\n",
       "      <td>bat</td>\n",
       "      <td>Alveolar Epithelial Type 2</td>\n",
       "      <td>In ref genome, not in a 1:1 orthologous gene</td>\n",
       "      <td>16.544329</td>\n",
       "    </tr>\n",
       "    <tr>\n",
       "      <th>3</th>\n",
       "      <td>bat</td>\n",
       "      <td>Alveolar Epithelial Type 2</td>\n",
       "      <td>In ref genome, in a 1:1 orthologous gene</td>\n",
       "      <td>19.533152</td>\n",
       "    </tr>\n",
       "    <tr>\n",
       "      <th>4</th>\n",
       "      <td>bat</td>\n",
       "      <td>B cell</td>\n",
       "      <td>Not in reference genome</td>\n",
       "      <td>7.596072</td>\n",
       "    </tr>\n",
       "    <tr>\n",
       "      <th>...</th>\n",
       "      <td>...</td>\n",
       "      <td>...</td>\n",
       "      <td>...</td>\n",
       "      <td>...</td>\n",
       "    </tr>\n",
       "    <tr>\n",
       "      <th>155</th>\n",
       "      <td>mouse</td>\n",
       "      <td>Smooth Muscle and Myofibroblast</td>\n",
       "      <td>In ref genome, in a 1:1 orthologous gene</td>\n",
       "      <td>42.646720</td>\n",
       "    </tr>\n",
       "    <tr>\n",
       "      <th>156</th>\n",
       "      <td>mouse</td>\n",
       "      <td>T cell</td>\n",
       "      <td>Not in reference genome</td>\n",
       "      <td>7.318165</td>\n",
       "    </tr>\n",
       "    <tr>\n",
       "      <th>157</th>\n",
       "      <td>mouse</td>\n",
       "      <td>T cell</td>\n",
       "      <td>In ref genome, not in a gene</td>\n",
       "      <td>22.181904</td>\n",
       "    </tr>\n",
       "    <tr>\n",
       "      <th>158</th>\n",
       "      <td>mouse</td>\n",
       "      <td>T cell</td>\n",
       "      <td>In ref genome, not in a 1:1 orthologous gene</td>\n",
       "      <td>40.089775</td>\n",
       "    </tr>\n",
       "    <tr>\n",
       "      <th>159</th>\n",
       "      <td>mouse</td>\n",
       "      <td>T cell</td>\n",
       "      <td>In ref genome, in a 1:1 orthologous gene</td>\n",
       "      <td>30.410156</td>\n",
       "    </tr>\n",
       "  </tbody>\n",
       "</table>\n",
       "<p>160 rows × 4 columns</p>\n",
       "</div>"
      ],
      "text/plain": [
       "    species             groundtruth_celltype  \\\n",
       "0       bat       Alveolar Epithelial Type 2   \n",
       "1       bat       Alveolar Epithelial Type 2   \n",
       "2       bat       Alveolar Epithelial Type 2   \n",
       "3       bat       Alveolar Epithelial Type 2   \n",
       "4       bat                           B cell   \n",
       "..      ...                              ...   \n",
       "155   mouse  Smooth Muscle and Myofibroblast   \n",
       "156   mouse                           T cell   \n",
       "157   mouse                           T cell   \n",
       "158   mouse                           T cell   \n",
       "159   mouse                           T cell   \n",
       "\n",
       "                                    kmer_category  percent_kmers  \n",
       "0                         Not in reference genome      11.091663  \n",
       "1                    In ref genome, not in a gene      52.830856  \n",
       "2    In ref genome, not in a 1:1 orthologous gene      16.544329  \n",
       "3        In ref genome, in a 1:1 orthologous gene      19.533152  \n",
       "4                         Not in reference genome       7.596072  \n",
       "..                                            ...            ...  \n",
       "155      In ref genome, in a 1:1 orthologous gene      42.646720  \n",
       "156                       Not in reference genome       7.318165  \n",
       "157                  In ref genome, not in a gene      22.181904  \n",
       "158  In ref genome, not in a 1:1 orthologous gene      40.089775  \n",
       "159      In ref genome, in a 1:1 orthologous gene      30.410156  \n",
       "\n",
       "[160 rows x 4 columns]"
      ]
     },
     "execution_count": 57,
     "metadata": {},
     "output_type": "execute_result"
    }
   ],
   "source": [
    "diagnostic_kmers_n_per_category_df = diagnostic_kmers_n_per_category.groupby(level=[0, 1]).apply(lambda x: 100*x/x.sum()).reset_index()\n",
    "diagnostic_kmers_n_per_category_df"
   ]
  },
  {
   "cell_type": "code",
   "execution_count": 58,
   "id": "premier-whale",
   "metadata": {},
   "outputs": [
    {
     "data": {
      "text/html": [
       "<div>\n",
       "<style scoped>\n",
       "    .dataframe tbody tr th:only-of-type {\n",
       "        vertical-align: middle;\n",
       "    }\n",
       "\n",
       "    .dataframe tbody tr th {\n",
       "        vertical-align: top;\n",
       "    }\n",
       "\n",
       "    .dataframe thead th {\n",
       "        text-align: right;\n",
       "    }\n",
       "</style>\n",
       "<table border=\"1\" class=\"dataframe\">\n",
       "  <thead>\n",
       "    <tr style=\"text-align: right;\">\n",
       "      <th></th>\n",
       "      <th>species</th>\n",
       "      <th>groundtruth_celltype</th>\n",
       "      <th>kmer_category</th>\n",
       "      <th>percent_kmers</th>\n",
       "    </tr>\n",
       "  </thead>\n",
       "  <tbody>\n",
       "    <tr>\n",
       "      <th>152</th>\n",
       "      <td>mouse</td>\n",
       "      <td>Smooth Muscle and Myofibroblast</td>\n",
       "      <td>Not in reference genome</td>\n",
       "      <td>4.056401</td>\n",
       "    </tr>\n",
       "    <tr>\n",
       "      <th>120</th>\n",
       "      <td>mouse</td>\n",
       "      <td>Alveolar Epithelial Type 2</td>\n",
       "      <td>Not in reference genome</td>\n",
       "      <td>4.611873</td>\n",
       "    </tr>\n",
       "    <tr>\n",
       "      <th>136</th>\n",
       "      <td>mouse</td>\n",
       "      <td>Fibroblast</td>\n",
       "      <td>Not in reference genome</td>\n",
       "      <td>5.783846</td>\n",
       "    </tr>\n",
       "    <tr>\n",
       "      <th>148</th>\n",
       "      <td>mouse</td>\n",
       "      <td>Natural Killer T cell</td>\n",
       "      <td>Not in reference genome</td>\n",
       "      <td>6.092583</td>\n",
       "    </tr>\n",
       "    <tr>\n",
       "      <th>132</th>\n",
       "      <td>mouse</td>\n",
       "      <td>Dendritic</td>\n",
       "      <td>Not in reference genome</td>\n",
       "      <td>6.581250</td>\n",
       "    </tr>\n",
       "    <tr>\n",
       "      <th>128</th>\n",
       "      <td>mouse</td>\n",
       "      <td>Capillary</td>\n",
       "      <td>Not in reference genome</td>\n",
       "      <td>6.754631</td>\n",
       "    </tr>\n",
       "    <tr>\n",
       "      <th>156</th>\n",
       "      <td>mouse</td>\n",
       "      <td>T cell</td>\n",
       "      <td>Not in reference genome</td>\n",
       "      <td>7.318165</td>\n",
       "    </tr>\n",
       "    <tr>\n",
       "      <th>140</th>\n",
       "      <td>mouse</td>\n",
       "      <td>Macrophage</td>\n",
       "      <td>Not in reference genome</td>\n",
       "      <td>7.374086</td>\n",
       "    </tr>\n",
       "    <tr>\n",
       "      <th>124</th>\n",
       "      <td>mouse</td>\n",
       "      <td>B cell</td>\n",
       "      <td>Not in reference genome</td>\n",
       "      <td>8.734350</td>\n",
       "    </tr>\n",
       "    <tr>\n",
       "      <th>144</th>\n",
       "      <td>mouse</td>\n",
       "      <td>Monocyte</td>\n",
       "      <td>Not in reference genome</td>\n",
       "      <td>8.951451</td>\n",
       "    </tr>\n",
       "  </tbody>\n",
       "</table>\n",
       "</div>"
      ],
      "text/plain": [
       "    species             groundtruth_celltype            kmer_category  \\\n",
       "152   mouse  Smooth Muscle and Myofibroblast  Not in reference genome   \n",
       "120   mouse       Alveolar Epithelial Type 2  Not in reference genome   \n",
       "136   mouse                       Fibroblast  Not in reference genome   \n",
       "148   mouse            Natural Killer T cell  Not in reference genome   \n",
       "132   mouse                        Dendritic  Not in reference genome   \n",
       "128   mouse                        Capillary  Not in reference genome   \n",
       "156   mouse                           T cell  Not in reference genome   \n",
       "140   mouse                       Macrophage  Not in reference genome   \n",
       "124   mouse                           B cell  Not in reference genome   \n",
       "144   mouse                         Monocyte  Not in reference genome   \n",
       "\n",
       "     percent_kmers  \n",
       "152       4.056401  \n",
       "120       4.611873  \n",
       "136       5.783846  \n",
       "148       6.092583  \n",
       "132       6.581250  \n",
       "128       6.754631  \n",
       "156       7.318165  \n",
       "140       7.374086  \n",
       "124       8.734350  \n",
       "144       8.951451  "
      ]
     },
     "execution_count": 58,
     "metadata": {},
     "output_type": "execute_result"
    }
   ],
   "source": [
    "diagnostic_kmers_n_per_category_df.query(\n",
    "    '(species == \"mouse\") and (kmer_category == \"Not in reference genome\")'\n",
    ").sort_values('percent_kmers')"
   ]
  },
  {
   "cell_type": "code",
   "execution_count": 59,
   "id": "fewer-taylor",
   "metadata": {},
   "outputs": [
    {
     "data": {
      "text/html": [
       "<div>\n",
       "<style scoped>\n",
       "    .dataframe tbody tr th:only-of-type {\n",
       "        vertical-align: middle;\n",
       "    }\n",
       "\n",
       "    .dataframe tbody tr th {\n",
       "        vertical-align: top;\n",
       "    }\n",
       "\n",
       "    .dataframe thead th {\n",
       "        text-align: right;\n",
       "    }\n",
       "</style>\n",
       "<table border=\"1\" class=\"dataframe\">\n",
       "  <thead>\n",
       "    <tr style=\"text-align: right;\">\n",
       "      <th></th>\n",
       "      <th>species</th>\n",
       "      <th>groundtruth_celltype</th>\n",
       "      <th>kmer_category</th>\n",
       "      <th>percent_kmers</th>\n",
       "    </tr>\n",
       "  </thead>\n",
       "  <tbody>\n",
       "    <tr>\n",
       "      <th>152</th>\n",
       "      <td>mouse</td>\n",
       "      <td>Smooth Muscle and Myofibroblast</td>\n",
       "      <td>Not in reference genome</td>\n",
       "      <td>4.056401</td>\n",
       "    </tr>\n",
       "    <tr>\n",
       "      <th>120</th>\n",
       "      <td>mouse</td>\n",
       "      <td>Alveolar Epithelial Type 2</td>\n",
       "      <td>Not in reference genome</td>\n",
       "      <td>4.611873</td>\n",
       "    </tr>\n",
       "    <tr>\n",
       "      <th>136</th>\n",
       "      <td>mouse</td>\n",
       "      <td>Fibroblast</td>\n",
       "      <td>Not in reference genome</td>\n",
       "      <td>5.783846</td>\n",
       "    </tr>\n",
       "    <tr>\n",
       "      <th>148</th>\n",
       "      <td>mouse</td>\n",
       "      <td>Natural Killer T cell</td>\n",
       "      <td>Not in reference genome</td>\n",
       "      <td>6.092583</td>\n",
       "    </tr>\n",
       "    <tr>\n",
       "      <th>132</th>\n",
       "      <td>mouse</td>\n",
       "      <td>Dendritic</td>\n",
       "      <td>Not in reference genome</td>\n",
       "      <td>6.581250</td>\n",
       "    </tr>\n",
       "    <tr>\n",
       "      <th>128</th>\n",
       "      <td>mouse</td>\n",
       "      <td>Capillary</td>\n",
       "      <td>Not in reference genome</td>\n",
       "      <td>6.754631</td>\n",
       "    </tr>\n",
       "    <tr>\n",
       "      <th>156</th>\n",
       "      <td>mouse</td>\n",
       "      <td>T cell</td>\n",
       "      <td>Not in reference genome</td>\n",
       "      <td>7.318165</td>\n",
       "    </tr>\n",
       "    <tr>\n",
       "      <th>140</th>\n",
       "      <td>mouse</td>\n",
       "      <td>Macrophage</td>\n",
       "      <td>Not in reference genome</td>\n",
       "      <td>7.374086</td>\n",
       "    </tr>\n",
       "    <tr>\n",
       "      <th>124</th>\n",
       "      <td>mouse</td>\n",
       "      <td>B cell</td>\n",
       "      <td>Not in reference genome</td>\n",
       "      <td>8.734350</td>\n",
       "    </tr>\n",
       "    <tr>\n",
       "      <th>144</th>\n",
       "      <td>mouse</td>\n",
       "      <td>Monocyte</td>\n",
       "      <td>Not in reference genome</td>\n",
       "      <td>8.951451</td>\n",
       "    </tr>\n",
       "  </tbody>\n",
       "</table>\n",
       "</div>"
      ],
      "text/plain": [
       "    species             groundtruth_celltype            kmer_category  \\\n",
       "152   mouse  Smooth Muscle and Myofibroblast  Not in reference genome   \n",
       "120   mouse       Alveolar Epithelial Type 2  Not in reference genome   \n",
       "136   mouse                       Fibroblast  Not in reference genome   \n",
       "148   mouse            Natural Killer T cell  Not in reference genome   \n",
       "132   mouse                        Dendritic  Not in reference genome   \n",
       "128   mouse                        Capillary  Not in reference genome   \n",
       "156   mouse                           T cell  Not in reference genome   \n",
       "140   mouse                       Macrophage  Not in reference genome   \n",
       "124   mouse                           B cell  Not in reference genome   \n",
       "144   mouse                         Monocyte  Not in reference genome   \n",
       "\n",
       "     percent_kmers  \n",
       "152       4.056401  \n",
       "120       4.611873  \n",
       "136       5.783846  \n",
       "148       6.092583  \n",
       "132       6.581250  \n",
       "128       6.754631  \n",
       "156       7.318165  \n",
       "140       7.374086  \n",
       "124       8.734350  \n",
       "144       8.951451  "
      ]
     },
     "execution_count": 59,
     "metadata": {},
     "output_type": "execute_result"
    }
   ],
   "source": [
    "diagnostic_kmers_n_per_category_df.query(\n",
    "    '(species == \"mouse\") and (kmer_category == \"Not in reference genome\")'\n",
    ").sort_values('percent_kmers')"
   ]
  },
  {
   "cell_type": "code",
   "execution_count": 60,
   "id": "secure-outdoors",
   "metadata": {},
   "outputs": [
    {
     "data": {
      "text/html": [
       "<div>\n",
       "<style scoped>\n",
       "    .dataframe tbody tr th:only-of-type {\n",
       "        vertical-align: middle;\n",
       "    }\n",
       "\n",
       "    .dataframe tbody tr th {\n",
       "        vertical-align: top;\n",
       "    }\n",
       "\n",
       "    .dataframe thead th {\n",
       "        text-align: right;\n",
       "    }\n",
       "</style>\n",
       "<table border=\"1\" class=\"dataframe\">\n",
       "  <thead>\n",
       "    <tr style=\"text-align: right;\">\n",
       "      <th></th>\n",
       "      <th>species</th>\n",
       "      <th>groundtruth_celltype</th>\n",
       "      <th>kmer_category</th>\n",
       "      <th>percent_kmers</th>\n",
       "    </tr>\n",
       "  </thead>\n",
       "  <tbody>\n",
       "    <tr>\n",
       "      <th>104</th>\n",
       "      <td>lemur</td>\n",
       "      <td>Monocyte</td>\n",
       "      <td>Not in reference genome</td>\n",
       "      <td>3.405447</td>\n",
       "    </tr>\n",
       "    <tr>\n",
       "      <th>84</th>\n",
       "      <td>lemur</td>\n",
       "      <td>B cell</td>\n",
       "      <td>Not in reference genome</td>\n",
       "      <td>3.751750</td>\n",
       "    </tr>\n",
       "    <tr>\n",
       "      <th>100</th>\n",
       "      <td>lemur</td>\n",
       "      <td>Macrophage</td>\n",
       "      <td>Not in reference genome</td>\n",
       "      <td>4.369957</td>\n",
       "    </tr>\n",
       "    <tr>\n",
       "      <th>80</th>\n",
       "      <td>lemur</td>\n",
       "      <td>Alveolar Epithelial Type 2</td>\n",
       "      <td>Not in reference genome</td>\n",
       "      <td>4.455482</td>\n",
       "    </tr>\n",
       "    <tr>\n",
       "      <th>88</th>\n",
       "      <td>lemur</td>\n",
       "      <td>Capillary</td>\n",
       "      <td>Not in reference genome</td>\n",
       "      <td>4.700067</td>\n",
       "    </tr>\n",
       "    <tr>\n",
       "      <th>116</th>\n",
       "      <td>lemur</td>\n",
       "      <td>T cell</td>\n",
       "      <td>Not in reference genome</td>\n",
       "      <td>4.749934</td>\n",
       "    </tr>\n",
       "    <tr>\n",
       "      <th>108</th>\n",
       "      <td>lemur</td>\n",
       "      <td>Natural Killer T cell</td>\n",
       "      <td>Not in reference genome</td>\n",
       "      <td>4.772745</td>\n",
       "    </tr>\n",
       "    <tr>\n",
       "      <th>92</th>\n",
       "      <td>lemur</td>\n",
       "      <td>Dendritic</td>\n",
       "      <td>Not in reference genome</td>\n",
       "      <td>5.314372</td>\n",
       "    </tr>\n",
       "    <tr>\n",
       "      <th>96</th>\n",
       "      <td>lemur</td>\n",
       "      <td>Fibroblast</td>\n",
       "      <td>Not in reference genome</td>\n",
       "      <td>5.755118</td>\n",
       "    </tr>\n",
       "    <tr>\n",
       "      <th>112</th>\n",
       "      <td>lemur</td>\n",
       "      <td>Smooth Muscle and Myofibroblast</td>\n",
       "      <td>Not in reference genome</td>\n",
       "      <td>NaN</td>\n",
       "    </tr>\n",
       "  </tbody>\n",
       "</table>\n",
       "</div>"
      ],
      "text/plain": [
       "    species             groundtruth_celltype            kmer_category  \\\n",
       "104   lemur                         Monocyte  Not in reference genome   \n",
       "84    lemur                           B cell  Not in reference genome   \n",
       "100   lemur                       Macrophage  Not in reference genome   \n",
       "80    lemur       Alveolar Epithelial Type 2  Not in reference genome   \n",
       "88    lemur                        Capillary  Not in reference genome   \n",
       "116   lemur                           T cell  Not in reference genome   \n",
       "108   lemur            Natural Killer T cell  Not in reference genome   \n",
       "92    lemur                        Dendritic  Not in reference genome   \n",
       "96    lemur                       Fibroblast  Not in reference genome   \n",
       "112   lemur  Smooth Muscle and Myofibroblast  Not in reference genome   \n",
       "\n",
       "     percent_kmers  \n",
       "104       3.405447  \n",
       "84        3.751750  \n",
       "100       4.369957  \n",
       "80        4.455482  \n",
       "88        4.700067  \n",
       "116       4.749934  \n",
       "108       4.772745  \n",
       "92        5.314372  \n",
       "96        5.755118  \n",
       "112            NaN  "
      ]
     },
     "execution_count": 60,
     "metadata": {},
     "output_type": "execute_result"
    }
   ],
   "source": [
    "diagnostic_kmers_n_per_category_df.query(\n",
    "    '(species == \"lemur\") and (kmer_category == \"Not in reference genome\")'\n",
    ").sort_values('percent_kmers')"
   ]
  },
  {
   "cell_type": "markdown",
   "id": "violent-korea",
   "metadata": {},
   "source": [
    "# Plot percentage of kmers in ref genome, etc"
   ]
  },
  {
   "cell_type": "code",
   "execution_count": 61,
   "id": "atlantic-newman",
   "metadata": {},
   "outputs": [
    {
     "name": "stdout",
     "output_type": "stream",
     "text": [
      "mkdir: cannot create directory '/home/olga/googledrive/kmer-homology-paper/figures/kmer_gene_orthology': File exists\n"
     ]
    }
   ],
   "source": [
    "figure_folder = '/home/olga/googledrive/kmer-homology-paper/figures/kmer_gene_orthology'\n",
    "! mkdir $figure_folder"
   ]
  },
  {
   "cell_type": "code",
   "execution_count": 62,
   "id": "conceptual-asian",
   "metadata": {},
   "outputs": [],
   "source": [
    "species_order = 'human', 'lemur', 'mouse', 'bat'\n",
    "diagnostic_kmers_n_per_category_df['species'] = pd.Categorical(diagnostic_kmers_n_per_category_df['species'], categories=species_order, ordered=True)"
   ]
  },
  {
   "cell_type": "code",
   "execution_count": 63,
   "id": "great-wound",
   "metadata": {},
   "outputs": [
    {
     "data": {
      "image/png": "[encoded data removed]",
      "text/plain": [
       "<Figure size 979.5x288 with 10 Axes>"
      ]
     },
     "metadata": {
      "needs_background": "light"
     },
     "output_type": "display_data"
    }
   ],
   "source": [
    "g = sns.catplot(\n",
    "    data=diagnostic_kmers_n_per_category_df,\n",
    "    col=celltype_col,\n",
    "    order=species_order,\n",
    "    col_wrap=5,\n",
    "    y=\"species\",\n",
    "    x=\"percent_kmers\",\n",
    "    hue=\"kmer_category\",\n",
    "    hue_order=kmer_categories,\n",
    "    palette='mako',\n",
    "    kind='bar',\n",
    "    height=2,\n",
    "    linewidth=1,\n",
    "    edgecolor='white'\n",
    "#     legend=True,\n",
    ")\n",
    "g.set_titles('{col_name}')\n",
    "for ax in g.axes.flat:\n",
    "    title = ax.get_title()\n",
    "    if title == 'Smooth Muscle and Myofibroblast':\n",
    "        ax.set_title('Smooth Muscle\\nand Myofibroblast', fontsize=10, pad=-20)\n",
    "pdf = os.path.join(figure_folder, 'unstacked_barplot__col-celltype__y-species__hue-kmer_category.pdf')\n",
    "g.savefig(pdf)"
   ]
  },
  {
   "cell_type": "code",
   "execution_count": 64,
   "id": "separate-delhi",
   "metadata": {},
   "outputs": [
    {
     "data": {
      "image/png": "[encoded data removed]",
      "text/plain": [
       "<Figure size 924.625x180 with 4 Axes>"
      ]
     },
     "metadata": {
      "needs_background": "light"
     },
     "output_type": "display_data"
    }
   ],
   "source": [
    "g = sns.catplot(\n",
    "    data=diagnostic_kmers_n_per_category_df,\n",
    "    hue=celltype_col,\n",
    "#     col_wrap=2,\n",
    "    y=\"species\",\n",
    "    order=species_order,\n",
    "    x=\"percent_kmers\",\n",
    "    col=\"kmer_category\",\n",
    "    col_order=kmer_categories,\n",
    "    palette='tab10',\n",
    "    kind='bar',\n",
    "    height=2.5,\n",
    "    sharex=True,\n",
    "        linewidth=.5,\n",
    "    edgecolor='white'\n",
    "#     legend=True,\n",
    ")\n",
    "g.set_titles('{col_name}')\n",
    "for ax in g.axes.flat:\n",
    "    if ax.is_last_row():\n",
    "        title = ax.get_title()\n",
    "        title = title.replace(',', ',\\n')\n",
    "        ax.set_title(title, fontsize=10, pad=-20)\n",
    "#     if ax.is_first_col():\n",
    "#         ax.set(xscale='log')\n",
    "pdf = os.path.join(figure_folder, 'unstacked_barplot__col-kmer_category__y-species__hue-celltype.pdf')\n",
    "g.savefig(pdf)"
   ]
  },
  {
   "cell_type": "code",
   "execution_count": 65,
   "id": "confirmed-praise",
   "metadata": {},
   "outputs": [],
   "source": [
    "species_order_no_lemur = ['human','mouse', 'bat']"
   ]
  },
  {
   "cell_type": "code",
   "execution_count": null,
   "id": "essential-ecuador",
   "metadata": {},
   "outputs": [],
   "source": [
    "diagnostic_kmers_n_per_category_df_no_lemur = diagnostic_kmers_n_per_category_df.query(\n",
    "    \"species in @species_order_no_lemur\"\n",
    ")\n",
    "diagnostic_kmers_n_per_category_df_no_lemur.species = pd.Categorical(\n",
    "    diagnostic_kmers_n_per_category_df_no_lemur.species,\n",
    "    categories=species_order_no_lemur,\n",
    "    ordered=True,\n",
    ")\n",
    "describe(diagnostic_kmers_n_per_category_df_no_lemur)"
   ]
  },
  {
   "cell_type": "code",
   "execution_count": null,
   "id": "moral-barrier",
   "metadata": {},
   "outputs": [],
   "source": [
    "fig, axes = plt.subplots(ncols=5, nrows=2, figsize=(12, 3), sharex=True, sharey=True)\n",
    "\n",
    "\n",
    "for (celltype, df), ax in zip(\n",
    "    diagnostic_kmers_n_per_category_df_no_lemur.groupby(celltype_col), axes.flat\n",
    "):\n",
    "    \n",
    "#     legend = ax.is_last_col() and ax.is_last_row()\n",
    "    # One liner to create a stacked bar chart.\n",
    "    sns.histplot(\n",
    "        df,\n",
    "        y=\"species\",\n",
    "        hue=\"kmer_category\",\n",
    "        weights=\"percent_kmers\",\n",
    "        multiple=\"stack\",\n",
    "        palette=\"mako\",\n",
    "        linewidth=1,\n",
    "        edgecolor=\"white\",\n",
    "        legend=False,\n",
    "        ax=ax,\n",
    "    )\n",
    "    ax.set(\n",
    "        ylabel=\"species\",\n",
    "        xlabel='Percentage',\n",
    "        title=celltype.replace(\"and\", \"\\nand\"),\n",
    "#         yticks=species_order,\n",
    "    )\n",
    "    \n",
    "# Fix the legend so it's not on top of the bars.\n",
    "# legend = ax.get_legend()\n",
    "# legend.set_bbox_to_anchor((1, 1))\n",
    "sns.despine()\n",
    "fig.tight_layout()\n",
    "pdf = os.path.join(figure_folder, 'stacked_barplot__col-celtype__y-species__hue-kmer_category.pdf')\n",
    "fig.savefig(pdf)"
   ]
  },
  {
   "cell_type": "code",
   "execution_count": null,
   "id": "naked-hacker",
   "metadata": {},
   "outputs": [],
   "source": [
    "figure_folder"
   ]
  },
  {
   "cell_type": "code",
   "execution_count": null,
   "id": "athletic-assets",
   "metadata": {},
   "outputs": [],
   "source": [
    "fig, axes = plt.subplots(ncols=2, nrows=5, figsize=(4.5, 6), sharex=True, sharey=True)\n",
    "\n",
    "\n",
    "for (celltype, df), ax in zip(\n",
    "    diagnostic_kmers_n_per_category_df_no_lemur.groupby(celltype_col), axes.flat\n",
    "):\n",
    "    \n",
    "#     legend = ax.is_last_col() and ax.is_last_row()\n",
    "    # One liner to create a stacked bar chart.\n",
    "    sns.histplot(\n",
    "        df,\n",
    "        y=\"species\",\n",
    "        hue=\"kmer_category\",\n",
    "        weights=\"percent_kmers\",\n",
    "        multiple=\"stack\",\n",
    "        palette=\"mako\",\n",
    "        linewidth=1,\n",
    "        edgecolor=\"white\",\n",
    "        legend=False,\n",
    "        ax=ax,\n",
    "    )\n",
    "    ax.set(\n",
    "        ylabel=\"species\",\n",
    "        xlabel='Percentage',\n",
    "        title=celltype.replace(\"and\", \"\\nand\"),\n",
    "    )\n",
    "    \n",
    "# Fix the legend so it's not on top of the bars.\n",
    "# legend = ax.get_legend()\n",
    "# legend.set_bbox_to_anchor((1, 1))\n",
    "sns.despine()\n",
    "fig.tight_layout()\n",
    "pdf = os.path.join(figure_folder, 'stacked_barplot__col-celtype__y-species__hue-kmer_category__two_column.pdf')\n",
    "fig.savefig(pdf)"
   ]
  },
  {
   "cell_type": "code",
   "execution_count": null,
   "id": "conventional-anger",
   "metadata": {},
   "outputs": [],
   "source": [
    "fig, axes = plt.subplots(ncols=3, figsize=(12, 4), sharex=True, sharey=True)\n",
    "\n",
    "\n",
    "for (species, df), ax in zip(\n",
    "    diagnostic_kmers_n_per_category_df_no_lemur.groupby(\"species\"), axes.flat\n",
    "):\n",
    "    legend = ax.is_last_col()\n",
    "    # One liner to create a stacked bar chart.\n",
    "    sns.histplot(\n",
    "        df,\n",
    "        y=celltype_col,\n",
    "        hue=\"kmer_category\",\n",
    "        weights=\"percent_kmers\",\n",
    "        multiple=\"stack\",\n",
    "        palette=\"mako\",\n",
    "        linewidth=1,\n",
    "        edgecolor=\"white\",\n",
    "        legend=legend,\n",
    "        ax=ax,\n",
    "    )\n",
    "    ax.set(\n",
    "        ylabel=\"percentage\",\n",
    "        title=species,\n",
    "#         yticks=[\"bat\", \"human\"],\n",
    "    )\n",
    "# Fix the legend so it's not on top of the bars.\n",
    "legend = ax.get_legend()\n",
    "legend.set_bbox_to_anchor((1, 1))\n",
    "\n",
    "sns.despine()\n",
    "fig.tight_layout()\n",
    "\n",
    "pdf = os.path.join(figure_folder, 'stacked_barplot__col-species__y-celltype__hue-kmer_category.pdf')\n",
    "fig.savefig(pdf)"
   ]
  },
  {
   "cell_type": "code",
   "execution_count": null,
   "id": "pending-baker",
   "metadata": {},
   "outputs": [],
   "source": [
    "1+1"
   ]
  },
  {
   "cell_type": "markdown",
   "id": "retired-donna",
   "metadata": {},
   "source": [
    "## Get number of k-mers in different categories per `predicted_compartment`"
   ]
  },
  {
   "cell_type": "code",
   "execution_count": null,
   "id": "amino-christmas",
   "metadata": {},
   "outputs": [],
   "source": [
    "%%time\n",
    "\n",
    "celltype_col = \"predicted_compartment\"\n",
    "\n",
    "compartment_kmers_n_per_category = hash2kmer_with_predictions.groupby(\n",
    "    [\"species\", celltype_col, \"kmer_category\"]\n",
    ").hashval.nunique()\n",
    "compartment_kmers_n_per_category.name = \"percent_kmers\"\n",
    "compartment_kmers_n_per_category"
   ]
  },
  {
   "cell_type": "code",
   "execution_count": null,
   "id": "improving-pierre",
   "metadata": {},
   "outputs": [],
   "source": [
    "compartment_kmers_n_per_category_df = compartment_kmers_n_per_category.groupby(level=[0, 1]).apply(lambda x: 100*x/x.sum()).reset_index()\n",
    "compartment_kmers_n_per_category_df"
   ]
  },
  {
   "cell_type": "code",
   "execution_count": null,
   "id": "legal-graphics",
   "metadata": {},
   "outputs": [],
   "source": [
    "compartment_kmers_n_per_category_df.query(\n",
    "    '(species == \"mouse\") and (kmer_category == \"Not in reference genome\")'\n",
    ").sort_values('percent_kmers')"
   ]
  },
  {
   "cell_type": "code",
   "execution_count": null,
   "id": "foreign-sudan",
   "metadata": {},
   "outputs": [],
   "source": [
    "compartment_kmers_n_per_category_df.query(\n",
    "    '(species == \"mouse\") and (kmer_category == \"Not in reference genome\")'\n",
    ").sort_values('percent_kmers')"
   ]
  },
  {
   "cell_type": "code",
   "execution_count": null,
   "id": "infinite-default",
   "metadata": {},
   "outputs": [],
   "source": [
    "compartment_kmers_n_per_category_df.query(\n",
    "    '(species == \"lemur\") and (kmer_category == \"Not in reference genome\")'\n",
    ").sort_values('percent_kmers')"
   ]
  },
  {
   "cell_type": "markdown",
   "id": "brave-brazil",
   "metadata": {},
   "source": [
    "# Plot percentage of kmers in ref genome, etc"
   ]
  },
  {
   "cell_type": "code",
   "execution_count": null,
   "id": "combined-commissioner",
   "metadata": {},
   "outputs": [],
   "source": [
    "figure_folder = '/home/olga/googledrive/kmer-homology-paper/figures/kmer_gene_orthology'\n",
    "! mkdir $figure_folder"
   ]
  },
  {
   "cell_type": "code",
   "execution_count": null,
   "id": "greenhouse-denmark",
   "metadata": {},
   "outputs": [],
   "source": [
    "species_order = 'human', 'lemur', 'mouse', 'bat'\n",
    "compartment_kmers_n_per_category_df['species'] = pd.Categorical(compartment_kmers_n_per_category_df ['species'], categories=species_order, ordered=True)"
   ]
  },
  {
   "cell_type": "code",
   "execution_count": null,
   "id": "damaged-peter",
   "metadata": {},
   "outputs": [],
   "source": [
    "g = sns.catplot(\n",
    "    data=compartment_kmers_n_per_category_df,\n",
    "    col=celltype_col,\n",
    "    order=species_order,\n",
    "    col_wrap=5,\n",
    "    y=\"species\",\n",
    "    x=\"percent_kmers\",\n",
    "    hue=\"kmer_category\",\n",
    "    hue_order=kmer_categories,\n",
    "    palette='mako',\n",
    "    kind='bar',\n",
    "    height=2,\n",
    "    linewidth=1,\n",
    "    edgecolor='white'\n",
    "#     legend=True,\n",
    ")\n",
    "g.set_titles('{col_name}')\n",
    "for ax in g.axes.flat:\n",
    "    title = ax.get_title()\n",
    "    if title == 'Smooth Muscle and Myofibroblast':\n",
    "        ax.set_title('Smooth Muscle\\nand Myofibroblast', fontsize=10, pad=-20)\n",
    "pdf = os.path.join(figure_folder, f'unstacked_barplot__col-celltype__y-species__hue-kmer_category__{celltype_col}.pdf')\n",
    "g.savefig(pdf)"
   ]
  },
  {
   "cell_type": "code",
   "execution_count": null,
   "id": "permanent-wallace",
   "metadata": {},
   "outputs": [],
   "source": [
    "g = sns.catplot(\n",
    "    data=compartment_kmers_n_per_category_df,\n",
    "    hue=celltype_col,\n",
    "#     col_wrap=2,\n",
    "    y=\"species\",\n",
    "    order=species_order,\n",
    "    x=\"percent_kmers\",\n",
    "    col=\"kmer_category\",\n",
    "    col_order=kmer_categories,\n",
    "    palette='tab10',\n",
    "    kind='bar',\n",
    "    height=2.5,\n",
    "    sharex=True,\n",
    "        linewidth=.5,\n",
    "    edgecolor='white'\n",
    "#     legend=True,\n",
    ")\n",
    "g.set_titles('{col_name}')\n",
    "for ax in g.axes.flat:\n",
    "    if ax.is_last_row():\n",
    "        title = ax.get_title()\n",
    "        title = title.replace(',', ',\\n')\n",
    "        ax.set_title(title, fontsize=10, pad=-20)\n",
    "#     if ax.is_first_col():\n",
    "#         ax.set(xscale='log')\n",
    "pdf = os.path.join(figure_folder, f'unstacked_barplot__col-kmer_category__y-species__hue-celltype__{celltype_col}.pdf')\n",
    "g.savefig(pdf)"
   ]
  },
  {
   "cell_type": "code",
   "execution_count": null,
   "id": "worse-scenario",
   "metadata": {},
   "outputs": [],
   "source": [
    "species_order_no_lemur = ['human','mouse', 'bat']"
   ]
  },
  {
   "cell_type": "code",
   "execution_count": null,
   "id": "involved-climb",
   "metadata": {},
   "outputs": [],
   "source": [
    "compartment_kmers_n_per_category_df_no_lemur = compartment_kmers_n_per_category_df.query(\n",
    "    \"species in @species_order_no_lemur\"\n",
    ")\n",
    "compartment_kmers_n_per_category_df_no_lemur.species = pd.Categorical(\n",
    "    compartment_kmers_n_per_category_df_no_lemur.species,\n",
    "    categories=species_order_no_lemur,\n",
    "    ordered=True,\n",
    ")\n",
    "describe(compartment_kmers_n_per_category_df_no_lemur)"
   ]
  },
  {
   "cell_type": "code",
   "execution_count": null,
   "id": "baking-disability",
   "metadata": {},
   "outputs": [],
   "source": [
    "compartment_kmers_n_per_category_df_no_lemur.query('kmer_category == \"Not in reference genome\"')"
   ]
  },
  {
   "cell_type": "code",
   "execution_count": null,
   "id": "separate-vision",
   "metadata": {},
   "outputs": [],
   "source": [
    "fig, axes = plt.subplots(ncols=5, nrows=2, figsize=(12, 3), sharex=True, sharey=True)\n",
    "\n",
    "\n",
    "for (celltype, df), ax in zip(\n",
    "    compartment_kmers_n_per_category_df_no_lemur.groupby(celltype_col), axes.flat\n",
    "):\n",
    "    \n",
    "#     legend = ax.is_last_col() and ax.is_last_row()\n",
    "    # One liner to create a stacked bar chart.\n",
    "    sns.histplot(\n",
    "        df,\n",
    "        y=\"species\",\n",
    "        hue=\"kmer_category\",\n",
    "        weights=\"percent_kmers\",\n",
    "        multiple=\"stack\",\n",
    "        palette=\"mako\",\n",
    "        linewidth=1,\n",
    "        edgecolor=\"white\",\n",
    "        legend=False,\n",
    "        ax=ax,\n",
    "    )\n",
    "    ax.set(\n",
    "        ylabel=\"species\",\n",
    "        xlabel='Percentage',\n",
    "        title=celltype.replace(\"and\", \"\\nand\"),\n",
    "#         yticks=species_order,\n",
    "    )\n",
    "    \n",
    "# Fix the legend so it's not on top of the bars.\n",
    "# legend = ax.get_legend()\n",
    "# legend.set_bbox_to_anchor((1, 1))\n",
    "sns.despine()\n",
    "fig.tight_layout()\n",
    "pdf = os.path.join(figure_folder, f'stacked_barplot__col-celtype__y-species__hue-kmer_category__{celltype_col}.pdf')\n",
    "fig.savefig(pdf)"
   ]
  },
  {
   "cell_type": "code",
   "execution_count": null,
   "id": "clear-overhead",
   "metadata": {},
   "outputs": [],
   "source": [
    "figure_folder"
   ]
  },
  {
   "cell_type": "code",
   "execution_count": null,
   "id": "average-population",
   "metadata": {},
   "outputs": [],
   "source": [
    "fig, axes = plt.subplots(ncols=1, nrows=5, figsize=(4, 6), sharex=True, sharey=True)\n",
    "\n",
    "\n",
    "for (celltype, df), ax in zip(\n",
    "    compartment_kmers_n_per_category_df_no_lemur .groupby(celltype_col), axes.flat\n",
    "):\n",
    "    \n",
    "#     legend = ax.is_last_col() and ax.is_last_row()\n",
    "    # One liner to create a stacked bar chart.\n",
    "    sns.histplot(\n",
    "        df,\n",
    "        y=\"species\",\n",
    "        hue=\"kmer_category\",\n",
    "        weights=\"percent_kmers\",\n",
    "        multiple=\"stack\",\n",
    "        palette=\"mako\",\n",
    "        linewidth=1,\n",
    "        edgecolor=\"white\",\n",
    "        legend=False,\n",
    "        ax=ax,\n",
    "    )\n",
    "    ax.set(\n",
    "        ylabel=\"species\",\n",
    "        xlabel='Percentage',\n",
    "        title=celltype.replace(\"and\", \"\\nand\"),\n",
    "    )\n",
    "    \n",
    "# Fix the legend so it's not on top of the bars.\n",
    "# legend = ax.get_legend()\n",
    "# legend.set_bbox_to_anchor((1, 1))\n",
    "sns.despine()\n",
    "fig.tight_layout()\n",
    "pdf = os.path.join(figure_folder, f'stacked_barplot__col-celtype__y-species__hue-kmer_category__two_column__{celltype_col}.pdf')\n",
    "fig.savefig(pdf)"
   ]
  },
  {
   "cell_type": "code",
   "execution_count": null,
   "id": "declared-indiana",
   "metadata": {},
   "outputs": [],
   "source": [
    "pdf"
   ]
  },
  {
   "cell_type": "code",
   "execution_count": null,
   "id": "phantom-angel",
   "metadata": {},
   "outputs": [],
   "source": [
    "f"
   ]
  },
  {
   "cell_type": "code",
   "execution_count": null,
   "id": "aware-optimum",
   "metadata": {},
   "outputs": [],
   "source": [
    "fig, axes = plt.subplots(ncols=3, figsize=(12, 4), sharex=True, sharey=True)\n",
    "\n",
    "\n",
    "for (species, df), ax in zip(\n",
    "    diagnostic_kmers_n_per_category_df_no_lemur.groupby(\"species\"), axes.flat\n",
    "):\n",
    "    legend = ax.is_last_col()\n",
    "    # One liner to create a stacked bar chart.\n",
    "    sns.histplot(\n",
    "        df,\n",
    "        y=celltype_col,\n",
    "        hue=\"kmer_category\",\n",
    "        weights=\"percent_kmers\",\n",
    "        multiple=\"stack\",\n",
    "        palette=\"mako\",\n",
    "        linewidth=1,\n",
    "        edgecolor=\"white\",\n",
    "        legend=legend,\n",
    "        ax=ax,\n",
    "    )\n",
    "    ax.set(\n",
    "        ylabel=\"percentage\",\n",
    "        title=species,\n",
    "#         yticks=[\"bat\", \"human\"],\n",
    "    )\n",
    "# Fix the legend so it's not on top of the bars.\n",
    "legend = ax.get_legend()\n",
    "legend.set_bbox_to_anchor((1, 1))\n",
    "\n",
    "sns.despine()\n",
    "fig.tight_layout()\n",
    "\n",
    "pdf = os.path.join(figure_folder, 'stacked_barplot__col-species__y-celltype__hue-kmer_category.pdf')\n",
    "fig.savefig(pdf)"
   ]
  },
  {
   "cell_type": "markdown",
   "id": "conservative-korea",
   "metadata": {},
   "source": [
    "# Subset to only diagnostic k-mers"
   ]
  },
  {
   "cell_type": "code",
   "execution_count": null,
   "id": "rapid-russell",
   "metadata": {},
   "outputs": [],
   "source": [
    "mouse_celltype_kmers['hashval'] = mouse_celltype_kmers.hashval.astype(str)"
   ]
  },
  {
   "cell_type": "code",
   "execution_count": null,
   "id": "early-background",
   "metadata": {},
   "outputs": [],
   "source": [
    "describe(mouse_celltype_kmers)"
   ]
  },
  {
   "cell_type": "code",
   "execution_count": null,
   "id": "invalid-playlist",
   "metadata": {},
   "outputs": [],
   "source": [
    "mouse_celltype_kmers.dtypes"
   ]
  },
  {
   "cell_type": "code",
   "execution_count": null,
   "id": "effective-framework",
   "metadata": {},
   "outputs": [],
   "source": [
    "diagnostic_hashvals = set(mouse_celltype_kmers.hashval)\n",
    "len(diagnostic_hashvals)"
   ]
  },
  {
   "cell_type": "code",
   "execution_count": null,
   "id": "brazilian-flood",
   "metadata": {},
   "outputs": [],
   "source": [
    "hash2kmer_with_predictions.dtypes"
   ]
  },
  {
   "cell_type": "code",
   "execution_count": null,
   "id": "empty-promotion",
   "metadata": {},
   "outputs": [],
   "source": [
    "%%time\n",
    "\n",
    "hash2kmer_with_predictions_diagnostic_kmers = hash2kmer_with_predictions.query('hashval in @diagnostic_hashvals')\n",
    "describe(hash2kmer_with_predictions_diagnostic_kmers)"
   ]
  },
  {
   "cell_type": "code",
   "execution_count": null,
   "id": "configured-recognition",
   "metadata": {},
   "outputs": [],
   "source": [
    "diagnostic_kmers_n_per_category_df_no_lemur"
   ]
  }
 ],
 "metadata": {
  "kernelspec": {
   "display_name": "Python [conda env:immune-evolution]",
   "language": "python",
   "name": "conda-env-immune-evolution-py"
  },
  "language_info": {
   "codemirror_mode": {
    "name": "ipython",
    "version": 3
   },
   "file_extension": ".py",
   "mimetype": "text/x-python",
   "name": "python",
   "nbconvert_exporter": "python",
   "pygments_lexer": "ipython3",
   "version": "3.7.8"
  }
 },
 "nbformat": 4,
 "nbformat_minor": 5
}
