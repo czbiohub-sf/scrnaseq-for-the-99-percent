{
 "cells": [
  {
   "cell_type": "code",
   "execution_count": 13,
   "id": "emotional-square",
   "metadata": {},
   "outputs": [],
   "source": [
    "import os\n",
    "import glob"
   ]
  },
  {
   "cell_type": "code",
   "execution_count": null,
   "id": "applied-profession",
   "metadata": {},
   "outputs": [],
   "source": []
  },
  {
   "cell_type": "code",
   "execution_count": 3,
   "id": "emotional-running",
   "metadata": {},
   "outputs": [
    {
     "name": "stdout",
     "output_type": "stream",
     "text": [
      "Traceback (most recent call last):\n",
      "  File \"./sig2kmer.py\", line 20, in <module>\n",
      "    from sencha.sequence_encodings import encode_peptide, AMINO_ACID_SINGLE_LETTERS\n",
      "ModuleNotFoundError: No module named 'sencha'\n"
     ]
    }
   ],
   "source": [
    "! ./sig2kmer.py --help"
   ]
  },
  {
   "cell_type": "code",
   "execution_count": 4,
   "id": "twenty-maintenance",
   "metadata": {},
   "outputs": [],
   "source": [
    "! pip list | grep orpheum"
   ]
  },
  {
   "cell_type": "code",
   "execution_count": 6,
   "id": "brown-charity",
   "metadata": {},
   "outputs": [
    {
     "name": "stdout",
     "output_type": "stream",
     "text": [
      "/home/olga/anaconda/bin/python\n",
      "/home/olga/anaconda/bin/python\n",
      "/home/olga/miniconda3/envs/immune-evolution/bin/python\n",
      "/usr/bin/python\n"
     ]
    }
   ],
   "source": [
    "! which -a python"
   ]
  },
  {
   "cell_type": "code",
   "execution_count": 7,
   "id": "convenient-communication",
   "metadata": {},
   "outputs": [
    {
     "name": "stdout",
     "output_type": "stream",
     "text": [
      "usage: sig2kmer.py [-h] [--output-sequences OUTPUT_SEQUENCES]\n",
      "                   [--output-kmers OUTPUT_KMERS] [--input-is-protein] [-k K]\n",
      "                   [--protein] [--no-protein] [--dayhoff] [--no-dayhoff]\n",
      "                   [--hp] [--no-hp] [--dna] [--no-dna]\n",
      "                   query seqfiles [seqfiles ...]\n",
      "\n",
      "positional arguments:\n",
      "  query\n",
      "  seqfiles\n",
      "\n",
      "optional arguments:\n",
      "  -h, --help            show this help message and exit\n",
      "  --output-sequences OUTPUT_SEQUENCES\n",
      "                        save matching sequences to this file.\n",
      "  --output-kmers OUTPUT_KMERS\n",
      "                        save matching kmers to this file.\n",
      "  --input-is-protein    Consume protein sequences - no translation needed.\n",
      "  -k K, --ksize K       k-mer size; default=31\n",
      "  --protein             choose a protein signature; by default, a nucleotide\n",
      "                        signature is used\n",
      "  --no-protein          do not choose a protein signature\n",
      "  --dayhoff             build Dayhoff-encoded amino acid signatures\n",
      "  --no-dayhoff          do not build Dayhoff-encoded amino acid signatures\n",
      "  --hp, --hydrophobic-polar\n",
      "                        build hydrophobic-polar-encoded amino acid signatures\n",
      "  --no-hp, --no-hydrophobic-polar\n",
      "                        do not build hydrophobic-polar-encoded amino acid\n",
      "                        signatures\n",
      "  --dna, --rna          choose a nucleotide signature (default: True)\n",
      "  --no-dna, --no-rna    do not choose a nucleotide signature\n"
     ]
    }
   ],
   "source": [
    "! /home/olga/miniconda3/envs/immune-evolution/bin/python sig2kmer.py --help"
   ]
  },
  {
   "cell_type": "code",
   "execution_count": 8,
   "id": "abstract-trash",
   "metadata": {},
   "outputs": [
    {
     "name": "stdout",
     "output_type": "stream",
     "text": [
      "total 11K\n",
      "drwxr-xr-x  7 olga czb 4.0K Mar  5 12:02 \u001b[0m\u001b[01;34m.\u001b[0m/\n",
      "drwxrwxr-x  8 olga czb 8.0K Mar 16 10:36 \u001b[01;34m..\u001b[0m/\n",
      "drwxr-xr-x  4 olga czb 4.0K Feb 28 09:53 \u001b[01;34m0--mouse2mouse\u001b[0m/\n",
      "drwxr-xr-x 19 olga czb 4.0K Mar 27 13:06 \u001b[01;34m1--train-mouse\u001b[0m/\n",
      "drwxr-xr-x 16 olga czb 4.0K Mar 29 06:53 \u001b[01;34m2--test-human\u001b[0m/\n",
      "drwxr-xr-x 20 olga czb 4.0K Mar 29 07:04 \u001b[01;34m3--test-bat\u001b[0m/\n",
      "drwxr-xr-x 18 olga czb 4.0K Apr  6 09:05 \u001b[01;34m4--test-lemur\u001b[0m/\n"
     ]
    }
   ],
   "source": [
    "ls -lha /home/olga/data_sm/immune-evolution/kmer-signatures"
   ]
  },
  {
   "cell_type": "code",
   "execution_count": 29,
   "id": "inner-inspector",
   "metadata": {},
   "outputs": [
    {
     "name": "stdout",
     "output_type": "stream",
     "text": [
      "total 8.0K\n",
      "drwxr-xr-x 16 olga czb 4.0K Apr 16 08:44 \u001b[0m\u001b[01;34m.\u001b[0m/\n",
      "drwxr-xr-x  7 olga czb 4.0K Mar  5 12:02 \u001b[01;34m..\u001b[0m/\n",
      "drwxr-xr-x  4 olga czb 4.0K Mar  3 14:58 \u001b[01;34m0--fastas\u001b[0m/\n",
      "drwxr-xr-x  5 olga czb 4.0K Feb 28 11:12 \u001b[01;34m1--single-cell-sigs\u001b[0m/\n",
      "drwxr-xr-x  5 olga czb 4.0K Mar 29 06:53 \u001b[01;34m2--mouse-search-results\u001b[0m/\n",
      "drwxr-xr-x  5 olga czb 4.0K Mar 29 06:53 \u001b[01;34m3-0--mouse-containment-search-results--min-5-percent-shared-kmers\u001b[0m\u001b[K/\n",
      "drwxr-xr-x  5 olga czb 4.0K Mar 26 19:54 \u001b[01;34m3-0--mouse-search-results--min-5-percent-shared-kmers\u001b[0m/\n",
      "drwxr-xr-x  5 olga czb 4.0K Mar 27 13:09 \u001b[01;34m3-0--mouse-search-results--min-5-percent-shared-kmers-remove-common-kmers\u001b[0m\u001b[K/\n",
      "drwxr-xr-x  5 olga czb 4.0K Feb 28 17:17 \u001b[01;34m3-0--mouse-search-results--remove_common\u001b[0m/\n",
      "drwxr-xr-x  5 olga czb 4.0K Mar 29 06:53 \u001b[01;34m3-1--mouse-containment-search-results--min-10-percent-shared-kmers\u001b[0m\u001b[K/\n",
      "drwxr-xr-x  5 olga czb 4.0K Mar 26 19:54 \u001b[01;34m3-1--mouse-search-results--min-10-percent-shared-kmers\u001b[0m/\n",
      "drwxr-xr-x  5 olga czb 4.0K Mar 27 13:09 \u001b[01;34m3-1--mouse-search-results--min-10-percent-shared-kmers-remove-common-kmers\u001b[0m\u001b[K/\n",
      "drwxr-xr-x  5 olga czb 4.0K Feb 28 17:17 \u001b[01;34m3-1--mouse-search-results--raw_merged\u001b[0m/\n",
      "drwxr-xr-x  5 olga czb 4.0K Mar 29 06:53 \u001b[01;34m3-2--mouse-containment-search-results--min-5-percent-shared-kmers-remove-common-kmers\u001b[0m\u001b[K/\n",
      "drwxr-xr-x  5 olga czb 4.0K Mar 29 06:53 \u001b[01;34m3-3--mouse-containment-search-results--min-10-percent-shared-kmers-remove-common-kmers\u001b[0m\u001b[K/\n",
      "drwxr-xr-x  2 olga czb 4.0K Mar  5 14:28 \u001b[01;34m4--aggregated-results\u001b[0m/\n"
     ]
    }
   ],
   "source": [
    "ls -lha /home/olga/data_sm/immune-evolution/kmer-signatures/2--test-human/"
   ]
  },
  {
   "cell_type": "code",
   "execution_count": 12,
   "id": "under-music",
   "metadata": {},
   "outputs": [
    {
     "name": "stdout",
     "output_type": "stream",
     "text": [
      "/home/olga/data_sm/immune-evolution/kmer-signatures/1--train-mouse/0--protein-coding-fastas/:\n",
      "total 2.1M\n",
      "drwxr-xr-x  4 olga czb 4.0K Feb 28 10:19 \u001b[0m\u001b[01;34m.\u001b[0m/\n",
      "drwxr-xr-x 19 olga czb 4.0K Mar 27 13:06 \u001b[01;34m..\u001b[0m/\n",
      "drwxr-xr-x  2 olga czb 1.0M Feb 28 10:50 \u001b[01;34mnucleotides\u001b[0m/\n",
      "drwxr-xr-x  2 olga czb 1.0M Feb 28 10:19 \u001b[01;34mpeptides\u001b[0m/\n",
      "\n",
      "/home/olga/data_sm/immune-evolution/kmer-signatures/2--test-human/0--protein-coding-fastas/:\n",
      "total 8.1M\n",
      "drwxr-xr-x  4 olga czb 4.0K Mar  3 14:58 \u001b[01;34m.\u001b[0m/\n",
      "drwxr-xr-x 16 olga czb 4.0K Mar 29 06:53 \u001b[01;34m..\u001b[0m/\n",
      "drwxr-xr-x  2 olga czb 4.0M Mar  5 16:42 \u001b[01;34mnucleotides\u001b[0m/\n",
      "drwxr-xr-x  2 olga czb 4.0M Mar  5 16:38 \u001b[01;34mpeptides\u001b[0m/\n",
      "\n",
      "/home/olga/data_sm/immune-evolution/kmer-signatures/3--test-bat/0--protein-coding-fastas/:\n",
      "total 4.3M\n",
      "drwxr-xr-x  4 olga czb 4.0K Mar  5 16:29 \u001b[01;34m.\u001b[0m/\n",
      "drwxr-xr-x 20 olga czb 4.0K Mar 29 07:04 \u001b[01;34m..\u001b[0m/\n",
      "drwxr-xr-x  2 olga czb 2.3M Mar  5 17:27 \u001b[01;34mnucleotides\u001b[0m/\n",
      "drwxr-xr-x  2 olga czb 2.0M Mar  5 16:57 \u001b[01;34mpeptides\u001b[0m/\n",
      "\n",
      "/home/olga/data_sm/immune-evolution/kmer-signatures/4--test-lemur/0--protein-coding-fastas/:\n",
      "total 2.1M\n",
      "drwxr-xr-x  4 olga czb 4.0K Mar  5 12:14 \u001b[01;34m.\u001b[0m/\n",
      "drwxr-xr-x 18 olga czb 4.0K Apr  6 09:05 \u001b[01;34m..\u001b[0m/\n",
      "drwxr-xr-x  2 olga czb 1.0M Mar  5 16:40 \u001b[01;34mnucleotides\u001b[0m/\n",
      "drwxr-xr-x  2 olga czb 1.0M Mar  5 16:39 \u001b[01;34mpeptides\u001b[0m/\n"
     ]
    }
   ],
   "source": [
    "\n",
    "ls -lha /home/olga/data_sm/immune-evolution/kmer-signatures/*/*fastas/"
   ]
  },
  {
   "cell_type": "code",
   "execution_count": 14,
   "id": "forward-silence",
   "metadata": {},
   "outputs": [
    {
     "data": {
      "text/plain": [
       "['/home/olga/data_sm/immune-evolution/kmer-signatures/2--test-human/0--protein-coding-fastas/',\n",
       " '/home/olga/data_sm/immune-evolution/kmer-signatures/3--test-bat/0--protein-coding-fastas/',\n",
       " '/home/olga/data_sm/immune-evolution/kmer-signatures/4--test-lemur/0--protein-coding-fastas/',\n",
       " '/home/olga/data_sm/immune-evolution/kmer-signatures/1--train-mouse/0--protein-coding-fastas/']"
      ]
     },
     "execution_count": 14,
     "metadata": {},
     "output_type": "execute_result"
    }
   ],
   "source": [
    "glob.glob('/home/olga/data_sm/immune-evolution/kmer-signatures/*/*fastas/')"
   ]
  },
  {
   "cell_type": "code",
   "execution_count": 15,
   "id": "promising-cyprus",
   "metadata": {},
   "outputs": [],
   "source": [
    "for fasta_dir_original in glob.glob('/home/olga/data_sm/immune-evolution/kmer-signatures/*/*fastas/'):\n",
    "    fasta_dir_new = fasta_dir_original.replace('protein-coding-', '')\n",
    "    ! mv $fasta_dir_original $fasta_dir_new"
   ]
  },
  {
   "cell_type": "code",
   "execution_count": 18,
   "id": "supported-watson",
   "metadata": {},
   "outputs": [
    {
     "data": {
      "text/plain": [
       "['/home/olga/data_sm/immune-evolution/kmer-signatures/2--test-human/1--single-cell-sigs/',\n",
       " '/home/olga/data_sm/immune-evolution/kmer-signatures/3--test-bat/1--single-cell-sigs/',\n",
       " '/home/olga/data_sm/immune-evolution/kmer-signatures/4--test-lemur/1--single-cell-sigs/',\n",
       " '/home/olga/data_sm/immune-evolution/kmer-signatures/1--train-mouse/1--single-cell-sigs/']"
      ]
     },
     "execution_count": 18,
     "metadata": {},
     "output_type": "execute_result"
    }
   ],
   "source": [
    "glob.glob('/home/olga/data_sm/immune-evolution/kmer-signatures/*/1--single-cell-sigs/')"
   ]
  },
  {
   "cell_type": "code",
   "execution_count": 25,
   "id": "precise-virus",
   "metadata": {},
   "outputs": [
    {
     "name": "stdout",
     "output_type": "stream",
     "text": [
      "total 1.6M\n",
      "drwxr-xr-x  5 olga czb 4.0K Feb 28 09:34 .\n",
      "drwxr-xr-x 19 olga czb 4.0K Apr 16 08:44 ..\n",
      "drwxr-xr-x  2 olga czb 512K Feb 28 09:32 alphabet-DNA__ksize-21__scaled-10\n",
      "drwxr-xr-x  2 olga czb 512K Feb 28 09:35 alphabet-dayhoff__ksize-51__scaled-10\n",
      "drwxr-xr-x  2 olga czb 512K Feb 28 09:34 alphabet-protein__ksize-30__scaled-10\n"
     ]
    }
   ],
   "source": [
    "! ls -lha /home/olga/data_sm/immune-evolution/kmer-signatures/1--train-mouse/1--single-cell-sigs/ | head"
   ]
  },
  {
   "cell_type": "code",
   "execution_count": 27,
   "id": "gothic-germany",
   "metadata": {},
   "outputs": [
    {
     "name": "stdout",
     "output_type": "stream",
     "text": [
      "total 838M\n",
      "drwxr-xr-x 2 olga czb 512K Feb 28 09:35 .\n",
      "drwxr-xr-x 5 olga czb 4.0K Feb 28 09:34 ..\n",
      "-rw-rw-r-- 1 olga czb 413K Feb 28 09:34 MACA_18m_F_LUNG_50__AAACGGGTCGCCCTTA.sig\n",
      "-rw-rw-r-- 1 olga czb 583K Feb 28 09:34 MACA_18m_F_LUNG_50__AAAGCAACATGGTAGG.sig\n",
      "-rw-rw-r-- 1 olga czb 201K Feb 28 09:34 MACA_18m_F_LUNG_50__AAAGCAAGTCTAGTGT.sig\n",
      "-rw-rw-r-- 1 olga czb 194K Feb 28 09:34 MACA_18m_F_LUNG_50__AAATGCCAGGAGTTGC.sig\n",
      "-rw-rw-r-- 1 olga czb 858K Feb 28 09:34 MACA_18m_F_LUNG_50__AAATGCCGTCTGCCAG.sig\n",
      "-rw-rw-r-- 1 olga czb 210K Feb 28 09:34 MACA_18m_F_LUNG_50__AAATGCCTCAGCCTAA.sig\n",
      "-rw-rw-r-- 1 olga czb 658K Feb 28 09:34 MACA_18m_F_LUNG_50__AACACGTCATTAGGCT.sig\n",
      "ls: write error: Broken pipe\n"
     ]
    }
   ],
   "source": [
    "! ls -lha /home/olga/data_sm/immune-evolution/kmer-signatures/1--train-mouse/1--single-cell-sigs/alphabet-dayhoff__ksize-51__scaled-10 | head"
   ]
  },
  {
   "cell_type": "code",
   "execution_count": 24,
   "id": "opened-traveler",
   "metadata": {},
   "outputs": [
    {
     "name": "stdout",
     "output_type": "stream",
     "text": [
      "total 68G\n",
      "drwxr-xr-x 2 olga czb 1.0M Feb 28 10:19 .\n",
      "drwxr-xr-x 4 olga czb 4.0K Feb 28 10:19 ..\n",
      "-rw-rw-r-- 1 olga czb  80M Feb 28 10:06 MACA_18m_F_LUNG_50__aligned__aligned__AAACGGGTCGCCCTTA__coding_reads_peptides.fasta\n",
      "-rw-rw-r-- 1 olga czb 108M Feb 28 09:51 MACA_18m_F_LUNG_50__aligned__aligned__AAAGCAACATGGTAGG__coding_reads_peptides.fasta\n",
      "-rw-rw-r-- 1 olga czb  32M Feb 28 10:19 MACA_18m_F_LUNG_50__aligned__aligned__AAAGCAAGTCTAGTGT__coding_reads_peptides.fasta\n",
      "-rw-rw-r-- 1 olga czb  34M Feb 28 09:59 MACA_18m_F_LUNG_50__aligned__aligned__AAATGCCAGGAGTTGC__coding_reads_peptides.fasta\n",
      "-rw-rw-r-- 1 olga czb 177M Feb 28 09:49 MACA_18m_F_LUNG_50__aligned__aligned__AAATGCCGTCTGCCAG__coding_reads_peptides.fasta\n",
      "-rw-rw-r-- 1 olga czb  36M Feb 28 10:07 MACA_18m_F_LUNG_50__aligned__aligned__AAATGCCTCAGCCTAA__coding_reads_peptides.fasta\n",
      "-rw-rw-r-- 1 olga czb 149M Feb 28 10:07 MACA_18m_F_LUNG_50__aligned__aligned__AACACGTCATTAGGCT__coding_reads_peptides.fasta\n",
      "ls: write error: Broken pipe\n"
     ]
    }
   ],
   "source": [
    "! ls -lha /home/olga/data_sm/immune-evolution/kmer-signatures/1--train-mouse/0--fastas/peptides | head"
   ]
  },
  {
   "cell_type": "code",
   "execution_count": 26,
   "id": "distant-metabolism",
   "metadata": {},
   "outputs": [
    {
     "name": "stdout",
     "output_type": "stream",
     "text": [
      "total 2.1M\n",
      "drwxr-xr-x  4 olga czb 4.0K Feb 28 10:19 .\n",
      "drwxr-xr-x 19 olga czb 4.0K Apr 16 08:44 ..\n",
      "drwxr-xr-x  2 olga czb 1.0M Feb 28 10:50 nucleotides\n",
      "drwxr-xr-x  2 olga czb 1.0M Feb 28 10:19 peptides\n"
     ]
    }
   ],
   "source": [
    "! ls -lha /home/olga/data_sm/immune-evolution/kmer-signatures/1--train-mouse/0--fastas | head"
   ]
  },
  {
   "cell_type": "markdown",
   "id": "resistant-superintendent",
   "metadata": {},
   "source": [
    "# Single-cell signatures"
   ]
  },
  {
   "cell_type": "code",
   "execution_count": 20,
   "id": "essential-accuracy",
   "metadata": {},
   "outputs": [
    {
     "data": {
      "text/plain": [
       "'/home/olga/code/immune-evolution--olgabot/analyze-kmermaid-bladder/notebooks'"
      ]
     },
     "execution_count": 20,
     "metadata": {},
     "output_type": "execute_result"
    }
   ],
   "source": [
    "pwd"
   ]
  },
  {
   "cell_type": "code",
   "execution_count": 60,
   "id": "generous-baseball",
   "metadata": {},
   "outputs": [
    {
     "data": {
      "text/plain": [
       "'/home/olga/miniconda3/envs/immune-evolution/bin/python /home/olga/code/immune-evolution--olgabot/analyze-kmermaid-bladder/notebooks/sig2kmer.py --quiet {moltype_flags} --output-sequences {output_fasta} --output-kmers {output_kmer_csv} {query_sig} {input_fasta}'"
      ]
     },
     "execution_count": 60,
     "metadata": {},
     "output_type": "execute_result"
    }
   ],
   "source": [
    "PYTHON = '/home/olga/miniconda3/envs/immune-evolution/bin/python'\n",
    "PWD = '/home/olga/code/immune-evolution--olgabot/analyze-kmermaid-bladder/notebooks'\n",
    "SIG2KMER = f\"{PWD}/sig2kmer.py\"\n",
    "sig2kmer_template = f\"{PYTHON} {SIG2KMER} \" + r\"--quiet {moltype_flags} --output-sequences {output_fasta} --output-kmers {output_kmer_csv} {query_sig} {input_fasta}\"\n",
    "sig2kmer_template"
   ]
  },
  {
   "cell_type": "code",
   "execution_count": 61,
   "id": "certain-marsh",
   "metadata": {},
   "outputs": [],
   "source": [
    "fasta_type_to_sketch_ids = {\n",
    "    \"nucleotides\": [\"alphabet-DNA__ksize-21__scaled-10\"],\n",
    "    \"peptides\": [\n",
    "        \"alphabet-dayhoff__ksize-51__scaled-10\",\n",
    "        \"alphabet-protein__ksize-30__scaled-10\",\n",
    "    ],\n",
    "}\n",
    "\n",
    "sketch_id_to_flags = {\n",
    "    \"alphabet-DNA__ksize-21__scaled-10\": \"--dna --ksize 21\",\n",
    "    \"alphabet-dayhoff__ksize-51__scaled-10\": \"--dayhoff --no-dna --ksize 51 --input-is-protein\",\n",
    "    \"alphabet-protein__ksize-30__scaled-10\": \"--protein --no-dna --ksize 30 --input-is-protein\",\n",
    "}"
   ]
  },
  {
   "cell_type": "code",
   "execution_count": null,
   "id": "based-owner",
   "metadata": {},
   "outputs": [],
   "source": [
    "\n",
    "\n",
    "# Add \"--t\" to glob command for train and test data\n",
    "for species_folder in glob.glob(\n",
    "    \"/home/olga/data_sm/immune-evolution/kmer-signatures/*--test-bat*/\"\n",
    "):\n",
    "    fasta_base = os.path.join(species_folder, \"0--fastas\")\n",
    "    sig_base = os.path.join(species_folder, \"1--single-cell-sigs\")\n",
    "    output_base = os.path.join(species_folder, \"2--single-cell-kmers\")\n",
    "    if not os.path.exists(output_base):\n",
    "        os.makedirs(output_base)\n",
    "    \n",
    "    \n",
    "    command_txt = os.path.join(output_base, 'sig2kmer_commands.txt')\n",
    "    \n",
    "    with open(command_txt, 'w') as f:\n",
    "        for fasta_type, sketch_ids in fasta_type_to_sketch_ids.items():\n",
    "            input_fastas = glob.glob(os.path.join(fasta_base, fasta_type, '*'))\n",
    "            for sketch_id in sketch_ids:\n",
    "                moltype_flags = sketch_id_to_flags[sketch_id]\n",
    "                sketch_id_sig_folder = os.path.join(sig_base, sketch_id)\n",
    "\n",
    "                sketch_id_output_base = os.path.join(output_base, sketch_id)\n",
    "                fasta_output_base = os.path.join(sketch_id_output_base, \"fastas\")\n",
    "                csv_output_base = os.path.join(sketch_id_output_base, \"csvs\")\n",
    "                \n",
    "#                 if not os.path.exists(csv_output_base):\n",
    "#                     os.makedirs(fasta_output_base)\n",
    "#                     os.makedirs(csv_output_base)\n",
    "\n",
    "                for input_fasta in input_fastas:\n",
    "                    basename = os.path.basename(input_fasta)\n",
    "                    alignment_status = 'aligned' if '_aligned_' in basename else 'unaligned'\n",
    "                    fasta_alignment_status_base = os.path.join(fasta_output_base, alignment_status)\n",
    "                    csv_alignment_status_base = os.path.join(csv_output_base, alignment_status)\n",
    "                    \n",
    "                    if not os.path.exists(csv_alignment_status_base):\n",
    "                        os.makedirs(fasta_alignment_status_base)\n",
    "                        os.makedirs(csv_alignment_status_base)\n",
    "                    \n",
    "                    cell_id = basename.replace(\"__aligned\", \"\").replace('__unaligned', '').split(\"__coding_reads\")[0]\n",
    "\n",
    "                    # Create inputs\n",
    "                    query_sig = os.path.join(sketch_id_sig_folder, f\"{cell_id}.sig\")\n",
    "                    \n",
    "                    print(cell_id)\n",
    "                    break\n",
    "                    \n",
    "                    if not os.path.exists(query_sig):\n",
    "                        # Only used signatures from pre-selected celltypes --> ignore everything else\n",
    "                        ! rm $input_fasta\n",
    "                        continue\n",
    "                    output_fasta = os.path.join(fasta_alignment_status_base, f\"{cell_id}.fasta\")\n",
    "                    output_kmer_csv = os.path.join(csv_alignment_status_base, f\"{cell_id}.csv\")\n",
    "\n",
    "                    command = sig2kmer_template.format(\n",
    "                        moltype_flags=moltype_flags,\n",
    "                        output_fasta=output_fasta,\n",
    "                        output_kmer_csv=output_kmer_csv,\n",
    "                        query_sig=query_sig,\n",
    "                        input_fasta=input_fasta,\n",
    "                    )\n",
    "                    f.write(command + '\\n')\n",
    "\n",
    "    print(f'parallel --progress --eta --jobs 96 < {command_txt}')\n",
    "    ! wc -l $command_txt\n",
    "    print('---')\n",
    "    ! head -n 1 $command_txt\n",
    "    print('---')\n",
    "                \n"
   ]
  },
  {
   "cell_type": "code",
   "execution_count": 57,
   "id": "intensive-henry",
   "metadata": {},
   "outputs": [
    {
     "data": {
      "text/plain": [
       "'MACA_21m_F_LUNG_55__GGCAATTAGGCATGTG'"
      ]
     },
     "execution_count": 57,
     "metadata": {},
     "output_type": "execute_result"
    }
   ],
   "source": [
    "cell_id"
   ]
  },
  {
   "cell_type": "code",
   "execution_count": 53,
   "id": "hungarian-teach",
   "metadata": {},
   "outputs": [
    {
     "data": {
      "text/plain": [
       "'/home/olga/data_sm/immune-evolution/kmer-signatures/1--train-mouse/0--fastas/peptides'"
      ]
     },
     "execution_count": 53,
     "metadata": {},
     "output_type": "execute_result"
    }
   ],
   "source": [
    "input_fasta"
   ]
  },
  {
   "cell_type": "code",
   "execution_count": 48,
   "id": "designing-participant",
   "metadata": {},
   "outputs": [
    {
     "data": {
      "text/plain": [
       "['/home/olga/data_sm/immune-evolution/kmer-signatures/1--train-mouse/0--fastas/peptides']"
      ]
     },
     "execution_count": 48,
     "metadata": {},
     "output_type": "execute_result"
    }
   ],
   "source": [
    "input_fastas"
   ]
  },
  {
   "cell_type": "code",
   "execution_count": 41,
   "id": "flush-underwear",
   "metadata": {},
   "outputs": [
    {
     "data": {
      "text/plain": [
       "'peptides'"
      ]
     },
     "execution_count": 41,
     "metadata": {},
     "output_type": "execute_result"
    }
   ],
   "source": [
    "fasta_type"
   ]
  },
  {
   "cell_type": "markdown",
   "id": "prime-thunder",
   "metadata": {},
   "source": [
    "# Per-celltype database signatures for diagnostic k-mers"
   ]
  },
  {
   "cell_type": "code",
   "execution_count": null,
   "id": "rocky-charge",
   "metadata": {},
   "outputs": [],
   "source": []
  }
 ],
 "metadata": {
  "kernelspec": {
   "display_name": "Python [conda env:immune-evolution]",
   "language": "python",
   "name": "conda-env-immune-evolution-py"
  },
  "language_info": {
   "codemirror_mode": {
    "name": "ipython",
    "version": 3
   },
   "file_extension": ".py",
   "mimetype": "text/x-python",
   "name": "python",
   "nbconvert_exporter": "python",
   "pygments_lexer": "ipython3",
   "version": "3.7.8"
  }
 },
 "nbformat": 4,
 "nbformat_minor": 5
}
