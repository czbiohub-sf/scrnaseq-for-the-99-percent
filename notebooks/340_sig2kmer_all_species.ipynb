{
 "cells": [
  {
   "cell_type": "code",
   "execution_count": 33,
   "id": "chief-intake",
   "metadata": {},
   "outputs": [
    {
     "name": "stdout",
     "output_type": "stream",
     "text": [
      "The autoreload extension is already loaded. To reload it, use:\n",
      "  %reload_ext autoreload\n"
     ]
    }
   ],
   "source": [
    "%load_ext autoreload\n",
    "%autoreload 2"
   ]
  },
  {
   "cell_type": "code",
   "execution_count": 42,
   "id": "registered-kitchen",
   "metadata": {},
   "outputs": [],
   "source": [
    "import os\n",
    "import glob\n",
    "from tqdm import tqdm"
   ]
  },
  {
   "cell_type": "markdown",
   "id": "foreign-costume",
   "metadata": {},
   "source": [
    "# Single-cell signatures"
   ]
  },
  {
   "cell_type": "code",
   "execution_count": 4,
   "id": "sound-stephen",
   "metadata": {},
   "outputs": [
    {
     "data": {
      "text/plain": [
       "'/home/olga/code/immune-evolution--olgabot/analyze-kmermaid-bladder/notebooks'"
      ]
     },
     "execution_count": 4,
     "metadata": {},
     "output_type": "execute_result"
    }
   ],
   "source": [
    "pwd"
   ]
  },
  {
   "cell_type": "code",
   "execution_count": 5,
   "id": "labeled-thousand",
   "metadata": {},
   "outputs": [
    {
     "data": {
      "text/plain": [
       "'/home/olga/miniconda3/envs/immune-evolution/bin/python /home/olga/code/immune-evolution--olgabot/analyze-kmermaid-bladder/notebooks/sig2kmer.py --quiet {moltype_flags} --output-sequences {output_fasta} --output-kmers {output_kmer_csv} {query_sig} {input_fasta}'"
      ]
     },
     "execution_count": 5,
     "metadata": {},
     "output_type": "execute_result"
    }
   ],
   "source": [
    "PYTHON = \"/home/olga/miniconda3/envs/immune-evolution/bin/python\"\n",
    "PWD = \"/home/olga/code/immune-evolution--olgabot/analyze-kmermaid-bladder/notebooks\"\n",
    "SIG2KMER = f\"{PWD}/sig2kmer.py\"\n",
    "sig2kmer_template = (\n",
    "    f\"{PYTHON} {SIG2KMER} \"\n",
    "    + r\"--quiet {moltype_flags} --output-sequences {output_fasta} --output-kmers {output_kmer_csv} {query_sig} {input_fasta}\"\n",
    ")\n",
    "sig2kmer_template"
   ]
  },
  {
   "cell_type": "code",
   "execution_count": 25,
   "id": "grave-shepherd",
   "metadata": {},
   "outputs": [],
   "source": [
    "fasta_type_to_sketch_ids = {\n",
    "    \"nucleotides\": [\"alphabet-DNA__ksize-21__scaled-10\"],\n",
    "    \"peptides\": [\n",
    "        \"alphabet-dayhoff__ksize-51__scaled-10\",\n",
    "        \"alphabet-protein__ksize-30__scaled-10\",\n",
    "    ],\n",
    "}\n",
    "\n",
    "sketch_id_to_flags = {\n",
    "    \"alphabet-DNA__ksize-21__scaled-10\": \"--dna --ksize 21\",\n",
    "    \"alphabet-dayhoff__ksize-51__scaled-10\": \"--dayhoff --no-dna --ksize 51 --input-is-protein\",\n",
    "    \"alphabet-protein__ksize-30__scaled-10\": \"--protein --no-dna --ksize 30 --input-is-protein\",\n",
    "}"
   ]
  },
  {
   "cell_type": "code",
   "execution_count": 44,
   "id": "built-gabriel",
   "metadata": {},
   "outputs": [
    {
     "name": "stderr",
     "output_type": "stream",
     "text": [
      "  0%|          | 0/26899 [00:00<?, ?it/s]"
     ]
    },
    {
     "name": "stdout",
     "output_type": "stream",
     "text": [
      "alphabet-DNA__ksize-21__scaled-10\n"
     ]
    },
    {
     "name": "stderr",
     "output_type": "stream",
     "text": [
      " 26%|██▋       | 7084/26899 [2:18:57<4:11:09,  1.31it/s]  IOPub message rate exceeded.\n",
      "The Jupyter server will temporarily stop sending output\n",
      "to the client in order to avoid crashing it.\n",
      "To change this limit, set the config variable\n",
      "`--ServerApp.iopub_msg_rate_limit`.\n",
      "\n",
      "Current values:\n",
      "ServerApp.iopub_msg_rate_limit=1000.0 (msgs/sec)\n",
      "ServerApp.rate_limit_window=3.0 (secs)\n",
      "\n",
      " 79%|███████▉  | 21245/26899 [4:17:16<1:13:03,  1.29it/s]IOPub message rate exceeded.\n",
      "The Jupyter server will temporarily stop sending output\n",
      "to the client in order to avoid crashing it.\n",
      "To change this limit, set the config variable\n",
      "`--ServerApp.iopub_msg_rate_limit`.\n",
      "\n",
      "Current values:\n",
      "ServerApp.iopub_msg_rate_limit=1000.0 (msgs/sec)\n",
      "ServerApp.rate_limit_window=3.0 (secs)\n",
      "\n",
      " 58%|█████▊    | 16021/27434 [19:22<09:27, 20.10it/s]  IOPub message rate exceeded.\n",
      "The Jupyter server will temporarily stop sending output\n",
      "to the client in order to avoid crashing it.\n",
      "To change this limit, set the config variable\n",
      "`--ServerApp.iopub_msg_rate_limit`.\n",
      "\n",
      "Current values:\n",
      "ServerApp.iopub_msg_rate_limit=1000.0 (msgs/sec)\n",
      "ServerApp.rate_limit_window=3.0 (secs)\n",
      "\n",
      " 50%|████▉     | 13661/27434 [21:30<12:37, 18.18it/s]  IOPub message rate exceeded.\n",
      "The Jupyter server will temporarily stop sending output\n",
      "to the client in order to avoid crashing it.\n",
      "To change this limit, set the config variable\n",
      "`--ServerApp.iopub_msg_rate_limit`.\n",
      "\n",
      "Current values:\n",
      "ServerApp.iopub_msg_rate_limit=1000.0 (msgs/sec)\n",
      "ServerApp.rate_limit_window=3.0 (secs)\n",
      "\n"
     ]
    }
   ],
   "source": [
    "%%time\n",
    "\n",
    "\n",
    "def clean_fasta_name(basename, strings_to_remove=[\"__aligned\", '__possorted_genome_bam', '_possorted_genome_bam', '__unaligned']):\n",
    "    new_name = None\n",
    "    for to_remove in strings_to_remove:\n",
    "        if new_name is None:\n",
    "            # First time --> take original basename\n",
    "            new_name = basename.replace(to_remove, '')\n",
    "        else:\n",
    "            new_name = new_name.replace(to_remove, '')\n",
    "            \n",
    "    new_name = new_name.split('coding_reads')[0].strip(\"_\")\n",
    "    return new_name\n",
    "\n",
    "\n",
    "def fasta_file_contains_read_names(output_fasta):\n",
    "    if os.path.exists(output_fasta):\n",
    "        with open(output_fasta) as f:\n",
    "            for line in f.readlines():\n",
    "                # IF there already exists a file with a gene name tag\n",
    "                if 'GN:Z:' in line:\n",
    "                    return True\n",
    "    return False\n",
    "\n",
    "def csv_is_valid(output_csv):\n",
    "    try:\n",
    "        pd.read_csv(csv)\n",
    "    except:\n",
    "        return False\n",
    "    return True\n",
    "\n",
    "\n",
    "# Add \"--t\" to glob command for train and test data\n",
    "for species_folder in glob.glob(\n",
    "#     \"/home/olga/data_sm/immune-evolution/kmer-signatures/*--t*/\"\n",
    " \"/home/olga/data_sm/immune-evolution/kmer-signatures/*bat*/\"\n",
    "):\n",
    "    fasta_base = os.path.join(species_folder, \"0--fastas\")\n",
    "    sig_base = os.path.join(species_folder, \"1--single-cell-sigs\")\n",
    "    output_base = os.path.join(species_folder, \"2--single-cell-kmers\")\n",
    "    if not os.path.exists(output_base):\n",
    "        os.makedirs(output_base)\n",
    "    \n",
    "    \n",
    "    command_txt = os.path.join(output_base, 'sig2kmer_commands.txt')\n",
    "    \n",
    "    with open(command_txt, 'w') as f:\n",
    "        for fasta_type, sketch_ids in fasta_type_to_sketch_ids.items():\n",
    "            for sketch_id in sketch_ids:\n",
    "                print(sketch_id)\n",
    "                globber = os.path.join(fasta_base, fasta_type, '*')\n",
    "                input_fastas = glob.iglob(globber)\n",
    "                moltype_flags = sketch_id_to_flags[sketch_id]\n",
    "                sketch_id_sig_folder = os.path.join(sig_base, sketch_id)\n",
    "\n",
    "                sketch_id_output_base = os.path.join(output_base, sketch_id)\n",
    "                fasta_output_base = os.path.join(sketch_id_output_base, \"fastas\")\n",
    "                csv_output_base = os.path.join(sketch_id_output_base, \"csvs\")\n",
    "                \n",
    "#                 if not os.path.exists(csv_output_base):\n",
    "#                     os.makedirs(fasta_output_base)\n",
    "#                     os.makedirs(csv_output_base)\n",
    "                total = sum(1 for _ in glob.iglob(globber))\n",
    "                for input_fasta in tqdm(input_fastas, total=total):\n",
    "                    basename = os.path.basename(input_fasta)\n",
    "                    alignment_status = 'aligned' if '_aligned_' in basename else 'unaligned'\n",
    "                    fasta_alignment_status_base = os.path.join(fasta_output_base, alignment_status)\n",
    "                    csv_alignment_status_base = os.path.join(csv_output_base, alignment_status)\n",
    "                    \n",
    "                    if not os.path.exists(csv_alignment_status_base):\n",
    "                        os.makedirs(fasta_alignment_status_base)\n",
    "                        os.makedirs(csv_alignment_status_base)\n",
    "                    \n",
    "                    cell_id = clean_fasta_name(basename)\n",
    "                \n",
    "\n",
    "                    # Create inputs\n",
    "                    query_sig = os.path.join(sketch_id_sig_folder, f\"{cell_id}.sig\")\n",
    "\n",
    "                    if not os.path.exists(query_sig):\n",
    "                        continue\n",
    "                    output_fasta = os.path.join(fasta_alignment_status_base, f\"{cell_id}.fasta\")\n",
    "                    output_kmer_csv = os.path.join(csv_alignment_status_base, f\"{cell_id}.csv\")\n",
    "\n",
    "#                     # If we already found k-mers for this one, skip\n",
    "#                     if os.path.exists(output_kmer_csv) and os.path.getsize(output_fasta) > 0:\n",
    "#                         continue\n",
    "                    \n",
    "\n",
    "#                     if fasta_file_contains_read_names(output_fasta) and csv_is_valid(output_kmer_csv):\n",
    "#                         # If the fasta file already has read names, skip it!\n",
    "#                         continue\n",
    "\n",
    "                    command = sig2kmer_template.format(\n",
    "                        moltype_flags=moltype_flags,\n",
    "                        output_fasta=output_fasta,\n",
    "                        output_kmer_csv=output_kmer_csv,\n",
    "                        query_sig=query_sig,\n",
    "                        input_fasta=input_fasta,\n",
    "                    )\n",
    "                    f.write(command + '\\n')\n",
    "\n",
    "    print(f'parallel --progress --eta --jobs 96 < {command_txt}')\n",
    "    ! wc -l $command_txt\n",
    "    print('---')\n",
    "    ! head -n 1 $command_txt\n",
    "    print('---')\n",
    "                \n"
   ]
  },
  {
   "cell_type": "code",
   "execution_count": 46,
   "id": "native-oasis",
   "metadata": {},
   "outputs": [
    {
     "name": "stdout",
     "output_type": "stream",
     "text": [
      "parallel --progress --eta --jobs 96 < /home/olga/data_sm/immune-evolution/kmer-signatures/3--test-bat/2--single-cell-kmers/sig2kmer_commands.txt\n",
      "81647 /home/olga/data_sm/immune-evolution/kmer-signatures/3--test-bat/2--single-cell-kmers/sig2kmer_commands.txt\n",
      "---\n",
      "/home/olga/miniconda3/envs/immune-evolution/bin/python /home/olga/code/immune-evolution--olgabot/analyze-kmermaid-bladder/notebooks/sig2kmer.py --quiet --dna --ksize 21 --output-sequences /home/olga/data_sm/immune-evolution/kmer-signatures/3--test-bat/2--single-cell-kmers/alphabet-DNA__ksize-21__scaled-10/fastas/aligned/bat3-LU__ACGGGCTAGTACATGA.fasta --output-kmers /home/olga/data_sm/immune-evolution/kmer-signatures/3--test-bat/2--single-cell-kmers/alphabet-DNA__ksize-21__scaled-10/csvs/aligned/bat3-LU__ACGGGCTAGTACATGA.csv /home/olga/data_sm/immune-evolution/kmer-signatures/3--test-bat/1--single-cell-sigs/alphabet-DNA__ksize-21__scaled-10/bat3-LU__ACGGGCTAGTACATGA.sig /home/olga/data_sm/immune-evolution/kmer-signatures/3--test-bat/0--fastas/nucleotides/bat3-LU_possorted_genome_bam__aligned__aligned__ACGGGCTAGTACATGA__coding_reads_nucleotides.fasta\n",
      "---\n"
     ]
    }
   ],
   "source": [
    "    print(f'parallel --progress --eta --jobs 96 < {command_txt}')\n",
    "    ! wc -l $command_txt\n",
    "    print('---')\n",
    "    ! head -n 1 $command_txt\n",
    "    print('---')"
   ]
  },
  {
   "cell_type": "code",
   "execution_count": 45,
   "id": "later-bahrain",
   "metadata": {},
   "outputs": [
    {
     "data": {
      "text/plain": [
       "2"
      ]
     },
     "execution_count": 45,
     "metadata": {},
     "output_type": "execute_result"
    }
   ],
   "source": [
    "1+1"
   ]
  },
  {
   "cell_type": "code",
   "execution_count": 11,
   "id": "demonstrated-broad",
   "metadata": {},
   "outputs": [
    {
     "name": "stdout",
     "output_type": "stream",
     "text": [
      "0\n"
     ]
    }
   ],
   "source": [
    "! grep -c unaligned /home/olga/data_sm/immune-evolution/kmer-signatures/1--train-mouse/2--single-cell-kmers/sig2kmer_commands.txt"
   ]
  },
  {
   "cell_type": "code",
   "execution_count": 8,
   "id": "magnetic-twist",
   "metadata": {},
   "outputs": [
    {
     "data": {
      "text/plain": [
       "'MACA_21m_F_LUNG_55__aligned__aligned__GGCAATTAGGCATGTG__coding_reads_peptides.fasta'"
      ]
     },
     "execution_count": 8,
     "metadata": {},
     "output_type": "execute_result"
    }
   ],
   "source": [
    "basename"
   ]
  },
  {
   "cell_type": "markdown",
   "id": "recreational-motivation",
   "metadata": {},
   "source": [
    "## Are any of the fastas nonzero??"
   ]
  },
  {
   "cell_type": "code",
   "execution_count": 22,
   "id": "valued-yukon",
   "metadata": {},
   "outputs": [
    {
     "data": {
      "text/plain": [
       "['alphabet-dayhoff__ksize-51__scaled-10',\n",
       " 'alphabet-protein__ksize-30__scaled-10']"
      ]
     },
     "execution_count": 22,
     "metadata": {},
     "output_type": "execute_result"
    }
   ],
   "source": [
    "sketch_ids"
   ]
  },
  {
   "cell_type": "code",
   "execution_count": 23,
   "id": "banned-malawi",
   "metadata": {},
   "outputs": [],
   "source": [
    "nucleotide_protein_sketch_ids = [\n",
    "    \"alphabet-DNA__ksize-21__scaled-10\",\n",
    "    \"alphabet-dayhoff__ksize-51__scaled-10\",\n",
    "    \"alphabet-protein__ksize-30__scaled-10\",\n",
    "]"
   ]
  },
  {
   "cell_type": "code",
   "execution_count": 32,
   "id": "ancient-visit",
   "metadata": {},
   "outputs": [
    {
     "name": "stdout",
     "output_type": "stream",
     "text": [
      "2--test-human, alphabet-DNA__ksize-21__scaled-10,\taligned has\t14153 nonzero byte fasta files\n",
      "2--test-human, alphabet-DNA__ksize-21__scaled-10,\tunaligned has\t13046 nonzero byte fasta files\n",
      "2--test-human, alphabet-dayhoff__ksize-51__scaled-10,\taligned has\t14154 nonzero byte fasta files\n",
      "2--test-human, alphabet-dayhoff__ksize-51__scaled-10,\tunaligned has\t12261 nonzero byte fasta files\n",
      "2--test-human, alphabet-protein__ksize-30__scaled-10,\taligned has\t14154 nonzero byte fasta files\n",
      "2--test-human, alphabet-protein__ksize-30__scaled-10,\tunaligned has\t12181 nonzero byte fasta files\n",
      "3--test-bat, alphabet-DNA__ksize-21__scaled-10,\taligned has\t7409 nonzero byte fasta files\n",
      "3--test-bat, alphabet-DNA__ksize-21__scaled-10,\tunaligned has\t7462 nonzero byte fasta files\n",
      "3--test-bat, alphabet-dayhoff__ksize-51__scaled-10,\taligned has\t7703 nonzero byte fasta files\n",
      "3--test-bat, alphabet-dayhoff__ksize-51__scaled-10,\tunaligned has\t7703 nonzero byte fasta files\n",
      "3--test-bat, alphabet-protein__ksize-30__scaled-10,\taligned has\t7703 nonzero byte fasta files\n",
      "3--test-bat, alphabet-protein__ksize-30__scaled-10,\tunaligned has\t7703 nonzero byte fasta files\n",
      "4--test-lemur, alphabet-DNA__ksize-21__scaled-10,\taligned has\t634 nonzero byte fasta files\n",
      "4--test-lemur, alphabet-DNA__ksize-21__scaled-10,\tunaligned has\t634 nonzero byte fasta files\n",
      "4--test-lemur, alphabet-dayhoff__ksize-51__scaled-10,\taligned has\t804 nonzero byte fasta files\n",
      "4--test-lemur, alphabet-dayhoff__ksize-51__scaled-10,\tunaligned has\t804 nonzero byte fasta files\n",
      "4--test-lemur, alphabet-protein__ksize-30__scaled-10,\taligned has\t804 nonzero byte fasta files\n",
      "4--test-lemur, alphabet-protein__ksize-30__scaled-10,\tunaligned has\t804 nonzero byte fasta files\n",
      "1--train-mouse, alphabet-DNA__ksize-21__scaled-10,\taligned has\t5884 nonzero byte fasta files\n",
      "1--train-mouse, alphabet-DNA__ksize-21__scaled-10,\tunaligned has\t5739 nonzero byte fasta files\n",
      "1--train-mouse, alphabet-dayhoff__ksize-51__scaled-10,\taligned has\t5884 nonzero byte fasta files\n",
      "1--train-mouse, alphabet-dayhoff__ksize-51__scaled-10,\tunaligned has\t5884 nonzero byte fasta files\n",
      "1--train-mouse, alphabet-protein__ksize-30__scaled-10,\taligned has\t5884 nonzero byte fasta files\n",
      "1--train-mouse, alphabet-protein__ksize-30__scaled-10,\tunaligned has\t5884 nonzero byte fasta files\n"
     ]
    }
   ],
   "source": [
    "aligned_unaligned = 'aligned', 'unaligned'\n",
    "\n",
    "for species_dir in glob.glob('/home/olga/data_sm/immune-evolution/kmer-signatures/*--t*'):\n",
    "    for sketch_id in nucleotide_protein_sketch_ids:\n",
    "        for alignment_status in aligned_unaligned:\n",
    "            n = 0\n",
    "            fastas = glob.iglob(os.path.join(species_dir, f'2--single-cell-kmers/{sketch_id}/fastas/{alignment_status}/*.fasta'))\n",
    "            for fasta in fastas:\n",
    "                if os.path.getsize(fasta) > 0:\n",
    "                    n += 1\n",
    "            print(f'{os.path.basename(species_dir)}, {sketch_id},\\t{alignment_status} has\\t{n} nonzero byte fasta files')"
   ]
  },
  {
   "cell_type": "code",
   "execution_count": null,
   "id": "intensive-madison",
   "metadata": {},
   "outputs": [],
   "source": []
  },
  {
   "cell_type": "code",
   "execution_count": null,
   "id": "hungarian-december",
   "metadata": {},
   "outputs": [],
   "source": []
  }
 ],
 "metadata": {
  "kernelspec": {
   "display_name": "Python [conda env:immune-evolution]",
   "language": "python",
   "name": "conda-env-immune-evolution-py"
  },
  "language_info": {
   "codemirror_mode": {
    "name": "ipython",
    "version": 3
   },
   "file_extension": ".py",
   "mimetype": "text/x-python",
   "name": "python",
   "nbconvert_exporter": "python",
   "pygments_lexer": "ipython3",
   "version": "3.7.8"
  }
 },
 "nbformat": 4,
 "nbformat_minor": 5
}
