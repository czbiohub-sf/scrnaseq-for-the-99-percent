{
 "cells": [
  {
   "cell_type": "markdown",
   "id": "spectacular-football",
   "metadata": {},
   "source": [
    "# Imports"
   ]
  },
  {
   "cell_type": "code",
   "execution_count": 1,
   "id": "a8f309b8-a518-4a3b-98e3-1520a1e206e5",
   "metadata": {},
   "outputs": [],
   "source": [
    "%load_ext autoreload\n",
    "%autoreload 2"
   ]
  },
  {
   "cell_type": "code",
   "execution_count": 2,
   "id": "spare-minority",
   "metadata": {},
   "outputs": [],
   "source": [
    "import glob\n",
    "import os\n",
    "\n",
    "import matplotlib.pyplot as plt\n",
    "import pandas as pd\n",
    "import scanpy as sc\n",
    "import seaborn as sns"
   ]
  },
  {
   "cell_type": "code",
   "execution_count": 1,
   "id": "36e774d2-c2d4-4df9-99b2-bc9d61474880",
   "metadata": {},
   "outputs": [
    {
     "ename": "ModuleNotFoundError",
     "evalue": "No module named 'path_utils'",
     "output_type": "error",
     "traceback": [
      "\u001b[0;31m---------------------------------------------------------------------------\u001b[0m",
      "\u001b[0;31mModuleNotFoundError\u001b[0m                       Traceback (most recent call last)",
      "\u001b[0;32m<ipython-input-1-21aea122dd3f>\u001b[0m in \u001b[0;36m<module>\u001b[0;34m\u001b[0m\n\u001b[1;32m      3\u001b[0m \u001b[0;34m\u001b[0m\u001b[0m\n\u001b[1;32m      4\u001b[0m \u001b[0;32mfrom\u001b[0m \u001b[0mcelltype_utils\u001b[0m \u001b[0;32mimport\u001b[0m \u001b[0mget_shared_adata\u001b[0m\u001b[0;34m\u001b[0m\u001b[0;34m\u001b[0m\u001b[0m\n\u001b[0;32m----> 5\u001b[0;31m \u001b[0;32mfrom\u001b[0m \u001b[0mpath_utils\u001b[0m \u001b[0;32mimport\u001b[0m \u001b[0msig_outdir_base\u001b[0m\u001b[0;34m\u001b[0m\u001b[0;34m\u001b[0m\u001b[0m\n\u001b[0m",
      "\u001b[0;31mModuleNotFoundError\u001b[0m: No module named 'path_utils'"
     ]
    }
   ],
   "source": [
    "from path_constants import H5AD\n",
    "from nb_utils import describe\n",
    "\n",
    "from celltype_utils import get_shared_adata\n",
    "from path_constants import sig_outdir_base"
   ]
  },
  {
   "cell_type": "markdown",
   "id": "applicable-european",
   "metadata": {},
   "source": [
    "## Read one2one h5ad"
   ]
  },
  {
   "cell_type": "code",
   "execution_count": 4,
   "id": "5b3ad6b6-5db4-4bae-a724-57449d2d5d45",
   "metadata": {},
   "outputs": [
    {
     "name": "stderr",
     "output_type": "stream",
     "text": [
      "/home/olga/miniconda3/envs/immune-evolution/lib/python3.7/site-packages/anndata/_core/anndata.py:1094: FutureWarning: is_categorical is deprecated and will be removed in a future version.  Use is_categorical_dtype instead\n",
      "  if not is_categorical(df_full[k]):\n"
     ]
    }
   ],
   "source": [
    "adata_shared = get_shared_adata()"
   ]
  },
  {
   "cell_type": "markdown",
   "id": "varying-error",
   "metadata": {},
   "source": [
    "# Read parquet files"
   ]
  },
  {
   "cell_type": "markdown",
   "id": "opponent-testimony",
   "metadata": {},
   "source": [
    "## File paths"
   ]
  },
  {
   "cell_type": "code",
   "execution_count": 5,
   "id": "hispanic-slope",
   "metadata": {},
   "outputs": [
    {
     "data": {
      "text/plain": [
       "['/home/olga/data_lg/data_sm_copy/immune-evolution/kmer-signatures/1--train-mouse--to-publish/2--single-cell-kmers/alphabet-dayhoff__ksize-51__scaled-10/hash2kmer__unique_kmers_per_celltype.parquet',\n",
       " '/home/olga/data_lg/data_sm_copy/immune-evolution/kmer-signatures/2--test-human/2--single-cell-kmers/alphabet-dayhoff__ksize-51__scaled-10/hash2kmer__unique_kmers_per_celltype.parquet',\n",
       " '/home/olga/data_lg/data_sm_copy/immune-evolution/kmer-signatures/3--test-bat/2--single-cell-kmers/alphabet-dayhoff__ksize-51__scaled-10/hash2kmer__unique_kmers_per_celltype.parquet',\n",
       " '/home/olga/data_lg/data_sm_copy/immune-evolution/kmer-signatures/4--test-lemur/2--single-cell-kmers/alphabet-dayhoff__ksize-51__scaled-10/hash2kmer__unique_kmers_per_celltype.parquet',\n",
       " '/home/olga/data_lg/data_sm_copy/immune-evolution/kmer-signatures/1--train-mouse/2--single-cell-kmers/alphabet-dayhoff__ksize-51__scaled-10/hash2kmer__unique_kmers_per_celltype.parquet']"
      ]
     },
     "execution_count": 5,
     "metadata": {},
     "output_type": "execute_result"
    }
   ],
   "source": [
    "sketch_id = 'alphabet-dayhoff__ksize-51__scaled-10'\n"
   ]
  },
  {
   "cell_type": "markdown",
   "id": "elect-sudan",
   "metadata": {},
   "source": [
    "## Read aggregated hash2kmer with predicted cells"
   ]
  },
  {
   "cell_type": "code",
   "execution_count": 13,
   "id": "moderate-leader",
   "metadata": {},
   "outputs": [],
   "source": [
    "hash2kmer_with_predictions.read_parquet(\n",
    "    os.path.join(sig_outdir_base, f\"aggregated-hash2kmer-with-predicted-cells__{sketch_id}.parquet\")\n",
    ")"
   ]
  },
  {
   "cell_type": "markdown",
   "id": "f05c61df-0c1c-49c7-b052-c1f350ef47c0",
   "metadata": {},
   "source": [
    "## Get number of aligned/unaligned k-mers in all cells"
   ]
  },
  {
   "cell_type": "code",
   "execution_count": 22,
   "id": "regular-hawaii",
   "metadata": {},
   "outputs": [
    {
     "data": {
      "text/plain": [
       "species  groundtruth_celltype        alignment_status\n",
       "bat      Alveolar Epithelial Type 2  aligned             13522422\n",
       "                                     unaligned             759922\n",
       "         B cell                      aligned              1055558\n",
       "                                     unaligned              58700\n",
       "         Capillary                   aligned             14688263\n",
       "Name: alignment_status, dtype: int64"
      ]
     },
     "execution_count": 22,
     "metadata": {},
     "output_type": "execute_result"
    }
   ],
   "source": [
    "celltype_hashvals = hash2kmer.groupby(['species', 'groundtruth_celltype']).alignment_status.value_counts()\n",
    "celltype_hashvals.head()"
   ]
  },
  {
   "cell_type": "code",
   "execution_count": 24,
   "id": "major-arizona",
   "metadata": {},
   "outputs": [
    {
     "data": {
      "text/html": [
       "<div>\n",
       "<style scoped>\n",
       "    .dataframe tbody tr th:only-of-type {\n",
       "        vertical-align: middle;\n",
       "    }\n",
       "\n",
       "    .dataframe tbody tr th {\n",
       "        vertical-align: top;\n",
       "    }\n",
       "\n",
       "    .dataframe thead th {\n",
       "        text-align: right;\n",
       "    }\n",
       "</style>\n",
       "<table border=\"1\" class=\"dataframe\">\n",
       "  <thead>\n",
       "    <tr style=\"text-align: right;\">\n",
       "      <th></th>\n",
       "      <th>species</th>\n",
       "      <th>groundtruth_celltype</th>\n",
       "      <th>alignment_status</th>\n",
       "      <th>percentage</th>\n",
       "    </tr>\n",
       "  </thead>\n",
       "  <tbody>\n",
       "    <tr>\n",
       "      <th>0</th>\n",
       "      <td>bat</td>\n",
       "      <td>Alveolar Epithelial Type 2</td>\n",
       "      <td>aligned</td>\n",
       "      <td>94.679291</td>\n",
       "    </tr>\n",
       "    <tr>\n",
       "      <th>1</th>\n",
       "      <td>bat</td>\n",
       "      <td>Alveolar Epithelial Type 2</td>\n",
       "      <td>unaligned</td>\n",
       "      <td>5.320709</td>\n",
       "    </tr>\n",
       "    <tr>\n",
       "      <th>2</th>\n",
       "      <td>bat</td>\n",
       "      <td>B cell</td>\n",
       "      <td>aligned</td>\n",
       "      <td>94.731920</td>\n",
       "    </tr>\n",
       "    <tr>\n",
       "      <th>3</th>\n",
       "      <td>bat</td>\n",
       "      <td>B cell</td>\n",
       "      <td>unaligned</td>\n",
       "      <td>5.268080</td>\n",
       "    </tr>\n",
       "    <tr>\n",
       "      <th>4</th>\n",
       "      <td>bat</td>\n",
       "      <td>Capillary</td>\n",
       "      <td>aligned</td>\n",
       "      <td>95.639091</td>\n",
       "    </tr>\n",
       "    <tr>\n",
       "      <th>...</th>\n",
       "      <td>...</td>\n",
       "      <td>...</td>\n",
       "      <td>...</td>\n",
       "      <td>...</td>\n",
       "    </tr>\n",
       "    <tr>\n",
       "      <th>73</th>\n",
       "      <td>mouse</td>\n",
       "      <td>Natural Killer T cell</td>\n",
       "      <td>unaligned</td>\n",
       "      <td>3.501037</td>\n",
       "    </tr>\n",
       "    <tr>\n",
       "      <th>74</th>\n",
       "      <td>mouse</td>\n",
       "      <td>Smooth Muscle and Myofibroblast</td>\n",
       "      <td>aligned</td>\n",
       "      <td>97.046112</td>\n",
       "    </tr>\n",
       "    <tr>\n",
       "      <th>75</th>\n",
       "      <td>mouse</td>\n",
       "      <td>Smooth Muscle and Myofibroblast</td>\n",
       "      <td>unaligned</td>\n",
       "      <td>2.953888</td>\n",
       "    </tr>\n",
       "    <tr>\n",
       "      <th>76</th>\n",
       "      <td>mouse</td>\n",
       "      <td>T cell</td>\n",
       "      <td>aligned</td>\n",
       "      <td>96.752694</td>\n",
       "    </tr>\n",
       "    <tr>\n",
       "      <th>77</th>\n",
       "      <td>mouse</td>\n",
       "      <td>T cell</td>\n",
       "      <td>unaligned</td>\n",
       "      <td>3.247306</td>\n",
       "    </tr>\n",
       "  </tbody>\n",
       "</table>\n",
       "<p>78 rows × 4 columns</p>\n",
       "</div>"
      ],
      "text/plain": [
       "   species             groundtruth_celltype alignment_status  percentage\n",
       "0      bat       Alveolar Epithelial Type 2          aligned   94.679291\n",
       "1      bat       Alveolar Epithelial Type 2        unaligned    5.320709\n",
       "2      bat                           B cell          aligned   94.731920\n",
       "3      bat                           B cell        unaligned    5.268080\n",
       "4      bat                        Capillary          aligned   95.639091\n",
       "..     ...                              ...              ...         ...\n",
       "73   mouse            Natural Killer T cell        unaligned    3.501037\n",
       "74   mouse  Smooth Muscle and Myofibroblast          aligned   97.046112\n",
       "75   mouse  Smooth Muscle and Myofibroblast        unaligned    2.953888\n",
       "76   mouse                           T cell          aligned   96.752694\n",
       "77   mouse                           T cell        unaligned    3.247306\n",
       "\n",
       "[78 rows x 4 columns]"
      ]
     },
     "execution_count": 24,
     "metadata": {},
     "output_type": "execute_result"
    }
   ],
   "source": [
    "celltype_hashval_percentage = celltype_hashvals.groupby(level=[0, 1]).apply(lambda x: 100 * x/x.sum())\n",
    "celltype_hashval_percentage.name = 'percentage'\n",
    "celltype_hashval_percentage = celltype_hashval_percentage.reset_index()\n",
    "celltype_hashval_percentage"
   ]
  },
  {
   "cell_type": "code",
   "execution_count": 25,
   "id": "hairy-sociology",
   "metadata": {},
   "outputs": [],
   "source": [
    "celltype_hashval_percentage_unaligned = celltype_hashval_percentage.query('alignment_status == \"unaligned\"')\n"
   ]
  },
  {
   "cell_type": "code",
   "execution_count": 26,
   "id": "unauthorized-newsletter",
   "metadata": {},
   "outputs": [
    {
     "data": {
      "text/plain": [
       "9                          Fibroblast\n",
       "5                           Capillary\n",
       "17    Smooth Muscle and Myofibroblast\n",
       "11                         Macrophage\n",
       "19                             T cell\n",
       "13                           Monocyte\n",
       "15              Natural Killer T cell\n",
       "3                              B cell\n",
       "1          Alveolar Epithelial Type 2\n",
       "7                           Dendritic\n",
       "Name: groundtruth_celltype, dtype: category\n",
       "Categories (10, object): ['Alveolar Epithelial Type 2', 'B cell', 'Capillary', 'Dendritic', ..., 'Monocyte', 'Natural Killer T cell', 'Smooth Muscle and Myofibroblast', 'T cell']"
      ]
     },
     "execution_count": 26,
     "metadata": {},
     "output_type": "execute_result"
    }
   ],
   "source": [
    "order = celltype_hashval_percentage_unaligned.query('species == \"bat\"').sort_values(\n",
    "    \"percentage\"\n",
    ")[\"groundtruth_celltype\"]\n",
    "order"
   ]
  },
  {
   "cell_type": "code",
   "execution_count": 27,
   "id": "abstract-chapter",
   "metadata": {},
   "outputs": [
    {
     "data": {
      "text/plain": [
       "<seaborn.axisgrid.FacetGrid at 0x7ef9cf96fbd0>"
      ]
     },
     "execution_count": 27,
     "metadata": {},
     "output_type": "execute_result"
    },
    {
     "data": {
      "image/png": "[encoded data removed]",
      "text/plain": [
       "<Figure size 430.875x360 with 1 Axes>"
      ]
     },
     "metadata": {
      "needs_background": "light"
     },
     "output_type": "display_data"
    }
   ],
   "source": [
    "g = sns.catplot(\n",
    "    data=celltype_hashval_percentage_unaligned,\n",
    "    y=\"groundtruth_celltype\",\n",
    "    x=\"percentage\",\n",
    "    hue=\"species\",\n",
    "    kind=\"bar\",\n",
    "    order=order\n",
    ")\n",
    "g.set(xscale=\"log\")"
   ]
  },
  {
   "cell_type": "code",
   "execution_count": 74,
   "id": "70c55b8f-6e4c-4b55-af0b-607d865864da",
   "metadata": {},
   "outputs": [
    {
     "data": {
      "image/png": "[encoded data removed]",
      "text/plain": [
       "<Figure size 430.875x360 with 1 Axes>"
      ]
     },
     "metadata": {
      "needs_background": "light"
     },
     "output_type": "display_data"
    }
   ],
   "source": [
    "g = sns.catplot(\n",
    "    data=celltype_hashval_percentage_unaligned,\n",
    "    y=\"groundtruth_celltype\",\n",
    "    x=\"percentage\",\n",
    "    hue=\"species\",\n",
    "    kind=\"bar\",\n",
    "    order=order\n",
    ")\n",
    "# g.set(xscale=\"log\")"
   ]
  },
  {
   "cell_type": "code",
   "execution_count": 28,
   "id": "quantitative-gateway",
   "metadata": {},
   "outputs": [
    {
     "data": {
      "text/plain": [
       "<seaborn.axisgrid.FacetGrid at 0x7ef9ce498b10>"
      ]
     },
     "execution_count": 28,
     "metadata": {},
     "output_type": "execute_result"
    },
    {
     "data": {
      "image/png": "[encoded data removed]",
      "text/plain": [
       "<Figure size 1440x360 with 4 Axes>"
      ]
     },
     "metadata": {
      "needs_background": "light"
     },
     "output_type": "display_data"
    }
   ],
   "source": [
    "g = sns.catplot(\n",
    "    data=celltype_hashval_percentage_unaligned,\n",
    "    y=\"groundtruth_celltype\",\n",
    "    x=\"percentage\",\n",
    "    col=\"species\",\n",
    "    kind=\"bar\",conn\n",
    "    order=order\n",
    ")\n",
    "g.set(xscale=\"log\")"
   ]
  },
  {
   "cell_type": "markdown",
   "id": "downtown-style",
   "metadata": {},
   "source": [
    "## Read mouse diagnostic k-mer csvs"
   ]
  },
  {
   "cell_type": "code",
   "execution_count": 29,
   "id": "strong-geography",
   "metadata": {},
   "outputs": [
    {
     "data": {
      "text/plain": [
       "['/home/olga/data_lg/data_sm_copy/immune-evolution/kmer-signatures/1--train-mouse/5--celltype-kmers--merged-celltype-remove-common-kmers--min-kmer-count--5-percent/alphabet-dayhoff__ksize-51__scaled-10/csvs/natural_killer_t_cell.csv',\n",
       " '/home/olga/data_lg/data_sm_copy/immune-evolution/kmer-signatures/1--train-mouse/5--celltype-kmers--merged-celltype-remove-common-kmers--min-kmer-count--5-percent/alphabet-dayhoff__ksize-51__scaled-10/csvs/alveolar_epithelial_type_2.csv',\n",
       " '/home/olga/data_lg/data_sm_copy/immune-evolution/kmer-signatures/1--train-mouse/5--celltype-kmers--merged-celltype-remove-common-kmers--min-kmer-count--5-percent/alphabet-dayhoff__ksize-51__scaled-10/csvs/smooth_muscle_and_myofibroblast.csv',\n",
       " '/home/olga/data_lg/data_sm_copy/immune-evolution/kmer-signatures/1--train-mouse/5--celltype-kmers--merged-celltype-remove-common-kmers--min-kmer-count--5-percent/alphabet-dayhoff__ksize-51__scaled-10/csvs/monocyte.csv',\n",
       " '/home/olga/data_lg/data_sm_copy/immune-evolution/kmer-signatures/1--train-mouse/5--celltype-kmers--merged-celltype-remove-common-kmers--min-kmer-count--5-percent/alphabet-dayhoff__ksize-51__scaled-10/csvs/b_cell.csv',\n",
       " '/home/olga/data_lg/data_sm_copy/immune-evolution/kmer-signatures/1--train-mouse/5--celltype-kmers--merged-celltype-remove-common-kmers--min-kmer-count--5-percent/alphabet-dayhoff__ksize-51__scaled-10/csvs/fibroblast.csv',\n",
       " '/home/olga/data_lg/data_sm_copy/immune-evolution/kmer-signatures/1--train-mouse/5--celltype-kmers--merged-celltype-remove-common-kmers--min-kmer-count--5-percent/alphabet-dayhoff__ksize-51__scaled-10/csvs/t_cell.csv',\n",
       " '/home/olga/data_lg/data_sm_copy/immune-evolution/kmer-signatures/1--train-mouse/5--celltype-kmers--merged-celltype-remove-common-kmers--min-kmer-count--5-percent/alphabet-dayhoff__ksize-51__scaled-10/csvs/capillary.csv',\n",
       " '/home/olga/data_lg/data_sm_copy/immune-evolution/kmer-signatures/1--train-mouse/5--celltype-kmers--merged-celltype-remove-common-kmers--min-kmer-count--5-percent/alphabet-dayhoff__ksize-51__scaled-10/csvs/dendritic.csv',\n",
       " '/home/olga/data_lg/data_sm_copy/immune-evolution/kmer-signatures/1--train-mouse/5--celltype-kmers--merged-celltype-remove-common-kmers--min-kmer-count--5-percent/alphabet-dayhoff__ksize-51__scaled-10/csvs/macrophage.csv']"
      ]
     },
     "execution_count": 29,
     "metadata": {},
     "output_type": "execute_result"
    }
   ],
   "source": [
    "mouse_dir = '/home/olga/data_lg/data_sm_copy/immune-evolution/kmer-signatures/1--train-mouse/'\n",
    "celltype_kmer_subdir = '5--celltype-kmers--merged-celltype-remove-common-kmers--min-kmer-count--5-percent'\n",
    "\n",
    "mouse_celltype_kmer_csvs = glob.glob(os.path.join(mouse_dir, celltype_kmer_subdir, sketch_id, 'csvs', '*csv'))\n",
    "mouse_celltype_kmer_csvs"
   ]
  },
  {
   "cell_type": "code",
   "execution_count": 30,
   "id": "medical-forestry",
   "metadata": {},
   "outputs": [
    {
     "name": "stdout",
     "output_type": "stream",
     "text": [
      "\n",
      "celltype file:\n",
      "CPU times: user 5.45 s, sys: 2.28 s, total: 7.73 s\n",
      "Wall time: 8.1 s\n",
      "\n",
      "celltype file:\n",
      "CPU times: user 1.33 s, sys: 160 ms, total: 1.49 s\n",
      "Wall time: 1.9 s\n",
      "\n",
      "celltype file:\n",
      "CPU times: user 504 ms, sys: 54.7 ms, total: 559 ms\n",
      "Wall time: 773 ms\n",
      "\n",
      "celltype file:\n",
      "CPU times: user 25.7 s, sys: 2.33 s, total: 28 s\n",
      "Wall time: 33.4 s\n",
      "\n",
      "celltype file:\n",
      "CPU times: user 7.83 s, sys: 705 ms, total: 8.54 s\n",
      "Wall time: 10.1 s\n",
      "\n",
      "celltype file:\n",
      "CPU times: user 3.51 s, sys: 321 ms, total: 3.83 s\n",
      "Wall time: 4.71 s\n",
      "\n",
      "celltype file:\n",
      "CPU times: user 4.6 s, sys: 370 ms, total: 4.97 s\n",
      "Wall time: 5.84 s\n",
      "\n",
      "celltype file:\n",
      "CPU times: user 9.49 s, sys: 1.02 s, total: 10.5 s\n",
      "Wall time: 10.6 s\n",
      "\n",
      "celltype file:\n",
      "CPU times: user 2.03 s, sys: 175 ms, total: 2.21 s\n",
      "Wall time: 2.21 s\n",
      "\n",
      "celltype file:\n",
      "CPU times: user 2.04 s, sys: 148 ms, total: 2.19 s\n",
      "Wall time: 2.21 s\n",
      "(22370943, 5)\n",
      "--- First 5 entries ---\n"
     ]
    },
    {
     "data": {
      "text/html": [
       "<div>\n",
       "<style scoped>\n",
       "    .dataframe tbody tr th:only-of-type {\n",
       "        vertical-align: middle;\n",
       "    }\n",
       "\n",
       "    .dataframe tbody tr th {\n",
       "        vertical-align: top;\n",
       "    }\n",
       "\n",
       "    .dataframe thead th {\n",
       "        text-align: right;\n",
       "    }\n",
       "</style>\n",
       "<table border=\"1\" class=\"dataframe\">\n",
       "  <thead>\n",
       "    <tr style=\"text-align: right;\">\n",
       "      <th></th>\n",
       "      <th>kmer_in_sequence</th>\n",
       "      <th>kmer_in_alphabet</th>\n",
       "      <th>hashval</th>\n",
       "      <th>read_name</th>\n",
       "      <th>celltype</th>\n",
       "    </tr>\n",
       "  </thead>\n",
       "  <tbody>\n",
       "    <tr>\n",
       "      <th>0</th>\n",
       "      <td>KLSSPRGGMKKKTTHFG</td>\n",
       "      <td>debbbdbbedddbbdfb</td>\n",
       "      <td>308103755003737144</td>\n",
       "      <td>A00111:73:H3YHNDMXX:2:1218:21983:15264\\tCB:Z:A...</td>\n",
       "      <td>natural_killer_t_cell</td>\n",
       "    </tr>\n",
       "    <tr>\n",
       "      <th>1</th>\n",
       "      <td>LSSPRGGMKKKTTHFGE</td>\n",
       "      <td>ebbbdbbedddbbdfbc</td>\n",
       "      <td>177719887282804153</td>\n",
       "      <td>A00111:73:H3YHNDMXX:2:1218:21983:15264\\tCB:Z:A...</td>\n",
       "      <td>natural_killer_t_cell</td>\n",
       "    </tr>\n",
       "    <tr>\n",
       "      <th>2</th>\n",
       "      <td>YTVGKRFKEANNFLRPF</td>\n",
       "      <td>fbebddfdcbccfedbf</td>\n",
       "      <td>1822116523473074621</td>\n",
       "      <td>A00111:73:H3YHNDMXX:1:2311:5367:19179\\tCB:Z:AA...</td>\n",
       "      <td>natural_killer_t_cell</td>\n",
       "    </tr>\n",
       "    <tr>\n",
       "      <th>3</th>\n",
       "      <td>KFGIICMEDLIQDIYTI</td>\n",
       "      <td>dfbeeaecceeccefbe</td>\n",
       "      <td>115722640331910096</td>\n",
       "      <td>A00111:73:H3YHNDMXX:2:1175:17463:20556\\tCB:Z:A...</td>\n",
       "      <td>natural_killer_t_cell</td>\n",
       "    </tr>\n",
       "    <tr>\n",
       "      <th>4</th>\n",
       "      <td>KFGIICMEDLIQEIYTV</td>\n",
       "      <td>dfbeeaecceeccefbe</td>\n",
       "      <td>115722640331910096</td>\n",
       "      <td>A00111:73:H3YHNDMXX:2:2229:8260:32111\\tCB:Z:AA...</td>\n",
       "      <td>natural_killer_t_cell</td>\n",
       "    </tr>\n",
       "  </tbody>\n",
       "</table>\n",
       "</div>"
      ],
      "text/plain": [
       "    kmer_in_sequence   kmer_in_alphabet              hashval  \\\n",
       "0  KLSSPRGGMKKKTTHFG  debbbdbbedddbbdfb   308103755003737144   \n",
       "1  LSSPRGGMKKKTTHFGE  ebbbdbbedddbbdfbc   177719887282804153   \n",
       "2  YTVGKRFKEANNFLRPF  fbebddfdcbccfedbf  1822116523473074621   \n",
       "3  KFGIICMEDLIQDIYTI  dfbeeaecceeccefbe   115722640331910096   \n",
       "4  KFGIICMEDLIQEIYTV  dfbeeaecceeccefbe   115722640331910096   \n",
       "\n",
       "                                           read_name               celltype  \n",
       "0  A00111:73:H3YHNDMXX:2:1218:21983:15264\\tCB:Z:A...  natural_killer_t_cell  \n",
       "1  A00111:73:H3YHNDMXX:2:1218:21983:15264\\tCB:Z:A...  natural_killer_t_cell  \n",
       "2  A00111:73:H3YHNDMXX:1:2311:5367:19179\\tCB:Z:AA...  natural_killer_t_cell  \n",
       "3  A00111:73:H3YHNDMXX:2:1175:17463:20556\\tCB:Z:A...  natural_killer_t_cell  \n",
       "4  A00111:73:H3YHNDMXX:2:2229:8260:32111\\tCB:Z:AA...  natural_killer_t_cell  "
      ]
     },
     "metadata": {},
     "output_type": "display_data"
    },
    {
     "name": "stdout",
     "output_type": "stream",
     "text": [
      "CPU times: user 1min 20s, sys: 18.9 s, total: 1min 39s\n",
      "Wall time: 1min 49s\n"
     ]
    }
   ],
   "source": [
    "%%time\n",
    "\n",
    "dfs = []\n",
    "\n",
    "for csv in mouse_celltype_kmer_csvs:\n",
    "    basename = os.path.basename(csv)\n",
    "    print('\\ncelltype file:', )\n",
    "    %time df = pd.read_csv(csv)\n",
    "    df['celltype'] = basename.split('.')[0]\n",
    "    dfs.append(df)\n",
    "mouse_celltype_kmers = pd.concat(dfs)\n",
    "describe(mouse_celltype_kmers)"
   ]
  },
  {
   "cell_type": "markdown",
   "id": "strong-township",
   "metadata": {},
   "source": [
    "# Gene orthology"
   ]
  },
  {
   "cell_type": "markdown",
   "id": "prescription-cooler",
   "metadata": {},
   "source": [
    "## Assign figure folder"
   ]
  },
  {
   "cell_type": "code",
   "execution_count": 31,
   "id": "resistant-denial",
   "metadata": {},
   "outputs": [],
   "source": [
    "figure_folder = (\n",
    "    \"/home/olga/googledrive/ImmuneEvolution/figures/kmer_gene_orthology\"\n",
    ")\n",
    "!mkdir -p $figure_folder"
   ]
  },
  {
   "cell_type": "markdown",
   "id": "proper-submission",
   "metadata": {},
   "source": [
    "## Use 1:1 orthologs from Anndata of bat-Lemur-human-mouse"
   ]
  },
  {
   "cell_type": "code",
   "execution_count": 32,
   "id": "anonymous-child",
   "metadata": {},
   "outputs": [
    {
     "name": "stdout",
     "output_type": "stream",
     "text": [
      "(10560, 9)\n",
      "--- First 5 entries ---\n"
     ]
    },
    {
     "data": {
      "text/html": [
       "<div>\n",
       "<style scoped>\n",
       "    .dataframe tbody tr th:only-of-type {\n",
       "        vertical-align: middle;\n",
       "    }\n",
       "\n",
       "    .dataframe tbody tr th {\n",
       "        vertical-align: top;\n",
       "    }\n",
       "\n",
       "    .dataframe thead th {\n",
       "        text-align: right;\n",
       "    }\n",
       "</style>\n",
       "<table border=\"1\" class=\"dataframe\">\n",
       "  <thead>\n",
       "    <tr style=\"text-align: right;\">\n",
       "      <th></th>\n",
       "      <th>bat__gene_name</th>\n",
       "      <th>mouse_lemur__gene_name-bat</th>\n",
       "      <th>mouse__gene_name-bat</th>\n",
       "      <th>mouse_lemur__gene_name_x-hlm</th>\n",
       "      <th>mouse__gene_name_x-hlm</th>\n",
       "      <th>gene_ids-lemur-hlm</th>\n",
       "      <th>n_cells-mouse-hlm</th>\n",
       "      <th>mouse_lemur__gene_name_y-hlm</th>\n",
       "      <th>mouse__gene_name_y-hlm</th>\n",
       "    </tr>\n",
       "    <tr>\n",
       "      <th>human__gene_name</th>\n",
       "      <th></th>\n",
       "      <th></th>\n",
       "      <th></th>\n",
       "      <th></th>\n",
       "      <th></th>\n",
       "      <th></th>\n",
       "      <th></th>\n",
       "      <th></th>\n",
       "      <th></th>\n",
       "    </tr>\n",
       "  </thead>\n",
       "  <tbody>\n",
       "    <tr>\n",
       "      <th>SAMD11</th>\n",
       "      <td>SAMD11</td>\n",
       "      <td>SAMD11</td>\n",
       "      <td>Samd11</td>\n",
       "      <td>SAMD11</td>\n",
       "      <td>Samd11</td>\n",
       "      <td>gene2117</td>\n",
       "      <td>5381</td>\n",
       "      <td>SAMD11</td>\n",
       "      <td>Samd11</td>\n",
       "    </tr>\n",
       "    <tr>\n",
       "      <th>NOC2L</th>\n",
       "      <td>NOC2L</td>\n",
       "      <td>NOC2L</td>\n",
       "      <td>Noc2l</td>\n",
       "      <td>NOC2L</td>\n",
       "      <td>Noc2l</td>\n",
       "      <td>gene2116</td>\n",
       "      <td>48156</td>\n",
       "      <td>NOC2L</td>\n",
       "      <td>Noc2l</td>\n",
       "    </tr>\n",
       "    <tr>\n",
       "      <th>KLHL17</th>\n",
       "      <td>KLHL17</td>\n",
       "      <td>KLHL17</td>\n",
       "      <td>Klhl17</td>\n",
       "      <td>KLHL17</td>\n",
       "      <td>Klhl17</td>\n",
       "      <td>gene2115</td>\n",
       "      <td>11262</td>\n",
       "      <td>KLHL17</td>\n",
       "      <td>Klhl17</td>\n",
       "    </tr>\n",
       "    <tr>\n",
       "      <th>ISG15</th>\n",
       "      <td>ISG15</td>\n",
       "      <td>ISG15</td>\n",
       "      <td>Isg15</td>\n",
       "      <td>ISG15</td>\n",
       "      <td>Isg15</td>\n",
       "      <td>gene2111</td>\n",
       "      <td>74269</td>\n",
       "      <td>ISG15</td>\n",
       "      <td>Isg15</td>\n",
       "    </tr>\n",
       "    <tr>\n",
       "      <th>AGRN</th>\n",
       "      <td>AGRN</td>\n",
       "      <td>AGRN</td>\n",
       "      <td>Agrn</td>\n",
       "      <td>AGRN</td>\n",
       "      <td>Agrn</td>\n",
       "      <td>gene2110</td>\n",
       "      <td>23538</td>\n",
       "      <td>AGRN</td>\n",
       "      <td>Agrn</td>\n",
       "    </tr>\n",
       "  </tbody>\n",
       "</table>\n",
       "</div>"
      ],
      "text/plain": [
       "                 bat__gene_name mouse_lemur__gene_name-bat  \\\n",
       "human__gene_name                                             \n",
       "SAMD11                   SAMD11                     SAMD11   \n",
       "NOC2L                     NOC2L                      NOC2L   \n",
       "KLHL17                   KLHL17                     KLHL17   \n",
       "ISG15                     ISG15                      ISG15   \n",
       "AGRN                       AGRN                       AGRN   \n",
       "\n",
       "                 mouse__gene_name-bat mouse_lemur__gene_name_x-hlm  \\\n",
       "human__gene_name                                                     \n",
       "SAMD11                         Samd11                       SAMD11   \n",
       "NOC2L                           Noc2l                        NOC2L   \n",
       "KLHL17                         Klhl17                       KLHL17   \n",
       "ISG15                           Isg15                        ISG15   \n",
       "AGRN                             Agrn                         AGRN   \n",
       "\n",
       "                 mouse__gene_name_x-hlm gene_ids-lemur-hlm  n_cells-mouse-hlm  \\\n",
       "human__gene_name                                                                \n",
       "SAMD11                           Samd11           gene2117               5381   \n",
       "NOC2L                             Noc2l           gene2116              48156   \n",
       "KLHL17                           Klhl17           gene2115              11262   \n",
       "ISG15                             Isg15           gene2111              74269   \n",
       "AGRN                               Agrn           gene2110              23538   \n",
       "\n",
       "                 mouse_lemur__gene_name_y-hlm mouse__gene_name_y-hlm  \n",
       "human__gene_name                                                      \n",
       "SAMD11                                 SAMD11                 Samd11  \n",
       "NOC2L                                   NOC2L                  Noc2l  \n",
       "KLHL17                                 KLHL17                 Klhl17  \n",
       "ISG15                                   ISG15                  Isg15  \n",
       "AGRN                                     AGRN                   Agrn  "
      ]
     },
     "metadata": {},
     "output_type": "display_data"
    }
   ],
   "source": [
    "describe(adata_shared.var)"
   ]
  },
  {
   "cell_type": "markdown",
   "id": "statistical-problem",
   "metadata": {},
   "source": [
    "## Assign k-mer type based on alignment status and gene name"
   ]
  },
  {
   "cell_type": "code",
   "execution_count": 33,
   "id": "embedded-classification",
   "metadata": {},
   "outputs": [
    {
     "name": "stdout",
     "output_type": "stream",
     "text": [
      "bat 10560\n",
      "lemur 10560\n",
      "human 10560\n",
      "mouse 10560\n"
     ]
    }
   ],
   "source": [
    "PER_SPECIES_ORTHOLOGOUS_GENES = {\n",
    "    \"bat\": set(adata_shared.var[\"bat__gene_name\"]),\n",
    "    \"lemur\": set(adata_shared.var[\"mouse_lemur__gene_name_x-hlm\"]),\n",
    "    \"human\": set(adata_shared.var.index),\n",
    "    \"mouse\": set(adata_shared.var[\"mouse__gene_name-bat\"]),\n",
    "}\n",
    "for k, v in PER_SPECIES_ORTHOLOGOUS_GENES.items():\n",
    "    print(k, len(v))"
   ]
  },
  {
   "cell_type": "code",
   "execution_count": 34,
   "id": "historic-passion",
   "metadata": {},
   "outputs": [
    {
     "name": "stdout",
     "output_type": "stream",
     "text": [
      "CPU times: user 1h 36min 3s, sys: 4min 32s, total: 1h 40min 35s\n",
      "Wall time: 1h 40min 38s\n"
     ]
    },
    {
     "data": {
      "text/plain": [
       "species  kmer_category                               \n",
       "bat      In ref genome, in a 1:1 orthologous gene        12951997\n",
       "         In ref genome, not in a 1:1 orthologous gene    11802122\n",
       "         In ref genome, not in a gene                    41883743\n",
       "         Not in reference genome                          3350575\n",
       "human    In ref genome, in a 1:1 orthologous gene        17815886\n",
       "         In ref genome, not in a 1:1 orthologous gene    13476922\n",
       "         In ref genome, not in a gene                     1973137\n",
       "         Not in reference genome                           100633\n",
       "lemur    In ref genome, in a 1:1 orthologous gene          756876\n",
       "         In ref genome, not in a 1:1 orthologous gene      594885\n",
       "         In ref genome, not in a gene                      577493\n",
       "         Not in reference genome                           100244\n",
       "mouse    In ref genome, in a 1:1 orthologous gene        31465710\n",
       "         In ref genome, not in a 1:1 orthologous gene    39177340\n",
       "         In ref genome, not in a gene                    12192598\n",
       "         Not in reference genome                          2642348\n",
       "dtype: int64"
      ]
     },
     "execution_count": 34,
     "metadata": {},
     "output_type": "execute_result"
    }
   ],
   "source": [
    "%%time\n",
    "\n",
    "def is_orthologous(query_gene, species, per_species_orthologous_genes=PER_SPECIES_ORTHOLOGOUS_GENES):\n",
    "    orthologous_genes = per_species_orthologous_genes[species]\n",
    "    return query_gene in orthologous_genes\n",
    "\n",
    "\n",
    "def assign_kmer_category(row):\n",
    "    if row.alignment_status == 'unaligned':\n",
    "        return 'Not in reference genome'\n",
    "    elif pd.isnull(row.gene_name):\n",
    "        return 'In ref genome, not in a gene'\n",
    "    elif is_orthologous(row.gene_name, row.species):\n",
    "        return 'In ref genome, in a 1:1 orthologous gene'\n",
    "    else:\n",
    "        return 'In ref genome, not in a 1:1 orthologous gene'\n",
    "\n",
    "hash2kmer['kmer_category'] = hash2kmer.apply(assign_kmer_category, axis=1)\n",
    "hash2kmer.groupby(['species', 'kmer_category']).size()"
   ]
  },
  {
   "cell_type": "code",
   "execution_count": 35,
   "id": "operational-pattern",
   "metadata": {},
   "outputs": [
    {
     "name": "stdout",
     "output_type": "stream",
     "text": [
      "(190862509, 17)\n",
      "--- First 5 entries ---\n"
     ]
    },
    {
     "data": {
      "text/html": [
       "<div>\n",
       "<style scoped>\n",
       "    .dataframe tbody tr th:only-of-type {\n",
       "        vertical-align: middle;\n",
       "    }\n",
       "\n",
       "    .dataframe tbody tr th {\n",
       "        vertical-align: top;\n",
       "    }\n",
       "\n",
       "    .dataframe thead th {\n",
       "        text-align: right;\n",
       "    }\n",
       "</style>\n",
       "<table border=\"1\" class=\"dataframe\">\n",
       "  <thead>\n",
       "    <tr style=\"text-align: right;\">\n",
       "      <th></th>\n",
       "      <th>kmer_in_sequence</th>\n",
       "      <th>kmer_in_alphabet</th>\n",
       "      <th>hashval</th>\n",
       "      <th>read_name</th>\n",
       "      <th>gene_name</th>\n",
       "      <th>species</th>\n",
       "      <th>cell_id</th>\n",
       "      <th>sketch_id</th>\n",
       "      <th>moltype</th>\n",
       "      <th>ksize</th>\n",
       "      <th>scaled</th>\n",
       "      <th>alignment_status</th>\n",
       "      <th>groundtruth_celltype</th>\n",
       "      <th>kmer_category</th>\n",
       "      <th>predicted_celltype</th>\n",
       "      <th>groundtruth_compartment</th>\n",
       "      <th>predicted_compartment</th>\n",
       "    </tr>\n",
       "  </thead>\n",
       "  <tbody>\n",
       "    <tr>\n",
       "      <th>0</th>\n",
       "      <td>CFPLRYGGKKKKNKKGK</td>\n",
       "      <td>afbedfbbddddcddbd</td>\n",
       "      <td>1049274497017264409</td>\n",
       "      <td>A00111:78:H3YHCDMXX:1:1131:31720:15123\\tCB:Z:T...</td>\n",
       "      <td>None</td>\n",
       "      <td>mouse</td>\n",
       "      <td>MACA_21M_F_LUNG_55__TTAGTTCCACTTACGA</td>\n",
       "      <td>alphabet-dayhoff__ksize-51__scaled-10</td>\n",
       "      <td>dayhoff</td>\n",
       "      <td>51</td>\n",
       "      <td>10</td>\n",
       "      <td>unaligned</td>\n",
       "      <td>Monocyte</td>\n",
       "      <td>Not in reference genome</td>\n",
       "      <td>NaN</td>\n",
       "      <td>NaN</td>\n",
       "      <td>NaN</td>\n",
       "    </tr>\n",
       "    <tr>\n",
       "      <th>1</th>\n",
       "      <td>GSSVLIAVRTPEPSPRR</td>\n",
       "      <td>bbbeeebedbbcbbbdd</td>\n",
       "      <td>869748735803144472</td>\n",
       "      <td>A00111:78:H3YHCDMXX:1:1176:19262:14810\\tCB:Z:T...</td>\n",
       "      <td>None</td>\n",
       "      <td>mouse</td>\n",
       "      <td>MACA_21M_F_LUNG_55__TTAGTTCCACTTACGA</td>\n",
       "      <td>alphabet-dayhoff__ksize-51__scaled-10</td>\n",
       "      <td>dayhoff</td>\n",
       "      <td>51</td>\n",
       "      <td>10</td>\n",
       "      <td>unaligned</td>\n",
       "      <td>Monocyte</td>\n",
       "      <td>Not in reference genome</td>\n",
       "      <td>NaN</td>\n",
       "      <td>NaN</td>\n",
       "      <td>NaN</td>\n",
       "    </tr>\n",
       "    <tr>\n",
       "      <th>2</th>\n",
       "      <td>SSVLIAVRTPEPSPRRH</td>\n",
       "      <td>bbeeebedbbcbbbddd</td>\n",
       "      <td>1784576325013871600</td>\n",
       "      <td>A00111:78:H3YHCDMXX:1:1176:19262:14810\\tCB:Z:T...</td>\n",
       "      <td>None</td>\n",
       "      <td>mouse</td>\n",
       "      <td>MACA_21M_F_LUNG_55__TTAGTTCCACTTACGA</td>\n",
       "      <td>alphabet-dayhoff__ksize-51__scaled-10</td>\n",
       "      <td>dayhoff</td>\n",
       "      <td>51</td>\n",
       "      <td>10</td>\n",
       "      <td>unaligned</td>\n",
       "      <td>Monocyte</td>\n",
       "      <td>Not in reference genome</td>\n",
       "      <td>NaN</td>\n",
       "      <td>NaN</td>\n",
       "      <td>NaN</td>\n",
       "    </tr>\n",
       "    <tr>\n",
       "      <th>3</th>\n",
       "      <td>REVQTKYILEGVIQLIQ</td>\n",
       "      <td>dcecbdfeecbeeceec</td>\n",
       "      <td>565750021167986172</td>\n",
       "      <td>A00111:78:H3YHCDMXX:1:1180:1561:11804\\tCB:Z:TT...</td>\n",
       "      <td>None</td>\n",
       "      <td>mouse</td>\n",
       "      <td>MACA_21M_F_LUNG_55__TTAGTTCCACTTACGA</td>\n",
       "      <td>alphabet-dayhoff__ksize-51__scaled-10</td>\n",
       "      <td>dayhoff</td>\n",
       "      <td>51</td>\n",
       "      <td>10</td>\n",
       "      <td>unaligned</td>\n",
       "      <td>Monocyte</td>\n",
       "      <td>Not in reference genome</td>\n",
       "      <td>NaN</td>\n",
       "      <td>NaN</td>\n",
       "      <td>NaN</td>\n",
       "    </tr>\n",
       "    <tr>\n",
       "      <th>4</th>\n",
       "      <td>YILEGVIQLIQDRIGKD</td>\n",
       "      <td>feecbeeceeccdebdc</td>\n",
       "      <td>1093885956538373214</td>\n",
       "      <td>A00111:78:H3YHCDMXX:1:1180:1561:11804\\tCB:Z:TT...</td>\n",
       "      <td>None</td>\n",
       "      <td>mouse</td>\n",
       "      <td>MACA_21M_F_LUNG_55__TTAGTTCCACTTACGA</td>\n",
       "      <td>alphabet-dayhoff__ksize-51__scaled-10</td>\n",
       "      <td>dayhoff</td>\n",
       "      <td>51</td>\n",
       "      <td>10</td>\n",
       "      <td>unaligned</td>\n",
       "      <td>Monocyte</td>\n",
       "      <td>Not in reference genome</td>\n",
       "      <td>NaN</td>\n",
       "      <td>NaN</td>\n",
       "      <td>NaN</td>\n",
       "    </tr>\n",
       "  </tbody>\n",
       "</table>\n",
       "</div>"
      ],
      "text/plain": [
       "    kmer_in_sequence   kmer_in_alphabet              hashval  \\\n",
       "0  CFPLRYGGKKKKNKKGK  afbedfbbddddcddbd  1049274497017264409   \n",
       "1  GSSVLIAVRTPEPSPRR  bbbeeebedbbcbbbdd   869748735803144472   \n",
       "2  SSVLIAVRTPEPSPRRH  bbeeebedbbcbbbddd  1784576325013871600   \n",
       "3  REVQTKYILEGVIQLIQ  dcecbdfeecbeeceec   565750021167986172   \n",
       "4  YILEGVIQLIQDRIGKD  feecbeeceeccdebdc  1093885956538373214   \n",
       "\n",
       "                                           read_name gene_name species  \\\n",
       "0  A00111:78:H3YHCDMXX:1:1131:31720:15123\\tCB:Z:T...      None   mouse   \n",
       "1  A00111:78:H3YHCDMXX:1:1176:19262:14810\\tCB:Z:T...      None   mouse   \n",
       "2  A00111:78:H3YHCDMXX:1:1176:19262:14810\\tCB:Z:T...      None   mouse   \n",
       "3  A00111:78:H3YHCDMXX:1:1180:1561:11804\\tCB:Z:TT...      None   mouse   \n",
       "4  A00111:78:H3YHCDMXX:1:1180:1561:11804\\tCB:Z:TT...      None   mouse   \n",
       "\n",
       "                                cell_id  \\\n",
       "0  MACA_21M_F_LUNG_55__TTAGTTCCACTTACGA   \n",
       "1  MACA_21M_F_LUNG_55__TTAGTTCCACTTACGA   \n",
       "2  MACA_21M_F_LUNG_55__TTAGTTCCACTTACGA   \n",
       "3  MACA_21M_F_LUNG_55__TTAGTTCCACTTACGA   \n",
       "4  MACA_21M_F_LUNG_55__TTAGTTCCACTTACGA   \n",
       "\n",
       "                               sketch_id  moltype ksize  scaled  \\\n",
       "0  alphabet-dayhoff__ksize-51__scaled-10  dayhoff    51      10   \n",
       "1  alphabet-dayhoff__ksize-51__scaled-10  dayhoff    51      10   \n",
       "2  alphabet-dayhoff__ksize-51__scaled-10  dayhoff    51      10   \n",
       "3  alphabet-dayhoff__ksize-51__scaled-10  dayhoff    51      10   \n",
       "4  alphabet-dayhoff__ksize-51__scaled-10  dayhoff    51      10   \n",
       "\n",
       "  alignment_status groundtruth_celltype            kmer_category  \\\n",
       "0        unaligned             Monocyte  Not in reference genome   \n",
       "1        unaligned             Monocyte  Not in reference genome   \n",
       "2        unaligned             Monocyte  Not in reference genome   \n",
       "3        unaligned             Monocyte  Not in reference genome   \n",
       "4        unaligned             Monocyte  Not in reference genome   \n",
       "\n",
       "  predicted_celltype groundtruth_compartment predicted_compartment  \n",
       "0                NaN                     NaN                   NaN  \n",
       "1                NaN                     NaN                   NaN  \n",
       "2                NaN                     NaN                   NaN  \n",
       "3                NaN                     NaN                   NaN  \n",
       "4                NaN                     NaN                   NaN  "
      ]
     },
     "metadata": {},
     "output_type": "display_data"
    }
   ],
   "source": [
    "hash2kmer_with_predictions = hash2kmer.join(celltype_predictions, on='cell_id')\n",
    "describe(hash2kmer_with_predictions)"
   ]
  },
  {
   "cell_type": "code",
   "execution_count": 36,
   "id": "entitled-control",
   "metadata": {},
   "outputs": [],
   "source": [
    "kmer_categories = (\n",
    "    \"Not in reference genome\",\n",
    "    \"In ref genome, not in a gene\",\n",
    "    \"In ref genome, not in a 1:1 orthologous gene\",\n",
    "    \"In ref genome, in a 1:1 orthologous gene\",\n",
    ")"
   ]
  },
  {
   "cell_type": "code",
   "execution_count": 37,
   "id": "suffering-negative",
   "metadata": {},
   "outputs": [],
   "source": [
    "hash2kmer_with_predictions['kmer_category'] = pd.Categorical(hash2kmer_with_predictions['kmer_category'], categories=kmer_categories, ordered=True)"
   ]
  },
  {
   "cell_type": "markdown",
   "id": "excellent-jordan",
   "metadata": {},
   "source": [
    "## Write hash2kmer with predictions and orthology to parquet"
   ]
  },
  {
   "cell_type": "code",
   "execution_count": 38,
   "id": "adapted-significance",
   "metadata": {},
   "outputs": [],
   "source": [
    "hash2kmer_with_predictions['hashval'] = hash2kmer_with_predictions['hashval'].astype(str)"
   ]
  },
  {
   "cell_type": "code",
   "execution_count": 39,
   "id": "unlike-looking",
   "metadata": {},
   "outputs": [],
   "source": [
    "hash2kmer_with_predictions.to_parquet(\n",
    "    os.path.join(sig_outdir_base, f\"aggregated-hash2kmer-with-predicted-cells--{sketch_id}--with-orthology.parquet\")\n",
    ")"
   ]
  },
  {
   "cell_type": "code",
   "execution_count": 40,
   "id": "nominated-nurse",
   "metadata": {},
   "outputs": [
    {
     "data": {
      "text/plain": [
       "2"
      ]
     },
     "execution_count": 40,
     "metadata": {},
     "output_type": "execute_result"
    }
   ],
   "source": [
    "1+1"
   ]
  },
  {
   "cell_type": "markdown",
   "id": "composed-december",
   "metadata": {},
   "source": [
    "## Get number of k-mers in different categories per `groundtruth_celltype`"
   ]
  },
  {
   "cell_type": "code",
   "execution_count": 41,
   "id": "spoken-scoop",
   "metadata": {},
   "outputs": [
    {
     "name": "stdout",
     "output_type": "stream",
     "text": [
      "CPU times: user 2min 55s, sys: 34.3 s, total: 3min 30s\n",
      "Wall time: 3min 22s\n"
     ]
    },
    {
     "data": {
      "text/plain": [
       "species  groundtruth_celltype             kmer_category                               \n",
       "bat      Alveolar Epithelial Type 2       Not in reference genome                          391623\n",
       "                                          In ref genome, not in a gene                    1865345\n",
       "                                          In ref genome, not in a 1:1 orthologous gene     584145\n",
       "                                          In ref genome, in a 1:1 orthologous gene         689674\n",
       "         B cell                           Not in reference genome                           39302\n",
       "                                                                                           ...   \n",
       "mouse    Smooth Muscle and Myofibroblast  In ref genome, in a 1:1 orthologous gene          48120\n",
       "         T cell                           Not in reference genome                           97250\n",
       "                                          In ref genome, not in a gene                     294772\n",
       "                                          In ref genome, not in a 1:1 orthologous gene     532747\n",
       "                                          In ref genome, in a 1:1 orthologous gene         404116\n",
       "Name: percent_kmers, Length: 160, dtype: int64"
      ]
     },
     "execution_count": 41,
     "metadata": {},
     "output_type": "execute_result"
    }
   ],
   "source": [
    "%%time\n",
    "\n",
    "celltype_col = \"groundtruth_celltype\"\n",
    "\n",
    "diagnostic_kmers_n_per_category = hash2kmer_with_predictions.groupby(\n",
    "    [\"species\", celltype_col, \"kmer_category\"]\n",
    ").hashval.nunique()\n",
    "diagnostic_kmers_n_per_category.name = \"percent_kmers\"\n",
    "diagnostic_kmers_n_per_category"
   ]
  },
  {
   "cell_type": "code",
   "execution_count": 42,
   "id": "lucky-skill",
   "metadata": {},
   "outputs": [
    {
     "data": {
      "text/html": [
       "<div>\n",
       "<style scoped>\n",
       "    .dataframe tbody tr th:only-of-type {\n",
       "        vertical-align: middle;\n",
       "    }\n",
       "\n",
       "    .dataframe tbody tr th {\n",
       "        vertical-align: top;\n",
       "    }\n",
       "\n",
       "    .dataframe thead th {\n",
       "        text-align: right;\n",
       "    }\n",
       "</style>\n",
       "<table border=\"1\" class=\"dataframe\">\n",
       "  <thead>\n",
       "    <tr style=\"text-align: right;\">\n",
       "      <th></th>\n",
       "      <th>species</th>\n",
       "      <th>groundtruth_celltype</th>\n",
       "      <th>kmer_category</th>\n",
       "      <th>percent_kmers</th>\n",
       "    </tr>\n",
       "  </thead>\n",
       "  <tbody>\n",
       "    <tr>\n",
       "      <th>0</th>\n",
       "      <td>bat</td>\n",
       "      <td>Alveolar Epithelial Type 2</td>\n",
       "      <td>Not in reference genome</td>\n",
       "      <td>11.091663</td>\n",
       "    </tr>\n",
       "    <tr>\n",
       "      <th>1</th>\n",
       "      <td>bat</td>\n",
       "      <td>Alveolar Epithelial Type 2</td>\n",
       "      <td>In ref genome, not in a gene</td>\n",
       "      <td>52.830856</td>\n",
       "    </tr>\n",
       "    <tr>\n",
       "      <th>2</th>\n",
       "      <td>bat</td>\n",
       "      <td>Alveolar Epithelial Type 2</td>\n",
       "      <td>In ref genome, not in a 1:1 orthologous gene</td>\n",
       "      <td>16.544329</td>\n",
       "    </tr>\n",
       "    <tr>\n",
       "      <th>3</th>\n",
       "      <td>bat</td>\n",
       "      <td>Alveolar Epithelial Type 2</td>\n",
       "      <td>In ref genome, in a 1:1 orthologous gene</td>\n",
       "      <td>19.533152</td>\n",
       "    </tr>\n",
       "    <tr>\n",
       "      <th>4</th>\n",
       "      <td>bat</td>\n",
       "      <td>B cell</td>\n",
       "      <td>Not in reference genome</td>\n",
       "      <td>7.596072</td>\n",
       "    </tr>\n",
       "    <tr>\n",
       "      <th>...</th>\n",
       "      <td>...</td>\n",
       "      <td>...</td>\n",
       "      <td>...</td>\n",
       "      <td>...</td>\n",
       "    </tr>\n",
       "    <tr>\n",
       "      <th>155</th>\n",
       "      <td>mouse</td>\n",
       "      <td>Smooth Muscle and Myofibroblast</td>\n",
       "      <td>In ref genome, in a 1:1 orthologous gene</td>\n",
       "      <td>42.646720</td>\n",
       "    </tr>\n",
       "    <tr>\n",
       "      <th>156</th>\n",
       "      <td>mouse</td>\n",
       "      <td>T cell</td>\n",
       "      <td>Not in reference genome</td>\n",
       "      <td>7.318165</td>\n",
       "    </tr>\n",
       "    <tr>\n",
       "      <th>157</th>\n",
       "      <td>mouse</td>\n",
       "      <td>T cell</td>\n",
       "      <td>In ref genome, not in a gene</td>\n",
       "      <td>22.181904</td>\n",
       "    </tr>\n",
       "    <tr>\n",
       "      <th>158</th>\n",
       "      <td>mouse</td>\n",
       "      <td>T cell</td>\n",
       "      <td>In ref genome, not in a 1:1 orthologous gene</td>\n",
       "      <td>40.089775</td>\n",
       "    </tr>\n",
       "    <tr>\n",
       "      <th>159</th>\n",
       "      <td>mouse</td>\n",
       "      <td>T cell</td>\n",
       "      <td>In ref genome, in a 1:1 orthologous gene</td>\n",
       "      <td>30.410156</td>\n",
       "    </tr>\n",
       "  </tbody>\n",
       "</table>\n",
       "<p>160 rows × 4 columns</p>\n",
       "</div>"
      ],
      "text/plain": [
       "    species             groundtruth_celltype  \\\n",
       "0       bat       Alveolar Epithelial Type 2   \n",
       "1       bat       Alveolar Epithelial Type 2   \n",
       "2       bat       Alveolar Epithelial Type 2   \n",
       "3       bat       Alveolar Epithelial Type 2   \n",
       "4       bat                           B cell   \n",
       "..      ...                              ...   \n",
       "155   mouse  Smooth Muscle and Myofibroblast   \n",
       "156   mouse                           T cell   \n",
       "157   mouse                           T cell   \n",
       "158   mouse                           T cell   \n",
       "159   mouse                           T cell   \n",
       "\n",
       "                                    kmer_category  percent_kmers  \n",
       "0                         Not in reference genome      11.091663  \n",
       "1                    In ref genome, not in a gene      52.830856  \n",
       "2    In ref genome, not in a 1:1 orthologous gene      16.544329  \n",
       "3        In ref genome, in a 1:1 orthologous gene      19.533152  \n",
       "4                         Not in reference genome       7.596072  \n",
       "..                                            ...            ...  \n",
       "155      In ref genome, in a 1:1 orthologous gene      42.646720  \n",
       "156                       Not in reference genome       7.318165  \n",
       "157                  In ref genome, not in a gene      22.181904  \n",
       "158  In ref genome, not in a 1:1 orthologous gene      40.089775  \n",
       "159      In ref genome, in a 1:1 orthologous gene      30.410156  \n",
       "\n",
       "[160 rows x 4 columns]"
      ]
     },
     "execution_count": 42,
     "metadata": {},
     "output_type": "execute_result"
    }
   ],
   "source": [
    "diagnostic_kmers_n_per_category_df = diagnostic_kmers_n_per_category.groupby(level=[0, 1]).apply(lambda x: 100*x/x.sum()).reset_index()\n",
    "diagnostic_kmers_n_per_category_df"
   ]
  },
  {
   "cell_type": "markdown",
   "id": "a558b71b-5491-49f9-ae9e-043ad447fc0d",
   "metadata": {},
   "source": [
    "### Write to file!!\n"
   ]
  },
  {
   "cell_type": "code",
   "execution_count": 2,
   "id": "14ed497d-59ff-444a-bbfd-3f8c7b884366",
   "metadata": {},
   "outputs": [
    {
     "ename": "NameError",
     "evalue": "name 'diagnostic_kmers_n_per_category_df' is not defined",
     "output_type": "error",
     "traceback": [
      "\u001b[0;31m---------------------------------------------------------------------------\u001b[0m",
      "\u001b[0;31mNameError\u001b[0m                                 Traceback (most recent call last)",
      "\u001b[0;32m<ipython-input-2-efd523de6b73>\u001b[0m in \u001b[0;36m<module>\u001b[0;34m\u001b[0m\n\u001b[0;32m----> 1\u001b[0;31m diagnostic_kmers_n_per_category_df.to_parquet(\n\u001b[0m\u001b[1;32m      2\u001b[0m     os.path.join(\n\u001b[1;32m      3\u001b[0m         \u001b[0msig_outdir_base\u001b[0m\u001b[0;34m,\u001b[0m\u001b[0;34m\u001b[0m\u001b[0;34m\u001b[0m\u001b[0m\n\u001b[1;32m      4\u001b[0m         \u001b[0;34mf\"n-kmers-per-orthology-category-per-celltye-per-species.parquet\"\u001b[0m\u001b[0;34m,\u001b[0m\u001b[0;34m\u001b[0m\u001b[0;34m\u001b[0m\u001b[0m\n\u001b[1;32m      5\u001b[0m     )\n",
      "\u001b[0;31mNameError\u001b[0m: name 'diagnostic_kmers_n_per_category_df' is not defined"
     ]
    }
   ],
   "source": [
    "diagnostic_kmers_n_per_category_df.to_parquet(\n",
    "    os.path.join(\n",
    "        sig_outdir_base,\n",
    "        f\"n-kmers-per-orthology-category-per-celltye-per-species.parquet\",\n",
    "    )\n",
    ")"
   ]
  },
  {
   "cell_type": "code",
   "execution_count": 43,
   "id": "premier-whale",
   "metadata": {},
   "outputs": [
    {
     "data": {
      "text/html": [
       "<div>\n",
       "<style scoped>\n",
       "    .dataframe tbody tr th:only-of-type {\n",
       "        vertical-align: middle;\n",
       "    }\n",
       "\n",
       "    .dataframe tbody tr th {\n",
       "        vertical-align: top;\n",
       "    }\n",
       "\n",
       "    .dataframe thead th {\n",
       "        text-align: right;\n",
       "    }\n",
       "</style>\n",
       "<table border=\"1\" class=\"dataframe\">\n",
       "  <thead>\n",
       "    <tr style=\"text-align: right;\">\n",
       "      <th></th>\n",
       "      <th>species</th>\n",
       "      <th>groundtruth_celltype</th>\n",
       "      <th>kmer_category</th>\n",
       "      <th>percent_kmers</th>\n",
       "    </tr>\n",
       "  </thead>\n",
       "  <tbody>\n",
       "    <tr>\n",
       "      <th>152</th>\n",
       "      <td>mouse</td>\n",
       "      <td>Smooth Muscle and Myofibroblast</td>\n",
       "      <td>Not in reference genome</td>\n",
       "      <td>4.056401</td>\n",
       "    </tr>\n",
       "    <tr>\n",
       "      <th>120</th>\n",
       "      <td>mouse</td>\n",
       "      <td>Alveolar Epithelial Type 2</td>\n",
       "      <td>Not in reference genome</td>\n",
       "      <td>4.611873</td>\n",
       "    </tr>\n",
       "    <tr>\n",
       "      <th>136</th>\n",
       "      <td>mouse</td>\n",
       "      <td>Fibroblast</td>\n",
       "      <td>Not in reference genome</td>\n",
       "      <td>5.783846</td>\n",
       "    </tr>\n",
       "    <tr>\n",
       "      <th>148</th>\n",
       "      <td>mouse</td>\n",
       "      <td>Natural Killer T cell</td>\n",
       "      <td>Not in reference genome</td>\n",
       "      <td>6.092583</td>\n",
       "    </tr>\n",
       "    <tr>\n",
       "      <th>132</th>\n",
       "      <td>mouse</td>\n",
       "      <td>Dendritic</td>\n",
       "      <td>Not in reference genome</td>\n",
       "      <td>6.581250</td>\n",
       "    </tr>\n",
       "    <tr>\n",
       "      <th>128</th>\n",
       "      <td>mouse</td>\n",
       "      <td>Capillary</td>\n",
       "      <td>Not in reference genome</td>\n",
       "      <td>6.754631</td>\n",
       "    </tr>\n",
       "    <tr>\n",
       "      <th>156</th>\n",
       "      <td>mouse</td>\n",
       "      <td>T cell</td>\n",
       "      <td>Not in reference genome</td>\n",
       "      <td>7.318165</td>\n",
       "    </tr>\n",
       "    <tr>\n",
       "      <th>140</th>\n",
       "      <td>mouse</td>\n",
       "      <td>Macrophage</td>\n",
       "      <td>Not in reference genome</td>\n",
       "      <td>7.374086</td>\n",
       "    </tr>\n",
       "    <tr>\n",
       "      <th>124</th>\n",
       "      <td>mouse</td>\n",
       "      <td>B cell</td>\n",
       "      <td>Not in reference genome</td>\n",
       "      <td>8.734350</td>\n",
       "    </tr>\n",
       "    <tr>\n",
       "      <th>144</th>\n",
       "      <td>mouse</td>\n",
       "      <td>Monocyte</td>\n",
       "      <td>Not in reference genome</td>\n",
       "      <td>8.951451</td>\n",
       "    </tr>\n",
       "  </tbody>\n",
       "</table>\n",
       "</div>"
      ],
      "text/plain": [
       "    species             groundtruth_celltype            kmer_category  \\\n",
       "152   mouse  Smooth Muscle and Myofibroblast  Not in reference genome   \n",
       "120   mouse       Alveolar Epithelial Type 2  Not in reference genome   \n",
       "136   mouse                       Fibroblast  Not in reference genome   \n",
       "148   mouse            Natural Killer T cell  Not in reference genome   \n",
       "132   mouse                        Dendritic  Not in reference genome   \n",
       "128   mouse                        Capillary  Not in reference genome   \n",
       "156   mouse                           T cell  Not in reference genome   \n",
       "140   mouse                       Macrophage  Not in reference genome   \n",
       "124   mouse                           B cell  Not in reference genome   \n",
       "144   mouse                         Monocyte  Not in reference genome   \n",
       "\n",
       "     percent_kmers  \n",
       "152       4.056401  \n",
       "120       4.611873  \n",
       "136       5.783846  \n",
       "148       6.092583  \n",
       "132       6.581250  \n",
       "128       6.754631  \n",
       "156       7.318165  \n",
       "140       7.374086  \n",
       "124       8.734350  \n",
       "144       8.951451  "
      ]
     },
     "execution_count": 43,
     "metadata": {},
     "output_type": "execute_result"
    }
   ],
   "source": [
    "diagnostic_kmers_n_per_category_df.query(\n",
    "    '(species == \"mouse\") and (kmer_category == \"Not in reference genome\")'\n",
    ").sort_values('percent_kmers')"
   ]
  },
  {
   "cell_type": "code",
   "execution_count": 44,
   "id": "fewer-taylor",
   "metadata": {},
   "outputs": [
    {
     "data": {
      "text/html": [
       "<div>\n",
       "<style scoped>\n",
       "    .dataframe tbody tr th:only-of-type {\n",
       "        vertical-align: middle;\n",
       "    }\n",
       "\n",
       "    .dataframe tbody tr th {\n",
       "        vertical-align: top;\n",
       "    }\n",
       "\n",
       "    .dataframe thead th {\n",
       "        text-align: right;\n",
       "    }\n",
       "</style>\n",
       "<table border=\"1\" class=\"dataframe\">\n",
       "  <thead>\n",
       "    <tr style=\"text-align: right;\">\n",
       "      <th></th>\n",
       "      <th>species</th>\n",
       "      <th>groundtruth_celltype</th>\n",
       "      <th>kmer_category</th>\n",
       "      <th>percent_kmers</th>\n",
       "    </tr>\n",
       "  </thead>\n",
       "  <tbody>\n",
       "    <tr>\n",
       "      <th>152</th>\n",
       "      <td>mouse</td>\n",
       "      <td>Smooth Muscle and Myofibroblast</td>\n",
       "      <td>Not in reference genome</td>\n",
       "      <td>4.056401</td>\n",
       "    </tr>\n",
       "    <tr>\n",
       "      <th>120</th>\n",
       "      <td>mouse</td>\n",
       "      <td>Alveolar Epithelial Type 2</td>\n",
       "      <td>Not in reference genome</td>\n",
       "      <td>4.611873</td>\n",
       "    </tr>\n",
       "    <tr>\n",
       "      <th>136</th>\n",
       "      <td>mouse</td>\n",
       "      <td>Fibroblast</td>\n",
       "      <td>Not in reference genome</td>\n",
       "      <td>5.783846</td>\n",
       "    </tr>\n",
       "    <tr>\n",
       "      <th>148</th>\n",
       "      <td>mouse</td>\n",
       "      <td>Natural Killer T cell</td>\n",
       "      <td>Not in reference genome</td>\n",
       "      <td>6.092583</td>\n",
       "    </tr>\n",
       "    <tr>\n",
       "      <th>132</th>\n",
       "      <td>mouse</td>\n",
       "      <td>Dendritic</td>\n",
       "      <td>Not in reference genome</td>\n",
       "      <td>6.581250</td>\n",
       "    </tr>\n",
       "    <tr>\n",
       "      <th>128</th>\n",
       "      <td>mouse</td>\n",
       "      <td>Capillary</td>\n",
       "      <td>Not in reference genome</td>\n",
       "      <td>6.754631</td>\n",
       "    </tr>\n",
       "    <tr>\n",
       "      <th>156</th>\n",
       "      <td>mouse</td>\n",
       "      <td>T cell</td>\n",
       "      <td>Not in reference genome</td>\n",
       "      <td>7.318165</td>\n",
       "    </tr>\n",
       "    <tr>\n",
       "      <th>140</th>\n",
       "      <td>mouse</td>\n",
       "      <td>Macrophage</td>\n",
       "      <td>Not in reference genome</td>\n",
       "      <td>7.374086</td>\n",
       "    </tr>\n",
       "    <tr>\n",
       "      <th>124</th>\n",
       "      <td>mouse</td>\n",
       "      <td>B cell</td>\n",
       "      <td>Not in reference genome</td>\n",
       "      <td>8.734350</td>\n",
       "    </tr>\n",
       "    <tr>\n",
       "      <th>144</th>\n",
       "      <td>mouse</td>\n",
       "      <td>Monocyte</td>\n",
       "      <td>Not in reference genome</td>\n",
       "      <td>8.951451</td>\n",
       "    </tr>\n",
       "  </tbody>\n",
       "</table>\n",
       "</div>"
      ],
      "text/plain": [
       "    species             groundtruth_celltype            kmer_category  \\\n",
       "152   mouse  Smooth Muscle and Myofibroblast  Not in reference genome   \n",
       "120   mouse       Alveolar Epithelial Type 2  Not in reference genome   \n",
       "136   mouse                       Fibroblast  Not in reference genome   \n",
       "148   mouse            Natural Killer T cell  Not in reference genome   \n",
       "132   mouse                        Dendritic  Not in reference genome   \n",
       "128   mouse                        Capillary  Not in reference genome   \n",
       "156   mouse                           T cell  Not in reference genome   \n",
       "140   mouse                       Macrophage  Not in reference genome   \n",
       "124   mouse                           B cell  Not in reference genome   \n",
       "144   mouse                         Monocyte  Not in reference genome   \n",
       "\n",
       "     percent_kmers  \n",
       "152       4.056401  \n",
       "120       4.611873  \n",
       "136       5.783846  \n",
       "148       6.092583  \n",
       "132       6.581250  \n",
       "128       6.754631  \n",
       "156       7.318165  \n",
       "140       7.374086  \n",
       "124       8.734350  \n",
       "144       8.951451  "
      ]
     },
     "execution_count": 44,
     "metadata": {},
     "output_type": "execute_result"
    }
   ],
   "source": [
    "diagnostic_kmers_n_per_category_df.query(\n",
    "    '(species == \"mouse\") and (kmer_category == \"Not in reference genome\")'\n",
    ").sort_values('percent_kmers')"
   ]
  },
  {
   "cell_type": "code",
   "execution_count": 45,
   "id": "secure-outdoors",
   "metadata": {},
   "outputs": [
    {
     "data": {
      "text/html": [
       "<div>\n",
       "<style scoped>\n",
       "    .dataframe tbody tr th:only-of-type {\n",
       "        vertical-align: middle;\n",
       "    }\n",
       "\n",
       "    .dataframe tbody tr th {\n",
       "        vertical-align: top;\n",
       "    }\n",
       "\n",
       "    .dataframe thead th {\n",
       "        text-align: right;\n",
       "    }\n",
       "</style>\n",
       "<table border=\"1\" class=\"dataframe\">\n",
       "  <thead>\n",
       "    <tr style=\"text-align: right;\">\n",
       "      <th></th>\n",
       "      <th>species</th>\n",
       "      <th>groundtruth_celltype</th>\n",
       "      <th>kmer_category</th>\n",
       "      <th>percent_kmers</th>\n",
       "    </tr>\n",
       "  </thead>\n",
       "  <tbody>\n",
       "    <tr>\n",
       "      <th>104</th>\n",
       "      <td>lemur</td>\n",
       "      <td>Monocyte</td>\n",
       "      <td>Not in reference genome</td>\n",
       "      <td>3.405447</td>\n",
       "    </tr>\n",
       "    <tr>\n",
       "      <th>84</th>\n",
       "      <td>lemur</td>\n",
       "      <td>B cell</td>\n",
       "      <td>Not in reference genome</td>\n",
       "      <td>3.751750</td>\n",
       "    </tr>\n",
       "    <tr>\n",
       "      <th>100</th>\n",
       "      <td>lemur</td>\n",
       "      <td>Macrophage</td>\n",
       "      <td>Not in reference genome</td>\n",
       "      <td>4.369957</td>\n",
       "    </tr>\n",
       "    <tr>\n",
       "      <th>80</th>\n",
       "      <td>lemur</td>\n",
       "      <td>Alveolar Epithelial Type 2</td>\n",
       "      <td>Not in reference genome</td>\n",
       "      <td>4.455482</td>\n",
       "    </tr>\n",
       "    <tr>\n",
       "      <th>88</th>\n",
       "      <td>lemur</td>\n",
       "      <td>Capillary</td>\n",
       "      <td>Not in reference genome</td>\n",
       "      <td>4.700067</td>\n",
       "    </tr>\n",
       "    <tr>\n",
       "      <th>116</th>\n",
       "      <td>lemur</td>\n",
       "      <td>T cell</td>\n",
       "      <td>Not in reference genome</td>\n",
       "      <td>4.749934</td>\n",
       "    </tr>\n",
       "    <tr>\n",
       "      <th>108</th>\n",
       "      <td>lemur</td>\n",
       "      <td>Natural Killer T cell</td>\n",
       "      <td>Not in reference genome</td>\n",
       "      <td>4.772745</td>\n",
       "    </tr>\n",
       "    <tr>\n",
       "      <th>92</th>\n",
       "      <td>lemur</td>\n",
       "      <td>Dendritic</td>\n",
       "      <td>Not in reference genome</td>\n",
       "      <td>5.314372</td>\n",
       "    </tr>\n",
       "    <tr>\n",
       "      <th>96</th>\n",
       "      <td>lemur</td>\n",
       "      <td>Fibroblast</td>\n",
       "      <td>Not in reference genome</td>\n",
       "      <td>5.755118</td>\n",
       "    </tr>\n",
       "    <tr>\n",
       "      <th>112</th>\n",
       "      <td>lemur</td>\n",
       "      <td>Smooth Muscle and Myofibroblast</td>\n",
       "      <td>Not in reference genome</td>\n",
       "      <td>NaN</td>\n",
       "    </tr>\n",
       "  </tbody>\n",
       "</table>\n",
       "</div>"
      ],
      "text/plain": [
       "    species             groundtruth_celltype            kmer_category  \\\n",
       "104   lemur                         Monocyte  Not in reference genome   \n",
       "84    lemur                           B cell  Not in reference genome   \n",
       "100   lemur                       Macrophage  Not in reference genome   \n",
       "80    lemur       Alveolar Epithelial Type 2  Not in reference genome   \n",
       "88    lemur                        Capillary  Not in reference genome   \n",
       "116   lemur                           T cell  Not in reference genome   \n",
       "108   lemur            Natural Killer T cell  Not in reference genome   \n",
       "92    lemur                        Dendritic  Not in reference genome   \n",
       "96    lemur                       Fibroblast  Not in reference genome   \n",
       "112   lemur  Smooth Muscle and Myofibroblast  Not in reference genome   \n",
       "\n",
       "     percent_kmers  \n",
       "104       3.405447  \n",
       "84        3.751750  \n",
       "100       4.369957  \n",
       "80        4.455482  \n",
       "88        4.700067  \n",
       "116       4.749934  \n",
       "108       4.772745  \n",
       "92        5.314372  \n",
       "96        5.755118  \n",
       "112            NaN  "
      ]
     },
     "execution_count": 45,
     "metadata": {},
     "output_type": "execute_result"
    }
   ],
   "source": [
    "diagnostic_kmers_n_per_category_df.query(\n",
    "    '(species == \"lemur\") and (kmer_category == \"Not in reference genome\")'\n",
    ").sort_values('percent_kmers')"
   ]
  },
  {
   "cell_type": "markdown",
   "id": "violent-korea",
   "metadata": {},
   "source": [
    "# Plot percentage of kmers in ref genome, etc"
   ]
  },
  {
   "cell_type": "code",
   "execution_count": 46,
   "id": "atlantic-newman",
   "metadata": {},
   "outputs": [
    {
     "name": "stdout",
     "output_type": "stream",
     "text": [
      "mkdir: cannot create directory ‘/home/olga/googledrive/kmer-homology-paper/figures/kmer_gene_orthology’: File exists\n"
     ]
    }
   ],
   "source": [
    "figure_folder = '/home/olga/googledrive/kmer-homology-paper/figures/kmer_gene_orthology'\n",
    "! mkdir $figure_folder"
   ]
  },
  {
   "cell_type": "code",
   "execution_count": 47,
   "id": "conceptual-asian",
   "metadata": {},
   "outputs": [],
   "source": [
    "species_order = 'human', 'lemur', 'mouse', 'bat'\n",
    "diagnostic_kmers_n_per_category_df['species'] = pd.Categorical(diagnostic_kmers_n_per_category_df['species'], categories=species_order, ordered=True)"
   ]
  },
  {
   "cell_type": "code",
   "execution_count": 48,
   "id": "great-wound",
   "metadata": {},
   "outputs": [
    {
     "data": {
      "image/png": "[encoded data removed]",
      "text/plain": [
       "<Figure size 979.5x288 with 10 Axes>"
      ]
     },
     "metadata": {
      "needs_background": "light"
     },
     "output_type": "display_data"
    }
   ],
   "source": [
    "g = sns.catplot(\n",
    "    data=diagnostic_kmers_n_per_category_df,\n",
    "    col=celltype_col,\n",
    "    order=species_order,\n",
    "    col_wrap=5,\n",
    "    y=\"species\",\n",
    "    x=\"percent_kmers\",\n",
    "    hue=\"kmer_category\",\n",
    "    hue_order=kmer_categories,\n",
    "    palette='mako',\n",
    "    kind='bar',\n",
    "    height=2,\n",
    "    linewidth=1,\n",
    "    edgecolor='white'\n",
    "#     legend=True,\n",
    ")\n",
    "g.set_titles('{col_name}')\n",
    "for ax in g.axes.flat:\n",
    "    title = ax.get_title()\n",
    "    if title == 'Smooth Muscle and Myofibroblast':\n",
    "        ax.set_title('Smooth Muscle\\nand Myofibroblast', fontsize=10, pad=-20)\n",
    "pdf = os.path.join(figure_folder, 'unstacked_barplot__col-celltype__y-species__hue-kmer_category.pdf')\n",
    "g.savefig(pdf)"
   ]
  },
  {
   "cell_type": "code",
   "execution_count": 49,
   "id": "separate-delhi",
   "metadata": {},
   "outputs": [
    {
     "data": {
      "image/png": "[encoded data removed]",
      "text/plain": [
       "<Figure size 924.625x180 with 4 Axes>"
      ]
     },
     "metadata": {
      "needs_background": "light"
     },
     "output_type": "display_data"
    }
   ],
   "source": [
    "g = sns.catplot(\n",
    "    data=diagnostic_kmers_n_per_category_df,\n",
    "    hue=celltype_col,\n",
    "#     col_wrap=2,\n",
    "    y=\"species\",\n",
    "    order=species_order,\n",
    "    x=\"percent_kmers\",\n",
    "    col=\"kmer_category\",\n",
    "    col_order=kmer_categories,\n",
    "    palette='tab10',\n",
    "    kind='bar',\n",
    "    height=2.5,\n",
    "    sharex=True,\n",
    "        linewidth=.5,\n",
    "    edgecolor='white'\n",
    "#     legend=True,\n",
    ")\n",
    "g.set_titles('{col_name}')\n",
    "for ax in g.axes.flat:\n",
    "    if ax.is_last_row():\n",
    "        title = ax.get_title()\n",
    "        title = title.replace(',', ',\\n')\n",
    "        ax.set_title(title, fontsize=10, pad=-20)\n",
    "#     if ax.is_first_col():\n",
    "#         ax.set(xscale='log')\n",
    "pdf = os.path.join(figure_folder, 'unstacked_barplot__col-kmer_category__y-species__hue-celltype.pdf')\n",
    "g.savefig(pdf)"
   ]
  },
  {
   "cell_type": "code",
   "execution_count": 50,
   "id": "confirmed-praise",
   "metadata": {},
   "outputs": [],
   "source": [
    "species_order_no_lemur = ['human','mouse', 'bat']"
   ]
  },
  {
   "cell_type": "code",
   "execution_count": 51,
   "id": "essential-ecuador",
   "metadata": {},
   "outputs": [
    {
     "name": "stdout",
     "output_type": "stream",
     "text": [
      "(120, 4)\n",
      "--- First 5 entries ---\n"
     ]
    },
    {
     "name": "stderr",
     "output_type": "stream",
     "text": [
      "/home/olga/miniconda3/envs/immune-evolution/lib/python3.7/site-packages/pandas/core/generic.py:5165: SettingWithCopyWarning: \n",
      "A value is trying to be set on a copy of a slice from a DataFrame.\n",
      "Try using .loc[row_indexer,col_indexer] = value instead\n",
      "\n",
      "See the caveats in the documentation: https://pandas.pydata.org/pandas-docs/stable/user_guide/indexing.html#returning-a-view-versus-a-copy\n",
      "  self[name] = value\n"
     ]
    },
    {
     "data": {
      "text/html": [
       "<div>\n",
       "<style scoped>\n",
       "    .dataframe tbody tr th:only-of-type {\n",
       "        vertical-align: middle;\n",
       "    }\n",
       "\n",
       "    .dataframe tbody tr th {\n",
       "        vertical-align: top;\n",
       "    }\n",
       "\n",
       "    .dataframe thead th {\n",
       "        text-align: right;\n",
       "    }\n",
       "</style>\n",
       "<table border=\"1\" class=\"dataframe\">\n",
       "  <thead>\n",
       "    <tr style=\"text-align: right;\">\n",
       "      <th></th>\n",
       "      <th>species</th>\n",
       "      <th>groundtruth_celltype</th>\n",
       "      <th>kmer_category</th>\n",
       "      <th>percent_kmers</th>\n",
       "    </tr>\n",
       "  </thead>\n",
       "  <tbody>\n",
       "    <tr>\n",
       "      <th>0</th>\n",
       "      <td>bat</td>\n",
       "      <td>Alveolar Epithelial Type 2</td>\n",
       "      <td>Not in reference genome</td>\n",
       "      <td>11.091663</td>\n",
       "    </tr>\n",
       "    <tr>\n",
       "      <th>1</th>\n",
       "      <td>bat</td>\n",
       "      <td>Alveolar Epithelial Type 2</td>\n",
       "      <td>In ref genome, not in a gene</td>\n",
       "      <td>52.830856</td>\n",
       "    </tr>\n",
       "    <tr>\n",
       "      <th>2</th>\n",
       "      <td>bat</td>\n",
       "      <td>Alveolar Epithelial Type 2</td>\n",
       "      <td>In ref genome, not in a 1:1 orthologous gene</td>\n",
       "      <td>16.544329</td>\n",
       "    </tr>\n",
       "    <tr>\n",
       "      <th>3</th>\n",
       "      <td>bat</td>\n",
       "      <td>Alveolar Epithelial Type 2</td>\n",
       "      <td>In ref genome, in a 1:1 orthologous gene</td>\n",
       "      <td>19.533152</td>\n",
       "    </tr>\n",
       "    <tr>\n",
       "      <th>4</th>\n",
       "      <td>bat</td>\n",
       "      <td>B cell</td>\n",
       "      <td>Not in reference genome</td>\n",
       "      <td>7.596072</td>\n",
       "    </tr>\n",
       "  </tbody>\n",
       "</table>\n",
       "</div>"
      ],
      "text/plain": [
       "  species        groundtruth_celltype  \\\n",
       "0     bat  Alveolar Epithelial Type 2   \n",
       "1     bat  Alveolar Epithelial Type 2   \n",
       "2     bat  Alveolar Epithelial Type 2   \n",
       "3     bat  Alveolar Epithelial Type 2   \n",
       "4     bat                      B cell   \n",
       "\n",
       "                                  kmer_category  percent_kmers  \n",
       "0                       Not in reference genome      11.091663  \n",
       "1                  In ref genome, not in a gene      52.830856  \n",
       "2  In ref genome, not in a 1:1 orthologous gene      16.544329  \n",
       "3      In ref genome, in a 1:1 orthologous gene      19.533152  \n",
       "4                       Not in reference genome       7.596072  "
      ]
     },
     "metadata": {},
     "output_type": "display_data"
    }
   ],
   "source": [
    "diagnostic_kmers_n_per_category_df_no_lemur = diagnostic_kmers_n_per_category_df.query(\n",
    "    \"species in @species_order_no_lemur\"\n",
    ")\n",
    "diagnostic_kmers_n_per_category_df_no_lemur.species = pd.Categorical(\n",
    "    diagnostic_kmers_n_per_category_df_no_lemur.species,\n",
    "    categories=species_order_no_lemur,\n",
    "    ordered=True,\n",
    ")\n",
    "describe(diagnostic_kmers_n_per_category_df_no_lemur)"
   ]
  },
  {
   "cell_type": "code",
   "execution_count": 52,
   "id": "moral-barrier",
   "metadata": {},
   "outputs": [
    {
     "data": {
      "image/png": "[encoded data removed]",
      "text/plain": [
       "<Figure size 864x216 with 10 Axes>"
      ]
     },
     "metadata": {
      "needs_background": "light"
     },
     "output_type": "display_data"
    }
   ],
   "source": [
    "fig, axes = plt.subplots(ncols=5, nrows=2, figsize=(12, 3), sharex=True, sharey=True)\n",
    "\n",
    "\n",
    "for (celltype, df), ax in zip(\n",
    "    diagnostic_kmers_n_per_category_df_no_lemur.groupby(celltype_col), axes.flat\n",
    "):\n",
    "    \n",
    "#     legend = ax.is_last_col() and ax.is_last_row()\n",
    "    # One liner to create a stacked bar chart.\n",
    "    sns.histplot(\n",
    "        df,\n",
    "        y=\"species\",\n",
    "        hue=\"kmer_category\",\n",
    "        weights=\"percent_kmers\",\n",
    "        multiple=\"stack\",\n",
    "        palette=\"mako\",\n",
    "        linewidth=1,\n",
    "        edgecolor=\"white\",\n",
    "        legend=False,\n",
    "        ax=ax,\n",
    "    )\n",
    "    ax.set(\n",
    "        ylabel=\"species\",\n",
    "        xlabel='Percentage',\n",
    "        title=celltype.replace(\"and\", \"\\nand\"),\n",
    "#         yticks=species_order,\n",
    "    )\n",
    "    \n",
    "# Fix the legend so it's not on top of the bars.\n",
    "# legend = ax.get_legend()\n",
    "# legend.set_bbox_to_anchor((1, 1))\n",
    "sns.despine()\n",
    "fig.tight_layout()\n",
    "pdf = os.path.join(figure_folder, 'stacked_barplot__col-celtype__y-species__hue-kmer_category.pdf')\n",
    "fig.savefig(pdf)"
   ]
  },
  {
   "cell_type": "code",
   "execution_count": 53,
   "id": "naked-hacker",
   "metadata": {},
   "outputs": [
    {
     "data": {
      "text/plain": [
       "'/home/olga/googledrive/kmer-homology-paper/figures/kmer_gene_orthology'"
      ]
     },
     "execution_count": 53,
     "metadata": {},
     "output_type": "execute_result"
    }
   ],
   "source": [
    "figure_folder"
   ]
  },
  {
   "cell_type": "code",
   "execution_count": 54,
   "id": "athletic-assets",
   "metadata": {},
   "outputs": [
    {
     "data": {
      "image/png": "[encoded data removed]",
      "text/plain": [
       "<Figure size 324x432 with 10 Axes>"
      ]
     },
     "metadata": {
      "needs_background": "light"
     },
     "output_type": "display_data"
    }
   ],
   "source": [
    "fig, axes = plt.subplots(ncols=2, nrows=5, figsize=(4.5, 6), sharex=True, sharey=True)\n",
    "\n",
    "\n",
    "for (celltype, df), ax in zip(\n",
    "    diagnostic_kmers_n_per_category_df_no_lemur.groupby(celltype_col), axes.flat\n",
    "):\n",
    "    \n",
    "#     legend = ax.is_last_col() and ax.is_last_row()\n",
    "    # One liner to create a stacked bar chart.\n",
    "    sns.histplot(\n",
    "        df,\n",
    "        y=\"species\",\n",
    "        hue=\"kmer_category\",\n",
    "        weights=\"percent_kmers\",\n",
    "        multiple=\"stack\",\n",
    "        palette=\"mako\",\n",
    "        linewidth=1,\n",
    "        edgecolor=\"white\",\n",
    "        legend=False,\n",
    "        ax=ax,\n",
    "    )\n",
    "    ax.set(\n",
    "        ylabel=\"species\",\n",
    "        xlabel='Percentage',\n",
    "        title=celltype.replace(\"and\", \"\\nand\"),\n",
    "    )\n",
    "    \n",
    "# Fix the legend so it's not on top of the bars.\n",
    "# legend = ax.get_legend()\n",
    "# legend.set_bbox_to_anchor((1, 1))\n",
    "sns.despine()\n",
    "fig.tight_layout()\n",
    "pdf = os.path.join(figure_folder, 'stacked_barplot__col-celtype__y-species__hue-kmer_category__two_column.pdf')\n",
    "fig.savefig(pdf)"
   ]
  },
  {
   "cell_type": "code",
   "execution_count": 55,
   "id": "conventional-anger",
   "metadata": {},
   "outputs": [
    {
     "data": {
      "image/png": "[encoded data removed]",
      "text/plain": [
       "<Figure size 864x288 with 3 Axes>"
      ]
     },
     "metadata": {
      "needs_background": "light"
     },
     "output_type": "display_data"
    }
   ],
   "source": [
    "fig, axes = plt.subplots(ncols=3, figsize=(12, 4), sharex=True, sharey=True)\n",
    "\n",
    "\n",
    "for (species, df), ax in zip(\n",
    "    diagnostic_kmers_n_per_category_df_no_lemur.groupby(\"species\"), axes.flat\n",
    "):\n",
    "    legend = ax.is_last_col()\n",
    "    # One liner to create a stacked bar chart.\n",
    "    sns.histplot(\n",
    "        df,\n",
    "        y=celltype_col,\n",
    "        hue=\"kmer_category\",\n",
    "        weights=\"percent_kmers\",\n",
    "        multiple=\"stack\",\n",
    "        palette=\"mako\",\n",
    "        linewidth=1,\n",
    "        edgecolor=\"white\",\n",
    "        legend=legend,\n",
    "        ax=ax,\n",
    "    )\n",
    "    ax.set(\n",
    "        ylabel=\"percentage\",\n",
    "        title=species,\n",
    "#         yticks=[\"bat\", \"human\"],\n",
    "    )\n",
    "# Fix the legend so it's not on top of the bars.\n",
    "legend = ax.get_legend()\n",
    "legend.set_bbox_to_anchor((1, 1))\n",
    "\n",
    "sns.despine()\n",
    "fig.tight_layout()\n",
    "\n",
    "pdf = os.path.join(figure_folder, 'stacked_barplot__col-species__y-celltype__hue-kmer_category.pdf')\n",
    "fig.savefig(pdf)"
   ]
  },
  {
   "cell_type": "code",
   "execution_count": 56,
   "id": "pending-baker",
   "metadata": {},
   "outputs": [
    {
     "data": {
      "text/plain": [
       "2"
      ]
     },
     "execution_count": 56,
     "metadata": {},
     "output_type": "execute_result"
    }
   ],
   "source": [
    "1+1"
   ]
  },
  {
   "cell_type": "markdown",
   "id": "retired-donna",
   "metadata": {},
   "source": [
    "## Get number of k-mers in different categories per `predicted_compartment`"
   ]
  },
  {
   "cell_type": "code",
   "execution_count": 57,
   "id": "amino-christmas",
   "metadata": {},
   "outputs": [
    {
     "name": "stdout",
     "output_type": "stream",
     "text": [
      "CPU times: user 2min 40s, sys: 12.7 s, total: 2min 53s\n",
      "Wall time: 2min 53s\n"
     ]
    },
    {
     "data": {
      "text/plain": [
       "species  predicted_compartment  kmer_category                               \n",
       "bat      endothelial            Not in reference genome                          366295\n",
       "                                In ref genome, not in a gene                    2186950\n",
       "                                In ref genome, not in a 1:1 orthologous gene     516277\n",
       "                                In ref genome, in a 1:1 orthologous gene         675764\n",
       "         epithelial             Not in reference genome                          395629\n",
       "                                                                                 ...   \n",
       "mouse    myeloid                In ref genome, in a 1:1 orthologous gene         340132\n",
       "         stromal                Not in reference genome                           22927\n",
       "                                In ref genome, not in a gene                      98990\n",
       "                                In ref genome, not in a 1:1 orthologous gene     113260\n",
       "                                In ref genome, in a 1:1 orthologous gene         154225\n",
       "Name: percent_kmers, Length: 80, dtype: int64"
      ]
     },
     "execution_count": 57,
     "metadata": {},
     "output_type": "execute_result"
    }
   ],
   "source": [
    "%%time\n",
    "\n",
    "celltype_col = \"predicted_compartment\"\n",
    "\n",
    "compartment_kmers_n_per_category = hash2kmer_with_predictions.groupby(\n",
    "    [\"species\", celltype_col, \"kmer_category\"]\n",
    ").hashval.nunique()\n",
    "compartment_kmers_n_per_category.name = \"percent_kmers\"\n",
    "compartment_kmers_n_per_category"
   ]
  },
  {
   "cell_type": "code",
   "execution_count": 58,
   "id": "improving-pierre",
   "metadata": {},
   "outputs": [
    {
     "data": {
      "text/html": [
       "<div>\n",
       "<style scoped>\n",
       "    .dataframe tbody tr th:only-of-type {\n",
       "        vertical-align: middle;\n",
       "    }\n",
       "\n",
       "    .dataframe tbody tr th {\n",
       "        vertical-align: top;\n",
       "    }\n",
       "\n",
       "    .dataframe thead th {\n",
       "        text-align: right;\n",
       "    }\n",
       "</style>\n",
       "<table border=\"1\" class=\"dataframe\">\n",
       "  <thead>\n",
       "    <tr style=\"text-align: right;\">\n",
       "      <th></th>\n",
       "      <th>species</th>\n",
       "      <th>predicted_compartment</th>\n",
       "      <th>kmer_category</th>\n",
       "      <th>percent_kmers</th>\n",
       "    </tr>\n",
       "  </thead>\n",
       "  <tbody>\n",
       "    <tr>\n",
       "      <th>0</th>\n",
       "      <td>bat</td>\n",
       "      <td>endothelial</td>\n",
       "      <td>Not in reference genome</td>\n",
       "      <td>9.780161</td>\n",
       "    </tr>\n",
       "    <tr>\n",
       "      <th>1</th>\n",
       "      <td>bat</td>\n",
       "      <td>endothelial</td>\n",
       "      <td>In ref genome, not in a gene</td>\n",
       "      <td>58.392069</td>\n",
       "    </tr>\n",
       "    <tr>\n",
       "      <th>2</th>\n",
       "      <td>bat</td>\n",
       "      <td>endothelial</td>\n",
       "      <td>In ref genome, not in a 1:1 orthologous gene</td>\n",
       "      <td>13.784715</td>\n",
       "    </tr>\n",
       "    <tr>\n",
       "      <th>3</th>\n",
       "      <td>bat</td>\n",
       "      <td>endothelial</td>\n",
       "      <td>In ref genome, in a 1:1 orthologous gene</td>\n",
       "      <td>18.043055</td>\n",
       "    </tr>\n",
       "    <tr>\n",
       "      <th>4</th>\n",
       "      <td>bat</td>\n",
       "      <td>epithelial</td>\n",
       "      <td>Not in reference genome</td>\n",
       "      <td>11.116631</td>\n",
       "    </tr>\n",
       "    <tr>\n",
       "      <th>...</th>\n",
       "      <td>...</td>\n",
       "      <td>...</td>\n",
       "      <td>...</td>\n",
       "      <td>...</td>\n",
       "    </tr>\n",
       "    <tr>\n",
       "      <th>75</th>\n",
       "      <td>mouse</td>\n",
       "      <td>myeloid</td>\n",
       "      <td>In ref genome, in a 1:1 orthologous gene</td>\n",
       "      <td>34.171002</td>\n",
       "    </tr>\n",
       "    <tr>\n",
       "      <th>76</th>\n",
       "      <td>mouse</td>\n",
       "      <td>stromal</td>\n",
       "      <td>Not in reference genome</td>\n",
       "      <td>5.887746</td>\n",
       "    </tr>\n",
       "    <tr>\n",
       "      <th>77</th>\n",
       "      <td>mouse</td>\n",
       "      <td>stromal</td>\n",
       "      <td>In ref genome, not in a gene</td>\n",
       "      <td>25.421030</td>\n",
       "    </tr>\n",
       "    <tr>\n",
       "      <th>78</th>\n",
       "      <td>mouse</td>\n",
       "      <td>stromal</td>\n",
       "      <td>In ref genome, not in a 1:1 orthologous gene</td>\n",
       "      <td>29.085624</td>\n",
       "    </tr>\n",
       "    <tr>\n",
       "      <th>79</th>\n",
       "      <td>mouse</td>\n",
       "      <td>stromal</td>\n",
       "      <td>In ref genome, in a 1:1 orthologous gene</td>\n",
       "      <td>39.605600</td>\n",
       "    </tr>\n",
       "  </tbody>\n",
       "</table>\n",
       "<p>80 rows × 4 columns</p>\n",
       "</div>"
      ],
      "text/plain": [
       "   species predicted_compartment  \\\n",
       "0      bat           endothelial   \n",
       "1      bat           endothelial   \n",
       "2      bat           endothelial   \n",
       "3      bat           endothelial   \n",
       "4      bat            epithelial   \n",
       "..     ...                   ...   \n",
       "75   mouse               myeloid   \n",
       "76   mouse               stromal   \n",
       "77   mouse               stromal   \n",
       "78   mouse               stromal   \n",
       "79   mouse               stromal   \n",
       "\n",
       "                                   kmer_category  percent_kmers  \n",
       "0                        Not in reference genome       9.780161  \n",
       "1                   In ref genome, not in a gene      58.392069  \n",
       "2   In ref genome, not in a 1:1 orthologous gene      13.784715  \n",
       "3       In ref genome, in a 1:1 orthologous gene      18.043055  \n",
       "4                        Not in reference genome      11.116631  \n",
       "..                                           ...            ...  \n",
       "75      In ref genome, in a 1:1 orthologous gene      34.171002  \n",
       "76                       Not in reference genome       5.887746  \n",
       "77                  In ref genome, not in a gene      25.421030  \n",
       "78  In ref genome, not in a 1:1 orthologous gene      29.085624  \n",
       "79      In ref genome, in a 1:1 orthologous gene      39.605600  \n",
       "\n",
       "[80 rows x 4 columns]"
      ]
     },
     "execution_count": 58,
     "metadata": {},
     "output_type": "execute_result"
    }
   ],
   "source": [
    "compartment_kmers_n_per_category_df = compartment_kmers_n_per_category.groupby(level=[0, 1]).apply(lambda x: 100*x/x.sum()).reset_index()\n",
    "compartment_kmers_n_per_category_df"
   ]
  },
  {
   "cell_type": "code",
   "execution_count": 59,
   "id": "legal-graphics",
   "metadata": {},
   "outputs": [
    {
     "data": {
      "text/html": [
       "<div>\n",
       "<style scoped>\n",
       "    .dataframe tbody tr th:only-of-type {\n",
       "        vertical-align: middle;\n",
       "    }\n",
       "\n",
       "    .dataframe tbody tr th {\n",
       "        vertical-align: top;\n",
       "    }\n",
       "\n",
       "    .dataframe thead th {\n",
       "        text-align: right;\n",
       "    }\n",
       "</style>\n",
       "<table border=\"1\" class=\"dataframe\">\n",
       "  <thead>\n",
       "    <tr style=\"text-align: right;\">\n",
       "      <th></th>\n",
       "      <th>species</th>\n",
       "      <th>predicted_compartment</th>\n",
       "      <th>kmer_category</th>\n",
       "      <th>percent_kmers</th>\n",
       "    </tr>\n",
       "  </thead>\n",
       "  <tbody>\n",
       "    <tr>\n",
       "      <th>64</th>\n",
       "      <td>mouse</td>\n",
       "      <td>epithelial</td>\n",
       "      <td>Not in reference genome</td>\n",
       "      <td>4.852021</td>\n",
       "    </tr>\n",
       "    <tr>\n",
       "      <th>76</th>\n",
       "      <td>mouse</td>\n",
       "      <td>stromal</td>\n",
       "      <td>Not in reference genome</td>\n",
       "      <td>5.887746</td>\n",
       "    </tr>\n",
       "    <tr>\n",
       "      <th>60</th>\n",
       "      <td>mouse</td>\n",
       "      <td>endothelial</td>\n",
       "      <td>Not in reference genome</td>\n",
       "      <td>6.047539</td>\n",
       "    </tr>\n",
       "    <tr>\n",
       "      <th>68</th>\n",
       "      <td>mouse</td>\n",
       "      <td>lymphoid</td>\n",
       "      <td>Not in reference genome</td>\n",
       "      <td>8.072272</td>\n",
       "    </tr>\n",
       "    <tr>\n",
       "      <th>72</th>\n",
       "      <td>mouse</td>\n",
       "      <td>myeloid</td>\n",
       "      <td>Not in reference genome</td>\n",
       "      <td>8.555007</td>\n",
       "    </tr>\n",
       "  </tbody>\n",
       "</table>\n",
       "</div>"
      ],
      "text/plain": [
       "   species predicted_compartment            kmer_category  percent_kmers\n",
       "64   mouse            epithelial  Not in reference genome       4.852021\n",
       "76   mouse               stromal  Not in reference genome       5.887746\n",
       "60   mouse           endothelial  Not in reference genome       6.047539\n",
       "68   mouse              lymphoid  Not in reference genome       8.072272\n",
       "72   mouse               myeloid  Not in reference genome       8.555007"
      ]
     },
     "execution_count": 59,
     "metadata": {},
     "output_type": "execute_result"
    }
   ],
   "source": [
    "compartment_kmers_n_per_category_df.query(\n",
    "    '(species == \"mouse\") and (kmer_category == \"Not in reference genome\")'\n",
    ").sort_values('percent_kmers')"
   ]
  },
  {
   "cell_type": "code",
   "execution_count": 60,
   "id": "foreign-sudan",
   "metadata": {},
   "outputs": [
    {
     "data": {
      "text/html": [
       "<div>\n",
       "<style scoped>\n",
       "    .dataframe tbody tr th:only-of-type {\n",
       "        vertical-align: middle;\n",
       "    }\n",
       "\n",
       "    .dataframe tbody tr th {\n",
       "        vertical-align: top;\n",
       "    }\n",
       "\n",
       "    .dataframe thead th {\n",
       "        text-align: right;\n",
       "    }\n",
       "</style>\n",
       "<table border=\"1\" class=\"dataframe\">\n",
       "  <thead>\n",
       "    <tr style=\"text-align: right;\">\n",
       "      <th></th>\n",
       "      <th>species</th>\n",
       "      <th>predicted_compartment</th>\n",
       "      <th>kmer_category</th>\n",
       "      <th>percent_kmers</th>\n",
       "    </tr>\n",
       "  </thead>\n",
       "  <tbody>\n",
       "    <tr>\n",
       "      <th>64</th>\n",
       "      <td>mouse</td>\n",
       "      <td>epithelial</td>\n",
       "      <td>Not in reference genome</td>\n",
       "      <td>4.852021</td>\n",
       "    </tr>\n",
       "    <tr>\n",
       "      <th>76</th>\n",
       "      <td>mouse</td>\n",
       "      <td>stromal</td>\n",
       "      <td>Not in reference genome</td>\n",
       "      <td>5.887746</td>\n",
       "    </tr>\n",
       "    <tr>\n",
       "      <th>60</th>\n",
       "      <td>mouse</td>\n",
       "      <td>endothelial</td>\n",
       "      <td>Not in reference genome</td>\n",
       "      <td>6.047539</td>\n",
       "    </tr>\n",
       "    <tr>\n",
       "      <th>68</th>\n",
       "      <td>mouse</td>\n",
       "      <td>lymphoid</td>\n",
       "      <td>Not in reference genome</td>\n",
       "      <td>8.072272</td>\n",
       "    </tr>\n",
       "    <tr>\n",
       "      <th>72</th>\n",
       "      <td>mouse</td>\n",
       "      <td>myeloid</td>\n",
       "      <td>Not in reference genome</td>\n",
       "      <td>8.555007</td>\n",
       "    </tr>\n",
       "  </tbody>\n",
       "</table>\n",
       "</div>"
      ],
      "text/plain": [
       "   species predicted_compartment            kmer_category  percent_kmers\n",
       "64   mouse            epithelial  Not in reference genome       4.852021\n",
       "76   mouse               stromal  Not in reference genome       5.887746\n",
       "60   mouse           endothelial  Not in reference genome       6.047539\n",
       "68   mouse              lymphoid  Not in reference genome       8.072272\n",
       "72   mouse               myeloid  Not in reference genome       8.555007"
      ]
     },
     "execution_count": 60,
     "metadata": {},
     "output_type": "execute_result"
    }
   ],
   "source": [
    "compartment_kmers_n_per_category_df.query(\n",
    "    '(species == \"mouse\") and (kmer_category == \"Not in reference genome\")'\n",
    ").sort_values('percent_kmers')"
   ]
  },
  {
   "cell_type": "code",
   "execution_count": 61,
   "id": "infinite-default",
   "metadata": {},
   "outputs": [
    {
     "data": {
      "text/html": [
       "<div>\n",
       "<style scoped>\n",
       "    .dataframe tbody tr th:only-of-type {\n",
       "        vertical-align: middle;\n",
       "    }\n",
       "\n",
       "    .dataframe tbody tr th {\n",
       "        vertical-align: top;\n",
       "    }\n",
       "\n",
       "    .dataframe thead th {\n",
       "        text-align: right;\n",
       "    }\n",
       "</style>\n",
       "<table border=\"1\" class=\"dataframe\">\n",
       "  <thead>\n",
       "    <tr style=\"text-align: right;\">\n",
       "      <th></th>\n",
       "      <th>species</th>\n",
       "      <th>predicted_compartment</th>\n",
       "      <th>kmer_category</th>\n",
       "      <th>percent_kmers</th>\n",
       "    </tr>\n",
       "  </thead>\n",
       "  <tbody>\n",
       "    <tr>\n",
       "      <th>44</th>\n",
       "      <td>lemur</td>\n",
       "      <td>epithelial</td>\n",
       "      <td>Not in reference genome</td>\n",
       "      <td>4.599100</td>\n",
       "    </tr>\n",
       "    <tr>\n",
       "      <th>40</th>\n",
       "      <td>lemur</td>\n",
       "      <td>endothelial</td>\n",
       "      <td>Not in reference genome</td>\n",
       "      <td>4.755519</td>\n",
       "    </tr>\n",
       "    <tr>\n",
       "      <th>48</th>\n",
       "      <td>lemur</td>\n",
       "      <td>lymphoid</td>\n",
       "      <td>Not in reference genome</td>\n",
       "      <td>5.437922</td>\n",
       "    </tr>\n",
       "    <tr>\n",
       "      <th>56</th>\n",
       "      <td>lemur</td>\n",
       "      <td>stromal</td>\n",
       "      <td>Not in reference genome</td>\n",
       "      <td>5.818714</td>\n",
       "    </tr>\n",
       "    <tr>\n",
       "      <th>52</th>\n",
       "      <td>lemur</td>\n",
       "      <td>myeloid</td>\n",
       "      <td>Not in reference genome</td>\n",
       "      <td>5.860263</td>\n",
       "    </tr>\n",
       "  </tbody>\n",
       "</table>\n",
       "</div>"
      ],
      "text/plain": [
       "   species predicted_compartment            kmer_category  percent_kmers\n",
       "44   lemur            epithelial  Not in reference genome       4.599100\n",
       "40   lemur           endothelial  Not in reference genome       4.755519\n",
       "48   lemur              lymphoid  Not in reference genome       5.437922\n",
       "56   lemur               stromal  Not in reference genome       5.818714\n",
       "52   lemur               myeloid  Not in reference genome       5.860263"
      ]
     },
     "execution_count": 61,
     "metadata": {},
     "output_type": "execute_result"
    }
   ],
   "source": [
    "compartment_kmers_n_per_category_df.query(\n",
    "    '(species == \"lemur\") and (kmer_category == \"Not in reference genome\")'\n",
    ").sort_values('percent_kmers')"
   ]
  },
  {
   "cell_type": "markdown",
   "id": "brave-brazil",
   "metadata": {},
   "source": [
    "# Plot percentage of kmers in ref genome, etc"
   ]
  },
  {
   "cell_type": "code",
   "execution_count": 62,
   "id": "combined-commissioner",
   "metadata": {},
   "outputs": [
    {
     "name": "stdout",
     "output_type": "stream",
     "text": [
      "mkdir: cannot create directory ‘/home/olga/googledrive/kmer-homology-paper/figures/kmer_gene_orthology’: File exists\n"
     ]
    }
   ],
   "source": [
    "figure_folder = '/home/olga/googledrive/kmer-homology-paper/figures/kmer_gene_orthology'\n",
    "! mkdir $figure_folder"
   ]
  },
  {
   "cell_type": "code",
   "execution_count": 63,
   "id": "greenhouse-denmark",
   "metadata": {},
   "outputs": [],
   "source": [
    "species_order = 'human', 'lemur', 'mouse', 'bat'\n",
    "compartment_kmers_n_per_category_df['species'] = pd.Categorical(compartment_kmers_n_per_category_df ['species'], categories=species_order, ordered=True)"
   ]
  },
  {
   "cell_type": "code",
   "execution_count": 64,
   "id": "damaged-peter",
   "metadata": {},
   "outputs": [
    {
     "data": {
      "image/png": "[encoded data removed]",
      "text/plain": [
       "<Figure size 979.5x144 with 5 Axes>"
      ]
     },
     "metadata": {
      "needs_background": "light"
     },
     "output_type": "display_data"
    }
   ],
   "source": [
    "g = sns.catplot(\n",
    "    data=compartment_kmers_n_per_category_df,\n",
    "    col=celltype_col,\n",
    "    order=species_order,\n",
    "    col_wrap=5,\n",
    "    y=\"species\",\n",
    "    x=\"percent_kmers\",\n",
    "    hue=\"kmer_category\",\n",
    "    hue_order=kmer_categories,\n",
    "    palette='mako',\n",
    "    kind='bar',\n",
    "    height=2,\n",
    "    linewidth=1,\n",
    "    edgecolor='white'\n",
    "#     legend=True,\n",
    ")\n",
    "g.set_titles('{col_name}')\n",
    "for ax in g.axes.flat:\n",
    "    title = ax.get_title()\n",
    "    if title == 'Smooth Muscle and Myofibroblast':\n",
    "        ax.set_title('Smooth Muscle\\nand Myofibroblast', fontsize=10, pad=-20)\n",
    "pdf = os.path.join(figure_folder, f'unstacked_barplot__col-celltype__y-species__hue-kmer_category__{celltype_col}.pdf')\n",
    "g.savefig(pdf)"
   ]
  },
  {
   "cell_type": "code",
   "execution_count": 65,
   "id": "permanent-wallace",
   "metadata": {},
   "outputs": [
    {
     "data": {
      "image/png": "[encoded data removed]",
      "text/plain": [
       "<Figure size 847.875x180 with 4 Axes>"
      ]
     },
     "metadata": {
      "needs_background": "light"
     },
     "output_type": "display_data"
    }
   ],
   "source": [
    "g = sns.catplot(\n",
    "    data=compartment_kmers_n_per_category_df,\n",
    "    hue=celltype_col,\n",
    "#     col_wrap=2,\n",
    "    y=\"species\",\n",
    "    order=species_order,\n",
    "    x=\"percent_kmers\",\n",
    "    col=\"kmer_category\",\n",
    "    col_order=kmer_categories,\n",
    "    palette='tab10',\n",
    "    kind='bar',\n",
    "    height=2.5,\n",
    "    sharex=True,\n",
    "        linewidth=.5,\n",
    "    edgecolor='white'\n",
    "#     legend=True,\n",
    ")\n",
    "g.set_titles('{col_name}')\n",
    "for ax in g.axes.flat:\n",
    "    if ax.is_last_row():\n",
    "        title = ax.get_title()\n",
    "        title = title.replace(',', ',\\n')\n",
    "        ax.set_title(title, fontsize=10, pad=-20)\n",
    "#     if ax.is_first_col():\n",
    "#         ax.set(xscale='log')\n",
    "pdf = os.path.join(figure_folder, f'unstacked_barplot__col-kmer_category__y-species__hue-celltype__{celltype_col}.pdf')\n",
    "g.savefig(pdf)"
   ]
  },
  {
   "cell_type": "code",
   "execution_count": 66,
   "id": "worse-scenario",
   "metadata": {},
   "outputs": [],
   "source": [
    "species_order_no_lemur = ['human','mouse', 'bat']"
   ]
  },
  {
   "cell_type": "code",
   "execution_count": 67,
   "id": "involved-climb",
   "metadata": {},
   "outputs": [
    {
     "name": "stdout",
     "output_type": "stream",
     "text": [
      "(60, 4)\n",
      "--- First 5 entries ---\n"
     ]
    },
    {
     "name": "stderr",
     "output_type": "stream",
     "text": [
      "/home/olga/miniconda3/envs/immune-evolution/lib/python3.7/site-packages/pandas/core/generic.py:5165: SettingWithCopyWarning: \n",
      "A value is trying to be set on a copy of a slice from a DataFrame.\n",
      "Try using .loc[row_indexer,col_indexer] = value instead\n",
      "\n",
      "See the caveats in the documentation: https://pandas.pydata.org/pandas-docs/stable/user_guide/indexing.html#returning-a-view-versus-a-copy\n",
      "  self[name] = value\n"
     ]
    },
    {
     "data": {
      "text/html": [
       "<div>\n",
       "<style scoped>\n",
       "    .dataframe tbody tr th:only-of-type {\n",
       "        vertical-align: middle;\n",
       "    }\n",
       "\n",
       "    .dataframe tbody tr th {\n",
       "        vertical-align: top;\n",
       "    }\n",
       "\n",
       "    .dataframe thead th {\n",
       "        text-align: right;\n",
       "    }\n",
       "</style>\n",
       "<table border=\"1\" class=\"dataframe\">\n",
       "  <thead>\n",
       "    <tr style=\"text-align: right;\">\n",
       "      <th></th>\n",
       "      <th>species</th>\n",
       "      <th>predicted_compartment</th>\n",
       "      <th>kmer_category</th>\n",
       "      <th>percent_kmers</th>\n",
       "    </tr>\n",
       "  </thead>\n",
       "  <tbody>\n",
       "    <tr>\n",
       "      <th>0</th>\n",
       "      <td>bat</td>\n",
       "      <td>endothelial</td>\n",
       "      <td>Not in reference genome</td>\n",
       "      <td>9.780161</td>\n",
       "    </tr>\n",
       "    <tr>\n",
       "      <th>1</th>\n",
       "      <td>bat</td>\n",
       "      <td>endothelial</td>\n",
       "      <td>In ref genome, not in a gene</td>\n",
       "      <td>58.392069</td>\n",
       "    </tr>\n",
       "    <tr>\n",
       "      <th>2</th>\n",
       "      <td>bat</td>\n",
       "      <td>endothelial</td>\n",
       "      <td>In ref genome, not in a 1:1 orthologous gene</td>\n",
       "      <td>13.784715</td>\n",
       "    </tr>\n",
       "    <tr>\n",
       "      <th>3</th>\n",
       "      <td>bat</td>\n",
       "      <td>endothelial</td>\n",
       "      <td>In ref genome, in a 1:1 orthologous gene</td>\n",
       "      <td>18.043055</td>\n",
       "    </tr>\n",
       "    <tr>\n",
       "      <th>4</th>\n",
       "      <td>bat</td>\n",
       "      <td>epithelial</td>\n",
       "      <td>Not in reference genome</td>\n",
       "      <td>11.116631</td>\n",
       "    </tr>\n",
       "  </tbody>\n",
       "</table>\n",
       "</div>"
      ],
      "text/plain": [
       "  species predicted_compartment                                 kmer_category  \\\n",
       "0     bat           endothelial                       Not in reference genome   \n",
       "1     bat           endothelial                  In ref genome, not in a gene   \n",
       "2     bat           endothelial  In ref genome, not in a 1:1 orthologous gene   \n",
       "3     bat           endothelial      In ref genome, in a 1:1 orthologous gene   \n",
       "4     bat            epithelial                       Not in reference genome   \n",
       "\n",
       "   percent_kmers  \n",
       "0       9.780161  \n",
       "1      58.392069  \n",
       "2      13.784715  \n",
       "3      18.043055  \n",
       "4      11.116631  "
      ]
     },
     "metadata": {},
     "output_type": "display_data"
    }
   ],
   "source": [
    "compartment_kmers_n_per_category_df_no_lemur = compartment_kmers_n_per_category_df.query(\n",
    "    \"species in @species_order_no_lemur\"\n",
    ")\n",
    "compartment_kmers_n_per_category_df_no_lemur.species = pd.Categorical(\n",
    "    compartment_kmers_n_per_category_df_no_lemur.species,\n",
    "    categories=species_order_no_lemur,\n",
    "    ordered=True,\n",
    ")\n",
    "describe(compartment_kmers_n_per_category_df_no_lemur)"
   ]
  },
  {
   "cell_type": "code",
   "execution_count": 68,
   "id": "baking-disability",
   "metadata": {},
   "outputs": [
    {
     "data": {
      "text/html": [
       "<div>\n",
       "<style scoped>\n",
       "    .dataframe tbody tr th:only-of-type {\n",
       "        vertical-align: middle;\n",
       "    }\n",
       "\n",
       "    .dataframe tbody tr th {\n",
       "        vertical-align: top;\n",
       "    }\n",
       "\n",
       "    .dataframe thead th {\n",
       "        text-align: right;\n",
       "    }\n",
       "</style>\n",
       "<table border=\"1\" class=\"dataframe\">\n",
       "  <thead>\n",
       "    <tr style=\"text-align: right;\">\n",
       "      <th></th>\n",
       "      <th>species</th>\n",
       "      <th>predicted_compartment</th>\n",
       "      <th>kmer_category</th>\n",
       "      <th>percent_kmers</th>\n",
       "    </tr>\n",
       "  </thead>\n",
       "  <tbody>\n",
       "    <tr>\n",
       "      <th>0</th>\n",
       "      <td>bat</td>\n",
       "      <td>endothelial</td>\n",
       "      <td>Not in reference genome</td>\n",
       "      <td>9.780161</td>\n",
       "    </tr>\n",
       "    <tr>\n",
       "      <th>4</th>\n",
       "      <td>bat</td>\n",
       "      <td>epithelial</td>\n",
       "      <td>Not in reference genome</td>\n",
       "      <td>11.116631</td>\n",
       "    </tr>\n",
       "    <tr>\n",
       "      <th>8</th>\n",
       "      <td>bat</td>\n",
       "      <td>lymphoid</td>\n",
       "      <td>Not in reference genome</td>\n",
       "      <td>8.757574</td>\n",
       "    </tr>\n",
       "    <tr>\n",
       "      <th>12</th>\n",
       "      <td>bat</td>\n",
       "      <td>myeloid</td>\n",
       "      <td>Not in reference genome</td>\n",
       "      <td>11.507867</td>\n",
       "    </tr>\n",
       "    <tr>\n",
       "      <th>16</th>\n",
       "      <td>bat</td>\n",
       "      <td>stromal</td>\n",
       "      <td>Not in reference genome</td>\n",
       "      <td>8.944639</td>\n",
       "    </tr>\n",
       "    <tr>\n",
       "      <th>20</th>\n",
       "      <td>human</td>\n",
       "      <td>endothelial</td>\n",
       "      <td>Not in reference genome</td>\n",
       "      <td>0.138276</td>\n",
       "    </tr>\n",
       "    <tr>\n",
       "      <th>24</th>\n",
       "      <td>human</td>\n",
       "      <td>epithelial</td>\n",
       "      <td>Not in reference genome</td>\n",
       "      <td>0.116504</td>\n",
       "    </tr>\n",
       "    <tr>\n",
       "      <th>28</th>\n",
       "      <td>human</td>\n",
       "      <td>lymphoid</td>\n",
       "      <td>Not in reference genome</td>\n",
       "      <td>0.122846</td>\n",
       "    </tr>\n",
       "    <tr>\n",
       "      <th>32</th>\n",
       "      <td>human</td>\n",
       "      <td>myeloid</td>\n",
       "      <td>Not in reference genome</td>\n",
       "      <td>0.093800</td>\n",
       "    </tr>\n",
       "    <tr>\n",
       "      <th>36</th>\n",
       "      <td>human</td>\n",
       "      <td>stromal</td>\n",
       "      <td>Not in reference genome</td>\n",
       "      <td>0.120226</td>\n",
       "    </tr>\n",
       "    <tr>\n",
       "      <th>60</th>\n",
       "      <td>mouse</td>\n",
       "      <td>endothelial</td>\n",
       "      <td>Not in reference genome</td>\n",
       "      <td>6.047539</td>\n",
       "    </tr>\n",
       "    <tr>\n",
       "      <th>64</th>\n",
       "      <td>mouse</td>\n",
       "      <td>epithelial</td>\n",
       "      <td>Not in reference genome</td>\n",
       "      <td>4.852021</td>\n",
       "    </tr>\n",
       "    <tr>\n",
       "      <th>68</th>\n",
       "      <td>mouse</td>\n",
       "      <td>lymphoid</td>\n",
       "      <td>Not in reference genome</td>\n",
       "      <td>8.072272</td>\n",
       "    </tr>\n",
       "    <tr>\n",
       "      <th>72</th>\n",
       "      <td>mouse</td>\n",
       "      <td>myeloid</td>\n",
       "      <td>Not in reference genome</td>\n",
       "      <td>8.555007</td>\n",
       "    </tr>\n",
       "    <tr>\n",
       "      <th>76</th>\n",
       "      <td>mouse</td>\n",
       "      <td>stromal</td>\n",
       "      <td>Not in reference genome</td>\n",
       "      <td>5.887746</td>\n",
       "    </tr>\n",
       "  </tbody>\n",
       "</table>\n",
       "</div>"
      ],
      "text/plain": [
       "   species predicted_compartment            kmer_category  percent_kmers\n",
       "0      bat           endothelial  Not in reference genome       9.780161\n",
       "4      bat            epithelial  Not in reference genome      11.116631\n",
       "8      bat              lymphoid  Not in reference genome       8.757574\n",
       "12     bat               myeloid  Not in reference genome      11.507867\n",
       "16     bat               stromal  Not in reference genome       8.944639\n",
       "20   human           endothelial  Not in reference genome       0.138276\n",
       "24   human            epithelial  Not in reference genome       0.116504\n",
       "28   human              lymphoid  Not in reference genome       0.122846\n",
       "32   human               myeloid  Not in reference genome       0.093800\n",
       "36   human               stromal  Not in reference genome       0.120226\n",
       "60   mouse           endothelial  Not in reference genome       6.047539\n",
       "64   mouse            epithelial  Not in reference genome       4.852021\n",
       "68   mouse              lymphoid  Not in reference genome       8.072272\n",
       "72   mouse               myeloid  Not in reference genome       8.555007\n",
       "76   mouse               stromal  Not in reference genome       5.887746"
      ]
     },
     "execution_count": 68,
     "metadata": {},
     "output_type": "execute_result"
    }
   ],
   "source": [
    "compartment_kmers_n_per_category_df_no_lemur.query('kmer_category == \"Not in reference genome\"')"
   ]
  },
  {
   "cell_type": "code",
   "execution_count": 71,
   "id": "average-population",
   "metadata": {},
   "outputs": [
    {
     "data": {
      "image/png": "[encoded data removed]",
      "text/plain": [
       "<Figure size 288x432 with 5 Axes>"
      ]
     },
     "metadata": {
      "needs_background": "light"
     },
     "output_type": "display_data"
    }
   ],
   "source": [
    "fig, axes = plt.subplots(ncols=1, nrows=5, figsize=(4, 6), sharex=True, sharey=True)\n",
    "\n",
    "\n",
    "for (celltype, df), ax in zip(\n",
    "    compartment_kmers_n_per_category_df_no_lemur.groupby(celltype_col), axes.flat\n",
    "):\n",
    "    \n",
    "#     legend = ax.is_last_col() and ax.is_last_row()\n",
    "    # One liner to create a stacked bar chart.\n",
    "    sns.histplot(\n",
    "        df,\n",
    "        y=\"species\",\n",
    "        hue=\"kmer_category\",\n",
    "        weights=\"percent_kmers\",\n",
    "        multiple=\"stack\",\n",
    "        palette=\"mako\",\n",
    "        linewidth=1,\n",
    "        edgecolor=\"white\",\n",
    "        legend=False,\n",
    "        ax=ax,\n",
    "    )\n",
    "    ax.set(\n",
    "        ylabel=\"species\",\n",
    "        xlabel='Percentage',\n",
    "        title=celltype.replace(\"and\", \"\\nand\"),\n",
    "    )\n",
    "    \n",
    "# Fix the legend so it's not on top of the bars.\n",
    "# legend = ax.get_legend()\n",
    "# legend.set_bbox_to_anchor((1, 1))\n",
    "sns.despine()\n",
    "fig.tight_layout()\n",
    "pdf = os.path.join(figure_folder, f'stacked_barplot__col-celtype__y-species__hue-kmer_category__two_column__{celltype_col}.pdf')\n",
    "fig.savefig(pdf)"
   ]
  },
  {
   "cell_type": "code",
   "execution_count": 72,
   "id": "declared-indiana",
   "metadata": {},
   "outputs": [
    {
     "data": {
      "text/plain": [
       "'/home/olga/googledrive/kmer-homology-paper/figures/kmer_gene_orthology/stacked_barplot__col-celtype__y-species__hue-kmer_category__two_column__predicted_compartment.pdf'"
      ]
     },
     "execution_count": 72,
     "metadata": {},
     "output_type": "execute_result"
    }
   ],
   "source": [
    "pdf"
   ]
  }
 ],
 "metadata": {
  "kernelspec": {
   "display_name": "Python [conda env:immune-evolution]",
   "language": "python",
   "name": "conda-env-immune-evolution-py"
  },
  "language_info": {
   "codemirror_mode": {
    "name": "ipython",
    "version": 3
   },
   "file_extension": ".py",
   "mimetype": "text/x-python",
   "name": "python",
   "nbconvert_exporter": "python",
   "pygments_lexer": "ipython3",
   "version": "3.7.8"
  }
 },
 "nbformat": 4,
 "nbformat_minor": 5
}
