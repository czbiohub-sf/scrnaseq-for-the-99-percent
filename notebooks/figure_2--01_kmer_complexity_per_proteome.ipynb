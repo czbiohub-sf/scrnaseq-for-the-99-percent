{
 "cells": [
  {
   "cell_type": "code",
   "execution_count": 8,
   "metadata": {},
   "outputs": [
    {
     "name": "stdout",
     "output_type": "stream",
     "text": [
      "The autoreload extension is already loaded. To reload it, use:\n",
      "  %reload_ext autoreload\n"
     ]
    }
   ],
   "source": [
    "%load_ext autoreload\n",
    "%autoreload 2"
   ]
  },
  {
   "cell_type": "code",
   "execution_count": 16,
   "metadata": {},
   "outputs": [],
   "source": [
    "import itertools\n",
    "import os\n",
    "import glob\n",
    "\n",
    "import pandas as pd\n",
    "from joblib import Parallel, delayed\n",
    "import khmer\n",
    "import screed\n",
    "\n",
    "from tqdm import tqdm\n",
    "\n",
    "import numpy as np\n",
    "from orpheum.index import (\n",
    "    maybe_make_peptide_bloom_filter,\n",
    "    make_peptide_bloom_filter,\n",
    "    maybe_save_peptide_bloom_filter,\n",
    "    ALPHABET_SIZES,\n",
    ")\n",
    "\n",
    "from path_constants import MAMMALIA_BUSCO_SUBSET_FOLDER"
   ]
  },
  {
   "cell_type": "code",
   "execution_count": 23,
   "metadata": {},
   "outputs": [],
   "source": [
    "filenames = glob.glob(os.path.join(MAMMALIA_BUSCO_SUBSET_FOLDER, '*.fasta'))\n",
    "assert len(filenames) == 18"
   ]
  },
  {
   "cell_type": "code",
   "execution_count": 24,
   "metadata": {},
   "outputs": [
    {
     "data": {
      "text/plain": [
       "{'homo_sapiens': '/Users/olgabot/Downloads/00-orpheum-benchmarking/00-external-data/mammalia_busco_subsets/9606__homo_sapiens.fasta',\n",
       " 'ornithorhynchus_anatinus': '/Users/olgabot/Downloads/00-orpheum-benchmarking/00-external-data/mammalia_busco_subsets/9258__ornithorhynchus_anatinus.fasta',\n",
       " 'nannospalax_galili': '/Users/olgabot/Downloads/00-orpheum-benchmarking/00-external-data/mammalia_busco_subsets/1026970__nannospalax_galili.fasta',\n",
       " 'mus_musculus': '/Users/olgabot/Downloads/00-orpheum-benchmarking/00-external-data/mammalia_busco_subsets/10090__mus_musculus.fasta',\n",
       " 'erinaceus_europaeus': '/Users/olgabot/Downloads/00-orpheum-benchmarking/00-external-data/mammalia_busco_subsets/9365__erinaceus_europaeus.fasta',\n",
       " 'phascolarctos_cinereus': '/Users/olgabot/Downloads/00-orpheum-benchmarking/00-external-data/mammalia_busco_subsets/38626__phascolarctos_cinereus.fasta',\n",
       " 'rhinolophus_sinicus': '/Users/olgabot/Downloads/00-orpheum-benchmarking/00-external-data/mammalia_busco_subsets/89399__rhinolophus_sinicus.fasta',\n",
       " 'lipotes_vexillifer': '/Users/olgabot/Downloads/00-orpheum-benchmarking/00-external-data/mammalia_busco_subsets/118797__lipotes_vexillifer.fasta',\n",
       " 'capra_hircus': '/Users/olgabot/Downloads/00-orpheum-benchmarking/00-external-data/mammalia_busco_subsets/9925__capra_hircus.fasta',\n",
       " 'aotus_nancymaae': '/Users/olgabot/Downloads/00-orpheum-benchmarking/00-external-data/mammalia_busco_subsets/37293__aotus_nancymaae.fasta',\n",
       " 'oryctolagus_cuniculus': '/Users/olgabot/Downloads/00-orpheum-benchmarking/00-external-data/mammalia_busco_subsets/9986__oryctolagus_cuniculus.fasta',\n",
       " 'peromyscus_maniculatus_bairdii': '/Users/olgabot/Downloads/00-orpheum-benchmarking/00-external-data/mammalia_busco_subsets/230844__peromyscus_maniculatus_bairdii.fasta',\n",
       " 'tupaia_chinensis': '/Users/olgabot/Downloads/00-orpheum-benchmarking/00-external-data/mammalia_busco_subsets/246437__tupaia_chinensis.fasta',\n",
       " 'macaca_mulatta': '/Users/olgabot/Downloads/00-orpheum-benchmarking/00-external-data/mammalia_busco_subsets/9544__macaca_mulatta.fasta',\n",
       " 'camelus_bactrianus': '/Users/olgabot/Downloads/00-orpheum-benchmarking/00-external-data/mammalia_busco_subsets/9837__camelus_bactrianus.fasta',\n",
       " 'sorex_araneus': '/Users/olgabot/Downloads/00-orpheum-benchmarking/00-external-data/mammalia_busco_subsets/42254__sorex_araneus.fasta',\n",
       " 'chinchilla_lanigera': '/Users/olgabot/Downloads/00-orpheum-benchmarking/00-external-data/mammalia_busco_subsets/34839__chinchilla_lanigera.fasta',\n",
       " 'ceratotherium_simum_simum': '/Users/olgabot/Downloads/00-orpheum-benchmarking/00-external-data/mammalia_busco_subsets/73337__ceratotherium_simum_simum.fasta'}"
      ]
     },
     "execution_count": 24,
     "metadata": {},
     "output_type": "execute_result"
    }
   ],
   "source": [
    "fastas = {os.path.basename(x).split('__')[-1].split('.fasta')[0]: x for x in filenames}\n",
    "fastas"
   ]
  },
  {
   "cell_type": "code",
   "execution_count": 25,
   "metadata": {},
   "outputs": [],
   "source": [
    "lines = []\n",
    "\n",
    "\n",
    "def create_index_and_compute_stats(name, fasta, alphabet, ksize, tablesize=int(1e8)):\n",
    "    \"\"\"Create peptide bloom filter (index) and compute k-mer complexity\"\"\"\n",
    "    index = make_peptide_bloom_filter(fasta, ksize, alphabet, tablesize=tablesize)\n",
    "    expected_collisions = khmer.calc_expected_collisions(index)\n",
    "    maybe_save_peptide_bloom_filter(fasta, index, alphabet, save_peptide_bloom_filter=True)\n",
    "\n",
    "    n_unique_kmers = index.n_unique_kmers()\n",
    "    sigma = ALPHABET_SIZES[alphabet]\n",
    "    line = [name, alphabet, ksize, sigma, expected_collisions, n_unique_kmers]\n",
    "    del index\n",
    "    return line"
   ]
  },
  {
   "cell_type": "code",
   "execution_count": 26,
   "metadata": {},
   "outputs": [],
   "source": [
    "N_JOBS = 8\n",
    "\n",
    "\n",
    "def format_index_stats(lines):\n",
    "    columns = [\n",
    "        \"name\",\n",
    "        \"molecule\",\n",
    "        \"ksize\",\n",
    "        \"sigma\",\n",
    "        \"expected_collisions\",\n",
    "        \"n_unique_kmers\",\n",
    "    ]\n",
    "    df = pd.DataFrame(lines, columns=columns)\n",
    "    df[\"n_theoretical_kmers_log10\"] = df[\"ksize\"] * np.log10(df[\"sigma\"])\n",
    "    df[\"n_unique_kmers_log10\"] = np.log10(df[\"n_unique_kmers\"])\n",
    "    df[\"unique_over_theoretical_log10\"] = (\n",
    "        df[\"n_unique_kmers_log10\"] - df[\"n_theoretical_kmers_log10\"]\n",
    "    )\n",
    "    return df"
   ]
  },
  {
   "cell_type": "code",
   "execution_count": 27,
   "metadata": {},
   "outputs": [
    {
     "name": "stdout",
     "output_type": "stream",
     "text": [
      "name: homo_sapiens\n"
     ]
    },
    {
     "name": "stderr",
     "output_type": "stream",
     "text": [
      "[Parallel(n_jobs=2)]: Using backend LokyBackend with 2 concurrent workers.\n",
      "15066it [00:12, 1253.51it/s][Parallel(n_jobs=2)]: Done   2 out of   2 | elapsed:   16.1s remaining:    0.0s\n",
      "[Parallel(n_jobs=2)]: Done   2 out of   2 | elapsed:   16.1s finished\n"
     ]
    },
    {
     "name": "stdout",
     "output_type": "stream",
     "text": [
      "name: ornithorhynchus_anatinus\n"
     ]
    },
    {
     "name": "stderr",
     "output_type": "stream",
     "text": [
      "[Parallel(n_jobs=2)]: Using backend LokyBackend with 2 concurrent workers.\n",
      "\n",
      "0it [00:00, ?it/s]\n",
      "1265it [00:00, 1421.85it/s][Parallel(n_jobs=2)]: Done   2 out of   2 | elapsed:    1.2s remaining:    0.0s\n",
      "[Parallel(n_jobs=2)]: Done   2 out of   2 | elapsed:    1.2s finished\n",
      "[Parallel(n_jobs=2)]: Using backend LokyBackend with 2 concurrent workers.\n",
      "\n",
      "3it [00:00, 1624.23it/s]\n",
      "3it [00:00, 1744.24it/s]"
     ]
    },
    {
     "name": "stdout",
     "output_type": "stream",
     "text": [
      "name: nannospalax_galili\n"
     ]
    },
    {
     "name": "stderr",
     "output_type": "stream",
     "text": [
      "[Parallel(n_jobs=2)]: Done   2 out of   2 | elapsed:    0.3s remaining:    0.0s\n",
      "[Parallel(n_jobs=2)]: Done   2 out of   2 | elapsed:    0.3s finished\n",
      "[Parallel(n_jobs=2)]: Using backend LokyBackend with 2 concurrent workers.\n",
      "\n",
      "0it [00:00, ?it/s]\n",
      "123it [00:00, 1192.81it/s]"
     ]
    },
    {
     "name": "stdout",
     "output_type": "stream",
     "text": [
      "name: mus_musculus\n"
     ]
    },
    {
     "name": "stderr",
     "output_type": "stream",
     "text": [
      "14519it [00:11, 1261.01it/s][Parallel(n_jobs=2)]: Done   2 out of   2 | elapsed:   11.8s remaining:    0.0s\n",
      "[Parallel(n_jobs=2)]: Done   2 out of   2 | elapsed:   11.8s finished\n",
      "[Parallel(n_jobs=2)]: Using backend LokyBackend with 2 concurrent workers.\n",
      "\n",
      "0it [00:00, ?it/s]\n",
      "146it [00:00, 1454.37it/s]"
     ]
    },
    {
     "name": "stdout",
     "output_type": "stream",
     "text": [
      "name: erinaceus_europaeus\n"
     ]
    },
    {
     "name": "stderr",
     "output_type": "stream",
     "text": [
      "13448it [00:11, 1215.19it/s][Parallel(n_jobs=2)]: Done   2 out of   2 | elapsed:   11.3s remaining:    0.0s\n",
      "[Parallel(n_jobs=2)]: Done   2 out of   2 | elapsed:   11.3s finished\n",
      "[Parallel(n_jobs=2)]: Using backend LokyBackend with 2 concurrent workers.\n",
      "\n",
      "0it [00:00, ?it/s]\n",
      "6it [00:00, 1169.14it/s]"
     ]
    },
    {
     "name": "stdout",
     "output_type": "stream",
     "text": [
      "name: phascolarctos_cinereus\n"
     ]
    },
    {
     "name": "stderr",
     "output_type": "stream",
     "text": [
      "[Parallel(n_jobs=2)]: Done   2 out of   2 | elapsed:    0.3s remaining:    0.0s\n",
      "[Parallel(n_jobs=2)]: Done   2 out of   2 | elapsed:    0.3s finished\n",
      "[Parallel(n_jobs=2)]: Using backend LokyBackend with 2 concurrent workers.\n",
      "\n",
      "1it [00:00, 710.78it/s]\n",
      "1it [00:00, 792.42it/s]"
     ]
    },
    {
     "name": "stdout",
     "output_type": "stream",
     "text": [
      "name: rhinolophus_sinicus\n"
     ]
    },
    {
     "name": "stderr",
     "output_type": "stream",
     "text": [
      "[Parallel(n_jobs=2)]: Done   2 out of   2 | elapsed:    0.3s remaining:    0.0s\n",
      "[Parallel(n_jobs=2)]: Done   2 out of   2 | elapsed:    0.3s finished\n",
      "[Parallel(n_jobs=2)]: Using backend LokyBackend with 2 concurrent workers.\n",
      "\n",
      "0it [00:00, ?it/s]\n",
      "8it [00:00, 2578.93it/s]"
     ]
    },
    {
     "name": "stdout",
     "output_type": "stream",
     "text": [
      "name: lipotes_vexillifer\n"
     ]
    },
    {
     "name": "stderr",
     "output_type": "stream",
     "text": [
      "[Parallel(n_jobs=2)]: Done   2 out of   2 | elapsed:    0.3s remaining:    0.0s\n",
      "[Parallel(n_jobs=2)]: Done   2 out of   2 | elapsed:    0.3s finished\n",
      "[Parallel(n_jobs=2)]: Using backend LokyBackend with 2 concurrent workers.\n",
      "\n",
      "0it [00:00, ?it/s]\n",
      "213it [00:00, 1893.71it/s]"
     ]
    },
    {
     "name": "stdout",
     "output_type": "stream",
     "text": [
      "name: capra_hircus\n"
     ]
    },
    {
     "name": "stderr",
     "output_type": "stream",
     "text": [
      "[Parallel(n_jobs=2)]: Done   2 out of   2 | elapsed:    0.4s remaining:    0.0s\n",
      "[Parallel(n_jobs=2)]: Done   2 out of   2 | elapsed:    0.4s finished\n",
      "[Parallel(n_jobs=2)]: Using backend LokyBackend with 2 concurrent workers.\n",
      "\n",
      "0it [00:00, ?it/s]\n",
      "123it [00:00, 1221.80it/s]"
     ]
    },
    {
     "name": "stdout",
     "output_type": "stream",
     "text": [
      "name: aotus_nancymaae\n"
     ]
    },
    {
     "name": "stderr",
     "output_type": "stream",
     "text": [
      "7261it [00:05, 1287.49it/s][Parallel(n_jobs=2)]: Done   2 out of   2 | elapsed:    5.9s remaining:    0.0s\n",
      "[Parallel(n_jobs=2)]: Done   2 out of   2 | elapsed:    5.9s finished\n",
      "[Parallel(n_jobs=2)]: Using backend LokyBackend with 2 concurrent workers.\n",
      "\n",
      "0it [00:00, ?it/s]\n",
      "133it [00:00, 1323.25it/s]"
     ]
    },
    {
     "name": "stdout",
     "output_type": "stream",
     "text": [
      "name: oryctolagus_cuniculus\n"
     ]
    },
    {
     "name": "stderr",
     "output_type": "stream",
     "text": [
      "4424it [00:03, 1351.15it/s][Parallel(n_jobs=2)]: Done   2 out of   2 | elapsed:    3.5s remaining:    0.0s\n",
      "[Parallel(n_jobs=2)]: Done   2 out of   2 | elapsed:    3.5s finished\n",
      "[Parallel(n_jobs=2)]: Using backend LokyBackend with 2 concurrent workers.\n",
      "\n",
      "1it [00:00, 1392.99it/s]\n",
      "1it [00:00, 1508.20it/s]"
     ]
    },
    {
     "name": "stdout",
     "output_type": "stream",
     "text": [
      "name: peromyscus_maniculatus_bairdii\n"
     ]
    },
    {
     "name": "stderr",
     "output_type": "stream",
     "text": [
      "[Parallel(n_jobs=2)]: Done   2 out of   2 | elapsed:    0.3s remaining:    0.0s\n",
      "[Parallel(n_jobs=2)]: Done   2 out of   2 | elapsed:    0.3s finished\n",
      "[Parallel(n_jobs=2)]: Using backend LokyBackend with 2 concurrent workers.\n",
      "\n",
      "0it [00:00, ?it/s]\n",
      "176it [00:00, 1738.27it/s]"
     ]
    },
    {
     "name": "stdout",
     "output_type": "stream",
     "text": [
      "name: tupaia_chinensis\n"
     ]
    },
    {
     "name": "stderr",
     "output_type": "stream",
     "text": [
      "1338it [00:00, 1882.59it/s][Parallel(n_jobs=2)]: Done   2 out of   2 | elapsed:    1.0s remaining:    0.0s\n",
      "[Parallel(n_jobs=2)]: Done   2 out of   2 | elapsed:    1.0s finished\n",
      "[Parallel(n_jobs=2)]: Using backend LokyBackend with 2 concurrent workers.\n",
      "\n",
      "0it [00:00, ?it/s]\n",
      "149it [00:00, 1489.28it/s]"
     ]
    },
    {
     "name": "stdout",
     "output_type": "stream",
     "text": [
      "name: macaca_mulatta\n"
     ]
    },
    {
     "name": "stderr",
     "output_type": "stream",
     "text": [
      "5008it [00:03, 1346.12it/s][Parallel(n_jobs=2)]: Done   2 out of   2 | elapsed:    4.0s remaining:    0.0s\n",
      "[Parallel(n_jobs=2)]: Done   2 out of   2 | elapsed:    4.0s finished\n",
      "[Parallel(n_jobs=2)]: Using backend LokyBackend with 2 concurrent workers.\n",
      "\n",
      "4it [00:00, 1671.70it/s]\n",
      "4it [00:00, 1481.56it/s]"
     ]
    },
    {
     "name": "stdout",
     "output_type": "stream",
     "text": [
      "name: camelus_bactrianus\n"
     ]
    },
    {
     "name": "stderr",
     "output_type": "stream",
     "text": [
      "[Parallel(n_jobs=2)]: Done   2 out of   2 | elapsed:    0.3s remaining:    0.0s\n",
      "[Parallel(n_jobs=2)]: Done   2 out of   2 | elapsed:    0.3s finished\n",
      "[Parallel(n_jobs=2)]: Using backend LokyBackend with 2 concurrent workers.\n",
      "\n",
      "0it [00:00, ?it/s]\n",
      "36it [00:00, 1654.41it/s]"
     ]
    },
    {
     "name": "stdout",
     "output_type": "stream",
     "text": [
      "name: sorex_araneus\n"
     ]
    },
    {
     "name": "stderr",
     "output_type": "stream",
     "text": [
      "[Parallel(n_jobs=2)]: Done   2 out of   2 | elapsed:    0.3s remaining:    0.0s\n",
      "[Parallel(n_jobs=2)]: Done   2 out of   2 | elapsed:    0.3s finished\n",
      "[Parallel(n_jobs=2)]: Using backend LokyBackend with 2 concurrent workers.\n",
      "\n",
      "0it [00:00, ?it/s]\n",
      "3it [00:00, 2066.50it/s]"
     ]
    },
    {
     "name": "stdout",
     "output_type": "stream",
     "text": [
      "name: chinchilla_lanigera\n"
     ]
    },
    {
     "name": "stderr",
     "output_type": "stream",
     "text": [
      "[Parallel(n_jobs=2)]: Done   2 out of   2 | elapsed:    0.3s remaining:    0.0s\n",
      "[Parallel(n_jobs=2)]: Done   2 out of   2 | elapsed:    0.3s finished\n",
      "[Parallel(n_jobs=2)]: Using backend LokyBackend with 2 concurrent workers.\n",
      "\n",
      "1it [00:00, 3104.59it/s]\n",
      "1it [00:00, 3463.50it/s]"
     ]
    },
    {
     "name": "stdout",
     "output_type": "stream",
     "text": [
      "name: ceratotherium_simum_simum\n",
      "(36, 9)\n"
     ]
    },
    {
     "name": "stderr",
     "output_type": "stream",
     "text": [
      "[Parallel(n_jobs=2)]: Done   2 out of   2 | elapsed:    0.3s remaining:    0.0s\n",
      "[Parallel(n_jobs=2)]: Done   2 out of   2 | elapsed:    0.3s finished\n"
     ]
    },
    {
     "data": {
      "text/html": [
       "<div>\n",
       "<style scoped>\n",
       "    .dataframe tbody tr th:only-of-type {\n",
       "        vertical-align: middle;\n",
       "    }\n",
       "\n",
       "    .dataframe tbody tr th {\n",
       "        vertical-align: top;\n",
       "    }\n",
       "\n",
       "    .dataframe thead th {\n",
       "        text-align: right;\n",
       "    }\n",
       "</style>\n",
       "<table border=\"1\" class=\"dataframe\">\n",
       "  <thead>\n",
       "    <tr style=\"text-align: right;\">\n",
       "      <th></th>\n",
       "      <th>name</th>\n",
       "      <th>molecule</th>\n",
       "      <th>ksize</th>\n",
       "      <th>sigma</th>\n",
       "      <th>expected_collisions</th>\n",
       "      <th>n_unique_kmers</th>\n",
       "      <th>n_theoretical_kmers_log10</th>\n",
       "      <th>n_unique_kmers_log10</th>\n",
       "      <th>unique_over_theoretical_log10</th>\n",
       "    </tr>\n",
       "  </thead>\n",
       "  <tbody>\n",
       "    <tr>\n",
       "      <th>0</th>\n",
       "      <td>homo_sapiens</td>\n",
       "      <td>dayhoff6</td>\n",
       "      <td>17</td>\n",
       "      <td>6</td>\n",
       "      <td>7.852379e-06</td>\n",
       "      <td>5439082</td>\n",
       "      <td>13.228571</td>\n",
       "      <td>6.735526</td>\n",
       "      <td>-6.493046</td>\n",
       "    </tr>\n",
       "    <tr>\n",
       "      <th>1</th>\n",
       "      <td>homo_sapiens</td>\n",
       "      <td>protein20</td>\n",
       "      <td>8</td>\n",
       "      <td>20</td>\n",
       "      <td>8.194001e-06</td>\n",
       "      <td>5498718</td>\n",
       "      <td>10.408240</td>\n",
       "      <td>6.740261</td>\n",
       "      <td>-3.667979</td>\n",
       "    </tr>\n",
       "    <tr>\n",
       "      <th>0</th>\n",
       "      <td>ornithorhynchus_anatinus</td>\n",
       "      <td>dayhoff6</td>\n",
       "      <td>17</td>\n",
       "      <td>6</td>\n",
       "      <td>1.730450e-09</td>\n",
       "      <td>647083</td>\n",
       "      <td>13.228571</td>\n",
       "      <td>5.810960</td>\n",
       "      <td>-7.417611</td>\n",
       "    </tr>\n",
       "    <tr>\n",
       "      <th>1</th>\n",
       "      <td>ornithorhynchus_anatinus</td>\n",
       "      <td>protein20</td>\n",
       "      <td>8</td>\n",
       "      <td>20</td>\n",
       "      <td>1.852019e-09</td>\n",
       "      <td>658167</td>\n",
       "      <td>10.408240</td>\n",
       "      <td>5.818336</td>\n",
       "      <td>-4.589904</td>\n",
       "    </tr>\n",
       "    <tr>\n",
       "      <th>0</th>\n",
       "      <td>nannospalax_galili</td>\n",
       "      <td>dayhoff6</td>\n",
       "      <td>17</td>\n",
       "      <td>6</td>\n",
       "      <td>1.925671e-20</td>\n",
       "      <td>1178</td>\n",
       "      <td>13.228571</td>\n",
       "      <td>3.071145</td>\n",
       "      <td>-10.157426</td>\n",
       "    </tr>\n",
       "  </tbody>\n",
       "</table>\n",
       "</div>"
      ],
      "text/plain": [
       "                       name   molecule  ksize  sigma  expected_collisions  \\\n",
       "0              homo_sapiens   dayhoff6     17      6         7.852379e-06   \n",
       "1              homo_sapiens  protein20      8     20         8.194001e-06   \n",
       "0  ornithorhynchus_anatinus   dayhoff6     17      6         1.730450e-09   \n",
       "1  ornithorhynchus_anatinus  protein20      8     20         1.852019e-09   \n",
       "0        nannospalax_galili   dayhoff6     17      6         1.925671e-20   \n",
       "\n",
       "   n_unique_kmers  n_theoretical_kmers_log10  n_unique_kmers_log10  \\\n",
       "0         5439082                  13.228571              6.735526   \n",
       "1         5498718                  10.408240              6.740261   \n",
       "0          647083                  13.228571              5.810960   \n",
       "1          658167                  10.408240              5.818336   \n",
       "0            1178                  13.228571              3.071145   \n",
       "\n",
       "   unique_over_theoretical_log10  \n",
       "0                      -6.493046  \n",
       "1                      -3.667979  \n",
       "0                      -7.417611  \n",
       "1                      -4.589904  \n",
       "0                     -10.157426  "
      ]
     },
     "execution_count": 27,
     "metadata": {},
     "output_type": "execute_result"
    }
   ],
   "source": [
    "dfs = []\n",
    "\n",
    "alpha_ksizes = ((\"dayhoff6\", 17), (\"protein20\", 8))\n",
    "\n",
    "for name, fasta in fastas.items():\n",
    "    print(f\"name: {name}\")\n",
    "    #     iterator = itertools.product(['protein20', 'dayhoff6', 'hp2'], range(2, 51))\n",
    "\n",
    "    #     line = create_index_and_compute_stats(name, fasta, 'dayhoff6', 17)\n",
    "    this_fasta_lines = Parallel(n_jobs=N_JOBS, verbose=True)(\n",
    "        delayed(create_index_and_compute_stats)(name, fasta, alphabet, ksize)\n",
    "        for alphabet, ksize in alpha_ksizes\n",
    "    )\n",
    "    df = format_index_stats(this_fasta_lines)\n",
    "    csv = os.path.join(\n",
    "        MAMMALIA_BUSCO_SUBSET_FOLDER, f\"busco_mammalia_kmer_complexity__{name}.csv\"\n",
    "    )\n",
    "    df.to_csv(csv, index=False)\n",
    "    dfs.append(df)\n",
    "\n",
    "index_stats = pd.concat(dfs)\n",
    "# index_stats['n_theoretical_kmers'] = np.power(index_stats.sigma, index_stats.ksize)\n",
    "# index_stats['unique_over_theoretical'] = index_stats.n_unique_kmers / index_stats.n_theoretical_kmers\n",
    "# index_stats['unique_over_theoretical_log10'] = -1 * np.log10(index_stats['unique_over_theoretical'])\n",
    "csv = os.path.join(\n",
    "    MAMMALIA_BUSCO_SUBSET_FOLDER, \"busco_mammalia_kmer_complexity_all_species.csv\"\n",
    ")\n",
    "\n",
    "index_stats.to_csv(csv, index=False)\n",
    "print(index_stats.shape)\n",
    "index_stats.head()"
   ]
  },
  {
   "cell_type": "markdown",
   "metadata": {},
   "source": [
    "## See all per-species k-mer complexity files"
   ]
  },
  {
   "cell_type": "code",
   "execution_count": 28,
   "metadata": {},
   "outputs": [
    {
     "name": "stdout",
     "output_type": "stream",
     "text": [
      "-rw-r--r-- 1 olgabot  370 Jul 22 12:25 /Users/olgabot/Downloads/00-orpheum-benchmarking/00-external-data/mammalia_busco_subsets/busco_mammalia_kmer_complexity__aotus_nancymaae.csv\n",
      "-rw-r--r-- 1 olgabot  370 Jul 22 12:25 /Users/olgabot/Downloads/00-orpheum-benchmarking/00-external-data/mammalia_busco_subsets/busco_mammalia_kmer_complexity__camelus_bactrianus.csv\n",
      "-rw-r--r-- 1 olgabot  362 Jul 22 12:25 /Users/olgabot/Downloads/00-orpheum-benchmarking/00-external-data/mammalia_busco_subsets/busco_mammalia_kmer_complexity__capra_hircus.csv\n",
      "-rw-r--r-- 1 olgabot  382 Jul 22 12:25 /Users/olgabot/Downloads/00-orpheum-benchmarking/00-external-data/mammalia_busco_subsets/busco_mammalia_kmer_complexity__ceratotherium_simum_simum.csv\n",
      "-rw-r--r-- 1 olgabot  373 Jul 22 12:25 /Users/olgabot/Downloads/00-orpheum-benchmarking/00-external-data/mammalia_busco_subsets/busco_mammalia_kmer_complexity__chinchilla_lanigera.csv\n",
      "-rw-r--r-- 1 olgabot  377 Jul 22 12:25 /Users/olgabot/Downloads/00-orpheum-benchmarking/00-external-data/mammalia_busco_subsets/busco_mammalia_kmer_complexity__erinaceus_europaeus.csv\n",
      "-rw-r--r-- 1 olgabot  363 Jul 22 12:24 /Users/olgabot/Downloads/00-orpheum-benchmarking/00-external-data/mammalia_busco_subsets/busco_mammalia_kmer_complexity__homo_sapiens.csv\n",
      "-rw-r--r-- 1 olgabot  373 Jul 22 12:25 /Users/olgabot/Downloads/00-orpheum-benchmarking/00-external-data/mammalia_busco_subsets/busco_mammalia_kmer_complexity__lipotes_vexillifer.csv\n",
      "-rw-r--r-- 1 olgabot  370 Jul 22 12:25 /Users/olgabot/Downloads/00-orpheum-benchmarking/00-external-data/mammalia_busco_subsets/busco_mammalia_kmer_complexity__macaca_mulatta.csv\n",
      "-rw-r--r-- 1 olgabot  365 Jul 22 12:24 /Users/olgabot/Downloads/00-orpheum-benchmarking/00-external-data/mammalia_busco_subsets/busco_mammalia_kmer_complexity__mus_musculus.csv\n",
      "-rw-r--r-- 1 olgabot  373 Jul 22 12:24 /Users/olgabot/Downloads/00-orpheum-benchmarking/00-external-data/mammalia_busco_subsets/busco_mammalia_kmer_complexity__nannospalax_galili.csv\n",
      "-rw-r--r-- 1 olgabot  388 Jul 22 12:24 /Users/olgabot/Downloads/00-orpheum-benchmarking/00-external-data/mammalia_busco_subsets/busco_mammalia_kmer_complexity__ornithorhynchus_anatinus.csv\n",
      "-rw-r--r-- 1 olgabot  383 Jul 22 12:25 /Users/olgabot/Downloads/00-orpheum-benchmarking/00-external-data/mammalia_busco_subsets/busco_mammalia_kmer_complexity__oryctolagus_cuniculus.csv\n",
      "-rw-r--r-- 1 olgabot  395 Jul 22 12:25 /Users/olgabot/Downloads/00-orpheum-benchmarking/00-external-data/mammalia_busco_subsets/busco_mammalia_kmer_complexity__peromyscus_maniculatus_bairdii.csv\n",
      "-rw-r--r-- 1 olgabot  381 Jul 22 12:25 /Users/olgabot/Downloads/00-orpheum-benchmarking/00-external-data/mammalia_busco_subsets/busco_mammalia_kmer_complexity__phascolarctos_cinereus.csv\n",
      "-rw-r--r-- 1 olgabot  375 Jul 22 12:25 /Users/olgabot/Downloads/00-orpheum-benchmarking/00-external-data/mammalia_busco_subsets/busco_mammalia_kmer_complexity__rhinolophus_sinicus.csv\n",
      "-rw-r--r-- 1 olgabot  362 Jul 22 12:25 /Users/olgabot/Downloads/00-orpheum-benchmarking/00-external-data/mammalia_busco_subsets/busco_mammalia_kmer_complexity__sorex_araneus.csv\n",
      "-rw-r--r-- 1 olgabot  372 Jul 22 12:25 /Users/olgabot/Downloads/00-orpheum-benchmarking/00-external-data/mammalia_busco_subsets/busco_mammalia_kmer_complexity__tupaia_chinensis.csv\n",
      "-rw-r--r-- 1 olgabot 4.3K Jul 22 12:25 /Users/olgabot/Downloads/00-orpheum-benchmarking/00-external-data/mammalia_busco_subsets/busco_mammalia_kmer_complexity_all_species.csv\n"
     ]
    }
   ],
   "source": [
    "ls -lha $MAMMALIA_BUSCO_SUBSET_FOLDER/*csv"
   ]
  },
  {
   "cell_type": "code",
   "execution_count": null,
   "metadata": {},
   "outputs": [],
   "source": []
  }
 ],
 "metadata": {
  "kernelspec": {
   "display_name": "Python [conda env:kmer-homology]",
   "language": "python",
   "name": "conda-env-kmer-homology-py"
  },
  "language_info": {
   "codemirror_mode": {
    "name": "ipython",
    "version": 3
   },
   "file_extension": ".py",
   "mimetype": "text/x-python",
   "name": "python",
   "nbconvert_exporter": "python",
   "pygments_lexer": "ipython3",
   "version": "3.7.12"
  }
 },
 "nbformat": 4,
 "nbformat_minor": 4
}
