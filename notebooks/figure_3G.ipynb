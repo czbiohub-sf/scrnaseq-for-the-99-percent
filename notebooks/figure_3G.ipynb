{
 "cells": [
  {
   "cell_type": "markdown",
   "id": "spectacular-football",
   "metadata": {},
   "source": [
    "# Imports"
   ]
  },
  {
   "cell_type": "code",
   "execution_count": 1,
   "id": "a8f309b8-a518-4a3b-98e3-1520a1e206e5",
   "metadata": {},
   "outputs": [],
   "source": [
    "%load_ext autoreload\n",
    "%autoreload 2"
   ]
  },
  {
   "cell_type": "code",
   "execution_count": 2,
   "id": "spare-minority",
   "metadata": {},
   "outputs": [],
   "source": [
    "import glob\n",
    "import os\n",
    "\n",
    "import matplotlib.pyplot as plt\n",
    "import pandas as pd\n",
    "import scanpy as sc\n",
    "import seaborn as sns"
   ]
  },
  {
   "cell_type": "code",
   "execution_count": 3,
   "id": "36e774d2-c2d4-4df9-99b2-bc9d61474880",
   "metadata": {},
   "outputs": [],
   "source": [
    "from path_constants import H5AD\n",
    "from nb_utils import describe\n",
    "\n",
    "from celltype_utils import get_shared_adata"
   ]
  },
  {
   "cell_type": "markdown",
   "id": "applicable-european",
   "metadata": {},
   "source": [
    "## Read one2one h5ad"
   ]
  },
  {
   "cell_type": "code",
   "execution_count": 4,
   "id": "5b3ad6b6-5db4-4bae-a724-57449d2d5d45",
   "metadata": {},
   "outputs": [
    {
     "name": "stderr",
     "output_type": "stream",
     "text": [
      "/home/olga/miniconda3/envs/immune-evolution/lib/python3.7/site-packages/anndata/_core/anndata.py:1094: FutureWarning: is_categorical is deprecated and will be removed in a future version.  Use is_categorical_dtype instead\n",
      "  if not is_categorical(df_full[k]):\n"
     ]
    }
   ],
   "source": [
    "adata_shared = get_shared_adata()"
   ]
  },
  {
   "cell_type": "markdown",
   "id": "varying-error",
   "metadata": {},
   "source": [
    "# Read parquet files"
   ]
  },
  {
   "cell_type": "markdown",
   "id": "opponent-testimony",
   "metadata": {},
   "source": [
    "## File paths"
   ]
  },
  {
   "cell_type": "code",
   "execution_count": 5,
   "id": "hispanic-slope",
   "metadata": {},
   "outputs": [
    {
     "data": {
      "text/plain": [
       "['/home/olga/data_lg/data_sm_copy/immune-evolution/kmer-signatures/1--train-mouse--to-publish/2--single-cell-kmers/alphabet-dayhoff__ksize-51__scaled-10/hash2kmer__unique_kmers_per_celltype.parquet',\n",
       " '/home/olga/data_lg/data_sm_copy/immune-evolution/kmer-signatures/2--test-human/2--single-cell-kmers/alphabet-dayhoff__ksize-51__scaled-10/hash2kmer__unique_kmers_per_celltype.parquet',\n",
       " '/home/olga/data_lg/data_sm_copy/immune-evolution/kmer-signatures/3--test-bat/2--single-cell-kmers/alphabet-dayhoff__ksize-51__scaled-10/hash2kmer__unique_kmers_per_celltype.parquet',\n",
       " '/home/olga/data_lg/data_sm_copy/immune-evolution/kmer-signatures/4--test-lemur/2--single-cell-kmers/alphabet-dayhoff__ksize-51__scaled-10/hash2kmer__unique_kmers_per_celltype.parquet',\n",
       " '/home/olga/data_lg/data_sm_copy/immune-evolution/kmer-signatures/1--train-mouse/2--single-cell-kmers/alphabet-dayhoff__ksize-51__scaled-10/hash2kmer__unique_kmers_per_celltype.parquet']"
      ]
     },
     "execution_count": 5,
     "metadata": {},
     "output_type": "execute_result"
    }
   ],
   "source": [
    "sketch_id = 'alphabet-dayhoff__ksize-51__scaled-10'\n",
    "sig_outdir_base = \"/home/olga/data_lg/data_sm_copy/immune-evolution/kmer-signatures\"\n",
    "\n",
    "\n",
    "parquets = glob.glob(f'/home/olga/data_lg/data_sm_copy/immune-evolution/kmer-signatures/*/2--single-cell-kmers/{sketch_id}/hash2kmer__unique_kmers_per_celltype.parquet')\n",
    "parquets"
   ]
  },
  {
   "cell_type": "code",
   "execution_count": 6,
   "id": "manufactured-panel",
   "metadata": {},
   "outputs": [],
   "source": [
    "# parquets = glob.glob(f'/home/olga/data_lg/data_sm_copy/immune-evolution/kmer-signatures/*/2--single-cell-kmers/*/hash2kmer__unique_kmers_per_celltype.parquet')\n",
    "# parquets"
   ]
  },
  {
   "cell_type": "code",
   "execution_count": null,
   "id": "dimensional-france",
   "metadata": {},
   "outputs": [
    {
     "name": "stdout",
     "output_type": "stream",
     "text": [
      "-rw-r--r-- 1 olga czb 3.3G Jun 23 11:12 /home/olga/data_lg/data_sm_copy/immune-evolution/kmer-signatures/1--train-mouse--to-publish/2--single-cell-kmers/alphabet-dayhoff__ksize-51__scaled-10/hash2kmer__unique_kmers_per_celltype.parquet\n"
     ]
    }
   ],
   "source": [
    "%%time\n",
    "dfs = []\n",
    "\n",
    "for parquet in parquets:\n",
    "    ! ls -lha $parquet\n",
    "    %time df = pd.read_parquet(parquet)\n",
    "    df = df.rename(columns={'broad_group': 'groundtruth_celltype'})\n",
    "    dfs.append(df)\n",
    "    \n",
    "hash2kmer = pd.concat(dfs)\n",
    "describe(hash2kmer)"
   ]
  },
  {
   "cell_type": "markdown",
   "id": "terminal-tolerance",
   "metadata": {},
   "source": [
    "## Read predicted cell types"
   ]
  },
  {
   "cell_type": "code",
   "execution_count": null,
   "id": "armed-lease",
   "metadata": {},
   "outputs": [],
   "source": [
    "predicted_cells_min_5_percent = pd.read_parquet(\n",
    "    os.path.join(sig_outdir_base, \"aggregated-predicted-cells.parquet\")\n",
    ")\n",
    "predicted_cells_min_5_percent = predicted_cells_min_5_percent.query('sketch_id == @sketch_id')\n",
    "describe(predicted_cells_min_5_percent)"
   ]
  },
  {
   "cell_type": "markdown",
   "id": "checked-toronto",
   "metadata": {},
   "source": [
    "### Join hash2kmer with predicted cell types"
   ]
  },
  {
   "cell_type": "code",
   "execution_count": null,
   "id": "sixth-conclusion",
   "metadata": {},
   "outputs": [],
   "source": [
    "celltype_predictions = predicted_cells_min_5_percent[\n",
    "    [\"predicted_celltype\", \"groundtruth_compartment\", \"predicted_compartment\"]\n",
    "]\n",
    "celltype_predictions.index = celltype_predictions.index.str.upper()\n",
    "describe(celltype_predictions)"
   ]
  },
  {
   "cell_type": "code",
   "execution_count": null,
   "id": "separate-athens",
   "metadata": {},
   "outputs": [],
   "source": [
    "hash2kmer.cell_id = hash2kmer.cell_id.str.upper()"
   ]
  },
  {
   "cell_type": "code",
   "execution_count": null,
   "id": "future-working",
   "metadata": {},
   "outputs": [],
   "source": [
    "hash2kmer_with_predictions = hash2kmer.join(celltype_predictions, on='cell_id')\n",
    "describe(hash2kmer_with_predictions)"
   ]
  },
  {
   "cell_type": "code",
   "execution_count": null,
   "id": "latest-spell",
   "metadata": {},
   "outputs": [],
   "source": [
    "hash2kmer_with_predictions['hashval'] = hash2kmer_with_predictions['hashval'].astype(str)"
   ]
  },
  {
   "cell_type": "markdown",
   "id": "elect-sudan",
   "metadata": {},
   "source": [
    "### Write joined to parquet"
   ]
  },
  {
   "cell_type": "code",
   "execution_count": null,
   "id": "moderate-leader",
   "metadata": {},
   "outputs": [],
   "source": [
    "hash2kmer_with_predictions.to_parquet(\n",
    "    os.path.join(sig_outdir_base, f\"aggregated-hash2kmer-with-predicted-cells__{sketch_id}.parquet\")\n",
    ")"
   ]
  },
  {
   "cell_type": "markdown",
   "id": "environmental-thesis",
   "metadata": {},
   "source": [
    "## Seems like some cell ids aren't there .. why?"
   ]
  },
  {
   "cell_type": "code",
   "execution_count": null,
   "id": "numeric-discipline",
   "metadata": {},
   "outputs": [],
   "source": [
    "hash2kmer_cell_ids = set(hash2kmer.cell_id)"
   ]
  },
  {
   "cell_type": "code",
   "execution_count": null,
   "id": "wicked-teddy",
   "metadata": {},
   "outputs": [],
   "source": [
    "adata_shared.obs.index = adata_shared.obs.index.str.upper()"
   ]
  },
  {
   "cell_type": "code",
   "execution_count": null,
   "id": "voluntary-flood",
   "metadata": {},
   "outputs": [],
   "source": [
    "cell_ids_not_in_hash2kmer = adata_shared.obs.index.difference(hash2kmer_cell_ids)\n",
    "len(cell_ids_not_in_hash2kmer)"
   ]
  },
  {
   "cell_type": "code",
   "execution_count": null,
   "id": "infrared-google",
   "metadata": {},
   "outputs": [],
   "source": [
    "adata_shared.obs.loc[cell_ids_not_in_hash2kmer].species.value_counts()"
   ]
  },
  {
   "cell_type": "code",
   "execution_count": null,
   "id": "parental-economy",
   "metadata": {},
   "outputs": [],
   "source": [
    "channel_sizes = adata_shared.obs.groupby('channel').size()"
   ]
  },
  {
   "cell_type": "code",
   "execution_count": null,
   "id": "circular-pizza",
   "metadata": {},
   "outputs": [],
   "source": [
    "no_id_present_channel_sizes = adata_shared.obs.loc[cell_ids_not_in_hash2kmer].groupby('channel').size()"
   ]
  },
  {
   "cell_type": "code",
   "execution_count": null,
   "id": "interstate-involvement",
   "metadata": {},
   "outputs": [],
   "source": [
    "no_id_present_channel_sizes"
   ]
  },
  {
   "cell_type": "code",
   "execution_count": null,
   "id": "qualified-damages",
   "metadata": {},
   "outputs": [],
   "source": [
    "100 * no_id_present_channel_sizes/channel_sizes"
   ]
  },
  {
   "cell_type": "code",
   "execution_count": null,
   "id": "regular-hawaii",
   "metadata": {},
   "outputs": [],
   "source": [
    "celltype_hashvals = hash2kmer.groupby(['species', 'groundtruth_celltype']).alignment_status.value_counts()\n",
    "celltype_hashvals.head()"
   ]
  },
  {
   "cell_type": "code",
   "execution_count": null,
   "id": "heavy-thumb",
   "metadata": {},
   "outputs": [],
   "source": [
    "celltype_hashvals"
   ]
  },
  {
   "cell_type": "code",
   "execution_count": null,
   "id": "major-arizona",
   "metadata": {},
   "outputs": [],
   "source": [
    "celltype_hashval_percentage = celltype_hashvals.groupby(level=[0, 1]).apply(lambda x: 100 * x/x.sum())\n",
    "celltype_hashval_percentage.name = 'percentage'\n",
    "celltype_hashval_percentage = celltype_hashval_percentage.reset_index()\n",
    "celltype_hashval_percentage"
   ]
  },
  {
   "cell_type": "code",
   "execution_count": null,
   "id": "hairy-sociology",
   "metadata": {},
   "outputs": [],
   "source": [
    "celltype_hashval_percentage_unaligned = celltype_hashval_percentage.query('alignment_status == \"unaligned\"')\n"
   ]
  },
  {
   "cell_type": "code",
   "execution_count": null,
   "id": "unauthorized-newsletter",
   "metadata": {},
   "outputs": [],
   "source": [
    "order = celltype_hashval_percentage_unaligned.query('species == \"bat\"').sort_values(\n",
    "    \"percentage\"\n",
    ")[\"groundtruth_celltype\"]\n",
    "order"
   ]
  },
  {
   "cell_type": "code",
   "execution_count": null,
   "id": "abstract-chapter",
   "metadata": {},
   "outputs": [],
   "source": [
    "g = sns.catplot(\n",
    "    data=celltype_hashval_percentage_unaligned,\n",
    "    y=\"groundtruth_celltype\",\n",
    "    x=\"percentage\",\n",
    "    hue=\"species\",\n",
    "    kind=\"bar\",\n",
    "    order=order\n",
    ")\n",
    "g.set(xscale=\"log\")"
   ]
  },
  {
   "cell_type": "code",
   "execution_count": null,
   "id": "quantitative-gateway",
   "metadata": {},
   "outputs": [],
   "source": [
    "g = sns.catplot(\n",
    "    data=celltype_hashval_percentage_unaligned,\n",
    "    y=\"groundtruth_celltype\",\n",
    "    x=\"percentage\",\n",
    "    col=\"species\",\n",
    "    kind=\"bar\",\n",
    "    order=order\n",
    ")\n",
    "g.set(xscale=\"log\")"
   ]
  },
  {
   "cell_type": "markdown",
   "id": "downtown-style",
   "metadata": {},
   "source": [
    "## Read mouse diagnostic k-mer csvs"
   ]
  },
  {
   "cell_type": "code",
   "execution_count": null,
   "id": "strong-geography",
   "metadata": {},
   "outputs": [],
   "source": [
    "mouse_dir = '/home/olga/data_lg/data_sm_copy/immune-evolution/kmer-signatures/1--train-mouse/'\n",
    "celltype_kmer_subdir = '5--celltype-kmers--merged-celltype-remove-common-kmers--min-kmer-count--5-percent'\n",
    "\n",
    "mouse_celltype_kmer_csvs = glob.glob(os.path.join(mouse_dir, celltype_kmer_subdir, sketch_id, 'csvs', '*csv'))\n",
    "mouse_celltype_kmer_csvs"
   ]
  },
  {
   "cell_type": "code",
   "execution_count": null,
   "id": "medical-forestry",
   "metadata": {},
   "outputs": [],
   "source": [
    "%%time\n",
    "\n",
    "dfs = []\n",
    "\n",
    "for csv in mouse_celltype_kmer_csvs:\n",
    "    basename = os.path.basename(csv)\n",
    "    print('\\ncelltype file:', )\n",
    "    %time df = pd.read_csv(csv)\n",
    "    df['celltype'] = basename.split('.')[0]\n",
    "    dfs.append(df)\n",
    "mouse_celltype_kmers = pd.concat(dfs)\n",
    "describe(mouse_celltype_kmers)"
   ]
  },
  {
   "cell_type": "markdown",
   "id": "strong-township",
   "metadata": {},
   "source": [
    "# Gene orthology"
   ]
  },
  {
   "cell_type": "markdown",
   "id": "prescription-cooler",
   "metadata": {},
   "source": [
    "## Assign figure folder"
   ]
  },
  {
   "cell_type": "code",
   "execution_count": null,
   "id": "resistant-denial",
   "metadata": {},
   "outputs": [],
   "source": [
    "figure_folder = (\n",
    "    \"/home/olga/googledrive/ImmuneEvolution/figures/kmer_gene_orthology\"\n",
    ")\n",
    "!mkdir -p $figure_folder"
   ]
  },
  {
   "cell_type": "markdown",
   "id": "proper-submission",
   "metadata": {},
   "source": [
    "## Use 1:1 orthologs from Anndata of bat-Lemur-human-mouse"
   ]
  },
  {
   "cell_type": "code",
   "execution_count": null,
   "id": "anonymous-child",
   "metadata": {},
   "outputs": [],
   "source": [
    "describe(adata_shared.var)"
   ]
  },
  {
   "cell_type": "markdown",
   "id": "statistical-problem",
   "metadata": {},
   "source": [
    "## Assign k-mer type based on alignment status and gene name"
   ]
  },
  {
   "cell_type": "code",
   "execution_count": null,
   "id": "embedded-classification",
   "metadata": {},
   "outputs": [],
   "source": [
    "PER_SPECIES_ORTHOLOGOUS_GENES = {\n",
    "    \"bat\": set(adata_shared.var[\"bat__gene_name\"]),\n",
    "    \"lemur\": set(adata_shared.var[\"mouse_lemur__gene_name_x-hlm\"]),\n",
    "    \"human\": set(adata_shared.var.index),\n",
    "    \"mouse\": set(adata_shared.var[\"mouse__gene_name-bat\"]),\n",
    "}\n",
    "for k, v in PER_SPECIES_ORTHOLOGOUS_GENES.items():\n",
    "    print(k, len(v))"
   ]
  },
  {
   "cell_type": "code",
   "execution_count": null,
   "id": "historic-passion",
   "metadata": {},
   "outputs": [],
   "source": [
    "%%time\n",
    "\n",
    "def is_orthologous(query_gene, species, per_species_orthologous_genes=PER_SPECIES_ORTHOLOGOUS_GENES):\n",
    "    orthologous_genes = per_species_orthologous_genes[species]\n",
    "    return query_gene in orthologous_genes\n",
    "\n",
    "\n",
    "def assign_kmer_category(row):\n",
    "    if row.alignment_status == 'unaligned':\n",
    "        return 'Not in reference genome'\n",
    "    elif pd.isnull(row.gene_name):\n",
    "        return 'In ref genome, not in a gene'\n",
    "    elif is_orthologous(row.gene_name, row.species):\n",
    "        return 'In ref genome, in a 1:1 orthologous gene'\n",
    "    else:\n",
    "        return 'In ref genome, not in a 1:1 orthologous gene'\n",
    "\n",
    "hash2kmer['kmer_category'] = hash2kmer.apply(assign_kmer_category, axis=1)\n",
    "hash2kmer.groupby(['species', 'kmer_category']).size()"
   ]
  },
  {
   "cell_type": "code",
   "execution_count": null,
   "id": "operational-pattern",
   "metadata": {},
   "outputs": [],
   "source": [
    "hash2kmer_with_predictions = hash2kmer.join(celltype_predictions, on='cell_id')\n",
    "describe(hash2kmer_with_predictions)"
   ]
  },
  {
   "cell_type": "code",
   "execution_count": null,
   "id": "entitled-control",
   "metadata": {},
   "outputs": [],
   "source": [
    "kmer_categories = (\n",
    "    \"Not in reference genome\",\n",
    "    \"In ref genome, not in a gene\",\n",
    "    \"In ref genome, not in a 1:1 orthologous gene\",\n",
    "    \"In ref genome, in a 1:1 orthologous gene\",\n",
    ")"
   ]
  },
  {
   "cell_type": "code",
   "execution_count": null,
   "id": "suffering-negative",
   "metadata": {},
   "outputs": [],
   "source": [
    "hash2kmer_with_predictions['kmer_category'] = pd.Categorical(hash2kmer_with_predictions['kmer_category'], categories=kmer_categories, ordered=True)"
   ]
  },
  {
   "cell_type": "markdown",
   "id": "excellent-jordan",
   "metadata": {},
   "source": [
    "## Write hash2kmer with predictions and orthology to parquet"
   ]
  },
  {
   "cell_type": "code",
   "execution_count": null,
   "id": "adapted-significance",
   "metadata": {},
   "outputs": [],
   "source": [
    "hash2kmer_with_predictions['hashval'] = hash2kmer_with_predictions['hashval'].astype(str)"
   ]
  },
  {
   "cell_type": "code",
   "execution_count": null,
   "id": "unlike-looking",
   "metadata": {},
   "outputs": [],
   "source": [
    "hash2kmer_with_predictions.to_parquet(\n",
    "    os.path.join(sig_outdir_base, f\"aggregated-hash2kmer-with-predicted-cells--{sketch_id}--with-orthology.parquet\")\n",
    ")"
   ]
  },
  {
   "cell_type": "code",
   "execution_count": null,
   "id": "nominated-nurse",
   "metadata": {},
   "outputs": [],
   "source": [
    "1+1"
   ]
  },
  {
   "cell_type": "markdown",
   "id": "composed-december",
   "metadata": {},
   "source": [
    "## Get number of k-mers in different categories per `groundtruth_celltype`"
   ]
  },
  {
   "cell_type": "code",
   "execution_count": null,
   "id": "spoken-scoop",
   "metadata": {},
   "outputs": [],
   "source": [
    "%%time\n",
    "\n",
    "celltype_col = \"groundtruth_celltype\"\n",
    "\n",
    "diagnostic_kmers_n_per_category = hash2kmer_with_predictions.groupby(\n",
    "    [\"species\", celltype_col, \"kmer_category\"]\n",
    ").hashval.nunique()\n",
    "diagnostic_kmers_n_per_category.name = \"percent_kmers\"\n",
    "diagnostic_kmers_n_per_category"
   ]
  },
  {
   "cell_type": "code",
   "execution_count": null,
   "id": "lucky-skill",
   "metadata": {},
   "outputs": [],
   "source": [
    "diagnostic_kmers_n_per_category_df = diagnostic_kmers_n_per_category.groupby(level=[0, 1]).apply(lambda x: 100*x/x.sum()).reset_index()\n",
    "diagnostic_kmers_n_per_category_df"
   ]
  },
  {
   "cell_type": "code",
   "execution_count": null,
   "id": "premier-whale",
   "metadata": {},
   "outputs": [],
   "source": [
    "diagnostic_kmers_n_per_category_df.query(\n",
    "    '(species == \"mouse\") and (kmer_category == \"Not in reference genome\")'\n",
    ").sort_values('percent_kmers')"
   ]
  },
  {
   "cell_type": "code",
   "execution_count": null,
   "id": "fewer-taylor",
   "metadata": {},
   "outputs": [],
   "source": [
    "diagnostic_kmers_n_per_category_df.query(\n",
    "    '(species == \"mouse\") and (kmer_category == \"Not in reference genome\")'\n",
    ").sort_values('percent_kmers')"
   ]
  },
  {
   "cell_type": "code",
   "execution_count": null,
   "id": "secure-outdoors",
   "metadata": {},
   "outputs": [],
   "source": [
    "diagnostic_kmers_n_per_category_df.query(\n",
    "    '(species == \"lemur\") and (kmer_category == \"Not in reference genome\")'\n",
    ").sort_values('percent_kmers')"
   ]
  },
  {
   "cell_type": "markdown",
   "id": "violent-korea",
   "metadata": {},
   "source": [
    "# Plot percentage of kmers in ref genome, etc"
   ]
  },
  {
   "cell_type": "code",
   "execution_count": null,
   "id": "atlantic-newman",
   "metadata": {},
   "outputs": [],
   "source": [
    "figure_folder = '/home/olga/googledrive/kmer-homology-paper/figures/kmer_gene_orthology'\n",
    "! mkdir $figure_folder"
   ]
  },
  {
   "cell_type": "code",
   "execution_count": null,
   "id": "conceptual-asian",
   "metadata": {},
   "outputs": [],
   "source": [
    "species_order = 'human', 'lemur', 'mouse', 'bat'\n",
    "diagnostic_kmers_n_per_category_df['species'] = pd.Categorical(diagnostic_kmers_n_per_category_df['species'], categories=species_order, ordered=True)"
   ]
  },
  {
   "cell_type": "code",
   "execution_count": null,
   "id": "great-wound",
   "metadata": {},
   "outputs": [],
   "source": [
    "g = sns.catplot(\n",
    "    data=diagnostic_kmers_n_per_category_df,\n",
    "    col=celltype_col,\n",
    "    order=species_order,\n",
    "    col_wrap=5,\n",
    "    y=\"species\",\n",
    "    x=\"percent_kmers\",\n",
    "    hue=\"kmer_category\",\n",
    "    hue_order=kmer_categories,\n",
    "    palette='mako',\n",
    "    kind='bar',\n",
    "    height=2,\n",
    "    linewidth=1,\n",
    "    edgecolor='white'\n",
    "#     legend=True,\n",
    ")\n",
    "g.set_titles('{col_name}')\n",
    "for ax in g.axes.flat:\n",
    "    title = ax.get_title()\n",
    "    if title == 'Smooth Muscle and Myofibroblast':\n",
    "        ax.set_title('Smooth Muscle\\nand Myofibroblast', fontsize=10, pad=-20)\n",
    "pdf = os.path.join(figure_folder, 'unstacked_barplot__col-celltype__y-species__hue-kmer_category.pdf')\n",
    "g.savefig(pdf)"
   ]
  },
  {
   "cell_type": "code",
   "execution_count": null,
   "id": "separate-delhi",
   "metadata": {},
   "outputs": [],
   "source": [
    "g = sns.catplot(\n",
    "    data=diagnostic_kmers_n_per_category_df,\n",
    "    hue=celltype_col,\n",
    "#     col_wrap=2,\n",
    "    y=\"species\",\n",
    "    order=species_order,\n",
    "    x=\"percent_kmers\",\n",
    "    col=\"kmer_category\",\n",
    "    col_order=kmer_categories,\n",
    "    palette='tab10',\n",
    "    kind='bar',\n",
    "    height=2.5,\n",
    "    sharex=True,\n",
    "        linewidth=.5,\n",
    "    edgecolor='white'\n",
    "#     legend=True,\n",
    ")\n",
    "g.set_titles('{col_name}')\n",
    "for ax in g.axes.flat:\n",
    "    if ax.is_last_row():\n",
    "        title = ax.get_title()\n",
    "        title = title.replace(',', ',\\n')\n",
    "        ax.set_title(title, fontsize=10, pad=-20)\n",
    "#     if ax.is_first_col():\n",
    "#         ax.set(xscale='log')\n",
    "pdf = os.path.join(figure_folder, 'unstacked_barplot__col-kmer_category__y-species__hue-celltype.pdf')\n",
    "g.savefig(pdf)"
   ]
  },
  {
   "cell_type": "code",
   "execution_count": null,
   "id": "confirmed-praise",
   "metadata": {},
   "outputs": [],
   "source": [
    "species_order_no_lemur = ['human','mouse', 'bat']"
   ]
  },
  {
   "cell_type": "code",
   "execution_count": null,
   "id": "essential-ecuador",
   "metadata": {},
   "outputs": [],
   "source": [
    "diagnostic_kmers_n_per_category_df_no_lemur = diagnostic_kmers_n_per_category_df.query(\n",
    "    \"species in @species_order_no_lemur\"\n",
    ")\n",
    "diagnostic_kmers_n_per_category_df_no_lemur.species = pd.Categorical(\n",
    "    diagnostic_kmers_n_per_category_df_no_lemur.species,\n",
    "    categories=species_order_no_lemur,\n",
    "    ordered=True,\n",
    ")\n",
    "describe(diagnostic_kmers_n_per_category_df_no_lemur)"
   ]
  },
  {
   "cell_type": "code",
   "execution_count": null,
   "id": "moral-barrier",
   "metadata": {},
   "outputs": [],
   "source": [
    "fig, axes = plt.subplots(ncols=5, nrows=2, figsize=(12, 3), sharex=True, sharey=True)\n",
    "\n",
    "\n",
    "for (celltype, df), ax in zip(\n",
    "    diagnostic_kmers_n_per_category_df_no_lemur.groupby(celltype_col), axes.flat\n",
    "):\n",
    "    \n",
    "#     legend = ax.is_last_col() and ax.is_last_row()\n",
    "    # One liner to create a stacked bar chart.\n",
    "    sns.histplot(\n",
    "        df,\n",
    "        y=\"species\",\n",
    "        hue=\"kmer_category\",\n",
    "        weights=\"percent_kmers\",\n",
    "        multiple=\"stack\",\n",
    "        palette=\"mako\",\n",
    "        linewidth=1,\n",
    "        edgecolor=\"white\",\n",
    "        legend=False,\n",
    "        ax=ax,\n",
    "    )\n",
    "    ax.set(\n",
    "        ylabel=\"species\",\n",
    "        xlabel='Percentage',\n",
    "        title=celltype.replace(\"and\", \"\\nand\"),\n",
    "#         yticks=species_order,\n",
    "    )\n",
    "    \n",
    "# Fix the legend so it's not on top of the bars.\n",
    "# legend = ax.get_legend()\n",
    "# legend.set_bbox_to_anchor((1, 1))\n",
    "sns.despine()\n",
    "fig.tight_layout()\n",
    "pdf = os.path.join(figure_folder, 'stacked_barplot__col-celtype__y-species__hue-kmer_category.pdf')\n",
    "fig.savefig(pdf)"
   ]
  },
  {
   "cell_type": "code",
   "execution_count": null,
   "id": "naked-hacker",
   "metadata": {},
   "outputs": [],
   "source": [
    "figure_folder"
   ]
  },
  {
   "cell_type": "code",
   "execution_count": null,
   "id": "athletic-assets",
   "metadata": {},
   "outputs": [],
   "source": [
    "fig, axes = plt.subplots(ncols=2, nrows=5, figsize=(4.5, 6), sharex=True, sharey=True)\n",
    "\n",
    "\n",
    "for (celltype, df), ax in zip(\n",
    "    diagnostic_kmers_n_per_category_df_no_lemur.groupby(celltype_col), axes.flat\n",
    "):\n",
    "    \n",
    "#     legend = ax.is_last_col() and ax.is_last_row()\n",
    "    # One liner to create a stacked bar chart.\n",
    "    sns.histplot(\n",
    "        df,\n",
    "        y=\"species\",\n",
    "        hue=\"kmer_category\",\n",
    "        weights=\"percent_kmers\",\n",
    "        multiple=\"stack\",\n",
    "        palette=\"mako\",\n",
    "        linewidth=1,\n",
    "        edgecolor=\"white\",\n",
    "        legend=False,\n",
    "        ax=ax,\n",
    "    )\n",
    "    ax.set(\n",
    "        ylabel=\"species\",\n",
    "        xlabel='Percentage',\n",
    "        title=celltype.replace(\"and\", \"\\nand\"),\n",
    "    )\n",
    "    \n",
    "# Fix the legend so it's not on top of the bars.\n",
    "# legend = ax.get_legend()\n",
    "# legend.set_bbox_to_anchor((1, 1))\n",
    "sns.despine()\n",
    "fig.tight_layout()\n",
    "pdf = os.path.join(figure_folder, 'stacked_barplot__col-celtype__y-species__hue-kmer_category__two_column.pdf')\n",
    "fig.savefig(pdf)"
   ]
  },
  {
   "cell_type": "code",
   "execution_count": null,
   "id": "conventional-anger",
   "metadata": {},
   "outputs": [],
   "source": [
    "fig, axes = plt.subplots(ncols=3, figsize=(12, 4), sharex=True, sharey=True)\n",
    "\n",
    "\n",
    "for (species, df), ax in zip(\n",
    "    diagnostic_kmers_n_per_category_df_no_lemur.groupby(\"species\"), axes.flat\n",
    "):\n",
    "    legend = ax.is_last_col()\n",
    "    # One liner to create a stacked bar chart.\n",
    "    sns.histplot(\n",
    "        df,\n",
    "        y=celltype_col,\n",
    "        hue=\"kmer_category\",\n",
    "        weights=\"percent_kmers\",\n",
    "        multiple=\"stack\",\n",
    "        palette=\"mako\",\n",
    "        linewidth=1,\n",
    "        edgecolor=\"white\",\n",
    "        legend=legend,\n",
    "        ax=ax,\n",
    "    )\n",
    "    ax.set(\n",
    "        ylabel=\"percentage\",\n",
    "        title=species,\n",
    "#         yticks=[\"bat\", \"human\"],\n",
    "    )\n",
    "# Fix the legend so it's not on top of the bars.\n",
    "legend = ax.get_legend()\n",
    "legend.set_bbox_to_anchor((1, 1))\n",
    "\n",
    "sns.despine()\n",
    "fig.tight_layout()\n",
    "\n",
    "pdf = os.path.join(figure_folder, 'stacked_barplot__col-species__y-celltype__hue-kmer_category.pdf')\n",
    "fig.savefig(pdf)"
   ]
  },
  {
   "cell_type": "code",
   "execution_count": null,
   "id": "pending-baker",
   "metadata": {},
   "outputs": [],
   "source": [
    "1+1"
   ]
  },
  {
   "cell_type": "markdown",
   "id": "retired-donna",
   "metadata": {},
   "source": [
    "## Get number of k-mers in different categories per `predicted_compartment`"
   ]
  },
  {
   "cell_type": "code",
   "execution_count": null,
   "id": "amino-christmas",
   "metadata": {},
   "outputs": [],
   "source": [
    "%%time\n",
    "\n",
    "celltype_col = \"predicted_compartment\"\n",
    "\n",
    "compartment_kmers_n_per_category = hash2kmer_with_predictions.groupby(\n",
    "    [\"species\", celltype_col, \"kmer_category\"]\n",
    ").hashval.nunique()\n",
    "compartment_kmers_n_per_category.name = \"percent_kmers\"\n",
    "compartment_kmers_n_per_category"
   ]
  },
  {
   "cell_type": "code",
   "execution_count": null,
   "id": "improving-pierre",
   "metadata": {},
   "outputs": [],
   "source": [
    "compartment_kmers_n_per_category_df = compartment_kmers_n_per_category.groupby(level=[0, 1]).apply(lambda x: 100*x/x.sum()).reset_index()\n",
    "compartment_kmers_n_per_category_df"
   ]
  },
  {
   "cell_type": "code",
   "execution_count": null,
   "id": "legal-graphics",
   "metadata": {},
   "outputs": [],
   "source": [
    "compartment_kmers_n_per_category_df.query(\n",
    "    '(species == \"mouse\") and (kmer_category == \"Not in reference genome\")'\n",
    ").sort_values('percent_kmers')"
   ]
  },
  {
   "cell_type": "code",
   "execution_count": null,
   "id": "foreign-sudan",
   "metadata": {},
   "outputs": [],
   "source": [
    "compartment_kmers_n_per_category_df.query(\n",
    "    '(species == \"mouse\") and (kmer_category == \"Not in reference genome\")'\n",
    ").sort_values('percent_kmers')"
   ]
  },
  {
   "cell_type": "code",
   "execution_count": null,
   "id": "infinite-default",
   "metadata": {},
   "outputs": [],
   "source": [
    "compartment_kmers_n_per_category_df.query(\n",
    "    '(species == \"lemur\") and (kmer_category == \"Not in reference genome\")'\n",
    ").sort_values('percent_kmers')"
   ]
  },
  {
   "cell_type": "markdown",
   "id": "brave-brazil",
   "metadata": {},
   "source": [
    "# Plot percentage of kmers in ref genome, etc"
   ]
  },
  {
   "cell_type": "code",
   "execution_count": null,
   "id": "combined-commissioner",
   "metadata": {},
   "outputs": [],
   "source": [
    "figure_folder = '/home/olga/googledrive/kmer-homology-paper/figures/kmer_gene_orthology'\n",
    "! mkdir $figure_folder"
   ]
  },
  {
   "cell_type": "code",
   "execution_count": null,
   "id": "greenhouse-denmark",
   "metadata": {},
   "outputs": [],
   "source": [
    "species_order = 'human', 'lemur', 'mouse', 'bat'\n",
    "compartment_kmers_n_per_category_df['species'] = pd.Categorical(compartment_kmers_n_per_category_df ['species'], categories=species_order, ordered=True)"
   ]
  },
  {
   "cell_type": "code",
   "execution_count": null,
   "id": "damaged-peter",
   "metadata": {},
   "outputs": [],
   "source": [
    "g = sns.catplot(\n",
    "    data=compartment_kmers_n_per_category_df,\n",
    "    col=celltype_col,\n",
    "    order=species_order,\n",
    "    col_wrap=5,\n",
    "    y=\"species\",\n",
    "    x=\"percent_kmers\",\n",
    "    hue=\"kmer_category\",\n",
    "    hue_order=kmer_categories,\n",
    "    palette='mako',\n",
    "    kind='bar',\n",
    "    height=2,\n",
    "    linewidth=1,\n",
    "    edgecolor='white'\n",
    "#     legend=True,\n",
    ")\n",
    "g.set_titles('{col_name}')\n",
    "for ax in g.axes.flat:\n",
    "    title = ax.get_title()\n",
    "    if title == 'Smooth Muscle and Myofibroblast':\n",
    "        ax.set_title('Smooth Muscle\\nand Myofibroblast', fontsize=10, pad=-20)\n",
    "pdf = os.path.join(figure_folder, f'unstacked_barplot__col-celltype__y-species__hue-kmer_category__{celltype_col}.pdf')\n",
    "g.savefig(pdf)"
   ]
  },
  {
   "cell_type": "code",
   "execution_count": null,
   "id": "permanent-wallace",
   "metadata": {},
   "outputs": [],
   "source": [
    "g = sns.catplot(\n",
    "    data=compartment_kmers_n_per_category_df,\n",
    "    hue=celltype_col,\n",
    "#     col_wrap=2,\n",
    "    y=\"species\",\n",
    "    order=species_order,\n",
    "    x=\"percent_kmers\",\n",
    "    col=\"kmer_category\",\n",
    "    col_order=kmer_categories,\n",
    "    palette='tab10',\n",
    "    kind='bar',\n",
    "    height=2.5,\n",
    "    sharex=True,\n",
    "        linewidth=.5,\n",
    "    edgecolor='white'\n",
    "#     legend=True,\n",
    ")\n",
    "g.set_titles('{col_name}')\n",
    "for ax in g.axes.flat:\n",
    "    if ax.is_last_row():\n",
    "        title = ax.get_title()\n",
    "        title = title.replace(',', ',\\n')\n",
    "        ax.set_title(title, fontsize=10, pad=-20)\n",
    "#     if ax.is_first_col():\n",
    "#         ax.set(xscale='log')\n",
    "pdf = os.path.join(figure_folder, f'unstacked_barplot__col-kmer_category__y-species__hue-celltype__{celltype_col}.pdf')\n",
    "g.savefig(pdf)"
   ]
  },
  {
   "cell_type": "code",
   "execution_count": null,
   "id": "worse-scenario",
   "metadata": {},
   "outputs": [],
   "source": [
    "species_order_no_lemur = ['human','mouse', 'bat']"
   ]
  },
  {
   "cell_type": "code",
   "execution_count": null,
   "id": "involved-climb",
   "metadata": {},
   "outputs": [],
   "source": [
    "compartment_kmers_n_per_category_df_no_lemur = compartment_kmers_n_per_category_df.query(\n",
    "    \"species in @species_order_no_lemur\"\n",
    ")\n",
    "compartment_kmers_n_per_category_df_no_lemur.species = pd.Categorical(\n",
    "    compartment_kmers_n_per_category_df_no_lemur.species,\n",
    "    categories=species_order_no_lemur,\n",
    "    ordered=True,\n",
    ")\n",
    "describe(compartment_kmers_n_per_category_df_no_lemur)"
   ]
  },
  {
   "cell_type": "code",
   "execution_count": null,
   "id": "baking-disability",
   "metadata": {},
   "outputs": [],
   "source": [
    "compartment_kmers_n_per_category_df_no_lemur.query('kmer_category == \"Not in reference genome\"')"
   ]
  },
  {
   "cell_type": "code",
   "execution_count": null,
   "id": "separate-vision",
   "metadata": {},
   "outputs": [],
   "source": [
    "fig, axes = plt.subplots(ncols=5, nrows=2, figsize=(12, 3), sharex=True, sharey=True)\n",
    "\n",
    "\n",
    "for (celltype, df), ax in zip(\n",
    "    compartment_kmers_n_per_category_df_no_lemur.groupby(celltype_col), axes.flat\n",
    "):\n",
    "    \n",
    "#     legend = ax.is_last_col() and ax.is_last_row()\n",
    "    # One liner to create a stacked bar chart.\n",
    "    sns.histplot(\n",
    "        df,\n",
    "        y=\"species\",\n",
    "        hue=\"kmer_category\",\n",
    "        weights=\"percent_kmers\",\n",
    "        multiple=\"stack\",\n",
    "        palette=\"mako\",\n",
    "        linewidth=1,\n",
    "        edgecolor=\"white\",\n",
    "        legend=False,\n",
    "        ax=ax,\n",
    "    )\n",
    "    ax.set(\n",
    "        ylabel=\"species\",\n",
    "        xlabel='Percentage',\n",
    "        title=celltype.replace(\"and\", \"\\nand\"),\n",
    "#         yticks=species_order,\n",
    "    )\n",
    "    \n",
    "# Fix the legend so it's not on top of the bars.\n",
    "# legend = ax.get_legend()\n",
    "# legend.set_bbox_to_anchor((1, 1))\n",
    "sns.despine()\n",
    "fig.tight_layout()\n",
    "pdf = os.path.join(figure_folder, f'stacked_barplot__col-celtype__y-species__hue-kmer_category__{celltype_col}.pdf')\n",
    "fig.savefig(pdf)"
   ]
  },
  {
   "cell_type": "code",
   "execution_count": null,
   "id": "clear-overhead",
   "metadata": {},
   "outputs": [],
   "source": [
    "figure_folder"
   ]
  },
  {
   "cell_type": "code",
   "execution_count": null,
   "id": "average-population",
   "metadata": {},
   "outputs": [],
   "source": [
    "fig, axes = plt.subplots(ncols=1, nrows=5, figsize=(4, 6), sharex=True, sharey=True)\n",
    "\n",
    "\n",
    "for (celltype, df), ax in zip(\n",
    "    compartment_kmers_n_per_category_df_no_lemur .groupby(celltype_col), axes.flat\n",
    "):\n",
    "    \n",
    "#     legend = ax.is_last_col() and ax.is_last_row()\n",
    "    # One liner to create a stacked bar chart.\n",
    "    sns.histplot(\n",
    "        df,\n",
    "        y=\"species\",\n",
    "        hue=\"kmer_category\",\n",
    "        weights=\"percent_kmers\",\n",
    "        multiple=\"stack\",\n",
    "        palette=\"mako\",\n",
    "        linewidth=1,\n",
    "        edgecolor=\"white\",\n",
    "        legend=False,\n",
    "        ax=ax,\n",
    "    )\n",
    "    ax.set(\n",
    "        ylabel=\"species\",\n",
    "        xlabel='Percentage',\n",
    "        title=celltype.replace(\"and\", \"\\nand\"),\n",
    "    )\n",
    "    \n",
    "# Fix the legend so it's not on top of the bars.\n",
    "# legend = ax.get_legend()\n",
    "# legend.set_bbox_to_anchor((1, 1))\n",
    "sns.despine()\n",
    "fig.tight_layout()\n",
    "pdf = os.path.join(figure_folder, f'stacked_barplot__col-celtype__y-species__hue-kmer_category__two_column__{celltype_col}.pdf')\n",
    "fig.savefig(pdf)"
   ]
  },
  {
   "cell_type": "code",
   "execution_count": null,
   "id": "declared-indiana",
   "metadata": {},
   "outputs": [],
   "source": [
    "pdf"
   ]
  },
  {
   "cell_type": "code",
   "execution_count": null,
   "id": "phantom-angel",
   "metadata": {},
   "outputs": [],
   "source": [
    "f"
   ]
  },
  {
   "cell_type": "code",
   "execution_count": null,
   "id": "aware-optimum",
   "metadata": {},
   "outputs": [],
   "source": [
    "fig, axes = plt.subplots(ncols=3, figsize=(12, 4), sharex=True, sharey=True)\n",
    "\n",
    "\n",
    "for (species, df), ax in zip(\n",
    "    diagnostic_kmers_n_per_category_df_no_lemur.groupby(\"species\"), axes.flat\n",
    "):\n",
    "    legend = ax.is_last_col()\n",
    "    # One liner to create a stacked bar chart.\n",
    "    sns.histplot(\n",
    "        df,\n",
    "        y=celltype_col,\n",
    "        hue=\"kmer_category\",\n",
    "        weights=\"percent_kmers\",\n",
    "        multiple=\"stack\",\n",
    "        palette=\"mako\",\n",
    "        linewidth=1,\n",
    "        edgecolor=\"white\",\n",
    "        legend=legend,\n",
    "        ax=ax,\n",
    "    )\n",
    "    ax.set(\n",
    "        ylabel=\"percentage\",\n",
    "        title=species,\n",
    "#         yticks=[\"bat\", \"human\"],\n",
    "    )\n",
    "# Fix the legend so it's not on top of the bars.\n",
    "legend = ax.get_legend()\n",
    "legend.set_bbox_to_anchor((1, 1))\n",
    "\n",
    "sns.despine()\n",
    "fig.tight_layout()\n",
    "\n",
    "pdf = os.path.join(figure_folder, 'stacked_barplot__col-species__y-celltype__hue-kmer_category.pdf')\n",
    "fig.savefig(pdf)"
   ]
  },
  {
   "cell_type": "markdown",
   "id": "conservative-korea",
   "metadata": {},
   "source": [
    "# Subset to only diagnostic k-mers"
   ]
  },
  {
   "cell_type": "code",
   "execution_count": null,
   "id": "rapid-russell",
   "metadata": {},
   "outputs": [],
   "source": [
    "mouse_celltype_kmers['hashval'] = mouse_celltype_kmers.hashval.astype(str)"
   ]
  },
  {
   "cell_type": "code",
   "execution_count": null,
   "id": "early-background",
   "metadata": {},
   "outputs": [],
   "source": [
    "describe(mouse_celltype_kmers)"
   ]
  },
  {
   "cell_type": "code",
   "execution_count": null,
   "id": "invalid-playlist",
   "metadata": {},
   "outputs": [],
   "source": [
    "mouse_celltype_kmers.dtypes"
   ]
  },
  {
   "cell_type": "code",
   "execution_count": null,
   "id": "effective-framework",
   "metadata": {},
   "outputs": [],
   "source": [
    "diagnostic_hashvals = set(mouse_celltype_kmers.hashval)\n",
    "len(diagnostic_hashvals)"
   ]
  },
  {
   "cell_type": "code",
   "execution_count": null,
   "id": "brazilian-flood",
   "metadata": {},
   "outputs": [],
   "source": [
    "hash2kmer_with_predictions.dtypes"
   ]
  },
  {
   "cell_type": "code",
   "execution_count": null,
   "id": "empty-promotion",
   "metadata": {},
   "outputs": [],
   "source": [
    "%%time\n",
    "\n",
    "hash2kmer_with_predictions_diagnostic_kmers = hash2kmer_with_predictions.query('hashval in @diagnostic_hashvals')\n",
    "describe(hash2kmer_with_predictions_diagnostic_kmers)"
   ]
  },
  {
   "cell_type": "code",
   "execution_count": null,
   "id": "configured-recognition",
   "metadata": {},
   "outputs": [],
   "source": [
    "diagnostic_kmers_n_per_category_df_no_lemur"
   ]
  }
 ],
 "metadata": {
  "kernelspec": {
   "display_name": "Python [conda env:immune-evolution]",
   "language": "python",
   "name": "conda-env-immune-evolution-py"
  },
  "language_info": {
   "codemirror_mode": {
    "name": "ipython",
    "version": 3
   },
   "file_extension": ".py",
   "mimetype": "text/x-python",
   "name": "python",
   "nbconvert_exporter": "python",
   "pygments_lexer": "ipython3",
   "version": "3.7.8"
  }
 },
 "nbformat": 4,
 "nbformat_minor": 5
}
