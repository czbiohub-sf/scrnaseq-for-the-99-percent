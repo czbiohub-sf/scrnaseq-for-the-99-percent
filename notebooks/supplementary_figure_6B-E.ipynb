{
 "cells": [
  {
   "cell_type": "markdown",
   "id": "ambient-ozone",
   "metadata": {},
   "source": [
    "# Imports"
   ]
  },
  {
   "cell_type": "code",
   "execution_count": 7,
   "id": "lovely-medicare",
   "metadata": {},
   "outputs": [],
   "source": [
    "import glob\n",
    "import os\n",
    "\n",
    "import pandas as pd\n",
    "import scanpy as sc\n",
    "import seaborn as sns"
   ]
  },
  {
   "cell_type": "code",
   "execution_count": 8,
   "id": "7f1c4c92-0de7-46f9-bad7-e85d90dd4e7c",
   "metadata": {},
   "outputs": [],
   "source": [
    "from nb_utils import describe\n",
    "\n",
    "from celltype_utils import get_shared_adata\n",
    "from path_constants import sig_outdir_base, FIGURE_FOLDER"
   ]
  },
  {
   "cell_type": "markdown",
   "id": "julian-spectrum",
   "metadata": {},
   "source": [
    "## Figure folder"
   ]
  },
  {
   "cell_type": "code",
   "execution_count": 9,
   "id": "minute-classic",
   "metadata": {},
   "outputs": [],
   "source": [
    "figure_folder = os.path.join(FIGURE_FOLDER, 'unaligned_kmers')\n",
    "! mkdir -p $figure_folder"
   ]
  },
  {
   "cell_type": "markdown",
   "id": "featured-parent",
   "metadata": {},
   "source": [
    "## Read one2one h5ad"
   ]
  },
  {
   "cell_type": "code",
   "execution_count": 10,
   "id": "unauthorized-information",
   "metadata": {},
   "outputs": [
    {
     "name": "stderr",
     "output_type": "stream",
     "text": [
      "/home/olga/miniconda3/envs/immune-evolution/lib/python3.7/site-packages/anndata/_core/anndata.py:1094: FutureWarning: is_categorical is deprecated and will be removed in a future version.  Use is_categorical_dtype instead\n",
      "  if not is_categorical(df_full[k]):\n"
     ]
    }
   ],
   "source": [
    "adata = get_shared_adata()"
   ]
  },
  {
   "cell_type": "code",
   "execution_count": 13,
   "id": "6f667414-9f6f-4da2-bef0-77d17f5be846",
   "metadata": {},
   "outputs": [
    {
     "data": {
      "text/plain": [
       "View of AnnData object with n_obs × n_vars = 89795 × 10560\n",
       "    obs: 'index', 'age', 'cell_barcode', 'cell_ontology_class', 'cell_ontology_id', 'channel', 'free_annotation', 'individual', 'sample', 'sequencing_run', 'sex', 'species', 'species_batch', 'species_latin', 'tissue', 'narrow_group', 'broad_group', 'compartment_group', 'compartment_narrow', 'channel_cleaned', 'batch', 'n_genes', 'n_counts', 'species_batch_v2', 'compartment_broad', 'compartment_broad_narrow', 'compartment_species', 'compartment_narrow_species', 'common_individual_id'\n",
       "    var: 'bat__gene_name', 'mouse_lemur__gene_name-bat', 'mouse__gene_name-bat', 'mouse_lemur__gene_name_x-hlm', 'mouse__gene_name_x-hlm', 'gene_ids-lemur-hlm', 'n_cells-mouse-hlm', 'mouse_lemur__gene_name_y-hlm', 'mouse__gene_name_y-hlm'"
      ]
     },
     "execution_count": 13,
     "metadata": {},
     "output_type": "execute_result"
    }
   ],
   "source": [
    "adata"
   ]
  },
  {
   "cell_type": "markdown",
   "id": "worth-department",
   "metadata": {},
   "source": [
    "# Read parquet files"
   ]
  },
  {
   "cell_type": "markdown",
   "id": "interpreted-dancing",
   "metadata": {},
   "source": [
    "## File paths"
   ]
  },
  {
   "cell_type": "code",
   "execution_count": 12,
   "id": "round-respondent",
   "metadata": {},
   "outputs": [
    {
     "data": {
      "text/plain": [
       "['/home/olga/data_lg/data_sm_copy/immune-evolution/kmer-signatures/1--train-mouse--to-publish/2--single-cell-kmers/alphabet-dayhoff__ksize-51__scaled-10/hash2kmer__unique_kmers_per_celltype.parquet',\n",
       " '/home/olga/data_lg/data_sm_copy/immune-evolution/kmer-signatures/2--test-human/2--single-cell-kmers/alphabet-dayhoff__ksize-51__scaled-10/hash2kmer__unique_kmers_per_celltype.parquet',\n",
       " '/home/olga/data_lg/data_sm_copy/immune-evolution/kmer-signatures/3--test-bat/2--single-cell-kmers/alphabet-dayhoff__ksize-51__scaled-10/hash2kmer__unique_kmers_per_celltype.parquet',\n",
       " '/home/olga/data_lg/data_sm_copy/immune-evolution/kmer-signatures/4--test-lemur/2--single-cell-kmers/alphabet-dayhoff__ksize-51__scaled-10/hash2kmer__unique_kmers_per_celltype.parquet',\n",
       " '/home/olga/data_lg/data_sm_copy/immune-evolution/kmer-signatures/1--train-mouse/2--single-cell-kmers/alphabet-dayhoff__ksize-51__scaled-10/hash2kmer__unique_kmers_per_celltype.parquet']"
      ]
     },
     "execution_count": 12,
     "metadata": {},
     "output_type": "execute_result"
    }
   ],
   "source": [
    "sketch_id = \"alphabet-dayhoff__ksize-51__scaled-10\"\n",
    "\n",
    "\n",
    "parquets = glob.glob(\n",
    "    os.path.join(\n",
    "        sig_outdir_base,\n",
    "        \"*\",\n",
    "        \"2--single-cell-kmers\",\n",
    "        sketch_id,\n",
    "        \"hash2kmer__unique_kmers_per_celltype.parquet\",\n",
    "    )\n",
    ")\n",
    "parquets"
   ]
  },
  {
   "cell_type": "markdown",
   "id": "wicked-castle",
   "metadata": {},
   "source": [
    "### Bat"
   ]
  },
  {
   "cell_type": "code",
   "execution_count": 14,
   "id": "aef4ee79-1645-49b1-b5db-26e427b54955",
   "metadata": {},
   "outputs": [
    {
     "data": {
      "text/plain": [
       "'/home/olga/data_lg/data_sm_copy/immune-evolution/kmer-signatures/3--test-bat/2--single-cell-kmers/alphabet-dayhoff__ksize-51__scaled-10/hash2kmer__unique_kmers_per_celltype.parquet'"
      ]
     },
     "execution_count": 14,
     "metadata": {},
     "output_type": "execute_result"
    }
   ],
   "source": [
    "bat_parquet = [x for x in parquets if 'bat' in x][0]\n",
    "bat_parquet"
   ]
  },
  {
   "cell_type": "code",
   "execution_count": 15,
   "id": "trying-engagement",
   "metadata": {},
   "outputs": [
    {
     "name": "stdout",
     "output_type": "stream",
     "text": [
      "(69988437, 13)\n",
      "--- First 5 entries ---\n"
     ]
    },
    {
     "data": {
      "text/html": [
       "<div>\n",
       "<style scoped>\n",
       "    .dataframe tbody tr th:only-of-type {\n",
       "        vertical-align: middle;\n",
       "    }\n",
       "\n",
       "    .dataframe tbody tr th {\n",
       "        vertical-align: top;\n",
       "    }\n",
       "\n",
       "    .dataframe thead th {\n",
       "        text-align: right;\n",
       "    }\n",
       "</style>\n",
       "<table border=\"1\" class=\"dataframe\">\n",
       "  <thead>\n",
       "    <tr style=\"text-align: right;\">\n",
       "      <th></th>\n",
       "      <th>kmer_in_sequence</th>\n",
       "      <th>kmer_in_alphabet</th>\n",
       "      <th>hashval</th>\n",
       "      <th>read_name</th>\n",
       "      <th>gene_name</th>\n",
       "      <th>species</th>\n",
       "      <th>cell_id</th>\n",
       "      <th>sketch_id</th>\n",
       "      <th>moltype</th>\n",
       "      <th>ksize</th>\n",
       "      <th>scaled</th>\n",
       "      <th>alignment_status</th>\n",
       "      <th>broad_group</th>\n",
       "    </tr>\n",
       "  </thead>\n",
       "  <tbody>\n",
       "    <tr>\n",
       "      <th>0</th>\n",
       "      <td>PRPGRPPPAATVWFLSI</td>\n",
       "      <td>bdbbdbbbbbbeffebe</td>\n",
       "      <td>459880203121538048</td>\n",
       "      <td>E00512:367:HWHJNCCXY:1:2217:9516:30175\\tCB:Z:A...</td>\n",
       "      <td>None</td>\n",
       "      <td>bat</td>\n",
       "      <td>bat3-LU__AGTGAGGCAGGATCGA</td>\n",
       "      <td>alphabet-dayhoff__ksize-51__scaled-10</td>\n",
       "      <td>dayhoff</td>\n",
       "      <td>51</td>\n",
       "      <td>10</td>\n",
       "      <td>unaligned</td>\n",
       "      <td>Fibroblast</td>\n",
       "    </tr>\n",
       "    <tr>\n",
       "      <th>1</th>\n",
       "      <td>IPTDPAPKAHPGPRRAN</td>\n",
       "      <td>ebbcbbbdbdbbbddbc</td>\n",
       "      <td>210410082269031083</td>\n",
       "      <td>E00512:367:HWHJNCCXY:1:2209:30289:70381\\tCB:Z:...</td>\n",
       "      <td>None</td>\n",
       "      <td>bat</td>\n",
       "      <td>bat3-LU__AGTGAGGCAGGATCGA</td>\n",
       "      <td>alphabet-dayhoff__ksize-51__scaled-10</td>\n",
       "      <td>dayhoff</td>\n",
       "      <td>51</td>\n",
       "      <td>10</td>\n",
       "      <td>unaligned</td>\n",
       "      <td>Fibroblast</td>\n",
       "    </tr>\n",
       "    <tr>\n",
       "      <th>2</th>\n",
       "      <td>FGAGSVGIAAGAGTIIH</td>\n",
       "      <td>fbbbbebebbbbbbeed</td>\n",
       "      <td>1384284221265406607</td>\n",
       "      <td>E00512:367:HWHJNCCXY:1:2209:30289:70381\\tCB:Z:...</td>\n",
       "      <td>None</td>\n",
       "      <td>bat</td>\n",
       "      <td>bat3-LU__AGTGAGGCAGGATCGA</td>\n",
       "      <td>alphabet-dayhoff__ksize-51__scaled-10</td>\n",
       "      <td>dayhoff</td>\n",
       "      <td>51</td>\n",
       "      <td>10</td>\n",
       "      <td>unaligned</td>\n",
       "      <td>Fibroblast</td>\n",
       "    </tr>\n",
       "    <tr>\n",
       "      <th>3</th>\n",
       "      <td>VGIAAGAGTIIHDKHRS</td>\n",
       "      <td>ebebbbbbbeedcdddb</td>\n",
       "      <td>446503280445862484</td>\n",
       "      <td>E00512:367:HWHJNCCXY:1:2209:30289:70381\\tCB:Z:...</td>\n",
       "      <td>None</td>\n",
       "      <td>bat</td>\n",
       "      <td>bat3-LU__AGTGAGGCAGGATCGA</td>\n",
       "      <td>alphabet-dayhoff__ksize-51__scaled-10</td>\n",
       "      <td>dayhoff</td>\n",
       "      <td>51</td>\n",
       "      <td>10</td>\n",
       "      <td>unaligned</td>\n",
       "      <td>Fibroblast</td>\n",
       "    </tr>\n",
       "    <tr>\n",
       "      <th>4</th>\n",
       "      <td>SGQGLWVLLQELGPLSM</td>\n",
       "      <td>bbcbefeeeccebbebe</td>\n",
       "      <td>697450965653291028</td>\n",
       "      <td>E00512:367:HWHJNCCXY:1:2209:30289:70381\\tCB:Z:...</td>\n",
       "      <td>None</td>\n",
       "      <td>bat</td>\n",
       "      <td>bat3-LU__AGTGAGGCAGGATCGA</td>\n",
       "      <td>alphabet-dayhoff__ksize-51__scaled-10</td>\n",
       "      <td>dayhoff</td>\n",
       "      <td>51</td>\n",
       "      <td>10</td>\n",
       "      <td>unaligned</td>\n",
       "      <td>Fibroblast</td>\n",
       "    </tr>\n",
       "  </tbody>\n",
       "</table>\n",
       "</div>"
      ],
      "text/plain": [
       "    kmer_in_sequence   kmer_in_alphabet              hashval  \\\n",
       "0  PRPGRPPPAATVWFLSI  bdbbdbbbbbbeffebe   459880203121538048   \n",
       "1  IPTDPAPKAHPGPRRAN  ebbcbbbdbdbbbddbc   210410082269031083   \n",
       "2  FGAGSVGIAAGAGTIIH  fbbbbebebbbbbbeed  1384284221265406607   \n",
       "3  VGIAAGAGTIIHDKHRS  ebebbbbbbeedcdddb   446503280445862484   \n",
       "4  SGQGLWVLLQELGPLSM  bbcbefeeeccebbebe   697450965653291028   \n",
       "\n",
       "                                           read_name gene_name species  \\\n",
       "0  E00512:367:HWHJNCCXY:1:2217:9516:30175\\tCB:Z:A...      None     bat   \n",
       "1  E00512:367:HWHJNCCXY:1:2209:30289:70381\\tCB:Z:...      None     bat   \n",
       "2  E00512:367:HWHJNCCXY:1:2209:30289:70381\\tCB:Z:...      None     bat   \n",
       "3  E00512:367:HWHJNCCXY:1:2209:30289:70381\\tCB:Z:...      None     bat   \n",
       "4  E00512:367:HWHJNCCXY:1:2209:30289:70381\\tCB:Z:...      None     bat   \n",
       "\n",
       "                     cell_id                              sketch_id  moltype  \\\n",
       "0  bat3-LU__AGTGAGGCAGGATCGA  alphabet-dayhoff__ksize-51__scaled-10  dayhoff   \n",
       "1  bat3-LU__AGTGAGGCAGGATCGA  alphabet-dayhoff__ksize-51__scaled-10  dayhoff   \n",
       "2  bat3-LU__AGTGAGGCAGGATCGA  alphabet-dayhoff__ksize-51__scaled-10  dayhoff   \n",
       "3  bat3-LU__AGTGAGGCAGGATCGA  alphabet-dayhoff__ksize-51__scaled-10  dayhoff   \n",
       "4  bat3-LU__AGTGAGGCAGGATCGA  alphabet-dayhoff__ksize-51__scaled-10  dayhoff   \n",
       "\n",
       "  ksize  scaled alignment_status broad_group  \n",
       "0    51      10        unaligned  Fibroblast  \n",
       "1    51      10        unaligned  Fibroblast  \n",
       "2    51      10        unaligned  Fibroblast  \n",
       "3    51      10        unaligned  Fibroblast  \n",
       "4    51      10        unaligned  Fibroblast  "
      ]
     },
     "metadata": {},
     "output_type": "display_data"
    }
   ],
   "source": [
    "bat = pd.read_parquet(bat_parquet)\n",
    "describe(bat)"
   ]
  },
  {
   "cell_type": "markdown",
   "id": "catholic-winner",
   "metadata": {},
   "source": [
    "### Human"
   ]
  },
  {
   "cell_type": "code",
   "execution_count": 17,
   "id": "9aa1ed49-d18d-4984-9b1c-8615b14a1e67",
   "metadata": {},
   "outputs": [
    {
     "data": {
      "text/plain": [
       "'/home/olga/data_lg/data_sm_copy/immune-evolution/kmer-signatures/2--test-human/2--single-cell-kmers/alphabet-dayhoff__ksize-51__scaled-10/hash2kmer__unique_kmers_per_celltype.parquet'"
      ]
     },
     "execution_count": 17,
     "metadata": {},
     "output_type": "execute_result"
    }
   ],
   "source": [
    "human_parquet = [x for x in parquets if 'human' in x][0]\n",
    "human_parquet"
   ]
  },
  {
   "cell_type": "code",
   "execution_count": 18,
   "id": "cardiac-participant",
   "metadata": {},
   "outputs": [
    {
     "name": "stdout",
     "output_type": "stream",
     "text": [
      "(33366578, 13)\n",
      "--- First 5 entries ---\n"
     ]
    },
    {
     "data": {
      "text/html": [
       "<div>\n",
       "<style scoped>\n",
       "    .dataframe tbody tr th:only-of-type {\n",
       "        vertical-align: middle;\n",
       "    }\n",
       "\n",
       "    .dataframe tbody tr th {\n",
       "        vertical-align: top;\n",
       "    }\n",
       "\n",
       "    .dataframe thead th {\n",
       "        text-align: right;\n",
       "    }\n",
       "</style>\n",
       "<table border=\"1\" class=\"dataframe\">\n",
       "  <thead>\n",
       "    <tr style=\"text-align: right;\">\n",
       "      <th></th>\n",
       "      <th>kmer_in_sequence</th>\n",
       "      <th>kmer_in_alphabet</th>\n",
       "      <th>hashval</th>\n",
       "      <th>read_name</th>\n",
       "      <th>gene_name</th>\n",
       "      <th>species</th>\n",
       "      <th>cell_id</th>\n",
       "      <th>sketch_id</th>\n",
       "      <th>moltype</th>\n",
       "      <th>ksize</th>\n",
       "      <th>scaled</th>\n",
       "      <th>alignment_status</th>\n",
       "      <th>broad_group</th>\n",
       "    </tr>\n",
       "  </thead>\n",
       "  <tbody>\n",
       "    <tr>\n",
       "      <th>0</th>\n",
       "      <td>DLNVKPKTIKTLEENLG</td>\n",
       "      <td>cecedbdbedbeccceb</td>\n",
       "      <td>550348301278027135</td>\n",
       "      <td>A00111:155:HFCWYDMXX:1:1359:1190:25066\\tCB:Z:G...</td>\n",
       "      <td>None</td>\n",
       "      <td>human</td>\n",
       "      <td>P3_4__GAGCAGAAGTGGACGT</td>\n",
       "      <td>alphabet-dayhoff__ksize-51__scaled-10</td>\n",
       "      <td>dayhoff</td>\n",
       "      <td>51</td>\n",
       "      <td>10</td>\n",
       "      <td>unaligned</td>\n",
       "      <td>Fibroblast</td>\n",
       "    </tr>\n",
       "    <tr>\n",
       "      <th>1</th>\n",
       "      <td>IKTLEENLGITIQDIGV</td>\n",
       "      <td>edbecccebebeccebe</td>\n",
       "      <td>974148631326387115</td>\n",
       "      <td>A00111:155:HFCWYDMXX:1:1359:1190:25066\\tCB:Z:G...</td>\n",
       "      <td>None</td>\n",
       "      <td>human</td>\n",
       "      <td>P3_4__GAGCAGAAGTGGACGT</td>\n",
       "      <td>alphabet-dayhoff__ksize-51__scaled-10</td>\n",
       "      <td>dayhoff</td>\n",
       "      <td>51</td>\n",
       "      <td>10</td>\n",
       "      <td>unaligned</td>\n",
       "      <td>Fibroblast</td>\n",
       "    </tr>\n",
       "    <tr>\n",
       "      <th>3</th>\n",
       "      <td>CRKLKLDPFLTPYTKIN</td>\n",
       "      <td>addedecbfebbfbdec</td>\n",
       "      <td>1662986983738689810</td>\n",
       "      <td>A00111:155:HFCWYDMXX:2:1129:25961:14544\\tCB:Z:...</td>\n",
       "      <td>None</td>\n",
       "      <td>human</td>\n",
       "      <td>P3_4__GAGCAGAAGTGGACGT</td>\n",
       "      <td>alphabet-dayhoff__ksize-51__scaled-10</td>\n",
       "      <td>dayhoff</td>\n",
       "      <td>51</td>\n",
       "      <td>10</td>\n",
       "      <td>unaligned</td>\n",
       "      <td>Fibroblast</td>\n",
       "    </tr>\n",
       "    <tr>\n",
       "      <th>4</th>\n",
       "      <td>RKLKLDPFLTPYTKINS</td>\n",
       "      <td>ddedecbfebbfbdecb</td>\n",
       "      <td>799720167227311772</td>\n",
       "      <td>A00111:155:HFCWYDMXX:2:1129:25961:14544\\tCB:Z:...</td>\n",
       "      <td>None</td>\n",
       "      <td>human</td>\n",
       "      <td>P3_4__GAGCAGAAGTGGACGT</td>\n",
       "      <td>alphabet-dayhoff__ksize-51__scaled-10</td>\n",
       "      <td>dayhoff</td>\n",
       "      <td>51</td>\n",
       "      <td>10</td>\n",
       "      <td>unaligned</td>\n",
       "      <td>Fibroblast</td>\n",
       "    </tr>\n",
       "    <tr>\n",
       "      <th>7</th>\n",
       "      <td>LDPFLTPYTKINSRWIK</td>\n",
       "      <td>ecbfebbfbdecbdfed</td>\n",
       "      <td>537198855570371996</td>\n",
       "      <td>A00111:155:HFCWYDMXX:2:1360:14886:30185\\tCB:Z:...</td>\n",
       "      <td>None</td>\n",
       "      <td>human</td>\n",
       "      <td>P3_4__GAGCAGAAGTGGACGT</td>\n",
       "      <td>alphabet-dayhoff__ksize-51__scaled-10</td>\n",
       "      <td>dayhoff</td>\n",
       "      <td>51</td>\n",
       "      <td>10</td>\n",
       "      <td>unaligned</td>\n",
       "      <td>Fibroblast</td>\n",
       "    </tr>\n",
       "  </tbody>\n",
       "</table>\n",
       "</div>"
      ],
      "text/plain": [
       "    kmer_in_sequence   kmer_in_alphabet              hashval  \\\n",
       "0  DLNVKPKTIKTLEENLG  cecedbdbedbeccceb   550348301278027135   \n",
       "1  IKTLEENLGITIQDIGV  edbecccebebeccebe   974148631326387115   \n",
       "3  CRKLKLDPFLTPYTKIN  addedecbfebbfbdec  1662986983738689810   \n",
       "4  RKLKLDPFLTPYTKINS  ddedecbfebbfbdecb   799720167227311772   \n",
       "7  LDPFLTPYTKINSRWIK  ecbfebbfbdecbdfed   537198855570371996   \n",
       "\n",
       "                                           read_name gene_name species  \\\n",
       "0  A00111:155:HFCWYDMXX:1:1359:1190:25066\\tCB:Z:G...      None   human   \n",
       "1  A00111:155:HFCWYDMXX:1:1359:1190:25066\\tCB:Z:G...      None   human   \n",
       "3  A00111:155:HFCWYDMXX:2:1129:25961:14544\\tCB:Z:...      None   human   \n",
       "4  A00111:155:HFCWYDMXX:2:1129:25961:14544\\tCB:Z:...      None   human   \n",
       "7  A00111:155:HFCWYDMXX:2:1360:14886:30185\\tCB:Z:...      None   human   \n",
       "\n",
       "                  cell_id                              sketch_id  moltype  \\\n",
       "0  P3_4__GAGCAGAAGTGGACGT  alphabet-dayhoff__ksize-51__scaled-10  dayhoff   \n",
       "1  P3_4__GAGCAGAAGTGGACGT  alphabet-dayhoff__ksize-51__scaled-10  dayhoff   \n",
       "3  P3_4__GAGCAGAAGTGGACGT  alphabet-dayhoff__ksize-51__scaled-10  dayhoff   \n",
       "4  P3_4__GAGCAGAAGTGGACGT  alphabet-dayhoff__ksize-51__scaled-10  dayhoff   \n",
       "7  P3_4__GAGCAGAAGTGGACGT  alphabet-dayhoff__ksize-51__scaled-10  dayhoff   \n",
       "\n",
       "  ksize  scaled alignment_status broad_group  \n",
       "0    51      10        unaligned  Fibroblast  \n",
       "1    51      10        unaligned  Fibroblast  \n",
       "3    51      10        unaligned  Fibroblast  \n",
       "4    51      10        unaligned  Fibroblast  \n",
       "7    51      10        unaligned  Fibroblast  "
      ]
     },
     "metadata": {},
     "output_type": "display_data"
    }
   ],
   "source": [
    "human = pd.read_parquet(human_parquet)\n",
    "describe(human)"
   ]
  },
  {
   "cell_type": "code",
   "execution_count": 19,
   "id": "structured-affair",
   "metadata": {},
   "outputs": [
    {
     "data": {
      "text/plain": [
       "broad_group\n",
       "Alveolar Epithelial Type 2          832\n",
       "B cell                              165\n",
       "Capillary                          2214\n",
       "Dendritic                            98\n",
       "Fibroblast                         1382\n",
       "Macrophage                         1196\n",
       "Monocyte                            969\n",
       "Natural Killer T cell               351\n",
       "Smooth Muscle and Myofibroblast     120\n",
       "T cell                              376\n",
       "Name: cell_id, dtype: int64"
      ]
     },
     "execution_count": 19,
     "metadata": {},
     "output_type": "execute_result"
    }
   ],
   "source": [
    "bat.groupby('broad_group').cell_id.nunique()"
   ]
  },
  {
   "cell_type": "code",
   "execution_count": 20,
   "id": "dramatic-effectiveness",
   "metadata": {},
   "outputs": [
    {
     "data": {
      "text/plain": [
       "broad_group\n",
       "Alveolar Epithelial Type 2         3150\n",
       "B cell                              174\n",
       "Capillary                          2093\n",
       "Dendritic                           438\n",
       "Fibroblast                          725\n",
       "Macrophage                         3356\n",
       "Monocyte                            752\n",
       "Natural Killer T cell               224\n",
       "Smooth Muscle and Myofibroblast     587\n",
       "T cell                             2655\n",
       "Name: cell_id, dtype: int64"
      ]
     },
     "execution_count": 20,
     "metadata": {},
     "output_type": "execute_result"
    }
   ],
   "source": [
    "human.groupby('broad_group').cell_id.nunique()"
   ]
  },
  {
   "cell_type": "code",
   "execution_count": 21,
   "id": "polyphonic-material",
   "metadata": {},
   "outputs": [
    {
     "data": {
      "text/plain": [
       "broad_group\n",
       "Alveolar Epithelial Type 2         3511.283654\n",
       "B cell                             2674.539394\n",
       "Capillary                          1390.377597\n",
       "Dendritic                          6382.326531\n",
       "Fibroblast                         1567.082489\n",
       "Macrophage                         1992.954013\n",
       "Monocyte                           2309.285862\n",
       "Natural Killer T cell              2838.341880\n",
       "Smooth Muscle and Myofibroblast    4045.616667\n",
       "T cell                             2232.808511\n",
       "dtype: float64"
      ]
     },
     "execution_count": 21,
     "metadata": {},
     "output_type": "execute_result"
    }
   ],
   "source": [
    "bat.groupby('broad_group').apply(lambda x: x.hashval.nunique()/x.cell_id.nunique())"
   ]
  },
  {
   "cell_type": "code",
   "execution_count": 22,
   "id": "protected-amplifier",
   "metadata": {},
   "outputs": [
    {
     "data": {
      "text/html": [
       "<div>\n",
       "<style scoped>\n",
       "    .dataframe tbody tr th:only-of-type {\n",
       "        vertical-align: middle;\n",
       "    }\n",
       "\n",
       "    .dataframe tbody tr th {\n",
       "        vertical-align: top;\n",
       "    }\n",
       "\n",
       "    .dataframe thead th {\n",
       "        text-align: right;\n",
       "    }\n",
       "</style>\n",
       "<table border=\"1\" class=\"dataframe\">\n",
       "  <thead>\n",
       "    <tr style=\"text-align: right;\">\n",
       "      <th></th>\n",
       "      <th>kmer_in_sequence</th>\n",
       "      <th>kmer_in_alphabet</th>\n",
       "      <th>hashval</th>\n",
       "      <th>read_name</th>\n",
       "      <th>gene_name</th>\n",
       "      <th>species</th>\n",
       "      <th>cell_id</th>\n",
       "      <th>sketch_id</th>\n",
       "      <th>moltype</th>\n",
       "      <th>ksize</th>\n",
       "      <th>scaled</th>\n",
       "      <th>alignment_status</th>\n",
       "      <th>broad_group</th>\n",
       "    </tr>\n",
       "  </thead>\n",
       "  <tbody>\n",
       "    <tr>\n",
       "      <th>0</th>\n",
       "      <td>PRPGRPPPAATVWFLSI</td>\n",
       "      <td>bdbbdbbbbbbeffebe</td>\n",
       "      <td>459880203121538048</td>\n",
       "      <td>E00512:367:HWHJNCCXY:1:2217:9516:30175\\tCB:Z:A...</td>\n",
       "      <td>None</td>\n",
       "      <td>bat</td>\n",
       "      <td>bat3-LU__AGTGAGGCAGGATCGA</td>\n",
       "      <td>alphabet-dayhoff__ksize-51__scaled-10</td>\n",
       "      <td>dayhoff</td>\n",
       "      <td>51</td>\n",
       "      <td>10</td>\n",
       "      <td>unaligned</td>\n",
       "      <td>Fibroblast</td>\n",
       "    </tr>\n",
       "    <tr>\n",
       "      <th>1</th>\n",
       "      <td>IPTDPAPKAHPGPRRAN</td>\n",
       "      <td>ebbcbbbdbdbbbddbc</td>\n",
       "      <td>210410082269031083</td>\n",
       "      <td>E00512:367:HWHJNCCXY:1:2209:30289:70381\\tCB:Z:...</td>\n",
       "      <td>None</td>\n",
       "      <td>bat</td>\n",
       "      <td>bat3-LU__AGTGAGGCAGGATCGA</td>\n",
       "      <td>alphabet-dayhoff__ksize-51__scaled-10</td>\n",
       "      <td>dayhoff</td>\n",
       "      <td>51</td>\n",
       "      <td>10</td>\n",
       "      <td>unaligned</td>\n",
       "      <td>Fibroblast</td>\n",
       "    </tr>\n",
       "    <tr>\n",
       "      <th>2</th>\n",
       "      <td>FGAGSVGIAAGAGTIIH</td>\n",
       "      <td>fbbbbebebbbbbbeed</td>\n",
       "      <td>1384284221265406607</td>\n",
       "      <td>E00512:367:HWHJNCCXY:1:2209:30289:70381\\tCB:Z:...</td>\n",
       "      <td>None</td>\n",
       "      <td>bat</td>\n",
       "      <td>bat3-LU__AGTGAGGCAGGATCGA</td>\n",
       "      <td>alphabet-dayhoff__ksize-51__scaled-10</td>\n",
       "      <td>dayhoff</td>\n",
       "      <td>51</td>\n",
       "      <td>10</td>\n",
       "      <td>unaligned</td>\n",
       "      <td>Fibroblast</td>\n",
       "    </tr>\n",
       "    <tr>\n",
       "      <th>3</th>\n",
       "      <td>VGIAAGAGTIIHDKHRS</td>\n",
       "      <td>ebebbbbbbeedcdddb</td>\n",
       "      <td>446503280445862484</td>\n",
       "      <td>E00512:367:HWHJNCCXY:1:2209:30289:70381\\tCB:Z:...</td>\n",
       "      <td>None</td>\n",
       "      <td>bat</td>\n",
       "      <td>bat3-LU__AGTGAGGCAGGATCGA</td>\n",
       "      <td>alphabet-dayhoff__ksize-51__scaled-10</td>\n",
       "      <td>dayhoff</td>\n",
       "      <td>51</td>\n",
       "      <td>10</td>\n",
       "      <td>unaligned</td>\n",
       "      <td>Fibroblast</td>\n",
       "    </tr>\n",
       "    <tr>\n",
       "      <th>4</th>\n",
       "      <td>SGQGLWVLLQELGPLSM</td>\n",
       "      <td>bbcbefeeeccebbebe</td>\n",
       "      <td>697450965653291028</td>\n",
       "      <td>E00512:367:HWHJNCCXY:1:2209:30289:70381\\tCB:Z:...</td>\n",
       "      <td>None</td>\n",
       "      <td>bat</td>\n",
       "      <td>bat3-LU__AGTGAGGCAGGATCGA</td>\n",
       "      <td>alphabet-dayhoff__ksize-51__scaled-10</td>\n",
       "      <td>dayhoff</td>\n",
       "      <td>51</td>\n",
       "      <td>10</td>\n",
       "      <td>unaligned</td>\n",
       "      <td>Fibroblast</td>\n",
       "    </tr>\n",
       "  </tbody>\n",
       "</table>\n",
       "</div>"
      ],
      "text/plain": [
       "    kmer_in_sequence   kmer_in_alphabet              hashval  \\\n",
       "0  PRPGRPPPAATVWFLSI  bdbbdbbbbbbeffebe   459880203121538048   \n",
       "1  IPTDPAPKAHPGPRRAN  ebbcbbbdbdbbbddbc   210410082269031083   \n",
       "2  FGAGSVGIAAGAGTIIH  fbbbbebebbbbbbeed  1384284221265406607   \n",
       "3  VGIAAGAGTIIHDKHRS  ebebbbbbbeedcdddb   446503280445862484   \n",
       "4  SGQGLWVLLQELGPLSM  bbcbefeeeccebbebe   697450965653291028   \n",
       "\n",
       "                                           read_name gene_name species  \\\n",
       "0  E00512:367:HWHJNCCXY:1:2217:9516:30175\\tCB:Z:A...      None     bat   \n",
       "1  E00512:367:HWHJNCCXY:1:2209:30289:70381\\tCB:Z:...      None     bat   \n",
       "2  E00512:367:HWHJNCCXY:1:2209:30289:70381\\tCB:Z:...      None     bat   \n",
       "3  E00512:367:HWHJNCCXY:1:2209:30289:70381\\tCB:Z:...      None     bat   \n",
       "4  E00512:367:HWHJNCCXY:1:2209:30289:70381\\tCB:Z:...      None     bat   \n",
       "\n",
       "                     cell_id                              sketch_id  moltype  \\\n",
       "0  bat3-LU__AGTGAGGCAGGATCGA  alphabet-dayhoff__ksize-51__scaled-10  dayhoff   \n",
       "1  bat3-LU__AGTGAGGCAGGATCGA  alphabet-dayhoff__ksize-51__scaled-10  dayhoff   \n",
       "2  bat3-LU__AGTGAGGCAGGATCGA  alphabet-dayhoff__ksize-51__scaled-10  dayhoff   \n",
       "3  bat3-LU__AGTGAGGCAGGATCGA  alphabet-dayhoff__ksize-51__scaled-10  dayhoff   \n",
       "4  bat3-LU__AGTGAGGCAGGATCGA  alphabet-dayhoff__ksize-51__scaled-10  dayhoff   \n",
       "\n",
       "  ksize  scaled alignment_status broad_group  \n",
       "0    51      10        unaligned  Fibroblast  \n",
       "1    51      10        unaligned  Fibroblast  \n",
       "2    51      10        unaligned  Fibroblast  \n",
       "3    51      10        unaligned  Fibroblast  \n",
       "4    51      10        unaligned  Fibroblast  "
      ]
     },
     "execution_count": 22,
     "metadata": {},
     "output_type": "execute_result"
    }
   ],
   "source": [
    "bat_unaligned = bat.query('alignment_status == \"unaligned\"')\n",
    "bat_unaligned.head()"
   ]
  },
  {
   "cell_type": "code",
   "execution_count": 23,
   "id": "returning-identification",
   "metadata": {},
   "outputs": [
    {
     "name": "stdout",
     "output_type": "stream",
     "text": [
      "(66637862, 13)\n",
      "--- First 5 entries ---\n"
     ]
    },
    {
     "data": {
      "text/html": [
       "<div>\n",
       "<style scoped>\n",
       "    .dataframe tbody tr th:only-of-type {\n",
       "        vertical-align: middle;\n",
       "    }\n",
       "\n",
       "    .dataframe tbody tr th {\n",
       "        vertical-align: top;\n",
       "    }\n",
       "\n",
       "    .dataframe thead th {\n",
       "        text-align: right;\n",
       "    }\n",
       "</style>\n",
       "<table border=\"1\" class=\"dataframe\">\n",
       "  <thead>\n",
       "    <tr style=\"text-align: right;\">\n",
       "      <th></th>\n",
       "      <th>kmer_in_sequence</th>\n",
       "      <th>kmer_in_alphabet</th>\n",
       "      <th>hashval</th>\n",
       "      <th>read_name</th>\n",
       "      <th>gene_name</th>\n",
       "      <th>species</th>\n",
       "      <th>cell_id</th>\n",
       "      <th>sketch_id</th>\n",
       "      <th>moltype</th>\n",
       "      <th>ksize</th>\n",
       "      <th>scaled</th>\n",
       "      <th>alignment_status</th>\n",
       "      <th>broad_group</th>\n",
       "    </tr>\n",
       "  </thead>\n",
       "  <tbody>\n",
       "    <tr>\n",
       "      <th>0</th>\n",
       "      <td>LGVWLTYRYRNQKDPLS</td>\n",
       "      <td>ebefebfdfdccdcbeb</td>\n",
       "      <td>1071395202532925770</td>\n",
       "      <td>E00512:367:HWHJNCCXY:1:1205:4229:18766\\tCB:Z:A...</td>\n",
       "      <td>None</td>\n",
       "      <td>bat</td>\n",
       "      <td>bat3-LU__AGTGAGGCAGGATCGA</td>\n",
       "      <td>alphabet-dayhoff__ksize-51__scaled-10</td>\n",
       "      <td>dayhoff</td>\n",
       "      <td>51</td>\n",
       "      <td>10</td>\n",
       "      <td>aligned</td>\n",
       "      <td>Fibroblast</td>\n",
       "    </tr>\n",
       "    <tr>\n",
       "      <th>1</th>\n",
       "      <td>GNLVVESPRSNQLSHLG</td>\n",
       "      <td>bceeecbbdbccebdeb</td>\n",
       "      <td>964549883818904234</td>\n",
       "      <td>E00512:367:HWHJNCCXY:1:1120:29954:49197\\tCB:Z:...</td>\n",
       "      <td>None</td>\n",
       "      <td>bat</td>\n",
       "      <td>bat3-LU__AGTGAGGCAGGATCGA</td>\n",
       "      <td>alphabet-dayhoff__ksize-51__scaled-10</td>\n",
       "      <td>dayhoff</td>\n",
       "      <td>51</td>\n",
       "      <td>10</td>\n",
       "      <td>aligned</td>\n",
       "      <td>Fibroblast</td>\n",
       "    </tr>\n",
       "    <tr>\n",
       "      <th>2</th>\n",
       "      <td>SNQLSHLGGSSAQGAIF</td>\n",
       "      <td>bccebdebbbbbcbbef</td>\n",
       "      <td>1434265734909814491</td>\n",
       "      <td>E00512:367:HWHJNCCXY:1:1120:29954:49197\\tCB:Z:...</td>\n",
       "      <td>None</td>\n",
       "      <td>bat</td>\n",
       "      <td>bat3-LU__AGTGAGGCAGGATCGA</td>\n",
       "      <td>alphabet-dayhoff__ksize-51__scaled-10</td>\n",
       "      <td>dayhoff</td>\n",
       "      <td>51</td>\n",
       "      <td>10</td>\n",
       "      <td>aligned</td>\n",
       "      <td>Fibroblast</td>\n",
       "    </tr>\n",
       "    <tr>\n",
       "      <th>3</th>\n",
       "      <td>NQLSHLGGSSAQGAIFN</td>\n",
       "      <td>ccebdebbbbbcbbefc</td>\n",
       "      <td>141337536592772060</td>\n",
       "      <td>E00512:367:HWHJNCCXY:1:1120:29954:49197\\tCB:Z:...</td>\n",
       "      <td>None</td>\n",
       "      <td>bat</td>\n",
       "      <td>bat3-LU__AGTGAGGCAGGATCGA</td>\n",
       "      <td>alphabet-dayhoff__ksize-51__scaled-10</td>\n",
       "      <td>dayhoff</td>\n",
       "      <td>51</td>\n",
       "      <td>10</td>\n",
       "      <td>aligned</td>\n",
       "      <td>Fibroblast</td>\n",
       "    </tr>\n",
       "    <tr>\n",
       "      <th>7</th>\n",
       "      <td>DLQQVAGSAARSQDALS</td>\n",
       "      <td>ceccebbbbbdbccbeb</td>\n",
       "      <td>1389938289591061387</td>\n",
       "      <td>E00512:367:HWHJNCCXY:1:1101:8623:34711\\tCB:Z:A...</td>\n",
       "      <td>None</td>\n",
       "      <td>bat</td>\n",
       "      <td>bat3-LU__AGTGAGGCAGGATCGA</td>\n",
       "      <td>alphabet-dayhoff__ksize-51__scaled-10</td>\n",
       "      <td>dayhoff</td>\n",
       "      <td>51</td>\n",
       "      <td>10</td>\n",
       "      <td>aligned</td>\n",
       "      <td>Fibroblast</td>\n",
       "    </tr>\n",
       "  </tbody>\n",
       "</table>\n",
       "</div>"
      ],
      "text/plain": [
       "    kmer_in_sequence   kmer_in_alphabet              hashval  \\\n",
       "0  LGVWLTYRYRNQKDPLS  ebefebfdfdccdcbeb  1071395202532925770   \n",
       "1  GNLVVESPRSNQLSHLG  bceeecbbdbccebdeb   964549883818904234   \n",
       "2  SNQLSHLGGSSAQGAIF  bccebdebbbbbcbbef  1434265734909814491   \n",
       "3  NQLSHLGGSSAQGAIFN  ccebdebbbbbcbbefc   141337536592772060   \n",
       "7  DLQQVAGSAARSQDALS  ceccebbbbbdbccbeb  1389938289591061387   \n",
       "\n",
       "                                           read_name gene_name species  \\\n",
       "0  E00512:367:HWHJNCCXY:1:1205:4229:18766\\tCB:Z:A...      None     bat   \n",
       "1  E00512:367:HWHJNCCXY:1:1120:29954:49197\\tCB:Z:...      None     bat   \n",
       "2  E00512:367:HWHJNCCXY:1:1120:29954:49197\\tCB:Z:...      None     bat   \n",
       "3  E00512:367:HWHJNCCXY:1:1120:29954:49197\\tCB:Z:...      None     bat   \n",
       "7  E00512:367:HWHJNCCXY:1:1101:8623:34711\\tCB:Z:A...      None     bat   \n",
       "\n",
       "                     cell_id                              sketch_id  moltype  \\\n",
       "0  bat3-LU__AGTGAGGCAGGATCGA  alphabet-dayhoff__ksize-51__scaled-10  dayhoff   \n",
       "1  bat3-LU__AGTGAGGCAGGATCGA  alphabet-dayhoff__ksize-51__scaled-10  dayhoff   \n",
       "2  bat3-LU__AGTGAGGCAGGATCGA  alphabet-dayhoff__ksize-51__scaled-10  dayhoff   \n",
       "3  bat3-LU__AGTGAGGCAGGATCGA  alphabet-dayhoff__ksize-51__scaled-10  dayhoff   \n",
       "7  bat3-LU__AGTGAGGCAGGATCGA  alphabet-dayhoff__ksize-51__scaled-10  dayhoff   \n",
       "\n",
       "  ksize  scaled alignment_status broad_group  \n",
       "0    51      10          aligned  Fibroblast  \n",
       "1    51      10          aligned  Fibroblast  \n",
       "2    51      10          aligned  Fibroblast  \n",
       "3    51      10          aligned  Fibroblast  \n",
       "7    51      10          aligned  Fibroblast  "
      ]
     },
     "metadata": {},
     "output_type": "display_data"
    }
   ],
   "source": [
    "bat_aligned = bat.query('alignment_status == \"aligned\"')\n",
    "describe(bat_aligned)"
   ]
  },
  {
   "cell_type": "code",
   "execution_count": 24,
   "id": "exciting-beijing",
   "metadata": {},
   "outputs": [
    {
     "data": {
      "text/plain": [
       "kmer_in_sequence      object\n",
       "kmer_in_alphabet      object\n",
       "hashval               object\n",
       "read_name             object\n",
       "gene_name             object\n",
       "species               object\n",
       "cell_id               object\n",
       "sketch_id             object\n",
       "moltype               object\n",
       "ksize                 object\n",
       "scaled                 int64\n",
       "alignment_status      object\n",
       "broad_group         category\n",
       "dtype: object"
      ]
     },
     "execution_count": 24,
     "metadata": {},
     "output_type": "execute_result"
    }
   ],
   "source": [
    "bat_aligned.dtypes"
   ]
  },
  {
   "cell_type": "code",
   "execution_count": null,
   "id": "greatest-fancy",
   "metadata": {},
   "outputs": [],
   "source": [
    "bat_hashval_to_ncells = bat_aligned.groupby(['hashval', 'broad_group']).cell_id.nunique()\n",
    "bat_hashval_to_ncells.name = 'n_cells_bat'\n",
    "bat_hashval_to_ncells.head()"
   ]
  },
  {
   "cell_type": "code",
   "execution_count": null,
   "id": "round-answer",
   "metadata": {},
   "outputs": [],
   "source": [
    "bat_unaligned.dtypes"
   ]
  },
  {
   "cell_type": "code",
   "execution_count": null,
   "id": "universal-riverside",
   "metadata": {},
   "outputs": [],
   "source": [
    "bat_unaligned_hashes = set(bat_unaligned.hashval)\n",
    "len(bat_unaligned_hashes)"
   ]
  },
  {
   "cell_type": "code",
   "execution_count": null,
   "id": "signal-parent",
   "metadata": {},
   "outputs": [],
   "source": [
    "human.hashval = human.hashval.astype(str)"
   ]
  },
  {
   "cell_type": "code",
   "execution_count": null,
   "id": "northern-mailman",
   "metadata": {},
   "outputs": [],
   "source": [
    "human.hashval.dtypes"
   ]
  },
  {
   "cell_type": "code",
   "execution_count": null,
   "id": "organized-crown",
   "metadata": {},
   "outputs": [],
   "source": [
    "%%time\n",
    "\n",
    "human_hashvals_bat_unaligned = human.query(\n",
    "    \"hashval in @bat_unaligned_hashes\"\n",
    ")\n",
    "describe(human_hashvals_bat_unaligned)"
   ]
  },
  {
   "cell_type": "code",
   "execution_count": null,
   "id": "animated-china",
   "metadata": {},
   "outputs": [],
   "source": [
    "human_hashvals_bat_unaligned_gene_names = human_hashvals_bat_unaligned.groupby('broad_group').gene_name.value_counts()\n",
    "human_hashvals_bat_unaligned_gene_names.name = 'n_hashes'\n",
    "human_hashvals_bat_unaligned_gene_names = human_hashvals_bat_unaligned_gene_names.reset_index()\n",
    "describe(human_hashvals_bat_unaligned_gene_names)"
   ]
  },
  {
   "cell_type": "markdown",
   "id": "rotary-cowboy",
   "metadata": {},
   "source": [
    "### Read bat unannotated genes"
   ]
  },
  {
   "cell_type": "code",
   "execution_count": null,
   "id": "center-seeking",
   "metadata": {},
   "outputs": [],
   "source": [
    "bat_unannotated = pd.read_csv('/home/olga/data_lg/data_sm_copy/immune-evolution/databases/unannotated-genes-in-bat-compared-to-human-GRCh38/unannotated_gene_in_bat_compared_to_GRCH38p13.csv')\n",
    "bat_unannotated = bat_unannotated.dropna(how='all', axis=1)\n",
    "bat_unannotated = {k: v for k, v in bat_unannotated.iteritems()}\n",
    "# print(bat_unannotated.shape)\n",
    "# bat_unannotated.head()\n",
    "bat_unannotated.keys()"
   ]
  },
  {
   "cell_type": "code",
   "execution_count": null,
   "id": "comparable-hierarchy",
   "metadata": {},
   "outputs": [],
   "source": [
    "dfs = []\n",
    "\n",
    "for gene_category, gene_names in bat_unannotated.items():\n",
    "#     print(f'--- {gene_category} ---')\n",
    "    df = human_hashvals_bat_unaligned_gene_names.query('gene_name in @gene_names')\n",
    "    df['gene_category'] = gene_category\n",
    "    dfs.append(df)\n",
    "bat_unaligned_in_human = pd.concat(dfs)\n",
    "describe(bat_unaligned_in_human)\n"
   ]
  },
  {
   "cell_type": "code",
   "execution_count": null,
   "id": "medium-hudson",
   "metadata": {},
   "outputs": [],
   "source": [
    "bat_unaligned_in_human.to_csv(\n",
    "    os.path.join(figure_folder, \"bat_unaligned_in_human.csv\"), index=False\n",
    ")"
   ]
  },
  {
   "cell_type": "code",
   "execution_count": null,
   "id": "diverse-uncle",
   "metadata": {},
   "outputs": [],
   "source": [
    "bat_unaligned_in_human.query('gene_category == \"ISG\" and broad_group == \"Alveolar Epithelial Type 2\"')"
   ]
  },
  {
   "cell_type": "code",
   "execution_count": null,
   "id": "engaging-fellow",
   "metadata": {},
   "outputs": [],
   "source": [
    "bat_unaligned_in_human_n_genes = bat_unaligned_in_human.groupby(['gene_category', 'broad_group']).size()\n",
    "bat_unaligned_in_human_n_genes.name = 'n_genes'\n",
    "bat_unaligned_in_human_n_genes = bat_unaligned_in_human_n_genes.reset_index()\n",
    "bat_unaligned_in_human_n_genes = bat_unaligned_in_human_n_genes.sort_values(['gene_category', 'n_genes'], ascending=False)\n",
    "bat_unaligned_in_human_n_genes"
   ]
  },
  {
   "cell_type": "markdown",
   "id": "secure-relationship",
   "metadata": {},
   "source": [
    "## Celltype palette"
   ]
  },
  {
   "cell_type": "code",
   "execution_count": null,
   "id": "administrative-analysis",
   "metadata": {},
   "outputs": [],
   "source": [
    "celltype_palette = dict(\n",
    "    zip(\n",
    "        sorted(bat_unaligned_in_human_n_genes.broad_group.unique()),\n",
    "        sns.color_palette(\"Dark2\", n_colors=10),\n",
    "    ),\n",
    ")"
   ]
  },
  {
   "cell_type": "markdown",
   "id": "photographic-brown",
   "metadata": {},
   "source": [
    "### one plot per category"
   ]
  },
  {
   "cell_type": "code",
   "execution_count": null,
   "id": "included-moore",
   "metadata": {},
   "outputs": [],
   "source": [
    "for gene_group, df in bat_unaligned_in_human_n_genes.groupby(\"gene_category\"):\n",
    "    df = df.sort_values(\"n_genes\", ascending=False)\n",
    "    g = sns.catplot(\n",
    "        y=\"broad_group\",\n",
    "        x=\"n_genes\",\n",
    "        col=\"gene_category\",\n",
    "        sharex=False,\n",
    "        data=df,\n",
    "        order=df.broad_group,\n",
    "        palette=celltype_palette,\n",
    "        kind=\"bar\",\n",
    "        height=3,\n",
    "        aspect=1.5,\n",
    "        #     sharey=False,\n",
    "    )\n",
    "    g.set_titles(\"{col_name}\")\n",
    "    pdf = os.path.join(figure_folder, f'barplot__unannotated_genes_found_in_unaligned_kmers__{gene_group}.pdf')\n",
    "    g.savefig(pdf)\n",
    "    png = pdf.replace('.pdf', '.png')\n",
    "    g.savefig(png)"
   ]
  }
 ],
 "metadata": {
  "kernelspec": {
   "display_name": "Python [conda env:immune-evolution]",
   "language": "python",
   "name": "conda-env-immune-evolution-py"
  },
  "language_info": {
   "codemirror_mode": {
    "name": "ipython",
    "version": 3
   },
   "file_extension": ".py",
   "mimetype": "text/x-python",
   "name": "python",
   "nbconvert_exporter": "python",
   "pygments_lexer": "ipython3",
   "version": "3.7.8"
  }
 },
 "nbformat": 4,
 "nbformat_minor": 5
}
