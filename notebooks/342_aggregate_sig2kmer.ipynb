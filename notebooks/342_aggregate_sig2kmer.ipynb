{
 "cells": [
  {
   "cell_type": "code",
   "execution_count": 6,
   "id": "identified-billy",
   "metadata": {},
   "outputs": [],
   "source": [
    "import os\n",
    "import glob\n",
    "import re\n",
    "\n",
    "from tqdm import tqdm\n",
    "import pandas as pd\n",
    "\n",
    "from sig2kmer import read_kmer_csv\n",
    "from sig_utils import SKETCH_INFO_PATTERN\n",
    "\n",
    "import sqlite3"
   ]
  },
  {
   "cell_type": "code",
   "execution_count": 7,
   "id": "lightweight-expression",
   "metadata": {},
   "outputs": [],
   "source": [
    "sketch_id_to_flags = {\n",
    "    \"alphabet-DNA__ksize-21__scaled-10\": \"--dna --ksize 21\",\n",
    "    \"alphabet-dayhoff__ksize-51__scaled-10\": \"--dayhoff --no-dna --ksize 51 --input-is-protein\",\n",
    "    \"alphabet-protein__ksize-30__scaled-10\": \"--protein --no-dna --ksize 30 --input-is-protein\",\n",
    "}\n",
    "\n",
    "sketch_ids = sketch_id_to_flags.keys()"
   ]
  },
  {
   "cell_type": "code",
   "execution_count": 4,
   "id": "infinite-search",
   "metadata": {},
   "outputs": [
    {
     "name": "stdout",
     "output_type": "stream",
     "text": [
      "total 1.0K\n",
      "drwxr-xr-x 2 olga czb 4.0K Apr 21 09:49 \u001b[0m\u001b[01;34m.\u001b[0m/\n",
      "drwxr-xr-x 3 olga czb 4.0K Apr 21 09:49 \u001b[01;34m..\u001b[0m/\n"
     ]
    }
   ],
   "source": [
    "ls -lha /home/olga/data_sm/immune-evolution/kmer-signatures/4--test-lemur/5--celltype-kmers--merged-celltype-remove-common-kmers--min-kmer-count--10-percent/alphabet-dayhoff__ksize-51__scaled-10/fastas/aligned | head"
   ]
  },
  {
   "cell_type": "code",
   "execution_count": 5,
   "id": "fundamental-career",
   "metadata": {},
   "outputs": [
    {
     "name": "stdout",
     "output_type": "stream",
     "text": [
      "2--test-human\t alphabet-DNA__ksize-21__scaled-10\taligned has\t14153 nonzero byte fasta files\n",
      "2--test-human\t alphabet-DNA__ksize-21__scaled-10\tunaligned has\t13046 nonzero byte fasta files\n",
      "2--test-human\t alphabet-dayhoff__ksize-51__scaled-10\taligned has\t14154 nonzero byte fasta files\n",
      "2--test-human\t alphabet-dayhoff__ksize-51__scaled-10\tunaligned has\t12261 nonzero byte fasta files\n",
      "2--test-human\t alphabet-protein__ksize-30__scaled-10\taligned has\t14154 nonzero byte fasta files\n",
      "2--test-human\t alphabet-protein__ksize-30__scaled-10\tunaligned has\t12181 nonzero byte fasta files\n",
      "3--test-bat\t alphabet-DNA__ksize-21__scaled-10\taligned has\t7695 nonzero byte fasta files\n"
     ]
    },
    {
     "ename": "KeyboardInterrupt",
     "evalue": "",
     "output_type": "error",
     "traceback": [
      "\u001b[0;31m---------------------------------------------------------------------------\u001b[0m",
      "\u001b[0;31mKeyboardInterrupt\u001b[0m                         Traceback (most recent call last)",
      "\u001b[0;32m<ipython-input-5-c302fb6125ed>\u001b[0m in \u001b[0;36m<module>\u001b[0;34m\u001b[0m\n\u001b[1;32m      7\u001b[0m             \u001b[0mfastas\u001b[0m \u001b[0;34m=\u001b[0m \u001b[0mglob\u001b[0m\u001b[0;34m.\u001b[0m\u001b[0miglob\u001b[0m\u001b[0;34m(\u001b[0m\u001b[0mos\u001b[0m\u001b[0;34m.\u001b[0m\u001b[0mpath\u001b[0m\u001b[0;34m.\u001b[0m\u001b[0mjoin\u001b[0m\u001b[0;34m(\u001b[0m\u001b[0mspecies_dir\u001b[0m\u001b[0;34m,\u001b[0m \u001b[0;34mf'2--single-cell-kmers/{sketch_id}/fastas/{alignment_status}/*.fasta'\u001b[0m\u001b[0;34m)\u001b[0m\u001b[0;34m)\u001b[0m\u001b[0;34m\u001b[0m\u001b[0;34m\u001b[0m\u001b[0m\n\u001b[1;32m      8\u001b[0m             \u001b[0;32mfor\u001b[0m \u001b[0mfasta\u001b[0m \u001b[0;32min\u001b[0m \u001b[0mfastas\u001b[0m\u001b[0;34m:\u001b[0m\u001b[0;34m\u001b[0m\u001b[0;34m\u001b[0m\u001b[0m\n\u001b[0;32m----> 9\u001b[0;31m                 \u001b[0;32mif\u001b[0m \u001b[0mos\u001b[0m\u001b[0;34m.\u001b[0m\u001b[0mpath\u001b[0m\u001b[0;34m.\u001b[0m\u001b[0mgetsize\u001b[0m\u001b[0;34m(\u001b[0m\u001b[0mfasta\u001b[0m\u001b[0;34m)\u001b[0m \u001b[0;34m>\u001b[0m \u001b[0;36m0\u001b[0m\u001b[0;34m:\u001b[0m\u001b[0;34m\u001b[0m\u001b[0;34m\u001b[0m\u001b[0m\n\u001b[0m\u001b[1;32m     10\u001b[0m                     \u001b[0mn\u001b[0m \u001b[0;34m+=\u001b[0m \u001b[0;36m1\u001b[0m\u001b[0;34m\u001b[0m\u001b[0;34m\u001b[0m\u001b[0m\n\u001b[1;32m     11\u001b[0m             \u001b[0mprint\u001b[0m\u001b[0;34m(\u001b[0m\u001b[0;34mf'{os.path.basename(species_dir)}\\t {sketch_id}\\t{alignment_status} has\\t{n} nonzero byte fasta files'\u001b[0m\u001b[0;34m)\u001b[0m\u001b[0;34m\u001b[0m\u001b[0;34m\u001b[0m\u001b[0m\n",
      "\u001b[0;32m~/miniconda3/envs/immune-evolution/lib/python3.7/genericpath.py\u001b[0m in \u001b[0;36mgetsize\u001b[0;34m(filename)\u001b[0m\n\u001b[1;32m     48\u001b[0m \u001b[0;32mdef\u001b[0m \u001b[0mgetsize\u001b[0m\u001b[0;34m(\u001b[0m\u001b[0mfilename\u001b[0m\u001b[0;34m)\u001b[0m\u001b[0;34m:\u001b[0m\u001b[0;34m\u001b[0m\u001b[0;34m\u001b[0m\u001b[0m\n\u001b[1;32m     49\u001b[0m     \u001b[0;34m\"\"\"Return the size of a file, reported by os.stat().\"\"\"\u001b[0m\u001b[0;34m\u001b[0m\u001b[0;34m\u001b[0m\u001b[0m\n\u001b[0;32m---> 50\u001b[0;31m     \u001b[0;32mreturn\u001b[0m \u001b[0mos\u001b[0m\u001b[0;34m.\u001b[0m\u001b[0mstat\u001b[0m\u001b[0;34m(\u001b[0m\u001b[0mfilename\u001b[0m\u001b[0;34m)\u001b[0m\u001b[0;34m.\u001b[0m\u001b[0mst_size\u001b[0m\u001b[0;34m\u001b[0m\u001b[0;34m\u001b[0m\u001b[0m\n\u001b[0m\u001b[1;32m     51\u001b[0m \u001b[0;34m\u001b[0m\u001b[0m\n\u001b[1;32m     52\u001b[0m \u001b[0;34m\u001b[0m\u001b[0m\n",
      "\u001b[0;31mKeyboardInterrupt\u001b[0m: "
     ]
    }
   ],
   "source": [
    "aligned_unaligned = 'aligned', 'unaligned'\n",
    "\n",
    "for species_dir in glob.glob('/home/olga/data_sm/immune-evolution/kmer-signatures/*--t*'):\n",
    "    for sketch_id in sketch_ids:\n",
    "        for alignment_status in aligned_unaligned:\n",
    "            n = 0\n",
    "            fastas = glob.iglob(os.path.join(species_dir, f'2--single-cell-kmers/{sketch_id}/fastas/{alignment_status}/*.fasta'))\n",
    "            for fasta in fastas:\n",
    "                if os.path.getsize(fasta) > 0:\n",
    "                    n += 1\n",
    "            print(f'{os.path.basename(species_dir)}\\t {sketch_id}\\t{alignment_status} has\\t{n} nonzero byte fasta files')"
   ]
  },
  {
   "cell_type": "markdown",
   "id": "about-namibia",
   "metadata": {},
   "source": [
    "# Single-cell signatures"
   ]
  },
  {
   "cell_type": "code",
   "execution_count": null,
   "id": "light-lodging",
   "metadata": {},
   "outputs": [],
   "source": [
    "# ll /home/olga/data_sm/immune-evolution/kmer-signatures/2--test-human/2--single-cell-kmers/alphabet-DNA__ksize-21__scaled-10/csvs/"
   ]
  },
  {
   "cell_type": "code",
   "execution_count": null,
   "id": "yellow-canberra",
   "metadata": {},
   "outputs": [],
   "source": [
    "1+1"
   ]
  },
  {
   "cell_type": "code",
   "execution_count": null,
   "id": "wicked-liverpool",
   "metadata": {},
   "outputs": [],
   "source": [
    "globber = os.path.join(\n",
    "    \"/home/olga/data_sm/immune-evolution/kmer-signatures/\",\n",
    "    \"*\",\n",
    "    \"2--single-cell-kmers\",\n",
    "    \"*\",\n",
    "    \"csvs\",\n",
    "    \"*\",\n",
    "    \"*.csv\",\n",
    ")\n",
    "total = sum(1 for _ in glob.iglob(globber))\n",
    "\n",
    "\n",
    "dfs = []\n",
    "for csv in tqdm(glob.iglob(globber), total=total):\n",
    "    try:\n",
    "        df = read_kmer_csv(csv)\n",
    "    except pd.errors.EmptyDataError:\n",
    "        print(f\"Empty file: {csv}\")\n",
    "        continue\n",
    "        \n",
    "    split = csv.split('/')\n",
    "    test_species = re.findall('((test|train)-\\w+)', csv)[0][0]\n",
    "    species = test_species.split('-')[-1]\n",
    "    df['species'] = species\n",
    "    dfs.append(df)\n",
    "    df['cell_id'] = os.path.basename(csv).split('.')[0]\n",
    "    mol_or_alpha, moltype, ksize, style, value = re.findall(SKETCH_INFO_PATTERN, csv)[0]\n",
    "    df['sketch_id'] = split[-4]\n",
    "    df['moltype'] = moltype\n",
    "    df['ksize'] = ksize\n",
    "    df[style] = int(value)\n",
    "    alignment_status = split[-2]\n",
    "    df['alignment_status'] = alignment_status\n",
    "    dfs.append(df)\n",
    "#     break\n",
    "kmers = pd.concat(dfs)\n",
    "print(kmers.shape)\n",
    "kmers.head()"
   ]
  },
  {
   "cell_type": "code",
   "execution_count": null,
   "id": "angry-quantum",
   "metadata": {},
   "outputs": [],
   "source": [
    "kmers.query('species == \"bat\"')"
   ]
  },
  {
   "cell_type": "code",
   "execution_count": 19,
   "id": "healthy-mainstream",
   "metadata": {},
   "outputs": [
    {
     "data": {
      "text/plain": [
       "'test-human'"
      ]
     },
     "execution_count": 19,
     "metadata": {},
     "output_type": "execute_result"
    }
   ],
   "source": [
    "re.findall('((test|train)-\\w+)', csv)[0][0]"
   ]
  },
  {
   "cell_type": "code",
   "execution_count": 9,
   "id": "promising-mother",
   "metadata": {},
   "outputs": [
    {
     "data": {
      "text/plain": [
       "'/home/olga/data_sm/immune-evolution/kmer-signatures/2--test-human/2--single-cell-kmers/alphabet-dayhoff__ksize-51__scaled-10/csvs/unaligned/P3_4__GAGCAGAAGTGGACGT.csv'"
      ]
     },
     "execution_count": 9,
     "metadata": {},
     "output_type": "execute_result"
    }
   ],
   "source": []
  },
  {
   "cell_type": "code",
   "execution_count": 23,
   "id": "continuing-garden",
   "metadata": {},
   "outputs": [],
   "source": [
    "# import pandas as pd\n",
    "# import sqlite3\n",
    "\n",
    "# con = sqlite3.connect(\"data/portal_mammals.sqlite\")\n",
    "\n",
    "# # Load the data into a DataFrame\n",
    "# surveys_df = pd.read_sql_query(\"SELECT * from surveys\", con)\n",
    "\n",
    "# # Select only data for 2002\n",
    "# surveys2002 = surveys_df[surveys_df.year == 2002]\n",
    "\n",
    "# # Write the new DataFrame to a new SQLite table\n",
    "# surveys2002.to_sql(\"surveys2002\", con, if_exists=\"replace\")\n",
    "\n",
    "# con.close()"
   ]
  },
  {
   "cell_type": "markdown",
   "id": "musical-angle",
   "metadata": {},
   "source": [
    "# Write as a command line tool per species"
   ]
  },
  {
   "cell_type": "code",
   "execution_count": 22,
   "id": "entire-amendment",
   "metadata": {},
   "outputs": [
    {
     "name": "stdout",
     "output_type": "stream",
     "text": [
      "Overwriting aggregate_per_species_sig2kmer.py\n"
     ]
    }
   ],
   "source": [
    "%%file aggregate_per_species_sig2kmer.py\n",
    "\n",
    "import argparse\n",
    "import os\n",
    "import glob\n",
    "import re\n",
    "\n",
    "from tqdm import tqdm\n",
    "import pandas as pd\n",
    "from joblib import Parallel, delayed\n",
    "from sig2kmer import read_kmer_csv\n",
    "from sig_utils import SKETCH_INFO_PATTERN\n",
    "from sourmash.logging import error, notify, set_quiet\n",
    "import sqlite3\n",
    "\n",
    "\n",
    "def process_single_kmer_csv(csv):\n",
    "    try:\n",
    "        df = read_kmer_csv(csv)\n",
    "    except (pd.errors.EmptyDataError, pd.errors.ParserError):\n",
    "        #         print(f\"Empty file: {csv}\")\n",
    "        return\n",
    "\n",
    "    split = csv.split(\"/\")\n",
    "    test_species = re.findall(\"((test|train)-\\w+)\", csv)[0][0]\n",
    "    species = test_species.split(\"-\")[-1]\n",
    "    df[\"species\"] = species\n",
    "    df[\"cell_id\"] = os.path.basename(csv).split(\".\")[0]\n",
    "    mol_or_alpha, moltype, ksize, style, value = re.findall(SKETCH_INFO_PATTERN, csv)[0]\n",
    "    df[\"sketch_id\"] = split[-4]\n",
    "    df[\"moltype\"] = moltype\n",
    "    df[\"ksize\"] = ksize\n",
    "    df[style] = int(value)\n",
    "    alignment_status = split[-2]\n",
    "    df[\"alignment_status\"] = alignment_status\n",
    "    return df\n",
    "\n",
    "\n",
    "def main():\n",
    "    p = argparse.ArgumentParser()\n",
    "    # base directory containing a 2--single-cell-kmers folder which contains sketch id directories with sig2kmer csvs\n",
    "    p.add_argument(\"species_base_dir\")\n",
    "    p.add_argument(\n",
    "        \"--n-jobs\",\n",
    "        type=int,\n",
    "        default=16,\n",
    "        help=\"Number of processes to use\",\n",
    "    )\n",
    "    p.add_argument(\n",
    "        \"--kmer-subdir\",\n",
    "        default=\"2--single-cell-kmers\",\n",
    "        type=str,\n",
    "        help=\"Subdirectory containing csvs within each per-sketch id subdirectory\",\n",
    "    )\n",
    "    p.add_argument(\n",
    "        \"--no-aligned-unaligned-subdir\",\n",
    "        action=\"store_true\",\n",
    "        help=(\n",
    "            \"If not set, looks for files in {species_base_dir}/{kmer_subdir}/{sketch_id}/csvs/aligned and \"\n",
    "            \"{species_base_dir}/{kmer_subdir}/{sketch_id}/csvs/unaligned. Otherwise, \"\n",
    "            \"looks in {species_base_dir}/{kmer_subdir}/{sketch_id}/csvs/\"\n",
    "        ),\n",
    "    )\n",
    "#     p.add_argument(\n",
    "#         \"--gene-name-tag\",\n",
    "#         default=\"GN\",\n",
    "#         help=(\n",
    "#             \"Set the bam file tag to look for gene names in the read information\"\n",
    "#         ),\n",
    "#     )\n",
    "    args = p.parse_args()\n",
    "\n",
    "    kmer_dir = os.path.join(args.species_base_dir, args.kmer_subdir)\n",
    "\n",
    "    sketch_globber = os.path.join(\n",
    "        kmer_dir,\n",
    "        \"alphabet-*ksize-*\",\n",
    "    )\n",
    "\n",
    "    for sketch_dir in glob.glob(sketch_globber):\n",
    "        notify(f\"Reading hash2kmer csvs from {sketch_dir}\")\n",
    "        if args.no_aligned_unaligned_subdir:\n",
    "            csv_globber = os.path.join(\n",
    "                sketch_dir,\n",
    "                \"csvs\",\n",
    "                \"*.csv\",\n",
    "            )\n",
    "        else:\n",
    "            csv_globber = os.path.join(\n",
    "                sketch_dir,\n",
    "                \"csvs\",\n",
    "                \"*\",  # \"aligned\" or \"unaligned\" directory\n",
    "                \"*.csv\",\n",
    "            )\n",
    "        total = sum(1 for _ in glob.iglob(csv_globber))\n",
    "\n",
    "        dfs = Parallel(n_jobs=args.n_jobs)(\n",
    "            delayed(process_single_kmer_csv)(csv) for csv in glob.iglob(csv_globber)\n",
    "        )\n",
    "        try:\n",
    "            kmers = pd.concat(dfs)\n",
    "        except ValueError:\n",
    "            # No objects to contatenate, continue\n",
    "            notify(\"No hash2kmer files found, skipping\")\n",
    "            continue\n",
    "        parquet = os.path.join(sketch_dir, \"hash2kmer.parquet\")\n",
    "        notify(f\"Writing {parquet}\")\n",
    "        kmers.to_parquet(parquet)\n",
    "\n",
    "\n",
    "if __name__ == \"__main__\":\n",
    "    main()"
   ]
  },
  {
   "cell_type": "markdown",
   "id": "collective-creativity",
   "metadata": {},
   "source": [
    "## Write out commands"
   ]
  },
  {
   "cell_type": "code",
   "execution_count": 8,
   "id": "retained-surprise",
   "metadata": {},
   "outputs": [
    {
     "data": {
      "text/plain": [
       "'/home/olga/miniconda3/envs/immune-evolution/bin/python /home/olga/code/immune-evolution--olgabot/analyze-kmermaid-bladder/notebooks/aggregate_per_species_sig2kmer.py {species_dir} --n-jobs 16'"
      ]
     },
     "execution_count": 8,
     "metadata": {},
     "output_type": "execute_result"
    }
   ],
   "source": [
    "PYTHON = '/home/olga/miniconda3/envs/immune-evolution/bin/python'\n",
    "PWD = '/home/olga/code/immune-evolution--olgabot/analyze-kmermaid-bladder/notebooks'\n",
    "AGGREGATE_SIG2KMER = f\"{PWD}/aggregate_per_species_sig2kmer.py\"\n",
    "sig2kmer_template = f\"{PYTHON} {AGGREGATE_SIG2KMER} \" + r\"{species_dir} --n-jobs 16\"\n",
    "sig2kmer_template"
   ]
  },
  {
   "cell_type": "code",
   "execution_count": 9,
   "id": "progressive-token",
   "metadata": {},
   "outputs": [
    {
     "name": "stdout",
     "output_type": "stream",
     "text": [
      "/home/olga/miniconda3/envs/immune-evolution/bin/python /home/olga/code/immune-evolution--olgabot/analyze-kmermaid-bladder/notebooks/aggregate_per_species_sig2kmer.py /home/olga/data_sm/immune-evolution/kmer-signatures/2--test-human --n-jobs 16\n",
      "/home/olga/miniconda3/envs/immune-evolution/bin/python /home/olga/code/immune-evolution--olgabot/analyze-kmermaid-bladder/notebooks/aggregate_per_species_sig2kmer.py /home/olga/data_sm/immune-evolution/kmer-signatures/3--test-bat --n-jobs 16\n",
      "/home/olga/miniconda3/envs/immune-evolution/bin/python /home/olga/code/immune-evolution--olgabot/analyze-kmermaid-bladder/notebooks/aggregate_per_species_sig2kmer.py /home/olga/data_sm/immune-evolution/kmer-signatures/4--test-lemur --n-jobs 16\n",
      "/home/olga/miniconda3/envs/immune-evolution/bin/python /home/olga/code/immune-evolution--olgabot/analyze-kmermaid-bladder/notebooks/aggregate_per_species_sig2kmer.py /home/olga/data_sm/immune-evolution/kmer-signatures/1--train-mouse --n-jobs 16\n"
     ]
    }
   ],
   "source": [
    "species_globber = os.path.join('/home/olga/data_sm/immune-evolution/kmer-signatures/', '*--t*')\n",
    "\n",
    "for species_dir in glob.glob(species_globber):\n",
    "    print(sig2kmer_template.format(species_dir=species_dir))"
   ]
  },
  {
   "cell_type": "markdown",
   "id": "durable-pasta",
   "metadata": {},
   "source": [
    "###  --> ran these on the command line"
   ]
  },
  {
   "cell_type": "markdown",
   "id": "dental-tampa",
   "metadata": {},
   "source": [
    "### For mouse2mouse, have to add additional `1--mouse2mouse/` column"
   ]
  },
  {
   "cell_type": "code",
   "execution_count": 32,
   "id": "twenty-capture",
   "metadata": {},
   "outputs": [
    {
     "name": "stdout",
     "output_type": "stream",
     "text": [
      "total 1\n",
      "drwxr-xr-x  8 olga 4096 Mar  5 11:46 \u001b[0m\u001b[01;34m0--self2self-bootstrapped\u001b[0m/\n",
      "drwxr-xr-x 18 olga 4096 Mar 29 06:53 \u001b[01;34m1--mouse2mouse\u001b[0m/\n"
     ]
    }
   ],
   "source": [
    "ll /home/olga/data_sm/immune-evolution/kmer-signatures/0--mouse2mouse"
   ]
  },
  {
   "cell_type": "markdown",
   "id": "dirty-teens",
   "metadata": {},
   "source": [
    "## Per-celltype comands"
   ]
  },
  {
   "cell_type": "code",
   "execution_count": 16,
   "id": "motivated-circle",
   "metadata": {},
   "outputs": [
    {
     "name": "stdout",
     "output_type": "stream",
     "text": [
      "/home/olga/miniconda3/envs/immune-evolution/bin/python /home/olga/code/immune-evolution--olgabot/analyze-kmermaid-bladder/notebooks/aggregate_per_species_sig2kmer.py /home/olga/data_sm/immune-evolution/kmer-signatures/1--train-mouse --n-jobs 16 --no-aligned-unaligned-subdir --kmer-subdir 5--celltype-kmers--merged-celltype-remove-common-kmers--min-kmer-count--10-percent\n",
      "/home/olga/miniconda3/envs/immune-evolution/bin/python /home/olga/code/immune-evolution--olgabot/analyze-kmermaid-bladder/notebooks/aggregate_per_species_sig2kmer.py /home/olga/data_sm/immune-evolution/kmer-signatures/1--train-mouse --n-jobs 16 --no-aligned-unaligned-subdir --kmer-subdir 5--celltype-kmers--merged-celltype-remove-common-kmers--min-kmer-count--5-percent\n"
     ]
    }
   ],
   "source": [
    "PYTHON = '/home/olga/miniconda3/envs/immune-evolution/bin/python'\n",
    "PWD = '/home/olga/code/immune-evolution--olgabot/analyze-kmermaid-bladder/notebooks'\n",
    "AGGREGATE_SIG2KMER = f\"{PWD}/aggregate_per_species_sig2kmer.py\"\n",
    "\n",
    "species_dir = '/home/olga/data_sm/immune-evolution/kmer-signatures/1--train-mouse'\n",
    "sig2kmer_db_template = f\"{PYTHON} {AGGREGATE_SIG2KMER} {species_dir} --n-jobs 16 --no-aligned-unaligned-subdir\" + r\" --kmer-subdir {kmer_subdir}\"\n",
    "sig2kmer_db_template\n",
    "\n",
    "kmer_db_globber = os.path.join('/home/olga/data_sm/immune-evolution/kmer-signatures/1--train-mouse/', '5--celltype-kmers--merged*')\n",
    "\n",
    "for kmer_subdir in glob.glob(kmer_db_globber):\n",
    "    print(sig2kmer_db_template.format(kmer_subdir=os.path.basename(kmer_subdir)))"
   ]
  },
  {
   "cell_type": "code",
   "execution_count": null,
   "id": "similar-petite",
   "metadata": {},
   "outputs": [],
   "source": [
    "1+1"
   ]
  },
  {
   "cell_type": "code",
   "execution_count": null,
   "id": "danish-suffering",
   "metadata": {},
   "outputs": [],
   "source": []
  }
 ],
 "metadata": {
  "kernelspec": {
   "display_name": "Python [conda env:immune-evolution]",
   "language": "python",
   "name": "conda-env-immune-evolution-py"
  },
  "language_info": {
   "codemirror_mode": {
    "name": "ipython",
    "version": 3
   },
   "file_extension": ".py",
   "mimetype": "text/x-python",
   "name": "python",
   "nbconvert_exporter": "python",
   "pygments_lexer": "ipython3",
   "version": "3.7.8"
  }
 },
 "nbformat": 4,
 "nbformat_minor": 5
}
