{
 "cells": [
  {
   "cell_type": "code",
   "execution_count": 1,
   "metadata": {},
   "outputs": [],
   "source": [
    "%load_ext autoreload\n",
    "%autoreload 2"
   ]
  },
  {
   "cell_type": "code",
   "execution_count": 15,
   "metadata": {},
   "outputs": [],
   "source": [
    "import itertools\n",
    "import os\n",
    "import glob\n",
    "\n",
    "import pandas as pd\n",
    "from joblib import Parallel, delayed\n",
    "import khmer\n",
    "import screed\n",
    "\n",
    "from tqdm import tqdm\n",
    "\n",
    "import numpy as np\n",
    "from orpheum.index import (\n",
    "    maybe_make_peptide_bloom_filter,\n",
    "    make_peptide_bloom_filter,\n",
    "    maybe_save_peptide_bloom_filter,\n",
    "    ALPHABET_SIZES,\n",
    ")"
   ]
  },
  {
   "cell_type": "code",
   "execution_count": 5,
   "metadata": {},
   "outputs": [],
   "source": [
    "from path_constants import MAMMALIA_BUSCO_SUBSET_FOLDER"
   ]
  },
  {
   "cell_type": "code",
   "execution_count": 6,
   "metadata": {},
   "outputs": [
    {
     "data": {
      "text/plain": [
       "['../kmer-homology-data/01--processed-data/orpheum-benchmarking/mammalia_busco_subsets/37293__aotus_nancymaae.fasta',\n",
       " '../kmer-homology-data/01--processed-data/orpheum-benchmarking/mammalia_busco_subsets/246437__tupaia_chinensis.fasta',\n",
       " '../kmer-homology-data/01--processed-data/orpheum-benchmarking/mammalia_busco_subsets/38626__phascolarctos_cinereus.fasta',\n",
       " '../kmer-homology-data/01--processed-data/orpheum-benchmarking/mammalia_busco_subsets/9365__erinaceus_europaeus.fasta',\n",
       " '../kmer-homology-data/01--processed-data/orpheum-benchmarking/mammalia_busco_subsets/73337__ceratotherium_simum_simum.fasta',\n",
       " '../kmer-homology-data/01--processed-data/orpheum-benchmarking/mammalia_busco_subsets/9837__camelus_bactrianus.fasta',\n",
       " '../kmer-homology-data/01--processed-data/orpheum-benchmarking/mammalia_busco_subsets/34839__chinchilla_lanigera.fasta',\n",
       " '../kmer-homology-data/01--processed-data/orpheum-benchmarking/mammalia_busco_subsets/1026970__nannospalax_galili.fasta',\n",
       " '../kmer-homology-data/01--processed-data/orpheum-benchmarking/mammalia_busco_subsets/230844__peromyscus_maniculatus_bairdii.fasta',\n",
       " '../kmer-homology-data/01--processed-data/orpheum-benchmarking/mammalia_busco_subsets/42254__sorex_araneus.fasta',\n",
       " '../kmer-homology-data/01--processed-data/orpheum-benchmarking/mammalia_busco_subsets/9986__oryctolagus_cuniculus.fasta',\n",
       " '../kmer-homology-data/01--processed-data/orpheum-benchmarking/mammalia_busco_subsets/9258__ornithorhynchus_anatinus.fasta',\n",
       " '../kmer-homology-data/01--processed-data/orpheum-benchmarking/mammalia_busco_subsets/89399__rhinolophus_sinicus.fasta',\n",
       " '../kmer-homology-data/01--processed-data/orpheum-benchmarking/mammalia_busco_subsets/118797__lipotes_vexillifer.fasta',\n",
       " '../kmer-homology-data/01--processed-data/orpheum-benchmarking/mammalia_busco_subsets/9544__macaca_mulatta.fasta',\n",
       " '../kmer-homology-data/01--processed-data/orpheum-benchmarking/mammalia_busco_subsets/9925__capra_hircus.fasta',\n",
       " '../kmer-homology-data/01--processed-data/orpheum-benchmarking/mammalia_busco_subsets/10090__mus_musculus.fasta',\n",
       " '../kmer-homology-data/01--processed-data/orpheum-benchmarking/mammalia_busco_subsets/9606__homo_sapiens.fasta']"
      ]
     },
     "execution_count": 6,
     "metadata": {},
     "output_type": "execute_result"
    }
   ],
   "source": [
    "filenames = glob.glob(os.path.join(MAMMALIA_BUSCO_SUBSET_FOLDER, '*.fasta'))\n",
    "filenames"
   ]
  },
  {
   "cell_type": "code",
   "execution_count": 7,
   "metadata": {},
   "outputs": [
    {
     "data": {
      "text/plain": [
       "{'aotus_nancymaae': '../kmer-homology-data/01--processed-data/orpheum-benchmarking/mammalia_busco_subsets/37293__aotus_nancymaae.fasta',\n",
       " 'tupaia_chinensis': '../kmer-homology-data/01--processed-data/orpheum-benchmarking/mammalia_busco_subsets/246437__tupaia_chinensis.fasta',\n",
       " 'phascolarctos_cinereus': '../kmer-homology-data/01--processed-data/orpheum-benchmarking/mammalia_busco_subsets/38626__phascolarctos_cinereus.fasta',\n",
       " 'erinaceus_europaeus': '../kmer-homology-data/01--processed-data/orpheum-benchmarking/mammalia_busco_subsets/9365__erinaceus_europaeus.fasta',\n",
       " 'ceratotherium_simum_simum': '../kmer-homology-data/01--processed-data/orpheum-benchmarking/mammalia_busco_subsets/73337__ceratotherium_simum_simum.fasta',\n",
       " 'camelus_bactrianus': '../kmer-homology-data/01--processed-data/orpheum-benchmarking/mammalia_busco_subsets/9837__camelus_bactrianus.fasta',\n",
       " 'chinchilla_lanigera': '../kmer-homology-data/01--processed-data/orpheum-benchmarking/mammalia_busco_subsets/34839__chinchilla_lanigera.fasta',\n",
       " 'nannospalax_galili': '../kmer-homology-data/01--processed-data/orpheum-benchmarking/mammalia_busco_subsets/1026970__nannospalax_galili.fasta',\n",
       " 'peromyscus_maniculatus_bairdii': '../kmer-homology-data/01--processed-data/orpheum-benchmarking/mammalia_busco_subsets/230844__peromyscus_maniculatus_bairdii.fasta',\n",
       " 'sorex_araneus': '../kmer-homology-data/01--processed-data/orpheum-benchmarking/mammalia_busco_subsets/42254__sorex_araneus.fasta',\n",
       " 'oryctolagus_cuniculus': '../kmer-homology-data/01--processed-data/orpheum-benchmarking/mammalia_busco_subsets/9986__oryctolagus_cuniculus.fasta',\n",
       " 'ornithorhynchus_anatinus': '../kmer-homology-data/01--processed-data/orpheum-benchmarking/mammalia_busco_subsets/9258__ornithorhynchus_anatinus.fasta',\n",
       " 'rhinolophus_sinicus': '../kmer-homology-data/01--processed-data/orpheum-benchmarking/mammalia_busco_subsets/89399__rhinolophus_sinicus.fasta',\n",
       " 'lipotes_vexillifer': '../kmer-homology-data/01--processed-data/orpheum-benchmarking/mammalia_busco_subsets/118797__lipotes_vexillifer.fasta',\n",
       " 'macaca_mulatta': '../kmer-homology-data/01--processed-data/orpheum-benchmarking/mammalia_busco_subsets/9544__macaca_mulatta.fasta',\n",
       " 'capra_hircus': '../kmer-homology-data/01--processed-data/orpheum-benchmarking/mammalia_busco_subsets/9925__capra_hircus.fasta',\n",
       " 'mus_musculus': '../kmer-homology-data/01--processed-data/orpheum-benchmarking/mammalia_busco_subsets/10090__mus_musculus.fasta',\n",
       " 'homo_sapiens': '../kmer-homology-data/01--processed-data/orpheum-benchmarking/mammalia_busco_subsets/9606__homo_sapiens.fasta'}"
      ]
     },
     "execution_count": 7,
     "metadata": {},
     "output_type": "execute_result"
    }
   ],
   "source": [
    "fastas = {os.path.basename(x).split('__')[-1].split('.fasta')[0]: x for x in filenames}\n",
    "fastas"
   ]
  },
  {
   "cell_type": "code",
   "execution_count": 16,
   "metadata": {},
   "outputs": [],
   "source": [
    "lines = []\n",
    "\n",
    "\n",
    "def create_index_and_compute_stats(name, fasta, alphabet, ksize, tablesize=int(1e8)):\n",
    "    \"\"\"Create peptide bloom filter (index) and compute k-mer complexity\"\"\"\n",
    "    index = make_peptide_bloom_filter(fasta, ksize, alphabet, tablesize=tablesize)\n",
    "    expected_collisions = khmer.calc_expected_collisions(index)\n",
    "    maybe_save_peptide_bloom_filter(fasta, index, alphabet, save_peptide_bloom_filter=True)\n",
    "\n",
    "    n_unique_kmers = index.n_unique_kmers()\n",
    "    sigma = ALPHABET_SIZES[alphabet]\n",
    "    line = [name, alphabet, ksize, sigma, expected_collisions, n_unique_kmers]\n",
    "    del index\n",
    "    return line"
   ]
  },
  {
   "cell_type": "code",
   "execution_count": 17,
   "metadata": {},
   "outputs": [],
   "source": [
    "N_JOBS = 32\n",
    "\n",
    "\n",
    "def format_index_stats(lines):\n",
    "    columns = [\n",
    "        \"name\",\n",
    "        \"molecule\",\n",
    "        \"ksize\",\n",
    "        \"sigma\",\n",
    "        \"expected_collisions\",\n",
    "        \"n_unique_kmers\",\n",
    "    ]\n",
    "    df = pd.DataFrame(lines, columns=columns)\n",
    "    df[\"n_theoretical_kmers_log10\"] = df[\"ksize\"] * np.log10(df[\"sigma\"])\n",
    "    df[\"n_unique_kmers_log10\"] = np.log10(df[\"n_unique_kmers\"])\n",
    "    df[\"unique_over_theoretical_log10\"] = (\n",
    "        df[\"n_unique_kmers_log10\"] - df[\"n_theoretical_kmers_log10\"]\n",
    "    )\n",
    "    return df"
   ]
  },
  {
   "cell_type": "code",
   "execution_count": 18,
   "metadata": {},
   "outputs": [
    {
     "name": "stdout",
     "output_type": "stream",
     "text": [
      "name: aotus_nancymaae\n"
     ]
    },
    {
     "name": "stderr",
     "output_type": "stream",
     "text": [
      "[Parallel(n_jobs=2)]: Using backend LokyBackend with 2 concurrent workers.\n",
      "[Parallel(n_jobs=2)]: Done   2 out of   2 | elapsed:    9.3s remaining:    0.0s\n",
      "[Parallel(n_jobs=2)]: Done   2 out of   2 | elapsed:    9.3s finished\n",
      "[Parallel(n_jobs=2)]: Using backend LokyBackend with 2 concurrent workers.\n"
     ]
    },
    {
     "name": "stdout",
     "output_type": "stream",
     "text": [
      "name: tupaia_chinensis\n"
     ]
    },
    {
     "name": "stderr",
     "output_type": "stream",
     "text": [
      "[Parallel(n_jobs=2)]: Done   2 out of   2 | elapsed:    1.0s remaining:    0.0s\n",
      "[Parallel(n_jobs=2)]: Done   2 out of   2 | elapsed:    1.0s finished\n",
      "[Parallel(n_jobs=2)]: Using backend LokyBackend with 2 concurrent workers.\n",
      "[Parallel(n_jobs=2)]: Done   2 out of   2 | elapsed:    0.1s remaining:    0.0s\n",
      "[Parallel(n_jobs=2)]: Done   2 out of   2 | elapsed:    0.1s finished\n",
      "[Parallel(n_jobs=2)]: Using backend LokyBackend with 2 concurrent workers.\n"
     ]
    },
    {
     "name": "stdout",
     "output_type": "stream",
     "text": [
      "name: phascolarctos_cinereus\n",
      "name: erinaceus_europaeus\n"
     ]
    },
    {
     "name": "stderr",
     "output_type": "stream",
     "text": [
      "[Parallel(n_jobs=2)]: Done   2 out of   2 | elapsed:   15.0s remaining:    0.0s\n",
      "[Parallel(n_jobs=2)]: Done   2 out of   2 | elapsed:   15.0s finished\n",
      "[Parallel(n_jobs=2)]: Using backend LokyBackend with 2 concurrent workers.\n",
      "[Parallel(n_jobs=2)]: Done   2 out of   2 | elapsed:    0.0s remaining:    0.0s\n",
      "[Parallel(n_jobs=2)]: Done   2 out of   2 | elapsed:    0.0s finished\n"
     ]
    },
    {
     "name": "stdout",
     "output_type": "stream",
     "text": [
      "name: ceratotherium_simum_simum\n",
      "name: camelus_bactrianus\n",
      "name: chinchilla_lanigera\n",
      "name: nannospalax_galili\n"
     ]
    },
    {
     "name": "stderr",
     "output_type": "stream",
     "text": [
      "[Parallel(n_jobs=2)]: Using backend LokyBackend with 2 concurrent workers.\n",
      "[Parallel(n_jobs=2)]: Done   2 out of   2 | elapsed:    0.1s remaining:    0.0s\n",
      "[Parallel(n_jobs=2)]: Done   2 out of   2 | elapsed:    0.1s finished\n",
      "[Parallel(n_jobs=2)]: Using backend LokyBackend with 2 concurrent workers.\n",
      "[Parallel(n_jobs=2)]: Done   2 out of   2 | elapsed:    0.1s remaining:    0.0s\n",
      "[Parallel(n_jobs=2)]: Done   2 out of   2 | elapsed:    0.1s finished\n",
      "[Parallel(n_jobs=2)]: Using backend LokyBackend with 2 concurrent workers.\n",
      "[Parallel(n_jobs=2)]: Done   2 out of   2 | elapsed:    0.1s remaining:    0.0s\n",
      "[Parallel(n_jobs=2)]: Done   2 out of   2 | elapsed:    0.1s finished\n",
      "[Parallel(n_jobs=2)]: Using backend LokyBackend with 2 concurrent workers.\n",
      "[Parallel(n_jobs=2)]: Done   2 out of   2 | elapsed:    0.1s remaining:    0.0s\n",
      "[Parallel(n_jobs=2)]: Done   2 out of   2 | elapsed:    0.1s finished\n",
      "[Parallel(n_jobs=2)]: Using backend LokyBackend with 2 concurrent workers.\n",
      "[Parallel(n_jobs=2)]: Done   2 out of   2 | elapsed:    0.1s remaining:    0.0s\n",
      "[Parallel(n_jobs=2)]: Done   2 out of   2 | elapsed:    0.1s finished\n",
      "[Parallel(n_jobs=2)]: Using backend LokyBackend with 2 concurrent workers.\n"
     ]
    },
    {
     "name": "stdout",
     "output_type": "stream",
     "text": [
      "name: peromyscus_maniculatus_bairdii\n",
      "name: sorex_araneus\n",
      "name: oryctolagus_cuniculus\n"
     ]
    },
    {
     "name": "stderr",
     "output_type": "stream",
     "text": [
      "[Parallel(n_jobs=2)]: Done   2 out of   2 | elapsed:    4.5s remaining:    0.0s\n",
      "[Parallel(n_jobs=2)]: Done   2 out of   2 | elapsed:    4.5s finished\n",
      "[Parallel(n_jobs=2)]: Using backend LokyBackend with 2 concurrent workers.\n"
     ]
    },
    {
     "name": "stdout",
     "output_type": "stream",
     "text": [
      "name: ornithorhynchus_anatinus\n"
     ]
    },
    {
     "name": "stderr",
     "output_type": "stream",
     "text": [
      "[Parallel(n_jobs=2)]: Done   2 out of   2 | elapsed:    1.3s remaining:    0.0s\n",
      "[Parallel(n_jobs=2)]: Done   2 out of   2 | elapsed:    1.3s finished\n",
      "[Parallel(n_jobs=2)]: Using backend LokyBackend with 2 concurrent workers.\n",
      "[Parallel(n_jobs=2)]: Done   2 out of   2 | elapsed:    0.0s remaining:    0.0s\n",
      "[Parallel(n_jobs=2)]: Done   2 out of   2 | elapsed:    0.0s finished\n",
      "[Parallel(n_jobs=2)]: Using backend LokyBackend with 2 concurrent workers.\n",
      "[Parallel(n_jobs=2)]: Done   2 out of   2 | elapsed:    0.0s remaining:    0.0s\n",
      "[Parallel(n_jobs=2)]: Done   2 out of   2 | elapsed:    0.0s finished\n",
      "[Parallel(n_jobs=2)]: Using backend LokyBackend with 2 concurrent workers.\n"
     ]
    },
    {
     "name": "stdout",
     "output_type": "stream",
     "text": [
      "name: rhinolophus_sinicus\n",
      "name: lipotes_vexillifer\n",
      "name: macaca_mulatta\n"
     ]
    },
    {
     "name": "stderr",
     "output_type": "stream",
     "text": [
      "[Parallel(n_jobs=2)]: Done   2 out of   2 | elapsed:    4.9s remaining:    0.0s\n",
      "[Parallel(n_jobs=2)]: Done   2 out of   2 | elapsed:    4.9s finished\n",
      "[Parallel(n_jobs=2)]: Using backend LokyBackend with 2 concurrent workers.\n"
     ]
    },
    {
     "name": "stdout",
     "output_type": "stream",
     "text": [
      "name: capra_hircus\n"
     ]
    },
    {
     "name": "stderr",
     "output_type": "stream",
     "text": [
      "[Parallel(n_jobs=2)]: Done   2 out of   2 | elapsed:    0.2s remaining:    0.0s\n",
      "[Parallel(n_jobs=2)]: Done   2 out of   2 | elapsed:    0.2s finished\n",
      "[Parallel(n_jobs=2)]: Using backend LokyBackend with 2 concurrent workers.\n"
     ]
    },
    {
     "name": "stdout",
     "output_type": "stream",
     "text": [
      "name: mus_musculus\n"
     ]
    },
    {
     "name": "stderr",
     "output_type": "stream",
     "text": [
      "[Parallel(n_jobs=2)]: Done   2 out of   2 | elapsed:   15.6s remaining:    0.0s\n",
      "[Parallel(n_jobs=2)]: Done   2 out of   2 | elapsed:   15.6s finished\n",
      "[Parallel(n_jobs=2)]: Using backend LokyBackend with 2 concurrent workers.\n"
     ]
    },
    {
     "name": "stdout",
     "output_type": "stream",
     "text": [
      "name: homo_sapiens\n",
      "(36, 9)\n"
     ]
    },
    {
     "name": "stderr",
     "output_type": "stream",
     "text": [
      "[Parallel(n_jobs=2)]: Done   2 out of   2 | elapsed:   18.0s remaining:    0.0s\n",
      "[Parallel(n_jobs=2)]: Done   2 out of   2 | elapsed:   18.0s finished\n"
     ]
    },
    {
     "data": {
      "text/html": [
       "<div>\n",
       "<style scoped>\n",
       "    .dataframe tbody tr th:only-of-type {\n",
       "        vertical-align: middle;\n",
       "    }\n",
       "\n",
       "    .dataframe tbody tr th {\n",
       "        vertical-align: top;\n",
       "    }\n",
       "\n",
       "    .dataframe thead th {\n",
       "        text-align: right;\n",
       "    }\n",
       "</style>\n",
       "<table border=\"1\" class=\"dataframe\">\n",
       "  <thead>\n",
       "    <tr style=\"text-align: right;\">\n",
       "      <th></th>\n",
       "      <th>name</th>\n",
       "      <th>molecule</th>\n",
       "      <th>ksize</th>\n",
       "      <th>sigma</th>\n",
       "      <th>expected_collisions</th>\n",
       "      <th>n_unique_kmers</th>\n",
       "      <th>n_theoretical_kmers_log10</th>\n",
       "      <th>n_unique_kmers_log10</th>\n",
       "      <th>unique_over_theoretical_log10</th>\n",
       "    </tr>\n",
       "  </thead>\n",
       "  <tbody>\n",
       "    <tr>\n",
       "      <th>0</th>\n",
       "      <td>aotus_nancymaae</td>\n",
       "      <td>dayhoff6</td>\n",
       "      <td>17</td>\n",
       "      <td>6</td>\n",
       "      <td>1.343059e-06</td>\n",
       "      <td>3463840</td>\n",
       "      <td>13.228571</td>\n",
       "      <td>6.539558</td>\n",
       "      <td>-6.689013</td>\n",
       "    </tr>\n",
       "    <tr>\n",
       "      <th>1</th>\n",
       "      <td>aotus_nancymaae</td>\n",
       "      <td>protein20</td>\n",
       "      <td>8</td>\n",
       "      <td>20</td>\n",
       "      <td>1.421344e-06</td>\n",
       "      <td>3513425</td>\n",
       "      <td>10.408240</td>\n",
       "      <td>6.545731</td>\n",
       "      <td>-3.862509</td>\n",
       "    </tr>\n",
       "    <tr>\n",
       "      <th>0</th>\n",
       "      <td>tupaia_chinensis</td>\n",
       "      <td>dayhoff6</td>\n",
       "      <td>17</td>\n",
       "      <td>6</td>\n",
       "      <td>6.506573e-10</td>\n",
       "      <td>506371</td>\n",
       "      <td>13.228571</td>\n",
       "      <td>5.704469</td>\n",
       "      <td>-7.524102</td>\n",
       "    </tr>\n",
       "    <tr>\n",
       "      <th>1</th>\n",
       "      <td>tupaia_chinensis</td>\n",
       "      <td>protein20</td>\n",
       "      <td>8</td>\n",
       "      <td>20</td>\n",
       "      <td>7.144468e-10</td>\n",
       "      <td>518316</td>\n",
       "      <td>10.408240</td>\n",
       "      <td>5.714595</td>\n",
       "      <td>-4.693645</td>\n",
       "    </tr>\n",
       "    <tr>\n",
       "      <th>0</th>\n",
       "      <td>phascolarctos_cinereus</td>\n",
       "      <td>dayhoff6</td>\n",
       "      <td>17</td>\n",
       "      <td>6</td>\n",
       "      <td>2.616793e-18</td>\n",
       "      <td>4022</td>\n",
       "      <td>13.228571</td>\n",
       "      <td>3.604442</td>\n",
       "      <td>-9.624129</td>\n",
       "    </tr>\n",
       "  </tbody>\n",
       "</table>\n",
       "</div>"
      ],
      "text/plain": [
       "                     name   molecule  ksize  sigma  expected_collisions  \\\n",
       "0         aotus_nancymaae   dayhoff6     17      6         1.343059e-06   \n",
       "1         aotus_nancymaae  protein20      8     20         1.421344e-06   \n",
       "0        tupaia_chinensis   dayhoff6     17      6         6.506573e-10   \n",
       "1        tupaia_chinensis  protein20      8     20         7.144468e-10   \n",
       "0  phascolarctos_cinereus   dayhoff6     17      6         2.616793e-18   \n",
       "\n",
       "   n_unique_kmers  n_theoretical_kmers_log10  n_unique_kmers_log10  \\\n",
       "0         3463840                  13.228571              6.539558   \n",
       "1         3513425                  10.408240              6.545731   \n",
       "0          506371                  13.228571              5.704469   \n",
       "1          518316                  10.408240              5.714595   \n",
       "0            4022                  13.228571              3.604442   \n",
       "\n",
       "   unique_over_theoretical_log10  \n",
       "0                      -6.689013  \n",
       "1                      -3.862509  \n",
       "0                      -7.524102  \n",
       "1                      -4.693645  \n",
       "0                      -9.624129  "
      ]
     },
     "execution_count": 18,
     "metadata": {},
     "output_type": "execute_result"
    }
   ],
   "source": [
    "dfs = []\n",
    "\n",
    "alpha_ksizes = ((\"dayhoff6\", 17), (\"protein20\", 8))\n",
    "\n",
    "for name, fasta in fastas.items():\n",
    "    print(f\"name: {name}\")\n",
    "    #     iterator = itertools.product(['protein20', 'dayhoff6', 'hp2'], range(2, 51))\n",
    "\n",
    "    #     line = create_index_and_compute_stats(name, fasta, 'dayhoff6', 17)\n",
    "    this_fasta_lines = Parallel(n_jobs=2, verbose=True)(\n",
    "        delayed(create_index_and_compute_stats)(name, fasta, alphabet, ksize)\n",
    "        for alphabet, ksize in alpha_ksizes\n",
    "    )\n",
    "    df = format_index_stats(this_fasta_lines)\n",
    "    csv = os.path.join(\n",
    "        MAMMALIA_BUSCO_SUBSET_FOLDER, f\"busco_mammalia_kmer_complexity__{name}.csv\"\n",
    "    )\n",
    "    df.to_csv(csv, index=False)\n",
    "    dfs.append(df)\n",
    "\n",
    "index_stats = pd.concat(dfs)\n",
    "# index_stats['n_theoretical_kmers'] = np.power(index_stats.sigma, index_stats.ksize)\n",
    "# index_stats['unique_over_theoretical'] = index_stats.n_unique_kmers / index_stats.n_theoretical_kmers\n",
    "# index_stats['unique_over_theoretical_log10'] = -1 * np.log10(index_stats['unique_over_theoretical'])\n",
    "csv = os.path.join(\n",
    "    MAMMALIA_BUSCO_SUBSET_FOLDER, \"busco_mammalia_kmer_complexity_all_species.csv\"\n",
    ")\n",
    "\n",
    "index_stats.to_csv(csv, index=False)\n",
    "print(index_stats.shape)\n",
    "index_stats.head()"
   ]
  },
  {
   "cell_type": "code",
   "execution_count": 14,
   "metadata": {},
   "outputs": [
    {
     "name": "stdout",
     "output_type": "stream",
     "text": [
      "zsh:1: no matches found: ../kmer-homology-data/01--processed-data/orpheum-benchmarking/mammalia_busco_subsets/*csv\n"
     ]
    }
   ],
   "source": [
    "ls -lha $MAMMALIA_BUSCO_SUBSET_FOLDER/*csv"
   ]
  },
  {
   "cell_type": "code",
   "execution_count": null,
   "metadata": {},
   "outputs": [],
   "source": []
  }
 ],
 "metadata": {
  "kernelspec": {
   "display_name": "Python [conda env:immune-evolution]",
   "language": "python",
   "name": "conda-env-immune-evolution-py"
  },
  "language_info": {
   "codemirror_mode": {
    "name": "ipython",
    "version": 3
   },
   "file_extension": ".py",
   "mimetype": "text/x-python",
   "name": "python",
   "nbconvert_exporter": "python",
   "pygments_lexer": "ipython3",
   "version": "3.7.8"
  }
 },
 "nbformat": 4,
 "nbformat_minor": 4
}
