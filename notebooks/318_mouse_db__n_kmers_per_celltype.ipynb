{
 "cells": [
  {
   "cell_type": "markdown",
   "id": "authorized-limit",
   "metadata": {},
   "source": [
    "# Imports"
   ]
  },
  {
   "cell_type": "code",
   "execution_count": 4,
   "id": "suffering-label",
   "metadata": {},
   "outputs": [],
   "source": [
    "import glob\n",
    "import os\n",
    "import re\n",
    "import shutil\n",
    "\n",
    "import pandas as pd\n",
    "import scanpy as sc\n",
    "import sig_utils\n",
    "from joblib import Parallel, delayed\n",
    "import seaborn as sns\n",
    "from sklearn.model_selection import RepeatedStratifiedKFold, StratifiedKFold\n",
    "from tqdm import tqdm\n",
    "\n",
    "pd.options.display.max_rows = 500\n",
    "\n",
    "%load_ext autoreload\n",
    "%autoreload 2"
   ]
  },
  {
   "cell_type": "markdown",
   "id": "painful-gravity",
   "metadata": {},
   "source": [
    "## Def Describe"
   ]
  },
  {
   "cell_type": "code",
   "execution_count": 5,
   "id": "sophisticated-bearing",
   "metadata": {},
   "outputs": [
    {
     "name": "stdout",
     "output_type": "stream",
     "text": [
      "Overwriting pandas_utils.py\n"
     ]
    }
   ],
   "source": [
    "%%file pandas_utils.py\n",
    "\n",
    "def describe(df, random=False):\n",
    "    print(df.shape)\n",
    "    print(\"--- First 5 entries ---\")\n",
    "    display(df.head())\n",
    "    if random:\n",
    "        print('--- Random subset ---')\n",
    "        display(df.sample(5))"
   ]
  },
  {
   "cell_type": "code",
   "execution_count": 6,
   "id": "laughing-language",
   "metadata": {},
   "outputs": [],
   "source": [
    "from pandas_utils import describe"
   ]
  },
  {
   "cell_type": "markdown",
   "id": "nonprofit-collective",
   "metadata": {},
   "source": [
    "## Read one2one h5ad"
   ]
  },
  {
   "cell_type": "code",
   "execution_count": 7,
   "id": "processed-carter",
   "metadata": {},
   "outputs": [
    {
     "name": "stdout",
     "output_type": "stream",
     "text": [
      "AnnData object with n_obs × n_vars = 126745 × 10560\n",
      "    obs: 'index', 'age', 'cell_barcode', 'cell_ontology_class', 'cell_ontology_id', 'channel', 'free_annotation', 'individual', 'sample', 'sequencing_run', 'sex', 'species', 'species_batch', 'species_latin', 'tissue', 'narrow_group', 'broad_group', 'compartment_group', 'compartment_narrow', 'channel_cleaned', 'batch', 'n_genes', 'n_counts', 'species_batch_v2', 'compartment_broad', 'compartment_broad_narrow', 'compartment_species', 'compartment_narrow_species', 'common_individual_id'\n",
      "    var: 'bat__gene_name', 'mouse_lemur__gene_name-bat', 'mouse__gene_name-bat', 'mouse_lemur__gene_name_x-hlm', 'mouse__gene_name_x-hlm', 'gene_ids-lemur-hlm', 'n_cells-mouse-hlm', 'mouse_lemur__gene_name_y-hlm', 'mouse__gene_name_y-hlm'\n"
     ]
    },
    {
     "data": {
      "text/html": [
       "<div>\n",
       "<style scoped>\n",
       "    .dataframe tbody tr th:only-of-type {\n",
       "        vertical-align: middle;\n",
       "    }\n",
       "\n",
       "    .dataframe tbody tr th {\n",
       "        vertical-align: top;\n",
       "    }\n",
       "\n",
       "    .dataframe thead th {\n",
       "        text-align: right;\n",
       "    }\n",
       "</style>\n",
       "<table border=\"1\" class=\"dataframe\">\n",
       "  <thead>\n",
       "    <tr style=\"text-align: right;\">\n",
       "      <th></th>\n",
       "      <th>index</th>\n",
       "      <th>age</th>\n",
       "      <th>cell_barcode</th>\n",
       "      <th>cell_ontology_class</th>\n",
       "      <th>cell_ontology_id</th>\n",
       "      <th>channel</th>\n",
       "      <th>free_annotation</th>\n",
       "      <th>individual</th>\n",
       "      <th>sample</th>\n",
       "      <th>sequencing_run</th>\n",
       "      <th>...</th>\n",
       "      <th>channel_cleaned</th>\n",
       "      <th>batch</th>\n",
       "      <th>n_genes</th>\n",
       "      <th>n_counts</th>\n",
       "      <th>species_batch_v2</th>\n",
       "      <th>compartment_broad</th>\n",
       "      <th>compartment_broad_narrow</th>\n",
       "      <th>compartment_species</th>\n",
       "      <th>compartment_narrow_species</th>\n",
       "      <th>common_individual_id</th>\n",
       "    </tr>\n",
       "    <tr>\n",
       "      <th>cell_id</th>\n",
       "      <th></th>\n",
       "      <th></th>\n",
       "      <th></th>\n",
       "      <th></th>\n",
       "      <th></th>\n",
       "      <th></th>\n",
       "      <th></th>\n",
       "      <th></th>\n",
       "      <th></th>\n",
       "      <th></th>\n",
       "      <th></th>\n",
       "      <th></th>\n",
       "      <th></th>\n",
       "      <th></th>\n",
       "      <th></th>\n",
       "      <th></th>\n",
       "      <th></th>\n",
       "      <th></th>\n",
       "      <th></th>\n",
       "      <th></th>\n",
       "      <th></th>\n",
       "    </tr>\n",
       "  </thead>\n",
       "  <tbody>\n",
       "    <tr>\n",
       "      <th>P2_1__AAACCTGAGAAACCAT</th>\n",
       "      <td>P2_1_AAACCTGAGAAACCAT-human-hlm</td>\n",
       "      <td>46y</td>\n",
       "      <td>AAACCTGAGAAACCAT</td>\n",
       "      <td>capillary endothelial cell</td>\n",
       "      <td>nan</td>\n",
       "      <td>P2_1</td>\n",
       "      <td>Capillary Aerocyte</td>\n",
       "      <td>patient_2</td>\n",
       "      <td>distal 2</td>\n",
       "      <td>180607_A00111_0155_BHFCWYDMXX</td>\n",
       "      <td>...</td>\n",
       "      <td>P2_1</td>\n",
       "      <td>NaN</td>\n",
       "      <td>NaN</td>\n",
       "      <td>NaN</td>\n",
       "      <td>hlm</td>\n",
       "      <td>endothelial: Capillary</td>\n",
       "      <td>endothelial: Capillary: Capillary Aerocyte</td>\n",
       "      <td>endothelial: human</td>\n",
       "      <td>endothelial: Capillary Aerocyte: human</td>\n",
       "      <td>human_patient_2</td>\n",
       "    </tr>\n",
       "    <tr>\n",
       "      <th>P2_1__AAATGCCAGATGAGAG</th>\n",
       "      <td>P2_1_AAATGCCAGATGAGAG-human-hlm</td>\n",
       "      <td>46y</td>\n",
       "      <td>AAATGCCAGATGAGAG</td>\n",
       "      <td>capillary endothelial cell</td>\n",
       "      <td>nan</td>\n",
       "      <td>P2_1</td>\n",
       "      <td>Capillary Aerocyte</td>\n",
       "      <td>patient_2</td>\n",
       "      <td>distal 2</td>\n",
       "      <td>180607_A00111_0155_BHFCWYDMXX</td>\n",
       "      <td>...</td>\n",
       "      <td>P2_1</td>\n",
       "      <td>NaN</td>\n",
       "      <td>NaN</td>\n",
       "      <td>NaN</td>\n",
       "      <td>hlm</td>\n",
       "      <td>endothelial: Capillary</td>\n",
       "      <td>endothelial: Capillary: Capillary Aerocyte</td>\n",
       "      <td>endothelial: human</td>\n",
       "      <td>endothelial: Capillary Aerocyte: human</td>\n",
       "      <td>human_patient_2</td>\n",
       "    </tr>\n",
       "    <tr>\n",
       "      <th>P2_1__AACACGTTCGATCCCT</th>\n",
       "      <td>P2_1_AACACGTTCGATCCCT-human-hlm</td>\n",
       "      <td>46y</td>\n",
       "      <td>AACACGTTCGATCCCT</td>\n",
       "      <td>capillary endothelial cell</td>\n",
       "      <td>nan</td>\n",
       "      <td>P2_1</td>\n",
       "      <td>Capillary Aerocyte</td>\n",
       "      <td>patient_2</td>\n",
       "      <td>distal 2</td>\n",
       "      <td>180607_A00111_0155_BHFCWYDMXX</td>\n",
       "      <td>...</td>\n",
       "      <td>P2_1</td>\n",
       "      <td>NaN</td>\n",
       "      <td>NaN</td>\n",
       "      <td>NaN</td>\n",
       "      <td>hlm</td>\n",
       "      <td>endothelial: Capillary</td>\n",
       "      <td>endothelial: Capillary: Capillary Aerocyte</td>\n",
       "      <td>endothelial: human</td>\n",
       "      <td>endothelial: Capillary Aerocyte: human</td>\n",
       "      <td>human_patient_2</td>\n",
       "    </tr>\n",
       "    <tr>\n",
       "      <th>P2_1__AACACGTTCGCACTCT</th>\n",
       "      <td>P2_1_AACACGTTCGCACTCT-human-hlm</td>\n",
       "      <td>46y</td>\n",
       "      <td>AACACGTTCGCACTCT</td>\n",
       "      <td>capillary endothelial cell</td>\n",
       "      <td>nan</td>\n",
       "      <td>P2_1</td>\n",
       "      <td>Capillary Aerocyte</td>\n",
       "      <td>patient_2</td>\n",
       "      <td>distal 2</td>\n",
       "      <td>180607_A00111_0155_BHFCWYDMXX</td>\n",
       "      <td>...</td>\n",
       "      <td>P2_1</td>\n",
       "      <td>NaN</td>\n",
       "      <td>NaN</td>\n",
       "      <td>NaN</td>\n",
       "      <td>hlm</td>\n",
       "      <td>endothelial: Capillary</td>\n",
       "      <td>endothelial: Capillary: Capillary Aerocyte</td>\n",
       "      <td>endothelial: human</td>\n",
       "      <td>endothelial: Capillary Aerocyte: human</td>\n",
       "      <td>human_patient_2</td>\n",
       "    </tr>\n",
       "    <tr>\n",
       "      <th>P2_1__AACCATGCAGCTCGCA</th>\n",
       "      <td>P2_1_AACCATGCAGCTCGCA-human-hlm</td>\n",
       "      <td>46y</td>\n",
       "      <td>AACCATGCAGCTCGCA</td>\n",
       "      <td>capillary endothelial cell</td>\n",
       "      <td>nan</td>\n",
       "      <td>P2_1</td>\n",
       "      <td>Capillary Aerocyte</td>\n",
       "      <td>patient_2</td>\n",
       "      <td>distal 2</td>\n",
       "      <td>180607_A00111_0155_BHFCWYDMXX</td>\n",
       "      <td>...</td>\n",
       "      <td>P2_1</td>\n",
       "      <td>NaN</td>\n",
       "      <td>NaN</td>\n",
       "      <td>NaN</td>\n",
       "      <td>hlm</td>\n",
       "      <td>endothelial: Capillary</td>\n",
       "      <td>endothelial: Capillary: Capillary Aerocyte</td>\n",
       "      <td>endothelial: human</td>\n",
       "      <td>endothelial: Capillary Aerocyte: human</td>\n",
       "      <td>human_patient_2</td>\n",
       "    </tr>\n",
       "  </tbody>\n",
       "</table>\n",
       "<p>5 rows × 29 columns</p>\n",
       "</div>"
      ],
      "text/plain": [
       "                                                  index  age  \\\n",
       "cell_id                                                        \n",
       "P2_1__AAACCTGAGAAACCAT  P2_1_AAACCTGAGAAACCAT-human-hlm  46y   \n",
       "P2_1__AAATGCCAGATGAGAG  P2_1_AAATGCCAGATGAGAG-human-hlm  46y   \n",
       "P2_1__AACACGTTCGATCCCT  P2_1_AACACGTTCGATCCCT-human-hlm  46y   \n",
       "P2_1__AACACGTTCGCACTCT  P2_1_AACACGTTCGCACTCT-human-hlm  46y   \n",
       "P2_1__AACCATGCAGCTCGCA  P2_1_AACCATGCAGCTCGCA-human-hlm  46y   \n",
       "\n",
       "                            cell_barcode         cell_ontology_class  \\\n",
       "cell_id                                                                \n",
       "P2_1__AAACCTGAGAAACCAT  AAACCTGAGAAACCAT  capillary endothelial cell   \n",
       "P2_1__AAATGCCAGATGAGAG  AAATGCCAGATGAGAG  capillary endothelial cell   \n",
       "P2_1__AACACGTTCGATCCCT  AACACGTTCGATCCCT  capillary endothelial cell   \n",
       "P2_1__AACACGTTCGCACTCT  AACACGTTCGCACTCT  capillary endothelial cell   \n",
       "P2_1__AACCATGCAGCTCGCA  AACCATGCAGCTCGCA  capillary endothelial cell   \n",
       "\n",
       "                       cell_ontology_id channel     free_annotation  \\\n",
       "cell_id                                                               \n",
       "P2_1__AAACCTGAGAAACCAT              nan    P2_1  Capillary Aerocyte   \n",
       "P2_1__AAATGCCAGATGAGAG              nan    P2_1  Capillary Aerocyte   \n",
       "P2_1__AACACGTTCGATCCCT              nan    P2_1  Capillary Aerocyte   \n",
       "P2_1__AACACGTTCGCACTCT              nan    P2_1  Capillary Aerocyte   \n",
       "P2_1__AACCATGCAGCTCGCA              nan    P2_1  Capillary Aerocyte   \n",
       "\n",
       "                       individual    sample                 sequencing_run  \\\n",
       "cell_id                                                                      \n",
       "P2_1__AAACCTGAGAAACCAT  patient_2  distal 2  180607_A00111_0155_BHFCWYDMXX   \n",
       "P2_1__AAATGCCAGATGAGAG  patient_2  distal 2  180607_A00111_0155_BHFCWYDMXX   \n",
       "P2_1__AACACGTTCGATCCCT  patient_2  distal 2  180607_A00111_0155_BHFCWYDMXX   \n",
       "P2_1__AACACGTTCGCACTCT  patient_2  distal 2  180607_A00111_0155_BHFCWYDMXX   \n",
       "P2_1__AACCATGCAGCTCGCA  patient_2  distal 2  180607_A00111_0155_BHFCWYDMXX   \n",
       "\n",
       "                        ... channel_cleaned batch n_genes n_counts  \\\n",
       "cell_id                 ...                                          \n",
       "P2_1__AAACCTGAGAAACCAT  ...            P2_1   NaN     NaN      NaN   \n",
       "P2_1__AAATGCCAGATGAGAG  ...            P2_1   NaN     NaN      NaN   \n",
       "P2_1__AACACGTTCGATCCCT  ...            P2_1   NaN     NaN      NaN   \n",
       "P2_1__AACACGTTCGCACTCT  ...            P2_1   NaN     NaN      NaN   \n",
       "P2_1__AACCATGCAGCTCGCA  ...            P2_1   NaN     NaN      NaN   \n",
       "\n",
       "                       species_batch_v2       compartment_broad  \\\n",
       "cell_id                                                           \n",
       "P2_1__AAACCTGAGAAACCAT              hlm  endothelial: Capillary   \n",
       "P2_1__AAATGCCAGATGAGAG              hlm  endothelial: Capillary   \n",
       "P2_1__AACACGTTCGATCCCT              hlm  endothelial: Capillary   \n",
       "P2_1__AACACGTTCGCACTCT              hlm  endothelial: Capillary   \n",
       "P2_1__AACCATGCAGCTCGCA              hlm  endothelial: Capillary   \n",
       "\n",
       "                                          compartment_broad_narrow  \\\n",
       "cell_id                                                              \n",
       "P2_1__AAACCTGAGAAACCAT  endothelial: Capillary: Capillary Aerocyte   \n",
       "P2_1__AAATGCCAGATGAGAG  endothelial: Capillary: Capillary Aerocyte   \n",
       "P2_1__AACACGTTCGATCCCT  endothelial: Capillary: Capillary Aerocyte   \n",
       "P2_1__AACACGTTCGCACTCT  endothelial: Capillary: Capillary Aerocyte   \n",
       "P2_1__AACCATGCAGCTCGCA  endothelial: Capillary: Capillary Aerocyte   \n",
       "\n",
       "                       compartment_species  \\\n",
       "cell_id                                      \n",
       "P2_1__AAACCTGAGAAACCAT  endothelial: human   \n",
       "P2_1__AAATGCCAGATGAGAG  endothelial: human   \n",
       "P2_1__AACACGTTCGATCCCT  endothelial: human   \n",
       "P2_1__AACACGTTCGCACTCT  endothelial: human   \n",
       "P2_1__AACCATGCAGCTCGCA  endothelial: human   \n",
       "\n",
       "                                    compartment_narrow_species  \\\n",
       "cell_id                                                          \n",
       "P2_1__AAACCTGAGAAACCAT  endothelial: Capillary Aerocyte: human   \n",
       "P2_1__AAATGCCAGATGAGAG  endothelial: Capillary Aerocyte: human   \n",
       "P2_1__AACACGTTCGATCCCT  endothelial: Capillary Aerocyte: human   \n",
       "P2_1__AACACGTTCGCACTCT  endothelial: Capillary Aerocyte: human   \n",
       "P2_1__AACCATGCAGCTCGCA  endothelial: Capillary Aerocyte: human   \n",
       "\n",
       "                       common_individual_id  \n",
       "cell_id                                      \n",
       "P2_1__AAACCTGAGAAACCAT      human_patient_2  \n",
       "P2_1__AAATGCCAGATGAGAG      human_patient_2  \n",
       "P2_1__AACACGTTCGATCCCT      human_patient_2  \n",
       "P2_1__AACACGTTCGCACTCT      human_patient_2  \n",
       "P2_1__AACCATGCAGCTCGCA      human_patient_2  \n",
       "\n",
       "[5 rows x 29 columns]"
      ]
     },
     "execution_count": 7,
     "metadata": {},
     "output_type": "execute_result"
    }
   ],
   "source": [
    "adata = sc.read(\n",
    "#     \"/home/phoenix/data_sm/code/immune-evolution/h5ads/human-lemur-mouse-bat__lung_only_copy.h5ad\"\n",
    "    \"/home/olga/data_sm/immune-evolution/h5ads/human-lemur-mouse-bat/human-lemur-mouse-bat__lung_only.h5ad\"\n",
    ")\n",
    "adata.obs = adata.obs.reset_index().set_index('cell_id')\n",
    "print(adata)\n",
    "adata.obs.head()"
   ]
  },
  {
   "cell_type": "code",
   "execution_count": 8,
   "id": "united-watts",
   "metadata": {},
   "outputs": [
    {
     "data": {
      "text/plain": [
       "Human          57353\n",
       "Mouse lemur    36934\n",
       "Mouse          23802\n",
       "Bat             8656\n",
       "Name: species, dtype: int64"
      ]
     },
     "execution_count": 8,
     "metadata": {},
     "output_type": "execute_result"
    }
   ],
   "source": [
    "adata.obs.species.value_counts()"
   ]
  },
  {
   "cell_type": "code",
   "execution_count": 9,
   "id": "reliable-object",
   "metadata": {},
   "outputs": [
    {
     "data": {
      "text/plain": [
       "age  channel           \n",
       "18m  MACA_18m_F_LUNG_50     320\n",
       "     MACA_18m_F_LUNG_51    1138\n",
       "     MACA_18m_M_LUNG_52    1573\n",
       "     MACA_18m_M_LUNG_53    1256\n",
       "21m  MACA_21m_F_LUNG_54    1312\n",
       "     MACA_21m_F_LUNG_55    1526\n",
       "30m  10X_P1_6              7728\n",
       "     10X_P1_14             1565\n",
       "     10X_P2_5               920\n",
       "     10X_P3_0               496\n",
       "1m   10X_P5_13             1043\n",
       "     10X_P5_14             1384\n",
       "3m   10X_P7_8               348\n",
       "     10X_P7_9               979\n",
       "     10X_P8_12              578\n",
       "     10X_P8_13             1636\n",
       "dtype: int64"
      ]
     },
     "execution_count": 9,
     "metadata": {},
     "output_type": "execute_result"
    }
   ],
   "source": [
    "adata.obs.query('species == \"Mouse\"').groupby([\"age\", \"channel\"], observed=True).size()"
   ]
  },
  {
   "cell_type": "markdown",
   "id": "surrounded-baseball",
   "metadata": {},
   "source": [
    "## Set shared celltypes"
   ]
  },
  {
   "cell_type": "code",
   "execution_count": 10,
   "id": "crucial-subscription",
   "metadata": {},
   "outputs": [
    {
     "data": {
      "text/plain": [
       "10"
      ]
     },
     "execution_count": 10,
     "metadata": {},
     "output_type": "execute_result"
    }
   ],
   "source": [
    "SHARED_CELLTYPES = ['Alveolar Epithelial Type 2',\n",
    " 'B cell',\n",
    " 'Capillary',\n",
    " 'Dendritic',\n",
    " 'Fibroblast',\n",
    " 'Macrophage',\n",
    " 'Monocyte',\n",
    " 'Natural Killer T cell',\n",
    " 'Smooth Muscle and Myofibroblast',\n",
    " 'T cell']\n",
    "len(SHARED_CELLTYPES)"
   ]
  },
  {
   "cell_type": "code",
   "execution_count": 11,
   "id": "lightweight-encounter",
   "metadata": {},
   "outputs": [
    {
     "name": "stderr",
     "output_type": "stream",
     "text": [
      "/home/olga/miniconda3/envs/immune-evolution/lib/python3.7/site-packages/anndata/_core/anndata.py:1094: FutureWarning: is_categorical is deprecated and will be removed in a future version.  Use is_categorical_dtype instead\n",
      "  if not is_categorical(df_full[k]):\n"
     ]
    },
    {
     "data": {
      "text/plain": [
       "View of AnnData object with n_obs × n_vars = 89795 × 10560\n",
       "    obs: 'index', 'age', 'cell_barcode', 'cell_ontology_class', 'cell_ontology_id', 'channel', 'free_annotation', 'individual', 'sample', 'sequencing_run', 'sex', 'species', 'species_batch', 'species_latin', 'tissue', 'narrow_group', 'broad_group', 'compartment_group', 'compartment_narrow', 'channel_cleaned', 'batch', 'n_genes', 'n_counts', 'species_batch_v2', 'compartment_broad', 'compartment_broad_narrow', 'compartment_species', 'compartment_narrow_species', 'common_individual_id'\n",
       "    var: 'bat__gene_name', 'mouse_lemur__gene_name-bat', 'mouse__gene_name-bat', 'mouse_lemur__gene_name_x-hlm', 'mouse__gene_name_x-hlm', 'gene_ids-lemur-hlm', 'n_cells-mouse-hlm', 'mouse_lemur__gene_name_y-hlm', 'mouse__gene_name_y-hlm'"
      ]
     },
     "execution_count": 11,
     "metadata": {},
     "output_type": "execute_result"
    }
   ],
   "source": [
    "adata_shared = adata[adata.obs.broad_group.isin(SHARED_CELLTYPES)]\n",
    "adata_shared"
   ]
  },
  {
   "cell_type": "code",
   "execution_count": 12,
   "id": "static-eclipse",
   "metadata": {},
   "outputs": [
    {
     "data": {
      "text/plain": [
       "89795"
      ]
     },
     "execution_count": 12,
     "metadata": {},
     "output_type": "execute_result"
    }
   ],
   "source": [
    "CELL_IDS_TO_USE = set(adata_shared.obs.index)\n",
    "len(CELL_IDS_TO_USE)"
   ]
  },
  {
   "cell_type": "code",
   "execution_count": 13,
   "id": "noble-glenn",
   "metadata": {},
   "outputs": [],
   "source": [
    "# adata_shared.obs.query('species == \"Mouse\"').groupby(\n",
    "#     [\"channel\", \"broad_group\"], observed=True\n",
    "# ).size()"
   ]
  },
  {
   "cell_type": "code",
   "execution_count": 14,
   "id": "living-opinion",
   "metadata": {},
   "outputs": [
    {
     "data": {
      "text/plain": [
       "age  channel           \n",
       "18m  MACA_18m_F_LUNG_50     9\n",
       "     MACA_18m_F_LUNG_51    10\n",
       "     MACA_18m_M_LUNG_52    10\n",
       "     MACA_18m_M_LUNG_53    10\n",
       "21m  MACA_21m_F_LUNG_54    10\n",
       "     MACA_21m_F_LUNG_55    10\n",
       "30m  10X_P1_6               8\n",
       "     10X_P1_14              9\n",
       "     10X_P2_5               9\n",
       "     10X_P3_0               9\n",
       "1m   10X_P5_13             10\n",
       "     10X_P5_14              9\n",
       "3m   10X_P7_8              10\n",
       "     10X_P7_9              10\n",
       "     10X_P8_12              8\n",
       "     10X_P8_13              8\n",
       "Name: broad_group, dtype: int64"
      ]
     },
     "execution_count": 14,
     "metadata": {},
     "output_type": "execute_result"
    }
   ],
   "source": [
    "adata_shared.obs.query('species == \"Mouse\"').groupby(\n",
    "    ['age', \"channel\"],\n",
    "    observed=True,\n",
    ").broad_group.nunique()"
   ]
  },
  {
   "cell_type": "markdown",
   "id": "angry-aircraft",
   "metadata": {},
   "source": [
    "## Set signature outdir"
   ]
  },
  {
   "cell_type": "code",
   "execution_count": 15,
   "id": "annoying-reduction",
   "metadata": {},
   "outputs": [],
   "source": [
    "sig_outdir_base = '/mnt/ibm_sm/olga/immune-evolution/kmer-signatures'"
   ]
  },
  {
   "cell_type": "code",
   "execution_count": 16,
   "id": "suspected-storm",
   "metadata": {},
   "outputs": [
    {
     "name": "stdout",
     "output_type": "stream",
     "text": [
      "total 11K\n",
      "drwxr-xr-x 7 olga czb 4.0K Mar  5 12:02 \u001b[0m\u001b[01;34m.\u001b[0m/\n",
      "drwxrwxr-x 8 olga czb 8.0K Mar 16 10:36 \u001b[01;34m..\u001b[0m/\n",
      "drwxr-xr-x 4 olga czb 4.0K Feb 28 09:53 \u001b[01;34m0--mouse2mouse\u001b[0m/\n",
      "drwxr-xr-x 8 olga czb 4.0K Mar 18 16:12 \u001b[01;34m1--train-mouse\u001b[0m/\n",
      "drwxr-xr-x 8 olga czb 4.0K Mar  3 14:50 \u001b[01;34m2--test-human\u001b[0m/\n",
      "drwxr-xr-x 9 olga czb 4.0K Mar  5 17:42 \u001b[01;34m3--test-bat\u001b[0m/\n",
      "drwxr-xr-x 8 olga czb 4.0K Mar  5 12:06 \u001b[01;34m4--test-lemur\u001b[0m/\n"
     ]
    }
   ],
   "source": [
    "ls -lha $sig_outdir_base"
   ]
  },
  {
   "cell_type": "code",
   "execution_count": 17,
   "id": "vocal-basic",
   "metadata": {},
   "outputs": [],
   "source": [
    "rm -rf $sig_outdir_base/mouse/single-cell"
   ]
  },
  {
   "cell_type": "markdown",
   "id": "charming-worse",
   "metadata": {},
   "source": [
    "## sketch ids of interest"
   ]
  },
  {
   "cell_type": "code",
   "execution_count": 18,
   "id": "gentle-courtesy",
   "metadata": {},
   "outputs": [
    {
     "data": {
      "text/plain": [
       "['alphabet-DNA__ksize-21__scaled-10',\n",
       " 'alphabet-protein__ksize-30__scaled-10',\n",
       " 'alphabet-dayhoff__ksize-51__scaled-10']"
      ]
     },
     "execution_count": 18,
     "metadata": {},
     "output_type": "execute_result"
    }
   ],
   "source": [
    "alpha_ksizes = ((\"DNA\", 21), (\"protein\", 30), (\"dayhoff\", 51))\n",
    "sketch_ids = [sig_utils.make_sketch_id(alpha=alpha, ksize=ksize, style='scaled', value=10) for alpha, ksize in alpha_ksizes]\n",
    "sketch_ids"
   ]
  },
  {
   "cell_type": "code",
   "execution_count": 19,
   "id": "extreme-stack",
   "metadata": {},
   "outputs": [
    {
     "data": {
      "text/plain": [
       "['alphabet-DNA__ksize-21__scaled-10']"
      ]
     },
     "execution_count": 19,
     "metadata": {},
     "output_type": "execute_result"
    }
   ],
   "source": [
    "nucleotide_sketch_ids = sketch_ids[:1]\n",
    "nucleotide_sketch_ids"
   ]
  },
  {
   "cell_type": "code",
   "execution_count": 20,
   "id": "suffering-violence",
   "metadata": {},
   "outputs": [
    {
     "data": {
      "text/plain": [
       "['alphabet-protein__ksize-30__scaled-10',\n",
       " 'alphabet-dayhoff__ksize-51__scaled-10']"
      ]
     },
     "execution_count": 20,
     "metadata": {},
     "output_type": "execute_result"
    }
   ],
   "source": [
    "peptide_sketch_ids = sketch_ids[1:]\n",
    "peptide_sketch_ids"
   ]
  },
  {
   "cell_type": "code",
   "execution_count": 21,
   "id": "emerging-nudist",
   "metadata": {},
   "outputs": [],
   "source": [
    "import sig_reorg"
   ]
  },
  {
   "cell_type": "markdown",
   "id": "brown-forty",
   "metadata": {},
   "source": [
    "## Set output folder names"
   ]
  },
  {
   "cell_type": "code",
   "execution_count": 22,
   "id": "fleet-anger",
   "metadata": {},
   "outputs": [],
   "source": [
    "train_dir = \"/home/olga/data_sm/immune-evolution/kmer-signatures/1--train-mouse\"\n",
    "\n",
    "# --- Training data directories --- #\n",
    "train_0_fastas = os.path.join(train_dir, \"0--protein-coding-fastas\")\n",
    "train_1_single_cells = os.path.join(\n",
    "    train_dir, \"1--single-cell-sigs\"\n",
    ")\n",
    "train_2_merged_celltype = os.path.join(\n",
    "    train_dir, \"2--merged-celltype-sigs\"\n",
    ")\n",
    "train_3_merged_celltype_remove_common = os.path.join(\n",
    "    train_dir, \"3--merged-celltype-remove-common-kmers\"\n",
    ")\n",
    "train_4_celltype_sbts = os.path.join(\n",
    "    train_dir, \"4--celltype-sbt-dbts\"\n",
    ")\n",
    "\n",
    "dirs = (\n",
    "    train_dir,\n",
    "    train_0_fastas,\n",
    "    train_1_single_cells,\n",
    "    train_2_merged_celltype,\n",
    "    train_3_merged_celltype_remove_common,\n",
    "    train_4_celltype_sbts,\n",
    ")\n",
    "for outdir in dirs:\n",
    "    if not os.path.exists(outdir):\n",
    "        os.makedirs(outdir)"
   ]
  },
  {
   "cell_type": "markdown",
   "id": "apparent-video",
   "metadata": {},
   "source": [
    "# Mouse"
   ]
  },
  {
   "cell_type": "markdown",
   "id": "amazing-improvement",
   "metadata": {},
   "source": [
    "## Single cell fastas"
   ]
  },
  {
   "cell_type": "code",
   "execution_count": 47,
   "id": "permanent-greeting",
   "metadata": {},
   "outputs": [
    {
     "name": "stdout",
     "output_type": "stream",
     "text": [
      "total 11K\n",
      "drwxr-xr-x  6 olga czb 4.0K Feb 28 09:33 .\n",
      "drwxrwxr-x 81 olga czb 8.0K Feb 28 09:02 ..\n",
      "drwxr-xr-x  3 olga czb 4.0K Feb 28 09:33 0--mouse2mouse\n",
      "drwxr-xr-x  3 olga czb 4.0K Feb 28 09:29 1--train-mouse\n",
      "drwxr-xr-x  2 olga czb 4.0K Feb 28 09:17 mouse\n",
      "drwxr-xr-x  3 olga czb 4.0K Feb 27 09:59 mouse2mouse\n"
     ]
    }
   ],
   "source": [
    "! ls -lha $sig_outdir_base"
   ]
  },
  {
   "cell_type": "code",
   "execution_count": 23,
   "id": "administrative-relations",
   "metadata": {},
   "outputs": [],
   "source": [
    "mouse_train_dir = os.path.join(sig_outdir_base, \"1--train-mouse\")\n",
    "\n",
    "mouse_kmermaid_base = '/home/olga/data_sm/immune-evolution/pipeline-results/mouse/kmermaid/lung--mouse--remove-ribo/'\n",
    "\n",
    "bat_kmermaid_base = '/home/olga/data_sm/immune-evolution/pipeline-results/bat/kmermaid/ksize_8'\n",
    "\n",
    "mouse_train_0_fastas = os.path.join(mouse_train_dir, \"0--protein-coding-fastas\")\n",
    "mouse_fasta_input_dir = os.path.join(mouse_kmermaid_base, \"translate\")\n"
   ]
  },
  {
   "cell_type": "markdown",
   "id": "raised-sociology",
   "metadata": {},
   "source": [
    "## Single cell signatures"
   ]
  },
  {
   "cell_type": "code",
   "execution_count": 24,
   "id": "immediate-denmark",
   "metadata": {},
   "outputs": [],
   "source": [
    "mouse_peptide_sketch_dir = os.path.join(\n",
    "    bat_kmermaid_base,\n",
    "    \"sketches_peptide_handmade_mouse_merged_remove_ribosomal_dissociation_all_mouse_cells\",\n",
    ")\n",
    "mouse_nucleotide_sketch_dir = os.path.join(mouse_kmermaid_base, 'sketches_nucleotide_handmade_per_mouse_remove_ribosomal')"
   ]
  },
  {
   "cell_type": "markdown",
   "id": "understanding-webster",
   "metadata": {},
   "source": [
    "## Sourmash sig describe"
   ]
  },
  {
   "cell_type": "code",
   "execution_count": 30,
   "id": "elegant-middle",
   "metadata": {},
   "outputs": [
    {
     "name": "stdout",
     "output_type": "stream",
     "text": [
      "\u001b[K\n",
      "== This is sourmash version 4.0.0. ==\n",
      "\u001b[K== Please cite Brown and Irber (2016), doi:10.21105/joss.00027. ==\n",
      "\n",
      "---<<<rs/alphabet-dayhoff__ksize-51__scaled-10/alveolar_epithelial_type_2.sig.sig'\n",
      "signature filename: /home/olga/data_sm/immune-evolution/kmer-signatures/1--train-mouse/3--merged-celltype-remove-common-kmers/alphabet-dayhoff__ksize-51__scaled-10/alveolar_epithelial_type_2.sig.sig\n",
      "signature: Alveolar Epithelial Type 2\n",
      "source file: ** no name **\n",
      "md5: 029549a156b208f1d5f872b03345ebea\n",
      "k=17 molecule=dayhoff num=0 scaled=10 seed=42 track_abundance=1\n",
      "size: 73584\n",
      "signature license: CC0\n",
      "\n",
      "\u001b[K<<<rs/alphabet-dayhoff__ksize-51__scaled-10/alveolar_epithelial_type_2.sig.sig'\n",
      "---<<<pe-remove-common-kmers/alphabet-dayhoff__ksize-51__scaled-10/b_cell.sig.sig'\n",
      "signature filename: /home/olga/data_sm/immune-evolution/kmer-signatures/1--train-mouse/3--merged-celltype-remove-common-kmers/alphabet-dayhoff__ksize-51__scaled-10/b_cell.sig.sig\n",
      "signature: B cell\n",
      "source file: ** no name **\n",
      "md5: a454986c0b5f04c5b2545ec0edc6dcbf\n",
      "k=17 molecule=dayhoff num=0 scaled=10 seed=42 track_abundance=1\n",
      "size: 897727\n",
      "signature license: CC0\n",
      "\n",
      "\u001b[K<<<pe-remove-common-kmers/alphabet-dayhoff__ksize-51__scaled-10/b_cell.sig.sig'\n",
      "---<<<remove-common-kmers/alphabet-dayhoff__ksize-51__scaled-10/capillary.sig.sig'\n",
      "signature filename: /home/olga/data_sm/immune-evolution/kmer-signatures/1--train-mouse/3--merged-celltype-remove-common-kmers/alphabet-dayhoff__ksize-51__scaled-10/capillary.sig.sig\n",
      "signature: Capillary\n",
      "source file: ** no name **\n",
      "md5: 86fb2933635379e6e0939bbc8f229693\n",
      "k=17 molecule=dayhoff num=0 scaled=10 seed=42 track_abundance=1\n",
      "size: 1066948\n",
      "signature license: CC0\n",
      "\n",
      "\u001b[K<<<remove-common-kmers/alphabet-dayhoff__ksize-51__scaled-10/capillary.sig.sig'\n",
      "---<<<remove-common-kmers/alphabet-dayhoff__ksize-51__scaled-10/dendritic.sig.sig'\n",
      "signature filename: /home/olga/data_sm/immune-evolution/kmer-signatures/1--train-mouse/3--merged-celltype-remove-common-kmers/alphabet-dayhoff__ksize-51__scaled-10/dendritic.sig.sig\n",
      "signature: Dendritic\n",
      "source file: ** no name **\n",
      "md5: 1d8c93a9f643c521717d9181143ad85e\n",
      "k=17 molecule=dayhoff num=0 scaled=10 seed=42 track_abundance=1\n",
      "size: 295882\n",
      "signature license: CC0\n",
      "\n",
      "\u001b[K<<<remove-common-kmers/alphabet-dayhoff__ksize-51__scaled-10/dendritic.sig.sig'\n",
      "---<<<emove-common-kmers/alphabet-dayhoff__ksize-51__scaled-10/fibroblast.sig.sig'\n",
      "signature filename: /home/olga/data_sm/immune-evolution/kmer-signatures/1--train-mouse/3--merged-celltype-remove-common-kmers/alphabet-dayhoff__ksize-51__scaled-10/fibroblast.sig.sig\n",
      "signature: Fibroblast\n",
      "source file: ** no name **\n",
      "md5: 15adfc8520d4c2ee5160f49da634ff91\n",
      "k=17 molecule=dayhoff num=0 scaled=10 seed=42 track_abundance=1\n",
      "size: 375364\n",
      "signature license: CC0\n",
      "\n",
      "\u001b[K<<<emove-common-kmers/alphabet-dayhoff__ksize-51__scaled-10/fibroblast.sig.sig'\n",
      "---<<<emove-common-kmers/alphabet-dayhoff__ksize-51__scaled-10/macrophage.sig.sig'\n",
      "signature filename: /home/olga/data_sm/immune-evolution/kmer-signatures/1--train-mouse/3--merged-celltype-remove-common-kmers/alphabet-dayhoff__ksize-51__scaled-10/macrophage.sig.sig\n",
      "signature: Macrophage\n",
      "source file: ** no name **\n",
      "md5: 52df42aedc2fbfe0084e907f6d744d0a\n",
      "k=17 molecule=dayhoff num=0 scaled=10 seed=42 track_abundance=1\n",
      "size: 275055\n",
      "signature license: CC0\n",
      "\n",
      "\u001b[K<<<emove-common-kmers/alphabet-dayhoff__ksize-51__scaled-10/macrophage.sig.sig'\n",
      "---<<<-remove-common-kmers/alphabet-dayhoff__ksize-51__scaled-10/monocyte.sig.sig'\n",
      "signature filename: /home/olga/data_sm/immune-evolution/kmer-signatures/1--train-mouse/3--merged-celltype-remove-common-kmers/alphabet-dayhoff__ksize-51__scaled-10/monocyte.sig.sig\n",
      "signature: Monocyte\n",
      "source file: ** no name **\n",
      "md5: 28f39e7e998714f06baeedb4de012980\n",
      "k=17 molecule=dayhoff num=0 scaled=10 seed=42 track_abundance=1\n",
      "size: 1952604\n",
      "signature license: CC0\n",
      "\n",
      "\u001b[K<<<-remove-common-kmers/alphabet-dayhoff__ksize-51__scaled-10/monocyte.sig.sig'\n",
      "---<<<n-kmers/alphabet-dayhoff__ksize-51__scaled-10/natural_killer_t_cell.sig.sig'\n",
      "signature filename: /home/olga/data_sm/immune-evolution/kmer-signatures/1--train-mouse/3--merged-celltype-remove-common-kmers/alphabet-dayhoff__ksize-51__scaled-10/natural_killer_t_cell.sig.sig\n",
      "signature: Natural Killer T cell\n",
      "source file: ** no name **\n",
      "md5: 62f0c79b80633fda6c17bc7c7c1b7a91\n",
      "k=17 molecule=dayhoff num=0 scaled=10 seed=42 track_abundance=1\n",
      "size: 181017\n",
      "signature license: CC0\n",
      "\n",
      "\u001b[K<<<n-kmers/alphabet-dayhoff__ksize-51__scaled-10/natural_killer_t_cell.sig.sig'\n",
      "---<<<phabet-dayhoff__ksize-51__scaled-10/smooth_muscle_and_myofibroblast.sig.sig'\n",
      "signature filename: /home/olga/data_sm/immune-evolution/kmer-signatures/1--train-mouse/3--merged-celltype-remove-common-kmers/alphabet-dayhoff__ksize-51__scaled-10/smooth_muscle_and_myofibroblast.sig.sig\n",
      "signature: Smooth Muscle and Myofibroblast\n",
      "source file: ** no name **\n",
      "md5: 1f0b84278283807e6f175b79efa83e49\n",
      "k=17 molecule=dayhoff num=0 scaled=10 seed=42 track_abundance=1\n",
      "size: 33600\n",
      "signature license: CC0\n",
      "\n",
      "\u001b[K<<<phabet-dayhoff__ksize-51__scaled-10/smooth_muscle_and_myofibroblast.sig.sig'\n",
      "---<<<-kmers/alphabet-dayhoff__ksize-51__scaled-10/t_cell.sig.sig' / 10 sigs total\n",
      "signature filename: /home/olga/data_sm/immune-evolution/kmer-signatures/1--train-mouse/3--merged-celltype-remove-common-kmers/alphabet-dayhoff__ksize-51__scaled-10/t_cell.sig.sig\n",
      "signature: T cell\n",
      "source file: ** no name **\n",
      "md5: dcf3c2b2932b986be9c5b47e351d5470\n",
      "k=17 molecule=dayhoff num=0 scaled=10 seed=42 track_abundance=1\n",
      "size: 831653\n",
      "signature license: CC0\n",
      "\n",
      "\u001b[K<<<pe-remove-common-kmers/alphabet-dayhoff__ksize-51__scaled-10/t_cell.sig.sig'\n",
      "---<<<-kmers/alphabet-DNA__ksize-21__scaled-10/alveolar_epithelial_type_2.sig.sig'\n",
      "signature filename: /home/olga/data_sm/immune-evolution/kmer-signatures/1--train-mouse/3--merged-celltype-remove-common-kmers/alphabet-DNA__ksize-21__scaled-10/alveolar_epithelial_type_2.sig.sig\n",
      "signature: Alveolar Epithelial Type 2\n",
      "source file: ** no name **\n",
      "md5: c6c60fe0f33187f439c8d5c0544a7b00\n",
      "k=21 molecule=DNA num=0 scaled=10 seed=42 track_abundance=1\n",
      "size: 217654\n",
      "signature license: CC0\n",
      "\n",
      "\u001b[K<<<-kmers/alphabet-DNA__ksize-21__scaled-10/alveolar_epithelial_type_2.sig.sig'\n",
      "---<<<lltype-remove-common-kmers/alphabet-DNA__ksize-21__scaled-10/b_cell.sig.sig'\n",
      "signature filename: /home/olga/data_sm/immune-evolution/kmer-signatures/1--train-mouse/3--merged-celltype-remove-common-kmers/alphabet-DNA__ksize-21__scaled-10/b_cell.sig.sig\n",
      "signature: B cell\n",
      "source file: ** no name **\n",
      "md5: 4827f620de91a950fff637f5b91292a2\n",
      "k=21 molecule=DNA num=0 scaled=10 seed=42 track_abundance=1\n",
      "size: 2720624\n",
      "signature license: CC0\n",
      "\n",
      "\u001b[K<<<lltype-remove-common-kmers/alphabet-DNA__ksize-21__scaled-10/b_cell.sig.sig'\n",
      "---<<<ype-remove-common-kmers/alphabet-DNA__ksize-21__scaled-10/capillary.sig.sig'\n",
      "signature filename: /home/olga/data_sm/immune-evolution/kmer-signatures/1--train-mouse/3--merged-celltype-remove-common-kmers/alphabet-DNA__ksize-21__scaled-10/capillary.sig.sig\n",
      "signature: Capillary\n",
      "source file: ** no name **\n",
      "md5: 66c319126c4e798d3b5289303b14db23\n",
      "k=21 molecule=DNA num=0 scaled=10 seed=42 track_abundance=1\n",
      "size: 3336842\n",
      "signature license: CC0\n",
      "\n",
      "\u001b[K<<<ype-remove-common-kmers/alphabet-DNA__ksize-21__scaled-10/capillary.sig.sig'\n",
      "---<<<ype-remove-common-kmers/alphabet-DNA__ksize-21__scaled-10/dendritic.sig.sig'\n",
      "signature filename: /home/olga/data_sm/immune-evolution/kmer-signatures/1--train-mouse/3--merged-celltype-remove-common-kmers/alphabet-DNA__ksize-21__scaled-10/dendritic.sig.sig\n",
      "signature: Dendritic\n",
      "source file: ** no name **\n",
      "md5: 4ffb4aa1fba40aea23b51695d45366b9\n",
      "k=21 molecule=DNA num=0 scaled=10 seed=42 track_abundance=1\n",
      "size: 890974\n",
      "signature license: CC0\n",
      "\n",
      "\u001b[K<<<ype-remove-common-kmers/alphabet-DNA__ksize-21__scaled-10/dendritic.sig.sig'\n",
      "---<<<pe-remove-common-kmers/alphabet-DNA__ksize-21__scaled-10/fibroblast.sig.sig'\n",
      "signature filename: /home/olga/data_sm/immune-evolution/kmer-signatures/1--train-mouse/3--merged-celltype-remove-common-kmers/alphabet-DNA__ksize-21__scaled-10/fibroblast.sig.sig\n",
      "signature: Fibroblast\n",
      "source file: ** no name **\n",
      "md5: 3b2c10bdc5aaf1aaa1560abca1988239\n",
      "k=21 molecule=DNA num=0 scaled=10 seed=42 track_abundance=1\n",
      "size: 1158155\n",
      "signature license: CC0\n",
      "\n",
      "\u001b[K<<<pe-remove-common-kmers/alphabet-DNA__ksize-21__scaled-10/fibroblast.sig.sig'\n",
      "---<<<pe-remove-common-kmers/alphabet-DNA__ksize-21__scaled-10/macrophage.sig.sig'\n",
      "signature filename: /home/olga/data_sm/immune-evolution/kmer-signatures/1--train-mouse/3--merged-celltype-remove-common-kmers/alphabet-DNA__ksize-21__scaled-10/macrophage.sig.sig\n",
      "signature: Macrophage\n",
      "source file: ** no name **\n",
      "md5: a2855a2d18d1db506ce81b293d1e7b62\n",
      "k=21 molecule=DNA num=0 scaled=10 seed=42 track_abundance=1\n",
      "size: 753561\n",
      "signature license: CC0\n",
      "\n",
      "\u001b[K<<<pe-remove-common-kmers/alphabet-DNA__ksize-21__scaled-10/macrophage.sig.sig'\n",
      "---<<<type-remove-common-kmers/alphabet-DNA__ksize-21__scaled-10/monocyte.sig.sig'\n",
      "signature filename: /home/olga/data_sm/immune-evolution/kmer-signatures/1--train-mouse/3--merged-celltype-remove-common-kmers/alphabet-DNA__ksize-21__scaled-10/monocyte.sig.sig\n",
      "signature: Monocyte\n",
      "source file: ** no name **\n",
      "md5: 5e2ad65189770b35d2992f97afd869eb\n",
      "k=21 molecule=DNA num=0 scaled=10 seed=42 track_abundance=1\n",
      "size: 5797228\n",
      "signature license: CC0\n",
      "\n",
      "\u001b[K<<<type-remove-common-kmers/alphabet-DNA__ksize-21__scaled-10/monocyte.sig.sig'\n",
      "---<<<ommon-kmers/alphabet-DNA__ksize-21__scaled-10/natural_killer_t_cell.sig.sig'\n",
      "signature filename: /home/olga/data_sm/immune-evolution/kmer-signatures/1--train-mouse/3--merged-celltype-remove-common-kmers/alphabet-DNA__ksize-21__scaled-10/natural_killer_t_cell.sig.sig\n",
      "signature: Natural Killer T cell\n",
      "source file: ** no name **\n",
      "md5: 6ad11f58614b60f6b474c007ef34c0ba\n",
      "k=21 molecule=DNA num=0 scaled=10 seed=42 track_abundance=1\n",
      "size: 537654\n",
      "signature license: CC0\n",
      "\n",
      "\u001b[K<<<ommon-kmers/alphabet-DNA__ksize-21__scaled-10/natural_killer_t_cell.sig.sig'\n",
      "---<<<s/alphabet-DNA__ksize-21__scaled-10/smooth_muscle_and_myofibroblast.sig.sig'\n",
      "signature filename: /home/olga/data_sm/immune-evolution/kmer-signatures/1--train-mouse/3--merged-celltype-remove-common-kmers/alphabet-DNA__ksize-21__scaled-10/smooth_muscle_and_myofibroblast.sig.sig\n",
      "signature: Smooth Muscle and Myofibroblast\n",
      "source file: ** no name **\n",
      "md5: 41ce3204f0323dbf40c17cdbc37cb5f3\n",
      "k=21 molecule=DNA num=0 scaled=10 seed=42 track_abundance=1\n",
      "size: 101571\n",
      "signature license: CC0\n",
      "\n",
      "\u001b[K<<<s/alphabet-DNA__ksize-21__scaled-10/smooth_muscle_and_myofibroblast.sig.sig'\n",
      "---<<<mmon-kmers/alphabet-DNA__ksize-21__scaled-10/t_cell.sig.sig' / 20 sigs total\n",
      "signature filename: /home/olga/data_sm/immune-evolution/kmer-signatures/1--train-mouse/3--merged-celltype-remove-common-kmers/alphabet-DNA__ksize-21__scaled-10/t_cell.sig.sig\n",
      "signature: T cell\n",
      "source file: ** no name **\n",
      "md5: 107c89e1f9e1a92c227c3bed2cef53a7\n",
      "k=21 molecule=DNA num=0 scaled=10 seed=42 track_abundance=1\n",
      "size: 2519592\n",
      "signature license: CC0\n",
      "\n",
      "\u001b[K<<<lltype-remove-common-kmers/alphabet-DNA__ksize-21__scaled-10/t_cell.sig.sig'\n",
      "---<<<rs/alphabet-protein__ksize-30__scaled-10/alveolar_epithelial_type_2.sig.sig'\n",
      "signature filename: /home/olga/data_sm/immune-evolution/kmer-signatures/1--train-mouse/3--merged-celltype-remove-common-kmers/alphabet-protein__ksize-30__scaled-10/alveolar_epithelial_type_2.sig.sig\n",
      "signature: Alveolar Epithelial Type 2\n",
      "source file: ** no name **\n",
      "md5: 92f96428169aa335c3beeb6d3a459a10\n",
      "k=10 molecule=protein num=0 scaled=10 seed=42 track_abundance=1\n",
      "size: 86188\n",
      "signature license: CC0\n",
      "\n",
      "\u001b[K<<<rs/alphabet-protein__ksize-30__scaled-10/alveolar_epithelial_type_2.sig.sig'\n",
      "---<<<pe-remove-common-kmers/alphabet-protein__ksize-30__scaled-10/b_cell.sig.sig'\n",
      "signature filename: /home/olga/data_sm/immune-evolution/kmer-signatures/1--train-mouse/3--merged-celltype-remove-common-kmers/alphabet-protein__ksize-30__scaled-10/b_cell.sig.sig\n",
      "signature: B cell\n",
      "source file: ** no name **\n",
      "md5: b8fecb3c8633937e818174db1485cd7b\n",
      "k=10 molecule=protein num=0 scaled=10 seed=42 track_abundance=1\n",
      "size: 1088497\n",
      "signature license: CC0\n",
      "\n",
      "\u001b[K<<<pe-remove-common-kmers/alphabet-protein__ksize-30__scaled-10/b_cell.sig.sig'\n",
      "---<<<remove-common-kmers/alphabet-protein__ksize-30__scaled-10/capillary.sig.sig'\n",
      "signature filename: /home/olga/data_sm/immune-evolution/kmer-signatures/1--train-mouse/3--merged-celltype-remove-common-kmers/alphabet-protein__ksize-30__scaled-10/capillary.sig.sig\n",
      "signature: Capillary\n",
      "source file: ** no name **\n",
      "md5: c34d8810dc1e053f5116818e2a17f16e\n",
      "k=10 molecule=protein num=0 scaled=10 seed=42 track_abundance=1\n",
      "size: 1319198\n",
      "signature license: CC0\n",
      "\n",
      "\u001b[K<<<remove-common-kmers/alphabet-protein__ksize-30__scaled-10/capillary.sig.sig'\n",
      "---<<<remove-common-kmers/alphabet-protein__ksize-30__scaled-10/dendritic.sig.sig'\n",
      "signature filename: /home/olga/data_sm/immune-evolution/kmer-signatures/1--train-mouse/3--merged-celltype-remove-common-kmers/alphabet-protein__ksize-30__scaled-10/dendritic.sig.sig\n",
      "signature: Dendritic\n",
      "source file: ** no name **\n",
      "md5: e2024f818674a6863baa09cf1ceddea0\n",
      "k=10 molecule=protein num=0 scaled=10 seed=42 track_abundance=1\n",
      "size: 356513\n",
      "signature license: CC0\n",
      "\n",
      "\u001b[K<<<remove-common-kmers/alphabet-protein__ksize-30__scaled-10/dendritic.sig.sig'\n",
      "---<<<emove-common-kmers/alphabet-protein__ksize-30__scaled-10/fibroblast.sig.sig'\n",
      "signature filename: /home/olga/data_sm/immune-evolution/kmer-signatures/1--train-mouse/3--merged-celltype-remove-common-kmers/alphabet-protein__ksize-30__scaled-10/fibroblast.sig.sig\n",
      "signature: Fibroblast\n",
      "source file: ** no name **\n",
      "md5: 6d6562defcf859bf59e31229a2143746\n",
      "k=10 molecule=protein num=0 scaled=10 seed=42 track_abundance=1\n",
      "size: 461664\n",
      "signature license: CC0\n",
      "\n",
      "\u001b[K<<<emove-common-kmers/alphabet-protein__ksize-30__scaled-10/fibroblast.sig.sig'\n",
      "---<<<emove-common-kmers/alphabet-protein__ksize-30__scaled-10/macrophage.sig.sig'\n",
      "signature filename: /home/olga/data_sm/immune-evolution/kmer-signatures/1--train-mouse/3--merged-celltype-remove-common-kmers/alphabet-protein__ksize-30__scaled-10/macrophage.sig.sig\n",
      "signature: Macrophage\n",
      "source file: ** no name **\n",
      "md5: 678736c91c14bd7e4aeadc87faac8361\n",
      "k=10 molecule=protein num=0 scaled=10 seed=42 track_abundance=1\n",
      "size: 312922\n",
      "signature license: CC0\n",
      "\n",
      "\u001b[K<<<emove-common-kmers/alphabet-protein__ksize-30__scaled-10/macrophage.sig.sig'\n",
      "---<<<-remove-common-kmers/alphabet-protein__ksize-30__scaled-10/monocyte.sig.sig'\n",
      "signature filename: /home/olga/data_sm/immune-evolution/kmer-signatures/1--train-mouse/3--merged-celltype-remove-common-kmers/alphabet-protein__ksize-30__scaled-10/monocyte.sig.sig\n",
      "signature: Monocyte\n",
      "source file: ** no name **\n",
      "md5: 70e2c50fe807791d163e533df489d29c\n",
      "k=10 molecule=protein num=0 scaled=10 seed=42 track_abundance=1\n",
      "size: 2321637\n",
      "signature license: CC0\n",
      "\n",
      "\u001b[K<<<-remove-common-kmers/alphabet-protein__ksize-30__scaled-10/monocyte.sig.sig'\n",
      "---<<<n-kmers/alphabet-protein__ksize-30__scaled-10/natural_killer_t_cell.sig.sig'\n",
      "signature filename: /home/olga/data_sm/immune-evolution/kmer-signatures/1--train-mouse/3--merged-celltype-remove-common-kmers/alphabet-protein__ksize-30__scaled-10/natural_killer_t_cell.sig.sig\n",
      "signature: Natural Killer T cell\n",
      "source file: ** no name **\n",
      "md5: 748ab6633c948241d25af1fe17a10747\n",
      "k=10 molecule=protein num=0 scaled=10 seed=42 track_abundance=1\n",
      "size: 218036\n",
      "signature license: CC0\n",
      "\n",
      "\u001b[K<<<n-kmers/alphabet-protein__ksize-30__scaled-10/natural_killer_t_cell.sig.sig'\n",
      "---<<<phabet-protein__ksize-30__scaled-10/smooth_muscle_and_myofibroblast.sig.sig'\n",
      "signature filename: /home/olga/data_sm/immune-evolution/kmer-signatures/1--train-mouse/3--merged-celltype-remove-common-kmers/alphabet-protein__ksize-30__scaled-10/smooth_muscle_and_myofibroblast.sig.sig\n",
      "signature: Smooth Muscle and Myofibroblast\n",
      "source file: ** no name **\n",
      "md5: 77b69b7bb4ac8b7c5c09cf7f2f3116fa\n",
      "k=10 molecule=protein num=0 scaled=10 seed=42 track_abundance=1\n",
      "size: 40428\n",
      "signature license: CC0\n",
      "\n",
      "\u001b[K<<<phabet-protein__ksize-30__scaled-10/smooth_muscle_and_myofibroblast.sig.sig'\n",
      "---<<<-kmers/alphabet-protein__ksize-30__scaled-10/t_cell.sig.sig' / 30 sigs total\n",
      "signature filename: /home/olga/data_sm/immune-evolution/kmer-signatures/1--train-mouse/3--merged-celltype-remove-common-kmers/alphabet-protein__ksize-30__scaled-10/t_cell.sig.sig\n",
      "signature: T cell\n",
      "source file: ** no name **\n",
      "md5: 6aa250faa64709eb5052472f5dfc5aee\n",
      "k=10 molecule=protein num=0 scaled=10 seed=42 track_abundance=1\n",
      "size: 995762\n",
      "signature license: CC0\n",
      "\n",
      "\u001b[K<<<pe-remove-common-kmers/alphabet-protein__ksize-30__scaled-10/t_cell.sig.sig'\n",
      "\u001b[Kloaded 30 signatures total.\n"
     ]
    }
   ],
   "source": [
    "! sourmash sig describe \\\n",
    "    --csv $train_3_merged_celltype_remove_common/sourmash_sig_describe.csv \\\n",
    "    $train_3_merged_celltype_remove_common/*/*.sig"
   ]
  },
  {
   "cell_type": "code",
   "execution_count": 31,
   "id": "voluntary-roberts",
   "metadata": {},
   "outputs": [
    {
     "data": {
      "text/plain": [
       "'/home/olga/data_sm/immune-evolution/kmer-signatures/1--train-mouse/3--merged-celltype-remove-common-kmers'"
      ]
     },
     "execution_count": 31,
     "metadata": {},
     "output_type": "execute_result"
    }
   ],
   "source": [
    "train_3_merged_celltype_remove_common"
   ]
  },
  {
   "cell_type": "code",
   "execution_count": 32,
   "id": "rural-violation",
   "metadata": {},
   "outputs": [
    {
     "name": "stdout",
     "output_type": "stream",
     "text": [
      "(30, 12)\n",
      "--- First 5 entries ---\n"
     ]
    },
    {
     "data": {
      "text/html": [
       "<div>\n",
       "<style scoped>\n",
       "    .dataframe tbody tr th:only-of-type {\n",
       "        vertical-align: middle;\n",
       "    }\n",
       "\n",
       "    .dataframe tbody tr th {\n",
       "        vertical-align: top;\n",
       "    }\n",
       "\n",
       "    .dataframe thead th {\n",
       "        text-align: right;\n",
       "    }\n",
       "</style>\n",
       "<table border=\"1\" class=\"dataframe\">\n",
       "  <thead>\n",
       "    <tr style=\"text-align: right;\">\n",
       "      <th></th>\n",
       "      <th>signature_file</th>\n",
       "      <th>md5</th>\n",
       "      <th>ksize</th>\n",
       "      <th>moltype</th>\n",
       "      <th>num</th>\n",
       "      <th>scaled</th>\n",
       "      <th>n_hashes</th>\n",
       "      <th>seed</th>\n",
       "      <th>with_abundance</th>\n",
       "      <th>name</th>\n",
       "      <th>filename</th>\n",
       "      <th>license</th>\n",
       "    </tr>\n",
       "  </thead>\n",
       "  <tbody>\n",
       "    <tr>\n",
       "      <th>0</th>\n",
       "      <td>/home/olga/data_sm/immune-evolution/kmer-signa...</td>\n",
       "      <td>029549a156b208f1d5f872b03345ebea</td>\n",
       "      <td>17</td>\n",
       "      <td>dayhoff</td>\n",
       "      <td>0</td>\n",
       "      <td>10</td>\n",
       "      <td>73584</td>\n",
       "      <td>42</td>\n",
       "      <td>1</td>\n",
       "      <td>Alveolar Epithelial Type 2</td>\n",
       "      <td>** no name **</td>\n",
       "      <td>CC0</td>\n",
       "    </tr>\n",
       "    <tr>\n",
       "      <th>1</th>\n",
       "      <td>/home/olga/data_sm/immune-evolution/kmer-signa...</td>\n",
       "      <td>a454986c0b5f04c5b2545ec0edc6dcbf</td>\n",
       "      <td>17</td>\n",
       "      <td>dayhoff</td>\n",
       "      <td>0</td>\n",
       "      <td>10</td>\n",
       "      <td>897727</td>\n",
       "      <td>42</td>\n",
       "      <td>1</td>\n",
       "      <td>B cell</td>\n",
       "      <td>** no name **</td>\n",
       "      <td>CC0</td>\n",
       "    </tr>\n",
       "    <tr>\n",
       "      <th>2</th>\n",
       "      <td>/home/olga/data_sm/immune-evolution/kmer-signa...</td>\n",
       "      <td>86fb2933635379e6e0939bbc8f229693</td>\n",
       "      <td>17</td>\n",
       "      <td>dayhoff</td>\n",
       "      <td>0</td>\n",
       "      <td>10</td>\n",
       "      <td>1066948</td>\n",
       "      <td>42</td>\n",
       "      <td>1</td>\n",
       "      <td>Capillary</td>\n",
       "      <td>** no name **</td>\n",
       "      <td>CC0</td>\n",
       "    </tr>\n",
       "    <tr>\n",
       "      <th>3</th>\n",
       "      <td>/home/olga/data_sm/immune-evolution/kmer-signa...</td>\n",
       "      <td>1d8c93a9f643c521717d9181143ad85e</td>\n",
       "      <td>17</td>\n",
       "      <td>dayhoff</td>\n",
       "      <td>0</td>\n",
       "      <td>10</td>\n",
       "      <td>295882</td>\n",
       "      <td>42</td>\n",
       "      <td>1</td>\n",
       "      <td>Dendritic</td>\n",
       "      <td>** no name **</td>\n",
       "      <td>CC0</td>\n",
       "    </tr>\n",
       "    <tr>\n",
       "      <th>4</th>\n",
       "      <td>/home/olga/data_sm/immune-evolution/kmer-signa...</td>\n",
       "      <td>15adfc8520d4c2ee5160f49da634ff91</td>\n",
       "      <td>17</td>\n",
       "      <td>dayhoff</td>\n",
       "      <td>0</td>\n",
       "      <td>10</td>\n",
       "      <td>375364</td>\n",
       "      <td>42</td>\n",
       "      <td>1</td>\n",
       "      <td>Fibroblast</td>\n",
       "      <td>** no name **</td>\n",
       "      <td>CC0</td>\n",
       "    </tr>\n",
       "  </tbody>\n",
       "</table>\n",
       "</div>"
      ],
      "text/plain": [
       "                                      signature_file  \\\n",
       "0  /home/olga/data_sm/immune-evolution/kmer-signa...   \n",
       "1  /home/olga/data_sm/immune-evolution/kmer-signa...   \n",
       "2  /home/olga/data_sm/immune-evolution/kmer-signa...   \n",
       "3  /home/olga/data_sm/immune-evolution/kmer-signa...   \n",
       "4  /home/olga/data_sm/immune-evolution/kmer-signa...   \n",
       "\n",
       "                                md5  ksize  moltype  num  scaled  n_hashes  \\\n",
       "0  029549a156b208f1d5f872b03345ebea     17  dayhoff    0      10     73584   \n",
       "1  a454986c0b5f04c5b2545ec0edc6dcbf     17  dayhoff    0      10    897727   \n",
       "2  86fb2933635379e6e0939bbc8f229693     17  dayhoff    0      10   1066948   \n",
       "3  1d8c93a9f643c521717d9181143ad85e     17  dayhoff    0      10    295882   \n",
       "4  15adfc8520d4c2ee5160f49da634ff91     17  dayhoff    0      10    375364   \n",
       "\n",
       "   seed  with_abundance                        name       filename license  \n",
       "0    42               1  Alveolar Epithelial Type 2  ** no name **     CC0  \n",
       "1    42               1                      B cell  ** no name **     CC0  \n",
       "2    42               1                   Capillary  ** no name **     CC0  \n",
       "3    42               1                   Dendritic  ** no name **     CC0  \n",
       "4    42               1                  Fibroblast  ** no name **     CC0  "
      ]
     },
     "metadata": {},
     "output_type": "display_data"
    }
   ],
   "source": [
    "sig_describe = pd.read_csv(\n",
    "    os.path.join(train_3_merged_celltype_remove_common, \"sourmash_sig_describe.csv\")\n",
    ")\n",
    "describe(sig_describe)"
   ]
  },
  {
   "cell_type": "markdown",
   "id": "royal-islam",
   "metadata": {},
   "source": [
    "### Plot number of hashes per cell type"
   ]
  },
  {
   "cell_type": "markdown",
   "id": "intended-amazon",
   "metadata": {},
   "source": [
    "#### Assign figure folder"
   ]
  },
  {
   "cell_type": "code",
   "execution_count": 33,
   "id": "broken-leave",
   "metadata": {},
   "outputs": [],
   "source": [
    "figure_folder = (\n",
    "    \"/home/olga/googledrive/ImmuneEvolution/figures/mouse_celltype_db\"\n",
    ")\n",
    "! mkdir -p $figure_folder"
   ]
  },
  {
   "cell_type": "code",
   "execution_count": 34,
   "id": "sitting-institute",
   "metadata": {},
   "outputs": [
    {
     "data": {
      "image/png": "[encoded data removed]",
      "text/plain": [
       "<Figure size 434x360 with 1 Axes>"
      ]
     },
     "metadata": {
      "needs_background": "light"
     },
     "output_type": "display_data"
    }
   ],
   "source": [
    "g = sns.catplot(\n",
    "    data=sig_describe,\n",
    "    hue=\"moltype\",\n",
    "    x=\"n_hashes\",\n",
    "    y=\"name\",\n",
    "    kind=\"bar\",\n",
    "    hue_order=[\"DNA\", \"protein\", \"dayhoff\"],\n",
    ")\n",
    "g.set(xlabel='Number\\nof $k$-mers')\n",
    "pdf = os.path.join(\n",
    "    figure_folder,\n",
    "    \"barplot__n_kmers__per_celltype__hue-alphabet.pdf\",\n",
    ")\n",
    "g.savefig(pdf)"
   ]
  },
  {
   "cell_type": "code",
   "execution_count": 123,
   "id": "minimal-premium",
   "metadata": {},
   "outputs": [
    {
     "name": "stderr",
     "output_type": "stream",
     "text": [
      "  0%|          | 0/30 [407:57:41<?, ?it/s]\n"
     ]
    },
    {
     "data": {
      "text/plain": [
       "<seaborn.axisgrid.FacetGrid at 0x7f0a40568790>"
      ]
     },
     "execution_count": 123,
     "metadata": {},
     "output_type": "execute_result"
    },
    {
     "data": {
      "image/png": "[encoded data removed]",
      "text/plain": [
       "<Figure size 434x360 with 1 Axes>"
      ]
     },
     "metadata": {
      "needs_background": "light"
     },
     "output_type": "display_data"
    }
   ],
   "source": [
    "g = sns.catplot(\n",
    "    data=sig_describe,\n",
    "    hue=\"moltype\",\n",
    "    x=\"n_hashes\",\n",
    "    y=\"name\",\n",
    "    kind=\"bar\",\n",
    "    hue_order=[\"DNA\", \"protein\", \"dayhoff\"],\n",
    ")\n",
    "g.set(xscale='log')"
   ]
  },
  {
   "cell_type": "code",
   "execution_count": 126,
   "id": "southern-fossil",
   "metadata": {},
   "outputs": [
    {
     "data": {
      "text/plain": [
       "name\n",
       "Alveolar Epithelial Type 2         0.395986\n",
       "B cell                             0.400091\n",
       "Capillary                          0.395343\n",
       "Dendritic                          0.400139\n",
       "Fibroblast                         0.398620\n",
       "Macrophage                         0.415258\n",
       "Monocyte                           0.400474\n",
       "Natural Killer T cell              0.405532\n",
       "Smooth Muscle and Myofibroblast    0.398027\n",
       "T cell                             0.395208\n",
       "Name: n_hashes, dtype: float64"
      ]
     },
     "execution_count": 126,
     "metadata": {},
     "output_type": "execute_result"
    }
   ],
   "source": [
    "sig_describe.set_index('moltype').groupby('name').n_hashes.apply(lambda x: x['protein']/x['DNA'])"
   ]
  },
  {
   "cell_type": "code",
   "execution_count": 127,
   "id": "amended-guarantee",
   "metadata": {},
   "outputs": [
    {
     "data": {
      "text/plain": [
       "name\n",
       "Alveolar Epithelial Type 2         0.853762\n",
       "B cell                             0.824740\n",
       "Capillary                          0.808785\n",
       "Dendritic                          0.829933\n",
       "Fibroblast                         0.813068\n",
       "Macrophage                         0.878989\n",
       "Monocyte                           0.841046\n",
       "Natural Killer T cell              0.830216\n",
       "Smooth Muscle and Myofibroblast    0.831107\n",
       "T cell                             0.835193\n",
       "Name: n_hashes, dtype: float64"
      ]
     },
     "execution_count": 127,
     "metadata": {},
     "output_type": "execute_result"
    }
   ],
   "source": [
    "sig_describe.set_index('moltype').groupby('name').n_hashes.apply(lambda x: x['dayhoff']/x['protein'])"
   ]
  },
  {
   "cell_type": "markdown",
   "id": "seven-guatemala",
   "metadata": {},
   "source": [
    "# Plot sourmash sig describe `n_hashes` vs number of cells per celltype"
   ]
  },
  {
   "cell_type": "markdown",
   "id": "subsequent-emission",
   "metadata": {},
   "source": [
    "## Read one2one 5had"
   ]
  },
  {
   "cell_type": "code",
   "execution_count": 7,
   "id": "accurate-logging",
   "metadata": {},
   "outputs": [
    {
     "name": "stdout",
     "output_type": "stream",
     "text": [
      "total 3.8G\n",
      "-rw-r--r-- 1 olga czb 974M Oct 15 09:28 basename\n",
      "-rw-r--r-- 1 olga czb 974M Oct 21 11:45 human-lemur-mouse-bat__lung_only.h5ad\n",
      "-rw-r--r-- 1 olga czb 883M Oct 21 11:52 human-lemur-mouse-bat__lung_only__preprocessed_bbknn.h5ad\n",
      "-rw-r--r-- 1 olga czb 972M Nov  5 07:54 human-lemur-mouse-bat__lung_only__with_qc_metrics.h5ad\n"
     ]
    }
   ],
   "source": [
    "ls -lh /home/olga/data_sm/immune-evolution/data-objects/human-lemur-mouse-bat/"
   ]
  },
  {
   "cell_type": "code",
   "execution_count": 20,
   "id": "still-timer",
   "metadata": {},
   "outputs": [
    {
     "name": "stdout",
     "output_type": "stream",
     "text": [
      "CPU times: user 549 ms, sys: 872 ms, total: 1.42 s\n",
      "Wall time: 9.56 s\n"
     ]
    },
    {
     "data": {
      "text/plain": [
       "AnnData object with n_obs × n_vars = 126745 × 10560\n",
       "    obs: 'age', 'cell_barcode', 'cell_ontology_class', 'cell_ontology_id', 'channel', 'free_annotation', 'individual', 'sample', 'sequencing_run', 'sex', 'species', 'species_batch', 'species_latin', 'tissue', 'narrow_group', 'broad_group', 'compartment_group', 'compartment_narrow', 'channel_cleaned', 'batch', 'n_genes', 'n_counts', 'species_batch_v2', 'compartment_broad', 'compartment_broad_narrow', 'compartment_species', 'compartment_narrow_species', 'common_individual_id'\n",
       "    var: 'bat__gene_name', 'mouse_lemur__gene_name-bat', 'mouse__gene_name-bat', 'mouse_lemur__gene_name_x-hlm', 'mouse__gene_name_x-hlm', 'gene_ids-lemur-hlm', 'n_cells-mouse-hlm', 'mouse_lemur__gene_name_y-hlm', 'mouse__gene_name_y-hlm'"
      ]
     },
     "execution_count": 20,
     "metadata": {},
     "output_type": "execute_result"
    }
   ],
   "source": [
    "%%time\n",
    "\n",
    "adata = sc.read(\n",
    "    os.path.join(\n",
    "        \"/home/olga/data_sm/immune-evolution/data-objects/human-lemur-mouse-bat/\",\n",
    "        \"human-lemur-mouse-bat__lung_only.h5ad\",\n",
    "    )\n",
    ")\n",
    "adata.obs = adata.obs.set_index(\"cell_id\")\n",
    "adata"
   ]
  },
  {
   "cell_type": "code",
   "execution_count": 21,
   "id": "handled-alberta",
   "metadata": {},
   "outputs": [
    {
     "data": {
      "text/plain": [
       "Human          57353\n",
       "Mouse lemur    36934\n",
       "Mouse          23802\n",
       "Bat             8656\n",
       "Name: species, dtype: int64"
      ]
     },
     "execution_count": 21,
     "metadata": {},
     "output_type": "execute_result"
    }
   ],
   "source": [
    "adata.obs.species.value_counts()"
   ]
  },
  {
   "cell_type": "code",
   "execution_count": 28,
   "id": "infrared-venture",
   "metadata": {},
   "outputs": [
    {
     "data": {
      "text/plain": [
       "View of AnnData object with n_obs × n_vars = 21256 × 10560\n",
       "    obs: 'age', 'cell_barcode', 'cell_ontology_class', 'cell_ontology_id', 'channel', 'free_annotation', 'individual', 'sample', 'sequencing_run', 'sex', 'species', 'species_batch', 'species_latin', 'tissue', 'narrow_group', 'broad_group', 'compartment_group', 'compartment_narrow', 'channel_cleaned', 'batch', 'n_genes', 'n_counts', 'species_batch_v2', 'compartment_broad', 'compartment_broad_narrow', 'compartment_species', 'compartment_narrow_species', 'common_individual_id'\n",
       "    var: 'bat__gene_name', 'mouse_lemur__gene_name-bat', 'mouse__gene_name-bat', 'mouse_lemur__gene_name_x-hlm', 'mouse__gene_name_x-hlm', 'gene_ids-lemur-hlm', 'n_cells-mouse-hlm', 'mouse_lemur__gene_name_y-hlm', 'mouse__gene_name_y-hlm'"
      ]
     },
     "execution_count": 28,
     "metadata": {},
     "output_type": "execute_result"
    }
   ],
   "source": [
    "adata_mouse = adata[(adata.obs.species == \"Mouse\") & adata.obs.broad_group.isin(SHARED_CELLTYPES)]\n",
    "adata_mouse"
   ]
  },
  {
   "cell_type": "code",
   "execution_count": 32,
   "id": "trained-bobby",
   "metadata": {},
   "outputs": [
    {
     "data": {
      "text/plain": [
       "Monocyte                           10319\n",
       "Capillary                           2255\n",
       "Fibroblast                          2016\n",
       "T cell                              1663\n",
       "Dendritic                           1469\n",
       "B cell                              1457\n",
       "Macrophage                          1319\n",
       "Natural Killer T cell                406\n",
       "Smooth Muscle and Myofibroblast      230\n",
       "Alveolar Epithelial Type 2           122\n",
       "Name: n_cells, dtype: int64"
      ]
     },
     "execution_count": 32,
     "metadata": {},
     "output_type": "execute_result"
    }
   ],
   "source": [
    "n_cells = adata_mouse.obs.broad_group.value_counts()\n",
    "n_cells.name = 'n_cells'\n",
    "n_cells"
   ]
  },
  {
   "cell_type": "code",
   "execution_count": 33,
   "id": "temporal-excerpt",
   "metadata": {},
   "outputs": [
    {
     "name": "stdout",
     "output_type": "stream",
     "text": [
      "(30, 12)\n",
      "--- First 5 entries ---\n"
     ]
    },
    {
     "data": {
      "text/html": [
       "<div>\n",
       "<style scoped>\n",
       "    .dataframe tbody tr th:only-of-type {\n",
       "        vertical-align: middle;\n",
       "    }\n",
       "\n",
       "    .dataframe tbody tr th {\n",
       "        vertical-align: top;\n",
       "    }\n",
       "\n",
       "    .dataframe thead th {\n",
       "        text-align: right;\n",
       "    }\n",
       "</style>\n",
       "<table border=\"1\" class=\"dataframe\">\n",
       "  <thead>\n",
       "    <tr style=\"text-align: right;\">\n",
       "      <th></th>\n",
       "      <th>signature_file</th>\n",
       "      <th>md5</th>\n",
       "      <th>ksize</th>\n",
       "      <th>moltype</th>\n",
       "      <th>num</th>\n",
       "      <th>scaled</th>\n",
       "      <th>n_hashes</th>\n",
       "      <th>seed</th>\n",
       "      <th>with_abundance</th>\n",
       "      <th>name</th>\n",
       "      <th>filename</th>\n",
       "      <th>license</th>\n",
       "    </tr>\n",
       "  </thead>\n",
       "  <tbody>\n",
       "    <tr>\n",
       "      <th>0</th>\n",
       "      <td>/home/olga/data_sm/immune-evolution/kmer-signa...</td>\n",
       "      <td>029549a156b208f1d5f872b03345ebea</td>\n",
       "      <td>17</td>\n",
       "      <td>dayhoff</td>\n",
       "      <td>0</td>\n",
       "      <td>10</td>\n",
       "      <td>73584</td>\n",
       "      <td>42</td>\n",
       "      <td>1</td>\n",
       "      <td>Alveolar Epithelial Type 2</td>\n",
       "      <td>** no name **</td>\n",
       "      <td>CC0</td>\n",
       "    </tr>\n",
       "    <tr>\n",
       "      <th>1</th>\n",
       "      <td>/home/olga/data_sm/immune-evolution/kmer-signa...</td>\n",
       "      <td>a454986c0b5f04c5b2545ec0edc6dcbf</td>\n",
       "      <td>17</td>\n",
       "      <td>dayhoff</td>\n",
       "      <td>0</td>\n",
       "      <td>10</td>\n",
       "      <td>897727</td>\n",
       "      <td>42</td>\n",
       "      <td>1</td>\n",
       "      <td>B cell</td>\n",
       "      <td>** no name **</td>\n",
       "      <td>CC0</td>\n",
       "    </tr>\n",
       "    <tr>\n",
       "      <th>2</th>\n",
       "      <td>/home/olga/data_sm/immune-evolution/kmer-signa...</td>\n",
       "      <td>86fb2933635379e6e0939bbc8f229693</td>\n",
       "      <td>17</td>\n",
       "      <td>dayhoff</td>\n",
       "      <td>0</td>\n",
       "      <td>10</td>\n",
       "      <td>1066948</td>\n",
       "      <td>42</td>\n",
       "      <td>1</td>\n",
       "      <td>Capillary</td>\n",
       "      <td>** no name **</td>\n",
       "      <td>CC0</td>\n",
       "    </tr>\n",
       "    <tr>\n",
       "      <th>3</th>\n",
       "      <td>/home/olga/data_sm/immune-evolution/kmer-signa...</td>\n",
       "      <td>1d8c93a9f643c521717d9181143ad85e</td>\n",
       "      <td>17</td>\n",
       "      <td>dayhoff</td>\n",
       "      <td>0</td>\n",
       "      <td>10</td>\n",
       "      <td>295882</td>\n",
       "      <td>42</td>\n",
       "      <td>1</td>\n",
       "      <td>Dendritic</td>\n",
       "      <td>** no name **</td>\n",
       "      <td>CC0</td>\n",
       "    </tr>\n",
       "    <tr>\n",
       "      <th>4</th>\n",
       "      <td>/home/olga/data_sm/immune-evolution/kmer-signa...</td>\n",
       "      <td>15adfc8520d4c2ee5160f49da634ff91</td>\n",
       "      <td>17</td>\n",
       "      <td>dayhoff</td>\n",
       "      <td>0</td>\n",
       "      <td>10</td>\n",
       "      <td>375364</td>\n",
       "      <td>42</td>\n",
       "      <td>1</td>\n",
       "      <td>Fibroblast</td>\n",
       "      <td>** no name **</td>\n",
       "      <td>CC0</td>\n",
       "    </tr>\n",
       "  </tbody>\n",
       "</table>\n",
       "</div>"
      ],
      "text/plain": [
       "                                      signature_file  \\\n",
       "0  /home/olga/data_sm/immune-evolution/kmer-signa...   \n",
       "1  /home/olga/data_sm/immune-evolution/kmer-signa...   \n",
       "2  /home/olga/data_sm/immune-evolution/kmer-signa...   \n",
       "3  /home/olga/data_sm/immune-evolution/kmer-signa...   \n",
       "4  /home/olga/data_sm/immune-evolution/kmer-signa...   \n",
       "\n",
       "                                md5  ksize  moltype  num  scaled  n_hashes  \\\n",
       "0  029549a156b208f1d5f872b03345ebea     17  dayhoff    0      10     73584   \n",
       "1  a454986c0b5f04c5b2545ec0edc6dcbf     17  dayhoff    0      10    897727   \n",
       "2  86fb2933635379e6e0939bbc8f229693     17  dayhoff    0      10   1066948   \n",
       "3  1d8c93a9f643c521717d9181143ad85e     17  dayhoff    0      10    295882   \n",
       "4  15adfc8520d4c2ee5160f49da634ff91     17  dayhoff    0      10    375364   \n",
       "\n",
       "   seed  with_abundance                        name       filename license  \n",
       "0    42               1  Alveolar Epithelial Type 2  ** no name **     CC0  \n",
       "1    42               1                      B cell  ** no name **     CC0  \n",
       "2    42               1                   Capillary  ** no name **     CC0  \n",
       "3    42               1                   Dendritic  ** no name **     CC0  \n",
       "4    42               1                  Fibroblast  ** no name **     CC0  "
      ]
     },
     "metadata": {},
     "output_type": "display_data"
    }
   ],
   "source": [
    "train_3_merged_celltype_remove_common = '/home/olga/data_sm/immune-evolution/kmer-signatures/1--train-mouse/3--merged-celltype-remove-common-kmers'\n",
    "sig_describe = pd.read_csv(\n",
    "    os.path.join(train_3_merged_celltype_remove_common, \"sourmash_sig_describe.csv\")\n",
    ")\n",
    "describe(sig_describe)"
   ]
  },
  {
   "cell_type": "code",
   "execution_count": 35,
   "id": "coordinated-vessel",
   "metadata": {},
   "outputs": [
    {
     "name": "stdout",
     "output_type": "stream",
     "text": [
      "(30, 13)\n",
      "--- First 5 entries ---\n"
     ]
    },
    {
     "data": {
      "text/html": [
       "<div>\n",
       "<style scoped>\n",
       "    .dataframe tbody tr th:only-of-type {\n",
       "        vertical-align: middle;\n",
       "    }\n",
       "\n",
       "    .dataframe tbody tr th {\n",
       "        vertical-align: top;\n",
       "    }\n",
       "\n",
       "    .dataframe thead th {\n",
       "        text-align: right;\n",
       "    }\n",
       "</style>\n",
       "<table border=\"1\" class=\"dataframe\">\n",
       "  <thead>\n",
       "    <tr style=\"text-align: right;\">\n",
       "      <th></th>\n",
       "      <th>signature_file</th>\n",
       "      <th>md5</th>\n",
       "      <th>ksize</th>\n",
       "      <th>moltype</th>\n",
       "      <th>num</th>\n",
       "      <th>scaled</th>\n",
       "      <th>n_hashes</th>\n",
       "      <th>seed</th>\n",
       "      <th>with_abundance</th>\n",
       "      <th>name</th>\n",
       "      <th>filename</th>\n",
       "      <th>license</th>\n",
       "      <th>n_cells</th>\n",
       "    </tr>\n",
       "  </thead>\n",
       "  <tbody>\n",
       "    <tr>\n",
       "      <th>0</th>\n",
       "      <td>/home/olga/data_sm/immune-evolution/kmer-signa...</td>\n",
       "      <td>029549a156b208f1d5f872b03345ebea</td>\n",
       "      <td>17</td>\n",
       "      <td>dayhoff</td>\n",
       "      <td>0</td>\n",
       "      <td>10</td>\n",
       "      <td>73584</td>\n",
       "      <td>42</td>\n",
       "      <td>1</td>\n",
       "      <td>Alveolar Epithelial Type 2</td>\n",
       "      <td>** no name **</td>\n",
       "      <td>CC0</td>\n",
       "      <td>122</td>\n",
       "    </tr>\n",
       "    <tr>\n",
       "      <th>1</th>\n",
       "      <td>/home/olga/data_sm/immune-evolution/kmer-signa...</td>\n",
       "      <td>a454986c0b5f04c5b2545ec0edc6dcbf</td>\n",
       "      <td>17</td>\n",
       "      <td>dayhoff</td>\n",
       "      <td>0</td>\n",
       "      <td>10</td>\n",
       "      <td>897727</td>\n",
       "      <td>42</td>\n",
       "      <td>1</td>\n",
       "      <td>B cell</td>\n",
       "      <td>** no name **</td>\n",
       "      <td>CC0</td>\n",
       "      <td>1457</td>\n",
       "    </tr>\n",
       "    <tr>\n",
       "      <th>2</th>\n",
       "      <td>/home/olga/data_sm/immune-evolution/kmer-signa...</td>\n",
       "      <td>86fb2933635379e6e0939bbc8f229693</td>\n",
       "      <td>17</td>\n",
       "      <td>dayhoff</td>\n",
       "      <td>0</td>\n",
       "      <td>10</td>\n",
       "      <td>1066948</td>\n",
       "      <td>42</td>\n",
       "      <td>1</td>\n",
       "      <td>Capillary</td>\n",
       "      <td>** no name **</td>\n",
       "      <td>CC0</td>\n",
       "      <td>2255</td>\n",
       "    </tr>\n",
       "    <tr>\n",
       "      <th>3</th>\n",
       "      <td>/home/olga/data_sm/immune-evolution/kmer-signa...</td>\n",
       "      <td>1d8c93a9f643c521717d9181143ad85e</td>\n",
       "      <td>17</td>\n",
       "      <td>dayhoff</td>\n",
       "      <td>0</td>\n",
       "      <td>10</td>\n",
       "      <td>295882</td>\n",
       "      <td>42</td>\n",
       "      <td>1</td>\n",
       "      <td>Dendritic</td>\n",
       "      <td>** no name **</td>\n",
       "      <td>CC0</td>\n",
       "      <td>1469</td>\n",
       "    </tr>\n",
       "    <tr>\n",
       "      <th>4</th>\n",
       "      <td>/home/olga/data_sm/immune-evolution/kmer-signa...</td>\n",
       "      <td>15adfc8520d4c2ee5160f49da634ff91</td>\n",
       "      <td>17</td>\n",
       "      <td>dayhoff</td>\n",
       "      <td>0</td>\n",
       "      <td>10</td>\n",
       "      <td>375364</td>\n",
       "      <td>42</td>\n",
       "      <td>1</td>\n",
       "      <td>Fibroblast</td>\n",
       "      <td>** no name **</td>\n",
       "      <td>CC0</td>\n",
       "      <td>2016</td>\n",
       "    </tr>\n",
       "  </tbody>\n",
       "</table>\n",
       "</div>"
      ],
      "text/plain": [
       "                                      signature_file  \\\n",
       "0  /home/olga/data_sm/immune-evolution/kmer-signa...   \n",
       "1  /home/olga/data_sm/immune-evolution/kmer-signa...   \n",
       "2  /home/olga/data_sm/immune-evolution/kmer-signa...   \n",
       "3  /home/olga/data_sm/immune-evolution/kmer-signa...   \n",
       "4  /home/olga/data_sm/immune-evolution/kmer-signa...   \n",
       "\n",
       "                                md5  ksize  moltype  num  scaled  n_hashes  \\\n",
       "0  029549a156b208f1d5f872b03345ebea     17  dayhoff    0      10     73584   \n",
       "1  a454986c0b5f04c5b2545ec0edc6dcbf     17  dayhoff    0      10    897727   \n",
       "2  86fb2933635379e6e0939bbc8f229693     17  dayhoff    0      10   1066948   \n",
       "3  1d8c93a9f643c521717d9181143ad85e     17  dayhoff    0      10    295882   \n",
       "4  15adfc8520d4c2ee5160f49da634ff91     17  dayhoff    0      10    375364   \n",
       "\n",
       "   seed  with_abundance                        name       filename license  \\\n",
       "0    42               1  Alveolar Epithelial Type 2  ** no name **     CC0   \n",
       "1    42               1                      B cell  ** no name **     CC0   \n",
       "2    42               1                   Capillary  ** no name **     CC0   \n",
       "3    42               1                   Dendritic  ** no name **     CC0   \n",
       "4    42               1                  Fibroblast  ** no name **     CC0   \n",
       "\n",
       "   n_cells  \n",
       "0      122  \n",
       "1     1457  \n",
       "2     2255  \n",
       "3     1469  \n",
       "4     2016  "
      ]
     },
     "metadata": {},
     "output_type": "display_data"
    }
   ],
   "source": [
    "sig_describe_n_cells = sig_describe.join(n_cells, on='name')\n",
    "describe(sig_describe_n_cells)"
   ]
  },
  {
   "cell_type": "code",
   "execution_count": 50,
   "id": "killing-accused",
   "metadata": {},
   "outputs": [
    {
     "data": {
      "text/html": [
       "<div>\n",
       "<style scoped>\n",
       "    .dataframe tbody tr th:only-of-type {\n",
       "        vertical-align: middle;\n",
       "    }\n",
       "\n",
       "    .dataframe tbody tr th {\n",
       "        vertical-align: top;\n",
       "    }\n",
       "\n",
       "    .dataframe thead th {\n",
       "        text-align: right;\n",
       "    }\n",
       "</style>\n",
       "<table border=\"1\" class=\"dataframe\">\n",
       "  <thead>\n",
       "    <tr style=\"text-align: right;\">\n",
       "      <th></th>\n",
       "      <th>signature_file</th>\n",
       "      <th>md5</th>\n",
       "      <th>ksize</th>\n",
       "      <th>moltype</th>\n",
       "      <th>num</th>\n",
       "      <th>scaled</th>\n",
       "      <th>n_hashes</th>\n",
       "      <th>seed</th>\n",
       "      <th>with_abundance</th>\n",
       "      <th>name</th>\n",
       "      <th>filename</th>\n",
       "      <th>license</th>\n",
       "      <th>n_cells</th>\n",
       "      <th>n_hashes_log10</th>\n",
       "      <th>n_cells_log10</th>\n",
       "    </tr>\n",
       "  </thead>\n",
       "  <tbody>\n",
       "    <tr>\n",
       "      <th>0</th>\n",
       "      <td>/home/olga/data_sm/immune-evolution/kmer-signa...</td>\n",
       "      <td>029549a156b208f1d5f872b03345ebea</td>\n",
       "      <td>17</td>\n",
       "      <td>dayhoff</td>\n",
       "      <td>0</td>\n",
       "      <td>10</td>\n",
       "      <td>73584</td>\n",
       "      <td>42</td>\n",
       "      <td>1</td>\n",
       "      <td>Alveolar Epithelial Type 2</td>\n",
       "      <td>** no name **</td>\n",
       "      <td>CC0</td>\n",
       "      <td>122</td>\n",
       "      <td>4.866783</td>\n",
       "      <td>2.08636</td>\n",
       "    </tr>\n",
       "    <tr>\n",
       "      <th>10</th>\n",
       "      <td>/home/olga/data_sm/immune-evolution/kmer-signa...</td>\n",
       "      <td>c6c60fe0f33187f439c8d5c0544a7b00</td>\n",
       "      <td>21</td>\n",
       "      <td>DNA</td>\n",
       "      <td>0</td>\n",
       "      <td>10</td>\n",
       "      <td>217654</td>\n",
       "      <td>42</td>\n",
       "      <td>1</td>\n",
       "      <td>Alveolar Epithelial Type 2</td>\n",
       "      <td>** no name **</td>\n",
       "      <td>CC0</td>\n",
       "      <td>122</td>\n",
       "      <td>5.337767</td>\n",
       "      <td>2.08636</td>\n",
       "    </tr>\n",
       "    <tr>\n",
       "      <th>20</th>\n",
       "      <td>/home/olga/data_sm/immune-evolution/kmer-signa...</td>\n",
       "      <td>92f96428169aa335c3beeb6d3a459a10</td>\n",
       "      <td>10</td>\n",
       "      <td>protein</td>\n",
       "      <td>0</td>\n",
       "      <td>10</td>\n",
       "      <td>86188</td>\n",
       "      <td>42</td>\n",
       "      <td>1</td>\n",
       "      <td>Alveolar Epithelial Type 2</td>\n",
       "      <td>** no name **</td>\n",
       "      <td>CC0</td>\n",
       "      <td>122</td>\n",
       "      <td>4.935447</td>\n",
       "      <td>2.08636</td>\n",
       "    </tr>\n",
       "  </tbody>\n",
       "</table>\n",
       "</div>"
      ],
      "text/plain": [
       "                                       signature_file  \\\n",
       "0   /home/olga/data_sm/immune-evolution/kmer-signa...   \n",
       "10  /home/olga/data_sm/immune-evolution/kmer-signa...   \n",
       "20  /home/olga/data_sm/immune-evolution/kmer-signa...   \n",
       "\n",
       "                                 md5  ksize  moltype  num  scaled  n_hashes  \\\n",
       "0   029549a156b208f1d5f872b03345ebea     17  dayhoff    0      10     73584   \n",
       "10  c6c60fe0f33187f439c8d5c0544a7b00     21      DNA    0      10    217654   \n",
       "20  92f96428169aa335c3beeb6d3a459a10     10  protein    0      10     86188   \n",
       "\n",
       "    seed  with_abundance                        name       filename license  \\\n",
       "0     42               1  Alveolar Epithelial Type 2  ** no name **     CC0   \n",
       "10    42               1  Alveolar Epithelial Type 2  ** no name **     CC0   \n",
       "20    42               1  Alveolar Epithelial Type 2  ** no name **     CC0   \n",
       "\n",
       "    n_cells  n_hashes_log10  n_cells_log10  \n",
       "0       122        4.866783        2.08636  \n",
       "10      122        5.337767        2.08636  \n",
       "20      122        4.935447        2.08636  "
      ]
     },
     "execution_count": 50,
     "metadata": {},
     "output_type": "execute_result"
    }
   ],
   "source": [
    "sig_describe_n_cells.query('name == \"Alveolar Epithelial Type 2\"')"
   ]
  },
  {
   "cell_type": "code",
   "execution_count": 45,
   "id": "small-intro",
   "metadata": {},
   "outputs": [
    {
     "data": {
      "image/png": "[encoded data removed]",
      "text/plain": [
       "<Figure size 434x360 with 1 Axes>"
      ]
     },
     "metadata": {
      "needs_background": "light"
     },
     "output_type": "display_data"
    }
   ],
   "source": [
    "g = sns.lmplot(data=sig_describe_n_cells, x='n_cells', y='n_hashes', hue='moltype')\n"
   ]
  },
  {
   "cell_type": "code",
   "execution_count": null,
   "id": "extreme-compromise",
   "metadata": {},
   "outputs": [],
   "source": []
  },
  {
   "cell_type": "markdown",
   "id": "dried-corruption",
   "metadata": {},
   "source": [
    "### Add log10 of `n_hashes` and `n_cells`"
   ]
  },
  {
   "cell_type": "code",
   "execution_count": 48,
   "id": "powered-whole",
   "metadata": {},
   "outputs": [],
   "source": [
    "sig_describe_n_cells['n_hashes_log10'] = np.log10(sig_describe_n_cells.n_hashes)\n",
    "sig_describe_n_cells['n_cells_log10'] = np.log10(sig_describe_n_cells.n_cells)"
   ]
  },
  {
   "cell_type": "code",
   "execution_count": 49,
   "id": "incorrect-cooper",
   "metadata": {},
   "outputs": [
    {
     "data": {
      "image/png": "[encoded data removed]",
      "text/plain": [
       "<Figure size 434x360 with 1 Axes>"
      ]
     },
     "metadata": {
      "needs_background": "light"
     },
     "output_type": "display_data"
    }
   ],
   "source": [
    "g = sns.lmplot(data=sig_describe_n_cells, x='n_cells_log10', y='n_hashes_log10', hue='moltype')\n"
   ]
  }
 ],
 "metadata": {
  "kernelspec": {
   "display_name": "Python [conda env:immune-evolution]",
   "language": "python",
   "name": "conda-env-immune-evolution-py"
  },
  "language_info": {
   "codemirror_mode": {
    "name": "ipython",
    "version": 3
   },
   "file_extension": ".py",
   "mimetype": "text/x-python",
   "name": "python",
   "nbconvert_exporter": "python",
   "pygments_lexer": "ipython3",
   "version": "3.7.8"
  }
 },
 "nbformat": 4,
 "nbformat_minor": 5
}
