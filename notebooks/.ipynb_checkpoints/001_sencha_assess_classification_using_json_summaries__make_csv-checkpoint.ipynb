{
 "cells": [
  {
   "cell_type": "code",
   "execution_count": 1,
   "metadata": {},
   "outputs": [],
   "source": [
    "import json\n",
    "import glob\n",
    "import pandas as pd\n",
    "from pandas import json_normalize\n",
    "\n",
    "from sklearn.metrics import f1_score\n",
    "from sklearn.metrics import roc_auc_score #average_precision_score"
   ]
  },
  {
   "cell_type": "code",
   "execution_count": 2,
   "metadata": {},
   "outputs": [
    {
     "data": {
      "text/plain": [
       "'1.0.3'"
      ]
     },
     "execution_count": 2,
     "metadata": {},
     "output_type": "execute_result"
    }
   ],
   "source": [
    "pd.__version__"
   ]
  },
  {
   "cell_type": "code",
   "execution_count": 3,
   "metadata": {},
   "outputs": [],
   "source": [
    "# import all json --> pandas df"
   ]
  },
  {
   "cell_type": "code",
   "execution_count": 5,
   "metadata": {},
   "outputs": [],
   "source": [
    "# #test_files = \"translate_testfive/Homo_sapiens_cdna_abinitio_04_dayhoff_k9_refHsapiens_QfO_t1e8.json\"\n",
    "# test_file = \"translate_testfive/Homo_sapiens_ncRNA_05_protein_k9_refsprot_t1e9.json\"\n",
    "\n",
    "# with open(test_file) as f:\n",
    "#   testdata = json.load(f)"
   ]
  },
  {
   "cell_type": "code",
   "execution_count": 6,
   "metadata": {},
   "outputs": [
    {
     "ename": "NameError",
     "evalue": "name 'testdata' is not defined",
     "output_type": "error",
     "traceback": [
      "\u001b[0;31m---------------------------------------------------------------------------\u001b[0m",
      "\u001b[0;31mNameError\u001b[0m                                 Traceback (most recent call last)",
      "\u001b[0;32m<ipython-input-6-4896218ad074>\u001b[0m in \u001b[0;36m<module>\u001b[0;34m\u001b[0m\n\u001b[0;32m----> 1\u001b[0;31m \u001b[0mtestdata\u001b[0m\u001b[0;34m\u001b[0m\u001b[0;34m\u001b[0m\u001b[0m\n\u001b[0m",
      "\u001b[0;31mNameError\u001b[0m: name 'testdata' is not defined"
     ]
    }
   ],
   "source": [
    "testdata"
   ]
  },
  {
   "cell_type": "code",
   "execution_count": 7,
   "metadata": {},
   "outputs": [
    {
     "ename": "NameError",
     "evalue": "name 'testdata' is not defined",
     "output_type": "error",
     "traceback": [
      "\u001b[0;31m---------------------------------------------------------------------------\u001b[0m",
      "\u001b[0;31mNameError\u001b[0m                                 Traceback (most recent call last)",
      "\u001b[0;32m<ipython-input-7-037bd5d98211>\u001b[0m in \u001b[0;36m<module>\u001b[0;34m\u001b[0m\n\u001b[0;32m----> 1\u001b[0;31m \u001b[0mtestdf\u001b[0m \u001b[0;34m=\u001b[0m \u001b[0mjson_normalize\u001b[0m\u001b[0;34m(\u001b[0m\u001b[0mtestdata\u001b[0m\u001b[0;34m)\u001b[0m\u001b[0;34m\u001b[0m\u001b[0;34m\u001b[0m\u001b[0m\n\u001b[0m\u001b[1;32m      2\u001b[0m \u001b[0mtestdf\u001b[0m\u001b[0;34m.\u001b[0m\u001b[0mhead\u001b[0m\u001b[0;34m(\u001b[0m\u001b[0;34m)\u001b[0m\u001b[0;34m\u001b[0m\u001b[0;34m\u001b[0m\u001b[0m\n",
      "\u001b[0;31mNameError\u001b[0m: name 'testdata' is not defined"
     ]
    }
   ],
   "source": [
    "testdf = json_normalize(testdata)\n",
    "testdf.head()"
   ]
  },
  {
   "cell_type": "code",
   "execution_count": null,
   "metadata": {},
   "outputs": [],
   "source": [
    "def build_summary_df(filename_list):\n",
    "    all_info=[]\n",
    "    for fi in filename_list:\n",
    "        with open(fi) as f:\n",
    "            all_info.append(json_normalize(json.load(f)))\n",
    "    return all_info\n",
    "            \n",
    "import glob\n",
    "#ncRNA = glob.glob(\"translate_testfive/*ncRNA_01*json\")\n",
    "#qfo_dna = glob.glob(\"translate_testfive/*qfo_dna_01*json\")\n",
    "#ncRNA = glob.glob(\"translate_testfive/*ncRNA*json\")\n",
    "#qfo_dna = glob.glob(\"translate_testfive/*qfo_dna*json\")\n",
    "#ncRNA = glob.glob(\"translate_Hsapiens/*ncRNA*json\")\n",
    "#qfo_dna = glob.glob(\"translate_Hsapiens/*qfo_dna*json\")\n",
    "\n",
    "#ncRNA = glob.glob(\"translate_s100/Homo_sapiens*ncRNA*json\")\n",
    "#qfo_dna = glob.glob(\"translate_s100/Homo_sapiens*qfo_dna*json\")\n",
    "\n",
    "ncRNA = glob.glob(\"translate_s100/*ncRNA*json\")\n",
    "qfo_dna = glob.glob(\"translate_s100/*qfo_dna*json\")\n",
    "\n",
    "filename_list = ncRNA + qfo_dna"
   ]
  },
  {
   "cell_type": "code",
   "execution_count": null,
   "metadata": {},
   "outputs": [],
   "source": [
    "len(filename_list)"
   ]
  },
  {
   "cell_type": "code",
   "execution_count": null,
   "metadata": {},
   "outputs": [],
   "source": [
    "summaryInfo = build_summary_df(filename_list)"
   ]
  },
  {
   "cell_type": "code",
   "execution_count": null,
   "metadata": {},
   "outputs": [],
   "source": [
    "summaryDF = pd.concat(summaryInfo).fillna(0)"
   ]
  },
  {
   "cell_type": "code",
   "execution_count": null,
   "metadata": {},
   "outputs": [],
   "source": [
    "summaryDF.head()"
   ]
  },
  {
   "cell_type": "code",
   "execution_count": null,
   "metadata": {},
   "outputs": [],
   "source": [
    "summaryDF.columns"
   ]
  },
  {
   "cell_type": "code",
   "execution_count": null,
   "metadata": {},
   "outputs": [],
   "source": [
    "summaryDF.head()"
   ]
  },
  {
   "cell_type": "code",
   "execution_count": null,
   "metadata": {},
   "outputs": [],
   "source": [
    "#summaryDF[[\"input_files\", \"peptide_alphabet\", \"peptide_ksize\", 'categorization_percentages.Coding', 'categorization_percentages.Non-coding']]"
   ]
  },
  {
   "cell_type": "code",
   "execution_count": null,
   "metadata": {},
   "outputs": [],
   "source": [
    "summaryDF[\"total_reads\"] = summaryDF.groupby((summaryDF.columns.str.split(\".\").str[0].str.contains(\"categorization_counts\")),axis=1).sum()[True]"
   ]
  },
  {
   "cell_type": "code",
   "execution_count": null,
   "metadata": {},
   "outputs": [],
   "source": [
    "summaryDF[\"categorization_percentages.Coding\"].tail()"
   ]
  },
  {
   "cell_type": "code",
   "execution_count": null,
   "metadata": {},
   "outputs": [],
   "source": [
    "summaryDF[\"categorization_percentages.Non-coding\"].head()"
   ]
  },
  {
   "cell_type": "code",
   "execution_count": null,
   "metadata": {},
   "outputs": [],
   "source": []
  },
  {
   "cell_type": "code",
   "execution_count": null,
   "metadata": {},
   "outputs": [],
   "source": [
    "#A true positive is an outcome where the model correctly predicts the positive class. \n",
    "#Similarly, a true negative is an outcome where the model correctly predicts the negative class\n",
    "#A false positive is an outcome where the model incorrectly predicts the positive class.\n",
    "#And a false negative is an outcome where the model incorrectly predicts the negative class.\n",
    "# positive class = \"coding\"\n",
    "# TP = \"coding\" FP = \"total\" - \"coding\"\n",
    "# negative class = \"non-coding\"\n",
    "# TN = \"non-coding\" FN= \"total\" - \"non-coding\" except NOT. Actually = \"total - coding\"\n",
    "# bc there are other classes, but it really is coding = coding, everything else = non-coding\n",
    "import re\n",
    "\n",
    "def find_origin(row):\n",
    "    if \"qfo\" in row[\"input_files\"][0]:\n",
    "        row[\"origin\"] = \"coding\"\n",
    "        row[\"true_positives\"] = row[\"categorization_counts.Coding\"]\n",
    "        row[\"true_negatives\"] = 0\n",
    "        row[\"false_positives\"] = 0\n",
    "        row[\"false_negatives\"] = row[\"total_reads\"] - row[\"categorization_counts.Coding\"]\n",
    "        input_file = row[\"input_files\"][0]\n",
    "        row[\"species\"] = re.search(\"(\\w*)_qfo\", input_file).groups()[0].replace(\"_\", \" \")\n",
    "    elif \"ncRNA\" in row[\"input_files\"][0]:\n",
    "        row[\"origin\"] = \"noncoding\"\n",
    "        row[\"true_positives\"] = 0\n",
    "        row[\"true_negatives\"] = row[\"total_reads\"] - row[\"categorization_counts.Coding\"]\n",
    "        row[\"false_positives\"] = row[\"categorization_counts.Coding\"]\n",
    "        row[\"false_negatives\"]= 0\n",
    "        input_file = row[\"input_files\"][0]\n",
    "        row[\"species\"] = re.search(\"(\\w*)_ncRNA\", input_file).groups()[0].replace(\"_\", \" \")\n",
    "        #row[\"species\"] = row[\"input_files\"].str.extract(\"(\\w*)_ncRNA\")[0]\n",
    "    if \"Hsapiens\" in row[\"peptide_bloom_filter\"]:\n",
    "        row[\"peptide_reference\"] = \"Homo sapiens QfO\"\n",
    "    elif \"sprot\" in row[\"peptide_bloom_filter\"]:\n",
    "        row[\"peptide_reference\"] = \"Swiss Prot\"\n",
    "    return row\n",
    "\n",
    "summaryDF = summaryDF.apply(find_origin, axis=1)"
   ]
  },
  {
   "cell_type": "code",
   "execution_count": null,
   "metadata": {},
   "outputs": [],
   "source": [
    "#now we should add divergence time\n",
    "#species_metadata= https://docs.google.com/spreadsheets/d/1dCT8IXTdlAuz7mng97x3T5vxiY5KllbYYXFNzP0H0Vc/edit#gid=1807612802\n",
    "species_metadata = pd.read_csv(\"species_metadata.csv\")\n",
    "#dtime = pd.read_csv(\"divergence_time.txt\")"
   ]
  },
  {
   "cell_type": "code",
   "execution_count": null,
   "metadata": {},
   "outputs": [],
   "source": [
    "species_metadata.head()"
   ]
  },
  {
   "cell_type": "code",
   "execution_count": null,
   "metadata": {},
   "outputs": [],
   "source": [
    "species_metadata[[\"scientific_name\", \"divergence_from_human_mya\"]]"
   ]
  },
  {
   "cell_type": "code",
   "execution_count": null,
   "metadata": {},
   "outputs": [],
   "source": [
    "summaryDF=summaryDF.merge(species_metadata[[\"scientific_name\", \"divergence_from_human_mya\"]], left_on=[\"species\"], right_on=[\"scientific_name\"])"
   ]
  },
  {
   "cell_type": "code",
   "execution_count": null,
   "metadata": {},
   "outputs": [],
   "source": [
    "summaryDF.head()"
   ]
  },
  {
   "cell_type": "code",
   "execution_count": null,
   "metadata": {},
   "outputs": [],
   "source": [
    "summaryDF.iloc[0][\"input_files\"][0]"
   ]
  },
  {
   "cell_type": "code",
   "execution_count": null,
   "metadata": {},
   "outputs": [],
   "source": [
    "summaryDF[[\"input_files\", \"origin\",\"species\", \"divergence_from_human_mya\", \"peptide_alphabet\", \"peptide_ksize\", 'categorization_percentages.Coding', 'categorization_percentages.Non-coding', \"true_positives\"]].head()"
   ]
  },
  {
   "cell_type": "code",
   "execution_count": null,
   "metadata": {},
   "outputs": [],
   "source": [
    "# let's check - for *01* files, there should be two files in each group (one from coding reads, one from noncoding)\n",
    "# if including replicates (5) -- should be 10 files in each group\n",
    "# actually probably want to compute metrics INDEPENDENTLY for each replicate set\n",
    "summaryDF.groupby([\"species\", \"divergence_from_human_mya\", \"peptide_alphabet\", \"peptide_ksize\", \"peptide_bloom_filter\", \"jaccard_threshold\"]).count()"
   ]
  },
  {
   "cell_type": "code",
   "execution_count": null,
   "metadata": {},
   "outputs": [],
   "source": [
    "# want to combine values of true pos, true neg, false pos, false neg values\n",
    "#new multindex dataframe with true pos, true neg, false pos, false neg columns, precision, recall, f1 score\n"
   ]
  },
  {
   "cell_type": "code",
   "execution_count": null,
   "metadata": {},
   "outputs": [],
   "source": [
    "metricDF = summaryDF.groupby([\"species\", \"divergence_from_human_mya\", \"peptide_alphabet\", \"peptide_reference\", \"peptide_ksize\", \"peptide_bloom_filter\",\"jaccard_threshold\"]).sum()[[\"true_positives\", \"true_negatives\", \"false_positives\", \"false_negatives\"]]"
   ]
  },
  {
   "cell_type": "code",
   "execution_count": null,
   "metadata": {},
   "outputs": [],
   "source": [
    "summaryDF.loc[(summaryDF[\"peptide_alphabet\"]==\"dayhoff\") & (summaryDF[\"peptide_ksize\"]==13)][\"categorization_percentages.Coding\"]\n",
    "\n",
    "# first read: 54% non-coding, 11% coding, 35% other. might need to keep other categories for good f1 score?"
   ]
  },
  {
   "cell_type": "code",
   "execution_count": null,
   "metadata": {},
   "outputs": [],
   "source": [
    "# look at numbers per bloom filter\n",
    "#summaryDF.groupby([\"peptide_bloom_filter\"]).sum()[[\"true_positives\", \"true_negatives\", \"false_positives\", \"false_negatives\"]]"
   ]
  },
  {
   "cell_type": "code",
   "execution_count": null,
   "metadata": {},
   "outputs": [],
   "source": [
    "# precision = TP/ (TP + FP)\n",
    "# recall = TP/ (TP + FN)\n",
    "# F1 = 2 * (precision * recall) / (precision + recall)"
   ]
  },
  {
   "cell_type": "code",
   "execution_count": null,
   "metadata": {},
   "outputs": [],
   "source": [
    "metricDF[\"precision\"] = metricDF[\"true_positives\"]/(metricDF[\"true_positives\"] + metricDF[\"false_positives\"])\n",
    "metricDF[\"recall\"] = metricDF[\"true_positives\"]/(metricDF[\"true_positives\"] + metricDF[\"false_negatives\"])\n",
    "metricDF[\"F1_score\"] = 2 * ((metricDF[\"precision\"] * metricDF[\"recall\"]) / (metricDF[\"precision\"] + metricDF[\"recall\"]))"
   ]
  },
  {
   "cell_type": "code",
   "execution_count": null,
   "metadata": {},
   "outputs": [],
   "source": [
    "metricDF.head()"
   ]
  },
  {
   "cell_type": "code",
   "execution_count": null,
   "metadata": {},
   "outputs": [],
   "source": [
    "print(\"max_f1score: \" + str(metricDF[\"F1_score\"].max()))\n",
    "print(\"min_f1score: \" + str(metricDF[\"F1_score\"].min()))\n",
    "print(\"max_precision: \" + str(metricDF[\"precision\"].max()))\n",
    "print(\"min_precision: \" + str(metricDF[\"precision\"].min()))\n",
    "print(\"max_recall: \" + str(metricDF[\"recall\"].max()))\n",
    "print(\"min_recall: \" + str(metricDF[\"recall\"].min()))"
   ]
  },
  {
   "cell_type": "code",
   "execution_count": null,
   "metadata": {},
   "outputs": [],
   "source": [
    "# NOW, PLOTTING!"
   ]
  },
  {
   "cell_type": "code",
   "execution_count": null,
   "metadata": {},
   "outputs": [],
   "source": [
    "plotDF = metricDF.reset_index()"
   ]
  },
  {
   "cell_type": "code",
   "execution_count": null,
   "metadata": {},
   "outputs": [],
   "source": [
    "plotDF.to_csv(\"QfO_vertebrates_s100_sencha_translate_summaries.csv\")"
   ]
  },
  {
   "cell_type": "code",
   "execution_count": null,
   "metadata": {},
   "outputs": [],
   "source": [
    "#plotDF[\"peptide_reference\"] = plotDF[\"peptide_bloom_filter\"].str.extract"
   ]
  },
  {
   "cell_type": "code",
   "execution_count": null,
   "metadata": {},
   "outputs": [],
   "source": []
  },
  {
   "cell_type": "code",
   "execution_count": null,
   "metadata": {},
   "outputs": [],
   "source": []
  },
  {
   "cell_type": "code",
   "execution_count": null,
   "metadata": {},
   "outputs": [],
   "source": [
    "import numpy as np\n",
    "import pandas as pd\n",
    "import seaborn as sns\n",
    "import matplotlib.pyplot as plt\n",
    "sns.set(style=\"white\")"
   ]
  },
  {
   "cell_type": "code",
   "execution_count": null,
   "metadata": {},
   "outputs": [],
   "source": [
    "\n",
    "HsapiensDF = plotDF[(plotDF[\"species\"] == \"Homo sapiens\")]\n",
    "sns.scatterplot(x=\"peptide_ksize\", y=\"precision\", data=HsapiensDF, hue=\"peptide_alphabet\" )#, style=\"jaccard_threshold\", legend=\"full\")"
   ]
  },
  {
   "cell_type": "code",
   "execution_count": null,
   "metadata": {},
   "outputs": [],
   "source": [
    "sns.lineplot(x=\"peptide_ksize\", y=\"precision\", data=HsapiensDF, hue=\"peptide_alphabet\")#, style=\"jaccard_threshold\", legend=\"full\")"
   ]
  },
  {
   "cell_type": "code",
   "execution_count": null,
   "metadata": {},
   "outputs": [],
   "source": [
    "sns.lineplot(x=\"peptide_ksize\", y=\"precision\", data=plotDF[(plotDF[\"species\"] == \"Bos_taurus\")], hue=\"peptide_alphabet\")#, style=\"jaccard_threshold\", legend=\"full\")"
   ]
  },
  {
   "cell_type": "code",
   "execution_count": null,
   "metadata": {},
   "outputs": [],
   "source": [
    "#g = sns.FacetGrid(plotDF, row=\"peptide_reference\", col=\"jaccard_threshold\", hue=\"peptide_alphabet\", legend_out= True, height=6, aspect=1) #, style=\"jaccard_threshold\"\n",
    "g = sns.FacetGrid(plotDF, row=\"peptide_reference\", col=\"peptide_alphabet\", hue=\"jaccard_threshold\", legend_out= True, height=6, aspect=1) #, style=\"jaccard_threshold\"\n",
    "g = g.map(plt.scatter, \"peptide_ksize\", \"precision\", edgecolor=\"w\")"
   ]
  },
  {
   "cell_type": "code",
   "execution_count": null,
   "metadata": {},
   "outputs": [],
   "source": [
    "sns.scatterplot(x=\"peptide_ksize\", y=\"precision\", data=plotDF.loc[plotDF[\"peptide_reference\"] == \"Homo sapiens QfO\"], hue=\"peptide_alphabet\")#, style=\"jaccard_threshold\", legend=False)"
   ]
  },
  {
   "cell_type": "code",
   "execution_count": null,
   "metadata": {},
   "outputs": [],
   "source": [
    "sns.scatterplot(x=\"peptide_ksize\", y=\"precision\", data=plotDF.loc[plotDF[\"peptide_reference\"] == \"Swiss Prot\"], hue=\"peptide_alphabet\")#, style=\"jaccard_threshold\", legend=False)\n"
   ]
  },
  {
   "cell_type": "code",
   "execution_count": null,
   "metadata": {},
   "outputs": [],
   "source": [
    "# let's grab just default thresholds\n",
    "#df[df['first_name'].notnull() & (df['nationality'] == \"USA\")]\n",
    "#defaultThresholds=\n",
    "proteinDF = plotDF[(plotDF[\"jaccard_threshold\"] == 0.5) & (plotDF['peptide_alphabet'] ==\"protein\")]\n",
    "dayhoffDF = plotDF[(plotDF[\"jaccard_threshold\"] == 0.5) & (plotDF['peptide_alphabet'] ==\"dayhoff\")]\n",
    "hpDF = plotDF[(plotDF[\"jaccard_threshold\"] == 0.8) & (plotDF['peptide_alphabet'] ==\"hydrophobic-polar\")]\n",
    "defaultThresholds = pd.concat([proteinDF, dayhoffDF, hpDF])\n",
    "\n",
    "\n",
    "#in [\"protein\", \"dayhoff\"])]\n",
    "#dfObj[(dfObj['Sale'] > 30) & (dfObj['Sale'] < 33) ]\n"
   ]
  },
  {
   "cell_type": "code",
   "execution_count": null,
   "metadata": {},
   "outputs": [],
   "source": [
    "defaultThresholds"
   ]
  },
  {
   "cell_type": "code",
   "execution_count": null,
   "metadata": {},
   "outputs": [],
   "source": [
    "hpDF"
   ]
  },
  {
   "cell_type": "code",
   "execution_count": null,
   "metadata": {},
   "outputs": [],
   "source": [
    "sns.lineplot(x=\"recall\", y=\"precision\", data=defaultThresholds, hue=\"peptide_alphabet\")#, style=\"jaccard_threshold\", legend=\"full\")"
   ]
  },
  {
   "cell_type": "code",
   "execution_count": null,
   "metadata": {},
   "outputs": [],
   "source": [
    "#g = sns.FacetGrid(plotDF, row=\"peptide_reference\", col=\"jaccard_threshold\", hue=\"peptide_alphabet\", legend_out= True, height=6, aspect=1) #, style=\"jaccard_threshold\"\n",
    "#g = g.map(plt.plot, \"peptide_ksize\", \"precision\", edgecolor=\"w\")"
   ]
  },
  {
   "cell_type": "code",
   "execution_count": null,
   "metadata": {},
   "outputs": [],
   "source": [
    "g = sns.FacetGrid(defaultThresholds, row= \"species\", col=\"peptide_reference\", hue=\"peptide_alphabet\", legend_out= True, height=6, aspect=1) #, style=\"jaccard_threshold\"\n",
    "#g = g.map(plt.scatter, \"peptide_ksize\", \"precision\", edgecolor=\"w\")\n",
    "g = g.map(plt.plot, \"peptide_ksize\", \"precision\") #, edgecolor=\"w\")"
   ]
  },
  {
   "cell_type": "code",
   "execution_count": null,
   "metadata": {},
   "outputs": [],
   "source": [
    "#defaultThresholds=plotDF.loc[plotDF[\"jaccard_threshold\"] == 0.5]\n",
    "#g = sns.FacetGrid(defaultThresholds,col=\"peptide_ksize\", row= \"peptide_reference\",height=6, aspect=1)#, height=2)\n",
    "g = sns.FacetGrid(plotDF,col=\"peptide_ksize\", row= \"peptide_reference\",height=6, aspect=1)\n",
    "g = g.map(plt.plot, \"recall\", \"precision\", marker=\".\")\n",
    "# weird patterns are a result of having all thresholds in same plot - need to break out"
   ]
  },
  {
   "cell_type": "code",
   "execution_count": null,
   "metadata": {},
   "outputs": [],
   "source": [
    "#F1 score vs peptide_ksize\n",
    "sns.lineplot(x=\"peptide_ksize\", y=\"F1_score\", data=plotDF, hue=\"peptide_alphabet\")#, style=\"jaccard_threshold\", legend=\"full\")"
   ]
  },
  {
   "cell_type": "code",
   "execution_count": null,
   "metadata": {},
   "outputs": [],
   "source": [
    "Hsapiens_ref = plotDF.loc[plotDF[\"peptide_reference\"] == \"Homo sapiens QfO\"]\n",
    "Sprot_ref = plotDF.loc[plotDF[\"peptide_reference\"] == \"Swiss Prot\"]\n",
    "#defaultThresholds=plotDF.loc[plotDF[\"jaccard_threshold\"] == 0.5]\n",
    "sns.lineplot(x=\"peptide_ksize\", y=\"F1_score\", data=Hsapiens_ref, hue=\"peptide_alphabet\")#, style=\"jaccard_threshold\", legend=\"full\")"
   ]
  },
  {
   "cell_type": "code",
   "execution_count": null,
   "metadata": {},
   "outputs": [],
   "source": [
    "Sprot_ref = plotDF.loc[plotDF[\"peptide_reference\"] == \"Swiss Prot\"]\n",
    "#defaultThresholds=plotDF.loc[plotDF[\"jaccard_threshold\"] == 0.5]\n",
    "sns.lineplot(x=\"peptide_ksize\", y=\"F1_score\", data=Sprot_ref, hue=\"peptide_alphabet\")#, style=\"jaccard_threshold\", legend=\"full\")"
   ]
  },
  {
   "cell_type": "code",
   "execution_count": null,
   "metadata": {},
   "outputs": [],
   "source": [
    "# to do: better select-threshold\n",
    "sns.lineplot(x=\"peptide_ksize\", y=\"F1_score\", data=defaultThresholds, hue=\"peptide_alphabet\")#, style=\"jaccard_threshold\", legend=\"full\")"
   ]
  },
  {
   "cell_type": "code",
   "execution_count": null,
   "metadata": {},
   "outputs": [],
   "source": [
    "# this isn't very informative - would need rate (%) though here I know total for each - (coding: 500, nc: 500)\n",
    "sns.lineplot(x=\"false_positives\", y=\"true_positives\", data=Sprot_ref, hue=\"peptide_alphabet\")"
   ]
  },
  {
   "cell_type": "code",
   "execution_count": null,
   "metadata": {},
   "outputs": [],
   "source": [
    "defaultThresholds"
   ]
  },
  {
   "cell_type": "code",
   "execution_count": null,
   "metadata": {},
   "outputs": [],
   "source": [
    "sns.lineplot(x=\"divergence_from_human_mya\", y=\"F1_score\", data=defaultThresholds[defaultThresholds[\"peptide_reference\"]==\"Homo sapiens QfO\"], hue=\"peptide_alphabet\")"
   ]
  },
  {
   "cell_type": "code",
   "execution_count": null,
   "metadata": {},
   "outputs": [],
   "source": [
    "sns.lineplot(x=\"divergence_from_human_mya\", y=\"precision\", data=defaultThresholds[defaultThresholds[\"peptide_reference\"]==\"Homo sapiens QfO\"], hue=\"peptide_alphabet\")"
   ]
  },
  {
   "cell_type": "code",
   "execution_count": null,
   "metadata": {},
   "outputs": [],
   "source": [
    "sns.lineplot(x=\"divergence_from_human_mya\", y=\"recall\", data=defaultThresholds[defaultThresholds[\"peptide_reference\"]==\"Homo sapiens QfO\"], hue=\"peptide_alphabet\")"
   ]
  },
  {
   "cell_type": "code",
   "execution_count": null,
   "metadata": {},
   "outputs": [],
   "source": [
    "sns.lineplot(x=\"divergence_from_human_mya\", y=\"F1_score\", data=defaultThresholds[defaultThresholds[\"peptide_reference\"]==\"Swiss Prot\"], hue=\"peptide_alphabet\")"
   ]
  },
  {
   "cell_type": "code",
   "execution_count": null,
   "metadata": {},
   "outputs": [],
   "source": [
    "sns.lineplot(x=\"divergence_from_human_mya\", y=\"precision\", data=defaultThresholds[defaultThresholds[\"peptide_reference\"]==\"Swiss Prot\"], hue=\"peptide_alphabet\")"
   ]
  },
  {
   "cell_type": "code",
   "execution_count": null,
   "metadata": {},
   "outputs": [],
   "source": [
    "sns.lineplot(x=\"divergence_from_human_mya\", y=\"recall\", data=defaultThresholds[defaultThresholds[\"peptide_reference\"]==\"Swiss Prot\"], hue=\"peptide_alphabet\")"
   ]
  },
  {
   "cell_type": "code",
   "execution_count": null,
   "metadata": {},
   "outputs": [],
   "source": [
    "g = sns.FacetGrid(defaultThresholds[defaultThresholds[\"peptide_reference\"]==\"Homo sapiens QfO\"],col=\"peptide_alphabet\")\n",
    "#g = g.map(plt.plot, \"divergence_from_human_mya\",\"F1_score\", marker=\".\")\n",
    "g = g.map(plt.scatter, \"divergence_from_human_mya\", \"F1_score\", edgecolor=\"w\")#, style=\"peptide_ksize\")"
   ]
  },
  {
   "cell_type": "code",
   "execution_count": null,
   "metadata": {},
   "outputs": [],
   "source": [
    "defaultThresholds"
   ]
  },
  {
   "cell_type": "code",
   "execution_count": null,
   "metadata": {},
   "outputs": [],
   "source": []
  },
  {
   "cell_type": "code",
   "execution_count": null,
   "metadata": {},
   "outputs": [],
   "source": [
    "#df.loc[df.reset_index().groupby(['F_Type'])['to_date'].idxmax()]\n",
    "#bestF1 = defaultThresholds[defaultThresholds.groupby([\"species\"])[\"F1_score\"]].idxmax()]\n",
    "\n",
    "bestF1=defaultThresholds.loc[defaultThresholds.groupby([\"species\", \"divergence_from_human_mya\", \"peptide_alphabet\", \"peptide_reference\"])[\"F1_score\"].idxmax()]"
   ]
  },
  {
   "cell_type": "code",
   "execution_count": null,
   "metadata": {},
   "outputs": [],
   "source": [
    "#bF1=bestF1.reset_index()"
   ]
  },
  {
   "cell_type": "code",
   "execution_count": null,
   "metadata": {},
   "outputs": [],
   "source": [
    "bestF1"
   ]
  },
  {
   "cell_type": "code",
   "execution_count": null,
   "metadata": {},
   "outputs": [],
   "source": []
  },
  {
   "cell_type": "code",
   "execution_count": null,
   "metadata": {},
   "outputs": [],
   "source": []
  },
  {
   "cell_type": "code",
   "execution_count": null,
   "metadata": {},
   "outputs": [],
   "source": [
    "sns.lineplot(data=bestF1.loc[plotDF[\"peptide_reference\"] == \"Homo sapiens QfO\"], x=\"peptide_ksize\", y=\"F1_score\",hue=\"peptide_alphabet\")"
   ]
  },
  {
   "cell_type": "code",
   "execution_count": null,
   "metadata": {},
   "outputs": [],
   "source": [
    "sns.pointplot(data=bestF1.loc[bestF1[\"peptide_reference\"] == \"Homo sapiens QfO\"], x=\"peptide_ksize\", y=\"F1_score\",hue=\"peptide_alphabet\", edgecolor=\"w\")"
   ]
  },
  {
   "cell_type": "code",
   "execution_count": null,
   "metadata": {},
   "outputs": [],
   "source": [
    "g = sns.FacetGrid(bestF1[bestF1[\"peptide_reference\"]==\"Homo sapiens QfO\"],col=\"divergence_from_human_mya\")\n",
    "\n",
    "#g = g.map(plt.plot, \"peptide_ksize\",\"F1_score\", marker=\".\")\n",
    "g = g.map(plt.scatter, \"peptide_ksize\", \"F1_score\", edgecolor=\"w\")#, style=\"peptide_ksize\")"
   ]
  },
  {
   "cell_type": "code",
   "execution_count": null,
   "metadata": {},
   "outputs": [],
   "source": [
    "g = sns.catplot(x=\"peptide_ksize\", y=\"F1_score\",hue=\"peptide_alphabet\", col=\"divergence_from_human_mya\",data=bestF1[bestF1[\"peptide_reference\"]==\"Homo sapiens QfO\"], kind=\"point\", dodge=True, height=4, aspect=1);"
   ]
  },
  {
   "cell_type": "code",
   "execution_count": null,
   "metadata": {},
   "outputs": [],
   "source": []
  }
 ],
 "metadata": {
  "kernelspec": {
   "display_name": "Python 3",
   "language": "python",
   "name": "python3"
  },
  "language_info": {
   "codemirror_mode": {
    "name": "ipython",
    "version": 3
   },
   "file_extension": ".py",
   "mimetype": "text/x-python",
   "name": "python",
   "nbconvert_exporter": "python",
   "pygments_lexer": "ipython3",
   "version": "3.6.7"
  }
 },
 "nbformat": 4,
 "nbformat_minor": 4
}
