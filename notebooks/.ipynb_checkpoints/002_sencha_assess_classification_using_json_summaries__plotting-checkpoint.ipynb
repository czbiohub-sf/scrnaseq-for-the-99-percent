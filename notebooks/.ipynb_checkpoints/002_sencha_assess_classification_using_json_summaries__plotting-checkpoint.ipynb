{
 "cells": [
  {
   "cell_type": "code",
   "execution_count": null,
   "metadata": {},
   "outputs": [],
   "source": [
    "import json\n",
    "import glob\n",
    "import pandas as pd\n",
    "from pandas import json_normalize\n",
    "\n",
    "from sklearn.metrics import f1_score\n",
    "from sklearn.metrics import roc_auc_score #average_precision_score"
   ]
  },
  {
   "cell_type": "code",
   "execution_count": null,
   "metadata": {},
   "outputs": [],
   "source": [
    "pd.__version__"
   ]
  },
  {
   "cell_type": "code",
   "execution_count": null,
   "metadata": {},
   "outputs": [],
   "source": [
    "plotDF = pd.read_csv(\"QfO_vertebrates_s100_sencha_translate_summaries.csv\", index_col=0)"
   ]
  },
  {
   "cell_type": "code",
   "execution_count": null,
   "metadata": {},
   "outputs": [],
   "source": [
    "#plotDF[\"peptide_reference\"] = plotDF[\"peptide_bloom_filter\"].str.extract"
   ]
  },
  {
   "cell_type": "code",
   "execution_count": null,
   "metadata": {},
   "outputs": [],
   "source": []
  },
  {
   "cell_type": "code",
   "execution_count": null,
   "metadata": {},
   "outputs": [],
   "source": []
  },
  {
   "cell_type": "code",
   "execution_count": null,
   "metadata": {},
   "outputs": [],
   "source": [
    "import numpy as np\n",
    "import pandas as pd\n",
    "import seaborn as sns\n",
    "import matplotlib.pyplot as plt\n",
    "sns.set(style=\"white\")"
   ]
  },
  {
   "cell_type": "code",
   "execution_count": null,
   "metadata": {},
   "outputs": [],
   "source": [
    "\n",
    "HsapiensDF = plotDF[(plotDF[\"species\"] == \"Homo sapiens\")]\n",
    "sns.scatterplot(x=\"peptide_ksize\", y=\"precision\", data=HsapiensDF, hue=\"peptide_alphabet\" )#, style=\"jaccard_threshold\", legend=\"full\")"
   ]
  },
  {
   "cell_type": "code",
   "execution_count": null,
   "metadata": {},
   "outputs": [],
   "source": [
    "sns.lineplot(x=\"peptide_ksize\", y=\"precision\", data=HsapiensDF, hue=\"peptide_alphabet\")#, style=\"jaccard_threshold\", legend=\"full\")"
   ]
  },
  {
   "cell_type": "code",
   "execution_count": null,
   "metadata": {},
   "outputs": [],
   "source": [
    "sns.lineplot(x=\"peptide_ksize\", y=\"precision\", data=plotDF[(plotDF[\"species\"] == \"Bos_taurus\")], hue=\"peptide_alphabet\")#, style=\"jaccard_threshold\", legend=\"full\")"
   ]
  },
  {
   "cell_type": "code",
   "execution_count": null,
   "metadata": {},
   "outputs": [],
   "source": [
    "#g = sns.FacetGrid(plotDF, row=\"peptide_reference\", col=\"jaccard_threshold\", hue=\"peptide_alphabet\", legend_out= True, height=6, aspect=1) #, style=\"jaccard_threshold\"\n",
    "g = sns.FacetGrid(plotDF, row=\"peptide_reference\", col=\"peptide_alphabet\", hue=\"jaccard_threshold\", legend_out= True, height=6, aspect=1) #, style=\"jaccard_threshold\"\n",
    "g = g.map(plt.scatter, \"peptide_ksize\", \"precision\", edgecolor=\"w\")"
   ]
  },
  {
   "cell_type": "code",
   "execution_count": null,
   "metadata": {},
   "outputs": [],
   "source": [
    "sns.scatterplot(x=\"peptide_ksize\", y=\"precision\", data=plotDF.loc[plotDF[\"peptide_reference\"] == \"Homo sapiens QfO\"], hue=\"peptide_alphabet\")#, style=\"jaccard_threshold\", legend=False)"
   ]
  },
  {
   "cell_type": "code",
   "execution_count": null,
   "metadata": {},
   "outputs": [],
   "source": [
    "sns.scatterplot(x=\"peptide_ksize\", y=\"precision\", data=plotDF.loc[plotDF[\"peptide_reference\"] == \"Swiss Prot\"], hue=\"peptide_alphabet\")#, style=\"jaccard_threshold\", legend=False)\n"
   ]
  },
  {
   "cell_type": "code",
   "execution_count": null,
   "metadata": {},
   "outputs": [],
   "source": [
    "# let's grab just default thresholds\n",
    "#df[df['first_name'].notnull() & (df['nationality'] == \"USA\")]\n",
    "#defaultThresholds=\n",
    "proteinDF = plotDF[(plotDF[\"jaccard_threshold\"] == 0.5) & (plotDF['peptide_alphabet'] ==\"protein\")]\n",
    "dayhoffDF = plotDF[(plotDF[\"jaccard_threshold\"] == 0.5) & (plotDF['peptide_alphabet'] ==\"dayhoff\")]\n",
    "hpDF = plotDF[(plotDF[\"jaccard_threshold\"] == 0.8) & (plotDF['peptide_alphabet'] ==\"hydrophobic-polar\")]\n",
    "defaultThresholds = pd.concat([proteinDF, dayhoffDF, hpDF])\n",
    "\n",
    "\n",
    "#in [\"protein\", \"dayhoff\"])]\n",
    "#dfObj[(dfObj['Sale'] > 30) & (dfObj['Sale'] < 33) ]\n"
   ]
  },
  {
   "cell_type": "code",
   "execution_count": null,
   "metadata": {},
   "outputs": [],
   "source": [
    "defaultThresholds"
   ]
  },
  {
   "cell_type": "code",
   "execution_count": null,
   "metadata": {},
   "outputs": [],
   "source": [
    "hpDF"
   ]
  },
  {
   "cell_type": "code",
   "execution_count": null,
   "metadata": {},
   "outputs": [],
   "source": [
    "sns.lineplot(x=\"recall\", y=\"precision\", data=defaultThresholds, hue=\"peptide_alphabet\")#, style=\"jaccard_threshold\", legend=\"full\")"
   ]
  },
  {
   "cell_type": "code",
   "execution_count": null,
   "metadata": {},
   "outputs": [],
   "source": [
    "#g = sns.FacetGrid(plotDF, row=\"peptide_reference\", col=\"jaccard_threshold\", hue=\"peptide_alphabet\", legend_out= True, height=6, aspect=1) #, style=\"jaccard_threshold\"\n",
    "#g = g.map(plt.plot, \"peptide_ksize\", \"precision\", edgecolor=\"w\")"
   ]
  },
  {
   "cell_type": "code",
   "execution_count": null,
   "metadata": {},
   "outputs": [],
   "source": [
    "g = sns.FacetGrid(defaultThresholds, row= \"species\", col=\"peptide_reference\", hue=\"peptide_alphabet\", legend_out= True, height=6, aspect=1) #, style=\"jaccard_threshold\"\n",
    "#g = g.map(plt.scatter, \"peptide_ksize\", \"precision\", edgecolor=\"w\")\n",
    "g = g.map(plt.plot, \"peptide_ksize\", \"precision\") #, edgecolor=\"w\")"
   ]
  },
  {
   "cell_type": "code",
   "execution_count": null,
   "metadata": {},
   "outputs": [],
   "source": [
    "#defaultThresholds=plotDF.loc[plotDF[\"jaccard_threshold\"] == 0.5]\n",
    "#g = sns.FacetGrid(defaultThresholds,col=\"peptide_ksize\", row= \"peptide_reference\",height=6, aspect=1)#, height=2)\n",
    "g = sns.FacetGrid(plotDF,col=\"peptide_ksize\", row= \"peptide_reference\",height=6, aspect=1)\n",
    "g = g.map(plt.plot, \"recall\", \"precision\", marker=\".\")\n",
    "# weird patterns are a result of having all thresholds in same plot - need to break out"
   ]
  },
  {
   "cell_type": "code",
   "execution_count": null,
   "metadata": {},
   "outputs": [],
   "source": [
    "#F1 score vs peptide_ksize\n",
    "sns.lineplot(x=\"peptide_ksize\", y=\"F1_score\", data=plotDF, hue=\"peptide_alphabet\")#, style=\"jaccard_threshold\", legend=\"full\")"
   ]
  },
  {
   "cell_type": "code",
   "execution_count": null,
   "metadata": {},
   "outputs": [],
   "source": [
    "Hsapiens_ref = plotDF.loc[plotDF[\"peptide_reference\"] == \"Homo sapiens QfO\"]\n",
    "Sprot_ref = plotDF.loc[plotDF[\"peptide_reference\"] == \"Swiss Prot\"]\n",
    "#defaultThresholds=plotDF.loc[plotDF[\"jaccard_threshold\"] == 0.5]\n",
    "sns.lineplot(x=\"peptide_ksize\", y=\"F1_score\", data=Hsapiens_ref, hue=\"peptide_alphabet\")#, style=\"jaccard_threshold\", legend=\"full\")"
   ]
  },
  {
   "cell_type": "code",
   "execution_count": null,
   "metadata": {},
   "outputs": [],
   "source": [
    "Sprot_ref = plotDF.loc[plotDF[\"peptide_reference\"] == \"Swiss Prot\"]\n",
    "#defaultThresholds=plotDF.loc[plotDF[\"jaccard_threshold\"] == 0.5]\n",
    "sns.lineplot(x=\"peptide_ksize\", y=\"F1_score\", data=Sprot_ref, hue=\"peptide_alphabet\")#, style=\"jaccard_threshold\", legend=\"full\")"
   ]
  },
  {
   "cell_type": "code",
   "execution_count": null,
   "metadata": {},
   "outputs": [],
   "source": [
    "# to do: better select-threshold\n",
    "sns.lineplot(x=\"peptide_ksize\", y=\"F1_score\", data=defaultThresholds, hue=\"peptide_alphabet\")#, style=\"jaccard_threshold\", legend=\"full\")"
   ]
  },
  {
   "cell_type": "code",
   "execution_count": null,
   "metadata": {},
   "outputs": [],
   "source": [
    "# this isn't very informative - would need rate (%) though here I know total for each - (coding: 500, nc: 500)\n",
    "sns.lineplot(x=\"false_positives\", y=\"true_positives\", data=Sprot_ref, hue=\"peptide_alphabet\")"
   ]
  },
  {
   "cell_type": "code",
   "execution_count": null,
   "metadata": {},
   "outputs": [],
   "source": [
    "defaultThresholds"
   ]
  },
  {
   "cell_type": "code",
   "execution_count": null,
   "metadata": {},
   "outputs": [],
   "source": [
    "sns.lineplot(x=\"divergence_from_human_mya\", y=\"F1_score\", data=defaultThresholds[defaultThresholds[\"peptide_reference\"]==\"Homo sapiens QfO\"], hue=\"peptide_alphabet\")"
   ]
  },
  {
   "cell_type": "code",
   "execution_count": null,
   "metadata": {},
   "outputs": [],
   "source": [
    "sns.lineplot(x=\"divergence_from_human_mya\", y=\"precision\", data=defaultThresholds[defaultThresholds[\"peptide_reference\"]==\"Homo sapiens QfO\"], hue=\"peptide_alphabet\")"
   ]
  },
  {
   "cell_type": "code",
   "execution_count": null,
   "metadata": {},
   "outputs": [],
   "source": [
    "sns.lineplot(x=\"divergence_from_human_mya\", y=\"recall\", data=defaultThresholds[defaultThresholds[\"peptide_reference\"]==\"Homo sapiens QfO\"], hue=\"peptide_alphabet\")"
   ]
  },
  {
   "cell_type": "code",
   "execution_count": null,
   "metadata": {},
   "outputs": [],
   "source": [
    "sns.lineplot(x=\"divergence_from_human_mya\", y=\"F1_score\", data=defaultThresholds[defaultThresholds[\"peptide_reference\"]==\"Swiss Prot\"], hue=\"peptide_alphabet\")"
   ]
  },
  {
   "cell_type": "code",
   "execution_count": null,
   "metadata": {},
   "outputs": [],
   "source": [
    "sns.lineplot(x=\"divergence_from_human_mya\", y=\"precision\", data=defaultThresholds[defaultThresholds[\"peptide_reference\"]==\"Swiss Prot\"], hue=\"peptide_alphabet\")"
   ]
  },
  {
   "cell_type": "code",
   "execution_count": null,
   "metadata": {},
   "outputs": [],
   "source": [
    "sns.lineplot(x=\"divergence_from_human_mya\", y=\"recall\", data=defaultThresholds[defaultThresholds[\"peptide_reference\"]==\"Swiss Prot\"], hue=\"peptide_alphabet\")"
   ]
  },
  {
   "cell_type": "code",
   "execution_count": null,
   "metadata": {},
   "outputs": [],
   "source": [
    "g = sns.FacetGrid(defaultThresholds[defaultThresholds[\"peptide_reference\"]==\"Homo sapiens QfO\"],col=\"peptide_alphabet\")\n",
    "#g = g.map(plt.plot, \"divergence_from_human_mya\",\"F1_score\", marker=\".\")\n",
    "g = g.map(plt.scatter, \"divergence_from_human_mya\", \"F1_score\", edgecolor=\"w\")#, style=\"peptide_ksize\")"
   ]
  },
  {
   "cell_type": "code",
   "execution_count": null,
   "metadata": {},
   "outputs": [],
   "source": [
    "defaultThresholds"
   ]
  },
  {
   "cell_type": "code",
   "execution_count": null,
   "metadata": {},
   "outputs": [],
   "source": []
  },
  {
   "cell_type": "code",
   "execution_count": null,
   "metadata": {},
   "outputs": [],
   "source": [
    "#df.loc[df.reset_index().groupby(['F_Type'])['to_date'].idxmax()]\n",
    "#bestF1 = defaultThresholds[defaultThresholds.groupby([\"species\"])[\"F1_score\"]].idxmax()]\n",
    "\n",
    "bestF1=defaultThresholds.loc[defaultThresholds.groupby([\"species\", \"divergence_from_human_mya\", \"peptide_alphabet\", \"peptide_reference\"])[\"F1_score\"].idxmax()]"
   ]
  },
  {
   "cell_type": "code",
   "execution_count": null,
   "metadata": {},
   "outputs": [],
   "source": [
    "#bF1=bestF1.reset_index()"
   ]
  },
  {
   "cell_type": "code",
   "execution_count": null,
   "metadata": {},
   "outputs": [],
   "source": [
    "bestF1"
   ]
  },
  {
   "cell_type": "code",
   "execution_count": null,
   "metadata": {},
   "outputs": [],
   "source": []
  },
  {
   "cell_type": "code",
   "execution_count": null,
   "metadata": {},
   "outputs": [],
   "source": []
  },
  {
   "cell_type": "code",
   "execution_count": null,
   "metadata": {},
   "outputs": [],
   "source": [
    "sns.lineplot(data=bestF1.loc[plotDF[\"peptide_reference\"] == \"Homo sapiens QfO\"], x=\"peptide_ksize\", y=\"F1_score\",hue=\"peptide_alphabet\")"
   ]
  },
  {
   "cell_type": "code",
   "execution_count": null,
   "metadata": {},
   "outputs": [],
   "source": [
    "sns.pointplot(data=bestF1.loc[bestF1[\"peptide_reference\"] == \"Homo sapiens QfO\"], x=\"peptide_ksize\", y=\"F1_score\",hue=\"peptide_alphabet\", edgecolor=\"w\")"
   ]
  },
  {
   "cell_type": "code",
   "execution_count": null,
   "metadata": {},
   "outputs": [],
   "source": [
    "g = sns.FacetGrid(bestF1[bestF1[\"peptide_reference\"]==\"Homo sapiens QfO\"],col=\"divergence_from_human_mya\")\n",
    "\n",
    "#g = g.map(plt.plot, \"peptide_ksize\",\"F1_score\", marker=\".\")\n",
    "g = g.map(plt.scatter, \"peptide_ksize\", \"F1_score\", edgecolor=\"w\")#, style=\"peptide_ksize\")"
   ]
  },
  {
   "cell_type": "code",
   "execution_count": null,
   "metadata": {},
   "outputs": [],
   "source": [
    "g = sns.catplot(x=\"peptide_ksize\", y=\"F1_score\",hue=\"peptide_alphabet\", col=\"divergence_from_human_mya\",data=bestF1[bestF1[\"peptide_reference\"]==\"Homo sapiens QfO\"], kind=\"point\", dodge=True, height=4, aspect=1);"
   ]
  },
  {
   "cell_type": "markdown",
   "metadata": {},
   "source": [
    "## Get \"Best\" ksize/molecule type for each divergence tiem"
   ]
  },
  {
   "cell_type": "code",
   "execution_count": null,
   "metadata": {},
   "outputs": [],
   "source": [
    "g = sns.factorplot(x='divergence_from_human_mya', y='peptide_ksize', data=bestF1, hue='peptide_alphabet')"
   ]
  },
  {
   "cell_type": "code",
   "execution_count": null,
   "metadata": {},
   "outputs": [],
   "source": [
    "bestF1.head()"
   ]
  },
  {
   "cell_type": "code",
   "execution_count": null,
   "metadata": {},
   "outputs": [],
   "source": [
    "bestF1.nlargest()"
   ]
  },
  {
   "cell_type": "code",
   "execution_count": null,
   "metadata": {},
   "outputs": [],
   "source": [
    "bestF1_per_divergence = bestF1.groupby('divergence_from_human_mya').apply(lambda x: x.nlargest(1, 'F1_score') )\n",
    "bestF1_per_divergence"
   ]
  },
  {
   "cell_type": "code",
   "execution_count": null,
   "metadata": {},
   "outputs": [],
   "source": [
    "g = sns.factorplot(x='divergence_from_human_mya', y='peptide_ksize', data=bestF1_per_divergence, hue='peptide_alphabet')\n",
    "\n",
    "for ax in g.axes.flat:\n",
    "    ax.set(yticks=np.arange(5, 30))\n",
    "    \n",
    "    line_kws = dict(color='grey', linestyle='--', zorder=-1)\n",
    "    ax.axhline(7, **line_kws)\n",
    "    ax.axhline(12, **line_kws)\n",
    "    ax.axhline(25, **line_kws)"
   ]
  },
  {
   "cell_type": "code",
   "execution_count": null,
   "metadata": {},
   "outputs": [],
   "source": []
  }
 ],
 "metadata": {
  "kernelspec": {
   "display_name": "Python 3",
   "language": "python",
   "name": "python3"
  },
  "language_info": {
   "codemirror_mode": {
    "name": "ipython",
    "version": 3
   },
   "file_extension": ".py",
   "mimetype": "text/x-python",
   "name": "python",
   "nbconvert_exporter": "python",
   "pygments_lexer": "ipython3",
   "version": "3.6.7"
  }
 },
 "nbformat": 4,
 "nbformat_minor": 4
}
