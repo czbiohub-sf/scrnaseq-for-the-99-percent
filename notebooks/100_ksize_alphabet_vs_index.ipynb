{
 "cells": [
  {
   "cell_type": "markdown",
   "metadata": {},
   "source": [
    "# Imports"
   ]
  },
  {
   "cell_type": "code",
   "execution_count": 1,
   "metadata": {},
   "outputs": [],
   "source": [
    "import itertools\n",
    "import math\n",
    "\n",
    "from joblib import Parallel, delayed\n",
    "import khmer\n",
    "import numpy as np\n",
    "import pandas as pd\n",
    "import screed\n",
    "import seaborn as sns\n",
    "import sencha\n",
    "from tqdm import tqdm\n",
    "\n",
    "\n",
    "%load_ext autoreload\n",
    "%autoreload 2\n",
    "\n",
    "\n"
   ]
  },
  {
   "cell_type": "code",
   "execution_count": 2,
   "metadata": {},
   "outputs": [
    {
     "data": {
      "text/plain": [
       "'/home/olga/code/sencha/sencha/__init__.py'"
      ]
     },
     "execution_count": 2,
     "metadata": {},
     "output_type": "execute_result"
    }
   ],
   "source": [
    "sencha.__file__"
   ]
  },
  {
   "cell_type": "markdown",
   "metadata": {},
   "source": [
    "Files from https://osf.io/f8eq3/files/"
   ]
  },
  {
   "cell_type": "code",
   "execution_count": 3,
   "metadata": {},
   "outputs": [
    {
     "name": "stdout",
     "output_type": "stream",
     "text": [
      "-rw-r--r-- 1 olga czb  78M Jun  4 17:06 /home/olga/data_lg/czbiohub-reference/uniprot/releases/2019_11/manually_downloaded/uniprot-reviewed_yes__NOT_taxonomy__Eukaryota_9EUKA_2759.fasta.gz\n",
      "-rw-r--r-- 1 olga czb  55M Feb 20 16:06 /home/olga/data_lg/czbiohub-reference/uniprot/releases/2019_11/manually_downloaded/uniprot-reviewed_yes+taxonomy_2759.fasta.gz\n",
      "-rw-r--r-- 1 olga czb 4.1M Jun  4 17:06 /home/olga/data_lg/czbiohub-reference/uniprot/releases/2019_11/manually_downloaded/uniprot-reviewed_yes__taxonomy_Archea_2157.fasta.gz\n",
      "-rw-r--r-- 1 olga czb  69M Jun  4 17:06 /home/olga/data_lg/czbiohub-reference/uniprot/releases/2019_11/manually_downloaded/uniprot-reviewed_yes__taxonomy__Bacteria_9BACT.fasta.gz\n",
      "-rw-r--r-- 1 olga czb  22M May 23 10:21 /home/olga/data_lg/czbiohub-reference/uniprot/releases/2019_11/manually_downloaded/uniprot-reviewed_yes+taxonomy_Mammalia_9MAMM_40674.fasta.gz\n",
      "-rw-r--r-- 1 olga czb  43M May 23 10:17 /home/olga/data_lg/czbiohub-reference/uniprot/releases/2019_11/manually_downloaded/uniprot-reviewed_yes+taxonomy_Opisthokonta_33154.fasta.gz\n",
      "-rw-rw-r-- 1 olga czb  86M Mar 19 09:39 /home/olga/data_lg/czbiohub-reference/uniprot/releases/2019_11/manually_downloaded/uniprot_sprot.fasta.gz\n"
     ]
    }
   ],
   "source": [
    "uniprot_folder = '/home/olga/data_lg/czbiohub-reference/uniprot/releases/2019_11/manually_downloaded'\n",
    "! ls -lha $uniprot_folder/uniprot*.fasta.gz"
   ]
  },
  {
   "cell_type": "code",
   "execution_count": 4,
   "metadata": {},
   "outputs": [],
   "source": [
    "# \n",
    "# ! ls -1 $uniprot_folder/uniprot_sprot*"
   ]
  },
  {
   "cell_type": "code",
   "execution_count": null,
   "metadata": {},
   "outputs": [],
   "source": []
  },
  {
   "cell_type": "code",
   "execution_count": 5,
   "metadata": {},
   "outputs": [
    {
     "data": {
      "text/plain": [
       "8.359750080865052"
      ]
     },
     "execution_count": 5,
     "metadata": {},
     "output_type": "execute_result"
    }
   ],
   "source": [
    "PROTEIN_SIGMA = 20\n",
    "\n",
    "def get_equivalent_protein_ksize(protein_ksize, sigma):\n",
    "    return protein_ksize * math.log(PROTEIN_SIGMA) / math.log(sigma)\n",
    "\n",
    "get_equivalent_protein_ksize(protein_ksize=5, sigma=6)"
   ]
  },
  {
   "cell_type": "code",
   "execution_count": 6,
   "metadata": {},
   "outputs": [
    {
     "name": "stdout",
     "output_type": "stream",
     "text": [
      "2\t38.90\n",
      "3\t24.54\n",
      "4\t19.45\n",
      "5\t16.75\n",
      "6\t15.05\n",
      "7\t13.86\n",
      "8\t12.97\n",
      "9\t12.27\n",
      "10\t11.71\n",
      "11\t11.24\n",
      "12\t10.85\n",
      "13\t10.51\n",
      "14\t10.22\n",
      "15\t9.96\n",
      "16\t9.72\n",
      "17\t9.52\n",
      "18\t9.33\n",
      "19\t9.16\n"
     ]
    }
   ],
   "source": [
    "for i in range(2, 20):\n",
    "    k = get_equivalent_protein_ksize(protein_ksize=9, sigma=i)\n",
    "    print(f'{i}\\t{k:.2f}')"
   ]
  },
  {
   "cell_type": "code",
   "execution_count": 7,
   "metadata": {},
   "outputs": [
    {
     "data": {
      "text/plain": [
       "15.047550145557093"
      ]
     },
     "execution_count": 7,
     "metadata": {},
     "output_type": "execute_result"
    }
   ],
   "source": [
    "get_equivalent_protein_ksize(protein_ksize=9, sigma=6)"
   ]
  },
  {
   "cell_type": "code",
   "execution_count": 8,
   "metadata": {},
   "outputs": [
    {
     "data": {
      "text/plain": [
       "38.89735285398626"
      ]
     },
     "execution_count": 8,
     "metadata": {},
     "output_type": "execute_result"
    }
   ],
   "source": [
    "get_equivalent_protein_ksize(protein_ksize=9, sigma=2)"
   ]
  },
  {
   "cell_type": "code",
   "execution_count": 9,
   "metadata": {},
   "outputs": [
    {
     "data": {
      "text/plain": [
       "12.965784284662087"
      ]
     },
     "execution_count": 9,
     "metadata": {},
     "output_type": "execute_result"
    }
   ],
   "source": [
    "get_equivalent_protein_ksize(protein_ksize=9, sigma=8)"
   ]
  },
  {
   "cell_type": "code",
   "execution_count": 10,
   "metadata": {},
   "outputs": [
    {
     "data": {
      "text/plain": [
       "20.063400194076124"
      ]
     },
     "execution_count": 10,
     "metadata": {},
     "output_type": "execute_result"
    }
   ],
   "source": [
    "get_equivalent_protein_ksize(protein_ksize=12, sigma=6)"
   ]
  },
  {
   "cell_type": "code",
   "execution_count": 11,
   "metadata": {},
   "outputs": [
    {
     "data": {
      "text/plain": [
       "21.609640474436812"
      ]
     },
     "execution_count": 11,
     "metadata": {},
     "output_type": "execute_result"
    }
   ],
   "source": [
    "get_equivalent_protein_ksize(protein_ksize=5, sigma=2)"
   ]
  },
  {
   "cell_type": "code",
   "execution_count": 12,
   "metadata": {},
   "outputs": [
    {
     "data": {
      "text/plain": [
       "60.50699332842307"
      ]
     },
     "execution_count": 12,
     "metadata": {},
     "output_type": "execute_result"
    }
   ],
   "source": [
    "get_equivalent_protein_ksize(protein_ksize=14, sigma=2)"
   ]
  },
  {
   "cell_type": "markdown",
   "metadata": {},
   "source": [
    "# Define fastas and ksizes"
   ]
  },
  {
   "cell_type": "code",
   "execution_count": 13,
   "metadata": {},
   "outputs": [],
   "source": [
    "mammalia_fasta = f'{uniprot_folder}/uniprot-reviewed_yes+taxonomy_Mammalia_9MAMM_40674.fasta.gz'\n",
    "eukaryota_fasta = f'{uniprot_folder}/uniprot-reviewed_yes+taxonomy_2759.fasta.gz'\n",
    "opsithokonta_fasta = f'{uniprot_folder}/uniprot-reviewed_yes+taxonomy_Opisthokonta_33154.fasta.gz'\n",
    "swissprot_fasta = f'{uniprot_folder}/uniprot_sprot.fasta.gz'\n",
    "not_eukaryota_fasta = f'{uniprot_folder}/uniprot-reviewed_yes__NOT_taxonomy__Eukaryota_9EUKA_2759.fasta.gz'\n",
    "bacteria_fasta = f'{uniprot_folder}/uniprot-reviewed_yes__taxonomy__Bacteria_9BACT.fasta.gz'\n",
    "archea_fasta = f'{uniprot_folder}/uniprot-reviewed_yes__taxonomy_Archea_2157.fasta.gz'\n",
    "uniref_fasta = '/home/olga/data_lg/czbiohub-reference/uniprot/releases/2019_11/uniref/uniref100/uniref100.fasta.gz'\n",
    "\n",
    "fastas = {\n",
    "    \"mammalia\": mammalia_fasta,\n",
    "    \"eukaryota\": eukaryota_fasta,\n",
    "    \"opisthokonta\": opsithokonta_fasta,\n",
    "    \"swissprot\": swissprot_fasta,\n",
    "    \"not_eukaryota\": not_eukaryota_fasta,\n",
    "    \"bacteria\": bacteria_fasta,\n",
    "    \"archea\": archea_fasta,\n",
    "#     \"uniref\": uniref_fasta,\n",
    "}\n"
   ]
  },
  {
   "cell_type": "code",
   "execution_count": 14,
   "metadata": {},
   "outputs": [],
   "source": [
    "from sencha.index import maybe_save_peptide_index, make_peptide_index, ALPHABET_SIZES"
   ]
  },
  {
   "cell_type": "markdown",
   "metadata": {},
   "source": [
    "## Make an index with just mammalian sequences for checking/debugging"
   ]
  },
  {
   "cell_type": "code",
   "execution_count": 15,
   "metadata": {},
   "outputs": [
    {
     "name": "stderr",
     "output_type": "stream",
     "text": [
      "67241it [01:03, 1055.94it/s]\n"
     ]
    },
    {
     "data": {
      "text/plain": [
       "0"
      ]
     },
     "execution_count": 15,
     "metadata": {},
     "output_type": "execute_result"
    }
   ],
   "source": [
    "mammal_index = make_peptide_index(mammalia_fasta, peptide_ksize=9, molecule='protein', debug=False)\n",
    "\n",
    "khmer.calc_expected_collisions(mammal_index)\n",
    "\n",
    "mammal_index.n_unique_kmers()\n",
    "\n",
    "\n",
    "index_filename = 'mammal_index__ksize-9__molecule-protein.bloomfilter'\n",
    "mammal_index.save(index_filename)\n",
    "\n",
    "mammal_index_loaded = khmer.Nodegraph.load(index_filename)\n",
    "mammal_index_loaded.n_unique_kmers()"
   ]
  },
  {
   "cell_type": "markdown",
   "metadata": {},
   "source": [
    "## Count number of sequences and total length of sequences per database"
   ]
  },
  {
   "cell_type": "code",
   "execution_count": 16,
   "metadata": {},
   "outputs": [],
   "source": [
    "# lengths = {}\n",
    "# n_sequences = {}\n",
    "\n",
    "# for name, fasta in fastas.items():\n",
    "#     print(name)\n",
    "#     length = 0\n",
    "#     n_seqs = 0\n",
    "#     with screed.open(fasta) as records:\n",
    "#         for record in tqdm(records):\n",
    "#             length += len(record['sequence'])\n",
    "#             n_seqs += 1\n",
    "#     n_sequences[name] = n_seqs \n",
    "#     lengths[name] = length"
   ]
  },
  {
   "cell_type": "markdown",
   "metadata": {},
   "source": [
    "### Make dataframe and write to file"
   ]
  },
  {
   "cell_type": "code",
   "execution_count": 17,
   "metadata": {},
   "outputs": [],
   "source": [
    "# fasta_sizes = pd.DataFrame({'n_sequences': n_sequences, 'n_residues': lengths})\n",
    "# fasta_sizes['n_residues_log10'] = np.log10(fasta_sizes['n_residues'])\n",
    "# fasta_sizes['n_sequences_log10'] = np.log10(fasta_sizes['n_sequences'])\n",
    "# fasta_sizes['tablesize_log10'] = np.ceil(fasta_sizes['n_residues_log10']).astype(int)\n",
    "# fasta_sizes['tablesize'] = np.power(10, fasta_sizes['tablesize_log10'])\n",
    "# fasta_sizes.to_csv('total_sequence_lengths.csv')\n",
    "# fasta_sizes"
   ]
  },
  {
   "cell_type": "code",
   "execution_count": 18,
   "metadata": {},
   "outputs": [
    {
     "name": "stdout",
     "output_type": "stream",
     "text": [
      "(8, 5)\n"
     ]
    },
    {
     "data": {
      "text/html": [
       "<div>\n",
       "<style scoped>\n",
       "    .dataframe tbody tr th:only-of-type {\n",
       "        vertical-align: middle;\n",
       "    }\n",
       "\n",
       "    .dataframe tbody tr th {\n",
       "        vertical-align: top;\n",
       "    }\n",
       "\n",
       "    .dataframe thead th {\n",
       "        text-align: right;\n",
       "    }\n",
       "</style>\n",
       "<table border=\"1\" class=\"dataframe\">\n",
       "  <thead>\n",
       "    <tr style=\"text-align: right;\">\n",
       "      <th></th>\n",
       "      <th>n_sequences</th>\n",
       "      <th>n_residues</th>\n",
       "      <th>n_residues_log10</th>\n",
       "      <th>n_sequences_log10</th>\n",
       "      <th>tablesize</th>\n",
       "    </tr>\n",
       "  </thead>\n",
       "  <tbody>\n",
       "    <tr>\n",
       "      <th>mammalia</th>\n",
       "      <td>67241</td>\n",
       "      <td>33332118</td>\n",
       "      <td>7.522863</td>\n",
       "      <td>4.827634</td>\n",
       "      <td>8</td>\n",
       "    </tr>\n",
       "    <tr>\n",
       "      <th>eukaryota</th>\n",
       "      <td>190642</td>\n",
       "      <td>83870914</td>\n",
       "      <td>7.923611</td>\n",
       "      <td>5.280219</td>\n",
       "      <td>8</td>\n",
       "    </tr>\n",
       "    <tr>\n",
       "      <th>opisthokonta</th>\n",
       "      <td>141854</td>\n",
       "      <td>64718973</td>\n",
       "      <td>7.811032</td>\n",
       "      <td>5.151842</td>\n",
       "      <td>8</td>\n",
       "    </tr>\n",
       "    <tr>\n",
       "      <th>swissprot</th>\n",
       "      <td>561911</td>\n",
       "      <td>202173710</td>\n",
       "      <td>8.305725</td>\n",
       "      <td>5.749668</td>\n",
       "      <td>9</td>\n",
       "    </tr>\n",
       "    <tr>\n",
       "      <th>not_eukaryota</th>\n",
       "      <td>371102</td>\n",
       "      <td>118211069</td>\n",
       "      <td>8.072658</td>\n",
       "      <td>5.569493</td>\n",
       "      <td>9</td>\n",
       "    </tr>\n",
       "  </tbody>\n",
       "</table>\n",
       "</div>"
      ],
      "text/plain": [
       "               n_sequences  n_residues  n_residues_log10  n_sequences_log10  \\\n",
       "mammalia             67241    33332118          7.522863           4.827634   \n",
       "eukaryota           190642    83870914          7.923611           5.280219   \n",
       "opisthokonta        141854    64718973          7.811032           5.151842   \n",
       "swissprot           561911   202173710          8.305725           5.749668   \n",
       "not_eukaryota       371102   118211069          8.072658           5.569493   \n",
       "\n",
       "               tablesize  \n",
       "mammalia               8  \n",
       "eukaryota              8  \n",
       "opisthokonta           8  \n",
       "swissprot              9  \n",
       "not_eukaryota          9  "
      ]
     },
     "execution_count": 18,
     "metadata": {},
     "output_type": "execute_result"
    }
   ],
   "source": [
    "fasta_sizes = pd.read_csv('total_sequence_lengths.csv', index_col=0)\n",
    "print(fasta_sizes.shape)\n",
    "fasta_sizes.head()"
   ]
  },
  {
   "cell_type": "markdown",
   "metadata": {},
   "source": [
    "# Make a bunch of sencha indices, compute number of unique k-mers"
   ]
  },
  {
   "cell_type": "code",
   "execution_count": 19,
   "metadata": {},
   "outputs": [],
   "source": [
    "# fastas_minus_all = {'mammalia': mammalia_fasta, 'eukaryota': eukaryota_fasta, \n",
    "#           'opisthokonta': opsithokonta_fasta         }\n"
   ]
  },
  {
   "cell_type": "code",
   "execution_count": 20,
   "metadata": {},
   "outputs": [],
   "source": [
    "\n",
    "\n",
    "lines = []\n",
    "\n",
    "def create_index_and_compute_stats(name, fasta, alphabet, ksize, tablesize=int(1e8)):\n",
    "    index = make_peptide_index(fasta, ksize, alphabet, tablesize=tablesize, force=True)\n",
    "    expected_collisions = khmer.calc_expected_collisions(index)\n",
    "    maybe_save_peptide_index(fasta, index, alphabet, save_peptide_index=True)\n",
    "\n",
    "    n_unique_kmers = index.n_unique_kmers()\n",
    "    sigma = ALPHABET_SIZES[alphabet]\n",
    "    line = [name, alphabet, ksize, sigma, expected_collisions, n_unique_kmers]\n",
    "    del index\n",
    "    return line"
   ]
  },
  {
   "cell_type": "code",
   "execution_count": 21,
   "metadata": {},
   "outputs": [],
   "source": [
    "N_JOBS = 32\n",
    "\n",
    "\n",
    "def format_index_stats(lines):\n",
    "    columns = ['name', 'molecule', 'ksize', 'sigma', 'expected_collisions', 'n_unique_kmers']\n",
    "    df = pd.DataFrame(lines, columns=columns)\n",
    "    df['n_theoretical_kmers_log10'] = df['ksize'] * np.log10(df['sigma'])\n",
    "    df['n_unique_kmers_log10'] = np.log10(df['n_unique_kmers'])\n",
    "    df['unique_over_theoretical_log10'] = df['n_unique_kmers_log10'] - df['n_theoretical_kmers_log10']\n",
    "    return df"
   ]
  },
  {
   "cell_type": "code",
   "execution_count": null,
   "metadata": {},
   "outputs": [
    {
     "name": "stdout",
     "output_type": "stream",
     "text": [
      "name: mammalia\n"
     ]
    },
    {
     "name": "stderr",
     "output_type": "stream",
     "text": [
      "[Parallel(n_jobs=32)]: Using backend LokyBackend with 32 concurrent workers.\n",
      "[Parallel(n_jobs=32)]: Done 147 out of 147 | elapsed:  6.8min finished\n",
      "[Parallel(n_jobs=32)]: Using backend LokyBackend with 32 concurrent workers.\n"
     ]
    },
    {
     "name": "stdout",
     "output_type": "stream",
     "text": [
      "name: eukaryota\n"
     ]
    },
    {
     "name": "stderr",
     "output_type": "stream",
     "text": [
      "[Parallel(n_jobs=32)]: Done 147 out of 147 | elapsed: 14.8min finished\n",
      "[Parallel(n_jobs=32)]: Using backend LokyBackend with 32 concurrent workers.\n"
     ]
    },
    {
     "name": "stdout",
     "output_type": "stream",
     "text": [
      "name: opisthokonta\n"
     ]
    },
    {
     "name": "stderr",
     "output_type": "stream",
     "text": [
      "[Parallel(n_jobs=32)]: Done 147 out of 147 | elapsed: 11.5min finished\n",
      "[Parallel(n_jobs=32)]: Using backend LokyBackend with 32 concurrent workers.\n"
     ]
    },
    {
     "name": "stdout",
     "output_type": "stream",
     "text": [
      "name: swissprot\n"
     ]
    }
   ],
   "source": [
    "dfs = []\n",
    "\n",
    "for name, fasta in fastas.items():\n",
    "    print(f'name: {name}')\n",
    "    iterator = itertools.product(['protein20', 'dayhoff6', 'hp2'], range(2, 51))\n",
    "    tablesize = 10 ** fasta_sizes.loc[name, 'tablesize']\n",
    "    this_fasta_lines = Parallel(n_jobs=N_JOBS, verbose=True)(\n",
    "        delayed(create_index_and_compute_stats)(\n",
    "            name, fasta, alphabet, ksize, tablesize=tablesize) for alphabet, ksize in iterator)\n",
    "    df = format_index_stats(this_fasta_lines)\n",
    "    df.to_csv(f'n_observed_vs_theoretical_kmers_{name}.csv', index=False)\n",
    "    dfs.append(df)\n",
    "\n",
    "index_stats = pd.concat(dfs)\n",
    "# index_stats['n_theoretical_kmers'] = np.power(index_stats.sigma, index_stats.ksize)\n",
    "# index_stats['unique_over_theoretical'] = index_stats.n_unique_kmers / index_stats.n_theoretical_kmers\n",
    "# index_stats['unique_over_theoretical_log10'] = -1 * np.log10(index_stats['unique_over_theoretical'])\n",
    "index_stats.to_csv('n_observed_vs_theoretical_kmers_per_uniprot_database.csv', index=False)\n",
    "print(index_stats.shape)\n",
    "index_stats.head()"
   ]
  },
  {
   "cell_type": "code",
   "execution_count": null,
   "metadata": {},
   "outputs": [],
   "source": [
    "# df = format_index_stats(this_fasta_lines)\n",
    "# df.to_csv(f'n_observed_vs_theoretical_kmers_{name}.csv', index=False)\n",
    "# dfs.append(df)"
   ]
  },
  {
   "cell_type": "code",
   "execution_count": null,
   "metadata": {},
   "outputs": [],
   "source": [
    "df"
   ]
  },
  {
   "cell_type": "code",
   "execution_count": null,
   "metadata": {},
   "outputs": [],
   "source": [
    "# columns = ['name', 'molecule', 'ksize', 'sigma', 'expected_collisions', 'n_unique_kmers']\n",
    "# index_stats = pd.DataFrame(itertools.chain(*lines), \n",
    "#                            columns=columns)\n",
    "\n",
    "# index_stats['n_unique_kmers_log10'] = np.log10(index_stats.n_unique_kmers,)\n",
    "# # index_stats['n_theoretical_kmers'] = np.power(index_stats.sigma, index_stats.ksize)\n",
    "# index_stats['n_theoretical_kmers_log10'] = index_stats.ksize * np.log10(index_stats.sigma)\n",
    "# # index_stats['unique_over_theoretical'] = index_stats.n_unique_kmers / index_stats.n_theoretical_kmers\n",
    "# index_stats['unique_over_theoretical_log10'] = index_stats['n_unique_kmers_log10'] - index_stats['n_theoretical_kmers_log10']\n",
    "print(index_stats.shape)\n",
    "index_stats.head()"
   ]
  },
  {
   "cell_type": "markdown",
   "metadata": {},
   "source": [
    "## Manually do swissprot in serial to find the bug"
   ]
  },
  {
   "cell_type": "code",
   "execution_count": null,
   "metadata": {},
   "outputs": [],
   "source": [
    "name"
   ]
  },
  {
   "cell_type": "code",
   "execution_count": null,
   "metadata": {},
   "outputs": [],
   "source": [
    "fasta"
   ]
  },
  {
   "cell_type": "code",
   "execution_count": null,
   "metadata": {},
   "outputs": [],
   "source": []
  },
  {
   "cell_type": "code",
   "execution_count": null,
   "metadata": {},
   "outputs": [],
   "source": [
    "# import tqdm\n",
    "\n",
    "# def nop(it, *a, **k):\n",
    "#     return it\n",
    "\n",
    "# tqdm.tqdm = nop"
   ]
  },
  {
   "cell_type": "code",
   "execution_count": null,
   "metadata": {},
   "outputs": [],
   "source": [
    "\n",
    "\n",
    "this_fasta_lines  = []\n",
    "# print(f'name: {name}')\n",
    "iterator = itertools.product(['protein20', 'dayhoff6', 'hp2'], range(2, 32))\n",
    "for alphabet, ksize in iterator:\n",
    "    line = create_index_and_compute_stats(name, fasta, alphabet, ksize, tablesize=1e10)\n",
    "    this_fasta_lines.append(line)\n",
    "# this_fasta_lines = Parallel(n_jobs=32, verbose=True)(\n",
    "#     delayed(create_index_and_compute_stats)(\n",
    "#         name, fasta, alphabet, ksize) for alphabet, ksize in iterator)\n",
    "# lines.append(this_fasta_lines)"
   ]
  },
  {
   "cell_type": "code",
   "execution_count": null,
   "metadata": {},
   "outputs": [],
   "source": [
    "alphabet"
   ]
  },
  {
   "cell_type": "code",
   "execution_count": null,
   "metadata": {},
   "outputs": [],
   "source": [
    "ksize"
   ]
  },
  {
   "cell_type": "code",
   "execution_count": null,
   "metadata": {},
   "outputs": [],
   "source": [
    "lines"
   ]
  },
  {
   "cell_type": "code",
   "execution_count": null,
   "metadata": {},
   "outputs": [],
   "source": [
    "lines "
   ]
  },
  {
   "cell_type": "code",
   "execution_count": null,
   "metadata": {},
   "outputs": [],
   "source": [
    "index_stats.tail()"
   ]
  },
  {
   "cell_type": "code",
   "execution_count": null,
   "metadata": {},
   "outputs": [],
   "source": []
  },
  {
   "cell_type": "code",
   "execution_count": null,
   "metadata": {},
   "outputs": [],
   "source": [
    "index_stats = pd.DataFrame(itertools.chain(*lines), columns=['name', 'molecule', 'ksize', 'sigma', 'expected_collisions', 'n_unique_kmers'])\n",
    "print(index_stats.shape)\n",
    "index_stats.head()"
   ]
  },
  {
   "cell_type": "code",
   "execution_count": null,
   "metadata": {},
   "outputs": [],
   "source": [
    "index_stats['n_theoretical_kmers'] = np.power(index_stats.sigma, index_stats.ksize)\n",
    "index_stats.head()"
   ]
  },
  {
   "cell_type": "code",
   "execution_count": null,
   "metadata": {},
   "outputs": [],
   "source": [
    "index_stats['unique_over_theoretical'] = index_stats.n_unique_kmers / index_stats.n_theoretical_kmers\n",
    "index_stats.head()"
   ]
  },
  {
   "cell_type": "code",
   "execution_count": null,
   "metadata": {},
   "outputs": [],
   "source": [
    "index_stats.tail()"
   ]
  },
  {
   "cell_type": "code",
   "execution_count": null,
   "metadata": {},
   "outputs": [],
   "source": [
    "index_stats['unique_over_theoretical_log10'] = -1 * np.log10(index_stats['unique_over_theoretical'])\n",
    "index_stats.head()"
   ]
  },
  {
   "cell_type": "code",
   "execution_count": null,
   "metadata": {},
   "outputs": [],
   "source": [
    "index_stats.to_csv('n_observed_vs_theoretical_kmers_per_uniprot_database.csv', index=False)"
   ]
  },
  {
   "cell_type": "code",
   "execution_count": null,
   "metadata": {},
   "outputs": [],
   "source": [
    "sns.catplot(x='ksize', y='n_unique_kmers', \n",
    "            data=index_stats, hue='name', col='molecule')"
   ]
  },
  {
   "cell_type": "code",
   "execution_count": null,
   "metadata": {},
   "outputs": [],
   "source": [
    "sns.catplot(x='ksize', y='n_unique_kmers', \n",
    "            data=index_stats, hue='name', col='molecule')"
   ]
  },
  {
   "cell_type": "code",
   "execution_count": null,
   "metadata": {},
   "outputs": [],
   "source": [
    "mammalia_fasta"
   ]
  }
 ],
 "metadata": {
  "kernelspec": {
   "display_name": "Python [conda env:sencha]",
   "language": "python",
   "name": "conda-env-sencha-py"
  },
  "language_info": {
   "codemirror_mode": {
    "name": "ipython",
    "version": 3
   },
   "file_extension": ".py",
   "mimetype": "text/x-python",
   "name": "python",
   "nbconvert_exporter": "python",
   "pygments_lexer": "ipython3",
   "version": "3.7.6"
  },
  "toc-autonumbering": true
 },
 "nbformat": 4,
 "nbformat_minor": 4
}
