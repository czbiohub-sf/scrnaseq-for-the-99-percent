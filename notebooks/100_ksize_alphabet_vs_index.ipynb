{
 "cells": [
  {
   "cell_type": "markdown",
   "metadata": {},
   "source": [
    "# Imports"
   ]
  },
  {
   "cell_type": "code",
   "execution_count": 39,
   "metadata": {},
   "outputs": [
    {
     "name": "stdout",
     "output_type": "stream",
     "text": [
      "The autoreload extension is already loaded. To reload it, use:\n",
      "  %reload_ext autoreload\n"
     ]
    }
   ],
   "source": [
    "import itertools\n",
    "import math\n",
    "\n",
    "from joblib import Parallel, delayed\n",
    "import khmer\n",
    "import numpy as np\n",
    "import pandas as pd\n",
    "import screed\n",
    "import seaborn as sns\n",
    "import sencha\n",
    "from tqdm import tqdm\n",
    "\n",
    "\n",
    "%load_ext autoreload\n",
    "%autoreload 2\n",
    "\n",
    "\n"
   ]
  },
  {
   "cell_type": "code",
   "execution_count": 40,
   "metadata": {},
   "outputs": [
    {
     "data": {
      "text/plain": [
       "'/home/olga/code/sencha/sencha/__init__.py'"
      ]
     },
     "execution_count": 40,
     "metadata": {},
     "output_type": "execute_result"
    }
   ],
   "source": [
    "sencha.__file__"
   ]
  },
  {
   "cell_type": "markdown",
   "metadata": {},
   "source": [
    "Files from https://osf.io/f8eq3/files/"
   ]
  },
  {
   "cell_type": "code",
   "execution_count": 41,
   "metadata": {},
   "outputs": [
    {
     "name": "stdout",
     "output_type": "stream",
     "text": [
      "-rw-r--r-- 1 olga czb  78M Jun  4 17:06 /home/olga/data_lg/czbiohub-reference/uniprot/releases/2019_11/manually_downloaded/uniprot-reviewed_yes__NOT_taxonomy__Eukaryota_9EUKA_2759.fasta.gz\n",
      "-rw-r--r-- 1 olga czb  55M Feb 20 16:06 /home/olga/data_lg/czbiohub-reference/uniprot/releases/2019_11/manually_downloaded/uniprot-reviewed_yes+taxonomy_2759.fasta.gz\n",
      "-rw-r--r-- 1 olga czb 4.1M Jun  4 17:06 /home/olga/data_lg/czbiohub-reference/uniprot/releases/2019_11/manually_downloaded/uniprot-reviewed_yes__taxonomy_Archea_2157.fasta.gz\n",
      "-rw-r--r-- 1 olga czb  69M Jun  4 17:06 /home/olga/data_lg/czbiohub-reference/uniprot/releases/2019_11/manually_downloaded/uniprot-reviewed_yes__taxonomy__Bacteria_9BACT.fasta.gz\n",
      "-rw-r--r-- 1 olga czb  22M May 23 10:21 /home/olga/data_lg/czbiohub-reference/uniprot/releases/2019_11/manually_downloaded/uniprot-reviewed_yes+taxonomy_Mammalia_9MAMM_40674.fasta.gz\n",
      "-rw-r--r-- 1 olga czb  43M May 23 10:17 /home/olga/data_lg/czbiohub-reference/uniprot/releases/2019_11/manually_downloaded/uniprot-reviewed_yes+taxonomy_Opisthokonta_33154.fasta.gz\n",
      "-rw-rw-r-- 1 olga czb  86M Mar 19 09:39 /home/olga/data_lg/czbiohub-reference/uniprot/releases/2019_11/manually_downloaded/uniprot_sprot.fasta.gz\n"
     ]
    }
   ],
   "source": [
    "uniprot_folder = '/home/olga/data_lg/czbiohub-reference/uniprot/releases/2019_11/manually_downloaded'\n",
    "! ls -lha $uniprot_folder/uniprot*.fasta.gz"
   ]
  },
  {
   "cell_type": "code",
   "execution_count": 42,
   "metadata": {},
   "outputs": [],
   "source": [
    "# \n",
    "# ! ls -1 $uniprot_folder/uniprot_sprot*"
   ]
  },
  {
   "cell_type": "code",
   "execution_count": null,
   "metadata": {},
   "outputs": [],
   "source": []
  },
  {
   "cell_type": "code",
   "execution_count": 43,
   "metadata": {},
   "outputs": [
    {
     "data": {
      "text/plain": [
       "8.359750080865052"
      ]
     },
     "execution_count": 43,
     "metadata": {},
     "output_type": "execute_result"
    }
   ],
   "source": [
    "PROTEIN_SIGMA = 20\n",
    "\n",
    "def get_equivalent_protein_ksize(protein_ksize, sigma):\n",
    "    return protein_ksize * math.log(PROTEIN_SIGMA) / math.log(sigma)\n",
    "\n",
    "get_equivalent_protein_ksize(protein_ksize=5, sigma=6)"
   ]
  },
  {
   "cell_type": "code",
   "execution_count": 44,
   "metadata": {},
   "outputs": [
    {
     "name": "stdout",
     "output_type": "stream",
     "text": [
      "2\t38.90\n",
      "3\t24.54\n",
      "4\t19.45\n",
      "5\t16.75\n",
      "6\t15.05\n",
      "7\t13.86\n",
      "8\t12.97\n",
      "9\t12.27\n",
      "10\t11.71\n",
      "11\t11.24\n",
      "12\t10.85\n",
      "13\t10.51\n",
      "14\t10.22\n",
      "15\t9.96\n",
      "16\t9.72\n",
      "17\t9.52\n",
      "18\t9.33\n",
      "19\t9.16\n"
     ]
    }
   ],
   "source": [
    "for i in range(2, 20):\n",
    "    k = get_equivalent_protein_ksize(protein_ksize=9, sigma=i)\n",
    "    print(f'{i}\\t{k:.2f}')"
   ]
  },
  {
   "cell_type": "code",
   "execution_count": 45,
   "metadata": {},
   "outputs": [
    {
     "data": {
      "text/plain": [
       "15.047550145557093"
      ]
     },
     "execution_count": 45,
     "metadata": {},
     "output_type": "execute_result"
    }
   ],
   "source": [
    "get_equivalent_protein_ksize(protein_ksize=9, sigma=6)"
   ]
  },
  {
   "cell_type": "code",
   "execution_count": 46,
   "metadata": {},
   "outputs": [
    {
     "data": {
      "text/plain": [
       "38.89735285398626"
      ]
     },
     "execution_count": 46,
     "metadata": {},
     "output_type": "execute_result"
    }
   ],
   "source": [
    "get_equivalent_protein_ksize(protein_ksize=9, sigma=2)"
   ]
  },
  {
   "cell_type": "code",
   "execution_count": 47,
   "metadata": {},
   "outputs": [
    {
     "data": {
      "text/plain": [
       "12.965784284662087"
      ]
     },
     "execution_count": 47,
     "metadata": {},
     "output_type": "execute_result"
    }
   ],
   "source": [
    "get_equivalent_protein_ksize(protein_ksize=9, sigma=8)"
   ]
  },
  {
   "cell_type": "code",
   "execution_count": 48,
   "metadata": {},
   "outputs": [
    {
     "data": {
      "text/plain": [
       "20.063400194076124"
      ]
     },
     "execution_count": 48,
     "metadata": {},
     "output_type": "execute_result"
    }
   ],
   "source": [
    "get_equivalent_protein_ksize(protein_ksize=12, sigma=6)"
   ]
  },
  {
   "cell_type": "code",
   "execution_count": 49,
   "metadata": {},
   "outputs": [
    {
     "data": {
      "text/plain": [
       "21.609640474436812"
      ]
     },
     "execution_count": 49,
     "metadata": {},
     "output_type": "execute_result"
    }
   ],
   "source": [
    "get_equivalent_protein_ksize(protein_ksize=5, sigma=2)"
   ]
  },
  {
   "cell_type": "code",
   "execution_count": 50,
   "metadata": {},
   "outputs": [
    {
     "data": {
      "text/plain": [
       "60.50699332842307"
      ]
     },
     "execution_count": 50,
     "metadata": {},
     "output_type": "execute_result"
    }
   ],
   "source": [
    "get_equivalent_protein_ksize(protein_ksize=14, sigma=2)"
   ]
  },
  {
   "cell_type": "markdown",
   "metadata": {},
   "source": [
    "# Define fastas and ksizes"
   ]
  },
  {
   "cell_type": "code",
   "execution_count": 51,
   "metadata": {},
   "outputs": [],
   "source": [
    "mammalia_fasta = f'{uniprot_folder}/uniprot-reviewed_yes+taxonomy_Mammalia_9MAMM_40674.fasta.gz'\n",
    "eukaryota_fasta = f'{uniprot_folder}/uniprot-reviewed_yes+taxonomy_2759.fasta.gz'\n",
    "opsithokonta_fasta = f'{uniprot_folder}/uniprot-reviewed_yes+taxonomy_Opisthokonta_33154.fasta.gz'\n",
    "swissprot_fasta = f'{uniprot_folder}/uniprot_sprot.fasta.gz'\n",
    "not_eukaryota_fasta = f'{uniprot_folder}/uniprot-reviewed_yes__NOT_taxonomy__Eukaryota_9EUKA_2759.fasta.gz'\n",
    "bacteria_fasta = f'{uniprot_folder}/uniprot-reviewed_yes__taxonomy__Bacteria_9BACT.fasta.gz'\n",
    "archea_fasta = f'{uniprot_folder}/uniprot-reviewed_yes__taxonomy_Archea_2157.fasta.gz'\n",
    "uniref_fasta = '/home/olga/data_lg/czbiohub-reference/uniprot/releases/2019_11/uniref/uniref100/uniref100.fasta.gz'\n",
    "\n",
    "fastas = {\n",
    "    \"mammalia\": mammalia_fasta,\n",
    "    \"eukaryota\": eukaryota_fasta,\n",
    "    \"opisthokonta\": opsithokonta_fasta,\n",
    "    \"swissprot\": swissprot_fasta,\n",
    "    \"not_eukaryota\": not_eukaryota_fasta,\n",
    "    \"bacteria\": bacteria_fasta,\n",
    "    \"archea\": archea_fasta,\n",
    "#     \"uniref\": uniref_fasta,\n",
    "}\n"
   ]
  },
  {
   "cell_type": "code",
   "execution_count": 52,
   "metadata": {},
   "outputs": [],
   "source": [
    "from sencha.index import maybe_save_peptide_index, make_peptide_index, ALPHABET_SIZES"
   ]
  },
  {
   "cell_type": "markdown",
   "metadata": {},
   "source": [
    "## Make an index with just mammalian sequences for checking/debugging"
   ]
  },
  {
   "cell_type": "code",
   "execution_count": 53,
   "metadata": {},
   "outputs": [
    {
     "name": "stderr",
     "output_type": "stream",
     "text": [
      "67241it [01:03, 1056.09it/s]\n"
     ]
    },
    {
     "data": {
      "text/plain": [
       "0"
      ]
     },
     "execution_count": 53,
     "metadata": {},
     "output_type": "execute_result"
    }
   ],
   "source": [
    "mammal_index = make_peptide_index(mammalia_fasta, peptide_ksize=9, molecule='protein', debug=False)\n",
    "\n",
    "khmer.calc_expected_collisions(mammal_index)\n",
    "\n",
    "mammal_index.n_unique_kmers()\n",
    "\n",
    "\n",
    "index_filename = 'mammal_index__ksize-9__molecule-protein.bloomfilter'\n",
    "mammal_index.save(index_filename)\n",
    "\n",
    "mammal_index_loaded = khmer.Nodegraph.load(index_filename)\n",
    "mammal_index_loaded.n_unique_kmers()"
   ]
  },
  {
   "cell_type": "markdown",
   "metadata": {},
   "source": [
    "## Count number of sequences and total length of sequences per database"
   ]
  },
  {
   "cell_type": "code",
   "execution_count": 54,
   "metadata": {},
   "outputs": [],
   "source": [
    "# lengths = {}\n",
    "# n_sequences = {}\n",
    "\n",
    "# for name, fasta in fastas.items():\n",
    "#     print(name)\n",
    "#     length = 0\n",
    "#     n_seqs = 0\n",
    "#     with screed.open(fasta) as records:\n",
    "#         for record in tqdm(records):\n",
    "#             length += len(record['sequence'])\n",
    "#             n_seqs += 1\n",
    "#     n_sequences[name] = n_seqs \n",
    "#     lengths[name] = length"
   ]
  },
  {
   "cell_type": "markdown",
   "metadata": {},
   "source": [
    "### Make dataframe and write to file"
   ]
  },
  {
   "cell_type": "code",
   "execution_count": 55,
   "metadata": {},
   "outputs": [],
   "source": [
    "# fasta_sizes = pd.DataFrame({'n_sequences': n_sequences, 'n_residues': lengths})\n",
    "# fasta_sizes['n_residues_log10'] = np.log10(fasta_sizes['n_residues'])\n",
    "# fasta_sizes['n_sequences_log10'] = np.log10(fasta_sizes['n_sequences'])\n",
    "# fasta_sizes['tablesize_log10'] = np.ceil(fasta_sizes['n_residues_log10']).astype(int)\n",
    "# fasta_sizes['tablesize'] = np.power(10, fasta_sizes['tablesize_log10'])\n",
    "# fasta_sizes.to_csv('total_sequence_lengths.csv')\n",
    "# fasta_sizes"
   ]
  },
  {
   "cell_type": "code",
   "execution_count": 56,
   "metadata": {},
   "outputs": [
    {
     "name": "stdout",
     "output_type": "stream",
     "text": [
      "(8, 5)\n"
     ]
    },
    {
     "data": {
      "text/html": [
       "<div>\n",
       "<style scoped>\n",
       "    .dataframe tbody tr th:only-of-type {\n",
       "        vertical-align: middle;\n",
       "    }\n",
       "\n",
       "    .dataframe tbody tr th {\n",
       "        vertical-align: top;\n",
       "    }\n",
       "\n",
       "    .dataframe thead th {\n",
       "        text-align: right;\n",
       "    }\n",
       "</style>\n",
       "<table border=\"1\" class=\"dataframe\">\n",
       "  <thead>\n",
       "    <tr style=\"text-align: right;\">\n",
       "      <th></th>\n",
       "      <th>n_sequences</th>\n",
       "      <th>n_residues</th>\n",
       "      <th>n_residues_log10</th>\n",
       "      <th>n_sequences_log10</th>\n",
       "      <th>tablesize</th>\n",
       "    </tr>\n",
       "  </thead>\n",
       "  <tbody>\n",
       "    <tr>\n",
       "      <th>mammalia</th>\n",
       "      <td>67241</td>\n",
       "      <td>33332118</td>\n",
       "      <td>7.522863</td>\n",
       "      <td>4.827634</td>\n",
       "      <td>8</td>\n",
       "    </tr>\n",
       "    <tr>\n",
       "      <th>eukaryota</th>\n",
       "      <td>190642</td>\n",
       "      <td>83870914</td>\n",
       "      <td>7.923611</td>\n",
       "      <td>5.280219</td>\n",
       "      <td>8</td>\n",
       "    </tr>\n",
       "    <tr>\n",
       "      <th>opisthokonta</th>\n",
       "      <td>141854</td>\n",
       "      <td>64718973</td>\n",
       "      <td>7.811032</td>\n",
       "      <td>5.151842</td>\n",
       "      <td>8</td>\n",
       "    </tr>\n",
       "    <tr>\n",
       "      <th>swissprot</th>\n",
       "      <td>561911</td>\n",
       "      <td>202173710</td>\n",
       "      <td>8.305725</td>\n",
       "      <td>5.749668</td>\n",
       "      <td>9</td>\n",
       "    </tr>\n",
       "    <tr>\n",
       "      <th>not_eukaryota</th>\n",
       "      <td>371102</td>\n",
       "      <td>118211069</td>\n",
       "      <td>8.072658</td>\n",
       "      <td>5.569493</td>\n",
       "      <td>9</td>\n",
       "    </tr>\n",
       "  </tbody>\n",
       "</table>\n",
       "</div>"
      ],
      "text/plain": [
       "               n_sequences  n_residues  n_residues_log10  n_sequences_log10  \\\n",
       "mammalia             67241    33332118          7.522863           4.827634   \n",
       "eukaryota           190642    83870914          7.923611           5.280219   \n",
       "opisthokonta        141854    64718973          7.811032           5.151842   \n",
       "swissprot           561911   202173710          8.305725           5.749668   \n",
       "not_eukaryota       371102   118211069          8.072658           5.569493   \n",
       "\n",
       "               tablesize  \n",
       "mammalia               8  \n",
       "eukaryota              8  \n",
       "opisthokonta           8  \n",
       "swissprot              9  \n",
       "not_eukaryota          9  "
      ]
     },
     "execution_count": 56,
     "metadata": {},
     "output_type": "execute_result"
    }
   ],
   "source": [
    "fasta_sizes = pd.read_csv('total_sequence_lengths.csv', index_col=0)\n",
    "print(fasta_sizes.shape)\n",
    "fasta_sizes.head()"
   ]
  },
  {
   "cell_type": "markdown",
   "metadata": {},
   "source": [
    "# Make a bunch of sencha indices, compute number of unique k-mers"
   ]
  },
  {
   "cell_type": "code",
   "execution_count": 57,
   "metadata": {},
   "outputs": [],
   "source": [
    "# fastas_minus_all = {'mammalia': mammalia_fasta, 'eukaryota': eukaryota_fasta, \n",
    "#           'opisthokonta': opsithokonta_fasta         }\n"
   ]
  },
  {
   "cell_type": "code",
   "execution_count": 58,
   "metadata": {},
   "outputs": [],
   "source": [
    "\n",
    "\n",
    "lines = []\n",
    "\n",
    "def create_index_and_compute_stats(name, fasta, alphabet, ksize, tablesize=int(1e8)):\n",
    "    index = make_peptide_index(fasta, ksize, alphabet, tablesize=tablesize, force=True)\n",
    "    expected_collisions = khmer.calc_expected_collisions(index)\n",
    "    maybe_save_peptide_index(fasta, index, alphabet, save_peptide_index=True)\n",
    "\n",
    "    n_unique_kmers = index.n_unique_kmers()\n",
    "    sigma = ALPHABET_SIZES[alphabet]\n",
    "    line = [name, alphabet, ksize, sigma, expected_collisions, n_unique_kmers]\n",
    "    del index\n",
    "    return line"
   ]
  },
  {
   "cell_type": "code",
   "execution_count": 59,
   "metadata": {},
   "outputs": [],
   "source": [
    "N_JOBS = 32\n",
    "\n",
    "\n",
    "def format_index_stats(lines):\n",
    "    columns = ['name', 'molecule', 'ksize', 'sigma', 'expected_collisions', 'n_unique_kmers']\n",
    "    df = pd.DataFrame(lines, columns=columns)\n",
    "    df['n_theoretical_kmers_log10'] = df['ksize'] * np.log10(df['sigma'])\n",
    "    df['n_unique_kmers_log10'] = np.log10(df['n_unique_kmers'])\n",
    "    df['unique_over_theoretical_log10'] = df['n_unique_kmers_log10'] - df['n_theoretical_kmers_log10']\n",
    "    return df"
   ]
  },
  {
   "cell_type": "code",
   "execution_count": 60,
   "metadata": {},
   "outputs": [
    {
     "name": "stdout",
     "output_type": "stream",
     "text": [
      "name: mammalia\n"
     ]
    },
    {
     "name": "stderr",
     "output_type": "stream",
     "text": [
      "[Parallel(n_jobs=32)]: Using backend LokyBackend with 32 concurrent workers.\n",
      "[Parallel(n_jobs=32)]: Done  90 out of  90 | elapsed:  4.6min finished\n",
      "[Parallel(n_jobs=32)]: Using backend LokyBackend with 32 concurrent workers.\n"
     ]
    },
    {
     "name": "stdout",
     "output_type": "stream",
     "text": [
      "name: eukaryota\n"
     ]
    },
    {
     "name": "stderr",
     "output_type": "stream",
     "text": [
      "[Parallel(n_jobs=32)]: Done  90 out of  90 | elapsed:  9.2min finished\n",
      "[Parallel(n_jobs=32)]: Using backend LokyBackend with 32 concurrent workers.\n"
     ]
    },
    {
     "name": "stdout",
     "output_type": "stream",
     "text": [
      "name: opisthokonta\n"
     ]
    },
    {
     "name": "stderr",
     "output_type": "stream",
     "text": [
      "[Parallel(n_jobs=32)]: Done  90 out of  90 | elapsed:  7.1min finished\n",
      "[Parallel(n_jobs=32)]: Using backend LokyBackend with 32 concurrent workers.\n"
     ]
    },
    {
     "name": "stdout",
     "output_type": "stream",
     "text": [
      "name: swissprot\n",
      "name: not_eukaryota\n"
     ]
    },
    {
     "name": "stderr",
     "output_type": "stream",
     "text": [
      "[Parallel(n_jobs=32)]: Done  90 out of  90 | elapsed: 25.7min finished\n",
      "[Parallel(n_jobs=32)]: Using backend LokyBackend with 32 concurrent workers.\n",
      "[Parallel(n_jobs=32)]: Done  90 out of  90 | elapsed: 17.3min finished\n",
      "[Parallel(n_jobs=32)]: Using backend LokyBackend with 32 concurrent workers.\n"
     ]
    },
    {
     "name": "stdout",
     "output_type": "stream",
     "text": [
      "name: bacteria\n"
     ]
    },
    {
     "name": "stderr",
     "output_type": "stream",
     "text": [
      "[Parallel(n_jobs=32)]: Done  90 out of  90 | elapsed: 16.1min finished\n",
      "[Parallel(n_jobs=32)]: Using backend LokyBackend with 32 concurrent workers.\n"
     ]
    },
    {
     "name": "stdout",
     "output_type": "stream",
     "text": [
      "name: archea\n"
     ]
    },
    {
     "name": "stderr",
     "output_type": "stream",
     "text": [
      "[Parallel(n_jobs=32)]: Done  90 out of  90 | elapsed:   37.9s finished\n",
      "[Parallel(n_jobs=32)]: Using backend LokyBackend with 32 concurrent workers.\n"
     ]
    },
    {
     "name": "stdout",
     "output_type": "stream",
     "text": [
      "name: uniref\n",
      "root - 2020-06-09 10:39:26,659 ERROR: Internal Python error in the inspect module.\n",
      "Below is the traceback from this internal error.\n",
      "\n",
      "Traceback (most recent call last):\n",
      "  File \"/home/olga/miniconda3/envs/sencha/lib/python3.7/site-packages/joblib/parallel.py\", line 921, in retrieve\n",
      "    self._output.extend(job.get(timeout=self.timeout))\n",
      "  File \"/home/olga/miniconda3/envs/sencha/lib/python3.7/site-packages/joblib/_parallel_backends.py\", line 540, in wrap_future_result\n",
      "    return future.result(timeout=timeout)\n",
      "  File \"/home/olga/miniconda3/envs/sencha/lib/python3.7/concurrent/futures/_base.py\", line 430, in result\n",
      "    self._condition.wait(timeout)\n",
      "  File \"/home/olga/miniconda3/envs/sencha/lib/python3.7/threading.py\", line 296, in wait\n",
      "    waiter.acquire()\n",
      "KeyboardInterrupt\n",
      "\n",
      "During handling of the above exception, another exception occurred:\n",
      "\n",
      "Traceback (most recent call last):\n",
      "  File \"/home/olga/miniconda3/envs/sencha/lib/python3.7/site-packages/IPython/core/interactiveshell.py\", line 3331, in run_code\n",
      "    exec(code_obj, self.user_global_ns, self.user_ns)\n",
      "  File \"<ipython-input-60-941d6c1c6720>\", line 9, in <module>\n",
      "    name, fasta, alphabet, ksize, tablesize=tablesize) for alphabet, ksize in iterator)\n",
      "  File \"/home/olga/miniconda3/envs/sencha/lib/python3.7/site-packages/joblib/parallel.py\", line 1042, in __call__\n",
      "    self.retrieve()\n",
      "  File \"/home/olga/miniconda3/envs/sencha/lib/python3.7/site-packages/joblib/parallel.py\", line 943, in retrieve\n",
      "    backend.abort_everything(ensure_ready=ensure_ready)\n",
      "  File \"/home/olga/miniconda3/envs/sencha/lib/python3.7/site-packages/joblib/_parallel_backends.py\", line 559, in abort_everything\n",
      "    self._workers.terminate(kill_workers=True)\n",
      "  File \"/home/olga/miniconda3/envs/sencha/lib/python3.7/site-packages/joblib/executor.py\", line 74, in terminate\n",
      "    self.shutdown(kill_workers=kill_workers)\n",
      "  File \"/home/olga/miniconda3/envs/sencha/lib/python3.7/site-packages/joblib/externals/loky/process_executor.py\", line 1171, in shutdown\n",
      "    executor_manager_thread.join()\n",
      "  File \"/home/olga/miniconda3/envs/sencha/lib/python3.7/threading.py\", line 1044, in join\n",
      "    self._wait_for_tstate_lock()\n",
      "  File \"/home/olga/miniconda3/envs/sencha/lib/python3.7/threading.py\", line 1060, in _wait_for_tstate_lock\n",
      "    elif lock.acquire(block, timeout):\n",
      "KeyboardInterrupt\n",
      "\n",
      "During handling of the above exception, another exception occurred:\n",
      "\n",
      "Traceback (most recent call last):\n",
      "  File \"/home/olga/miniconda3/envs/sencha/lib/python3.7/site-packages/IPython/core/interactiveshell.py\", line 2044, in showtraceback\n",
      "    stb = value._render_traceback_()\n",
      "AttributeError: 'KeyboardInterrupt' object has no attribute '_render_traceback_'\n",
      "\n",
      "During handling of the above exception, another exception occurred:\n",
      "\n",
      "Traceback (most recent call last):\n",
      "  File \"/home/olga/miniconda3/envs/sencha/lib/python3.7/site-packages/IPython/core/ultratb.py\", line 1148, in get_records\n",
      "    return _fixed_getinnerframes(etb, number_of_lines_of_context, tb_offset)\n",
      "  File \"/home/olga/miniconda3/envs/sencha/lib/python3.7/site-packages/IPython/core/ultratb.py\", line 316, in wrapped\n",
      "    return f(*args, **kwargs)\n",
      "  File \"/home/olga/miniconda3/envs/sencha/lib/python3.7/site-packages/IPython/core/ultratb.py\", line 350, in _fixed_getinnerframes\n",
      "    records = fix_frame_records_filenames(inspect.getinnerframes(etb, context))\n",
      "  File \"/home/olga/miniconda3/envs/sencha/lib/python3.7/inspect.py\", line 1502, in getinnerframes\n",
      "    frameinfo = (tb.tb_frame,) + getframeinfo(tb, context)\n",
      "  File \"/home/olga/miniconda3/envs/sencha/lib/python3.7/inspect.py\", line 1460, in getframeinfo\n",
      "    filename = getsourcefile(frame) or getfile(frame)\n",
      "  File \"/home/olga/miniconda3/envs/sencha/lib/python3.7/inspect.py\", line 696, in getsourcefile\n",
      "    if getattr(getmodule(object, filename), '__loader__', None) is not None:\n",
      "  File \"/home/olga/miniconda3/envs/sencha/lib/python3.7/inspect.py\", line 732, in getmodule\n",
      "    for modname, module in list(sys.modules.items()):\n",
      "KeyboardInterrupt\n"
     ]
    },
    {
     "name": "stderr",
     "output_type": "stream",
     "text": [
      "\n",
      "KeyboardInterrupt\n",
      "\n"
     ]
    }
   ],
   "source": [
    "dfs = []\n",
    "\n",
    "for name, fasta in fastas.items():\n",
    "    print(f'name: {name}')\n",
    "    iterator = itertools.product(['protein20', 'dayhoff6', 'hp2'], range(2, 32))\n",
    "    tablesize = 10 ** fasta_sizes.loc[name, 'tablesize']\n",
    "    this_fasta_lines = Parallel(n_jobs=N_JOBS, verbose=True)(\n",
    "        delayed(create_index_and_compute_stats)(\n",
    "            name, fasta, alphabet, ksize, tablesize=tablesize) for alphabet, ksize in iterator)\n",
    "    df = format_index_stats(this_fasta_lines)\n",
    "    df.to_csv(f'n_observed_vs_theoretical_kmers_{name}.csv', index=False)\n",
    "    dfs.append(df)\n",
    "\n",
    "index_stats = pd.concat(dfs)\n",
    "# index_stats['n_theoretical_kmers'] = np.power(index_stats.sigma, index_stats.ksize)\n",
    "# index_stats['unique_over_theoretical'] = index_stats.n_unique_kmers / index_stats.n_theoretical_kmers\n",
    "# index_stats['unique_over_theoretical_log10'] = -1 * np.log10(index_stats['unique_over_theoretical'])\n",
    "index_stats.to_csv('n_observed_vs_theoretical_kmers_per_uniprot_database.csv', index=False)\n",
    "print(index_stats.shape)\n",
    "index_stats.head()"
   ]
  },
  {
   "cell_type": "code",
   "execution_count": 37,
   "metadata": {},
   "outputs": [],
   "source": [
    "# df = format_index_stats(this_fasta_lines)\n",
    "# df.to_csv(f'n_observed_vs_theoretical_kmers_{name}.csv', index=False)\n",
    "# dfs.append(df)"
   ]
  },
  {
   "cell_type": "code",
   "execution_count": 38,
   "metadata": {},
   "outputs": [
    {
     "data": {
      "text/html": [
       "<div>\n",
       "<style scoped>\n",
       "    .dataframe tbody tr th:only-of-type {\n",
       "        vertical-align: middle;\n",
       "    }\n",
       "\n",
       "    .dataframe tbody tr th {\n",
       "        vertical-align: top;\n",
       "    }\n",
       "\n",
       "    .dataframe thead th {\n",
       "        text-align: right;\n",
       "    }\n",
       "</style>\n",
       "<table border=\"1\" class=\"dataframe\">\n",
       "  <thead>\n",
       "    <tr style=\"text-align: right;\">\n",
       "      <th></th>\n",
       "      <th>name</th>\n",
       "      <th>molecule</th>\n",
       "      <th>ksize</th>\n",
       "      <th>sigma</th>\n",
       "      <th>expected_collisions</th>\n",
       "      <th>n_unique_kmers</th>\n",
       "      <th>n_theoretical_kmers_log10</th>\n",
       "      <th>n_unique_kmers_log10</th>\n",
       "      <th>unique_over_theoretical_log10</th>\n",
       "    </tr>\n",
       "  </thead>\n",
       "  <tbody>\n",
       "    <tr>\n",
       "      <th>0</th>\n",
       "      <td>mammalia</td>\n",
       "      <td>protein20</td>\n",
       "      <td>2</td>\n",
       "      <td>20</td>\n",
       "      <td>2.560006e-22</td>\n",
       "      <td>400</td>\n",
       "      <td>2.60206</td>\n",
       "      <td>2.602060</td>\n",
       "      <td>0.000000</td>\n",
       "    </tr>\n",
       "    <tr>\n",
       "      <th>1</th>\n",
       "      <td>mammalia</td>\n",
       "      <td>protein20</td>\n",
       "      <td>3</td>\n",
       "      <td>20</td>\n",
       "      <td>4.096010e-17</td>\n",
       "      <td>8000</td>\n",
       "      <td>3.90309</td>\n",
       "      <td>3.903090</td>\n",
       "      <td>0.000000</td>\n",
       "    </tr>\n",
       "    <tr>\n",
       "      <th>2</th>\n",
       "      <td>mammalia</td>\n",
       "      <td>protein20</td>\n",
       "      <td>4</td>\n",
       "      <td>20</td>\n",
       "      <td>6.513404e-12</td>\n",
       "      <td>159884</td>\n",
       "      <td>5.20412</td>\n",
       "      <td>5.203805</td>\n",
       "      <td>-0.000315</td>\n",
       "    </tr>\n",
       "    <tr>\n",
       "      <th>3</th>\n",
       "      <td>mammalia</td>\n",
       "      <td>protein20</td>\n",
       "      <td>5</td>\n",
       "      <td>20</td>\n",
       "      <td>4.461031e-07</td>\n",
       "      <td>2618366</td>\n",
       "      <td>6.50515</td>\n",
       "      <td>6.418030</td>\n",
       "      <td>-0.087120</td>\n",
       "    </tr>\n",
       "    <tr>\n",
       "      <th>4</th>\n",
       "      <td>mammalia</td>\n",
       "      <td>protein20</td>\n",
       "      <td>6</td>\n",
       "      <td>20</td>\n",
       "      <td>1.502986e-04</td>\n",
       "      <td>11733696</td>\n",
       "      <td>7.80618</td>\n",
       "      <td>7.069435</td>\n",
       "      <td>-0.736745</td>\n",
       "    </tr>\n",
       "    <tr>\n",
       "      <th>...</th>\n",
       "      <td>...</td>\n",
       "      <td>...</td>\n",
       "      <td>...</td>\n",
       "      <td>...</td>\n",
       "      <td>...</td>\n",
       "      <td>...</td>\n",
       "      <td>...</td>\n",
       "      <td>...</td>\n",
       "      <td>...</td>\n",
       "    </tr>\n",
       "    <tr>\n",
       "      <th>85</th>\n",
       "      <td>mammalia</td>\n",
       "      <td>hp2</td>\n",
       "      <td>27</td>\n",
       "      <td>2</td>\n",
       "      <td>0.000000e+00</td>\n",
       "      <td>0</td>\n",
       "      <td>8.12781</td>\n",
       "      <td>-inf</td>\n",
       "      <td>-inf</td>\n",
       "    </tr>\n",
       "    <tr>\n",
       "      <th>86</th>\n",
       "      <td>mammalia</td>\n",
       "      <td>hp2</td>\n",
       "      <td>28</td>\n",
       "      <td>2</td>\n",
       "      <td>0.000000e+00</td>\n",
       "      <td>0</td>\n",
       "      <td>8.42884</td>\n",
       "      <td>-inf</td>\n",
       "      <td>-inf</td>\n",
       "    </tr>\n",
       "    <tr>\n",
       "      <th>87</th>\n",
       "      <td>mammalia</td>\n",
       "      <td>hp2</td>\n",
       "      <td>29</td>\n",
       "      <td>2</td>\n",
       "      <td>0.000000e+00</td>\n",
       "      <td>0</td>\n",
       "      <td>8.72987</td>\n",
       "      <td>-inf</td>\n",
       "      <td>-inf</td>\n",
       "    </tr>\n",
       "    <tr>\n",
       "      <th>88</th>\n",
       "      <td>mammalia</td>\n",
       "      <td>hp2</td>\n",
       "      <td>30</td>\n",
       "      <td>2</td>\n",
       "      <td>0.000000e+00</td>\n",
       "      <td>0</td>\n",
       "      <td>9.03090</td>\n",
       "      <td>-inf</td>\n",
       "      <td>-inf</td>\n",
       "    </tr>\n",
       "    <tr>\n",
       "      <th>89</th>\n",
       "      <td>mammalia</td>\n",
       "      <td>hp2</td>\n",
       "      <td>31</td>\n",
       "      <td>2</td>\n",
       "      <td>0.000000e+00</td>\n",
       "      <td>0</td>\n",
       "      <td>9.33193</td>\n",
       "      <td>-inf</td>\n",
       "      <td>-inf</td>\n",
       "    </tr>\n",
       "  </tbody>\n",
       "</table>\n",
       "<p>90 rows × 9 columns</p>\n",
       "</div>"
      ],
      "text/plain": [
       "        name   molecule  ksize  sigma  expected_collisions  n_unique_kmers  \\\n",
       "0   mammalia  protein20      2     20         2.560006e-22             400   \n",
       "1   mammalia  protein20      3     20         4.096010e-17            8000   \n",
       "2   mammalia  protein20      4     20         6.513404e-12          159884   \n",
       "3   mammalia  protein20      5     20         4.461031e-07         2618366   \n",
       "4   mammalia  protein20      6     20         1.502986e-04        11733696   \n",
       "..       ...        ...    ...    ...                  ...             ...   \n",
       "85  mammalia        hp2     27      2         0.000000e+00               0   \n",
       "86  mammalia        hp2     28      2         0.000000e+00               0   \n",
       "87  mammalia        hp2     29      2         0.000000e+00               0   \n",
       "88  mammalia        hp2     30      2         0.000000e+00               0   \n",
       "89  mammalia        hp2     31      2         0.000000e+00               0   \n",
       "\n",
       "    n_theoretical_kmers_log10  n_unique_kmers_log10  \\\n",
       "0                     2.60206              2.602060   \n",
       "1                     3.90309              3.903090   \n",
       "2                     5.20412              5.203805   \n",
       "3                     6.50515              6.418030   \n",
       "4                     7.80618              7.069435   \n",
       "..                        ...                   ...   \n",
       "85                    8.12781                  -inf   \n",
       "86                    8.42884                  -inf   \n",
       "87                    8.72987                  -inf   \n",
       "88                    9.03090                  -inf   \n",
       "89                    9.33193                  -inf   \n",
       "\n",
       "    unique_over_theoretical_log10  \n",
       "0                        0.000000  \n",
       "1                        0.000000  \n",
       "2                       -0.000315  \n",
       "3                       -0.087120  \n",
       "4                       -0.736745  \n",
       "..                            ...  \n",
       "85                           -inf  \n",
       "86                           -inf  \n",
       "87                           -inf  \n",
       "88                           -inf  \n",
       "89                           -inf  \n",
       "\n",
       "[90 rows x 9 columns]"
      ]
     },
     "execution_count": 38,
     "metadata": {},
     "output_type": "execute_result"
    }
   ],
   "source": [
    "df"
   ]
  },
  {
   "cell_type": "code",
   "execution_count": null,
   "metadata": {},
   "outputs": [],
   "source": [
    "# columns = ['name', 'molecule', 'ksize', 'sigma', 'expected_collisions', 'n_unique_kmers']\n",
    "# index_stats = pd.DataFrame(itertools.chain(*lines), \n",
    "#                            columns=columns)\n",
    "\n",
    "# index_stats['n_unique_kmers_log10'] = np.log10(index_stats.n_unique_kmers,)\n",
    "# # index_stats['n_theoretical_kmers'] = np.power(index_stats.sigma, index_stats.ksize)\n",
    "# index_stats['n_theoretical_kmers_log10'] = index_stats.ksize * np.log10(index_stats.sigma)\n",
    "# # index_stats['unique_over_theoretical'] = index_stats.n_unique_kmers / index_stats.n_theoretical_kmers\n",
    "# index_stats['unique_over_theoretical_log10'] = index_stats['n_unique_kmers_log10'] - index_stats['n_theoretical_kmers_log10']\n",
    "print(index_stats.shape)\n",
    "index_stats.head()"
   ]
  },
  {
   "cell_type": "markdown",
   "metadata": {},
   "source": [
    "## Manually do swissprot in serial to find the bug"
   ]
  },
  {
   "cell_type": "code",
   "execution_count": null,
   "metadata": {},
   "outputs": [],
   "source": [
    "name"
   ]
  },
  {
   "cell_type": "code",
   "execution_count": null,
   "metadata": {},
   "outputs": [],
   "source": [
    "fasta"
   ]
  },
  {
   "cell_type": "code",
   "execution_count": null,
   "metadata": {},
   "outputs": [],
   "source": []
  },
  {
   "cell_type": "code",
   "execution_count": null,
   "metadata": {},
   "outputs": [],
   "source": [
    "# import tqdm\n",
    "\n",
    "# def nop(it, *a, **k):\n",
    "#     return it\n",
    "\n",
    "# tqdm.tqdm = nop"
   ]
  },
  {
   "cell_type": "code",
   "execution_count": null,
   "metadata": {},
   "outputs": [],
   "source": [
    "\n",
    "\n",
    "this_fasta_lines  = []\n",
    "# print(f'name: {name}')\n",
    "iterator = itertools.product(['protein20', 'dayhoff6', 'hp2'], range(2, 32))\n",
    "for alphabet, ksize in iterator:\n",
    "    line = create_index_and_compute_stats(name, fasta, alphabet, ksize, tablesize=1e10)\n",
    "    this_fasta_lines.append(line)\n",
    "# this_fasta_lines = Parallel(n_jobs=32, verbose=True)(\n",
    "#     delayed(create_index_and_compute_stats)(\n",
    "#         name, fasta, alphabet, ksize) for alphabet, ksize in iterator)\n",
    "# lines.append(this_fasta_lines)"
   ]
  },
  {
   "cell_type": "code",
   "execution_count": null,
   "metadata": {},
   "outputs": [],
   "source": [
    "alphabet"
   ]
  },
  {
   "cell_type": "code",
   "execution_count": null,
   "metadata": {},
   "outputs": [],
   "source": [
    "ksize"
   ]
  },
  {
   "cell_type": "code",
   "execution_count": null,
   "metadata": {},
   "outputs": [],
   "source": [
    "lines"
   ]
  },
  {
   "cell_type": "code",
   "execution_count": null,
   "metadata": {},
   "outputs": [],
   "source": [
    "lines "
   ]
  },
  {
   "cell_type": "code",
   "execution_count": null,
   "metadata": {},
   "outputs": [],
   "source": [
    "index_stats.tail()"
   ]
  },
  {
   "cell_type": "code",
   "execution_count": null,
   "metadata": {},
   "outputs": [],
   "source": []
  },
  {
   "cell_type": "code",
   "execution_count": null,
   "metadata": {},
   "outputs": [],
   "source": [
    "index_stats = pd.DataFrame(itertools.chain(*lines), columns=['name', 'molecule', 'ksize', 'sigma', 'expected_collisions', 'n_unique_kmers'])\n",
    "print(index_stats.shape)\n",
    "index_stats.head()"
   ]
  },
  {
   "cell_type": "code",
   "execution_count": null,
   "metadata": {},
   "outputs": [],
   "source": [
    "index_stats['n_theoretical_kmers'] = np.power(index_stats.sigma, index_stats.ksize)\n",
    "index_stats.head()"
   ]
  },
  {
   "cell_type": "code",
   "execution_count": null,
   "metadata": {},
   "outputs": [],
   "source": [
    "index_stats['unique_over_theoretical'] = index_stats.n_unique_kmers / index_stats.n_theoretical_kmers\n",
    "index_stats.head()"
   ]
  },
  {
   "cell_type": "code",
   "execution_count": null,
   "metadata": {},
   "outputs": [],
   "source": [
    "index_stats.tail()"
   ]
  },
  {
   "cell_type": "code",
   "execution_count": null,
   "metadata": {},
   "outputs": [],
   "source": [
    "index_stats['unique_over_theoretical_log10'] = -1 * np.log10(index_stats['unique_over_theoretical'])\n",
    "index_stats.head()"
   ]
  },
  {
   "cell_type": "code",
   "execution_count": null,
   "metadata": {},
   "outputs": [],
   "source": [
    "index_stats.to_csv('n_observed_vs_theoretical_kmers_per_uniprot_database.csv', index=False)"
   ]
  },
  {
   "cell_type": "code",
   "execution_count": null,
   "metadata": {},
   "outputs": [],
   "source": [
    "sns.catplot(x='ksize', y='n_unique_kmers', \n",
    "            data=index_stats, hue='name', col='molecule')"
   ]
  },
  {
   "cell_type": "code",
   "execution_count": null,
   "metadata": {},
   "outputs": [],
   "source": [
    "sns.catplot(x='ksize', y='n_unique_kmers', \n",
    "            data=index_stats, hue='name', col='molecule')"
   ]
  },
  {
   "cell_type": "code",
   "execution_count": null,
   "metadata": {},
   "outputs": [],
   "source": [
    "mammalia_fasta"
   ]
  }
 ],
 "metadata": {
  "kernelspec": {
   "display_name": "Python [conda env:sencha]",
   "language": "python",
   "name": "conda-env-sencha-py"
  },
  "language_info": {
   "codemirror_mode": {
    "name": "ipython",
    "version": 3
   },
   "file_extension": ".py",
   "mimetype": "text/x-python",
   "name": "python",
   "nbconvert_exporter": "python",
   "pygments_lexer": "ipython3",
   "version": "3.7.6"
  },
  "toc-autonumbering": true
 },
 "nbformat": 4,
 "nbformat_minor": 4
}
