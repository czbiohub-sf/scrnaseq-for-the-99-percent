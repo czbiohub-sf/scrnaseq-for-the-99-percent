{
 "cells": [
  {
   "cell_type": "code",
   "execution_count": 6,
   "id": "logical-airplane",
   "metadata": {},
   "outputs": [],
   "source": [
    "%load_ext autoreload\n",
    "%autoreload 2"
   ]
  },
  {
   "cell_type": "code",
   "execution_count": 7,
   "id": "powerful-reading",
   "metadata": {},
   "outputs": [],
   "source": [
    "import os\n",
    "import glob\n",
    "import scanpy as sc\n",
    "from sig_utils import sanitize, extract_cell_id_from_fasta"
   ]
  },
  {
   "cell_type": "markdown",
   "id": "handy-evening",
   "metadata": {},
   "source": [
    "# Single-cell signatures"
   ]
  },
  {
   "cell_type": "code",
   "execution_count": 8,
   "id": "raising-rough",
   "metadata": {},
   "outputs": [
    {
     "data": {
      "text/plain": [
       "'/home/olga/code/immune-evolution--olgabot/analyze-kmermaid-bladder/notebooks'"
      ]
     },
     "execution_count": 8,
     "metadata": {},
     "output_type": "execute_result"
    }
   ],
   "source": [
    "pwd"
   ]
  },
  {
   "cell_type": "code",
   "execution_count": 9,
   "id": "engaging-clear",
   "metadata": {},
   "outputs": [
    {
     "data": {
      "text/plain": [
       "'/home/olga/miniconda3/envs/immune-evolution/bin/python /home/olga/code/immune-evolution--olgabot/analyze-kmermaid-bladder/notebooks/sig2kmer.py --quiet {moltype_flags} --output-sequences {output_fasta} --output-kmers {output_kmer_csv} {query_sig} {input_fasta}'"
      ]
     },
     "execution_count": 9,
     "metadata": {},
     "output_type": "execute_result"
    }
   ],
   "source": [
    "PYTHON = '/home/olga/miniconda3/envs/immune-evolution/bin/python'\n",
    "PWD = '/home/olga/code/immune-evolution--olgabot/analyze-kmermaid-bladder/notebooks'\n",
    "SIG2KMER = f\"{PWD}/sig2kmer.py\"\n",
    "sig2kmer_template = f\"{PYTHON} {SIG2KMER} \" + r\"--quiet {moltype_flags} --output-sequences {output_fasta} --output-kmers {output_kmer_csv} {query_sig} {input_fasta}\"\n",
    "sig2kmer_template"
   ]
  },
  {
   "cell_type": "code",
   "execution_count": 10,
   "id": "configured-cambodia",
   "metadata": {},
   "outputs": [],
   "source": [
    "fasta_type_to_sketch_ids = {\n",
    "    \"nucleotides\": [\"alphabet-DNA__ksize-21__scaled-10\"],\n",
    "    \"peptides\": [\n",
    "        \"alphabet-dayhoff__ksize-51__scaled-10\",\n",
    "        \"alphabet-protein__ksize-30__scaled-10\",\n",
    "    ],\n",
    "}\n",
    "\n",
    "sketch_id_to_flags = {\n",
    "    \"alphabet-DNA__ksize-21__scaled-10\": \"--dna --ksize 21\",\n",
    "    \"alphabet-dayhoff__ksize-51__scaled-10\": \"--dayhoff --no-dna --ksize 51 --input-is-protein\",\n",
    "    \"alphabet-protein__ksize-30__scaled-10\": \"--protein --no-dna --ksize 30 --input-is-protein\",\n",
    "}"
   ]
  },
  {
   "cell_type": "code",
   "execution_count": 11,
   "id": "breathing-schedule",
   "metadata": {},
   "outputs": [],
   "source": [
    "\n",
    "def clean_fasta_name(basename, strings_to_remove=[\"__aligned\", '__possorted_genome_bam', '_possorted_genome_bam', '__unaligned']):\n",
    "    new_name = None\n",
    "    for to_remove in strings_to_remove:\n",
    "        if new_name is None:\n",
    "            # First time --> take original basename\n",
    "            new_name = basename.replace(to_remove, '')\n",
    "        else:\n",
    "            new_name = new_name.replace(to_remove, '')\n",
    "            \n",
    "    new_name = new_name.split('_coding_reads')[0].strip(\"_\")\n",
    "    return new_name\n",
    "\n"
   ]
  },
  {
   "cell_type": "markdown",
   "id": "specific-henry",
   "metadata": {},
   "source": [
    "# Per-celltype database signatures for diagnostic k-mers"
   ]
  },
  {
   "cell_type": "code",
   "execution_count": 1,
   "id": "sunset-triumph",
   "metadata": {},
   "outputs": [
    {
     "name": "stdout",
     "output_type": "stream",
     "text": [
      "total 10K\n",
      "drwxr-xr-x 20 olga czb 4.0K Apr 16 09:10 .\n",
      "drwxr-xr-x  7 olga czb 4.0K Mar  5 12:02 ..\n",
      "drwxr-xr-x  4 olga czb 4.0K Feb 28 10:19 0--fastas\n",
      "drwxr-xr-x  5 olga czb 4.0K Apr 16 18:09 1--single-cell-sigs\n",
      "drwxr-xr-x  5 olga czb 4.0K Feb 28 10:58 2--merged-celltype-sigs\n",
      "drwxr-xr-x  5 olga czb 4.0K Mar 26 16:23 2--merged-celltype-sigs--min-kmer-count\n",
      "drwxr-xr-x  5 olga czb 4.0K Mar 26 19:08 2--merged-celltype-sigs--min-kmer-count--10-n-cells\n",
      "drwxr-xr-x  5 olga czb 4.0K Mar 26 19:35 2--merged-celltype-sigs--min-kmer-count--10-percent\n",
      "drwxr-xr-x  5 olga czb 4.0K Mar 26 19:04 2--merged-celltype-sigs--min-kmer-count--2-n-cells\n",
      "drwxr-xr-x  5 olga czb 4.0K Mar 26 18:50 2--merged-celltype-sigs--min-kmer-count--20-percent\n",
      "drwxr-xr-x  5 olga czb 4.0K Mar 26 19:06 2--merged-celltype-sigs--min-kmer-count--5-n-cells\n",
      "drwxr-xr-x  5 olga czb 4.0K Mar 26 19:33 2--merged-celltype-sigs--min-kmer-count--5-percent\n",
      "drwxr-xr-x  5 olga czb 4.0K Mar 26 18:52 2--merged-celltype-sigs--min-kmer-count--50-percent\n",
      "drwxr-xr-x  5 olga czb 4.0K Mar 26 18:54 2--merged-celltype-sigs--min-kmer-count--80-percent\n",
      "drwxr-xr-x  5 olga czb 4.0K Apr 16 09:10 2--single-cell-kmers\n",
      "drwxr-xr-x  8 olga czb 4.0K Mar 17 11:49 3--merged-celltype-remove-common-kmers\n",
      "drwxr-xr-x  5 olga czb 4.0K Mar 27 13:06 3--merged-celltype-remove-common-kmers--min-kmer-count--10-percent\n",
      "drwxr-xr-x  5 olga czb 4.0K Mar 27 13:06 3--merged-celltype-remove-common-kmers--min-kmer-count--5-percent\n",
      "drwxr-xr-x  2 olga czb 4.0K Mar 16 10:36 4--celltype-sbt-dbts\n",
      "drwxr-xr-x  5 olga czb 4.0K Mar 23 15:53 5-celltype-kmers\n"
     ]
    }
   ],
   "source": [
    "! ls -lha /home/olga/data_sm/immune-evolution/kmer-signatures/1--train-mouse/"
   ]
  },
  {
   "cell_type": "code",
   "execution_count": 4,
   "id": "renewable-shuttle",
   "metadata": {},
   "outputs": [
    {
     "name": "stdout",
     "output_type": "stream",
     "text": [
      "total 2.5K\n",
      "drwxr-xr-x  5 olga czb 4.0K Mar 23 15:53 .\n",
      "drwxr-xr-x 20 olga czb 4.0K Apr 16 09:10 ..\n",
      "drwxr-xr-x  3 olga czb 4.0K Mar 25 15:46 alphabet-DNA__ksize-21__scaled-10\n",
      "drwxr-xr-x  3 olga czb 4.0K Mar 30 19:26 alphabet-dayhoff__ksize-51__scaled-10\n",
      "drwxr-xr-x  4 olga czb 4.0K Mar 18 16:12 fastas\n"
     ]
    }
   ],
   "source": [
    "! ls -lha /home/olga/data_sm/immune-evolution/kmer-signatures/1--train-mouse/5-celltype-kmers"
   ]
  },
  {
   "cell_type": "markdown",
   "id": "centered-thunder",
   "metadata": {},
   "source": [
    "## Read one2one 5had"
   ]
  },
  {
   "cell_type": "code",
   "execution_count": 20,
   "id": "received-parking",
   "metadata": {},
   "outputs": [
    {
     "data": {
      "text/html": [
       "<div>\n",
       "<style scoped>\n",
       "    .dataframe tbody tr th:only-of-type {\n",
       "        vertical-align: middle;\n",
       "    }\n",
       "\n",
       "    .dataframe tbody tr th {\n",
       "        vertical-align: top;\n",
       "    }\n",
       "\n",
       "    .dataframe thead th {\n",
       "        text-align: right;\n",
       "    }\n",
       "</style>\n",
       "<table border=\"1\" class=\"dataframe\">\n",
       "  <thead>\n",
       "    <tr style=\"text-align: right;\">\n",
       "      <th></th>\n",
       "      <th>index</th>\n",
       "      <th>age</th>\n",
       "      <th>cell_barcode</th>\n",
       "      <th>cell_ontology_class</th>\n",
       "      <th>cell_ontology_id</th>\n",
       "      <th>channel</th>\n",
       "      <th>free_annotation</th>\n",
       "      <th>individual</th>\n",
       "      <th>mouse.id</th>\n",
       "      <th>patient</th>\n",
       "      <th>...</th>\n",
       "      <th>compartment_group</th>\n",
       "      <th>compartment_narrow</th>\n",
       "      <th>compartment_broad</th>\n",
       "      <th>compartment_broad_narrow</th>\n",
       "      <th>compartment_species</th>\n",
       "      <th>compartment_narrow_species</th>\n",
       "      <th>n_counts</th>\n",
       "      <th>log_counts</th>\n",
       "      <th>sqrt_counts</th>\n",
       "      <th>n_genes</th>\n",
       "    </tr>\n",
       "    <tr>\n",
       "      <th>cell_id</th>\n",
       "      <th></th>\n",
       "      <th></th>\n",
       "      <th></th>\n",
       "      <th></th>\n",
       "      <th></th>\n",
       "      <th></th>\n",
       "      <th></th>\n",
       "      <th></th>\n",
       "      <th></th>\n",
       "      <th></th>\n",
       "      <th></th>\n",
       "      <th></th>\n",
       "      <th></th>\n",
       "      <th></th>\n",
       "      <th></th>\n",
       "      <th></th>\n",
       "      <th></th>\n",
       "      <th></th>\n",
       "      <th></th>\n",
       "      <th></th>\n",
       "      <th></th>\n",
       "    </tr>\n",
       "  </thead>\n",
       "  <tbody>\n",
       "    <tr>\n",
       "      <th>P2_1__AAACCTGAGAAACCAT</th>\n",
       "      <td>P2_1_AAACCTGAGAAACCAT-human</td>\n",
       "      <td>46y</td>\n",
       "      <td>AAACCTGAGAAACCAT</td>\n",
       "      <td>capillary endothelial cell</td>\n",
       "      <td>NaN</td>\n",
       "      <td>P2_1</td>\n",
       "      <td>Capillary Aerocyte</td>\n",
       "      <td>patient_2</td>\n",
       "      <td>NaN</td>\n",
       "      <td>2.0</td>\n",
       "      <td>...</td>\n",
       "      <td>endothelial</td>\n",
       "      <td>endothelial: Capillary Aerocyte</td>\n",
       "      <td>endothelial: Capillary</td>\n",
       "      <td>endothelial: Capillary: Capillary Aerocyte</td>\n",
       "      <td>endothelial: human</td>\n",
       "      <td>endothelial: Capillary Aerocyte: human</td>\n",
       "      <td>1894.0</td>\n",
       "      <td>7.546974</td>\n",
       "      <td>43.520111</td>\n",
       "      <td>1067</td>\n",
       "    </tr>\n",
       "    <tr>\n",
       "      <th>P2_1__AAATGCCAGATGAGAG</th>\n",
       "      <td>P2_1_AAATGCCAGATGAGAG-human</td>\n",
       "      <td>46y</td>\n",
       "      <td>AAATGCCAGATGAGAG</td>\n",
       "      <td>capillary endothelial cell</td>\n",
       "      <td>NaN</td>\n",
       "      <td>P2_1</td>\n",
       "      <td>Capillary Aerocyte</td>\n",
       "      <td>patient_2</td>\n",
       "      <td>NaN</td>\n",
       "      <td>2.0</td>\n",
       "      <td>...</td>\n",
       "      <td>endothelial</td>\n",
       "      <td>endothelial: Capillary Aerocyte</td>\n",
       "      <td>endothelial: Capillary</td>\n",
       "      <td>endothelial: Capillary: Capillary Aerocyte</td>\n",
       "      <td>endothelial: human</td>\n",
       "      <td>endothelial: Capillary Aerocyte: human</td>\n",
       "      <td>2891.0</td>\n",
       "      <td>7.969704</td>\n",
       "      <td>53.768021</td>\n",
       "      <td>1343</td>\n",
       "    </tr>\n",
       "    <tr>\n",
       "      <th>P2_1__AACACGTTCGATCCCT</th>\n",
       "      <td>P2_1_AACACGTTCGATCCCT-human</td>\n",
       "      <td>46y</td>\n",
       "      <td>AACACGTTCGATCCCT</td>\n",
       "      <td>capillary endothelial cell</td>\n",
       "      <td>NaN</td>\n",
       "      <td>P2_1</td>\n",
       "      <td>Capillary Aerocyte</td>\n",
       "      <td>patient_2</td>\n",
       "      <td>NaN</td>\n",
       "      <td>2.0</td>\n",
       "      <td>...</td>\n",
       "      <td>endothelial</td>\n",
       "      <td>endothelial: Capillary Aerocyte</td>\n",
       "      <td>endothelial: Capillary</td>\n",
       "      <td>endothelial: Capillary: Capillary Aerocyte</td>\n",
       "      <td>endothelial: human</td>\n",
       "      <td>endothelial: Capillary Aerocyte: human</td>\n",
       "      <td>1465.0</td>\n",
       "      <td>7.290293</td>\n",
       "      <td>38.275318</td>\n",
       "      <td>917</td>\n",
       "    </tr>\n",
       "    <tr>\n",
       "      <th>P2_1__AACACGTTCGCACTCT</th>\n",
       "      <td>P2_1_AACACGTTCGCACTCT-human</td>\n",
       "      <td>46y</td>\n",
       "      <td>AACACGTTCGCACTCT</td>\n",
       "      <td>capillary endothelial cell</td>\n",
       "      <td>NaN</td>\n",
       "      <td>P2_1</td>\n",
       "      <td>Capillary Aerocyte</td>\n",
       "      <td>patient_2</td>\n",
       "      <td>NaN</td>\n",
       "      <td>2.0</td>\n",
       "      <td>...</td>\n",
       "      <td>endothelial</td>\n",
       "      <td>endothelial: Capillary Aerocyte</td>\n",
       "      <td>endothelial: Capillary</td>\n",
       "      <td>endothelial: Capillary: Capillary Aerocyte</td>\n",
       "      <td>endothelial: human</td>\n",
       "      <td>endothelial: Capillary Aerocyte: human</td>\n",
       "      <td>2127.0</td>\n",
       "      <td>7.662938</td>\n",
       "      <td>46.119411</td>\n",
       "      <td>1068</td>\n",
       "    </tr>\n",
       "    <tr>\n",
       "      <th>P2_1__AACCATGCAGCTCGCA</th>\n",
       "      <td>P2_1_AACCATGCAGCTCGCA-human</td>\n",
       "      <td>46y</td>\n",
       "      <td>AACCATGCAGCTCGCA</td>\n",
       "      <td>capillary endothelial cell</td>\n",
       "      <td>NaN</td>\n",
       "      <td>P2_1</td>\n",
       "      <td>Capillary Aerocyte</td>\n",
       "      <td>patient_2</td>\n",
       "      <td>NaN</td>\n",
       "      <td>2.0</td>\n",
       "      <td>...</td>\n",
       "      <td>endothelial</td>\n",
       "      <td>endothelial: Capillary Aerocyte</td>\n",
       "      <td>endothelial: Capillary</td>\n",
       "      <td>endothelial: Capillary: Capillary Aerocyte</td>\n",
       "      <td>endothelial: human</td>\n",
       "      <td>endothelial: Capillary Aerocyte: human</td>\n",
       "      <td>1620.0</td>\n",
       "      <td>7.390799</td>\n",
       "      <td>40.249222</td>\n",
       "      <td>932</td>\n",
       "    </tr>\n",
       "  </tbody>\n",
       "</table>\n",
       "<p>5 rows × 30 columns</p>\n",
       "</div>"
      ],
      "text/plain": [
       "                                              index  age      cell_barcode  \\\n",
       "cell_id                                                                      \n",
       "P2_1__AAACCTGAGAAACCAT  P2_1_AAACCTGAGAAACCAT-human  46y  AAACCTGAGAAACCAT   \n",
       "P2_1__AAATGCCAGATGAGAG  P2_1_AAATGCCAGATGAGAG-human  46y  AAATGCCAGATGAGAG   \n",
       "P2_1__AACACGTTCGATCCCT  P2_1_AACACGTTCGATCCCT-human  46y  AACACGTTCGATCCCT   \n",
       "P2_1__AACACGTTCGCACTCT  P2_1_AACACGTTCGCACTCT-human  46y  AACACGTTCGCACTCT   \n",
       "P2_1__AACCATGCAGCTCGCA  P2_1_AACCATGCAGCTCGCA-human  46y  AACCATGCAGCTCGCA   \n",
       "\n",
       "                               cell_ontology_class cell_ontology_id channel  \\\n",
       "cell_id                                                                       \n",
       "P2_1__AAACCTGAGAAACCAT  capillary endothelial cell              NaN    P2_1   \n",
       "P2_1__AAATGCCAGATGAGAG  capillary endothelial cell              NaN    P2_1   \n",
       "P2_1__AACACGTTCGATCCCT  capillary endothelial cell              NaN    P2_1   \n",
       "P2_1__AACACGTTCGCACTCT  capillary endothelial cell              NaN    P2_1   \n",
       "P2_1__AACCATGCAGCTCGCA  capillary endothelial cell              NaN    P2_1   \n",
       "\n",
       "                           free_annotation individual mouse.id  patient  ...  \\\n",
       "cell_id                                                                  ...   \n",
       "P2_1__AAACCTGAGAAACCAT  Capillary Aerocyte  patient_2      NaN      2.0  ...   \n",
       "P2_1__AAATGCCAGATGAGAG  Capillary Aerocyte  patient_2      NaN      2.0  ...   \n",
       "P2_1__AACACGTTCGATCCCT  Capillary Aerocyte  patient_2      NaN      2.0  ...   \n",
       "P2_1__AACACGTTCGCACTCT  Capillary Aerocyte  patient_2      NaN      2.0  ...   \n",
       "P2_1__AACCATGCAGCTCGCA  Capillary Aerocyte  patient_2      NaN      2.0  ...   \n",
       "\n",
       "                       compartment_group               compartment_narrow  \\\n",
       "cell_id                                                                     \n",
       "P2_1__AAACCTGAGAAACCAT       endothelial  endothelial: Capillary Aerocyte   \n",
       "P2_1__AAATGCCAGATGAGAG       endothelial  endothelial: Capillary Aerocyte   \n",
       "P2_1__AACACGTTCGATCCCT       endothelial  endothelial: Capillary Aerocyte   \n",
       "P2_1__AACACGTTCGCACTCT       endothelial  endothelial: Capillary Aerocyte   \n",
       "P2_1__AACCATGCAGCTCGCA       endothelial  endothelial: Capillary Aerocyte   \n",
       "\n",
       "                             compartment_broad  \\\n",
       "cell_id                                          \n",
       "P2_1__AAACCTGAGAAACCAT  endothelial: Capillary   \n",
       "P2_1__AAATGCCAGATGAGAG  endothelial: Capillary   \n",
       "P2_1__AACACGTTCGATCCCT  endothelial: Capillary   \n",
       "P2_1__AACACGTTCGCACTCT  endothelial: Capillary   \n",
       "P2_1__AACCATGCAGCTCGCA  endothelial: Capillary   \n",
       "\n",
       "                                          compartment_broad_narrow  \\\n",
       "cell_id                                                              \n",
       "P2_1__AAACCTGAGAAACCAT  endothelial: Capillary: Capillary Aerocyte   \n",
       "P2_1__AAATGCCAGATGAGAG  endothelial: Capillary: Capillary Aerocyte   \n",
       "P2_1__AACACGTTCGATCCCT  endothelial: Capillary: Capillary Aerocyte   \n",
       "P2_1__AACACGTTCGCACTCT  endothelial: Capillary: Capillary Aerocyte   \n",
       "P2_1__AACCATGCAGCTCGCA  endothelial: Capillary: Capillary Aerocyte   \n",
       "\n",
       "                       compartment_species  \\\n",
       "cell_id                                      \n",
       "P2_1__AAACCTGAGAAACCAT  endothelial: human   \n",
       "P2_1__AAATGCCAGATGAGAG  endothelial: human   \n",
       "P2_1__AACACGTTCGATCCCT  endothelial: human   \n",
       "P2_1__AACACGTTCGCACTCT  endothelial: human   \n",
       "P2_1__AACCATGCAGCTCGCA  endothelial: human   \n",
       "\n",
       "                                    compartment_narrow_species n_counts  \\\n",
       "cell_id                                                                   \n",
       "P2_1__AAACCTGAGAAACCAT  endothelial: Capillary Aerocyte: human   1894.0   \n",
       "P2_1__AAATGCCAGATGAGAG  endothelial: Capillary Aerocyte: human   2891.0   \n",
       "P2_1__AACACGTTCGATCCCT  endothelial: Capillary Aerocyte: human   1465.0   \n",
       "P2_1__AACACGTTCGCACTCT  endothelial: Capillary Aerocyte: human   2127.0   \n",
       "P2_1__AACCATGCAGCTCGCA  endothelial: Capillary Aerocyte: human   1620.0   \n",
       "\n",
       "                       log_counts sqrt_counts n_genes  \n",
       "cell_id                                                \n",
       "P2_1__AAACCTGAGAAACCAT   7.546974   43.520111    1067  \n",
       "P2_1__AAATGCCAGATGAGAG   7.969704   53.768021    1343  \n",
       "P2_1__AACACGTTCGATCCCT   7.290293   38.275318     917  \n",
       "P2_1__AACACGTTCGCACTCT   7.662938   46.119411    1068  \n",
       "P2_1__AACCATGCAGCTCGCA   7.390799   40.249222     932  \n",
       "\n",
       "[5 rows x 30 columns]"
      ]
     },
     "execution_count": 20,
     "metadata": {},
     "output_type": "execute_result"
    }
   ],
   "source": [
    "\n",
    "one2one = sc.read(\n",
    "    os.path.join(\n",
    "        \"/home/olga/data_sm/immune-evolution/h5ads/\",\n",
    "        \"human_lemur_mouse_subset_w_shared_one2one_orthologs_human_lemur_mouse_bat.h5ad\",\n",
    "    )\n",
    ")\n",
    "one2one.obs[\"cell_id\"] = (\n",
    "    one2one.obs[\"channel\"].str.split(\"_10X\").str[0].astype(str).str.upper() + \"__\" + one2one.obs[\"cell_barcode\"].astype(str)\n",
    ")\n",
    "one2one.obs = one2one.obs.reset_index().set_index(\"cell_id\")\n",
    "one2one.obs.head()"
   ]
  },
  {
   "cell_type": "markdown",
   "id": "suited-reputation",
   "metadata": {},
   "source": [
    "## Set shared celltypes"
   ]
  },
  {
   "cell_type": "code",
   "execution_count": 21,
   "id": "biblical-begin",
   "metadata": {},
   "outputs": [
    {
     "data": {
      "text/plain": [
       "10"
      ]
     },
     "execution_count": 21,
     "metadata": {},
     "output_type": "execute_result"
    }
   ],
   "source": [
    "SHARED_CELLTYPES = ['Alveolar Epithelial Type 2',\n",
    " 'B cell',\n",
    " 'Capillary',\n",
    " 'Dendritic',\n",
    " 'Fibroblast',\n",
    " 'Macrophage',\n",
    " 'Monocyte',\n",
    " 'Natural Killer T cell',\n",
    " 'Smooth Muscle and Myofibroblast',\n",
    " 'T cell']\n",
    "len(SHARED_CELLTYPES)"
   ]
  },
  {
   "cell_type": "code",
   "execution_count": 22,
   "id": "latest-marshall",
   "metadata": {},
   "outputs": [
    {
     "data": {
      "text/plain": [
       "{'alveolar_epithelial_type_2': 'Alveolar Epithelial Type 2',\n",
       " 'b_cell': 'B cell',\n",
       " 'capillary': 'Capillary',\n",
       " 'dendritic': 'Dendritic',\n",
       " 'fibroblast': 'Fibroblast',\n",
       " 'macrophage': 'Macrophage',\n",
       " 'monocyte': 'Monocyte',\n",
       " 'natural_killer_t_cell': 'Natural Killer T cell',\n",
       " 'smooth_muscle_and_myofibroblast': 'Smooth Muscle and Myofibroblast',\n",
       " 't_cell': 'T cell'}"
      ]
     },
     "execution_count": 22,
     "metadata": {},
     "output_type": "execute_result"
    }
   ],
   "source": [
    "sanitized_to_celltype = {sanitize(x): x for x in SHARED_CELLTYPES}\n",
    "sanitized_to_celltype"
   ]
  },
  {
   "cell_type": "code",
   "execution_count": 23,
   "id": "municipal-patch",
   "metadata": {},
   "outputs": [
    {
     "name": "stderr",
     "output_type": "stream",
     "text": [
      "/home/olga/miniconda3/envs/immune-evolution/lib/python3.7/site-packages/anndata/_core/anndata.py:1094: FutureWarning: is_categorical is deprecated and will be removed in a future version.  Use is_categorical_dtype instead\n",
      "  if not is_categorical(df_full[k]):\n"
     ]
    },
    {
     "data": {
      "text/plain": [
       "View of AnnData object with n_obs × n_vars = 19825 × 6327\n",
       "    obs: 'index', 'age', 'cell_barcode', 'cell_ontology_class', 'cell_ontology_id', 'channel', 'free_annotation', 'individual', 'mouse.id', 'patient', 'possibly_contaminated_barcode', 'sample', 'sequencing_run', 'sex', 'species', 'species_batch', 'species_latin', 'tissue', 'narrow_group', 'broad_group', 'compartment_group', 'compartment_narrow', 'compartment_broad', 'compartment_broad_narrow', 'compartment_species', 'compartment_narrow_species', 'n_counts', 'log_counts', 'sqrt_counts', 'n_genes'\n",
       "    var: 'mouse_lemur__gene_name_x', 'mouse__gene_name_x', 'gene_ids-lemur', 'n_cells-mouse', 'n_cells', 'highly_variable', 'means', 'dispersions', 'dispersions_norm', 'mouse_lemur__gene_name_y', 'mouse__gene_name_y', 'bat__gene_name'\n",
       "    uns: 'age_colors', 'broad_group_colors', 'cell_ontology_class_colors', 'compartment_group_colors', 'individual_colors', 'narrow_group_colors', 'neighbors', 'pca', 'sex_colors', 'species_batch_colors', 'species_colors', 'umap'\n",
       "    obsm: 'X_pca', 'X_umap'\n",
       "    varm: 'PCs'\n",
       "    obsp: 'connectivities', 'distances'"
      ]
     },
     "execution_count": 23,
     "metadata": {},
     "output_type": "execute_result"
    }
   ],
   "source": [
    "mouse = one2one[(one2one.obs['species'] == \"Mouse\") & one2one.obs.broad_group.isin(SHARED_CELLTYPES)]\n",
    "mouse"
   ]
  },
  {
   "cell_type": "code",
   "execution_count": 24,
   "id": "chubby-injury",
   "metadata": {},
   "outputs": [
    {
     "data": {
      "text/plain": [
       "'/home/olga/data_sm/immune-evolution/kmer-signatures/1--train-mouse/'"
      ]
     },
     "execution_count": 24,
     "metadata": {},
     "output_type": "execute_result"
    }
   ],
   "source": [
    "species_folder"
   ]
  },
  {
   "cell_type": "code",
   "execution_count": null,
   "id": "falling-alloy",
   "metadata": {},
   "outputs": [],
   "source": []
  },
  {
   "cell_type": "code",
   "execution_count": 57,
   "id": "cordless-theology",
   "metadata": {},
   "outputs": [
    {
     "name": "stdout",
     "output_type": "stream",
     "text": [
      "/home/olga/data_sm/immune-evolution/kmer-signatures/1--train-mouse/3--merged-celltype-remove-common-kmers--min-kmer-count--5-percent\n",
      "merged-celltype-remove-common-kmers--min-kmer-count--5-percent\n",
      "parallel --progress --eta --jobs 30 < /home/olga/data_sm/immune-evolution/kmer-signatures/1--train-mouse/5--celltype-kmers--merged-celltype-remove-common-kmers--min-kmer-count--5-percent/sig2kmer_commands.txt\n",
      "30 /home/olga/data_sm/immune-evolution/kmer-signatures/1--train-mouse/5--celltype-kmers--merged-celltype-remove-common-kmers--min-kmer-count--5-percent/sig2kmer_commands.txt\n",
      "---\n",
      "/home/olga/data_sm/immune-evolution/kmer-signatures/1--train-mouse/3--merged-celltype-remove-common-kmers--min-kmer-count--10-percent\n",
      "merged-celltype-remove-common-kmers--min-kmer-count--10-percent\n",
      "parallel --progress --eta --jobs 30 < /home/olga/data_sm/immune-evolution/kmer-signatures/1--train-mouse/5--celltype-kmers--merged-celltype-remove-common-kmers--min-kmer-count--10-percent/sig2kmer_commands.txt\n",
      "20 /home/olga/data_sm/immune-evolution/kmer-signatures/1--train-mouse/5--celltype-kmers--merged-celltype-remove-common-kmers--min-kmer-count--10-percent/sig2kmer_commands.txt\n",
      "---\n"
     ]
    }
   ],
   "source": [
    "fasta_base = os.path.join(\n",
    "    \"/home/olga/data_sm/immune-evolution/kmer-signatures/1--train-mouse\", \"0--fastas\"\n",
    ")\n",
    "\n",
    "\n",
    "celltype_fasta_base = os.path.join(\n",
    "    \"/home/olga/data_sm/immune-evolution/kmer-signatures/1--train-mouse\", \"1--celltype-fastas\"\n",
    ")\n",
    "! mkdir -p $celltype_fasta_base\n",
    "\n",
    "\n",
    "species_folder  = '/home/olga/data_sm/immune-evolution/kmer-signatures/1--train-mouse/'\n",
    "\n",
    "# Add \"--t\" to glob command for train and test data\n",
    "for sig_base in glob.glob(\n",
    "    \"/home/olga/data_sm/immune-evolution/kmer-signatures/1--train-mouse/3--merged-celltype-remove-common-kmers--min-kmer-count--*-percent\"\n",
    "):\n",
    "\n",
    "    suffix = os.path.basename(sig_base).split(\"3--\")[-1]\n",
    "    output_base = os.path.join(species_folder, f\"5--celltype-kmers--{suffix}\")\n",
    "    if not os.path.exists(output_base):\n",
    "        os.makedirs(output_base)\n",
    "    print(sig_base)\n",
    "    print(suffix)\n",
    "\n",
    "    #     fasta_output_base = os.path.join(output_base, '')\n",
    "\n",
    "    command_txt = os.path.join(output_base, \"sig2kmer_commands.txt\")\n",
    "\n",
    "    with open(command_txt, \"w\") as f:\n",
    "        for fasta_type, sketch_ids in fasta_type_to_sketch_ids.items():\n",
    "\n",
    "            input_fasta_glob = os.path.join(fasta_base, fasta_type, \"*\")\n",
    "            #             input_fastas = glob.iglob(os.path.join(fasta_base, fasta_type, '*'))\n",
    "            for sketch_id in sketch_ids:\n",
    "                moltype_flags = sketch_id_to_flags[sketch_id]\n",
    "                sketch_id_sig_folder = os.path.join(sig_base, sketch_id)\n",
    "\n",
    "                sketch_id_output_base = os.path.join(output_base, sketch_id)\n",
    "                fasta_output_base = os.path.join(sketch_id_output_base, \"fastas\")\n",
    "                csv_output_base = os.path.join(sketch_id_output_base, \"csvs\")\n",
    "\n",
    "                if not os.path.exists(csv_output_base):\n",
    "                    os.makedirs(fasta_output_base)\n",
    "                    os.makedirs(csv_output_base)\n",
    "                sketch_id_celltype_sigs = glob.iglob(\n",
    "                    os.path.join(sketch_id_sig_folder, \"*.sig\")\n",
    "                )\n",
    "                for celltype_sig in sketch_id_celltype_sigs:\n",
    "                    celltype_sanitized = os.path.basename(celltype_sig).split(\".sig\")[0]\n",
    "                    output_fasta = os.path.join(\n",
    "                        fasta_output_base, f\"{celltype_sanitized}.fasta\"\n",
    "                    )\n",
    "                    output_kmer_csv = os.path.join(\n",
    "                        csv_output_base, f\"{celltype_sanitized}.csv\"\n",
    "                    )\n",
    "                    \n",
    "                    # 53 bytes is the size of the CSV header\n",
    "                    if os.path.exists(output_kmer_csv) and os.path.getsize(output_kmer_csv) > 53:\n",
    "                        continue\n",
    "                    \n",
    "                    celltype_name = sanitized_to_celltype[celltype_sanitized]\n",
    "\n",
    "                    celltype_cell_ids = set(\n",
    "                        mouse.obs.query(\"broad_group == @celltype_name\").index\n",
    "                    )\n",
    "\n",
    "                    input_fasta_filenames = [\n",
    "                        x\n",
    "                        for x in glob.iglob(input_fasta_glob)\n",
    "                        if extract_cell_id_from_fasta(x, double_aligned=True).upper() in celltype_cell_ids\n",
    "                    ]\n",
    "                    \n",
    "                    \n",
    "                    celltype_moltype_fasta_dir = os.path.join(celltype_fasta_base, celltype_sanitized, fasta_type)\n",
    "                    if not os.path.exists(celltype_moltype_fasta_dir):\n",
    "                        os.makedirs(celltype_moltype_fasta_dir)\n",
    "\n",
    "                    \n",
    "                    for filename in input_fasta_filenames:\n",
    "                        destination = os.path.join(celltype_moltype_fasta_dir, os.path.basename(filename))\n",
    "                        if not os.path.exists(destination):\n",
    "                            os.symlink(filename, destination)\n",
    "                    \n",
    "\n",
    "                    command = sig2kmer_template.format(\n",
    "                        moltype_flags=moltype_flags,\n",
    "                        output_fasta=output_fasta,\n",
    "                        output_kmer_csv=output_kmer_csv,\n",
    "                        query_sig=celltype_sig,\n",
    "                        input_fasta=os.path.join(celltype_moltype_fasta_dir, '*'),\n",
    "                    )\n",
    "                    f.write(command + \"\\n\")\n",
    "    #                     break\n",
    "\n",
    "    print(f\"parallel --progress --eta --jobs 30 < {command_txt}\")\n",
    "    ! wc -l $command_txt\n",
    "    print(\"---\")\n",
    "#     ! head -n 1 $command_txt\n",
    "#     print(\"---\")"
   ]
  },
  {
   "cell_type": "code",
   "execution_count": 56,
   "id": "oriental-moral",
   "metadata": {},
   "outputs": [
    {
     "name": "stdout",
     "output_type": "stream",
     "text": [
      "/home/olga/miniconda3/envs/immune-evolution/bin/python /home/olga/code/immune-evolution--olgabot/analyze-kmermaid-bladder/notebooks/sig2kmer.py --quiet --protein --no-dna --ksize 30 --input-is-protein --output-sequences /home/olga/data_sm/immune-evolution/kmer-signatures/1--train-mouse/5--celltype-kmers--merged-celltype-remove-common-kmers--min-kmer-count--10-percent/alphabet-protein__ksize-30__scaled-10/fastas/monocyte.fasta --output-kmers /home/olga/data_sm/immune-evolution/kmer-signatures/1--train-mouse/5--celltype-kmers--merged-celltype-remove-common-kmers--min-kmer-count--10-percent/alphabet-protein__ksize-30__scaled-10/csvs/monocyte.csv /home/olga/data_sm/immune-evolution/kmer-signatures/1--train-mouse/3--merged-celltype-remove-common-kmers--min-kmer-count--10-percent/alphabet-protein__ksize-30__scaled-10/monocyte.sig /home/olga/data_sm/immune-evolution/kmer-signatures/1--train-mouse/1--celltype-fastas/monocyte/peptides/*\n",
      "/home/olga/miniconda3/envs/immune-evolution/bin/python /home/olga/code/immune-evolution--olgabot/analyze-kmermaid-bladder/notebooks/sig2kmer.py --quiet --protein --no-dna --ksize 30 --input-is-protein --output-sequences /home/olga/data_sm/immune-evolution/kmer-signatures/1--train-mouse/5--celltype-kmers--merged-celltype-remove-common-kmers--min-kmer-count--10-percent/alphabet-protein__ksize-30__scaled-10/fastas/capillary.fasta --output-kmers /home/olga/data_sm/immune-evolution/kmer-signatures/1--train-mouse/5--celltype-kmers--merged-celltype-remove-common-kmers--min-kmer-count--10-percent/alphabet-protein__ksize-30__scaled-10/csvs/capillary.csv /home/olga/data_sm/immune-evolution/kmer-signatures/1--train-mouse/3--merged-celltype-remove-common-kmers--min-kmer-count--10-percent/alphabet-protein__ksize-30__scaled-10/capillary.sig /home/olga/data_sm/immune-evolution/kmer-signatures/1--train-mouse/1--celltype-fastas/capillary/peptides/*\n",
      "/home/olga/miniconda3/envs/immune-evolution/bin/python /home/olga/code/immune-evolution--olgabot/analyze-kmermaid-bladder/notebooks/sig2kmer.py --quiet --protein --no-dna --ksize 30 --input-is-protein --output-sequences /home/olga/data_sm/immune-evolution/kmer-signatures/1--train-mouse/5--celltype-kmers--merged-celltype-remove-common-kmers--min-kmer-count--10-percent/alphabet-protein__ksize-30__scaled-10/fastas/b_cell.fasta --output-kmers /home/olga/data_sm/immune-evolution/kmer-signatures/1--train-mouse/5--celltype-kmers--merged-celltype-remove-common-kmers--min-kmer-count--10-percent/alphabet-protein__ksize-30__scaled-10/csvs/b_cell.csv /home/olga/data_sm/immune-evolution/kmer-signatures/1--train-mouse/3--merged-celltype-remove-common-kmers--min-kmer-count--10-percent/alphabet-protein__ksize-30__scaled-10/b_cell.sig /home/olga/data_sm/immune-evolution/kmer-signatures/1--train-mouse/1--celltype-fastas/b_cell/peptides/*\n",
      "/home/olga/miniconda3/envs/immune-evolution/bin/python /home/olga/code/immune-evolution--olgabot/analyze-kmermaid-bladder/notebooks/sig2kmer.py --quiet --protein --no-dna --ksize 30 --input-is-protein --output-sequences /home/olga/data_sm/immune-evolution/kmer-signatures/1--train-mouse/5--celltype-kmers--merged-celltype-remove-common-kmers--min-kmer-count--10-percent/alphabet-protein__ksize-30__scaled-10/fastas/alveolar_epithelial_type_2.fasta --output-kmers /home/olga/data_sm/immune-evolution/kmer-signatures/1--train-mouse/5--celltype-kmers--merged-celltype-remove-common-kmers--min-kmer-count--10-percent/alphabet-protein__ksize-30__scaled-10/csvs/alveolar_epithelial_type_2.csv /home/olga/data_sm/immune-evolution/kmer-signatures/1--train-mouse/3--merged-celltype-remove-common-kmers--min-kmer-count--10-percent/alphabet-protein__ksize-30__scaled-10/alveolar_epithelial_type_2.sig /home/olga/data_sm/immune-evolution/kmer-signatures/1--train-mouse/1--celltype-fastas/alveolar_epithelial_type_2/peptides/*\n",
      "/home/olga/miniconda3/envs/immune-evolution/bin/python /home/olga/code/immune-evolution--olgabot/analyze-kmermaid-bladder/notebooks/sig2kmer.py --quiet --protein --no-dna --ksize 30 --input-is-protein --output-sequences /home/olga/data_sm/immune-evolution/kmer-signatures/1--train-mouse/5--celltype-kmers--merged-celltype-remove-common-kmers--min-kmer-count--10-percent/alphabet-protein__ksize-30__scaled-10/fastas/t_cell.fasta --output-kmers /home/olga/data_sm/immune-evolution/kmer-signatures/1--train-mouse/5--celltype-kmers--merged-celltype-remove-common-kmers--min-kmer-count--10-percent/alphabet-protein__ksize-30__scaled-10/csvs/t_cell.csv /home/olga/data_sm/immune-evolution/kmer-signatures/1--train-mouse/3--merged-celltype-remove-common-kmers--min-kmer-count--10-percent/alphabet-protein__ksize-30__scaled-10/t_cell.sig /home/olga/data_sm/immune-evolution/kmer-signatures/1--train-mouse/1--celltype-fastas/t_cell/peptides/*\n"
     ]
    }
   ],
   "source": [
    "! tail -n 5 $command_txt"
   ]
  },
  {
   "cell_type": "code",
   "execution_count": 37,
   "id": "internal-tunnel",
   "metadata": {},
   "outputs": [],
   "source": [
    "# celltype_cell_ids"
   ]
  },
  {
   "cell_type": "code",
   "execution_count": 42,
   "id": "nasty-bumper",
   "metadata": {},
   "outputs": [
    {
     "data": {
      "text/plain": [
       "'/home/olga/data_sm/immune-evolution/kmer-signatures/1--train-mouse/0--fastas/peptides/*'"
      ]
     },
     "execution_count": 42,
     "metadata": {},
     "output_type": "execute_result"
    }
   ],
   "source": [
    "input_fasta_glob"
   ]
  },
  {
   "cell_type": "code",
   "execution_count": 46,
   "id": "varied-answer",
   "metadata": {},
   "outputs": [],
   "source": [
    "for x in glob.iglob('/home/olga/data_sm/immune-evolution/kmer-signatures/1--train-mouse/0--fastas/nucleotides/10*'):\n",
    "    print(extract_cell_id_from_fasta(x, double_aligned=True))\n",
    "    break"
   ]
  },
  {
   "cell_type": "code",
   "execution_count": 43,
   "id": "theoretical-project",
   "metadata": {},
   "outputs": [],
   "source": [
    "# celltype_cell_ids"
   ]
  },
  {
   "cell_type": "code",
   "execution_count": 29,
   "id": "civic-accent",
   "metadata": {},
   "outputs": [
    {
     "name": "stdout",
     "output_type": "stream",
     "text": [
      "> \u001b[0;32m/home/olga/code/immune-evolution--olgabot/analyze-kmermaid-bladder/notebooks/sig_utils.py\u001b[0m(605)\u001b[0;36mextract_channel_alignment_barcode\u001b[0;34m()\u001b[0m\n",
      "\u001b[0;32m    603 \u001b[0;31m    \u001b[0;32melse\u001b[0m\u001b[0;34m:\u001b[0m\u001b[0;34m\u001b[0m\u001b[0;34m\u001b[0m\u001b[0m\n",
      "\u001b[0m\u001b[0;32m    604 \u001b[0;31m        \u001b[0;31m# \"__aligned__\" or \"__unaligned__\"\u001b[0m\u001b[0;34m\u001b[0m\u001b[0;34m\u001b[0m\u001b[0;34m\u001b[0m\u001b[0m\n",
      "\u001b[0m\u001b[0;32m--> 605 \u001b[0;31m        \u001b[0mchannel\u001b[0m\u001b[0;34m,\u001b[0m \u001b[0malignment_status\u001b[0m\u001b[0;34m,\u001b[0m \u001b[0mbarcode\u001b[0m\u001b[0;34m,\u001b[0m \u001b[0msuffix\u001b[0m \u001b[0;34m=\u001b[0m \u001b[0mbasename\u001b[0m\u001b[0;34m.\u001b[0m\u001b[0msplit\u001b[0m\u001b[0;34m(\u001b[0m\u001b[0;34m\"__\"\u001b[0m\u001b[0;34m)\u001b[0m\u001b[0;34m\u001b[0m\u001b[0;34m\u001b[0m\u001b[0m\n",
      "\u001b[0m\u001b[0;32m    606 \u001b[0;31m    \u001b[0;32mreturn\u001b[0m \u001b[0mchannel\u001b[0m\u001b[0;34m.\u001b[0m\u001b[0mstrip\u001b[0m\u001b[0;34m(\u001b[0m\u001b[0;34m\"_\"\u001b[0m\u001b[0;34m)\u001b[0m\u001b[0;34m,\u001b[0m \u001b[0malignment_status\u001b[0m\u001b[0;34m.\u001b[0m\u001b[0mstrip\u001b[0m\u001b[0;34m(\u001b[0m\u001b[0;34m\"_\"\u001b[0m\u001b[0;34m)\u001b[0m\u001b[0;34m,\u001b[0m \u001b[0mbarcode\u001b[0m\u001b[0;34m.\u001b[0m\u001b[0mstrip\u001b[0m\u001b[0;34m(\u001b[0m\u001b[0;34m'_'\u001b[0m\u001b[0;34m)\u001b[0m\u001b[0;34m\u001b[0m\u001b[0;34m\u001b[0m\u001b[0m\n",
      "\u001b[0m\u001b[0;32m    607 \u001b[0;31m\u001b[0;34m\u001b[0m\u001b[0m\n",
      "\u001b[0m\n"
     ]
    },
    {
     "name": "stdin",
     "output_type": "stream",
     "text": [
      "ipdb>  dir()\n"
     ]
    },
    {
     "name": "stdout",
     "output_type": "stream",
     "text": [
      "['basename', 'double_aligned', 'singlecell_fasta']\n"
     ]
    },
    {
     "name": "stdin",
     "output_type": "stream",
     "text": [
      "ipdb>  basename\n"
     ]
    },
    {
     "name": "stdout",
     "output_type": "stream",
     "text": [
      "'MACA_21m_F_LUNG_55__aligned__aligned__GAAGCAGCATGTCTCC__coding_reads_nucleotides.fasta'\n"
     ]
    },
    {
     "name": "stdin",
     "output_type": "stream",
     "text": [
      "ipdb>  q\n"
     ]
    }
   ],
   "source": [
    "%debug"
   ]
  },
  {
   "cell_type": "code",
   "execution_count": null,
   "id": "collect-applicant",
   "metadata": {},
   "outputs": [],
   "source": []
  }
 ],
 "metadata": {
  "kernelspec": {
   "display_name": "Python [conda env:immune-evolution]",
   "language": "python",
   "name": "conda-env-immune-evolution-py"
  },
  "language_info": {
   "codemirror_mode": {
    "name": "ipython",
    "version": 3
   },
   "file_extension": ".py",
   "mimetype": "text/x-python",
   "name": "python",
   "nbconvert_exporter": "python",
   "pygments_lexer": "ipython3",
   "version": "3.7.8"
  }
 },
 "nbformat": 4,
 "nbformat_minor": 5
}
