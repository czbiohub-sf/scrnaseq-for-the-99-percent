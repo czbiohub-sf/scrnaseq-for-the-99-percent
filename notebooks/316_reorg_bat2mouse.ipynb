{
 "cells": [
  {
   "cell_type": "markdown",
   "id": "permanent-portable",
   "metadata": {},
   "source": [
    "# Goal for how to organize the signatures\n",
    "\n",
    "Copy all ribosomal-removed signatures to these subfolders\n",
    "\n",
    "\n",
    "Using `DNA`, `protein`, and `dayhoff` for shorthand now. In reality would use the full sketch id, e.g. `alphabet-DNA__ksize-21__scaled-10`\n",
    "\n",
    "```\n",
    "mouse2mouse/\n",
    "    self2self-bootstrapped/\n",
    "        0--train-mouse1-single-cells/\n",
    "            iteration-00/\n",
    "                DNA/\n",
    "                protein/\n",
    "                dayhoff/\n",
    "            iteration-01/\n",
    "                ...\n",
    "        1--test-mouse1-single-cells/\n",
    "            iteration-00/\n",
    "                DNA/\n",
    "                protein/\n",
    "                dayhoff/\n",
    "            iteration-01/\n",
    "                ...                \n",
    "        2--train-mouse1-merged-celltype-sigs/\n",
    "            iteration-00/\n",
    "                DNA/\n",
    "                protein/\n",
    "                dayhoff/\n",
    "            iteration-01/\n",
    "                ...\n",
    "        3--train-mouse1-celltype-remove-common-kmers/\n",
    "            iteration-00/\n",
    "                DNA/\n",
    "                protein/\n",
    "                dayhoff/\n",
    "            iteration-01/\n",
    "                ...\n",
    "        4--train-mouse1--celltype-sbt-dbs/\n",
    "            iteration-00/\n",
    "                DNA/\n",
    "                protein/\n",
    "                dayhoff/\n",
    "            iteration-01/\n",
    "                ...\n",
    "        5--search-results/\n",
    "            iteration-00/\n",
    "                DNA/\n",
    "                protein/\n",
    "                dayhoff/\n",
    "            iteration-00/\n",
    "                ...\n",
    "    mouse1-mouse2/\n",
    "        0--train-mouse1-single-cells/\n",
    "            DNA/\n",
    "            protein/\n",
    "            dayhoff/\n",
    "        1--test-mouse2-single-cells/\n",
    "            DNA/\n",
    "            protein/\n",
    "            dayhoff/\n",
    "        2--train-mouse1-merged-celltype-sigs/\n",
    "            DNA/\n",
    "            protein/\n",
    "            dayhoff/\n",
    "        3--train-mouse1-celltype-remove-common-kmers/\n",
    "            DNA/\n",
    "            protein/\n",
    "            dayhoff/\n",
    "        4--train-mouse1-celltype-sbt-dbs/\n",
    "            DNA/\n",
    "            protein/\n",
    "            dayhoff\n",
    "        5--search-results/\n",
    "            DNA/\n",
    "            protein/\n",
    "            dayhoff/\n",
    "train-mouse/\n",
    "    0--protein-coding-fastas/\n",
    "        nucleotide/\n",
    "        peptide/\n",
    "    1--single-cell-sigs/\n",
    "        DNA/\n",
    "        protein/\n",
    "        dayhoff/\n",
    "    2--merged-celltype-sigs/\n",
    "        DNA/\n",
    "        protein/\n",
    "        dayhoff/\n",
    "    3--celltype-remove-common-kmers/\n",
    "        DNA/\n",
    "        protein/\n",
    "        dayhoff/\n",
    "    4--celltype-sbt-dbs/\n",
    "        DNA/\n",
    "        protein/\n",
    "        dayhoff/\n",
    "test-human/\n",
    "    0--protein-coding-fastas/\n",
    "        nucleotide/\n",
    "        peptide/\n",
    "    1--single-cell-sigs/\n",
    "        DNA/\n",
    "        protein/\n",
    "        dayhoff/\n",
    "    2--mouse-search-results/\n",
    "        DNA/\n",
    "        protein/\n",
    "        dayhoffl\n",
    "test-lemur/\n",
    "    0--protein-coding-fastas/\n",
    "        nucleotide/\n",
    "        peptide/\n",
    "    1--single-cell-sigs/\n",
    "        protein/\n",
    "        dayhoff/\n",
    "    2--mouse-search-results/\n",
    "        DNA/\n",
    "        protein/\n",
    "        dayhoff/\n",
    "test-bat/\n",
    "    0--protein-coding-fastas/\n",
    "        nucleotide/\n",
    "        peptide/\n",
    "    1--single-cell-sigs/\n",
    "        protein/\n",
    "        dayhoff/\n",
    "    2--mouse-search-results/\n",
    "        DNA/\n",
    "        protein/\n",
    "        dayhoff/\n",
    "```"
   ]
  },
  {
   "cell_type": "markdown",
   "id": "tight-excuse",
   "metadata": {},
   "source": [
    "# Imports"
   ]
  },
  {
   "cell_type": "code",
   "execution_count": 1,
   "id": "handmade-practitioner",
   "metadata": {},
   "outputs": [],
   "source": [
    "import glob\n",
    "import os\n",
    "import shutil\n",
    "\n",
    "import pandas as pd\n",
    "import scanpy as sc\n",
    "import sig_utils\n",
    "from joblib import Parallel, delayed\n",
    "from tqdm import tqdm\n",
    "\n",
    "import create_sourmash_command_utils as csc_utils\n",
    "\n",
    "import sig_reorg\n",
    "\n",
    "pd.options.display.max_rows = 500\n",
    "\n",
    "%load_ext autoreload\n",
    "%autoreload 2"
   ]
  },
  {
   "cell_type": "markdown",
   "id": "accepting-beads",
   "metadata": {},
   "source": [
    "## Def Describe"
   ]
  },
  {
   "cell_type": "code",
   "execution_count": 2,
   "id": "medium-legislation",
   "metadata": {},
   "outputs": [
    {
     "name": "stdout",
     "output_type": "stream",
     "text": [
      "Overwriting pandas_utils.py\n"
     ]
    }
   ],
   "source": [
    "%%file pandas_utils.py\n",
    "\n",
    "def describe(df, random=False):\n",
    "    print(df.shape)\n",
    "    print(\"--- First 5 entries ---\")\n",
    "    display(df.head())\n",
    "    if random:\n",
    "        print('--- Random subset ---')\n",
    "        display(df.sample(5))"
   ]
  },
  {
   "cell_type": "code",
   "execution_count": 3,
   "id": "distinct-lecture",
   "metadata": {},
   "outputs": [],
   "source": [
    "from pandas_utils import describe"
   ]
  },
  {
   "cell_type": "markdown",
   "id": "global-distinction",
   "metadata": {},
   "source": [
    "## Read one2one h5ad"
   ]
  },
  {
   "cell_type": "code",
   "execution_count": 4,
   "id": "integrated-luther",
   "metadata": {},
   "outputs": [
    {
     "name": "stdout",
     "output_type": "stream",
     "text": [
      "AnnData object with n_obs × n_vars = 126745 × 10560\n",
      "    obs: 'index', 'age', 'cell_barcode', 'cell_ontology_class', 'cell_ontology_id', 'channel', 'free_annotation', 'individual', 'sample', 'sequencing_run', 'sex', 'species', 'species_batch', 'species_latin', 'tissue', 'narrow_group', 'broad_group', 'compartment_group', 'compartment_narrow', 'channel_cleaned', 'batch', 'n_genes', 'n_counts', 'species_batch_v2', 'compartment_broad', 'compartment_broad_narrow', 'compartment_species', 'compartment_narrow_species', 'common_individual_id'\n",
      "    var: 'bat__gene_name', 'mouse_lemur__gene_name-bat', 'mouse__gene_name-bat', 'mouse_lemur__gene_name_x-hlm', 'mouse__gene_name_x-hlm', 'gene_ids-lemur-hlm', 'n_cells-mouse-hlm', 'mouse_lemur__gene_name_y-hlm', 'mouse__gene_name_y-hlm'\n"
     ]
    },
    {
     "data": {
      "text/html": [
       "<div>\n",
       "<style scoped>\n",
       "    .dataframe tbody tr th:only-of-type {\n",
       "        vertical-align: middle;\n",
       "    }\n",
       "\n",
       "    .dataframe tbody tr th {\n",
       "        vertical-align: top;\n",
       "    }\n",
       "\n",
       "    .dataframe thead th {\n",
       "        text-align: right;\n",
       "    }\n",
       "</style>\n",
       "<table border=\"1\" class=\"dataframe\">\n",
       "  <thead>\n",
       "    <tr style=\"text-align: right;\">\n",
       "      <th></th>\n",
       "      <th>index</th>\n",
       "      <th>age</th>\n",
       "      <th>cell_barcode</th>\n",
       "      <th>cell_ontology_class</th>\n",
       "      <th>cell_ontology_id</th>\n",
       "      <th>channel</th>\n",
       "      <th>free_annotation</th>\n",
       "      <th>individual</th>\n",
       "      <th>sample</th>\n",
       "      <th>sequencing_run</th>\n",
       "      <th>...</th>\n",
       "      <th>channel_cleaned</th>\n",
       "      <th>batch</th>\n",
       "      <th>n_genes</th>\n",
       "      <th>n_counts</th>\n",
       "      <th>species_batch_v2</th>\n",
       "      <th>compartment_broad</th>\n",
       "      <th>compartment_broad_narrow</th>\n",
       "      <th>compartment_species</th>\n",
       "      <th>compartment_narrow_species</th>\n",
       "      <th>common_individual_id</th>\n",
       "    </tr>\n",
       "    <tr>\n",
       "      <th>cell_id</th>\n",
       "      <th></th>\n",
       "      <th></th>\n",
       "      <th></th>\n",
       "      <th></th>\n",
       "      <th></th>\n",
       "      <th></th>\n",
       "      <th></th>\n",
       "      <th></th>\n",
       "      <th></th>\n",
       "      <th></th>\n",
       "      <th></th>\n",
       "      <th></th>\n",
       "      <th></th>\n",
       "      <th></th>\n",
       "      <th></th>\n",
       "      <th></th>\n",
       "      <th></th>\n",
       "      <th></th>\n",
       "      <th></th>\n",
       "      <th></th>\n",
       "      <th></th>\n",
       "    </tr>\n",
       "  </thead>\n",
       "  <tbody>\n",
       "    <tr>\n",
       "      <th>P2_1__AAACCTGAGAAACCAT</th>\n",
       "      <td>P2_1_AAACCTGAGAAACCAT-human-hlm</td>\n",
       "      <td>46y</td>\n",
       "      <td>AAACCTGAGAAACCAT</td>\n",
       "      <td>capillary endothelial cell</td>\n",
       "      <td>nan</td>\n",
       "      <td>P2_1</td>\n",
       "      <td>Capillary Aerocyte</td>\n",
       "      <td>patient_2</td>\n",
       "      <td>distal 2</td>\n",
       "      <td>180607_A00111_0155_BHFCWYDMXX</td>\n",
       "      <td>...</td>\n",
       "      <td>P2_1</td>\n",
       "      <td>NaN</td>\n",
       "      <td>NaN</td>\n",
       "      <td>NaN</td>\n",
       "      <td>hlm</td>\n",
       "      <td>endothelial: Capillary</td>\n",
       "      <td>endothelial: Capillary: Capillary Aerocyte</td>\n",
       "      <td>endothelial: human</td>\n",
       "      <td>endothelial: Capillary Aerocyte: human</td>\n",
       "      <td>human_patient_2</td>\n",
       "    </tr>\n",
       "    <tr>\n",
       "      <th>P2_1__AAATGCCAGATGAGAG</th>\n",
       "      <td>P2_1_AAATGCCAGATGAGAG-human-hlm</td>\n",
       "      <td>46y</td>\n",
       "      <td>AAATGCCAGATGAGAG</td>\n",
       "      <td>capillary endothelial cell</td>\n",
       "      <td>nan</td>\n",
       "      <td>P2_1</td>\n",
       "      <td>Capillary Aerocyte</td>\n",
       "      <td>patient_2</td>\n",
       "      <td>distal 2</td>\n",
       "      <td>180607_A00111_0155_BHFCWYDMXX</td>\n",
       "      <td>...</td>\n",
       "      <td>P2_1</td>\n",
       "      <td>NaN</td>\n",
       "      <td>NaN</td>\n",
       "      <td>NaN</td>\n",
       "      <td>hlm</td>\n",
       "      <td>endothelial: Capillary</td>\n",
       "      <td>endothelial: Capillary: Capillary Aerocyte</td>\n",
       "      <td>endothelial: human</td>\n",
       "      <td>endothelial: Capillary Aerocyte: human</td>\n",
       "      <td>human_patient_2</td>\n",
       "    </tr>\n",
       "    <tr>\n",
       "      <th>P2_1__AACACGTTCGATCCCT</th>\n",
       "      <td>P2_1_AACACGTTCGATCCCT-human-hlm</td>\n",
       "      <td>46y</td>\n",
       "      <td>AACACGTTCGATCCCT</td>\n",
       "      <td>capillary endothelial cell</td>\n",
       "      <td>nan</td>\n",
       "      <td>P2_1</td>\n",
       "      <td>Capillary Aerocyte</td>\n",
       "      <td>patient_2</td>\n",
       "      <td>distal 2</td>\n",
       "      <td>180607_A00111_0155_BHFCWYDMXX</td>\n",
       "      <td>...</td>\n",
       "      <td>P2_1</td>\n",
       "      <td>NaN</td>\n",
       "      <td>NaN</td>\n",
       "      <td>NaN</td>\n",
       "      <td>hlm</td>\n",
       "      <td>endothelial: Capillary</td>\n",
       "      <td>endothelial: Capillary: Capillary Aerocyte</td>\n",
       "      <td>endothelial: human</td>\n",
       "      <td>endothelial: Capillary Aerocyte: human</td>\n",
       "      <td>human_patient_2</td>\n",
       "    </tr>\n",
       "    <tr>\n",
       "      <th>P2_1__AACACGTTCGCACTCT</th>\n",
       "      <td>P2_1_AACACGTTCGCACTCT-human-hlm</td>\n",
       "      <td>46y</td>\n",
       "      <td>AACACGTTCGCACTCT</td>\n",
       "      <td>capillary endothelial cell</td>\n",
       "      <td>nan</td>\n",
       "      <td>P2_1</td>\n",
       "      <td>Capillary Aerocyte</td>\n",
       "      <td>patient_2</td>\n",
       "      <td>distal 2</td>\n",
       "      <td>180607_A00111_0155_BHFCWYDMXX</td>\n",
       "      <td>...</td>\n",
       "      <td>P2_1</td>\n",
       "      <td>NaN</td>\n",
       "      <td>NaN</td>\n",
       "      <td>NaN</td>\n",
       "      <td>hlm</td>\n",
       "      <td>endothelial: Capillary</td>\n",
       "      <td>endothelial: Capillary: Capillary Aerocyte</td>\n",
       "      <td>endothelial: human</td>\n",
       "      <td>endothelial: Capillary Aerocyte: human</td>\n",
       "      <td>human_patient_2</td>\n",
       "    </tr>\n",
       "    <tr>\n",
       "      <th>P2_1__AACCATGCAGCTCGCA</th>\n",
       "      <td>P2_1_AACCATGCAGCTCGCA-human-hlm</td>\n",
       "      <td>46y</td>\n",
       "      <td>AACCATGCAGCTCGCA</td>\n",
       "      <td>capillary endothelial cell</td>\n",
       "      <td>nan</td>\n",
       "      <td>P2_1</td>\n",
       "      <td>Capillary Aerocyte</td>\n",
       "      <td>patient_2</td>\n",
       "      <td>distal 2</td>\n",
       "      <td>180607_A00111_0155_BHFCWYDMXX</td>\n",
       "      <td>...</td>\n",
       "      <td>P2_1</td>\n",
       "      <td>NaN</td>\n",
       "      <td>NaN</td>\n",
       "      <td>NaN</td>\n",
       "      <td>hlm</td>\n",
       "      <td>endothelial: Capillary</td>\n",
       "      <td>endothelial: Capillary: Capillary Aerocyte</td>\n",
       "      <td>endothelial: human</td>\n",
       "      <td>endothelial: Capillary Aerocyte: human</td>\n",
       "      <td>human_patient_2</td>\n",
       "    </tr>\n",
       "  </tbody>\n",
       "</table>\n",
       "<p>5 rows × 29 columns</p>\n",
       "</div>"
      ],
      "text/plain": [
       "                                                  index  age  \\\n",
       "cell_id                                                        \n",
       "P2_1__AAACCTGAGAAACCAT  P2_1_AAACCTGAGAAACCAT-human-hlm  46y   \n",
       "P2_1__AAATGCCAGATGAGAG  P2_1_AAATGCCAGATGAGAG-human-hlm  46y   \n",
       "P2_1__AACACGTTCGATCCCT  P2_1_AACACGTTCGATCCCT-human-hlm  46y   \n",
       "P2_1__AACACGTTCGCACTCT  P2_1_AACACGTTCGCACTCT-human-hlm  46y   \n",
       "P2_1__AACCATGCAGCTCGCA  P2_1_AACCATGCAGCTCGCA-human-hlm  46y   \n",
       "\n",
       "                            cell_barcode         cell_ontology_class  \\\n",
       "cell_id                                                                \n",
       "P2_1__AAACCTGAGAAACCAT  AAACCTGAGAAACCAT  capillary endothelial cell   \n",
       "P2_1__AAATGCCAGATGAGAG  AAATGCCAGATGAGAG  capillary endothelial cell   \n",
       "P2_1__AACACGTTCGATCCCT  AACACGTTCGATCCCT  capillary endothelial cell   \n",
       "P2_1__AACACGTTCGCACTCT  AACACGTTCGCACTCT  capillary endothelial cell   \n",
       "P2_1__AACCATGCAGCTCGCA  AACCATGCAGCTCGCA  capillary endothelial cell   \n",
       "\n",
       "                       cell_ontology_id channel     free_annotation  \\\n",
       "cell_id                                                               \n",
       "P2_1__AAACCTGAGAAACCAT              nan    P2_1  Capillary Aerocyte   \n",
       "P2_1__AAATGCCAGATGAGAG              nan    P2_1  Capillary Aerocyte   \n",
       "P2_1__AACACGTTCGATCCCT              nan    P2_1  Capillary Aerocyte   \n",
       "P2_1__AACACGTTCGCACTCT              nan    P2_1  Capillary Aerocyte   \n",
       "P2_1__AACCATGCAGCTCGCA              nan    P2_1  Capillary Aerocyte   \n",
       "\n",
       "                       individual    sample                 sequencing_run  \\\n",
       "cell_id                                                                      \n",
       "P2_1__AAACCTGAGAAACCAT  patient_2  distal 2  180607_A00111_0155_BHFCWYDMXX   \n",
       "P2_1__AAATGCCAGATGAGAG  patient_2  distal 2  180607_A00111_0155_BHFCWYDMXX   \n",
       "P2_1__AACACGTTCGATCCCT  patient_2  distal 2  180607_A00111_0155_BHFCWYDMXX   \n",
       "P2_1__AACACGTTCGCACTCT  patient_2  distal 2  180607_A00111_0155_BHFCWYDMXX   \n",
       "P2_1__AACCATGCAGCTCGCA  patient_2  distal 2  180607_A00111_0155_BHFCWYDMXX   \n",
       "\n",
       "                        ... channel_cleaned batch n_genes n_counts  \\\n",
       "cell_id                 ...                                          \n",
       "P2_1__AAACCTGAGAAACCAT  ...            P2_1   NaN     NaN      NaN   \n",
       "P2_1__AAATGCCAGATGAGAG  ...            P2_1   NaN     NaN      NaN   \n",
       "P2_1__AACACGTTCGATCCCT  ...            P2_1   NaN     NaN      NaN   \n",
       "P2_1__AACACGTTCGCACTCT  ...            P2_1   NaN     NaN      NaN   \n",
       "P2_1__AACCATGCAGCTCGCA  ...            P2_1   NaN     NaN      NaN   \n",
       "\n",
       "                       species_batch_v2       compartment_broad  \\\n",
       "cell_id                                                           \n",
       "P2_1__AAACCTGAGAAACCAT              hlm  endothelial: Capillary   \n",
       "P2_1__AAATGCCAGATGAGAG              hlm  endothelial: Capillary   \n",
       "P2_1__AACACGTTCGATCCCT              hlm  endothelial: Capillary   \n",
       "P2_1__AACACGTTCGCACTCT              hlm  endothelial: Capillary   \n",
       "P2_1__AACCATGCAGCTCGCA              hlm  endothelial: Capillary   \n",
       "\n",
       "                                          compartment_broad_narrow  \\\n",
       "cell_id                                                              \n",
       "P2_1__AAACCTGAGAAACCAT  endothelial: Capillary: Capillary Aerocyte   \n",
       "P2_1__AAATGCCAGATGAGAG  endothelial: Capillary: Capillary Aerocyte   \n",
       "P2_1__AACACGTTCGATCCCT  endothelial: Capillary: Capillary Aerocyte   \n",
       "P2_1__AACACGTTCGCACTCT  endothelial: Capillary: Capillary Aerocyte   \n",
       "P2_1__AACCATGCAGCTCGCA  endothelial: Capillary: Capillary Aerocyte   \n",
       "\n",
       "                       compartment_species  \\\n",
       "cell_id                                      \n",
       "P2_1__AAACCTGAGAAACCAT  endothelial: human   \n",
       "P2_1__AAATGCCAGATGAGAG  endothelial: human   \n",
       "P2_1__AACACGTTCGATCCCT  endothelial: human   \n",
       "P2_1__AACACGTTCGCACTCT  endothelial: human   \n",
       "P2_1__AACCATGCAGCTCGCA  endothelial: human   \n",
       "\n",
       "                                    compartment_narrow_species  \\\n",
       "cell_id                                                          \n",
       "P2_1__AAACCTGAGAAACCAT  endothelial: Capillary Aerocyte: human   \n",
       "P2_1__AAATGCCAGATGAGAG  endothelial: Capillary Aerocyte: human   \n",
       "P2_1__AACACGTTCGATCCCT  endothelial: Capillary Aerocyte: human   \n",
       "P2_1__AACACGTTCGCACTCT  endothelial: Capillary Aerocyte: human   \n",
       "P2_1__AACCATGCAGCTCGCA  endothelial: Capillary Aerocyte: human   \n",
       "\n",
       "                       common_individual_id  \n",
       "cell_id                                      \n",
       "P2_1__AAACCTGAGAAACCAT      human_patient_2  \n",
       "P2_1__AAATGCCAGATGAGAG      human_patient_2  \n",
       "P2_1__AACACGTTCGATCCCT      human_patient_2  \n",
       "P2_1__AACACGTTCGCACTCT      human_patient_2  \n",
       "P2_1__AACCATGCAGCTCGCA      human_patient_2  \n",
       "\n",
       "[5 rows x 29 columns]"
      ]
     },
     "execution_count": 4,
     "metadata": {},
     "output_type": "execute_result"
    }
   ],
   "source": [
    "adata = sc.read(\n",
    "#     \"/home/phoenix/data_sm/code/immune-evolution/h5ads/human-lemur-mouse-bat__lung_only_copy.h5ad\"\n",
    "    \"/home/olga/data_sm/immune-evolution/h5ads/human-lemur-mouse-bat/human-lemur-mouse-bat__lung_only.h5ad\"\n",
    ")\n",
    "adata.obs = adata.obs.reset_index().set_index('cell_id')\n",
    "print(adata)\n",
    "adata.obs.head()"
   ]
  },
  {
   "cell_type": "code",
   "execution_count": 5,
   "id": "discrete-married",
   "metadata": {},
   "outputs": [
    {
     "data": {
      "text/plain": [
       "Human          57353\n",
       "Mouse lemur    36934\n",
       "Mouse          23802\n",
       "Bat             8656\n",
       "Name: species, dtype: int64"
      ]
     },
     "execution_count": 5,
     "metadata": {},
     "output_type": "execute_result"
    }
   ],
   "source": [
    "adata.obs.species.value_counts()"
   ]
  },
  {
   "cell_type": "markdown",
   "id": "surprising-intersection",
   "metadata": {},
   "source": [
    "## Set shared celltypes"
   ]
  },
  {
   "cell_type": "code",
   "execution_count": 6,
   "id": "composed-bunch",
   "metadata": {},
   "outputs": [
    {
     "data": {
      "text/plain": [
       "10"
      ]
     },
     "execution_count": 6,
     "metadata": {},
     "output_type": "execute_result"
    }
   ],
   "source": [
    "SHARED_CELLTYPES = ['Alveolar Epithelial Type 2',\n",
    " 'B cell',\n",
    " 'Capillary',\n",
    " 'Dendritic',\n",
    " 'Fibroblast',\n",
    " 'Macrophage',\n",
    " 'Monocyte',\n",
    " 'Natural Killer T cell',\n",
    " 'Smooth Muscle and Myofibroblast',\n",
    " 'T cell']\n",
    "len(SHARED_CELLTYPES)"
   ]
  },
  {
   "cell_type": "code",
   "execution_count": 7,
   "id": "working-shelter",
   "metadata": {},
   "outputs": [
    {
     "name": "stderr",
     "output_type": "stream",
     "text": [
      "/home/olga/miniconda3/envs/immune-evolution/lib/python3.7/site-packages/anndata/_core/anndata.py:1094: FutureWarning: is_categorical is deprecated and will be removed in a future version.  Use is_categorical_dtype instead\n",
      "  if not is_categorical(df_full[k]):\n"
     ]
    },
    {
     "data": {
      "text/plain": [
       "View of AnnData object with n_obs × n_vars = 89795 × 10560\n",
       "    obs: 'index', 'age', 'cell_barcode', 'cell_ontology_class', 'cell_ontology_id', 'channel', 'free_annotation', 'individual', 'sample', 'sequencing_run', 'sex', 'species', 'species_batch', 'species_latin', 'tissue', 'narrow_group', 'broad_group', 'compartment_group', 'compartment_narrow', 'channel_cleaned', 'batch', 'n_genes', 'n_counts', 'species_batch_v2', 'compartment_broad', 'compartment_broad_narrow', 'compartment_species', 'compartment_narrow_species', 'common_individual_id'\n",
       "    var: 'bat__gene_name', 'mouse_lemur__gene_name-bat', 'mouse__gene_name-bat', 'mouse_lemur__gene_name_x-hlm', 'mouse__gene_name_x-hlm', 'gene_ids-lemur-hlm', 'n_cells-mouse-hlm', 'mouse_lemur__gene_name_y-hlm', 'mouse__gene_name_y-hlm'"
      ]
     },
     "execution_count": 7,
     "metadata": {},
     "output_type": "execute_result"
    }
   ],
   "source": [
    "adata_shared = adata[adata.obs.broad_group.isin(SHARED_CELLTYPES)]\n",
    "adata_shared"
   ]
  },
  {
   "cell_type": "code",
   "execution_count": 8,
   "id": "embedded-assessment",
   "metadata": {},
   "outputs": [
    {
     "data": {
      "text/plain": [
       "89795"
      ]
     },
     "execution_count": 8,
     "metadata": {},
     "output_type": "execute_result"
    }
   ],
   "source": [
    "CELL_IDS_TO_USE = set(adata_shared.obs.index)\n",
    "len(CELL_IDS_TO_USE)"
   ]
  },
  {
   "cell_type": "code",
   "execution_count": 45,
   "id": "functioning-program",
   "metadata": {},
   "outputs": [],
   "source": [
    "import sig_reorg"
   ]
  },
  {
   "cell_type": "markdown",
   "id": "according-closer",
   "metadata": {},
   "source": [
    "# Bat"
   ]
  },
  {
   "cell_type": "markdown",
   "id": "pretty-tourism",
   "metadata": {},
   "source": [
    "## Single cell fastas"
   ]
  },
  {
   "cell_type": "code",
   "execution_count": 11,
   "id": "appointed-swaziland",
   "metadata": {},
   "outputs": [
    {
     "name": "stdout",
     "output_type": "stream",
     "text": [
      "total 11K\n",
      "drwxr-xr-x  6 olga czb 4.0K Feb 28 19:43 .\n",
      "drwxrwxr-x 81 olga czb 8.0K Feb 28 09:02 ..\n",
      "drwxr-xr-x  4 olga czb 4.0K Feb 28 09:53 0--mouse2mouse\n",
      "drwxr-xr-x  7 olga czb 4.0K Feb 28 16:57 1--train-mouse\n",
      "drwxr-xr-x  7 olga czb 4.0K Feb 28 17:17 2--test-human\n",
      "drwxr-xr-x  5 olga czb 4.0K Feb 28 19:43 3--test-bat\n"
     ]
    }
   ],
   "source": [
    "! ls -lha $sig_outdir_base"
   ]
  },
  {
   "cell_type": "code",
   "execution_count": 12,
   "id": "public-recorder",
   "metadata": {},
   "outputs": [],
   "source": [
    "bat_kmermaid_base = '/home/olga/data_sm/immune-evolution/pipeline-results/bat/kmermaid/ksize_8'\n",
    "\n",
    "\n",
    "sig_outdir_base = \"/home/olga/data_sm/immune-evolution/kmer-signatures\"\n",
    "\n",
    "test_dir = os.path.join(sig_outdir_base, \"3--test-bat\")\n",
    "\n",
    "test_0_fastas = os.path.join(test_dir, \"0--protein-coding-fastas\")\n",
    "test_1_single_cells = os.path.join(test_dir, \"1--single-cell-sigs\")\n",
    "fasta_input_dir = os.path.join(bat_kmermaid_base, \"translate\")\n",
    "\n",
    "results_dir = os.path.join(test_dir, \"2--mouse-search-results\")\n",
    "dirs = (test_0_fastas, test_1_single_cells, results_dir)\n",
    "\n",
    "for outdir in dirs:\n",
    "    if not os.path.exists(outdir):\n",
    "        os.makedirs(outdir)"
   ]
  },
  {
   "cell_type": "markdown",
   "id": "cross-illinois",
   "metadata": {},
   "source": [
    "\n",
    "## Copy fastas"
   ]
  },
  {
   "cell_type": "code",
   "execution_count": 35,
   "id": "controlled-bikini",
   "metadata": {},
   "outputs": [],
   "source": [
    "def clean_cell_id(x):\n",
    "    cleaned = x.replace(\"_possorted_genome_bam\", \"\")\n",
    "    cleaned = cleaned.replace(\"__aligned__aligned\", \"\")\n",
    "                .replace(\"__aligned__\", \"__\")\n",
    "                .replace(\"__unaligned__unaligned\", \"\")\n",
    "                .replace(\"__unaligned__\", \"__\")\n",
    "                .split(\"__coding\")[0]\n",
    "    return cleaned"
   ]
  },
  {
   "cell_type": "code",
   "execution_count": 41,
   "id": "assured-psychology",
   "metadata": {},
   "outputs": [
    {
     "name": "stderr",
     "output_type": "stream",
     "text": [
      "0it [00:00, ?it/s]"
     ]
    },
    {
     "name": "stdout",
     "output_type": "stream",
     "text": [
      "Copying peptides\n"
     ]
    },
    {
     "name": "stderr",
     "output_type": "stream",
     "text": [
      "20188it [24:36, 13.67it/s]\n",
      "0it [00:00, ?it/s]"
     ]
    },
    {
     "name": "stdout",
     "output_type": "stream",
     "text": [
      "Copying nucleotides\n"
     ]
    },
    {
     "name": "stderr",
     "output_type": "stream",
     "text": [
      "20188it [29:38, 11.35it/s]\n"
     ]
    }
   ],
   "source": [
    "sig_reorg.copy_fastas(\n",
    "    test_0_fastas,\n",
    "    fasta_input_dir,\n",
    "    select_cell_ids=CELL_IDS_TO_USE,\n",
    "    dryrun=False,\n",
    "    cell_id_fun=clean_cell_id\n",
    ")"
   ]
  },
  {
   "cell_type": "code",
   "execution_count": 31,
   "id": "compact-geometry",
   "metadata": {},
   "outputs": [
    {
     "data": {
      "text/plain": [
       "'/home/olga/data_sm/immune-evolution/kmer-signatures/3--test-bat/0--protein-coding-fastas'"
      ]
     },
     "execution_count": 31,
     "metadata": {},
     "output_type": "execute_result"
    }
   ],
   "source": [
    "test_0_fastas"
   ]
  },
  {
   "cell_type": "code",
   "execution_count": 33,
   "id": "given-judges",
   "metadata": {},
   "outputs": [
    {
     "name": "stdout",
     "output_type": "stream",
     "text": [
      "total 1.0K\n",
      "drwxr-xr-x 2 olga czb 4.0K Mar  5 16:29 \u001b[0m\u001b[01;34m.\u001b[0m/\n",
      "drwxr-xr-x 4 olga czb 4.0K Mar  5 16:29 \u001b[01;34m..\u001b[0m/\n"
     ]
    }
   ],
   "source": [
    "ls -lha $test_0_fastas/peptides | head"
   ]
  },
  {
   "cell_type": "markdown",
   "id": "precise-match",
   "metadata": {},
   "source": [
    "## Single cell signatures"
   ]
  },
  {
   "cell_type": "code",
   "execution_count": 19,
   "id": "toxic-orlando",
   "metadata": {},
   "outputs": [],
   "source": [
    "\n",
    "peptide_sketch_dir = os.path.join(\n",
    "    bat_kmermaid_base,\n",
    "    \"sketches_peptide_handmade_merged_remove_ribosomal_dissociation_allcells\",\n",
    ")\n"
   ]
  },
  {
   "cell_type": "code",
   "execution_count": 20,
   "id": "strong-creator",
   "metadata": {},
   "outputs": [
    {
     "name": "stderr",
     "output_type": "stream",
     "text": [
      "0it [00:00, ?it/s]"
     ]
    },
    {
     "name": "stdout",
     "output_type": "stream",
     "text": [
      "Copying alphabet-protein__ksize-30__scaled-10\n"
     ]
    },
    {
     "name": "stderr",
     "output_type": "stream",
     "text": [
      "8656it [06:34, 21.92it/s]\n",
      "5it [00:00, 49.45it/s]"
     ]
    },
    {
     "name": "stdout",
     "output_type": "stream",
     "text": [
      "Copying alphabet-dayhoff__ksize-51__scaled-10\n"
     ]
    },
    {
     "name": "stderr",
     "output_type": "stream",
     "text": [
      "8574it [01:54, 74.81it/s] \n"
     ]
    }
   ],
   "source": [
    "sig_reorg.copy_nucleotide_peptide_sketches(\n",
    "    peptide_sketch_dir=peptide_sketch_dir,\n",
    "    nucleotide_sketch_dir=None,\n",
    "    pre_sketch_id_outdir=test_1_single_cells,\n",
    "    select_cell_ids=CELL_IDS_TO_USE,\n",
    "    dryrun=False\n",
    ")"
   ]
  },
  {
   "cell_type": "markdown",
   "id": "fossil-invasion",
   "metadata": {},
   "source": [
    "# Create queries"
   ]
  },
  {
   "cell_type": "code",
   "execution_count": 45,
   "id": "collaborative-diagnosis",
   "metadata": {},
   "outputs": [
    {
     "data": {
      "text/plain": [
       "'/home/olga/data_sm/immune-evolution/kmer-signatures/2--test-human'"
      ]
     },
     "execution_count": 45,
     "metadata": {},
     "output_type": "execute_result"
    }
   ],
   "source": [
    "human_test_dir"
   ]
  },
  {
   "cell_type": "code",
   "execution_count": 26,
   "id": "published-abraham",
   "metadata": {},
   "outputs": [
    {
     "name": "stdout",
     "output_type": "stream",
     "text": [
      "parallel --progress --eta --jobs 96 < /home/olga/data_sm/immune-evolution/kmer-signatures/3--test-bat/3-0--mouse-search-results--remove_common/sourmash_search_commands_DNA.txt\n",
      "parallel --progress --eta --jobs 96 < /home/olga/data_sm/immune-evolution/kmer-signatures/3--test-bat/3-0--mouse-search-results--remove_common/sourmash_search_commands_protein.txt\n",
      "parallel --progress --eta --jobs 96 < /home/olga/data_sm/immune-evolution/kmer-signatures/3--test-bat/3-0--mouse-search-results--remove_common/sourmash_search_commands_dayhoff.txt\n",
      "parallel --progress --eta --jobs 96 < /home/olga/data_sm/immune-evolution/kmer-signatures/3--test-bat/3-1--mouse-search-results--raw_merged/sourmash_search_commands_DNA.txt\n",
      "parallel --progress --eta --jobs 96 < /home/olga/data_sm/immune-evolution/kmer-signatures/3--test-bat/3-1--mouse-search-results--raw_merged/sourmash_search_commands_protein.txt\n",
      "parallel --progress --eta --jobs 96 < /home/olga/data_sm/immune-evolution/kmer-signatures/3--test-bat/3-1--mouse-search-results--raw_merged/sourmash_search_commands_dayhoff.txt\n",
      "---\n",
      "parallel --progress --eta --jobs 96 < /home/olga/data_sm/immune-evolution/kmer-signatures/3--test-bat/2--mouse-search-results/sourmash_search_commands_concatenated.txt\n"
     ]
    }
   ],
   "source": [
    "moltypes = \"DNA\", \"protein\", \"dayhoff\"\n",
    "\n",
    "alpha_ksizes = ((\"DNA\", 21), (\"protein\", 30), (\"dayhoff\", 51))\n",
    "\n",
    "# mouse celltype database directory\n",
    "train_4_celltype_sbts = \"/home/olga/data_sm/immune-evolution/kmer-signatures/1--train-mouse/4--celltype-sbt-dbts\"\n",
    "train_3_merged_celltype_remove_common = \"/home/olga/data_sm/immune-evolution/kmer-signatures/1--train-mouse/3--merged-celltype-remove-common-kmers\"\n",
    "train_2_merged_celltype = \"/home/olga/data_sm/immune-evolution/kmer-signatures/1--train-mouse/2--merged-celltype-sigs\"\n",
    "\n",
    "# Try both with removed common hashes and original\n",
    "celltype_dirs = dict(\n",
    "    remove_common=train_3_merged_celltype_remove_common,\n",
    "    raw_merged=train_2_merged_celltype,\n",
    ")\n",
    "\n",
    "txts = []\n",
    "for i, (name, celltype_dir) in enumerate(celltype_dirs.items()):\n",
    "    this_celltype_dir_results = os.path.join(\n",
    "        test_dir, f\"3-{i}--mouse-search-results--{name}\"\n",
    "    )\n",
    "    if not os.path.exists(this_celltype_dir_results):\n",
    "        os.makedirs(this_celltype_dir_results)\n",
    "    for alpha, ksize in alpha_ksizes:\n",
    "        txt = csc_utils.make_sourmash_search_commands(\n",
    "            this_celltype_dir_results,\n",
    "            query_sigs_dir=test_1_single_cells,\n",
    "            sbt_base_dir=celltype_dir,\n",
    "            k_sizes=[ksize],\n",
    "            scaled_sizes=[\n",
    "                10,\n",
    "            ],\n",
    "            cell_ids=[],\n",
    "            sbt_template_basename=None,\n",
    "            query_sig_files=False,\n",
    "            containment=False,\n",
    "            moltype=alpha,\n",
    "            threshold=1e-100,\n",
    "            n_jobs=96,\n",
    "            force=True,\n",
    "            num_results=None,\n",
    "            add_ksize_to_sig_dir=False,\n",
    "            traverse_directory=True,\n",
    "        )\n",
    "        txts.append(txt)\n",
    "txts_to_cat = \" \".join(txts)\n",
    "catted_txt = os.path.join(results_dir, \"sourmash_search_commands_concatenated.txt\")\n",
    "! cat $txts_to_cat > $catted_txt\n",
    "\n",
    "print(f\"---\\nparallel --progress --eta --jobs 96 < {catted_txt}\")"
   ]
  },
  {
   "cell_type": "code",
   "execution_count": 24,
   "id": "thousand-exemption",
   "metadata": {},
   "outputs": [
    {
     "name": "stdout",
     "output_type": "stream",
     "text": [
      "30958 /home/olga/data_sm/immune-evolution/kmer-signatures/3--test-bat/2--mouse-search-results/sourmash_search_commands_concatenated.txt\n"
     ]
    }
   ],
   "source": [
    "! wc -l $catted_txt"
   ]
  },
  {
   "cell_type": "code",
   "execution_count": 25,
   "id": "mechanical-implement",
   "metadata": {},
   "outputs": [
    {
     "data": {
      "text/plain": [
       "'Capillary'"
      ]
     },
     "execution_count": 25,
     "metadata": {},
     "output_type": "execute_result"
    }
   ],
   "source": [
    "adata.obs.loc['bat3-LU__CAGCCGATCCCTGACT', 'broad_group']"
   ]
  },
  {
   "cell_type": "code",
   "execution_count": 22,
   "id": "adjacent-japanese",
   "metadata": {},
   "outputs": [
    {
     "name": "stdout",
     "output_type": "stream",
     "text": [
      "sourmash search --quiet --protein --no-dna  --threshold 1e-100 -k 30 --traverse-directory --containment --output /home/olga/data_sm/immune-evolution/kmer-signatures/3--test-bat/3-0--mouse-search-results--remove_common/alphabet-protein__ksize-30__scaled-10/bat3-LU__CAGCCGATCCCTGACT.csv /home/olga/data_sm/immune-evolution/kmer-signatures/3--test-bat/1--single-cell-sigs/alphabet-protein__ksize-30__scaled-10/bat3-LU__CAGCCGATCCCTGACT.sig /home/olga/data_sm/immune-evolution/kmer-signatures/1--train-mouse/3--merged-celltype-remove-common-kmers\n",
      "sourmash search --quiet --protein --no-dna  --threshold 1e-100 -k 30 --traverse-directory --containment --output /home/olga/data_sm/immune-evolution/kmer-signatures/3--test-bat/3-0--mouse-search-results--remove_common/alphabet-protein__ksize-30__scaled-10/bat3-LU__ACCGTAAGTTCGCTAA.csv /home/olga/data_sm/immune-evolution/kmer-signatures/3--test-bat/1--single-cell-sigs/alphabet-protein__ksize-30__scaled-10/bat3-LU__ACCGTAAGTTCGCTAA.sig /home/olga/data_sm/immune-evolution/kmer-signatures/1--train-mouse/3--merged-celltype-remove-common-kmers\n",
      "sourmash search --quiet --protein --no-dna  --threshold 1e-100 -k 30 --traverse-directory --containment --output /home/olga/data_sm/immune-evolution/kmer-signatures/3--test-bat/3-0--mouse-search-results--remove_common/alphabet-protein__ksize-30__scaled-10/bat3-LU__CACAAACTCGCCGTGA.csv /home/olga/data_sm/immune-evolution/kmer-signatures/3--test-bat/1--single-cell-sigs/alphabet-protein__ksize-30__scaled-10/bat3-LU__CACAAACTCGCCGTGA.sig /home/olga/data_sm/immune-evolution/kmer-signatures/1--train-mouse/3--merged-celltype-remove-common-kmers\n"
     ]
    }
   ],
   "source": [
    "! head -n 3 $catted_txt"
   ]
  },
  {
   "cell_type": "code",
   "execution_count": 28,
   "id": "thermal-ambassador",
   "metadata": {},
   "outputs": [
    {
     "data": {
      "text/plain": [
       "2"
      ]
     },
     "execution_count": 28,
     "metadata": {},
     "output_type": "execute_result"
    }
   ],
   "source": [
    "1+1"
   ]
  },
  {
   "cell_type": "code",
   "execution_count": 29,
   "id": "leading-mississippi",
   "metadata": {},
   "outputs": [
    {
     "name": "stdout",
     "output_type": "stream",
     "text": [
      "30958 /home/olga/data_sm/immune-evolution/kmer-signatures/3--test-bat/2--mouse-search-results/sourmash_search_commands_concatenated.txt\n"
     ]
    }
   ],
   "source": [
    "! wc -l $catted_txt"
   ]
  },
  {
   "cell_type": "code",
   "execution_count": 39,
   "id": "incomplete-marketing",
   "metadata": {},
   "outputs": [
    {
     "name": "stdout",
     "output_type": "stream",
     "text": [
      "sourmash search --quiet --dna --no-protein --no-dayhoff --num-results 3 --threshold 1e-10 -k 21 --containment --output /mnt/ibm_sm/olga/immune-evolution/kmer-signatures/2--test-human/2--mouse-search-results/alphabet-DNA__ksize-21__scaled-10/P3_6__TTCGGTCCAAACCTAC.csv /mnt/ibm_sm/olga/immune-evolution/kmer-signatures/2--test-human/1--single-cell-sigs/alphabet-DNA__ksize-21__scaled-10/P3_6__TTCGGTCCAAACCTAC.sig /home/olga/data_sm/immune-evolution/kmer-signatures/1--train-mouse/4--celltype-sbt-dbts/alphabet-DNA__ksize-21__scaled-10.sbt.zip\n",
      "sourmash search --quiet --protein --no-dna --num-results 3 --threshold 1e-10 -k 30 --containment --output /mnt/ibm_sm/olga/immune-evolution/kmer-signatures/2--test-human/2--mouse-search-results/alphabet-protein__ksize-30__scaled-10/P3_7__GTAACTGGTTTAGCTG.csv /mnt/ibm_sm/olga/immune-evolution/kmer-signatures/2--test-human/1--single-cell-sigs/alphabet-protein__ksize-30__scaled-10/P3_7__GTAACTGGTTTAGCTG.sig /home/olga/data_sm/immune-evolution/kmer-signatures/1--train-mouse/4--celltype-sbt-dbts/alphabet-protein__ksize-30__scaled-10.sbt.zip\n",
      "sourmash search --quiet --dna --no-protein --no-dayhoff --num-results 3 --threshold 1e-10 -k 21 --containment --output /mnt/ibm_sm/olga/immune-evolution/kmer-signatures/2--test-human/2--mouse-search-results/alphabet-DNA__ksize-21__scaled-10/P3_4__GCATGTAAGGGTGTTG.csv /mnt/ibm_sm/olga/immune-evolution/kmer-signatures/2--test-human/1--single-cell-sigs/alphabet-DNA__ksize-21__scaled-10/P3_4__GCATGTAAGGGTGTTG.sig /home/olga/data_sm/immune-evolution/kmer-signatures/1--train-mouse/4--celltype-sbt-dbts/alphabet-DNA__ksize-21__scaled-10.sbt.zip\n",
      "shuf: write error: Broken pipe\n",
      "shuf: write error\n"
     ]
    }
   ],
   "source": [
    "! shuf $catted_txt | head -n 3"
   ]
  },
  {
   "cell_type": "markdown",
   "id": "needed-indian",
   "metadata": {},
   "source": [
    "## Search mouse celltypes with k-mers shared by 5, 10% of cells, but remove k-mers shared by 80% of celltypes"
   ]
  },
  {
   "cell_type": "code",
   "execution_count": 43,
   "id": "constant-gossip",
   "metadata": {},
   "outputs": [
    {
     "data": {
      "text/plain": [
       "2"
      ]
     },
     "execution_count": 43,
     "metadata": {},
     "output_type": "execute_result"
    }
   ],
   "source": [
    "1+1"
   ]
  },
  {
   "cell_type": "code",
   "execution_count": 47,
   "id": "innocent-commodity",
   "metadata": {},
   "outputs": [
    {
     "name": "stdout",
     "output_type": "stream",
     "text": [
      "parallel --progress --eta --jobs 96 < /home/olga/data_sm/immune-evolution/kmer-signatures/3--test-bat/3-0--mouse-containment-search-results--min-5-percent-shared-kmers/sourmash_search_commands_DNA.txt\n",
      "parallel --progress --eta --jobs 96 < /home/olga/data_sm/immune-evolution/kmer-signatures/3--test-bat/3-0--mouse-containment-search-results--min-5-percent-shared-kmers/sourmash_search_commands_protein.txt\n",
      "parallel --progress --eta --jobs 96 < /home/olga/data_sm/immune-evolution/kmer-signatures/3--test-bat/3-0--mouse-containment-search-results--min-5-percent-shared-kmers/sourmash_search_commands_dayhoff.txt\n",
      "parallel --progress --eta --jobs 96 < /home/olga/data_sm/immune-evolution/kmer-signatures/3--test-bat/3-1--mouse-containment-search-results--min-10-percent-shared-kmers/sourmash_search_commands_DNA.txt\n",
      "parallel --progress --eta --jobs 96 < /home/olga/data_sm/immune-evolution/kmer-signatures/3--test-bat/3-1--mouse-containment-search-results--min-10-percent-shared-kmers/sourmash_search_commands_protein.txt\n",
      "parallel --progress --eta --jobs 96 < /home/olga/data_sm/immune-evolution/kmer-signatures/3--test-bat/3-1--mouse-containment-search-results--min-10-percent-shared-kmers/sourmash_search_commands_dayhoff.txt\n",
      "parallel --progress --eta --jobs 96 < /home/olga/data_sm/immune-evolution/kmer-signatures/3--test-bat/3-2--mouse-containment-search-results--min-5-percent-shared-kmers-remove-common-kmers/sourmash_search_commands_DNA.txt\n",
      "parallel --progress --eta --jobs 96 < /home/olga/data_sm/immune-evolution/kmer-signatures/3--test-bat/3-2--mouse-containment-search-results--min-5-percent-shared-kmers-remove-common-kmers/sourmash_search_commands_protein.txt\n",
      "parallel --progress --eta --jobs 96 < /home/olga/data_sm/immune-evolution/kmer-signatures/3--test-bat/3-2--mouse-containment-search-results--min-5-percent-shared-kmers-remove-common-kmers/sourmash_search_commands_dayhoff.txt\n",
      "parallel --progress --eta --jobs 96 < /home/olga/data_sm/immune-evolution/kmer-signatures/3--test-bat/3-3--mouse-containment-search-results--min-10-percent-shared-kmers-remove-common-kmers/sourmash_search_commands_DNA.txt\n",
      "parallel --progress --eta --jobs 96 < /home/olga/data_sm/immune-evolution/kmer-signatures/3--test-bat/3-3--mouse-containment-search-results--min-10-percent-shared-kmers-remove-common-kmers/sourmash_search_commands_protein.txt\n",
      "parallel --progress --eta --jobs 96 < /home/olga/data_sm/immune-evolution/kmer-signatures/3--test-bat/3-3--mouse-containment-search-results--min-10-percent-shared-kmers-remove-common-kmers/sourmash_search_commands_dayhoff.txt\n",
      "parallel --progress --eta --jobs 96 < /home/olga/data_sm/immune-evolution/kmer-signatures/3--test-bat/3-0--mouse-search-results--min-5-percent-shared-kmers/sourmash_search_commands_DNA.txt\n",
      "parallel --progress --eta --jobs 96 < /home/olga/data_sm/immune-evolution/kmer-signatures/3--test-bat/3-0--mouse-search-results--min-5-percent-shared-kmers/sourmash_search_commands_protein.txt\n",
      "parallel --progress --eta --jobs 96 < /home/olga/data_sm/immune-evolution/kmer-signatures/3--test-bat/3-0--mouse-search-results--min-5-percent-shared-kmers/sourmash_search_commands_dayhoff.txt\n",
      "parallel --progress --eta --jobs 96 < /home/olga/data_sm/immune-evolution/kmer-signatures/3--test-bat/3-1--mouse-search-results--min-10-percent-shared-kmers/sourmash_search_commands_DNA.txt\n",
      "parallel --progress --eta --jobs 96 < /home/olga/data_sm/immune-evolution/kmer-signatures/3--test-bat/3-1--mouse-search-results--min-10-percent-shared-kmers/sourmash_search_commands_protein.txt\n",
      "parallel --progress --eta --jobs 96 < /home/olga/data_sm/immune-evolution/kmer-signatures/3--test-bat/3-1--mouse-search-results--min-10-percent-shared-kmers/sourmash_search_commands_dayhoff.txt\n",
      "parallel --progress --eta --jobs 96 < /home/olga/data_sm/immune-evolution/kmer-signatures/3--test-bat/3-2--mouse-search-results--min-5-percent-shared-kmers-remove-common-kmers/sourmash_search_commands_DNA.txt\n",
      "parallel --progress --eta --jobs 96 < /home/olga/data_sm/immune-evolution/kmer-signatures/3--test-bat/3-2--mouse-search-results--min-5-percent-shared-kmers-remove-common-kmers/sourmash_search_commands_protein.txt\n",
      "parallel --progress --eta --jobs 96 < /home/olga/data_sm/immune-evolution/kmer-signatures/3--test-bat/3-2--mouse-search-results--min-5-percent-shared-kmers-remove-common-kmers/sourmash_search_commands_dayhoff.txt\n",
      "parallel --progress --eta --jobs 96 < /home/olga/data_sm/immune-evolution/kmer-signatures/3--test-bat/3-3--mouse-search-results--min-10-percent-shared-kmers-remove-common-kmers/sourmash_search_commands_DNA.txt\n",
      "parallel --progress --eta --jobs 96 < /home/olga/data_sm/immune-evolution/kmer-signatures/3--test-bat/3-3--mouse-search-results--min-10-percent-shared-kmers-remove-common-kmers/sourmash_search_commands_protein.txt\n",
      "parallel --progress --eta --jobs 96 < /home/olga/data_sm/immune-evolution/kmer-signatures/3--test-bat/3-3--mouse-search-results--min-10-percent-shared-kmers-remove-common-kmers/sourmash_search_commands_dayhoff.txt\n",
      "---\n",
      "parallel --progress --eta --jobs 96 < /home/olga/data_sm/immune-evolution/kmer-signatures/3--test-bat/2--mouse-search-results/sourmash_search_commands_concatenated.txt\n"
     ]
    }
   ],
   "source": [
    "moltypes = \"DNA\", \"protein\", \"dayhoff\"\n",
    "\n",
    "alpha_ksizes = ((\"DNA\", 21), (\"protein\", 30), (\"dayhoff\", 51))\n",
    "\n",
    "# mouse celltype database directory\n",
    "train_3_sigs_min_10_percent = \"/home/olga/data_sm/immune-evolution/kmer-signatures/1--train-mouse/2--merged-celltype-sigs--min-kmer-count--10-percent\"\n",
    "train_3_sigs_min_5_percent = \"/home/olga/data_sm/immune-evolution/kmer-signatures/1--train-mouse/2--merged-celltype-sigs--min-kmer-count--5-percent\"\n",
    "train_3_sigs_min_5_percent_remove_common = \"/home/olga/data_sm/immune-evolution/kmer-signatures/1--train-mouse/3--merged-celltype-remove-common-kmers--min-kmer-count--5-percent\"\n",
    "train_3_sigs_min_10_percent_remove_common = \"/home/olga/data_sm/immune-evolution/kmer-signatures/1--train-mouse/3--merged-celltype-remove-common-kmers--min-kmer-count--10-percent\"\n",
    "\n",
    "# Try both with removed common hashes and original\n",
    "celltype_dirs = {\n",
    "        'min-5-percent-shared-kmers': train_3_sigs_min_5_percent,\n",
    "    'min-10-percent-shared-kmers': train_3_sigs_min_10_percent,\n",
    "    'min-5-percent-shared-kmers-remove-common-kmers': train_3_sigs_min_5_percent_remove_common,\n",
    "    'min-10-percent-shared-kmers-remove-common-kmers': train_3_sigs_min_10_percent_remove_common,\n",
    "}\n",
    "\n",
    "txts = []\n",
    "\n",
    "containments = True, False\n",
    "for containment in containments:\n",
    "    for i, (name, celltype_dir) in enumerate(celltype_dirs.items()):\n",
    "        suffix = f\"3-{i}--mouse-containment-search-results--{name}\" if containment else f\"3-{i}--mouse-search-results--{name}\"\n",
    "        this_celltype_dir_results = os.path.join(\n",
    "            test_dir, suffix\n",
    "        )\n",
    "        if not os.path.exists(this_celltype_dir_results):\n",
    "            os.makedirs(this_celltype_dir_results)\n",
    "        for alpha, ksize in alpha_ksizes:\n",
    "            txt = csc_utils.make_sourmash_search_commands(\n",
    "                this_celltype_dir_results,\n",
    "                query_sigs_dir=test_1_single_cells,\n",
    "                sbt_base_dir=celltype_dir,\n",
    "                k_sizes=[ksize],\n",
    "                scaled_sizes=[\n",
    "                    10,\n",
    "                ],\n",
    "                sbt_template_basename=None,\n",
    "                query_sig_files=False,\n",
    "                containment=containment,\n",
    "                moltype=alpha,\n",
    "                threshold=1e-100,\n",
    "                n_jobs=96,\n",
    "                force=True,\n",
    "                num_results=None,\n",
    "                add_ksize_to_sig_dir=False,\n",
    "                traverse_directory=True,\n",
    "            )\n",
    "            txts.append(txt)\n",
    "txts_to_cat = \" \".join(txts)\n",
    "catted_txt = os.path.join(results_dir, \"sourmash_search_commands_concatenated.txt\")\n",
    "! cat $txts_to_cat > $catted_txt\n",
    "\n",
    "print(f\"---\\nparallel --progress --eta --jobs 96 < {catted_txt}\")"
   ]
  },
  {
   "cell_type": "code",
   "execution_count": null,
   "id": "verified-singer",
   "metadata": {},
   "outputs": [],
   "source": []
  }
 ],
 "metadata": {
  "kernelspec": {
   "display_name": "Python [conda env:immune-evolution]",
   "language": "python",
   "name": "conda-env-immune-evolution-py"
  },
  "language_info": {
   "codemirror_mode": {
    "name": "ipython",
    "version": 3
   },
   "file_extension": ".py",
   "mimetype": "text/x-python",
   "name": "python",
   "nbconvert_exporter": "python",
   "pygments_lexer": "ipython3",
   "version": "3.7.8"
  },
  "toc-autonumbering": true
 },
 "nbformat": 4,
 "nbformat_minor": 5
}
