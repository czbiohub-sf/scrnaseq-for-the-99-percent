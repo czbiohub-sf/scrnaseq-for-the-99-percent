{
 "cells": [
  {
   "cell_type": "markdown",
   "id": "02629179-2902-47da-a175-93c34b75facc",
   "metadata": {},
   "source": [
    "# Imports"
   ]
  },
  {
   "cell_type": "code",
   "execution_count": 11,
   "id": "1283f82f-ba3d-426f-bda1-f20cfa3a8197",
   "metadata": {},
   "outputs": [
    {
     "name": "stdout",
     "output_type": "stream",
     "text": [
      "The autoreload extension is already loaded. To reload it, use:\n",
      "  %reload_ext autoreload\n"
     ]
    }
   ],
   "source": [
    "%load_ext autoreload\n",
    "%autoreload 2\n",
    "\n",
    "import os\n",
    "\n",
    "# import matplotlib.pyplot as plt\n",
    "# import numpy as np\n",
    "import pandas as pd\n",
    "import seaborn as sns\n",
    "from joblib import Parallel, delayed\n",
    "# from sklearn.metrics import confusion_matrix\n",
    "from tqdm import tqdm\n",
    "\n",
    "# # Artisinal, small-batch, handmade modules\n",
    "import classification_metrics\n",
    "from nb_utils import describe\n",
    "\n",
    "from celltype_utils import SHARED_CELLTYPES, BROAD_TO_COMPARTMENT, broad_to_compartment\n",
    "from path_constants import top_hit_paths, FIGURE_FOLDER, sig_outdir_base\n",
    "from plot_constants import get_cmap_color"
   ]
  },
  {
   "cell_type": "markdown",
   "id": "referenced-avatar",
   "metadata": {},
   "source": [
    "## Assign figure folder"
   ]
  },
  {
   "cell_type": "code",
   "execution_count": 12,
   "id": "norman-criterion",
   "metadata": {},
   "outputs": [],
   "source": [
    "figure_folder = os.path.join(FIGURE_FOLDER, \"kmermaid_classification_metrics\")"
   ]
  },
  {
   "cell_type": "markdown",
   "id": "56c372b1-d848-4bdf-ad86-d63fa1d65d4c",
   "metadata": {},
   "source": [
    "## Read in predicted cell data"
   ]
  },
  {
   "cell_type": "code",
   "execution_count": 13,
   "id": "resident-piano",
   "metadata": {},
   "outputs": [
    {
     "name": "stdout",
     "output_type": "stream",
     "text": [
      "(84753, 43)\n",
      "--- First 5 entries ---\n"
     ]
    },
    {
     "data": {
      "text/html": [
       "<div>\n",
       "<style scoped>\n",
       "    .dataframe tbody tr th:only-of-type {\n",
       "        vertical-align: middle;\n",
       "    }\n",
       "\n",
       "    .dataframe tbody tr th {\n",
       "        vertical-align: top;\n",
       "    }\n",
       "\n",
       "    .dataframe thead th {\n",
       "        text-align: right;\n",
       "    }\n",
       "</style>\n",
       "<table border=\"1\" class=\"dataframe\">\n",
       "  <thead>\n",
       "    <tr style=\"text-align: right;\">\n",
       "      <th></th>\n",
       "      <th>similarity</th>\n",
       "      <th>mouse1_broad_group</th>\n",
       "      <th>search_method</th>\n",
       "      <th>database_type</th>\n",
       "      <th>sketch_id</th>\n",
       "      <th>mol_or_alpha</th>\n",
       "      <th>alphabet</th>\n",
       "      <th>ksize</th>\n",
       "      <th>sketch_style</th>\n",
       "      <th>sketch_value</th>\n",
       "      <th>...</th>\n",
       "      <th>bat_narrow_group</th>\n",
       "      <th>bat_broad_group</th>\n",
       "      <th>bat_compartment_group</th>\n",
       "      <th>human_channel</th>\n",
       "      <th>human_cell_ontology_class</th>\n",
       "      <th>human_narrow_group</th>\n",
       "      <th>human_broad_group</th>\n",
       "      <th>human_compartment_group</th>\n",
       "      <th>predicted_compartment</th>\n",
       "      <th>groundtruth_compartment</th>\n",
       "    </tr>\n",
       "    <tr>\n",
       "      <th>query_cell_id</th>\n",
       "      <th></th>\n",
       "      <th></th>\n",
       "      <th></th>\n",
       "      <th></th>\n",
       "      <th></th>\n",
       "      <th></th>\n",
       "      <th></th>\n",
       "      <th></th>\n",
       "      <th></th>\n",
       "      <th></th>\n",
       "      <th></th>\n",
       "      <th></th>\n",
       "      <th></th>\n",
       "      <th></th>\n",
       "      <th></th>\n",
       "      <th></th>\n",
       "      <th></th>\n",
       "      <th></th>\n",
       "      <th></th>\n",
       "      <th></th>\n",
       "      <th></th>\n",
       "    </tr>\n",
       "  </thead>\n",
       "  <tbody>\n",
       "    <tr>\n",
       "      <th>MACA_18m_F_LUNG_51__AAACCTGCAGCCTATA</th>\n",
       "      <td>0.086712</td>\n",
       "      <td>T cell</td>\n",
       "      <td>similarity_abundance</td>\n",
       "      <td>min-5-percent-shared-kmers-remove-common-kmers</td>\n",
       "      <td>alphabet-DNA__ksize-21__scaled-10</td>\n",
       "      <td>alphabet</td>\n",
       "      <td>DNA</td>\n",
       "      <td>21</td>\n",
       "      <td>scaled</td>\n",
       "      <td>10</td>\n",
       "      <td>...</td>\n",
       "      <td>None</td>\n",
       "      <td>None</td>\n",
       "      <td>None</td>\n",
       "      <td>None</td>\n",
       "      <td>None</td>\n",
       "      <td>None</td>\n",
       "      <td>None</td>\n",
       "      <td>None</td>\n",
       "      <td>lymphoid</td>\n",
       "      <td>lymphoid</td>\n",
       "    </tr>\n",
       "    <tr>\n",
       "      <th>MACA_18m_F_LUNG_51__AAACCTGCAGCCTATA</th>\n",
       "      <td>0.119992</td>\n",
       "      <td>T cell</td>\n",
       "      <td>similarity_abundance</td>\n",
       "      <td>min-5-percent-shared-kmers-remove-common-kmers</td>\n",
       "      <td>alphabet-dayhoff__ksize-51__scaled-10</td>\n",
       "      <td>alphabet</td>\n",
       "      <td>dayhoff</td>\n",
       "      <td>51</td>\n",
       "      <td>scaled</td>\n",
       "      <td>10</td>\n",
       "      <td>...</td>\n",
       "      <td>None</td>\n",
       "      <td>None</td>\n",
       "      <td>None</td>\n",
       "      <td>None</td>\n",
       "      <td>None</td>\n",
       "      <td>None</td>\n",
       "      <td>None</td>\n",
       "      <td>None</td>\n",
       "      <td>lymphoid</td>\n",
       "      <td>lymphoid</td>\n",
       "    </tr>\n",
       "    <tr>\n",
       "      <th>MACA_18m_F_LUNG_51__AAACCTGCAGCCTATA</th>\n",
       "      <td>0.114376</td>\n",
       "      <td>T cell</td>\n",
       "      <td>similarity_abundance</td>\n",
       "      <td>min-5-percent-shared-kmers-remove-common-kmers</td>\n",
       "      <td>alphabet-protein__ksize-30__scaled-10</td>\n",
       "      <td>alphabet</td>\n",
       "      <td>protein</td>\n",
       "      <td>30</td>\n",
       "      <td>scaled</td>\n",
       "      <td>10</td>\n",
       "      <td>...</td>\n",
       "      <td>None</td>\n",
       "      <td>None</td>\n",
       "      <td>None</td>\n",
       "      <td>None</td>\n",
       "      <td>None</td>\n",
       "      <td>None</td>\n",
       "      <td>None</td>\n",
       "      <td>None</td>\n",
       "      <td>lymphoid</td>\n",
       "      <td>lymphoid</td>\n",
       "    </tr>\n",
       "    <tr>\n",
       "      <th>MACA_18m_F_LUNG_51__AAACCTGGTGTGGTTT</th>\n",
       "      <td>0.181781</td>\n",
       "      <td>B cell</td>\n",
       "      <td>similarity_abundance</td>\n",
       "      <td>min-5-percent-shared-kmers-remove-common-kmers</td>\n",
       "      <td>alphabet-DNA__ksize-21__scaled-10</td>\n",
       "      <td>alphabet</td>\n",
       "      <td>DNA</td>\n",
       "      <td>21</td>\n",
       "      <td>scaled</td>\n",
       "      <td>10</td>\n",
       "      <td>...</td>\n",
       "      <td>None</td>\n",
       "      <td>None</td>\n",
       "      <td>None</td>\n",
       "      <td>None</td>\n",
       "      <td>None</td>\n",
       "      <td>None</td>\n",
       "      <td>None</td>\n",
       "      <td>None</td>\n",
       "      <td>lymphoid</td>\n",
       "      <td>lymphoid</td>\n",
       "    </tr>\n",
       "    <tr>\n",
       "      <th>MACA_18m_F_LUNG_51__AAACCTGGTGTGGTTT</th>\n",
       "      <td>0.170558</td>\n",
       "      <td>B cell</td>\n",
       "      <td>similarity_abundance</td>\n",
       "      <td>min-5-percent-shared-kmers-remove-common-kmers</td>\n",
       "      <td>alphabet-dayhoff__ksize-51__scaled-10</td>\n",
       "      <td>alphabet</td>\n",
       "      <td>dayhoff</td>\n",
       "      <td>51</td>\n",
       "      <td>scaled</td>\n",
       "      <td>10</td>\n",
       "      <td>...</td>\n",
       "      <td>None</td>\n",
       "      <td>None</td>\n",
       "      <td>None</td>\n",
       "      <td>None</td>\n",
       "      <td>None</td>\n",
       "      <td>None</td>\n",
       "      <td>None</td>\n",
       "      <td>None</td>\n",
       "      <td>lymphoid</td>\n",
       "      <td>lymphoid</td>\n",
       "    </tr>\n",
       "  </tbody>\n",
       "</table>\n",
       "<p>5 rows × 43 columns</p>\n",
       "</div>"
      ],
      "text/plain": [
       "                                      similarity mouse1_broad_group  \\\n",
       "query_cell_id                                                         \n",
       "MACA_18m_F_LUNG_51__AAACCTGCAGCCTATA    0.086712             T cell   \n",
       "MACA_18m_F_LUNG_51__AAACCTGCAGCCTATA    0.119992             T cell   \n",
       "MACA_18m_F_LUNG_51__AAACCTGCAGCCTATA    0.114376             T cell   \n",
       "MACA_18m_F_LUNG_51__AAACCTGGTGTGGTTT    0.181781             B cell   \n",
       "MACA_18m_F_LUNG_51__AAACCTGGTGTGGTTT    0.170558             B cell   \n",
       "\n",
       "                                             search_method  \\\n",
       "query_cell_id                                                \n",
       "MACA_18m_F_LUNG_51__AAACCTGCAGCCTATA  similarity_abundance   \n",
       "MACA_18m_F_LUNG_51__AAACCTGCAGCCTATA  similarity_abundance   \n",
       "MACA_18m_F_LUNG_51__AAACCTGCAGCCTATA  similarity_abundance   \n",
       "MACA_18m_F_LUNG_51__AAACCTGGTGTGGTTT  similarity_abundance   \n",
       "MACA_18m_F_LUNG_51__AAACCTGGTGTGGTTT  similarity_abundance   \n",
       "\n",
       "                                                                       database_type  \\\n",
       "query_cell_id                                                                          \n",
       "MACA_18m_F_LUNG_51__AAACCTGCAGCCTATA  min-5-percent-shared-kmers-remove-common-kmers   \n",
       "MACA_18m_F_LUNG_51__AAACCTGCAGCCTATA  min-5-percent-shared-kmers-remove-common-kmers   \n",
       "MACA_18m_F_LUNG_51__AAACCTGCAGCCTATA  min-5-percent-shared-kmers-remove-common-kmers   \n",
       "MACA_18m_F_LUNG_51__AAACCTGGTGTGGTTT  min-5-percent-shared-kmers-remove-common-kmers   \n",
       "MACA_18m_F_LUNG_51__AAACCTGGTGTGGTTT  min-5-percent-shared-kmers-remove-common-kmers   \n",
       "\n",
       "                                                                  sketch_id  \\\n",
       "query_cell_id                                                                 \n",
       "MACA_18m_F_LUNG_51__AAACCTGCAGCCTATA      alphabet-DNA__ksize-21__scaled-10   \n",
       "MACA_18m_F_LUNG_51__AAACCTGCAGCCTATA  alphabet-dayhoff__ksize-51__scaled-10   \n",
       "MACA_18m_F_LUNG_51__AAACCTGCAGCCTATA  alphabet-protein__ksize-30__scaled-10   \n",
       "MACA_18m_F_LUNG_51__AAACCTGGTGTGGTTT      alphabet-DNA__ksize-21__scaled-10   \n",
       "MACA_18m_F_LUNG_51__AAACCTGGTGTGGTTT  alphabet-dayhoff__ksize-51__scaled-10   \n",
       "\n",
       "                                     mol_or_alpha alphabet  ksize  \\\n",
       "query_cell_id                                                       \n",
       "MACA_18m_F_LUNG_51__AAACCTGCAGCCTATA     alphabet      DNA     21   \n",
       "MACA_18m_F_LUNG_51__AAACCTGCAGCCTATA     alphabet  dayhoff     51   \n",
       "MACA_18m_F_LUNG_51__AAACCTGCAGCCTATA     alphabet  protein     30   \n",
       "MACA_18m_F_LUNG_51__AAACCTGGTGTGGTTT     alphabet      DNA     21   \n",
       "MACA_18m_F_LUNG_51__AAACCTGGTGTGGTTT     alphabet  dayhoff     51   \n",
       "\n",
       "                                     sketch_style  sketch_value  ...  \\\n",
       "query_cell_id                                                    ...   \n",
       "MACA_18m_F_LUNG_51__AAACCTGCAGCCTATA       scaled            10  ...   \n",
       "MACA_18m_F_LUNG_51__AAACCTGCAGCCTATA       scaled            10  ...   \n",
       "MACA_18m_F_LUNG_51__AAACCTGCAGCCTATA       scaled            10  ...   \n",
       "MACA_18m_F_LUNG_51__AAACCTGGTGTGGTTT       scaled            10  ...   \n",
       "MACA_18m_F_LUNG_51__AAACCTGGTGTGGTTT       scaled            10  ...   \n",
       "\n",
       "                                     bat_narrow_group bat_broad_group  \\\n",
       "query_cell_id                                                           \n",
       "MACA_18m_F_LUNG_51__AAACCTGCAGCCTATA             None            None   \n",
       "MACA_18m_F_LUNG_51__AAACCTGCAGCCTATA             None            None   \n",
       "MACA_18m_F_LUNG_51__AAACCTGCAGCCTATA             None            None   \n",
       "MACA_18m_F_LUNG_51__AAACCTGGTGTGGTTT             None            None   \n",
       "MACA_18m_F_LUNG_51__AAACCTGGTGTGGTTT             None            None   \n",
       "\n",
       "                                     bat_compartment_group human_channel  \\\n",
       "query_cell_id                                                              \n",
       "MACA_18m_F_LUNG_51__AAACCTGCAGCCTATA                  None          None   \n",
       "MACA_18m_F_LUNG_51__AAACCTGCAGCCTATA                  None          None   \n",
       "MACA_18m_F_LUNG_51__AAACCTGCAGCCTATA                  None          None   \n",
       "MACA_18m_F_LUNG_51__AAACCTGGTGTGGTTT                  None          None   \n",
       "MACA_18m_F_LUNG_51__AAACCTGGTGTGGTTT                  None          None   \n",
       "\n",
       "                                     human_cell_ontology_class  \\\n",
       "query_cell_id                                                    \n",
       "MACA_18m_F_LUNG_51__AAACCTGCAGCCTATA                      None   \n",
       "MACA_18m_F_LUNG_51__AAACCTGCAGCCTATA                      None   \n",
       "MACA_18m_F_LUNG_51__AAACCTGCAGCCTATA                      None   \n",
       "MACA_18m_F_LUNG_51__AAACCTGGTGTGGTTT                      None   \n",
       "MACA_18m_F_LUNG_51__AAACCTGGTGTGGTTT                      None   \n",
       "\n",
       "                                     human_narrow_group human_broad_group  \\\n",
       "query_cell_id                                                               \n",
       "MACA_18m_F_LUNG_51__AAACCTGCAGCCTATA               None              None   \n",
       "MACA_18m_F_LUNG_51__AAACCTGCAGCCTATA               None              None   \n",
       "MACA_18m_F_LUNG_51__AAACCTGCAGCCTATA               None              None   \n",
       "MACA_18m_F_LUNG_51__AAACCTGGTGTGGTTT               None              None   \n",
       "MACA_18m_F_LUNG_51__AAACCTGGTGTGGTTT               None              None   \n",
       "\n",
       "                                     human_compartment_group  \\\n",
       "query_cell_id                                                  \n",
       "MACA_18m_F_LUNG_51__AAACCTGCAGCCTATA                    None   \n",
       "MACA_18m_F_LUNG_51__AAACCTGCAGCCTATA                    None   \n",
       "MACA_18m_F_LUNG_51__AAACCTGCAGCCTATA                    None   \n",
       "MACA_18m_F_LUNG_51__AAACCTGGTGTGGTTT                    None   \n",
       "MACA_18m_F_LUNG_51__AAACCTGGTGTGGTTT                    None   \n",
       "\n",
       "                                     predicted_compartment  \\\n",
       "query_cell_id                                                \n",
       "MACA_18m_F_LUNG_51__AAACCTGCAGCCTATA              lymphoid   \n",
       "MACA_18m_F_LUNG_51__AAACCTGCAGCCTATA              lymphoid   \n",
       "MACA_18m_F_LUNG_51__AAACCTGCAGCCTATA              lymphoid   \n",
       "MACA_18m_F_LUNG_51__AAACCTGGTGTGGTTT              lymphoid   \n",
       "MACA_18m_F_LUNG_51__AAACCTGGTGTGGTTT              lymphoid   \n",
       "\n",
       "                                     groundtruth_compartment  \n",
       "query_cell_id                                                 \n",
       "MACA_18m_F_LUNG_51__AAACCTGCAGCCTATA                lymphoid  \n",
       "MACA_18m_F_LUNG_51__AAACCTGCAGCCTATA                lymphoid  \n",
       "MACA_18m_F_LUNG_51__AAACCTGCAGCCTATA                lymphoid  \n",
       "MACA_18m_F_LUNG_51__AAACCTGGTGTGGTTT                lymphoid  \n",
       "MACA_18m_F_LUNG_51__AAACCTGGTGTGGTTT                lymphoid  \n",
       "\n",
       "[5 rows x 43 columns]"
      ]
     },
     "metadata": {},
     "output_type": "display_data"
    }
   ],
   "source": [
    "predicted_cells = pd.read_parquet(\n",
    "    os.path.join(sig_outdir_base, \"aggregated-predicted-cells.parquet\")\n",
    ")\n",
    "describe(predicted_cells)"
   ]
  },
  {
   "cell_type": "markdown",
   "id": "authorized-driver",
   "metadata": {},
   "source": [
    "# Broad group"
   ]
  },
  {
   "cell_type": "markdown",
   "id": "sensitive-pilot",
   "metadata": {},
   "source": [
    "## Booststrap and compute score\n",
    "\n",
    "Use `classification_metrics.subsample_and_score` to randomly sample the data to compute classification metrics."
   ]
  },
  {
   "cell_type": "code",
   "execution_count": 14,
   "id": "outstanding-suffering",
   "metadata": {},
   "outputs": [
    {
     "name": "stderr",
     "output_type": "stream",
     "text": [
      "\n",
      "100%|██████████| 12/12 [00:00<00:00, 155.74it/s]\n"
     ]
    },
    {
     "name": "stdout",
     "output_type": "stream",
     "text": [
      "(24000, 8)\n",
      "--- First 5 entries ---\n"
     ]
    },
    {
     "data": {
      "text/html": [
       "<div>\n",
       "<style scoped>\n",
       "    .dataframe tbody tr th:only-of-type {\n",
       "        vertical-align: middle;\n",
       "    }\n",
       "\n",
       "    .dataframe tbody tr th {\n",
       "        vertical-align: top;\n",
       "    }\n",
       "\n",
       "    .dataframe thead th {\n",
       "        text-align: right;\n",
       "    }\n",
       "</style>\n",
       "<table border=\"1\" class=\"dataframe\">\n",
       "  <thead>\n",
       "    <tr style=\"text-align: right;\">\n",
       "      <th></th>\n",
       "      <th>species</th>\n",
       "      <th>database_type</th>\n",
       "      <th>search_method</th>\n",
       "      <th>alphabet</th>\n",
       "      <th>ksize</th>\n",
       "      <th>score_value</th>\n",
       "      <th>score_name</th>\n",
       "      <th>iteration</th>\n",
       "    </tr>\n",
       "  </thead>\n",
       "  <tbody>\n",
       "    <tr>\n",
       "      <th>0</th>\n",
       "      <td>bat</td>\n",
       "      <td>min-5-percent-shared-kmers-remove-common-kmers</td>\n",
       "      <td>similarity_abundance</td>\n",
       "      <td>DNA</td>\n",
       "      <td>21</td>\n",
       "      <td>0.566242</td>\n",
       "      <td>f1_score</td>\n",
       "      <td>0</td>\n",
       "    </tr>\n",
       "    <tr>\n",
       "      <th>1</th>\n",
       "      <td>bat</td>\n",
       "      <td>min-5-percent-shared-kmers-remove-common-kmers</td>\n",
       "      <td>similarity_abundance</td>\n",
       "      <td>DNA</td>\n",
       "      <td>21</td>\n",
       "      <td>0.244131</td>\n",
       "      <td>adjusted_rand_score</td>\n",
       "      <td>0</td>\n",
       "    </tr>\n",
       "    <tr>\n",
       "      <th>2</th>\n",
       "      <td>bat</td>\n",
       "      <td>min-5-percent-shared-kmers-remove-common-kmers</td>\n",
       "      <td>similarity_abundance</td>\n",
       "      <td>DNA</td>\n",
       "      <td>21</td>\n",
       "      <td>0.680883</td>\n",
       "      <td>f1_score</td>\n",
       "      <td>1</td>\n",
       "    </tr>\n",
       "    <tr>\n",
       "      <th>3</th>\n",
       "      <td>bat</td>\n",
       "      <td>min-5-percent-shared-kmers-remove-common-kmers</td>\n",
       "      <td>similarity_abundance</td>\n",
       "      <td>DNA</td>\n",
       "      <td>21</td>\n",
       "      <td>0.241237</td>\n",
       "      <td>adjusted_rand_score</td>\n",
       "      <td>1</td>\n",
       "    </tr>\n",
       "    <tr>\n",
       "      <th>4</th>\n",
       "      <td>bat</td>\n",
       "      <td>min-5-percent-shared-kmers-remove-common-kmers</td>\n",
       "      <td>similarity_abundance</td>\n",
       "      <td>DNA</td>\n",
       "      <td>21</td>\n",
       "      <td>0.572237</td>\n",
       "      <td>f1_score</td>\n",
       "      <td>2</td>\n",
       "    </tr>\n",
       "  </tbody>\n",
       "</table>\n",
       "</div>"
      ],
      "text/plain": [
       "  species                                   database_type  \\\n",
       "0     bat  min-5-percent-shared-kmers-remove-common-kmers   \n",
       "1     bat  min-5-percent-shared-kmers-remove-common-kmers   \n",
       "2     bat  min-5-percent-shared-kmers-remove-common-kmers   \n",
       "3     bat  min-5-percent-shared-kmers-remove-common-kmers   \n",
       "4     bat  min-5-percent-shared-kmers-remove-common-kmers   \n",
       "\n",
       "          search_method alphabet  ksize  score_value           score_name  \\\n",
       "0  similarity_abundance      DNA     21     0.566242             f1_score   \n",
       "1  similarity_abundance      DNA     21     0.244131  adjusted_rand_score   \n",
       "2  similarity_abundance      DNA     21     0.680883             f1_score   \n",
       "3  similarity_abundance      DNA     21     0.241237  adjusted_rand_score   \n",
       "4  similarity_abundance      DNA     21     0.572237             f1_score   \n",
       "\n",
       "   iteration  \n",
       "0          0  \n",
       "1          0  \n",
       "2          1  \n",
       "3          1  \n",
       "4          2  "
      ]
     },
     "metadata": {},
     "output_type": "display_data"
    },
    {
     "name": "stdout",
     "output_type": "stream",
     "text": [
      "CPU times: user 777 ms, sys: 1.93 s, total: 2.7 s\n",
      "Wall time: 55.9 s\n"
     ]
    }
   ],
   "source": [
    "%%time\n",
    "\n",
    "scoring_groupby = ['species', 'database_type', 'search_method', 'alphabet', 'ksize']\n",
    "ground_truth_celltype_col = 'groundtruth_celltype'\n",
    "predicted_celltype_col = 'predicted_celltype'\n",
    "\n",
    "grouped = predicted_cells.groupby(scoring_groupby)\n",
    "\n",
    "dfs = Parallel(n_jobs=96)(\n",
    "    delayed(classification_metrics.subsample_and_score)(\n",
    "        df,\n",
    "        scoring_groupby=scoring_groupby,\n",
    "        keys=keys,\n",
    "        predicted_celltype_col=predicted_celltype_col,\n",
    "        ground_truth_celltype_col=ground_truth_celltype_col,\n",
    "        labels=SHARED_CELLTYPES,\n",
    "    )\n",
    "    for keys, df in tqdm(grouped, total=len(grouped))\n",
    ")\n",
    "broad_classification_metrics = pd.concat(\n",
    "    dfs, ignore_index=True\n",
    ")\n",
    "describe(broad_classification_metrics)"
   ]
  },
  {
   "cell_type": "code",
   "execution_count": 15,
   "id": "detected-reader",
   "metadata": {},
   "outputs": [],
   "source": [
    "broad_classification_metrics[\"database_method\"] = (\n",
    "    broad_classification_metrics.database_type.astype(str)\n",
    "    + \": \"\n",
    "    + broad_classification_metrics.search_method.astype(str)\n",
    ")"
   ]
  },
  {
   "cell_type": "code",
   "execution_count": 16,
   "id": "macro-retirement",
   "metadata": {},
   "outputs": [],
   "source": [
    "species_order = [\n",
    "    \"self\",\n",
    "    \"mouse\",\n",
    "    \"lemur\",\n",
    "    \"human\",\n",
    "    \"bat\",\n",
    "]\n",
    "alphabet_order = \"DNA\", \"protein\", \"dayhoff\""
   ]
  },
  {
   "cell_type": "code",
   "execution_count": 17,
   "id": "rental-replication",
   "metadata": {},
   "outputs": [],
   "source": [
    "broad_classification_metrics[\"alpha_ksize\"] = broad_classification_metrics.apply(\n",
    "    lambda x: \"{alphabet}, k: {ksize}\".format(**x), axis=1\n",
    ")"
   ]
  },
  {
   "cell_type": "markdown",
   "id": "single-divide",
   "metadata": {},
   "source": [
    "# Compartment"
   ]
  },
  {
   "cell_type": "markdown",
   "id": "positive-onion",
   "metadata": {},
   "source": [
    "## Booststrap and compute score"
   ]
  },
  {
   "cell_type": "code",
   "execution_count": 18,
   "id": "opposed-blame",
   "metadata": {},
   "outputs": [
    {
     "data": {
      "text/plain": [
       "array(['endothelial', 'epithelial', 'lymphoid', 'myeloid', 'stromal'],\n",
       "      dtype=object)"
      ]
     },
     "execution_count": 18,
     "metadata": {},
     "output_type": "execute_result"
    }
   ],
   "source": [
    "broad_to_compartment.unique()"
   ]
  },
  {
   "cell_type": "code",
   "execution_count": 19,
   "id": "quantitative-assumption",
   "metadata": {},
   "outputs": [
    {
     "name": "stderr",
     "output_type": "stream",
     "text": [
      "\n",
      "100%|██████████| 12/12 [00:00<00:00, 179.62it/s]\n"
     ]
    },
    {
     "name": "stdout",
     "output_type": "stream",
     "text": [
      "(24000, 7)\n",
      "--- First 5 entries ---\n"
     ]
    },
    {
     "data": {
      "text/html": [
       "<div>\n",
       "<style scoped>\n",
       "    .dataframe tbody tr th:only-of-type {\n",
       "        vertical-align: middle;\n",
       "    }\n",
       "\n",
       "    .dataframe tbody tr th {\n",
       "        vertical-align: top;\n",
       "    }\n",
       "\n",
       "    .dataframe thead th {\n",
       "        text-align: right;\n",
       "    }\n",
       "</style>\n",
       "<table border=\"1\" class=\"dataframe\">\n",
       "  <thead>\n",
       "    <tr style=\"text-align: right;\">\n",
       "      <th></th>\n",
       "      <th>species</th>\n",
       "      <th>database_type</th>\n",
       "      <th>alphabet</th>\n",
       "      <th>ksize</th>\n",
       "      <th>score_value</th>\n",
       "      <th>score_name</th>\n",
       "      <th>iteration</th>\n",
       "    </tr>\n",
       "  </thead>\n",
       "  <tbody>\n",
       "    <tr>\n",
       "      <th>0</th>\n",
       "      <td>bat</td>\n",
       "      <td>min-5-percent-shared-kmers-remove-common-kmers</td>\n",
       "      <td>DNA</td>\n",
       "      <td>21</td>\n",
       "      <td>0.603449</td>\n",
       "      <td>f1_score</td>\n",
       "      <td>0</td>\n",
       "    </tr>\n",
       "    <tr>\n",
       "      <th>1</th>\n",
       "      <td>bat</td>\n",
       "      <td>min-5-percent-shared-kmers-remove-common-kmers</td>\n",
       "      <td>DNA</td>\n",
       "      <td>21</td>\n",
       "      <td>0.753363</td>\n",
       "      <td>adjusted_rand_score</td>\n",
       "      <td>0</td>\n",
       "    </tr>\n",
       "    <tr>\n",
       "      <th>2</th>\n",
       "      <td>bat</td>\n",
       "      <td>min-5-percent-shared-kmers-remove-common-kmers</td>\n",
       "      <td>DNA</td>\n",
       "      <td>21</td>\n",
       "      <td>0.635131</td>\n",
       "      <td>f1_score</td>\n",
       "      <td>1</td>\n",
       "    </tr>\n",
       "    <tr>\n",
       "      <th>3</th>\n",
       "      <td>bat</td>\n",
       "      <td>min-5-percent-shared-kmers-remove-common-kmers</td>\n",
       "      <td>DNA</td>\n",
       "      <td>21</td>\n",
       "      <td>0.210970</td>\n",
       "      <td>adjusted_rand_score</td>\n",
       "      <td>1</td>\n",
       "    </tr>\n",
       "    <tr>\n",
       "      <th>4</th>\n",
       "      <td>bat</td>\n",
       "      <td>min-5-percent-shared-kmers-remove-common-kmers</td>\n",
       "      <td>DNA</td>\n",
       "      <td>21</td>\n",
       "      <td>0.857457</td>\n",
       "      <td>f1_score</td>\n",
       "      <td>2</td>\n",
       "    </tr>\n",
       "  </tbody>\n",
       "</table>\n",
       "</div>"
      ],
      "text/plain": [
       "  species                                   database_type alphabet  ksize  \\\n",
       "0     bat  min-5-percent-shared-kmers-remove-common-kmers      DNA     21   \n",
       "1     bat  min-5-percent-shared-kmers-remove-common-kmers      DNA     21   \n",
       "2     bat  min-5-percent-shared-kmers-remove-common-kmers      DNA     21   \n",
       "3     bat  min-5-percent-shared-kmers-remove-common-kmers      DNA     21   \n",
       "4     bat  min-5-percent-shared-kmers-remove-common-kmers      DNA     21   \n",
       "\n",
       "   score_value           score_name  iteration  \n",
       "0     0.603449             f1_score          0  \n",
       "1     0.753363  adjusted_rand_score          0  \n",
       "2     0.635131             f1_score          1  \n",
       "3     0.210970  adjusted_rand_score          1  \n",
       "4     0.857457             f1_score          2  "
      ]
     },
     "metadata": {},
     "output_type": "display_data"
    },
    {
     "name": "stdout",
     "output_type": "stream",
     "text": [
      "CPU times: user 482 ms, sys: 27.4 ms, total: 509 ms\n",
      "Wall time: 44.8 s\n"
     ]
    }
   ],
   "source": [
    "%%time\n",
    "\n",
    "scoring_groupby = ['species', 'database_type', 'alphabet', 'ksize']\n",
    "ground_truth_celltype_col = 'groundtruth_compartment'\n",
    "predicted_celltype_col = 'predicted_compartment'\n",
    "\n",
    "\n",
    "grouped = predicted_cells.groupby(scoring_groupby)\n",
    "\n",
    "dfs = Parallel(n_jobs=96)(\n",
    "    delayed(classification_metrics.subsample_and_score)(\n",
    "        df,\n",
    "        scoring_groupby=scoring_groupby,\n",
    "        keys=keys,\n",
    "        predicted_celltype_col=predicted_celltype_col,\n",
    "        ground_truth_celltype_col=ground_truth_celltype_col,\n",
    "        labels=broad_to_compartment.unique(),\n",
    "    )\n",
    "    for keys, df in tqdm(grouped, total=len(grouped))\n",
    ")\n",
    "compartment_metrics = pd.concat(\n",
    "    dfs, ignore_index=True\n",
    ")\n",
    "describe(compartment_metrics)"
   ]
  },
  {
   "cell_type": "markdown",
   "id": "equivalent-release",
   "metadata": {},
   "source": [
    "# Concatenate classification metrics"
   ]
  },
  {
   "cell_type": "code",
   "execution_count": 20,
   "id": "technological-ghost",
   "metadata": {},
   "outputs": [
    {
     "data": {
      "text/plain": [
       "species  database_type                                 \n",
       "bat      min-5-percent-shared-kmers-remove-common-kmers    6000\n",
       "human    min-5-percent-shared-kmers-remove-common-kmers    6000\n",
       "lemur    min-5-percent-shared-kmers-remove-common-kmers    6000\n",
       "mouse    min-5-percent-shared-kmers-remove-common-kmers    6000\n",
       "dtype: int64"
      ]
     },
     "execution_count": 20,
     "metadata": {},
     "output_type": "execute_result"
    }
   ],
   "source": [
    "compartment_metrics.groupby(['species', 'database_type']).size()"
   ]
  },
  {
   "cell_type": "code",
   "execution_count": 21,
   "id": "inappropriate-instrumentation",
   "metadata": {},
   "outputs": [],
   "source": [
    "broad_classification_metrics['grouping'] = 'celltype'\n",
    "compartment_metrics['grouping'] = 'compartment'"
   ]
  },
  {
   "cell_type": "code",
   "execution_count": 22,
   "id": "planned-alloy",
   "metadata": {},
   "outputs": [
    {
     "data": {
      "text/plain": [
       "array(['min-5-percent-shared-kmers-remove-common-kmers'], dtype=object)"
      ]
     },
     "execution_count": 22,
     "metadata": {},
     "output_type": "execute_result"
    }
   ],
   "source": [
    "broad_classification_metrics.database_type.unique()"
   ]
  },
  {
   "cell_type": "code",
   "execution_count": 23,
   "id": "alpha-transportation",
   "metadata": {},
   "outputs": [
    {
     "name": "stdout",
     "output_type": "stream",
     "text": [
      "(48000, 11)\n",
      "--- First 5 entries ---\n"
     ]
    },
    {
     "data": {
      "text/html": [
       "<div>\n",
       "<style scoped>\n",
       "    .dataframe tbody tr th:only-of-type {\n",
       "        vertical-align: middle;\n",
       "    }\n",
       "\n",
       "    .dataframe tbody tr th {\n",
       "        vertical-align: top;\n",
       "    }\n",
       "\n",
       "    .dataframe thead th {\n",
       "        text-align: right;\n",
       "    }\n",
       "</style>\n",
       "<table border=\"1\" class=\"dataframe\">\n",
       "  <thead>\n",
       "    <tr style=\"text-align: right;\">\n",
       "      <th></th>\n",
       "      <th>species</th>\n",
       "      <th>database_type</th>\n",
       "      <th>search_method</th>\n",
       "      <th>alphabet</th>\n",
       "      <th>ksize</th>\n",
       "      <th>score_value</th>\n",
       "      <th>score_name</th>\n",
       "      <th>iteration</th>\n",
       "      <th>database_method</th>\n",
       "      <th>alpha_ksize</th>\n",
       "      <th>grouping</th>\n",
       "    </tr>\n",
       "  </thead>\n",
       "  <tbody>\n",
       "    <tr>\n",
       "      <th>0</th>\n",
       "      <td>bat</td>\n",
       "      <td>min-5-percent-shared-kmers-remove-common-kmers</td>\n",
       "      <td>similarity_abundance</td>\n",
       "      <td>DNA</td>\n",
       "      <td>21</td>\n",
       "      <td>0.566242</td>\n",
       "      <td>f1_score</td>\n",
       "      <td>0</td>\n",
       "      <td>min-5-percent-shared-kmers-remove-common-kmers...</td>\n",
       "      <td>DNA, k: 21</td>\n",
       "      <td>celltype</td>\n",
       "    </tr>\n",
       "    <tr>\n",
       "      <th>1</th>\n",
       "      <td>bat</td>\n",
       "      <td>min-5-percent-shared-kmers-remove-common-kmers</td>\n",
       "      <td>similarity_abundance</td>\n",
       "      <td>DNA</td>\n",
       "      <td>21</td>\n",
       "      <td>0.244131</td>\n",
       "      <td>adjusted_rand_score</td>\n",
       "      <td>0</td>\n",
       "      <td>min-5-percent-shared-kmers-remove-common-kmers...</td>\n",
       "      <td>DNA, k: 21</td>\n",
       "      <td>celltype</td>\n",
       "    </tr>\n",
       "    <tr>\n",
       "      <th>2</th>\n",
       "      <td>bat</td>\n",
       "      <td>min-5-percent-shared-kmers-remove-common-kmers</td>\n",
       "      <td>similarity_abundance</td>\n",
       "      <td>DNA</td>\n",
       "      <td>21</td>\n",
       "      <td>0.680883</td>\n",
       "      <td>f1_score</td>\n",
       "      <td>1</td>\n",
       "      <td>min-5-percent-shared-kmers-remove-common-kmers...</td>\n",
       "      <td>DNA, k: 21</td>\n",
       "      <td>celltype</td>\n",
       "    </tr>\n",
       "    <tr>\n",
       "      <th>3</th>\n",
       "      <td>bat</td>\n",
       "      <td>min-5-percent-shared-kmers-remove-common-kmers</td>\n",
       "      <td>similarity_abundance</td>\n",
       "      <td>DNA</td>\n",
       "      <td>21</td>\n",
       "      <td>0.241237</td>\n",
       "      <td>adjusted_rand_score</td>\n",
       "      <td>1</td>\n",
       "      <td>min-5-percent-shared-kmers-remove-common-kmers...</td>\n",
       "      <td>DNA, k: 21</td>\n",
       "      <td>celltype</td>\n",
       "    </tr>\n",
       "    <tr>\n",
       "      <th>4</th>\n",
       "      <td>bat</td>\n",
       "      <td>min-5-percent-shared-kmers-remove-common-kmers</td>\n",
       "      <td>similarity_abundance</td>\n",
       "      <td>DNA</td>\n",
       "      <td>21</td>\n",
       "      <td>0.572237</td>\n",
       "      <td>f1_score</td>\n",
       "      <td>2</td>\n",
       "      <td>min-5-percent-shared-kmers-remove-common-kmers...</td>\n",
       "      <td>DNA, k: 21</td>\n",
       "      <td>celltype</td>\n",
       "    </tr>\n",
       "  </tbody>\n",
       "</table>\n",
       "</div>"
      ],
      "text/plain": [
       "  species                                   database_type  \\\n",
       "0     bat  min-5-percent-shared-kmers-remove-common-kmers   \n",
       "1     bat  min-5-percent-shared-kmers-remove-common-kmers   \n",
       "2     bat  min-5-percent-shared-kmers-remove-common-kmers   \n",
       "3     bat  min-5-percent-shared-kmers-remove-common-kmers   \n",
       "4     bat  min-5-percent-shared-kmers-remove-common-kmers   \n",
       "\n",
       "          search_method alphabet  ksize  score_value           score_name  \\\n",
       "0  similarity_abundance      DNA     21     0.566242             f1_score   \n",
       "1  similarity_abundance      DNA     21     0.244131  adjusted_rand_score   \n",
       "2  similarity_abundance      DNA     21     0.680883             f1_score   \n",
       "3  similarity_abundance      DNA     21     0.241237  adjusted_rand_score   \n",
       "4  similarity_abundance      DNA     21     0.572237             f1_score   \n",
       "\n",
       "   iteration                                    database_method alpha_ksize  \\\n",
       "0          0  min-5-percent-shared-kmers-remove-common-kmers...  DNA, k: 21   \n",
       "1          0  min-5-percent-shared-kmers-remove-common-kmers...  DNA, k: 21   \n",
       "2          1  min-5-percent-shared-kmers-remove-common-kmers...  DNA, k: 21   \n",
       "3          1  min-5-percent-shared-kmers-remove-common-kmers...  DNA, k: 21   \n",
       "4          2  min-5-percent-shared-kmers-remove-common-kmers...  DNA, k: 21   \n",
       "\n",
       "   grouping  \n",
       "0  celltype  \n",
       "1  celltype  \n",
       "2  celltype  \n",
       "3  celltype  \n",
       "4  celltype  "
      ]
     },
     "metadata": {},
     "output_type": "display_data"
    }
   ],
   "source": [
    "concatenated_metrics = pd.concat([broad_classification_metrics, compartment_metrics])\n",
    "concatenated_metrics = concatenated_metrics.query(\n",
    "    'database_type == \"min-5-percent-shared-kmers-remove-common-kmers\"'\n",
    ")\n",
    "\n",
    "describe(concatenated_metrics)"
   ]
  },
  {
   "cell_type": "code",
   "execution_count": 24,
   "id": "separated-toner",
   "metadata": {},
   "outputs": [],
   "source": [
    "concatenated_metrics_folder = os.path.join(\n",
    "    figure_folder, \"concatenated_metrics\"\n",
    ")\n",
    "! mkdir -p $concatenated_metrics_folder"
   ]
  },
  {
   "cell_type": "code",
   "execution_count": 25,
   "id": "popular-elder",
   "metadata": {},
   "outputs": [],
   "source": [
    "species_order_no_lemur = ['mouse', 'human', 'bat']\n"
   ]
  },
  {
   "cell_type": "code",
   "execution_count": 26,
   "id": "accessible-allowance",
   "metadata": {},
   "outputs": [
    {
     "name": "stdout",
     "output_type": "stream",
     "text": [
      "--- min-5-percent-shared-kmers-remove-common-kmers ---\n"
     ]
    },
    {
     "data": {
      "image/png": "[encoded data removed]",
      "text/plain": [
       "<Figure size 340.875x180 with 1 Axes>"
      ]
     },
     "metadata": {
      "needs_background": "light"
     },
     "output_type": "display_data"
    },
    {
     "data": {
      "image/png": "[encoded data removed]",
      "text/plain": [
       "<Figure size 340.875x180 with 1 Axes>"
      ]
     },
     "metadata": {
      "needs_background": "light"
     },
     "output_type": "display_data"
    },
    {
     "data": {
      "image/png": "[encoded data removed]",
      "text/plain": [
       "<Figure size 340.875x180 with 1 Axes>"
      ]
     },
     "metadata": {
      "needs_background": "light"
     },
     "output_type": "display_data"
    },
    {
     "data": {
      "image/png": "[encoded data removed]",
      "text/plain": [
       "<Figure size 340.875x180 with 1 Axes>"
      ]
     },
     "metadata": {
      "needs_background": "light"
     },
     "output_type": "display_data"
    }
   ],
   "source": [
    "for database_type, database_df in concatenated_metrics.query(\n",
    "    'species != \"lemur\"'\n",
    ").groupby(\"database_type\"):\n",
    "    print(f\"--- {database_type} ---\")\n",
    "\n",
    "    for score_name, score_df in database_df.groupby(\"score_name\"):\n",
    "        for grouping, df in score_df.groupby(\"grouping\"):\n",
    "            g = sns.catplot(\n",
    "                data=df,\n",
    "                x=\"alphabet\",\n",
    "                col=\"grouping\",\n",
    "                y=\"score_value\",\n",
    "                hue=\"species\",\n",
    "                kind=\"bar\",\n",
    "                height=2.5,\n",
    "                aspect=1.5,\n",
    "                order=alphabet_order,\n",
    "                hue_order=species_order_no_lemur,\n",
    "                palette=\"Accent\",\n",
    "                linewidth=1,\n",
    "                edgecolor=\"grey\",\n",
    "            )\n",
    "            g.set_titles(\"{col_name}\")\n",
    "            g.set_ylabels(score_name)\n",
    "            pdf = os.path.join(\n",
    "                concatenated_metrics_folder,\n",
    "                f\"barplot_metrics_per_species__row-grouping__hue-species__{database_type}__{score_name}__{grouping}__no_lemur.pdf\",\n",
    "            )\n",
    "            g.savefig(pdf)"
   ]
  },
  {
   "cell_type": "code",
   "execution_count": null,
   "id": "8a38a406-9252-46c3-98d5-97f86d58565c",
   "metadata": {},
   "outputs": [],
   "source": []
  },
  {
   "cell_type": "code",
   "execution_count": null,
   "id": "244451dd-31aa-49ba-8eb8-59428bd2130d",
   "metadata": {},
   "outputs": [],
   "source": []
  }
 ],
 "metadata": {
  "kernelspec": {
   "display_name": "Python [conda env:immune-evolution]",
   "language": "python",
   "name": "conda-env-immune-evolution-py"
  },
  "language_info": {
   "codemirror_mode": {
    "name": "ipython",
    "version": 3
   },
   "file_extension": ".py",
   "mimetype": "text/x-python",
   "name": "python",
   "nbconvert_exporter": "python",
   "pygments_lexer": "ipython3",
   "version": "3.7.8"
  },
  "toc-autonumbering": true
 },
 "nbformat": 4,
 "nbformat_minor": 5
}
