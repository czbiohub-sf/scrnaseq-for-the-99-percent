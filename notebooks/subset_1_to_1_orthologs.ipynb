{
 "cells": [
  {
   "cell_type": "code",
   "execution_count": 1,
   "metadata": {},
   "outputs": [],
   "source": [
    "import os\n",
    "\n",
    "from IPython.display import display\n",
    "import pandas as pd\n",
    "import scanpy as sc"
   ]
  },
  {
   "cell_type": "markdown",
   "metadata": {},
   "source": [
    "### Utility Functions\n",
    "\n",
    "<hr>"
   ]
  },
  {
   "cell_type": "code",
   "execution_count": 2,
   "metadata": {},
   "outputs": [],
   "source": [
    "def read_and_describe(fn, **kargs):\n",
    "    df = pd.read_csv(fn, **kargs)\n",
    "    print(df.shape)\n",
    "    display(df.head())\n",
    "    return df\n"
   ]
  },
  {
   "cell_type": "markdown",
   "metadata": {},
   "source": [
    "### Orthologs Mapping\n",
    "\n",
    "<hr>"
   ]
  },
  {
   "cell_type": "code",
   "execution_count": 3,
   "metadata": {},
   "outputs": [
    {
     "name": "stdout",
     "output_type": "stream",
     "text": [
      "(23602, 4)\n"
     ]
    },
    {
     "data": {
      "text/html": [
       "<div>\n",
       "<style scoped>\n",
       "    .dataframe tbody tr th:only-of-type {\n",
       "        vertical-align: middle;\n",
       "    }\n",
       "\n",
       "    .dataframe tbody tr th {\n",
       "        vertical-align: top;\n",
       "    }\n",
       "\n",
       "    .dataframe thead th {\n",
       "        text-align: right;\n",
       "    }\n",
       "</style>\n",
       "<table border=\"1\" class=\"dataframe\">\n",
       "  <thead>\n",
       "    <tr style=\"text-align: right;\">\n",
       "      <th></th>\n",
       "      <th>mouse_lemur__gene_name</th>\n",
       "      <th>human__gene_name</th>\n",
       "      <th>mouse__gene_name</th>\n",
       "      <th>bat__gene_name</th>\n",
       "    </tr>\n",
       "  </thead>\n",
       "  <tbody>\n",
       "    <tr>\n",
       "      <th>0</th>\n",
       "      <td>ARNT</td>\n",
       "      <td>ARNT</td>\n",
       "      <td>Arnt</td>\n",
       "      <td>ARNT</td>\n",
       "    </tr>\n",
       "    <tr>\n",
       "      <th>1</th>\n",
       "      <td>ARNT</td>\n",
       "      <td>ARNT</td>\n",
       "      <td>Arnt</td>\n",
       "      <td>ARNT</td>\n",
       "    </tr>\n",
       "    <tr>\n",
       "      <th>2</th>\n",
       "      <td>FKTN</td>\n",
       "      <td>FKTN</td>\n",
       "      <td>Fktn</td>\n",
       "      <td>FKTN</td>\n",
       "    </tr>\n",
       "    <tr>\n",
       "      <th>3</th>\n",
       "      <td>FKTN</td>\n",
       "      <td>FKTN</td>\n",
       "      <td>Fktn</td>\n",
       "      <td>FKTN</td>\n",
       "    </tr>\n",
       "    <tr>\n",
       "      <th>4</th>\n",
       "      <td>FEM1C</td>\n",
       "      <td>FEM1C</td>\n",
       "      <td>Fem1c</td>\n",
       "      <td>FEM1C</td>\n",
       "    </tr>\n",
       "  </tbody>\n",
       "</table>\n",
       "</div>"
      ],
      "text/plain": [
       "  mouse_lemur__gene_name human__gene_name mouse__gene_name bat__gene_name\n",
       "0                   ARNT             ARNT             Arnt           ARNT\n",
       "1                   ARNT             ARNT             Arnt           ARNT\n",
       "2                   FKTN             FKTN             Fktn           FKTN\n",
       "3                   FKTN             FKTN             Fktn           FKTN\n",
       "4                  FEM1C            FEM1C            Fem1c          FEM1C"
      ]
     },
     "metadata": {},
     "output_type": "display_data"
    },
    {
     "name": "stdout",
     "output_type": "stream",
     "text": [
      "(12610, 4)\n"
     ]
    },
    {
     "data": {
      "text/html": [
       "<div>\n",
       "<style scoped>\n",
       "    .dataframe tbody tr th:only-of-type {\n",
       "        vertical-align: middle;\n",
       "    }\n",
       "\n",
       "    .dataframe tbody tr th {\n",
       "        vertical-align: top;\n",
       "    }\n",
       "\n",
       "    .dataframe thead th {\n",
       "        text-align: right;\n",
       "    }\n",
       "</style>\n",
       "<table border=\"1\" class=\"dataframe\">\n",
       "  <thead>\n",
       "    <tr style=\"text-align: right;\">\n",
       "      <th></th>\n",
       "      <th>mouse_lemur__gene_name</th>\n",
       "      <th>human__gene_name</th>\n",
       "      <th>mouse__gene_name</th>\n",
       "      <th>bat__gene_name</th>\n",
       "    </tr>\n",
       "  </thead>\n",
       "  <tbody>\n",
       "    <tr>\n",
       "      <th>0</th>\n",
       "      <td>ARNT</td>\n",
       "      <td>ARNT</td>\n",
       "      <td>Arnt</td>\n",
       "      <td>ARNT</td>\n",
       "    </tr>\n",
       "    <tr>\n",
       "      <th>2</th>\n",
       "      <td>FKTN</td>\n",
       "      <td>FKTN</td>\n",
       "      <td>Fktn</td>\n",
       "      <td>FKTN</td>\n",
       "    </tr>\n",
       "    <tr>\n",
       "      <th>4</th>\n",
       "      <td>FEM1C</td>\n",
       "      <td>FEM1C</td>\n",
       "      <td>Fem1c</td>\n",
       "      <td>FEM1C</td>\n",
       "    </tr>\n",
       "    <tr>\n",
       "      <th>5</th>\n",
       "      <td>ROGDI</td>\n",
       "      <td>ROGDI</td>\n",
       "      <td>Rogdi</td>\n",
       "      <td>ROGDI</td>\n",
       "    </tr>\n",
       "    <tr>\n",
       "      <th>6</th>\n",
       "      <td>IDUA</td>\n",
       "      <td>IDUA</td>\n",
       "      <td>Idua</td>\n",
       "      <td>IDUA</td>\n",
       "    </tr>\n",
       "  </tbody>\n",
       "</table>\n",
       "</div>"
      ],
      "text/plain": [
       "  mouse_lemur__gene_name human__gene_name mouse__gene_name bat__gene_name\n",
       "0                   ARNT             ARNT             Arnt           ARNT\n",
       "2                   FKTN             FKTN             Fktn           FKTN\n",
       "4                  FEM1C            FEM1C            Fem1c          FEM1C\n",
       "5                  ROGDI            ROGDI            Rogdi          ROGDI\n",
       "6                   IDUA             IDUA             Idua           IDUA"
      ]
     },
     "execution_count": 3,
     "metadata": {},
     "output_type": "execute_result"
    }
   ],
   "source": [
    "orthologs_mapping = read_and_describe(\n",
    "    \"/home/olga/data_lg/data_sm_copy/immune-evolution/rawdata/orthologs-combined/ncbi_mgi_ensembl__mouse-lemur_human_mouse__orthologs__gene_names__one2one___ensembl_v101__mRhiFer1_v1__human__mouse-lemur__mouse__orthologs.csv\",\n",
    "    #index_col=0\n",
    ")\n",
    "\n",
    "orthologs_mapping = orthologs_mapping.drop_duplicates()\n",
    "print(orthologs_mapping.shape)\n",
    "orthologs_mapping.head()\n",
    "#bam_channel_metadata = read_and_describe('/home/olga/data_lg/data_sm_copy/batlas/Bat_Bams/metadata.csv')"
   ]
  },
  {
   "cell_type": "markdown",
   "metadata": {},
   "source": [
    "### Read in anndata for all species:\n",
    "\n",
    "<hr>"
   ]
  },
  {
   "cell_type": "code",
   "execution_count": 4,
   "metadata": {},
   "outputs": [
    {
     "name": "stdout",
     "output_type": "stream",
     "text": [
      "--------------- mouse ---------------\n",
      "AnnData object with n_obs × n_vars = 238915 × 20138\n",
      "    obs: 'age', 'cell', 'cell_ontology_class', 'cell_ontology_id', 'free_annotation', 'method', 'mouse.id', 'n_genes', 'sex', 'subtissue', 'tissue', 'tissue_free_annotation', 'species', 'species_latin', 'channel', 'channel_tissue', 'sequencing_run', 'cell_barcode', 'n_barcodes'\n",
      "    var: 'n_cells'\n",
      "--------------- lemur ---------------\n",
      "AnnData object with n_obs × n_vars = 232823 × 31509\n",
      "    obs: 'batch', 'channel', 'individual', 'method', 'original_channel', 'channel_no_10x', 'sequencing_run', 'free_annotation', 'tissue', 'cell_ontology_class', 'cell_ontology_id', 'compartment', 'compartment_id', 'n_genes', 'n_counts', 'cell_barcode', 'possibly_contaminated_barcode'\n",
      "    var: 'gene_ids'\n",
      "WARNING: Your filename has more than two extensions: ['.ss2_norm', '.ann', '.compartment', '.allgenes', '.h5ad'].\n",
      "Only considering the two last: ['.allgenes', '.h5ad'].\n",
      "WARNING: Your filename has more than two extensions: ['.ss2_norm', '.ann', '.compartment', '.allgenes', '.h5ad'].\n",
      "Only considering the two last: ['.allgenes', '.h5ad'].\n",
      "--------------- human ---------------\n",
      "AnnData object with n_obs × n_vars = 207016 × 58870\n",
      "    obs: '10X_run', 'smartseq2_barcode', 'smartseq2_library_plate', 'smartseq2_sorting_direction', 'smartseq2_sort_order', 'smartseq2_cDNA_Plate', 'cell_id', 'method', 'donor', '10X_replicate', 'sequencer', 'sex', 'tissue', 'smartseq2_well_seq', 'notes', 'smartseq2_sorted_population', '10X_sample', 'anatomical_position', '10X_barcode', 'n_counts', 'n_genes', 'manual_cell_ontology_class', 'manual_annotation', 'doublet_filter', 'compartment', 'batch', 'compartment_pred', 'leiden', 'cluster_id', 'Propagated Annotation', 'Entropy All Methods', 'Entropy kNN Reps', 'Entropy scANVI Reps', 'Entropy SVM Reps', 'Potential Doublets', 'Onclass', 'singlecellNet', 'kNN', 'SVM', 'scANVI', 'compartment_pred_svm', 'manual_cell_ontology_classcollapsed', 'Propagated Annotationcollapsed', 'Onclasscollapsed', 'singlecellNetcollapsed', 'kNNcollapsed', 'SVMcollapsed', 'scANVIcollapsed', 'miscompartmentalized', 'log_n_counts', 'log_n_genes'\n",
      "    var: 'feature_types-0-0', 'n_cells-0-0', 'gene_symbol-0-0', 'n_cells-1-0', 'n_cells-0', 'n_cells-1-1', 'feature_types-0-0-0-1', 'gene_symbol-0-0-0-1', 'n_cells-1-0-0-1', 'n_cells-1-0-1', 'n_cells', 'len', 'ensembl_id'\n",
      "    obsm: 'X_scvi', 'X_umap'\n",
      "--------------- bat ---------------\n",
      "AnnData object with n_obs × n_vars = 24201 × 11878\n",
      "    obs: 'animalID', 'batch', 'sex', 'tissue', 'method', 'n_genes', 'n_counts'\n",
      "    var: 'n_cells'\n"
     ]
    }
   ],
   "source": [
    "mouse_folder = \"/home/olga/data_lg/data_sm_copy/czb-tabula-muris-senis/Data-objects\"\n",
    "lemur_folder = '/home/olga/data_lg/data_sm_copy/tabula-microcebus/data-objects/10x'\n",
    "human_folder = '/mnt/ibm_sm/olga/immune-evolution/rawdata/human/h5ads/'\n",
    "bat_folder = '/home/olga/data_lg/data_sm_copy/batlas'\n",
    "\n",
    "mouse_h5ad = 'tabula-muris-senis-droplet-official-raw-obj--no-duplicate-barcodes-per-seq-run.h5ad'\n",
    "lemur_h5ad = 'tabula-microcebus--10x--counts--min-51-genes--min-101-counts--trnas-summed--no-duplicate-barcodes--pairs-disambiguated--no-na.h5ad'\n",
    "human_h5ad = 'Pilot1_Pilot2_filtered_ensembl_id_Aug5.ss2_norm.ann.compartment.allgenes.h5ad'\n",
    "bat_h5ad = 'baca-droplet-raw.h5ad'\n",
    "\n",
    "def load_adata(species, folder, h5ad):\n",
    "    adata = sc.read(os.path.join(folder, h5ad))\n",
    "    print(\"-\"*15, species, \"-\"*15)\n",
    "    print(adata)\n",
    "    return adata\n",
    "\n",
    "\n",
    "mouse_adata = load_adata(\"mouse\", mouse_folder, mouse_h5ad)\n",
    "lemur_adata = load_adata(\"lemur\", lemur_folder, lemur_h5ad)\n",
    "human_adata = load_adata(\"human\", human_folder, human_h5ad)\n",
    "bat_adata = load_adata(\"bat\", bat_folder, bat_h5ad)"
   ]
  },
  {
   "cell_type": "markdown",
   "metadata": {},
   "source": [
    "### Utility Code for creating one2one subsets between all species\n",
    "\n",
    "<hr>"
   ]
  },
  {
   "cell_type": "code",
   "execution_count": 5,
   "metadata": {},
   "outputs": [],
   "source": [
    "def create_one2one_subset(adata,  species, orthologs_mapping):\n",
    "    # filter out all genes not konwn to be ortholog between species\n",
    "    gene_col = f'{species}__gene_name'\n",
    "    gene_mask = adata.var.index.isin(\n",
    "        orthologs_mapping[gene_col].values\n",
    "    )\n",
    "    \n",
    "    one2one = adata[:, gene_mask]\n",
    "    one2one_new_var = one2one.var.merge(\n",
    "        orthologs_mapping, \n",
    "        left_index=True, \n",
    "        right_on=gene_col\n",
    "    )\n",
    "    \n",
    "    # set index to human index for easier merging later\n",
    "    one2one_var_human_index = one2one_new_var.set_index(\n",
    "        \"human__gene_name\"\n",
    "    )\n",
    "    one2one.var = one2one_var_human_index\n",
    "    \n",
    "    return one2one\n",
    "    "
   ]
  },
  {
   "cell_type": "code",
   "execution_count": 6,
   "metadata": {},
   "outputs": [],
   "source": [
    "def subset_one2one_bat(adata, bat_adata):\n",
    "    # subset to only orthologs that are also found in bat\n",
    "    # (bat dataset has fewest number of orthologs present)\n",
    "    \n",
    "    gene_mask = adata.var.index.isin(\n",
    "        bat_adata.var.index\n",
    "    )\n",
    "    return adata[:, gene_mask]\n",
    "    "
   ]
  },
  {
   "cell_type": "code",
   "execution_count": 7,
   "metadata": {},
   "outputs": [],
   "source": [
    "def subset_only_shared_genes(adata, bat_genes):\n",
    "    # subset to only genes that are shared in bat\n",
    "    gene_mask = adata.var.index.isin(\n",
    "        bat_genes\n",
    "    )\n",
    "    return adata[:, gene_mask]"
   ]
  },
  {
   "cell_type": "markdown",
   "metadata": {},
   "source": [
    "### Create one2one orthologs subset"
   ]
  },
  {
   "cell_type": "code",
   "execution_count": 8,
   "metadata": {},
   "outputs": [
    {
     "name": "stderr",
     "output_type": "stream",
     "text": [
      "/home/phoenix/anaconda3/envs/scanpy_bat/lib/python3.7/site-packages/anndata/_core/anndata.py:1094: FutureWarning: is_categorical is deprecated and will be removed in a future version.  Use is_categorical_dtype instead\n",
      "  if not is_categorical(df_full[k]):\n"
     ]
    },
    {
     "data": {
      "text/plain": [
       "AnnData object with n_obs × n_vars = 24201 × 6951\n",
       "    obs: 'animalID', 'batch', 'sex', 'tissue', 'method', 'n_genes', 'n_counts'\n",
       "    var: 'n_cells', 'mouse_lemur__gene_name', 'mouse__gene_name', 'bat__gene_name'"
      ]
     },
     "execution_count": 8,
     "metadata": {},
     "output_type": "execute_result"
    }
   ],
   "source": [
    "bat_one2one = create_one2one_subset(\n",
    "    bat_adata,  \"bat\", orthologs_mapping\n",
    ")\n",
    "bat_one2onea"
   ]
  },
  {
   "cell_type": "code",
   "execution_count": 11,
   "metadata": {},
   "outputs": [
    {
     "data": {
      "text/plain": [
       "AnnData object with n_obs × n_vars = 238915 × 11297\n",
       "    obs: 'age', 'cell', 'cell_ontology_class', 'cell_ontology_id', 'free_annotation', 'method', 'mouse.id', 'n_genes', 'sex', 'subtissue', 'tissue', 'tissue_free_annotation', 'species', 'species_latin', 'channel', 'channel_tissue', 'sequencing_run', 'cell_barcode', 'n_barcodes'\n",
       "    var: 'n_cells', 'mouse_lemur__gene_name', 'mouse__gene_name', 'bat__gene_name'"
      ]
     },
     "execution_count": 11,
     "metadata": {},
     "output_type": "execute_result"
    }
   ],
   "source": [
    "mouse_one2one = create_one2one_subset(\n",
    "    mouse_adata,  \"mouse\", orthologs_mapping\n",
    ")\n",
    "mouse_one2one"
   ]
  },
  {
   "cell_type": "code",
   "execution_count": 12,
   "metadata": {},
   "outputs": [
    {
     "data": {
      "text/plain": [
       "AnnData object with n_obs × n_vars = 232823 × 12288\n",
       "    obs: 'batch', 'channel', 'individual', 'method', 'original_channel', 'channel_no_10x', 'sequencing_run', 'free_annotation', 'tissue', 'cell_ontology_class', 'cell_ontology_id', 'compartment', 'compartment_id', 'n_genes', 'n_counts', 'cell_barcode', 'possibly_contaminated_barcode'\n",
       "    var: 'gene_ids', 'mouse_lemur__gene_name', 'mouse__gene_name', 'bat__gene_name'"
      ]
     },
     "execution_count": 12,
     "metadata": {},
     "output_type": "execute_result"
    }
   ],
   "source": [
    "lemur_one2one = create_one2one_subset(\n",
    "    lemur_adata,  \"mouse_lemur\", orthologs_mapping\n",
    ")\n",
    "lemur_one2one"
   ]
  },
  {
   "cell_type": "code",
   "execution_count": 13,
   "metadata": {},
   "outputs": [
    {
     "data": {
      "text/plain": [
       "AnnData object with n_obs × n_vars = 207016 × 12472\n",
       "    obs: '10X_run', 'smartseq2_barcode', 'smartseq2_library_plate', 'smartseq2_sorting_direction', 'smartseq2_sort_order', 'smartseq2_cDNA_Plate', 'cell_id', 'method', 'donor', '10X_replicate', 'sequencer', 'sex', 'tissue', 'smartseq2_well_seq', 'notes', 'smartseq2_sorted_population', '10X_sample', 'anatomical_position', '10X_barcode', 'n_counts', 'n_genes', 'manual_cell_ontology_class', 'manual_annotation', 'doublet_filter', 'compartment', 'batch', 'compartment_pred', 'leiden', 'cluster_id', 'Propagated Annotation', 'Entropy All Methods', 'Entropy kNN Reps', 'Entropy scANVI Reps', 'Entropy SVM Reps', 'Potential Doublets', 'Onclass', 'singlecellNet', 'kNN', 'SVM', 'scANVI', 'compartment_pred_svm', 'manual_cell_ontology_classcollapsed', 'Propagated Annotationcollapsed', 'Onclasscollapsed', 'singlecellNetcollapsed', 'kNNcollapsed', 'SVMcollapsed', 'scANVIcollapsed', 'miscompartmentalized', 'log_n_counts', 'log_n_genes'\n",
       "    var: 'feature_types-0-0', 'n_cells-0-0', 'gene_symbol-0-0', 'n_cells-1-0', 'n_cells-0', 'n_cells-1-1', 'feature_types-0-0-0-1', 'gene_symbol-0-0-0-1', 'n_cells-1-0-0-1', 'n_cells-1-0-1', 'n_cells', 'len', 'ensembl_id', 'mouse_lemur__gene_name', 'mouse__gene_name', 'bat__gene_name'\n",
       "    obsm: 'X_scvi', 'X_umap'"
      ]
     },
     "execution_count": 13,
     "metadata": {},
     "output_type": "execute_result"
    }
   ],
   "source": [
    "human_one2one = create_one2one_subset(\n",
    "    human_adata,  \"human\", orthologs_mapping\n",
    ")\n",
    "human_one2one"
   ]
  },
  {
   "cell_type": "code",
   "execution_count": 14,
   "metadata": {},
   "outputs": [
    {
     "data": {
      "text/plain": [
       "View of AnnData object with n_obs × n_vars = 238915 × 6382\n",
       "    obs: 'age', 'cell', 'cell_ontology_class', 'cell_ontology_id', 'free_annotation', 'method', 'mouse.id', 'n_genes', 'sex', 'subtissue', 'tissue', 'tissue_free_annotation', 'species', 'species_latin', 'channel', 'channel_tissue', 'sequencing_run', 'cell_barcode', 'n_barcodes'\n",
       "    var: 'n_cells', 'mouse_lemur__gene_name', 'mouse__gene_name', 'bat__gene_name'"
      ]
     },
     "execution_count": 14,
     "metadata": {},
     "output_type": "execute_result"
    }
   ],
   "source": [
    "mouse_subset_to_bat = subset_one2one_bat(mouse_one2one, bat_one2one)\n",
    "mouse_subset_to_bat"
   ]
  },
  {
   "cell_type": "code",
   "execution_count": 15,
   "metadata": {},
   "outputs": [
    {
     "data": {
      "text/plain": [
       "View of AnnData object with n_obs × n_vars = 232823 × 6948\n",
       "    obs: 'batch', 'channel', 'individual', 'method', 'original_channel', 'channel_no_10x', 'sequencing_run', 'free_annotation', 'tissue', 'cell_ontology_class', 'cell_ontology_id', 'compartment', 'compartment_id', 'n_genes', 'n_counts', 'cell_barcode', 'possibly_contaminated_barcode'\n",
       "    var: 'gene_ids', 'mouse_lemur__gene_name', 'mouse__gene_name', 'bat__gene_name'"
      ]
     },
     "execution_count": 15,
     "metadata": {},
     "output_type": "execute_result"
    }
   ],
   "source": [
    "lemur_subset_to_bat = subset_one2one_bat(lemur_one2one, bat_one2one)\n",
    "lemur_subset_to_bat"
   ]
  },
  {
   "cell_type": "code",
   "execution_count": 16,
   "metadata": {},
   "outputs": [
    {
     "data": {
      "text/plain": [
       "View of AnnData object with n_obs × n_vars = 207016 × 6932\n",
       "    obs: '10X_run', 'smartseq2_barcode', 'smartseq2_library_plate', 'smartseq2_sorting_direction', 'smartseq2_sort_order', 'smartseq2_cDNA_Plate', 'cell_id', 'method', 'donor', '10X_replicate', 'sequencer', 'sex', 'tissue', 'smartseq2_well_seq', 'notes', 'smartseq2_sorted_population', '10X_sample', 'anatomical_position', '10X_barcode', 'n_counts', 'n_genes', 'manual_cell_ontology_class', 'manual_annotation', 'doublet_filter', 'compartment', 'batch', 'compartment_pred', 'leiden', 'cluster_id', 'Propagated Annotation', 'Entropy All Methods', 'Entropy kNN Reps', 'Entropy scANVI Reps', 'Entropy SVM Reps', 'Potential Doublets', 'Onclass', 'singlecellNet', 'kNN', 'SVM', 'scANVI', 'compartment_pred_svm', 'manual_cell_ontology_classcollapsed', 'Propagated Annotationcollapsed', 'Onclasscollapsed', 'singlecellNetcollapsed', 'kNNcollapsed', 'SVMcollapsed', 'scANVIcollapsed', 'miscompartmentalized', 'log_n_counts', 'log_n_genes'\n",
       "    var: 'feature_types-0-0', 'n_cells-0-0', 'gene_symbol-0-0', 'n_cells-1-0', 'n_cells-0', 'n_cells-1-1', 'feature_types-0-0-0-1', 'gene_symbol-0-0-0-1', 'n_cells-1-0-0-1', 'n_cells-1-0-1', 'n_cells', 'len', 'ensembl_id', 'mouse_lemur__gene_name', 'mouse__gene_name', 'bat__gene_name'\n",
       "    obsm: 'X_scvi', 'X_umap'"
      ]
     },
     "execution_count": 16,
     "metadata": {},
     "output_type": "execute_result"
    }
   ],
   "source": [
    "human_subset_to_bat = subset_one2one_bat(human_one2one, bat_one2one)\n",
    "human_subset_to_bat"
   ]
  },
  {
   "cell_type": "markdown",
   "metadata": {},
   "source": [
    "### common index between all species\n",
    "\n",
    "<hr>"
   ]
  },
  {
   "cell_type": "code",
   "execution_count": 18,
   "metadata": {},
   "outputs": [
    {
     "data": {
      "text/plain": [
       "6363"
      ]
     },
     "execution_count": 18,
     "metadata": {},
     "output_type": "execute_result"
    }
   ],
   "source": [
    "common_index = human_subset_to_bat.var.index.intersection(\n",
    "    lemur_subset_to_bat.var.index\n",
    ").intersection(\n",
    "    mouse_subset_to_bat.var.index\n",
    ").intersection(\n",
    "    bat_one2one.var.index\n",
    ")\n",
    "len(common_index)"
   ]
  },
  {
   "cell_type": "markdown",
   "metadata": {},
   "source": [
    "### Subsetting only to genes in shared index\n",
    "\n",
    "<hr>"
   ]
  },
  {
   "cell_type": "code",
   "execution_count": 19,
   "metadata": {},
   "outputs": [
    {
     "data": {
      "text/plain": [
       "View of AnnData object with n_obs × n_vars = 207016 × 6363\n",
       "    obs: '10X_run', 'smartseq2_barcode', 'smartseq2_library_plate', 'smartseq2_sorting_direction', 'smartseq2_sort_order', 'smartseq2_cDNA_Plate', 'cell_id', 'method', 'donor', '10X_replicate', 'sequencer', 'sex', 'tissue', 'smartseq2_well_seq', 'notes', 'smartseq2_sorted_population', '10X_sample', 'anatomical_position', '10X_barcode', 'n_counts', 'n_genes', 'manual_cell_ontology_class', 'manual_annotation', 'doublet_filter', 'compartment', 'batch', 'compartment_pred', 'leiden', 'cluster_id', 'Propagated Annotation', 'Entropy All Methods', 'Entropy kNN Reps', 'Entropy scANVI Reps', 'Entropy SVM Reps', 'Potential Doublets', 'Onclass', 'singlecellNet', 'kNN', 'SVM', 'scANVI', 'compartment_pred_svm', 'manual_cell_ontology_classcollapsed', 'Propagated Annotationcollapsed', 'Onclasscollapsed', 'singlecellNetcollapsed', 'kNNcollapsed', 'SVMcollapsed', 'scANVIcollapsed', 'miscompartmentalized', 'log_n_counts', 'log_n_genes'\n",
       "    var: 'feature_types-0-0', 'n_cells-0-0', 'gene_symbol-0-0', 'n_cells-1-0', 'n_cells-0', 'n_cells-1-1', 'feature_types-0-0-0-1', 'gene_symbol-0-0-0-1', 'n_cells-1-0-0-1', 'n_cells-1-0-1', 'n_cells', 'len', 'ensembl_id', 'mouse_lemur__gene_name', 'mouse__gene_name', 'bat__gene_name'\n",
       "    obsm: 'X_scvi', 'X_umap'"
      ]
     },
     "execution_count": 19,
     "metadata": {},
     "output_type": "execute_result"
    }
   ],
   "source": [
    "human_subset_to_bat_w_shared_index = subset_only_shared_genes(\n",
    "    human_subset_to_bat, common_index\n",
    ")\n",
    "human_subset_to_bat_w_shared_index"
   ]
  },
  {
   "cell_type": "code",
   "execution_count": 20,
   "metadata": {},
   "outputs": [
    {
     "data": {
      "text/plain": [
       "View of AnnData object with n_obs × n_vars = 238915 × 6363\n",
       "    obs: 'age', 'cell', 'cell_ontology_class', 'cell_ontology_id', 'free_annotation', 'method', 'mouse.id', 'n_genes', 'sex', 'subtissue', 'tissue', 'tissue_free_annotation', 'species', 'species_latin', 'channel', 'channel_tissue', 'sequencing_run', 'cell_barcode', 'n_barcodes'\n",
       "    var: 'n_cells', 'mouse_lemur__gene_name', 'mouse__gene_name', 'bat__gene_name'"
      ]
     },
     "execution_count": 20,
     "metadata": {},
     "output_type": "execute_result"
    }
   ],
   "source": [
    "mouse_subset_to_bat_w_shared_index = subset_only_shared_genes(\n",
    "    mouse_subset_to_bat, common_index\n",
    ")\n",
    "mouse_subset_to_bat_w_shared_index"
   ]
  },
  {
   "cell_type": "code",
   "execution_count": 21,
   "metadata": {},
   "outputs": [
    {
     "data": {
      "text/plain": [
       "View of AnnData object with n_obs × n_vars = 232823 × 6363\n",
       "    obs: 'batch', 'channel', 'individual', 'method', 'original_channel', 'channel_no_10x', 'sequencing_run', 'free_annotation', 'tissue', 'cell_ontology_class', 'cell_ontology_id', 'compartment', 'compartment_id', 'n_genes', 'n_counts', 'cell_barcode', 'possibly_contaminated_barcode'\n",
       "    var: 'gene_ids', 'mouse_lemur__gene_name', 'mouse__gene_name', 'bat__gene_name'"
      ]
     },
     "execution_count": 21,
     "metadata": {},
     "output_type": "execute_result"
    }
   ],
   "source": [
    "lemur_subset_to_bat_w_shared_index = subset_only_shared_genes(\n",
    "    lemur_subset_to_bat, common_index\n",
    ")\n",
    "lemur_subset_to_bat_w_shared_index"
   ]
  },
  {
   "cell_type": "code",
   "execution_count": 22,
   "metadata": {},
   "outputs": [
    {
     "data": {
      "text/plain": [
       "View of AnnData object with n_obs × n_vars = 24201 × 6363\n",
       "    obs: 'animalID', 'batch', 'sex', 'tissue', 'method', 'n_genes', 'n_counts'\n",
       "    var: 'n_cells', 'mouse_lemur__gene_name', 'mouse__gene_name', 'bat__gene_name'"
      ]
     },
     "execution_count": 22,
     "metadata": {},
     "output_type": "execute_result"
    }
   ],
   "source": [
    "bat_subset_to_bat_w_shared_index = subset_only_shared_genes(\n",
    "    bat_one2one, common_index\n",
    ")\n",
    "bat_subset_to_bat_w_shared_index"
   ]
  },
  {
   "cell_type": "markdown",
   "metadata": {},
   "source": [
    "### Write one2one shared index adata objects to file\n",
    "\n",
    "<hr>"
   ]
  },
  {
   "cell_type": "code",
   "execution_count": 23,
   "metadata": {},
   "outputs": [
    {
     "name": "stderr",
     "output_type": "stream",
     "text": [
      "/home/phoenix/anaconda3/envs/scanpy_bat/lib/python3.7/site-packages/anndata/_core/anndata.py:1192: FutureWarning: is_categorical is deprecated and will be removed in a future version.  Use is_categorical_dtype instead\n",
      "  if is_string_dtype(df[key]) and not is_categorical(df[key])\n"
     ]
    }
   ],
   "source": [
    "filename_mapping = {\n",
    "    \"bat\": bat_subset_to_bat_w_shared_index,\n",
    "    \"mouse\": mouse_subset_to_bat_w_shared_index,\n",
    "    \"human\": human_subset_to_bat_w_shared_index,\n",
    "    \"lemur\": lemur_subset_to_bat_w_shared_index,\n",
    "}\n",
    "\n",
    "for species, adata in filename_mapping.items():\n",
    "    adata.write(\n",
    "        f\"/mnt/ibm_sm/olga/immune-evolution/rawdata/{species}/h5ads/{species}_subset_w_shared_one2one_orthologs_human_lemur_mouse_bat.h5ad\"\n",
    "    )"
   ]
  },
  {
   "cell_type": "markdown",
   "metadata": {},
   "source": [
    "### Combine species adata\n",
    "\n",
    "<hr>"
   ]
  },
  {
   "cell_type": "code",
   "execution_count": 24,
   "metadata": {},
   "outputs": [
    {
     "name": "stderr",
     "output_type": "stream",
     "text": [
      "/home/phoenix/anaconda3/envs/scanpy_bat/lib/python3.7/site-packages/anndata/_core/merge.py:894: UserWarning: Only some AnnData objects have `.raw` attribute, not concatenating `.raw` attributes.\n",
      "  UserWarning,\n"
     ]
    }
   ],
   "source": [
    "combined_adata = human_subset_to_bat_w_shared_index.concatenate(\n",
    "    lemur_subset_to_bat_w_shared_index, \n",
    "    mouse_subset_to_bat_w_shared_index,\n",
    "    bat_subset_to_bat_w_shared_index,\n",
    "    batch_key='species_batch', \n",
    "    batch_categories=['human', 'lemur', 'mouse', 'bat']\n",
    ")"
   ]
  },
  {
   "cell_type": "code",
   "execution_count": 25,
   "metadata": {},
   "outputs": [
    {
     "data": {
      "text/plain": [
       "AnnData object with n_obs × n_vars = 702955 × 6363\n",
       "    obs: '10X_run', 'smartseq2_barcode', 'smartseq2_library_plate', 'smartseq2_sorting_direction', 'smartseq2_sort_order', 'smartseq2_cDNA_Plate', 'cell_id', 'method', 'donor', '10X_replicate', 'sequencer', 'sex', 'tissue', 'smartseq2_well_seq', 'notes', 'smartseq2_sorted_population', '10X_sample', 'anatomical_position', '10X_barcode', 'n_counts', 'n_genes', 'manual_cell_ontology_class', 'manual_annotation', 'doublet_filter', 'compartment', 'batch', 'compartment_pred', 'leiden', 'cluster_id', 'Propagated Annotation', 'Entropy All Methods', 'Entropy kNN Reps', 'Entropy scANVI Reps', 'Entropy SVM Reps', 'Potential Doublets', 'Onclass', 'singlecellNet', 'kNN', 'SVM', 'scANVI', 'compartment_pred_svm', 'manual_cell_ontology_classcollapsed', 'Propagated Annotationcollapsed', 'Onclasscollapsed', 'singlecellNetcollapsed', 'kNNcollapsed', 'SVMcollapsed', 'scANVIcollapsed', 'miscompartmentalized', 'log_n_counts', 'log_n_genes', 'channel', 'individual', 'original_channel', 'channel_no_10x', 'sequencing_run', 'free_annotation', 'cell_ontology_class', 'cell_ontology_id', 'compartment_id', 'cell_barcode', 'possibly_contaminated_barcode', 'age', 'cell', 'mouse.id', 'subtissue', 'tissue_free_annotation', 'species', 'species_latin', 'channel_tissue', 'n_barcodes', 'animalID', 'species_batch'\n",
       "    var: 'mouse_lemur__gene_name', 'mouse__gene_name', 'bat__gene_name', 'n_cells-bat', 'feature_types-0-0-human', 'n_cells-0-0-human', 'gene_symbol-0-0-human', 'n_cells-1-0-human', 'n_cells-0-human', 'n_cells-1-1-human', 'feature_types-0-0-0-1-human', 'gene_symbol-0-0-0-1-human', 'n_cells-1-0-0-1-human', 'n_cells-1-0-1-human', 'n_cells-human', 'len-human', 'ensembl_id-human', 'gene_ids-lemur', 'n_cells-mouse'"
      ]
     },
     "execution_count": 25,
     "metadata": {},
     "output_type": "execute_result"
    }
   ],
   "source": [
    "combined_adata"
   ]
  },
  {
   "cell_type": "code",
   "execution_count": 26,
   "metadata": {},
   "outputs": [
    {
     "data": {
      "text/plain": [
       "Index(['10X_run', 'smartseq2_barcode', 'smartseq2_library_plate',\n",
       "       'smartseq2_sorting_direction', 'smartseq2_sort_order',\n",
       "       'smartseq2_cDNA_Plate', 'cell_id', 'method', 'donor', '10X_replicate',\n",
       "       'sequencer', 'sex', 'tissue', 'smartseq2_well_seq', 'notes',\n",
       "       'smartseq2_sorted_population', '10X_sample', 'anatomical_position',\n",
       "       '10X_barcode', 'n_counts', 'n_genes', 'manual_cell_ontology_class',\n",
       "       'manual_annotation', 'doublet_filter', 'compartment', 'batch',\n",
       "       'compartment_pred', 'leiden', 'cluster_id', 'Propagated Annotation',\n",
       "       'Entropy All Methods', 'Entropy kNN Reps', 'Entropy scANVI Reps',\n",
       "       'Entropy SVM Reps', 'Potential Doublets', 'Onclass', 'singlecellNet',\n",
       "       'kNN', 'SVM', 'scANVI', 'compartment_pred_svm',\n",
       "       'manual_cell_ontology_classcollapsed', 'Propagated Annotationcollapsed',\n",
       "       'Onclasscollapsed', 'singlecellNetcollapsed', 'kNNcollapsed',\n",
       "       'SVMcollapsed', 'scANVIcollapsed', 'miscompartmentalized',\n",
       "       'log_n_counts', 'log_n_genes', 'channel', 'individual',\n",
       "       'original_channel', 'channel_no_10x', 'sequencing_run',\n",
       "       'free_annotation', 'cell_ontology_class', 'cell_ontology_id',\n",
       "       'compartment_id', 'cell_barcode', 'possibly_contaminated_barcode',\n",
       "       'age', 'cell', 'mouse.id', 'subtissue', 'tissue_free_annotation',\n",
       "       'species', 'species_latin', 'channel_tissue', 'n_barcodes', 'animalID',\n",
       "       'species_batch'],\n",
       "      dtype='object')"
      ]
     },
     "execution_count": 26,
     "metadata": {},
     "output_type": "execute_result"
    }
   ],
   "source": [
    "combined_adata.obs.columns"
   ]
  },
  {
   "cell_type": "code",
   "execution_count": 27,
   "metadata": {},
   "outputs": [
    {
     "data": {
      "text/plain": [
       "mouse    238915\n",
       "lemur    232823\n",
       "human    207016\n",
       "bat       24201\n",
       "Name: species_batch, dtype: int64"
      ]
     },
     "execution_count": 27,
     "metadata": {},
     "output_type": "execute_result"
    }
   ],
   "source": [
    "combined_adata.obs.species_batch.value_counts()"
   ]
  },
  {
   "cell_type": "markdown",
   "metadata": {},
   "source": [
    "### clean combined adata\n",
    "\n",
    "<hr>"
   ]
  },
  {
   "cell_type": "code",
   "execution_count": 29,
   "metadata": {},
   "outputs": [
    {
     "data": {
      "text/plain": [
       "human_TSP2       159308\n",
       "lemur_Antoine     96842\n",
       "lemur_Stumpy      83751\n",
       "human_TSP1        47708\n",
       "lemur_Martine     31776\n",
       "mouse_30-M-2      24369\n",
       "lemur_Bernard     20454\n",
       "mouse_21-F-55     18359\n",
       "mouse_18-M-52     17441\n",
       "mouse_21-F-54     16285\n",
       "mouse_1-M-63      15653\n",
       "mouse_3-F-56      14787\n",
       "bat_3             12781\n",
       "mouse_30-M-5      12484\n",
       "mouse_24-M-58     11883\n",
       "mouse_24-M-59     11838\n",
       "mouse_18-F-50     11808\n",
       "bat_2             11420\n",
       "mouse_18-F-51      9571\n",
       "mouse_1-M-62       9500\n",
       "mouse_24-M-60      9497\n",
       "mouse_30-M-3       9286\n",
       "mouse_3-F-57       8233\n",
       "mouse_30-M-4       7768\n",
       "mouse_3-M-8        6189\n",
       "mouse_3-M-7/8      5235\n",
       "mouse_3-M-9        4897\n",
       "mouse_3-M-5/6      4880\n",
       "mouse_18-M-53      4837\n",
       "mouse_24-M-61      3665\n",
       "mouse_3-M-8/9       450\n",
       "Name: common_individual_id, dtype: int64"
      ]
     },
     "execution_count": 29,
     "metadata": {},
     "output_type": "execute_result"
    }
   ],
   "source": [
    "def create_common_individual_id(row):\n",
    "    species = row.species_batch\n",
    "    if species == \"human\":\n",
    "        return f\"human_{row.donor}\"\n",
    "    elif species in (\"lemur\", \"mouse lemur\"):\n",
    "        return f\"lemur_{row.individual}\"\n",
    "    elif species == \"mouse\":\n",
    "        return f\"mouse_{row['mouse.id']}\"\n",
    "    elif species == \"bat\":\n",
    "        return f\"bat_{row.animalID}\"\n",
    "    \n",
    "\n",
    "combined_adata.obs[\"common_individual_id\"] = combined_adata.obs.apply(\n",
    "    create_common_individual_id,\n",
    "    axis=1\n",
    ")\n",
    "combined_adata.obs[\"common_individual_id\"].value_counts()"
   ]
  },
  {
   "cell_type": "code",
   "execution_count": 30,
   "metadata": {},
   "outputs": [
    {
     "name": "stdout",
     "output_type": "stream",
     "text": [
      "(702955, 69)\n"
     ]
    },
    {
     "data": {
      "text/html": [
       "<div>\n",
       "<style scoped>\n",
       "    .dataframe tbody tr th:only-of-type {\n",
       "        vertical-align: middle;\n",
       "    }\n",
       "\n",
       "    .dataframe tbody tr th {\n",
       "        vertical-align: top;\n",
       "    }\n",
       "\n",
       "    .dataframe thead th {\n",
       "        text-align: right;\n",
       "    }\n",
       "</style>\n",
       "<table border=\"1\" class=\"dataframe\">\n",
       "  <thead>\n",
       "    <tr style=\"text-align: right;\">\n",
       "      <th></th>\n",
       "      <th>10X_run</th>\n",
       "      <th>cell_id</th>\n",
       "      <th>method</th>\n",
       "      <th>donor</th>\n",
       "      <th>10X_replicate</th>\n",
       "      <th>sequencer</th>\n",
       "      <th>sex</th>\n",
       "      <th>tissue</th>\n",
       "      <th>smartseq2_well_seq</th>\n",
       "      <th>notes</th>\n",
       "      <th>...</th>\n",
       "      <th>mouse.id</th>\n",
       "      <th>subtissue</th>\n",
       "      <th>tissue_free_annotation</th>\n",
       "      <th>species</th>\n",
       "      <th>species_latin</th>\n",
       "      <th>channel_tissue</th>\n",
       "      <th>n_barcodes</th>\n",
       "      <th>animalID</th>\n",
       "      <th>species_batch</th>\n",
       "      <th>common_individual_id</th>\n",
       "    </tr>\n",
       "  </thead>\n",
       "  <tbody>\n",
       "    <tr>\n",
       "      <th>AAACCCAAGTTGTCGT_TSP1_blood_2-human</th>\n",
       "      <td>TSP1_blood_2</td>\n",
       "      <td>AAACCCAAGTTGTCGT_TSP1_blood_2</td>\n",
       "      <td>10X</td>\n",
       "      <td>TSP1</td>\n",
       "      <td>2</td>\n",
       "      <td>novaseq</td>\n",
       "      <td>female</td>\n",
       "      <td>Blood</td>\n",
       "      <td>nan</td>\n",
       "      <td>nan</td>\n",
       "      <td>...</td>\n",
       "      <td>NaN</td>\n",
       "      <td>NaN</td>\n",
       "      <td>NaN</td>\n",
       "      <td>NaN</td>\n",
       "      <td>NaN</td>\n",
       "      <td>NaN</td>\n",
       "      <td>NaN</td>\n",
       "      <td>NaN</td>\n",
       "      <td>human</td>\n",
       "      <td>human_TSP1</td>\n",
       "    </tr>\n",
       "    <tr>\n",
       "      <th>AAACGAAAGCCGTTAT_TSP1_blood_2-human</th>\n",
       "      <td>TSP1_blood_2</td>\n",
       "      <td>AAACGAAAGCCGTTAT_TSP1_blood_2</td>\n",
       "      <td>10X</td>\n",
       "      <td>TSP1</td>\n",
       "      <td>2</td>\n",
       "      <td>novaseq</td>\n",
       "      <td>female</td>\n",
       "      <td>Blood</td>\n",
       "      <td>nan</td>\n",
       "      <td>nan</td>\n",
       "      <td>...</td>\n",
       "      <td>NaN</td>\n",
       "      <td>NaN</td>\n",
       "      <td>NaN</td>\n",
       "      <td>NaN</td>\n",
       "      <td>NaN</td>\n",
       "      <td>NaN</td>\n",
       "      <td>NaN</td>\n",
       "      <td>NaN</td>\n",
       "      <td>human</td>\n",
       "      <td>human_TSP1</td>\n",
       "    </tr>\n",
       "    <tr>\n",
       "      <th>AAAGGATAGTGTTGTC_TSP1_blood_2-human</th>\n",
       "      <td>TSP1_blood_2</td>\n",
       "      <td>AAAGGATAGTGTTGTC_TSP1_blood_2</td>\n",
       "      <td>10X</td>\n",
       "      <td>TSP1</td>\n",
       "      <td>2</td>\n",
       "      <td>novaseq</td>\n",
       "      <td>female</td>\n",
       "      <td>Blood</td>\n",
       "      <td>nan</td>\n",
       "      <td>nan</td>\n",
       "      <td>...</td>\n",
       "      <td>NaN</td>\n",
       "      <td>NaN</td>\n",
       "      <td>NaN</td>\n",
       "      <td>NaN</td>\n",
       "      <td>NaN</td>\n",
       "      <td>NaN</td>\n",
       "      <td>NaN</td>\n",
       "      <td>NaN</td>\n",
       "      <td>human</td>\n",
       "      <td>human_TSP1</td>\n",
       "    </tr>\n",
       "    <tr>\n",
       "      <th>AAAGGGCAGGAACTAT_TSP1_blood_2-human</th>\n",
       "      <td>TSP1_blood_2</td>\n",
       "      <td>AAAGGGCAGGAACTAT_TSP1_blood_2</td>\n",
       "      <td>10X</td>\n",
       "      <td>TSP1</td>\n",
       "      <td>2</td>\n",
       "      <td>novaseq</td>\n",
       "      <td>female</td>\n",
       "      <td>Blood</td>\n",
       "      <td>nan</td>\n",
       "      <td>nan</td>\n",
       "      <td>...</td>\n",
       "      <td>NaN</td>\n",
       "      <td>NaN</td>\n",
       "      <td>NaN</td>\n",
       "      <td>NaN</td>\n",
       "      <td>NaN</td>\n",
       "      <td>NaN</td>\n",
       "      <td>NaN</td>\n",
       "      <td>NaN</td>\n",
       "      <td>human</td>\n",
       "      <td>human_TSP1</td>\n",
       "    </tr>\n",
       "    <tr>\n",
       "      <th>AAAGGGCCAACCAACT_TSP1_blood_2-human</th>\n",
       "      <td>TSP1_blood_2</td>\n",
       "      <td>AAAGGGCCAACCAACT_TSP1_blood_2</td>\n",
       "      <td>10X</td>\n",
       "      <td>TSP1</td>\n",
       "      <td>2</td>\n",
       "      <td>novaseq</td>\n",
       "      <td>female</td>\n",
       "      <td>Blood</td>\n",
       "      <td>nan</td>\n",
       "      <td>nan</td>\n",
       "      <td>...</td>\n",
       "      <td>NaN</td>\n",
       "      <td>NaN</td>\n",
       "      <td>NaN</td>\n",
       "      <td>NaN</td>\n",
       "      <td>NaN</td>\n",
       "      <td>NaN</td>\n",
       "      <td>NaN</td>\n",
       "      <td>NaN</td>\n",
       "      <td>human</td>\n",
       "      <td>human_TSP1</td>\n",
       "    </tr>\n",
       "  </tbody>\n",
       "</table>\n",
       "<p>5 rows × 69 columns</p>\n",
       "</div>"
      ],
      "text/plain": [
       "                                          10X_run  \\\n",
       "AAACCCAAGTTGTCGT_TSP1_blood_2-human  TSP1_blood_2   \n",
       "AAACGAAAGCCGTTAT_TSP1_blood_2-human  TSP1_blood_2   \n",
       "AAAGGATAGTGTTGTC_TSP1_blood_2-human  TSP1_blood_2   \n",
       "AAAGGGCAGGAACTAT_TSP1_blood_2-human  TSP1_blood_2   \n",
       "AAAGGGCCAACCAACT_TSP1_blood_2-human  TSP1_blood_2   \n",
       "\n",
       "                                                           cell_id method  \\\n",
       "AAACCCAAGTTGTCGT_TSP1_blood_2-human  AAACCCAAGTTGTCGT_TSP1_blood_2    10X   \n",
       "AAACGAAAGCCGTTAT_TSP1_blood_2-human  AAACGAAAGCCGTTAT_TSP1_blood_2    10X   \n",
       "AAAGGATAGTGTTGTC_TSP1_blood_2-human  AAAGGATAGTGTTGTC_TSP1_blood_2    10X   \n",
       "AAAGGGCAGGAACTAT_TSP1_blood_2-human  AAAGGGCAGGAACTAT_TSP1_blood_2    10X   \n",
       "AAAGGGCCAACCAACT_TSP1_blood_2-human  AAAGGGCCAACCAACT_TSP1_blood_2    10X   \n",
       "\n",
       "                                    donor 10X_replicate sequencer     sex  \\\n",
       "AAACCCAAGTTGTCGT_TSP1_blood_2-human  TSP1             2   novaseq  female   \n",
       "AAACGAAAGCCGTTAT_TSP1_blood_2-human  TSP1             2   novaseq  female   \n",
       "AAAGGATAGTGTTGTC_TSP1_blood_2-human  TSP1             2   novaseq  female   \n",
       "AAAGGGCAGGAACTAT_TSP1_blood_2-human  TSP1             2   novaseq  female   \n",
       "AAAGGGCCAACCAACT_TSP1_blood_2-human  TSP1             2   novaseq  female   \n",
       "\n",
       "                                    tissue smartseq2_well_seq notes  ...  \\\n",
       "AAACCCAAGTTGTCGT_TSP1_blood_2-human  Blood                nan   nan  ...   \n",
       "AAACGAAAGCCGTTAT_TSP1_blood_2-human  Blood                nan   nan  ...   \n",
       "AAAGGATAGTGTTGTC_TSP1_blood_2-human  Blood                nan   nan  ...   \n",
       "AAAGGGCAGGAACTAT_TSP1_blood_2-human  Blood                nan   nan  ...   \n",
       "AAAGGGCCAACCAACT_TSP1_blood_2-human  Blood                nan   nan  ...   \n",
       "\n",
       "                                    mouse.id subtissue tissue_free_annotation  \\\n",
       "AAACCCAAGTTGTCGT_TSP1_blood_2-human      NaN       NaN                    NaN   \n",
       "AAACGAAAGCCGTTAT_TSP1_blood_2-human      NaN       NaN                    NaN   \n",
       "AAAGGATAGTGTTGTC_TSP1_blood_2-human      NaN       NaN                    NaN   \n",
       "AAAGGGCAGGAACTAT_TSP1_blood_2-human      NaN       NaN                    NaN   \n",
       "AAAGGGCCAACCAACT_TSP1_blood_2-human      NaN       NaN                    NaN   \n",
       "\n",
       "                                    species  species_latin  channel_tissue  \\\n",
       "AAACCCAAGTTGTCGT_TSP1_blood_2-human     NaN            NaN             NaN   \n",
       "AAACGAAAGCCGTTAT_TSP1_blood_2-human     NaN            NaN             NaN   \n",
       "AAAGGATAGTGTTGTC_TSP1_blood_2-human     NaN            NaN             NaN   \n",
       "AAAGGGCAGGAACTAT_TSP1_blood_2-human     NaN            NaN             NaN   \n",
       "AAAGGGCCAACCAACT_TSP1_blood_2-human     NaN            NaN             NaN   \n",
       "\n",
       "                                    n_barcodes animalID species_batch  \\\n",
       "AAACCCAAGTTGTCGT_TSP1_blood_2-human        NaN      NaN         human   \n",
       "AAACGAAAGCCGTTAT_TSP1_blood_2-human        NaN      NaN         human   \n",
       "AAAGGATAGTGTTGTC_TSP1_blood_2-human        NaN      NaN         human   \n",
       "AAAGGGCAGGAACTAT_TSP1_blood_2-human        NaN      NaN         human   \n",
       "AAAGGGCCAACCAACT_TSP1_blood_2-human        NaN      NaN         human   \n",
       "\n",
       "                                    common_individual_id  \n",
       "AAACCCAAGTTGTCGT_TSP1_blood_2-human           human_TSP1  \n",
       "AAACGAAAGCCGTTAT_TSP1_blood_2-human           human_TSP1  \n",
       "AAAGGATAGTGTTGTC_TSP1_blood_2-human           human_TSP1  \n",
       "AAAGGGCAGGAACTAT_TSP1_blood_2-human           human_TSP1  \n",
       "AAAGGGCCAACCAACT_TSP1_blood_2-human           human_TSP1  \n",
       "\n",
       "[5 rows x 69 columns]"
      ]
     },
     "execution_count": 30,
     "metadata": {},
     "output_type": "execute_result"
    }
   ],
   "source": [
    "# drop smartseq data columns\n",
    "\n",
    "cols_to_drop = [\n",
    "    'smartseq2_barcode', \n",
    "    'smartseq2_library_plate', \n",
    "    'smartseq2_sorting_direction', \n",
    "    'smartseq2_sort_order', \n",
    "    'smartseq2_cDNA_Plate',\n",
    "    'smartseq2_sort_order', \n",
    "    'smartseq2_cDNA_Plate'\n",
    "]\n",
    "\n",
    "combined_adata_obs = combined_adata.obs.drop(cols_to_drop, axis=1)\n",
    "print(combined_adata_obs.shape)\n",
    "combined_adata_obs.head()"
   ]
  },
  {
   "cell_type": "code",
   "execution_count": null,
   "metadata": {},
   "outputs": [],
   "source": [
    "# need to unify for cell ontology, and compartment\n",
    "# need to lookup cell ontology class to use?\n",
    "def unify_cell_ontology_class(row):\n",
    "    species = row.species_batch\n",
    "    if species == \"human\":\n",
    "        return \n",
    "    elif species in (\"lemur\", \"mouse lemur\"):\n",
    "        return row.cell_ontology_class\n",
    "    elif species == \"mouse\":\n",
    "        return \n",
    "    elif species == \"bat\":\n",
    "        return \n",
    "\n",
    "\n",
    "combined_adata_obs.columns"
   ]
  }
 ],
 "metadata": {
  "kernelspec": {
   "display_name": "Python [conda env:anaconda-full]",
   "language": "python",
   "name": "conda-env-anaconda-full-py"
  },
  "language_info": {
   "codemirror_mode": {
    "name": "ipython",
    "version": 3
   },
   "file_extension": ".py",
   "mimetype": "text/x-python",
   "name": "python",
   "nbconvert_exporter": "python",
   "pygments_lexer": "ipython3",
   "version": "3.8.6"
  }
 },
 "nbformat": 4,
 "nbformat_minor": 4
}
